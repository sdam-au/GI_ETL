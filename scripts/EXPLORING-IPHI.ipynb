{
 "cells": [
  {
   "cell_type": "raw",
   "source": [
    "*#%% md\n",
    "*Instructions**:\n",
    "* Go to [i.phi dataset](https://drive.google.com/drive/folders/1WupkpBTP7BTGTqAwKQ8BSFrCaQTbKX9c) publicly available google drive directory\n",
    "* download manually all files to `PHI_ETL/data/large_data` directory. From there, you would be able to load them directly to the scripts."
   ],
   "metadata": {
    "collapsed": false,
    "pycharm": {
     "name": ""
    }
   }
  },
  {
   "cell_type": "code",
   "execution_count": 1,
   "outputs": [
    {
     "ename": "NameError",
     "evalue": "name 'pd' is not defined",
     "output_type": "error",
     "traceback": [
      "\u001B[0;31m---------------------------------------------------------------------------\u001B[0m",
      "\u001B[0;31mNameError\u001B[0m                                 Traceback (most recent call last)",
      "\u001B[0;32m/var/folders/zg/zvg9y3rs7j527jxfq9sc2xqc0000gn/T/ipykernel_24946/2085732434.py\u001B[0m in \u001B[0;36m<module>\u001B[0;34m\u001B[0m\n\u001B[0;32m----> 1\u001B[0;31m \u001B[0miphi\u001B[0m \u001B[0;34m=\u001B[0m \u001B[0mpd\u001B[0m\u001B[0;34m.\u001B[0m\u001B[0mread_json\u001B[0m\u001B[0;34m(\u001B[0m\u001B[0;34m\"../data/large_data/iphi.json\"\u001B[0m\u001B[0;34m)\u001B[0m\u001B[0;34m\u001B[0m\u001B[0;34m\u001B[0m\u001B[0m\n\u001B[0m",
      "\u001B[0;31mNameError\u001B[0m: name 'pd' is not defined"
     ]
    }
   ],
   "source": [
    "import pandas as pd"
   ],
   "metadata": {
    "collapsed": false,
    "pycharm": {
     "name": "#%%\n"
    }
   }
  },
  {
   "cell_type": "code",
   "execution_count": 8,
   "outputs": [],
   "source": [
    "iphi = pd.read_json(\"../data/large_data/iphi.json\")"
   ],
   "metadata": {
    "collapsed": false,
    "pycharm": {
     "name": "#%%\n"
    }
   }
  },
  {
   "cell_type": "code",
   "execution_count": 10,
   "outputs": [
    {
     "data": {
      "text/plain": "178551"
     },
     "execution_count": 10,
     "metadata": {},
     "output_type": "execute_result"
    }
   ],
   "source": [
    "len(iphi)"
   ],
   "metadata": {
    "collapsed": false,
    "pycharm": {
     "name": "#%%\n"
    }
   }
  },
  {
   "cell_type": "code",
   "execution_count": 12,
   "outputs": [
    {
     "data": {
      "text/plain": "218162"
     },
     "execution_count": 12,
     "metadata": {},
     "output_type": "execute_result"
    }
   ],
   "source": [
    "PHI = pd.read_json(\"../data/large_data/PHI_v1.0.json\")\n",
    "len(PHI)"
   ],
   "metadata": {
    "collapsed": false,
    "pycharm": {
     "name": "#%%\n"
    }
   }
  },
  {
   "cell_type": "code",
   "execution_count": 11,
   "outputs": [
    {
     "data": {
      "text/plain": "            id                                               text  \\\n0        27869                                         θεοπομπου.   \n1       315181  [φ]ιλεταιρος ευμενου περγαμευς μουσαις. καφισι...   \n2       201686                                  μαλκοιδων ηρωνος.   \n3       153178                                         βασιλικος.   \n4       242973                  ευψυχι αλεξανδρε ουδεις αθανατος.   \n...        ...                                                ...   \n178546  175818  βραχυς ο βιος μακρον δε τον κατα γας αιωνα τελ...   \n178547  247812  [- χαριτας αποδιδωσιν εφ ε]καστοις των ευεργετ...   \n178548  314286  [------ αρχον]το[ς σαων σωκρατιο]ς α[ντιθειτι ...   \n178549  188765               [------] [μν]ημης χαρι[ν] [α]νεθηκε.   \n178550  201847  [θιοι ταδ εαδε τοις γορτυνιοις ται] [ανω πολι ...   \n\n                                                 metadata  region_main_id  \\\n0                                   Korinthia — Korinthos            1690   \n1       Boiotia — Thespiai — mid-3rd c. BC — BCH 26 (1...            1698   \n2       Crete, W. — Tarrha — 1st-3rd c. AD — IC II xxi...            1699   \n3       Makedonia (Bottiaia) — Pella — 3rd/2nd c. BC —...            1692   \n4                    Syr., Antioch. — Antiochia & Area of            1693   \n...                                                   ...             ...   \n178546  Italia (Latium) — Portus (Porto): Isola Sacra ...            1696   \n178547                                          IEph 1439            1702   \n178548  Boiotia — Lebadeia — late 3rd c. BC — IG VII 3080            1698   \n178549              Italia — Roma — undated — IG XIV 2223            1696   \n178550  Crete, Ctr. — Gortyna — ca. 250-200 BC — IC IV...            1699   \n\n                                       region_main  region_sub_id  \\\n0                        Peloponnesos (IG IV-[VI])           1667   \n1                       Central Greece (IG VII-IX)           1691   \n2       Aegean Islands, incl. Crete (IG XI-[XIII])            474   \n3                           Northern Greece (IG X)           1485   \n4                       Greater Syria and the East           1676   \n...                                            ...            ...   \n178546        Sicily, Italy, and the West (IG XIV)           1689   \n178547                                  Asia Minor           1688   \n178548                  Central Greece (IG VII-IX)           1691   \n178549        Sicily, Italy, and the West (IG XIV)           1689   \n178550  Aegean Islands, incl. Crete (IG XI-[XIII])            474   \n\n                                               region_sub          date_str  \\\n0       Saronic Gulf, Corinthia, and the Argolid (IG IV)                      \n1                  Megaris, Oropia, and Boiotia (IG VII)     mid-3rd c. BC    \n2                                                  Crete     1st-3rd c. AD    \n3                                              Macedonia     3rd/2nd c. BC    \n4                                     Syria and Phoenicia                     \n...                                                   ...               ...   \n178546                         Italy, incl. Magna Graecia   ca. 100-150 AD    \n178547                                              Ionia                     \n178548             Megaris, Oropia, and Boiotia (IG VII)    late 3rd c. BC    \n178549                         Italy, incl. Magna Graecia                     \n178550                                             Crete    ca. 250-200 BC    \n\n        date_min  date_max  date_circa  \n0            NaN       NaN         NaN  \n1         -275.0    -226.0         0.0  \n2            1.0     300.0         0.0  \n3         -300.0    -101.0         0.0  \n4            NaN       NaN         NaN  \n...          ...       ...         ...  \n178546     100.0     150.0         1.0  \n178547       NaN       NaN         NaN  \n178548    -250.0    -201.0         0.0  \n178549       NaN       NaN         NaN  \n178550    -250.0    -200.0         1.0  \n\n[178551 rows x 11 columns]",
      "text/html": "<div>\n<style scoped>\n    .dataframe tbody tr th:only-of-type {\n        vertical-align: middle;\n    }\n\n    .dataframe tbody tr th {\n        vertical-align: top;\n    }\n\n    .dataframe thead th {\n        text-align: right;\n    }\n</style>\n<table border=\"1\" class=\"dataframe\">\n  <thead>\n    <tr style=\"text-align: right;\">\n      <th></th>\n      <th>id</th>\n      <th>text</th>\n      <th>metadata</th>\n      <th>region_main_id</th>\n      <th>region_main</th>\n      <th>region_sub_id</th>\n      <th>region_sub</th>\n      <th>date_str</th>\n      <th>date_min</th>\n      <th>date_max</th>\n      <th>date_circa</th>\n    </tr>\n  </thead>\n  <tbody>\n    <tr>\n      <th>0</th>\n      <td>27869</td>\n      <td>θεοπομπου.</td>\n      <td>Korinthia — Korinthos</td>\n      <td>1690</td>\n      <td>Peloponnesos (IG IV-[VI])</td>\n      <td>1667</td>\n      <td>Saronic Gulf, Corinthia, and the Argolid (IG IV)</td>\n      <td></td>\n      <td>NaN</td>\n      <td>NaN</td>\n      <td>NaN</td>\n    </tr>\n    <tr>\n      <th>1</th>\n      <td>315181</td>\n      <td>[φ]ιλεταιρος ευμενου περγαμευς μουσαις. καφισι...</td>\n      <td>Boiotia — Thespiai — mid-3rd c. BC — BCH 26 (1...</td>\n      <td>1698</td>\n      <td>Central Greece (IG VII-IX)</td>\n      <td>1691</td>\n      <td>Megaris, Oropia, and Boiotia (IG VII)</td>\n      <td>mid-3rd c. BC</td>\n      <td>-275.0</td>\n      <td>-226.0</td>\n      <td>0.0</td>\n    </tr>\n    <tr>\n      <th>2</th>\n      <td>201686</td>\n      <td>μαλκοιδων ηρωνος.</td>\n      <td>Crete, W. — Tarrha — 1st-3rd c. AD — IC II xxi...</td>\n      <td>1699</td>\n      <td>Aegean Islands, incl. Crete (IG XI-[XIII])</td>\n      <td>474</td>\n      <td>Crete</td>\n      <td>1st-3rd c. AD</td>\n      <td>1.0</td>\n      <td>300.0</td>\n      <td>0.0</td>\n    </tr>\n    <tr>\n      <th>3</th>\n      <td>153178</td>\n      <td>βασιλικος.</td>\n      <td>Makedonia (Bottiaia) — Pella — 3rd/2nd c. BC —...</td>\n      <td>1692</td>\n      <td>Northern Greece (IG X)</td>\n      <td>1485</td>\n      <td>Macedonia</td>\n      <td>3rd/2nd c. BC</td>\n      <td>-300.0</td>\n      <td>-101.0</td>\n      <td>0.0</td>\n    </tr>\n    <tr>\n      <th>4</th>\n      <td>242973</td>\n      <td>ευψυχι αλεξανδρε ουδεις αθανατος.</td>\n      <td>Syr., Antioch. — Antiochia &amp; Area of</td>\n      <td>1693</td>\n      <td>Greater Syria and the East</td>\n      <td>1676</td>\n      <td>Syria and Phoenicia</td>\n      <td></td>\n      <td>NaN</td>\n      <td>NaN</td>\n      <td>NaN</td>\n    </tr>\n    <tr>\n      <th>...</th>\n      <td>...</td>\n      <td>...</td>\n      <td>...</td>\n      <td>...</td>\n      <td>...</td>\n      <td>...</td>\n      <td>...</td>\n      <td>...</td>\n      <td>...</td>\n      <td>...</td>\n      <td>...</td>\n    </tr>\n    <tr>\n      <th>178546</th>\n      <td>175818</td>\n      <td>βραχυς ο βιος μακρον δε τον κατα γας αιωνα τελ...</td>\n      <td>Italia (Latium) — Portus (Porto): Isola Sacra ...</td>\n      <td>1696</td>\n      <td>Sicily, Italy, and the West (IG XIV)</td>\n      <td>1689</td>\n      <td>Italy, incl. Magna Graecia</td>\n      <td>ca. 100-150 AD</td>\n      <td>100.0</td>\n      <td>150.0</td>\n      <td>1.0</td>\n    </tr>\n    <tr>\n      <th>178547</th>\n      <td>247812</td>\n      <td>[- χαριτας αποδιδωσιν εφ ε]καστοις των ευεργετ...</td>\n      <td>IEph 1439</td>\n      <td>1702</td>\n      <td>Asia Minor</td>\n      <td>1688</td>\n      <td>Ionia</td>\n      <td></td>\n      <td>NaN</td>\n      <td>NaN</td>\n      <td>NaN</td>\n    </tr>\n    <tr>\n      <th>178548</th>\n      <td>314286</td>\n      <td>[------ αρχον]το[ς σαων σωκρατιο]ς α[ντιθειτι ...</td>\n      <td>Boiotia — Lebadeia — late 3rd c. BC — IG VII 3080</td>\n      <td>1698</td>\n      <td>Central Greece (IG VII-IX)</td>\n      <td>1691</td>\n      <td>Megaris, Oropia, and Boiotia (IG VII)</td>\n      <td>late 3rd c. BC</td>\n      <td>-250.0</td>\n      <td>-201.0</td>\n      <td>0.0</td>\n    </tr>\n    <tr>\n      <th>178549</th>\n      <td>188765</td>\n      <td>[------] [μν]ημης χαρι[ν] [α]νεθηκε.</td>\n      <td>Italia — Roma — undated — IG XIV 2223</td>\n      <td>1696</td>\n      <td>Sicily, Italy, and the West (IG XIV)</td>\n      <td>1689</td>\n      <td>Italy, incl. Magna Graecia</td>\n      <td></td>\n      <td>NaN</td>\n      <td>NaN</td>\n      <td>NaN</td>\n    </tr>\n    <tr>\n      <th>178550</th>\n      <td>201847</td>\n      <td>[θιοι ταδ εαδε τοις γορτυνιοις ται] [ανω πολι ...</td>\n      <td>Crete, Ctr. — Gortyna — ca. 250-200 BC — IC IV...</td>\n      <td>1699</td>\n      <td>Aegean Islands, incl. Crete (IG XI-[XIII])</td>\n      <td>474</td>\n      <td>Crete</td>\n      <td>ca. 250-200 BC</td>\n      <td>-250.0</td>\n      <td>-200.0</td>\n      <td>1.0</td>\n    </tr>\n  </tbody>\n</table>\n<p>178551 rows × 11 columns</p>\n</div>"
     },
     "execution_count": 11,
     "metadata": {},
     "output_type": "execute_result"
    }
   ],
   "source": [
    "iphi"
   ],
   "metadata": {
    "collapsed": false,
    "pycharm": {
     "name": "#%%\n"
    }
   }
  },
  {
   "cell_type": "code",
   "execution_count": 13,
   "outputs": [
    {
     "data": {
      "text/plain": "                                                 URL   Book Text  \\\n0  /text/1?location=1701&patt=&bookid=4&offset=0&...  IG I³    1   \n1  /text/2?location=1701&patt=&bookid=4&offset=0&...  IG I³    2   \n2  /text/3?location=1701&patt=&bookid=4&offset=0&...  IG I³    3   \n3  /text/4?location=1701&patt=&bookid=4&offset=0&...  IG I³    4   \n4  /text/5?location=1701&patt=&bookid=4&offset=0&...  IG I³    5   \n\n                         hdr1      hdr2  \\\n0  Regions\\nAttica (IG I-III)  IG I³\\n1   \n1  Regions\\nAttica (IG I-III)  IG I³\\n2   \n2  Regions\\nAttica (IG I-III)  IG I³\\n3   \n3  Regions\\nAttica (IG I-III)  IG I³\\n4   \n4  Regions\\nAttica (IG I-III)  IG I³\\n5   \n\n                                           tildeinfo note  lines  \\\n0  Att. — Ath.: Akr. — stoich. 35 — c. 510-500 a....          12   \n1                     Att. — non-stoich. — c. 500 a.          14   \n2                     Att. — stoich. 21 — 490-480 a.          13   \n3                       Att. — stoich. 38 — 485/4 a.          56   \n4                                   Att. — c. 500 a.           6   \n\n                                            metadata  \\\n0                         1\\n\\n\\n\\n5\\n\\n\\n\\n\\n10\\n\\n   \n1                     1\\n\\n\\n\\n5\\n\\n\\n\\n\\n10\\n\\n\\n\\n   \n2                       1\\n\\n\\n\\n5\\n\\n\\n\\n\\n10\\n\\n\\n   \n3  face A.1\\n\\n\\n\\n5\\n\\n\\n\\n\\n10\\n\\n\\n\\n\\n15\\n\\n\\...   \n4                                       1\\n\\n\\n\\n5\\n   \n\n                                                data  ...  \\\n0  ἔδοχσεν το͂ι δέμοι· τ̣[ὸς ἐ Σ]αλαμ̣[ῖνι κλερόχ...  ...   \n1  [․․8-9․․․]ν̣ βολ — — — — — — — — — —\\n[․6-7․․]...  ...   \n2  [․]αρ[․․․․]ι ℎερακλειο[․․5․․]\\n[․]αρ̣ο#⁷[․] τι...  ...   \n3  [․․․․․․․․․․․․․․․․․․38․․․․․․․․․․․․․․․․․․]\\n[․․․...  ...   \n4  [ἔδοχσε]ν [⋮ τε͂ι βολε͂ι] ⋮ καὶ [τ]ο͂ι δέμοι ⋮...  ...   \n\n                                           lem_sents  \\\n0  [[ἔδοχσεν, δέμοι, Σαλαμίς, κλερόχος, οἰκεν, Σα...   \n1  [[βολ, ἑκών, σίον, γνοσθει, ἄτεχνος, μεδὲ, κελ...   \n2  [[ἑρακλειο, ἀρόω, τίθημι, ἀθλοθέτης, ἀνήρ, ἄγο...   \n3  [[τὶς, φρορὰν, πεντέκοντα, δραχμή, τ, πρᾶχσιν,...   \n4  [[ἔδοχσεν, τει, βολει, δέμοι, παραιβάτες, γραμ...   \n\n                                             lemmata        raw_date  \\\n0  [ἔδοχσεν, δέμοι, Σαλαμίς, κλερόχος, οἰκεν, Σαλ...  c. 510-500 a.    \n1  [βολ, ἑκών, σίον, γνοσθει, ἄτεχνος, μεδὲ, κελε...       c. 500 a.   \n2  [ἑρακλειο, ἀρόω, τίθημι, ἀθλοθέτης, ἀνήρ, ἄγον...      490-480 a.   \n3  [τὶς, φρορὰν, πεντέκοντα, δραχμή, τ, πρᾶχσιν, ...        485/4 a.   \n4  [ἔδοχσεν, τει, βολει, δέμοι, παραιβάτες, γραμμ...       c. 500 a.   \n\n                                         dating_dict not_before not_after  \\\n0  {'or': None, 'not_before': -511, 'not_after': ...     -511.0    -499.0   \n1  {'or': None, 'not_before': -505, 'not_after': ...     -505.0    -495.0   \n2  {'or': None, 'not_before': -490, 'not_after': ...     -490.0    -480.0   \n3  {'or': None, 'not_before': -485, 'not_after': ...     -485.0    -484.0   \n4  {'or': None, 'not_before': -505, 'not_after': ...     -505.0    -495.0   \n\n     or           date_tags  certainty  link  \n0  None  [range, phase, ca]       None  None  \n1  None  [exact, phase, ca]       None  None  \n2  None             [range]       None  None  \n3  None             [range]       None  None  \n4  None  [exact, phase, ca]       None  None  \n\n[5 rows x 29 columns]",
      "text/html": "<div>\n<style scoped>\n    .dataframe tbody tr th:only-of-type {\n        vertical-align: middle;\n    }\n\n    .dataframe tbody tr th {\n        vertical-align: top;\n    }\n\n    .dataframe thead th {\n        text-align: right;\n    }\n</style>\n<table border=\"1\" class=\"dataframe\">\n  <thead>\n    <tr style=\"text-align: right;\">\n      <th></th>\n      <th>URL</th>\n      <th>Book</th>\n      <th>Text</th>\n      <th>hdr1</th>\n      <th>hdr2</th>\n      <th>tildeinfo</th>\n      <th>note</th>\n      <th>lines</th>\n      <th>metadata</th>\n      <th>data</th>\n      <th>...</th>\n      <th>lem_sents</th>\n      <th>lemmata</th>\n      <th>raw_date</th>\n      <th>dating_dict</th>\n      <th>not_before</th>\n      <th>not_after</th>\n      <th>or</th>\n      <th>date_tags</th>\n      <th>certainty</th>\n      <th>link</th>\n    </tr>\n  </thead>\n  <tbody>\n    <tr>\n      <th>0</th>\n      <td>/text/1?location=1701&amp;patt=&amp;bookid=4&amp;offset=0&amp;...</td>\n      <td>IG I³</td>\n      <td>1</td>\n      <td>Regions\\nAttica (IG I-III)</td>\n      <td>IG I³\\n1</td>\n      <td>Att. — Ath.: Akr. — stoich. 35 — c. 510-500 a....</td>\n      <td></td>\n      <td>12</td>\n      <td>1\\n\\n\\n\\n5\\n\\n\\n\\n\\n10\\n\\n</td>\n      <td>ἔδοχσεν το͂ι δέμοι· τ̣[ὸς ἐ Σ]αλαμ̣[ῖνι κλερόχ...</td>\n      <td>...</td>\n      <td>[[ἔδοχσεν, δέμοι, Σαλαμίς, κλερόχος, οἰκεν, Σα...</td>\n      <td>[ἔδοχσεν, δέμοι, Σαλαμίς, κλερόχος, οἰκεν, Σαλ...</td>\n      <td>c. 510-500 a.</td>\n      <td>{'or': None, 'not_before': -511, 'not_after': ...</td>\n      <td>-511.0</td>\n      <td>-499.0</td>\n      <td>None</td>\n      <td>[range, phase, ca]</td>\n      <td>None</td>\n      <td>None</td>\n    </tr>\n    <tr>\n      <th>1</th>\n      <td>/text/2?location=1701&amp;patt=&amp;bookid=4&amp;offset=0&amp;...</td>\n      <td>IG I³</td>\n      <td>2</td>\n      <td>Regions\\nAttica (IG I-III)</td>\n      <td>IG I³\\n2</td>\n      <td>Att. — non-stoich. — c. 500 a.</td>\n      <td></td>\n      <td>14</td>\n      <td>1\\n\\n\\n\\n5\\n\\n\\n\\n\\n10\\n\\n\\n\\n</td>\n      <td>[․․8-9․․․]ν̣ βολ — — — — — — — — — —\\n[․6-7․․]...</td>\n      <td>...</td>\n      <td>[[βολ, ἑκών, σίον, γνοσθει, ἄτεχνος, μεδὲ, κελ...</td>\n      <td>[βολ, ἑκών, σίον, γνοσθει, ἄτεχνος, μεδὲ, κελε...</td>\n      <td>c. 500 a.</td>\n      <td>{'or': None, 'not_before': -505, 'not_after': ...</td>\n      <td>-505.0</td>\n      <td>-495.0</td>\n      <td>None</td>\n      <td>[exact, phase, ca]</td>\n      <td>None</td>\n      <td>None</td>\n    </tr>\n    <tr>\n      <th>2</th>\n      <td>/text/3?location=1701&amp;patt=&amp;bookid=4&amp;offset=0&amp;...</td>\n      <td>IG I³</td>\n      <td>3</td>\n      <td>Regions\\nAttica (IG I-III)</td>\n      <td>IG I³\\n3</td>\n      <td>Att. — stoich. 21 — 490-480 a.</td>\n      <td></td>\n      <td>13</td>\n      <td>1\\n\\n\\n\\n5\\n\\n\\n\\n\\n10\\n\\n\\n</td>\n      <td>[․]αρ[․․․․]ι ℎερακλειο[․․5․․]\\n[․]αρ̣ο#⁷[․] τι...</td>\n      <td>...</td>\n      <td>[[ἑρακλειο, ἀρόω, τίθημι, ἀθλοθέτης, ἀνήρ, ἄγο...</td>\n      <td>[ἑρακλειο, ἀρόω, τίθημι, ἀθλοθέτης, ἀνήρ, ἄγον...</td>\n      <td>490-480 a.</td>\n      <td>{'or': None, 'not_before': -490, 'not_after': ...</td>\n      <td>-490.0</td>\n      <td>-480.0</td>\n      <td>None</td>\n      <td>[range]</td>\n      <td>None</td>\n      <td>None</td>\n    </tr>\n    <tr>\n      <th>3</th>\n      <td>/text/4?location=1701&amp;patt=&amp;bookid=4&amp;offset=0&amp;...</td>\n      <td>IG I³</td>\n      <td>4</td>\n      <td>Regions\\nAttica (IG I-III)</td>\n      <td>IG I³\\n4</td>\n      <td>Att. — stoich. 38 — 485/4 a.</td>\n      <td></td>\n      <td>56</td>\n      <td>face A.1\\n\\n\\n\\n5\\n\\n\\n\\n\\n10\\n\\n\\n\\n\\n15\\n\\n\\...</td>\n      <td>[․․․․․․․․․․․․․․․․․․38․․․․․․․․․․․․․․․․․․]\\n[․․․...</td>\n      <td>...</td>\n      <td>[[τὶς, φρορὰν, πεντέκοντα, δραχμή, τ, πρᾶχσιν,...</td>\n      <td>[τὶς, φρορὰν, πεντέκοντα, δραχμή, τ, πρᾶχσιν, ...</td>\n      <td>485/4 a.</td>\n      <td>{'or': None, 'not_before': -485, 'not_after': ...</td>\n      <td>-485.0</td>\n      <td>-484.0</td>\n      <td>None</td>\n      <td>[range]</td>\n      <td>None</td>\n      <td>None</td>\n    </tr>\n    <tr>\n      <th>4</th>\n      <td>/text/5?location=1701&amp;patt=&amp;bookid=4&amp;offset=0&amp;...</td>\n      <td>IG I³</td>\n      <td>5</td>\n      <td>Regions\\nAttica (IG I-III)</td>\n      <td>IG I³\\n5</td>\n      <td>Att. — c. 500 a.</td>\n      <td></td>\n      <td>6</td>\n      <td>1\\n\\n\\n\\n5\\n</td>\n      <td>[ἔδοχσε]ν [⋮ τε͂ι βολε͂ι] ⋮ καὶ [τ]ο͂ι δέμοι ⋮...</td>\n      <td>...</td>\n      <td>[[ἔδοχσεν, τει, βολει, δέμοι, παραιβάτες, γραμ...</td>\n      <td>[ἔδοχσεν, τει, βολει, δέμοι, παραιβάτες, γραμμ...</td>\n      <td>c. 500 a.</td>\n      <td>{'or': None, 'not_before': -505, 'not_after': ...</td>\n      <td>-505.0</td>\n      <td>-495.0</td>\n      <td>None</td>\n      <td>[exact, phase, ca]</td>\n      <td>None</td>\n      <td>None</td>\n    </tr>\n  </tbody>\n</table>\n<p>5 rows × 29 columns</p>\n</div>"
     },
     "execution_count": 13,
     "metadata": {},
     "output_type": "execute_result"
    }
   ],
   "source": [
    "PHI.head(5)"
   ],
   "metadata": {
    "collapsed": false,
    "pycharm": {
     "name": "#%%\n"
    }
   }
  },
  {
   "cell_type": "code",
   "execution_count": 15,
   "outputs": [
    {
     "data": {
      "text/plain": "                                                      URL            Book  \\\n181106  /text/315181?location=1691&patt=&bookid=785&of...  Roesch, IThesp   \n\n       Text                                               hdr1  \\\n181106  303  Regions\\nCentral Greece (IG VII-IX)\\nMegaris, ...   \n\n                       hdr2  \\\n181106  Roesch, IThesp\\n303   \n\n                                                tildeinfo note  lines  \\\n181106  Boiotia — Thespiai — mid-3rd c. BC — BCH 26 (1...           5   \n\n         metadata                                               data  ...  \\\n181106  1\\n\\n\\n\\n  [Φ]ιλέταιρος Εὐμένου\\nΠεργαμεὺς Μούσαις.\\n\\nΚ̣...  ...   \n\n                                                lem_sents  \\\n181106  [[φιλέταιρος, εὐμένου, περγαμεὺς, Μοῦσα], [καφ...   \n\n                                                  lemmata        raw_date  \\\n181106  [φιλέταιρος, εὐμένου, περγαμεὺς, Μοῦσα, καφισί...  mid-3rd c. BC    \n\n                                              dating_dict not_before  \\\n181106  {'or': None, 'not_before': -255, 'not_after': ...     -255.0   \n\n       not_after    or                     date_tags  certainty  link  \n181106    -246.0  None  [range, cent, phase, middle]       None  None  \n\n[1 rows x 29 columns]",
      "text/html": "<div>\n<style scoped>\n    .dataframe tbody tr th:only-of-type {\n        vertical-align: middle;\n    }\n\n    .dataframe tbody tr th {\n        vertical-align: top;\n    }\n\n    .dataframe thead th {\n        text-align: right;\n    }\n</style>\n<table border=\"1\" class=\"dataframe\">\n  <thead>\n    <tr style=\"text-align: right;\">\n      <th></th>\n      <th>URL</th>\n      <th>Book</th>\n      <th>Text</th>\n      <th>hdr1</th>\n      <th>hdr2</th>\n      <th>tildeinfo</th>\n      <th>note</th>\n      <th>lines</th>\n      <th>metadata</th>\n      <th>data</th>\n      <th>...</th>\n      <th>lem_sents</th>\n      <th>lemmata</th>\n      <th>raw_date</th>\n      <th>dating_dict</th>\n      <th>not_before</th>\n      <th>not_after</th>\n      <th>or</th>\n      <th>date_tags</th>\n      <th>certainty</th>\n      <th>link</th>\n    </tr>\n  </thead>\n  <tbody>\n    <tr>\n      <th>181106</th>\n      <td>/text/315181?location=1691&amp;patt=&amp;bookid=785&amp;of...</td>\n      <td>Roesch, IThesp</td>\n      <td>303</td>\n      <td>Regions\\nCentral Greece (IG VII-IX)\\nMegaris, ...</td>\n      <td>Roesch, IThesp\\n303</td>\n      <td>Boiotia — Thespiai — mid-3rd c. BC — BCH 26 (1...</td>\n      <td></td>\n      <td>5</td>\n      <td>1\\n\\n\\n\\n</td>\n      <td>[Φ]ιλέταιρος Εὐμένου\\nΠεργαμεὺς Μούσαις.\\n\\nΚ̣...</td>\n      <td>...</td>\n      <td>[[φιλέταιρος, εὐμένου, περγαμεὺς, Μοῦσα], [καφ...</td>\n      <td>[φιλέταιρος, εὐμένου, περγαμεὺς, Μοῦσα, καφισί...</td>\n      <td>mid-3rd c. BC</td>\n      <td>{'or': None, 'not_before': -255, 'not_after': ...</td>\n      <td>-255.0</td>\n      <td>-246.0</td>\n      <td>None</td>\n      <td>[range, cent, phase, middle]</td>\n      <td>None</td>\n      <td>None</td>\n    </tr>\n  </tbody>\n</table>\n<p>1 rows × 29 columns</p>\n</div>"
     },
     "execution_count": 15,
     "metadata": {},
     "output_type": "execute_result"
    }
   ],
   "source": [
    "PHI[PHI[\"PHI_ID\"]==315181]"
   ],
   "metadata": {
    "collapsed": false,
    "pycharm": {
     "name": "#%%\n"
    }
   }
  },
  {
   "cell_type": "code",
   "execution_count": 21,
   "outputs": [
    {
     "data": {
      "text/plain": "                                                      URL          Book  \\\n5       /text/6?location=1701&patt=&bookid=4&offset=0&...         IG I³   \n10      /text/11?location=1701&patt=&bookid=4&offset=0...         IG I³   \n140     /text/141?location=1701&patt=&bookid=4&offset=...         IG I³   \n167     /text/168?location=1701&patt=&bookid=4&offset=...         IG I³   \n904     /text/905?location=1701&patt=&bookid=4&offset=...         IG I³   \n...                                                   ...           ...   \n145652  /text/279354?location=1702&patt=&bookid=654&of...  IK Kalchedon   \n145653  /text/279355?location=1702&patt=&bookid=654&of...  IK Kalchedon   \n145654  /text/279356?location=1702&patt=&bookid=654&of...  IK Kalchedon   \n145655  /text/279357?location=1702&patt=&bookid=654&of...  IK Kalchedon   \n210302  /text/345924?location=1700&patt=&bookid=5&offs...        IG II²   \n\n         Text                                hdr1               hdr2  \\\n5           6          Regions\\nAttica (IG I-III)           IG I³\\n6   \n10         11          Regions\\nAttica (IG I-III)          IG I³\\n11   \n140       138          Regions\\nAttica (IG I-III)         IG I³\\n138   \n167       165          Regions\\nAttica (IG I-III)         IG I³\\n165   \n904     804,a          Regions\\nAttica (IG I-III)       IG I³\\n804,a   \n...       ...                                 ...                ...   \n145652    117                 Regions\\nAsia Minor  IK Kalchedon\\n117   \n145653    118                 Regions\\nAsia Minor  IK Kalchedon\\n118   \n145654    119                 Regions\\nAsia Minor  IK Kalchedon\\n119   \n145655    120                 Regions\\nAsia Minor  IK Kalchedon\\n120   \n210302    279  Regions\\nAttica (IG I-III)\\nAttica        IG II²\\n279   \n\n                                                tildeinfo note  lines  \\\n5                      Att. — stoich. 23/11 — ante 460 a.         160   \n10                  Att. — stoich. 48 — ante med. s. V a.          22   \n140                      Att. — stoich. 39? — ante 434 a.          20   \n167                      Att. — stoich. 35 — ante 420 a.?          18   \n904     Att. — Athens: Akropolis — ante 480? a. — AD 2...           1   \n...                                                   ...  ...    ...   \n145652  Bith. — Kalchedon (Kadiköy): Pendik (= anc. Pa...           5   \n145653  Bith. — Kalchedon (Kadiköy): Pendik (= anc. Pa...           9   \n145654  Bith. — Kalchedon (Kadiköy): Pendik (= anc. Pa...           4   \n145655  Bith. — Kalchedon (Kadiköy): Pendik (= anc. Pa...           5   \n210302  Att. — Athens: Akropolis — stoich. 34 — ante a...           8   \n\n                                                 metadata  \\\n5       face A.BM 309.1\\n\\n\\n\\n5\\n\\n\\n\\n\\n10\\n\\n\\n\\n\\n...   \n10      frg. a.1\\n\\n\\n\\n5\\n\\n\\n\\n\\n10\\n\\n\\n\\n\\n15\\n\\n\\...   \n140        1\\n\\n\\n\\n5\\n\\n\\n\\n\\n10\\n\\n\\n\\n\\n15\\n\\n\\n\\n\\n20   \n167              \\n1\\n\\n\\n\\n5\\n\\n\\n\\n\\n10\\n\\n\\n\\n\\n15\\n\\n   \n904                                                     1   \n...                                                   ...   \n145652                                         1\\n\\n\\n\\n5   \n145653                              1\\n\\n\\n\\n5\\n\\n\\n\\n5/6   \n145654                                            1\\n\\n\\n   \n145655                                      A.1\\n\\nB\\n1\\n   \n210302                                   1\\n\\n\\n\\n5\\n\\n\\n   \n\n                                                     data  ...  \\\n5       — — — — — — — — — — — — —\\n[․․․․․․15․․․․․․․] δ...  ...   \n10      [χσυμμαχία καὶ ℎόρ]κ̣ο̣[ς] Ἀ̣[θ]ε̣ν̣α̣[ίον κα]...  ...   \n140     [․․․․․․․․․․23․․․․․․․․․․․ χσυμβάλλεσθαι δὲ τ]-\\...  ...   \n167     [— — — — — — — — — — — — — — — — ℎοὶ ἂν τό]-\\n...  ...   \n904                                   [— — — ε]ἰμί vacat?  ...   \n...                                                   ...  ...   \n145652  ☩ ἐνθάδε\\nκατάκ-\\nητε ἡ δούλη\\nτοῦ θ(ε)οῦ Μαμα...  ...   \n145653  ἐνθά-\\nδε κατά-\\nκιτε Ϲτέφανο-\\nς πιστὸς υἱὸς\\...  ...   \n145654  [— — — Φι]λισ̣κ̣ίωνος [ζήσας]\\n[— — — ἔ]τη νʹ....  ...   \n145655   [μή(τη)ρ] θ(εο)ῦ\\n\\n— — —\\nϲιν[— — —]\\nοι[— — —]  ...   \n210302  ․․․․․․14․․․․․․#⁷ΙΟ̣Ι ΙΙ̣․․․․․․15․․․․․․․\\n[․․․․...  ...   \n\n                                                lem_sents  \\\n5       [[δραχμεισι, τες, μένος, δεμο, πόλεον, δοκέω, ...   \n10      [[χσυμμαχία, ὅρκος, ἀθεναίον, ἐγεσταίον], [ἔδο...   \n140     [[χσυμβάλλεσθαι, ἱππεύς, δραχμὰ, ὁπλίτης, δραχ...   \n167     [[τυνχάνοσι, πρυτανεύοντες, προσαγ, ὀφείλω, δρ...   \n904                                              [[εἰμί]]   \n...                                                   ...   \n145652                [[κατάκητε, δοῦλος, θεός, μαμαλού]]   \n145653  [[κατάκιτε, ϲτέφανος, πιστός, υἱός, ῥίκιμερ], ...   \n145654  [[φιλισκίωνος, ζάω, ἔτος], [γυνή, ἄκκα, ζῶ, ἔτ...   \n145655                               [[μήτηρ, θεός, ὄις]]   \n210302  [[ἰός, τήνωι, πρύτανις, τηνίων], [σύνεδρος, ἔν...   \n\n                                                  lemmata  \\\n5       [δραχμεισι, τες, μένος, δεμο, πόλεον, δοκέω, ἀ...   \n10      [χσυμμαχία, ὅρκος, ἀθεναίον, ἐγεσταίον, ἔδοχσε...   \n140     [χσυμβάλλεσθαι, ἱππεύς, δραχμὰ, ὁπλίτης, δραχμ...   \n167     [τυνχάνοσι, πρυτανεύοντες, προσαγ, ὀφείλω, δρα...   \n904                                                [εἰμί]   \n...                                                   ...   \n145652                  [κατάκητε, δοῦλος, θεός, μαμαλού]   \n145653  [κατάκιτε, ϲτέφανος, πιστός, υἱός, ῥίκιμερ, ἐτ...   \n145654  [φιλισκίωνος, ζάω, ἔτος, γυνή, ἄκκα, ζῶ, ἔτος,...   \n145655                                 [μήτηρ, θεός, ὄις]   \n210302  [ἰός, τήνωι, πρύτανις, τηνίων, σύνεδρος, ἔνδει...   \n\n                                                raw_date  \\\n5                                            ante 460 a.   \n10                                     ante med. s. V a.   \n140                                          ante 434 a.   \n167                                         ante 420 a.?   \n904                                        ante 480? a.    \n...                                                  ...   \n145652  Kalchedon (Kadiköy): Pendik (= anc. Panteichion)   \n145653  Kalchedon (Kadiköy): Pendik (= anc. Panteichion)   \n145654  Kalchedon (Kadiköy): Pendik (= anc. Panteichion)   \n145655  Kalchedon (Kadiköy): Pendik (= anc. Panteichion)   \n210302                                     ante a. 336/5   \n\n                                              dating_dict not_before  \\\n5       {'or': None, 'not_before': None, 'not_after': ...        NaN   \n10      {'or': None, 'not_before': None, 'not_after': ...        NaN   \n140     {'or': None, 'not_before': None, 'not_after': ...        NaN   \n167     {'or': None, 'certainty': '?', 'not_before': N...        NaN   \n904     {'or': None, 'certainty': '?', 'not_before': N...        NaN   \n...                                                   ...        ...   \n145652  {'or': None, 'not_before': None, 'not_after': ...        NaN   \n145653  {'or': None, 'not_before': None, 'not_after': ...        NaN   \n145654  {'or': None, 'not_before': None, 'not_after': ...        NaN   \n145655  {'or': None, 'not_before': None, 'not_after': ...        NaN   \n210302  {'or': None, 'not_before': None, 'not_after': ...        NaN   \n\n       not_after    or                           date_tags  certainty  link  \n5         -461.0  None                              [ante]       None  None  \n10        -456.0  None  [range, cent, phase, middle, ante]       None  None  \n140       -435.0  None                              [ante]       None  None  \n167       -421.0  None                              [ante]          ?  None  \n904       -481.0  None                              [ante]          ?  None  \n...          ...   ...                                 ...        ...   ...  \n145652       NaN  None                           [unknown]       None  None  \n145653       NaN  None                           [unknown]       None  None  \n145654       NaN  None                           [unknown]       None  None  \n145655       NaN  None                           [unknown]       None  None  \n210302    -337.0  None                       [range, ante]       None  None  \n\n[792 rows x 29 columns]",
      "text/html": "<div>\n<style scoped>\n    .dataframe tbody tr th:only-of-type {\n        vertical-align: middle;\n    }\n\n    .dataframe tbody tr th {\n        vertical-align: top;\n    }\n\n    .dataframe thead th {\n        text-align: right;\n    }\n</style>\n<table border=\"1\" class=\"dataframe\">\n  <thead>\n    <tr style=\"text-align: right;\">\n      <th></th>\n      <th>URL</th>\n      <th>Book</th>\n      <th>Text</th>\n      <th>hdr1</th>\n      <th>hdr2</th>\n      <th>tildeinfo</th>\n      <th>note</th>\n      <th>lines</th>\n      <th>metadata</th>\n      <th>data</th>\n      <th>...</th>\n      <th>lem_sents</th>\n      <th>lemmata</th>\n      <th>raw_date</th>\n      <th>dating_dict</th>\n      <th>not_before</th>\n      <th>not_after</th>\n      <th>or</th>\n      <th>date_tags</th>\n      <th>certainty</th>\n      <th>link</th>\n    </tr>\n  </thead>\n  <tbody>\n    <tr>\n      <th>5</th>\n      <td>/text/6?location=1701&amp;patt=&amp;bookid=4&amp;offset=0&amp;...</td>\n      <td>IG I³</td>\n      <td>6</td>\n      <td>Regions\\nAttica (IG I-III)</td>\n      <td>IG I³\\n6</td>\n      <td>Att. — stoich. 23/11 — ante 460 a.</td>\n      <td></td>\n      <td>160</td>\n      <td>face A.BM 309.1\\n\\n\\n\\n5\\n\\n\\n\\n\\n10\\n\\n\\n\\n\\n...</td>\n      <td>— — — — — — — — — — — — —\\n[․․․․․․15․․․․․․․] δ...</td>\n      <td>...</td>\n      <td>[[δραχμεισι, τες, μένος, δεμο, πόλεον, δοκέω, ...</td>\n      <td>[δραχμεισι, τες, μένος, δεμο, πόλεον, δοκέω, ἀ...</td>\n      <td>ante 460 a.</td>\n      <td>{'or': None, 'not_before': None, 'not_after': ...</td>\n      <td>NaN</td>\n      <td>-461.0</td>\n      <td>None</td>\n      <td>[ante]</td>\n      <td>None</td>\n      <td>None</td>\n    </tr>\n    <tr>\n      <th>10</th>\n      <td>/text/11?location=1701&amp;patt=&amp;bookid=4&amp;offset=0...</td>\n      <td>IG I³</td>\n      <td>11</td>\n      <td>Regions\\nAttica (IG I-III)</td>\n      <td>IG I³\\n11</td>\n      <td>Att. — stoich. 48 — ante med. s. V a.</td>\n      <td></td>\n      <td>22</td>\n      <td>frg. a.1\\n\\n\\n\\n5\\n\\n\\n\\n\\n10\\n\\n\\n\\n\\n15\\n\\n\\...</td>\n      <td>[χσυμμαχία καὶ ℎόρ]κ̣ο̣[ς] Ἀ̣[θ]ε̣ν̣α̣[ίον κα]...</td>\n      <td>...</td>\n      <td>[[χσυμμαχία, ὅρκος, ἀθεναίον, ἐγεσταίον], [ἔδο...</td>\n      <td>[χσυμμαχία, ὅρκος, ἀθεναίον, ἐγεσταίον, ἔδοχσε...</td>\n      <td>ante med. s. V a.</td>\n      <td>{'or': None, 'not_before': None, 'not_after': ...</td>\n      <td>NaN</td>\n      <td>-456.0</td>\n      <td>None</td>\n      <td>[range, cent, phase, middle, ante]</td>\n      <td>None</td>\n      <td>None</td>\n    </tr>\n    <tr>\n      <th>140</th>\n      <td>/text/141?location=1701&amp;patt=&amp;bookid=4&amp;offset=...</td>\n      <td>IG I³</td>\n      <td>138</td>\n      <td>Regions\\nAttica (IG I-III)</td>\n      <td>IG I³\\n138</td>\n      <td>Att. — stoich. 39? — ante 434 a.</td>\n      <td></td>\n      <td>20</td>\n      <td>1\\n\\n\\n\\n5\\n\\n\\n\\n\\n10\\n\\n\\n\\n\\n15\\n\\n\\n\\n\\n20</td>\n      <td>[․․․․․․․․․․23․․․․․․․․․․․ χσυμβάλλεσθαι δὲ τ]-\\...</td>\n      <td>...</td>\n      <td>[[χσυμβάλλεσθαι, ἱππεύς, δραχμὰ, ὁπλίτης, δραχ...</td>\n      <td>[χσυμβάλλεσθαι, ἱππεύς, δραχμὰ, ὁπλίτης, δραχμ...</td>\n      <td>ante 434 a.</td>\n      <td>{'or': None, 'not_before': None, 'not_after': ...</td>\n      <td>NaN</td>\n      <td>-435.0</td>\n      <td>None</td>\n      <td>[ante]</td>\n      <td>None</td>\n      <td>None</td>\n    </tr>\n    <tr>\n      <th>167</th>\n      <td>/text/168?location=1701&amp;patt=&amp;bookid=4&amp;offset=...</td>\n      <td>IG I³</td>\n      <td>165</td>\n      <td>Regions\\nAttica (IG I-III)</td>\n      <td>IG I³\\n165</td>\n      <td>Att. — stoich. 35 — ante 420 a.?</td>\n      <td></td>\n      <td>18</td>\n      <td>\\n1\\n\\n\\n\\n5\\n\\n\\n\\n\\n10\\n\\n\\n\\n\\n15\\n\\n</td>\n      <td>[— — — — — — — — — — — — — — — — ℎοὶ ἂν τό]-\\n...</td>\n      <td>...</td>\n      <td>[[τυνχάνοσι, πρυτανεύοντες, προσαγ, ὀφείλω, δρ...</td>\n      <td>[τυνχάνοσι, πρυτανεύοντες, προσαγ, ὀφείλω, δρα...</td>\n      <td>ante 420 a.?</td>\n      <td>{'or': None, 'certainty': '?', 'not_before': N...</td>\n      <td>NaN</td>\n      <td>-421.0</td>\n      <td>None</td>\n      <td>[ante]</td>\n      <td>?</td>\n      <td>None</td>\n    </tr>\n    <tr>\n      <th>904</th>\n      <td>/text/905?location=1701&amp;patt=&amp;bookid=4&amp;offset=...</td>\n      <td>IG I³</td>\n      <td>804,a</td>\n      <td>Regions\\nAttica (IG I-III)</td>\n      <td>IG I³\\n804,a</td>\n      <td>Att. — Athens: Akropolis — ante 480? a. — AD 2...</td>\n      <td></td>\n      <td>1</td>\n      <td>1</td>\n      <td>[— — — ε]ἰμί vacat?</td>\n      <td>...</td>\n      <td>[[εἰμί]]</td>\n      <td>[εἰμί]</td>\n      <td>ante 480? a.</td>\n      <td>{'or': None, 'certainty': '?', 'not_before': N...</td>\n      <td>NaN</td>\n      <td>-481.0</td>\n      <td>None</td>\n      <td>[ante]</td>\n      <td>?</td>\n      <td>None</td>\n    </tr>\n    <tr>\n      <th>...</th>\n      <td>...</td>\n      <td>...</td>\n      <td>...</td>\n      <td>...</td>\n      <td>...</td>\n      <td>...</td>\n      <td>...</td>\n      <td>...</td>\n      <td>...</td>\n      <td>...</td>\n      <td>...</td>\n      <td>...</td>\n      <td>...</td>\n      <td>...</td>\n      <td>...</td>\n      <td>...</td>\n      <td>...</td>\n      <td>...</td>\n      <td>...</td>\n      <td>...</td>\n      <td>...</td>\n    </tr>\n    <tr>\n      <th>145652</th>\n      <td>/text/279354?location=1702&amp;patt=&amp;bookid=654&amp;of...</td>\n      <td>IK Kalchedon</td>\n      <td>117</td>\n      <td>Regions\\nAsia Minor</td>\n      <td>IK Kalchedon\\n117</td>\n      <td>Bith. — Kalchedon (Kadiköy): Pendik (= anc. Pa...</td>\n      <td></td>\n      <td>5</td>\n      <td>1\\n\\n\\n\\n5</td>\n      <td>☩ ἐνθάδε\\nκατάκ-\\nητε ἡ δούλη\\nτοῦ θ(ε)οῦ Μαμα...</td>\n      <td>...</td>\n      <td>[[κατάκητε, δοῦλος, θεός, μαμαλού]]</td>\n      <td>[κατάκητε, δοῦλος, θεός, μαμαλού]</td>\n      <td>Kalchedon (Kadiköy): Pendik (= anc. Panteichion)</td>\n      <td>{'or': None, 'not_before': None, 'not_after': ...</td>\n      <td>NaN</td>\n      <td>NaN</td>\n      <td>None</td>\n      <td>[unknown]</td>\n      <td>None</td>\n      <td>None</td>\n    </tr>\n    <tr>\n      <th>145653</th>\n      <td>/text/279355?location=1702&amp;patt=&amp;bookid=654&amp;of...</td>\n      <td>IK Kalchedon</td>\n      <td>118</td>\n      <td>Regions\\nAsia Minor</td>\n      <td>IK Kalchedon\\n118</td>\n      <td>Bith. — Kalchedon (Kadiköy): Pendik (= anc. Pa...</td>\n      <td></td>\n      <td>9</td>\n      <td>1\\n\\n\\n\\n5\\n\\n\\n\\n5/6</td>\n      <td>ἐνθά-\\nδε κατά-\\nκιτε Ϲτέφανο-\\nς πιστὸς υἱὸς\\...</td>\n      <td>...</td>\n      <td>[[κατάκιτε, ϲτέφανος, πιστός, υἱός, ῥίκιμερ], ...</td>\n      <td>[κατάκιτε, ϲτέφανος, πιστός, υἱός, ῥίκιμερ, ἐτ...</td>\n      <td>Kalchedon (Kadiköy): Pendik (= anc. Panteichion)</td>\n      <td>{'or': None, 'not_before': None, 'not_after': ...</td>\n      <td>NaN</td>\n      <td>NaN</td>\n      <td>None</td>\n      <td>[unknown]</td>\n      <td>None</td>\n      <td>None</td>\n    </tr>\n    <tr>\n      <th>145654</th>\n      <td>/text/279356?location=1702&amp;patt=&amp;bookid=654&amp;of...</td>\n      <td>IK Kalchedon</td>\n      <td>119</td>\n      <td>Regions\\nAsia Minor</td>\n      <td>IK Kalchedon\\n119</td>\n      <td>Bith. — Kalchedon (Kadiköy): Pendik (= anc. Pa...</td>\n      <td></td>\n      <td>4</td>\n      <td>1\\n\\n\\n</td>\n      <td>[— — — Φι]λισ̣κ̣ίωνος [ζήσας]\\n[— — — ἔ]τη νʹ....</td>\n      <td>...</td>\n      <td>[[φιλισκίωνος, ζάω, ἔτος], [γυνή, ἄκκα, ζῶ, ἔτ...</td>\n      <td>[φιλισκίωνος, ζάω, ἔτος, γυνή, ἄκκα, ζῶ, ἔτος,...</td>\n      <td>Kalchedon (Kadiköy): Pendik (= anc. Panteichion)</td>\n      <td>{'or': None, 'not_before': None, 'not_after': ...</td>\n      <td>NaN</td>\n      <td>NaN</td>\n      <td>None</td>\n      <td>[unknown]</td>\n      <td>None</td>\n      <td>None</td>\n    </tr>\n    <tr>\n      <th>145655</th>\n      <td>/text/279357?location=1702&amp;patt=&amp;bookid=654&amp;of...</td>\n      <td>IK Kalchedon</td>\n      <td>120</td>\n      <td>Regions\\nAsia Minor</td>\n      <td>IK Kalchedon\\n120</td>\n      <td>Bith. — Kalchedon (Kadiköy): Pendik (= anc. Pa...</td>\n      <td></td>\n      <td>5</td>\n      <td>A.1\\n\\nB\\n1\\n</td>\n      <td>[μή(τη)ρ] θ(εο)ῦ\\n\\n— — —\\nϲιν[— — —]\\nοι[— — —]</td>\n      <td>...</td>\n      <td>[[μήτηρ, θεός, ὄις]]</td>\n      <td>[μήτηρ, θεός, ὄις]</td>\n      <td>Kalchedon (Kadiköy): Pendik (= anc. Panteichion)</td>\n      <td>{'or': None, 'not_before': None, 'not_after': ...</td>\n      <td>NaN</td>\n      <td>NaN</td>\n      <td>None</td>\n      <td>[unknown]</td>\n      <td>None</td>\n      <td>None</td>\n    </tr>\n    <tr>\n      <th>210302</th>\n      <td>/text/345924?location=1700&amp;patt=&amp;bookid=5&amp;offs...</td>\n      <td>IG II²</td>\n      <td>279</td>\n      <td>Regions\\nAttica (IG I-III)\\nAttica</td>\n      <td>IG II²\\n279</td>\n      <td>Att. — Athens: Akropolis — stoich. 34 — ante a...</td>\n      <td></td>\n      <td>8</td>\n      <td>1\\n\\n\\n\\n5\\n\\n\\n</td>\n      <td>․․․․․․14․․․․․․#⁷ΙΟ̣Ι ΙΙ̣․․․․․․15․․․․․․․\\n[․․․․...</td>\n      <td>...</td>\n      <td>[[ἰός, τήνωι, πρύτανις, τηνίων], [σύνεδρος, ἔν...</td>\n      <td>[ἰός, τήνωι, πρύτανις, τηνίων, σύνεδρος, ἔνδει...</td>\n      <td>ante a. 336/5</td>\n      <td>{'or': None, 'not_before': None, 'not_after': ...</td>\n      <td>NaN</td>\n      <td>-337.0</td>\n      <td>None</td>\n      <td>[range, ante]</td>\n      <td>None</td>\n      <td>None</td>\n    </tr>\n  </tbody>\n</table>\n<p>792 rows × 29 columns</p>\n</div>"
     },
     "execution_count": 21,
     "metadata": {},
     "output_type": "execute_result"
    }
   ],
   "source": [
    "PHI[PHI[\"raw_date\"].str.contains(\"ante\")]"
   ],
   "metadata": {
    "collapsed": false,
    "pycharm": {
     "name": "#%%\n"
    }
   }
  },
  {
   "cell_type": "code",
   "execution_count": 24,
   "outputs": [
    {
     "data": {
      "text/plain": "0     27869\n1    315181\n2    201686\n3    153178\n4    242973\n5     28582\n6    333620\n7    182537\n8    186989\n9    186751\nName: id, dtype: int64"
     },
     "execution_count": 24,
     "metadata": {},
     "output_type": "execute_result"
    }
   ],
   "source": [
    "iphi[\"id\"][:10]"
   ],
   "metadata": {
    "collapsed": false,
    "pycharm": {
     "name": "#%%\n"
    }
   }
  },
  {
   "cell_type": "code",
   "execution_count": 19,
   "outputs": [
    {
     "data": {
      "text/plain": "        id                                               text  \\\n52903  189  [---------- τον γρα]μμα[τ]εα [τες βολες ------...   \n\n                               metadata  region_main_id        region_main  \\\n52903  Att. — stoich. 20? — post 445 a.            1701  Attica (IG I-III)   \n\n       region_sub_id region_sub      date_str  date_min  date_max  date_circa  \n52903           1700     Attica   post 445 a.    -445.0    -445.0         0.0  ",
      "text/html": "<div>\n<style scoped>\n    .dataframe tbody tr th:only-of-type {\n        vertical-align: middle;\n    }\n\n    .dataframe tbody tr th {\n        vertical-align: top;\n    }\n\n    .dataframe thead th {\n        text-align: right;\n    }\n</style>\n<table border=\"1\" class=\"dataframe\">\n  <thead>\n    <tr style=\"text-align: right;\">\n      <th></th>\n      <th>id</th>\n      <th>text</th>\n      <th>metadata</th>\n      <th>region_main_id</th>\n      <th>region_main</th>\n      <th>region_sub_id</th>\n      <th>region_sub</th>\n      <th>date_str</th>\n      <th>date_min</th>\n      <th>date_max</th>\n      <th>date_circa</th>\n    </tr>\n  </thead>\n  <tbody>\n    <tr>\n      <th>52903</th>\n      <td>189</td>\n      <td>[---------- τον γρα]μμα[τ]εα [τες βολες ------...</td>\n      <td>Att. — stoich. 20? — post 445 a.</td>\n      <td>1701</td>\n      <td>Attica (IG I-III)</td>\n      <td>1700</td>\n      <td>Attica</td>\n      <td>post 445 a.</td>\n      <td>-445.0</td>\n      <td>-445.0</td>\n      <td>0.0</td>\n    </tr>\n  </tbody>\n</table>\n</div>"
     },
     "execution_count": 19,
     "metadata": {},
     "output_type": "execute_result"
    }
   ],
   "source": [
    "# \"post quem\" date\n",
    "iphi[iphi[\"id\"]==189]"
   ],
   "metadata": {
    "collapsed": false,
    "pycharm": {
     "name": "#%%\n"
    }
   }
  },
  {
   "cell_type": "code",
   "execution_count": 23,
   "outputs": [
    {
     "data": {
      "text/plain": "        id                                               text  \\\n104168   6  ------------- [---------------] δραχμεισ[ι ---...   \n\n                                  metadata  region_main_id        region_main  \\\n104168  Att. — stoich. 23/11 — ante 460 a.            1701  Attica (IG I-III)   \n\n        region_sub_id region_sub      date_str  date_min  date_max  date_circa  \n104168           1700     Attica   ante 460 a.    -460.0    -460.0         0.0  ",
      "text/html": "<div>\n<style scoped>\n    .dataframe tbody tr th:only-of-type {\n        vertical-align: middle;\n    }\n\n    .dataframe tbody tr th {\n        vertical-align: top;\n    }\n\n    .dataframe thead th {\n        text-align: right;\n    }\n</style>\n<table border=\"1\" class=\"dataframe\">\n  <thead>\n    <tr style=\"text-align: right;\">\n      <th></th>\n      <th>id</th>\n      <th>text</th>\n      <th>metadata</th>\n      <th>region_main_id</th>\n      <th>region_main</th>\n      <th>region_sub_id</th>\n      <th>region_sub</th>\n      <th>date_str</th>\n      <th>date_min</th>\n      <th>date_max</th>\n      <th>date_circa</th>\n    </tr>\n  </thead>\n  <tbody>\n    <tr>\n      <th>104168</th>\n      <td>6</td>\n      <td>------------- [---------------] δραχμεισ[ι ---...</td>\n      <td>Att. — stoich. 23/11 — ante 460 a.</td>\n      <td>1701</td>\n      <td>Attica (IG I-III)</td>\n      <td>1700</td>\n      <td>Attica</td>\n      <td>ante 460 a.</td>\n      <td>-460.0</td>\n      <td>-460.0</td>\n      <td>0.0</td>\n    </tr>\n  </tbody>\n</table>\n</div>"
     },
     "execution_count": 23,
     "metadata": {},
     "output_type": "execute_result"
    }
   ],
   "source": [
    "# \"ante quem\"\n",
    "iphi[iphi[\"id\"]==6]"
   ],
   "metadata": {
    "collapsed": false,
    "pycharm": {
     "name": "#%%\n"
    }
   }
  },
  {
   "cell_type": "code",
   "execution_count": 32,
   "outputs": [
    {
     "data": {
      "text/plain": "        id                                               text  \\\n131078   1  εδοχσεν τοι δεμοι τ[ος ε σ]αλαμ[ινι κλεροχ]ος ...   \n\n                                                 metadata  region_main_id  \\\n131078  Att. — Ath.: Akr. — stoich. 35 — c. 510-500 a....            1701   \n\n              region_main  region_sub_id region_sub         date_str  \\\n131078  Attica (IG I-III)           1700     Attica   c. 510-500 a.    \n\n        date_min  date_max  date_circa  \n131078    -510.0    -500.0         0.0  ",
      "text/html": "<div>\n<style scoped>\n    .dataframe tbody tr th:only-of-type {\n        vertical-align: middle;\n    }\n\n    .dataframe tbody tr th {\n        vertical-align: top;\n    }\n\n    .dataframe thead th {\n        text-align: right;\n    }\n</style>\n<table border=\"1\" class=\"dataframe\">\n  <thead>\n    <tr style=\"text-align: right;\">\n      <th></th>\n      <th>id</th>\n      <th>text</th>\n      <th>metadata</th>\n      <th>region_main_id</th>\n      <th>region_main</th>\n      <th>region_sub_id</th>\n      <th>region_sub</th>\n      <th>date_str</th>\n      <th>date_min</th>\n      <th>date_max</th>\n      <th>date_circa</th>\n    </tr>\n  </thead>\n  <tbody>\n    <tr>\n      <th>131078</th>\n      <td>1</td>\n      <td>εδοχσεν τοι δεμοι τ[ος ε σ]αλαμ[ινι κλεροχ]ος ...</td>\n      <td>Att. — Ath.: Akr. — stoich. 35 — c. 510-500 a....</td>\n      <td>1701</td>\n      <td>Attica (IG I-III)</td>\n      <td>1700</td>\n      <td>Attica</td>\n      <td>c. 510-500 a.</td>\n      <td>-510.0</td>\n      <td>-500.0</td>\n      <td>0.0</td>\n    </tr>\n  </tbody>\n</table>\n</div>"
     },
     "execution_count": 32,
     "metadata": {},
     "output_type": "execute_result"
    }
   ],
   "source": [
    "# \"circa example\"\n",
    "iphi[iphi[\"id\"]==1]"
   ],
   "metadata": {
    "collapsed": false,
    "pycharm": {
     "name": "#%%\n"
    }
   }
  },
  {
   "cell_type": "code",
   "execution_count": 29,
   "outputs": [
    {
     "data": {
      "text/plain": "15737                                      Θεο-\\nπόμ-\\nπου.\n16450                        ℎαισκλαπιεῖ μ̣’ [ἀνέθεˉκε — —]\n47409                       βασιλικός. {²nonnulla exempla}²\n61690                              Τρυφέρα\\nΝίκωνος\\nχαῖρε.\n65886     ὅρος θηκαί-\\nων Ἀθανα-\\nϊστᾶν τῶν\\nσὺν Δ̣ρά̣κ̣...\n66124     [— — — — — — — — — — — — — — — — θυέτω ὁ]\\n[ἱ]...\n76522                                    Μαλκοίδων\\nἭρωνος.\n109842     εὐψύχι\\nἈλέξανδρε·\\nοὐδε<ὶ>ς {⁴οὐδες}⁴ ἀθάνατος.\n181106    [Φ]ιλέταιρος Εὐμένου\\nΠεργαμεὺς Μούσαις.\\n\\nΚ̣...\n199293                        [— — —]ο̣ς ἀν[έθηκε Δάματρι].\nName: data, dtype: object"
     },
     "execution_count": 29,
     "metadata": {},
     "output_type": "execute_result"
    }
   ],
   "source": [
    "PHI[PHI[\"PHI_ID\"].isin(iphi[\"id\"][:10])][\"data\"]\n"
   ],
   "metadata": {
    "collapsed": false,
    "pycharm": {
     "name": "#%%\n"
    }
   }
  },
  {
   "cell_type": "code",
   "execution_count": 39,
   "outputs": [
    {
     "data": {
      "text/plain": "0                                           θεοπομπου.\n1    [φ]ιλεταιρος ευμενου περγαμευς μουσαις. καφισι...\n2                                    μαλκοιδων ηρωνος.\n3                                           βασιλικος.\n4                    ευψυχι αλεξανδρε ουδεις αθανατος.\nName: text, dtype: object"
     },
     "execution_count": 39,
     "metadata": {},
     "output_type": "execute_result"
    }
   ],
   "source": [
    "PHI[PHI[\"PHI_ID\"].isin(iphi[\"id\"][:10])][\"clean_text_pythia\"]\n"
   ],
   "metadata": {
    "collapsed": false,
    "pycharm": {
     "name": "#%%\n"
    }
   }
  },
  {
   "cell_type": "code",
   "execution_count": 40,
   "outputs": [
    {
     "data": {
      "text/plain": "                                                      URL           Book  \\\n25      /text/26?location=1701&patt=&bookid=4&offset=2...          IG I³   \n150     /text/151?location=1701&patt=&bookid=4&offset=...          IG I³   \n196     /text/197?location=1701&patt=&bookid=4&offset=...          IG I³   \n218     /text/219?location=1701&patt=&bookid=4&offset=...          IG I³   \n357     /text/358?location=1701&patt=&bookid=4&offset=...          IG I³   \n...                                                   ...            ...   \n218045  /text/353674?location=1682&patt=&bookid=884&of...  IK Strat. III   \n218048  /text/353677?location=1682&patt=&bookid=884&of...  IK Strat. III   \n218054  /text/353683?location=1682&patt=&bookid=884&bo...  IK Strat. III   \n218116  /text/353745?location=1682&patt=&bookid=884&of...  IK Strat. III   \n218161  /text/353790?location=1682&patt=&bookid=884&bo...  IK Strat. III   \n\n                       Text                         hdr1  \\\n25                       26   Regions\\nAttica (IG I-III)   \n150                     148   Regions\\nAttica (IG I-III)   \n196                     190   Regions\\nAttica (IG I-III)   \n218                     213   Regions\\nAttica (IG I-III)   \n357                     347   Regions\\nAttica (IG I-III)   \n...                     ...                          ...   \n218045                 1483  Regions\\nAsia Minor\\nCaria    \n218048                1486A  Regions\\nAsia Minor\\nCaria    \n218054               1487Ae  Regions\\nAsia Minor\\nCaria    \n218116                 1546  Regions\\nAsia Minor\\nCaria    \n218161  Add. et Corr. 1224a  Regions\\nAsia Minor\\nCaria    \n\n                                      hdr2  \\\n25                               IG I³\\n26   \n150                             IG I³\\n148   \n196                             IG I³\\n190   \n218                             IG I³\\n213   \n357                             IG I³\\n347   \n...                                    ...   \n218045                 IK Strat. III\\n1483   \n218048                IK Strat. III\\n1486A   \n218054               IK Strat. III\\n1487Ae   \n218116                 IK Strat. III\\n1546   \n218161  IK Strat. III\\nAdd. et Corr. 1224a   \n\n                                                tildeinfo  \\\n25                                       Att. — c. 450 a.   \n150                          Att. — non-stoich. — s. V a.   \n196                                        Att. — s. V a.   \n218                             IG I³ 157+213, Add. p.950   \n357                            Att. — stoich. — 430/29 a.   \n...                                                   ...   \n218045  Caria — Lagina — undated — EA 29 (1997) 104, 3...   \n218048  Caria — Lagina — undated — EA 34 (2002) 15, 34...   \n218054  Caria — Lagina — undated — EA 29 (1997) 99, 18...   \n218116  Caria — Stratonikeia — Roman period — EA 34 (2...   \n218161  Caria — Stratonikeia — Roman period — IK Strat...   \n\n                                                     note  lines metadata  \\\n25                                                             3    1\\n\\n   \n150                                                            4  \\n1\\n\\n   \n196                                                            3    1\\n\\n   \n218                                                            1        1   \n357                                                            1        1   \n...                                                   ...    ...      ...   \n218045                        Fragment.  Marble fragment.      2      1\\n   \n218048                           Graffito.  Marble block.      2      1\\n   \n218054  Topos inscription of Aktation (or Aktaion?).  ...      2      1\\n   \n218116        Altar of Eirene.  Large round marble altar.      2      1\\n   \n218161  Epitaph of Aelius (?) Florentinus.  Marble ped...      2      2\\n   \n\n                                                     data  ...  \\\n25             — — — ρχ — — —\\n— — — συ — — —\\nvacat 0.03  ...   \n150     in cymatio super anaglyphum (1):\\n— —οκλε͂ς Φι...  ...   \n196     supra aetoma: [Εὐ]ρυτ̣ίμ̣ο ἐγρα̣[μ]μά̣τε[υε].\\...  ...   \n218                   {²See IG I(3).157+213, Add. p.950}²  ...   \n357                             fere 20 vv. valde detriti  ...   \n...                                                   ...  ...   \n218045                            [— — — —]․ΕΝΤΩ[— — —]\\n  ...   \n218048                                           Βίτων.\\n  ...   \n218054                         Ἀκτατίων {²⁷Ἀκταίων?}²⁷.\\n  ...   \n218116                                         Εἰρήνης.\\n  ...   \n218161  Aẹḷ(ium?) Florentinum, opt(ionem)\\nvexillati...  ...   \n\n                                                lem_sents  \\\n25                                             [[ρχ, σύ]]   \n150     [[cymatio, super, anaglyphum], [οκλες, φι, pro...   \n196     [[supra, aetoma], [εὐρυτίμο, γραμματεύω], [aet...   \n218                                                    []   \n357                            [[fere], [valde, detriti]]   \n...                                                   ...   \n218045                                           [[εντω]]   \n218048                                          [[βίτων]]   \n218054                              [[ἀκτατίων, ἀκταῖος]]   \n218116                                         [[εἰρήνη]]   \n218161  [[aelium, florentinum, optionem, vexillationis...   \n\n                                                  lemmata  \\\n25                                               [ρχ, σύ]   \n150     [cymatio, super, anaglyphum, οκλες, φι, prope,...   \n196     [supra, aetoma, εὐρυτίμο, γραμματεύω, aetoma, ...   \n218                                                    []   \n357                                [fere, valde, detriti]   \n...                                                   ...   \n218045                                             [εντω]   \n218048                                            [βίτων]   \n218054                                [ἀκτατίων, ἀκταῖος]   \n218116                                           [εἰρήνη]   \n218161  [aelium, florentinum, optionem, vexillationis,...   \n\n                         raw_date  \\\n25                      c. 450 a.   \n150                       s. V a.   \n196                       s. V a.   \n218     IG I³ 157+213, Add. p.950   \n357                     430/29 a.   \n...                           ...   \n218045              SEG 47.1600,7   \n218048               SEG 52.1095A   \n218054             SEG 47.1592A,5   \n218116              Roman period    \n218161              Roman period    \n\n                                              dating_dict not_before  \\\n25      {'or': None, 'not_before': -455, 'not_after': ...     -455.0   \n150     {'or': None, 'not_before': -500, 'not_after': ...     -500.0   \n196     {'or': None, 'not_before': -500, 'not_after': ...     -500.0   \n218     {'or': None, 'not_before': None, 'not_after': ...        NaN   \n357     {'or': None, 'not_before': -430, 'not_after': ...     -430.0   \n...                                                   ...        ...   \n218045  {'or': None, 'not_before': None, 'not_after': ...        NaN   \n218048  {'or': None, 'not_before': None, 'not_after': ...        NaN   \n218054  {'or': None, 'not_before': None, 'not_after': ...        NaN   \n218116  {'or': None, 'source': None, 'notes': None, 'l...     -146.0   \n218161  {'or': None, 'source': None, 'notes': None, 'l...     -146.0   \n\n       not_after    or           date_tags  certainty  link  \n25        -445.0  None  [exact, phase, ca]       None  None  \n150       -401.0  None       [range, cent]       None  None  \n196       -401.0  None       [range, cent]       None  None  \n218          NaN  None           [unknown]       None  None  \n357       -429.0  None             [range]       None  None  \n...          ...   ...                 ...        ...   ...  \n218045       NaN  None           [unknown]       None  None  \n218048       NaN  None           [unknown]       None  None  \n218054       NaN  None           [unknown]       None  None  \n218116     324.0  None     [range, period]       None  None  \n218161     324.0  None     [range, period]       None  None  \n\n[39615 rows x 29 columns]",
      "text/html": "<div>\n<style scoped>\n    .dataframe tbody tr th:only-of-type {\n        vertical-align: middle;\n    }\n\n    .dataframe tbody tr th {\n        vertical-align: top;\n    }\n\n    .dataframe thead th {\n        text-align: right;\n    }\n</style>\n<table border=\"1\" class=\"dataframe\">\n  <thead>\n    <tr style=\"text-align: right;\">\n      <th></th>\n      <th>URL</th>\n      <th>Book</th>\n      <th>Text</th>\n      <th>hdr1</th>\n      <th>hdr2</th>\n      <th>tildeinfo</th>\n      <th>note</th>\n      <th>lines</th>\n      <th>metadata</th>\n      <th>data</th>\n      <th>...</th>\n      <th>lem_sents</th>\n      <th>lemmata</th>\n      <th>raw_date</th>\n      <th>dating_dict</th>\n      <th>not_before</th>\n      <th>not_after</th>\n      <th>or</th>\n      <th>date_tags</th>\n      <th>certainty</th>\n      <th>link</th>\n    </tr>\n  </thead>\n  <tbody>\n    <tr>\n      <th>25</th>\n      <td>/text/26?location=1701&amp;patt=&amp;bookid=4&amp;offset=2...</td>\n      <td>IG I³</td>\n      <td>26</td>\n      <td>Regions\\nAttica (IG I-III)</td>\n      <td>IG I³\\n26</td>\n      <td>Att. — c. 450 a.</td>\n      <td></td>\n      <td>3</td>\n      <td>1\\n\\n</td>\n      <td>— — — ρχ — — —\\n— — — συ — — —\\nvacat 0.03</td>\n      <td>...</td>\n      <td>[[ρχ, σύ]]</td>\n      <td>[ρχ, σύ]</td>\n      <td>c. 450 a.</td>\n      <td>{'or': None, 'not_before': -455, 'not_after': ...</td>\n      <td>-455.0</td>\n      <td>-445.0</td>\n      <td>None</td>\n      <td>[exact, phase, ca]</td>\n      <td>None</td>\n      <td>None</td>\n    </tr>\n    <tr>\n      <th>150</th>\n      <td>/text/151?location=1701&amp;patt=&amp;bookid=4&amp;offset=...</td>\n      <td>IG I³</td>\n      <td>148</td>\n      <td>Regions\\nAttica (IG I-III)</td>\n      <td>IG I³\\n148</td>\n      <td>Att. — non-stoich. — s. V a.</td>\n      <td></td>\n      <td>4</td>\n      <td>\\n1\\n\\n</td>\n      <td>in cymatio super anaglyphum (1):\\n— —οκλε͂ς Φι...</td>\n      <td>...</td>\n      <td>[[cymatio, super, anaglyphum], [οκλες, φι, pro...</td>\n      <td>[cymatio, super, anaglyphum, οκλες, φι, prope,...</td>\n      <td>s. V a.</td>\n      <td>{'or': None, 'not_before': -500, 'not_after': ...</td>\n      <td>-500.0</td>\n      <td>-401.0</td>\n      <td>None</td>\n      <td>[range, cent]</td>\n      <td>None</td>\n      <td>None</td>\n    </tr>\n    <tr>\n      <th>196</th>\n      <td>/text/197?location=1701&amp;patt=&amp;bookid=4&amp;offset=...</td>\n      <td>IG I³</td>\n      <td>190</td>\n      <td>Regions\\nAttica (IG I-III)</td>\n      <td>IG I³\\n190</td>\n      <td>Att. — s. V a.</td>\n      <td></td>\n      <td>3</td>\n      <td>1\\n\\n</td>\n      <td>supra aetoma: [Εὐ]ρυτ̣ίμ̣ο ἐγρα̣[μ]μά̣τε[υε].\\...</td>\n      <td>...</td>\n      <td>[[supra, aetoma], [εὐρυτίμο, γραμματεύω], [aet...</td>\n      <td>[supra, aetoma, εὐρυτίμο, γραμματεύω, aetoma, ...</td>\n      <td>s. V a.</td>\n      <td>{'or': None, 'not_before': -500, 'not_after': ...</td>\n      <td>-500.0</td>\n      <td>-401.0</td>\n      <td>None</td>\n      <td>[range, cent]</td>\n      <td>None</td>\n      <td>None</td>\n    </tr>\n    <tr>\n      <th>218</th>\n      <td>/text/219?location=1701&amp;patt=&amp;bookid=4&amp;offset=...</td>\n      <td>IG I³</td>\n      <td>213</td>\n      <td>Regions\\nAttica (IG I-III)</td>\n      <td>IG I³\\n213</td>\n      <td>IG I³ 157+213, Add. p.950</td>\n      <td></td>\n      <td>1</td>\n      <td>1</td>\n      <td>{²See IG I(3).157+213, Add. p.950}²</td>\n      <td>...</td>\n      <td>[]</td>\n      <td>[]</td>\n      <td>IG I³ 157+213, Add. p.950</td>\n      <td>{'or': None, 'not_before': None, 'not_after': ...</td>\n      <td>NaN</td>\n      <td>NaN</td>\n      <td>None</td>\n      <td>[unknown]</td>\n      <td>None</td>\n      <td>None</td>\n    </tr>\n    <tr>\n      <th>357</th>\n      <td>/text/358?location=1701&amp;patt=&amp;bookid=4&amp;offset=...</td>\n      <td>IG I³</td>\n      <td>347</td>\n      <td>Regions\\nAttica (IG I-III)</td>\n      <td>IG I³\\n347</td>\n      <td>Att. — stoich. — 430/29 a.</td>\n      <td></td>\n      <td>1</td>\n      <td>1</td>\n      <td>fere 20 vv. valde detriti</td>\n      <td>...</td>\n      <td>[[fere], [valde, detriti]]</td>\n      <td>[fere, valde, detriti]</td>\n      <td>430/29 a.</td>\n      <td>{'or': None, 'not_before': -430, 'not_after': ...</td>\n      <td>-430.0</td>\n      <td>-429.0</td>\n      <td>None</td>\n      <td>[range]</td>\n      <td>None</td>\n      <td>None</td>\n    </tr>\n    <tr>\n      <th>...</th>\n      <td>...</td>\n      <td>...</td>\n      <td>...</td>\n      <td>...</td>\n      <td>...</td>\n      <td>...</td>\n      <td>...</td>\n      <td>...</td>\n      <td>...</td>\n      <td>...</td>\n      <td>...</td>\n      <td>...</td>\n      <td>...</td>\n      <td>...</td>\n      <td>...</td>\n      <td>...</td>\n      <td>...</td>\n      <td>...</td>\n      <td>...</td>\n      <td>...</td>\n      <td>...</td>\n    </tr>\n    <tr>\n      <th>218045</th>\n      <td>/text/353674?location=1682&amp;patt=&amp;bookid=884&amp;of...</td>\n      <td>IK Strat. III</td>\n      <td>1483</td>\n      <td>Regions\\nAsia Minor\\nCaria</td>\n      <td>IK Strat. III\\n1483</td>\n      <td>Caria — Lagina — undated — EA 29 (1997) 104, 3...</td>\n      <td>Fragment.  Marble fragment.</td>\n      <td>2</td>\n      <td>1\\n</td>\n      <td>[— — — —]․ΕΝΤΩ[— — —]\\n</td>\n      <td>...</td>\n      <td>[[εντω]]</td>\n      <td>[εντω]</td>\n      <td>SEG 47.1600,7</td>\n      <td>{'or': None, 'not_before': None, 'not_after': ...</td>\n      <td>NaN</td>\n      <td>NaN</td>\n      <td>None</td>\n      <td>[unknown]</td>\n      <td>None</td>\n      <td>None</td>\n    </tr>\n    <tr>\n      <th>218048</th>\n      <td>/text/353677?location=1682&amp;patt=&amp;bookid=884&amp;of...</td>\n      <td>IK Strat. III</td>\n      <td>1486A</td>\n      <td>Regions\\nAsia Minor\\nCaria</td>\n      <td>IK Strat. III\\n1486A</td>\n      <td>Caria — Lagina — undated — EA 34 (2002) 15, 34...</td>\n      <td>Graffito.  Marble block.</td>\n      <td>2</td>\n      <td>1\\n</td>\n      <td>Βίτων.\\n</td>\n      <td>...</td>\n      <td>[[βίτων]]</td>\n      <td>[βίτων]</td>\n      <td>SEG 52.1095A</td>\n      <td>{'or': None, 'not_before': None, 'not_after': ...</td>\n      <td>NaN</td>\n      <td>NaN</td>\n      <td>None</td>\n      <td>[unknown]</td>\n      <td>None</td>\n      <td>None</td>\n    </tr>\n    <tr>\n      <th>218054</th>\n      <td>/text/353683?location=1682&amp;patt=&amp;bookid=884&amp;bo...</td>\n      <td>IK Strat. III</td>\n      <td>1487Ae</td>\n      <td>Regions\\nAsia Minor\\nCaria</td>\n      <td>IK Strat. III\\n1487Ae</td>\n      <td>Caria — Lagina — undated — EA 29 (1997) 99, 18...</td>\n      <td>Topos inscription of Aktation (or Aktaion?).  ...</td>\n      <td>2</td>\n      <td>1\\n</td>\n      <td>Ἀκτατίων {²⁷Ἀκταίων?}²⁷.\\n</td>\n      <td>...</td>\n      <td>[[ἀκτατίων, ἀκταῖος]]</td>\n      <td>[ἀκτατίων, ἀκταῖος]</td>\n      <td>SEG 47.1592A,5</td>\n      <td>{'or': None, 'not_before': None, 'not_after': ...</td>\n      <td>NaN</td>\n      <td>NaN</td>\n      <td>None</td>\n      <td>[unknown]</td>\n      <td>None</td>\n      <td>None</td>\n    </tr>\n    <tr>\n      <th>218116</th>\n      <td>/text/353745?location=1682&amp;patt=&amp;bookid=884&amp;of...</td>\n      <td>IK Strat. III</td>\n      <td>1546</td>\n      <td>Regions\\nAsia Minor\\nCaria</td>\n      <td>IK Strat. III\\n1546</td>\n      <td>Caria — Stratonikeia — Roman period — EA 34 (2...</td>\n      <td>Altar of Eirene.  Large round marble altar.</td>\n      <td>2</td>\n      <td>1\\n</td>\n      <td>Εἰρήνης.\\n</td>\n      <td>...</td>\n      <td>[[εἰρήνη]]</td>\n      <td>[εἰρήνη]</td>\n      <td>Roman period</td>\n      <td>{'or': None, 'source': None, 'notes': None, 'l...</td>\n      <td>-146.0</td>\n      <td>324.0</td>\n      <td>None</td>\n      <td>[range, period]</td>\n      <td>None</td>\n      <td>None</td>\n    </tr>\n    <tr>\n      <th>218161</th>\n      <td>/text/353790?location=1682&amp;patt=&amp;bookid=884&amp;bo...</td>\n      <td>IK Strat. III</td>\n      <td>Add. et Corr. 1224a</td>\n      <td>Regions\\nAsia Minor\\nCaria</td>\n      <td>IK Strat. III\\nAdd. et Corr. 1224a</td>\n      <td>Caria — Stratonikeia — Roman period — IK Strat...</td>\n      <td>Epitaph of Aelius (?) Florentinus.  Marble ped...</td>\n      <td>2</td>\n      <td>2\\n</td>\n      <td>Aẹḷ(ium?) Florentinum, opt(ionem)\\nvexillati...</td>\n      <td>...</td>\n      <td>[[aelium, florentinum, optionem, vexillationis...</td>\n      <td>[aelium, florentinum, optionem, vexillationis,...</td>\n      <td>Roman period</td>\n      <td>{'or': None, 'source': None, 'notes': None, 'l...</td>\n      <td>-146.0</td>\n      <td>324.0</td>\n      <td>None</td>\n      <td>[range, period]</td>\n      <td>None</td>\n      <td>None</td>\n    </tr>\n  </tbody>\n</table>\n<p>39615 rows × 29 columns</p>\n</div>"
     },
     "execution_count": 40,
     "metadata": {},
     "output_type": "execute_result"
    }
   ],
   "source": [
    "iphi[\"text\"].head(5)"
   ],
   "metadata": {
    "collapsed": false,
    "pycharm": {
     "name": "#%%\n"
    }
   }
  },
  {
   "cell_type": "code",
   "execution_count": 42,
   "outputs": [
    {
     "data": {
      "text/plain": "0         Att. — Ath.: Akr. — stoich. 35 — c. 510-500 a....\n1                            Att. — non-stoich. — c. 500 a.\n2                            Att. — stoich. 21 — 490-480 a.\n3                              Att. — stoich. 38 — 485/4 a.\n4                                          Att. — c. 500 a.\n                                ...                        \n218157    Caria — Lagina — Rom. Imp. period? — IK Strato...\n218158    Caria — Lagina — Rom. Imp. period? — IK Strato...\n218159    Caria — Stratonikeia — Yeşilbağcılar — Helleni...\n218160    Caria — Stratonikeia — 276 BC — IK Stratonikei...\n218161    Caria — Stratonikeia — Roman period — IK Strat...\nName: tildeinfo, Length: 218162, dtype: object"
     },
     "execution_count": 42,
     "metadata": {},
     "output_type": "execute_result"
    }
   ],
   "source": [
    "PHI[~PHI[\"PHI_ID\"].isin(iphi[\"id\"])]"
   ],
   "metadata": {
    "collapsed": false,
    "pycharm": {
     "name": "#%%\n"
    }
   }
  },
  {
   "cell_type": "code",
   "execution_count": null,
   "outputs": [],
   "source": [
    "PHI[\"tildeinfo\"]"
   ],
   "metadata": {
    "collapsed": false,
    "pycharm": {
     "name": "#%%\n"
    }
   }
  },
  {
   "cell_type": "code",
   "execution_count": null,
   "outputs": [],
   "source": [],
   "metadata": {
    "collapsed": false,
    "pycharm": {
     "name": "#%%\n"
    }
   }
  },
  {
   "cell_type": "code",
   "execution_count": null,
   "outputs": [],
   "source": [],
   "metadata": {
    "collapsed": false,
    "pycharm": {
     "name": "#%%\n"
    }
   }
  },
  {
   "cell_type": "code",
   "execution_count": 43,
   "outputs": [
    {
     "name": "stdout",
     "output_type": "stream",
     "text": [
      "hellp\n"
     ]
    }
   ],
   "source": [],
   "metadata": {
    "collapsed": false,
    "pycharm": {
     "name": "#%%\n"
    }
   }
  },
  {
   "cell_type": "code",
   "execution_count": null,
   "outputs": [],
   "source": [],
   "metadata": {
    "collapsed": false,
    "pycharm": {
     "name": "#%%\n"
    }
   }
  }
 ],
 "metadata": {
  "kernelspec": {
   "display_name": "Python 3",
   "language": "python",
   "name": "python3"
  },
  "language_info": {
   "codemirror_mode": {
    "name": "ipython",
    "version": 2
   },
   "file_extension": ".py",
   "mimetype": "text/x-python",
   "name": "python",
   "nbconvert_exporter": "python",
   "pygments_lexer": "ipython2",
   "version": "2.7.6"
  }
 },
 "nbformat": 4,
 "nbformat_minor": 0
}