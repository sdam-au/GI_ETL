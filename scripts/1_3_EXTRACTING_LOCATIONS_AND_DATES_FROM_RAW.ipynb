{
  "nbformat": 4,
  "nbformat_minor": 0,
  "metadata": {
    "colab": {
      "name": "1_3_EXTRACTING-LOCATIONS-AND-DATES-FROM-RAW.ipynb",
      "provenance": [],
      "authorship_tag": "ABX9TyPeh89cR1TiHmu92hed2QGM",
      "include_colab_link": true
    },
    "kernelspec": {
      "name": "python3",
      "display_name": "Python 3"
    }
  },
  "cells": [
    {
      "cell_type": "markdown",
      "metadata": {
        "id": "view-in-github",
        "colab_type": "text"
      },
      "source": [
        "<a href=\"https://colab.research.google.com/github/sdam-au/PHI_ETL/blob/master/scripts/1_3_EXTRACTING_LOCATIONS_AND_DATES_FROM_RAW.ipynb\" target=\"_parent\"><img src=\"https://colab.research.google.com/assets/colab-badge.svg\" alt=\"Open In Colab\"/></a>"
      ]
    },
    {
      "cell_type": "code",
      "metadata": {
        "id": "JcNeUMCflzF8",
        "colab_type": "code",
        "colab": {}
      },
      "source": [
        "import numpy as np\n",
        "import math\n",
        "import pandas as pd\n",
        "\n",
        "import sys\n",
        "### we do a lot of requests during the scrapping. Some of them with requests package, some of them with urllib\n",
        "import requests\n",
        "from urllib.request import urlopen \n",
        "from urllib.parse import quote  \n",
        "from bs4 import BeautifulSoup\n",
        "import xml.etree.cElementTree as ET\n",
        "\n",
        "import zipfile\n",
        "import io\n",
        "\n",
        "# to avoid errors, we sometime use time.sleep(N) before retrying a request\n",
        "import time\n",
        "# the input data have typically a json structure\n",
        "import json\n",
        "import getpass\n",
        "\n",
        "import datetime as dt\n",
        "# for simple paralel computing:\n",
        "from concurrent.futures import ThreadPoolExecutor\n",
        "\n",
        "import gspread\n",
        "from gspread_dataframe import get_as_dataframe, set_with_dataframe"
      ],
      "execution_count": 0,
      "outputs": []
    },
    {
      "cell_type": "code",
      "metadata": {
        "id": "YnxNQl_rN1WU",
        "colab_type": "code",
        "outputId": "eba2b421-2512-4a71-f1b5-97d945dae744",
        "colab": {
          "base_uri": "https://localhost:8080/",
          "height": 340
        }
      },
      "source": [
        "!pip install sddk\n",
        "import sddk"
      ],
      "execution_count": 2,
      "outputs": [
        {
          "output_type": "stream",
          "text": [
            "Collecting sddk\n",
            "  Downloading https://files.pythonhosted.org/packages/bf/96/3ae43f2d8ac06fc16ba111916970e5a1f3b96a3e41732fa3f099e2e5cd1c/sddk-2.6-py3-none-any.whl\n",
            "Requirement already satisfied: numpy in /usr/local/lib/python3.6/dist-packages (from sddk) (1.18.4)\n",
            "Requirement already satisfied: requests in /usr/local/lib/python3.6/dist-packages (from sddk) (2.23.0)\n",
            "Requirement already satisfied: pandas in /usr/local/lib/python3.6/dist-packages (from sddk) (1.0.3)\n",
            "Requirement already satisfied: matplotlib in /usr/local/lib/python3.6/dist-packages (from sddk) (3.2.1)\n",
            "Requirement already satisfied: pyarrow in /usr/local/lib/python3.6/dist-packages (from sddk) (0.14.1)\n",
            "Requirement already satisfied: urllib3!=1.25.0,!=1.25.1,<1.26,>=1.21.1 in /usr/local/lib/python3.6/dist-packages (from requests->sddk) (1.24.3)\n",
            "Requirement already satisfied: idna<3,>=2.5 in /usr/local/lib/python3.6/dist-packages (from requests->sddk) (2.9)\n",
            "Requirement already satisfied: chardet<4,>=3.0.2 in /usr/local/lib/python3.6/dist-packages (from requests->sddk) (3.0.4)\n",
            "Requirement already satisfied: certifi>=2017.4.17 in /usr/local/lib/python3.6/dist-packages (from requests->sddk) (2020.4.5.1)\n",
            "Requirement already satisfied: python-dateutil>=2.6.1 in /usr/local/lib/python3.6/dist-packages (from pandas->sddk) (2.8.1)\n",
            "Requirement already satisfied: pytz>=2017.2 in /usr/local/lib/python3.6/dist-packages (from pandas->sddk) (2018.9)\n",
            "Requirement already satisfied: pyparsing!=2.0.4,!=2.1.2,!=2.1.6,>=2.0.1 in /usr/local/lib/python3.6/dist-packages (from matplotlib->sddk) (2.4.7)\n",
            "Requirement already satisfied: kiwisolver>=1.0.1 in /usr/local/lib/python3.6/dist-packages (from matplotlib->sddk) (1.2.0)\n",
            "Requirement already satisfied: cycler>=0.10 in /usr/local/lib/python3.6/dist-packages (from matplotlib->sddk) (0.10.0)\n",
            "Requirement already satisfied: six>=1.0.0 in /usr/local/lib/python3.6/dist-packages (from pyarrow->sddk) (1.12.0)\n",
            "Installing collected packages: sddk\n",
            "Successfully installed sddk-2.6\n"
          ],
          "name": "stdout"
        }
      ]
    },
    {
      "cell_type": "code",
      "metadata": {
        "id": "MhnThoX5kUKs",
        "colab_type": "code",
        "outputId": "82cc410c-bcd3-48b5-996e-caea3803ba8a",
        "colab": {
          "base_uri": "https://localhost:8080/",
          "height": 85
        }
      },
      "source": [
        "conf = sddk.configure(\"SDAM_root\", \"648597@au.dk\")"
      ],
      "execution_count": 3,
      "outputs": [
        {
          "output_type": "stream",
          "text": [
            "sciencedata.dk username (format '123456@au.dk'): 648597@au.dk\n",
            "sciencedata.dk password: ··········\n",
            "connection with shared folder established with you as its owner\n",
            "endpoint variable has been configured to: https://sciencedata.dk/files/SDAM_root/\n"
          ],
          "name": "stdout"
        }
      ]
    },
    {
      "cell_type": "code",
      "metadata": {
        "id": "06TCxflGbtLj",
        "colab_type": "code",
        "colab": {}
      },
      "source": [
        "### authorize google sheets\n",
        "from google.colab import auth\n",
        "auth.authenticate_user()\n",
        "from oauth2client.client import GoogleCredentials\n",
        "gc = gspread.authorize(GoogleCredentials.get_application_default())\n",
        "# establish connection with particular sheet by its url:\n",
        "PHI_overview = gc.open_by_url(\"https://docs.google.com/spreadsheets/d/1zfTw0Hf304maBmrYvaMxRLnv1zfAVFixrtGTTsLCcT4/edit?usp=sharing\")"
      ],
      "execution_count": 0,
      "outputs": []
    },
    {
      "cell_type": "markdown",
      "metadata": {
        "id": "hSbHsFtn3_IA",
        "colab_type": "text"
      },
      "source": [
        "# Read data"
      ]
    },
    {
      "cell_type": "code",
      "metadata": {
        "id": "dV9g_k8d_kZU",
        "colab_type": "code",
        "colab": {}
      },
      "source": [
        "PHI = sddk.read_file(\"SDAM_data/PHI/PHI_raw.json\", \"df\", conf)"
      ],
      "execution_count": 0,
      "outputs": []
    },
    {
      "cell_type": "code",
      "metadata": {
        "id": "ZQX2wP4U4BsY",
        "colab_type": "code",
        "outputId": "7b277eb2-d965-47c2-b2ed-a1b729d1c357",
        "colab": {
          "base_uri": "https://localhost:8080/",
          "height": 459
        }
      },
      "source": [
        "PHI.head(5)"
      ],
      "execution_count": 8,
      "outputs": [
        {
          "output_type": "execute_result",
          "data": {
            "text/html": [
              "<div>\n",
              "<style scoped>\n",
              "    .dataframe tbody tr th:only-of-type {\n",
              "        vertical-align: middle;\n",
              "    }\n",
              "\n",
              "    .dataframe tbody tr th {\n",
              "        vertical-align: top;\n",
              "    }\n",
              "\n",
              "    .dataframe thead th {\n",
              "        text-align: right;\n",
              "    }\n",
              "</style>\n",
              "<table border=\"1\" class=\"dataframe\">\n",
              "  <thead>\n",
              "    <tr style=\"text-align: right;\">\n",
              "      <th></th>\n",
              "      <th>URL</th>\n",
              "      <th>Book</th>\n",
              "      <th>Text</th>\n",
              "      <th>hdr1</th>\n",
              "      <th>hdr2</th>\n",
              "      <th>tildeinfo</th>\n",
              "      <th>note</th>\n",
              "      <th>lines</th>\n",
              "      <th>metadata</th>\n",
              "      <th>data</th>\n",
              "      <th>filename</th>\n",
              "      <th>PHI_ID</th>\n",
              "    </tr>\n",
              "  </thead>\n",
              "  <tbody>\n",
              "    <tr>\n",
              "      <th>0</th>\n",
              "      <td>/text/237443?location=1365&amp;patt=&amp;bookid=411&amp;bo...</td>\n",
              "      <td>CSCA</td>\n",
              "      <td>5 (1972) 169,3</td>\n",
              "      <td>Regions\\nAttica (IG I-III)\\nAttica</td>\n",
              "      <td>CSCA\\n5 (1972) 169,3</td>\n",
              "      <td>Att. — Athens: Akropolis — stoich. 28 — 303/2 BC</td>\n",
              "      <td>None</td>\n",
              "      <td>4</td>\n",
              "      <td>1\\n\\n\\n</td>\n",
              "      <td>ἐπὶ Λε[ωστράτου ἄρχοντος ἐπὶ τῆς Κ]-\\nεκρο[πίδ...</td>\n",
              "      <td>CSCA.csv</td>\n",
              "      <td>237443</td>\n",
              "    </tr>\n",
              "    <tr>\n",
              "      <th>1</th>\n",
              "      <td>/text/237444?location=1365&amp;patt=&amp;bookid=411&amp;bo...</td>\n",
              "      <td>CSCA</td>\n",
              "      <td>5 (1972) 169,4</td>\n",
              "      <td>Regions\\nAttica (IG I-III)\\nAttica</td>\n",
              "      <td>CSCA\\n5 (1972) 169,4</td>\n",
              "      <td>Att. — Athens: EM — stoich. 35 — 306-302 BC</td>\n",
              "      <td>None</td>\n",
              "      <td>15</td>\n",
              "      <td>1\\n\\n\\n\\n5\\n\\n\\n\\n\\n10\\n\\n\\n\\n\\n15</td>\n",
              "      <td>[․]ομε̣[․․․․․․․․․․․․․28․․․․․․․․․․․․․ τῆς]\\nπρυ...</td>\n",
              "      <td>CSCA.csv</td>\n",
              "      <td>237444</td>\n",
              "    </tr>\n",
              "    <tr>\n",
              "      <th>2</th>\n",
              "      <td>/text/237445?location=1365&amp;patt=&amp;bookid=411&amp;bo...</td>\n",
              "      <td>CSCA</td>\n",
              "      <td>5 (1972) 173,5</td>\n",
              "      <td>Regions\\nAttica (IG I-III)\\nAttica</td>\n",
              "      <td>CSCA\\n5 (1972) 173,5</td>\n",
              "      <td>Att. — Athens — non-stoich.</td>\n",
              "      <td>None</td>\n",
              "      <td>16</td>\n",
              "      <td>1\\n\\n\\n\\n5\\n\\n\\n\\n\\n10\\n\\n\\n\\n\\n15\\n</td>\n",
              "      <td>— — — — —υτω․․․․11․․․․․\\n— — — — —ωντωι̣․․․․9․...</td>\n",
              "      <td>CSCA.csv</td>\n",
              "      <td>237445</td>\n",
              "    </tr>\n",
              "    <tr>\n",
              "      <th>3</th>\n",
              "      <td>/text/237446?location=1365&amp;patt=&amp;bookid=411&amp;bo...</td>\n",
              "      <td>CSCA</td>\n",
              "      <td>9 (1976) 9,4</td>\n",
              "      <td>Regions\\nAttica (IG I-III)\\nAttica</td>\n",
              "      <td>CSCA\\n9 (1976) 9,4</td>\n",
              "      <td>Att. — Athens: Eth.Mus. — 4th c. BC — SEG 26.1...</td>\n",
              "      <td>None</td>\n",
              "      <td>2</td>\n",
              "      <td>A.1\\nB.1</td>\n",
              "      <td>ψῆφος ⋮ δημοσία.\\nΔ  ․</td>\n",
              "      <td>CSCA.csv</td>\n",
              "      <td>237446</td>\n",
              "    </tr>\n",
              "    <tr>\n",
              "      <th>4</th>\n",
              "      <td>/text/237447?location=1365&amp;patt=&amp;bookid=411&amp;bo...</td>\n",
              "      <td>CSCA</td>\n",
              "      <td>9 (1976) 11,16</td>\n",
              "      <td>Regions\\nAttica (IG I-III)\\nAttica</td>\n",
              "      <td>CSCA\\n9 (1976) 11,16</td>\n",
              "      <td>Att. — Athens: Eth.Mus. — 4th c. BC — SEG 26.1...</td>\n",
              "      <td>None</td>\n",
              "      <td>2</td>\n",
              "      <td>A.1\\nB.1</td>\n",
              "      <td>ψῆφος ⋮ δημοσία.\\nΓ  Ε</td>\n",
              "      <td>CSCA.csv</td>\n",
              "      <td>237447</td>\n",
              "    </tr>\n",
              "  </tbody>\n",
              "</table>\n",
              "</div>"
            ],
            "text/plain": [
              "                                                 URL  Book  ...  filename  PHI_ID\n",
              "0  /text/237443?location=1365&patt=&bookid=411&bo...  CSCA  ...  CSCA.csv  237443\n",
              "1  /text/237444?location=1365&patt=&bookid=411&bo...  CSCA  ...  CSCA.csv  237444\n",
              "2  /text/237445?location=1365&patt=&bookid=411&bo...  CSCA  ...  CSCA.csv  237445\n",
              "3  /text/237446?location=1365&patt=&bookid=411&bo...  CSCA  ...  CSCA.csv  237446\n",
              "4  /text/237447?location=1365&patt=&bookid=411&bo...  CSCA  ...  CSCA.csv  237447\n",
              "\n",
              "[5 rows x 12 columns]"
            ]
          },
          "metadata": {
            "tags": []
          },
          "execution_count": 8
        }
      ]
    },
    {
      "cell_type": "code",
      "metadata": {
        "id": "LtddH6hLcFiD",
        "colab_type": "code",
        "colab": {}
      },
      "source": [
        "def date_extractor(datation):\n",
        "    ### simple cleaning?\n",
        "    datation = re.sub(\"\\/\\d+\", \"\", datation)\n",
        "    for element in [\"?\"]:\n",
        "        datation = datation.replace(element, \"\")\n",
        "    for element in [\"AD\", \"Rom. Imp.\", \"Byzant\", \"Roman period\", \"Christian\"]:\n",
        "        if element in datation:\n",
        "            for element_cent in [(\"1st\", 1, 100),\n",
        "                            (\"2nd\", 101, 200),\n",
        "                            (\"3rd\", 201, 300),\n",
        "                            (\"4th\", 301, 400),\n",
        "                           ]:\n",
        "                if element_cent[0] in datation:\n",
        "                    dating = [datation, element_cent[1], element_cent[2], None, int(np.average([element_cent[1], element_cent[2]])), \"cent\", \"AD\"]\n",
        "                    break\n",
        "                else:\n",
        "                    try:\n",
        "                        post = re.search('(after\\s|post\\s)(\\d+)', datation, flags=re.IGNORECASE).groups()\n",
        "                        post = int(post[1])\n",
        "                        dating = [datation, post, None, None, None, \"post\", \"AD\"]\n",
        "                    except:\n",
        "                        try:\n",
        "                            date_both = re.search('(\\d+)(\\-)(\\d+)', datation, flags=re.IGNORECASE).groups()\n",
        "                            post = int(date_both[0])\n",
        "                            ante = int(date_both[2])\n",
        "                            dating = [datation, post, ante, None, int(np.average([post, ante])), \"range\", \"AD\"]\n",
        "                        except:\n",
        "                            try:\n",
        "                                date_exact = re.search('\\d+', datation, flags=re.IGNORECASE)\n",
        "                                date_exact = int(date_exact.group(0))\n",
        "                                dating = [datation, None, None, date_exact, date_exact, \"exact\", \"AD\"]\n",
        "                            except:\n",
        "                                dating = [datation, None, None, None, None, \"unprecise\", \"AD\"]\n",
        "                                \n",
        "            break\n",
        "        else:\n",
        "            for element_cent in [(\" V \", -500, -401), \n",
        "                            (\" V/IV \", -500, -301),\n",
        "                            (\" IV \", -400, -301),\n",
        "                            (\" III \", -300, -201),\n",
        "                            (\" II \", -200, -101),\n",
        "                            (\" I \", -100, -1),\n",
        "                            (\"5th\", -500,  -401),\n",
        "                            (\"4th\", -400, -301),\n",
        "                            (\"3rd\", -300, -201),\n",
        "                            (\"2nd\", -200, -101),\n",
        "                            (\"1st\", -100, -1)]:\n",
        "                if element_cent[0] in datation:\n",
        "                    ### if there as an element indicating century\n",
        "                    dating = [datation, element_cent[1], element_cent[2], None, int(np.average([element_cent[1], element_cent[2]])), \"cent\", \"BC\"]\n",
        "                    break\n",
        "                else:\n",
        "                    try:\n",
        "                        ante = re.search('(ante\\s)(\\d+)', datation, flags=re.IGNORECASE).groups()\n",
        "                        ante = int(ante[1]) * -1\n",
        "                        dating =  [datation, None, ante, None, None, \"ante\", \"BC\"]\n",
        "                    except:\n",
        "                        try:\n",
        "                            post = re.search('(post\\s|after\\s)(\\d+)', datation, flags=re.IGNORECASE).groups()\n",
        "                            post = int(post[1]) * -1\n",
        "                            dating = [datation, post, None, None, None, \"post\", \"BC\"]\n",
        "                        except:\n",
        "                            try:\n",
        "                                date_both = re.search('(\\d+)(\\-)(\\d+)', datation, flags=re.IGNORECASE).groups()\n",
        "                                post = int(date_both[0]) * -1 \n",
        "                                ante = int(date_both[2]) * -1\n",
        "                                dating = [datation, post, ante, None, int(np.average([post, ante])), \"range\", \"BC\"]\n",
        "                            except:\n",
        "                                try:\n",
        "                                    date_exact = re.search('\\d+', datation, flags=re.IGNORECASE)\n",
        "                                    date_exact = int(date_exact.group(0)) * -1\n",
        "                                    dating = [datation, None, None, date_exact, date_exact, \"exact\", \"BC\"]\n",
        "                                except:\n",
        "                                        dating = [datation, None, None, None, None, \"string\", \"BC\"]\n",
        "    for reign in [(\"reign of Hadrian\", 117, 138),\n",
        "                  (\"reign of Justinian\", 527, 565),\n",
        "                  (\"reign of Ant. Pius\", 138, 161),\n",
        "                  (\"reign of Augustus\", -27, 19),\n",
        "                  (\"reign of Tiberius\", 14, 37)]:\n",
        "        if reign[0] in datation:\n",
        "            avr = int(np.average([reign[1], reign[2]]))\n",
        "            if avr < 0:\n",
        "                period = \"BC\"\n",
        "            else:\n",
        "                period = \"AD\"\n",
        "            dating = [datation, reign[1], reign[2], None, avr, \"range\", period]\n",
        "            break\n",
        "    return dating "
      ],
      "execution_count": 0,
      "outputs": []
    },
    {
      "cell_type": "code",
      "metadata": {
        "id": "Iz5rh1hFdQZz",
        "colab_type": "code",
        "colab": {}
      },
      "source": [
        ""
      ],
      "execution_count": 0,
      "outputs": []
    }
  ]
}