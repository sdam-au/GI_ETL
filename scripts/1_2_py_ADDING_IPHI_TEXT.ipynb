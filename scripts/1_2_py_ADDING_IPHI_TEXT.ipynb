{
 "cells": [
  {
   "cell_type": "code",
   "execution_count": 2,
   "metadata": {
    "pycharm": {
     "name": "#%%\n"
    }
   },
   "outputs": [],
   "source": [
    "import requests\n",
    "import pandas as pd\n",
    "import numpy as np\n",
    "import sddk\n",
    "import zipfile\n",
    "import io\n",
    "import requests\n",
    "from ithaca.util.alphabet import GreekAlphabet"
   ]
  },
  {
   "cell_type": "code",
   "execution_count": 3,
   "metadata": {
    "pycharm": {
     "name": "#%%\n"
    }
   },
   "outputs": [
    {
     "name": "stdout",
     "output_type": "stream",
     "text": [
      "connection with shared folder established with you as its owner\n",
      "endpoint variable has been configured to: https://sciencedata.dk/files/SDAM_root/\n"
     ]
    }
   ],
   "source": [
    "s = sddk.cloudSession(\"sciencedata.dk\", \"SDAM_root\", \"648597@au.dk\")"
   ]
  },
  {
   "cell_type": "code",
   "execution_count": 4,
   "metadata": {
    "pycharm": {
     "name": "#%%\n"
    }
   },
   "outputs": [],
   "source": [
    "PHI = s.read_file(\"SDAM_data/PHI/PHI_enriched_2020-12-16.json\", \"df\")"
   ]
  },
  {
   "cell_type": "code",
   "execution_count": 5,
   "metadata": {
    "pycharm": {
     "name": "#%%\n"
    }
   },
   "outputs": [],
   "source": [
    "# unfortunately, moving the dataset between Python and R causes that cells in most columns of the dataframe contain a LIST OF VALUES (of length 1) and not the VALUE itself.\n",
    "# if this is the case, uncomment the last two rows to do one simple transformation\n",
    "\n",
    "def lists_to_values(list_or_value):\n",
    "  if isinstance(list_or_value, list):\n",
    "    value = list_or_value[0]\n",
    "  else: \n",
    "    value = list_or_value\n",
    "  if not bool(value): # if is it empty dict or list\n",
    "    value = np.nan\n",
    "  return value\n",
    "for column in PHI.columns:\n",
    "  PHI[column] = PHI.apply(lambda row: lists_to_values(row[column]), axis=1)"
   ]
  },
  {
   "cell_type": "code",
   "execution_count": 6,
   "metadata": {
    "pycharm": {
     "name": "#%%\n"
    }
   },
   "outputs": [
    {
     "data": {
      "text/plain": "                                                 URL   Book Text  \\\n0  /text/1?location=1701&patt=&bookid=4&offset=0&...  IG I³    1   \n1  /text/2?location=1701&patt=&bookid=4&offset=0&...  IG I³    2   \n2  /text/3?location=1701&patt=&bookid=4&offset=0&...  IG I³    3   \n3  /text/4?location=1701&patt=&bookid=4&offset=0&...  IG I³    4   \n4  /text/5?location=1701&patt=&bookid=4&offset=0&...  IG I³    5   \n\n                         hdr1      hdr2  \\\n0  Regions\\nAttica (IG I-III)  IG I³\\n1   \n1  Regions\\nAttica (IG I-III)  IG I³\\n2   \n2  Regions\\nAttica (IG I-III)  IG I³\\n3   \n3  Regions\\nAttica (IG I-III)  IG I³\\n4   \n4  Regions\\nAttica (IG I-III)  IG I³\\n5   \n\n                                           tildeinfo note  lines  \\\n0  Att. — Ath.: Akr. — stoich. 35 — c. 510-500 a....  NaN   12.0   \n1                     Att. — non-stoich. — c. 500 a.  NaN   14.0   \n2                     Att. — stoich. 21 — 490-480 a.  NaN   13.0   \n3                       Att. — stoich. 38 — 485/4 a.  NaN   56.0   \n4                                   Att. — c. 500 a.  NaN    6.0   \n\n                                            metadata  \\\n0                         1\\n\\n\\n\\n5\\n\\n\\n\\n\\n10\\n\\n   \n1                     1\\n\\n\\n\\n5\\n\\n\\n\\n\\n10\\n\\n\\n\\n   \n2                       1\\n\\n\\n\\n5\\n\\n\\n\\n\\n10\\n\\n\\n   \n3  face A.1\\n\\n\\n\\n5\\n\\n\\n\\n\\n10\\n\\n\\n\\n\\n15\\n\\n\\...   \n4                                       1\\n\\n\\n\\n5\\n   \n\n                                                data   filename  PHI_ID  \n0  ἔδοχσεν το͂ι δέμοι· τ̣[ὸς ἐ Σ]αλαμ̣[ῖνι κλερόχ...  IG-I³.csv       1  \n1  [․․8-9․․․]ν̣ βολ — — — — — — — — — —\\n[․6-7․․]...  IG-I³.csv       2  \n2  [․]αρ[․․․․]ι ℎερακλειο[․․5․․]\\n[․]αρ̣ο#⁷[․] τι...  IG-I³.csv       3  \n3  [․․․․․․․․․․․․․․․․․․38․․․․․․․․․․․․․․․․․․]\\n[․․․...  IG-I³.csv       4  \n4  [ἔδοχσε]ν [⋮ τε͂ι βολε͂ι] ⋮ καὶ [τ]ο͂ι δέμοι ⋮...  IG-I³.csv       5  ",
      "text/html": "<div>\n<style scoped>\n    .dataframe tbody tr th:only-of-type {\n        vertical-align: middle;\n    }\n\n    .dataframe tbody tr th {\n        vertical-align: top;\n    }\n\n    .dataframe thead th {\n        text-align: right;\n    }\n</style>\n<table border=\"1\" class=\"dataframe\">\n  <thead>\n    <tr style=\"text-align: right;\">\n      <th></th>\n      <th>URL</th>\n      <th>Book</th>\n      <th>Text</th>\n      <th>hdr1</th>\n      <th>hdr2</th>\n      <th>tildeinfo</th>\n      <th>note</th>\n      <th>lines</th>\n      <th>metadata</th>\n      <th>data</th>\n      <th>filename</th>\n      <th>PHI_ID</th>\n    </tr>\n  </thead>\n  <tbody>\n    <tr>\n      <th>0</th>\n      <td>/text/1?location=1701&amp;patt=&amp;bookid=4&amp;offset=0&amp;...</td>\n      <td>IG I³</td>\n      <td>1</td>\n      <td>Regions\\nAttica (IG I-III)</td>\n      <td>IG I³\\n1</td>\n      <td>Att. — Ath.: Akr. — stoich. 35 — c. 510-500 a....</td>\n      <td>NaN</td>\n      <td>12.0</td>\n      <td>1\\n\\n\\n\\n5\\n\\n\\n\\n\\n10\\n\\n</td>\n      <td>ἔδοχσεν το͂ι δέμοι· τ̣[ὸς ἐ Σ]αλαμ̣[ῖνι κλερόχ...</td>\n      <td>IG-I³.csv</td>\n      <td>1</td>\n    </tr>\n    <tr>\n      <th>1</th>\n      <td>/text/2?location=1701&amp;patt=&amp;bookid=4&amp;offset=0&amp;...</td>\n      <td>IG I³</td>\n      <td>2</td>\n      <td>Regions\\nAttica (IG I-III)</td>\n      <td>IG I³\\n2</td>\n      <td>Att. — non-stoich. — c. 500 a.</td>\n      <td>NaN</td>\n      <td>14.0</td>\n      <td>1\\n\\n\\n\\n5\\n\\n\\n\\n\\n10\\n\\n\\n\\n</td>\n      <td>[․․8-9․․․]ν̣ βολ — — — — — — — — — —\\n[․6-7․․]...</td>\n      <td>IG-I³.csv</td>\n      <td>2</td>\n    </tr>\n    <tr>\n      <th>2</th>\n      <td>/text/3?location=1701&amp;patt=&amp;bookid=4&amp;offset=0&amp;...</td>\n      <td>IG I³</td>\n      <td>3</td>\n      <td>Regions\\nAttica (IG I-III)</td>\n      <td>IG I³\\n3</td>\n      <td>Att. — stoich. 21 — 490-480 a.</td>\n      <td>NaN</td>\n      <td>13.0</td>\n      <td>1\\n\\n\\n\\n5\\n\\n\\n\\n\\n10\\n\\n\\n</td>\n      <td>[․]αρ[․․․․]ι ℎερακλειο[․․5․․]\\n[․]αρ̣ο#⁷[․] τι...</td>\n      <td>IG-I³.csv</td>\n      <td>3</td>\n    </tr>\n    <tr>\n      <th>3</th>\n      <td>/text/4?location=1701&amp;patt=&amp;bookid=4&amp;offset=0&amp;...</td>\n      <td>IG I³</td>\n      <td>4</td>\n      <td>Regions\\nAttica (IG I-III)</td>\n      <td>IG I³\\n4</td>\n      <td>Att. — stoich. 38 — 485/4 a.</td>\n      <td>NaN</td>\n      <td>56.0</td>\n      <td>face A.1\\n\\n\\n\\n5\\n\\n\\n\\n\\n10\\n\\n\\n\\n\\n15\\n\\n\\...</td>\n      <td>[․․․․․․․․․․․․․․․․․․38․․․․․․․․․․․․․․․․․․]\\n[․․․...</td>\n      <td>IG-I³.csv</td>\n      <td>4</td>\n    </tr>\n    <tr>\n      <th>4</th>\n      <td>/text/5?location=1701&amp;patt=&amp;bookid=4&amp;offset=0&amp;...</td>\n      <td>IG I³</td>\n      <td>5</td>\n      <td>Regions\\nAttica (IG I-III)</td>\n      <td>IG I³\\n5</td>\n      <td>Att. — c. 500 a.</td>\n      <td>NaN</td>\n      <td>6.0</td>\n      <td>1\\n\\n\\n\\n5\\n</td>\n      <td>[ἔδοχσε]ν [⋮ τε͂ι βολε͂ι] ⋮ καὶ [τ]ο͂ι δέμοι ⋮...</td>\n      <td>IG-I³.csv</td>\n      <td>5</td>\n    </tr>\n  </tbody>\n</table>\n</div>"
     },
     "execution_count": 6,
     "metadata": {},
     "output_type": "execute_result"
    }
   ],
   "source": [
    "PHI.head(5)"
   ]
  },
  {
   "cell_type": "code",
   "execution_count": 7,
   "metadata": {
    "pycharm": {
     "name": "#%%\n"
    }
   },
   "outputs": [
    {
     "data": {
      "text/plain": "Empty DataFrame\nColumns: [URL, Book, Text, hdr1, hdr2, tildeinfo, note, lines, metadata, data, filename, PHI_ID]\nIndex: []",
      "text/html": "<div>\n<style scoped>\n    .dataframe tbody tr th:only-of-type {\n        vertical-align: middle;\n    }\n\n    .dataframe tbody tr th {\n        vertical-align: top;\n    }\n\n    .dataframe thead th {\n        text-align: right;\n    }\n</style>\n<table border=\"1\" class=\"dataframe\">\n  <thead>\n    <tr style=\"text-align: right;\">\n      <th></th>\n      <th>URL</th>\n      <th>Book</th>\n      <th>Text</th>\n      <th>hdr1</th>\n      <th>hdr2</th>\n      <th>tildeinfo</th>\n      <th>note</th>\n      <th>lines</th>\n      <th>metadata</th>\n      <th>data</th>\n      <th>filename</th>\n      <th>PHI_ID</th>\n    </tr>\n  </thead>\n  <tbody>\n  </tbody>\n</table>\n</div>"
     },
     "execution_count": 7,
     "metadata": {},
     "output_type": "execute_result"
    }
   ],
   "source": [
    "PHI[PHI[\"data\"].apply(lambda x: isinstance(x, dict))]"
   ]
  },
  {
   "cell_type": "code",
   "execution_count": 8,
   "metadata": {
    "pycharm": {
     "name": "#%%\n"
    }
   },
   "outputs": [
    {
     "data": {
      "text/plain": "                                                 URL   Book Text  \\\n0  /text/1?location=1701&patt=&bookid=4&offset=0&...  IG I³    1   \n1  /text/2?location=1701&patt=&bookid=4&offset=0&...  IG I³    2   \n2  /text/3?location=1701&patt=&bookid=4&offset=0&...  IG I³    3   \n3  /text/4?location=1701&patt=&bookid=4&offset=0&...  IG I³    4   \n4  /text/5?location=1701&patt=&bookid=4&offset=0&...  IG I³    5   \n\n                         hdr1      hdr2  \\\n0  Regions\\nAttica (IG I-III)  IG I³\\n1   \n1  Regions\\nAttica (IG I-III)  IG I³\\n2   \n2  Regions\\nAttica (IG I-III)  IG I³\\n3   \n3  Regions\\nAttica (IG I-III)  IG I³\\n4   \n4  Regions\\nAttica (IG I-III)  IG I³\\n5   \n\n                                           tildeinfo note  lines  \\\n0  Att. — Ath.: Akr. — stoich. 35 — c. 510-500 a....  NaN   12.0   \n1                     Att. — non-stoich. — c. 500 a.  NaN   14.0   \n2                     Att. — stoich. 21 — 490-480 a.  NaN   13.0   \n3                       Att. — stoich. 38 — 485/4 a.  NaN   56.0   \n4                                   Att. — c. 500 a.  NaN    6.0   \n\n                                            metadata  \\\n0                         1\\n\\n\\n\\n5\\n\\n\\n\\n\\n10\\n\\n   \n1                     1\\n\\n\\n\\n5\\n\\n\\n\\n\\n10\\n\\n\\n\\n   \n2                       1\\n\\n\\n\\n5\\n\\n\\n\\n\\n10\\n\\n\\n   \n3  face A.1\\n\\n\\n\\n5\\n\\n\\n\\n\\n10\\n\\n\\n\\n\\n15\\n\\n\\...   \n4                                       1\\n\\n\\n\\n5\\n   \n\n                                                data   filename  PHI_ID  \n0  ἔδοχσεν το͂ι δέμοι· τ̣[ὸς ἐ Σ]αλαμ̣[ῖνι κλερόχ...  IG-I³.csv       1  \n1  [․․8-9․․․]ν̣ βολ — — — — — — — — — —\\n[․6-7․․]...  IG-I³.csv       2  \n2  [․]αρ[․․․․]ι ℎερακλειο[․․5․․]\\n[․]αρ̣ο#⁷[․] τι...  IG-I³.csv       3  \n3  [․․․․․․․․․․․․․․․․․․38․․․․․․․․․․․․․․․․․․]\\n[․․․...  IG-I³.csv       4  \n4  [ἔδοχσε]ν [⋮ τε͂ι βολε͂ι] ⋮ καὶ [τ]ο͂ι δέμοι ⋮...  IG-I³.csv       5  ",
      "text/html": "<div>\n<style scoped>\n    .dataframe tbody tr th:only-of-type {\n        vertical-align: middle;\n    }\n\n    .dataframe tbody tr th {\n        vertical-align: top;\n    }\n\n    .dataframe thead th {\n        text-align: right;\n    }\n</style>\n<table border=\"1\" class=\"dataframe\">\n  <thead>\n    <tr style=\"text-align: right;\">\n      <th></th>\n      <th>URL</th>\n      <th>Book</th>\n      <th>Text</th>\n      <th>hdr1</th>\n      <th>hdr2</th>\n      <th>tildeinfo</th>\n      <th>note</th>\n      <th>lines</th>\n      <th>metadata</th>\n      <th>data</th>\n      <th>filename</th>\n      <th>PHI_ID</th>\n    </tr>\n  </thead>\n  <tbody>\n    <tr>\n      <th>0</th>\n      <td>/text/1?location=1701&amp;patt=&amp;bookid=4&amp;offset=0&amp;...</td>\n      <td>IG I³</td>\n      <td>1</td>\n      <td>Regions\\nAttica (IG I-III)</td>\n      <td>IG I³\\n1</td>\n      <td>Att. — Ath.: Akr. — stoich. 35 — c. 510-500 a....</td>\n      <td>NaN</td>\n      <td>12.0</td>\n      <td>1\\n\\n\\n\\n5\\n\\n\\n\\n\\n10\\n\\n</td>\n      <td>ἔδοχσεν το͂ι δέμοι· τ̣[ὸς ἐ Σ]αλαμ̣[ῖνι κλερόχ...</td>\n      <td>IG-I³.csv</td>\n      <td>1</td>\n    </tr>\n    <tr>\n      <th>1</th>\n      <td>/text/2?location=1701&amp;patt=&amp;bookid=4&amp;offset=0&amp;...</td>\n      <td>IG I³</td>\n      <td>2</td>\n      <td>Regions\\nAttica (IG I-III)</td>\n      <td>IG I³\\n2</td>\n      <td>Att. — non-stoich. — c. 500 a.</td>\n      <td>NaN</td>\n      <td>14.0</td>\n      <td>1\\n\\n\\n\\n5\\n\\n\\n\\n\\n10\\n\\n\\n\\n</td>\n      <td>[․․8-9․․․]ν̣ βολ — — — — — — — — — —\\n[․6-7․․]...</td>\n      <td>IG-I³.csv</td>\n      <td>2</td>\n    </tr>\n    <tr>\n      <th>2</th>\n      <td>/text/3?location=1701&amp;patt=&amp;bookid=4&amp;offset=0&amp;...</td>\n      <td>IG I³</td>\n      <td>3</td>\n      <td>Regions\\nAttica (IG I-III)</td>\n      <td>IG I³\\n3</td>\n      <td>Att. — stoich. 21 — 490-480 a.</td>\n      <td>NaN</td>\n      <td>13.0</td>\n      <td>1\\n\\n\\n\\n5\\n\\n\\n\\n\\n10\\n\\n\\n</td>\n      <td>[․]αρ[․․․․]ι ℎερακλειο[․․5․․]\\n[․]αρ̣ο#⁷[․] τι...</td>\n      <td>IG-I³.csv</td>\n      <td>3</td>\n    </tr>\n    <tr>\n      <th>3</th>\n      <td>/text/4?location=1701&amp;patt=&amp;bookid=4&amp;offset=0&amp;...</td>\n      <td>IG I³</td>\n      <td>4</td>\n      <td>Regions\\nAttica (IG I-III)</td>\n      <td>IG I³\\n4</td>\n      <td>Att. — stoich. 38 — 485/4 a.</td>\n      <td>NaN</td>\n      <td>56.0</td>\n      <td>face A.1\\n\\n\\n\\n5\\n\\n\\n\\n\\n10\\n\\n\\n\\n\\n15\\n\\n\\...</td>\n      <td>[․․․․․․․․․․․․․․․․․․38․․․․․․․․․․․․․․․․․․]\\n[․․․...</td>\n      <td>IG-I³.csv</td>\n      <td>4</td>\n    </tr>\n    <tr>\n      <th>4</th>\n      <td>/text/5?location=1701&amp;patt=&amp;bookid=4&amp;offset=0&amp;...</td>\n      <td>IG I³</td>\n      <td>5</td>\n      <td>Regions\\nAttica (IG I-III)</td>\n      <td>IG I³\\n5</td>\n      <td>Att. — c. 500 a.</td>\n      <td>NaN</td>\n      <td>6.0</td>\n      <td>1\\n\\n\\n\\n5\\n</td>\n      <td>[ἔδοχσε]ν [⋮ τε͂ι βολε͂ι] ⋮ καὶ [τ]ο͂ι δέμοι ⋮...</td>\n      <td>IG-I³.csv</td>\n      <td>5</td>\n    </tr>\n  </tbody>\n</table>\n</div>"
     },
     "execution_count": 8,
     "metadata": {},
     "output_type": "execute_result"
    }
   ],
   "source": [
    "def dict_to_empty_str(x):\n",
    "    if isinstance(x, dict):\n",
    "        x = \"\"\n",
    "    return x\n",
    "PHI = PHI.applymap(dict_to_empty_str)\n",
    "PHI.head(5)"
   ]
  },
  {
   "cell_type": "markdown",
   "source": [
    "# iphi"
   ],
   "metadata": {
    "collapsed": false,
    "pycharm": {
     "name": "#%% md\n"
    }
   }
  },
  {
   "cell_type": "code",
   "execution_count": 9,
   "outputs": [
    {
     "data": {
      "text/plain": "178551"
     },
     "execution_count": 9,
     "metadata": {},
     "output_type": "execute_result"
    }
   ],
   "source": [
    "iphi = pd.read_json(\"../data/large_data/iphi.json\")\n",
    "len(iphi)"
   ],
   "metadata": {
    "collapsed": false,
    "pycharm": {
     "name": "#%%\n"
    }
   }
  },
  {
   "cell_type": "code",
   "execution_count": 10,
   "outputs": [
    {
     "data": {
      "text/plain": "218162"
     },
     "execution_count": 10,
     "metadata": {},
     "output_type": "execute_result"
    }
   ],
   "source": [
    "len(PHI)"
   ],
   "metadata": {
    "collapsed": false,
    "pycharm": {
     "name": "#%%\n"
    }
   }
  },
  {
   "cell_type": "code",
   "execution_count": 11,
   "outputs": [],
   "source": [
    "PHI = PHI.merge(iphi.rename(columns={\"id\":\"PHI_ID\"}), on=\"PHI_ID\", how=\"outer\")"
   ],
   "metadata": {
    "collapsed": false,
    "pycharm": {
     "name": "#%%\n"
    }
   }
  },
  {
   "cell_type": "code",
   "execution_count": 12,
   "outputs": [
    {
     "data": {
      "text/plain": "                                                      URL           Book  \\\n0       /text/1?location=1701&patt=&bookid=4&offset=0&...          IG I³   \n1       /text/2?location=1701&patt=&bookid=4&offset=0&...          IG I³   \n2       /text/3?location=1701&patt=&bookid=4&offset=0&...          IG I³   \n3       /text/4?location=1701&patt=&bookid=4&offset=0&...          IG I³   \n4       /text/5?location=1701&patt=&bookid=4&offset=0&...          IG I³   \n...                                                   ...            ...   \n218161  /text/353790?location=1682&patt=&bookid=884&bo...  IK Strat. III   \n218162                                                NaN            NaN   \n218163                                                NaN            NaN   \n218164                                                NaN            NaN   \n218165                                                NaN            NaN   \n\n                       Text                         hdr1  \\\n0                         1   Regions\\nAttica (IG I-III)   \n1                         2   Regions\\nAttica (IG I-III)   \n2                         3   Regions\\nAttica (IG I-III)   \n3                         4   Regions\\nAttica (IG I-III)   \n4                         5   Regions\\nAttica (IG I-III)   \n...                     ...                          ...   \n218161  Add. et Corr. 1224a  Regions\\nAsia Minor\\nCaria    \n218162                  NaN                          NaN   \n218163                  NaN                          NaN   \n218164                  NaN                          NaN   \n218165                  NaN                          NaN   \n\n                                      hdr2  \\\n0                                 IG I³\\n1   \n1                                 IG I³\\n2   \n2                                 IG I³\\n3   \n3                                 IG I³\\n4   \n4                                 IG I³\\n5   \n...                                    ...   \n218161  IK Strat. III\\nAdd. et Corr. 1224a   \n218162                                 NaN   \n218163                                 NaN   \n218164                                 NaN   \n218165                                 NaN   \n\n                                                tildeinfo  \\\n0       Att. — Ath.: Akr. — stoich. 35 — c. 510-500 a....   \n1                          Att. — non-stoich. — c. 500 a.   \n2                          Att. — stoich. 21 — 490-480 a.   \n3                            Att. — stoich. 38 — 485/4 a.   \n4                                        Att. — c. 500 a.   \n...                                                   ...   \n218161  Caria — Stratonikeia — Roman period — IK Strat...   \n218162                                                NaN   \n218163                                                NaN   \n218164                                                NaN   \n218165                                                NaN   \n\n                                                     note  lines  \\\n0                                                     NaN   12.0   \n1                                                     NaN   14.0   \n2                                                     NaN   13.0   \n3                                                     NaN   56.0   \n4                                                     NaN    6.0   \n...                                                   ...    ...   \n218161  Epitaph of Aelius (?) Florentinus.  Marble ped...    2.0   \n218162                                                NaN    NaN   \n218163                                                NaN    NaN   \n218164                                                NaN    NaN   \n218165                                                NaN    NaN   \n\n                                               metadata_x  \\\n0                              1\\n\\n\\n\\n5\\n\\n\\n\\n\\n10\\n\\n   \n1                          1\\n\\n\\n\\n5\\n\\n\\n\\n\\n10\\n\\n\\n\\n   \n2                            1\\n\\n\\n\\n5\\n\\n\\n\\n\\n10\\n\\n\\n   \n3       face A.1\\n\\n\\n\\n5\\n\\n\\n\\n\\n10\\n\\n\\n\\n\\n15\\n\\n\\...   \n4                                            1\\n\\n\\n\\n5\\n   \n...                                                   ...   \n218161                                                2\\n   \n218162                                                NaN   \n218163                                                NaN   \n218164                                                NaN   \n218165                                                NaN   \n\n                                                     data  ...  \\\n0       ἔδοχσεν το͂ι δέμοι· τ̣[ὸς ἐ Σ]αλαμ̣[ῖνι κλερόχ...  ...   \n1       [․․8-9․․․]ν̣ βολ — — — — — — — — — —\\n[․6-7․․]...  ...   \n2       [․]αρ[․․․․]ι ℎερακλειο[․․5․․]\\n[․]αρ̣ο#⁷[․] τι...  ...   \n3       [․․․․․․․․․․․․․․․․․․38․․․․․․․․․․․․․․․․․․]\\n[․․․...  ...   \n4       [ἔδοχσε]ν [⋮ τε͂ι βολε͂ι] ⋮ καὶ [τ]ο͂ι δέμοι ⋮...  ...   \n...                                                   ...  ...   \n218161  Aẹḷ(ium?) Florentinum, opt(ionem)\\nvexillati...  ...   \n218162                                                NaN  ...   \n218163                                                NaN  ...   \n218164                                                NaN  ...   \n218165                                                NaN  ...   \n\n                                                     text  \\\n0       εδοχσεν τοι δεμοι τ[ος ε σ]αλαμ[ινι κλεροχ]ος ...   \n1       [--------]ν βολ ---------- [------] α εκον ---...   \n2       [-]αρ[----]ι ερακλειο[-----] [-]αρο [-] τιθενα...   \n3       [--------------------------------------] [----...   \n4       [εδοχσε]ν [ τει βολει] και [τ]οι δεμοι οτε παρ...   \n...                                                   ...   \n218161                                                NaN   \n218162                            [--- τετικ]μενος ειτου.   \n218163  αυρ. κυριλλα μυρωνος συμβιος αυρ. παπα μενεου ...   \n218164  [α]υρ. τειμοθεος γλυκυτατω συνβιω ιταλικη ανεσ...   \n218165  [ιο]ς νι σεμουν κνουμανε κ[ακουν] αββερετ αινο...   \n\n                                               metadata_y region_main_id  \\\n0       Att. — Ath.: Akr. — stoich. 35 — c. 510-500 a....         1701.0   \n1                          Att. — non-stoich. — c. 500 a.         1701.0   \n2                          Att. — stoich. 21 — 490-480 a.         1701.0   \n3                            Att. — stoich. 38 — 485/4 a.         1701.0   \n4                                        Att. — c. 500 a.         1701.0   \n...                                                   ...            ...   \n218161                                                NaN            NaN   \n218162  Phryg. — Holmoi?, W. of: Inli, Kali Çay — ZVS ...         1702.0   \n218163  Phryg. — Amorion (Hisarköy) — Piribeyli — ZVS ...         1702.0   \n218164  Phryg., E. — Amorion (Hisarköy) — Aşaǧa Piribe...         1702.0   \n218165  Phryg. — Akar Çay Valley: Sülümenli — ZVS 28.1...         1702.0   \n\n              region_main  region_sub_id region_sub         date_str date_min  \\\n0       Attica (IG I-III)         1700.0     Attica   c. 510-500 a.    -510.0   \n1       Attica (IG I-III)         1700.0     Attica        c. 500 a.   -500.0   \n2       Attica (IG I-III)         1700.0     Attica       490-480 a.   -490.0   \n3       Attica (IG I-III)         1700.0     Attica         485/4 a.   -485.0   \n4       Attica (IG I-III)         1700.0     Attica        c. 500 a.   -500.0   \n...                   ...            ...        ...              ...      ...   \n218161                NaN            NaN        NaN              NaN      NaN   \n218162         Asia Minor         1679.0    Phrygia                       NaN   \n218163         Asia Minor         1679.0    Phrygia                       NaN   \n218164         Asia Minor         1679.0    Phrygia       3rd c. AD     201.0   \n218165         Asia Minor         1679.0    Phrygia                       NaN   \n\n       date_max  date_circa  \n0        -500.0         0.0  \n1        -500.0         0.0  \n2        -480.0         0.0  \n3        -484.0         0.0  \n4        -500.0         0.0  \n...         ...         ...  \n218161      NaN         NaN  \n218162      NaN         NaN  \n218163      NaN         NaN  \n218164    300.0         0.0  \n218165      NaN         NaN  \n\n[218166 rows x 22 columns]",
      "text/html": "<div>\n<style scoped>\n    .dataframe tbody tr th:only-of-type {\n        vertical-align: middle;\n    }\n\n    .dataframe tbody tr th {\n        vertical-align: top;\n    }\n\n    .dataframe thead th {\n        text-align: right;\n    }\n</style>\n<table border=\"1\" class=\"dataframe\">\n  <thead>\n    <tr style=\"text-align: right;\">\n      <th></th>\n      <th>URL</th>\n      <th>Book</th>\n      <th>Text</th>\n      <th>hdr1</th>\n      <th>hdr2</th>\n      <th>tildeinfo</th>\n      <th>note</th>\n      <th>lines</th>\n      <th>metadata_x</th>\n      <th>data</th>\n      <th>...</th>\n      <th>text</th>\n      <th>metadata_y</th>\n      <th>region_main_id</th>\n      <th>region_main</th>\n      <th>region_sub_id</th>\n      <th>region_sub</th>\n      <th>date_str</th>\n      <th>date_min</th>\n      <th>date_max</th>\n      <th>date_circa</th>\n    </tr>\n  </thead>\n  <tbody>\n    <tr>\n      <th>0</th>\n      <td>/text/1?location=1701&amp;patt=&amp;bookid=4&amp;offset=0&amp;...</td>\n      <td>IG I³</td>\n      <td>1</td>\n      <td>Regions\\nAttica (IG I-III)</td>\n      <td>IG I³\\n1</td>\n      <td>Att. — Ath.: Akr. — stoich. 35 — c. 510-500 a....</td>\n      <td>NaN</td>\n      <td>12.0</td>\n      <td>1\\n\\n\\n\\n5\\n\\n\\n\\n\\n10\\n\\n</td>\n      <td>ἔδοχσεν το͂ι δέμοι· τ̣[ὸς ἐ Σ]αλαμ̣[ῖνι κλερόχ...</td>\n      <td>...</td>\n      <td>εδοχσεν τοι δεμοι τ[ος ε σ]αλαμ[ινι κλεροχ]ος ...</td>\n      <td>Att. — Ath.: Akr. — stoich. 35 — c. 510-500 a....</td>\n      <td>1701.0</td>\n      <td>Attica (IG I-III)</td>\n      <td>1700.0</td>\n      <td>Attica</td>\n      <td>c. 510-500 a.</td>\n      <td>-510.0</td>\n      <td>-500.0</td>\n      <td>0.0</td>\n    </tr>\n    <tr>\n      <th>1</th>\n      <td>/text/2?location=1701&amp;patt=&amp;bookid=4&amp;offset=0&amp;...</td>\n      <td>IG I³</td>\n      <td>2</td>\n      <td>Regions\\nAttica (IG I-III)</td>\n      <td>IG I³\\n2</td>\n      <td>Att. — non-stoich. — c. 500 a.</td>\n      <td>NaN</td>\n      <td>14.0</td>\n      <td>1\\n\\n\\n\\n5\\n\\n\\n\\n\\n10\\n\\n\\n\\n</td>\n      <td>[․․8-9․․․]ν̣ βολ — — — — — — — — — —\\n[․6-7․․]...</td>\n      <td>...</td>\n      <td>[--------]ν βολ ---------- [------] α εκον ---...</td>\n      <td>Att. — non-stoich. — c. 500 a.</td>\n      <td>1701.0</td>\n      <td>Attica (IG I-III)</td>\n      <td>1700.0</td>\n      <td>Attica</td>\n      <td>c. 500 a.</td>\n      <td>-500.0</td>\n      <td>-500.0</td>\n      <td>0.0</td>\n    </tr>\n    <tr>\n      <th>2</th>\n      <td>/text/3?location=1701&amp;patt=&amp;bookid=4&amp;offset=0&amp;...</td>\n      <td>IG I³</td>\n      <td>3</td>\n      <td>Regions\\nAttica (IG I-III)</td>\n      <td>IG I³\\n3</td>\n      <td>Att. — stoich. 21 — 490-480 a.</td>\n      <td>NaN</td>\n      <td>13.0</td>\n      <td>1\\n\\n\\n\\n5\\n\\n\\n\\n\\n10\\n\\n\\n</td>\n      <td>[․]αρ[․․․․]ι ℎερακλειο[․․5․․]\\n[․]αρ̣ο#⁷[․] τι...</td>\n      <td>...</td>\n      <td>[-]αρ[----]ι ερακλειο[-----] [-]αρο [-] τιθενα...</td>\n      <td>Att. — stoich. 21 — 490-480 a.</td>\n      <td>1701.0</td>\n      <td>Attica (IG I-III)</td>\n      <td>1700.0</td>\n      <td>Attica</td>\n      <td>490-480 a.</td>\n      <td>-490.0</td>\n      <td>-480.0</td>\n      <td>0.0</td>\n    </tr>\n    <tr>\n      <th>3</th>\n      <td>/text/4?location=1701&amp;patt=&amp;bookid=4&amp;offset=0&amp;...</td>\n      <td>IG I³</td>\n      <td>4</td>\n      <td>Regions\\nAttica (IG I-III)</td>\n      <td>IG I³\\n4</td>\n      <td>Att. — stoich. 38 — 485/4 a.</td>\n      <td>NaN</td>\n      <td>56.0</td>\n      <td>face A.1\\n\\n\\n\\n5\\n\\n\\n\\n\\n10\\n\\n\\n\\n\\n15\\n\\n\\...</td>\n      <td>[․․․․․․․․․․․․․․․․․․38․․․․․․․․․․․․․․․․․․]\\n[․․․...</td>\n      <td>...</td>\n      <td>[--------------------------------------] [----...</td>\n      <td>Att. — stoich. 38 — 485/4 a.</td>\n      <td>1701.0</td>\n      <td>Attica (IG I-III)</td>\n      <td>1700.0</td>\n      <td>Attica</td>\n      <td>485/4 a.</td>\n      <td>-485.0</td>\n      <td>-484.0</td>\n      <td>0.0</td>\n    </tr>\n    <tr>\n      <th>4</th>\n      <td>/text/5?location=1701&amp;patt=&amp;bookid=4&amp;offset=0&amp;...</td>\n      <td>IG I³</td>\n      <td>5</td>\n      <td>Regions\\nAttica (IG I-III)</td>\n      <td>IG I³\\n5</td>\n      <td>Att. — c. 500 a.</td>\n      <td>NaN</td>\n      <td>6.0</td>\n      <td>1\\n\\n\\n\\n5\\n</td>\n      <td>[ἔδοχσε]ν [⋮ τε͂ι βολε͂ι] ⋮ καὶ [τ]ο͂ι δέμοι ⋮...</td>\n      <td>...</td>\n      <td>[εδοχσε]ν [ τει βολει] και [τ]οι δεμοι οτε παρ...</td>\n      <td>Att. — c. 500 a.</td>\n      <td>1701.0</td>\n      <td>Attica (IG I-III)</td>\n      <td>1700.0</td>\n      <td>Attica</td>\n      <td>c. 500 a.</td>\n      <td>-500.0</td>\n      <td>-500.0</td>\n      <td>0.0</td>\n    </tr>\n    <tr>\n      <th>...</th>\n      <td>...</td>\n      <td>...</td>\n      <td>...</td>\n      <td>...</td>\n      <td>...</td>\n      <td>...</td>\n      <td>...</td>\n      <td>...</td>\n      <td>...</td>\n      <td>...</td>\n      <td>...</td>\n      <td>...</td>\n      <td>...</td>\n      <td>...</td>\n      <td>...</td>\n      <td>...</td>\n      <td>...</td>\n      <td>...</td>\n      <td>...</td>\n      <td>...</td>\n      <td>...</td>\n    </tr>\n    <tr>\n      <th>218161</th>\n      <td>/text/353790?location=1682&amp;patt=&amp;bookid=884&amp;bo...</td>\n      <td>IK Strat. III</td>\n      <td>Add. et Corr. 1224a</td>\n      <td>Regions\\nAsia Minor\\nCaria</td>\n      <td>IK Strat. III\\nAdd. et Corr. 1224a</td>\n      <td>Caria — Stratonikeia — Roman period — IK Strat...</td>\n      <td>Epitaph of Aelius (?) Florentinus.  Marble ped...</td>\n      <td>2.0</td>\n      <td>2\\n</td>\n      <td>Aẹḷ(ium?) Florentinum, opt(ionem)\\nvexillati...</td>\n      <td>...</td>\n      <td>NaN</td>\n      <td>NaN</td>\n      <td>NaN</td>\n      <td>NaN</td>\n      <td>NaN</td>\n      <td>NaN</td>\n      <td>NaN</td>\n      <td>NaN</td>\n      <td>NaN</td>\n      <td>NaN</td>\n    </tr>\n    <tr>\n      <th>218162</th>\n      <td>NaN</td>\n      <td>NaN</td>\n      <td>NaN</td>\n      <td>NaN</td>\n      <td>NaN</td>\n      <td>NaN</td>\n      <td>NaN</td>\n      <td>NaN</td>\n      <td>NaN</td>\n      <td>NaN</td>\n      <td>...</td>\n      <td>[--- τετικ]μενος ειτου.</td>\n      <td>Phryg. — Holmoi?, W. of: Inli, Kali Çay — ZVS ...</td>\n      <td>1702.0</td>\n      <td>Asia Minor</td>\n      <td>1679.0</td>\n      <td>Phrygia</td>\n      <td></td>\n      <td>NaN</td>\n      <td>NaN</td>\n      <td>NaN</td>\n    </tr>\n    <tr>\n      <th>218163</th>\n      <td>NaN</td>\n      <td>NaN</td>\n      <td>NaN</td>\n      <td>NaN</td>\n      <td>NaN</td>\n      <td>NaN</td>\n      <td>NaN</td>\n      <td>NaN</td>\n      <td>NaN</td>\n      <td>NaN</td>\n      <td>...</td>\n      <td>αυρ. κυριλλα μυρωνος συμβιος αυρ. παπα μενεου ...</td>\n      <td>Phryg. — Amorion (Hisarköy) — Piribeyli — ZVS ...</td>\n      <td>1702.0</td>\n      <td>Asia Minor</td>\n      <td>1679.0</td>\n      <td>Phrygia</td>\n      <td></td>\n      <td>NaN</td>\n      <td>NaN</td>\n      <td>NaN</td>\n    </tr>\n    <tr>\n      <th>218164</th>\n      <td>NaN</td>\n      <td>NaN</td>\n      <td>NaN</td>\n      <td>NaN</td>\n      <td>NaN</td>\n      <td>NaN</td>\n      <td>NaN</td>\n      <td>NaN</td>\n      <td>NaN</td>\n      <td>NaN</td>\n      <td>...</td>\n      <td>[α]υρ. τειμοθεος γλυκυτατω συνβιω ιταλικη ανεσ...</td>\n      <td>Phryg., E. — Amorion (Hisarköy) — Aşaǧa Piribe...</td>\n      <td>1702.0</td>\n      <td>Asia Minor</td>\n      <td>1679.0</td>\n      <td>Phrygia</td>\n      <td>3rd c. AD</td>\n      <td>201.0</td>\n      <td>300.0</td>\n      <td>0.0</td>\n    </tr>\n    <tr>\n      <th>218165</th>\n      <td>NaN</td>\n      <td>NaN</td>\n      <td>NaN</td>\n      <td>NaN</td>\n      <td>NaN</td>\n      <td>NaN</td>\n      <td>NaN</td>\n      <td>NaN</td>\n      <td>NaN</td>\n      <td>NaN</td>\n      <td>...</td>\n      <td>[ιο]ς νι σεμουν κνουμανε κ[ακουν] αββερετ αινο...</td>\n      <td>Phryg. — Akar Çay Valley: Sülümenli — ZVS 28.1...</td>\n      <td>1702.0</td>\n      <td>Asia Minor</td>\n      <td>1679.0</td>\n      <td>Phrygia</td>\n      <td></td>\n      <td>NaN</td>\n      <td>NaN</td>\n      <td>NaN</td>\n    </tr>\n  </tbody>\n</table>\n<p>218166 rows × 22 columns</p>\n</div>"
     },
     "execution_count": 12,
     "metadata": {},
     "output_type": "execute_result"
    }
   ],
   "source": [
    "PHI"
   ],
   "metadata": {
    "collapsed": false,
    "pycharm": {
     "name": "#%%\n"
    }
   }
  },
  {
   "cell_type": "code",
   "execution_count": 14,
   "outputs": [],
   "source": [
    "url = \"https://raw.githubusercontent.com/sommerschield/iphi/main/train/data/iphi_text_clean.py\"\n",
    "exec(requests.get(url).text)"
   ],
   "metadata": {
    "collapsed": false,
    "pycharm": {
     "name": "#%%\n"
    }
   }
  },
  {
   "cell_type": "code",
   "execution_count": 25,
   "outputs": [],
   "source": [
    "import re\n",
    "import unicodedata\n",
    "\n",
    "import nltk\n",
    "\n",
    "try:\n",
    "    nltk.data.find('tokenizers/punkt')\n",
    "except LookupError:\n",
    "    nltk.download('punkt')\n",
    "\n",
    "\n",
    "def strip_accents(s):\n",
    "    '''Strips all accents.'''\n",
    "    return ''.join(c for c in unicodedata.normalize('NFD', s) if\n",
    "                   unicodedata.category(c) != 'Mn')\n",
    "\n",
    "\n",
    "def text_to_sentences(t, alphabet):\n",
    "    '''Tokenizes sentences and removes the empty ones.'''\n",
    "    sentences = []\n",
    "    for s in nltk.tokenize.sent_tokenize(t):\n",
    "        # remove all puntuation from sentence\n",
    "        s = re.sub(r'[%s]+' % ''.join(alphabet.punctuation), ' ', s)\n",
    "\n",
    "        # collapse spaces\n",
    "        s = re.sub(r'\\s+', ' ', s).strip()\n",
    "\n",
    "        # append sentence\n",
    "        if len(s) > 1:\n",
    "            sentences.append(s)\n",
    "    return sentences\n",
    "\n",
    "\n",
    "def text_clean_phi(text_cleaned, alphabet):\n",
    "    '''Converts an inscription text to a machine-actionable format.'''\n",
    "\n",
    "    # Remove lines that start with\n",
    "    text_cleaned = re.sub(r'^(IG|SEG|BCH|Agora|vacat) .*\\n?',\n",
    "                          '', text_cleaned, flags=re.MULTILINE)\n",
    "\n",
    "    # Replace double brackets with single\n",
    "    text_cleaned = text_cleaned.replace('〚', '[').replace('〛', ']')\n",
    "\n",
    "    # Remove everything after vacat\n",
    "    text_cleaned = re.sub(r'vacat .*\\n?', '\\n', text_cleaned, flags=re.MULTILINE)\n",
    "\n",
    "    # Split on :\n",
    "    text_cleaned = re.sub(r' [:∶]+ ', '. ', text_cleaned)\n",
    "\n",
    "    # Join lines ending with -\n",
    "    text_cleaned = re.sub(r'-\\n', r'', text_cleaned)\n",
    "\n",
    "    # Remove Greek numerals with ʹ\n",
    "    text_cleaned = re.sub(r'[\\w∙]+ʹ', r'', text_cleaned)\n",
    "\n",
    "    # Remove Greek numerals\n",
    "    word_boundary = r'([\\s\\.\\⏑\\—\\-\\-\\,⏑․\\[\\]]|$|^)'\n",
    "    greek_numerals = re.escape(\n",
    "        '∶ΠT𐅈𐅃𐅉ϛ𐅀𐅁𐅂Ι𐅃ΔͰΗΧΜΤ𐅄𐅅𐅆𐅇𐅈𐅉𐅊𐅋𐅌𐅍𐅎𐅏𐅏𐅐𐅑��𐅓𐅔𐅕𐅖')\n",
    "    text_cleaned = re.sub(rf'\\[[{greek_numerals}]+\\]', '', text_cleaned)\n",
    "    text_cleaned = re.sub(\n",
    "        rf'{word_boundary}([{greek_numerals}]+){word_boundary}',\n",
    "        lambda m: '%s0%s' % (m.group(1), m.group(3)), text_cleaned)\n",
    "    text_cleaned = re.sub(\n",
    "        rf'{word_boundary}([{greek_numerals}]+){word_boundary}',\n",
    "        lambda m: '%s0%s' % (m.group(1), m.group(3)), text_cleaned)\n",
    "\n",
    "    # Remove extra punctuation\n",
    "    text_cleaned = re.sub(r'(\\s*)[\\∶|\\⋮|\\·|\\⁙|\\;]+(\\s*)', r' ', text_cleaned)\n",
    "\n",
    "    # Remove all (?)\n",
    "    text_cleaned = re.sub(r'\\s*\\(\\?\\)', r'', text_cleaned)\n",
    "\n",
    "    # Remove anything between {}\n",
    "    text_cleaned = re.sub(r'{[^}]*}', r'', text_cleaned)\n",
    "\n",
    "    # Remove < >, but keep content\n",
    "    text_cleaned = re.sub(r'<([^>]*)>', r'\\1', text_cleaned)\n",
    "\n",
    "    # Remove latin numbering within brackets [I]\n",
    "    text_cleaned = re.sub(\n",
    "        r'\\[M{0,4}(CM|CD|D?C{0,3})(XC|XL|L?X{0,3})(IX|IV|V?I{0,3})\\]\\s*$', r'',\n",
    "        text_cleaned)\n",
    "\n",
    "    # Lowercase\n",
    "    text_cleaned = text_cleaned.lower()\n",
    "\n",
    "    # filter alphabet to replace tonos and h\n",
    "    text_cleaned = alphabet.filter(text_cleaned)\n",
    "\n",
    "    # Remove vac, v v. vac vac. vac.? in (), etc\n",
    "    text_cleaned = re.sub(r'(\\d+\\s)?\\s*v[\\w\\.\\?]*(\\s\\d+(\\.\\d+)?)?', '',\n",
    "                          text_cleaned)\n",
    "\n",
    "    # Remove parentheses surrounding greek characters\n",
    "    text_cleaned = re.sub(r'\\(([{}]+)\\)'.format(''.join(alphabet.alphabet)),\n",
    "                          r'\\1', text_cleaned)\n",
    "\n",
    "    # Remove any parentheses that has content that is not within the greek alphabet\n",
    "    text_cleaned = re.sub(r'\\([^\\)]*\\)', r'', text_cleaned)\n",
    "\n",
    "    # Replace c with σ\n",
    "    text_cleaned = text_cleaned.replace('ϲ', 'σ')\n",
    "\n",
    "    # Remove lines with >10% Latin characters\n",
    "    text_cleaned = '\\n'.join([line for line in text_cleaned.splitlines() if len(\n",
    "        line) and len(re.findall(r'[a-z]', line)) / len(line) < 0.1])\n",
    "\n",
    "    # Convert short syllables to long ones\n",
    "    text_cleaned = text_cleaned.replace('⏑', '—')\n",
    "    text_cleaned = text_cleaned.replace('⏕', '—')\n",
    "    text_cleaned = text_cleaned.replace('-', '—')\n",
    "\n",
    "    # Collapse space between dashes (on purpuse double)\n",
    "    text_cleaned = re.sub(r'—(?:[\\s]+—)+',\n",
    "                          lambda g: re.sub(r'[\\s]+', '', g.group(0)),\n",
    "                          text_cleaned, flags=re.MULTILINE)\n",
    "\n",
    "    # Replace dots with dashes and c.#\n",
    "    text_cleaned = re.sub(\n",
    "        r\"(?:\\.|․|—)+\\s?(?:c\\.)?(\\d+)(?:(\\-|-|—)\\d+)?\\s?(?:\\.|․|—)*\",\n",
    "        lambda g: alphabet.missing * int(g.group(1)),\n",
    "        text_cleaned, flags=re.MULTILINE)\n",
    "\n",
    "    # Replace with missing character\n",
    "    text_cleaned = text_cleaned.replace(u'\\u2013', alphabet.missing)\n",
    "    text_cleaned = text_cleaned.replace(u'\\u2014', alphabet.missing)\n",
    "    text_cleaned = text_cleaned.replace('․', alphabet.missing)\n",
    "\n",
    "    # PHI #⁷removed automatically because only gr chars\n",
    "\n",
    "    # Join ][ and []\n",
    "    text_cleaned = text_cleaned.replace('][', '').replace('[]', '')\n",
    "\n",
    "    # Keep only alphabet characters\n",
    "    chars = re.escape(''.join(\n",
    "        alphabet.alphabet + alphabet.numerals + alphabet.punctuation + [\n",
    "            alphabet.space, alphabet.missing, alphabet.sog, alphabet.eog]))\n",
    "    #text_cleaned = re.sub(rf'[^{chars}]', ' ', text_cleaned)\n",
    "\n",
    "    # Replace any digit with 0\n",
    "    text_cleaned = re.sub(r'\\d+', '0', text_cleaned)\n",
    "\n",
    "    # Merge multiple 0\n",
    "    text_cleaned = re.sub(r'(\\s+0)+', r' 0', text_cleaned)\n",
    "\n",
    "    # Remove []\n",
    "    text_cleaned = re.sub(r'\\[\\s*\\]', '', text_cleaned)\n",
    "\n",
    "    # Remove space before punctuation / merge double punctuation\n",
    "    chars = re.escape(''.join(alphabet.punctuation + [alphabet.eog]))\n",
    "    text_cleaned = re.sub(rf'\\s+([{chars}])', r'\\1', text_cleaned)\n",
    "\n",
    "    # Remove leading space and punctuation\n",
    "    text_cleaned = text_cleaned.lstrip(\n",
    "        ''.join(alphabet.punctuation + [alphabet.space]))\n",
    "\n",
    "    # Collapse duplicate dots\n",
    "    punc = re.escape(''.join(alphabet.punctuation))\n",
    "    text_cleaned = re.sub(rf'([{punc}])+', r'\\1', text_cleaned)\n",
    "\n",
    "    # Collapse spaces\n",
    "    text_cleaned = re.sub(r'\\s+', ' ', text_cleaned).strip()\n",
    "\n",
    "    return text_cleaned"
   ],
   "metadata": {
    "collapsed": false,
    "pycharm": {
     "name": "#%%\n"
    }
   }
  },
  {
   "cell_type": "code",
   "execution_count": 26,
   "outputs": [],
   "source": [
    "alphabet = GreekAlphabet()"
   ],
   "metadata": {
    "collapsed": false,
    "pycharm": {
     "name": "#%%\n"
    }
   }
  },
  {
   "cell_type": "code",
   "execution_count": 27,
   "outputs": [
    {
     "data": {
      "text/plain": "'ἔδοχσεν το͂ι δέμοι· τ̣[ὸς ἐ Σ]αλαμ̣[ῖνι κλερόχ]ος\\nοἰκε͂ν ἐᾶ Σαλαμῖνι [․․5․․]λεν [․․․7․․․ Ἀθέ]νε-\\nσι τελε͂ν καὶ στρατ[εύεσθ]αι ⋮ τ̣[ὰ δ’ ἐ Σαλαμῖνι] μ-\\nὲ μι[σθ]ο͂ν, ἐὰ μὲ οἰκ[․․․7․․․]ο[․ μισθόμενο․ ⋮ ἐ]ὰ-\\nν δὲ μισθο͂ι, ἀποτί[νεν τὸ μισθόμενον καὶ τὸ] μ̣-\\nισθο͂ντα ℎεκάτε[ρον ․․․․․․․․19․․․․․․․․․]\\nἐς δεμόσιο[ν ∶ ἐσπράτεν δὲ τὸν ἄ]-\\nρχο[ν]τα, ἐὰν [δὲ μέ, εὐθ]ύ[νεσθαι ∶ τ]-\\nὰ δὲ [ℎ]όπλα π[αρέχεσ]θ̣α[ι αὐτὸς ∶ τ]-\\nριά[κ]οντα ∶ δρ[αχμο͂ν ⋮] ℎο[πλισμένο]-\\nν δὲ [τ]ὸν ἄρχοντ[α τὰ ℎόπλα κρίν]-\\nεν ⋮ [ἐπ]ὶ τε͂ς β[ο]λε͂[ς ․․․c.11․․․․]'"
     },
     "execution_count": 27,
     "metadata": {},
     "output_type": "execute_result"
    }
   ],
   "source": [
    "test_text = PHI[\"data\"].tolist()[0]\n",
    "test_text"
   ],
   "metadata": {
    "collapsed": false,
    "pycharm": {
     "name": "#%%\n"
    }
   }
  },
  {
   "cell_type": "code",
   "execution_count": 23,
   "outputs": [
    {
     "data": {
      "text/plain": "'εδοχσεν τοι δεμοι τ[ος ε σ]αλαμ[ινι κλεροχ]ος οικεν εα σαλαμινι [-----]λεν [------- αθε]νεσι τελεν και στρατ[ευεσθ]αι τ[α δ ε σαλαμινι] με μι[σθ]ον εα με οικ[-------]ο[- μισθομενο- ε]αν δε μισθοι αποτι[νεν το μισθομενον και το] μισθοντα εκατε[ρον -------------------] ες δεμοσιο[ν εσπρατεν δε τον α]ρχο[ν]τα εαν [δε με ευθ]υ[νεσθαι. τ]α δε [ο]πλα π[αρεχεσ]θα[ι αυτος. τ]ρια[κ]οντα. δρ[αχμον] ο[πλισμενο]ν δε [τ]ον αρχοντ[α τα οπλα κριν]εν [επ]ι τες β[ο]λε[ς -----------].'"
     },
     "execution_count": 23,
     "metadata": {},
     "output_type": "execute_result"
    }
   ],
   "source": [
    "PHI[\"text\"].tolist()[0]"
   ],
   "metadata": {
    "collapsed": false,
    "pycharm": {
     "name": "#%%\n"
    }
   }
  },
  {
   "cell_type": "code",
   "execution_count": 28,
   "outputs": [
    {
     "data": {
      "text/plain": "'ἔδοχσεν τοι δέμοι τ[ὸς ἐ σ]αλαμ[ῖνι κλερόχ]ος οἰκεν ἐᾶ σαλαμῖνι [-----]λεν [------- ἀθέ]νεσι τελεν καὶ στρατ[εύεσθ]αι τ[ὰ δ’ ἐ σαλαμῖνι] μὲ μι[σθ]ον, ἐὰ μὲ οἰκ[-------]ο[- μισθόμενο- ἐ]ὰν δὲ μισθοι, ἀποτί[νεν τὸ μισθόμενον καὶ τὸ] μισθοντα ἑκάτε[ρον -------------------] ἐς δεμόσιο[ν. ἐσπράτεν δὲ τὸν ἄ]ρχο[ν]τα, ἐὰν [δὲ μέ, εὐθ]ύ[νεσθαι. τ]ὰ δὲ [ὅ]πλα π[αρέχεσ]θα[ι αὐτὸς. τ]ριά[κ]οντα. δρ[αχμον] ὁ[πλισμένο]ν δὲ [τ]ὸν ἄρχοντ[α τὰ ὅπλα κρίν]εν [ἐπ]ὶ τες β[ο]λε[ς -----------]'"
     },
     "execution_count": 28,
     "metadata": {},
     "output_type": "execute_result"
    }
   ],
   "source": [
    "text_clean_phi(test_text, alphabet)"
   ],
   "metadata": {
    "collapsed": false,
    "pycharm": {
     "name": "#%%\n"
    }
   }
  },
  {
   "cell_type": "code",
   "execution_count": null,
   "outputs": [],
   "source": [],
   "metadata": {
    "collapsed": false,
    "pycharm": {
     "name": "#%%\n"
    }
   }
  },
  {
   "cell_type": "markdown",
   "metadata": {
    "pycharm": {
     "name": "#%% md\n"
    }
   },
   "source": [
    "# Pythia data"
   ]
  },
  {
   "cell_type": "code",
   "execution_count": null,
   "outputs": [],
   "source": [],
   "metadata": {
    "collapsed": false,
    "pycharm": {
     "name": "#%%\n"
    }
   }
  },
  {
   "cell_type": "code",
   "execution_count": null,
   "outputs": [],
   "source": [],
   "metadata": {
    "collapsed": false,
    "pycharm": {
     "name": "#%%\n"
    }
   }
  },
  {
   "cell_type": "code",
   "execution_count": 30,
   "metadata": {
    "pycharm": {
     "name": "#%%\n"
    }
   },
   "outputs": [],
   "source": [
    "url = \"SDAM_data/PHI/PHI_pythia/phi-plaintext.zip\"\n",
    "resp = conf[0].get(conf[1] + url)"
   ]
  },
  {
   "cell_type": "code",
   "execution_count": 31,
   "metadata": {
    "pycharm": {
     "name": "#%%\n"
    }
   },
   "outputs": [],
   "source": [
    "zipped = zipfile.ZipFile(io.BytesIO(resp.content))"
   ]
  },
  {
   "cell_type": "code",
   "execution_count": 32,
   "metadata": {
    "pycharm": {
     "name": "#%%\n"
    }
   },
   "outputs": [
    {
     "data": {
      "text/plain": [
       "['phi-plaintext/285586.txt',\n",
       " 'phi-plaintext/186989.txt',\n",
       " 'phi-plaintext/180320.txt',\n",
       " 'phi-plaintext/284840.txt',\n",
       " 'phi-plaintext/261172.txt',\n",
       " 'phi-plaintext/3644.txt',\n",
       " 'phi-plaintext/249826.txt',\n",
       " 'phi-plaintext/152266.txt',\n",
       " 'phi-plaintext/239319.txt',\n",
       " 'phi-plaintext/5235.txt']"
      ]
     },
     "execution_count": 32,
     "metadata": {},
     "output_type": "execute_result"
    }
   ],
   "source": [
    "namelist = zipped.namelist()\n",
    "namelist = [file for file in namelist if (\".txt\" in file) and (file[0] != \"_\")]\n",
    "namelist[:10]"
   ]
  },
  {
   "cell_type": "code",
   "execution_count": 50,
   "metadata": {
    "pycharm": {
     "name": "#%%\n"
    }
   },
   "outputs": [
    {
     "data": {
      "text/plain": [
       "42711"
      ]
     },
     "execution_count": 50,
     "metadata": {},
     "output_type": "execute_result"
    }
   ],
   "source": [
    "len(namelist)"
   ]
  },
  {
   "cell_type": "code",
   "execution_count": 33,
   "metadata": {
    "pycharm": {
     "name": "#%%\n"
    }
   },
   "outputs": [],
   "source": [
    "### to do below some matching, we have to take care of appropriate encoding\n",
    "from unicodedata import normalize\n",
    "def normalize_string(string):\n",
    "    try:\n",
    "        return normalize(\"NFC\", string)\n",
    "    except: \n",
    "        return \"\""
   ]
  },
  {
   "cell_type": "code",
   "execution_count": 34,
   "metadata": {
    "pycharm": {
     "name": "#%%\n"
    }
   },
   "outputs": [],
   "source": [
    "phi_pythia_dict = {}\n",
    "for filename in namelist:\n",
    "    phi_number = filename.rpartition(\"/\")[2].partition(\".txt\")[0]\n",
    "    phi_string = normalize_string(zipped.read(filename).decode())\n",
    "    phi_pythia_dict[phi_number] =  phi_string"
   ]
  },
  {
   "cell_type": "code",
   "execution_count": 35,
   "metadata": {
    "pycharm": {
     "name": "#%%\n"
    }
   },
   "outputs": [
    {
     "data": {
      "text/plain": [
       "'------------------------------- ερε[------------------------------------------------- ἱππ]όνικο[ς εἶπε ----------------------------------------------] ἑκαστο[---------------------------------- μισθὸν λαμβάνειν δ]ραχμὲν τε[ς ἑμέρας ἑκάστες ἐπιμέλεσθαι δὲ αὐτὸς καὶ τες κρένες κα]ὶ τες ἀγογες [το ὕδατος ----------------------- νικόμαχος εἶπε τὰ] μὲν ἄλλα καθ[άπερ τει βολει ---------------------------------] ει ὅπος ἂν ῥέοσ[ι ------------------------------ ὅπος δ ἂν ἀπὸ ὀ]λιγίστον χρεμάτο[ν --------------------- τὸς πρυτάνες ὁὶ ἂν λάχ]οσι προτοι πρυτανεύ[εν ----------------------- ἐν τει πρότει τον] κυρίον ἐκκλεσιον προτ[ον μετὰ τὰ ἱερὰ --------------------- ἀγα]θὸν ε ναι τοι δέμοι τοι ἀθε[ναίον ---------------------------- με]δεμία γίγνεται καὶ ἔχει ἀθε[ναίοις ὁς ----------------------- ε]ἶπε τὰ μὲν ἄλλα καθάπερ νικόμα[χος ἐπαινέσαι δὲ καὶ περικλεῖ καὶ παρ]άλοι καὶ χσανθίπποι καὶ τοῖς ὑέ[σιν ἀπαναλίσκεν δὲ ἀπὸ τον χρεμάτον] ὅσα ἐς τὸν φόρον τὸν ἀθεναίον τελ[εται ἐπειδὰν ἑ θεὸς ἐχς αὐτον λαμ]βάνει τὰ νομιζόμενα.'"
      ]
     },
     "execution_count": 35,
     "metadata": {},
     "output_type": "execute_result"
    }
   ],
   "source": [
    "phi_pythia_dict[\"50\"]"
   ]
  },
  {
   "cell_type": "code",
   "execution_count": 36,
   "metadata": {
    "pycharm": {
     "name": "#%%\n"
    }
   },
   "outputs": [],
   "source": [
    "def get_pythia_text_by_number(phi_number):\n",
    "    try: return phi_pythia_dict[str(phi_number)]\n",
    "    except: return \"\""
   ]
  },
  {
   "cell_type": "code",
   "execution_count": 37,
   "metadata": {
    "pycharm": {
     "name": "#%%\n"
    }
   },
   "outputs": [],
   "source": [
    "PHI[\"string_pythia\"] = PHI[\"PHI_ID\"].apply(get_pythia_text_by_number)  "
   ]
  },
  {
   "cell_type": "code",
   "execution_count": 38,
   "metadata": {
    "pycharm": {
     "name": "#%%\n"
    }
   },
   "outputs": [
    {
     "data": {
      "text/html": [
       "<div>\n",
       "<style scoped>\n",
       "    .dataframe tbody tr th:only-of-type {\n",
       "        vertical-align: middle;\n",
       "    }\n",
       "\n",
       "    .dataframe tbody tr th {\n",
       "        vertical-align: top;\n",
       "    }\n",
       "\n",
       "    .dataframe thead th {\n",
       "        text-align: right;\n",
       "    }\n",
       "</style>\n",
       "<table border=\"1\" class=\"dataframe\">\n",
       "  <thead>\n",
       "    <tr style=\"text-align: right;\">\n",
       "      <th></th>\n",
       "      <th>URL</th>\n",
       "      <th>Book</th>\n",
       "      <th>Text</th>\n",
       "      <th>hdr1</th>\n",
       "      <th>hdr2</th>\n",
       "      <th>tildeinfo</th>\n",
       "      <th>note</th>\n",
       "      <th>lines</th>\n",
       "      <th>metadata</th>\n",
       "      <th>data</th>\n",
       "      <th>filename</th>\n",
       "      <th>PHI_ID</th>\n",
       "      <th>string_pythia</th>\n",
       "    </tr>\n",
       "  </thead>\n",
       "  <tbody>\n",
       "    <tr>\n",
       "      <th>0</th>\n",
       "      <td>/text/1?location=1701&amp;patt=&amp;bookid=4&amp;offset=0&amp;...</td>\n",
       "      <td>IG I³</td>\n",
       "      <td>1</td>\n",
       "      <td>Regions\\nAttica (IG I-III)</td>\n",
       "      <td>IG I³\\n1</td>\n",
       "      <td>Att. — Ath.: Akr. — stoich. 35 — c. 510-500 a....</td>\n",
       "      <td></td>\n",
       "      <td>12</td>\n",
       "      <td>1\\n\\n\\n\\n5\\n\\n\\n\\n\\n10\\n\\n</td>\n",
       "      <td>ἔδοχσεν το͂ι δέμοι· τ̣[ὸς ἐ Σ]αλαμ̣[ῖνι κλερόχ...</td>\n",
       "      <td>IG-I³.csv</td>\n",
       "      <td>1</td>\n",
       "      <td>ἔδοχσεν τοι δέμοι τ[ὸς ἐ σ]αλαμ[ῖνι κλερόχ]ος ...</td>\n",
       "    </tr>\n",
       "    <tr>\n",
       "      <th>1</th>\n",
       "      <td>/text/2?location=1701&amp;patt=&amp;bookid=4&amp;offset=0&amp;...</td>\n",
       "      <td>IG I³</td>\n",
       "      <td>2</td>\n",
       "      <td>Regions\\nAttica (IG I-III)</td>\n",
       "      <td>IG I³\\n2</td>\n",
       "      <td>Att. — non-stoich. — c. 500 a.</td>\n",
       "      <td></td>\n",
       "      <td>14</td>\n",
       "      <td>1\\n\\n\\n\\n5\\n\\n\\n\\n\\n10\\n\\n\\n\\n</td>\n",
       "      <td>[․․8-9․․․]ν̣ βολ — — — — — — — — — —\\n[․6-7․․]...</td>\n",
       "      <td>IG-I³.csv</td>\n",
       "      <td>2</td>\n",
       "      <td>[--------9---]ν βολ ---------- [------7--] α ἑ...</td>\n",
       "    </tr>\n",
       "    <tr>\n",
       "      <th>2</th>\n",
       "      <td>/text/3?location=1701&amp;patt=&amp;bookid=4&amp;offset=0&amp;...</td>\n",
       "      <td>IG I³</td>\n",
       "      <td>3</td>\n",
       "      <td>Regions\\nAttica (IG I-III)</td>\n",
       "      <td>IG I³\\n3</td>\n",
       "      <td>Att. — stoich. 21 — 490-480 a.</td>\n",
       "      <td></td>\n",
       "      <td>13</td>\n",
       "      <td>1\\n\\n\\n\\n5\\n\\n\\n\\n\\n10\\n\\n\\n</td>\n",
       "      <td>[․]αρ[․․․․]ι ℎερακλειο[․․5․․]\\n[․]αρ̣ο#⁷[․] τι...</td>\n",
       "      <td>IG-I³.csv</td>\n",
       "      <td>3</td>\n",
       "      <td>[-]αρ[----]ι ἑρακλειο[-----] [-]αρο [-] τιθένα...</td>\n",
       "    </tr>\n",
       "    <tr>\n",
       "      <th>3</th>\n",
       "      <td>/text/4?location=1701&amp;patt=&amp;bookid=4&amp;offset=0&amp;...</td>\n",
       "      <td>IG I³</td>\n",
       "      <td>4</td>\n",
       "      <td>Regions\\nAttica (IG I-III)</td>\n",
       "      <td>IG I³\\n4</td>\n",
       "      <td>Att. — stoich. 38 — 485/4 a.</td>\n",
       "      <td></td>\n",
       "      <td>56</td>\n",
       "      <td>face A.1\\n\\n\\n\\n5\\n\\n\\n\\n\\n10\\n\\n\\n\\n\\n15\\n\\n\\...</td>\n",
       "      <td>[․․․․․․․․․․․․․․․․․․38․․․․․․․․․․․․․․․․․․]\\n[․․․...</td>\n",
       "      <td>IG-I³.csv</td>\n",
       "      <td>4</td>\n",
       "      <td>[--------------------------------------] [----...</td>\n",
       "    </tr>\n",
       "    <tr>\n",
       "      <th>4</th>\n",
       "      <td>/text/5?location=1701&amp;patt=&amp;bookid=4&amp;offset=0&amp;...</td>\n",
       "      <td>IG I³</td>\n",
       "      <td>5</td>\n",
       "      <td>Regions\\nAttica (IG I-III)</td>\n",
       "      <td>IG I³\\n5</td>\n",
       "      <td>Att. — c. 500 a.</td>\n",
       "      <td></td>\n",
       "      <td>6</td>\n",
       "      <td>1\\n\\n\\n\\n5\\n</td>\n",
       "      <td>[ἔδοχσε]ν [⋮ τε͂ι βολε͂ι] ⋮ καὶ [τ]ο͂ι δέμοι ⋮...</td>\n",
       "      <td>IG-I³.csv</td>\n",
       "      <td>5</td>\n",
       "      <td>[ἔδοχσε]ν [ τει βολει] καὶ [τ]οι δέμοι ὅτε παρ...</td>\n",
       "    </tr>\n",
       "    <tr>\n",
       "      <th>5</th>\n",
       "      <td>/text/6?location=1701&amp;patt=&amp;bookid=4&amp;offset=0&amp;...</td>\n",
       "      <td>IG I³</td>\n",
       "      <td>6</td>\n",
       "      <td>Regions\\nAttica (IG I-III)</td>\n",
       "      <td>IG I³\\n6</td>\n",
       "      <td>Att. — stoich. 23/11 — ante 460 a.</td>\n",
       "      <td></td>\n",
       "      <td>160</td>\n",
       "      <td>face A.BM 309.1\\n\\n\\n\\n5\\n\\n\\n\\n\\n10\\n\\n\\n\\n\\n...</td>\n",
       "      <td>— — — — — — — — — — — — —\\n[․․․․․․15․․․․․․․] δ...</td>\n",
       "      <td>IG-I³.csv</td>\n",
       "      <td>6</td>\n",
       "      <td>------------- [---------------] δραχμεισ[ι ---...</td>\n",
       "    </tr>\n",
       "    <tr>\n",
       "      <th>6</th>\n",
       "      <td>/text/7?location=1701&amp;patt=&amp;bookid=4&amp;offset=0&amp;...</td>\n",
       "      <td>IG I³</td>\n",
       "      <td>7</td>\n",
       "      <td>Regions\\nAttica (IG I-III)</td>\n",
       "      <td>IG I³\\n7</td>\n",
       "      <td>Att. — stoich. 40 — 460-450</td>\n",
       "      <td></td>\n",
       "      <td>28</td>\n",
       "      <td>frg. a.1\\n\\n\\n\\n5\\n\\n\\n\\n\\n10\\n\\n\\n\\n13\\n\\n\\nf...</td>\n",
       "      <td>[ἔδοχσεν τε͂]ι βο[λ]ε͂[ι καὶ το͂ι δέμοι· ․․6․․...</td>\n",
       "      <td>IG-I³.csv</td>\n",
       "      <td>7</td>\n",
       "      <td>[ἔδοχσεν τε]ι βο[λ]ε[ι καὶ τοι δέμοι ------ ἐπ...</td>\n",
       "    </tr>\n",
       "    <tr>\n",
       "      <th>7</th>\n",
       "      <td>/text/8?location=1701&amp;patt=&amp;bookid=4&amp;offset=0&amp;...</td>\n",
       "      <td>IG I³</td>\n",
       "      <td>8</td>\n",
       "      <td>Regions\\nAttica (IG I-III)</td>\n",
       "      <td>IG I³\\n8</td>\n",
       "      <td>Att. — stoich. 32 — 460-450</td>\n",
       "      <td></td>\n",
       "      <td>26</td>\n",
       "      <td>frg. a.1\\n\\n\\n\\n5\\n\\n\\n\\n\\n10\\n\\n\\nfrg. b.12\\n...</td>\n",
       "      <td>[․․5․․]#⁷ον ℎὰ ο[․․․․․․․․․21․․․․․․․․․․]\\nα περ...</td>\n",
       "      <td>IG-I³.csv</td>\n",
       "      <td>8</td>\n",
       "      <td>[-----] ον ἃ ο[---------------------] α περὶ τ...</td>\n",
       "    </tr>\n",
       "    <tr>\n",
       "      <th>8</th>\n",
       "      <td>/text/9?location=1701&amp;patt=&amp;bookid=4&amp;offset=0&amp;...</td>\n",
       "      <td>IG I³</td>\n",
       "      <td>9</td>\n",
       "      <td>Regions\\nAttica (IG I-III)</td>\n",
       "      <td>IG I³\\n9</td>\n",
       "      <td>Att. — stoich. 24 — c. 458 a.</td>\n",
       "      <td></td>\n",
       "      <td>17</td>\n",
       "      <td>1\\n\\n\\n\\n5\\n\\n\\n\\n\\n10\\n\\n\\n\\n\\n15\\n\\n</td>\n",
       "      <td>[ἔδοχσεν τε͂ι βο]λε̣͂ι καὶ το͂[ι δέμ]-\\n[οι· ․...</td>\n",
       "      <td>IG-I³.csv</td>\n",
       "      <td>9</td>\n",
       "      <td>[ἔδοχσεν τει βο]λει καὶ το[ι δέμοι ---ντὶς ἐπρ...</td>\n",
       "    </tr>\n",
       "    <tr>\n",
       "      <th>9</th>\n",
       "      <td>/text/10?location=1701&amp;patt=&amp;bookid=4&amp;offset=0...</td>\n",
       "      <td>IG I³</td>\n",
       "      <td>10</td>\n",
       "      <td>Regions\\nAttica (IG I-III)</td>\n",
       "      <td>IG I³\\n10</td>\n",
       "      <td>Att. — stoich. 22 — 469-450</td>\n",
       "      <td></td>\n",
       "      <td>28</td>\n",
       "      <td>1\\n\\n\\n\\n5\\n\\n\\n\\n\\n10\\n\\n\\n\\n\\n15\\n\\n\\n\\n\\n20...</td>\n",
       "      <td>[ἔδο]ξεν τῆι βολῆι καὶ τῶι δ[ή]-\\n[μωι· Ἀ]καμα...</td>\n",
       "      <td>IG-I³.csv</td>\n",
       "      <td>10</td>\n",
       "      <td>[ἔδο]ξεν τῆι βολῆι καὶ τῶι δ[ήμωι ἀ]καμαντὶς [...</td>\n",
       "    </tr>\n",
       "  </tbody>\n",
       "</table>\n",
       "</div>"
      ],
      "text/plain": [
       "                                                 URL   Book Text  \\\n",
       "0  /text/1?location=1701&patt=&bookid=4&offset=0&...  IG I³    1   \n",
       "1  /text/2?location=1701&patt=&bookid=4&offset=0&...  IG I³    2   \n",
       "2  /text/3?location=1701&patt=&bookid=4&offset=0&...  IG I³    3   \n",
       "3  /text/4?location=1701&patt=&bookid=4&offset=0&...  IG I³    4   \n",
       "4  /text/5?location=1701&patt=&bookid=4&offset=0&...  IG I³    5   \n",
       "5  /text/6?location=1701&patt=&bookid=4&offset=0&...  IG I³    6   \n",
       "6  /text/7?location=1701&patt=&bookid=4&offset=0&...  IG I³    7   \n",
       "7  /text/8?location=1701&patt=&bookid=4&offset=0&...  IG I³    8   \n",
       "8  /text/9?location=1701&patt=&bookid=4&offset=0&...  IG I³    9   \n",
       "9  /text/10?location=1701&patt=&bookid=4&offset=0...  IG I³   10   \n",
       "\n",
       "                         hdr1       hdr2  \\\n",
       "0  Regions\\nAttica (IG I-III)   IG I³\\n1   \n",
       "1  Regions\\nAttica (IG I-III)   IG I³\\n2   \n",
       "2  Regions\\nAttica (IG I-III)   IG I³\\n3   \n",
       "3  Regions\\nAttica (IG I-III)   IG I³\\n4   \n",
       "4  Regions\\nAttica (IG I-III)   IG I³\\n5   \n",
       "5  Regions\\nAttica (IG I-III)   IG I³\\n6   \n",
       "6  Regions\\nAttica (IG I-III)   IG I³\\n7   \n",
       "7  Regions\\nAttica (IG I-III)   IG I³\\n8   \n",
       "8  Regions\\nAttica (IG I-III)   IG I³\\n9   \n",
       "9  Regions\\nAttica (IG I-III)  IG I³\\n10   \n",
       "\n",
       "                                           tildeinfo note  lines  \\\n",
       "0  Att. — Ath.: Akr. — stoich. 35 — c. 510-500 a....          12   \n",
       "1                     Att. — non-stoich. — c. 500 a.          14   \n",
       "2                     Att. — stoich. 21 — 490-480 a.          13   \n",
       "3                       Att. — stoich. 38 — 485/4 a.          56   \n",
       "4                                   Att. — c. 500 a.           6   \n",
       "5                 Att. — stoich. 23/11 — ante 460 a.         160   \n",
       "6                        Att. — stoich. 40 — 460-450          28   \n",
       "7                        Att. — stoich. 32 — 460-450          26   \n",
       "8                      Att. — stoich. 24 — c. 458 a.          17   \n",
       "9                        Att. — stoich. 22 — 469-450          28   \n",
       "\n",
       "                                            metadata  \\\n",
       "0                         1\\n\\n\\n\\n5\\n\\n\\n\\n\\n10\\n\\n   \n",
       "1                     1\\n\\n\\n\\n5\\n\\n\\n\\n\\n10\\n\\n\\n\\n   \n",
       "2                       1\\n\\n\\n\\n5\\n\\n\\n\\n\\n10\\n\\n\\n   \n",
       "3  face A.1\\n\\n\\n\\n5\\n\\n\\n\\n\\n10\\n\\n\\n\\n\\n15\\n\\n\\...   \n",
       "4                                       1\\n\\n\\n\\n5\\n   \n",
       "5  face A.BM 309.1\\n\\n\\n\\n5\\n\\n\\n\\n\\n10\\n\\n\\n\\n\\n...   \n",
       "6  frg. a.1\\n\\n\\n\\n5\\n\\n\\n\\n\\n10\\n\\n\\n\\n13\\n\\n\\nf...   \n",
       "7  frg. a.1\\n\\n\\n\\n5\\n\\n\\n\\n\\n10\\n\\n\\nfrg. b.12\\n...   \n",
       "8             1\\n\\n\\n\\n5\\n\\n\\n\\n\\n10\\n\\n\\n\\n\\n15\\n\\n   \n",
       "9  1\\n\\n\\n\\n5\\n\\n\\n\\n\\n10\\n\\n\\n\\n\\n15\\n\\n\\n\\n\\n20...   \n",
       "\n",
       "                                                data   filename  PHI_ID  \\\n",
       "0  ἔδοχσεν το͂ι δέμοι· τ̣[ὸς ἐ Σ]αλαμ̣[ῖνι κλερόχ...  IG-I³.csv       1   \n",
       "1  [․․8-9․․․]ν̣ βολ — — — — — — — — — —\\n[․6-7․․]...  IG-I³.csv       2   \n",
       "2  [․]αρ[․․․․]ι ℎερακλειο[․․5․․]\\n[․]αρ̣ο#⁷[․] τι...  IG-I³.csv       3   \n",
       "3  [․․․․․․․․․․․․․․․․․․38․․․․․․․․․․․․․․․․․․]\\n[․․․...  IG-I³.csv       4   \n",
       "4  [ἔδοχσε]ν [⋮ τε͂ι βολε͂ι] ⋮ καὶ [τ]ο͂ι δέμοι ⋮...  IG-I³.csv       5   \n",
       "5  — — — — — — — — — — — — —\\n[․․․․․․15․․․․․․․] δ...  IG-I³.csv       6   \n",
       "6  [ἔδοχσεν τε͂]ι βο[λ]ε͂[ι καὶ το͂ι δέμοι· ․․6․․...  IG-I³.csv       7   \n",
       "7  [․․5․․]#⁷ον ℎὰ ο[․․․․․․․․․21․․․․․․․․․․]\\nα περ...  IG-I³.csv       8   \n",
       "8  [ἔδοχσεν τε͂ι βο]λε̣͂ι καὶ το͂[ι δέμ]-\\n[οι· ․...  IG-I³.csv       9   \n",
       "9  [ἔδο]ξεν τῆι βολῆι καὶ τῶι δ[ή]-\\n[μωι· Ἀ]καμα...  IG-I³.csv      10   \n",
       "\n",
       "                                       string_pythia  \n",
       "0  ἔδοχσεν τοι δέμοι τ[ὸς ἐ σ]αλαμ[ῖνι κλερόχ]ος ...  \n",
       "1  [--------9---]ν βολ ---------- [------7--] α ἑ...  \n",
       "2  [-]αρ[----]ι ἑρακλειο[-----] [-]αρο [-] τιθένα...  \n",
       "3  [--------------------------------------] [----...  \n",
       "4  [ἔδοχσε]ν [ τει βολει] καὶ [τ]οι δέμοι ὅτε παρ...  \n",
       "5  ------------- [---------------] δραχμεισ[ι ---...  \n",
       "6  [ἔδοχσεν τε]ι βο[λ]ε[ι καὶ τοι δέμοι ------ ἐπ...  \n",
       "7  [-----] ον ἃ ο[---------------------] α περὶ τ...  \n",
       "8  [ἔδοχσεν τει βο]λει καὶ το[ι δέμοι ---ντὶς ἐπρ...  \n",
       "9  [ἔδο]ξεν τῆι βολῆι καὶ τῶι δ[ήμωι ἀ]καμαντὶς [...  "
      ]
     },
     "execution_count": 38,
     "metadata": {},
     "output_type": "execute_result"
    }
   ],
   "source": [
    "PHI.head(10)"
   ]
  },
  {
   "cell_type": "code",
   "execution_count": 42,
   "metadata": {
    "pycharm": {
     "name": "#%%\n"
    }
   },
   "outputs": [
    {
     "data": {
      "text/plain": [
       "42710"
      ]
     },
     "execution_count": 42,
     "metadata": {},
     "output_type": "execute_result"
    }
   ],
   "source": [
    "len(PHI[PHI[\"string_pythia\"] != \"\"])"
   ]
  },
  {
   "cell_type": "code",
   "execution_count": 44,
   "metadata": {
    "pycharm": {
     "name": "#%%\n"
    }
   },
   "outputs": [],
   "source": [
    "def extend_pythia(row):\n",
    "    if row[\"string_pythia\"] == \"\":\n",
    "        return row[\"data\"]\n",
    "    else: \n",
    "        return row[\"string_pythia\"]"
   ]
  },
  {
   "cell_type": "code",
   "execution_count": 45,
   "metadata": {
    "pycharm": {
     "name": "#%%\n"
    }
   },
   "outputs": [],
   "source": [
    "PHI[\"string_pythia\"] = PHI.apply(lambda row: extend_pythia(row), axis=1)"
   ]
  },
  {
   "cell_type": "code",
   "execution_count": 51,
   "metadata": {
    "pycharm": {
     "name": "#%%\n"
    }
   },
   "outputs": [
    {
     "data": {
      "text/plain": [
       "6998420"
      ]
     },
     "execution_count": 51,
     "metadata": {},
     "output_type": "execute_result"
    }
   ],
   "source": [
    "PHI[\"data\"].apply(lambda x: len(x.split())).sum()"
   ]
  },
  {
   "cell_type": "code",
   "execution_count": 52,
   "metadata": {
    "pycharm": {
     "name": "#%%\n"
    }
   },
   "outputs": [
    {
     "data": {
      "text/plain": [
       "5412718"
      ]
     },
     "execution_count": 52,
     "metadata": {},
     "output_type": "execute_result"
    }
   ],
   "source": [
    "PHI[\"string_pythia\"].apply(lambda x: len(x.split())).sum()"
   ]
  },
  {
   "cell_type": "code",
   "execution_count": 49,
   "metadata": {
    "pycharm": {
     "name": "#%%\n"
    }
   },
   "outputs": [
    {
     "name": "stdout",
     "output_type": "stream",
     "text": [
      "A file with the same name (\"PHI_with_pythia_20201216.json\") already exists in this location.\n",
      "Press Enter to overwrite it or choose different path and filename: \n",
      "Your <class 'pandas.core.frame.DataFrame'> object has been succefully written as \"https://sciencedata.dk/files/SDAM_root/SDAM_data/PHI/PHI_with_pythia_20201216.json\"\n"
     ]
    }
   ],
   "source": [
    "sddk.write_file(\"SDAM_data/PHI/PHI_with_pythia_20201216.json\", PHI, conf)"
   ]
  },
  {
   "cell_type": "code",
   "execution_count": null,
   "metadata": {
    "pycharm": {
     "name": "#%%\n"
    }
   },
   "outputs": [],
   "source": []
  }
 ],
 "metadata": {
  "kernelspec": {
   "name": "phi_venv",
   "language": "python",
   "display_name": "phi_venv"
  },
  "language_info": {
   "codemirror_mode": {
    "name": "ipython",
    "version": 3
   },
   "file_extension": ".py",
   "mimetype": "text/x-python",
   "name": "python",
   "nbconvert_exporter": "python",
   "pygments_lexer": "ipython3",
   "version": "3.6.9"
  }
 },
 "nbformat": 4,
 "nbformat_minor": 4
}