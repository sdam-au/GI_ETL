{
 "cells": [
  {
   "cell_type": "markdown",
   "metadata": {
    "colab_type": "text",
    "id": "view-in-github"
   },
   "source": [
    "<a href=\"https://colab.research.google.com/github/sdam-au/PHI_ETL/blob/master/scripts/1_4_MODELLING_DATES.ipynb\" target=\"_parent\"><img src=\"https://colab.research.google.com/assets/colab-badge.svg\" alt=\"Open In Colab\"/></a>"
   ]
  },
  {
   "cell_type": "markdown",
   "metadata": {
    "colab_type": "text",
    "id": "gH2n3KelU2I5"
   },
   "source": [
    "# Requirements & Auth\n",
    "\n"
   ]
  },
  {
   "cell_type": "code",
   "execution_count": 2,
   "metadata": {
    "colab": {
     "base_uri": "https://localhost:8080/",
     "height": 394
    },
    "colab_type": "code",
    "id": "oTe6y9PFPzUv",
    "outputId": "79b9b625-b053-42da-a1af-137cf6db3aed"
   },
   "outputs": [],
   "source": [
    "import requests\n",
    "import scipy\n",
    "import matplotlib.pyplot as plt\n",
    "import seaborn as sns\n",
    "import pandas as pd\n",
    "import numpy as np\n",
    "\n",
    "# our own package for reading the data\n",
    "import sddk"
   ]
  },
  {
   "cell_type": "code",
   "execution_count": 3,
   "metadata": {
    "colab": {},
    "colab_type": "code",
    "id": "V-4giNq8PXWx"
   },
   "outputs": [],
   "source": [
    "# read and execute our script for modelling dates\n",
    "script_url = \"https://raw.githubusercontent.com/sdam-au/modelling_temporal_uncertainty/master/scripts/modelling_distributions.py\"\n",
    "# execute the script\n",
    "exec(requests.get(script_url).content)"
   ]
  },
  {
   "cell_type": "code",
   "execution_count": 4,
   "metadata": {
    "colab": {
     "base_uri": "https://localhost:8080/",
     "height": 85
    },
    "colab_type": "code",
    "id": "H9T_eO85Pn_i",
    "outputId": "97f84395-719a-4f41-d23f-d399a7f3ed83"
   },
   "outputs": [
    {
     "name": "stdout",
     "output_type": "stream",
     "text": [
      "sciencedata.dk username (format '123456@au.dk'): 648597@au.dk\n",
      "sciencedata.dk password: ········\n",
      "connection with shared folder established with you as its owner\n",
      "endpoint variable has been configured to: https://sciencedata.dk/files/SDAM_root/\n"
     ]
    }
   ],
   "source": [
    "# login to sciencedata \n",
    "conf = sddk.configure(\"SDAM_root\", \"648597@au.dk\")"
   ]
  },
  {
   "cell_type": "code",
   "execution_count": 5,
   "metadata": {
    "colab": {
     "base_uri": "https://localhost:8080/",
     "height": 479
    },
    "colab_type": "code",
    "id": "ej81l2PXQuxN",
    "outputId": "92570e6d-4652-4652-dfae-fd33f20db6fd"
   },
   "outputs": [
    {
     "data": {
      "text/html": [
       "<div>\n",
       "<style scoped>\n",
       "    .dataframe tbody tr th:only-of-type {\n",
       "        vertical-align: middle;\n",
       "    }\n",
       "\n",
       "    .dataframe tbody tr th {\n",
       "        vertical-align: top;\n",
       "    }\n",
       "\n",
       "    .dataframe thead th {\n",
       "        text-align: right;\n",
       "    }\n",
       "</style>\n",
       "<table border=\"1\" class=\"dataframe\">\n",
       "  <thead>\n",
       "    <tr style=\"text-align: right;\">\n",
       "      <th></th>\n",
       "      <th>URL</th>\n",
       "      <th>Book</th>\n",
       "      <th>Text</th>\n",
       "      <th>hdr1</th>\n",
       "      <th>hdr2</th>\n",
       "      <th>tildeinfo</th>\n",
       "      <th>note</th>\n",
       "      <th>lines</th>\n",
       "      <th>metadata</th>\n",
       "      <th>data</th>\n",
       "      <th>...</th>\n",
       "      <th>raw_date</th>\n",
       "      <th>dating_dict</th>\n",
       "      <th>not_before</th>\n",
       "      <th>not_after</th>\n",
       "      <th>or</th>\n",
       "      <th>date_tags</th>\n",
       "      <th>certainty</th>\n",
       "      <th>link</th>\n",
       "      <th>lemmata</th>\n",
       "      <th>string_normalized</th>\n",
       "    </tr>\n",
       "  </thead>\n",
       "  <tbody>\n",
       "    <tr>\n",
       "      <th>0</th>\n",
       "      <td>https://epigraphy.packhum.org/text/1</td>\n",
       "      <td>IG I³</td>\n",
       "      <td>1</td>\n",
       "      <td>Regions\\n\\nAttica (IG I-III)Attica</td>\n",
       "      <td>None</td>\n",
       "      <td>Att. — Ath.: Akr. — stoich. 35 — c. 510-500 a....</td>\n",
       "      <td>None</td>\n",
       "      <td>12.0</td>\n",
       "      <td>\\n1\\n\\n\\n\\n\\n5\\n\\n\\n\\n\\n\\n10\\n\\n\\n</td>\n",
       "      <td>ἔδοχσεν το͂ι δέμοι· τ̣[ὸς ἐ Σ]αλαμ̣[ῖνι κλερόχ...</td>\n",
       "      <td>...</td>\n",
       "      <td>c. 510-500 a.</td>\n",
       "      <td>{'or': None, 'not_before': -511, 'not_after': ...</td>\n",
       "      <td>-511.0</td>\n",
       "      <td>-499.0</td>\n",
       "      <td>None</td>\n",
       "      <td>[range, phase, ca]</td>\n",
       "      <td>None</td>\n",
       "      <td>None</td>\n",
       "      <td>[ἔδοχσεν, τοῖος, δέμοι, τός, Σαλαμίς, κλερόχος...</td>\n",
       "      <td>ἔδοχσεν το͂ι δέμοι τὸς ἐ Σαλαμῖνι κλερόχος οἰκ...</td>\n",
       "    </tr>\n",
       "    <tr>\n",
       "      <th>1</th>\n",
       "      <td>https://epigraphy.packhum.org/text/2</td>\n",
       "      <td>IG I³</td>\n",
       "      <td>2</td>\n",
       "      <td>Regions\\n\\nAttica (IG I-III)Attica</td>\n",
       "      <td>None</td>\n",
       "      <td>Att. — non-stoich. — c. 500 a.</td>\n",
       "      <td>None</td>\n",
       "      <td>14.0</td>\n",
       "      <td>\\n1\\n\\n\\n\\n\\n5\\n\\n\\n\\n\\n\\n10\\n\\n\\n\\n\\n</td>\n",
       "      <td>[․․8-9․․․]ν̣ βολ — — — — — — — — — —\\n[․6-7․․]...</td>\n",
       "      <td>...</td>\n",
       "      <td>c. 500 a.</td>\n",
       "      <td>{'or': None, 'not_before': -505, 'not_after': ...</td>\n",
       "      <td>-505.0</td>\n",
       "      <td>-495.0</td>\n",
       "      <td>None</td>\n",
       "      <td>[exact, phase, ca]</td>\n",
       "      <td>None</td>\n",
       "      <td>None</td>\n",
       "      <td>[βολ, ℎεκον, θεός, γνοσθει, ἀτεχνος, μεδέ, ℎαμ...</td>\n",
       "      <td>ν βολ α ℎεκον σιον γνοσθε͂ι δὲ ν ἀτεχνος μὲ π ...</td>\n",
       "    </tr>\n",
       "    <tr>\n",
       "      <th>2</th>\n",
       "      <td>https://epigraphy.packhum.org/text/3</td>\n",
       "      <td>IG I³</td>\n",
       "      <td>3</td>\n",
       "      <td>Regions\\n\\nAttica (IG I-III)Attica</td>\n",
       "      <td>None</td>\n",
       "      <td>Att. — stoich. 21 — 490-480 a.</td>\n",
       "      <td>None</td>\n",
       "      <td>13.0</td>\n",
       "      <td>\\n1\\n\\n\\n\\n\\n5\\n\\n\\n\\n\\n\\n10\\n\\n\\n\\n</td>\n",
       "      <td>[․]αρ[․․․․]ι ℎερακλειο[․․5․․]\\n[․]αρ̣ο#⁷[․] τι...</td>\n",
       "      <td>...</td>\n",
       "      <td>490-480 a.</td>\n",
       "      <td>{'or': None, 'not_before': -490, 'not_after': ...</td>\n",
       "      <td>-490.0</td>\n",
       "      <td>-480.0</td>\n",
       "      <td>None</td>\n",
       "      <td>[range]</td>\n",
       "      <td>None</td>\n",
       "      <td>None</td>\n",
       "      <td>[ἀρίς, ℎερακλειο, ἀρόω, τίθημι, τός, ἀθλοθέτης...</td>\n",
       "      <td>αρι ℎερακλειο αρο τιθέναι τὸς ἀθλοθέτας τριάκο...</td>\n",
       "    </tr>\n",
       "    <tr>\n",
       "      <th>3</th>\n",
       "      <td>https://epigraphy.packhum.org/text/4</td>\n",
       "      <td>IG I³</td>\n",
       "      <td>4</td>\n",
       "      <td>Regions\\n\\nAttica (IG I-III)Attica</td>\n",
       "      <td>None</td>\n",
       "      <td>Att. — stoich. 38 — 485/4 a.</td>\n",
       "      <td>None</td>\n",
       "      <td>58.0</td>\n",
       "      <td>\\nface A.1\\n\\n\\n\\n\\n5\\n\\n\\n\\n\\n\\n10\\n\\n\\n\\n\\n\\...</td>\n",
       "      <td>[․․․․․․․․․․․․․․․․․․38․․․․․․․․․․․․․․․․․․]\\n[․․․...</td>\n",
       "      <td>...</td>\n",
       "      <td>485/4 a.</td>\n",
       "      <td>{'or': None, 'not_before': -485, 'not_after': ...</td>\n",
       "      <td>-485.0</td>\n",
       "      <td>-484.0</td>\n",
       "      <td>None</td>\n",
       "      <td>[range]</td>\n",
       "      <td>None</td>\n",
       "      <td>None</td>\n",
       "      <td>[ἄναξ, φροράν, πεντέκοντα, δραχμή, ἵημι, πρᾶχσ...</td>\n",
       "      <td>ἐὰν δέ τις αν ἒ φρορὰν μὲ πεντέκοντα δραχμὰς τ...</td>\n",
       "    </tr>\n",
       "    <tr>\n",
       "      <th>4</th>\n",
       "      <td>https://epigraphy.packhum.org/text/5</td>\n",
       "      <td>IG I³</td>\n",
       "      <td>5</td>\n",
       "      <td>Regions\\n\\nAttica (IG I-III)Attica</td>\n",
       "      <td>None</td>\n",
       "      <td>Att. — c. 500 a.\\n\\nSee also:\\nI.Eleusis 13</td>\n",
       "      <td>None</td>\n",
       "      <td>6.0</td>\n",
       "      <td>\\n1\\n\\n\\n\\n \\n5\\n\\n</td>\n",
       "      <td>[ἔδοχσε]ν [⋮ τε͂ι βολε͂ι] ⋮ καὶ [τ]ο͂ι δέμοι ⋮...</td>\n",
       "      <td>...</td>\n",
       "      <td>c. 500 a.</td>\n",
       "      <td>{'or': None, 'not_before': -505, 'not_after': ...</td>\n",
       "      <td>-505.0</td>\n",
       "      <td>-495.0</td>\n",
       "      <td>None</td>\n",
       "      <td>[exact, phase, ca]</td>\n",
       "      <td>None</td>\n",
       "      <td>None</td>\n",
       "      <td>[ἔδοχσεν, τει, βολει, τοῖος, δέμοι, ℎότε, παρα...</td>\n",
       "      <td>ἔδοχσεν τε͂ι βολε͂ι καὶ το͂ι δέμοι ℎότε Παραιβ...</td>\n",
       "    </tr>\n",
       "  </tbody>\n",
       "</table>\n",
       "<p>5 rows × 27 columns</p>\n",
       "</div>"
      ],
      "text/plain": [
       "                                    URL   Book Text  \\\n",
       "0  https://epigraphy.packhum.org/text/1  IG I³    1   \n",
       "1  https://epigraphy.packhum.org/text/2  IG I³    2   \n",
       "2  https://epigraphy.packhum.org/text/3  IG I³    3   \n",
       "3  https://epigraphy.packhum.org/text/4  IG I³    4   \n",
       "4  https://epigraphy.packhum.org/text/5  IG I³    5   \n",
       "\n",
       "                                 hdr1  hdr2  \\\n",
       "0  Regions\\n\\nAttica (IG I-III)Attica  None   \n",
       "1  Regions\\n\\nAttica (IG I-III)Attica  None   \n",
       "2  Regions\\n\\nAttica (IG I-III)Attica  None   \n",
       "3  Regions\\n\\nAttica (IG I-III)Attica  None   \n",
       "4  Regions\\n\\nAttica (IG I-III)Attica  None   \n",
       "\n",
       "                                           tildeinfo  note  lines  \\\n",
       "0  Att. — Ath.: Akr. — stoich. 35 — c. 510-500 a....  None   12.0   \n",
       "1                     Att. — non-stoich. — c. 500 a.  None   14.0   \n",
       "2                     Att. — stoich. 21 — 490-480 a.  None   13.0   \n",
       "3                       Att. — stoich. 38 — 485/4 a.  None   58.0   \n",
       "4        Att. — c. 500 a.\\n\\nSee also:\\nI.Eleusis 13  None    6.0   \n",
       "\n",
       "                                            metadata  \\\n",
       "0                 \\n1\\n\\n\\n\\n\\n5\\n\\n\\n\\n\\n\\n10\\n\\n\\n   \n",
       "1             \\n1\\n\\n\\n\\n\\n5\\n\\n\\n\\n\\n\\n10\\n\\n\\n\\n\\n   \n",
       "2               \\n1\\n\\n\\n\\n\\n5\\n\\n\\n\\n\\n\\n10\\n\\n\\n\\n   \n",
       "3  \\nface A.1\\n\\n\\n\\n\\n5\\n\\n\\n\\n\\n\\n10\\n\\n\\n\\n\\n\\...   \n",
       "4                                \\n1\\n\\n\\n\\n \\n5\\n\\n   \n",
       "\n",
       "                                                data  ...        raw_date  \\\n",
       "0  ἔδοχσεν το͂ι δέμοι· τ̣[ὸς ἐ Σ]αλαμ̣[ῖνι κλερόχ...  ...  c. 510-500 a.    \n",
       "1  [․․8-9․․․]ν̣ βολ — — — — — — — — — —\\n[․6-7․․]...  ...       c. 500 a.   \n",
       "2  [․]αρ[․․․․]ι ℎερακλειο[․․5․․]\\n[․]αρ̣ο#⁷[․] τι...  ...      490-480 a.   \n",
       "3  [․․․․․․․․․․․․․․․․․․38․․․․․․․․․․․․․․․․․․]\\n[․․․...  ...        485/4 a.   \n",
       "4  [ἔδοχσε]ν [⋮ τε͂ι βολε͂ι] ⋮ καὶ [τ]ο͂ι δέμοι ⋮...  ...       c. 500 a.   \n",
       "\n",
       "                                         dating_dict not_before not_after  \\\n",
       "0  {'or': None, 'not_before': -511, 'not_after': ...     -511.0    -499.0   \n",
       "1  {'or': None, 'not_before': -505, 'not_after': ...     -505.0    -495.0   \n",
       "2  {'or': None, 'not_before': -490, 'not_after': ...     -490.0    -480.0   \n",
       "3  {'or': None, 'not_before': -485, 'not_after': ...     -485.0    -484.0   \n",
       "4  {'or': None, 'not_before': -505, 'not_after': ...     -505.0    -495.0   \n",
       "\n",
       "     or           date_tags certainty  link  \\\n",
       "0  None  [range, phase, ca]      None  None   \n",
       "1  None  [exact, phase, ca]      None  None   \n",
       "2  None             [range]      None  None   \n",
       "3  None             [range]      None  None   \n",
       "4  None  [exact, phase, ca]      None  None   \n",
       "\n",
       "                                             lemmata  \\\n",
       "0  [ἔδοχσεν, τοῖος, δέμοι, τός, Σαλαμίς, κλερόχος...   \n",
       "1  [βολ, ℎεκον, θεός, γνοσθει, ἀτεχνος, μεδέ, ℎαμ...   \n",
       "2  [ἀρίς, ℎερακλειο, ἀρόω, τίθημι, τός, ἀθλοθέτης...   \n",
       "3  [ἄναξ, φροράν, πεντέκοντα, δραχμή, ἵημι, πρᾶχσ...   \n",
       "4  [ἔδοχσεν, τει, βολει, τοῖος, δέμοι, ℎότε, παρα...   \n",
       "\n",
       "                                   string_normalized  \n",
       "0  ἔδοχσεν το͂ι δέμοι τὸς ἐ Σαλαμῖνι κλερόχος οἰκ...  \n",
       "1  ν βολ α ℎεκον σιον γνοσθε͂ι δὲ ν ἀτεχνος μὲ π ...  \n",
       "2  αρι ℎερακλειο αρο τιθέναι τὸς ἀθλοθέτας τριάκο...  \n",
       "3  ἐὰν δέ τις αν ἒ φρορὰν μὲ πεντέκοντα δραχμὰς τ...  \n",
       "4  ἔδοχσεν τε͂ι βολε͂ι καὶ το͂ι δέμοι ℎότε Παραιβ...  \n",
       "\n",
       "[5 rows x 27 columns]"
      ]
     },
     "execution_count": 5,
     "metadata": {},
     "output_type": "execute_result"
    }
   ],
   "source": [
    "# read the PHI dataset from sciencedata.dk\n",
    "# (takes some time - the dataset has almost 400MB)\n",
    "PHI = sddk.read_file(\"SDAM_data/PHI/PHI_dated_lemmatized_20201023.json\", \"df\", conf)\n",
    "# older version used during development: PHI = sddk.read_file(\"SDAM_data/PHI/PHI_enriched_raw.json\", \"df\", conf)\n",
    "# print first 5 rows of the data\n",
    "PHI.head(5)"
   ]
  },
  {
   "cell_type": "code",
   "execution_count": 6,
   "metadata": {
    "colab": {
     "base_uri": "https://localhost:8080/",
     "height": 34
    },
    "colab_type": "code",
    "id": "I7toaiA5Q4U1",
    "outputId": "16a434e4-5b03-491e-ac30-0cd6ad9717d5"
   },
   "outputs": [
    {
     "data": {
      "text/plain": [
       "130533"
      ]
     },
     "execution_count": 6,
     "metadata": {},
     "output_type": "execute_result"
    }
   ],
   "source": [
    "### how many of the inscriptions have at least one date\n",
    "len(PHI[(PHI[\"not_before\"].notnull()) | (PHI[\"not_after\"].notnull())])"
   ]
  },
  {
   "cell_type": "markdown",
   "metadata": {
    "colab_type": "text",
    "id": "1Tly0Nj3Q93u"
   },
   "source": [
    "# Generate random dates for the whole dataset"
   ]
  },
  {
   "cell_type": "code",
   "execution_count": 6,
   "metadata": {
    "colab": {
     "base_uri": "https://localhost:8080/",
     "height": 51
    },
    "colab_type": "code",
    "id": "4YuNfpTFWyuZ",
    "outputId": "5f9f5a89-4d17-4f19-860a-b7338bd4b3d1"
   },
   "outputs": [
    {
     "name": "stdout",
     "output_type": "stream",
     "text": [
      "CPU times: user 1min 41s, sys: 3.78 s, total: 1min 45s\n",
      "Wall time: 1min 45s\n"
     ]
    }
   ],
   "source": [
    "%%time\n",
    "# generate a list of 1000 random dates for each inscription in the dataset\n",
    "# takes approx. 90 seconds in Google colab\n",
    "PHI[\"random_dates\"] = PHI.apply(lambda row: model_date(row[\"not_before\"], row[\"not_after\"], size=1000,), axis=1)"
   ]
  },
  {
   "cell_type": "code",
   "execution_count": 7,
   "metadata": {
    "colab": {
     "base_uri": "https://localhost:8080/",
     "height": 1000
    },
    "colab_type": "code",
    "id": "TsXkcl6maAc-",
    "outputId": "44db89ff-dbde-4075-a7a3-339195283882"
   },
   "outputs": [
    {
     "data": {
      "text/html": [
       "<div>\n",
       "<style scoped>\n",
       "    .dataframe tbody tr th:only-of-type {\n",
       "        vertical-align: middle;\n",
       "    }\n",
       "\n",
       "    .dataframe tbody tr th {\n",
       "        vertical-align: top;\n",
       "    }\n",
       "\n",
       "    .dataframe thead th {\n",
       "        text-align: right;\n",
       "    }\n",
       "</style>\n",
       "<table border=\"1\" class=\"dataframe\">\n",
       "  <thead>\n",
       "    <tr style=\"text-align: right;\">\n",
       "      <th></th>\n",
       "      <th>URL</th>\n",
       "      <th>Book</th>\n",
       "      <th>Text</th>\n",
       "      <th>hdr1</th>\n",
       "      <th>hdr2</th>\n",
       "      <th>tildeinfo</th>\n",
       "      <th>note</th>\n",
       "      <th>lines</th>\n",
       "      <th>metadata</th>\n",
       "      <th>data</th>\n",
       "      <th>filename</th>\n",
       "      <th>PHI_ID</th>\n",
       "      <th>hdr1_scrape</th>\n",
       "      <th>hdr2_scrape</th>\n",
       "      <th>clean_text_conservative</th>\n",
       "      <th>clean_text_interpretive_word</th>\n",
       "      <th>clean_text_interpretive_sentence</th>\n",
       "      <th>raw_date</th>\n",
       "      <th>dating_dict</th>\n",
       "      <th>not_before</th>\n",
       "      <th>not_after</th>\n",
       "      <th>or</th>\n",
       "      <th>date_tags</th>\n",
       "      <th>certainty</th>\n",
       "      <th>link</th>\n",
       "      <th>random_dates</th>\n",
       "    </tr>\n",
       "  </thead>\n",
       "  <tbody>\n",
       "    <tr>\n",
       "      <th>0</th>\n",
       "      <td>https://epigraphy.packhum.org/text/1</td>\n",
       "      <td>IG I³</td>\n",
       "      <td>1</td>\n",
       "      <td>Regions\\n\\nAttica (IG I-III)Attica</td>\n",
       "      <td>None</td>\n",
       "      <td>Att. — Ath.: Akr. — stoich. 35 — c. 510-500 a....</td>\n",
       "      <td>None</td>\n",
       "      <td>12.0</td>\n",
       "      <td>\\n1\\n\\n\\n\\n\\n5\\n\\n\\n\\n\\n\\n10\\n\\n\\n</td>\n",
       "      <td>ἔδοχσεν το͂ι δέμοι· τ̣[ὸς ἐ Σ]αλαμ̣[ῖνι κλερόχ...</td>\n",
       "      <td>IG-I-3.csv</td>\n",
       "      <td>1</td>\n",
       "      <td>Regions\\nAttica (IG I-III)Attica</td>\n",
       "      <td>IG I³\\n1</td>\n",
       "      <td>ἔδοχσεν το͂ι δέμοι ταλαμος οἰκε͂ν ἐᾶ Σαλαμῖνι ...</td>\n",
       "      <td>ἔδοχσεν το͂ι δέμοι τὸς ἐ Σαλαμῖνι κλερόχος οἰκ...</td>\n",
       "      <td>ἔδοχσεν το͂ι δέμοι τὸς ἐ Σαλαμῖνι κλερόχος οἰκ...</td>\n",
       "      <td>c. 510-500 a.</td>\n",
       "      <td>{'or': None, 'not_before': -511, 'not_after': ...</td>\n",
       "      <td>-511.0</td>\n",
       "      <td>-499.0</td>\n",
       "      <td>None</td>\n",
       "      <td>[range, phase, ca]</td>\n",
       "      <td>None</td>\n",
       "      <td>None</td>\n",
       "      <td>[-506, -500, -507, -504, -511, -508, -499, -50...</td>\n",
       "    </tr>\n",
       "    <tr>\n",
       "      <th>1</th>\n",
       "      <td>https://epigraphy.packhum.org/text/2</td>\n",
       "      <td>IG I³</td>\n",
       "      <td>2</td>\n",
       "      <td>Regions\\n\\nAttica (IG I-III)Attica</td>\n",
       "      <td>None</td>\n",
       "      <td>Att. — non-stoich. — c. 500 a.</td>\n",
       "      <td>None</td>\n",
       "      <td>14.0</td>\n",
       "      <td>\\n1\\n\\n\\n\\n\\n5\\n\\n\\n\\n\\n\\n10\\n\\n\\n\\n\\n</td>\n",
       "      <td>[․․8-9․․․]ν̣ βολ — — — — — — — — — —\\n[․6-7․․]...</td>\n",
       "      <td>IG-I-3.csv</td>\n",
       "      <td>2</td>\n",
       "      <td>Regions\\nAttica (IG I-III)Attica</td>\n",
       "      <td>IG I³\\n2</td>\n",
       "      <td>ν βολ α ℎεκον σιον γνοσθε͂ι δὲ ν ἀτεχνος μὲ π ...</td>\n",
       "      <td>ν βολ α ℎεκον σιον γνοσθε͂ι δὲ ν ἀτεχνος μὲ π ...</td>\n",
       "      <td>․․ ․․․ν βολ ․ ․․ α ⋮ ℎεκον σιον, γνοσθε͂ι δὲ ν...</td>\n",
       "      <td>c. 500 a.</td>\n",
       "      <td>{'or': None, 'not_before': -505, 'not_after': ...</td>\n",
       "      <td>-505.0</td>\n",
       "      <td>-495.0</td>\n",
       "      <td>None</td>\n",
       "      <td>[exact, phase, ca]</td>\n",
       "      <td>None</td>\n",
       "      <td>None</td>\n",
       "      <td>[-495, -495, -499, -502, -502, -497, -499, -50...</td>\n",
       "    </tr>\n",
       "    <tr>\n",
       "      <th>2</th>\n",
       "      <td>https://epigraphy.packhum.org/text/3</td>\n",
       "      <td>IG I³</td>\n",
       "      <td>3</td>\n",
       "      <td>Regions\\n\\nAttica (IG I-III)Attica</td>\n",
       "      <td>None</td>\n",
       "      <td>Att. — stoich. 21 — 490-480 a.</td>\n",
       "      <td>None</td>\n",
       "      <td>13.0</td>\n",
       "      <td>\\n1\\n\\n\\n\\n\\n5\\n\\n\\n\\n\\n\\n10\\n\\n\\n\\n</td>\n",
       "      <td>[․]αρ[․․․․]ι ℎερακλειο[․․5․․]\\n[․]αρ̣ο#⁷[․] τι...</td>\n",
       "      <td>IG-I-3.csv</td>\n",
       "      <td>3</td>\n",
       "      <td>Regions\\nAttica (IG I-III)Attica</td>\n",
       "      <td>IG I³\\n3</td>\n",
       "      <td>αρι ℎερακλειο αρο τιθέναι τὸς ἀέτας τριάκοντα ...</td>\n",
       "      <td>αρι ℎερακλειο αρο τιθέναι τὸς ἀθλοθέτας τριάκο...</td>\n",
       "      <td>αρι ℎερακλειο․․․․ αρο τιθέναι τὸς ἀθλοθέτας τρ...</td>\n",
       "      <td>490-480 a.</td>\n",
       "      <td>{'or': None, 'not_before': -490, 'not_after': ...</td>\n",
       "      <td>-490.0</td>\n",
       "      <td>-480.0</td>\n",
       "      <td>None</td>\n",
       "      <td>[range]</td>\n",
       "      <td>None</td>\n",
       "      <td>None</td>\n",
       "      <td>[-481, -489, -481, -487, -482, -486, -483, -48...</td>\n",
       "    </tr>\n",
       "    <tr>\n",
       "      <th>3</th>\n",
       "      <td>https://epigraphy.packhum.org/text/4</td>\n",
       "      <td>IG I³</td>\n",
       "      <td>4</td>\n",
       "      <td>Regions\\n\\nAttica (IG I-III)Attica</td>\n",
       "      <td>None</td>\n",
       "      <td>Att. — stoich. 38 — 485/4 a.</td>\n",
       "      <td>None</td>\n",
       "      <td>58.0</td>\n",
       "      <td>\\nface A.1\\n\\n\\n\\n\\n5\\n\\n\\n\\n\\n\\n10\\n\\n\\n\\n\\n\\...</td>\n",
       "      <td>[․․․․․․․․․․․․․․․․․․38․․․․․․․․․․․․․․․․․․]\\n[․․․...</td>\n",
       "      <td>IG-I-3.csv</td>\n",
       "      <td>4</td>\n",
       "      <td>Regions\\nAttica (IG I-III)Attica</td>\n",
       "      <td>IG I³\\n4</td>\n",
       "      <td>δέ τις αν ἒ φρορὰν μ ντέκοντα δχμὰς τ ας ℎες π...</td>\n",
       "      <td>ἐὰν δέ τις αν ἒ φρορὰν μὲ πεντέκοντα δραχμὰς τ...</td>\n",
       "      <td>․․․․․․․․․․․․․․․․․․․․․․․․․․․․․․․․․․․․ ․․․․․․․․․...</td>\n",
       "      <td>485/4 a.</td>\n",
       "      <td>{'or': None, 'not_before': -485, 'not_after': ...</td>\n",
       "      <td>-485.0</td>\n",
       "      <td>-484.0</td>\n",
       "      <td>None</td>\n",
       "      <td>[range]</td>\n",
       "      <td>None</td>\n",
       "      <td>None</td>\n",
       "      <td>[-485, -485, -484, -485, -484, -484, -484, -48...</td>\n",
       "    </tr>\n",
       "    <tr>\n",
       "      <th>4</th>\n",
       "      <td>https://epigraphy.packhum.org/text/5</td>\n",
       "      <td>IG I³</td>\n",
       "      <td>5</td>\n",
       "      <td>Regions\\n\\nAttica (IG I-III)Attica</td>\n",
       "      <td>None</td>\n",
       "      <td>Att. — c. 500 a.\\n\\nSee also:\\nI.Eleusis 13</td>\n",
       "      <td>None</td>\n",
       "      <td>6.0</td>\n",
       "      <td>\\n1\\n\\n\\n\\n \\n5\\n\\n</td>\n",
       "      <td>[ἔδοχσε]ν [⋮ τε͂ι βολε͂ι] ⋮ καὶ [τ]ο͂ι δέμοι ⋮...</td>\n",
       "      <td>IG-I-3.csv</td>\n",
       "      <td>5</td>\n",
       "      <td>Regions\\nAttica (IG I-III)Attica</td>\n",
       "      <td>IG I³\\n5</td>\n",
       "      <td>ν καὶ ο͂ι δέμοι ℎότε Παραιβάτες λεια θν τὸς ℎι...</td>\n",
       "      <td>ἔδοχσεν τε͂ι βολε͂ι καὶ το͂ι δέμοι ℎότε Παραιβ...</td>\n",
       "      <td>ἔδοχσεν ⋮ τε͂ι βολε͂ι ⋮ καὶ το͂ι δέμοι ⋮ ℎότε ...</td>\n",
       "      <td>c. 500 a.</td>\n",
       "      <td>{'or': None, 'not_before': -505, 'not_after': ...</td>\n",
       "      <td>-505.0</td>\n",
       "      <td>-495.0</td>\n",
       "      <td>None</td>\n",
       "      <td>[exact, phase, ca]</td>\n",
       "      <td>None</td>\n",
       "      <td>None</td>\n",
       "      <td>[-501, -498, -497, -498, -501, -499, -498, -49...</td>\n",
       "    </tr>\n",
       "    <tr>\n",
       "      <th>5</th>\n",
       "      <td>https://epigraphy.packhum.org/text/6</td>\n",
       "      <td>IG I³</td>\n",
       "      <td>6</td>\n",
       "      <td>Regions\\n\\nAttica (IG I-III)Attica</td>\n",
       "      <td>None</td>\n",
       "      <td>Att. — stoich. 23/11 — ante 460 a.\\n\\nSee also...</td>\n",
       "      <td>None</td>\n",
       "      <td>168.0</td>\n",
       "      <td>\\nface A.BM 309.1\\n\\n\\n\\n\\n5\\n\\n\\n\\n\\n\\n10\\n\\n...</td>\n",
       "      <td>— — — — — — — — — — — — —\\n[․․․․․․15․․․․․․․] δ...</td>\n",
       "      <td>IG-I-3.csv</td>\n",
       "      <td>6</td>\n",
       "      <td>Regions\\nAttica (IG I-III)Attica</td>\n",
       "      <td>IG I³\\n6</td>\n",
       "      <td>δραχμε͂ιστες τὸς ιο μενος δεμο το͂ν πόλεο οκε͂...</td>\n",
       "      <td>δραχμε͂ισι τες τὸς ιο μενος δεμο το͂ν πόλεον δ...</td>\n",
       "      <td>․․․․․․․․․․․․․ δραχμε͂ισι ․․․․․․․․․․․․τες τὸς ι...</td>\n",
       "      <td>ante 460 a.</td>\n",
       "      <td>{'or': None, 'not_before': None, 'not_after': ...</td>\n",
       "      <td>NaN</td>\n",
       "      <td>-461.0</td>\n",
       "      <td>None</td>\n",
       "      <td>[ante]</td>\n",
       "      <td>None</td>\n",
       "      <td>None</td>\n",
       "      <td>[-491, -473, -470, -483, -488, -463, -486, -46...</td>\n",
       "    </tr>\n",
       "    <tr>\n",
       "      <th>6</th>\n",
       "      <td>https://epigraphy.packhum.org/text/7</td>\n",
       "      <td>IG I³</td>\n",
       "      <td>7</td>\n",
       "      <td>Regions\\n\\nAttica (IG I-III)Attica</td>\n",
       "      <td>None</td>\n",
       "      <td>Att. — stoich. 40 — 460-450</td>\n",
       "      <td>None</td>\n",
       "      <td>29.0</td>\n",
       "      <td>\\nfrg. a.1\\n\\n\\n\\n\\n5\\n\\n\\n\\n\\n\\n10\\n\\n\\n\\n\\n1...</td>\n",
       "      <td>[ἔδοχσεν τε͂]ι βο[λ]ε͂[ι καὶ το͂ι δέμοι· ․․6․․...</td>\n",
       "      <td>IG-I-3.csv</td>\n",
       "      <td>7</td>\n",
       "      <td>Regions\\nAttica (IG I-III)Attica</td>\n",
       "      <td>IG I³\\n7</td>\n",
       "      <td>ι βοε͂ς ἐγραμμ ρὶ ὁ͂ν δέοεο͂ καὶ τὰ πρόαντας ...</td>\n",
       "      <td>ἔδοχσεν τε͂ι βολε͂ι καὶ το͂ι δέμοι ἐπρυτάνευε ...</td>\n",
       "      <td>ἔδοχσεν τε͂ι βολε͂ι καὶ το͂ι δέμοι ․․․․․ ἐπρυτ...</td>\n",
       "      <td>460-450</td>\n",
       "      <td>{'or': None, 'not_before': -460, 'not_after': ...</td>\n",
       "      <td>-460.0</td>\n",
       "      <td>-450.0</td>\n",
       "      <td>None</td>\n",
       "      <td>[range]</td>\n",
       "      <td>None</td>\n",
       "      <td>None</td>\n",
       "      <td>[-454, -459, -456, -451, -453, -455, -455, -45...</td>\n",
       "    </tr>\n",
       "    <tr>\n",
       "      <th>7</th>\n",
       "      <td>https://epigraphy.packhum.org/text/8</td>\n",
       "      <td>IG I³</td>\n",
       "      <td>8</td>\n",
       "      <td>Regions\\n\\nAttica (IG I-III)Attica</td>\n",
       "      <td>None</td>\n",
       "      <td>Att. — stoich. 32 — 460-450</td>\n",
       "      <td>None</td>\n",
       "      <td>27.0</td>\n",
       "      <td>\\nfrg. a.1\\n\\n\\n\\n\\n5\\n\\n\\n\\n\\n\\n10\\n\\n\\n\\nfrg...</td>\n",
       "      <td>[․․5․․]#⁷ον ℎὰ ο[․․․․․․․․․21․․․․․․․․․․]\\nα περ...</td>\n",
       "      <td>IG-I-3.csv</td>\n",
       "      <td>8</td>\n",
       "      <td>Regions\\nAttica (IG I-III)Attica</td>\n",
       "      <td>IG I³\\n8</td>\n",
       "      <td>ον ℎὰ ο α περὶ τούτον μον Ἀντίβιορ Καλλίμαχος ...</td>\n",
       "      <td>ον ℎὰ ο α περὶ τούτον δε͂μον Ἀντίβιος εἶπεν τὰ...</td>\n",
       "      <td>․․․․ ον ℎὰ ο․․․․․․․․․․․․․․․․․․․ α περὶ τούτον ...</td>\n",
       "      <td>460-450</td>\n",
       "      <td>{'or': None, 'not_before': -460, 'not_after': ...</td>\n",
       "      <td>-460.0</td>\n",
       "      <td>-450.0</td>\n",
       "      <td>None</td>\n",
       "      <td>[range]</td>\n",
       "      <td>None</td>\n",
       "      <td>None</td>\n",
       "      <td>[-453, -454, -455, -456, -456, -458, -456, -45...</td>\n",
       "    </tr>\n",
       "    <tr>\n",
       "      <th>8</th>\n",
       "      <td>https://epigraphy.packhum.org/text/9</td>\n",
       "      <td>IG I³</td>\n",
       "      <td>9</td>\n",
       "      <td>Regions\\n\\nAttica (IG I-III)Attica</td>\n",
       "      <td>None</td>\n",
       "      <td>Att. — stoich. 24 — c. 458 a.</td>\n",
       "      <td>None</td>\n",
       "      <td>17.0</td>\n",
       "      <td>\\n1\\n\\n\\n\\n\\n5\\n\\n\\n\\n\\n\\n10\\n\\n\\n\\n\\n\\n15\\n\\n\\n</td>\n",
       "      <td>[ἔδοχσεν τε͂ι βο]λε̣͂ι καὶ το͂[ι δέμ]-\\n[οι· ․...</td>\n",
       "      <td>IG-I-3.csv</td>\n",
       "      <td>9</td>\n",
       "      <td>Regions\\nAttica (IG I-III)Attica</td>\n",
       "      <td>IG I³\\n9</td>\n",
       "      <td>λε͂ι καὶ το͂υτάνευε Αἰ ευε Μένυλλίες εἶπε χσσυ...</td>\n",
       "      <td>ἔδοχσεν τε͂ι βολε͂ι καὶ το͂ι δέμοι ντὶς ἐπρυτά...</td>\n",
       "      <td>ἔδοχσεν τε͂ι βολε͂ι καὶ το͂ι δέμοι ․․․ντὶς ἐπρ...</td>\n",
       "      <td>c. 458 a.</td>\n",
       "      <td>{'or': None, 'not_before': -463, 'not_after': ...</td>\n",
       "      <td>-463.0</td>\n",
       "      <td>-453.0</td>\n",
       "      <td>None</td>\n",
       "      <td>[exact, phase, ca]</td>\n",
       "      <td>None</td>\n",
       "      <td>None</td>\n",
       "      <td>[-458, -455, -460, -455, -457, -462, -460, -45...</td>\n",
       "    </tr>\n",
       "    <tr>\n",
       "      <th>9</th>\n",
       "      <td>https://epigraphy.packhum.org/text/10</td>\n",
       "      <td>IG I³</td>\n",
       "      <td>10</td>\n",
       "      <td>Regions\\n\\nAttica (IG I-III)Attica</td>\n",
       "      <td>None</td>\n",
       "      <td>Att. — stoich. 22 — 469-450</td>\n",
       "      <td>None</td>\n",
       "      <td>29.0</td>\n",
       "      <td>\\n1\\n\\n\\n\\n\\n5\\n\\n\\n\\n\\n\\n\\n10\\n\\n\\n\\n\\n\\n15\\n...</td>\n",
       "      <td>[ἔδο]ξεν τῆι βολῆι καὶ τῶι δ[ή]-\\n[μωι· Ἀ]καμα...</td>\n",
       "      <td>IG-I-3.csv</td>\n",
       "      <td>10</td>\n",
       "      <td>Regions\\nAttica (IG I-III)Attica</td>\n",
       "      <td>IG I³\\n10</td>\n",
       "      <td>ξεν τῆι βολῆι καὶ τῶι δκαμαντὶς πρυτάνευε νάσι...</td>\n",
       "      <td>ἔδοξεν τῆι βολῆι καὶ τῶι δήμωι Ἀκαμαντὶς ἐπρυτ...</td>\n",
       "      <td>ἔδοξεν τῆι βολῆι καὶ τῶι δήμωι Ἀκαμαντὶς ἐπρυτ...</td>\n",
       "      <td>469-450</td>\n",
       "      <td>{'or': None, 'not_before': -469, 'not_after': ...</td>\n",
       "      <td>-469.0</td>\n",
       "      <td>-450.0</td>\n",
       "      <td>None</td>\n",
       "      <td>[range]</td>\n",
       "      <td>None</td>\n",
       "      <td>None</td>\n",
       "      <td>[-463, -459, -454, -465, -466, -460, -458, -45...</td>\n",
       "    </tr>\n",
       "    <tr>\n",
       "      <th>10</th>\n",
       "      <td>https://epigraphy.packhum.org/text/11</td>\n",
       "      <td>IG I³</td>\n",
       "      <td>11</td>\n",
       "      <td>Regions\\n\\nAttica (IG I-III)Attica</td>\n",
       "      <td>None</td>\n",
       "      <td>Att. — stoich. 48 — ante med. s. V a.</td>\n",
       "      <td>None</td>\n",
       "      <td>23.0</td>\n",
       "      <td>\\nfrg. a.1\\n\\n\\n\\n\\n5\\n\\n\\n\\n\\n\\n10\\n\\n\\n\\n\\n\\...</td>\n",
       "      <td>[χσυμμαχία καὶ ℎόρ]κ̣ο̣[ς] Ἀ̣[θ]ε̣ν̣α̣[ίον κα]...</td>\n",
       "      <td>IG-I-3.csv</td>\n",
       "      <td>11</td>\n",
       "      <td>Regions\\nAttica (IG I-III)Attica</td>\n",
       "      <td>IG I³\\n11</td>\n",
       "      <td>κο Ἀεναὶ Ἐγεσταί ο͂ι ἐπρυτάνευε οΙ ον ἐ͂ρχε Ἀ...</td>\n",
       "      <td>χσυμμαχία καὶ ℎόρκος Ἀθεναίον καὶ Ἐγεσταίον ἔδ...</td>\n",
       "      <td>χσυμμαχία καὶ ℎόρκος Ἀθεναίον καὶ Ἐγεσταίον. ἔ...</td>\n",
       "      <td>ante med. s. V a.</td>\n",
       "      <td>{'or': None, 'not_before': None, 'not_after': ...</td>\n",
       "      <td>NaN</td>\n",
       "      <td>-456.0</td>\n",
       "      <td>None</td>\n",
       "      <td>[range, cent, phase, middle, ante]</td>\n",
       "      <td>None</td>\n",
       "      <td>None</td>\n",
       "      <td>[-467, -487, -490, -472, -464, -459, -513, -48...</td>\n",
       "    </tr>\n",
       "    <tr>\n",
       "      <th>11</th>\n",
       "      <td>https://epigraphy.packhum.org/text/12</td>\n",
       "      <td>IG I³</td>\n",
       "      <td>12</td>\n",
       "      <td>Regions\\n\\nAttica (IG I-III)Attica</td>\n",
       "      <td>None</td>\n",
       "      <td>Att. — stoich. 54 — c. 433/2 a.</td>\n",
       "      <td>None</td>\n",
       "      <td>7.0</td>\n",
       "      <td>\\n1\\n\\n\\n\\n\\n5\\n\\n\\n</td>\n",
       "      <td>[ἔδοχσε]ν τε͂ι βολε͂ι [καὶ το͂ι δέμοι· ․․․c.9․...</td>\n",
       "      <td>IG-I-3.csv</td>\n",
       "      <td>12</td>\n",
       "      <td>Regions\\nAttica (IG I-III)Attica</td>\n",
       "      <td>IG I³\\n12</td>\n",
       "      <td>ν τε͂ι βολε͂ι μάτευε Ἀρ κυαίοις Ἐλα τὰ πρὸς Ἀθ...</td>\n",
       "      <td>ἔδοχσεν τε͂ι βολε͂ι καὶ το͂ι δέμοι c ἐπρυτάνευ...</td>\n",
       "      <td>ἔδοχσεν τε͂ι βολε͂ι καὶ το͂ι δέμοι ․․․c.․․․ ἐπ...</td>\n",
       "      <td>c. 433/2 a.</td>\n",
       "      <td>{'or': None, 'not_before': -433, 'not_after': ...</td>\n",
       "      <td>-433.0</td>\n",
       "      <td>-432.0</td>\n",
       "      <td>None</td>\n",
       "      <td>[range, phase, ca]</td>\n",
       "      <td>None</td>\n",
       "      <td>None</td>\n",
       "      <td>[-433, -433, -433, -432, -433, -433, -432, -43...</td>\n",
       "    </tr>\n",
       "    <tr>\n",
       "      <th>12</th>\n",
       "      <td>https://epigraphy.packhum.org/text/13</td>\n",
       "      <td>IG I³</td>\n",
       "      <td>13</td>\n",
       "      <td>Regions\\n\\nAttica (IG I-III)Attica</td>\n",
       "      <td>None</td>\n",
       "      <td>Att. — stoich. — 465-450</td>\n",
       "      <td>None</td>\n",
       "      <td>13.0</td>\n",
       "      <td>\\nfrg. a.1\\n\\n\\n\\n\\n\\nfrg. b.5\\n\\n\\n\\n\\n\\n10\\n...</td>\n",
       "      <td>— — χαι — —\\n— — ε̣σσθα̣ — —\\n— — [․]λιστ — —\\...</td>\n",
       "      <td>IG-I-3.csv</td>\n",
       "      <td>13</td>\n",
       "      <td>Regions\\nAttica (IG I-III)Attica</td>\n",
       "      <td>IG I³\\n13</td>\n",
       "      <td>χαι εσσθα λιστ νεμ ενν ℎότι οδομεν ον δὲ καὶ ν...</td>\n",
       "      <td>χαι εσσθα λιστ νεμ ενν ℎότι οδομεν ον δὲ καὶ ν...</td>\n",
       "      <td>χαι εσσθα λιστ νεμ ενν ℎότι οδομεν ον δὲ καὶ ν...</td>\n",
       "      <td>465-450</td>\n",
       "      <td>{'or': None, 'not_before': -465, 'not_after': ...</td>\n",
       "      <td>-465.0</td>\n",
       "      <td>-450.0</td>\n",
       "      <td>None</td>\n",
       "      <td>[range]</td>\n",
       "      <td>None</td>\n",
       "      <td>None</td>\n",
       "      <td>[-453, -463, -454, -455, -460, -464, -464, -45...</td>\n",
       "    </tr>\n",
       "    <tr>\n",
       "      <th>13</th>\n",
       "      <td>https://epigraphy.packhum.org/text/14</td>\n",
       "      <td>IG I³</td>\n",
       "      <td>14</td>\n",
       "      <td>Regions\\n\\nAttica (IG I-III)Attica</td>\n",
       "      <td>None</td>\n",
       "      <td>Att. — stoich. 23 — 453/2?</td>\n",
       "      <td>None</td>\n",
       "      <td>48.0</td>\n",
       "      <td>\\n1\\n\\n\\n\\n\\n5\\n\\n\\n\\n\\n\\n10\\n\\n\\n\\n\\n\\n15\\n\\n...</td>\n",
       "      <td>[ἔδοχσεν τε͂ι βολε͂ι καὶ το͂ι δέμοι· — — — ἐπρ...</td>\n",
       "      <td>IG-I-3.csv</td>\n",
       "      <td>14</td>\n",
       "      <td>Regions\\nAttica (IG I-III)Attica</td>\n",
       "      <td>IG I³\\n14</td>\n",
       "      <td>ἐπεστάτε ΛΙος ἀπάγεν στο Παναθέναια τὰ μεγάχσν...</td>\n",
       "      <td>ἔδοχσεν τε͂ι βολε͂ι καὶ το͂ι δέμοι ἐπρυτάνευε ...</td>\n",
       "      <td>ἔδοχσεν τε͂ι βολε͂ι καὶ το͂ι δέμοι ἐπρυτάνευε,...</td>\n",
       "      <td>453/2?</td>\n",
       "      <td>{'or': None, 'certainty': '?', 'not_before': -...</td>\n",
       "      <td>-453.0</td>\n",
       "      <td>-452.0</td>\n",
       "      <td>None</td>\n",
       "      <td>[range]</td>\n",
       "      <td>?</td>\n",
       "      <td>None</td>\n",
       "      <td>[-453, -452, -453, -453, -453, -452, -452, -45...</td>\n",
       "    </tr>\n",
       "    <tr>\n",
       "      <th>14</th>\n",
       "      <td>https://epigraphy.packhum.org/text/15</td>\n",
       "      <td>IG I³</td>\n",
       "      <td>15</td>\n",
       "      <td>Regions\\n\\nAttica (IG I-III)Attica</td>\n",
       "      <td>None</td>\n",
       "      <td>Att. — stoich. 47 — c. 450 a.</td>\n",
       "      <td>None</td>\n",
       "      <td>50.0</td>\n",
       "      <td>\\nfrg. c.1\\n\\n\\n\\n\\n\\nfrg. b.5\\n\\n\\n\\n\\n\\n10\\n...</td>\n",
       "      <td>— — ΧΙ — —\\n— — ΔΙ — —\\n— — ΟΛ — —\\n— — ΟΝ̣ — ...</td>\n",
       "      <td>IG-I-3.csv</td>\n",
       "      <td>15</td>\n",
       "      <td>Regions\\nAttica (IG I-III)Attica</td>\n",
       "      <td>IG I³\\n15</td>\n",
       "      <td>ΧΙ ΔΙ ΟΛ ΟΝ lacuna ανε ι ἐπι δραχμὰς παρει τα ...</td>\n",
       "      <td>ΧΙ ΔΙ ΟΛ ΟΝ lacuna ανε ι ἐπι δραχμὰς παρει τα ...</td>\n",
       "      <td>ΧΙ ΔΙ ΟΛ ΟΝ lacuna ․․․․․ανε ․․․․ι ἐπι ․․․ δραχ...</td>\n",
       "      <td>c. 450 a.</td>\n",
       "      <td>{'or': None, 'not_before': -455, 'not_after': ...</td>\n",
       "      <td>-455.0</td>\n",
       "      <td>-445.0</td>\n",
       "      <td>None</td>\n",
       "      <td>[exact, phase, ca]</td>\n",
       "      <td>None</td>\n",
       "      <td>None</td>\n",
       "      <td>[-446, -450, -452, -454, -449, -450, -448, -45...</td>\n",
       "    </tr>\n",
       "    <tr>\n",
       "      <th>15</th>\n",
       "      <td>https://epigraphy.packhum.org/text/16</td>\n",
       "      <td>IG I³</td>\n",
       "      <td>16</td>\n",
       "      <td>Regions\\n\\nAttica (IG I-III)Attica</td>\n",
       "      <td>None</td>\n",
       "      <td>Att. — stoich. — c. 450 a.</td>\n",
       "      <td>None</td>\n",
       "      <td>24.0</td>\n",
       "      <td>\\nfrg. a\\n\\n1\\n\\n\\n\\n\\n5\\n\\n\\n\\n\\n\\n10\\n\\n\\n\\n...</td>\n",
       "      <td>vestigia\\n[․]ται ἐὰμ — — — — — — — — — — —\\n[․...</td>\n",
       "      <td>IG-I-3.csv</td>\n",
       "      <td>16</td>\n",
       "      <td>Regions\\nAttica (IG I-III)Attica</td>\n",
       "      <td>IG I³\\n16</td>\n",
       "      <td>vestigia ται ἐὰμ σθο ατ ΛΛΟΤ τα καὶ τεμ ΟΛΕ τὲ...</td>\n",
       "      <td>vestigia ται ἐὰμ σθο ατ ΛΛΟΤ τα καὶ τ εμ ΟΛΕ τ...</td>\n",
       "      <td>vestigia ται ἐὰμ σθο ατ ΛΛΟΤ τα καὶ τ․․․․εμ ․․...</td>\n",
       "      <td>c. 450 a.</td>\n",
       "      <td>{'or': None, 'not_before': -455, 'not_after': ...</td>\n",
       "      <td>-455.0</td>\n",
       "      <td>-445.0</td>\n",
       "      <td>None</td>\n",
       "      <td>[exact, phase, ca]</td>\n",
       "      <td>None</td>\n",
       "      <td>None</td>\n",
       "      <td>[-446, -448, -451, -450, -451, -448, -446, -44...</td>\n",
       "    </tr>\n",
       "    <tr>\n",
       "      <th>16</th>\n",
       "      <td>https://epigraphy.packhum.org/text/17</td>\n",
       "      <td>IG I³</td>\n",
       "      <td>17</td>\n",
       "      <td>Regions\\n\\nAttica (IG I-III)Attica</td>\n",
       "      <td>None</td>\n",
       "      <td>Att. — stoich. 23 — 451/0</td>\n",
       "      <td>None</td>\n",
       "      <td>18.0</td>\n",
       "      <td>\\nfrg. a.1\\n\\n\\n\\n\\n5\\n\\n\\n\\n\\n\\n10\\n\\nfrg. b....</td>\n",
       "      <td>Σιγ[ειέον].\\n[ἔ]δοχσεν τε͂[ι βολε͂ι καὶ το͂ι δ...</td>\n",
       "      <td>IG-I-3.csv</td>\n",
       "      <td>17</td>\n",
       "      <td>Regions\\nAttica (IG I-III)Attica</td>\n",
       "      <td>IG I³\\n17</td>\n",
       "      <td>Σιγ δοχσεν τε͂οι Οἰνες ς ἐγραμμάτπεστάτε Ἀν χί...</td>\n",
       "      <td>Σιγειέον ἔδοχσεν τε͂ι βολε͂ι καὶ το͂ι δέμοι Οἰ...</td>\n",
       "      <td>Σιγειέον. ἔδοχσεν τε͂ι βολε͂ι καὶ το͂ι δέμοι Ο...</td>\n",
       "      <td>451/0</td>\n",
       "      <td>{'or': None, 'not_before': -451, 'not_after': ...</td>\n",
       "      <td>-451.0</td>\n",
       "      <td>-450.0</td>\n",
       "      <td>None</td>\n",
       "      <td>[range]</td>\n",
       "      <td>None</td>\n",
       "      <td>None</td>\n",
       "      <td>[-451, -451, -450, -451, -450, -451, -450, -45...</td>\n",
       "    </tr>\n",
       "    <tr>\n",
       "      <th>17</th>\n",
       "      <td>https://epigraphy.packhum.org/text/18</td>\n",
       "      <td>IG I³</td>\n",
       "      <td>18</td>\n",
       "      <td>Regions\\n\\nAttica (IG I-III)Attica</td>\n",
       "      <td>None</td>\n",
       "      <td>Att. — stoich. — c. 450 a.</td>\n",
       "      <td>None</td>\n",
       "      <td>27.0</td>\n",
       "      <td>\\nfrg. a.1\\n\\n\\n\\n\\n5\\n\\n\\n\\n\\n\\n10\\n\\n\\nfrg. ...</td>\n",
       "      <td>προ[χσένον καὶ εὐεργετο͂ν]\\nἈθενα[ίον — — — — ...</td>\n",
       "      <td>IG-I-3.csv</td>\n",
       "      <td>18</td>\n",
       "      <td>Regions\\nAttica (IG I-III)Attica</td>\n",
       "      <td>IG I³\\n18</td>\n",
       "      <td>προ Ἀθενα Παριαν Ἀθενοδ Ἱκεσίο ἔδοχσεν τε͂άνευ...</td>\n",
       "      <td>προχσένον καὶ εὐεργετο͂ν Ἀθεναίον Παριανο͂ν Ἀθ...</td>\n",
       "      <td>προχσένον καὶ εὐεργετο͂ν Ἀθεναίον Παριανο͂ν Ἀθ...</td>\n",
       "      <td>c. 450 a.</td>\n",
       "      <td>{'or': None, 'not_before': -455, 'not_after': ...</td>\n",
       "      <td>-455.0</td>\n",
       "      <td>-445.0</td>\n",
       "      <td>None</td>\n",
       "      <td>[exact, phase, ca]</td>\n",
       "      <td>None</td>\n",
       "      <td>None</td>\n",
       "      <td>[-451, -452, -449, -451, -450, -449, -453, -44...</td>\n",
       "    </tr>\n",
       "    <tr>\n",
       "      <th>18</th>\n",
       "      <td>https://epigraphy.packhum.org/text/19</td>\n",
       "      <td>IG I³</td>\n",
       "      <td>19</td>\n",
       "      <td>Regions\\n\\nAttica (IG I-III)Attica</td>\n",
       "      <td>None</td>\n",
       "      <td>Att. — stoich. 28 — c. 450/49 a.</td>\n",
       "      <td>None</td>\n",
       "      <td>13.0</td>\n",
       "      <td>\\n1\\n\\n\\n\\n\\n5\\n\\n\\n\\n\\n\\n10\\n\\n\\n\\n</td>\n",
       "      <td>[․․․․ ἐ͂ναι] δ α[ὐτὸν πρόχσενον Ἀθενα]-\\n[ίον...</td>\n",
       "      <td>IG-I-3.csv</td>\n",
       "      <td>19</td>\n",
       "      <td>Regions\\nAttica (IG I-III)Attica</td>\n",
       "      <td>IG I³\\n19</td>\n",
       "      <td>δ αὐεργέτε αι Ἀχελοΐοατὰ τούτον Ἀέμαρχον πρυτὲ...</td>\n",
       "      <td>ἐ͂ναι δ αὐτὸν πρόχσενον Ἀθεναίον καὶ εὐεργέτε...</td>\n",
       "      <td>․․․․ ἐ͂ναι δ αὐτὸν πρόχσενον Ἀθεναίον καὶ εὐε...</td>\n",
       "      <td>c. 450/49 a.</td>\n",
       "      <td>{'or': None, 'not_before': -450, 'not_after': ...</td>\n",
       "      <td>-450.0</td>\n",
       "      <td>-449.0</td>\n",
       "      <td>None</td>\n",
       "      <td>[range, phase, ca]</td>\n",
       "      <td>None</td>\n",
       "      <td>None</td>\n",
       "      <td>[-449, -449, -449, -449, -450, -449, -450, -45...</td>\n",
       "    </tr>\n",
       "    <tr>\n",
       "      <th>19</th>\n",
       "      <td>https://epigraphy.packhum.org/text/20</td>\n",
       "      <td>IG I³</td>\n",
       "      <td>20</td>\n",
       "      <td>Regions\\n\\nAttica (IG I-III)Attica</td>\n",
       "      <td>None</td>\n",
       "      <td>Att. — stoich. — c. 450 a.</td>\n",
       "      <td>None</td>\n",
       "      <td>11.0</td>\n",
       "      <td>\\n1\\n\\n\\n\\n\\n5\\n\\n\\n\\n\\n\\n10\\n\\n</td>\n",
       "      <td>[— — — — — — — —  ․․․․] καὶ — — — — — — — — —\\...</td>\n",
       "      <td>IG-I-3.csv</td>\n",
       "      <td>20</td>\n",
       "      <td>Regions\\nAttica (IG I-III)Attica</td>\n",
       "      <td>IG I³\\n20</td>\n",
       "      <td>καὶ κε͂ται ὸν δε͂μο ολις τ ότοις οι ἂν κυρ δέο...</td>\n",
       "      <td>καὶ ℎόπος ἂν μὲ ἀδικε͂ται τὸν δε͂μον ολις τ πρ...</td>\n",
       "      <td>․․․․ καὶ ℎόπος ἂν μὲ ἀδικε͂ται τὸν δε͂μον ․․ολ...</td>\n",
       "      <td>c. 450 a.</td>\n",
       "      <td>{'or': None, 'not_before': -455, 'not_after': ...</td>\n",
       "      <td>-455.0</td>\n",
       "      <td>-445.0</td>\n",
       "      <td>None</td>\n",
       "      <td>[exact, phase, ca]</td>\n",
       "      <td>None</td>\n",
       "      <td>None</td>\n",
       "      <td>[-452, -453, -446, -452, -449, -453, -449, -45...</td>\n",
       "    </tr>\n",
       "  </tbody>\n",
       "</table>\n",
       "</div>"
      ],
      "text/plain": [
       "                                      URL  ...                                       random_dates\n",
       "0    https://epigraphy.packhum.org/text/1  ...  [-506, -500, -507, -504, -511, -508, -499, -50...\n",
       "1    https://epigraphy.packhum.org/text/2  ...  [-495, -495, -499, -502, -502, -497, -499, -50...\n",
       "2    https://epigraphy.packhum.org/text/3  ...  [-481, -489, -481, -487, -482, -486, -483, -48...\n",
       "3    https://epigraphy.packhum.org/text/4  ...  [-485, -485, -484, -485, -484, -484, -484, -48...\n",
       "4    https://epigraphy.packhum.org/text/5  ...  [-501, -498, -497, -498, -501, -499, -498, -49...\n",
       "5    https://epigraphy.packhum.org/text/6  ...  [-491, -473, -470, -483, -488, -463, -486, -46...\n",
       "6    https://epigraphy.packhum.org/text/7  ...  [-454, -459, -456, -451, -453, -455, -455, -45...\n",
       "7    https://epigraphy.packhum.org/text/8  ...  [-453, -454, -455, -456, -456, -458, -456, -45...\n",
       "8    https://epigraphy.packhum.org/text/9  ...  [-458, -455, -460, -455, -457, -462, -460, -45...\n",
       "9   https://epigraphy.packhum.org/text/10  ...  [-463, -459, -454, -465, -466, -460, -458, -45...\n",
       "10  https://epigraphy.packhum.org/text/11  ...  [-467, -487, -490, -472, -464, -459, -513, -48...\n",
       "11  https://epigraphy.packhum.org/text/12  ...  [-433, -433, -433, -432, -433, -433, -432, -43...\n",
       "12  https://epigraphy.packhum.org/text/13  ...  [-453, -463, -454, -455, -460, -464, -464, -45...\n",
       "13  https://epigraphy.packhum.org/text/14  ...  [-453, -452, -453, -453, -453, -452, -452, -45...\n",
       "14  https://epigraphy.packhum.org/text/15  ...  [-446, -450, -452, -454, -449, -450, -448, -45...\n",
       "15  https://epigraphy.packhum.org/text/16  ...  [-446, -448, -451, -450, -451, -448, -446, -44...\n",
       "16  https://epigraphy.packhum.org/text/17  ...  [-451, -451, -450, -451, -450, -451, -450, -45...\n",
       "17  https://epigraphy.packhum.org/text/18  ...  [-451, -452, -449, -451, -450, -449, -453, -44...\n",
       "18  https://epigraphy.packhum.org/text/19  ...  [-449, -449, -449, -449, -450, -449, -450, -45...\n",
       "19  https://epigraphy.packhum.org/text/20  ...  [-452, -453, -446, -452, -449, -453, -449, -45...\n",
       "\n",
       "[20 rows x 26 columns]"
      ]
     },
     "execution_count": 7,
     "metadata": {
      "tags": []
     },
     "output_type": "execute_result"
    }
   ],
   "source": [
    "PHI.head(20)"
   ]
  },
  {
   "cell_type": "markdown",
   "metadata": {
    "colab_type": "text",
    "id": "gKWAlgCsRSNP"
   },
   "source": [
    "# PHI dataset overview"
   ]
  },
  {
   "cell_type": "code",
   "execution_count": 7,
   "metadata": {
    "colab": {
     "base_uri": "https://localhost:8080/",
     "height": 34
    },
    "colab_type": "code",
    "id": "HudEfFf9RQs7",
    "outputId": "9ec3837d-15fa-4238-d2c1-679491a74eba"
   },
   "outputs": [
    {
     "data": {
      "text/plain": [
       "216702"
      ]
     },
     "execution_count": 7,
     "metadata": {
      "tags": []
     },
     "output_type": "execute_result"
    }
   ],
   "source": [
    "len(PHI)"
   ]
  },
  {
   "cell_type": "code",
   "execution_count": 9,
   "metadata": {
    "colab": {
     "base_uri": "https://localhost:8080/",
     "height": 34
    },
    "colab_type": "code",
    "id": "QrsgRKOoRZCh",
    "outputId": "c95d795a-1659-4f99-e178-9c2c932d739f"
   },
   "outputs": [
    {
     "data": {
      "text/plain": [
       "130533"
      ]
     },
     "execution_count": 9,
     "metadata": {
      "tags": []
     },
     "output_type": "execute_result"
    }
   ],
   "source": [
    "len(PHI[PHI[\"random_dates\"].notna()])"
   ]
  },
  {
   "cell_type": "code",
   "execution_count": 8,
   "metadata": {
    "colab": {
     "base_uri": "https://localhost:8080/",
     "height": 34
    },
    "colab_type": "code",
    "id": "NPLXo16Mbanc",
    "outputId": "ffa274c7-5f3b-4480-da30-9862c83db940"
   },
   "outputs": [
    {
     "data": {
      "text/plain": [
       "0.6023617686961819"
      ]
     },
     "execution_count": 8,
     "metadata": {
      "tags": []
     },
     "output_type": "execute_result"
    }
   ],
   "source": [
    "# how many are dated / generated random numbers\n",
    "len(PHI[PHI[\"random_dates\"].notna()]) / len(PHI)"
   ]
  },
  {
   "cell_type": "code",
   "execution_count": 160,
   "metadata": {
    "colab": {
     "base_uri": "https://localhost:8080/",
     "height": 34
    },
    "colab_type": "code",
    "id": "zLL3cdyj0Lpe",
    "outputId": "db129b17-4186-4a6e-c927-926fb7f56d0e"
   },
   "outputs": [
    {
     "data": {
      "text/plain": [
       "124061"
      ]
     },
     "execution_count": 160,
     "metadata": {
      "tags": []
     },
     "output_type": "execute_result"
    }
   ],
   "source": [
    "len(PHI[(PHI[\"not_before\"] >= -800) & (PHI[\"not_before\"] <= 400)])"
   ]
  },
  {
   "cell_type": "code",
   "execution_count": 48,
   "metadata": {
    "colab": {
     "base_uri": "https://localhost:8080/",
     "height": 34
    },
    "colab_type": "code",
    "id": "9KrOsEXh0t7n",
    "outputId": "d7a3afca-5da3-4023-9a57-4034045b4b45"
   },
   "outputs": [
    {
     "data": {
      "text/plain": [
       "3678"
      ]
     },
     "execution_count": 48,
     "metadata": {
      "tags": []
     },
     "output_type": "execute_result"
    }
   ],
   "source": [
    "# post quem\n",
    "post = PHI[PHI[\"not_before\"].notna() & (PHI[\"not_after\"].isna())]\n",
    "len(post)"
   ]
  },
  {
   "cell_type": "code",
   "execution_count": 49,
   "metadata": {
    "colab": {
     "base_uri": "https://localhost:8080/",
     "height": 34
    },
    "colab_type": "code",
    "id": "ID5dnngM0uGT",
    "outputId": "76d2f4a8-d2b4-49c9-d446-db88e017725e"
   },
   "outputs": [
    {
     "data": {
      "text/plain": [
       "806"
      ]
     },
     "execution_count": 49,
     "metadata": {
      "tags": []
     },
     "output_type": "execute_result"
    }
   ],
   "source": [
    "# ante quem\n",
    "ante = PHI[PHI[\"not_after\"].notna() & (PHI[\"not_before\"].isna())]\n",
    "len(ante)"
   ]
  },
  {
   "cell_type": "code",
   "execution_count": 175,
   "metadata": {
    "colab": {
     "base_uri": "https://localhost:8080/",
     "height": 34
    },
    "colab_type": "code",
    "id": "VEvKNE-82tpY",
    "outputId": "de9b78d2-6228-4278-a18c-4b7e6d5bbe26"
   },
   "outputs": [
    {
     "data": {
      "text/plain": [
       "126049"
      ]
     },
     "execution_count": 175,
     "metadata": {
      "tags": []
     },
     "output_type": "execute_result"
    }
   ],
   "source": [
    "ranges = PHI[PHI[\"not_after\"].notna() & (PHI[\"not_before\"].notna())]\n",
    "len(ranges)"
   ]
  },
  {
   "cell_type": "code",
   "execution_count": 177,
   "metadata": {
    "colab": {
     "base_uri": "https://localhost:8080/",
     "height": 34
    },
    "colab_type": "code",
    "id": "zp9Nyuwi21CP",
    "outputId": "aace5d23-c4d4-4147-d12a-fb249cd005ab"
   },
   "outputs": [
    {
     "data": {
      "text/plain": [
       "130533"
      ]
     },
     "execution_count": 177,
     "metadata": {
      "tags": []
     },
     "output_type": "execute_result"
    }
   ],
   "source": [
    "# just for checking...\n",
    "len(ranges) + len(ante) + len(post)"
   ]
  },
  {
   "cell_type": "code",
   "execution_count": 37,
   "metadata": {
    "colab": {},
    "colab_type": "code",
    "id": "l0dUoYds3eKd"
   },
   "outputs": [],
   "source": [
    "def get_duration(start, stop):\n",
    "  try:\n",
    "    duration = abs(int(start) - int(stop)) + 1\n",
    "    if 0 in range(int(start),  int(stop)):\n",
    "      duration = duration - 1\n",
    "  except:\n",
    "    duration = np.nan\n",
    "  return duration\n",
    "  \n",
    "\n",
    "PHI[\"duration\"] = PHI.apply(lambda row: get_duration(row[\"not_before\"], row[\"not_after\"]), axis=1)"
   ]
  },
  {
   "cell_type": "code",
   "execution_count": 71,
   "metadata": {
    "colab": {
     "base_uri": "https://localhost:8080/",
     "height": 34
    },
    "colab_type": "code",
    "id": "GKGdLM29wzy0",
    "outputId": "ee5677f4-143f-4b2e-84ad-163c29436272"
   },
   "outputs": [
    {
     "data": {
      "text/plain": [
       "470"
      ]
     },
     "execution_count": 71,
     "metadata": {
      "tags": []
     },
     "output_type": "execute_result"
    }
   ],
   "source": [
    "get_duration(-146, 324)"
   ]
  },
  {
   "cell_type": "code",
   "execution_count": 72,
   "metadata": {
    "colab": {
     "base_uri": "https://localhost:8080/",
     "height": 34
    },
    "colab_type": "code",
    "id": "kVxdZAXHw9Jg",
    "outputId": "fc11c976-8719-4234-ac41-92058b777b02"
   },
   "outputs": [
    {
     "data": {
      "text/plain": [
       "441"
      ]
     },
     "execution_count": 72,
     "metadata": {
      "tags": []
     },
     "output_type": "execute_result"
    }
   ],
   "source": [
    "get_duration(-31, 410)"
   ]
  },
  {
   "cell_type": "code",
   "execution_count": 42,
   "metadata": {
    "colab": {
     "base_uri": "https://localhost:8080/",
     "height": 34
    },
    "colab_type": "code",
    "id": "iDmY54tNqRU7",
    "outputId": "1b33a6ea-77d8-43e2-c35c-49d579707d0c"
   },
   "outputs": [
    {
     "data": {
      "text/plain": [
       "41096"
      ]
     },
     "execution_count": 42,
     "metadata": {
      "tags": []
     },
     "output_type": "execute_result"
    }
   ],
   "source": [
    "len(PHI[PHI[\"duration\"] > 100])"
   ]
  },
  {
   "cell_type": "code",
   "execution_count": 46,
   "metadata": {
    "colab": {
     "base_uri": "https://localhost:8080/",
     "height": 34
    },
    "colab_type": "code",
    "id": "OgF9Xd6PqhTJ",
    "outputId": "27eafa04-6169-4c55-bad6-1722db096a12"
   },
   "outputs": [
    {
     "data": {
      "text/plain": [
       "26956"
      ]
     },
     "execution_count": 46,
     "metadata": {
      "tags": []
     },
     "output_type": "execute_result"
    }
   ],
   "source": [
    "len(PHI[PHI[\"duration\"] == 100])"
   ]
  },
  {
   "cell_type": "code",
   "execution_count": 69,
   "metadata": {
    "colab": {
     "base_uri": "https://localhost:8080/",
     "height": 34
    },
    "colab_type": "code",
    "id": "Ej8euCsYvo8y",
    "outputId": "3660c619-1afd-4bd8-a356-7aaa1053dd2d"
   },
   "outputs": [
    {
     "data": {
      "text/plain": [
       "19068"
      ]
     },
     "execution_count": 69,
     "metadata": {
      "tags": []
     },
     "output_type": "execute_result"
    }
   ],
   "source": [
    "len(PHI[PHI[\"duration\"] == 200])"
   ]
  },
  {
   "cell_type": "code",
   "execution_count": 44,
   "metadata": {
    "colab": {
     "base_uri": "https://localhost:8080/",
     "height": 34
    },
    "colab_type": "code",
    "id": "PvR2enNtqb8F",
    "outputId": "ba6c98e6-e213-4084-8a13-ad3d4d425447"
   },
   "outputs": [
    {
     "data": {
      "text/plain": [
       "84953"
      ]
     },
     "execution_count": 44,
     "metadata": {
      "tags": []
     },
     "output_type": "execute_result"
    }
   ],
   "source": [
    "len(PHI[PHI[\"duration\"] <= 100])"
   ]
  },
  {
   "cell_type": "code",
   "execution_count": 41,
   "metadata": {
    "colab": {
     "base_uri": "https://localhost:8080/",
     "height": 34
    },
    "colab_type": "code",
    "id": "IBBj9Eh6E7qm",
    "outputId": "7785eed1-9be8-4f6a-ac58-7033828ae635"
   },
   "outputs": [
    {
     "data": {
      "text/plain": [
       "22922"
      ]
     },
     "execution_count": 41,
     "metadata": {
      "tags": []
     },
     "output_type": "execute_result"
    }
   ],
   "source": [
    "len(PHI[PHI[\"duration\"] <= 10])"
   ]
  },
  {
   "cell_type": "code",
   "execution_count": 73,
   "metadata": {
    "colab": {
     "base_uri": "https://localhost:8080/",
     "height": 34
    },
    "colab_type": "code",
    "id": "wN7LxbUy0FAX",
    "outputId": "1f15444d-89bf-46eb-9502-bb1b7b2bbe20"
   },
   "outputs": [
    {
     "data": {
      "text/plain": [
       "49620"
      ]
     },
     "execution_count": 73,
     "metadata": {
      "tags": []
     },
     "output_type": "execute_result"
    }
   ],
   "source": [
    "len(PHI[PHI[\"duration\"] <= 50])"
   ]
  },
  {
   "cell_type": "code",
   "execution_count": 67,
   "metadata": {
    "colab": {
     "base_uri": "https://localhost:8080/",
     "height": 314
    },
    "colab_type": "code",
    "id": "eGlLKLEEsIIQ",
    "outputId": "cd23c7d0-226b-442c-98b2-e0d32c031a3b"
   },
   "outputs": [
    {
     "data": {
      "text/plain": [
       "Text(0.5, 1.0, '')"
      ]
     },
     "execution_count": 67,
     "metadata": {
      "tags": []
     },
     "output_type": "execute_result"
    },
    {
     "data": {
      "image/png": "[encoded data removed]",
      "text/plain": [
       "<Figure size 432x288 with 1 Axes>"
      ]
     },
     "metadata": {
      "needs_background": "light",
      "tags": []
     },
     "output_type": "display_data"
    }
   ],
   "source": [
    "fig, ax = plt.subplots(figsize=(6, 4), tight_layout=True)\n",
    "sns.distplot(PHI[\"duration\"], kde=False, bins=range(-10, 510,20), ax=ax)\n",
    "ax.set_title(\"\")"
   ]
  },
  {
   "cell_type": "code",
   "execution_count": 68,
   "metadata": {
    "colab": {
     "base_uri": "https://localhost:8080/",
     "height": 54
    },
    "colab_type": "code",
    "id": "kbM1zdyntgr5",
    "outputId": "99bb828d-caf7-4a09-8c84-23627b4b7b54"
   },
   "outputs": [
    {
     "name": "stdout",
     "output_type": "stream",
     "text": [
      "Your <class 'matplotlib.figure.Figure'> object has been succefully written as \"https://sciencedata.dk/files/SDAM_root/SDAM_data/temporal_uncertainty/ranges_hist.png\"\n"
     ]
    }
   ],
   "source": [
    "sddk.write_file(\"SDAM_data/temporal_uncertainty/ranges_hist.png\", fig, conf)"
   ]
  },
  {
   "cell_type": "markdown",
   "metadata": {
    "colab_type": "text",
    "id": "hyk8MA7-lmwr"
   },
   "source": [
    "# Simulations with complete dataset"
   ]
  },
  {
   "cell_type": "code",
   "execution_count": 92,
   "metadata": {
    "colab": {
     "base_uri": "https://localhost:8080/",
     "height": 51
    },
    "colab_type": "code",
    "id": "ziLxFuv15soT",
    "outputId": "7592dbaa-bc05-4b4d-b880-9c243a182bff"
   },
   "outputs": [
    {
     "name": "stdout",
     "output_type": "stream",
     "text": [
      "CPU times: user 2min 45s, sys: 2.25 s, total: 2min 47s\n",
      "Wall time: 2min 47s\n"
     ]
    }
   ],
   "source": [
    "%%time\n",
    "PHI_complete_simulations = timeblocks_from_randoms(PHI, \"random_dates\", [-800, 400, 50])"
   ]
  },
  {
   "cell_type": "code",
   "execution_count": 93,
   "metadata": {
    "colab": {
     "base_uri": "https://localhost:8080/",
     "height": 425
    },
    "colab_type": "code",
    "id": "iTMgujfHJzpc",
    "outputId": "b6712e8e-5058-4d93-e291-dce8973a266f"
   },
   "outputs": [
    {
     "data": {
      "text/plain": [
       "[((-800, -751), 13),\n",
       " ((-750, -701), 62),\n",
       " ((-700, -651), 146),\n",
       " ((-650, -601), 260),\n",
       " ((-600, -551), 874),\n",
       " ((-550, -501), 2092),\n",
       " ((-500, -451), 3951),\n",
       " ((-450, -401), 4122),\n",
       " ((-400, -351), 6193),\n",
       " ((-350, -301), 8754),\n",
       " ((-300, -251), 8196),\n",
       " ((-250, -201), 9074),\n",
       " ((-200, -151), 8833),\n",
       " ((-150, -101), 7228),\n",
       " ((-100, -51), 4950),\n",
       " ((-50, -1), 4801),\n",
       " ((1, 50), 6198),\n",
       " ((51, 100), 6220),\n",
       " ((101, 150), 10215),\n",
       " ((151, 200), 10128),\n",
       " ((201, 250), 9163),\n",
       " ((251, 300), 5814),\n",
       " ((301, 350), 3108),\n",
       " ((351, 400), 2689)]"
      ]
     },
     "execution_count": 93,
     "metadata": {
      "tags": []
     },
     "output_type": "execute_result"
    }
   ],
   "source": [
    "PHI_complete_simulations[1]"
   ]
  },
  {
   "cell_type": "code",
   "execution_count": 90,
   "metadata": {
    "colab": {},
    "colab_type": "code",
    "id": "EoR0WCqfbcFc"
   },
   "outputs": [],
   "source": [
    "def desc_stat_from_simulations(simulations):\n",
    "  tups_desc = []\n",
    "  for n in range(len(simulations[0])):\n",
    "    values = [sim[n][1] for sim in simulations]\n",
    "    tups_desc.append((simulations[0][n][0], np.min(values), np.max(values), np.mean(values), np.median(values)))\n",
    "  tups_desc_df = pd.DataFrame(tups_desc)\n",
    "  tups_desc_df.columns = [\"temp_block\", \"min\", \"max\", \"mean\", \"median\"]\n",
    "  return tups_desc_df"
   ]
  },
  {
   "cell_type": "code",
   "execution_count": 95,
   "metadata": {
    "colab": {
     "base_uri": "https://localhost:8080/",
     "height": 824
    },
    "colab_type": "code",
    "id": "-hPkCLWGcP-K",
    "outputId": "97285ce1-5208-4a61-f262-cfc90865ba31"
   },
   "outputs": [
    {
     "data": {
      "text/html": [
       "<div>\n",
       "<style scoped>\n",
       "    .dataframe tbody tr th:only-of-type {\n",
       "        vertical-align: middle;\n",
       "    }\n",
       "\n",
       "    .dataframe tbody tr th {\n",
       "        vertical-align: top;\n",
       "    }\n",
       "\n",
       "    .dataframe thead th {\n",
       "        text-align: right;\n",
       "    }\n",
       "</style>\n",
       "<table border=\"1\" class=\"dataframe\">\n",
       "  <thead>\n",
       "    <tr style=\"text-align: right;\">\n",
       "      <th></th>\n",
       "      <th>min</th>\n",
       "      <th>max</th>\n",
       "      <th>mean</th>\n",
       "      <th>median</th>\n",
       "    </tr>\n",
       "    <tr>\n",
       "      <th>temp_block</th>\n",
       "      <th></th>\n",
       "      <th></th>\n",
       "      <th></th>\n",
       "      <th></th>\n",
       "    </tr>\n",
       "  </thead>\n",
       "  <tbody>\n",
       "    <tr>\n",
       "      <th>(-800, -751)</th>\n",
       "      <td>6</td>\n",
       "      <td>18</td>\n",
       "      <td>11.543</td>\n",
       "      <td>11.0</td>\n",
       "    </tr>\n",
       "    <tr>\n",
       "      <th>(-750, -701)</th>\n",
       "      <td>44</td>\n",
       "      <td>65</td>\n",
       "      <td>55.946</td>\n",
       "      <td>56.0</td>\n",
       "    </tr>\n",
       "    <tr>\n",
       "      <th>(-700, -651)</th>\n",
       "      <td>134</td>\n",
       "      <td>187</td>\n",
       "      <td>161.582</td>\n",
       "      <td>162.0</td>\n",
       "    </tr>\n",
       "    <tr>\n",
       "      <th>(-650, -601)</th>\n",
       "      <td>231</td>\n",
       "      <td>298</td>\n",
       "      <td>259.824</td>\n",
       "      <td>260.0</td>\n",
       "    </tr>\n",
       "    <tr>\n",
       "      <th>(-600, -551)</th>\n",
       "      <td>815</td>\n",
       "      <td>951</td>\n",
       "      <td>882.957</td>\n",
       "      <td>883.0</td>\n",
       "    </tr>\n",
       "    <tr>\n",
       "      <th>(-550, -501)</th>\n",
       "      <td>1975</td>\n",
       "      <td>2133</td>\n",
       "      <td>2056.133</td>\n",
       "      <td>2057.0</td>\n",
       "    </tr>\n",
       "    <tr>\n",
       "      <th>(-500, -451)</th>\n",
       "      <td>3836</td>\n",
       "      <td>4058</td>\n",
       "      <td>3941.470</td>\n",
       "      <td>3942.0</td>\n",
       "    </tr>\n",
       "    <tr>\n",
       "      <th>(-450, -401)</th>\n",
       "      <td>4000</td>\n",
       "      <td>4219</td>\n",
       "      <td>4113.202</td>\n",
       "      <td>4113.0</td>\n",
       "    </tr>\n",
       "    <tr>\n",
       "      <th>(-400, -351)</th>\n",
       "      <td>6081</td>\n",
       "      <td>6356</td>\n",
       "      <td>6216.112</td>\n",
       "      <td>6215.0</td>\n",
       "    </tr>\n",
       "    <tr>\n",
       "      <th>(-350, -301)</th>\n",
       "      <td>8602</td>\n",
       "      <td>8899</td>\n",
       "      <td>8764.743</td>\n",
       "      <td>8767.5</td>\n",
       "    </tr>\n",
       "    <tr>\n",
       "      <th>(-300, -251)</th>\n",
       "      <td>7976</td>\n",
       "      <td>8323</td>\n",
       "      <td>8152.186</td>\n",
       "      <td>8154.0</td>\n",
       "    </tr>\n",
       "    <tr>\n",
       "      <th>(-250, -201)</th>\n",
       "      <td>8919</td>\n",
       "      <td>9242</td>\n",
       "      <td>9071.767</td>\n",
       "      <td>9073.0</td>\n",
       "    </tr>\n",
       "    <tr>\n",
       "      <th>(-200, -151)</th>\n",
       "      <td>8737</td>\n",
       "      <td>9110</td>\n",
       "      <td>8949.907</td>\n",
       "      <td>8949.5</td>\n",
       "    </tr>\n",
       "    <tr>\n",
       "      <th>(-150, -101)</th>\n",
       "      <td>6986</td>\n",
       "      <td>7335</td>\n",
       "      <td>7126.712</td>\n",
       "      <td>7125.0</td>\n",
       "    </tr>\n",
       "    <tr>\n",
       "      <th>(-100, -51)</th>\n",
       "      <td>4807</td>\n",
       "      <td>5125</td>\n",
       "      <td>4963.503</td>\n",
       "      <td>4965.5</td>\n",
       "    </tr>\n",
       "    <tr>\n",
       "      <th>(-50, -1)</th>\n",
       "      <td>4594</td>\n",
       "      <td>4914</td>\n",
       "      <td>4757.593</td>\n",
       "      <td>4759.0</td>\n",
       "    </tr>\n",
       "    <tr>\n",
       "      <th>(1, 50)</th>\n",
       "      <td>6007</td>\n",
       "      <td>6361</td>\n",
       "      <td>6159.443</td>\n",
       "      <td>6160.0</td>\n",
       "    </tr>\n",
       "    <tr>\n",
       "      <th>(51, 100)</th>\n",
       "      <td>6046</td>\n",
       "      <td>6375</td>\n",
       "      <td>6205.856</td>\n",
       "      <td>6205.0</td>\n",
       "    </tr>\n",
       "    <tr>\n",
       "      <th>(101, 150)</th>\n",
       "      <td>10002</td>\n",
       "      <td>10460</td>\n",
       "      <td>10231.878</td>\n",
       "      <td>10231.0</td>\n",
       "    </tr>\n",
       "    <tr>\n",
       "      <th>(151, 200)</th>\n",
       "      <td>9954</td>\n",
       "      <td>10355</td>\n",
       "      <td>10151.646</td>\n",
       "      <td>10150.0</td>\n",
       "    </tr>\n",
       "    <tr>\n",
       "      <th>(201, 250)</th>\n",
       "      <td>8980</td>\n",
       "      <td>9354</td>\n",
       "      <td>9164.804</td>\n",
       "      <td>9163.0</td>\n",
       "    </tr>\n",
       "    <tr>\n",
       "      <th>(251, 300)</th>\n",
       "      <td>5691</td>\n",
       "      <td>6071</td>\n",
       "      <td>5866.897</td>\n",
       "      <td>5867.0</td>\n",
       "    </tr>\n",
       "    <tr>\n",
       "      <th>(301, 350)</th>\n",
       "      <td>2962</td>\n",
       "      <td>3245</td>\n",
       "      <td>3098.900</td>\n",
       "      <td>3099.0</td>\n",
       "    </tr>\n",
       "    <tr>\n",
       "      <th>(351, 400)</th>\n",
       "      <td>2605</td>\n",
       "      <td>2853</td>\n",
       "      <td>2727.464</td>\n",
       "      <td>2727.5</td>\n",
       "    </tr>\n",
       "  </tbody>\n",
       "</table>\n",
       "</div>"
      ],
      "text/plain": [
       "                min    max       mean   median\n",
       "temp_block                                    \n",
       "(-800, -751)      6     18     11.543     11.0\n",
       "(-750, -701)     44     65     55.946     56.0\n",
       "(-700, -651)    134    187    161.582    162.0\n",
       "(-650, -601)    231    298    259.824    260.0\n",
       "(-600, -551)    815    951    882.957    883.0\n",
       "(-550, -501)   1975   2133   2056.133   2057.0\n",
       "(-500, -451)   3836   4058   3941.470   3942.0\n",
       "(-450, -401)   4000   4219   4113.202   4113.0\n",
       "(-400, -351)   6081   6356   6216.112   6215.0\n",
       "(-350, -301)   8602   8899   8764.743   8767.5\n",
       "(-300, -251)   7976   8323   8152.186   8154.0\n",
       "(-250, -201)   8919   9242   9071.767   9073.0\n",
       "(-200, -151)   8737   9110   8949.907   8949.5\n",
       "(-150, -101)   6986   7335   7126.712   7125.0\n",
       "(-100, -51)    4807   5125   4963.503   4965.5\n",
       "(-50, -1)      4594   4914   4757.593   4759.0\n",
       "(1, 50)        6007   6361   6159.443   6160.0\n",
       "(51, 100)      6046   6375   6205.856   6205.0\n",
       "(101, 150)    10002  10460  10231.878  10231.0\n",
       "(151, 200)     9954  10355  10151.646  10150.0\n",
       "(201, 250)     8980   9354   9164.804   9163.0\n",
       "(251, 300)     5691   6071   5866.897   5867.0\n",
       "(301, 350)     2962   3245   3098.900   3099.0\n",
       "(351, 400)     2605   2853   2727.464   2727.5"
      ]
     },
     "execution_count": 95,
     "metadata": {
      "tags": []
     },
     "output_type": "execute_result"
    }
   ],
   "source": [
    "sims_by_blocks = desc_stat_from_simulations(PHI_complete_simulations)\n",
    "sims_by_blocks.set_index(\"temp_block\", inplace=True)\n",
    "sims_by_blocks"
   ]
  },
  {
   "cell_type": "code",
   "execution_count": 18,
   "metadata": {
    "colab": {},
    "colab_type": "code",
    "id": "v3VBk6Bqbs0o"
   },
   "outputs": [],
   "source": [
    "from pandas.plotting import table"
   ]
  },
  {
   "cell_type": "code",
   "execution_count": 139,
   "metadata": {
    "colab": {
     "base_uri": "https://localhost:8080/",
     "height": 441
    },
    "colab_type": "code",
    "id": "vzqR7aMgbu54",
    "outputId": "0471fdc0-cfff-4a93-bc82-5796e4613a12"
   },
   "outputs": [
    {
     "data": {
      "image/png": "[encoded data removed]",
      "text/plain": [
       "<Figure size 576x432 with 1 Axes>"
      ]
     },
     "metadata": {
      "needs_background": "light",
      "tags": []
     },
     "output_type": "display_data"
    }
   ],
   "source": [
    "fig, ax = plt.subplots(figsize=(8,6), tight_layout=True)\n",
    "ax.xaxis.set_visible(False)  # hide the x axis\n",
    "ax.yaxis.set_visible(False)  # hide the y axis\n",
    "ax.set_frame_on(False)\n",
    "tabla = table(ax, sims_by_blocks, loc='upper right', colWidths=[0.2]*len(sims_by_blocks.columns))\n",
    "tabla.auto_set_font_size(False) # Activate set fontsize manually\n",
    "tabla.set_fontsize(12) # if ++fontsize is necessary ++colWidths\n",
    "tabla.scale(1.2, 1.2) "
   ]
  },
  {
   "cell_type": "code",
   "execution_count": 140,
   "metadata": {
    "colab": {
     "base_uri": "https://localhost:8080/",
     "height": 88
    },
    "colab_type": "code",
    "id": "74cCwmncwZuw",
    "outputId": "72ff3135-634a-4da9-858b-ec3ec4e9f581"
   },
   "outputs": [
    {
     "name": "stdout",
     "output_type": "stream",
     "text": [
      "A file with the same name (\"sims_by_blocks.png\") already exists in this location.\n",
      "Press Enter to overwrite it or choose different path and filename: \n",
      "Your <class 'matplotlib.figure.Figure'> object has been succefully written as \"https://sciencedata.dk/files/SDAM_root/SDAM_data/temporal_uncertainty/sims_by_blocks.png\"\n"
     ]
    }
   ],
   "source": [
    "sddk.write_file(\"SDAM_data/temporal_uncertainty/sims_by_blocks.png\", fig, conf)"
   ]
  },
  {
   "cell_type": "code",
   "execution_count": 17,
   "metadata": {
    "colab": {
     "base_uri": "https://localhost:8080/",
     "height": 54
    },
    "colab_type": "code",
    "id": "wk6YK2LnZccJ",
    "outputId": "aafe92a2-822b-4a49-ff6b-882e2aef35ea"
   },
   "outputs": [
    {
     "name": "stdout",
     "output_type": "stream",
     "text": [
      "Your <class 'pandas.core.frame.DataFrame'> object has been succefully written as \"https://sciencedata.dk/files/SDAM_root/SDAM_data/temporal_uncertainty/sims_by_blocks.csv\"\n"
     ]
    }
   ],
   "source": [
    "sddk.write_file(\"SDAM_data/temporal_uncertainty/sims_by_blocks.csv\", sims_by_blocks, conf)"
   ]
  },
  {
   "cell_type": "code",
   "execution_count": 141,
   "metadata": {
    "colab": {
     "base_uri": "https://localhost:8080/",
     "height": 34
    },
    "colab_type": "code",
    "id": "snE9__N9wVP1",
    "outputId": "116d396a-1477-4be1-807b-c103c0e174df"
   },
   "outputs": [
    {
     "data": {
      "text/plain": [
       "214"
      ]
     },
     "execution_count": 141,
     "metadata": {
      "tags": []
     },
     "output_type": "execute_result"
    }
   ],
   "source": [
    "# compare in how many instances is there less inscriptions for the first half of the 2nd c. than for the second half.\n",
    "len([sim for sim in PHI_complete_simulations if sim[18][1] < sim[19][1]])"
   ]
  },
  {
   "cell_type": "code",
   "execution_count": 148,
   "metadata": {
    "colab": {
     "base_uri": "https://localhost:8080/",
     "height": 34
    },
    "colab_type": "code",
    "id": "iWTEYODfyb5d",
    "outputId": "aa1c19fd-023e-45e8-d45a-fb6a053a49c2"
   },
   "outputs": [
    {
     "data": {
      "text/plain": [
       "126049"
      ]
     },
     "execution_count": 148,
     "metadata": {
      "tags": []
     },
     "output_type": "execute_result"
    }
   ],
   "source": [
    "len([date for date in PHI_date_avr if not np.isnan(date)])"
   ]
  },
  {
   "cell_type": "markdown",
   "metadata": {
    "colab_type": "text",
    "id": "fbjH4SkY2_nq"
   },
   "source": [
    "# Generate average dates\n",
    "(for comparison)"
   ]
  },
  {
   "cell_type": "code",
   "execution_count": 87,
   "metadata": {
    "colab": {},
    "colab_type": "code",
    "id": "PCBbtemCpj9W"
   },
   "outputs": [],
   "source": [
    "# for a comparison, generate dates based on average values\n",
    "def get_avr(row):\n",
    "  try: \n",
    "    avr = int(np.round(np.mean([row[\"not_before\"], row[\"not_after\"]])))\n",
    "  except:\n",
    "    avr = np.nan\n",
    "  return avr\n",
    "\n",
    "PHI[\"date_avr\"] = PHI.apply(lambda row: get_avr(row), axis=1)\n",
    "\n",
    "#PHI_avr_blocks_ = dates_per_block(PHI_date_avr, sims_by_blocks.index.tolist())"
   ]
  },
  {
   "cell_type": "code",
   "execution_count": 84,
   "metadata": {
    "colab": {
     "base_uri": "https://localhost:8080/",
     "height": 34
    },
    "colab_type": "code",
    "id": "gwhj_UX63itW",
    "outputId": "ad4faebc-343b-4de9-bbbe-5abe4c929223"
   },
   "outputs": [
    {
     "data": {
      "text/plain": [
       "126049"
      ]
     },
     "execution_count": 84,
     "metadata": {
      "tags": []
     },
     "output_type": "execute_result"
    }
   ],
   "source": [
    "len(PHI[PHI[\"date_avr\"].notna()])"
   ]
  },
  {
   "cell_type": "code",
   "execution_count": 88,
   "metadata": {
    "colab": {
     "base_uri": "https://localhost:8080/",
     "height": 54
    },
    "colab_type": "code",
    "id": "Cd8szVyW4NCm",
    "outputId": "4e1ffc3b-520f-4e2e-f07d-c27fbfc6fed9"
   },
   "outputs": [
    {
     "name": "stdout",
     "output_type": "stream",
     "text": [
      "[-505.0, -500.0, -485.0, -484.0, -500.0, nan, -455.0, -455.0, -458.0, -460.0, nan, -432.0, -458.0, -452.0, -450.0, -450.0, -450.0, -450.0, -450.0, -450.0, -450.0, -450.0, -447.0, -450.0, -450.0, -450.0, -450.0, -445.0, -450.0, -450.0, -450.0, -448.0, -448.0, -448.0, -448.0, -424.0, -446.0, -451.0, -446.0, -446.0, -446.0, -444.0, -431.0, -448.0, -445.0, -445.0, -432.0, -438.0, -435.0, -436.0, -435.0, -430.0, -434.0, -432.0, -432.0, -431.0, -430.0, -430.0, -430.0, -430.0, -430.0, -424.0, -428.0, -426.0, -425.0, -426.0, -426.0, -426.0, -426.0, -426.0, -425.0, -424.0, -414.0, -417.0, -424.0, -424.0, -422.0, -422.0, nan, nan, -422.0, -420.0, -420.0, -420.0, -420.0, -418.0, -418.0, -416.0, -425.0, -425.0, -415.0, nan, -416.0, -416.0, -415.0, -415.0, -414.0, -412.0, -412.0, -411.0]\n"
     ]
    }
   ],
   "source": [
    "print(PHI[\"date_avr\"].tolist()[:100])"
   ]
  },
  {
   "cell_type": "code",
   "execution_count": 100,
   "metadata": {
    "colab": {
     "base_uri": "https://localhost:8080/",
     "height": 71
    },
    "colab_type": "code",
    "id": "WPeDJaht4XiH",
    "outputId": "a7498138-f570-40e1-cedf-2812b6f5276b"
   },
   "outputs": [
    {
     "name": "stderr",
     "output_type": "stream",
     "text": [
      "/usr/local/lib/python3.6/dist-packages/ipykernel_launcher.py:97: RuntimeWarning: invalid value encountered in greater_equal\n",
      "/usr/local/lib/python3.6/dist-packages/ipykernel_launcher.py:97: RuntimeWarning: invalid value encountered in less_equal\n"
     ]
    }
   ],
   "source": [
    "avr_by_block = dates_per_block(PHI[\"date_avr\"], sims_by_blocks.index.tolist())"
   ]
  },
  {
   "cell_type": "code",
   "execution_count": 107,
   "metadata": {
    "colab": {
     "base_uri": "https://localhost:8080/",
     "height": 793
    },
    "colab_type": "code",
    "id": "7a6nphj-5x4K",
    "outputId": "04ea5154-1eb2-4d38-bed6-e2336a180e0e"
   },
   "outputs": [
    {
     "data": {
      "text/html": [
       "<div>\n",
       "<style scoped>\n",
       "    .dataframe tbody tr th:only-of-type {\n",
       "        vertical-align: middle;\n",
       "    }\n",
       "\n",
       "    .dataframe tbody tr th {\n",
       "        vertical-align: top;\n",
       "    }\n",
       "\n",
       "    .dataframe thead th {\n",
       "        text-align: right;\n",
       "    }\n",
       "</style>\n",
       "<table border=\"1\" class=\"dataframe\">\n",
       "  <thead>\n",
       "    <tr style=\"text-align: right;\">\n",
       "      <th></th>\n",
       "      <th>temp_block</th>\n",
       "      <th>count</th>\n",
       "    </tr>\n",
       "  </thead>\n",
       "  <tbody>\n",
       "    <tr>\n",
       "      <th>0</th>\n",
       "      <td>(-800, -751)</td>\n",
       "      <td>6</td>\n",
       "    </tr>\n",
       "    <tr>\n",
       "      <th>1</th>\n",
       "      <td>(-750, -701)</td>\n",
       "      <td>48</td>\n",
       "    </tr>\n",
       "    <tr>\n",
       "      <th>2</th>\n",
       "      <td>(-700, -651)</td>\n",
       "      <td>63</td>\n",
       "    </tr>\n",
       "    <tr>\n",
       "      <th>3</th>\n",
       "      <td>(-650, -601)</td>\n",
       "      <td>307</td>\n",
       "    </tr>\n",
       "    <tr>\n",
       "      <th>4</th>\n",
       "      <td>(-600, -551)</td>\n",
       "      <td>397</td>\n",
       "    </tr>\n",
       "    <tr>\n",
       "      <th>5</th>\n",
       "      <td>(-550, -501)</td>\n",
       "      <td>1680</td>\n",
       "    </tr>\n",
       "    <tr>\n",
       "      <th>6</th>\n",
       "      <td>(-500, -451)</td>\n",
       "      <td>3855</td>\n",
       "    </tr>\n",
       "    <tr>\n",
       "      <th>7</th>\n",
       "      <td>(-450, -401)</td>\n",
       "      <td>4450</td>\n",
       "    </tr>\n",
       "    <tr>\n",
       "      <th>8</th>\n",
       "      <td>(-400, -351)</td>\n",
       "      <td>3103</td>\n",
       "    </tr>\n",
       "    <tr>\n",
       "      <th>9</th>\n",
       "      <td>(-350, -301)</td>\n",
       "      <td>9808</td>\n",
       "    </tr>\n",
       "    <tr>\n",
       "      <th>10</th>\n",
       "      <td>(-300, -251)</td>\n",
       "      <td>5661</td>\n",
       "    </tr>\n",
       "    <tr>\n",
       "      <th>11</th>\n",
       "      <td>(-250, -201)</td>\n",
       "      <td>9879</td>\n",
       "    </tr>\n",
       "    <tr>\n",
       "      <th>12</th>\n",
       "      <td>(-200, -151)</td>\n",
       "      <td>10335</td>\n",
       "    </tr>\n",
       "    <tr>\n",
       "      <th>13</th>\n",
       "      <td>(-150, -101)</td>\n",
       "      <td>6934</td>\n",
       "    </tr>\n",
       "    <tr>\n",
       "      <th>14</th>\n",
       "      <td>(-100, -51)</td>\n",
       "      <td>3909</td>\n",
       "    </tr>\n",
       "    <tr>\n",
       "      <th>15</th>\n",
       "      <td>(-50, -1)</td>\n",
       "      <td>4710</td>\n",
       "    </tr>\n",
       "    <tr>\n",
       "      <th>16</th>\n",
       "      <td>(1, 50)</td>\n",
       "      <td>5391</td>\n",
       "    </tr>\n",
       "    <tr>\n",
       "      <th>17</th>\n",
       "      <td>(51, 100)</td>\n",
       "      <td>7975</td>\n",
       "    </tr>\n",
       "    <tr>\n",
       "      <th>18</th>\n",
       "      <td>(101, 150)</td>\n",
       "      <td>9364</td>\n",
       "    </tr>\n",
       "    <tr>\n",
       "      <th>19</th>\n",
       "      <td>(151, 200)</td>\n",
       "      <td>17099</td>\n",
       "    </tr>\n",
       "    <tr>\n",
       "      <th>20</th>\n",
       "      <td>(201, 250)</td>\n",
       "      <td>6561</td>\n",
       "    </tr>\n",
       "    <tr>\n",
       "      <th>21</th>\n",
       "      <td>(251, 300)</td>\n",
       "      <td>2885</td>\n",
       "    </tr>\n",
       "    <tr>\n",
       "      <th>22</th>\n",
       "      <td>(301, 350)</td>\n",
       "      <td>1703</td>\n",
       "    </tr>\n",
       "    <tr>\n",
       "      <th>23</th>\n",
       "      <td>(351, 400)</td>\n",
       "      <td>1723</td>\n",
       "    </tr>\n",
       "  </tbody>\n",
       "</table>\n",
       "</div>"
      ],
      "text/plain": [
       "      temp_block  count\n",
       "0   (-800, -751)      6\n",
       "1   (-750, -701)     48\n",
       "2   (-700, -651)     63\n",
       "3   (-650, -601)    307\n",
       "4   (-600, -551)    397\n",
       "5   (-550, -501)   1680\n",
       "6   (-500, -451)   3855\n",
       "7   (-450, -401)   4450\n",
       "8   (-400, -351)   3103\n",
       "9   (-350, -301)   9808\n",
       "10  (-300, -251)   5661\n",
       "11  (-250, -201)   9879\n",
       "12  (-200, -151)  10335\n",
       "13  (-150, -101)   6934\n",
       "14   (-100, -51)   3909\n",
       "15     (-50, -1)   4710\n",
       "16       (1, 50)   5391\n",
       "17     (51, 100)   7975\n",
       "18    (101, 150)   9364\n",
       "19    (151, 200)  17099\n",
       "20    (201, 250)   6561\n",
       "21    (251, 300)   2885\n",
       "22    (301, 350)   1703\n",
       "23    (351, 400)   1723"
      ]
     },
     "execution_count": 107,
     "metadata": {
      "tags": []
     },
     "output_type": "execute_result"
    }
   ],
   "source": [
    "avr_by_block_df = pd.DataFrame(avr_by_block)\n",
    "avr_by_block_df.columns = [\"temp_block\", \"count\"]\n",
    "avr_by_block_df"
   ]
  },
  {
   "cell_type": "code",
   "execution_count": 120,
   "metadata": {
    "colab": {
     "base_uri": "https://localhost:8080/",
     "height": 314
    },
    "colab_type": "code",
    "id": "gLvPDgJt6gpb",
    "outputId": "18e558d2-1ecd-4d25-f0a0-507d8133a81c"
   },
   "outputs": [
    {
     "data": {
      "text/plain": [
       "Text(0.5, 1.0, 'Dates based on averages vs simulations')"
      ]
     },
     "execution_count": 120,
     "metadata": {
      "tags": []
     },
     "output_type": "execute_result"
    },
    {
     "data": {
      "image/png": "[encoded data removed]",
      "text/plain": [
       "<Figure size 432x288 with 1 Axes>"
      ]
     },
     "metadata": {
      "needs_background": "light",
      "tags": []
     },
     "output_type": "display_data"
    }
   ],
   "source": [
    "fig, ax = plt.subplots(figsize=(6, 4), tight_layout=True)\n",
    "plot_timeblocks_data(PHI_complete_simulations, ax)\n",
    "x = [np.mean(tup) for tup in avr_by_block_df[\"temp_block\"]]\n",
    "y = avr_by_block_df[\"count\"]\n",
    "ax.plot(x, y)\n",
    "ax.set_title(\"Dates based on averages vs simulations\")"
   ]
  },
  {
   "cell_type": "code",
   "execution_count": 121,
   "metadata": {
    "colab": {
     "base_uri": "https://localhost:8080/",
     "height": 54
    },
    "colab_type": "code",
    "id": "0Xkpljbq-3SC",
    "outputId": "c9a973cf-ac47-4f6a-e2bd-80aac1e9529b"
   },
   "outputs": [
    {
     "name": "stdout",
     "output_type": "stream",
     "text": [
      "Your <class 'matplotlib.figure.Figure'> object has been succefully written as \"https://sciencedata.dk/files/SDAM_root/SDAM_data/temporal_uncertainty/avr_vs_simulations.png\"\n"
     ]
    }
   ],
   "source": [
    "sddk.write_file(\"SDAM_data/temporal_uncertainty/avr_vs_simulations.png\", fig, conf)"
   ]
  },
  {
   "cell_type": "markdown",
   "metadata": {
    "colab_type": "text",
    "id": "aHdSRE4831vK"
   },
   "source": [
    "# Regions"
   ]
  },
  {
   "cell_type": "code",
   "execution_count": 114,
   "metadata": {
    "colab": {},
    "colab_type": "code",
    "id": "xsevqdNb1dNL"
   },
   "outputs": [],
   "source": [
    "regions = [\"Aegean Islands\",\n",
    " \"Asia Minor\",\n",
    " \"Attica\",\n",
    " \"Central Greece\",\n",
    " \"Northern Greece\",\n",
    " \"Cyprus\",\n",
    " \"Egypt, Nubia and Cyrenaïca\",\n",
    " \"Greater Syria and the East\",\n",
    " \"North Shore of the Black Sea\",\n",
    " \"Peloponnesos\",\n",
    " \"Sicily, Italy, and the West\",\n",
    " \"Thrace and the Lower Danube\",\n",
    " \"Upper Danube\",\n",
    "  \"North Africa\"]"
   ]
  },
  {
   "cell_type": "code",
   "execution_count": 115,
   "metadata": {
    "colab": {
     "base_uri": "https://localhost:8080/",
     "height": 255
    },
    "colab_type": "code",
    "id": "wPhWmd032Q2I",
    "outputId": "7294d5a9-0c7b-4fbb-eb84-2605b2bf1533"
   },
   "outputs": [
    {
     "name": "stdout",
     "output_type": "stream",
     "text": [
      "Aegean Islands 29444\n",
      "Asia Minor 50226\n",
      "Attica 32652\n",
      "Central Greece 18582\n",
      "Northern Greece 10715\n",
      "Cyprus 4590\n",
      "Egypt, Nubia and Cyrenaïca 14044\n",
      "Greater Syria and the East 11028\n",
      "North Shore of the Black Sea 4780\n",
      "Peloponnesos 7968\n",
      "Sicily, Italy, and the West 16201\n",
      "Thrace and the Lower Danube 14627\n",
      "Upper Danube 1260\n",
      "North Africa 583\n"
     ]
    }
   ],
   "source": [
    "for region in regions:\n",
    "  print(region, len(PHI[PHI[\"hdr1\"].str.contains(region)]))"
   ]
  },
  {
   "cell_type": "code",
   "execution_count": 181,
   "metadata": {
    "colab": {
     "base_uri": "https://localhost:8080/",
     "height": 34
    },
    "colab_type": "code",
    "id": "CPHXt1eJHw9e",
    "outputId": "f9d9989c-4488-427a-9417-885229e9d1c1"
   },
   "outputs": [
    {
     "data": {
      "text/plain": [
       "32652"
      ]
     },
     "execution_count": 181,
     "metadata": {
      "tags": []
     },
     "output_type": "execute_result"
    }
   ],
   "source": [
    "PHI_attica = PHI[PHI[\"hdr1\"].str.contains(\"Attica\")]\n",
    "len(PHI_attica)"
   ]
  },
  {
   "cell_type": "code",
   "execution_count": 182,
   "metadata": {
    "colab": {
     "base_uri": "https://localhost:8080/",
     "height": 34
    },
    "colab_type": "code",
    "id": "_mqGFXG3LVDu",
    "outputId": "436ecc75-1964-4ecb-e3f9-ebe775d23eeb"
   },
   "outputs": [
    {
     "data": {
      "text/plain": [
       "50226"
      ]
     },
     "execution_count": 182,
     "metadata": {
      "tags": []
     },
     "output_type": "execute_result"
    }
   ],
   "source": [
    "PHI_asia_minor = PHI[PHI[\"hdr1\"].str.contains(\"Asia Minor\")]\n",
    "len(PHI_asia_minor)"
   ]
  },
  {
   "cell_type": "code",
   "execution_count": 117,
   "metadata": {
    "colab": {
     "base_uri": "https://localhost:8080/",
     "height": 585
    },
    "colab_type": "code",
    "id": "vRdE0dPG7PIM",
    "outputId": "f55e3390-38a0-4b45-a3a9-dc017379d9ed"
   },
   "outputs": [
    {
     "data": {
      "image/png": "[encoded data removed]",
      "text/plain": [
       "<Figure size 864x576 with 12 Axes>"
      ]
     },
     "metadata": {
      "needs_background": "light",
      "tags": []
     },
     "output_type": "display_data"
    }
   ],
   "source": [
    "fig, axs = plt.subplots(3, 4, figsize=(12, 8), tight_layout=True)\n",
    "\n",
    "for ax, region in zip(axs.ravel(), regions[:12]):\n",
    "  region_df = PHI[PHI[\"hdr1\"].str.contains(region)]\n",
    "  region_sim = timeblocks_from_randoms(region_df,  \"random_dates\", [-800, 400, 50])\n",
    "  plot_timeblocks_data(region_sim, ax=ax)\n",
    "  ax.set_xticks([-800, -600, -400, -200, 1, 200, 400])\n",
    "  ax.set_title(region)"
   ]
  },
  {
   "cell_type": "code",
   "execution_count": 118,
   "metadata": {
    "colab": {
     "base_uri": "https://localhost:8080/",
     "height": 54
    },
    "colab_type": "code",
    "id": "kMEsuNno_LkG",
    "outputId": "9e431156-f84c-4732-a9ce-81ee9181ca5a"
   },
   "outputs": [
    {
     "name": "stdout",
     "output_type": "stream",
     "text": [
      "Your <class 'matplotlib.figure.Figure'> object has been succefully written as \"https://sciencedata.dk/files/SDAM_root/SDAM_data/temporal_uncertainty/regions_sims.png\"\n"
     ]
    }
   ],
   "source": [
    "sddk.write_file(\"SDAM_data/temporal_uncertainty/regions_sims.png\", fig, conf)"
   ]
  },
  {
   "cell_type": "code",
   "execution_count": null,
   "metadata": {
    "colab": {},
    "colab_type": "code",
    "id": "iCZ9PGylMYi7"
   },
   "outputs": [],
   "source": []
  }
 ],
 "metadata": {
  "colab": {
   "authorship_tag": "ABX9TyN+2coaz1tYzymP9w3ye3xT",
   "include_colab_link": true,
   "name": "1_4_MODELLING_DATES.ipynb",
   "provenance": [],
   "toc_visible": true
  },
  "kernelspec": {
   "display_name": "Python 3",
   "language": "python",
   "name": "python3"
  },
  "language_info": {
   "codemirror_mode": {
    "name": "ipython",
    "version": 3
   },
   "file_extension": ".py",
   "mimetype": "text/x-python",
   "name": "python",
   "nbconvert_exporter": "python",
   "pygments_lexer": "ipython3",
   "version": "3.6.9"
  }
 },
 "nbformat": 4,
 "nbformat_minor": 1
}
