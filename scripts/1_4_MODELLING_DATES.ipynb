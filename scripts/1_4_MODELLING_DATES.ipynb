{
  "nbformat": 4,
  "nbformat_minor": 0,
  "metadata": {
    "colab": {
      "name": "1_4_MODELLING_DATES.ipynb",
      "provenance": [],
      "authorship_tag": "ABX9TyMp4bl14UcnNYQ0HugKEqdC",
      "include_colab_link": true
    },
    "kernelspec": {
      "name": "python3",
      "display_name": "Python 3"
    }
  },
  "cells": [
    {
      "cell_type": "markdown",
      "metadata": {
        "id": "view-in-github",
        "colab_type": "text"
      },
      "source": [
        "<a href=\"https://colab.research.google.com/github/sdam-au/PHI_ETL/blob/master/scripts/1_4_MODELLING_DATES.ipynb\" target=\"_parent\"><img src=\"https://colab.research.google.com/assets/colab-badge.svg\" alt=\"Open In Colab\"/></a>"
      ]
    },
    {
      "cell_type": "code",
      "metadata": {
        "id": "oTe6y9PFPzUv",
        "colab_type": "code",
        "colab": {}
      },
      "source": [
        "# our own package for reading the data\n",
        "!pip install sddk\n",
        "import sddk\n",
        "\n",
        "import pandas as pd"
      ],
      "execution_count": null,
      "outputs": []
    },
    {
      "cell_type": "code",
      "metadata": {
        "id": "V-4giNq8PXWx",
        "colab_type": "code",
        "colab": {}
      },
      "source": [
        "# (1) import requests & scipy (or: first install them with pip)\n",
        "import requests\n",
        "import scipy\n",
        "# (2) path to the script\n",
        "url = \"https://raw.githubusercontent.com/sdam-au/modelling_temporal_uncertainty/master/scripts/modelling_distributions.py\"\n",
        "# (3) make a request to this path\n",
        "resp = requests.get(url)\n",
        "# (4) execute the script\n",
        "exec(resp.content)"
      ],
      "execution_count": 1,
      "outputs": []
    },
    {
      "cell_type": "code",
      "metadata": {
        "id": "H9T_eO85Pn_i",
        "colab_type": "code",
        "colab": {}
      },
      "source": [
        "# login to sciencedata \n",
        "conf = sddk.configure(\"SDAM_root\", \"648597@au.dk\")"
      ],
      "execution_count": null,
      "outputs": []
    }
  ]
}