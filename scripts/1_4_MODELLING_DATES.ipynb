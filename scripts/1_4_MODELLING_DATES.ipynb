{
  "nbformat": 4,
  "nbformat_minor": 0,
  "metadata": {
    "colab": {
      "name": "1_4_MODELLING_DATES.ipynb",
      "provenance": [],
      "toc_visible": true,
      "authorship_tag": "ABX9TyNPddBO3QYD0bQ4KYUDl2Se",
      "include_colab_link": true
    },
    "kernelspec": {
      "name": "python3",
      "display_name": "Python 3"
    }
  },
  "cells": [
    {
      "cell_type": "markdown",
      "metadata": {
        "id": "view-in-github",
        "colab_type": "text"
      },
      "source": [
        "<a href=\"https://colab.research.google.com/github/sdam-au/PHI_ETL/blob/master/scripts/1_4_MODELLING_DATES.ipynb\" target=\"_parent\"><img src=\"https://colab.research.google.com/assets/colab-badge.svg\" alt=\"Open In Colab\"/></a>"
      ]
    },
    {
      "cell_type": "markdown",
      "metadata": {
        "id": "gH2n3KelU2I5",
        "colab_type": "text"
      },
      "source": [
        "# Requirements & Auth\n",
        "\n"
      ]
    },
    {
      "cell_type": "code",
      "metadata": {
        "id": "oTe6y9PFPzUv",
        "colab_type": "code",
        "colab": {
          "base_uri": "https://localhost:8080/",
          "height": 394
        },
        "outputId": "8c69be09-10ed-450d-976c-a3ca5849a61a"
      },
      "source": [
        "import requests\n",
        "import scipy\n",
        "import matplotlib.pyplot as plt\n",
        "import seaborn as sns\n",
        "import pandas as pd\n",
        "import numpy as np\n",
        "\n",
        "# our own package for reading the data\n",
        "!pip install sddk\n",
        "import sddk"
      ],
      "execution_count": 1,
      "outputs": [
        {
          "output_type": "stream",
          "text": [
            "/usr/local/lib/python3.6/dist-packages/statsmodels/tools/_testing.py:19: FutureWarning: pandas.util.testing is deprecated. Use the functions in the public API at pandas.testing instead.\n",
            "  import pandas.util.testing as tm\n"
          ],
          "name": "stderr"
        },
        {
          "output_type": "stream",
          "text": [
            "Collecting sddk\n",
            "  Downloading https://files.pythonhosted.org/packages/bf/96/3ae43f2d8ac06fc16ba111916970e5a1f3b96a3e41732fa3f099e2e5cd1c/sddk-2.6-py3-none-any.whl\n",
            "Requirement already satisfied: requests in /usr/local/lib/python3.6/dist-packages (from sddk) (2.23.0)\n",
            "Requirement already satisfied: pandas in /usr/local/lib/python3.6/dist-packages (from sddk) (1.0.5)\n",
            "Requirement already satisfied: pyarrow in /usr/local/lib/python3.6/dist-packages (from sddk) (0.14.1)\n",
            "Requirement already satisfied: matplotlib in /usr/local/lib/python3.6/dist-packages (from sddk) (3.2.2)\n",
            "Requirement already satisfied: numpy in /usr/local/lib/python3.6/dist-packages (from sddk) (1.18.5)\n",
            "Requirement already satisfied: urllib3!=1.25.0,!=1.25.1,<1.26,>=1.21.1 in /usr/local/lib/python3.6/dist-packages (from requests->sddk) (1.24.3)\n",
            "Requirement already satisfied: certifi>=2017.4.17 in /usr/local/lib/python3.6/dist-packages (from requests->sddk) (2020.6.20)\n",
            "Requirement already satisfied: idna<3,>=2.5 in /usr/local/lib/python3.6/dist-packages (from requests->sddk) (2.9)\n",
            "Requirement already satisfied: chardet<4,>=3.0.2 in /usr/local/lib/python3.6/dist-packages (from requests->sddk) (3.0.4)\n",
            "Requirement already satisfied: pytz>=2017.2 in /usr/local/lib/python3.6/dist-packages (from pandas->sddk) (2018.9)\n",
            "Requirement already satisfied: python-dateutil>=2.6.1 in /usr/local/lib/python3.6/dist-packages (from pandas->sddk) (2.8.1)\n",
            "Requirement already satisfied: six>=1.0.0 in /usr/local/lib/python3.6/dist-packages (from pyarrow->sddk) (1.12.0)\n",
            "Requirement already satisfied: pyparsing!=2.0.4,!=2.1.2,!=2.1.6,>=2.0.1 in /usr/local/lib/python3.6/dist-packages (from matplotlib->sddk) (2.4.7)\n",
            "Requirement already satisfied: cycler>=0.10 in /usr/local/lib/python3.6/dist-packages (from matplotlib->sddk) (0.10.0)\n",
            "Requirement already satisfied: kiwisolver>=1.0.1 in /usr/local/lib/python3.6/dist-packages (from matplotlib->sddk) (1.2.0)\n",
            "Installing collected packages: sddk\n",
            "Successfully installed sddk-2.6\n"
          ],
          "name": "stdout"
        }
      ]
    },
    {
      "cell_type": "code",
      "metadata": {
        "id": "V-4giNq8PXWx",
        "colab_type": "code",
        "colab": {}
      },
      "source": [
        "# read and execute our script for modelling dates\n",
        "script_url = \"https://raw.githubusercontent.com/sdam-au/modelling_temporal_uncertainty/master/scripts/modelling_distributions.py\"\n",
        "# execute the script\n",
        "exec(requests.get(script_url).content)"
      ],
      "execution_count": 128,
      "outputs": []
    },
    {
      "cell_type": "code",
      "metadata": {
        "id": "H9T_eO85Pn_i",
        "colab_type": "code",
        "colab": {
          "base_uri": "https://localhost:8080/",
          "height": 85
        },
        "outputId": "6ffafb95-89b3-49dd-ba8d-2e46c29471cb"
      },
      "source": [
        "# login to sciencedata \n",
        "conf = sddk.configure(\"SDAM_root\", \"648597@au.dk\")"
      ],
      "execution_count": 3,
      "outputs": [
        {
          "output_type": "stream",
          "text": [
            "sciencedata.dk username (format '123456@au.dk'): 648597@au.dk\n",
            "sciencedata.dk password: ··········\n",
            "connection with shared folder established with you as its owner\n",
            "endpoint variable has been configured to: https://sciencedata.dk/files/SDAM_root/\n"
          ],
          "name": "stdout"
        }
      ]
    },
    {
      "cell_type": "code",
      "metadata": {
        "id": "ej81l2PXQuxN",
        "colab_type": "code",
        "colab": {
          "base_uri": "https://localhost:8080/",
          "height": 479
        },
        "outputId": "e0e8f40e-42ee-42e9-d3a6-8fbf7118b533"
      },
      "source": [
        "# read the PHI dataset from sciencedata.dk\n",
        "# (takes some time - the dataset has almost 400MB)\n",
        "PHI = sddk.read_file(\"SDAM_data/PHI/PHI_cleaned_dated_2020-06-30.json\", \"df\", conf)\n",
        "# older version used during development: PHI = sddk.read_file(\"SDAM_data/PHI/PHI_enriched_raw.json\", \"df\", conf)\n",
        "# print first 5 rows of the data\n",
        "PHI.head(5)"
      ],
      "execution_count": 4,
      "outputs": [
        {
          "output_type": "execute_result",
          "data": {
            "text/html": [
              "<div>\n",
              "<style scoped>\n",
              "    .dataframe tbody tr th:only-of-type {\n",
              "        vertical-align: middle;\n",
              "    }\n",
              "\n",
              "    .dataframe tbody tr th {\n",
              "        vertical-align: top;\n",
              "    }\n",
              "\n",
              "    .dataframe thead th {\n",
              "        text-align: right;\n",
              "    }\n",
              "</style>\n",
              "<table border=\"1\" class=\"dataframe\">\n",
              "  <thead>\n",
              "    <tr style=\"text-align: right;\">\n",
              "      <th></th>\n",
              "      <th>URL</th>\n",
              "      <th>Book</th>\n",
              "      <th>Text</th>\n",
              "      <th>hdr1</th>\n",
              "      <th>hdr2</th>\n",
              "      <th>tildeinfo</th>\n",
              "      <th>note</th>\n",
              "      <th>lines</th>\n",
              "      <th>metadata</th>\n",
              "      <th>data</th>\n",
              "      <th>filename</th>\n",
              "      <th>PHI_ID</th>\n",
              "      <th>hdr1_scrape</th>\n",
              "      <th>hdr2_scrape</th>\n",
              "      <th>clean_text_conservative</th>\n",
              "      <th>clean_text_interpretive_word</th>\n",
              "      <th>clean_text_interpretive_sentence</th>\n",
              "      <th>raw_date</th>\n",
              "      <th>dating_dict</th>\n",
              "      <th>not_before</th>\n",
              "      <th>not_after</th>\n",
              "      <th>or</th>\n",
              "      <th>date_tags</th>\n",
              "      <th>certainty</th>\n",
              "      <th>link</th>\n",
              "    </tr>\n",
              "  </thead>\n",
              "  <tbody>\n",
              "    <tr>\n",
              "      <th>0</th>\n",
              "      <td>https://epigraphy.packhum.org/text/1</td>\n",
              "      <td>IG I³</td>\n",
              "      <td>1</td>\n",
              "      <td>Regions\\n\\nAttica (IG I-III)Attica</td>\n",
              "      <td>None</td>\n",
              "      <td>Att. — Ath.: Akr. — stoich. 35 — c. 510-500 a....</td>\n",
              "      <td>None</td>\n",
              "      <td>12.0</td>\n",
              "      <td>\\n1\\n\\n\\n\\n\\n5\\n\\n\\n\\n\\n\\n10\\n\\n\\n</td>\n",
              "      <td>ἔδοχσεν το͂ι δέμοι· τ̣[ὸς ἐ Σ]αλαμ̣[ῖνι κλερόχ...</td>\n",
              "      <td>IG-I-3.csv</td>\n",
              "      <td>1</td>\n",
              "      <td>Regions\\nAttica (IG I-III)Attica</td>\n",
              "      <td>IG I³\\n1</td>\n",
              "      <td>ἔδοχσεν το͂ι δέμοι ταλαμος οἰκε͂ν ἐᾶ Σαλαμῖνι ...</td>\n",
              "      <td>ἔδοχσεν το͂ι δέμοι τὸς ἐ Σαλαμῖνι κλερόχος οἰκ...</td>\n",
              "      <td>ἔδοχσεν το͂ι δέμοι τὸς ἐ Σαλαμῖνι κλερόχος οἰκ...</td>\n",
              "      <td>c. 510-500 a.</td>\n",
              "      <td>{'or': None, 'not_before': -511, 'not_after': ...</td>\n",
              "      <td>-511.0</td>\n",
              "      <td>-499.0</td>\n",
              "      <td>None</td>\n",
              "      <td>[range, phase, ca]</td>\n",
              "      <td>None</td>\n",
              "      <td>None</td>\n",
              "    </tr>\n",
              "    <tr>\n",
              "      <th>1</th>\n",
              "      <td>https://epigraphy.packhum.org/text/2</td>\n",
              "      <td>IG I³</td>\n",
              "      <td>2</td>\n",
              "      <td>Regions\\n\\nAttica (IG I-III)Attica</td>\n",
              "      <td>None</td>\n",
              "      <td>Att. — non-stoich. — c. 500 a.</td>\n",
              "      <td>None</td>\n",
              "      <td>14.0</td>\n",
              "      <td>\\n1\\n\\n\\n\\n\\n5\\n\\n\\n\\n\\n\\n10\\n\\n\\n\\n\\n</td>\n",
              "      <td>[․․8-9․․․]ν̣ βολ — — — — — — — — — —\\n[․6-7․․]...</td>\n",
              "      <td>IG-I-3.csv</td>\n",
              "      <td>2</td>\n",
              "      <td>Regions\\nAttica (IG I-III)Attica</td>\n",
              "      <td>IG I³\\n2</td>\n",
              "      <td>ν βολ α ℎεκον σιον γνοσθε͂ι δὲ ν ἀτεχνος μὲ π ...</td>\n",
              "      <td>ν βολ α ℎεκον σιον γνοσθε͂ι δὲ ν ἀτεχνος μὲ π ...</td>\n",
              "      <td>․․ ․․․ν βολ ․ ․․ α ⋮ ℎεκον σιον, γνοσθε͂ι δὲ ν...</td>\n",
              "      <td>c. 500 a.</td>\n",
              "      <td>{'or': None, 'not_before': -505, 'not_after': ...</td>\n",
              "      <td>-505.0</td>\n",
              "      <td>-495.0</td>\n",
              "      <td>None</td>\n",
              "      <td>[exact, phase, ca]</td>\n",
              "      <td>None</td>\n",
              "      <td>None</td>\n",
              "    </tr>\n",
              "    <tr>\n",
              "      <th>2</th>\n",
              "      <td>https://epigraphy.packhum.org/text/3</td>\n",
              "      <td>IG I³</td>\n",
              "      <td>3</td>\n",
              "      <td>Regions\\n\\nAttica (IG I-III)Attica</td>\n",
              "      <td>None</td>\n",
              "      <td>Att. — stoich. 21 — 490-480 a.</td>\n",
              "      <td>None</td>\n",
              "      <td>13.0</td>\n",
              "      <td>\\n1\\n\\n\\n\\n\\n5\\n\\n\\n\\n\\n\\n10\\n\\n\\n\\n</td>\n",
              "      <td>[․]αρ[․․․․]ι ℎερακλειο[․․5․․]\\n[․]αρ̣ο#⁷[․] τι...</td>\n",
              "      <td>IG-I-3.csv</td>\n",
              "      <td>3</td>\n",
              "      <td>Regions\\nAttica (IG I-III)Attica</td>\n",
              "      <td>IG I³\\n3</td>\n",
              "      <td>αρι ℎερακλειο αρο τιθέναι τὸς ἀέτας τριάκοντα ...</td>\n",
              "      <td>αρι ℎερακλειο αρο τιθέναι τὸς ἀθλοθέτας τριάκο...</td>\n",
              "      <td>αρι ℎερακλειο․․․․ αρο τιθέναι τὸς ἀθλοθέτας τρ...</td>\n",
              "      <td>490-480 a.</td>\n",
              "      <td>{'or': None, 'not_before': -490, 'not_after': ...</td>\n",
              "      <td>-490.0</td>\n",
              "      <td>-480.0</td>\n",
              "      <td>None</td>\n",
              "      <td>[range]</td>\n",
              "      <td>None</td>\n",
              "      <td>None</td>\n",
              "    </tr>\n",
              "    <tr>\n",
              "      <th>3</th>\n",
              "      <td>https://epigraphy.packhum.org/text/4</td>\n",
              "      <td>IG I³</td>\n",
              "      <td>4</td>\n",
              "      <td>Regions\\n\\nAttica (IG I-III)Attica</td>\n",
              "      <td>None</td>\n",
              "      <td>Att. — stoich. 38 — 485/4 a.</td>\n",
              "      <td>None</td>\n",
              "      <td>58.0</td>\n",
              "      <td>\\nface A.1\\n\\n\\n\\n\\n5\\n\\n\\n\\n\\n\\n10\\n\\n\\n\\n\\n\\...</td>\n",
              "      <td>[․․․․․․․․․․․․․․․․․․38․․․․․․․․․․․․․․․․․․]\\n[․․․...</td>\n",
              "      <td>IG-I-3.csv</td>\n",
              "      <td>4</td>\n",
              "      <td>Regions\\nAttica (IG I-III)Attica</td>\n",
              "      <td>IG I³\\n4</td>\n",
              "      <td>δέ τις αν ἒ φρορὰν μ ντέκοντα δχμὰς τ ας ℎες π...</td>\n",
              "      <td>ἐὰν δέ τις αν ἒ φρορὰν μὲ πεντέκοντα δραχμὰς τ...</td>\n",
              "      <td>․․․․․․․․․․․․․․․․․․․․․․․․․․․․․․․․․․․․ ․․․․․․․․․...</td>\n",
              "      <td>485/4 a.</td>\n",
              "      <td>{'or': None, 'not_before': -485, 'not_after': ...</td>\n",
              "      <td>-485.0</td>\n",
              "      <td>-484.0</td>\n",
              "      <td>None</td>\n",
              "      <td>[range]</td>\n",
              "      <td>None</td>\n",
              "      <td>None</td>\n",
              "    </tr>\n",
              "    <tr>\n",
              "      <th>4</th>\n",
              "      <td>https://epigraphy.packhum.org/text/5</td>\n",
              "      <td>IG I³</td>\n",
              "      <td>5</td>\n",
              "      <td>Regions\\n\\nAttica (IG I-III)Attica</td>\n",
              "      <td>None</td>\n",
              "      <td>Att. — c. 500 a.\\n\\nSee also:\\nI.Eleusis 13</td>\n",
              "      <td>None</td>\n",
              "      <td>6.0</td>\n",
              "      <td>\\n1\\n\\n\\n\\n \\n5\\n\\n</td>\n",
              "      <td>[ἔδοχσε]ν [⋮ τε͂ι βολε͂ι] ⋮ καὶ [τ]ο͂ι δέμοι ⋮...</td>\n",
              "      <td>IG-I-3.csv</td>\n",
              "      <td>5</td>\n",
              "      <td>Regions\\nAttica (IG I-III)Attica</td>\n",
              "      <td>IG I³\\n5</td>\n",
              "      <td>ν καὶ ο͂ι δέμοι ℎότε Παραιβάτες λεια θν τὸς ℎι...</td>\n",
              "      <td>ἔδοχσεν τε͂ι βολε͂ι καὶ το͂ι δέμοι ℎότε Παραιβ...</td>\n",
              "      <td>ἔδοχσεν ⋮ τε͂ι βολε͂ι ⋮ καὶ το͂ι δέμοι ⋮ ℎότε ...</td>\n",
              "      <td>c. 500 a.</td>\n",
              "      <td>{'or': None, 'not_before': -505, 'not_after': ...</td>\n",
              "      <td>-505.0</td>\n",
              "      <td>-495.0</td>\n",
              "      <td>None</td>\n",
              "      <td>[exact, phase, ca]</td>\n",
              "      <td>None</td>\n",
              "      <td>None</td>\n",
              "    </tr>\n",
              "  </tbody>\n",
              "</table>\n",
              "</div>"
            ],
            "text/plain": [
              "                                    URL   Book  ... certainty  link\n",
              "0  https://epigraphy.packhum.org/text/1  IG I³  ...      None  None\n",
              "1  https://epigraphy.packhum.org/text/2  IG I³  ...      None  None\n",
              "2  https://epigraphy.packhum.org/text/3  IG I³  ...      None  None\n",
              "3  https://epigraphy.packhum.org/text/4  IG I³  ...      None  None\n",
              "4  https://epigraphy.packhum.org/text/5  IG I³  ...      None  None\n",
              "\n",
              "[5 rows x 25 columns]"
            ]
          },
          "metadata": {
            "tags": []
          },
          "execution_count": 4
        }
      ]
    },
    {
      "cell_type": "code",
      "metadata": {
        "id": "I7toaiA5Q4U1",
        "colab_type": "code",
        "colab": {
          "base_uri": "https://localhost:8080/",
          "height": 34
        },
        "outputId": "543be9e6-3fbe-4ffe-b669-b9a08d88b84a"
      },
      "source": [
        "### how many of the inscriptions have at least one date\n",
        "len(PHI[(PHI[\"not_before\"].notnull()) | (PHI[\"not_after\"].notnull())])"
      ],
      "execution_count": 5,
      "outputs": [
        {
          "output_type": "execute_result",
          "data": {
            "text/plain": [
              "130533"
            ]
          },
          "metadata": {
            "tags": []
          },
          "execution_count": 5
        }
      ]
    },
    {
      "cell_type": "markdown",
      "metadata": {
        "id": "1Tly0Nj3Q93u",
        "colab_type": "text"
      },
      "source": [
        "# Generate random dates for the whole dataset"
      ]
    },
    {
      "cell_type": "code",
      "metadata": {
        "id": "4YuNfpTFWyuZ",
        "colab_type": "code",
        "colab": {
          "base_uri": "https://localhost:8080/",
          "height": 51
        },
        "outputId": "b17cc86a-540e-45e2-b883-b89fc846637c"
      },
      "source": [
        "%%time\n",
        "# generate a list of 1000 random dates for each inscription in the dataset\n",
        "# takes approx. 90 seconds in Google colab\n",
        "PHI[\"random_dates\"] = PHI.apply(lambda row: model_date(row[\"not_before\"], row[\"not_after\"], size=1000,), axis=1)"
      ],
      "execution_count": 5,
      "outputs": [
        {
          "output_type": "stream",
          "text": [
            "CPU times: user 1min 30s, sys: 2.9 s, total: 1min 33s\n",
            "Wall time: 1min 33s\n"
          ],
          "name": "stdout"
        }
      ]
    },
    {
      "cell_type": "code",
      "metadata": {
        "id": "TsXkcl6maAc-",
        "colab_type": "code",
        "colab": {
          "base_uri": "https://localhost:8080/",
          "height": 1000
        },
        "outputId": "815b7e38-c72b-48fd-941a-794fed7e75e5"
      },
      "source": [
        "PHI.head(20)"
      ],
      "execution_count": 6,
      "outputs": [
        {
          "output_type": "execute_result",
          "data": {
            "text/html": [
              "<div>\n",
              "<style scoped>\n",
              "    .dataframe tbody tr th:only-of-type {\n",
              "        vertical-align: middle;\n",
              "    }\n",
              "\n",
              "    .dataframe tbody tr th {\n",
              "        vertical-align: top;\n",
              "    }\n",
              "\n",
              "    .dataframe thead th {\n",
              "        text-align: right;\n",
              "    }\n",
              "</style>\n",
              "<table border=\"1\" class=\"dataframe\">\n",
              "  <thead>\n",
              "    <tr style=\"text-align: right;\">\n",
              "      <th></th>\n",
              "      <th>URL</th>\n",
              "      <th>Book</th>\n",
              "      <th>Text</th>\n",
              "      <th>hdr1</th>\n",
              "      <th>hdr2</th>\n",
              "      <th>tildeinfo</th>\n",
              "      <th>note</th>\n",
              "      <th>lines</th>\n",
              "      <th>metadata</th>\n",
              "      <th>data</th>\n",
              "      <th>filename</th>\n",
              "      <th>PHI_ID</th>\n",
              "      <th>hdr1_scrape</th>\n",
              "      <th>hdr2_scrape</th>\n",
              "      <th>clean_text_conservative</th>\n",
              "      <th>clean_text_interpretive_word</th>\n",
              "      <th>clean_text_interpretive_sentence</th>\n",
              "      <th>raw_date</th>\n",
              "      <th>dating_dict</th>\n",
              "      <th>not_before</th>\n",
              "      <th>not_after</th>\n",
              "      <th>or</th>\n",
              "      <th>date_tags</th>\n",
              "      <th>certainty</th>\n",
              "      <th>link</th>\n",
              "      <th>random_dates</th>\n",
              "    </tr>\n",
              "  </thead>\n",
              "  <tbody>\n",
              "    <tr>\n",
              "      <th>0</th>\n",
              "      <td>https://epigraphy.packhum.org/text/1</td>\n",
              "      <td>IG I³</td>\n",
              "      <td>1</td>\n",
              "      <td>Regions\\n\\nAttica (IG I-III)Attica</td>\n",
              "      <td>None</td>\n",
              "      <td>Att. — Ath.: Akr. — stoich. 35 — c. 510-500 a....</td>\n",
              "      <td>None</td>\n",
              "      <td>12.0</td>\n",
              "      <td>\\n1\\n\\n\\n\\n\\n5\\n\\n\\n\\n\\n\\n10\\n\\n\\n</td>\n",
              "      <td>ἔδοχσεν το͂ι δέμοι· τ̣[ὸς ἐ Σ]αλαμ̣[ῖνι κλερόχ...</td>\n",
              "      <td>IG-I-3.csv</td>\n",
              "      <td>1</td>\n",
              "      <td>Regions\\nAttica (IG I-III)Attica</td>\n",
              "      <td>IG I³\\n1</td>\n",
              "      <td>ἔδοχσεν το͂ι δέμοι ταλαμος οἰκε͂ν ἐᾶ Σαλαμῖνι ...</td>\n",
              "      <td>ἔδοχσεν το͂ι δέμοι τὸς ἐ Σαλαμῖνι κλερόχος οἰκ...</td>\n",
              "      <td>ἔδοχσεν το͂ι δέμοι τὸς ἐ Σαλαμῖνι κλερόχος οἰκ...</td>\n",
              "      <td>c. 510-500 a.</td>\n",
              "      <td>{'or': None, 'not_before': -511, 'not_after': ...</td>\n",
              "      <td>-511.0</td>\n",
              "      <td>-499.0</td>\n",
              "      <td>None</td>\n",
              "      <td>[range, phase, ca]</td>\n",
              "      <td>None</td>\n",
              "      <td>None</td>\n",
              "      <td>[-510, -504, -507, -508, -501, -501, -506, -50...</td>\n",
              "    </tr>\n",
              "    <tr>\n",
              "      <th>1</th>\n",
              "      <td>https://epigraphy.packhum.org/text/2</td>\n",
              "      <td>IG I³</td>\n",
              "      <td>2</td>\n",
              "      <td>Regions\\n\\nAttica (IG I-III)Attica</td>\n",
              "      <td>None</td>\n",
              "      <td>Att. — non-stoich. — c. 500 a.</td>\n",
              "      <td>None</td>\n",
              "      <td>14.0</td>\n",
              "      <td>\\n1\\n\\n\\n\\n\\n5\\n\\n\\n\\n\\n\\n10\\n\\n\\n\\n\\n</td>\n",
              "      <td>[․․8-9․․․]ν̣ βολ — — — — — — — — — —\\n[․6-7․․]...</td>\n",
              "      <td>IG-I-3.csv</td>\n",
              "      <td>2</td>\n",
              "      <td>Regions\\nAttica (IG I-III)Attica</td>\n",
              "      <td>IG I³\\n2</td>\n",
              "      <td>ν βολ α ℎεκον σιον γνοσθε͂ι δὲ ν ἀτεχνος μὲ π ...</td>\n",
              "      <td>ν βολ α ℎεκον σιον γνοσθε͂ι δὲ ν ἀτεχνος μὲ π ...</td>\n",
              "      <td>․․ ․․․ν βολ ․ ․․ α ⋮ ℎεκον σιον, γνοσθε͂ι δὲ ν...</td>\n",
              "      <td>c. 500 a.</td>\n",
              "      <td>{'or': None, 'not_before': -505, 'not_after': ...</td>\n",
              "      <td>-505.0</td>\n",
              "      <td>-495.0</td>\n",
              "      <td>None</td>\n",
              "      <td>[exact, phase, ca]</td>\n",
              "      <td>None</td>\n",
              "      <td>None</td>\n",
              "      <td>[-504, -501, -499, -501, -499, -505, -500, -49...</td>\n",
              "    </tr>\n",
              "    <tr>\n",
              "      <th>2</th>\n",
              "      <td>https://epigraphy.packhum.org/text/3</td>\n",
              "      <td>IG I³</td>\n",
              "      <td>3</td>\n",
              "      <td>Regions\\n\\nAttica (IG I-III)Attica</td>\n",
              "      <td>None</td>\n",
              "      <td>Att. — stoich. 21 — 490-480 a.</td>\n",
              "      <td>None</td>\n",
              "      <td>13.0</td>\n",
              "      <td>\\n1\\n\\n\\n\\n\\n5\\n\\n\\n\\n\\n\\n10\\n\\n\\n\\n</td>\n",
              "      <td>[․]αρ[․․․․]ι ℎερακλειο[․․5․․]\\n[․]αρ̣ο#⁷[․] τι...</td>\n",
              "      <td>IG-I-3.csv</td>\n",
              "      <td>3</td>\n",
              "      <td>Regions\\nAttica (IG I-III)Attica</td>\n",
              "      <td>IG I³\\n3</td>\n",
              "      <td>αρι ℎερακλειο αρο τιθέναι τὸς ἀέτας τριάκοντα ...</td>\n",
              "      <td>αρι ℎερακλειο αρο τιθέναι τὸς ἀθλοθέτας τριάκο...</td>\n",
              "      <td>αρι ℎερακλειο․․․․ αρο τιθέναι τὸς ἀθλοθέτας τρ...</td>\n",
              "      <td>490-480 a.</td>\n",
              "      <td>{'or': None, 'not_before': -490, 'not_after': ...</td>\n",
              "      <td>-490.0</td>\n",
              "      <td>-480.0</td>\n",
              "      <td>None</td>\n",
              "      <td>[range]</td>\n",
              "      <td>None</td>\n",
              "      <td>None</td>\n",
              "      <td>[-484, -485, -487, -481, -483, -482, -484, -48...</td>\n",
              "    </tr>\n",
              "    <tr>\n",
              "      <th>3</th>\n",
              "      <td>https://epigraphy.packhum.org/text/4</td>\n",
              "      <td>IG I³</td>\n",
              "      <td>4</td>\n",
              "      <td>Regions\\n\\nAttica (IG I-III)Attica</td>\n",
              "      <td>None</td>\n",
              "      <td>Att. — stoich. 38 — 485/4 a.</td>\n",
              "      <td>None</td>\n",
              "      <td>58.0</td>\n",
              "      <td>\\nface A.1\\n\\n\\n\\n\\n5\\n\\n\\n\\n\\n\\n10\\n\\n\\n\\n\\n\\...</td>\n",
              "      <td>[․․․․․․․․․․․․․․․․․․38․․․․․․․․․․․․․․․․․․]\\n[․․․...</td>\n",
              "      <td>IG-I-3.csv</td>\n",
              "      <td>4</td>\n",
              "      <td>Regions\\nAttica (IG I-III)Attica</td>\n",
              "      <td>IG I³\\n4</td>\n",
              "      <td>δέ τις αν ἒ φρορὰν μ ντέκοντα δχμὰς τ ας ℎες π...</td>\n",
              "      <td>ἐὰν δέ τις αν ἒ φρορὰν μὲ πεντέκοντα δραχμὰς τ...</td>\n",
              "      <td>․․․․․․․․․․․․․․․․․․․․․․․․․․․․․․․․․․․․ ․․․․․․․․․...</td>\n",
              "      <td>485/4 a.</td>\n",
              "      <td>{'or': None, 'not_before': -485, 'not_after': ...</td>\n",
              "      <td>-485.0</td>\n",
              "      <td>-484.0</td>\n",
              "      <td>None</td>\n",
              "      <td>[range]</td>\n",
              "      <td>None</td>\n",
              "      <td>None</td>\n",
              "      <td>[-484, -484, -485, -484, -484, -484, -485, -48...</td>\n",
              "    </tr>\n",
              "    <tr>\n",
              "      <th>4</th>\n",
              "      <td>https://epigraphy.packhum.org/text/5</td>\n",
              "      <td>IG I³</td>\n",
              "      <td>5</td>\n",
              "      <td>Regions\\n\\nAttica (IG I-III)Attica</td>\n",
              "      <td>None</td>\n",
              "      <td>Att. — c. 500 a.\\n\\nSee also:\\nI.Eleusis 13</td>\n",
              "      <td>None</td>\n",
              "      <td>6.0</td>\n",
              "      <td>\\n1\\n\\n\\n\\n \\n5\\n\\n</td>\n",
              "      <td>[ἔδοχσε]ν [⋮ τε͂ι βολε͂ι] ⋮ καὶ [τ]ο͂ι δέμοι ⋮...</td>\n",
              "      <td>IG-I-3.csv</td>\n",
              "      <td>5</td>\n",
              "      <td>Regions\\nAttica (IG I-III)Attica</td>\n",
              "      <td>IG I³\\n5</td>\n",
              "      <td>ν καὶ ο͂ι δέμοι ℎότε Παραιβάτες λεια θν τὸς ℎι...</td>\n",
              "      <td>ἔδοχσεν τε͂ι βολε͂ι καὶ το͂ι δέμοι ℎότε Παραιβ...</td>\n",
              "      <td>ἔδοχσεν ⋮ τε͂ι βολε͂ι ⋮ καὶ το͂ι δέμοι ⋮ ℎότε ...</td>\n",
              "      <td>c. 500 a.</td>\n",
              "      <td>{'or': None, 'not_before': -505, 'not_after': ...</td>\n",
              "      <td>-505.0</td>\n",
              "      <td>-495.0</td>\n",
              "      <td>None</td>\n",
              "      <td>[exact, phase, ca]</td>\n",
              "      <td>None</td>\n",
              "      <td>None</td>\n",
              "      <td>[-496, -500, -496, -496, -499, -500, -497, -50...</td>\n",
              "    </tr>\n",
              "    <tr>\n",
              "      <th>5</th>\n",
              "      <td>https://epigraphy.packhum.org/text/6</td>\n",
              "      <td>IG I³</td>\n",
              "      <td>6</td>\n",
              "      <td>Regions\\n\\nAttica (IG I-III)Attica</td>\n",
              "      <td>None</td>\n",
              "      <td>Att. — stoich. 23/11 — ante 460 a.\\n\\nSee also...</td>\n",
              "      <td>None</td>\n",
              "      <td>168.0</td>\n",
              "      <td>\\nface A.BM 309.1\\n\\n\\n\\n\\n5\\n\\n\\n\\n\\n\\n10\\n\\n...</td>\n",
              "      <td>— — — — — — — — — — — — —\\n[․․․․․․15․․․․․․․] δ...</td>\n",
              "      <td>IG-I-3.csv</td>\n",
              "      <td>6</td>\n",
              "      <td>Regions\\nAttica (IG I-III)Attica</td>\n",
              "      <td>IG I³\\n6</td>\n",
              "      <td>δραχμε͂ιστες τὸς ιο μενος δεμο το͂ν πόλεο οκε͂...</td>\n",
              "      <td>δραχμε͂ισι τες τὸς ιο μενος δεμο το͂ν πόλεον δ...</td>\n",
              "      <td>․․․․․․․․․․․․․ δραχμε͂ισι ․․․․․․․․․․․․τες τὸς ι...</td>\n",
              "      <td>ante 460 a.</td>\n",
              "      <td>{'or': None, 'not_before': None, 'not_after': ...</td>\n",
              "      <td>NaN</td>\n",
              "      <td>-461.0</td>\n",
              "      <td>None</td>\n",
              "      <td>[ante]</td>\n",
              "      <td>None</td>\n",
              "      <td>None</td>\n",
              "      <td>[-487, -507, -465, -479, -468, -467, -477, -47...</td>\n",
              "    </tr>\n",
              "    <tr>\n",
              "      <th>6</th>\n",
              "      <td>https://epigraphy.packhum.org/text/7</td>\n",
              "      <td>IG I³</td>\n",
              "      <td>7</td>\n",
              "      <td>Regions\\n\\nAttica (IG I-III)Attica</td>\n",
              "      <td>None</td>\n",
              "      <td>Att. — stoich. 40 — 460-450</td>\n",
              "      <td>None</td>\n",
              "      <td>29.0</td>\n",
              "      <td>\\nfrg. a.1\\n\\n\\n\\n\\n5\\n\\n\\n\\n\\n\\n10\\n\\n\\n\\n\\n1...</td>\n",
              "      <td>[ἔδοχσεν τε͂]ι βο[λ]ε͂[ι καὶ το͂ι δέμοι· ․․6․․...</td>\n",
              "      <td>IG-I-3.csv</td>\n",
              "      <td>7</td>\n",
              "      <td>Regions\\nAttica (IG I-III)Attica</td>\n",
              "      <td>IG I³\\n7</td>\n",
              "      <td>ι βοε͂ς ἐγραμμ ρὶ ὁ͂ν δέοεο͂ καὶ τὰ πρόαντας ...</td>\n",
              "      <td>ἔδοχσεν τε͂ι βολε͂ι καὶ το͂ι δέμοι ἐπρυτάνευε ...</td>\n",
              "      <td>ἔδοχσεν τε͂ι βολε͂ι καὶ το͂ι δέμοι ․․․․․ ἐπρυτ...</td>\n",
              "      <td>460-450</td>\n",
              "      <td>{'or': None, 'not_before': -460, 'not_after': ...</td>\n",
              "      <td>-460.0</td>\n",
              "      <td>-450.0</td>\n",
              "      <td>None</td>\n",
              "      <td>[range]</td>\n",
              "      <td>None</td>\n",
              "      <td>None</td>\n",
              "      <td>[-451, -453, -457, -451, -453, -455, -458, -45...</td>\n",
              "    </tr>\n",
              "    <tr>\n",
              "      <th>7</th>\n",
              "      <td>https://epigraphy.packhum.org/text/8</td>\n",
              "      <td>IG I³</td>\n",
              "      <td>8</td>\n",
              "      <td>Regions\\n\\nAttica (IG I-III)Attica</td>\n",
              "      <td>None</td>\n",
              "      <td>Att. — stoich. 32 — 460-450</td>\n",
              "      <td>None</td>\n",
              "      <td>27.0</td>\n",
              "      <td>\\nfrg. a.1\\n\\n\\n\\n\\n5\\n\\n\\n\\n\\n\\n10\\n\\n\\n\\nfrg...</td>\n",
              "      <td>[․․5․․]#⁷ον ℎὰ ο[․․․․․․․․․21․․․․․․․․․․]\\nα περ...</td>\n",
              "      <td>IG-I-3.csv</td>\n",
              "      <td>8</td>\n",
              "      <td>Regions\\nAttica (IG I-III)Attica</td>\n",
              "      <td>IG I³\\n8</td>\n",
              "      <td>ον ℎὰ ο α περὶ τούτον μον Ἀντίβιορ Καλλίμαχος ...</td>\n",
              "      <td>ον ℎὰ ο α περὶ τούτον δε͂μον Ἀντίβιος εἶπεν τὰ...</td>\n",
              "      <td>․․․․ ον ℎὰ ο․․․․․․․․․․․․․․․․․․․ α περὶ τούτον ...</td>\n",
              "      <td>460-450</td>\n",
              "      <td>{'or': None, 'not_before': -460, 'not_after': ...</td>\n",
              "      <td>-460.0</td>\n",
              "      <td>-450.0</td>\n",
              "      <td>None</td>\n",
              "      <td>[range]</td>\n",
              "      <td>None</td>\n",
              "      <td>None</td>\n",
              "      <td>[-454, -457, -458, -459, -452, -456, -456, -45...</td>\n",
              "    </tr>\n",
              "    <tr>\n",
              "      <th>8</th>\n",
              "      <td>https://epigraphy.packhum.org/text/9</td>\n",
              "      <td>IG I³</td>\n",
              "      <td>9</td>\n",
              "      <td>Regions\\n\\nAttica (IG I-III)Attica</td>\n",
              "      <td>None</td>\n",
              "      <td>Att. — stoich. 24 — c. 458 a.</td>\n",
              "      <td>None</td>\n",
              "      <td>17.0</td>\n",
              "      <td>\\n1\\n\\n\\n\\n\\n5\\n\\n\\n\\n\\n\\n10\\n\\n\\n\\n\\n\\n15\\n\\n\\n</td>\n",
              "      <td>[ἔδοχσεν τε͂ι βο]λε̣͂ι καὶ το͂[ι δέμ]-\\n[οι· ․...</td>\n",
              "      <td>IG-I-3.csv</td>\n",
              "      <td>9</td>\n",
              "      <td>Regions\\nAttica (IG I-III)Attica</td>\n",
              "      <td>IG I³\\n9</td>\n",
              "      <td>λε͂ι καὶ το͂υτάνευε Αἰ ευε Μένυλλίες εἶπε χσσυ...</td>\n",
              "      <td>ἔδοχσεν τε͂ι βολε͂ι καὶ το͂ι δέμοι ντὶς ἐπρυτά...</td>\n",
              "      <td>ἔδοχσεν τε͂ι βολε͂ι καὶ το͂ι δέμοι ․․․ντὶς ἐπρ...</td>\n",
              "      <td>c. 458 a.</td>\n",
              "      <td>{'or': None, 'not_before': -463, 'not_after': ...</td>\n",
              "      <td>-463.0</td>\n",
              "      <td>-453.0</td>\n",
              "      <td>None</td>\n",
              "      <td>[exact, phase, ca]</td>\n",
              "      <td>None</td>\n",
              "      <td>None</td>\n",
              "      <td>[-454, -455, -455, -458, -457, -461, -458, -45...</td>\n",
              "    </tr>\n",
              "    <tr>\n",
              "      <th>9</th>\n",
              "      <td>https://epigraphy.packhum.org/text/10</td>\n",
              "      <td>IG I³</td>\n",
              "      <td>10</td>\n",
              "      <td>Regions\\n\\nAttica (IG I-III)Attica</td>\n",
              "      <td>None</td>\n",
              "      <td>Att. — stoich. 22 — 469-450</td>\n",
              "      <td>None</td>\n",
              "      <td>29.0</td>\n",
              "      <td>\\n1\\n\\n\\n\\n\\n5\\n\\n\\n\\n\\n\\n\\n10\\n\\n\\n\\n\\n\\n15\\n...</td>\n",
              "      <td>[ἔδο]ξεν τῆι βολῆι καὶ τῶι δ[ή]-\\n[μωι· Ἀ]καμα...</td>\n",
              "      <td>IG-I-3.csv</td>\n",
              "      <td>10</td>\n",
              "      <td>Regions\\nAttica (IG I-III)Attica</td>\n",
              "      <td>IG I³\\n10</td>\n",
              "      <td>ξεν τῆι βολῆι καὶ τῶι δκαμαντὶς πρυτάνευε νάσι...</td>\n",
              "      <td>ἔδοξεν τῆι βολῆι καὶ τῶι δήμωι Ἀκαμαντὶς ἐπρυτ...</td>\n",
              "      <td>ἔδοξεν τῆι βολῆι καὶ τῶι δήμωι Ἀκαμαντὶς ἐπρυτ...</td>\n",
              "      <td>469-450</td>\n",
              "      <td>{'or': None, 'not_before': -469, 'not_after': ...</td>\n",
              "      <td>-469.0</td>\n",
              "      <td>-450.0</td>\n",
              "      <td>None</td>\n",
              "      <td>[range]</td>\n",
              "      <td>None</td>\n",
              "      <td>None</td>\n",
              "      <td>[-461, -462, -466, -456, -452, -461, -464, -46...</td>\n",
              "    </tr>\n",
              "    <tr>\n",
              "      <th>10</th>\n",
              "      <td>https://epigraphy.packhum.org/text/11</td>\n",
              "      <td>IG I³</td>\n",
              "      <td>11</td>\n",
              "      <td>Regions\\n\\nAttica (IG I-III)Attica</td>\n",
              "      <td>None</td>\n",
              "      <td>Att. — stoich. 48 — ante med. s. V a.</td>\n",
              "      <td>None</td>\n",
              "      <td>23.0</td>\n",
              "      <td>\\nfrg. a.1\\n\\n\\n\\n\\n5\\n\\n\\n\\n\\n\\n10\\n\\n\\n\\n\\n\\...</td>\n",
              "      <td>[χσυμμαχία καὶ ℎόρ]κ̣ο̣[ς] Ἀ̣[θ]ε̣ν̣α̣[ίον κα]...</td>\n",
              "      <td>IG-I-3.csv</td>\n",
              "      <td>11</td>\n",
              "      <td>Regions\\nAttica (IG I-III)Attica</td>\n",
              "      <td>IG I³\\n11</td>\n",
              "      <td>κο Ἀεναὶ Ἐγεσταί ο͂ι ἐπρυτάνευε οΙ ον ἐ͂ρχε Ἀ...</td>\n",
              "      <td>χσυμμαχία καὶ ℎόρκος Ἀθεναίον καὶ Ἐγεσταίον ἔδ...</td>\n",
              "      <td>χσυμμαχία καὶ ℎόρκος Ἀθεναίον καὶ Ἐγεσταίον. ἔ...</td>\n",
              "      <td>ante med. s. V a.</td>\n",
              "      <td>{'or': None, 'not_before': None, 'not_after': ...</td>\n",
              "      <td>NaN</td>\n",
              "      <td>-456.0</td>\n",
              "      <td>None</td>\n",
              "      <td>[range, cent, phase, middle, ante]</td>\n",
              "      <td>None</td>\n",
              "      <td>None</td>\n",
              "      <td>[-456, -467, -474, -500, -469, -462, -468, -45...</td>\n",
              "    </tr>\n",
              "    <tr>\n",
              "      <th>11</th>\n",
              "      <td>https://epigraphy.packhum.org/text/12</td>\n",
              "      <td>IG I³</td>\n",
              "      <td>12</td>\n",
              "      <td>Regions\\n\\nAttica (IG I-III)Attica</td>\n",
              "      <td>None</td>\n",
              "      <td>Att. — stoich. 54 — c. 433/2 a.</td>\n",
              "      <td>None</td>\n",
              "      <td>7.0</td>\n",
              "      <td>\\n1\\n\\n\\n\\n\\n5\\n\\n\\n</td>\n",
              "      <td>[ἔδοχσε]ν τε͂ι βολε͂ι [καὶ το͂ι δέμοι· ․․․c.9․...</td>\n",
              "      <td>IG-I-3.csv</td>\n",
              "      <td>12</td>\n",
              "      <td>Regions\\nAttica (IG I-III)Attica</td>\n",
              "      <td>IG I³\\n12</td>\n",
              "      <td>ν τε͂ι βολε͂ι μάτευε Ἀρ κυαίοις Ἐλα τὰ πρὸς Ἀθ...</td>\n",
              "      <td>ἔδοχσεν τε͂ι βολε͂ι καὶ το͂ι δέμοι c ἐπρυτάνευ...</td>\n",
              "      <td>ἔδοχσεν τε͂ι βολε͂ι καὶ το͂ι δέμοι ․․․c.․․․ ἐπ...</td>\n",
              "      <td>c. 433/2 a.</td>\n",
              "      <td>{'or': None, 'not_before': -433, 'not_after': ...</td>\n",
              "      <td>-433.0</td>\n",
              "      <td>-432.0</td>\n",
              "      <td>None</td>\n",
              "      <td>[range, phase, ca]</td>\n",
              "      <td>None</td>\n",
              "      <td>None</td>\n",
              "      <td>[-432, -432, -433, -432, -433, -432, -432, -43...</td>\n",
              "    </tr>\n",
              "    <tr>\n",
              "      <th>12</th>\n",
              "      <td>https://epigraphy.packhum.org/text/13</td>\n",
              "      <td>IG I³</td>\n",
              "      <td>13</td>\n",
              "      <td>Regions\\n\\nAttica (IG I-III)Attica</td>\n",
              "      <td>None</td>\n",
              "      <td>Att. — stoich. — 465-450</td>\n",
              "      <td>None</td>\n",
              "      <td>13.0</td>\n",
              "      <td>\\nfrg. a.1\\n\\n\\n\\n\\n\\nfrg. b.5\\n\\n\\n\\n\\n\\n10\\n...</td>\n",
              "      <td>— — χαι — —\\n— — ε̣σσθα̣ — —\\n— — [․]λιστ — —\\...</td>\n",
              "      <td>IG-I-3.csv</td>\n",
              "      <td>13</td>\n",
              "      <td>Regions\\nAttica (IG I-III)Attica</td>\n",
              "      <td>IG I³\\n13</td>\n",
              "      <td>χαι εσσθα λιστ νεμ ενν ℎότι οδομεν ον δὲ καὶ ν...</td>\n",
              "      <td>χαι εσσθα λιστ νεμ ενν ℎότι οδομεν ον δὲ καὶ ν...</td>\n",
              "      <td>χαι εσσθα λιστ νεμ ενν ℎότι οδομεν ον δὲ καὶ ν...</td>\n",
              "      <td>465-450</td>\n",
              "      <td>{'or': None, 'not_before': -465, 'not_after': ...</td>\n",
              "      <td>-465.0</td>\n",
              "      <td>-450.0</td>\n",
              "      <td>None</td>\n",
              "      <td>[range]</td>\n",
              "      <td>None</td>\n",
              "      <td>None</td>\n",
              "      <td>[-459, -458, -461, -454, -456, -462, -454, -45...</td>\n",
              "    </tr>\n",
              "    <tr>\n",
              "      <th>13</th>\n",
              "      <td>https://epigraphy.packhum.org/text/14</td>\n",
              "      <td>IG I³</td>\n",
              "      <td>14</td>\n",
              "      <td>Regions\\n\\nAttica (IG I-III)Attica</td>\n",
              "      <td>None</td>\n",
              "      <td>Att. — stoich. 23 — 453/2?</td>\n",
              "      <td>None</td>\n",
              "      <td>48.0</td>\n",
              "      <td>\\n1\\n\\n\\n\\n\\n5\\n\\n\\n\\n\\n\\n10\\n\\n\\n\\n\\n\\n15\\n\\n...</td>\n",
              "      <td>[ἔδοχσεν τε͂ι βολε͂ι καὶ το͂ι δέμοι· — — — ἐπρ...</td>\n",
              "      <td>IG-I-3.csv</td>\n",
              "      <td>14</td>\n",
              "      <td>Regions\\nAttica (IG I-III)Attica</td>\n",
              "      <td>IG I³\\n14</td>\n",
              "      <td>ἐπεστάτε ΛΙος ἀπάγεν στο Παναθέναια τὰ μεγάχσν...</td>\n",
              "      <td>ἔδοχσεν τε͂ι βολε͂ι καὶ το͂ι δέμοι ἐπρυτάνευε ...</td>\n",
              "      <td>ἔδοχσεν τε͂ι βολε͂ι καὶ το͂ι δέμοι ἐπρυτάνευε,...</td>\n",
              "      <td>453/2?</td>\n",
              "      <td>{'or': None, 'certainty': '?', 'not_before': -...</td>\n",
              "      <td>-453.0</td>\n",
              "      <td>-452.0</td>\n",
              "      <td>None</td>\n",
              "      <td>[range]</td>\n",
              "      <td>?</td>\n",
              "      <td>None</td>\n",
              "      <td>[-452, -452, -452, -453, -453, -452, -452, -45...</td>\n",
              "    </tr>\n",
              "    <tr>\n",
              "      <th>14</th>\n",
              "      <td>https://epigraphy.packhum.org/text/15</td>\n",
              "      <td>IG I³</td>\n",
              "      <td>15</td>\n",
              "      <td>Regions\\n\\nAttica (IG I-III)Attica</td>\n",
              "      <td>None</td>\n",
              "      <td>Att. — stoich. 47 — c. 450 a.</td>\n",
              "      <td>None</td>\n",
              "      <td>50.0</td>\n",
              "      <td>\\nfrg. c.1\\n\\n\\n\\n\\n\\nfrg. b.5\\n\\n\\n\\n\\n\\n10\\n...</td>\n",
              "      <td>— — ΧΙ — —\\n— — ΔΙ — —\\n— — ΟΛ — —\\n— — ΟΝ̣ — ...</td>\n",
              "      <td>IG-I-3.csv</td>\n",
              "      <td>15</td>\n",
              "      <td>Regions\\nAttica (IG I-III)Attica</td>\n",
              "      <td>IG I³\\n15</td>\n",
              "      <td>ΧΙ ΔΙ ΟΛ ΟΝ lacuna ανε ι ἐπι δραχμὰς παρει τα ...</td>\n",
              "      <td>ΧΙ ΔΙ ΟΛ ΟΝ lacuna ανε ι ἐπι δραχμὰς παρει τα ...</td>\n",
              "      <td>ΧΙ ΔΙ ΟΛ ΟΝ lacuna ․․․․․ανε ․․․․ι ἐπι ․․․ δραχ...</td>\n",
              "      <td>c. 450 a.</td>\n",
              "      <td>{'or': None, 'not_before': -455, 'not_after': ...</td>\n",
              "      <td>-455.0</td>\n",
              "      <td>-445.0</td>\n",
              "      <td>None</td>\n",
              "      <td>[exact, phase, ca]</td>\n",
              "      <td>None</td>\n",
              "      <td>None</td>\n",
              "      <td>[-449, -450, -451, -454, -452, -449, -453, -45...</td>\n",
              "    </tr>\n",
              "    <tr>\n",
              "      <th>15</th>\n",
              "      <td>https://epigraphy.packhum.org/text/16</td>\n",
              "      <td>IG I³</td>\n",
              "      <td>16</td>\n",
              "      <td>Regions\\n\\nAttica (IG I-III)Attica</td>\n",
              "      <td>None</td>\n",
              "      <td>Att. — stoich. — c. 450 a.</td>\n",
              "      <td>None</td>\n",
              "      <td>24.0</td>\n",
              "      <td>\\nfrg. a\\n\\n1\\n\\n\\n\\n\\n5\\n\\n\\n\\n\\n\\n10\\n\\n\\n\\n...</td>\n",
              "      <td>vestigia\\n[․]ται ἐὰμ — — — — — — — — — — —\\n[․...</td>\n",
              "      <td>IG-I-3.csv</td>\n",
              "      <td>16</td>\n",
              "      <td>Regions\\nAttica (IG I-III)Attica</td>\n",
              "      <td>IG I³\\n16</td>\n",
              "      <td>vestigia ται ἐὰμ σθο ατ ΛΛΟΤ τα καὶ τεμ ΟΛΕ τὲ...</td>\n",
              "      <td>vestigia ται ἐὰμ σθο ατ ΛΛΟΤ τα καὶ τ εμ ΟΛΕ τ...</td>\n",
              "      <td>vestigia ται ἐὰμ σθο ατ ΛΛΟΤ τα καὶ τ․․․․εμ ․․...</td>\n",
              "      <td>c. 450 a.</td>\n",
              "      <td>{'or': None, 'not_before': -455, 'not_after': ...</td>\n",
              "      <td>-455.0</td>\n",
              "      <td>-445.0</td>\n",
              "      <td>None</td>\n",
              "      <td>[exact, phase, ca]</td>\n",
              "      <td>None</td>\n",
              "      <td>None</td>\n",
              "      <td>[-448, -453, -455, -451, -454, -448, -450, -45...</td>\n",
              "    </tr>\n",
              "    <tr>\n",
              "      <th>16</th>\n",
              "      <td>https://epigraphy.packhum.org/text/17</td>\n",
              "      <td>IG I³</td>\n",
              "      <td>17</td>\n",
              "      <td>Regions\\n\\nAttica (IG I-III)Attica</td>\n",
              "      <td>None</td>\n",
              "      <td>Att. — stoich. 23 — 451/0</td>\n",
              "      <td>None</td>\n",
              "      <td>18.0</td>\n",
              "      <td>\\nfrg. a.1\\n\\n\\n\\n\\n5\\n\\n\\n\\n\\n\\n10\\n\\nfrg. b....</td>\n",
              "      <td>Σιγ[ειέον].\\n[ἔ]δοχσεν τε͂[ι βολε͂ι καὶ το͂ι δ...</td>\n",
              "      <td>IG-I-3.csv</td>\n",
              "      <td>17</td>\n",
              "      <td>Regions\\nAttica (IG I-III)Attica</td>\n",
              "      <td>IG I³\\n17</td>\n",
              "      <td>Σιγ δοχσεν τε͂οι Οἰνες ς ἐγραμμάτπεστάτε Ἀν χί...</td>\n",
              "      <td>Σιγειέον ἔδοχσεν τε͂ι βολε͂ι καὶ το͂ι δέμοι Οἰ...</td>\n",
              "      <td>Σιγειέον. ἔδοχσεν τε͂ι βολε͂ι καὶ το͂ι δέμοι Ο...</td>\n",
              "      <td>451/0</td>\n",
              "      <td>{'or': None, 'not_before': -451, 'not_after': ...</td>\n",
              "      <td>-451.0</td>\n",
              "      <td>-450.0</td>\n",
              "      <td>None</td>\n",
              "      <td>[range]</td>\n",
              "      <td>None</td>\n",
              "      <td>None</td>\n",
              "      <td>[-450, -451, -450, -450, -450, -451, -451, -45...</td>\n",
              "    </tr>\n",
              "    <tr>\n",
              "      <th>17</th>\n",
              "      <td>https://epigraphy.packhum.org/text/18</td>\n",
              "      <td>IG I³</td>\n",
              "      <td>18</td>\n",
              "      <td>Regions\\n\\nAttica (IG I-III)Attica</td>\n",
              "      <td>None</td>\n",
              "      <td>Att. — stoich. — c. 450 a.</td>\n",
              "      <td>None</td>\n",
              "      <td>27.0</td>\n",
              "      <td>\\nfrg. a.1\\n\\n\\n\\n\\n5\\n\\n\\n\\n\\n\\n10\\n\\n\\nfrg. ...</td>\n",
              "      <td>προ[χσένον καὶ εὐεργετο͂ν]\\nἈθενα[ίον — — — — ...</td>\n",
              "      <td>IG-I-3.csv</td>\n",
              "      <td>18</td>\n",
              "      <td>Regions\\nAttica (IG I-III)Attica</td>\n",
              "      <td>IG I³\\n18</td>\n",
              "      <td>προ Ἀθενα Παριαν Ἀθενοδ Ἱκεσίο ἔδοχσεν τε͂άνευ...</td>\n",
              "      <td>προχσένον καὶ εὐεργετο͂ν Ἀθεναίον Παριανο͂ν Ἀθ...</td>\n",
              "      <td>προχσένον καὶ εὐεργετο͂ν Ἀθεναίον Παριανο͂ν Ἀθ...</td>\n",
              "      <td>c. 450 a.</td>\n",
              "      <td>{'or': None, 'not_before': -455, 'not_after': ...</td>\n",
              "      <td>-455.0</td>\n",
              "      <td>-445.0</td>\n",
              "      <td>None</td>\n",
              "      <td>[exact, phase, ca]</td>\n",
              "      <td>None</td>\n",
              "      <td>None</td>\n",
              "      <td>[-450, -452, -452, -452, -454, -447, -446, -44...</td>\n",
              "    </tr>\n",
              "    <tr>\n",
              "      <th>18</th>\n",
              "      <td>https://epigraphy.packhum.org/text/19</td>\n",
              "      <td>IG I³</td>\n",
              "      <td>19</td>\n",
              "      <td>Regions\\n\\nAttica (IG I-III)Attica</td>\n",
              "      <td>None</td>\n",
              "      <td>Att. — stoich. 28 — c. 450/49 a.</td>\n",
              "      <td>None</td>\n",
              "      <td>13.0</td>\n",
              "      <td>\\n1\\n\\n\\n\\n\\n5\\n\\n\\n\\n\\n\\n10\\n\\n\\n\\n</td>\n",
              "      <td>[․․․․ ἐ͂ναι] δ α[ὐτὸν πρόχσενον Ἀθενα]-\\n[ίον...</td>\n",
              "      <td>IG-I-3.csv</td>\n",
              "      <td>19</td>\n",
              "      <td>Regions\\nAttica (IG I-III)Attica</td>\n",
              "      <td>IG I³\\n19</td>\n",
              "      <td>δ αὐεργέτε αι Ἀχελοΐοατὰ τούτον Ἀέμαρχον πρυτὲ...</td>\n",
              "      <td>ἐ͂ναι δ αὐτὸν πρόχσενον Ἀθεναίον καὶ εὐεργέτε...</td>\n",
              "      <td>․․․․ ἐ͂ναι δ αὐτὸν πρόχσενον Ἀθεναίον καὶ εὐε...</td>\n",
              "      <td>c. 450/49 a.</td>\n",
              "      <td>{'or': None, 'not_before': -450, 'not_after': ...</td>\n",
              "      <td>-450.0</td>\n",
              "      <td>-449.0</td>\n",
              "      <td>None</td>\n",
              "      <td>[range, phase, ca]</td>\n",
              "      <td>None</td>\n",
              "      <td>None</td>\n",
              "      <td>[-449, -450, -449, -449, -449, -450, -450, -44...</td>\n",
              "    </tr>\n",
              "    <tr>\n",
              "      <th>19</th>\n",
              "      <td>https://epigraphy.packhum.org/text/20</td>\n",
              "      <td>IG I³</td>\n",
              "      <td>20</td>\n",
              "      <td>Regions\\n\\nAttica (IG I-III)Attica</td>\n",
              "      <td>None</td>\n",
              "      <td>Att. — stoich. — c. 450 a.</td>\n",
              "      <td>None</td>\n",
              "      <td>11.0</td>\n",
              "      <td>\\n1\\n\\n\\n\\n\\n5\\n\\n\\n\\n\\n\\n10\\n\\n</td>\n",
              "      <td>[— — — — — — — —  ․․․․] καὶ — — — — — — — — —\\...</td>\n",
              "      <td>IG-I-3.csv</td>\n",
              "      <td>20</td>\n",
              "      <td>Regions\\nAttica (IG I-III)Attica</td>\n",
              "      <td>IG I³\\n20</td>\n",
              "      <td>καὶ κε͂ται ὸν δε͂μο ολις τ ότοις οι ἂν κυρ δέο...</td>\n",
              "      <td>καὶ ℎόπος ἂν μὲ ἀδικε͂ται τὸν δε͂μον ολις τ πρ...</td>\n",
              "      <td>․․․․ καὶ ℎόπος ἂν μὲ ἀδικε͂ται τὸν δε͂μον ․․ολ...</td>\n",
              "      <td>c. 450 a.</td>\n",
              "      <td>{'or': None, 'not_before': -455, 'not_after': ...</td>\n",
              "      <td>-455.0</td>\n",
              "      <td>-445.0</td>\n",
              "      <td>None</td>\n",
              "      <td>[exact, phase, ca]</td>\n",
              "      <td>None</td>\n",
              "      <td>None</td>\n",
              "      <td>[-452, -446, -446, -450, -448, -452, -449, -45...</td>\n",
              "    </tr>\n",
              "  </tbody>\n",
              "</table>\n",
              "</div>"
            ],
            "text/plain": [
              "                                      URL  ...                                       random_dates\n",
              "0    https://epigraphy.packhum.org/text/1  ...  [-510, -504, -507, -508, -501, -501, -506, -50...\n",
              "1    https://epigraphy.packhum.org/text/2  ...  [-504, -501, -499, -501, -499, -505, -500, -49...\n",
              "2    https://epigraphy.packhum.org/text/3  ...  [-484, -485, -487, -481, -483, -482, -484, -48...\n",
              "3    https://epigraphy.packhum.org/text/4  ...  [-484, -484, -485, -484, -484, -484, -485, -48...\n",
              "4    https://epigraphy.packhum.org/text/5  ...  [-496, -500, -496, -496, -499, -500, -497, -50...\n",
              "5    https://epigraphy.packhum.org/text/6  ...  [-487, -507, -465, -479, -468, -467, -477, -47...\n",
              "6    https://epigraphy.packhum.org/text/7  ...  [-451, -453, -457, -451, -453, -455, -458, -45...\n",
              "7    https://epigraphy.packhum.org/text/8  ...  [-454, -457, -458, -459, -452, -456, -456, -45...\n",
              "8    https://epigraphy.packhum.org/text/9  ...  [-454, -455, -455, -458, -457, -461, -458, -45...\n",
              "9   https://epigraphy.packhum.org/text/10  ...  [-461, -462, -466, -456, -452, -461, -464, -46...\n",
              "10  https://epigraphy.packhum.org/text/11  ...  [-456, -467, -474, -500, -469, -462, -468, -45...\n",
              "11  https://epigraphy.packhum.org/text/12  ...  [-432, -432, -433, -432, -433, -432, -432, -43...\n",
              "12  https://epigraphy.packhum.org/text/13  ...  [-459, -458, -461, -454, -456, -462, -454, -45...\n",
              "13  https://epigraphy.packhum.org/text/14  ...  [-452, -452, -452, -453, -453, -452, -452, -45...\n",
              "14  https://epigraphy.packhum.org/text/15  ...  [-449, -450, -451, -454, -452, -449, -453, -45...\n",
              "15  https://epigraphy.packhum.org/text/16  ...  [-448, -453, -455, -451, -454, -448, -450, -45...\n",
              "16  https://epigraphy.packhum.org/text/17  ...  [-450, -451, -450, -450, -450, -451, -451, -45...\n",
              "17  https://epigraphy.packhum.org/text/18  ...  [-450, -452, -452, -452, -454, -447, -446, -44...\n",
              "18  https://epigraphy.packhum.org/text/19  ...  [-449, -450, -449, -449, -449, -450, -450, -44...\n",
              "19  https://epigraphy.packhum.org/text/20  ...  [-452, -446, -446, -450, -448, -452, -449, -45...\n",
              "\n",
              "[20 rows x 26 columns]"
            ]
          },
          "metadata": {
            "tags": []
          },
          "execution_count": 6
        }
      ]
    },
    {
      "cell_type": "markdown",
      "metadata": {
        "id": "gKWAlgCsRSNP",
        "colab_type": "text"
      },
      "source": [
        "# PHI dataset overview"
      ]
    },
    {
      "cell_type": "code",
      "metadata": {
        "id": "HudEfFf9RQs7",
        "colab_type": "code",
        "colab": {
          "base_uri": "https://localhost:8080/",
          "height": 34
        },
        "outputId": "9ec3837d-15fa-4238-d2c1-679491a74eba"
      },
      "source": [
        "len(PHI)"
      ],
      "execution_count": 7,
      "outputs": [
        {
          "output_type": "execute_result",
          "data": {
            "text/plain": [
              "216702"
            ]
          },
          "metadata": {
            "tags": []
          },
          "execution_count": 7
        }
      ]
    },
    {
      "cell_type": "code",
      "metadata": {
        "id": "QrsgRKOoRZCh",
        "colab_type": "code",
        "colab": {
          "base_uri": "https://localhost:8080/",
          "height": 34
        },
        "outputId": "c95d795a-1659-4f99-e178-9c2c932d739f"
      },
      "source": [
        "len(PHI[PHI[\"random_dates\"].notna()])"
      ],
      "execution_count": 9,
      "outputs": [
        {
          "output_type": "execute_result",
          "data": {
            "text/plain": [
              "130533"
            ]
          },
          "metadata": {
            "tags": []
          },
          "execution_count": 9
        }
      ]
    },
    {
      "cell_type": "code",
      "metadata": {
        "id": "NPLXo16Mbanc",
        "colab_type": "code",
        "colab": {
          "base_uri": "https://localhost:8080/",
          "height": 34
        },
        "outputId": "ffa274c7-5f3b-4480-da30-9862c83db940"
      },
      "source": [
        "# how many are dated / generated random numbers\n",
        "len(PHI[PHI[\"random_dates\"].notna()]) / len(PHI)"
      ],
      "execution_count": 8,
      "outputs": [
        {
          "output_type": "execute_result",
          "data": {
            "text/plain": [
              "0.6023617686961819"
            ]
          },
          "metadata": {
            "tags": []
          },
          "execution_count": 8
        }
      ]
    },
    {
      "cell_type": "code",
      "metadata": {
        "id": "zLL3cdyj0Lpe",
        "colab_type": "code",
        "colab": {
          "base_uri": "https://localhost:8080/",
          "height": 34
        },
        "outputId": "db129b17-4186-4a6e-c927-926fb7f56d0e"
      },
      "source": [
        "len(PHI[(PHI[\"not_before\"] >= -800) & (PHI[\"not_before\"] <= 400)])"
      ],
      "execution_count": 160,
      "outputs": [
        {
          "output_type": "execute_result",
          "data": {
            "text/plain": [
              "124061"
            ]
          },
          "metadata": {
            "tags": []
          },
          "execution_count": 160
        }
      ]
    },
    {
      "cell_type": "code",
      "metadata": {
        "id": "9KrOsEXh0t7n",
        "colab_type": "code",
        "colab": {
          "base_uri": "https://localhost:8080/",
          "height": 34
        },
        "outputId": "d9f79c9c-ad3f-4283-ac04-8e78b1acbcbe"
      },
      "source": [
        "# post quem\n",
        "post = PHI[PHI[\"not_before\"].notna() & (PHI[\"not_after\"].isna())]\n",
        "len(post)"
      ],
      "execution_count": 173,
      "outputs": [
        {
          "output_type": "execute_result",
          "data": {
            "text/plain": [
              "3678"
            ]
          },
          "metadata": {
            "tags": []
          },
          "execution_count": 173
        }
      ]
    },
    {
      "cell_type": "code",
      "metadata": {
        "id": "ID5dnngM0uGT",
        "colab_type": "code",
        "colab": {
          "base_uri": "https://localhost:8080/",
          "height": 34
        },
        "outputId": "fd27a756-23ff-4122-918f-e8c52d64cf13"
      },
      "source": [
        "# ante quem\n",
        "ante = PHI[PHI[\"not_after\"].notna() & (PHI[\"not_before\"].isna())]\n",
        "len(ante)"
      ],
      "execution_count": 172,
      "outputs": [
        {
          "output_type": "execute_result",
          "data": {
            "text/plain": [
              "806"
            ]
          },
          "metadata": {
            "tags": []
          },
          "execution_count": 172
        }
      ]
    },
    {
      "cell_type": "code",
      "metadata": {
        "id": "VEvKNE-82tpY",
        "colab_type": "code",
        "colab": {
          "base_uri": "https://localhost:8080/",
          "height": 34
        },
        "outputId": "de9b78d2-6228-4278-a18c-4b7e6d5bbe26"
      },
      "source": [
        "ranges = PHI[PHI[\"not_after\"].notna() & (PHI[\"not_before\"].notna())]\n",
        "len(ranges)"
      ],
      "execution_count": 175,
      "outputs": [
        {
          "output_type": "execute_result",
          "data": {
            "text/plain": [
              "126049"
            ]
          },
          "metadata": {
            "tags": []
          },
          "execution_count": 175
        }
      ]
    },
    {
      "cell_type": "code",
      "metadata": {
        "id": "zp9Nyuwi21CP",
        "colab_type": "code",
        "colab": {
          "base_uri": "https://localhost:8080/",
          "height": 34
        },
        "outputId": "aace5d23-c4d4-4147-d12a-fb249cd005ab"
      },
      "source": [
        "# just for checking...\n",
        "len(ranges) + len(ante) + len(post)"
      ],
      "execution_count": 177,
      "outputs": [
        {
          "output_type": "execute_result",
          "data": {
            "text/plain": [
              "130533"
            ]
          },
          "metadata": {
            "tags": []
          },
          "execution_count": 177
        }
      ]
    },
    {
      "cell_type": "code",
      "metadata": {
        "id": "9ITjcUnE3d_s",
        "colab_type": "code",
        "colab": {}
      },
      "source": [
        ""
      ],
      "execution_count": null,
      "outputs": []
    },
    {
      "cell_type": "code",
      "metadata": {
        "id": "l0dUoYds3eKd",
        "colab_type": "code",
        "colab": {}
      },
      "source": [
        ""
      ],
      "execution_count": null,
      "outputs": []
    },
    {
      "cell_type": "code",
      "metadata": {
        "id": "75LklJvf3eT9",
        "colab_type": "code",
        "colab": {}
      },
      "source": [
        ""
      ],
      "execution_count": null,
      "outputs": []
    },
    {
      "cell_type": "markdown",
      "metadata": {
        "id": "aHdSRE4831vK",
        "colab_type": "text"
      },
      "source": [
        "# Regions"
      ]
    },
    {
      "cell_type": "code",
      "metadata": {
        "id": "-WTsMTEJ3elE",
        "colab_type": "code",
        "colab": {
          "base_uri": "https://localhost:8080/",
          "height": 1000
        },
        "outputId": "3fbd1222-ebda-4c3c-c028-5e3571e4c9e2"
      },
      "source": [
        "set([reg.partition(\"ions\\n\")[2].partition(\" (\")[0] for reg in PHI[\"hdr1\"].unique().tolist()])"
      ],
      "execution_count": 194,
      "outputs": [
        {
          "output_type": "execute_result",
          "data": {
            "text/plain": [
              "{'\\nAttica',\n",
              " 'Aegean Islands, incl. Crete',\n",
              " 'Asia Minor',\n",
              " 'Asia Minor\\nAeolis',\n",
              " 'Asia Minor\\nArmenia ',\n",
              " 'Asia Minor\\nBithynia',\n",
              " 'Asia Minor\\nCappadocia',\n",
              " 'Asia Minor\\nCaria ',\n",
              " 'Asia Minor\\nCaria, Rhodian Peraia ',\n",
              " 'Asia Minor\\nCilicia and Isauria',\n",
              " 'Asia Minor\\nGalatia',\n",
              " 'Asia Minor\\nIonia',\n",
              " 'Asia Minor\\nLycaonia',\n",
              " 'Asia Minor\\nLycia',\n",
              " 'Asia Minor\\nLydia',\n",
              " 'Asia Minor\\nMysia',\n",
              " 'Asia Minor\\nMysia [Kaïkos], Pergamon',\n",
              " 'Asia Minor\\nMysia [Upper Kaïkos] / Lydia',\n",
              " 'Asia Minor\\nPamphylia',\n",
              " 'Asia Minor\\nPhrygia',\n",
              " 'Asia Minor\\nPisidia',\n",
              " 'Asia Minor\\nPontus and Paphlagonia',\n",
              " 'Asia Minor\\nTroas',\n",
              " 'Asia MinorAeolis',\n",
              " 'Asia MinorArmenia',\n",
              " 'Asia MinorBithynia',\n",
              " 'Asia MinorCappadocia',\n",
              " 'Asia MinorCaria',\n",
              " 'Asia MinorCilicia and Isauria',\n",
              " 'Asia MinorGalatia',\n",
              " 'Asia MinorIberia and Colchis',\n",
              " 'Asia MinorIonia',\n",
              " 'Asia MinorLycaonia',\n",
              " 'Asia MinorLycia',\n",
              " 'Asia MinorLydia',\n",
              " 'Asia MinorMysia [Kaïkos], Pergamon',\n",
              " 'Asia MinorMysia [Upper Kaïkos] / Lydia',\n",
              " 'Asia MinorPamphylia',\n",
              " 'Asia MinorPhrygia',\n",
              " 'Asia MinorPisidia',\n",
              " 'Asia MinorPontus and Paphlagonia',\n",
              " 'Attica',\n",
              " 'Central Greece',\n",
              " 'Cyprus',\n",
              " 'Egypt, Nubia and Cyrenaïca\\nEgypt and Nubia',\n",
              " 'Egypt, Nubia and CyrenaïcaCyrenaïca',\n",
              " 'Egypt, Nubia and CyrenaïcaEgypt and Nubia',\n",
              " 'Greater Syria and the East',\n",
              " 'Greater Syria and the East\\nArabia',\n",
              " 'Greater Syria and the East\\nCommagene',\n",
              " 'Greater Syria and the East\\nMesopotamia',\n",
              " 'Greater Syria and the East\\nPalaestina',\n",
              " 'Greater Syria and the East\\nSyria and Phoenicia',\n",
              " 'Greater Syria and the EastArabia',\n",
              " 'Greater Syria and the EastArabian Peninsula',\n",
              " 'Greater Syria and the EastArachosia, Drangiana',\n",
              " 'Greater Syria and the EastBabylonia',\n",
              " 'Greater Syria and the EastBactria, Sogdiana',\n",
              " 'Greater Syria and the EastCarmania',\n",
              " 'Greater Syria and the EastCommagene',\n",
              " 'Greater Syria and the EastHyrcania, Parthia',\n",
              " 'Greater Syria and the EastMedia',\n",
              " 'Greater Syria and the EastMesopotamia',\n",
              " 'Greater Syria and the EastOsrhoene',\n",
              " 'Greater Syria and the EastPalaestina',\n",
              " 'Greater Syria and the EastPersis',\n",
              " 'Greater Syria and the EastSusiana',\n",
              " 'Greater Syria and the EastSyria and Phoenicia',\n",
              " 'Greater Syria and the EastUnknown Provenance',\n",
              " 'North Africa\\nAfrica Proconsularis',\n",
              " 'North Africa\\nTripolitania',\n",
              " 'North AfricaAfrica Proconsularis',\n",
              " 'North AfricaByzacena',\n",
              " 'North AfricaMauretania Caesariensis',\n",
              " 'North AfricaMauretania Tingitana',\n",
              " 'North AfricaNumidia',\n",
              " 'North AfricaTripolitania',\n",
              " 'North Shore of the Black Sea\\nunspecified subregion',\n",
              " 'North Shore of the Black Seaunspecified subregion',\n",
              " 'Northern Greece',\n",
              " 'Peloponnesos',\n",
              " 'Sicily, Italy, and the West',\n",
              " 'Thrace and the Lower Danube',\n",
              " 'Unknown Provenancesunspecified subregion',\n",
              " 'Upper Danube\\nMoesia Superior ',\n",
              " 'Upper Danube\\nRaetia, Noricum, and Pannonia ',\n",
              " 'Upper DanubeMoesia Superior',\n",
              " 'Upper DanubeRaetia, Noricum, and Pannonia'}"
            ]
          },
          "metadata": {
            "tags": []
          },
          "execution_count": 194
        }
      ]
    },
    {
      "cell_type": "code",
      "metadata": {
        "id": "CPHXt1eJHw9e",
        "colab_type": "code",
        "colab": {
          "base_uri": "https://localhost:8080/",
          "height": 34
        },
        "outputId": "f9d9989c-4488-427a-9417-885229e9d1c1"
      },
      "source": [
        "PHI_attica = PHI[PHI[\"hdr1\"].str.contains(\"Attica\")]\n",
        "len(PHI_attica)"
      ],
      "execution_count": 181,
      "outputs": [
        {
          "output_type": "execute_result",
          "data": {
            "text/plain": [
              "32652"
            ]
          },
          "metadata": {
            "tags": []
          },
          "execution_count": 181
        }
      ]
    },
    {
      "cell_type": "code",
      "metadata": {
        "id": "_mqGFXG3LVDu",
        "colab_type": "code",
        "colab": {
          "base_uri": "https://localhost:8080/",
          "height": 34
        },
        "outputId": "436ecc75-1964-4ecb-e3f9-ebe775d23eeb"
      },
      "source": [
        "PHI_asia_minor = PHI[PHI[\"hdr1\"].str.contains(\"Asia Minor\")]\n",
        "len(PHI_asia_minor)"
      ],
      "execution_count": 182,
      "outputs": [
        {
          "output_type": "execute_result",
          "data": {
            "text/plain": [
              "50226"
            ]
          },
          "metadata": {
            "tags": []
          },
          "execution_count": 182
        }
      ]
    },
    {
      "cell_type": "markdown",
      "metadata": {
        "id": "hyk8MA7-lmwr",
        "colab_type": "text"
      },
      "source": [
        "# Playing with random dates"
      ]
    },
    {
      "cell_type": "code",
      "metadata": {
        "id": "ziLxFuv15soT",
        "colab_type": "code",
        "colab": {
          "base_uri": "https://localhost:8080/",
          "height": 51
        },
        "outputId": "1cba8979-a4e8-47d2-c9c7-ec160daf4dd0"
      },
      "source": [
        "%%time\n",
        "PHI_complete_simulations = timeblocks_from_randoms(PHI, \"random_dates\", [-800, 400, 50])"
      ],
      "execution_count": 134,
      "outputs": [
        {
          "output_type": "stream",
          "text": [
            "CPU times: user 2min 26s, sys: 1.71 s, total: 2min 28s\n",
            "Wall time: 2min 28s\n"
          ],
          "name": "stdout"
        }
      ]
    },
    {
      "cell_type": "code",
      "metadata": {
        "id": "iTMgujfHJzpc",
        "colab_type": "code",
        "colab": {
          "base_uri": "https://localhost:8080/",
          "height": 425
        },
        "outputId": "809df34c-730b-4061-ce0d-28bace6f26e0"
      },
      "source": [
        "PHI_complete_simulations[1]"
      ],
      "execution_count": 135,
      "outputs": [
        {
          "output_type": "execute_result",
          "data": {
            "text/plain": [
              "[((-800, -751), 10),\n",
              " ((-750, -701), 58),\n",
              " ((-700, -651), 163),\n",
              " ((-650, -601), 248),\n",
              " ((-600, -551), 852),\n",
              " ((-550, -501), 2087),\n",
              " ((-500, -451), 3960),\n",
              " ((-450, -401), 4073),\n",
              " ((-400, -351), 6254),\n",
              " ((-350, -301), 8807),\n",
              " ((-300, -251), 8200),\n",
              " ((-250, -201), 9054),\n",
              " ((-200, -151), 8876),\n",
              " ((-150, -101), 7124),\n",
              " ((-100, -51), 4907),\n",
              " ((-50, -1), 4862),\n",
              " ((1, 50), 6174),\n",
              " ((51, 100), 6157),\n",
              " ((101, 150), 10284),\n",
              " ((151, 200), 10035),\n",
              " ((201, 250), 9115),\n",
              " ((251, 300), 5893),\n",
              " ((301, 350), 3102),\n",
              " ((351, 400), 2730)]"
            ]
          },
          "metadata": {
            "tags": []
          },
          "execution_count": 135
        }
      ]
    },
    {
      "cell_type": "code",
      "metadata": {
        "id": "EoR0WCqfbcFc",
        "colab_type": "code",
        "colab": {}
      },
      "source": [
        "def desc_stat_from_simulations(simulations):\n",
        "  tups_desc = []\n",
        "  for n in range(len(simulations[0])):\n",
        "    values = [sim[n][1] for sim in simulations]\n",
        "    tups_desc.append((simulations[0][n][0], np.min(values), np.max(values), np.mean(values), np.median(values)))\n",
        "  tups_desc_df = pd.DataFrame(tups_desc)\n",
        "  tups_desc_df.columns = [\"temp_block\", \"min\", \"max\", \"mean\", \"median\"]\n",
        "  return tups_desc_df"
      ],
      "execution_count": 136,
      "outputs": []
    },
    {
      "cell_type": "code",
      "metadata": {
        "id": "-hPkCLWGcP-K",
        "colab_type": "code",
        "colab": {
          "base_uri": "https://localhost:8080/",
          "height": 824
        },
        "outputId": "5822f379-da5e-4759-e15a-daa15feb7383"
      },
      "source": [
        "sims_by_blocks = desc_stat_from_simulations(PHI_complete_simulations)\n",
        "sims_by_blocks.set_index(\"temp_block\", inplace=True)\n",
        "sims_by_blocks"
      ],
      "execution_count": 143,
      "outputs": [
        {
          "output_type": "execute_result",
          "data": {
            "text/html": [
              "<div>\n",
              "<style scoped>\n",
              "    .dataframe tbody tr th:only-of-type {\n",
              "        vertical-align: middle;\n",
              "    }\n",
              "\n",
              "    .dataframe tbody tr th {\n",
              "        vertical-align: top;\n",
              "    }\n",
              "\n",
              "    .dataframe thead th {\n",
              "        text-align: right;\n",
              "    }\n",
              "</style>\n",
              "<table border=\"1\" class=\"dataframe\">\n",
              "  <thead>\n",
              "    <tr style=\"text-align: right;\">\n",
              "      <th></th>\n",
              "      <th>min</th>\n",
              "      <th>max</th>\n",
              "      <th>mean</th>\n",
              "      <th>median</th>\n",
              "    </tr>\n",
              "    <tr>\n",
              "      <th>temp_block</th>\n",
              "      <th></th>\n",
              "      <th></th>\n",
              "      <th></th>\n",
              "      <th></th>\n",
              "    </tr>\n",
              "  </thead>\n",
              "  <tbody>\n",
              "    <tr>\n",
              "      <th>(-800, -751)</th>\n",
              "      <td>6</td>\n",
              "      <td>18</td>\n",
              "      <td>11.637</td>\n",
              "      <td>12.0</td>\n",
              "    </tr>\n",
              "    <tr>\n",
              "      <th>(-750, -701)</th>\n",
              "      <td>46</td>\n",
              "      <td>66</td>\n",
              "      <td>56.035</td>\n",
              "      <td>56.0</td>\n",
              "    </tr>\n",
              "    <tr>\n",
              "      <th>(-700, -651)</th>\n",
              "      <td>136</td>\n",
              "      <td>193</td>\n",
              "      <td>161.479</td>\n",
              "      <td>161.0</td>\n",
              "    </tr>\n",
              "    <tr>\n",
              "      <th>(-650, -601)</th>\n",
              "      <td>230</td>\n",
              "      <td>294</td>\n",
              "      <td>259.763</td>\n",
              "      <td>259.5</td>\n",
              "    </tr>\n",
              "    <tr>\n",
              "      <th>(-600, -551)</th>\n",
              "      <td>817</td>\n",
              "      <td>956</td>\n",
              "      <td>882.303</td>\n",
              "      <td>882.0</td>\n",
              "    </tr>\n",
              "    <tr>\n",
              "      <th>(-550, -501)</th>\n",
              "      <td>1967</td>\n",
              "      <td>2133</td>\n",
              "      <td>2056.019</td>\n",
              "      <td>2056.0</td>\n",
              "    </tr>\n",
              "    <tr>\n",
              "      <th>(-500, -451)</th>\n",
              "      <td>3832</td>\n",
              "      <td>4049</td>\n",
              "      <td>3940.972</td>\n",
              "      <td>3940.0</td>\n",
              "    </tr>\n",
              "    <tr>\n",
              "      <th>(-450, -401)</th>\n",
              "      <td>4001</td>\n",
              "      <td>4261</td>\n",
              "      <td>4115.200</td>\n",
              "      <td>4115.0</td>\n",
              "    </tr>\n",
              "    <tr>\n",
              "      <th>(-400, -351)</th>\n",
              "      <td>6028</td>\n",
              "      <td>6353</td>\n",
              "      <td>6214.889</td>\n",
              "      <td>6217.5</td>\n",
              "    </tr>\n",
              "    <tr>\n",
              "      <th>(-350, -301)</th>\n",
              "      <td>8613</td>\n",
              "      <td>8935</td>\n",
              "      <td>8769.108</td>\n",
              "      <td>8770.0</td>\n",
              "    </tr>\n",
              "    <tr>\n",
              "      <th>(-300, -251)</th>\n",
              "      <td>7967</td>\n",
              "      <td>8337</td>\n",
              "      <td>8150.872</td>\n",
              "      <td>8152.0</td>\n",
              "    </tr>\n",
              "    <tr>\n",
              "      <th>(-250, -201)</th>\n",
              "      <td>8910</td>\n",
              "      <td>9263</td>\n",
              "      <td>9067.767</td>\n",
              "      <td>9069.0</td>\n",
              "    </tr>\n",
              "    <tr>\n",
              "      <th>(-200, -151)</th>\n",
              "      <td>8782</td>\n",
              "      <td>9148</td>\n",
              "      <td>8950.458</td>\n",
              "      <td>8951.0</td>\n",
              "    </tr>\n",
              "    <tr>\n",
              "      <th>(-150, -101)</th>\n",
              "      <td>6967</td>\n",
              "      <td>7281</td>\n",
              "      <td>7126.381</td>\n",
              "      <td>7127.5</td>\n",
              "    </tr>\n",
              "    <tr>\n",
              "      <th>(-100, -51)</th>\n",
              "      <td>4790</td>\n",
              "      <td>5105</td>\n",
              "      <td>4958.073</td>\n",
              "      <td>4959.0</td>\n",
              "    </tr>\n",
              "    <tr>\n",
              "      <th>(-50, -1)</th>\n",
              "      <td>4601</td>\n",
              "      <td>4890</td>\n",
              "      <td>4740.195</td>\n",
              "      <td>4739.0</td>\n",
              "    </tr>\n",
              "    <tr>\n",
              "      <th>(1, 50)</th>\n",
              "      <td>5948</td>\n",
              "      <td>6301</td>\n",
              "      <td>6142.305</td>\n",
              "      <td>6141.0</td>\n",
              "    </tr>\n",
              "    <tr>\n",
              "      <th>(51, 100)</th>\n",
              "      <td>6027</td>\n",
              "      <td>6363</td>\n",
              "      <td>6199.051</td>\n",
              "      <td>6198.0</td>\n",
              "    </tr>\n",
              "    <tr>\n",
              "      <th>(101, 150)</th>\n",
              "      <td>10011</td>\n",
              "      <td>10450</td>\n",
              "      <td>10231.479</td>\n",
              "      <td>10229.0</td>\n",
              "    </tr>\n",
              "    <tr>\n",
              "      <th>(151, 200)</th>\n",
              "      <td>9967</td>\n",
              "      <td>10386</td>\n",
              "      <td>10146.703</td>\n",
              "      <td>10144.0</td>\n",
              "    </tr>\n",
              "    <tr>\n",
              "      <th>(201, 250)</th>\n",
              "      <td>8963</td>\n",
              "      <td>9363</td>\n",
              "      <td>9161.727</td>\n",
              "      <td>9162.0</td>\n",
              "    </tr>\n",
              "    <tr>\n",
              "      <th>(251, 300)</th>\n",
              "      <td>5684</td>\n",
              "      <td>6051</td>\n",
              "      <td>5864.546</td>\n",
              "      <td>5867.0</td>\n",
              "    </tr>\n",
              "    <tr>\n",
              "      <th>(301, 350)</th>\n",
              "      <td>2949</td>\n",
              "      <td>3249</td>\n",
              "      <td>3096.508</td>\n",
              "      <td>3095.5</td>\n",
              "    </tr>\n",
              "    <tr>\n",
              "      <th>(351, 400)</th>\n",
              "      <td>2614</td>\n",
              "      <td>2859</td>\n",
              "      <td>2724.852</td>\n",
              "      <td>2725.0</td>\n",
              "    </tr>\n",
              "  </tbody>\n",
              "</table>\n",
              "</div>"
            ],
            "text/plain": [
              "                min    max       mean   median\n",
              "temp_block                                    \n",
              "(-800, -751)      6     18     11.637     12.0\n",
              "(-750, -701)     46     66     56.035     56.0\n",
              "(-700, -651)    136    193    161.479    161.0\n",
              "(-650, -601)    230    294    259.763    259.5\n",
              "(-600, -551)    817    956    882.303    882.0\n",
              "(-550, -501)   1967   2133   2056.019   2056.0\n",
              "(-500, -451)   3832   4049   3940.972   3940.0\n",
              "(-450, -401)   4001   4261   4115.200   4115.0\n",
              "(-400, -351)   6028   6353   6214.889   6217.5\n",
              "(-350, -301)   8613   8935   8769.108   8770.0\n",
              "(-300, -251)   7967   8337   8150.872   8152.0\n",
              "(-250, -201)   8910   9263   9067.767   9069.0\n",
              "(-200, -151)   8782   9148   8950.458   8951.0\n",
              "(-150, -101)   6967   7281   7126.381   7127.5\n",
              "(-100, -51)    4790   5105   4958.073   4959.0\n",
              "(-50, -1)      4601   4890   4740.195   4739.0\n",
              "(1, 50)        5948   6301   6142.305   6141.0\n",
              "(51, 100)      6027   6363   6199.051   6198.0\n",
              "(101, 150)    10011  10450  10231.479  10229.0\n",
              "(151, 200)     9967  10386  10146.703  10144.0\n",
              "(201, 250)     8963   9363   9161.727   9162.0\n",
              "(251, 300)     5684   6051   5864.546   5867.0\n",
              "(301, 350)     2949   3249   3096.508   3095.5\n",
              "(351, 400)     2614   2859   2724.852   2725.0"
            ]
          },
          "metadata": {
            "tags": []
          },
          "execution_count": 143
        }
      ]
    },
    {
      "cell_type": "code",
      "metadata": {
        "id": "v3VBk6Bqbs0o",
        "colab_type": "code",
        "colab": {}
      },
      "source": [
        "from pandas.plotting import table"
      ],
      "execution_count": 18,
      "outputs": []
    },
    {
      "cell_type": "code",
      "metadata": {
        "id": "vzqR7aMgbu54",
        "colab_type": "code",
        "colab": {
          "base_uri": "https://localhost:8080/",
          "height": 441
        },
        "outputId": "0471fdc0-cfff-4a93-bc82-5796e4613a12"
      },
      "source": [
        "fig, ax = plt.subplots(figsize=(8,6), tight_layout=True)\n",
        "ax.xaxis.set_visible(False)  # hide the x axis\n",
        "ax.yaxis.set_visible(False)  # hide the y axis\n",
        "ax.set_frame_on(False)\n",
        "tabla = table(ax, sims_by_blocks, loc='upper right', colWidths=[0.2]*len(sims_by_blocks.columns))\n",
        "tabla.auto_set_font_size(False) # Activate set fontsize manually\n",
        "tabla.set_fontsize(12) # if ++fontsize is necessary ++colWidths\n",
        "tabla.scale(1.2, 1.2) "
      ],
      "execution_count": 139,
      "outputs": [
        {
          "output_type": "display_data",
          "data": {
            "image/png": "[encoded data removed]",
            "text/plain": [
              "<Figure size 576x432 with 1 Axes>"
            ]
          },
          "metadata": {
            "tags": [],
            "needs_background": "light"
          }
        }
      ]
    },
    {
      "cell_type": "code",
      "metadata": {
        "id": "74cCwmncwZuw",
        "colab_type": "code",
        "colab": {
          "base_uri": "https://localhost:8080/",
          "height": 88
        },
        "outputId": "72ff3135-634a-4da9-858b-ec3ec4e9f581"
      },
      "source": [
        "sddk.write_file(\"SDAM_data/temporal_uncertainty/sims_by_blocks.png\", fig, conf)"
      ],
      "execution_count": 140,
      "outputs": [
        {
          "output_type": "stream",
          "text": [
            "A file with the same name (\"sims_by_blocks.png\") already exists in this location.\n",
            "Press Enter to overwrite it or choose different path and filename: \n",
            "Your <class 'matplotlib.figure.Figure'> object has been succefully written as \"https://sciencedata.dk/files/SDAM_root/SDAM_data/temporal_uncertainty/sims_by_blocks.png\"\n"
          ],
          "name": "stdout"
        }
      ]
    },
    {
      "cell_type": "code",
      "metadata": {
        "id": "wk6YK2LnZccJ",
        "colab_type": "code",
        "colab": {
          "base_uri": "https://localhost:8080/",
          "height": 54
        },
        "outputId": "aafe92a2-822b-4a49-ff6b-882e2aef35ea"
      },
      "source": [
        "sddk.write_file(\"SDAM_data/temporal_uncertainty/sims_by_blocks.csv\", sims_by_blocks, conf)"
      ],
      "execution_count": 17,
      "outputs": [
        {
          "output_type": "stream",
          "text": [
            "Your <class 'pandas.core.frame.DataFrame'> object has been succefully written as \"https://sciencedata.dk/files/SDAM_root/SDAM_data/temporal_uncertainty/sims_by_blocks.csv\"\n"
          ],
          "name": "stdout"
        }
      ]
    },
    {
      "cell_type": "code",
      "metadata": {
        "id": "snE9__N9wVP1",
        "colab_type": "code",
        "colab": {
          "base_uri": "https://localhost:8080/",
          "height": 34
        },
        "outputId": "116d396a-1477-4be1-807b-c103c0e174df"
      },
      "source": [
        "# compare in how many instances is there less inscriptions for the first half of the 2nd c. than for the second half.\n",
        "len([sim for sim in PHI_complete_simulations if sim[18][1] < sim[19][1]])"
      ],
      "execution_count": 141,
      "outputs": [
        {
          "output_type": "execute_result",
          "data": {
            "text/plain": [
              "214"
            ]
          },
          "metadata": {
            "tags": []
          },
          "execution_count": 141
        }
      ]
    },
    {
      "cell_type": "code",
      "metadata": {
        "id": "iWTEYODfyb5d",
        "colab_type": "code",
        "colab": {
          "base_uri": "https://localhost:8080/",
          "height": 34
        },
        "outputId": "aa1c19fd-023e-45e8-d45a-fb6a053a49c2"
      },
      "source": [
        "len([date for date in PHI_date_avr if not np.isnan(date)])"
      ],
      "execution_count": 148,
      "outputs": [
        {
          "output_type": "execute_result",
          "data": {
            "text/plain": [
              "126049"
            ]
          },
          "metadata": {
            "tags": []
          },
          "execution_count": 148
        }
      ]
    },
    {
      "cell_type": "code",
      "metadata": {
        "id": "PCBbtemCpj9W",
        "colab_type": "code",
        "colab": {
          "base_uri": "https://localhost:8080/",
          "height": 88
        },
        "outputId": "f0169d43-7cad-46a2-b49b-84d28b3de25d"
      },
      "source": [
        "# for a comparison, generate dates based on average values\n",
        "def get_avr(row):\n",
        "  try: \n",
        "    avr = np.mean([row[\"not_before\"], row[\"not_after\"]])\n",
        "  except:\n",
        "    avr = np.nan\n",
        "  return avr\n",
        "\n",
        "PHI_date_avr = PHI.apply(lambda row: get_avr(row), axis=1)\n",
        "\n",
        "PHI_avr_blocks = dates_per_block(PHI_date_avr, sims_by_blocks.index.tolist())"
      ],
      "execution_count": 153,
      "outputs": [
        {
          "output_type": "stream",
          "text": [
            "/usr/local/lib/python3.6/dist-packages/ipykernel_launcher.py:97: RuntimeWarning: invalid value encountered in greater_equal\n",
            "/usr/local/lib/python3.6/dist-packages/ipykernel_launcher.py:97: RuntimeWarning: invalid value encountered in less_equal\n"
          ],
          "name": "stderr"
        },
        {
          "output_type": "execute_result",
          "data": {
            "text/plain": [
              "68257"
            ]
          },
          "metadata": {
            "tags": []
          },
          "execution_count": 153
        }
      ]
    },
    {
      "cell_type": "code",
      "metadata": {
        "id": "4QhbfAZdz7QD",
        "colab_type": "code",
        "colab": {
          "base_uri": "https://localhost:8080/",
          "height": 221
        },
        "outputId": "5b278c12-ef0a-4b3f-db1a-311ef326a7fc"
      },
      "source": [
        "PHI_date_avr"
      ],
      "execution_count": 155,
      "outputs": [
        {
          "output_type": "execute_result",
          "data": {
            "text/plain": [
              "0        -505.0\n",
              "1        -500.0\n",
              "2        -485.0\n",
              "3        -484.5\n",
              "4        -500.0\n",
              "          ...  \n",
              "216697      NaN\n",
              "216698      NaN\n",
              "216699    550.5\n",
              "216700      NaN\n",
              "216701      NaN\n",
              "Length: 216702, dtype: float64"
            ]
          },
          "metadata": {
            "tags": []
          },
          "execution_count": 155
        }
      ]
    },
    {
      "cell_type": "code",
      "metadata": {
        "id": "1ds23hhozuDz",
        "colab_type": "code",
        "colab": {
          "base_uri": "https://localhost:8080/",
          "height": 34
        },
        "outputId": "6e74e2b2-d9ed-4cc5-dd8c-1561c22712a3"
      },
      "source": [
        "pd.DataFrame(PHI_avr_blocks)[1].sum()"
      ],
      "execution_count": 154,
      "outputs": [
        {
          "output_type": "execute_result",
          "data": {
            "text/plain": [
              "68257"
            ]
          },
          "metadata": {
            "tags": []
          },
          "execution_count": 154
        }
      ]
    },
    {
      "cell_type": "code",
      "metadata": {
        "id": "gLvPDgJt6gpb",
        "colab_type": "code",
        "colab": {
          "base_uri": "https://localhost:8080/",
          "height": 282
        },
        "outputId": "555515e8-b993-4a77-ac11-4c125bbe7acf"
      },
      "source": [
        "plot_timeblocks_data(PHI_complete_simulations)\n",
        "x = [np.mean(tuptup[0]) for tuptup in PHI_avr_blocks]\n",
        "y = [tuptup[1] for tuptup in PHI_avr_blocks]\n",
        "plt.plot(x, y)"
      ],
      "execution_count": 145,
      "outputs": [
        {
          "output_type": "execute_result",
          "data": {
            "text/plain": [
              "[<matplotlib.lines.Line2D at 0x7f1bb5d33470>]"
            ]
          },
          "metadata": {
            "tags": []
          },
          "execution_count": 145
        },
        {
          "output_type": "display_data",
          "data": {
            "image/png": "[encoded data removed]",
            "text/plain": [
              "<Figure size 432x288 with 1 Axes>"
            ]
          },
          "metadata": {
            "tags": [],
            "needs_background": "light"
          }
        }
      ]
    },
    {
      "cell_type": "code",
      "metadata": {
        "id": "ZmY2WA1ymPcI",
        "colab_type": "code",
        "colab": {}
      },
      "source": [
        ""
      ],
      "execution_count": 132,
      "outputs": []
    },
    {
      "cell_type": "markdown",
      "metadata": {
        "id": "clAutq0amcoF",
        "colab_type": "text"
      },
      "source": [
        ""
      ]
    },
    {
      "cell_type": "code",
      "metadata": {
        "id": "7M5c381FISN1",
        "colab_type": "code",
        "colab": {
          "base_uri": "https://localhost:8080/",
          "height": 683
        },
        "outputId": "4b966ef0-4448-4f54-9b01-e50ef0710af7"
      },
      "source": [
        "# creating a subdataframe\n",
        "PHI_athens = PHI[PHI[\"tildeinfo\"].str.contains(\"Athen\", na=False)]\n",
        "PHI_athens.head(5)"
      ],
      "execution_count": 44,
      "outputs": [
        {
          "output_type": "execute_result",
          "data": {
            "text/html": [
              "<div>\n",
              "<style scoped>\n",
              "    .dataframe tbody tr th:only-of-type {\n",
              "        vertical-align: middle;\n",
              "    }\n",
              "\n",
              "    .dataframe tbody tr th {\n",
              "        vertical-align: top;\n",
              "    }\n",
              "\n",
              "    .dataframe thead th {\n",
              "        text-align: right;\n",
              "    }\n",
              "</style>\n",
              "<table border=\"1\" class=\"dataframe\">\n",
              "  <thead>\n",
              "    <tr style=\"text-align: right;\">\n",
              "      <th></th>\n",
              "      <th>URL</th>\n",
              "      <th>Book</th>\n",
              "      <th>Text</th>\n",
              "      <th>hdr1</th>\n",
              "      <th>hdr2</th>\n",
              "      <th>tildeinfo</th>\n",
              "      <th>note</th>\n",
              "      <th>lines</th>\n",
              "      <th>metadata</th>\n",
              "      <th>data</th>\n",
              "      <th>filename</th>\n",
              "      <th>PHI_ID</th>\n",
              "      <th>hdr1_scrape</th>\n",
              "      <th>hdr2_scrape</th>\n",
              "      <th>clean_text_conservative</th>\n",
              "      <th>clean_text_interpretive_word</th>\n",
              "      <th>clean_text_interpretive_sentence</th>\n",
              "      <th>raw_date</th>\n",
              "      <th>dating_dict</th>\n",
              "      <th>not_before</th>\n",
              "      <th>not_after</th>\n",
              "      <th>or</th>\n",
              "      <th>date_tags</th>\n",
              "      <th>certainty</th>\n",
              "      <th>link</th>\n",
              "      <th>random_dates</th>\n",
              "    </tr>\n",
              "  </thead>\n",
              "  <tbody>\n",
              "    <tr>\n",
              "      <th>79</th>\n",
              "      <td>https://epigraphy.packhum.org/text/80</td>\n",
              "      <td>IG I³</td>\n",
              "      <td>78,b</td>\n",
              "      <td>Regions\\n\\nAttica (IG I-III)Attica</td>\n",
              "      <td>None</td>\n",
              "      <td>Att. — Athens — stoich. 50 — c. 422 a.?\\n\\nSee...</td>\n",
              "      <td>None</td>\n",
              "      <td>9.0</td>\n",
              "      <td>\\n14\\n\\n15\\n\\n\\n\\n\\n\\n20\\n\\n\\n</td>\n",
              "      <td>[ἐγλο]-\\n[γέας ℎελέσθαι τ]ο͂ καρπο͂, [καθότι ἂ...</td>\n",
              "      <td>IG-I-3.csv</td>\n",
              "      <td>80</td>\n",
              "      <td>Regions\\nAttica (IG I-III)Attica</td>\n",
              "      <td>IG I³\\n78,b</td>\n",
              "      <td>ο͂ καρπο͂ αι ἐπειδὰντας παραδισῖνάδε ἐὰν δὲ με...</td>\n",
              "      <td>ἐγλογέας ℎελέσθαι το͂ καρπο͂ καθότι ἂν δοκε͂ι ...</td>\n",
              "      <td>ἐγλογέας ℎελέσθαι το͂ καρπο͂, καθότι ἂν δοκε͂ι...</td>\n",
              "      <td>c. 422 a.?</td>\n",
              "      <td>{'or': None, 'certainty': '?', 'not_before': N...</td>\n",
              "      <td>NaN</td>\n",
              "      <td>NaN</td>\n",
              "      <td>None</td>\n",
              "      <td>[unknown, phase, ca]</td>\n",
              "      <td>?</td>\n",
              "      <td>None</td>\n",
              "      <td>None</td>\n",
              "    </tr>\n",
              "    <tr>\n",
              "      <th>159</th>\n",
              "      <td>https://epigraphy.packhum.org/text/160</td>\n",
              "      <td>IG I³</td>\n",
              "      <td>157/213</td>\n",
              "      <td>Regions\\n\\nAttica (IG I-III)Attica</td>\n",
              "      <td>None</td>\n",
              "      <td>Att. — Athens: Akropolis — stoich. 28 — 440-41...</td>\n",
              "      <td>None</td>\n",
              "      <td>35.0</td>\n",
              "      <td>\\na.1\\n\\n\\n\\n\\n5\\n\\n\\nb.6\\n\\n\\n\\n\\n10\\n\\n\\n\\n\\...</td>\n",
              "      <td>[— —․․]οπε— —\\n— —θεσεπ— —\\n— —εζοσι— —\\n— —υπ...</td>\n",
              "      <td>IG-I-3.csv</td>\n",
              "      <td>160</td>\n",
              "      <td>Regions\\nAttica (IG I-III)Attica</td>\n",
              "      <td>IG I³\\n157/213</td>\n",
              "      <td>οπε θεσεπ εζοσι υποτο να lacuna συμμ ναίον ℎ μ...</td>\n",
              "      <td>οπε θεσεπ εζοσι υποτο να lacuna χσυμμαχ Ἀθεναί...</td>\n",
              "      <td>․․οπε θεσεπ εζοσι υποτο ․․․να lacuna ․․․․ χσυμ...</td>\n",
              "      <td>440-410 a.</td>\n",
              "      <td>{'or': None, 'not_before': -440, 'not_after': ...</td>\n",
              "      <td>-440.0</td>\n",
              "      <td>-410.0</td>\n",
              "      <td>None</td>\n",
              "      <td>[range]</td>\n",
              "      <td>None</td>\n",
              "      <td>None</td>\n",
              "      <td>[-434, -422, -420, -432, -420, -423, -431, -43...</td>\n",
              "    </tr>\n",
              "    <tr>\n",
              "      <th>416</th>\n",
              "      <td>https://epigraphy.packhum.org/text/417</td>\n",
              "      <td>IG I³</td>\n",
              "      <td>403</td>\n",
              "      <td>Regions\\n\\nAttica (IG I-III)Attica</td>\n",
              "      <td>None</td>\n",
              "      <td>Att. — Athens — stoich. — c. 416/5 a.</td>\n",
              "      <td>None</td>\n",
              "      <td>85.0</td>\n",
              "      <td>\\nface A front.frg. a\\n\\n1\\n\\n\\n\\n\\n5\\n\\n\\n\\n\\...</td>\n",
              "      <td>— — — — — — — — — — — — — — — — — — — — — — — ...</td>\n",
              "      <td>IG-I-3.csv</td>\n",
              "      <td>417</td>\n",
              "      <td>Regions\\nAttica (IG I-III)Attica</td>\n",
              "      <td>IG I³\\n403</td>\n",
              "      <td>σχ ινα χρυσ σο͂ ἀπὸ μὸν τ Ι στλι πα χρυ συλοι ...</td>\n",
              "      <td>σχ ινα χρυσ χρυσο͂ ἀπὸ το͂ σταθμὸν τ Ι στλιγγὶ...</td>\n",
              "      <td>․․․․․․․σχ ․․․․․․․ινα ․․․․․․χρυσ ․․ χρυσο͂ ἀπὸ ...</td>\n",
              "      <td>c. 416/5 a.</td>\n",
              "      <td>{'or': None, 'not_before': -416, 'not_after': ...</td>\n",
              "      <td>-416.0</td>\n",
              "      <td>-415.0</td>\n",
              "      <td>None</td>\n",
              "      <td>[range, phase, ca]</td>\n",
              "      <td>None</td>\n",
              "      <td>None</td>\n",
              "      <td>[-415, -416, -416, -415, -415, -415, -415, -41...</td>\n",
              "    </tr>\n",
              "    <tr>\n",
              "      <th>417</th>\n",
              "      <td>https://epigraphy.packhum.org/text/418</td>\n",
              "      <td>IG I³</td>\n",
              "      <td>404</td>\n",
              "      <td>Regions\\n\\nAttica (IG I-III)Attica</td>\n",
              "      <td>None</td>\n",
              "      <td>Att. — Athens — stoich. — c. 416/5 a.</td>\n",
              "      <td>None</td>\n",
              "      <td>43.0</td>\n",
              "      <td>\\nfrg. a.1\\n\\n\\n\\n\\n5\\n\\n\\n\\n\\n8a\\n\\nfrg. b.8b...</td>\n",
              "      <td>— — —\\n[— — ․]𐅃․ — —\\n— — ιν ⋮Ι — — —\\n— — φαν...</td>\n",
              "      <td>IG-I-3.csv</td>\n",
              "      <td>418</td>\n",
              "      <td>Regions\\nAttica (IG I-III)Attica</td>\n",
              "      <td>IG I³\\n404</td>\n",
              "      <td>𐅃 ιν Ι φαν ος Ι σαρ ος χ ισ Ι Δ οα Ι ΟΥ νοι ελ...</td>\n",
              "      <td>𐅃 ιν Ι φαν ος Ι σαρ ος χ ισ Ι Δ οα Ι ΟΥ νοι ελ...</td>\n",
              "      <td>․𐅃․ ιν ⋮Ι φαν ος ⋮Ι σαρ ος χ ․ισ ․Ι ․ ⋮Δ οα . ...</td>\n",
              "      <td>c. 416/5 a.</td>\n",
              "      <td>{'or': None, 'not_before': -416, 'not_after': ...</td>\n",
              "      <td>-416.0</td>\n",
              "      <td>-415.0</td>\n",
              "      <td>None</td>\n",
              "      <td>[range, phase, ca]</td>\n",
              "      <td>None</td>\n",
              "      <td>None</td>\n",
              "      <td>[-415, -416, -416, -415, -416, -416, -416, -41...</td>\n",
              "    </tr>\n",
              "    <tr>\n",
              "      <th>516</th>\n",
              "      <td>https://epigraphy.packhum.org/text/517</td>\n",
              "      <td>IG I³</td>\n",
              "      <td>502</td>\n",
              "      <td>Regions\\n\\nAttica (IG I-III)Attica</td>\n",
              "      <td>None</td>\n",
              "      <td>Att. — Athens: Agora — 477/6 a. — Hsp. 5.1936....</td>\n",
              "      <td>None</td>\n",
              "      <td>2.0</td>\n",
              "      <td>\\n1\\n\\n</td>\n",
              "      <td>[ἐ͂ μέγ’ Ἀθεναίοισι φόος γένεθ’ ℎενίκ’ Ἀριστο...</td>\n",
              "      <td>IG-I-3.csv</td>\n",
              "      <td>517</td>\n",
              "      <td>Regions\\nAttica (IG I-III)Attica</td>\n",
              "      <td>IG I³\\n502</td>\n",
              "      <td>ℎαρμόδιο τρίδα γε͂ν ἐθέτεν</td>\n",
              "      <td>ἐ͂ μέγ’ Ἀθεναίοισι φόος γένεθ’ ℎενίκ’ Ἀριστογ...</td>\n",
              "      <td>ἐ͂ μέγ’ Ἀθεναίοισι φόος γένεθ’ ℎενίκ’ Ἀριστογ...</td>\n",
              "      <td>477/6 a.</td>\n",
              "      <td>{'or': None, 'not_before': -477, 'not_after': ...</td>\n",
              "      <td>-477.0</td>\n",
              "      <td>-476.0</td>\n",
              "      <td>None</td>\n",
              "      <td>[range]</td>\n",
              "      <td>None</td>\n",
              "      <td>None</td>\n",
              "      <td>[-476, -477, -477, -476, -477, -477, -476, -47...</td>\n",
              "    </tr>\n",
              "  </tbody>\n",
              "</table>\n",
              "</div>"
            ],
            "text/plain": [
              "                                        URL  ...                                       random_dates\n",
              "79    https://epigraphy.packhum.org/text/80  ...                                               None\n",
              "159  https://epigraphy.packhum.org/text/160  ...  [-434, -422, -420, -432, -420, -423, -431, -43...\n",
              "416  https://epigraphy.packhum.org/text/417  ...  [-415, -416, -416, -415, -415, -415, -415, -41...\n",
              "417  https://epigraphy.packhum.org/text/418  ...  [-415, -416, -416, -415, -416, -416, -416, -41...\n",
              "516  https://epigraphy.packhum.org/text/517  ...  [-476, -477, -477, -476, -477, -477, -476, -47...\n",
              "\n",
              "[5 rows x 26 columns]"
            ]
          },
          "metadata": {
            "tags": []
          },
          "execution_count": 44
        }
      ]
    },
    {
      "cell_type": "code",
      "metadata": {
        "id": "YtIhd-YMIgKJ",
        "colab_type": "code",
        "colab": {}
      },
      "source": [
        "athens_sim = timeblocks_from_randoms(PHI_athens, \"random_dates\", [-800, 400, 50])"
      ],
      "execution_count": 124,
      "outputs": []
    },
    {
      "cell_type": "code",
      "metadata": {
        "id": "unZAbzjeIioW",
        "colab_type": "code",
        "colab": {
          "base_uri": "https://localhost:8080/",
          "height": 425
        },
        "outputId": "d31ae1a4-3eb3-409f-9acc-d13f27c59929"
      },
      "source": [
        "athens_sim[0]"
      ],
      "execution_count": 125,
      "outputs": [
        {
          "output_type": "execute_result",
          "data": {
            "text/plain": [
              "[((-800, -751), 1),\n",
              " ((-750, -701), 8),\n",
              " ((-700, -651), 7),\n",
              " ((-650, -601), 14),\n",
              " ((-600, -551), 111),\n",
              " ((-550, -501), 356),\n",
              " ((-500, -451), 1090),\n",
              " ((-450, -401), 614),\n",
              " ((-400, -351), 824),\n",
              " ((-350, -301), 1469),\n",
              " ((-300, -251), 968),\n",
              " ((-250, -201), 924),\n",
              " ((-200, -151), 605),\n",
              " ((-150, -101), 368),\n",
              " ((-100, -51), 248),\n",
              " ((-50, -1), 264),\n",
              " ((1, 50), 206),\n",
              " ((51, 100), 209),\n",
              " ((101, 150), 299),\n",
              " ((151, 200), 354),\n",
              " ((201, 250), 221),\n",
              " ((251, 300), 139),\n",
              " ((301, 350), 113),\n",
              " ((351, 400), 72)]"
            ]
          },
          "metadata": {
            "tags": []
          },
          "execution_count": 125
        }
      ]
    },
    {
      "cell_type": "code",
      "metadata": {
        "id": "LX-col1RgxVu",
        "colab_type": "code",
        "colab": {
          "base_uri": "https://localhost:8080/",
          "height": 286
        },
        "outputId": "5640aa62-67ed-405b-db03-f10373a7894d"
      },
      "source": [
        "print(len(PHI_athens))\n",
        "plot_timeblocks_data(athens_sim)"
      ],
      "execution_count": 110,
      "outputs": [
        {
          "output_type": "stream",
          "text": [
            "11224\n"
          ],
          "name": "stdout"
        },
        {
          "output_type": "display_data",
          "data": {
            "image/png": "[encoded data removed]",
            "text/plain": [
              "<Figure size 432x288 with 1 Axes>"
            ]
          },
          "metadata": {
            "tags": [],
            "needs_background": "light"
          }
        }
      ]
    },
    {
      "cell_type": "code",
      "metadata": {
        "id": "qd__oD7ai37m",
        "colab_type": "code",
        "colab": {
          "base_uri": "https://localhost:8080/",
          "height": 793
        },
        "outputId": "d9ca339b-0c78-4465-e174-840ceaa94ac8"
      },
      "source": [
        "desc_stat_from_simulations(athens_sim)"
      ],
      "execution_count": 112,
      "outputs": [
        {
          "output_type": "execute_result",
          "data": {
            "text/html": [
              "<div>\n",
              "<style scoped>\n",
              "    .dataframe tbody tr th:only-of-type {\n",
              "        vertical-align: middle;\n",
              "    }\n",
              "\n",
              "    .dataframe tbody tr th {\n",
              "        vertical-align: top;\n",
              "    }\n",
              "\n",
              "    .dataframe thead th {\n",
              "        text-align: right;\n",
              "    }\n",
              "</style>\n",
              "<table border=\"1\" class=\"dataframe\">\n",
              "  <thead>\n",
              "    <tr style=\"text-align: right;\">\n",
              "      <th></th>\n",
              "      <th>temp_block</th>\n",
              "      <th>min</th>\n",
              "      <th>max</th>\n",
              "      <th>mean</th>\n",
              "      <th>median</th>\n",
              "      <th>variance</th>\n",
              "    </tr>\n",
              "  </thead>\n",
              "  <tbody>\n",
              "    <tr>\n",
              "      <th>0</th>\n",
              "      <td>(-800, -750)</td>\n",
              "      <td>0</td>\n",
              "      <td>3</td>\n",
              "      <td>1.228</td>\n",
              "      <td>1.0</td>\n",
              "      <td>0.702016</td>\n",
              "    </tr>\n",
              "    <tr>\n",
              "      <th>1</th>\n",
              "      <td>(-750, -700)</td>\n",
              "      <td>4</td>\n",
              "      <td>12</td>\n",
              "      <td>7.751</td>\n",
              "      <td>8.0</td>\n",
              "      <td>1.636999</td>\n",
              "    </tr>\n",
              "    <tr>\n",
              "      <th>2</th>\n",
              "      <td>(-700, -650)</td>\n",
              "      <td>5</td>\n",
              "      <td>15</td>\n",
              "      <td>9.705</td>\n",
              "      <td>10.0</td>\n",
              "      <td>2.533975</td>\n",
              "    </tr>\n",
              "    <tr>\n",
              "      <th>3</th>\n",
              "      <td>(-650, -600)</td>\n",
              "      <td>6</td>\n",
              "      <td>17</td>\n",
              "      <td>10.997</td>\n",
              "      <td>11.0</td>\n",
              "      <td>2.998991</td>\n",
              "    </tr>\n",
              "    <tr>\n",
              "      <th>4</th>\n",
              "      <td>(-600, -550)</td>\n",
              "      <td>86</td>\n",
              "      <td>118</td>\n",
              "      <td>102.925</td>\n",
              "      <td>103.0</td>\n",
              "      <td>23.853375</td>\n",
              "    </tr>\n",
              "    <tr>\n",
              "      <th>5</th>\n",
              "      <td>(-550, -500)</td>\n",
              "      <td>349</td>\n",
              "      <td>408</td>\n",
              "      <td>374.583</td>\n",
              "      <td>375.0</td>\n",
              "      <td>75.037111</td>\n",
              "    </tr>\n",
              "    <tr>\n",
              "      <th>6</th>\n",
              "      <td>(-500, -450)</td>\n",
              "      <td>1028</td>\n",
              "      <td>1094</td>\n",
              "      <td>1061.648</td>\n",
              "      <td>1061.0</td>\n",
              "      <td>135.646096</td>\n",
              "    </tr>\n",
              "    <tr>\n",
              "      <th>7</th>\n",
              "      <td>(-450, -400)</td>\n",
              "      <td>594</td>\n",
              "      <td>660</td>\n",
              "      <td>628.545</td>\n",
              "      <td>628.0</td>\n",
              "      <td>105.127975</td>\n",
              "    </tr>\n",
              "    <tr>\n",
              "      <th>8</th>\n",
              "      <td>(-400, -350)</td>\n",
              "      <td>781</td>\n",
              "      <td>889</td>\n",
              "      <td>835.509</td>\n",
              "      <td>835.0</td>\n",
              "      <td>262.669919</td>\n",
              "    </tr>\n",
              "    <tr>\n",
              "      <th>9</th>\n",
              "      <td>(-350, -300)</td>\n",
              "      <td>1419</td>\n",
              "      <td>1528</td>\n",
              "      <td>1471.713</td>\n",
              "      <td>1471.0</td>\n",
              "      <td>266.880631</td>\n",
              "    </tr>\n",
              "    <tr>\n",
              "      <th>10</th>\n",
              "      <td>(-300, -250)</td>\n",
              "      <td>910</td>\n",
              "      <td>1020</td>\n",
              "      <td>964.064</td>\n",
              "      <td>963.5</td>\n",
              "      <td>317.577904</td>\n",
              "    </tr>\n",
              "    <tr>\n",
              "      <th>11</th>\n",
              "      <td>(-250, -200)</td>\n",
              "      <td>861</td>\n",
              "      <td>967</td>\n",
              "      <td>918.937</td>\n",
              "      <td>919.0</td>\n",
              "      <td>306.627031</td>\n",
              "    </tr>\n",
              "    <tr>\n",
              "      <th>12</th>\n",
              "      <td>(-200, -150)</td>\n",
              "      <td>580</td>\n",
              "      <td>656</td>\n",
              "      <td>617.201</td>\n",
              "      <td>617.0</td>\n",
              "      <td>132.012599</td>\n",
              "    </tr>\n",
              "    <tr>\n",
              "      <th>13</th>\n",
              "      <td>(-150, -100)</td>\n",
              "      <td>316</td>\n",
              "      <td>394</td>\n",
              "      <td>351.008</td>\n",
              "      <td>351.0</td>\n",
              "      <td>138.267936</td>\n",
              "    </tr>\n",
              "    <tr>\n",
              "      <th>14</th>\n",
              "      <td>(-100, -50)</td>\n",
              "      <td>209</td>\n",
              "      <td>287</td>\n",
              "      <td>247.548</td>\n",
              "      <td>247.0</td>\n",
              "      <td>144.065696</td>\n",
              "    </tr>\n",
              "    <tr>\n",
              "      <th>15</th>\n",
              "      <td>(-50, 0)</td>\n",
              "      <td>231</td>\n",
              "      <td>305</td>\n",
              "      <td>264.764</td>\n",
              "      <td>265.0</td>\n",
              "      <td>140.846304</td>\n",
              "    </tr>\n",
              "    <tr>\n",
              "      <th>16</th>\n",
              "      <td>(0, 50)</td>\n",
              "      <td>169</td>\n",
              "      <td>239</td>\n",
              "      <td>204.472</td>\n",
              "      <td>205.0</td>\n",
              "      <td>125.463216</td>\n",
              "    </tr>\n",
              "    <tr>\n",
              "      <th>17</th>\n",
              "      <td>(50, 100)</td>\n",
              "      <td>184</td>\n",
              "      <td>253</td>\n",
              "      <td>219.570</td>\n",
              "      <td>220.0</td>\n",
              "      <td>121.285100</td>\n",
              "    </tr>\n",
              "    <tr>\n",
              "      <th>18</th>\n",
              "      <td>(100, 150)</td>\n",
              "      <td>275</td>\n",
              "      <td>346</td>\n",
              "      <td>308.520</td>\n",
              "      <td>308.0</td>\n",
              "      <td>138.779600</td>\n",
              "    </tr>\n",
              "    <tr>\n",
              "      <th>19</th>\n",
              "      <td>(150, 200)</td>\n",
              "      <td>303</td>\n",
              "      <td>384</td>\n",
              "      <td>346.005</td>\n",
              "      <td>346.0</td>\n",
              "      <td>138.582975</td>\n",
              "    </tr>\n",
              "    <tr>\n",
              "      <th>20</th>\n",
              "      <td>(200, 250)</td>\n",
              "      <td>181</td>\n",
              "      <td>237</td>\n",
              "      <td>209.373</td>\n",
              "      <td>209.0</td>\n",
              "      <td>85.195871</td>\n",
              "    </tr>\n",
              "    <tr>\n",
              "      <th>21</th>\n",
              "      <td>(250, 300)</td>\n",
              "      <td>119</td>\n",
              "      <td>184</td>\n",
              "      <td>146.482</td>\n",
              "      <td>146.0</td>\n",
              "      <td>87.179676</td>\n",
              "    </tr>\n",
              "    <tr>\n",
              "      <th>22</th>\n",
              "      <td>(300, 350)</td>\n",
              "      <td>78</td>\n",
              "      <td>121</td>\n",
              "      <td>99.850</td>\n",
              "      <td>99.0</td>\n",
              "      <td>49.811500</td>\n",
              "    </tr>\n",
              "    <tr>\n",
              "      <th>23</th>\n",
              "      <td>(350, 400)</td>\n",
              "      <td>57</td>\n",
              "      <td>97</td>\n",
              "      <td>77.651</td>\n",
              "      <td>78.0</td>\n",
              "      <td>37.511199</td>\n",
              "    </tr>\n",
              "  </tbody>\n",
              "</table>\n",
              "</div>"
            ],
            "text/plain": [
              "      temp_block   min   max      mean  median    variance\n",
              "0   (-800, -750)     0     3     1.228     1.0    0.702016\n",
              "1   (-750, -700)     4    12     7.751     8.0    1.636999\n",
              "2   (-700, -650)     5    15     9.705    10.0    2.533975\n",
              "3   (-650, -600)     6    17    10.997    11.0    2.998991\n",
              "4   (-600, -550)    86   118   102.925   103.0   23.853375\n",
              "5   (-550, -500)   349   408   374.583   375.0   75.037111\n",
              "6   (-500, -450)  1028  1094  1061.648  1061.0  135.646096\n",
              "7   (-450, -400)   594   660   628.545   628.0  105.127975\n",
              "8   (-400, -350)   781   889   835.509   835.0  262.669919\n",
              "9   (-350, -300)  1419  1528  1471.713  1471.0  266.880631\n",
              "10  (-300, -250)   910  1020   964.064   963.5  317.577904\n",
              "11  (-250, -200)   861   967   918.937   919.0  306.627031\n",
              "12  (-200, -150)   580   656   617.201   617.0  132.012599\n",
              "13  (-150, -100)   316   394   351.008   351.0  138.267936\n",
              "14   (-100, -50)   209   287   247.548   247.0  144.065696\n",
              "15      (-50, 0)   231   305   264.764   265.0  140.846304\n",
              "16       (0, 50)   169   239   204.472   205.0  125.463216\n",
              "17     (50, 100)   184   253   219.570   220.0  121.285100\n",
              "18    (100, 150)   275   346   308.520   308.0  138.779600\n",
              "19    (150, 200)   303   384   346.005   346.0  138.582975\n",
              "20    (200, 250)   181   237   209.373   209.0   85.195871\n",
              "21    (250, 300)   119   184   146.482   146.0   87.179676\n",
              "22    (300, 350)    78   121    99.850    99.0   49.811500\n",
              "23    (350, 400)    57    97    77.651    78.0   37.511199"
            ]
          },
          "metadata": {
            "tags": []
          },
          "execution_count": 112
        }
      ]
    },
    {
      "cell_type": "code",
      "metadata": {
        "id": "pLp_sLAhKbw1",
        "colab_type": "code",
        "colab": {
          "base_uri": "https://localhost:8080/",
          "height": 265
        },
        "outputId": "ac54fa85-199f-4dde-c42d-2857082fe36a"
      },
      "source": [
        "PHI_asia_minor = PHI[PHI[\"hdr1\"].str.contains(\"Asia Minor\")]\n",
        "PHI_asia_minor_sim = timeblocks_from_randoms(PHI_asia_minor, \"random_dates\", [-800, 400, 100])\n",
        "plot_timeblocks_data(PHI_asia_minor_sim)"
      ],
      "execution_count": 113,
      "outputs": [
        {
          "output_type": "display_data",
          "data": {
            "image/png": "[encoded data removed]",
            "text/plain": [
              "<Figure size 432x288 with 1 Axes>"
            ]
          },
          "metadata": {
            "tags": [],
            "needs_background": "light"
          }
        }
      ]
    },
    {
      "cell_type": "code",
      "metadata": {
        "id": "iCZ9PGylMYi7",
        "colab_type": "code",
        "colab": {}
      },
      "source": [
        ""
      ],
      "execution_count": null,
      "outputs": []
    }
  ]
}