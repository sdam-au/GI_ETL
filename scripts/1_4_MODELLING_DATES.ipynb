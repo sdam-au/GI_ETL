{
  "nbformat": 4,
  "nbformat_minor": 0,
  "metadata": {
    "colab": {
      "name": "1_4_MODELLING_DATES.ipynb",
      "provenance": [],
      "authorship_tag": "ABX9TyOMR752vL0g4Hcp4+78h24X",
      "include_colab_link": true
    },
    "kernelspec": {
      "name": "python3",
      "display_name": "Python 3"
    }
  },
  "cells": [
    {
      "cell_type": "markdown",
      "metadata": {
        "id": "view-in-github",
        "colab_type": "text"
      },
      "source": [
        "<a href=\"https://colab.research.google.com/github/sdam-au/PHI_ETL/blob/master/scripts/1_4_MODELLING_DATES.ipynb\" target=\"_parent\"><img src=\"https://colab.research.google.com/assets/colab-badge.svg\" alt=\"Open In Colab\"/></a>"
      ]
    },
    {
      "cell_type": "code",
      "metadata": {
        "id": "oTe6y9PFPzUv",
        "colab_type": "code",
        "colab": {
          "base_uri": "https://localhost:8080/",
          "height": 343
        },
        "outputId": "14e0ae1f-4403-4ea8-a0d5-f49f94470410"
      },
      "source": [
        "import requests\n",
        "import scipy\n",
        "import matplotlib.pyplot as plt\n",
        "import seaborn as sns\n",
        "import pandas as pd\n",
        "import numpy as np\n",
        "\n",
        "# our own package for reading the data\n",
        "!pip install sddk\n",
        "import sddk"
      ],
      "execution_count": 2,
      "outputs": [
        {
          "output_type": "stream",
          "text": [
            "/usr/local/lib/python3.6/dist-packages/statsmodels/tools/_testing.py:19: FutureWarning: pandas.util.testing is deprecated. Use the functions in the public API at pandas.testing instead.\n",
            "  import pandas.util.testing as tm\n"
          ],
          "name": "stderr"
        },
        {
          "output_type": "stream",
          "text": [
            "Requirement already satisfied: sddk in /usr/local/lib/python3.6/dist-packages (2.6)\n",
            "Requirement already satisfied: requests in /usr/local/lib/python3.6/dist-packages (from sddk) (2.23.0)\n",
            "Requirement already satisfied: numpy in /usr/local/lib/python3.6/dist-packages (from sddk) (1.18.5)\n",
            "Requirement already satisfied: pandas in /usr/local/lib/python3.6/dist-packages (from sddk) (1.0.5)\n",
            "Requirement already satisfied: matplotlib in /usr/local/lib/python3.6/dist-packages (from sddk) (3.2.2)\n",
            "Requirement already satisfied: pyarrow in /usr/local/lib/python3.6/dist-packages (from sddk) (0.14.1)\n",
            "Requirement already satisfied: chardet<4,>=3.0.2 in /usr/local/lib/python3.6/dist-packages (from requests->sddk) (3.0.4)\n",
            "Requirement already satisfied: certifi>=2017.4.17 in /usr/local/lib/python3.6/dist-packages (from requests->sddk) (2020.6.20)\n",
            "Requirement already satisfied: urllib3!=1.25.0,!=1.25.1,<1.26,>=1.21.1 in /usr/local/lib/python3.6/dist-packages (from requests->sddk) (1.24.3)\n",
            "Requirement already satisfied: idna<3,>=2.5 in /usr/local/lib/python3.6/dist-packages (from requests->sddk) (2.9)\n",
            "Requirement already satisfied: pytz>=2017.2 in /usr/local/lib/python3.6/dist-packages (from pandas->sddk) (2018.9)\n",
            "Requirement already satisfied: python-dateutil>=2.6.1 in /usr/local/lib/python3.6/dist-packages (from pandas->sddk) (2.8.1)\n",
            "Requirement already satisfied: cycler>=0.10 in /usr/local/lib/python3.6/dist-packages (from matplotlib->sddk) (0.10.0)\n",
            "Requirement already satisfied: kiwisolver>=1.0.1 in /usr/local/lib/python3.6/dist-packages (from matplotlib->sddk) (1.2.0)\n",
            "Requirement already satisfied: pyparsing!=2.0.4,!=2.1.2,!=2.1.6,>=2.0.1 in /usr/local/lib/python3.6/dist-packages (from matplotlib->sddk) (2.4.7)\n",
            "Requirement already satisfied: six>=1.0.0 in /usr/local/lib/python3.6/dist-packages (from pyarrow->sddk) (1.12.0)\n"
          ],
          "name": "stdout"
        }
      ]
    },
    {
      "cell_type": "code",
      "metadata": {
        "id": "V-4giNq8PXWx",
        "colab_type": "code",
        "colab": {}
      },
      "source": [
        "# read and execute our script for modelling dates\n",
        "url = \"https://raw.githubusercontent.com/sdam-au/modelling_temporal_uncertainty/master/scripts/modelling_distributions.py\"\n",
        "# (3) make a request to this path\n",
        "resp = requests.get(url)\n",
        "# (4) execute the script\n",
        "exec(resp.content)"
      ],
      "execution_count": 3,
      "outputs": []
    },
    {
      "cell_type": "code",
      "metadata": {
        "id": "H9T_eO85Pn_i",
        "colab_type": "code",
        "colab": {
          "base_uri": "https://localhost:8080/",
          "height": 85
        },
        "outputId": "e180b0eb-8691-4e06-b009-7d150351c659"
      },
      "source": [
        "# login to sciencedata \n",
        "conf = sddk.configure(\"SDAM_root\", \"648597@au.dk\")"
      ],
      "execution_count": 4,
      "outputs": [
        {
          "output_type": "stream",
          "text": [
            "sciencedata.dk username (format '123456@au.dk'): 648597@au.dk\n",
            "sciencedata.dk password: ··········\n",
            "connection with shared folder established with you as its owner\n",
            "endpoint variable has been configured to: https://sciencedata.dk/files/SDAM_root/\n"
          ],
          "name": "stdout"
        }
      ]
    },
    {
      "cell_type": "code",
      "metadata": {
        "id": "ej81l2PXQuxN",
        "colab_type": "code",
        "colab": {
          "base_uri": "https://localhost:8080/",
          "height": 479
        },
        "outputId": "6d3b477e-be7d-4071-8050-ac3efc2981dc"
      },
      "source": [
        "# read the PHI dataset from sciencedata.dk\n",
        "# (takes some time - the dataset has almost 400MB)\n",
        "PHI = sddk.read_file(\"SDAM_data/PHI/PHI_cleaned_dated_2020-06-29.json\", \"df\", conf)\n",
        "# older version used during development: PHI = sddk.read_file(\"SDAM_data/PHI/PHI_enriched_raw.json\", \"df\", conf)\n",
        "# print first 5 rows of the data\n",
        "PHI.head(5)"
      ],
      "execution_count": 5,
      "outputs": [
        {
          "output_type": "execute_result",
          "data": {
            "text/html": [
              "<div>\n",
              "<style scoped>\n",
              "    .dataframe tbody tr th:only-of-type {\n",
              "        vertical-align: middle;\n",
              "    }\n",
              "\n",
              "    .dataframe tbody tr th {\n",
              "        vertical-align: top;\n",
              "    }\n",
              "\n",
              "    .dataframe thead th {\n",
              "        text-align: right;\n",
              "    }\n",
              "</style>\n",
              "<table border=\"1\" class=\"dataframe\">\n",
              "  <thead>\n",
              "    <tr style=\"text-align: right;\">\n",
              "      <th></th>\n",
              "      <th>URL</th>\n",
              "      <th>Book</th>\n",
              "      <th>Text</th>\n",
              "      <th>hdr1</th>\n",
              "      <th>hdr2</th>\n",
              "      <th>tildeinfo</th>\n",
              "      <th>note</th>\n",
              "      <th>lines</th>\n",
              "      <th>metadata</th>\n",
              "      <th>data</th>\n",
              "      <th>filename</th>\n",
              "      <th>PHI_ID</th>\n",
              "      <th>hdr1_scrape</th>\n",
              "      <th>hdr2_scrape</th>\n",
              "      <th>clean_text_conservative</th>\n",
              "      <th>clean_text_interpretive_word</th>\n",
              "      <th>clean_text_interpretive_sentence</th>\n",
              "      <th>raw_date</th>\n",
              "      <th>dating_dict</th>\n",
              "      <th>not_before</th>\n",
              "      <th>not_after</th>\n",
              "      <th>or</th>\n",
              "      <th>date_tags</th>\n",
              "      <th>certainty</th>\n",
              "      <th>link</th>\n",
              "    </tr>\n",
              "  </thead>\n",
              "  <tbody>\n",
              "    <tr>\n",
              "      <th>0</th>\n",
              "      <td>https://epigraphy.packhum.org/text/1</td>\n",
              "      <td>IG I³</td>\n",
              "      <td>1</td>\n",
              "      <td>Regions\\n\\nAttica (IG I-III)Attica</td>\n",
              "      <td>None</td>\n",
              "      <td>Att. — Ath.: Akr. — stoich. 35 — c. 510-500 a....</td>\n",
              "      <td>None</td>\n",
              "      <td>12.0</td>\n",
              "      <td>\\n1\\n\\n\\n\\n\\n5\\n\\n\\n\\n\\n\\n10\\n\\n\\n</td>\n",
              "      <td>ἔδοχσεν το͂ι δέμοι· τ̣[ὸς ἐ Σ]αλαμ̣[ῖνι κλερόχ...</td>\n",
              "      <td>IG-I-3.csv</td>\n",
              "      <td>1</td>\n",
              "      <td>Regions\\nAttica (IG I-III)Attica</td>\n",
              "      <td>IG I³\\n1</td>\n",
              "      <td>ἔδοχσεν το͂ι δέμοι ταλαμος οἰκε͂ν ἐᾶ Σαλαμῖνι ...</td>\n",
              "      <td>ἔδοχσεν το͂ι δέμοι τὸς ἐ Σαλαμῖνι κλερόχος οἰκ...</td>\n",
              "      <td>ἔδοχσεν το͂ι δέμοι τὸς ἐ Σαλαμῖνι κλερόχος οἰκ...</td>\n",
              "      <td>c. 510-500 a.</td>\n",
              "      <td>{'or': None, 'not_before': -511, 'not_after': ...</td>\n",
              "      <td>-511.0</td>\n",
              "      <td>-499.0</td>\n",
              "      <td>None</td>\n",
              "      <td>[range, phase, ca]</td>\n",
              "      <td>None</td>\n",
              "      <td>None</td>\n",
              "    </tr>\n",
              "    <tr>\n",
              "      <th>1</th>\n",
              "      <td>https://epigraphy.packhum.org/text/2</td>\n",
              "      <td>IG I³</td>\n",
              "      <td>2</td>\n",
              "      <td>Regions\\n\\nAttica (IG I-III)Attica</td>\n",
              "      <td>None</td>\n",
              "      <td>Att. — non-stoich. — c. 500 a.</td>\n",
              "      <td>None</td>\n",
              "      <td>14.0</td>\n",
              "      <td>\\n1\\n\\n\\n\\n\\n5\\n\\n\\n\\n\\n\\n10\\n\\n\\n\\n\\n</td>\n",
              "      <td>[․․8-9․․․]ν̣ βολ — — — — — — — — — —\\n[․6-7․․]...</td>\n",
              "      <td>IG-I-3.csv</td>\n",
              "      <td>2</td>\n",
              "      <td>Regions\\nAttica (IG I-III)Attica</td>\n",
              "      <td>IG I³\\n2</td>\n",
              "      <td>ν βολ α ℎεκον σιον γνοσθε͂ι δὲ ν ἀτεχνος μὲ π ...</td>\n",
              "      <td>ν βολ α ℎεκον σιον γνοσθε͂ι δὲ ν ἀτεχνος μὲ π ...</td>\n",
              "      <td>․․ ․․․ν βολ ․ ․․ α ⋮ ℎεκον σιον, γνοσθε͂ι δὲ ν...</td>\n",
              "      <td>c. 500 a.</td>\n",
              "      <td>{'or': None, 'not_before': -505, 'not_after': ...</td>\n",
              "      <td>-505.0</td>\n",
              "      <td>-495.0</td>\n",
              "      <td>None</td>\n",
              "      <td>[exact, phase, ca]</td>\n",
              "      <td>None</td>\n",
              "      <td>None</td>\n",
              "    </tr>\n",
              "    <tr>\n",
              "      <th>2</th>\n",
              "      <td>https://epigraphy.packhum.org/text/3</td>\n",
              "      <td>IG I³</td>\n",
              "      <td>3</td>\n",
              "      <td>Regions\\n\\nAttica (IG I-III)Attica</td>\n",
              "      <td>None</td>\n",
              "      <td>Att. — stoich. 21 — 490-480 a.</td>\n",
              "      <td>None</td>\n",
              "      <td>13.0</td>\n",
              "      <td>\\n1\\n\\n\\n\\n\\n5\\n\\n\\n\\n\\n\\n10\\n\\n\\n\\n</td>\n",
              "      <td>[․]αρ[․․․․]ι ℎερακλειο[․․5․․]\\n[․]αρ̣ο#⁷[․] τι...</td>\n",
              "      <td>IG-I-3.csv</td>\n",
              "      <td>3</td>\n",
              "      <td>Regions\\nAttica (IG I-III)Attica</td>\n",
              "      <td>IG I³\\n3</td>\n",
              "      <td>αρι ℎερακλειο αρο τιθέναι τὸς ἀέτας τριάκοντα ...</td>\n",
              "      <td>αρι ℎερακλειο αρο τιθέναι τὸς ἀθλοθέτας τριάκο...</td>\n",
              "      <td>αρι ℎερακλειο․․․․ αρο τιθέναι τὸς ἀθλοθέτας τρ...</td>\n",
              "      <td>490-480 a.</td>\n",
              "      <td>{'or': None, 'not_before': -490, 'not_after': ...</td>\n",
              "      <td>-490.0</td>\n",
              "      <td>-480.0</td>\n",
              "      <td>None</td>\n",
              "      <td>[range]</td>\n",
              "      <td>None</td>\n",
              "      <td>None</td>\n",
              "    </tr>\n",
              "    <tr>\n",
              "      <th>3</th>\n",
              "      <td>https://epigraphy.packhum.org/text/4</td>\n",
              "      <td>IG I³</td>\n",
              "      <td>4</td>\n",
              "      <td>Regions\\n\\nAttica (IG I-III)Attica</td>\n",
              "      <td>None</td>\n",
              "      <td>Att. — stoich. 38 — 485/4 a.</td>\n",
              "      <td>None</td>\n",
              "      <td>58.0</td>\n",
              "      <td>\\nface A.1\\n\\n\\n\\n\\n5\\n\\n\\n\\n\\n\\n10\\n\\n\\n\\n\\n\\...</td>\n",
              "      <td>[․․․․․․․․․․․․․․․․․․38․․․․․․․․․․․․․․․․․․]\\n[․․․...</td>\n",
              "      <td>IG-I-3.csv</td>\n",
              "      <td>4</td>\n",
              "      <td>Regions\\nAttica (IG I-III)Attica</td>\n",
              "      <td>IG I³\\n4</td>\n",
              "      <td>δέ τις αν ἒ φρορὰν μ ντέκοντα δχμὰς τ ας ℎες π...</td>\n",
              "      <td>ἐὰν δέ τις αν ἒ φρορὰν μὲ πεντέκοντα δραχμὰς τ...</td>\n",
              "      <td>․․․․․․․․․․․․․․․․․․․․․․․․․․․․․․․․․․․․ ․․․․․․․․․...</td>\n",
              "      <td>485/4 a.</td>\n",
              "      <td>{'or': None, 'not_before': -485, 'not_after': ...</td>\n",
              "      <td>-485.0</td>\n",
              "      <td>-484.0</td>\n",
              "      <td>None</td>\n",
              "      <td>[range]</td>\n",
              "      <td>None</td>\n",
              "      <td>None</td>\n",
              "    </tr>\n",
              "    <tr>\n",
              "      <th>4</th>\n",
              "      <td>https://epigraphy.packhum.org/text/5</td>\n",
              "      <td>IG I³</td>\n",
              "      <td>5</td>\n",
              "      <td>Regions\\n\\nAttica (IG I-III)Attica</td>\n",
              "      <td>None</td>\n",
              "      <td>Att. — c. 500 a.\\n\\nSee also:\\nI.Eleusis 13</td>\n",
              "      <td>None</td>\n",
              "      <td>6.0</td>\n",
              "      <td>\\n1\\n\\n\\n\\n \\n5\\n\\n</td>\n",
              "      <td>[ἔδοχσε]ν [⋮ τε͂ι βολε͂ι] ⋮ καὶ [τ]ο͂ι δέμοι ⋮...</td>\n",
              "      <td>IG-I-3.csv</td>\n",
              "      <td>5</td>\n",
              "      <td>Regions\\nAttica (IG I-III)Attica</td>\n",
              "      <td>IG I³\\n5</td>\n",
              "      <td>ν καὶ ο͂ι δέμοι ℎότε Παραιβάτες λεια θν τὸς ℎι...</td>\n",
              "      <td>ἔδοχσεν τε͂ι βολε͂ι καὶ το͂ι δέμοι ℎότε Παραιβ...</td>\n",
              "      <td>ἔδοχσεν ⋮ τε͂ι βολε͂ι ⋮ καὶ το͂ι δέμοι ⋮ ℎότε ...</td>\n",
              "      <td>c. 500 a.</td>\n",
              "      <td>{'or': None, 'not_before': -505, 'not_after': ...</td>\n",
              "      <td>-505.0</td>\n",
              "      <td>-495.0</td>\n",
              "      <td>None</td>\n",
              "      <td>[exact, phase, ca]</td>\n",
              "      <td>None</td>\n",
              "      <td>None</td>\n",
              "    </tr>\n",
              "  </tbody>\n",
              "</table>\n",
              "</div>"
            ],
            "text/plain": [
              "                                    URL   Book  ... certainty  link\n",
              "0  https://epigraphy.packhum.org/text/1  IG I³  ...      None  None\n",
              "1  https://epigraphy.packhum.org/text/2  IG I³  ...      None  None\n",
              "2  https://epigraphy.packhum.org/text/3  IG I³  ...      None  None\n",
              "3  https://epigraphy.packhum.org/text/4  IG I³  ...      None  None\n",
              "4  https://epigraphy.packhum.org/text/5  IG I³  ...      None  None\n",
              "\n",
              "[5 rows x 25 columns]"
            ]
          },
          "metadata": {
            "tags": []
          },
          "execution_count": 5
        }
      ]
    },
    {
      "cell_type": "code",
      "metadata": {
        "id": "I7toaiA5Q4U1",
        "colab_type": "code",
        "colab": {
          "base_uri": "https://localhost:8080/",
          "height": 34
        },
        "outputId": "f8da0017-83c4-447d-aa4c-313b9a58e350"
      },
      "source": [
        "### how many of the inscriptions have at least one date\n",
        "PHI_dated = PHI[(PHI[\"not_before\"].notnull()) | (PHI[\"not_after\"].notnull())]\n",
        "len(PHI_dated)"
      ],
      "execution_count": 6,
      "outputs": [
        {
          "output_type": "execute_result",
          "data": {
            "text/plain": [
              "130533"
            ]
          },
          "metadata": {
            "tags": []
          },
          "execution_count": 6
        }
      ]
    },
    {
      "cell_type": "code",
      "metadata": {
        "id": "A5arS7IxRP1l",
        "colab_type": "code",
        "colab": {
          "base_uri": "https://localhost:8080/",
          "height": 173
        },
        "outputId": "a4752027-49bd-41a2-9980-1be566720b5f"
      },
      "source": [
        "%%time\n",
        "PHI_dated[\"randoms\"] = PHI_dated.apply(lambda row: model_date(row[\"not_before\"], row[\"not_after\"], size=1000), axis=1)"
      ],
      "execution_count": 7,
      "outputs": [
        {
          "output_type": "stream",
          "text": [
            "CPU times: user 1min 32s, sys: 2.75 s, total: 1min 35s\n",
            "Wall time: 1min 35s\n"
          ],
          "name": "stdout"
        },
        {
          "output_type": "stream",
          "text": [
            "/usr/local/lib/python3.6/dist-packages/ipykernel_launcher.py:1: SettingWithCopyWarning: \n",
            "A value is trying to be set on a copy of a slice from a DataFrame.\n",
            "Try using .loc[row_indexer,col_indexer] = value instead\n",
            "\n",
            "See the caveats in the documentation: https://pandas.pydata.org/pandas-docs/stable/user_guide/indexing.html#returning-a-view-versus-a-copy\n",
            "  \"\"\"Entry point for launching an IPython kernel.\n"
          ],
          "name": "stderr"
        }
      ]
    },
    {
      "cell_type": "code",
      "metadata": {
        "id": "e57Fn4URg7o9",
        "colab_type": "code",
        "colab": {
          "base_uri": "https://localhost:8080/",
          "height": 51
        },
        "outputId": "184a761f-7196-49f1-bd9e-b516e89df50c"
      },
      "source": [
        "%%time\n",
        "randoms_list = PHI_dated[\"randoms\"].tolist()\n",
        "simulations_list = []\n",
        "for n in range(len(randoms_list[0])):\n",
        "  simulation = [randoms[n] for randoms in randoms_list]\n",
        "  simulations_list.append(simulation)"
      ],
      "execution_count": 9,
      "outputs": [
        {
          "output_type": "stream",
          "text": [
            "CPU times: user 52.6 s, sys: 323 ms, total: 52.9 s\n",
            "Wall time: 52.9 s\n"
          ],
          "name": "stdout"
        }
      ]
    },
    {
      "cell_type": "code",
      "metadata": {
        "id": "SUKTErDgX1fB",
        "colab_type": "code",
        "colab": {
          "base_uri": "https://localhost:8080/",
          "height": 34
        },
        "outputId": "860c77f5-08a9-451d-d420-b57dadc34e06"
      },
      "source": [
        "# in the case of the first simulation variant\n",
        "# how many inscriptions predate 300 BC?\n",
        "len([date for date in simulations_list[0] if date < -300])"
      ],
      "execution_count": 10,
      "outputs": [
        {
          "output_type": "execute_result",
          "data": {
            "text/plain": [
              "26686"
            ]
          },
          "metadata": {
            "tags": []
          },
          "execution_count": 10
        }
      ]
    },
    {
      "cell_type": "code",
      "metadata": {
        "id": "MiwyTZjdm5KQ",
        "colab_type": "code",
        "colab": {
          "base_uri": "https://localhost:8080/",
          "height": 34
        },
        "outputId": "5769e361-18c0-4cc5-df3c-7fb1b026cc4e"
      },
      "source": [
        "len(simulations_list)"
      ],
      "execution_count": 19,
      "outputs": [
        {
          "output_type": "execute_result",
          "data": {
            "text/plain": [
              "1000"
            ]
          },
          "metadata": {
            "tags": []
          },
          "execution_count": 19
        }
      ]
    },
    {
      "cell_type": "code",
      "metadata": {
        "id": "W6eI_rTNYQTF",
        "colab_type": "code",
        "colab": {
          "base_uri": "https://localhost:8080/",
          "height": 34
        },
        "outputId": "6db7dd4c-2c17-4b9e-fd3f-51053b2fb1df"
      },
      "source": [
        "# in the case of the second simulation variant\n",
        "# how many inscriptions predate 300 BC?\n",
        "len([date for date in simulations_list[1] if date < -300])"
      ],
      "execution_count": 11,
      "outputs": [
        {
          "output_type": "execute_result",
          "data": {
            "text/plain": [
              "26672"
            ]
          },
          "metadata": {
            "tags": []
          },
          "execution_count": 11
        }
      ]
    },
    {
      "cell_type": "code",
      "metadata": {
        "id": "aZMWDUjWXnJq",
        "colab_type": "code",
        "colab": {}
      },
      "source": [
        "#sddk.write_file(\"PHI_simulations_list_2020-06-29.json\", simulations_list, conf)"
      ],
      "execution_count": null,
      "outputs": []
    },
    {
      "cell_type": "code",
      "metadata": {
        "id": "5iQtijf2ZifE",
        "colab_type": "code",
        "colab": {}
      },
      "source": [
        "step = 50\n",
        "time_blocks =[(n, n+step) for n in range(-800, 400, step)]\n",
        "\n",
        "def dates_per_block(list_of_dates):\n",
        "  dates_per_block_dict = {}\n",
        "  for tup in time_blocks:\n",
        "     dates_per_block_dict[tup] = len([date for date in list_of_dates if date in range(tup[0], tup[1])])\n",
        "  return dates_per_block_dict"
      ],
      "execution_count": 17,
      "outputs": []
    },
    {
      "cell_type": "code",
      "metadata": {
        "id": "e07TxwrUawJ1",
        "colab_type": "code",
        "colab": {
          "base_uri": "https://localhost:8080/",
          "height": 51
        },
        "outputId": "abb14ad6-95fe-4921-8b4c-b266f621340b"
      },
      "source": [
        "%%time\n",
        "# extremely slow - requires restructuration\n",
        "sim_dicts = []\n",
        "for sim_list in simulations_list[:3]:\n",
        "  sim_dict = dates_per_block(sim_list)\n",
        "  sim_dicts.append(sim_dict)"
      ],
      "execution_count": 20,
      "outputs": [
        {
          "output_type": "stream",
          "text": [
            "CPU times: user 1min 26s, sys: 7.93 ms, total: 1min 26s\n",
            "Wall time: 1min 26s\n"
          ],
          "name": "stdout"
        }
      ]
    },
    {
      "cell_type": "code",
      "metadata": {
        "id": "QnBGETT7jox3",
        "colab_type": "code",
        "colab": {}
      },
      "source": [
        "sddk.write_file(\"PHI_sim_time_blocks_2020-06-29.json\", sim_dicts, conf)"
      ],
      "execution_count": null,
      "outputs": []
    },
    {
      "cell_type": "code",
      "metadata": {
        "id": "c7PKIRmYjhmJ",
        "colab_type": "code",
        "colab": {}
      },
      "source": [
        "len(sim_dicts)"
      ],
      "execution_count": null,
      "outputs": []
    },
    {
      "cell_type": "code",
      "metadata": {
        "id": "0WWzinTAdmIC",
        "colab_type": "code",
        "colab": {}
      },
      "source": [
        "sim_dicts[0]"
      ],
      "execution_count": null,
      "outputs": []
    },
    {
      "cell_type": "code",
      "metadata": {
        "id": "wt61I-Vbdozd",
        "colab_type": "code",
        "colab": {
          "base_uri": "https://localhost:8080/",
          "height": 425
        },
        "outputId": "f315991f-56ec-4517-b1a8-df4a5c5112e7"
      },
      "source": [
        "sim_dicts[1]"
      ],
      "execution_count": 54,
      "outputs": [
        {
          "output_type": "execute_result",
          "data": {
            "text/plain": [
              "{(-800, -750): 12,\n",
              " (-750, -700): 52,\n",
              " (-700, -650): 164,\n",
              " (-650, -600): 252,\n",
              " (-600, -550): 889,\n",
              " (-550, -500): 2064,\n",
              " (-500, -450): 3922,\n",
              " (-450, -400): 4014,\n",
              " (-400, -350): 5772,\n",
              " (-350, -300): 8689,\n",
              " (-300, -250): 8250,\n",
              " (-250, -200): 8994,\n",
              " (-200, -150): 8955,\n",
              " (-150, -100): 7081,\n",
              " (-100, -50): 4938,\n",
              " (-50, 0): 4684,\n",
              " (0, 50): 6088,\n",
              " (50, 100): 6219,\n",
              " (100, 150): 10050,\n",
              " (150, 200): 10192,\n",
              " (200, 250): 9122,\n",
              " (250, 300): 6036,\n",
              " (300, 350): 3074,\n",
              " (350, 400): 2712}"
            ]
          },
          "metadata": {
            "tags": []
          },
          "execution_count": 54
        }
      ]
    },
    {
      "cell_type": "code",
      "metadata": {
        "id": "4FdPU922cvej",
        "colab_type": "code",
        "colab": {
          "base_uri": "https://localhost:8080/",
          "height": 34
        },
        "outputId": "019fc21e-efd5-4a62-ad5e-a6ed1d62ab95"
      },
      "source": [
        "len([sim for sim in sim_dicts if sim[(100, 150)] < sim[(150, 200)]])"
      ],
      "execution_count": 57,
      "outputs": [
        {
          "output_type": "execute_result",
          "data": {
            "text/plain": [
              "10"
            ]
          },
          "metadata": {
            "tags": []
          },
          "execution_count": 57
        }
      ]
    }
  ]
}