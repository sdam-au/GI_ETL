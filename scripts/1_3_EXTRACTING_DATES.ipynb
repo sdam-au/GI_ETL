{
  "nbformat": 4,
  "nbformat_minor": 0,
  "metadata": {
    "colab": {
      "name": "1_3_EXTRACTING_DATES.ipynb",
      "provenance": [],
      "collapsed_sections": [
        "sMVLLV3VZ8AQ",
        "QpEfYagozs_0",
        "2bV1j_tDHhsy"
      ],
      "toc_visible": true,
      "include_colab_link": true
    },
    "kernelspec": {
      "name": "python3",
      "display_name": "Python 3"
    }
  },
  "cells": [
    {
      "cell_type": "markdown",
      "metadata": {
        "id": "view-in-github",
        "colab_type": "text"
      },
      "source": [
        "<a href=\"https://colab.research.google.com/github/sdam-au/PHI_ETL/blob/master/scripts/1_3_EXTRACTING_DATES.ipynb\" target=\"_parent\"><img src=\"https://colab.research.google.com/assets/colab-badge.svg\" alt=\"Open In Colab\"/></a>"
      ]
    },
    {
      "cell_type": "markdown",
      "metadata": {
        "id": "vhWC0rHNkwrI",
        "colab_type": "text"
      },
      "source": [
        "# Introduction\n",
        "\n",
        "This script contains a series of functions for extracting numerical dates (e.g. as an interval 101-200) from a historical dataset experessing this information in a textual form (e.g. \"2nd c. AD\"). The functions have been developed especially for extracting dates from the PHI dataset, but might be reused for other applications.\n",
        "\n",
        "In the core of the script is the function `date_extractor()`. This function takes as an input a textual date (e.g. \"s. III/II p.\" [= \"2nd c. BC\"]) and returns a dictionary of dating values, e.g:\n",
        "```python\n",
        "{\"start\" : -300, \"stop\" : -101, \"type\": \"range+cent+morece\"}\n",
        "```\n",
        "where `\"type\"` contains tags specifying what kind of dating it is: `range` means that it is an interval; `cent` means that the interval is based on information about centuries; and `morece` implies that there is more than one century.\n",
        "\n",
        "`date_extractor()` relies upon a number of other functions designed to extract individual types of dates:\n",
        "* `extract_ante_and_post(datation, dating)` looks for words like \"post\" and \"ante\", \"not before\" etc. and modifies the numerical dating (in `dating` dictionary) accordingly. E.g. \"ante 305BC\" means all years before the stop year `-305`; \"not before the reign of Trajan\" means all years after `97`\n",
        "*  `extract_period(datation)` checks whether the textual datation contains a period (like \"reign of Tiberius\") which could be translated into an interval (14-37).\n",
        "* `parse_centuries()` extract intervals for individual centuries. It deals with cases in which more centuries are present (e.g. \"s. III/II a.\") and even where one is BC and another AD (e.g. \"1st c. BC-1st c. AD\")\n",
        "* `modify_by_phase(datation, dating)` modify the ranges in `dating` by evaluating presence of words like \"beginning\", \"early\", \"late\" and \"end\". We use these parameters:\n",
        "  * \"beginning\": first 10% of the range (defined by \"start\" and \"stop\" in the `dating` dictionary)\n",
        "  * \"early\": first 25% of the range\n",
        "  * \"late\": last 25% of the range\n",
        "  * \"end\": last 10% of the range\n",
        "  * \"ca.\": extends the range by adding 10% on the left and 10% on the right\n"
      ]
    },
    {
      "cell_type": "markdown",
      "metadata": {
        "id": "yhyBq3wOfMFv",
        "colab_type": "text"
      },
      "source": [
        "# Requirements"
      ]
    },
    {
      "cell_type": "code",
      "metadata": {
        "id": "JcNeUMCflzF8",
        "colab_type": "code",
        "colab": {}
      },
      "source": [
        "import numpy as np\n",
        "import math\n",
        "import pandas as pd\n",
        "import re\n",
        "\n",
        "import sys\n",
        "import requests\n",
        "from bs4 import BeautifulSoup\n",
        "import json\n",
        "\n",
        "import datetime as dt\n",
        "# for simple paralel computing:\n",
        "from concurrent.futures import ThreadPoolExecutor\n",
        "\n",
        "import gspread\n",
        "from gspread_dataframe import get_as_dataframe, set_with_dataframe\n",
        "from google.colab import auth\n",
        "from oauth2client.client import GoogleCredentials"
      ],
      "execution_count": 1,
      "outputs": []
    },
    {
      "cell_type": "code",
      "metadata": {
        "id": "YnxNQl_rN1WU",
        "colab_type": "code",
        "colab": {
          "base_uri": "https://localhost:8080/",
          "height": 340
        },
        "outputId": "92a8f62b-d740-4666-fc76-a3ccb2782c36"
      },
      "source": [
        "# our own package for reading the data\n",
        "!pip install sddk\n",
        "import sddk"
      ],
      "execution_count": 2,
      "outputs": [
        {
          "output_type": "stream",
          "text": [
            "Collecting sddk\n",
            "  Downloading https://files.pythonhosted.org/packages/bf/96/3ae43f2d8ac06fc16ba111916970e5a1f3b96a3e41732fa3f099e2e5cd1c/sddk-2.6-py3-none-any.whl\n",
            "Requirement already satisfied: matplotlib in /usr/local/lib/python3.6/dist-packages (from sddk) (3.2.1)\n",
            "Requirement already satisfied: requests in /usr/local/lib/python3.6/dist-packages (from sddk) (2.23.0)\n",
            "Requirement already satisfied: numpy in /usr/local/lib/python3.6/dist-packages (from sddk) (1.18.5)\n",
            "Requirement already satisfied: pyarrow in /usr/local/lib/python3.6/dist-packages (from sddk) (0.14.1)\n",
            "Requirement already satisfied: pandas in /usr/local/lib/python3.6/dist-packages (from sddk) (1.0.4)\n",
            "Requirement already satisfied: cycler>=0.10 in /usr/local/lib/python3.6/dist-packages (from matplotlib->sddk) (0.10.0)\n",
            "Requirement already satisfied: pyparsing!=2.0.4,!=2.1.2,!=2.1.6,>=2.0.1 in /usr/local/lib/python3.6/dist-packages (from matplotlib->sddk) (2.4.7)\n",
            "Requirement already satisfied: kiwisolver>=1.0.1 in /usr/local/lib/python3.6/dist-packages (from matplotlib->sddk) (1.2.0)\n",
            "Requirement already satisfied: python-dateutil>=2.1 in /usr/local/lib/python3.6/dist-packages (from matplotlib->sddk) (2.8.1)\n",
            "Requirement already satisfied: urllib3!=1.25.0,!=1.25.1,<1.26,>=1.21.1 in /usr/local/lib/python3.6/dist-packages (from requests->sddk) (1.24.3)\n",
            "Requirement already satisfied: chardet<4,>=3.0.2 in /usr/local/lib/python3.6/dist-packages (from requests->sddk) (3.0.4)\n",
            "Requirement already satisfied: idna<3,>=2.5 in /usr/local/lib/python3.6/dist-packages (from requests->sddk) (2.9)\n",
            "Requirement already satisfied: certifi>=2017.4.17 in /usr/local/lib/python3.6/dist-packages (from requests->sddk) (2020.4.5.2)\n",
            "Requirement already satisfied: six>=1.0.0 in /usr/local/lib/python3.6/dist-packages (from pyarrow->sddk) (1.12.0)\n",
            "Requirement already satisfied: pytz>=2017.2 in /usr/local/lib/python3.6/dist-packages (from pandas->sddk) (2018.9)\n",
            "Installing collected packages: sddk\n",
            "Successfully installed sddk-2.6\n"
          ],
          "name": "stdout"
        }
      ]
    },
    {
      "cell_type": "markdown",
      "metadata": {
        "id": "H_CYM7yh9UTw",
        "colab_type": "text"
      },
      "source": [
        "# Authentification"
      ]
    },
    {
      "cell_type": "code",
      "metadata": {
        "id": "MhnThoX5kUKs",
        "colab_type": "code",
        "colab": {
          "base_uri": "https://localhost:8080/",
          "height": 85
        },
        "outputId": "4376e7e2-ed2d-4f41-c61d-6713fd8f15e1"
      },
      "source": [
        "# login to sciencedata \n",
        "conf = sddk.configure(\"SDAM_root\", \"648597@au.dk\")"
      ],
      "execution_count": 66,
      "outputs": [
        {
          "output_type": "stream",
          "text": [
            "sciencedata.dk username (format '123456@au.dk'): 648597@au.dk\n",
            "sciencedata.dk password: ··········\n",
            "connection with shared folder established with you as its owner\n",
            "endpoint variable has been configured to: https://sciencedata.dk/files/SDAM_root/\n"
          ],
          "name": "stdout"
        }
      ]
    },
    {
      "cell_type": "code",
      "metadata": {
        "id": "06TCxflGbtLj",
        "colab_type": "code",
        "colab": {}
      },
      "source": [
        "### authorize google sheets\n",
        "auth.authenticate_user()\n",
        "gc = gspread.authorize(GoogleCredentials.get_application_default())\n",
        "# establish connection with particular sheet by its url:\n",
        "PHI_overview = gc.open_by_url(\"https://docs.google.com/spreadsheets/d/1zfTw0Hf304maBmrYvaMxRLnv1zfAVFixrtGTTsLCcT4/edit?usp=sharing\")"
      ],
      "execution_count": 487,
      "outputs": []
    },
    {
      "cell_type": "markdown",
      "metadata": {
        "id": "hSbHsFtn3_IA",
        "colab_type": "text"
      },
      "source": [
        "# Read data"
      ]
    },
    {
      "cell_type": "code",
      "metadata": {
        "id": "dV9g_k8d_kZU",
        "colab_type": "code",
        "colab": {}
      },
      "source": [
        "# read the PHI dataset from sciencedata.dk\n",
        "PHI = sddk.read_file(\"SDAM_data/PHI/PHI_enriched_raw.json\", \"df\", conf)"
      ],
      "execution_count": 7,
      "outputs": []
    },
    {
      "cell_type": "code",
      "metadata": {
        "id": "ZQX2wP4U4BsY",
        "colab_type": "code",
        "colab": {
          "base_uri": "https://localhost:8080/",
          "height": 374
        },
        "outputId": "ff1c8301-6146-492b-cd3d-73f5d26f352d"
      },
      "source": [
        "# print first 5 rows of the data\n",
        "PHI.head(5)"
      ],
      "execution_count": 8,
      "outputs": [
        {
          "output_type": "execute_result",
          "data": {
            "text/html": [
              "<div>\n",
              "<style scoped>\n",
              "    .dataframe tbody tr th:only-of-type {\n",
              "        vertical-align: middle;\n",
              "    }\n",
              "\n",
              "    .dataframe tbody tr th {\n",
              "        vertical-align: top;\n",
              "    }\n",
              "\n",
              "    .dataframe thead th {\n",
              "        text-align: right;\n",
              "    }\n",
              "</style>\n",
              "<table border=\"1\" class=\"dataframe\">\n",
              "  <thead>\n",
              "    <tr style=\"text-align: right;\">\n",
              "      <th></th>\n",
              "      <th>URL</th>\n",
              "      <th>Book</th>\n",
              "      <th>Text</th>\n",
              "      <th>hdr1</th>\n",
              "      <th>hdr2</th>\n",
              "      <th>tildeinfo</th>\n",
              "      <th>note</th>\n",
              "      <th>lines</th>\n",
              "      <th>metadata</th>\n",
              "      <th>data</th>\n",
              "      <th>filename</th>\n",
              "      <th>PHI_ID</th>\n",
              "    </tr>\n",
              "  </thead>\n",
              "  <tbody>\n",
              "    <tr>\n",
              "      <th>0</th>\n",
              "      <td>[/text/237443?location=1365&amp;patt=&amp;bookid=411&amp;b...</td>\n",
              "      <td>[CSCA]</td>\n",
              "      <td>[5 (1972) 169,3]</td>\n",
              "      <td>[Regions\\nAttica (IG I-III)\\nAttica]</td>\n",
              "      <td>[CSCA\\n5 (1972) 169,3]</td>\n",
              "      <td>[Att. — Athens: Akropolis — stoich. 28 — 303/2...</td>\n",
              "      <td>{}</td>\n",
              "      <td>[4]</td>\n",
              "      <td>[1\\n\\n\\n]</td>\n",
              "      <td>[ἐπὶ Λε[ωστράτου ἄρχοντος ἐπὶ τῆς Κ]-\\nεκρο[πί...</td>\n",
              "      <td>[CSCA.csv]</td>\n",
              "      <td>[237443]</td>\n",
              "    </tr>\n",
              "    <tr>\n",
              "      <th>1</th>\n",
              "      <td>[/text/237444?location=1365&amp;patt=&amp;bookid=411&amp;b...</td>\n",
              "      <td>[CSCA]</td>\n",
              "      <td>[5 (1972) 169,4]</td>\n",
              "      <td>[Regions\\nAttica (IG I-III)\\nAttica]</td>\n",
              "      <td>[CSCA\\n5 (1972) 169,4]</td>\n",
              "      <td>[Att. — Athens: EM — stoich. 35 — 306-302 BC]</td>\n",
              "      <td>{}</td>\n",
              "      <td>[15]</td>\n",
              "      <td>[1\\n\\n\\n\\n5\\n\\n\\n\\n\\n10\\n\\n\\n\\n\\n15]</td>\n",
              "      <td>[[․]ομε̣[․․․․․․․․․․․․․28․․․․․․․․․․․․․ τῆς]\\nπρ...</td>\n",
              "      <td>[CSCA.csv]</td>\n",
              "      <td>[237444]</td>\n",
              "    </tr>\n",
              "    <tr>\n",
              "      <th>2</th>\n",
              "      <td>[/text/237445?location=1365&amp;patt=&amp;bookid=411&amp;b...</td>\n",
              "      <td>[CSCA]</td>\n",
              "      <td>[5 (1972) 173,5]</td>\n",
              "      <td>[Regions\\nAttica (IG I-III)\\nAttica]</td>\n",
              "      <td>[CSCA\\n5 (1972) 173,5]</td>\n",
              "      <td>[Att. — Athens — non-stoich.]</td>\n",
              "      <td>{}</td>\n",
              "      <td>[16]</td>\n",
              "      <td>[1\\n\\n\\n\\n5\\n\\n\\n\\n\\n10\\n\\n\\n\\n\\n15\\n]</td>\n",
              "      <td>[— — — — —υτω․․․․11․․․․․\\n— — — — —ωντωι̣․․․․9...</td>\n",
              "      <td>[CSCA.csv]</td>\n",
              "      <td>[237445]</td>\n",
              "    </tr>\n",
              "    <tr>\n",
              "      <th>3</th>\n",
              "      <td>[/text/237446?location=1365&amp;patt=&amp;bookid=411&amp;b...</td>\n",
              "      <td>[CSCA]</td>\n",
              "      <td>[9 (1976) 9,4]</td>\n",
              "      <td>[Regions\\nAttica (IG I-III)\\nAttica]</td>\n",
              "      <td>[CSCA\\n9 (1976) 9,4]</td>\n",
              "      <td>[Att. — Athens: Eth.Mus. — 4th c. BC — SEG 26....</td>\n",
              "      <td>{}</td>\n",
              "      <td>[2]</td>\n",
              "      <td>[A.1\\nB.1]</td>\n",
              "      <td>[ψῆφος ⋮ δημοσία.\\nΔ  ․]</td>\n",
              "      <td>[CSCA.csv]</td>\n",
              "      <td>[237446]</td>\n",
              "    </tr>\n",
              "    <tr>\n",
              "      <th>4</th>\n",
              "      <td>[/text/237447?location=1365&amp;patt=&amp;bookid=411&amp;b...</td>\n",
              "      <td>[CSCA]</td>\n",
              "      <td>[9 (1976) 11,16]</td>\n",
              "      <td>[Regions\\nAttica (IG I-III)\\nAttica]</td>\n",
              "      <td>[CSCA\\n9 (1976) 11,16]</td>\n",
              "      <td>[Att. — Athens: Eth.Mus. — 4th c. BC — SEG 26....</td>\n",
              "      <td>{}</td>\n",
              "      <td>[2]</td>\n",
              "      <td>[A.1\\nB.1]</td>\n",
              "      <td>[ψῆφος ⋮ δημοσία.\\nΓ  Ε]</td>\n",
              "      <td>[CSCA.csv]</td>\n",
              "      <td>[237447]</td>\n",
              "    </tr>\n",
              "  </tbody>\n",
              "</table>\n",
              "</div>"
            ],
            "text/plain": [
              "                                                 URL  ...    PHI_ID\n",
              "0  [/text/237443?location=1365&patt=&bookid=411&b...  ...  [237443]\n",
              "1  [/text/237444?location=1365&patt=&bookid=411&b...  ...  [237444]\n",
              "2  [/text/237445?location=1365&patt=&bookid=411&b...  ...  [237445]\n",
              "3  [/text/237446?location=1365&patt=&bookid=411&b...  ...  [237446]\n",
              "4  [/text/237447?location=1365&patt=&bookid=411&b...  ...  [237447]\n",
              "\n",
              "[5 rows x 12 columns]"
            ]
          },
          "metadata": {
            "tags": []
          },
          "execution_count": 8
        }
      ]
    },
    {
      "cell_type": "code",
      "metadata": {
        "id": "YUWPxXY808-R",
        "colab_type": "code",
        "colab": {}
      },
      "source": [
        "# unfortunately, transferring the dataset between Python and R caused that cells in most columns of the dataframe contain a LIST OF VALUES (of length 1) and not the VALUE itself.\n",
        "# in such case, we have to do one simple transformation\n",
        "# perhaps it will not be needed in the future\n",
        "\n",
        "def lists_to_values(list_or_value):\n",
        "  if isinstance(list_or_value, list):\n",
        "    value = list_or_value[0]\n",
        "  else: \n",
        "    value = list_or_value\n",
        "  return value\n",
        "for column in PHI.columns:\n",
        "  PHI[column] = PHI.apply(lambda row: lists_to_values(row[column]), axis=1)"
      ],
      "execution_count": 9,
      "outputs": []
    },
    {
      "cell_type": "code",
      "metadata": {
        "id": "RrtwIevF0xMq",
        "colab_type": "code",
        "colab": {
          "base_uri": "https://localhost:8080/",
          "height": 340
        },
        "outputId": "fe76ae64-06c8-4434-9cb3-15742aa55f98"
      },
      "source": [
        "PHI.head(5)"
      ],
      "execution_count": 10,
      "outputs": [
        {
          "output_type": "execute_result",
          "data": {
            "text/html": [
              "<div>\n",
              "<style scoped>\n",
              "    .dataframe tbody tr th:only-of-type {\n",
              "        vertical-align: middle;\n",
              "    }\n",
              "\n",
              "    .dataframe tbody tr th {\n",
              "        vertical-align: top;\n",
              "    }\n",
              "\n",
              "    .dataframe thead th {\n",
              "        text-align: right;\n",
              "    }\n",
              "</style>\n",
              "<table border=\"1\" class=\"dataframe\">\n",
              "  <thead>\n",
              "    <tr style=\"text-align: right;\">\n",
              "      <th></th>\n",
              "      <th>URL</th>\n",
              "      <th>Book</th>\n",
              "      <th>Text</th>\n",
              "      <th>hdr1</th>\n",
              "      <th>hdr2</th>\n",
              "      <th>tildeinfo</th>\n",
              "      <th>note</th>\n",
              "      <th>lines</th>\n",
              "      <th>metadata</th>\n",
              "      <th>data</th>\n",
              "      <th>filename</th>\n",
              "      <th>PHI_ID</th>\n",
              "    </tr>\n",
              "  </thead>\n",
              "  <tbody>\n",
              "    <tr>\n",
              "      <th>0</th>\n",
              "      <td>/text/237443?location=1365&amp;patt=&amp;bookid=411&amp;bo...</td>\n",
              "      <td>CSCA</td>\n",
              "      <td>5 (1972) 169,3</td>\n",
              "      <td>Regions\\nAttica (IG I-III)\\nAttica</td>\n",
              "      <td>CSCA\\n5 (1972) 169,3</td>\n",
              "      <td>Att. — Athens: Akropolis — stoich. 28 — 303/2 BC</td>\n",
              "      <td>{}</td>\n",
              "      <td>4</td>\n",
              "      <td>1\\n\\n\\n</td>\n",
              "      <td>ἐπὶ Λε[ωστράτου ἄρχοντος ἐπὶ τῆς Κ]-\\nεκρο[πίδ...</td>\n",
              "      <td>CSCA.csv</td>\n",
              "      <td>237443</td>\n",
              "    </tr>\n",
              "    <tr>\n",
              "      <th>1</th>\n",
              "      <td>/text/237444?location=1365&amp;patt=&amp;bookid=411&amp;bo...</td>\n",
              "      <td>CSCA</td>\n",
              "      <td>5 (1972) 169,4</td>\n",
              "      <td>Regions\\nAttica (IG I-III)\\nAttica</td>\n",
              "      <td>CSCA\\n5 (1972) 169,4</td>\n",
              "      <td>Att. — Athens: EM — stoich. 35 — 306-302 BC</td>\n",
              "      <td>{}</td>\n",
              "      <td>15</td>\n",
              "      <td>1\\n\\n\\n\\n5\\n\\n\\n\\n\\n10\\n\\n\\n\\n\\n15</td>\n",
              "      <td>[․]ομε̣[․․․․․․․․․․․․․28․․․․․․․․․․․․․ τῆς]\\nπρυ...</td>\n",
              "      <td>CSCA.csv</td>\n",
              "      <td>237444</td>\n",
              "    </tr>\n",
              "    <tr>\n",
              "      <th>2</th>\n",
              "      <td>/text/237445?location=1365&amp;patt=&amp;bookid=411&amp;bo...</td>\n",
              "      <td>CSCA</td>\n",
              "      <td>5 (1972) 173,5</td>\n",
              "      <td>Regions\\nAttica (IG I-III)\\nAttica</td>\n",
              "      <td>CSCA\\n5 (1972) 173,5</td>\n",
              "      <td>Att. — Athens — non-stoich.</td>\n",
              "      <td>{}</td>\n",
              "      <td>16</td>\n",
              "      <td>1\\n\\n\\n\\n5\\n\\n\\n\\n\\n10\\n\\n\\n\\n\\n15\\n</td>\n",
              "      <td>— — — — —υτω․․․․11․․․․․\\n— — — — —ωντωι̣․․․․9․...</td>\n",
              "      <td>CSCA.csv</td>\n",
              "      <td>237445</td>\n",
              "    </tr>\n",
              "    <tr>\n",
              "      <th>3</th>\n",
              "      <td>/text/237446?location=1365&amp;patt=&amp;bookid=411&amp;bo...</td>\n",
              "      <td>CSCA</td>\n",
              "      <td>9 (1976) 9,4</td>\n",
              "      <td>Regions\\nAttica (IG I-III)\\nAttica</td>\n",
              "      <td>CSCA\\n9 (1976) 9,4</td>\n",
              "      <td>Att. — Athens: Eth.Mus. — 4th c. BC — SEG 26.1...</td>\n",
              "      <td>{}</td>\n",
              "      <td>2</td>\n",
              "      <td>A.1\\nB.1</td>\n",
              "      <td>ψῆφος ⋮ δημοσία.\\nΔ  ․</td>\n",
              "      <td>CSCA.csv</td>\n",
              "      <td>237446</td>\n",
              "    </tr>\n",
              "    <tr>\n",
              "      <th>4</th>\n",
              "      <td>/text/237447?location=1365&amp;patt=&amp;bookid=411&amp;bo...</td>\n",
              "      <td>CSCA</td>\n",
              "      <td>9 (1976) 11,16</td>\n",
              "      <td>Regions\\nAttica (IG I-III)\\nAttica</td>\n",
              "      <td>CSCA\\n9 (1976) 11,16</td>\n",
              "      <td>Att. — Athens: Eth.Mus. — 4th c. BC — SEG 26.1...</td>\n",
              "      <td>{}</td>\n",
              "      <td>2</td>\n",
              "      <td>A.1\\nB.1</td>\n",
              "      <td>ψῆφος ⋮ δημοσία.\\nΓ  Ε</td>\n",
              "      <td>CSCA.csv</td>\n",
              "      <td>237447</td>\n",
              "    </tr>\n",
              "  </tbody>\n",
              "</table>\n",
              "</div>"
            ],
            "text/plain": [
              "                                                 URL  Book  ...  filename  PHI_ID\n",
              "0  /text/237443?location=1365&patt=&bookid=411&bo...  CSCA  ...  CSCA.csv  237443\n",
              "1  /text/237444?location=1365&patt=&bookid=411&bo...  CSCA  ...  CSCA.csv  237444\n",
              "2  /text/237445?location=1365&patt=&bookid=411&bo...  CSCA  ...  CSCA.csv  237445\n",
              "3  /text/237446?location=1365&patt=&bookid=411&bo...  CSCA  ...  CSCA.csv  237446\n",
              "4  /text/237447?location=1365&patt=&bookid=411&bo...  CSCA  ...  CSCA.csv  237447\n",
              "\n",
              "[5 rows x 12 columns]"
            ]
          },
          "metadata": {
            "tags": []
          },
          "execution_count": 10
        }
      ]
    },
    {
      "cell_type": "markdown",
      "metadata": {
        "id": "DlWZYRzIxeU3",
        "colab_type": "text"
      },
      "source": [
        "# Raw date column\n",
        "\n",
        "In the PHI dataset, the datation information is usually contained in the \"tildeinfo\" column. \"tildeinfo\" has a form of a list, with individual elements separated by \" — \". Unfortunately, this list does not have a fully consistent structure. Typically, the datation information is the last element within the list (e.g. \"Dacia Sup. — Tibiscum (Jupa) — 2nd/3rd c. AD\" - PH298501), but not always (e.g. \"N. Black Sea — Pantikapaion (Kerch) — 1st c. BC — IosPE IV 253\" - PH183001). Thus, our first task is to extract the element which most probably contains the datation information.\n"
      ]
    },
    {
      "cell_type": "code",
      "metadata": {
        "id": "F_8vJRssihLW",
        "colab_type": "code",
        "colab": {}
      },
      "source": [
        "def get_date_from_tildeinfo(tildeinfo):\n",
        "  try:\n",
        "    tildeinfo_list = tildeinfo.split(\"— \")\n",
        "    datation = tildeinfo_list[-1]\n",
        "    for el in tildeinfo_list:\n",
        "      if any(time_indicator in el for time_indicator in [\" a.\", \" p.\", \"BC\", \"AD\", \"period\", \"reign\"]):\n",
        "        datation = el\n",
        "        break\n",
        "  except: \n",
        "    datation = \"\"\n",
        "  return datation "
      ],
      "execution_count": 12,
      "outputs": []
    },
    {
      "cell_type": "code",
      "metadata": {
        "id": "jtPeaQn_wZ32",
        "colab_type": "code",
        "colab": {
          "base_uri": "https://localhost:8080/",
          "height": 34
        },
        "outputId": "a592c521-5a36-4a43-ff1c-f56cc4333fed"
      },
      "source": [
        "# test 1\n",
        "get_date_from_tildeinfo(\"N. Black Sea — Pantikapaion (Kerch) — 1st c. BC — IosPE IV 253\")"
      ],
      "execution_count": 15,
      "outputs": [
        {
          "output_type": "execute_result",
          "data": {
            "text/plain": [
              "'1st c. BC '"
            ]
          },
          "metadata": {
            "tags": []
          },
          "execution_count": 15
        }
      ]
    },
    {
      "cell_type": "code",
      "metadata": {
        "id": "voqckZOLwkni",
        "colab_type": "code",
        "colab": {
          "base_uri": "https://localhost:8080/",
          "height": 34
        },
        "outputId": "c5af3abd-6fb3-4a52-c82c-316938b863ec"
      },
      "source": [
        "# test 2\n",
        "get_date_from_tildeinfo(\"Att. — Athens: Agora — stoich. 29 — 301/0-295/4 a. — *Hesp. 13.1944.242,7 — *SEG 24.119; 29.93\")"
      ],
      "execution_count": 16,
      "outputs": [
        {
          "output_type": "execute_result",
          "data": {
            "text/plain": [
              "'301/0-295/4 a. '"
            ]
          },
          "metadata": {
            "tags": []
          },
          "execution_count": 16
        }
      ]
    },
    {
      "cell_type": "code",
      "metadata": {
        "id": "ViRgWRMcioFi",
        "colab_type": "code",
        "colab": {}
      },
      "source": [
        "# application on the whole dataset\n",
        "PHI[\"raw_date\"] = PHI.apply(lambda row: get_date_from_tildeinfo(row[\"tildeinfo\"]), axis=1)"
      ],
      "execution_count": 17,
      "outputs": []
    },
    {
      "cell_type": "markdown",
      "metadata": {
        "id": "OyhrW32R6AgP",
        "colab_type": "text"
      },
      "source": [
        "# Generating a sample\n",
        "For developemnt purposes, the functions below have been firstly tested by using a representative sample from the dataset, containing every 500th inscription, i.e. inscriptions PH2501, PH3001, ..., PH218501 etc.\t"
      ]
    },
    {
      "cell_type": "code",
      "metadata": {
        "id": "_auRCD152g1X",
        "colab_type": "code",
        "colab": {
          "base_uri": "https://localhost:8080/",
          "height": 445
        },
        "outputId": "765dd49b-24bd-4a75-c32f-efcfd05a4ce9"
      },
      "source": [
        "# generate sample for testing purposes:\n",
        "PHI_by_500 = PHI[PHI[\"PHI_ID\"].isin(range(1, 300000, 500))]\n",
        "PHI_by_500.head(5)"
      ],
      "execution_count": 18,
      "outputs": [
        {
          "output_type": "execute_result",
          "data": {
            "text/html": [
              "<div>\n",
              "<style scoped>\n",
              "    .dataframe tbody tr th:only-of-type {\n",
              "        vertical-align: middle;\n",
              "    }\n",
              "\n",
              "    .dataframe tbody tr th {\n",
              "        vertical-align: top;\n",
              "    }\n",
              "\n",
              "    .dataframe thead th {\n",
              "        text-align: right;\n",
              "    }\n",
              "</style>\n",
              "<table border=\"1\" class=\"dataframe\">\n",
              "  <thead>\n",
              "    <tr style=\"text-align: right;\">\n",
              "      <th></th>\n",
              "      <th>URL</th>\n",
              "      <th>Book</th>\n",
              "      <th>Text</th>\n",
              "      <th>hdr1</th>\n",
              "      <th>hdr2</th>\n",
              "      <th>tildeinfo</th>\n",
              "      <th>note</th>\n",
              "      <th>lines</th>\n",
              "      <th>metadata</th>\n",
              "      <th>data</th>\n",
              "      <th>filename</th>\n",
              "      <th>PHI_ID</th>\n",
              "      <th>raw_date</th>\n",
              "    </tr>\n",
              "  </thead>\n",
              "  <tbody>\n",
              "    <tr>\n",
              "      <th>625</th>\n",
              "      <td>/text/262001?location=1040&amp;patt=&amp;bookid=517&amp;of...</td>\n",
              "      <td>Panamara</td>\n",
              "      <td>316</td>\n",
              "      <td>Regions\\nAsia Minor\\nCaria</td>\n",
              "      <td>Panamara\\n316</td>\n",
              "      <td>IStr 427</td>\n",
              "      <td>{}</td>\n",
              "      <td>2</td>\n",
              "      <td>1\\n</td>\n",
              "      <td>Διῒ Πανημέρῳ, κόμαι Εὐτύχεως· ἐπὶ ἱερέω[ς] Κλα...</td>\n",
              "      <td>Panamara.csv</td>\n",
              "      <td>262001</td>\n",
              "      <td>IStr 427</td>\n",
              "    </tr>\n",
              "    <tr>\n",
              "      <th>912</th>\n",
              "      <td>/text/266001?location=1673&amp;patt=&amp;bookid=587&amp;of...</td>\n",
              "      <td>St.Pont. III</td>\n",
              "      <td>110a</td>\n",
              "      <td>Regions\\nAsia Minor\\nPontus and Paphlagonia</td>\n",
              "      <td>St.Pont. III\\n110a</td>\n",
              "      <td>Pont. — Amasia — Rom. Imp. period</td>\n",
              "      <td>{}</td>\n",
              "      <td>6</td>\n",
              "      <td>1\\n\\n\\n\\n5\\n</td>\n",
              "      <td>Αὐρ(ηλίῳ) Φιλο-\\nμούσῳ ❦\\nἀρχιάτρῳ\\nῬω[μᾶνα(?)...</td>\n",
              "      <td>St.Pont.-III.csv</td>\n",
              "      <td>266001</td>\n",
              "      <td>Rom. Imp. period</td>\n",
              "    </tr>\n",
              "    <tr>\n",
              "      <th>1260</th>\n",
              "      <td>/text/231001?location=1365&amp;patt=&amp;bookid=394&amp;of...</td>\n",
              "      <td>Agora XV</td>\n",
              "      <td>130</td>\n",
              "      <td>Regions\\nAttica (IG I-III)\\nAttica</td>\n",
              "      <td>Agora XV\\n130</td>\n",
              "      <td>Att. — Athens: Agora — 220/19</td>\n",
              "      <td>{}</td>\n",
              "      <td>149</td>\n",
              "      <td>1\\n\\n\\n\\n5\\n\\n\\n\\n\\n10\\n\\n\\n\\n\\n15\\n\\n\\n\\n\\n20...</td>\n",
              "      <td>ἐπὶ Μενεκράτου ἄρχοντος ἐπὶ τῆς Οἰνεῖδος ἕκτη-...</td>\n",
              "      <td>Agora-XV.csv</td>\n",
              "      <td>231001</td>\n",
              "      <td>220/19</td>\n",
              "    </tr>\n",
              "    <tr>\n",
              "      <th>1944</th>\n",
              "      <td>/text/79501?location=126&amp;patt=&amp;bookid=23&amp;offse...</td>\n",
              "      <td>IG XII,8</td>\n",
              "      <td>311</td>\n",
              "      <td>Regions\\nAegean Islands, incl. Crete (IG XI-[X...</td>\n",
              "      <td>IG XII,8\\n311</td>\n",
              "      <td>Thasos</td>\n",
              "      <td>{}</td>\n",
              "      <td>7</td>\n",
              "      <td>1\\n\\n\\n\\n5\\n\\n</td>\n",
              "      <td>Ἐπικράτης  Κτησιφῶντος\\nΠυθίων  Περιθύμου\\nΠίν...</td>\n",
              "      <td>IG-XII-8.csv</td>\n",
              "      <td>79501</td>\n",
              "      <td>Thasos</td>\n",
              "    </tr>\n",
              "    <tr>\n",
              "      <th>2502</th>\n",
              "      <td>/text/218501?location=1497&amp;patt=&amp;bookid=367&amp;of...</td>\n",
              "      <td>Koptos à Kosseir</td>\n",
              "      <td>163</td>\n",
              "      <td>Regions\\nEgypt, Nubia and Cyrenaïca\\nEgypt and...</td>\n",
              "      <td>Koptos à Kosseir\\n163</td>\n",
              "      <td>Eg. — el-Boueib</td>\n",
              "      <td>{}</td>\n",
              "      <td>2</td>\n",
              "      <td>1\\n</td>\n",
              "      <td>Κάλχων̣\\nΠανὶ Χρ(υσόδωτηι).</td>\n",
              "      <td>Koptos---Kosseir.csv</td>\n",
              "      <td>218501</td>\n",
              "      <td>el-Boueib</td>\n",
              "    </tr>\n",
              "  </tbody>\n",
              "</table>\n",
              "</div>"
            ],
            "text/plain": [
              "                                                    URL  ...          raw_date\n",
              "625   /text/262001?location=1040&patt=&bookid=517&of...  ...          IStr 427\n",
              "912   /text/266001?location=1673&patt=&bookid=587&of...  ...  Rom. Imp. period\n",
              "1260  /text/231001?location=1365&patt=&bookid=394&of...  ...            220/19\n",
              "1944  /text/79501?location=126&patt=&bookid=23&offse...  ...            Thasos\n",
              "2502  /text/218501?location=1497&patt=&bookid=367&of...  ...         el-Boueib\n",
              "\n",
              "[5 rows x 13 columns]"
            ]
          },
          "metadata": {
            "tags": []
          },
          "execution_count": 18
        }
      ]
    },
    {
      "cell_type": "markdown",
      "metadata": {
        "id": "1yz6_Lr-VyIF",
        "colab_type": "text"
      },
      "source": [
        "# Parse ante quem and post quem"
      ]
    },
    {
      "cell_type": "code",
      "metadata": {
        "id": "Pvmb8GNS2qWH",
        "colab_type": "code",
        "colab": {
          "base_uri": "https://localhost:8080/",
          "height": 34
        },
        "outputId": "890a00c8-ca5a-487e-8e67-c325630bd46a"
      },
      "source": [
        "### simple demonstration of the logic\n",
        "datation = \"not before 304 AD\"\n",
        "match = re.search(\"(not\\s(before|bef\\.)\\s|non\\sante\\s)(\\d+)\",  datation, flags=re.IGNORECASE)\n",
        "if match:\n",
        "  dating_update = {\"start\" : int(match.groups()[2]), \"type\" : \"post\"}\n",
        "dating_update"
      ],
      "execution_count": 328,
      "outputs": [
        {
          "output_type": "execute_result",
          "data": {
            "text/plain": [
              "{'start': 304, 'type': 'post'}"
            ]
          },
          "metadata": {
            "tags": []
          },
          "execution_count": 328
        }
      ]
    },
    {
      "cell_type": "code",
      "metadata": {
        "id": "y0Hq9f7U-Hl2",
        "colab_type": "code",
        "colab": {}
      },
      "source": [
        "def extract_ante_and_post(datation, dating=None):\n",
        "  if dating==None: dating = {\"type\" : \"unknown\"}\n",
        "  if \"unknown\" in dating[\"type\"]: \n",
        "    # if \"NOT BEFORE\"\n",
        "    match = re.search(\"(not\\s(before|bef\\.)\\s|non\\sante\\s)(\\-?\\d+)(\\s|$)\",  datation, flags=re.IGNORECASE)\n",
        "    if match:\n",
        "      if \"AD\" not in datation:\n",
        "        start = (int(match.groups()[2]) * -1)\n",
        "        dating_update = {\"start\" : start, \"type\" : \"post\"}\n",
        "      else:\n",
        "        dating_update = {\"start\" : int(match.groups()[2]), \"type\" : \"post\"}\n",
        "    # if \"BEFORE\"\n",
        "    else:\n",
        "      match = re.search('(before\\s|ante\\s)(\\-?\\d+)(\\s|$)', datation, flags=re.IGNORECASE)\n",
        "      if match:\n",
        "        if \"AD\" not in datation:\n",
        "          dating_update = {\"stop\" : (int(match.groups()[1]) * -1) - 1, \"type\" : \"ante\"}\n",
        "        else:\n",
        "          dating_update = {\"stop\" : int(match.groups()[1]) - 1, \"type\" : \"ante\"}\n",
        "      # if \"NOT AFTER\"\n",
        "      else:\n",
        "        match = re.search(\"(not\\safter\\s|non\\spost\\s)(\\-?\\d+)(\\s|$)\",  datation, flags=re.IGNORECASE)\n",
        "        if match:\n",
        "          if \"AD\" not in datation:\n",
        "            dating_update = {\"stop\" : (int(match.groups()[1]) * -1), \"type\" : \"ante\"}\n",
        "          else:\n",
        "            dating_update = {\"stop\" : int(match.groups()[1]), \"type\" : \"ante\"}\n",
        "        # if \"AFTER\"\n",
        "        else:\n",
        "            match = re.search('(after\\s|aft.\\s|post\\s)(\\-?\\d+)(\\s|$)', datation, flags=re.IGNORECASE)\n",
        "            if match:\n",
        "              if \"AD\" not in datation:\n",
        "                dating_update = {\"start\" : (int(match.groups()[1]) * -1) + 1, \"type\" : \"post\"}\n",
        "              else:\n",
        "                dating_update = {\"start\" : int(match.groups()[1]) + 1, \"type\" : \"post\"}\n",
        "            else:\n",
        "              dating_update = dating\n",
        "  elif \"exact+or\" in dating[\"type\"]: \n",
        "    # if \"NOT BEFORE\"\n",
        "    match = re.search(\"(not\\s(before|bef\\.)\\s|non\\sante\\s)\",  datation, flags=re.IGNORECASE)\n",
        "    if match:\n",
        "      dating_update = {\"start\" : dating[\"exact\"], \"or\": {\"start\" : dating[\"or\"][\"exact\"], \"exact\" : None}, \"exact\" : None, \"type\" : \"post+or\"}\n",
        "    # if \"BEFORE\"\n",
        "    else:\n",
        "      match = re.search('(before\\s|ante\\s)', datation, flags=re.IGNORECASE)\n",
        "      if match:\n",
        "        dating_update = {\"stop\" : dating[\"exact\"], \"or\": {\"stop\" : dating[\"or\"][\"exact\"], \"exact\" : None}, \"exact\" : None, \"type\" : \"ante+or\"}\n",
        "      # if \"NOT AFTER\"\n",
        "      else:\n",
        "        match = re.search(\"(not\\safter\\s|non\\spost\\s)\",  datation, flags=re.IGNORECASE)\n",
        "        if match:\n",
        "              dating_update = {\"stop\" : dating[\"exact\"], \"or\": {\"stop\" : dating[\"or\"][\"exact\"], \"exact\" : None}, \"exact\" : None, \"type\" : \"ante+or\"}\n",
        "        # if \"AFTER\"\n",
        "        else:\n",
        "            match = re.search('(after\\s|aft.\\s|post\\s)', datation, flags=re.IGNORECASE)\n",
        "            if match:\n",
        "              dating_update = {\"start\" : dating[\"exact\"], \"or\": {\"start\" : dating[\"or\"][\"exact\"], \"exact\" : None}, \"exact\" : None, \"type\" : \"post+or\"}\n",
        "            else:\n",
        "              dating_update = dating\n",
        "  elif \"range\" in dating[\"type\"]:\n",
        "    # if \"NOT BEFORE\"\n",
        "    match = re.search(\"(not\\s(before|bef\\.)\\s|non\\sante\\s)\",  datation, flags=re.IGNORECASE)\n",
        "    if match:\n",
        "      dating_update = {\"start\" : dating[\"start\"], \"stop\":None, \"type\" : dating[\"type\"]+\"+post\"}\n",
        "    # if \"BEFORE\"\n",
        "    else:\n",
        "      match = re.search('(before\\s|ante\\s)', datation, flags=re.IGNORECASE)\n",
        "      if match:\n",
        "        dating_update = {\"stop\" : int(dating[\"start\"]) - 1, \"start\":None, \"type\" : dating[\"type\"]+\"+ante\"}  \n",
        "      # if \"NOT AFTER\"\n",
        "      else:\n",
        "        match = re.search(\"(not\\safter\\s|non\\spost\\s)\",  datation, flags=re.IGNORECASE)\n",
        "        if match:\n",
        "          dating_update = {\"stop\" : dating[\"stop\"], \"start\":None,\"type\" : dating[\"type\"]+\"+ante\"}\n",
        "        # if \"AFTER\"\n",
        "        else:\n",
        "          match = re.search('(after\\s|aft.\\s|post\\s)', datation, flags=re.IGNORECASE)\n",
        "          if match:\n",
        "            dating_update = {\"start\" : int(dating[\"stop\"]) + 1, \"stop\":None,\"type\" : dating[\"type\"]+\"+post\"}\n",
        "          else:\n",
        "            dating_update = dating\n",
        "  else: \n",
        "    #datation = re.sub(\"(not\\s(after|bef\\.)\\s|non\\spost)\", \"ante\\s\", datation)\n",
        "    dating_update = dating\n",
        "  if (\"shortly\" in datation) and (\"shortly\" not in dating_update[\"type\"]):\n",
        "    dating_update[\"type\"] = dating_update[\"type\"] + \"+shortly\"\n",
        "  return dating_update"
      ],
      "execution_count": 400,
      "outputs": []
    },
    {
      "cell_type": "code",
      "metadata": {
        "id": "JXd-MHGzups1",
        "colab_type": "code",
        "colab": {
          "base_uri": "https://localhost:8080/",
          "height": 34
        },
        "outputId": "1356aa0c-00e6-4beb-fda7-0ae523f17e99"
      },
      "source": [
        "extract_ante_and_post(\"after 4th c. BC\", {\"type\" : \"range\", \"start\": -400, \"stop\": -301})"
      ],
      "execution_count": 401,
      "outputs": [
        {
          "output_type": "execute_result",
          "data": {
            "text/plain": [
              "{'start': -300, 'stop': None, 'type': 'range+post'}"
            ]
          },
          "metadata": {
            "tags": []
          },
          "execution_count": 401
        }
      ]
    },
    {
      "cell_type": "code",
      "metadata": {
        "id": "I2QmBCuU0-ZP",
        "colab_type": "code",
        "colab": {
          "base_uri": "https://localhost:8080/",
          "height": 34
        },
        "outputId": "8616412d-dc35-471f-dbc8-df46e06d468f"
      },
      "source": [
        "extract_ante_and_post(\"shortly after 230 AD\")"
      ],
      "execution_count": 402,
      "outputs": [
        {
          "output_type": "execute_result",
          "data": {
            "text/plain": [
              "{'start': 231, 'type': 'post+shortly'}"
            ]
          },
          "metadata": {
            "tags": []
          },
          "execution_count": 402
        }
      ]
    },
    {
      "cell_type": "code",
      "metadata": {
        "id": "2kuMWHYek4t4",
        "colab_type": "code",
        "colab": {
          "base_uri": "https://localhost:8080/",
          "height": 34
        },
        "outputId": "75c6c409-84bd-4f89-ce1a-c8e42ac67524"
      },
      "source": [
        "datation, dating = \"not after reign of Trajan\", {\"start\": 98, \"stop\" : 117, \"type\" : \"range+period\", \"era\": None}\n",
        "extract_ante_and_post(datation, dating)"
      ],
      "execution_count": 331,
      "outputs": [
        {
          "output_type": "execute_result",
          "data": {
            "text/plain": [
              "{'start': None, 'stop': 117, 'type': 'range+period+ante'}"
            ]
          },
          "metadata": {
            "tags": []
          },
          "execution_count": 331
        }
      ]
    },
    {
      "cell_type": "code",
      "metadata": {
        "id": "iElBo6xYWBPq",
        "colab_type": "code",
        "colab": {
          "base_uri": "https://localhost:8080/",
          "height": 136
        },
        "outputId": "1d5daebc-97dc-4a10-84e9-02a0573a61e1"
      },
      "source": [
        "# example with \"unknown\"\n",
        "dating = {\"type\" : \"unknown\", \"era\": None}\n",
        "for datation in [\"non post 230 AD\", \"shortly after 320 BC\", \"not bef. 114 BC\",\"not after 317 AD\", \"before 200 AD\", \"Ante 114 BC\", \"post 2nd century BC\"]:\n",
        "  print(datation, extract_ante_and_post(datation, dating))"
      ],
      "execution_count": 332,
      "outputs": [
        {
          "output_type": "stream",
          "text": [
            "non post 230 AD {'stop': 230, 'type': 'ante'}\n",
            "shortly after 320 BC {'start': -319, 'type': 'post+shortly'}\n",
            "not bef. 114 BC {'start': -114, 'type': 'post'}\n",
            "not after 317 AD {'stop': 317, 'type': 'ante'}\n",
            "before 200 AD {'stop': 199, 'type': 'ante'}\n",
            "Ante 114 BC {'stop': -115, 'type': 'ante'}\n",
            "post 2nd century BC {'type': 'unknown', 'era': None}\n"
          ],
          "name": "stdout"
        }
      ]
    },
    {
      "cell_type": "markdown",
      "metadata": {
        "id": "qF5f-0tIV9Tm",
        "colab_type": "text"
      },
      "source": [
        "# Parse periods"
      ]
    },
    {
      "cell_type": "code",
      "metadata": {
        "id": "GHK0NQwl-ap9",
        "colab_type": "code",
        "colab": {
          "base_uri": "https://localhost:8080/",
          "height": 762
        },
        "outputId": "8b814257-7fd7-42dc-91ec-cde2865bf33d"
      },
      "source": [
        "# read periods from our external coding\n",
        "periods = get_as_dataframe(PHI_overview.worksheet(\"periods\"))\n",
        "periods"
      ],
      "execution_count": 335,
      "outputs": [
        {
          "output_type": "execute_result",
          "data": {
            "text/html": [
              "<div>\n",
              "<style scoped>\n",
              "    .dataframe tbody tr th:only-of-type {\n",
              "        vertical-align: middle;\n",
              "    }\n",
              "\n",
              "    .dataframe tbody tr th {\n",
              "        vertical-align: top;\n",
              "    }\n",
              "\n",
              "    .dataframe thead th {\n",
              "        text-align: right;\n",
              "    }\n",
              "</style>\n",
              "<table border=\"1\" class=\"dataframe\">\n",
              "  <thead>\n",
              "    <tr style=\"text-align: right;\">\n",
              "      <th></th>\n",
              "      <th>period</th>\n",
              "      <th>start</th>\n",
              "      <th>stop</th>\n",
              "      <th>type</th>\n",
              "      <th>era</th>\n",
              "      <th>source</th>\n",
              "      <th>notes</th>\n",
              "      <th>link</th>\n",
              "    </tr>\n",
              "  </thead>\n",
              "  <tbody>\n",
              "    <tr>\n",
              "      <th>0</th>\n",
              "      <td>Roman imp</td>\n",
              "      <td>-31</td>\n",
              "      <td>410</td>\n",
              "      <td>range+period</td>\n",
              "      <td>AD</td>\n",
              "      <td>PeriodO</td>\n",
              "      <td>NaN</td>\n",
              "      <td>http://n2t.net/ark:/99152/p08m57hqcc5</td>\n",
              "    </tr>\n",
              "    <tr>\n",
              "      <th>1</th>\n",
              "      <td>Rom. Imp</td>\n",
              "      <td>-31</td>\n",
              "      <td>410</td>\n",
              "      <td>range+period</td>\n",
              "      <td>BC/AD</td>\n",
              "      <td>PeriodO</td>\n",
              "      <td>NaN</td>\n",
              "      <td>http://n2t.net/ark:/99152/p08m57hqcc5</td>\n",
              "    </tr>\n",
              "    <tr>\n",
              "      <th>2</th>\n",
              "      <td>aet. imp.</td>\n",
              "      <td>-31</td>\n",
              "      <td>410</td>\n",
              "      <td>range+period</td>\n",
              "      <td>BC/AD</td>\n",
              "      <td>PeriodO</td>\n",
              "      <td>NaN</td>\n",
              "      <td>http://n2t.net/ark:/99152/p08m57hqcc5</td>\n",
              "    </tr>\n",
              "    <tr>\n",
              "      <th>3</th>\n",
              "      <td>aet. Rom.</td>\n",
              "      <td>-146</td>\n",
              "      <td>324</td>\n",
              "      <td>range+period</td>\n",
              "      <td>BC/AD</td>\n",
              "      <td>NaN</td>\n",
              "      <td>NaN</td>\n",
              "      <td>NaN</td>\n",
              "    </tr>\n",
              "    <tr>\n",
              "      <th>4</th>\n",
              "      <td>Roman period</td>\n",
              "      <td>-146</td>\n",
              "      <td>324</td>\n",
              "      <td>range+period</td>\n",
              "      <td>BC/AD</td>\n",
              "      <td>NaN</td>\n",
              "      <td>NaN</td>\n",
              "      <td>NaN</td>\n",
              "    </tr>\n",
              "    <tr>\n",
              "      <th>5</th>\n",
              "      <td>reign of Hadrian</td>\n",
              "      <td>117</td>\n",
              "      <td>138</td>\n",
              "      <td>range+period</td>\n",
              "      <td>AD</td>\n",
              "      <td>PeriodO</td>\n",
              "      <td>NaN</td>\n",
              "      <td>http://n2t.net/ark:/99152/p0jrrjbntfj</td>\n",
              "    </tr>\n",
              "    <tr>\n",
              "      <th>6</th>\n",
              "      <td>reign of Justinian</td>\n",
              "      <td>527</td>\n",
              "      <td>565</td>\n",
              "      <td>range+period</td>\n",
              "      <td>AD</td>\n",
              "      <td>PeriodO</td>\n",
              "      <td>NaN</td>\n",
              "      <td>http://n2t.net/ark:/99152/p06c6g3r7ht</td>\n",
              "    </tr>\n",
              "    <tr>\n",
              "      <th>7</th>\n",
              "      <td>reign of Ant. Pius</td>\n",
              "      <td>138</td>\n",
              "      <td>161</td>\n",
              "      <td>range+period</td>\n",
              "      <td>AD</td>\n",
              "      <td>PeriodO</td>\n",
              "      <td>NaN</td>\n",
              "      <td>http://n2t.net/ark:/99152/p06c6g3drk4</td>\n",
              "    </tr>\n",
              "    <tr>\n",
              "      <th>8</th>\n",
              "      <td>reign of Augustus</td>\n",
              "      <td>-27</td>\n",
              "      <td>14</td>\n",
              "      <td>range+period</td>\n",
              "      <td>BC/AD</td>\n",
              "      <td>PeriodO</td>\n",
              "      <td>NaN</td>\n",
              "      <td>http://n2t.net/ark:/99152/p06c6g3xnmx</td>\n",
              "    </tr>\n",
              "    <tr>\n",
              "      <th>9</th>\n",
              "      <td>reign of Tiberius</td>\n",
              "      <td>14</td>\n",
              "      <td>37</td>\n",
              "      <td>range+period</td>\n",
              "      <td>AD</td>\n",
              "      <td>PeriodO</td>\n",
              "      <td>NaN</td>\n",
              "      <td>http://n2t.net/ark:/99152/p0jrrjbts8w</td>\n",
              "    </tr>\n",
              "    <tr>\n",
              "      <th>10</th>\n",
              "      <td>reign of Claudius</td>\n",
              "      <td>41</td>\n",
              "      <td>54</td>\n",
              "      <td>range+period</td>\n",
              "      <td>AD</td>\n",
              "      <td>PeriodO</td>\n",
              "      <td>NaN</td>\n",
              "      <td>http://n2t.net/ark:/99152/p0jrrjb8spw</td>\n",
              "    </tr>\n",
              "    <tr>\n",
              "      <th>11</th>\n",
              "      <td>reign of Trajan</td>\n",
              "      <td>98</td>\n",
              "      <td>117</td>\n",
              "      <td>range+period</td>\n",
              "      <td>AD</td>\n",
              "      <td>PeriodO</td>\n",
              "      <td>NaN</td>\n",
              "      <td>http://n2t.net/ark:/99152/p0jrrjbj7h3</td>\n",
              "    </tr>\n",
              "    <tr>\n",
              "      <th>12</th>\n",
              "      <td>Christian</td>\n",
              "      <td>1</td>\n",
              "      <td>2000</td>\n",
              "      <td>range+period</td>\n",
              "      <td>AD</td>\n",
              "      <td>Vojtech</td>\n",
              "      <td>NaN</td>\n",
              "      <td>NaN</td>\n",
              "    </tr>\n",
              "    <tr>\n",
              "      <th>13</th>\n",
              "      <td>Byzantine per</td>\n",
              "      <td>324</td>\n",
              "      <td>1453</td>\n",
              "      <td>range+period</td>\n",
              "      <td>AD</td>\n",
              "      <td>PeriodO</td>\n",
              "      <td>NaN</td>\n",
              "      <td>http://n2t.net/ark:/99152/p0m63njtm6w</td>\n",
              "    </tr>\n",
              "    <tr>\n",
              "      <th>14</th>\n",
              "      <td>Byzant. per</td>\n",
              "      <td>324</td>\n",
              "      <td>1453</td>\n",
              "      <td>range+period</td>\n",
              "      <td>AD</td>\n",
              "      <td>PeriodO</td>\n",
              "      <td>NaN</td>\n",
              "      <td>http://n2t.net/ark:/99152/p0m63njtm6w</td>\n",
              "    </tr>\n",
              "    <tr>\n",
              "      <th>15</th>\n",
              "      <td>Byzantium</td>\n",
              "      <td>330</td>\n",
              "      <td>1453</td>\n",
              "      <td>range+period</td>\n",
              "      <td>AD</td>\n",
              "      <td>PeriodO</td>\n",
              "      <td>NaN</td>\n",
              "      <td>http://n2t.net/ark:/99152/p08vvjk5t32</td>\n",
              "    </tr>\n",
              "    <tr>\n",
              "      <th>16</th>\n",
              "      <td>Hellenistic</td>\n",
              "      <td>-330</td>\n",
              "      <td>-30</td>\n",
              "      <td>range+period</td>\n",
              "      <td>BC</td>\n",
              "      <td>PeriodO</td>\n",
              "      <td>NaN</td>\n",
              "      <td>http://n2t.net/ark:/99152/p03wskd55sw</td>\n",
              "    </tr>\n",
              "    <tr>\n",
              "      <th>17</th>\n",
              "      <td>Late Antiquity</td>\n",
              "      <td>284</td>\n",
              "      <td>476</td>\n",
              "      <td>range+period</td>\n",
              "      <td>AD</td>\n",
              "      <td>PeriodO</td>\n",
              "      <td>NaN</td>\n",
              "      <td>http://n2t.net/ark:/99152/p0jrrjb67vs</td>\n",
              "    </tr>\n",
              "    <tr>\n",
              "      <th>18</th>\n",
              "      <td>Claudian</td>\n",
              "      <td>41</td>\n",
              "      <td>54</td>\n",
              "      <td>range+period</td>\n",
              "      <td>AD</td>\n",
              "      <td>PeriodO</td>\n",
              "      <td>NaN</td>\n",
              "      <td>http://n2t.net/ark:/99152/p0jrrjb8spw</td>\n",
              "    </tr>\n",
              "    <tr>\n",
              "      <th>19</th>\n",
              "      <td>Trajanic</td>\n",
              "      <td>98</td>\n",
              "      <td>117</td>\n",
              "      <td>range+period</td>\n",
              "      <td>AD</td>\n",
              "      <td>PeriodO</td>\n",
              "      <td>NaN</td>\n",
              "      <td>http://n2t.net/ark:/99152/p0jrrjbj7h3</td>\n",
              "    </tr>\n",
              "    <tr>\n",
              "      <th>20</th>\n",
              "      <td>Hadrianic</td>\n",
              "      <td>117</td>\n",
              "      <td>138</td>\n",
              "      <td>range+period</td>\n",
              "      <td>AD</td>\n",
              "      <td>PeriodO</td>\n",
              "      <td>NaN</td>\n",
              "      <td>http://n2t.net/ark:/99152/p0jrrjbntfj</td>\n",
              "    </tr>\n",
              "    <tr>\n",
              "      <th>21</th>\n",
              "      <td>Antonine period</td>\n",
              "      <td>96</td>\n",
              "      <td>192</td>\n",
              "      <td>range+period</td>\n",
              "      <td>AD</td>\n",
              "      <td>PeriodO</td>\n",
              "      <td>NaN</td>\n",
              "      <td>http://n2t.net/ark:/99152/p06c6g34zjk</td>\n",
              "    </tr>\n",
              "    <tr>\n",
              "      <th>22</th>\n",
              "      <td>Severan period</td>\n",
              "      <td>193</td>\n",
              "      <td>235</td>\n",
              "      <td>range+period</td>\n",
              "      <td>AD</td>\n",
              "      <td>PeriodO</td>\n",
              "      <td>NaN</td>\n",
              "      <td>http://n2t.net/ark:/99152/p0jrrjbtf3t</td>\n",
              "    </tr>\n",
              "  </tbody>\n",
              "</table>\n",
              "</div>"
            ],
            "text/plain": [
              "                period  start  ...  notes                                   link\n",
              "0            Roman imp    -31  ...    NaN  http://n2t.net/ark:/99152/p08m57hqcc5\n",
              "1             Rom. Imp    -31  ...    NaN  http://n2t.net/ark:/99152/p08m57hqcc5\n",
              "2            aet. imp.    -31  ...    NaN  http://n2t.net/ark:/99152/p08m57hqcc5\n",
              "3            aet. Rom.   -146  ...    NaN                                    NaN\n",
              "4         Roman period   -146  ...    NaN                                    NaN\n",
              "5     reign of Hadrian    117  ...    NaN  http://n2t.net/ark:/99152/p0jrrjbntfj\n",
              "6   reign of Justinian    527  ...    NaN  http://n2t.net/ark:/99152/p06c6g3r7ht\n",
              "7   reign of Ant. Pius    138  ...    NaN  http://n2t.net/ark:/99152/p06c6g3drk4\n",
              "8    reign of Augustus    -27  ...    NaN  http://n2t.net/ark:/99152/p06c6g3xnmx\n",
              "9    reign of Tiberius     14  ...    NaN  http://n2t.net/ark:/99152/p0jrrjbts8w\n",
              "10   reign of Claudius     41  ...    NaN  http://n2t.net/ark:/99152/p0jrrjb8spw\n",
              "11     reign of Trajan     98  ...    NaN  http://n2t.net/ark:/99152/p0jrrjbj7h3\n",
              "12          Christian       1  ...    NaN                                    NaN\n",
              "13       Byzantine per    324  ...    NaN  http://n2t.net/ark:/99152/p0m63njtm6w\n",
              "14         Byzant. per    324  ...    NaN  http://n2t.net/ark:/99152/p0m63njtm6w\n",
              "15           Byzantium    330  ...    NaN  http://n2t.net/ark:/99152/p08vvjk5t32\n",
              "16         Hellenistic   -330  ...    NaN  http://n2t.net/ark:/99152/p03wskd55sw\n",
              "17      Late Antiquity    284  ...    NaN  http://n2t.net/ark:/99152/p0jrrjb67vs\n",
              "18            Claudian     41  ...    NaN  http://n2t.net/ark:/99152/p0jrrjb8spw\n",
              "19            Trajanic     98  ...    NaN  http://n2t.net/ark:/99152/p0jrrjbj7h3\n",
              "20           Hadrianic    117  ...    NaN  http://n2t.net/ark:/99152/p0jrrjbntfj\n",
              "21     Antonine period     96  ...    NaN  http://n2t.net/ark:/99152/p06c6g34zjk\n",
              "22      Severan period    193  ...    NaN  http://n2t.net/ark:/99152/p0jrrjbtf3t\n",
              "\n",
              "[23 rows x 8 columns]"
            ]
          },
          "metadata": {
            "tags": []
          },
          "execution_count": 335
        }
      ]
    },
    {
      "cell_type": "code",
      "metadata": {
        "id": "KVTN1NZ2A6k9",
        "colab_type": "code",
        "colab": {
          "base_uri": "https://localhost:8080/",
          "height": 136
        },
        "outputId": "0f4db220-a5e0-4a23-e728-9e016f14c442"
      },
      "source": [
        "periods_dict = periods.set_index(\"period\").T.to_dict()\n",
        "periods_dict[\"reign of Claudius\"]"
      ],
      "execution_count": 336,
      "outputs": [
        {
          "output_type": "execute_result",
          "data": {
            "text/plain": [
              "{'era': 'AD',\n",
              " 'link': 'http://n2t.net/ark:/99152/p0jrrjb8spw',\n",
              " 'notes': nan,\n",
              " 'source': 'PeriodO',\n",
              " 'start': 41,\n",
              " 'stop': 54,\n",
              " 'type': 'range+period'}"
            ]
          },
          "metadata": {
            "tags": []
          },
          "execution_count": 336
        }
      ]
    },
    {
      "cell_type": "code",
      "metadata": {
        "id": "p0xn4I-pPtYY",
        "colab_type": "code",
        "colab": {}
      },
      "source": [
        "def extract_period(datation, dating=None):\n",
        "  if (dating==None): dating = {\"type\" : \"unknown\"} \n",
        "  if dating[\"type\"] == \"unknown\":\n",
        "    for key in periods_dict.keys():\n",
        "      if key.lower() in datation.lower(): # use lower cases to match everything\n",
        "        period = periods_dict[key]   \n",
        "        dating_update = period\n",
        "        break\n",
        "      else:\n",
        "        dating_update = {\"type\" : \"unknown\"}\n",
        "    return dating_update\n",
        "  else:\n",
        "    return dating\n"
      ],
      "execution_count": 337,
      "outputs": []
    },
    {
      "cell_type": "code",
      "metadata": {
        "id": "_ucDtS79Y-kj",
        "colab_type": "code",
        "colab": {
          "base_uri": "https://localhost:8080/",
          "height": 68
        },
        "outputId": "b4819c36-c66b-4959-eff8-c6e54a9973f1"
      },
      "source": [
        "# example:\n",
        "for datation in [\"Roman Imperial\", \"reign of Augustus\", \"Antonine period\"]:\n",
        "  print({datation : extract_period(datation)})"
      ],
      "execution_count": 338,
      "outputs": [
        {
          "output_type": "stream",
          "text": [
            "{'Roman Imperial': {'start': -31, 'stop': 410, 'type': 'range+period', 'era': 'AD', 'source': 'PeriodO', 'notes': nan, 'link': 'http://n2t.net/ark:/99152/p08m57hqcc5'}}\n",
            "{'reign of Augustus': {'start': -27, 'stop': 14, 'type': 'range+period', 'era': 'BC/AD', 'source': 'PeriodO', 'notes': nan, 'link': 'http://n2t.net/ark:/99152/p06c6g3xnmx'}}\n",
            "{'Antonine period': {'start': 96, 'stop': 192, 'type': 'range+period', 'era': 'AD', 'source': 'PeriodO', 'notes': nan, 'link': 'http://n2t.net/ark:/99152/p06c6g34zjk'}}\n"
          ],
          "name": "stdout"
        }
      ]
    },
    {
      "cell_type": "markdown",
      "metadata": {
        "colab_type": "text",
        "id": "gqnMB8TXIFKM"
      },
      "source": [
        "# Parse \"/\" for individual dates\n",
        "\n",
        "The \"/\" character is use in several different cases, each of which requires slightly different approach. Here we are parsing cases in which it is used for individual date numbers, e.g. \"114/3 BC\", what is translated as an interval (-114, -113). However, if there is a loger range between the two numbers, the \"/\" character is treated as \"or\" and the alternative date is extracted into the \"or\" key within the dictionary."
      ]
    },
    {
      "cell_type": "code",
      "metadata": {
        "id": "1L35w0JIDiGF",
        "colab_type": "code",
        "colab": {
          "base_uri": "https://localhost:8080/",
          "height": 68
        },
        "outputId": "57d157b3-d5f7-450b-b62e-2de27b70dce3"
      },
      "source": [
        "ors = PHI_by_500[PHI_by_500[\"raw_date\"].str.contains(\"(\\d+)(\\/)(\\d+)\")][raw_date\"].tolist()\n",
        "len(ors)"
      ],
      "execution_count": 92,
      "outputs": [
        {
          "output_type": "stream",
          "text": [
            "/usr/local/lib/python3.6/dist-packages/pandas/core/strings.py:1954: UserWarning: This pattern has match groups. To actually get the groups, use str.extract.\n",
            "  return func(self, *args, **kwargs)\n"
          ],
          "name": "stderr"
        },
        {
          "output_type": "execute_result",
          "data": {
            "text/plain": [
              "9664"
            ]
          },
          "metadata": {
            "tags": []
          },
          "execution_count": 92
        }
      ]
    },
    {
      "cell_type": "code",
      "metadata": {
        "id": "cFYx8Y8bLobP",
        "colab_type": "code",
        "colab": {
          "base_uri": "https://localhost:8080/",
          "height": 187
        },
        "outputId": "4edc6a45-59e3-4445-cbe0-56dbacb320ee"
      },
      "source": [
        "# examples of more \"/\" combined with \"-\"\n",
        "[datation for datation in ors if re.search(r'(\\d+)(\\/)(\\d+).?-.?(\\d+)(\\/)(\\d+)', datation)][:10]"
      ],
      "execution_count": 108,
      "outputs": [
        {
          "output_type": "execute_result",
          "data": {
            "text/plain": [
              "['139/8-122/1 BC ',\n",
              " '217/8-226/7 AD?',\n",
              " '331/0-330/29 a.',\n",
              " 'c. 231/0-230/29',\n",
              " 'c. 176/5-170/69',\n",
              " 'c. 176/5-170/69',\n",
              " '167/6-165/4? a.',\n",
              " '74/3-63/2 a.',\n",
              " '132/3-137/8',\n",
              " '132/3-137/8']"
            ]
          },
          "metadata": {
            "tags": []
          },
          "execution_count": 108
        }
      ]
    },
    {
      "cell_type": "code",
      "metadata": {
        "id": "8GQhbPz_D21t",
        "colab_type": "code",
        "colab": {
          "base_uri": "https://localhost:8080/",
          "height": 187
        },
        "outputId": "0c3af3b7-a1bb-455d-c35a-1c94be0c28b6"
      },
      "source": [
        "# examples of more \"/\" combined with \" or \"\n",
        "[datation for datation in ors if re.search(r'(\\d+)(\\/)(\\d+)().?(\\sor\\s).?(\\d+)(\\/)(\\d+)', datation)][:10]"
      ],
      "execution_count": 124,
      "outputs": [
        {
          "output_type": "execute_result",
          "data": {
            "text/plain": [
              "['27/6 or 17/8?',\n",
              " '186/5, 162/1 or 151/0 BC?',\n",
              " '186/5, 162/1 or 151/0 BC?',\n",
              " '14/13 or 9/8 BC',\n",
              " '14/13 or 13/12 BC ',\n",
              " '129/130 or 245/246 AD [229/230 AD (Tataki, Ed. Pr.)] ',\n",
              " '268/7 or 265/4 a. ',\n",
              " '267/6 or 265/4 a. ',\n",
              " '564/5 or 464/5 AD',\n",
              " '578/9 or 494/5 AD']"
            ]
          },
          "metadata": {
            "tags": []
          },
          "execution_count": 124
        }
      ]
    },
    {
      "cell_type": "code",
      "metadata": {
        "colab_type": "code",
        "id": "LCHbxCIBIFKO",
        "colab": {}
      },
      "source": [
        "def complete_numbers(datation, date1, date2):\n",
        "  # if the second number contains less numerals, try to complete it\n",
        "  len_diff = len(date1) - len(date2)\n",
        "  if len_diff > 0:\n",
        "    date2 = date1[:len_diff] + date2\n",
        "  # transform it into integer\n",
        "  date1 = int(date1)\n",
        "  date2 = int(date2)\n",
        "  if (\"AD\" not in datation) and (date1 > date2):\n",
        "    date1 = date1 * -1\n",
        "    date2 = date2 * -1\n",
        "    #if date1 > date2:\n",
        "       #  date1, date2 = date2, date1\n",
        "  return date1, date2\n",
        "\n",
        "def match_or(datation, dating=None):\n",
        "  if dating==None: dating = {\"type\" : \"unknown\"}\n",
        "  if dating[\"type\"] == \"unknown\":\n",
        "    matches = re.findall(r'(\\d+)(\\/)(\\d+)', str(datation), flags=re.IGNORECASE)\n",
        "    if len(matches) != 0:\n",
        "        date1, date2 = complete_numbers(datation, matches[0][0], matches[0][2])\n",
        "        if len(matches) > 1: # if there is more than one match\n",
        "          date3, date4 = complete_numbers(datation, matches[1][0], matches[1][2])         \n",
        "        #if date1 > date2:\n",
        "        #  date1, date2 = date2, date1\n",
        "        if re.search(r'(\\d+)(\\/)(\\d+)().?(\\sor\\s).?(\\d+)(\\/)(\\d+)', datation):\n",
        "          if abs(date1 - date4) < 5: # if it is something like \"331/0 or 330/29 BC\"\n",
        "            dating.update({\"start\" : date1, \"stop\": date4, \"type\" : \"range\"})\n",
        "          else: # treat the or numbers as an alternative range\n",
        "            dating.update({\"start\" : date1, \"stop\": date2, \"type\" : \"range+or\", \"or\": {\"start\" : date3, \"stop\": date4, \"type\" : \"range\"}})\n",
        "        elif re.search(r'(\\d+)(\\/)(\\d+).?-.?(\\d+)(\\/)(\\d+)', datation):\n",
        "          dating.update({\"start\" : date1, \"stop\": date4, \"type\" : \"range\"})\n",
        "        else:\n",
        "          if abs(date1 - date2) < 3:\n",
        "            dating.update({\"start\" : date1, \"stop\": date2, \"type\" : \"range\"})\n",
        "          else:\n",
        "            dating.update({\"exact\" : date1, \"or\": {\"exact\" : date2, \"type\" : \"exact\"}, \"type\" : \"exact+or\"})\n",
        "        dating = extract_ante_and_post(datation, dating)\n",
        "        return dating\n",
        "        #if dating_update[\"type\"] == \"post\":\n",
        "        #   return {\"start\" : date1, \"or\": {\"start\" : date2, \"type\" : \"post\"}, \"type\" : \"post+or\"}\n",
        "        #elif extract_ante_and_post(datation, dating)[\"type\"] == \"ante\":\n",
        "        #  return {\"stop\" : date1, \"or\": {\"stop\" : date2, \"type\" : \"ante\"}, \"type\" : \"ante+or\"}\n",
        "        #else:\n",
        "        #  return {\"exact\" : date1, \"or\": {\"exact\" : date2, \"type\" : \"exact\"}, \"type\" : \"exact+or\"}\n",
        "    else:\n",
        "      return dating\n",
        "  return {\"type\" : \"unknown\"}"
      ],
      "execution_count": 354,
      "outputs": []
    },
    {
      "cell_type": "code",
      "metadata": {
        "id": "Jdjp1OKErR-t",
        "colab_type": "code",
        "colab": {
          "base_uri": "https://localhost:8080/",
          "height": 34
        },
        "outputId": "c95d4b5a-7442-4b6b-bc0c-ed6225b33f32"
      },
      "source": [
        "match_or(\"5th or 4th c. BC\")"
      ],
      "execution_count": 356,
      "outputs": [
        {
          "output_type": "execute_result",
          "data": {
            "text/plain": [
              "{'type': 'unknown'}"
            ]
          },
          "metadata": {
            "tags": []
          },
          "execution_count": 356
        }
      ]
    },
    {
      "cell_type": "code",
      "metadata": {
        "id": "Us522n9frYj6",
        "colab_type": "code",
        "colab": {
          "base_uri": "https://localhost:8080/",
          "height": 34
        },
        "outputId": "14098444-e156-41ba-ed9e-6cfdd1146336"
      },
      "source": [
        "match_or(\" 12/1 BC\")"
      ],
      "execution_count": 357,
      "outputs": [
        {
          "output_type": "execute_result",
          "data": {
            "text/plain": [
              "{'start': -12, 'stop': -11, 'type': 'range'}"
            ]
          },
          "metadata": {
            "tags": []
          },
          "execution_count": 357
        }
      ]
    },
    {
      "cell_type": "code",
      "metadata": {
        "id": "EHQm6j1PAmwH",
        "colab_type": "code",
        "colab": {
          "base_uri": "https://localhost:8080/",
          "height": 34
        },
        "outputId": "a45024b4-0812-4668-d13d-c7f5fdd6a487"
      },
      "source": [
        "match_or(\"229/30 or 230/1\")"
      ],
      "execution_count": 358,
      "outputs": [
        {
          "output_type": "execute_result",
          "data": {
            "text/plain": [
              "{'start': 229, 'stop': 231, 'type': 'range'}"
            ]
          },
          "metadata": {
            "tags": []
          },
          "execution_count": 358
        }
      ]
    },
    {
      "cell_type": "code",
      "metadata": {
        "id": "bSTZyAG7OZ27",
        "colab_type": "code",
        "colab": {
          "base_uri": "https://localhost:8080/",
          "height": 85
        },
        "outputId": "5d6b58fe-a9ae-4fb8-8a7d-210f16ad3b95"
      },
      "source": [
        "match_or(\"27/6 or 17/8\")"
      ],
      "execution_count": 359,
      "outputs": [
        {
          "output_type": "execute_result",
          "data": {
            "text/plain": [
              "{'or': {'start': 17, 'stop': 18, 'type': 'range'},\n",
              " 'start': -27,\n",
              " 'stop': -26,\n",
              " 'type': 'range+or'}"
            ]
          },
          "metadata": {
            "tags": []
          },
          "execution_count": 359
        }
      ]
    },
    {
      "cell_type": "code",
      "metadata": {
        "id": "SJqu9B3hPEzi",
        "colab_type": "code",
        "colab": {
          "base_uri": "https://localhost:8080/",
          "height": 34
        },
        "outputId": "cd3102bb-cd48-473d-f6de-33da4e4f1875"
      },
      "source": [
        "match_or(\"14/13 or 13/12 BC\")"
      ],
      "execution_count": 360,
      "outputs": [
        {
          "output_type": "execute_result",
          "data": {
            "text/plain": [
              "{'start': -14, 'stop': -12, 'type': 'range'}"
            ]
          },
          "metadata": {
            "tags": []
          },
          "execution_count": 360
        }
      ]
    },
    {
      "cell_type": "code",
      "metadata": {
        "id": "2WSle2OPQwNp",
        "colab_type": "code",
        "colab": {
          "base_uri": "https://localhost:8080/",
          "height": 34
        },
        "outputId": "9d8c5167-adda-486f-996d-071d56d4dda4"
      },
      "source": [
        "match_or(\"aft. 14/13 or 13/12 BC\")"
      ],
      "execution_count": 361,
      "outputs": [
        {
          "output_type": "execute_result",
          "data": {
            "text/plain": [
              "{'start': -11, 'stop': None, 'type': 'range+post'}"
            ]
          },
          "metadata": {
            "tags": []
          },
          "execution_count": 361
        }
      ]
    },
    {
      "cell_type": "code",
      "metadata": {
        "id": "9R-CqfEEOw7M",
        "colab_type": "code",
        "colab": {
          "base_uri": "https://localhost:8080/",
          "height": 34
        },
        "outputId": "6faf843b-fc99-4ffe-fc39-513484af9bd1"
      },
      "source": [
        "match_or(\"139/8-122/1 BC\")"
      ],
      "execution_count": 362,
      "outputs": [
        {
          "output_type": "execute_result",
          "data": {
            "text/plain": [
              "{'start': -139, 'stop': -121, 'type': 'range'}"
            ]
          },
          "metadata": {
            "tags": []
          },
          "execution_count": 362
        }
      ]
    },
    {
      "cell_type": "markdown",
      "metadata": {
        "id": "ObqKKNvRInTm",
        "colab_type": "text"
      },
      "source": [
        "# Parse phase"
      ]
    },
    {
      "cell_type": "code",
      "metadata": {
        "id": "TjZtW6x-TG4S",
        "colab_type": "code",
        "colab": {}
      },
      "source": [
        "# parametrization \n",
        "early_late = 0.25 # i.e. first or last 25% of the range\n",
        "beginning_end = 0.1 # i.e. first or last 25% of the range\n",
        "middle = 0.05 # i.e. 5% left of the middle, 5% right of the middle\n",
        "ca = 0.1 # i.e. plus 10% of the range on the left side and plus 10% on the right side"
      ],
      "execution_count": 197,
      "outputs": []
    },
    {
      "cell_type": "code",
      "metadata": {
        "id": "JOdAmuZXJhGZ",
        "colab_type": "code",
        "colab": {}
      },
      "source": [
        "# application of this function requires that you already have a dating dictionary having either start and stop or an exact date (for \"ca.\")\n",
        "def modify_by_phase(datation, dating):\n",
        "  if (not \"phase\" in dating[\"type\"]) and (not \"morece\" in dating[\"type\"]):\n",
        "    try:\n",
        "      start, stop = dating[\"start\"], dating[\"stop\"]\n",
        "      try: \n",
        "        duration = abs(dating[\"stop\"] - dating[\"start\"])\n",
        "      except:\n",
        "        duration = 1\n",
        "      datation = datation.lower()\n",
        "      if \"early\" in datation:\n",
        "        coef = early_late\n",
        "        dating[\"stop\"] = start + round(duration * coef)\n",
        "        dating[\"type\"] = dating[\"type\"] + \"+phase+early\"\n",
        "      if \"late\" in datation:\n",
        "        if \"late antiquity\" not in datation:\n",
        "          coef = early_late\n",
        "          dating[\"start\"] = stop - round(duration * coef)\n",
        "          dating[\"type\"] = dating[\"type\"] + \"+phase+late\"\n",
        "      if re.search(\"(beginning|beg\\.?\\s)\", datation):\n",
        "        coef = beginning_end\n",
        "        dating[\"stop\"] = start + round(duration * coef)\n",
        "        dating[\"type\"] = dating[\"type\"] + \"+phase+beg\"\n",
        "      if re.search(\"(end\\s|fin.\\s)\", datation):\n",
        "        coef = beginning_end\n",
        "        dating[\"start\"] = stop - round(duration * coef)\n",
        "        dating[\"type\"] = dating[\"type\"] + \"+phase+end\"\n",
        "      if re.search(\"(middle|mid\\.?\\s|med\\.\\s)\", datation):\n",
        "        coef = middle # that means: \"middle 2nd c. AD\" => 140 - 161\n",
        "        dating_avr = (dating[\"start\"] + dating[\"stop\"]) / 2\n",
        "        dating[\"start\"] = round(dating_avr - (coef * duration))\n",
        "        dating[\"stop\"] = round(dating_avr + (coef * duration))\n",
        "        dating[\"type\"] = dating[\"type\"] + \"+phase+middle\"\n",
        "      if re.search(\"ca\\.\\s\", datation):\n",
        "        dating[\"type\"] = dating[\"type\"] + \"+phase+ca\"\n",
        "        if (\"exact\" in dating[\"type\"]) or duration < 10:\n",
        "          dating.update({\"start\" : dating[\"exact\"] - 5, \"stop\" : dating[\"exact\"] + 5})\n",
        "          dating[\"exact\"] = None\n",
        "        else:\n",
        "          dating[\"start\"] = start - round(duration * ca)\n",
        "          dating[\"stop\"] = stop + round(duration * ca)\n",
        "      return dating\n",
        "    except:\n",
        "      return dating\n",
        "  else: \n",
        "    return dating"
      ],
      "execution_count": 198,
      "outputs": []
    },
    {
      "cell_type": "code",
      "metadata": {
        "id": "zlnUZvAFaAhu",
        "colab_type": "code",
        "colab": {
          "base_uri": "https://localhost:8080/",
          "height": 34
        },
        "outputId": "c7099fa0-e90b-4bac-830d-0ebc32cd4c19"
      },
      "source": [
        "# example 1: \"ca.\" in case of individual date\n",
        "datation = \"ca. 200 BC\"\n",
        "dating = {\"start\" : None, \"stop\" : None, \"exact\" : -200, \"type\" : \"exact\", \"era\" : \"BC\"}\n",
        "print(modify_by_phase(datation, dating))"
      ],
      "execution_count": 403,
      "outputs": [
        {
          "output_type": "stream",
          "text": [
            "{'start': -205, 'stop': -195, 'exact': None, 'type': 'exact+phase+ca', 'era': 'BC'}\n"
          ],
          "name": "stdout"
        }
      ]
    },
    {
      "cell_type": "code",
      "metadata": {
        "id": "A0S-JHUjOIm8",
        "colab_type": "code",
        "colab": {
          "base_uri": "https://localhost:8080/",
          "height": 34
        },
        "outputId": "ed862bb0-7deb-4f45-b545-0773b10f0bc5"
      },
      "source": [
        "#  example 2: \"ca.\" in case of century\n",
        "datation = \"ca. s. II BC\"\n",
        "dating = {\"start\" : -200, \"stop\" : -101, \"type\" : \"range+cent\"}\n",
        "print(modify_by_phase(datation, dating))"
      ],
      "execution_count": 155,
      "outputs": [
        {
          "output_type": "stream",
          "text": [
            "{'start': -210, 'stop': -91, 'type': 'range+cent+phase+ca'}\n"
          ],
          "name": "stdout"
        }
      ]
    },
    {
      "cell_type": "code",
      "metadata": {
        "id": "IKELyfP_847o",
        "colab_type": "code",
        "colab": {
          "base_uri": "https://localhost:8080/",
          "height": 34
        },
        "outputId": "06732c6f-c1cd-417e-d733-78d1a4735b4e"
      },
      "source": [
        "#  example 3: \"early\"\n",
        "datation = \"early 2nd BC\"\n",
        "dating = {\"start\" : -200, \"stop\" : -101, \"type\" : \"range+cent\"}\n",
        "print(modify_by_phase(datation, dating))"
      ],
      "execution_count": 156,
      "outputs": [
        {
          "output_type": "stream",
          "text": [
            "{'start': -200, 'stop': -175, 'type': 'range+cent+phase+early'}\n"
          ],
          "name": "stdout"
        }
      ]
    },
    {
      "cell_type": "markdown",
      "metadata": {
        "id": "Wmnv7TMsCwqz",
        "colab_type": "text"
      },
      "source": [
        "# Parse centuries"
      ]
    },
    {
      "cell_type": "code",
      "metadata": {
        "id": "a4p8-HnxQ0SW",
        "colab_type": "code",
        "colab": {
          "base_uri": "https://localhost:8080/",
          "height": 328
        },
        "outputId": "315675a2-d24b-4f35-d3ad-918bbbe644f1"
      },
      "source": [
        "# read centuries table from gsheet\n",
        "centuries_df = get_as_dataframe(PHI_overview.worksheet(\"centuries\"))\n",
        "centuries_df.set_index(\"arabic\", inplace=True)\n",
        "centuries_df"
      ],
      "execution_count": 157,
      "outputs": [
        {
          "output_type": "execute_result",
          "data": {
            "text/html": [
              "<div>\n",
              "<style scoped>\n",
              "    .dataframe tbody tr th:only-of-type {\n",
              "        vertical-align: middle;\n",
              "    }\n",
              "\n",
              "    .dataframe tbody tr th {\n",
              "        vertical-align: top;\n",
              "    }\n",
              "\n",
              "    .dataframe thead th {\n",
              "        text-align: right;\n",
              "    }\n",
              "</style>\n",
              "<table border=\"1\" class=\"dataframe\">\n",
              "  <thead>\n",
              "    <tr style=\"text-align: right;\">\n",
              "      <th></th>\n",
              "      <th>roman</th>\n",
              "      <th>start_BC</th>\n",
              "      <th>stop_BC</th>\n",
              "      <th>start_AD</th>\n",
              "      <th>stop_AD</th>\n",
              "    </tr>\n",
              "    <tr>\n",
              "      <th>arabic</th>\n",
              "      <th></th>\n",
              "      <th></th>\n",
              "      <th></th>\n",
              "      <th></th>\n",
              "      <th></th>\n",
              "    </tr>\n",
              "  </thead>\n",
              "  <tbody>\n",
              "    <tr>\n",
              "      <th>8th</th>\n",
              "      <td>VIII</td>\n",
              "      <td>-800</td>\n",
              "      <td>-701</td>\n",
              "      <td>701</td>\n",
              "      <td>800</td>\n",
              "    </tr>\n",
              "    <tr>\n",
              "      <th>7th</th>\n",
              "      <td>VII</td>\n",
              "      <td>-700</td>\n",
              "      <td>-601</td>\n",
              "      <td>601</td>\n",
              "      <td>700</td>\n",
              "    </tr>\n",
              "    <tr>\n",
              "      <th>6th</th>\n",
              "      <td>VI</td>\n",
              "      <td>-600</td>\n",
              "      <td>-501</td>\n",
              "      <td>501</td>\n",
              "      <td>600</td>\n",
              "    </tr>\n",
              "    <tr>\n",
              "      <th>4th</th>\n",
              "      <td>IV</td>\n",
              "      <td>-400</td>\n",
              "      <td>-301</td>\n",
              "      <td>301</td>\n",
              "      <td>400</td>\n",
              "    </tr>\n",
              "    <tr>\n",
              "      <th>5th</th>\n",
              "      <td>V</td>\n",
              "      <td>-500</td>\n",
              "      <td>401</td>\n",
              "      <td>401</td>\n",
              "      <td>500</td>\n",
              "    </tr>\n",
              "    <tr>\n",
              "      <th>3rd</th>\n",
              "      <td>III</td>\n",
              "      <td>-300</td>\n",
              "      <td>-201</td>\n",
              "      <td>201</td>\n",
              "      <td>300</td>\n",
              "    </tr>\n",
              "    <tr>\n",
              "      <th>2nd</th>\n",
              "      <td>II</td>\n",
              "      <td>-200</td>\n",
              "      <td>-101</td>\n",
              "      <td>101</td>\n",
              "      <td>200</td>\n",
              "    </tr>\n",
              "    <tr>\n",
              "      <th>1st</th>\n",
              "      <td>I</td>\n",
              "      <td>-100</td>\n",
              "      <td>-1</td>\n",
              "      <td>1</td>\n",
              "      <td>100</td>\n",
              "    </tr>\n",
              "  </tbody>\n",
              "</table>\n",
              "</div>"
            ],
            "text/plain": [
              "       roman  start_BC  stop_BC  start_AD  stop_AD\n",
              "arabic                                            \n",
              "8th     VIII      -800     -701       701      800\n",
              "7th      VII      -700     -601       601      700\n",
              "6th       VI      -600     -501       501      600\n",
              "4th       IV      -400     -301       301      400\n",
              "5th        V      -500      401       401      500\n",
              "3rd      III      -300     -201       201      300\n",
              "2nd       II      -200     -101       101      200\n",
              "1st        I      -100       -1         1      100"
            ]
          },
          "metadata": {
            "tags": []
          },
          "execution_count": 157
        }
      ]
    },
    {
      "cell_type": "code",
      "metadata": {
        "id": "Ss7wRjSfhN55",
        "colab_type": "code",
        "colab": {
          "base_uri": "https://localhost:8080/",
          "height": 34
        },
        "outputId": "06b59148-e529-40de-d3ec-8f07cb01b6bf"
      },
      "source": [
        "arabics = centuries_df.index.tolist()\n",
        "arabics"
      ],
      "execution_count": 158,
      "outputs": [
        {
          "output_type": "execute_result",
          "data": {
            "text/plain": [
              "['8th', '7th', '6th', '4th', '5th', '3rd', '2nd', '1st']"
            ]
          },
          "metadata": {
            "tags": []
          },
          "execution_count": 158
        }
      ]
    },
    {
      "cell_type": "code",
      "metadata": {
        "id": "7itHvFW6hWxh",
        "colab_type": "code",
        "colab": {
          "base_uri": "https://localhost:8080/",
          "height": 34
        },
        "outputId": "f3ea9dc0-1e04-45d0-a7ad-acee09017cd2"
      },
      "source": [
        "centuries_df[\"roman\"].tolist()"
      ],
      "execution_count": 159,
      "outputs": [
        {
          "output_type": "execute_result",
          "data": {
            "text/plain": [
              "['VIII', 'VII', 'VI', 'IV', 'V', 'III', 'II', 'I']"
            ]
          },
          "metadata": {
            "tags": []
          },
          "execution_count": 159
        }
      ]
    },
    {
      "cell_type": "code",
      "metadata": {
        "id": "dDw8xTdGg2RG",
        "colab_type": "code",
        "colab": {
          "base_uri": "https://localhost:8080/",
          "height": 34
        },
        "outputId": "2bbe5f6f-2427-45e8-8596-cbdd98967e3a"
      },
      "source": [
        "# navigating through the dataframe using index and \".loc[]\"\n",
        "centuries_df.loc[\"3rd\"][\"roman\"]"
      ],
      "execution_count": 160,
      "outputs": [
        {
          "output_type": "execute_result",
          "data": {
            "text/plain": [
              "'III'"
            ]
          },
          "metadata": {
            "tags": []
          },
          "execution_count": 160
        }
      ]
    },
    {
      "cell_type": "code",
      "metadata": {
        "id": "Wj22yZ8srQQZ",
        "colab_type": "code",
        "colab": {
          "base_uri": "https://localhost:8080/",
          "height": 34
        },
        "outputId": "fc90a38e-49a4-42e1-ebb1-f94538706578"
      },
      "source": [
        "any(re.search(arabic, \"2nd c. AD\") for arabic in arabics)"
      ],
      "execution_count": 163,
      "outputs": [
        {
          "output_type": "execute_result",
          "data": {
            "text/plain": [
              "True"
            ]
          },
          "metadata": {
            "tags": []
          },
          "execution_count": 163
        }
      ]
    },
    {
      "cell_type": "code",
      "metadata": {
        "id": "HtZWj1nWcBB0",
        "colab_type": "code",
        "colab": {
          "base_uri": "https://localhost:8080/",
          "height": 34
        },
        "outputId": "52dd23ee-f16d-4304-d9a8-ef0adff11792"
      },
      "source": [
        "datation = \"III bagrt\"\n",
        "cent = \"III\"\n",
        "match =  re.search(\"^\\s?\" + cent + \"(\\s|$|/|-)\", datation)\n",
        "if match:\n",
        "  print(match)"
      ],
      "execution_count": 233,
      "outputs": [
        {
          "output_type": "stream",
          "text": [
            "<_sre.SRE_Match object; span=(0, 4), match='III '>\n"
          ],
          "name": "stdout"
        }
      ]
    },
    {
      "cell_type": "code",
      "metadata": {
        "id": "yM6g97A6UA-m",
        "colab_type": "code",
        "colab": {}
      },
      "source": [
        "def parse_centuries(datation, dating=None):\n",
        "  if dating==None: dating = {\"type\" : \"unknown\"}\n",
        "  if dating[\"type\"] == \"unknown\": \n",
        "    if any(cent for cent in centuries_df[\"roman\"].tolist() if (re.search(\"^\\s?\" + cent + \"($|/)\", datation)) or (re.search(\"(s|c)\\.\", datation))):\n",
        "      for roman, arabic in zip(centuries_df[\"roman\"].tolist(), arabics):\n",
        "        datation = re.sub(roman, arabic, datation)\n",
        "    cents = [cent for cent in centuries_df.index.tolist() if re.search(cent, datation)] # we have the centuries mentioned, but not in right order :-)\n",
        "    if len(cents) > 0:\n",
        "      cents_list = re.split(\"-|/|\\sor\\s\", datation)\n",
        "      if len(cents_list) > 1:\n",
        "        try:\n",
        "          century1 = [re.sub(\".*\" + num + \".*\", num, cents_list[0])  for num in arabics if num in cents_list[0]][0]\n",
        "          century2 = [re.sub(\".*\" + num + \".*\", num, cents_list[1])  for num in arabics if num in cents_list[1]][0]\n",
        "          if (\" AD\" in datation) and (\" BC\" not in datation): # if explicit AD and only AD:\n",
        "            start = modify_by_phase(cents_list[0], {\"start\" : centuries_df.loc[century1][\"start_AD\"], \"stop\" : centuries_df.loc[century1][\"stop_AD\"], \"type\" : \"cent\"})[\"start\"]\n",
        "            stop = modify_by_phase(cents_list[1], {\"start\" : centuries_df.loc[century2][\"start_AD\"], \"stop\" : centuries_df.loc[century2][\"stop_AD\"], \"type\" : \"cent\"})[\"stop\"]\n",
        "            era = \"AD\"\n",
        "          elif (\" BC\" in cents_list[0]) and (\" AD\" in cents_list[1]):\n",
        "            start = modify_by_phase(cents_list[0], {\"start\" : centuries_df.loc[century1][\"start_BC\"], \"stop\" : centuries_df.loc[century1][\"stop_BC\"], \"type\" : \"cent\"})[\"start\"]\n",
        "            stop = modify_by_phase(cents_list[1], {\"start\" : centuries_df.loc[century2][\"start_AD\"], \"stop\" : centuries_df.loc[century2][\"stop_AD\"], \"type\" : \"cent\"})[\"stop\"]\n",
        "            era = \"BC/AD\"\n",
        "          else:\n",
        "            start = modify_by_phase(cents_list[0], {\"start\" : centuries_df.loc[century1][\"start_BC\"], \"stop\" : centuries_df.loc[century1][\"stop_BC\"], \"type\" : \"cent\"})[\"start\"]\n",
        "            stop = modify_by_phase(cents_list[1], {\"start\" : centuries_df.loc[century2][\"start_BC\"], \"stop\" : centuries_df.loc[century2][\"stop_BC\"], \"type\" : \"cent\"})[\"stop\"]\n",
        "            era = \"BC\"\n",
        "          dating_update = {\"start\" : start, \"stop\" : stop, \"era\" : era, \"type\" : \"range+cent+morece\"}\n",
        "        except:\n",
        "          dating_update = dating\n",
        "      elif len(cents) == 1:\n",
        "        century = [re.sub(\".*\" + num + \".*\", num, datation)  for num in arabics if num in datation][0]\n",
        "        if \" AD\" in datation: \n",
        "          start = centuries_df.loc[century][\"start_AD\"]\n",
        "          stop = centuries_df.loc[century][\"stop_AD\"]\n",
        "          era = \"AD\"\n",
        "        else:\n",
        "          start = centuries_df.loc[century][\"start_BC\"]\n",
        "          stop = centuries_df.loc[century][\"stop_BC\"]\n",
        "          era = \"BC\"\n",
        "        dating_update = {\"start\" : start, \"stop\" : stop, \"era\" : era, \"type\" : \"range+cent\"}\n",
        "        dating_update = modify_by_phase(datation, dating_update)\n",
        "      else:\n",
        "        dating_update = {\"type\": \"unknown\"}\n",
        "      return dating_update\n",
        "    else:\n",
        "      return dating\n",
        "  else:\n",
        "    return dating"
      ],
      "execution_count": 396,
      "outputs": []
    },
    {
      "cell_type": "code",
      "metadata": {
        "id": "CNrJGSyyspSQ",
        "colab_type": "code",
        "colab": {
          "base_uri": "https://localhost:8080/",
          "height": 34
        },
        "outputId": "def1758f-140d-4a68-e8b5-f937c0c734bd"
      },
      "source": [
        "# example 1\n",
        "datation = \"III/II\" # \"p.\" and \"a.\" are replaced previously by \"BC\" and \"AD\"\n",
        "parse_centuries(datation)"
      ],
      "execution_count": 240,
      "outputs": [
        {
          "output_type": "execute_result",
          "data": {
            "text/plain": [
              "{'era': 'BC', 'start': -300, 'stop': -101, 'type': 'range+cent+morece'}"
            ]
          },
          "metadata": {
            "tags": []
          },
          "execution_count": 240
        }
      ]
    },
    {
      "cell_type": "code",
      "metadata": {
        "id": "jeOU3EtudcYY",
        "colab_type": "code",
        "colab": {
          "base_uri": "https://localhost:8080/",
          "height": 34
        },
        "outputId": "c9e78ca0-78e8-405b-8fe7-22abdb0cad86"
      },
      "source": [
        "datation = \"fin. s. III/II\" # \"p.\" and \"a.\" are replaced previously by \"BC\" and \"AD\"\n",
        "parse_centuries(datation)"
      ],
      "execution_count": 241,
      "outputs": [
        {
          "output_type": "execute_result",
          "data": {
            "text/plain": [
              "{'era': 'BC', 'start': -211.0, 'stop': -101, 'type': 'range+cent+morece'}"
            ]
          },
          "metadata": {
            "tags": []
          },
          "execution_count": 241
        }
      ]
    },
    {
      "cell_type": "code",
      "metadata": {
        "id": "RZk2RXSdA0sr",
        "colab_type": "code",
        "colab": {
          "base_uri": "https://localhost:8080/",
          "height": 34
        },
        "outputId": "82d7be84-137e-4c63-b51f-a644c4fdad29"
      },
      "source": [
        "# example 1\n",
        "datation = \"late 1st c. AD\" # - early 1st c. AD\" # \"p.\" and \"a.\" are replaced previously by \"BC\" and \"AD\"\n",
        "parse_centuries(datation, {\"type\": \"unknown\"})"
      ],
      "execution_count": 242,
      "outputs": [
        {
          "output_type": "execute_result",
          "data": {
            "text/plain": [
              "{'era': 'AD', 'start': 75.0, 'stop': 100, 'type': 'range+cent+phase+late'}"
            ]
          },
          "metadata": {
            "tags": []
          },
          "execution_count": 242
        }
      ]
    },
    {
      "cell_type": "code",
      "metadata": {
        "id": "csTDyHPeGCH7",
        "colab_type": "code",
        "colab": {
          "base_uri": "https://localhost:8080/",
          "height": 34
        },
        "outputId": "77e3f486-52dc-4fd3-fe1d-11bd82cafe71"
      },
      "source": [
        "# example \n",
        "parse_centuries(\"2nd/3rd c. AD\", {\"era\": \"AD\", \"type\": \"unknown\"})"
      ],
      "execution_count": 243,
      "outputs": [
        {
          "output_type": "execute_result",
          "data": {
            "text/plain": [
              "{'era': 'AD', 'start': 101, 'stop': 300, 'type': 'range+cent+morece'}"
            ]
          },
          "metadata": {
            "tags": []
          },
          "execution_count": 243
        }
      ]
    },
    {
      "cell_type": "code",
      "metadata": {
        "id": "o2WfKqkY0JY9",
        "colab_type": "code",
        "colab": {
          "base_uri": "https://localhost:8080/",
          "height": 34
        },
        "outputId": "6cd7f0ae-fdd2-4e02-c0dd-1dec46ff4cbf"
      },
      "source": [
        "# example\n",
        "parse_centuries(\"late 2nd c. BC/beginning 1st c. BC\")"
      ],
      "execution_count": 245,
      "outputs": [
        {
          "output_type": "execute_result",
          "data": {
            "text/plain": [
              "{'era': 'BC', 'start': -126.0, 'stop': -90.0, 'type': 'range+cent+morece'}"
            ]
          },
          "metadata": {
            "tags": []
          },
          "execution_count": 245
        }
      ]
    },
    {
      "cell_type": "code",
      "metadata": {
        "id": "f315RkowbvDD",
        "colab_type": "code",
        "colab": {}
      },
      "source": [
        ""
      ],
      "execution_count": null,
      "outputs": []
    },
    {
      "cell_type": "markdown",
      "metadata": {
        "id": "coHsL_P5f0LX",
        "colab_type": "text"
      },
      "source": [
        "# Simple dates and ranges\n",
        "This the last function we apply, since it overlooks all potential relevant information and looks for individual dates and straighforward ranges."
      ]
    },
    {
      "cell_type": "code",
      "metadata": {
        "id": "eZZt94TWf3jU",
        "colab_type": "code",
        "colab": {}
      },
      "source": [
        " def simple_dates_and_ranges(datation, dating=None):\n",
        "  if dating==None: dating = {\"type\" : \"unknown\"}\n",
        "  if dating[\"type\"] == \"unknown\":\n",
        "    if \" AD\" in datation:\n",
        "      dating[\"era\"] = \"AD\" \n",
        "      try:\n",
        "        date_both = re.search('(\\d+)(\\-)(\\d+)', datation, flags=re.IGNORECASE).groups()\n",
        "        if any(time_indicator in datation for time_indicator in [\" BC\", \" AD\", \"prob\", \"possi\"]):\n",
        "          date1, date2 = date_both[0], date_both[2]\n",
        "          len_diff = len(date1) - len(date2)\n",
        "          if len_diff > 0:\n",
        "            date2 = date1[:len_diff] + date2\n",
        "          dating.update({\"start\" : int(date1), \"stop\" : int(date2), \"type\" : \"range\"})\n",
        "      except:  \n",
        "        try:\n",
        "          match = re.search('\\d+', datation, flags=re.IGNORECASE)\n",
        "          if any(time_indicator in datation for time_indicator in [\" BC\", \" AD\", \"prob\", \"possi\"]):\n",
        "            dating.update({\"exact\" : int(match[0]), \"type\": \"exact\"})\n",
        "        except:\n",
        "          pass\n",
        "    else:\n",
        "      try:\n",
        "        date_both = re.search('(\\d+)(\\-)(\\d+)', datation, flags=re.IGNORECASE).groups()\n",
        "        if any(time_indicator in datation for time_indicator in [\" BC\", \" AD\", \"prob\", \"possi\"]):\n",
        "          date1, date2 = date_both[0], date_both[2]\n",
        "          len_diff = len(date1) - len(date2)\n",
        "          if len_diff > 0:\n",
        "            date2 = date1[:len_diff] + date2\n",
        "          date1, date2 = int(date1) * -1, int(date2) * -1\n",
        "          if date1 < date2:\n",
        "            dating.update({\"start\" : date1, \"stop\" : date2, \"type\" : \"range\", \"era\" : \"BC\"})\n",
        "      except:  \n",
        "        match = re.match(\"^\\s?(\\d+)\\s?$\", datation) # if it is just one number and nothing else (single numbers are good) \n",
        "        if match:\n",
        "          dating.update({\"exact\" : int(match[0]) * -1, \"type\": \"exact\"})\n",
        "        else:\n",
        "          if any(time_indicator in datation for time_indicator in [\" BC\", \" AD\", \"prob\", \"possi\"]):\n",
        "            match = re.search('\\d+', datation, flags=re.IGNORECASE)\n",
        "            dating.update({\"exact\" : int(match[0]) * -1, \"type\": \"exact\"})\n",
        "  return dating"
      ],
      "execution_count": 444,
      "outputs": []
    },
    {
      "cell_type": "code",
      "metadata": {
        "id": "OCxUWrYLsFcj",
        "colab_type": "code",
        "colab": {
          "base_uri": "https://localhost:8080/",
          "height": 34
        },
        "outputId": "98c37eeb-7aa1-4dff-fb90-9eb41a1a3c1e"
      },
      "source": [
        "simple_dates_and_ranges(\"4th or 5th c. AD\", {\"type\": \"century\"})"
      ],
      "execution_count": 368,
      "outputs": [
        {
          "output_type": "execute_result",
          "data": {
            "text/plain": [
              "{'type': 'century'}"
            ]
          },
          "metadata": {
            "tags": []
          },
          "execution_count": 368
        }
      ]
    },
    {
      "cell_type": "code",
      "metadata": {
        "id": "1wj_VvPLguGt",
        "colab_type": "code",
        "colab": {
          "base_uri": "https://localhost:8080/",
          "height": 51
        },
        "outputId": "c953a535-bfb5-48af-ba83-c67ccef6ab23"
      },
      "source": [
        "simple_dates_and_ranges(\"320 BC\")"
      ],
      "execution_count": 370,
      "outputs": [
        {
          "output_type": "stream",
          "text": [
            "here\n"
          ],
          "name": "stdout"
        },
        {
          "output_type": "execute_result",
          "data": {
            "text/plain": [
              "{'exact': -320, 'type': 'exact'}"
            ]
          },
          "metadata": {
            "tags": []
          },
          "execution_count": 370
        }
      ]
    },
    {
      "cell_type": "code",
      "metadata": {
        "id": "Flr7YFoYgz_H",
        "colab_type": "code",
        "colab": {
          "base_uri": "https://localhost:8080/",
          "height": 34
        },
        "outputId": "3a14ccc5-e07e-4e4b-ec7e-95c011505229"
      },
      "source": [
        "simple_dates_and_ranges(\"213 AD\")"
      ],
      "execution_count": 318,
      "outputs": [
        {
          "output_type": "execute_result",
          "data": {
            "text/plain": [
              "{'era': 'AD', 'exact': 213, 'type': 'exact'}"
            ]
          },
          "metadata": {
            "tags": []
          },
          "execution_count": 318
        }
      ]
    },
    {
      "cell_type": "code",
      "metadata": {
        "id": "1BW568W-ie7m",
        "colab_type": "code",
        "colab": {
          "base_uri": "https://localhost:8080/",
          "height": 34
        },
        "outputId": "ac225c60-6b36-4ece-edb6-c306d0064834"
      },
      "source": [
        "simple_dates_and_ranges(\"213-4 AD\")"
      ],
      "execution_count": 319,
      "outputs": [
        {
          "output_type": "execute_result",
          "data": {
            "text/plain": [
              "{'era': 'AD', 'start': 213, 'stop': 214, 'type': 'range'}"
            ]
          },
          "metadata": {
            "tags": []
          },
          "execution_count": 319
        }
      ]
    },
    {
      "cell_type": "code",
      "metadata": {
        "id": "uuQMrNv-g5Fw",
        "colab_type": "code",
        "colab": {
          "base_uri": "https://localhost:8080/",
          "height": 34
        },
        "outputId": "6fa64d31-0d0b-46fa-f81e-247a24bafce6"
      },
      "source": [
        "simple_dates_and_ranges(\"124-15 BC\")"
      ],
      "execution_count": 320,
      "outputs": [
        {
          "output_type": "execute_result",
          "data": {
            "text/plain": [
              "{'era': 'BC', 'start': -124, 'stop': -115, 'type': 'range'}"
            ]
          },
          "metadata": {
            "tags": []
          },
          "execution_count": 320
        }
      ]
    },
    {
      "cell_type": "markdown",
      "metadata": {
        "id": "2HsBdFeXY_WQ",
        "colab_type": "text"
      },
      "source": [
        "# Main function"
      ]
    },
    {
      "cell_type": "code",
      "metadata": {
        "id": "ro85091cVcB4",
        "colab_type": "code",
        "colab": {}
      },
      "source": [
        "def date_extractor(datation):\n",
        "  dating = {\"start\": None, \"stop\": None, \"exact\": None, \"or\": None, \"type\": \"unknown\", \"era\": None}\n",
        "  #replace \" a.\" and \" p.\" when at the end of datation or before \"/\" or \"-\"\n",
        "  datation = re.sub(\"(\\s)(a\\.)(\\-|\\/|$)\", r\"\\1BC\\3\", datation)\n",
        "  datation = re.sub(\"(\\s)(p\\.)(\\-|\\/|$)\", r\"\\1AD\\3\", datation)\n",
        "  # UNCERTAINTY\n",
        "  if \"?\" in datation:\n",
        "    datation = datation.replace(\"?\", \"\")\n",
        "    dating[\"certainty\"] = \"?\"\n",
        "  if datation[0] == \"[\":\n",
        "    datation = datation[1:-1]\n",
        "    dating[\"certainty\"] = \"?\"\n",
        "  # ranges combining BC and AD:\n",
        "  match = re.search(\"(\\d+)(\\s(a\\.|BC))(\\-)(\\d+)(\\s(p\\.|AD))\", datation) # (/sa/.)(/-)(/d+)(/sp/.)\"\n",
        "  if match:\n",
        "    dating.update({\"start\" : int(match.groups()[0]) * -1, \"stop\" : match.groups()[4], \"era\" : \"BC/AD\", \"type\" : \"range\"})\n",
        "  # simple ante quem and postquem\n",
        "  dating.update(extract_ante_and_post(datation, dating))\n",
        "  # PERIODS\n",
        "  dating.update(extract_period(datation, dating))\n",
        "  # CENTURIES\n",
        "  dating.update(parse_centuries(datation, dating))\n",
        "  # \"year/year\"\n",
        "  if dating[\"type\"] == \"unknown\":\n",
        "    dating.update(match_or(datation, dating)) # find all \"/\" instances linked with individual years\n",
        "  # if we still don't know:\n",
        "  dating.update(simple_dates_and_ranges(datation, dating))\n",
        "  # extract phases (e.g. \"early\", \"middle\", \"late\", \"beginning\" etc.)\n",
        "  dating.update(modify_by_phase(datation, dating))\n",
        "  # extract ante quem and post quem for ranges\n",
        "  try:\n",
        "    dating.update(extract_ante_and_post(datation, dating))\n",
        "  except:\n",
        "    pass\n",
        "  if dating[\"type\"]==\"unknown\":\n",
        "    dating.update({\"start\": None, \"stop\": None, \"exact\": None, \"or\": None, \"type\": \"unknown\", \"era\" : None})\n",
        "  return dating "
      ],
      "execution_count": 464,
      "outputs": []
    },
    {
      "cell_type": "code",
      "metadata": {
        "id": "Plgl9rbr0Yg0",
        "colab_type": "code",
        "colab": {
          "base_uri": "https://localhost:8080/",
          "height": 119
        },
        "outputId": "312fcab6-42a1-4703-d642-e5bd0ae535a1"
      },
      "source": [
        "date_extractor(\"5th or 4th c. BC\")"
      ],
      "execution_count": 465,
      "outputs": [
        {
          "output_type": "execute_result",
          "data": {
            "text/plain": [
              "{'era': 'BC',\n",
              " 'exact': None,\n",
              " 'or': None,\n",
              " 'start': -500,\n",
              " 'stop': -301,\n",
              " 'type': 'range+cent+morece'}"
            ]
          },
          "metadata": {
            "tags": []
          },
          "execution_count": 465
        }
      ]
    },
    {
      "cell_type": "code",
      "metadata": {
        "id": "oLe_I4-3b15m",
        "colab_type": "code",
        "colab": {
          "base_uri": "https://localhost:8080/",
          "height": 119
        },
        "outputId": "fd309803-c59c-4ef2-caad-a4f403aef2c3"
      },
      "source": [
        "date_extractor(\"14/13 or 13/12 BC\") "
      ],
      "execution_count": 466,
      "outputs": [
        {
          "output_type": "execute_result",
          "data": {
            "text/plain": [
              "{'era': None,\n",
              " 'exact': None,\n",
              " 'or': None,\n",
              " 'start': -14,\n",
              " 'stop': -12,\n",
              " 'type': 'range'}"
            ]
          },
          "metadata": {
            "tags": []
          },
          "execution_count": 466
        }
      ]
    },
    {
      "cell_type": "code",
      "metadata": {
        "id": "gp4xcY9Y06xo",
        "colab_type": "code",
        "colab": {
          "base_uri": "https://localhost:8080/",
          "height": 119
        },
        "outputId": "3e91c93c-92e8-42b8-a97e-0e409707118d"
      },
      "source": [
        "date_extractor(\"after 216/5\") "
      ],
      "execution_count": 469,
      "outputs": [
        {
          "output_type": "execute_result",
          "data": {
            "text/plain": [
              "{'era': None,\n",
              " 'exact': None,\n",
              " 'or': None,\n",
              " 'start': -214,\n",
              " 'stop': None,\n",
              " 'type': 'range+post'}"
            ]
          },
          "metadata": {
            "tags": []
          },
          "execution_count": 469
        }
      ]
    },
    {
      "cell_type": "code",
      "metadata": {
        "id": "zIKQ9sHM0pKj",
        "colab_type": "code",
        "colab": {
          "base_uri": "https://localhost:8080/",
          "height": 119
        },
        "outputId": "0ffc1e28-e514-4b8d-8970-6e488639be44"
      },
      "source": [
        "date_extractor(\"after 14/13 or 13/12 BC\") "
      ],
      "execution_count": 467,
      "outputs": [
        {
          "output_type": "execute_result",
          "data": {
            "text/plain": [
              "{'era': None,\n",
              " 'exact': None,\n",
              " 'or': None,\n",
              " 'start': -11,\n",
              " 'stop': None,\n",
              " 'type': 'range+post'}"
            ]
          },
          "metadata": {
            "tags": []
          },
          "execution_count": 467
        }
      ]
    },
    {
      "cell_type": "code",
      "metadata": {
        "id": "Lu_f5sLwJTYB",
        "colab_type": "code",
        "colab": {
          "base_uri": "https://localhost:8080/",
          "height": 119
        },
        "outputId": "1afce86b-ac99-4150-c0f3-ec73f958186b"
      },
      "source": [
        "date_extractor(\"s. II/III AD\")"
      ],
      "execution_count": 447,
      "outputs": [
        {
          "output_type": "execute_result",
          "data": {
            "text/plain": [
              "{'era': 'AD',\n",
              " 'exact': None,\n",
              " 'or': None,\n",
              " 'start': 101,\n",
              " 'stop': 300,\n",
              " 'type': 'range+cent+morece'}"
            ]
          },
          "metadata": {
            "tags": []
          },
          "execution_count": 447
        }
      ]
    },
    {
      "cell_type": "code",
      "metadata": {
        "id": "CUrl5gm5Bmn2",
        "colab_type": "code",
        "colab": {
          "base_uri": "https://localhost:8080/",
          "height": 119
        },
        "outputId": "9a064a40-ba81-47f0-a498-cbd5e0bc4898"
      },
      "source": [
        "date_extractor(\"fin. s. I a./s. I p.\")"
      ],
      "execution_count": 470,
      "outputs": [
        {
          "output_type": "execute_result",
          "data": {
            "text/plain": [
              "{'era': 'BC/AD',\n",
              " 'exact': None,\n",
              " 'or': None,\n",
              " 'start': -11.0,\n",
              " 'stop': 100,\n",
              " 'type': 'range+cent+morece'}"
            ]
          },
          "metadata": {
            "tags": []
          },
          "execution_count": 470
        }
      ]
    },
    {
      "cell_type": "code",
      "metadata": {
        "id": "058aow1mGtes",
        "colab_type": "code",
        "colab": {
          "base_uri": "https://localhost:8080/",
          "height": 119
        },
        "outputId": "2b3b5e35-7848-4a30-f4c1-208b27367ced"
      },
      "source": [
        "date_extractor(\"2nd-early 3rd c. AD\")"
      ],
      "execution_count": 471,
      "outputs": [
        {
          "output_type": "execute_result",
          "data": {
            "text/plain": [
              "{'era': 'AD',\n",
              " 'exact': None,\n",
              " 'or': None,\n",
              " 'start': 101,\n",
              " 'stop': 226.0,\n",
              " 'type': 'range+cent+morece'}"
            ]
          },
          "metadata": {
            "tags": []
          },
          "execution_count": 471
        }
      ]
    },
    {
      "cell_type": "code",
      "metadata": {
        "id": "4A9-SIRgt58A",
        "colab_type": "code",
        "colab": {
          "base_uri": "https://localhost:8080/",
          "height": 119
        },
        "outputId": "d84f6339-a1c7-4438-ea05-946fd69187b8"
      },
      "source": [
        "date_extractor(\"320 BC\")"
      ],
      "execution_count": 472,
      "outputs": [
        {
          "output_type": "execute_result",
          "data": {
            "text/plain": [
              "{'era': None,\n",
              " 'exact': -320,\n",
              " 'or': None,\n",
              " 'start': None,\n",
              " 'stop': None,\n",
              " 'type': 'exact'}"
            ]
          },
          "metadata": {
            "tags": []
          },
          "execution_count": 472
        }
      ]
    },
    {
      "cell_type": "code",
      "metadata": {
        "id": "mACWIOUIt9Lk",
        "colab_type": "code",
        "colab": {
          "base_uri": "https://localhost:8080/",
          "height": 119
        },
        "outputId": "9d0b16ef-3e92-4168-948f-960c3ab691d2"
      },
      "source": [
        "date_extractor(\"post 120 AD\")"
      ],
      "execution_count": 473,
      "outputs": [
        {
          "output_type": "execute_result",
          "data": {
            "text/plain": [
              "{'era': None,\n",
              " 'exact': None,\n",
              " 'or': None,\n",
              " 'start': 121,\n",
              " 'stop': None,\n",
              " 'type': 'post'}"
            ]
          },
          "metadata": {
            "tags": []
          },
          "execution_count": 473
        }
      ]
    },
    {
      "cell_type": "code",
      "metadata": {
        "id": "Buy525lpuB3G",
        "colab_type": "code",
        "colab": {
          "base_uri": "https://localhost:8080/",
          "height": 119
        },
        "outputId": "a7ee7dec-6340-4d19-94d8-610574b88993"
      },
      "source": [
        "date_extractor(\"after 4th c. BC\")"
      ],
      "execution_count": 474,
      "outputs": [
        {
          "output_type": "execute_result",
          "data": {
            "text/plain": [
              "{'era': 'BC',\n",
              " 'exact': None,\n",
              " 'or': None,\n",
              " 'start': -300,\n",
              " 'stop': None,\n",
              " 'type': 'range+cent+post'}"
            ]
          },
          "metadata": {
            "tags": []
          },
          "execution_count": 474
        }
      ]
    },
    {
      "cell_type": "code",
      "metadata": {
        "id": "aB5KvH_j0T8k",
        "colab_type": "code",
        "colab": {}
      },
      "source": [
        ""
      ],
      "execution_count": null,
      "outputs": []
    },
    {
      "cell_type": "code",
      "metadata": {
        "id": "FSBBZNATNuB_",
        "colab_type": "code",
        "colab": {
          "base_uri": "https://localhost:8080/",
          "height": 173
        },
        "outputId": "880e51f9-6c09-4930-e9aa-2fab6ae1b69b"
      },
      "source": [
        "# testing/example\n",
        "for datation in [\"Byzantine\", \"non ante s. II a.\", \"140/39 BC\", \"Rom. Imp\", \"reign of Augustus\", \"ante 140 BC\", \"late Antonine period\", \"IosPE IV 348\"]:\n",
        "  print(datation, date_extractor(datation))"
      ],
      "execution_count": 475,
      "outputs": [
        {
          "output_type": "stream",
          "text": [
            "Byzantine {'start': None, 'stop': None, 'exact': None, 'or': None, 'type': 'unknown', 'era': None}\n",
            "non ante s. II a. {'start': -200, 'stop': None, 'exact': None, 'or': None, 'type': 'range+cent+post', 'era': 'BC'}\n",
            "140/39 BC {'start': -140, 'stop': -139, 'exact': None, 'or': None, 'type': 'range', 'era': None}\n",
            "Rom. Imp {'start': -31, 'stop': 410, 'exact': None, 'or': None, 'type': 'range+period', 'era': 'BC/AD', 'source': 'PeriodO', 'notes': nan, 'link': 'http://n2t.net/ark:/99152/p08m57hqcc5'}\n",
            "reign of Augustus {'start': -27, 'stop': 14, 'exact': None, 'or': None, 'type': 'range+period', 'era': 'BC/AD', 'source': 'PeriodO', 'notes': nan, 'link': 'http://n2t.net/ark:/99152/p06c6g3xnmx'}\n",
            "ante 140 BC {'start': None, 'stop': -141, 'exact': None, 'or': None, 'type': 'ante', 'era': None}\n",
            "late Antonine period {'start': 168, 'stop': 192, 'exact': None, 'or': None, 'type': 'range+period+phase+late', 'era': 'AD', 'source': 'PeriodO', 'notes': nan, 'link': 'http://n2t.net/ark:/99152/p06c6g34zjk'}\n",
            "IosPE IV 348 {'start': None, 'stop': None, 'exact': None, 'or': None, 'type': 'unknown', 'era': None}\n"
          ],
          "name": "stdout"
        }
      ]
    },
    {
      "cell_type": "code",
      "metadata": {
        "id": "4pDl1D82cRjk",
        "colab_type": "code",
        "colab": {
          "base_uri": "https://localhost:8080/",
          "height": 119
        },
        "outputId": "fc86b99c-f39e-4eac-b791-162f2c62daad"
      },
      "source": [
        "datation = \"Nécrop.Myr. 224,5\"\n",
        "date_extractor(datation)"
      ],
      "execution_count": 476,
      "outputs": [
        {
          "output_type": "execute_result",
          "data": {
            "text/plain": [
              "{'era': None,\n",
              " 'exact': None,\n",
              " 'or': None,\n",
              " 'start': None,\n",
              " 'stop': None,\n",
              " 'type': 'unknown'}"
            ]
          },
          "metadata": {
            "tags": []
          },
          "execution_count": 476
        }
      ]
    },
    {
      "cell_type": "code",
      "metadata": {
        "id": "9OdIdvCbEOB9",
        "colab_type": "code",
        "colab": {
          "base_uri": "https://localhost:8080/",
          "height": 119
        },
        "outputId": "b4e9f803-4043-4f8a-ffd4-ba5e476d8597"
      },
      "source": [
        " datation = \" non ante med. s. II p.\"\n",
        " date_extractor(datation)"
      ],
      "execution_count": 477,
      "outputs": [
        {
          "output_type": "execute_result",
          "data": {
            "text/plain": [
              "{'era': 'AD',\n",
              " 'exact': None,\n",
              " 'or': None,\n",
              " 'start': 146.0,\n",
              " 'stop': None,\n",
              " 'type': 'range+cent+phase+middle+post'}"
            ]
          },
          "metadata": {
            "tags": []
          },
          "execution_count": 477
        }
      ]
    },
    {
      "cell_type": "code",
      "metadata": {
        "id": "dpHxVljmJeBZ",
        "colab_type": "code",
        "colab": {
          "base_uri": "https://localhost:8080/",
          "height": 170
        },
        "outputId": "a51f4f59-4ed4-43b6-af75-8645acb65ab1"
      },
      "source": [
        "date_extractor(\"not bef. the Antonine period\")"
      ],
      "execution_count": 478,
      "outputs": [
        {
          "output_type": "execute_result",
          "data": {
            "text/plain": [
              "{'era': 'AD',\n",
              " 'exact': None,\n",
              " 'link': 'http://n2t.net/ark:/99152/p06c6g34zjk',\n",
              " 'notes': nan,\n",
              " 'or': None,\n",
              " 'source': 'PeriodO',\n",
              " 'start': 96,\n",
              " 'stop': None,\n",
              " 'type': 'range+period+post'}"
            ]
          },
          "metadata": {
            "tags": []
          },
          "execution_count": 478
        }
      ]
    },
    {
      "cell_type": "code",
      "metadata": {
        "id": "FQck_F8xWCqy",
        "colab_type": "code",
        "colab": {
          "base_uri": "https://localhost:8080/",
          "height": 119
        },
        "outputId": "c48e08cb-55ba-4c88-e26c-904cb7c471fa"
      },
      "source": [
        "date_extractor(\"1st BC/1st AD\")"
      ],
      "execution_count": 479,
      "outputs": [
        {
          "output_type": "execute_result",
          "data": {
            "text/plain": [
              "{'era': 'BC/AD',\n",
              " 'exact': None,\n",
              " 'or': None,\n",
              " 'start': -100,\n",
              " 'stop': 100,\n",
              " 'type': 'range+cent+morece'}"
            ]
          },
          "metadata": {
            "tags": []
          },
          "execution_count": 479
        }
      ]
    },
    {
      "cell_type": "code",
      "metadata": {
        "id": "QAmgMGeyLTdY",
        "colab_type": "code",
        "colab": {
          "base_uri": "https://localhost:8080/",
          "height": 119
        },
        "outputId": "6320b130-6737-4d47-be16-c3317ac539eb"
      },
      "source": [
        "date_extractor(\"Newton, Disc. II 742-43:91\")"
      ],
      "execution_count": 480,
      "outputs": [
        {
          "output_type": "execute_result",
          "data": {
            "text/plain": [
              "{'era': None,\n",
              " 'exact': None,\n",
              " 'or': None,\n",
              " 'start': None,\n",
              " 'stop': None,\n",
              " 'type': 'unknown'}"
            ]
          },
          "metadata": {
            "tags": []
          },
          "execution_count": 480
        }
      ]
    },
    {
      "cell_type": "code",
      "metadata": {
        "id": "2ApLYR1QEvCP",
        "colab_type": "code",
        "colab": {
          "base_uri": "https://localhost:8080/",
          "height": 34
        },
        "outputId": "82e3be91-a153-4d46-9aa6-22b70cdddc34"
      },
      "source": [
        "datation = \"27 a.-14 p.\"\n",
        "match = re.search(\"(\\d+)(\\s(a\\.|BP))(\\-)(\\d+)(\\s(p\\.|AD))\", datation) # (/sa/.)(/-)(/d+)(/sp/.)\"\n",
        "if match:\n",
        "  dating = {\"start\" : int(match.groups()[0]) * -1, \"stop\" : match.groups()[4], \"era\" : \"BC/AD\", \"type\" : \"range\"}\n",
        "dating"
      ],
      "execution_count": 481,
      "outputs": [
        {
          "output_type": "execute_result",
          "data": {
            "text/plain": [
              "{'era': 'BC/AD', 'start': -27, 'stop': '14', 'type': 'range'}"
            ]
          },
          "metadata": {
            "tags": []
          },
          "execution_count": 481
        }
      ]
    },
    {
      "cell_type": "code",
      "metadata": {
        "id": "_GoGsIUwuT9I",
        "colab_type": "code",
        "colab": {
          "base_uri": "https://localhost:8080/",
          "height": 1000
        },
        "outputId": "52b5d7b3-4e93-4a4f-b062-ed3310aa75b1"
      },
      "source": [
        "test_list = PHI_by_500[\"raw_date\"].tolist()\n",
        "for datation in test_list:\n",
        "  print(datation, date_extractor(datation))"
      ],
      "execution_count": 482,
      "outputs": [
        {
          "output_type": "stream",
          "text": [
            "IStr 427 {'start': None, 'stop': None, 'exact': None, 'or': None, 'type': 'unknown', 'era': None}\n",
            "Rom. Imp. period {'start': -31, 'stop': 410, 'exact': None, 'or': None, 'type': 'range+period', 'era': 'BC/AD', 'source': 'PeriodO', 'notes': nan, 'link': 'http://n2t.net/ark:/99152/p08m57hqcc5'}\n",
            "220/19 {'start': -220, 'stop': -219, 'exact': None, 'or': None, 'type': 'range', 'era': None}\n",
            "Thasos {'start': None, 'stop': None, 'exact': None, 'or': None, 'type': 'unknown', 'era': None}\n",
            "el-Boueib {'start': None, 'stop': None, 'exact': None, 'or': None, 'type': 'unknown', 'era': None}\n",
            "ca. 100-150 AD {'start': 95, 'stop': 155, 'exact': None, 'or': None, 'type': 'range+phase+ca', 'era': 'AD'}\n",
            "267-668 AD {'start': 267, 'stop': 668, 'exact': None, 'or': None, 'type': 'range', 'era': 'AD'}\n",
            "1st c. BC  {'start': -100, 'stop': -1, 'exact': None, 'or': None, 'type': 'range+cent', 'era': 'BC'}\n",
            "Roman period?  {'start': -146, 'stop': 324, 'exact': None, 'or': None, 'type': 'range+period', 'era': 'BC/AD', 'certainty': '?', 'source': nan, 'notes': nan, 'link': nan}\n",
            "155 AD  {'start': None, 'stop': None, 'exact': 155, 'or': None, 'type': 'exact', 'era': 'AD'}\n",
            "199 AD {'start': None, 'stop': None, 'exact': 199, 'or': None, 'type': 'exact', 'era': 'AD'}\n",
            "2nd/3rd c. AD {'start': 101, 'stop': 300, 'exact': None, 'or': None, 'type': 'range+cent+morece', 'era': 'AD'}\n",
            "JHS 25,1905,56 Nr.4 {'start': None, 'stop': None, 'exact': None, 'or': None, 'type': 'unknown', 'era': None}\n",
            "ca. 100-150 AD  {'start': 95, 'stop': 155, 'exact': None, 'or': None, 'type': 'range+phase+ca', 'era': 'AD'}\n",
            "1st c. BC  {'start': -100, 'stop': -1, 'exact': None, 'or': None, 'type': 'range+cent', 'era': 'BC'}\n",
            "ca. 300-250 BC {'start': -305, 'stop': -245, 'exact': None, 'or': None, 'type': 'range+phase+ca', 'era': 'BC'}\n",
            "beg. 2nd c. BC {'start': -200, 'stop': -190.0, 'exact': None, 'or': None, 'type': 'range+cent+phase+beg', 'era': 'BC'}\n",
            "301/0-295/4 a.  {'start': -301, 'stop': -294, 'exact': None, 'or': None, 'type': 'range', 'era': None}\n",
            "Thebes [W.]: Syringes {'start': None, 'stop': None, 'exact': None, 'or': None, 'type': 'unknown', 'era': None}\n",
            "Thebes [W.]: Syringes {'start': None, 'stop': None, 'exact': None, 'or': None, 'type': 'unknown', 'era': None}\n",
            "Thebes [W.]: Syringes {'start': None, 'stop': None, 'exact': None, 'or': None, 'type': 'unknown', 'era': None}\n",
            "Thebes [W.]: Syringes {'start': None, 'stop': None, 'exact': None, 'or': None, 'type': 'unknown', 'era': None}\n",
            "1st c. AD {'start': 1, 'stop': 100, 'exact': None, 'or': None, 'type': 'range+cent', 'era': 'AD'}\n",
            "Rom. Imp. period  {'start': -31, 'stop': 410, 'exact': None, 'or': None, 'type': 'range+period', 'era': 'BC/AD', 'source': 'PeriodO', 'notes': nan, 'link': 'http://n2t.net/ark:/99152/p08m57hqcc5'}\n",
            "46-44 BC {'start': -46, 'stop': -44, 'exact': None, 'or': None, 'type': 'range', 'era': 'BC'}\n",
            "SEG 27.880 {'start': None, 'stop': None, 'exact': None, 'or': None, 'type': 'unknown', 'era': None}\n",
            "3rd c. BC {'start': -300, 'stop': -201, 'exact': None, 'or': None, 'type': 'range+cent', 'era': 'BC'}\n",
            "12/1 BC {'start': -12, 'stop': -11, 'exact': None, 'or': None, 'type': 'range', 'era': None}\n",
            "Tell Frēǧ {'start': None, 'stop': None, 'exact': None, 'or': None, 'type': 'unknown', 'era': None}\n",
            "2nd/3rd c. AD  {'start': 101, 'stop': 300, 'exact': None, 'or': None, 'type': 'range+cent+morece', 'era': 'AD'}\n",
            "Paros {'start': None, 'stop': None, 'exact': None, 'or': None, 'type': 'unknown', 'era': None}\n",
            "Ta Grammata {'start': None, 'stop': None, 'exact': None, 'or': None, 'type': 'unknown', 'era': None}\n",
            "IEph 430 {'start': None, 'stop': None, 'exact': None, 'or': None, 'type': 'unknown', 'era': None}\n",
            "IEph 284 {'start': None, 'stop': None, 'exact': None, 'or': None, 'type': 'unknown', 'era': None}\n",
            "IEph 1599 {'start': None, 'stop': None, 'exact': None, 'or': None, 'type': 'unknown', 'era': None}\n",
            "IEph 1904.2 {'start': None, 'stop': None, 'exact': None, 'or': None, 'type': 'unknown', 'era': None}\n",
            "IEph 2247A {'start': None, 'stop': None, 'exact': None, 'or': None, 'type': 'unknown', 'era': None}\n",
            "IEph 2456 {'start': None, 'stop': None, 'exact': None, 'or': None, 'type': 'unknown', 'era': None}\n",
            "IEph 573.8 {'start': None, 'stop': None, 'exact': None, 'or': None, 'type': 'unknown', 'era': None}\n",
            "IEph 1962 {'start': None, 'stop': None, 'exact': None, 'or': None, 'type': 'unknown', 'era': None}\n",
            "Antiochia & Area of {'start': None, 'stop': None, 'exact': None, 'or': None, 'type': 'unknown', 'era': None}\n",
            "350-300 BC {'start': -350, 'stop': -300, 'exact': None, 'or': None, 'type': 'range', 'era': 'BC'}\n",
            "120-63 BC {'start': None, 'stop': None, 'exact': None, 'or': None, 'type': 'unknown', 'era': None}\n",
            "116/5 BC {'start': -116, 'stop': -115, 'exact': None, 'or': None, 'type': 'range', 'era': None}\n",
            "Delos {'start': None, 'stop': None, 'exact': None, 'or': None, 'type': 'unknown', 'era': None}\n",
            "3rd c. BC  {'start': -300, 'stop': -201, 'exact': None, 'or': None, 'type': 'range+cent', 'era': 'BC'}\n",
            "ca. 260-240 BC {'start': -262, 'stop': -238, 'exact': None, 'or': None, 'type': 'range+phase+ca', 'era': 'BC'}\n",
            "mid 4th c. BC  {'start': -355.0, 'stop': -346.0, 'exact': None, 'or': None, 'type': 'range+cent+phase+middle', 'era': 'BC'}\n",
            "177 AD {'start': None, 'stop': None, 'exact': 177, 'or': None, 'type': 'exact', 'era': 'AD'}\n",
            "c. 500 a.  {'start': None, 'stop': None, 'exact': None, 'or': None, 'type': 'unknown', 'era': None}\n",
            "end 5th c. AD {'start': 490.0, 'stop': 500, 'exact': None, 'or': None, 'type': 'range+cent+phase+end', 'era': 'AD'}\n",
            "Rom. Imp. period {'start': -31, 'stop': 410, 'exact': None, 'or': None, 'type': 'range+period', 'era': 'BC/AD', 'source': 'PeriodO', 'notes': nan, 'link': 'http://n2t.net/ark:/99152/p08m57hqcc5'}\n",
            "Yapıldak: Inli {'start': None, 'stop': None, 'exact': None, 'or': None, 'type': 'unknown', 'era': None}\n",
            "4th c. BC {'start': -400, 'stop': -301, 'exact': None, 'or': None, 'type': 'range+cent', 'era': 'BC'}\n",
            "Nikaia (Iznik) {'start': None, 'stop': None, 'exact': None, 'or': None, 'type': 'unknown', 'era': None}\n",
            "IPri 87 {'start': None, 'stop': None, 'exact': None, 'or': None, 'type': 'unknown', 'era': None}\n",
            "IPri 313.309 {'start': None, 'stop': None, 'exact': None, 'or': None, 'type': 'unknown', 'era': None}\n",
            "IPri 297 {'start': None, 'stop': None, 'exact': None, 'or': None, 'type': 'unknown', 'era': None}\n",
            "Mt. Hymettos {'start': None, 'stop': None, 'exact': None, 'or': None, 'type': 'unknown', 'era': None}\n",
            "3rd/2nd c. BC? {'start': -300, 'stop': -101, 'exact': None, 'or': None, 'type': 'range+cent+morece', 'era': 'BC', 'certainty': '?'}\n",
            "209-204 BC  {'start': -209, 'stop': -204, 'exact': None, 'or': None, 'type': 'range', 'era': 'BC'}\n",
            "1st c. AD {'start': 1, 'stop': 100, 'exact': None, 'or': None, 'type': 'range+cent', 'era': 'AD'}\n",
            "6th/5th c. BC {'start': -600, 'stop': 401, 'exact': None, 'or': None, 'type': 'range+cent+morece', 'era': 'BC'}\n",
            "6th/5th c. BC {'start': -600, 'stop': 401, 'exact': None, 'or': None, 'type': 'range+cent+morece', 'era': 'BC'}\n",
            "1st c. AD  {'start': 1, 'stop': 100, 'exact': None, 'or': None, 'type': 'range+cent', 'era': 'AD'}\n",
            "95 BC {'start': None, 'stop': None, 'exact': -95, 'or': None, 'type': 'exact', 'era': None}\n",
            "Bulis {'start': None, 'stop': None, 'exact': None, 'or': None, 'type': 'unknown', 'era': None}\n",
            "1st c. BC {'start': -100, 'stop': -1, 'exact': None, 'or': None, 'type': 'range+cent', 'era': 'BC'}\n",
            "Aigina {'start': None, 'stop': None, 'exact': None, 'or': None, 'type': 'unknown', 'era': None}\n",
            "Nemea {'start': None, 'stop': None, 'exact': None, 'or': None, 'type': 'unknown', 'era': None}\n",
            "undated {'start': None, 'stop': None, 'exact': None, 'or': None, 'type': 'unknown', 'era': None}\n",
            "undated {'start': None, 'stop': None, 'exact': None, 'or': None, 'type': 'unknown', 'era': None}\n",
            "IMyl 151 {'start': None, 'stop': None, 'exact': None, 'or': None, 'type': 'unknown', 'era': None}\n",
            "5th c. AD {'start': 401, 'stop': 500, 'exact': None, 'or': None, 'type': 'range+cent', 'era': 'AD'}\n",
            "BCH 1890, 97-99, no. 4 {'start': None, 'stop': None, 'exact': None, 'or': None, 'type': 'unknown', 'era': None}\n",
            "Heliopolis (Ba‘albek) {'start': None, 'stop': None, 'exact': None, 'or': None, 'type': 'unknown', 'era': None}\n",
            "MAMA 8.29 {'start': None, 'stop': None, 'exact': None, 'or': None, 'type': 'unknown', 'era': None}\n",
            "reign of Hadrian {'start': 117, 'stop': 138, 'exact': None, 'or': None, 'type': 'range+period', 'era': 'AD', 'source': 'PeriodO', 'notes': nan, 'link': 'http://n2t.net/ark:/99152/p0jrrjbntfj'}\n",
            "IK 26,27d {'start': None, 'stop': None, 'exact': None, 'or': None, 'type': 'unknown', 'era': None}\n",
            "Rom. Imp. period? (Fır.)  {'start': -31, 'stop': 410, 'exact': None, 'or': None, 'type': 'range+period', 'era': 'BC/AD', 'certainty': '?', 'source': 'PeriodO', 'notes': nan, 'link': 'http://n2t.net/ark:/99152/p08m57hqcc5'}\n",
            "2nd c. AD  {'start': 101, 'stop': 200, 'exact': None, 'or': None, 'type': 'range+cent', 'era': 'AD'}\n",
            "SEG 30.841 {'start': None, 'stop': None, 'exact': None, 'or': None, 'type': 'unknown', 'era': None}\n",
            "ITral 21 {'start': None, 'stop': None, 'exact': None, 'or': None, 'type': 'unknown', 'era': None}\n",
            "117-138 AD  {'start': 117, 'stop': 138, 'exact': None, 'or': None, 'type': 'range', 'era': 'AD'}\n",
            "Christian period  {'start': 1, 'stop': 2000, 'exact': None, 'or': None, 'type': 'range+period', 'era': 'AD', 'source': 'Vojtech', 'notes': nan, 'link': nan}\n",
            "IG II² 11759 {'start': None, 'stop': None, 'exact': None, 'or': None, 'type': 'unknown', 'era': None}\n",
            "beg. 3rd c. AD {'start': 201, 'stop': 211.0, 'exact': None, 'or': None, 'type': 'range+cent+phase+beg', 'era': 'AD'}\n",
            "229/30 or 230/1 AD  {'start': 229, 'stop': 231, 'exact': None, 'or': None, 'type': 'range', 'era': None}\n",
            "end 1st c. BC  {'start': -11.0, 'stop': -1, 'exact': None, 'or': None, 'type': 'range+cent+phase+end', 'era': 'BC'}\n",
            "ca. 500-450 BC  {'start': -505, 'stop': -445, 'exact': None, 'or': None, 'type': 'range+phase+ca', 'era': 'BC'}\n",
            "Athens {'start': None, 'stop': None, 'exact': None, 'or': None, 'type': 'unknown', 'era': None}\n",
            "2nd/3rd c. AD  {'start': 101, 'stop': 300, 'exact': None, 'or': None, 'type': 'range+cent+morece', 'era': 'AD'}\n",
            "210-175 BC  {'start': -210, 'stop': -175, 'exact': None, 'or': None, 'type': 'range', 'era': 'BC'}\n",
            "3rd/4th c. AD  {'start': 201, 'stop': 400, 'exact': None, 'or': None, 'type': 'range+cent+morece', 'era': 'AD'}\n",
            "ca. 330-300 BC {'start': -333, 'stop': -297, 'exact': None, 'or': None, 'type': 'range+phase+ca', 'era': 'BC'}\n",
            "ca. 180-150 BC  {'start': -183, 'stop': -147, 'exact': None, 'or': None, 'type': 'range+phase+ca', 'era': 'BC'}\n",
            "ca. 150 BC {'start': -155, 'stop': -145, 'exact': None, 'or': None, 'type': 'exact+phase+ca', 'era': None}\n",
            "4th c. BC  {'start': -400, 'stop': -301, 'exact': None, 'or': None, 'type': 'range+cent', 'era': 'BC'}\n",
            "4th (or 5th?) c. AD  {'start': None, 'stop': None, 'exact': 4, 'or': None, 'type': 'exact', 'era': 'AD', 'certainty': '?'}\n",
            "3rd c. AD {'start': 201, 'stop': 300, 'exact': None, 'or': None, 'type': 'range+cent', 'era': 'AD'}\n",
            "Saatsoglou-Paliadele, Epitaphia mnemeia (1984) 237, 61 {'start': None, 'stop': None, 'exact': None, 'or': None, 'type': 'unknown', 'era': None}\n",
            "after 145 BC  {'start': -144, 'stop': None, 'exact': None, 'or': None, 'type': 'post', 'era': None}\n",
            "350-250 BC  {'start': -350, 'stop': -250, 'exact': None, 'or': None, 'type': 'range', 'era': 'BC'}\n",
            "late 3rd-mid. 2nd c. BC  {'start': -226.0, 'stop': -146.0, 'exact': None, 'or': None, 'type': 'range+cent+morece', 'era': 'BC'}\n",
            "ca. 475-450 BC  {'start': -477, 'stop': -448, 'exact': None, 'or': None, 'type': 'range+phase+ca', 'era': 'BC'}\n",
            "Byzantine period  {'start': 324, 'stop': 1453, 'exact': None, 'or': None, 'type': 'range+period', 'era': 'AD', 'source': 'PeriodO', 'notes': nan, 'link': 'http://n2t.net/ark:/99152/p0m63njtm6w'}\n",
            "5th c. AD  {'start': 401, 'stop': 500, 'exact': None, 'or': None, 'type': 'range+cent', 'era': 'AD'}\n",
            "ca. 270-260 BC  {'start': -271, 'stop': -259, 'exact': None, 'or': None, 'type': 'range+phase+ca', 'era': 'BC'}\n",
            "Byzantine period  {'start': 324, 'stop': 1453, 'exact': None, 'or': None, 'type': 'range+period', 'era': 'AD', 'source': 'PeriodO', 'notes': nan, 'link': 'http://n2t.net/ark:/99152/p0m63njtm6w'}\n",
            "early 3rd c. BC  {'start': -300, 'stop': -275.0, 'exact': None, 'or': None, 'type': 'range+cent+phase+early', 'era': 'BC'}\n",
            "AD 42 B2 (1987) 601 {'start': None, 'stop': None, 'exact': None, 'or': None, 'type': 'unknown', 'era': None}\n",
            "AD 45.1990[1995].B.42 {'start': None, 'stop': None, 'exact': None, 'or': None, 'type': 'unknown', 'era': None}\n",
            "2nd c. BC  {'start': -200, 'stop': -101, 'exact': None, 'or': None, 'type': 'range+cent', 'era': 'BC'}\n",
            "Hellenistic period  {'start': -330, 'stop': -30, 'exact': None, 'or': None, 'type': 'range+period', 'era': 'BC', 'source': 'PeriodO', 'notes': nan, 'link': 'http://n2t.net/ark:/99152/p03wskd55sw'}\n",
            "3rd c. BC  {'start': -300, 'stop': -201, 'exact': None, 'or': None, 'type': 'range+cent', 'era': 'BC'}\n",
            "ante 336/5 {'start': None, 'stop': -337, 'exact': None, 'or': None, 'type': 'range+ante', 'era': None}\n",
            "204/3? {'start': -204, 'stop': -203, 'exact': None, 'or': None, 'type': 'range', 'era': None, 'certainty': '?'}\n",
            "med. s. III a. {'start': -255.0, 'stop': -246.0, 'exact': None, 'or': None, 'type': 'range+cent+phase+middle', 'era': 'BC'}\n",
            "post med. s. II p.  {'start': -145, 'stop': None, 'exact': None, 'or': None, 'type': 'range+cent+phase+middle+post', 'era': 'BC'}\n",
            "[s. II/III p.] {'start': -200, 'stop': -201, 'exact': None, 'or': None, 'type': 'range+cent+morece', 'era': 'BC', 'certainty': '?'}\n",
            "Att. {'start': None, 'stop': None, 'exact': None, 'or': None, 'type': 'unknown', 'era': None}\n",
            "27 a.-14 p. {'start': -27, 'stop': '14', 'exact': None, 'or': None, 'type': 'range', 'era': 'BC/AD'}\n",
            "Att. {'start': None, 'stop': None, 'exact': None, 'or': None, 'type': 'unknown', 'era': None}\n",
            "fin. s. II p. {'start': 190.0, 'stop': 200, 'exact': None, 'or': None, 'type': 'range+cent+phase+end', 'era': 'AD'}\n",
            "ante med. s. I a. {'start': None, 'stop': -56, 'exact': None, 'or': None, 'type': 'range+cent+phase+middle+ante', 'era': 'BC'}\n",
            "non ante med. s. II p. {'start': 146.0, 'stop': None, 'exact': None, 'or': None, 'type': 'range+cent+phase+middle+post', 'era': 'AD'}\n",
            "med. s. IV a. {'start': -355.0, 'stop': -346.0, 'exact': None, 'or': None, 'type': 'range+cent+phase+middle', 'era': 'BC'}\n",
            "s. II a. {'start': -200, 'stop': -101, 'exact': None, 'or': None, 'type': 'range+cent', 'era': 'BC'}\n",
            "med. s. IV a. {'start': -355.0, 'stop': -346.0, 'exact': None, 'or': None, 'type': 'range+cent+phase+middle', 'era': 'BC'}\n",
            "aet. Rom. {'start': -146, 'stop': 324, 'exact': None, 'or': None, 'type': 'range+period', 'era': 'BC/AD', 'source': nan, 'notes': nan, 'link': nan}\n",
            "aet. imp. {'start': -31, 'stop': 410, 'exact': None, 'or': None, 'type': 'range+period', 'era': 'BC/AD', 'source': 'PeriodO', 'notes': nan, 'link': 'http://n2t.net/ark:/99152/p08m57hqcc5'}\n",
            "s. I a. {'start': -100, 'stop': -1, 'exact': None, 'or': None, 'type': 'range+cent', 'era': 'BC'}\n",
            "s. I a. {'start': -100, 'stop': -1, 'exact': None, 'or': None, 'type': 'range+cent', 'era': 'BC'}\n",
            "aet. Rom. {'start': -146, 'stop': 324, 'exact': None, 'or': None, 'type': 'range+period', 'era': 'BC/AD', 'source': nan, 'notes': nan, 'link': nan}\n",
            "s. I p. {'start': 1, 'stop': 100, 'exact': None, 'or': None, 'type': 'range+cent', 'era': 'AD'}\n",
            "post med. s. IV {'start': -345, 'stop': None, 'exact': None, 'or': None, 'type': 'range+cent+phase+middle+post', 'era': 'BC'}\n",
            "s. I/II p.  {'start': -100, 'stop': -101, 'exact': None, 'or': None, 'type': 'range+cent+morece', 'era': 'BC'}\n",
            "s. III a. {'start': -300, 'stop': -201, 'exact': None, 'or': None, 'type': 'range+cent', 'era': 'BC'}\n",
            "s. II p. {'start': 101, 'stop': 200, 'exact': None, 'or': None, 'type': 'range+cent', 'era': 'AD'}\n",
            "s. IV a. {'start': -400, 'stop': -301, 'exact': None, 'or': None, 'type': 'range+cent', 'era': 'BC'}\n",
            "ante med. s. IV a. {'start': None, 'stop': -356, 'exact': None, 'or': None, 'type': 'range+cent+phase+middle+ante', 'era': 'BC'}\n",
            "med. s. IV a. {'start': -355.0, 'stop': -346.0, 'exact': None, 'or': None, 'type': 'range+cent+phase+middle', 'era': 'BC'}\n",
            "IG XIV 1412 {'start': None, 'stop': None, 'exact': None, 'or': None, 'type': 'unknown', 'era': None}\n",
            "cf. IGUR IV, p. 162, 862 {'start': None, 'stop': None, 'exact': None, 'or': None, 'type': 'unknown', 'era': None}\n",
            "GVI 184 {'start': None, 'stop': None, 'exact': None, 'or': None, 'type': 'unknown', 'era': None}\n",
            "73/4 AD {'start': 73, 'stop': 74, 'exact': None, 'or': None, 'type': 'range', 'era': None}\n",
            "reign of Claudius {'start': 41, 'stop': 54, 'exact': None, 'or': None, 'type': 'range+period', 'era': 'AD', 'source': 'PeriodO', 'notes': nan, 'link': 'http://n2t.net/ark:/99152/p0jrrjb8spw'}\n",
            "IDid 484 {'start': None, 'stop': None, 'exact': None, 'or': None, 'type': 'unknown', 'era': None}\n",
            "IDid 411 {'start': None, 'stop': None, 'exact': None, 'or': None, 'type': 'unknown', 'era': None}\n",
            "ITral 102 {'start': None, 'stop': None, 'exact': None, 'or': None, 'type': 'unknown', 'era': None}\n",
            "McCabe 0351 {'start': None, 'stop': None, 'exact': None, 'or': None, 'type': 'unknown', 'era': None}\n",
            "2nd c. AD  {'start': 101, 'stop': 200, 'exact': None, 'or': None, 'type': 'range+cent', 'era': 'AD'}\n",
            "244-221 BC {'start': -244, 'stop': -221, 'exact': None, 'or': None, 'type': 'range', 'era': 'BC'}\n",
            "Anth.Gr. III Nr.1 {'start': None, 'stop': None, 'exact': None, 'or': None, 'type': 'unknown', 'era': None}\n",
            "5th c. AD  {'start': 401, 'stop': 500, 'exact': None, 'or': None, 'type': 'range+cent', 'era': 'AD'}\n",
            "Philippopolis (Plovdiv) {'start': None, 'stop': None, 'exact': None, 'or': None, 'type': 'unknown', 'era': None}\n",
            "SEG 3.515 {'start': None, 'stop': None, 'exact': None, 'or': None, 'type': 'unknown', 'era': None}\n",
            "CIL III 395=7076 (2) {'start': None, 'stop': None, 'exact': None, 'or': None, 'type': 'unknown', 'era': None}\n",
            "IEph 3414 {'start': None, 'stop': None, 'exact': None, 'or': None, 'type': 'unknown', 'era': None}\n",
            "1st c. BC  {'start': -100, 'stop': -1, 'exact': None, 'or': None, 'type': 'range+cent', 'era': 'BC'}\n",
            "reign of Ant. Pius  {'start': 138, 'stop': 161, 'exact': None, 'or': None, 'type': 'range+period', 'era': 'AD', 'source': 'PeriodO', 'notes': nan, 'link': 'http://n2t.net/ark:/99152/p06c6g3drk4'}\n",
            "1st/2nd c. AD {'start': 1, 'stop': 200, 'exact': None, 'or': None, 'type': 'range+cent+morece', 'era': 'AD'}\n",
            "late 6th c. BC  {'start': -526.0, 'stop': -501, 'exact': None, 'or': None, 'type': 'range+cent+phase+late', 'era': 'BC'}\n",
            "ca. 460 BC  {'start': -465, 'stop': -455, 'exact': None, 'or': None, 'type': 'exact+phase+ca', 'era': None}\n",
            "Pachoras--Phthouris (Faras) {'start': None, 'stop': None, 'exact': None, 'or': None, 'type': 'unknown', 'era': None}\n",
            "155 AD  {'start': None, 'stop': None, 'exact': 155, 'or': None, 'type': 'exact', 'era': 'AD'}\n",
            "IosPE IV 60 {'start': None, 'stop': None, 'exact': None, 'or': None, 'type': 'unknown', 'era': None}\n",
            "med. s. V a. {'start': -95.0, 'stop': -4.0, 'exact': None, 'or': None, 'type': 'range+cent+phase+middle', 'era': 'BC'}\n",
            "fin. s. V/VI p. {'start': 490.0, 'stop': 600, 'exact': None, 'or': None, 'type': 'range+cent+morece', 'era': 'AD'}\n",
            "Termessos (Güllük Dağı) {'start': None, 'stop': None, 'exact': None, 'or': None, 'type': 'unknown', 'era': None}\n",
            "Termessos (Güllük Dağı): Karaman Çay {'start': None, 'stop': None, 'exact': None, 'or': None, 'type': 'unknown', 'era': None}\n",
            "ca. 120 AD {'start': 115, 'stop': 125, 'exact': None, 'or': None, 'type': 'exact+phase+ca', 'era': 'AD'}\n",
            "OGIS 2.535, IGR 3.316 {'start': None, 'stop': None, 'exact': None, 'or': None, 'type': 'unknown', 'era': None}\n",
            "CIG 3899 [1] {'start': None, 'stop': None, 'exact': None, 'or': None, 'type': 'unknown', 'era': None}\n",
            "undated {'start': None, 'stop': None, 'exact': None, 'or': None, 'type': 'unknown', 'era': None}\n",
            "5th/6th c. AD {'start': 401, 'stop': 600, 'exact': None, 'or': None, 'type': 'range+cent+morece', 'era': 'AD'}\n",
            "undated {'start': None, 'stop': None, 'exact': None, 'or': None, 'type': 'unknown', 'era': None}\n",
            "3rd c. BC {'start': -300, 'stop': -201, 'exact': None, 'or': None, 'type': 'range+cent', 'era': 'BC'}\n",
            "undated {'start': None, 'stop': None, 'exact': None, 'or': None, 'type': 'unknown', 'era': None}\n",
            "2nd c. AD  {'start': 101, 'stop': 200, 'exact': None, 'or': None, 'type': 'range+cent', 'era': 'AD'}\n",
            "2nd/3rd c. AD {'start': 101, 'stop': 300, 'exact': None, 'or': None, 'type': 'range+cent+morece', 'era': 'AD'}\n",
            "335-322 BC {'start': -335, 'stop': -322, 'exact': None, 'or': None, 'type': 'range', 'era': 'BC'}\n",
            "Rom. Imp. period {'start': -31, 'stop': 410, 'exact': None, 'or': None, 'type': 'range+period', 'era': 'BC/AD', 'source': 'PeriodO', 'notes': nan, 'link': 'http://n2t.net/ark:/99152/p08m57hqcc5'}\n",
            "undated {'start': None, 'stop': None, 'exact': None, 'or': None, 'type': 'unknown', 'era': None}\n",
            "Aperantia {'start': None, 'stop': None, 'exact': None, 'or': None, 'type': 'unknown', 'era': None}\n",
            "ca. 163/2 BC {'start': -163, 'stop': -162, 'exact': None, 'or': None, 'type': 'range+phase+ca', 'era': None}\n",
            "Hellenistic period  {'start': -330, 'stop': -30, 'exact': None, 'or': None, 'type': 'range+period', 'era': 'BC', 'source': 'PeriodO', 'notes': nan, 'link': 'http://n2t.net/ark:/99152/p03wskd55sw'}\n",
            "ca. 2nd c. BC {'start': -210.0, 'stop': -91.0, 'exact': None, 'or': None, 'type': 'range+cent+phase+ca', 'era': 'BC'}\n",
            "Graf, Kulte, Chios 38 {'start': None, 'stop': None, 'exact': None, 'or': None, 'type': 'unknown', 'era': None}\n",
            "SEG 40.1219 {'start': None, 'stop': None, 'exact': None, 'or': None, 'type': 'unknown', 'era': None}\n",
            "200-209 AD  {'start': 200, 'stop': 209, 'exact': None, 'or': None, 'type': 'range', 'era': 'AD'}\n",
            "s. I p. {'start': 1, 'stop': 100, 'exact': None, 'or': None, 'type': 'range+cent', 'era': 'AD'}\n",
            "s. III a. {'start': -300, 'stop': -201, 'exact': None, 'or': None, 'type': 'range+cent', 'era': 'BC'}\n",
            "Abydos: Memnonion {'start': None, 'stop': None, 'exact': None, 'or': None, 'type': 'unknown', 'era': None}\n",
            "ISmyrn 627 {'start': None, 'stop': None, 'exact': None, 'or': None, 'type': 'unknown', 'era': None}\n",
            "ISmyrn 181 {'start': None, 'stop': None, 'exact': None, 'or': None, 'type': 'unknown', 'era': None}\n",
            "IK 6,2 {'start': None, 'stop': None, 'exact': None, 'or': None, 'type': 'unknown', 'era': None}\n",
            "215 BC {'start': None, 'stop': None, 'exact': -215, 'or': None, 'type': 'exact', 'era': None}\n",
            "ca. 125 BC {'start': -130, 'stop': -120, 'exact': None, 'or': None, 'type': 'exact+phase+ca', 'era': None}\n",
            "undated {'start': None, 'stop': None, 'exact': None, 'or': None, 'type': 'unknown', 'era': None}\n",
            "Rom. Imp. period  {'start': -31, 'stop': 410, 'exact': None, 'or': None, 'type': 'range+period', 'era': 'BC/AD', 'source': 'PeriodO', 'notes': nan, 'link': 'http://n2t.net/ark:/99152/p08m57hqcc5'}\n",
            "124-116 BC {'start': -124, 'stop': -116, 'exact': None, 'or': None, 'type': 'range', 'era': 'BC'}\n",
            "2nd c. BC?  {'start': -200, 'stop': -101, 'exact': None, 'or': None, 'type': 'range+cent', 'era': 'BC', 'certainty': '?'}\n",
            "Paros {'start': None, 'stop': None, 'exact': None, 'or': None, 'type': 'unknown', 'era': None}\n",
            "4th c. BC {'start': -400, 'stop': -301, 'exact': None, 'or': None, 'type': 'range+cent', 'era': 'BC'}\n",
            "3rd/2nd c. BC {'start': -300, 'stop': -101, 'exact': None, 'or': None, 'type': 'range+cent+morece', 'era': 'BC'}\n",
            "7th-4th c. BC  {'start': -700, 'stop': -301, 'exact': None, 'or': None, 'type': 'range+cent+morece', 'era': 'BC'}\n",
            "Hellenistic period  {'start': -330, 'stop': -30, 'exact': None, 'or': None, 'type': 'range+period', 'era': 'BC', 'source': 'PeriodO', 'notes': nan, 'link': 'http://n2t.net/ark:/99152/p03wskd55sw'}\n",
            "undated {'start': None, 'stop': None, 'exact': None, 'or': None, 'type': 'unknown', 'era': None}\n",
            "cf. Corrigenda p. XV {'start': None, 'stop': None, 'exact': None, 'or': None, 'type': 'unknown', 'era': None}\n",
            "Gonnoi II 118 {'start': None, 'stop': None, 'exact': None, 'or': None, 'type': 'unknown', 'era': None}\n",
            "3rd c. AD  {'start': 201, 'stop': 300, 'exact': None, 'or': None, 'type': 'range+cent', 'era': 'AD'}\n",
            "5th c. BC {'start': -500, 'stop': 401, 'exact': None, 'or': None, 'type': 'range+cent', 'era': 'BC'}\n",
            "Eretria {'start': None, 'stop': None, 'exact': None, 'or': None, 'type': 'unknown', 'era': None}\n",
            "1st/2nd c. AD {'start': 1, 'stop': 200, 'exact': None, 'or': None, 'type': 'range+cent+morece', 'era': 'AD'}\n",
            "Laodicea Comb.: Yeni Yaila {'start': None, 'stop': None, 'exact': None, 'or': None, 'type': 'unknown', 'era': None}\n",
            "Aizanitis: Sopu Köy {'start': None, 'stop': None, 'exact': None, 'or': None, 'type': 'unknown', 'era': None}\n",
            "Ali Bey Höyük {'start': None, 'stop': None, 'exact': None, 'or': None, 'type': 'unknown', 'era': None}\n",
            "Stratonikeia: Kirkaǧaç {'start': None, 'stop': None, 'exact': None, 'or': None, 'type': 'unknown', 'era': None}\n",
            "Milet I 2, 26 {'start': None, 'stop': None, 'exact': None, 'or': None, 'type': 'unknown', 'era': None}\n",
            "LW 1589 {'start': None, 'stop': None, 'exact': None, 'or': None, 'type': 'unknown', 'era': None}\n",
            "Roueché, Aphrodisias 42 {'start': None, 'stop': None, 'exact': None, 'or': None, 'type': 'unknown', 'era': None}\n",
            "IIasos 206 {'start': None, 'stop': None, 'exact': None, 'or': None, 'type': 'unknown', 'era': None}\n",
            "ASAA 1961-62, 630, no. 130 {'start': None, 'stop': None, 'exact': None, 'or': None, 'type': 'unknown', 'era': None}\n",
            "Bostra (Buṣrā) {'start': None, 'stop': None, 'exact': None, 'or': None, 'type': 'unknown', 'era': None}\n",
            "2nd/3rd c. AD  {'start': 101, 'stop': 300, 'exact': None, 'or': None, 'type': 'range+cent+morece', 'era': 'AD'}\n",
            "128/127 BC  {'start': -128, 'stop': -127, 'exact': None, 'or': None, 'type': 'range', 'era': None}\n",
            "undated {'start': None, 'stop': None, 'exact': None, 'or': None, 'type': 'unknown', 'era': None}\n",
            "undated {'start': None, 'stop': None, 'exact': None, 'or': None, 'type': 'unknown', 'era': None}\n",
            "undated {'start': None, 'stop': None, 'exact': None, 'or': None, 'type': 'unknown', 'era': None}\n",
            "Aphrodisias {'start': None, 'stop': None, 'exact': None, 'or': None, 'type': 'unknown', 'era': None}\n",
            "Newton, Halik. II 592 {'start': None, 'stop': None, 'exact': None, 'or': None, 'type': 'unknown', 'era': None}\n",
            "2nd/3rd c. AD  {'start': 101, 'stop': 300, 'exact': None, 'or': None, 'type': 'range+cent+morece', 'era': 'AD'}\n",
            "beg. 5th c. BC {'start': -500, 'stop': -410.0, 'exact': None, 'or': None, 'type': 'range+cent+phase+beg', 'era': 'BC'}\n",
            "2nd/1st c. BC {'start': -200, 'stop': -1, 'exact': None, 'or': None, 'type': 'range+cent+morece', 'era': 'BC'}\n",
            "4th c. BC  {'start': -400, 'stop': -301, 'exact': None, 'or': None, 'type': 'range+cent', 'era': 'BC'}\n",
            "144 AD  {'start': None, 'stop': None, 'exact': 144, 'or': None, 'type': 'exact', 'era': 'AD'}\n",
            "1st-early 2nd c. AD {'start': 1, 'stop': 126.0, 'exact': None, 'or': None, 'type': 'range+cent+morece', 'era': 'AD'}\n",
            "after 228 BC {'start': -227, 'stop': None, 'exact': None, 'or': None, 'type': 'post', 'era': None}\n",
            "1st/2nd c. AD {'start': 1, 'stop': 200, 'exact': None, 'or': None, 'type': 'range+cent+morece', 'era': 'AD'}\n",
            "Newton, Disc. II 742-43:91 {'start': None, 'stop': None, 'exact': None, 'or': None, 'type': 'unknown', 'era': None}\n",
            "Thyateira (Akhisar) {'start': None, 'stop': None, 'exact': None, 'or': None, 'type': 'unknown', 'era': None}\n",
            "IStr 1045 {'start': None, 'stop': None, 'exact': None, 'or': None, 'type': 'unknown', 'era': None}\n",
            "Attaleia (Antalya) {'start': None, 'stop': None, 'exact': None, 'or': None, 'type': 'unknown', 'era': None}\n",
            "Rom. Imp. period  {'start': -31, 'stop': 410, 'exact': None, 'or': None, 'type': 'range+period', 'era': 'BC/AD', 'source': 'PeriodO', 'notes': nan, 'link': 'http://n2t.net/ark:/99152/p08m57hqcc5'}\n",
            "CIL 3.8188 {'start': None, 'stop': None, 'exact': None, 'or': None, 'type': 'unknown', 'era': None}\n",
            "Hermonthis (Armant)? {'start': None, 'stop': None, 'exact': None, 'or': None, 'type': 'unknown', 'era': None, 'certainty': '?'}\n",
            "Side (Eski Adalia--Selimiye) {'start': None, 'stop': None, 'exact': None, 'or': None, 'type': 'unknown', 'era': None}\n",
            "Christian {'start': None, 'stop': None, 'exact': None, 'or': None, 'type': 'unknown', 'era': None}\n",
            "undated {'start': None, 'stop': None, 'exact': None, 'or': None, 'type': 'unknown', 'era': None}\n",
            "undated {'start': None, 'stop': None, 'exact': None, 'or': None, 'type': 'unknown', 'era': None}\n",
            "Taras-Tarentum: Montedoro {'start': None, 'stop': None, 'exact': None, 'or': None, 'type': 'unknown', 'era': None}\n",
            "p. 706, Add. et Corr. {'start': None, 'stop': None, 'exact': None, 'or': None, 'type': 'unknown', 'era': None}\n",
            "undated {'start': None, 'stop': None, 'exact': None, 'or': None, 'type': 'unknown', 'era': None}\n",
            "3rd/4th c. AD?  {'start': 201, 'stop': 400, 'exact': None, 'or': None, 'type': 'range+cent+morece', 'era': 'AD', 'certainty': '?'}\n",
            "180 AD  {'start': None, 'stop': None, 'exact': 180, 'or': None, 'type': 'exact', 'era': 'AD'}\n",
            "AEMÖ 19 (1896) 51,25 {'start': None, 'stop': None, 'exact': None, 'or': None, 'type': 'unknown', 'era': None}\n",
            "LW 1559 {'start': None, 'stop': None, 'exact': None, 'or': None, 'type': 'unknown', 'era': None}\n",
            "GIBM IV.1 Nr.806 {'start': None, 'stop': None, 'exact': None, 'or': None, 'type': 'unknown', 'era': None}\n",
            "Odessus (Varna) {'start': None, 'stop': None, 'exact': None, 'or': None, 'type': 'unknown', 'era': None}\n",
            "4th c. BC  {'start': -400, 'stop': -301, 'exact': None, 'or': None, 'type': 'range+cent', 'era': 'BC'}\n",
            "2nd/3rd c. AD {'start': 101, 'stop': 300, 'exact': None, 'or': None, 'type': 'range+cent+morece', 'era': 'AD'}\n",
            "ca. 220-210 BC?  {'start': -221, 'stop': -209, 'exact': None, 'or': None, 'type': 'range+phase+ca', 'era': 'BC', 'certainty': '?'}\n",
            "undated {'start': None, 'stop': None, 'exact': None, 'or': None, 'type': 'unknown', 'era': None}\n",
            "Daux {'start': None, 'stop': None, 'exact': None, 'or': None, 'type': 'unknown', 'era': None}\n",
            "end 6th c. BC {'start': -511.0, 'stop': -501, 'exact': None, 'or': None, 'type': 'range+cent+phase+end', 'era': 'BC'}\n",
            "undated {'start': None, 'stop': None, 'exact': None, 'or': None, 'type': 'unknown', 'era': None}\n",
            "Oinoanda (Incealiler): Girdev Gölü {'start': None, 'stop': None, 'exact': None, 'or': None, 'type': 'unknown', 'era': None}\n",
            "Klaudioupolis (Bolu), Plain of {'start': None, 'stop': None, 'exact': None, 'or': None, 'type': 'unknown', 'era': None}\n",
            "IG XIV 2393,75 {'start': None, 'stop': None, 'exact': None, 'or': None, 'type': 'unknown', 'era': None}\n",
            "1st/2nd c. AD {'start': 1, 'stop': 200, 'exact': None, 'or': None, 'type': 'range+cent+morece', 'era': 'AD'}\n",
            "AD 1972, B2, 603-4 {'start': None, 'stop': None, 'exact': None, 'or': None, 'type': 'unknown', 'era': None}\n",
            "2nd c. AD  {'start': 101, 'stop': 200, 'exact': None, 'or': None, 'type': 'range+cent', 'era': 'AD'}\n",
            "end 4th c. BC {'start': -311.0, 'stop': -301, 'exact': None, 'or': None, 'type': 'range+cent+phase+end', 'era': 'BC'}\n",
            "undated {'start': None, 'stop': None, 'exact': None, 'or': None, 'type': 'unknown', 'era': None}\n",
            "Patissia {'start': None, 'stop': None, 'exact': None, 'or': None, 'type': 'unknown', 'era': None}\n",
            "late 4th-6th c. AD {'start': 375.0, 'stop': 600, 'exact': None, 'or': None, 'type': 'range+cent+morece', 'era': 'AD'}\n",
            "Christian {'start': None, 'stop': None, 'exact': None, 'or': None, 'type': 'unknown', 'era': None}\n",
            "not bef. the Antonine period {'start': 96, 'stop': None, 'exact': None, 'or': None, 'type': 'range+period+post', 'era': 'AD', 'source': 'PeriodO', 'notes': nan, 'link': 'http://n2t.net/ark:/99152/p06c6g34zjk'}\n",
            "after mid. 3rd c. BC {'start': -245, 'stop': None, 'exact': None, 'or': None, 'type': 'range+cent+phase+middle+post', 'era': 'BC'}\n",
            "undated {'start': None, 'stop': None, 'exact': None, 'or': None, 'type': 'unknown', 'era': None}\n",
            "undated {'start': None, 'stop': None, 'exact': None, 'or': None, 'type': 'unknown', 'era': None}\n",
            "undated {'start': None, 'stop': None, 'exact': None, 'or': None, 'type': 'unknown', 'era': None}\n",
            "198-210 AD {'start': 198, 'stop': 210, 'exact': None, 'or': None, 'type': 'range', 'era': 'AD'}\n",
            "undated {'start': None, 'stop': None, 'exact': None, 'or': None, 'type': 'unknown', 'era': None}\n",
            "undated {'start': None, 'stop': None, 'exact': None, 'or': None, 'type': 'unknown', 'era': None}\n",
            "undated {'start': None, 'stop': None, 'exact': None, 'or': None, 'type': 'unknown', 'era': None}\n",
            "Laurent, Corpus V 357bis/1702 {'start': None, 'stop': None, 'exact': None, 'or': None, 'type': 'unknown', 'era': None}\n",
            "shortly after 208/7 BC (or 207/6)  {'start': None, 'stop': None, 'exact': None, 'or': None, 'type': 'unknown+shortly', 'era': None}\n",
            "Byzantine {'start': None, 'stop': None, 'exact': None, 'or': None, 'type': 'unknown', 'era': None}\n",
            "ca. 100-250 AD  {'start': 85, 'stop': 265, 'exact': None, 'or': None, 'type': 'range+phase+ca', 'era': 'AD'}\n",
            "194 BC {'start': None, 'stop': None, 'exact': -194, 'or': None, 'type': 'exact', 'era': None}\n",
            "Thebes [W.]: Colossus of Memnon {'start': None, 'stop': None, 'exact': None, 'or': None, 'type': 'unknown', 'era': None}\n",
            "117-138 AD {'start': 117, 'stop': 138, 'exact': None, 'or': None, 'type': 'range', 'era': 'AD'}\n",
            "Thera {'start': None, 'stop': None, 'exact': None, 'or': None, 'type': 'unknown', 'era': None}\n",
            "Thera {'start': None, 'stop': None, 'exact': None, 'or': None, 'type': 'unknown', 'era': None}\n",
            "early 2nd c. AD {'start': 101, 'stop': 126.0, 'exact': None, 'or': None, 'type': 'range+cent+phase+early', 'era': 'AD'}\n",
            "Sparta {'start': None, 'stop': None, 'exact': None, 'or': None, 'type': 'unknown', 'era': None}\n",
            "fanum Apollinis Hyperteleatae {'start': None, 'stop': None, 'exact': None, 'or': None, 'type': 'unknown', 'era': None}\n",
            "Messene {'start': None, 'stop': None, 'exact': None, 'or': None, 'type': 'unknown', 'era': None}\n",
            "154/5 AD {'start': 154, 'stop': 155, 'exact': None, 'or': None, 'type': 'range', 'era': None}\n",
            "66/7 AD {'start': 66, 'stop': 67, 'exact': None, 'or': None, 'type': 'range', 'era': None}\n",
            "Hellenistic period  {'start': -330, 'stop': -30, 'exact': None, 'or': None, 'type': 'range+period', 'era': 'BC', 'source': 'PeriodO', 'notes': nan, 'link': 'http://n2t.net/ark:/99152/p03wskd55sw'}\n",
            "ca. 213 BC? {'start': -218, 'stop': -208, 'exact': None, 'or': None, 'type': 'exact+phase+ca', 'era': None, 'certainty': '?'}\n",
            "Telmessos {'start': None, 'stop': None, 'exact': None, 'or': None, 'type': 'unknown', 'era': None}\n",
            "late 1st c. AD? {'start': 75.0, 'stop': 100, 'exact': None, 'or': None, 'type': 'range+cent+phase+late', 'era': 'AD', 'certainty': '?'}\n",
            "Rom. Imp. period {'start': -31, 'stop': 410, 'exact': None, 'or': None, 'type': 'range+period', 'era': 'BC/AD', 'source': 'PeriodO', 'notes': nan, 'link': 'http://n2t.net/ark:/99152/p08m57hqcc5'}\n",
            "Mytilene {'start': None, 'stop': None, 'exact': None, 'or': None, 'type': 'unknown', 'era': None}\n",
            "1st c. BC/1st c. AD  {'start': -100, 'stop': 100, 'exact': None, 'or': None, 'type': 'range+cent+morece', 'era': 'BC/AD'}\n",
            "Alexandria: Kōm el-Shugafa {'start': None, 'stop': None, 'exact': None, 'or': None, 'type': 'unknown', 'era': None}\n",
            "Alexandria Mus. [Rhodes] {'start': None, 'stop': None, 'exact': None, 'or': None, 'type': 'unknown', 'era': None}\n",
            "Alexandria Mus. [Rhodes] {'start': None, 'stop': None, 'exact': None, 'or': None, 'type': 'unknown', 'era': None}\n",
            "Arsinoïte Nome (Faiyūm) {'start': None, 'stop': None, 'exact': None, 'or': None, 'type': 'unknown', 'era': None}\n",
            "Arsinoïte Nome (Faiyūm)? {'start': None, 'stop': None, 'exact': None, 'or': None, 'type': 'unknown', 'era': None, 'certainty': '?'}\n",
            "3rd c. BC {'start': -300, 'stop': -201, 'exact': None, 'or': None, 'type': 'range+cent', 'era': 'BC'}\n",
            "3rd c. AD  {'start': 201, 'stop': 300, 'exact': None, 'or': None, 'type': 'range+cent', 'era': 'AD'}\n",
            "Minoa {'start': None, 'stop': None, 'exact': None, 'or': None, 'type': 'unknown', 'era': None}\n",
            "Nakoleia (Seyitgazi) {'start': None, 'stop': None, 'exact': None, 'or': None, 'type': 'unknown', 'era': None}\n",
            "Skepseis kai Entyposeis (1962) 92 {'start': None, 'stop': None, 'exact': None, 'or': None, 'type': 'unknown', 'era': None}\n",
            "89-91 AD  {'start': 89, 'stop': 91, 'exact': None, 'or': None, 'type': 'range', 'era': 'AD'}\n",
            "3rd c. AD  {'start': 201, 'stop': 300, 'exact': None, 'or': None, 'type': 'range+cent', 'era': 'AD'}\n",
            "2nd/3rd c. AD {'start': 101, 'stop': 300, 'exact': None, 'or': None, 'type': 'range+cent+morece', 'era': 'AD'}\n",
            "Nikomedeia (Izmit) {'start': None, 'stop': None, 'exact': None, 'or': None, 'type': 'unknown', 'era': None}\n",
            "Prusias ad Hypium (Üskübü) {'start': None, 'stop': None, 'exact': None, 'or': None, 'type': 'unknown', 'era': None}\n"
          ],
          "name": "stdout"
        }
      ]
    },
    {
      "cell_type": "code",
      "metadata": {
        "id": "a3eNW_GHSbNA",
        "colab_type": "code",
        "colab": {}
      },
      "source": [
        "PHI_list_of_dict = []\n",
        "for inscription_date_tuple in list(zip(PHI_by_500[\"PHI_ID\"].tolist(), PHI_by_500[\"tildeinfo\"].tolist(),  PHI_by_500[\"raw_date\"].tolist())):\n",
        "  dating = date_extractor(inscription_date_tuple[2])\n",
        "  data_dict = {\"PHI_ID\": inscription_date_tuple[0], \"tildeinfo\" : inscription_date_tuple[1], \"raw_date\" : inscription_date_tuple[2]}\n",
        "  data_dict.update(dating)\n",
        "  PHI_list_of_dict.append(data_dict)"
      ],
      "execution_count": 483,
      "outputs": []
    },
    {
      "cell_type": "code",
      "metadata": {
        "id": "yrLrFl8ZT9cw",
        "colab_type": "code",
        "colab": {
          "base_uri": "https://localhost:8080/",
          "height": 204
        },
        "outputId": "3b88d83e-d80b-4ab0-bda5-aeae1b75cd83"
      },
      "source": [
        "PHI_by_500_dates_v8 = pd.DataFrame(PHI_list_of_dict)\n",
        "PHI_by_500_dates_v8.head(5)"
      ],
      "execution_count": 484,
      "outputs": [
        {
          "output_type": "execute_result",
          "data": {
            "text/html": [
              "<div>\n",
              "<style scoped>\n",
              "    .dataframe tbody tr th:only-of-type {\n",
              "        vertical-align: middle;\n",
              "    }\n",
              "\n",
              "    .dataframe tbody tr th {\n",
              "        vertical-align: top;\n",
              "    }\n",
              "\n",
              "    .dataframe thead th {\n",
              "        text-align: right;\n",
              "    }\n",
              "</style>\n",
              "<table border=\"1\" class=\"dataframe\">\n",
              "  <thead>\n",
              "    <tr style=\"text-align: right;\">\n",
              "      <th></th>\n",
              "      <th>PHI_ID</th>\n",
              "      <th>tildeinfo</th>\n",
              "      <th>raw_date</th>\n",
              "      <th>start</th>\n",
              "      <th>stop</th>\n",
              "      <th>exact</th>\n",
              "      <th>or</th>\n",
              "      <th>type</th>\n",
              "      <th>era</th>\n",
              "      <th>source</th>\n",
              "      <th>notes</th>\n",
              "      <th>link</th>\n",
              "      <th>certainty</th>\n",
              "    </tr>\n",
              "  </thead>\n",
              "  <tbody>\n",
              "    <tr>\n",
              "      <th>0</th>\n",
              "      <td>262001</td>\n",
              "      <td>IStr 427</td>\n",
              "      <td>IStr 427</td>\n",
              "      <td>NaN</td>\n",
              "      <td>None</td>\n",
              "      <td>NaN</td>\n",
              "      <td>None</td>\n",
              "      <td>unknown</td>\n",
              "      <td>None</td>\n",
              "      <td>NaN</td>\n",
              "      <td>NaN</td>\n",
              "      <td>NaN</td>\n",
              "      <td>NaN</td>\n",
              "    </tr>\n",
              "    <tr>\n",
              "      <th>1</th>\n",
              "      <td>266001</td>\n",
              "      <td>Pont. — Amasia — Rom. Imp. period</td>\n",
              "      <td>Rom. Imp. period</td>\n",
              "      <td>-31.0</td>\n",
              "      <td>410</td>\n",
              "      <td>NaN</td>\n",
              "      <td>None</td>\n",
              "      <td>range+period</td>\n",
              "      <td>BC/AD</td>\n",
              "      <td>PeriodO</td>\n",
              "      <td>NaN</td>\n",
              "      <td>http://n2t.net/ark:/99152/p08m57hqcc5</td>\n",
              "      <td>NaN</td>\n",
              "    </tr>\n",
              "    <tr>\n",
              "      <th>2</th>\n",
              "      <td>231001</td>\n",
              "      <td>Att. — Athens: Agora — 220/19</td>\n",
              "      <td>220/19</td>\n",
              "      <td>-220.0</td>\n",
              "      <td>-219</td>\n",
              "      <td>NaN</td>\n",
              "      <td>None</td>\n",
              "      <td>range</td>\n",
              "      <td>None</td>\n",
              "      <td>NaN</td>\n",
              "      <td>NaN</td>\n",
              "      <td>NaN</td>\n",
              "      <td>NaN</td>\n",
              "    </tr>\n",
              "    <tr>\n",
              "      <th>3</th>\n",
              "      <td>79501</td>\n",
              "      <td>Thasos</td>\n",
              "      <td>Thasos</td>\n",
              "      <td>NaN</td>\n",
              "      <td>None</td>\n",
              "      <td>NaN</td>\n",
              "      <td>None</td>\n",
              "      <td>unknown</td>\n",
              "      <td>None</td>\n",
              "      <td>NaN</td>\n",
              "      <td>NaN</td>\n",
              "      <td>NaN</td>\n",
              "      <td>NaN</td>\n",
              "    </tr>\n",
              "    <tr>\n",
              "      <th>4</th>\n",
              "      <td>218501</td>\n",
              "      <td>Eg. — el-Boueib</td>\n",
              "      <td>el-Boueib</td>\n",
              "      <td>NaN</td>\n",
              "      <td>None</td>\n",
              "      <td>NaN</td>\n",
              "      <td>None</td>\n",
              "      <td>unknown</td>\n",
              "      <td>None</td>\n",
              "      <td>NaN</td>\n",
              "      <td>NaN</td>\n",
              "      <td>NaN</td>\n",
              "      <td>NaN</td>\n",
              "    </tr>\n",
              "  </tbody>\n",
              "</table>\n",
              "</div>"
            ],
            "text/plain": [
              "   PHI_ID  ... certainty\n",
              "0  262001  ...       NaN\n",
              "1  266001  ...       NaN\n",
              "2  231001  ...       NaN\n",
              "3   79501  ...       NaN\n",
              "4  218501  ...       NaN\n",
              "\n",
              "[5 rows x 13 columns]"
            ]
          },
          "metadata": {
            "tags": []
          },
          "execution_count": 484
        }
      ]
    },
    {
      "cell_type": "code",
      "metadata": {
        "id": "e16RPHQAVFQc",
        "colab_type": "code",
        "colab": {}
      },
      "source": [
        "set_with_dataframe(PHI_overview.add_worksheet(\"PHI_by_500_dates_v8\", 1,1), PHI_by_500_dates_v8)"
      ],
      "execution_count": 489,
      "outputs": []
    },
    {
      "cell_type": "markdown",
      "metadata": {
        "id": "2bV1j_tDHhsy",
        "colab_type": "text"
      },
      "source": [
        "# Match \"/\" for individual dates"
      ]
    },
    {
      "cell_type": "code",
      "metadata": {
        "id": "u_Sa4Ql94vyI",
        "colab_type": "code",
        "colab": {}
      },
      "source": [
        "def match_or(datation):\n",
        "  match = re.search(r'(\\d+)(\\/)(\\d+)', str(datation), flags=re.IGNORECASE)\n",
        "  if match != None:\n",
        "      date1 = match.groups()[0]\n",
        "      date2 = match.groups()[2]\n",
        "      len_diff = len(date1) - len(date2)\n",
        "      if len_diff > 0:\n",
        "        date2 = date1[:len_diff] + date2\n",
        "      date1 = int(date1)\n",
        "      date2 = int(date2)\n",
        "      if \"AD\" not in datation:\n",
        "        date1 = int(date1) * -1\n",
        "        date2 = {int(date2) * -1\n",
        "      return {\"exact\" : date1, \"or\": date2, \"type\" : \"or\"}\n",
        "  else:\n",
        "      return {\"type\" : \"unknown\"}\n"
      ],
      "execution_count": null,
      "outputs": []
    },
    {
      "cell_type": "code",
      "metadata": {
        "id": "1hHnkA-UCzYt",
        "colab_type": "code",
        "colab": {
          "base_uri": "https://localhost:8080/",
          "height": 68
        },
        "outputId": "f125b72a-dcc0-4632-ccf4-6a5426e20600"
      },
      "source": [
        "ors = PHI_by_500[PHI_by_500[\"raw_date\"].str.contains(r'(\\d+)(\\/)(\\d+)')][\"raw_date\"].tolist()\n",
        "print(ors)"
      ],
      "execution_count": null,
      "outputs": [
        {
          "output_type": "stream",
          "text": [
            "[' 220/19', ' 12/1 BC', ' 116/5 BC', ' 229/30 or 230/1 AD ', ' ante 336/5', ' 204/3?', ' 73/4 AD', ' ca. 163/2 BC', ' 128/127 BC ', ' shortly after 208/7 BC (or 207/6) ', ' 154/5 AD', ' 66/7 AD']\n"
          ],
          "name": "stdout"
        },
        {
          "output_type": "stream",
          "text": [
            "/usr/local/lib/python3.6/dist-packages/pandas/core/strings.py:1954: UserWarning: This pattern has match groups. To actually get the groups, use str.extract.\n",
            "  return func(self, *args, **kwargs)\n"
          ],
          "name": "stderr"
        }
      ]
    },
    {
      "cell_type": "code",
      "metadata": {
        "id": "iGEFwL8X854e",
        "colab_type": "code",
        "colab": {
          "base_uri": "https://localhost:8080/",
          "height": 221
        },
        "outputId": "75fe9e28-eadb-4b42-fc92-18e5d4a8b9ab"
      },
      "source": [
        "# example/testing\n",
        "for our_or in ors:\n",
        "  print({our_or: match_or(our_or)})\n"
      ],
      "execution_count": null,
      "outputs": [
        {
          "output_type": "stream",
          "text": [
            "{' 220/19': {'exact': -220, 'or': -219, 'type': 'or'}}\n",
            "{' 12/1 BC': {'exact': -12, 'or': -11, 'type': 'or'}}\n",
            "{' 116/5 BC': {'exact': -116, 'or': -115, 'type': 'or'}}\n",
            "{' 229/30 or 230/1 AD ': {'exact': 229, 'or': 230, 'type': 'or'}}\n",
            "{' ante 336/5': {'exact': -336, 'or': -335, 'type': 'or'}}\n",
            "{' 204/3?': {'exact': -204, 'or': -203, 'type': 'or'}}\n",
            "{' 73/4 AD': {'exact': 73, 'or': 74, 'type': 'or'}}\n",
            "{' ca. 163/2 BC': {'exact': -163, 'or': -162, 'type': 'or'}}\n",
            "{' 128/127 BC ': {'exact': -128, 'or': -127, 'type': 'or'}}\n",
            "{' shortly after 208/7 BC (or 207/6) ': {'exact': -208, 'or': -207, 'type': 'or'}}\n",
            "{' 154/5 AD': {'exact': 154, 'or': 155, 'type': 'or'}}\n",
            "{' 66/7 AD': {'exact': 66, 'or': 67, 'type': 'or'}}\n"
          ],
          "name": "stdout"
        }
      ]
    },
    {
      "cell_type": "code",
      "metadata": {
        "id": "kemxIJc73BWt",
        "colab_type": "code",
        "colab": {
          "base_uri": "https://localhost:8080/",
          "height": 68
        },
        "outputId": "d7e95f0b-13f7-49af-ae3b-eaa5ed36b637"
      },
      "source": [
        "ors = PHI_by_500[PHI_by_500[\"raw_date\"].str.contains(\"(\\d+)(\\/)(\\d+)\")][\"raw_date\"].tolist()\n",
        "print(ors)"
      ],
      "execution_count": null,
      "outputs": [
        {
          "output_type": "stream",
          "text": [
            "[' 220/19', ' 12/1 BC', ' 116/5 BC', ' 229/30 or 230/1 AD ', ' ante 336/5', ' 204/3?', ' 73/4 AD', ' ca. 163/2 BC', ' 128/127 BC ', ' shortly after 208/7 BC (or 207/6) ', ' 154/5 AD', ' 66/7 AD']\n"
          ],
          "name": "stdout"
        },
        {
          "output_type": "stream",
          "text": [
            "/usr/local/lib/python3.6/dist-packages/pandas/core/strings.py:1954: UserWarning: This pattern has match groups. To actually get the groups, use str.extract.\n",
            "  return func(self, *args, **kwargs)\n"
          ],
          "name": "stderr"
        }
      ]
    },
    {
      "cell_type": "markdown",
      "metadata": {
        "id": "XN8vR4hjH6hX",
        "colab_type": "text"
      },
      "source": [
        "# Under development"
      ]
    },
    {
      "cell_type": "code",
      "metadata": {
        "id": "JLLGvf1C2ycH",
        "colab_type": "code",
        "colab": {
          "base_uri": "https://localhost:8080/",
          "height": 1000
        },
        "outputId": "94c63aec-c1d2-4aca-d6d9-e5f84ee43ac1"
      },
      "source": [
        "PHI_by_500[PHI_by_500[\"raw_date\"].str.contains(\"/\")]"
      ],
      "execution_count": null,
      "outputs": [
        {
          "output_type": "execute_result",
          "data": {
            "text/html": [
              "<div>\n",
              "<style scoped>\n",
              "    .dataframe tbody tr th:only-of-type {\n",
              "        vertical-align: middle;\n",
              "    }\n",
              "\n",
              "    .dataframe tbody tr th {\n",
              "        vertical-align: top;\n",
              "    }\n",
              "\n",
              "    .dataframe thead th {\n",
              "        text-align: right;\n",
              "    }\n",
              "</style>\n",
              "<table border=\"1\" class=\"dataframe\">\n",
              "  <thead>\n",
              "    <tr style=\"text-align: right;\">\n",
              "      <th></th>\n",
              "      <th>URL</th>\n",
              "      <th>Book</th>\n",
              "      <th>Text</th>\n",
              "      <th>hdr1</th>\n",
              "      <th>hdr2</th>\n",
              "      <th>tildeinfo</th>\n",
              "      <th>note</th>\n",
              "      <th>lines</th>\n",
              "      <th>metadata</th>\n",
              "      <th>data</th>\n",
              "      <th>filename</th>\n",
              "      <th>PHI_ID</th>\n",
              "      <th>raw_date</th>\n",
              "    </tr>\n",
              "  </thead>\n",
              "  <tbody>\n",
              "    <tr>\n",
              "      <th>1260</th>\n",
              "      <td>/text/231001?location=1365&amp;patt=&amp;bookid=394&amp;of...</td>\n",
              "      <td>Agora XV</td>\n",
              "      <td>130</td>\n",
              "      <td>Regions\\nAttica (IG I-III)\\nAttica</td>\n",
              "      <td>Agora XV\\n130</td>\n",
              "      <td>Att. — Athens: Agora — 220/19</td>\n",
              "      <td>{}</td>\n",
              "      <td>149</td>\n",
              "      <td>1\\n\\n\\n\\n5\\n\\n\\n\\n\\n10\\n\\n\\n\\n\\n15\\n\\n\\n\\n\\n20...</td>\n",
              "      <td>ἐπὶ Μενεκράτου ἄρχοντος ἐπὶ τῆς Οἰνεῖδος ἕκτη-...</td>\n",
              "      <td>Agora-XV.csv</td>\n",
              "      <td>231001</td>\n",
              "      <td>220/19</td>\n",
              "    </tr>\n",
              "    <tr>\n",
              "      <th>7001</th>\n",
              "      <td>/text/298501?location=1237&amp;patt=&amp;bookid=735&amp;of...</td>\n",
              "      <td>IDR III,1</td>\n",
              "      <td>153</td>\n",
              "      <td>Regions\\nThrace and the Lower Danube (IG X)\\nD...</td>\n",
              "      <td>IDR III,1\\n153</td>\n",
              "      <td>Dacia Sup. — Tibiscum (Jupa) — 2nd/3rd c. AD</td>\n",
              "      <td>{}</td>\n",
              "      <td>8</td>\n",
              "      <td>1\\n\\n\\n\\n5\\n\\n\\n</td>\n",
              "      <td>D(is) M(anibus)\\nP(ublius) Ael(ius) Claudia-\\n...</td>\n",
              "      <td>IDR-III-1.csv</td>\n",
              "      <td>298501</td>\n",
              "      <td>2nd/3rd c. AD</td>\n",
              "    </tr>\n",
              "    <tr>\n",
              "      <th>15498</th>\n",
              "      <td>/text/243501?location=1498&amp;patt=&amp;bookid=474&amp;of...</td>\n",
              "      <td>IGLSyr 4</td>\n",
              "      <td>1271B,g</td>\n",
              "      <td>Regions\\nGreater Syria and the East\\nSyria and...</td>\n",
              "      <td>IGLSyr 4\\n1271B,g</td>\n",
              "      <td>Syr., Laodik. — Laodicea — 12/1 BC</td>\n",
              "      <td>{}</td>\n",
              "      <td>2</td>\n",
              "      <td>1\\n</td>\n",
              "      <td>ζλʹ {²sc. ἔτους}², ἑκκα-\\nιδέκατον.</td>\n",
              "      <td>IGLSyr-4.csv</td>\n",
              "      <td>243501</td>\n",
              "      <td>12/1 BC</td>\n",
              "    </tr>\n",
              "    <tr>\n",
              "      <th>16567</th>\n",
              "      <td>/text/299501?location=1237&amp;patt=&amp;bookid=737&amp;of...</td>\n",
              "      <td>IDR III,3</td>\n",
              "      <td>182</td>\n",
              "      <td>Regions\\nThrace and the Lower Danube (IG X)\\nD...</td>\n",
              "      <td>IDR III,3\\n182</td>\n",
              "      <td>Dacia Sup. — Micia (Vețel)? — Chimindia — 2nd/...</td>\n",
              "      <td>{}</td>\n",
              "      <td>9</td>\n",
              "      <td>frg. a\\n\\n\\n\\n\\nfrg. b\\n\\n\\n</td>\n",
              "      <td>[— — — — — — — — — — — —]\\n[— —] quondam Pompo...</td>\n",
              "      <td>IDR-III-3.csv</td>\n",
              "      <td>299501</td>\n",
              "      <td>2nd/3rd c. AD</td>\n",
              "    </tr>\n",
              "    <tr>\n",
              "      <th>24698</th>\n",
              "      <td>/text/64501?location=915&amp;patt=&amp;bookid=1&amp;offset...</td>\n",
              "      <td>ID</td>\n",
              "      <td>2057</td>\n",
              "      <td>Regions\\nAegean Islands, incl. Crete (IG XI-[X...</td>\n",
              "      <td>ID\\n2057</td>\n",
              "      <td>Delos — 116/5 BC</td>\n",
              "      <td>{}</td>\n",
              "      <td>6</td>\n",
              "      <td>1\\n\\n\\n\\n5\\n</td>\n",
              "      <td>Διονύσιος\\nΔιονυσίου\\nΣφή&lt;τ&gt;τιος, ἱερεὺς\\nγενό...</td>\n",
              "      <td>ID.csv</td>\n",
              "      <td>64501</td>\n",
              "      <td>116/5 BC</td>\n",
              "    </tr>\n",
              "    <tr>\n",
              "      <th>35543</th>\n",
              "      <td>/text/217001?location=1497&amp;patt=&amp;bookid=362&amp;of...</td>\n",
              "      <td>Bernand, Inscr. Métr.</td>\n",
              "      <td>113</td>\n",
              "      <td>Regions\\nEgypt, Nubia and Cyrenaïca\\nEgypt and...</td>\n",
              "      <td>Bernand, Inscr. Métr.\\n113</td>\n",
              "      <td>Eg. — Naukratis (Kōm Giéif) — 3rd/2nd c. BC?</td>\n",
              "      <td>{}</td>\n",
              "      <td>4</td>\n",
              "      <td>1\\n\\n\\n</td>\n",
              "      <td>Νειλούσσης ἀλόχου τήνδ’ εἰκόνα Παρθενοπαί[ου]\\...</td>\n",
              "      <td>Bernand--Inscr.-M-tr..csv</td>\n",
              "      <td>217001</td>\n",
              "      <td>3rd/2nd c. BC?</td>\n",
              "    </tr>\n",
              "    <tr>\n",
              "      <th>38001</th>\n",
              "      <td>/text/228501?location=1497&amp;patt=&amp;bookid=389&amp;of...</td>\n",
              "      <td>Delta I</td>\n",
              "      <td>662,198</td>\n",
              "      <td>Regions\\nEgypt, Nubia and Cyrenaïca\\nEgypt and...</td>\n",
              "      <td>Delta I\\n662,198</td>\n",
              "      <td>Eg. — Naukratis — 6th/5th c. BC</td>\n",
              "      <td>{}</td>\n",
              "      <td>1</td>\n",
              "      <td>1</td>\n",
              "      <td>Κ̣α̣ρό̣φνης με ἀνέθηκε τἀπό̣[λλοˉνι το͂ι Μ]ιλα...</td>\n",
              "      <td>Delta-I.csv</td>\n",
              "      <td>228501</td>\n",
              "      <td>6th/5th c. BC</td>\n",
              "    </tr>\n",
              "    <tr>\n",
              "      <th>38501</th>\n",
              "      <td>/text/229001?location=1497&amp;patt=&amp;bookid=389&amp;of...</td>\n",
              "      <td>Delta I</td>\n",
              "      <td>712,699</td>\n",
              "      <td>Regions\\nEgypt, Nubia and Cyrenaïca\\nEgypt and...</td>\n",
              "      <td>Delta I\\n712,699</td>\n",
              "      <td>Eg. — Naukratis — 6th/5th c. BC</td>\n",
              "      <td>{}</td>\n",
              "      <td>1</td>\n",
              "      <td>1</td>\n",
              "      <td>[Ἀ]πόλλ[ωνός ἐˉμι].</td>\n",
              "      <td>Delta-I.csv</td>\n",
              "      <td>229001</td>\n",
              "      <td>6th/5th c. BC</td>\n",
              "    </tr>\n",
              "    <tr>\n",
              "      <th>58576</th>\n",
              "      <td>/text/291501?location=1&amp;patt=&amp;bookid=172&amp;offse...</td>\n",
              "      <td>SEG</td>\n",
              "      <td>21:506</td>\n",
              "      <td>Regions</td>\n",
              "      <td>SEG\\n21:506</td>\n",
              "      <td>Att. — 229/30 or 230/1 AD — IG II² 1064+</td>\n",
              "      <td>{}</td>\n",
              "      <td>69</td>\n",
              "      <td>\\n\\n\\nfrg. a.1\\n\\n\\n\\n5\\n\\n\\n\\n\\n10\\nfrg. b.10...</td>\n",
              "      <td>IG II(2) 1064+, Oliver, Hesp. Suppl. VI (1941)...</td>\n",
              "      <td>SEG.csv</td>\n",
              "      <td>291501</td>\n",
              "      <td>229/30 or 230/1 AD</td>\n",
              "    </tr>\n",
              "    <tr>\n",
              "      <th>60698</th>\n",
              "      <td>/text/152001?location=1&amp;patt=&amp;bookid=172&amp;offse...</td>\n",
              "      <td>SEG</td>\n",
              "      <td>26:759</td>\n",
              "      <td>Regions</td>\n",
              "      <td>SEG\\n26:759</td>\n",
              "      <td>Makedonia (Mygdonia) — Thessalonike — 2nd/3rd ...</td>\n",
              "      <td>{}</td>\n",
              "      <td>3</td>\n",
              "      <td>6\\n\\n</td>\n",
              "      <td>. . . εἰ δέ\\n[τις ἕτ]ε̣ρος κα-\\n[ταθῇ ἕτερον π...</td>\n",
              "      <td>SEG.csv</td>\n",
              "      <td>152001</td>\n",
              "      <td>2nd/3rd c. AD</td>\n",
              "    </tr>\n",
              "    <tr>\n",
              "      <th>62919</th>\n",
              "      <td>/text/226501?location=1&amp;patt=&amp;bookid=172&amp;offse...</td>\n",
              "      <td>SEG</td>\n",
              "      <td>28:1530</td>\n",
              "      <td>Regions</td>\n",
              "      <td>SEG\\n28:1530</td>\n",
              "      <td>Eg. — Terenouthis (Kōm Abu Bellou) — 3rd/4th c...</td>\n",
              "      <td>{}</td>\n",
              "      <td>3</td>\n",
              "      <td>1\\n\\n</td>\n",
              "      <td>ἐνθάδε κεῖται\\nγυνὴ πάνυ σώφρων Ἀρτεμιδώρα\\nεὐ...</td>\n",
              "      <td>SEG.csv</td>\n",
              "      <td>226501</td>\n",
              "      <td>3rd/4th c. AD</td>\n",
              "    </tr>\n",
              "    <tr>\n",
              "      <th>88162</th>\n",
              "      <td>/text/2501?location=1365&amp;patt=&amp;bookid=5&amp;offset...</td>\n",
              "      <td>IG II²</td>\n",
              "      <td>284</td>\n",
              "      <td>Regions\\nAttica (IG I-III)\\nAttica</td>\n",
              "      <td>IG II²\\n284</td>\n",
              "      <td>Att. — stoich. 28 — ante 336/5</td>\n",
              "      <td>{}</td>\n",
              "      <td>17</td>\n",
              "      <td>1\\n\\n\\n\\n5\\n\\n\\n\\n\\n10\\n\\n\\n\\n\\n15\\n\\n</td>\n",
              "      <td>․․․7․․․#⁷#⁷#⁷․․․․․․․․18․․․․․․․․\\n․․․κράτης κα[...</td>\n",
              "      <td>IG-II-.csv</td>\n",
              "      <td>2501</td>\n",
              "      <td>ante 336/5</td>\n",
              "    </tr>\n",
              "    <tr>\n",
              "      <th>88662</th>\n",
              "      <td>/text/3001?location=1365&amp;patt=&amp;bookid=5&amp;offset...</td>\n",
              "      <td>IG II²</td>\n",
              "      <td>783</td>\n",
              "      <td>Regions\\nAttica (IG I-III)\\nAttica</td>\n",
              "      <td>IG II²\\n783</td>\n",
              "      <td>Att. — non-stoich. — 204/3?</td>\n",
              "      <td>{}</td>\n",
              "      <td>10</td>\n",
              "      <td>1\\n\\n\\n\\n5\\n\\n\\n\\n\\n10</td>\n",
              "      <td>[ἐπὶ — — — ἄρ]χοντος ἐπὶ τῆς Αἰαντίδος δωδεκάτ...</td>\n",
              "      <td>IG-II-.csv</td>\n",
              "      <td>3001</td>\n",
              "      <td>204/3?</td>\n",
              "    </tr>\n",
              "    <tr>\n",
              "      <th>90162</th>\n",
              "      <td>/text/4501?location=1365&amp;patt=&amp;bookid=5&amp;offset...</td>\n",
              "      <td>IG II²</td>\n",
              "      <td>2266</td>\n",
              "      <td>Regions\\nAttica (IG I-III)\\nAttica</td>\n",
              "      <td>IG II²\\n2266</td>\n",
              "      <td>Att. — [s. II/III p.]</td>\n",
              "      <td>{}</td>\n",
              "      <td>11</td>\n",
              "      <td>col. I.1\\n\\n\\n\\n5\\n\\n\\n\\ncol. II.5a\\n6a\\n7a</td>\n",
              "      <td>[στρατη]γό[ς]\\n— — — Βιέ(σιος) — —\\n[κῆ]ρυξ\\n[...</td>\n",
              "      <td>IG-II-.csv</td>\n",
              "      <td>4501</td>\n",
              "      <td>[s. II/III p.]</td>\n",
              "    </tr>\n",
              "    <tr>\n",
              "      <th>103790</th>\n",
              "      <td>/text/242501?location=1498&amp;patt=&amp;bookid=469&amp;of...</td>\n",
              "      <td>IGLSyr 2</td>\n",
              "      <td>427</td>\n",
              "      <td>Regions\\nGreater Syria and the East\\nSyria and...</td>\n",
              "      <td>IGLSyr 2\\n427</td>\n",
              "      <td>Syr., Antioch. — Refādé — 73/4 AD</td>\n",
              "      <td>{}</td>\n",
              "      <td>3</td>\n",
              "      <td>1\\n\\n</td>\n",
              "      <td>ἔτους βκρ Α— —\\n— —δωνις {²⁷Ἀ[φ|λα]δωνις?}²⁷ Β...</td>\n",
              "      <td>IGLSyr-2.csv</td>\n",
              "      <td>242501</td>\n",
              "      <td>73/4 AD</td>\n",
              "    </tr>\n",
              "    <tr>\n",
              "      <th>113220</th>\n",
              "      <td>/text/237501?location=1&amp;patt=&amp;bookid=332&amp;offse...</td>\n",
              "      <td>Polemon</td>\n",
              "      <td>4 (1949-51) 35,37b</td>\n",
              "      <td>Regions</td>\n",
              "      <td>Polemon\\n4 (1949-51) 35,37b</td>\n",
              "      <td>Att. — Athens: Nea Liosia — 1st/2nd c. AD</td>\n",
              "      <td>{}</td>\n",
              "      <td>4</td>\n",
              "      <td>1\\n\\n\\n</td>\n",
              "      <td>Γνάθιον\\nΔορκύλου\\nΠειραιέως\\nθυγάτηρ.</td>\n",
              "      <td>Polemon.csv</td>\n",
              "      <td>237501</td>\n",
              "      <td>1st/2nd c. AD</td>\n",
              "    </tr>\n",
              "    <tr>\n",
              "      <th>118743</th>\n",
              "      <td>/text/234001?location=1365&amp;patt=&amp;bookid=400&amp;of...</td>\n",
              "      <td>Agora XXI</td>\n",
              "      <td>I 18</td>\n",
              "      <td>Regions\\nAttica (IG I-III)\\nAttica</td>\n",
              "      <td>Agora XXI\\nI 18</td>\n",
              "      <td>Att. — Athens: Agora — non-stoich. — fin. s. V...</td>\n",
              "      <td>{}</td>\n",
              "      <td>3</td>\n",
              "      <td>1\\n\\n</td>\n",
              "      <td>ἐπινε(ήσεως) ιʹ\\nχω(ρίου) ἀγορέ(ου)\\nξ(έσται) ιʹ</td>\n",
              "      <td>Agora-XXI.csv</td>\n",
              "      <td>234001</td>\n",
              "      <td>fin. s. V/VI p.</td>\n",
              "    </tr>\n",
              "    <tr>\n",
              "      <th>121772</th>\n",
              "      <td>/text/172501?location=12&amp;patt=&amp;bookid=197&amp;offs...</td>\n",
              "      <td>IGLRom</td>\n",
              "      <td>310</td>\n",
              "      <td>Regions\\nThrace and the Lower Danube (IG X)</td>\n",
              "      <td>IGLRom\\n310</td>\n",
              "      <td>Dacia — Sucidava (Corabia) — 5th/6th c. AD</td>\n",
              "      <td>{}</td>\n",
              "      <td>1</td>\n",
              "      <td>1</td>\n",
              "      <td>[— —]ΑΗ[— —]</td>\n",
              "      <td>IGLRom.csv</td>\n",
              "      <td>172501</td>\n",
              "      <td>5th/6th c. AD</td>\n",
              "    </tr>\n",
              "    <tr>\n",
              "      <th>125947</th>\n",
              "      <td>/text/138001?location=1311&amp;patt=&amp;bookid=14&amp;off...</td>\n",
              "      <td>IG X,2 1</td>\n",
              "      <td>813</td>\n",
              "      <td>Regions\\nNorthern Greece (IG X)\\nMacedonia</td>\n",
              "      <td>IG X,2 1\\n813</td>\n",
              "      <td>Makedonia (Mygdonia) — Thessalonike — 2nd/3rd ...</td>\n",
              "      <td>{}</td>\n",
              "      <td>4</td>\n",
              "      <td>1\\n\\n\\n</td>\n",
              "      <td>Αὐία ∙ Τερτία καὶ Αἴλιος Τε-\\nλεσφόρος Εὐχαρίῳ...</td>\n",
              "      <td>IG-X-2-1.csv</td>\n",
              "      <td>138001</td>\n",
              "      <td>2nd/3rd c. AD</td>\n",
              "    </tr>\n",
              "    <tr>\n",
              "      <th>129476</th>\n",
              "      <td>/text/43501?location=1&amp;patt=&amp;bookid=9&amp;offset=7...</td>\n",
              "      <td>IG IX,1²</td>\n",
              "      <td>3:631</td>\n",
              "      <td>Regions</td>\n",
              "      <td>IG IX,1²\\n3:631</td>\n",
              "      <td>Lokris, W. — Naupaktos — ca. 163/2 BC</td>\n",
              "      <td>{}</td>\n",
              "      <td>14</td>\n",
              "      <td>1\\n\\n\\n\\n5\\n\\n\\n\\n\\n10\\n\\n\\n\\n</td>\n",
              "      <td>στραταγέοντος Τεισίππ-\\nου Τριχονέος, μηνὸς Ἀθ...</td>\n",
              "      <td>IG-IX-1-.csv</td>\n",
              "      <td>43501</td>\n",
              "      <td>ca. 163/2 BC</td>\n",
              "    </tr>\n",
              "    <tr>\n",
              "      <th>141613</th>\n",
              "      <td>/text/82001?location=6&amp;patt=&amp;bookid=25&amp;offset=...</td>\n",
              "      <td>IG XII Suppl.</td>\n",
              "      <td>659</td>\n",
              "      <td>Regions\\nAegean Islands, incl. Crete (IG XI-[X...</td>\n",
              "      <td>IG XII Suppl.\\n659</td>\n",
              "      <td>Euboia — Chalkis — 3rd/2nd c. BC</td>\n",
              "      <td>{}</td>\n",
              "      <td>2</td>\n",
              "      <td>1\\n</td>\n",
              "      <td>Ξεννὼ\\nΞένωνος.</td>\n",
              "      <td>IG-XII-Suppl..csv</td>\n",
              "      <td>82001</td>\n",
              "      <td>3rd/2nd c. BC</td>\n",
              "    </tr>\n",
              "    <tr>\n",
              "      <th>149439</th>\n",
              "      <td>/text/81501?location=1643&amp;patt=&amp;bookid=24&amp;offs...</td>\n",
              "      <td>IG XII,9</td>\n",
              "      <td>914</td>\n",
              "      <td>Regions\\nAegean Islands, incl. Crete (IG XI-[X...</td>\n",
              "      <td>IG XII,9\\n914</td>\n",
              "      <td>Euboia — Chalkis — 1st/2nd c. AD</td>\n",
              "      <td>{}</td>\n",
              "      <td>11</td>\n",
              "      <td>frg. a.1\\n\\n\\n\\n5\\n\\nfrg. b.1\\n\\n\\n\\n5</td>\n",
              "      <td>[— — — — —]ι̣ς\\n[— — — —]λης\\n[— — —]φάνης\\n[Ἀ...</td>\n",
              "      <td>IG-XII-9.csv</td>\n",
              "      <td>81501</td>\n",
              "      <td>1st/2nd c. AD</td>\n",
              "    </tr>\n",
              "    <tr>\n",
              "      <th>156116</th>\n",
              "      <td>/text/138501?location=1311&amp;patt=&amp;bookid=15&amp;off...</td>\n",
              "      <td>IG X,2 2</td>\n",
              "      <td>267</td>\n",
              "      <td>Regions\\nNorthern Greece (IG X)\\nMacedonia</td>\n",
              "      <td>IG X,2 2\\n267</td>\n",
              "      <td>Makedonia (Pelagonia) — Nebregovo — 2nd/3rd c....</td>\n",
              "      <td>{}</td>\n",
              "      <td>1</td>\n",
              "      <td>1</td>\n",
              "      <td>ΩϹ․ΜΗ․․․․․Ϲ[—]Ο․</td>\n",
              "      <td>IG-X-2-2.csv</td>\n",
              "      <td>138501</td>\n",
              "      <td>2nd/3rd c. AD</td>\n",
              "    </tr>\n",
              "    <tr>\n",
              "      <th>156459</th>\n",
              "      <td>/text/238501?location=1316&amp;patt=&amp;bookid=445&amp;of...</td>\n",
              "      <td>CID</td>\n",
              "      <td>3:2</td>\n",
              "      <td>Regions\\nCentral Greece (IG VII-IX)\\nDelphi</td>\n",
              "      <td>CID\\n3:2</td>\n",
              "      <td>Phokis — Delphi — 128/127 BC — FD 3:2.138</td>\n",
              "      <td>{}</td>\n",
              "      <td>41</td>\n",
              "      <td>1\\ncol. I.strophe I.1\\n\\n\\n\\n5\\n\\n\\nstrophe II...</td>\n",
              "      <td>[πα]ι̣ὰν δὲ καὶ π[ροσό]δ̣ιον εἰς τ[ὸν θεὸν ὃ ἐ...</td>\n",
              "      <td>CID.csv</td>\n",
              "      <td>238501</td>\n",
              "      <td>128/127 BC</td>\n",
              "    </tr>\n",
              "    <tr>\n",
              "      <th>159200</th>\n",
              "      <td>/text/167501?location=941&amp;patt=&amp;bookid=195&amp;off...</td>\n",
              "      <td>Perinthos-Herakleia</td>\n",
              "      <td>287</td>\n",
              "      <td>Regions\\nThrace and the Lower Danube (IG X)\\nT...</td>\n",
              "      <td>Perinthos-Herakleia\\n287</td>\n",
              "      <td>Thrace — Perinthos-Herakleia (Marmara Ereğlisi...</td>\n",
              "      <td>{}</td>\n",
              "      <td>4</td>\n",
              "      <td>1\\n\\n\\n</td>\n",
              "      <td>βαίνων ὦ πα[ροδεῖτα — —]\\nἌϊδι κεύθουσαν Π̣[— ...</td>\n",
              "      <td>Perinthos-Herakleia.csv</td>\n",
              "      <td>167501</td>\n",
              "      <td>2nd/3rd c. AD</td>\n",
              "    </tr>\n",
              "    <tr>\n",
              "      <th>160743</th>\n",
              "      <td>/text/201001?location=1362&amp;patt=&amp;bookid=293&amp;of...</td>\n",
              "      <td>IC IV</td>\n",
              "      <td>551</td>\n",
              "      <td>Regions\\nAegean Islands, incl. Crete (IG XI-[X...</td>\n",
              "      <td>IC IV\\n551</td>\n",
              "      <td>Crete, Ctr. — Gortyna — 2nd/1st c. BC</td>\n",
              "      <td>{}</td>\n",
              "      <td>10</td>\n",
              "      <td>\\n1\\n\\n\\n\\n5\\n\\n\\n\\n</td>\n",
              "      <td>[— — — — — — —]\\n[— —]․[— — — —]\\n[— —]ΟΜΝ[— —...</td>\n",
              "      <td>IC-IV.csv</td>\n",
              "      <td>201001</td>\n",
              "      <td>2nd/1st c. BC</td>\n",
              "    </tr>\n",
              "    <tr>\n",
              "      <th>163132</th>\n",
              "      <td>/text/29001?location=233&amp;patt=&amp;bookid=7&amp;offset...</td>\n",
              "      <td>IG IV²,1</td>\n",
              "      <td>561</td>\n",
              "      <td>Regions\\nPeloponnesos (IG IV-[VI])\\nEpidauria ...</td>\n",
              "      <td>IG IV²,1\\n561</td>\n",
              "      <td>Epidauria — Epidauros — 1st/2nd c. AD</td>\n",
              "      <td>{}</td>\n",
              "      <td>3</td>\n",
              "      <td>1\\n\\n</td>\n",
              "      <td>Τελεσφόρωι Σωτῆρι\\nΦάβουλλος ∙ ἐξ ὀνείρατος\\nτ...</td>\n",
              "      <td>IG-IV--1.csv</td>\n",
              "      <td>29001</td>\n",
              "      <td>1st/2nd c. AD</td>\n",
              "    </tr>\n",
              "    <tr>\n",
              "      <th>171514</th>\n",
              "      <td>/text/178501?location=1308&amp;patt=&amp;bookid=219&amp;of...</td>\n",
              "      <td>JIWE 2</td>\n",
              "      <td>290</td>\n",
              "      <td>Regions\\nSicily, Italy, and the West (IG XIV)\\...</td>\n",
              "      <td>JIWE 2\\n290</td>\n",
              "      <td>Italia — Roma: Vigna Randanini — 3rd/4th c. AD...</td>\n",
              "      <td>{}</td>\n",
              "      <td>6</td>\n",
              "      <td>1\\n\\n\\n\\n5\\n</td>\n",
              "      <td>Φλάβιος Ἰουλι-\\nανὸς ὑπηρέτης·\\nΦλαβία Ἰουλιάν...</td>\n",
              "      <td>JIWE-2.csv</td>\n",
              "      <td>178501</td>\n",
              "      <td>3rd/4th c. AD?</td>\n",
              "    </tr>\n",
              "    <tr>\n",
              "      <th>179727</th>\n",
              "      <td>/text/298001?location=1237&amp;patt=&amp;bookid=734&amp;of...</td>\n",
              "      <td>IDR II</td>\n",
              "      <td>400</td>\n",
              "      <td>Regions\\nThrace and the Lower Danube (IG X)\\nD...</td>\n",
              "      <td>IDR II\\n400</td>\n",
              "      <td>Dacia Inf. — Romula-Malva (Reșca) — 2nd/3rd c. AD</td>\n",
              "      <td>{}</td>\n",
              "      <td>1</td>\n",
              "      <td>1</td>\n",
              "      <td>[T]urranis.</td>\n",
              "      <td>IDR-II.csv</td>\n",
              "      <td>298001</td>\n",
              "      <td>2nd/3rd c. AD</td>\n",
              "    </tr>\n",
              "    <tr>\n",
              "      <th>183986</th>\n",
              "      <td>/text/194001?location=21&amp;patt=&amp;bookid=279&amp;offs...</td>\n",
              "      <td>Gonnoi II</td>\n",
              "      <td>213</td>\n",
              "      <td>Regions\\nCentral Greece (IG VII-IX)\\nThessaly ...</td>\n",
              "      <td>Gonnoi II\\n213</td>\n",
              "      <td>Thessalia (Perrhaibia) — Gonnoi — Kondylos (Ze...</td>\n",
              "      <td>Funerary epigram. Upper right corner of a whit...</td>\n",
              "      <td>19</td>\n",
              "      <td>1\\n\\n\\n\\n5\\n\\n\\n\\n\\n10\\n\\n\\n\\n\\n15\\n\\n\\n\\n</td>\n",
              "      <td>[— — — — — —]Λ̣Λ̣ΟΣΗΣΤΑΣ̣Η[․․․․]\\n[— — — — λ]υ...</td>\n",
              "      <td>Gonnoi-II.csv</td>\n",
              "      <td>194001</td>\n",
              "      <td>1st/2nd c. AD</td>\n",
              "    </tr>\n",
              "    <tr>\n",
              "      <th>193690</th>\n",
              "      <td>/text/290001?location=14&amp;patt=&amp;bookid=717&amp;offs...</td>\n",
              "      <td>IMT Siegelinschr</td>\n",
              "      <td>2935</td>\n",
              "      <td>Regions\\nAsia Minor</td>\n",
              "      <td>IMT Siegelinschr\\n2935</td>\n",
              "      <td>Mys.: Kyzikene, Kapu Dağ — Kyzikos — 6.-7.Jh.n...</td>\n",
              "      <td>{}</td>\n",
              "      <td>1</td>\n",
              "      <td>1</td>\n",
              "      <td>ἁγίας ἐκκλησίας Κυζίκου.</td>\n",
              "      <td>IMT-Siegelinschr.csv</td>\n",
              "      <td>290001</td>\n",
              "      <td>Laurent, Corpus V 357bis/1702</td>\n",
              "    </tr>\n",
              "    <tr>\n",
              "      <th>193960</th>\n",
              "      <td>/text/152501?location=1311&amp;patt=&amp;bookid=153&amp;of...</td>\n",
              "      <td>Hatzopoulos, Mac. Inst. II</td>\n",
              "      <td>53</td>\n",
              "      <td>Regions\\nNorthern Greece (IG X)\\nMacedonia</td>\n",
              "      <td>Hatzopoulos, Mac. Inst. II\\n53</td>\n",
              "      <td>Makedonia (Krestonia) — Morrylos (Ano Apostolo...</td>\n",
              "      <td>{}</td>\n",
              "      <td>24</td>\n",
              "      <td>1\\n\\n\\n\\n5\\n\\n\\n\\n\\n10\\n\\n\\n\\n\\n15\\n\\n\\n\\n\\n20...</td>\n",
              "      <td>[Ε]ὔξενος Σάμου, Μένανδρος Ὁλωίχου,\\nΝικάνωρ Π...</td>\n",
              "      <td>Hatzopoulos--Mac.-Inst.-II.csv</td>\n",
              "      <td>152501</td>\n",
              "      <td>shortly after 208/7 BC (or 207/6)</td>\n",
              "    </tr>\n",
              "    <tr>\n",
              "      <th>199352</th>\n",
              "      <td>/text/263501?location=1223&amp;patt=&amp;bookid=534&amp;of...</td>\n",
              "      <td>TAM V,1</td>\n",
              "      <td>106</td>\n",
              "      <td>Regions\\nAsia Minor\\nLydia</td>\n",
              "      <td>TAM V,1\\n106</td>\n",
              "      <td>Lyd., N.E. — Saittai (Sidasharabeleri) — Çaykö...</td>\n",
              "      <td>{}</td>\n",
              "      <td>8</td>\n",
              "      <td>1\\n\\n\\n\\n5\\n\\n\\n</td>\n",
              "      <td>ἔτους σλθʹ, μη(νὸς) Γορπιαί-\\nου γʹ. Γλύκων κα...</td>\n",
              "      <td>TAM-V-1.csv</td>\n",
              "      <td>263501</td>\n",
              "      <td>154/5 AD</td>\n",
              "    </tr>\n",
              "    <tr>\n",
              "      <th>199852</th>\n",
              "      <td>/text/264001?location=1223&amp;patt=&amp;bookid=534&amp;of...</td>\n",
              "      <td>TAM V,1</td>\n",
              "      <td>577</td>\n",
              "      <td>Regions\\nAsia Minor\\nLydia</td>\n",
              "      <td>TAM V,1\\n577</td>\n",
              "      <td>Lyd., N.E. — Maionia (Gökçeören-Menye) — Eseny...</td>\n",
              "      <td>{}</td>\n",
              "      <td>7</td>\n",
              "      <td>\\n1\\n\\n\\n\\n5\\n</td>\n",
              "      <td>[— — —]\\nρείτῃ #⁹⁰¹ ε[․․․․]\\nἩρακλείδης Με-\\nν...</td>\n",
              "      <td>TAM-V-1.csv</td>\n",
              "      <td>264001</td>\n",
              "      <td>66/7 AD</td>\n",
              "    </tr>\n",
              "    <tr>\n",
              "      <th>206309</th>\n",
              "      <td>/text/213501?location=1002&amp;patt=&amp;bookid=321&amp;of...</td>\n",
              "      <td>Rizakis, Achaïe II</td>\n",
              "      <td>80</td>\n",
              "      <td>Regions\\nPeloponnesos (IG IV-[VI])\\nAchaia</td>\n",
              "      <td>Rizakis, Achaïe II\\n80</td>\n",
              "      <td>Achaia — Patrai (Patras) — 1st c. BC/1st c. AD...</td>\n",
              "      <td>{}</td>\n",
              "      <td>4</td>\n",
              "      <td>1\\n\\n\\n</td>\n",
              "      <td>Σάλβιος Παν-\\nκράτους ὁ\\nκαὶ Πομπήιος,\\nχαῖρε.</td>\n",
              "      <td>Rizakis--Acha-e-II.csv</td>\n",
              "      <td>213501</td>\n",
              "      <td>1st c. BC/1st c. AD</td>\n",
              "    </tr>\n",
              "    <tr>\n",
              "      <th>213826</th>\n",
              "      <td>/text/299001?location=1237&amp;patt=&amp;bookid=736&amp;of...</td>\n",
              "      <td>IDR III,2</td>\n",
              "      <td>310</td>\n",
              "      <td>Regions\\nThrace and the Lower Danube (IG X)\\nD...</td>\n",
              "      <td>IDR III,2\\n310</td>\n",
              "      <td>Dacia Sup. — Ulpia Traiana-Sarmizegetusa — 2nd...</td>\n",
              "      <td>{}</td>\n",
              "      <td>3</td>\n",
              "      <td>1\\n\\n</td>\n",
              "      <td>[— Au]rel(ius) S[— — — pro sal(ute) sua]\\n[et(...</td>\n",
              "      <td>IDR-III-2.csv</td>\n",
              "      <td>299001</td>\n",
              "      <td>2nd/3rd c. AD</td>\n",
              "    </tr>\n",
              "  </tbody>\n",
              "</table>\n",
              "</div>"
            ],
            "text/plain": [
              "                                                      URL  ...                             raw_date\n",
              "1260    /text/231001?location=1365&patt=&bookid=394&of...  ...                               220/19\n",
              "7001    /text/298501?location=1237&patt=&bookid=735&of...  ...                        2nd/3rd c. AD\n",
              "15498   /text/243501?location=1498&patt=&bookid=474&of...  ...                              12/1 BC\n",
              "16567   /text/299501?location=1237&patt=&bookid=737&of...  ...                       2nd/3rd c. AD \n",
              "24698   /text/64501?location=915&patt=&bookid=1&offset...  ...                             116/5 BC\n",
              "35543   /text/217001?location=1497&patt=&bookid=362&of...  ...                       3rd/2nd c. BC?\n",
              "38001   /text/228501?location=1497&patt=&bookid=389&of...  ...                        6th/5th c. BC\n",
              "38501   /text/229001?location=1497&patt=&bookid=389&of...  ...                        6th/5th c. BC\n",
              "58576   /text/291501?location=1&patt=&bookid=172&offse...  ...                  229/30 or 230/1 AD \n",
              "60698   /text/152001?location=1&patt=&bookid=172&offse...  ...                       2nd/3rd c. AD \n",
              "62919   /text/226501?location=1&patt=&bookid=172&offse...  ...                       3rd/4th c. AD \n",
              "88162   /text/2501?location=1365&patt=&bookid=5&offset...  ...                           ante 336/5\n",
              "88662   /text/3001?location=1365&patt=&bookid=5&offset...  ...                               204/3?\n",
              "90162   /text/4501?location=1365&patt=&bookid=5&offset...  ...                       [s. II/III p.]\n",
              "103790  /text/242501?location=1498&patt=&bookid=469&of...  ...                              73/4 AD\n",
              "113220  /text/237501?location=1&patt=&bookid=332&offse...  ...                        1st/2nd c. AD\n",
              "118743  /text/234001?location=1365&patt=&bookid=400&of...  ...                      fin. s. V/VI p.\n",
              "121772  /text/172501?location=12&patt=&bookid=197&offs...  ...                        5th/6th c. AD\n",
              "125947  /text/138001?location=1311&patt=&bookid=14&off...  ...                        2nd/3rd c. AD\n",
              "129476  /text/43501?location=1&patt=&bookid=9&offset=7...  ...                         ca. 163/2 BC\n",
              "141613  /text/82001?location=6&patt=&bookid=25&offset=...  ...                        3rd/2nd c. BC\n",
              "149439  /text/81501?location=1643&patt=&bookid=24&offs...  ...                        1st/2nd c. AD\n",
              "156116  /text/138501?location=1311&patt=&bookid=15&off...  ...                       2nd/3rd c. AD \n",
              "156459  /text/238501?location=1316&patt=&bookid=445&of...  ...                          128/127 BC \n",
              "159200  /text/167501?location=941&patt=&bookid=195&off...  ...                       2nd/3rd c. AD \n",
              "160743  /text/201001?location=1362&patt=&bookid=293&of...  ...                        2nd/1st c. BC\n",
              "163132  /text/29001?location=233&patt=&bookid=7&offset...  ...                        1st/2nd c. AD\n",
              "171514  /text/178501?location=1308&patt=&bookid=219&of...  ...                      3rd/4th c. AD? \n",
              "179727  /text/298001?location=1237&patt=&bookid=734&of...  ...                        2nd/3rd c. AD\n",
              "183986  /text/194001?location=21&patt=&bookid=279&offs...  ...                        1st/2nd c. AD\n",
              "193690  /text/290001?location=14&patt=&bookid=717&offs...  ...        Laurent, Corpus V 357bis/1702\n",
              "193960  /text/152501?location=1311&patt=&bookid=153&of...  ...   shortly after 208/7 BC (or 207/6) \n",
              "199352  /text/263501?location=1223&patt=&bookid=534&of...  ...                             154/5 AD\n",
              "199852  /text/264001?location=1223&patt=&bookid=534&of...  ...                              66/7 AD\n",
              "206309  /text/213501?location=1002&patt=&bookid=321&of...  ...                 1st c. BC/1st c. AD \n",
              "213826  /text/299001?location=1237&patt=&bookid=736&of...  ...                        2nd/3rd c. AD\n",
              "\n",
              "[36 rows x 13 columns]"
            ]
          },
          "metadata": {
            "tags": []
          },
          "execution_count": 35
        }
      ]
    },
    {
      "cell_type": "code",
      "metadata": {
        "id": "HVqC9c7F1-gC",
        "colab_type": "code",
        "colab": {}
      },
      "source": [
        "re.match(\"\")"
      ],
      "execution_count": null,
      "outputs": []
    },
    {
      "cell_type": "code",
      "metadata": {
        "id": "WuZGaA34GdBy",
        "colab_type": "code",
        "colab": {}
      },
      "source": [
        "set_with_dataframe(PHI_overview.add_worksheet(\"PHI_by_500_dates_v1\", 1, 1), PHI_by_500)"
      ],
      "execution_count": null,
      "outputs": []
    },
    {
      "cell_type": "code",
      "metadata": {
        "id": "Zys-5WOT7qeQ",
        "colab_type": "code",
        "colab": {}
      },
      "source": [
        ""
      ],
      "execution_count": null,
      "outputs": []
    }
  ]
}