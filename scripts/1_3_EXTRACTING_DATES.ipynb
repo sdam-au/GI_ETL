{
  "nbformat": 4,
  "nbformat_minor": 0,
  "metadata": {
    "colab": {
      "name": "1_3_EXTRACTING_DATES.ipynb",
      "provenance": [],
      "collapsed_sections": [
        "sMVLLV3VZ8AQ",
        "QpEfYagozs_0",
        "2bV1j_tDHhsy"
      ],
      "include_colab_link": true
    },
    "kernelspec": {
      "name": "python3",
      "display_name": "Python 3"
    }
  },
  "cells": [
    {
      "cell_type": "markdown",
      "metadata": {
        "id": "view-in-github",
        "colab_type": "text"
      },
      "source": [
        "<a href=\"https://colab.research.google.com/github/sdam-au/PHI_ETL/blob/master/scripts/1_3_EXTRACTING_DATES.ipynb\" target=\"_parent\"><img src=\"https://colab.research.google.com/assets/colab-badge.svg\" alt=\"Open In Colab\"/></a>"
      ]
    },
    {
      "cell_type": "code",
      "metadata": {
        "id": "JcNeUMCflzF8",
        "colab_type": "code",
        "colab": {}
      },
      "source": [
        "import numpy as np\n",
        "import math\n",
        "import pandas as pd\n",
        "import re\n",
        "\n",
        "import sys\n",
        "### we do a lot of requests during the scrapping. Some of them with requests package, some of them with urllib\n",
        "import requests\n",
        "from urllib.request import urlopen \n",
        "from urllib.parse import quote  \n",
        "from bs4 import BeautifulSoup\n",
        "import xml.etree.cElementTree as ET\n",
        "\n",
        "import zipfile\n",
        "import io\n",
        "\n",
        "# to avoid errors, we sometime use time.sleep(N) before retrying a request\n",
        "import time\n",
        "# the input data have typically a json structure\n",
        "import json\n",
        "import getpass\n",
        "\n",
        "import datetime as dt\n",
        "# for simple paralel computing:\n",
        "from concurrent.futures import ThreadPoolExecutor\n",
        "\n",
        "import gspread\n",
        "from gspread_dataframe import get_as_dataframe, set_with_dataframe\n",
        "from google.colab import auth\n",
        "from oauth2client.client import GoogleCredentials"
      ],
      "execution_count": 0,
      "outputs": []
    },
    {
      "cell_type": "code",
      "metadata": {
        "id": "YnxNQl_rN1WU",
        "colab_type": "code",
        "outputId": "c537b9ea-139e-4393-ed0b-b3564fd539ed",
        "colab": {
          "base_uri": "https://localhost:8080/",
          "height": 340
        }
      },
      "source": [
        "!pip install sddk\n",
        "import sddk"
      ],
      "execution_count": 2,
      "outputs": [
        {
          "output_type": "stream",
          "text": [
            "Collecting sddk\n",
            "  Downloading https://files.pythonhosted.org/packages/bf/96/3ae43f2d8ac06fc16ba111916970e5a1f3b96a3e41732fa3f099e2e5cd1c/sddk-2.6-py3-none-any.whl\n",
            "Requirement already satisfied: requests in /usr/local/lib/python3.6/dist-packages (from sddk) (2.23.0)\n",
            "Requirement already satisfied: matplotlib in /usr/local/lib/python3.6/dist-packages (from sddk) (3.2.1)\n",
            "Requirement already satisfied: pyarrow in /usr/local/lib/python3.6/dist-packages (from sddk) (0.14.1)\n",
            "Requirement already satisfied: pandas in /usr/local/lib/python3.6/dist-packages (from sddk) (1.0.4)\n",
            "Requirement already satisfied: numpy in /usr/local/lib/python3.6/dist-packages (from sddk) (1.18.5)\n",
            "Requirement already satisfied: chardet<4,>=3.0.2 in /usr/local/lib/python3.6/dist-packages (from requests->sddk) (3.0.4)\n",
            "Requirement already satisfied: idna<3,>=2.5 in /usr/local/lib/python3.6/dist-packages (from requests->sddk) (2.9)\n",
            "Requirement already satisfied: urllib3!=1.25.0,!=1.25.1,<1.26,>=1.21.1 in /usr/local/lib/python3.6/dist-packages (from requests->sddk) (1.24.3)\n",
            "Requirement already satisfied: certifi>=2017.4.17 in /usr/local/lib/python3.6/dist-packages (from requests->sddk) (2020.4.5.1)\n",
            "Requirement already satisfied: python-dateutil>=2.1 in /usr/local/lib/python3.6/dist-packages (from matplotlib->sddk) (2.8.1)\n",
            "Requirement already satisfied: pyparsing!=2.0.4,!=2.1.2,!=2.1.6,>=2.0.1 in /usr/local/lib/python3.6/dist-packages (from matplotlib->sddk) (2.4.7)\n",
            "Requirement already satisfied: cycler>=0.10 in /usr/local/lib/python3.6/dist-packages (from matplotlib->sddk) (0.10.0)\n",
            "Requirement already satisfied: kiwisolver>=1.0.1 in /usr/local/lib/python3.6/dist-packages (from matplotlib->sddk) (1.2.0)\n",
            "Requirement already satisfied: six>=1.0.0 in /usr/local/lib/python3.6/dist-packages (from pyarrow->sddk) (1.12.0)\n",
            "Requirement already satisfied: pytz>=2017.2 in /usr/local/lib/python3.6/dist-packages (from pandas->sddk) (2018.9)\n",
            "Installing collected packages: sddk\n",
            "Successfully installed sddk-2.6\n"
          ],
          "name": "stdout"
        }
      ]
    },
    {
      "cell_type": "code",
      "metadata": {
        "id": "MhnThoX5kUKs",
        "colab_type": "code",
        "outputId": "83dbfb3f-88d2-46ab-880a-346bf904bcd5",
        "colab": {
          "base_uri": "https://localhost:8080/",
          "height": 85
        }
      },
      "source": [
        "conf = sddk.configure(\"SDAM_root\", \"648597@au.dk\")"
      ],
      "execution_count": 3,
      "outputs": [
        {
          "output_type": "stream",
          "text": [
            "sciencedata.dk username (format '123456@au.dk'): 648597@au.dk\n",
            "sciencedata.dk password: ··········\n",
            "connection with shared folder established with you as its owner\n",
            "endpoint variable has been configured to: https://sciencedata.dk/files/SDAM_root/\n"
          ],
          "name": "stdout"
        }
      ]
    },
    {
      "cell_type": "code",
      "metadata": {
        "id": "06TCxflGbtLj",
        "colab_type": "code",
        "colab": {}
      },
      "source": [
        "### authorize google sheets\n",
        "auth.authenticate_user()\n",
        "gc = gspread.authorize(GoogleCredentials.get_application_default())\n",
        "# establish connection with particular sheet by its url:\n",
        "PHI_overview = gc.open_by_url(\"https://docs.google.com/spreadsheets/d/1zfTw0Hf304maBmrYvaMxRLnv1zfAVFixrtGTTsLCcT4/edit?usp=sharing\")"
      ],
      "execution_count": 0,
      "outputs": []
    },
    {
      "cell_type": "markdown",
      "metadata": {
        "id": "hSbHsFtn3_IA",
        "colab_type": "text"
      },
      "source": [
        "# Read data"
      ]
    },
    {
      "cell_type": "code",
      "metadata": {
        "id": "dV9g_k8d_kZU",
        "colab_type": "code",
        "colab": {}
      },
      "source": [
        "PHI = sddk.read_file(\"SDAM_data/PHI/PHI_enriched_raw.json\", \"df\", conf)"
      ],
      "execution_count": 0,
      "outputs": []
    },
    {
      "cell_type": "code",
      "metadata": {
        "id": "ZQX2wP4U4BsY",
        "colab_type": "code",
        "outputId": "289542be-8a9b-4369-d018-27e560265bad",
        "colab": {
          "base_uri": "https://localhost:8080/",
          "height": 289
        }
      },
      "source": [
        "PHI.head(5)"
      ],
      "execution_count": 6,
      "outputs": [
        {
          "output_type": "execute_result",
          "data": {
            "text/html": [
              "<div>\n",
              "<style scoped>\n",
              "    .dataframe tbody tr th:only-of-type {\n",
              "        vertical-align: middle;\n",
              "    }\n",
              "\n",
              "    .dataframe tbody tr th {\n",
              "        vertical-align: top;\n",
              "    }\n",
              "\n",
              "    .dataframe thead th {\n",
              "        text-align: right;\n",
              "    }\n",
              "</style>\n",
              "<table border=\"1\" class=\"dataframe\">\n",
              "  <thead>\n",
              "    <tr style=\"text-align: right;\">\n",
              "      <th></th>\n",
              "      <th>URL</th>\n",
              "      <th>Book</th>\n",
              "      <th>Text</th>\n",
              "      <th>hdr1</th>\n",
              "      <th>hdr2</th>\n",
              "      <th>tildeinfo</th>\n",
              "      <th>note</th>\n",
              "      <th>lines</th>\n",
              "      <th>metadata</th>\n",
              "      <th>data</th>\n",
              "      <th>filename</th>\n",
              "      <th>PHI_ID</th>\n",
              "    </tr>\n",
              "  </thead>\n",
              "  <tbody>\n",
              "    <tr>\n",
              "      <th>0</th>\n",
              "      <td>[/text/237443?location=1365&amp;patt=&amp;bookid=411&amp;b...</td>\n",
              "      <td>[CSCA]</td>\n",
              "      <td>[5 (1972) 169,3]</td>\n",
              "      <td>[Regions\\nAttica (IG I-III)\\nAttica]</td>\n",
              "      <td>[CSCA\\n5 (1972) 169,3]</td>\n",
              "      <td>[Att. — Athens: Akropolis — stoich. 28 — 303/2...</td>\n",
              "      <td>{}</td>\n",
              "      <td>[4]</td>\n",
              "      <td>[1\\n\\n\\n]</td>\n",
              "      <td>[ἐπὶ Λε[ωστράτου ἄρχοντος ἐπὶ τῆς Κ]-\\nεκρο[πί...</td>\n",
              "      <td>[CSCA.csv]</td>\n",
              "      <td>[237443]</td>\n",
              "    </tr>\n",
              "    <tr>\n",
              "      <th>1</th>\n",
              "      <td>[/text/237444?location=1365&amp;patt=&amp;bookid=411&amp;b...</td>\n",
              "      <td>[CSCA]</td>\n",
              "      <td>[5 (1972) 169,4]</td>\n",
              "      <td>[Regions\\nAttica (IG I-III)\\nAttica]</td>\n",
              "      <td>[CSCA\\n5 (1972) 169,4]</td>\n",
              "      <td>[Att. — Athens: EM — stoich. 35 — 306-302 BC]</td>\n",
              "      <td>{}</td>\n",
              "      <td>[15]</td>\n",
              "      <td>[1\\n\\n\\n\\n5\\n\\n\\n\\n\\n10\\n\\n\\n\\n\\n15]</td>\n",
              "      <td>[[․]ομε̣[․․․․․․․․․․․․․28․․․․․․․․․․․․․ τῆς]\\nπρ...</td>\n",
              "      <td>[CSCA.csv]</td>\n",
              "      <td>[237444]</td>\n",
              "    </tr>\n",
              "    <tr>\n",
              "      <th>2</th>\n",
              "      <td>[/text/237445?location=1365&amp;patt=&amp;bookid=411&amp;b...</td>\n",
              "      <td>[CSCA]</td>\n",
              "      <td>[5 (1972) 173,5]</td>\n",
              "      <td>[Regions\\nAttica (IG I-III)\\nAttica]</td>\n",
              "      <td>[CSCA\\n5 (1972) 173,5]</td>\n",
              "      <td>[Att. — Athens — non-stoich.]</td>\n",
              "      <td>{}</td>\n",
              "      <td>[16]</td>\n",
              "      <td>[1\\n\\n\\n\\n5\\n\\n\\n\\n\\n10\\n\\n\\n\\n\\n15\\n]</td>\n",
              "      <td>[— — — — —υτω․․․․11․․․․․\\n— — — — —ωντωι̣․․․․9...</td>\n",
              "      <td>[CSCA.csv]</td>\n",
              "      <td>[237445]</td>\n",
              "    </tr>\n",
              "    <tr>\n",
              "      <th>3</th>\n",
              "      <td>[/text/237446?location=1365&amp;patt=&amp;bookid=411&amp;b...</td>\n",
              "      <td>[CSCA]</td>\n",
              "      <td>[9 (1976) 9,4]</td>\n",
              "      <td>[Regions\\nAttica (IG I-III)\\nAttica]</td>\n",
              "      <td>[CSCA\\n9 (1976) 9,4]</td>\n",
              "      <td>[Att. — Athens: Eth.Mus. — 4th c. BC — SEG 26....</td>\n",
              "      <td>{}</td>\n",
              "      <td>[2]</td>\n",
              "      <td>[A.1\\nB.1]</td>\n",
              "      <td>[ψῆφος ⋮ δημοσία.\\nΔ  ․]</td>\n",
              "      <td>[CSCA.csv]</td>\n",
              "      <td>[237446]</td>\n",
              "    </tr>\n",
              "    <tr>\n",
              "      <th>4</th>\n",
              "      <td>[/text/237447?location=1365&amp;patt=&amp;bookid=411&amp;b...</td>\n",
              "      <td>[CSCA]</td>\n",
              "      <td>[9 (1976) 11,16]</td>\n",
              "      <td>[Regions\\nAttica (IG I-III)\\nAttica]</td>\n",
              "      <td>[CSCA\\n9 (1976) 11,16]</td>\n",
              "      <td>[Att. — Athens: Eth.Mus. — 4th c. BC — SEG 26....</td>\n",
              "      <td>{}</td>\n",
              "      <td>[2]</td>\n",
              "      <td>[A.1\\nB.1]</td>\n",
              "      <td>[ψῆφος ⋮ δημοσία.\\nΓ  Ε]</td>\n",
              "      <td>[CSCA.csv]</td>\n",
              "      <td>[237447]</td>\n",
              "    </tr>\n",
              "  </tbody>\n",
              "</table>\n",
              "</div>"
            ],
            "text/plain": [
              "                                                 URL  ...    PHI_ID\n",
              "0  [/text/237443?location=1365&patt=&bookid=411&b...  ...  [237443]\n",
              "1  [/text/237444?location=1365&patt=&bookid=411&b...  ...  [237444]\n",
              "2  [/text/237445?location=1365&patt=&bookid=411&b...  ...  [237445]\n",
              "3  [/text/237446?location=1365&patt=&bookid=411&b...  ...  [237446]\n",
              "4  [/text/237447?location=1365&patt=&bookid=411&b...  ...  [237447]\n",
              "\n",
              "[5 rows x 12 columns]"
            ]
          },
          "metadata": {
            "tags": []
          },
          "execution_count": 6
        }
      ]
    },
    {
      "cell_type": "code",
      "metadata": {
        "id": "YUWPxXY808-R",
        "colab_type": "code",
        "colab": {}
      },
      "source": [
        "def lists_to_values(list_or_value):\n",
        "  if isinstance(list_or_value, list):\n",
        "    value = list_or_value[0]\n",
        "  else: \n",
        "    value = list_or_value\n",
        "  return value\n",
        "for column in PHI.columns:\n",
        "  PHI[column] = PHI.apply(lambda row: lists_to_values(row[column]), axis=1)"
      ],
      "execution_count": 0,
      "outputs": []
    },
    {
      "cell_type": "code",
      "metadata": {
        "id": "RrtwIevF0xMq",
        "colab_type": "code",
        "outputId": "a2fbc823-c59f-4f4f-b4b3-702f0539385e",
        "colab": {
          "base_uri": "https://localhost:8080/",
          "height": 289
        }
      },
      "source": [
        "PHI.head(5)"
      ],
      "execution_count": 8,
      "outputs": [
        {
          "output_type": "execute_result",
          "data": {
            "text/html": [
              "<div>\n",
              "<style scoped>\n",
              "    .dataframe tbody tr th:only-of-type {\n",
              "        vertical-align: middle;\n",
              "    }\n",
              "\n",
              "    .dataframe tbody tr th {\n",
              "        vertical-align: top;\n",
              "    }\n",
              "\n",
              "    .dataframe thead th {\n",
              "        text-align: right;\n",
              "    }\n",
              "</style>\n",
              "<table border=\"1\" class=\"dataframe\">\n",
              "  <thead>\n",
              "    <tr style=\"text-align: right;\">\n",
              "      <th></th>\n",
              "      <th>URL</th>\n",
              "      <th>Book</th>\n",
              "      <th>Text</th>\n",
              "      <th>hdr1</th>\n",
              "      <th>hdr2</th>\n",
              "      <th>tildeinfo</th>\n",
              "      <th>note</th>\n",
              "      <th>lines</th>\n",
              "      <th>metadata</th>\n",
              "      <th>data</th>\n",
              "      <th>filename</th>\n",
              "      <th>PHI_ID</th>\n",
              "    </tr>\n",
              "  </thead>\n",
              "  <tbody>\n",
              "    <tr>\n",
              "      <th>0</th>\n",
              "      <td>/text/237443?location=1365&amp;patt=&amp;bookid=411&amp;bo...</td>\n",
              "      <td>CSCA</td>\n",
              "      <td>5 (1972) 169,3</td>\n",
              "      <td>Regions\\nAttica (IG I-III)\\nAttica</td>\n",
              "      <td>CSCA\\n5 (1972) 169,3</td>\n",
              "      <td>Att. — Athens: Akropolis — stoich. 28 — 303/2 BC</td>\n",
              "      <td>{}</td>\n",
              "      <td>4</td>\n",
              "      <td>1\\n\\n\\n</td>\n",
              "      <td>ἐπὶ Λε[ωστράτου ἄρχοντος ἐπὶ τῆς Κ]-\\nεκρο[πίδ...</td>\n",
              "      <td>CSCA.csv</td>\n",
              "      <td>237443</td>\n",
              "    </tr>\n",
              "    <tr>\n",
              "      <th>1</th>\n",
              "      <td>/text/237444?location=1365&amp;patt=&amp;bookid=411&amp;bo...</td>\n",
              "      <td>CSCA</td>\n",
              "      <td>5 (1972) 169,4</td>\n",
              "      <td>Regions\\nAttica (IG I-III)\\nAttica</td>\n",
              "      <td>CSCA\\n5 (1972) 169,4</td>\n",
              "      <td>Att. — Athens: EM — stoich. 35 — 306-302 BC</td>\n",
              "      <td>{}</td>\n",
              "      <td>15</td>\n",
              "      <td>1\\n\\n\\n\\n5\\n\\n\\n\\n\\n10\\n\\n\\n\\n\\n15</td>\n",
              "      <td>[․]ομε̣[․․․․․․․․․․․․․28․․․․․․․․․․․․․ τῆς]\\nπρυ...</td>\n",
              "      <td>CSCA.csv</td>\n",
              "      <td>237444</td>\n",
              "    </tr>\n",
              "    <tr>\n",
              "      <th>2</th>\n",
              "      <td>/text/237445?location=1365&amp;patt=&amp;bookid=411&amp;bo...</td>\n",
              "      <td>CSCA</td>\n",
              "      <td>5 (1972) 173,5</td>\n",
              "      <td>Regions\\nAttica (IG I-III)\\nAttica</td>\n",
              "      <td>CSCA\\n5 (1972) 173,5</td>\n",
              "      <td>Att. — Athens — non-stoich.</td>\n",
              "      <td>{}</td>\n",
              "      <td>16</td>\n",
              "      <td>1\\n\\n\\n\\n5\\n\\n\\n\\n\\n10\\n\\n\\n\\n\\n15\\n</td>\n",
              "      <td>— — — — —υτω․․․․11․․․․․\\n— — — — —ωντωι̣․․․․9․...</td>\n",
              "      <td>CSCA.csv</td>\n",
              "      <td>237445</td>\n",
              "    </tr>\n",
              "    <tr>\n",
              "      <th>3</th>\n",
              "      <td>/text/237446?location=1365&amp;patt=&amp;bookid=411&amp;bo...</td>\n",
              "      <td>CSCA</td>\n",
              "      <td>9 (1976) 9,4</td>\n",
              "      <td>Regions\\nAttica (IG I-III)\\nAttica</td>\n",
              "      <td>CSCA\\n9 (1976) 9,4</td>\n",
              "      <td>Att. — Athens: Eth.Mus. — 4th c. BC — SEG 26.1...</td>\n",
              "      <td>{}</td>\n",
              "      <td>2</td>\n",
              "      <td>A.1\\nB.1</td>\n",
              "      <td>ψῆφος ⋮ δημοσία.\\nΔ  ․</td>\n",
              "      <td>CSCA.csv</td>\n",
              "      <td>237446</td>\n",
              "    </tr>\n",
              "    <tr>\n",
              "      <th>4</th>\n",
              "      <td>/text/237447?location=1365&amp;patt=&amp;bookid=411&amp;bo...</td>\n",
              "      <td>CSCA</td>\n",
              "      <td>9 (1976) 11,16</td>\n",
              "      <td>Regions\\nAttica (IG I-III)\\nAttica</td>\n",
              "      <td>CSCA\\n9 (1976) 11,16</td>\n",
              "      <td>Att. — Athens: Eth.Mus. — 4th c. BC — SEG 26.1...</td>\n",
              "      <td>{}</td>\n",
              "      <td>2</td>\n",
              "      <td>A.1\\nB.1</td>\n",
              "      <td>ψῆφος ⋮ δημοσία.\\nΓ  Ε</td>\n",
              "      <td>CSCA.csv</td>\n",
              "      <td>237447</td>\n",
              "    </tr>\n",
              "  </tbody>\n",
              "</table>\n",
              "</div>"
            ],
            "text/plain": [
              "                                                 URL  Book  ...  filename  PHI_ID\n",
              "0  /text/237443?location=1365&patt=&bookid=411&bo...  CSCA  ...  CSCA.csv  237443\n",
              "1  /text/237444?location=1365&patt=&bookid=411&bo...  CSCA  ...  CSCA.csv  237444\n",
              "2  /text/237445?location=1365&patt=&bookid=411&bo...  CSCA  ...  CSCA.csv  237445\n",
              "3  /text/237446?location=1365&patt=&bookid=411&bo...  CSCA  ...  CSCA.csv  237446\n",
              "4  /text/237447?location=1365&patt=&bookid=411&bo...  CSCA  ...  CSCA.csv  237447\n",
              "\n",
              "[5 rows x 12 columns]"
            ]
          },
          "metadata": {
            "tags": []
          },
          "execution_count": 8
        }
      ]
    },
    {
      "cell_type": "markdown",
      "metadata": {
        "id": "sMVLLV3VZ8AQ",
        "colab_type": "text"
      },
      "source": [
        "# Old version of date extraction"
      ]
    },
    {
      "cell_type": "code",
      "metadata": {
        "id": "LtddH6hLcFiD",
        "colab_type": "code",
        "colab": {}
      },
      "source": [
        "def date_extractor(date_value):\n",
        "    ### simple cleaning?\n",
        "    datation = re.sub(\"\\/\\d+\", \"\", date_value)\n",
        "    for element in [\"?\"]:\n",
        "        datation = datation.replace(element, \"\")\n",
        "    for element in [\"AD\", \"Rom. Imp.\", \"Byzant\", \"Roman period\", \"Christian\"]:\n",
        "        if element in datation:\n",
        "            for element_cent in [(\"1st\", 1, 100),\n",
        "                            (\"2nd\", 101, 200),\n",
        "                            (\"3rd\", 201, 300),\n",
        "                            (\"4th\", 301, 400),\n",
        "                           ]:\n",
        "                if element_cent[0] in datation:\n",
        "                    dating = [element_cent[1], element_cent[2], None, round(np.average([element_cent[1], element_cent[2]])), \"cent\", \"AD\"]\n",
        "                    break\n",
        "                else:\n",
        "                    try:\n",
        "                        post = re.search('(after\\s|post\\s)(\\d+)', datation, flags=re.IGNORECASE).groups()\n",
        "                        post = int(post[1])\n",
        "                        dating = [post, None, None, None, \"post\", \"AD\"]\n",
        "                    except:\n",
        "                        try:\n",
        "                            date_both = re.search('(\\d+)(\\-)(\\d+)', datation, flags=re.IGNORECASE).groups()\n",
        "                            post = int(date_both[0])\n",
        "                            ante = int(date_both[2])\n",
        "                            dating = [post, ante, None, int(np.average([post, ante])), \"range\", \"AD\"]\n",
        "                        except:\n",
        "                            try:\n",
        "                                date_exact = re.search('\\d+', datation, flags=re.IGNORECASE)\n",
        "                                date_exact = int(date_exact.group(0))\n",
        "                                dating = [None, None, date_exact, date_exact, \"exact\", \"AD\"]\n",
        "                            except:\n",
        "                                dating = [None, None, None, None, \"unprecise\", \"AD\"]\n",
        "                                \n",
        "            break\n",
        "        else:\n",
        "            for element_cent in [(\" V \", -500, -401), \n",
        "                            (\" V/IV \", -500, -301),\n",
        "                            (\" IV \", -400, -301),\n",
        "                            (\" III \", -300, -201),\n",
        "                            (\" II \", -200, -101),\n",
        "                            (\" I \", -100, -1),\n",
        "                            (\"5th\", -500,  -401),\n",
        "                            (\"4th\", -400, -301),\n",
        "                            (\"3rd\", -300, -201),\n",
        "                            (\"2nd\", -200, -101),\n",
        "                            (\"1st\", -100, -1)]:\n",
        "                if element_cent[0] in datation:\n",
        "                    ### if there as an element indicating century\n",
        "                    dating = [element_cent[1], element_cent[2], None, int(np.average([element_cent[1], element_cent[2]])), \"cent\", \"BC\"]\n",
        "                    break\n",
        "                else:\n",
        "                    try:\n",
        "                        ante = re.search('(ante\\s)(\\d+)', datation, flags=re.IGNORECASE).groups()\n",
        "                        ante = int(ante[1]) * -1\n",
        "                        dating =  [None, ante, None, None, \"ante\", \"BC\"]\n",
        "                    except:\n",
        "                        try:\n",
        "                            post = re.search('(post\\s|after\\s)(\\d+)', datation, flags=re.IGNORECASE).groups()\n",
        "                            post = int(post[1]) * -1\n",
        "                            dating = [post, None, None, None, \"post\", \"BC\"]\n",
        "                        except:\n",
        "                            try:\n",
        "                                date_both = re.search('(\\d+)(\\-)(\\d+)', datation, flags=re.IGNORECASE).groups()\n",
        "                                post = int(date_both[0]) * -1 \n",
        "                                ante = int(date_both[2]) * -1\n",
        "                                dating = [post, ante, None, int(np.average([post, ante])), \"range\", \"BC\"]\n",
        "                            except:\n",
        "                                try:\n",
        "                                    date_exact = re.search('\\d+', datation, flags=re.IGNORECASE)\n",
        "                                    date_exact = int(date_exact.group(0)) * -1\n",
        "                                    dating = [None, None, date_exact, date_exact, \"exact\", \"BC\"]\n",
        "                                except:\n",
        "                                        dating = [None, None, None, None, \"string\", \"BC\"]\n",
        "    for reign in [(\"reign of Hadrian\", 117, 138),\n",
        "                  (\"reign of Justinian\", 527, 565),\n",
        "                  (\"reign of Ant. Pius\", 138, 161),\n",
        "                  (\"reign of Augustus\", -27, 19),\n",
        "                  (\"reign of Tiberius\", 14, 37)]:\n",
        "        if reign[0] in datation:\n",
        "            avr = int(np.average([reign[1], reign[2]]))\n",
        "            if avr < 0:\n",
        "                period = \"BC\"\n",
        "            else:\n",
        "                period = \"AD\"\n",
        "            dating = [reign[1], reign[2], None, avr, \"range\", period]\n",
        "            break\n",
        "    return [date_value] + dating "
      ],
      "execution_count": 0,
      "outputs": []
    },
    {
      "cell_type": "code",
      "metadata": {
        "id": "2f0_Qtal2CS_",
        "colab_type": "code",
        "outputId": "6444e704-cfe7-49cd-c26a-15178edbb5f6",
        "colab": {
          "base_uri": "https://localhost:8080/",
          "height": 68
        }
      },
      "source": [
        "#examples\n",
        "datations = [\"reign of Claudius\", \"Roman imperial period\", \"Hellenistic\"]\n",
        "for datation in datations:\n",
        "  print(extract_period(datation))"
      ],
      "execution_count": 0,
      "outputs": [
        {
          "output_type": "stream",
          "text": [
            "['reign of Claudius', 41, 54.0, None, None, 47.5, 'range', 'AD']\n",
            "['Roman imperial period', -31, 410.0, None, None, 189.5, 'range', 'AD']\n",
            "['Hellenistic', -323, -31.0, None, None, -177.0, 'range', 'BC']\n"
          ],
          "name": "stdout"
        }
      ]
    },
    {
      "cell_type": "code",
      "metadata": {
        "id": "slh2Pm_biiB4",
        "colab_type": "code",
        "colab": {}
      },
      "source": [
        ""
      ],
      "execution_count": 0,
      "outputs": []
    },
    {
      "cell_type": "markdown",
      "metadata": {
        "id": "DlWZYRzIxeU3",
        "colab_type": "text"
      },
      "source": [
        "# Raw date column"
      ]
    },
    {
      "cell_type": "code",
      "metadata": {
        "id": "F_8vJRssihLW",
        "colab_type": "code",
        "colab": {}
      },
      "source": [
        "def get_date_from_tildeinfo(tildeinfo):\n",
        "  try:\n",
        "    tildeinfo_list = tildeinfo.split(\"—\")\n",
        "    datation = tildeinfo_list[-1]\n",
        "    for el in tildeinfo_list:\n",
        "      if any(time_indicator in el for time_indicator in [\"BC\", \"AD\", \"period\", \"reign\"]):\n",
        "        datation = el\n",
        "        break\n",
        "  except: \n",
        "    datation = \"\"\n",
        "  return datation "
      ],
      "execution_count": 0,
      "outputs": []
    },
    {
      "cell_type": "code",
      "metadata": {
        "id": "ViRgWRMcioFi",
        "colab_type": "code",
        "colab": {}
      },
      "source": [
        "PHI[\"raw_date\"] = PHI.apply(lambda row: get_date_from_tildeinfo(row[\"tildeinfo\"]), axis=1)"
      ],
      "execution_count": 0,
      "outputs": []
    },
    {
      "cell_type": "markdown",
      "metadata": {
        "id": "OyhrW32R6AgP",
        "colab_type": "text"
      },
      "source": [
        "# Testing extracting info from tildeinfo"
      ]
    },
    {
      "cell_type": "code",
      "metadata": {
        "id": "_auRCD152g1X",
        "colab_type": "code",
        "outputId": "70ffb937-7bdb-4a5e-c72c-28ed4ac784dd",
        "colab": {
          "base_uri": "https://localhost:8080/",
          "height": 306
        }
      },
      "source": [
        "# generate sample for testing purposes:\n",
        "PHI_by_500 = PHI[PHI[\"PHI_ID\"].isin(range(1, 300000, 500))]\n",
        "PHI_by_500.head(5)"
      ],
      "execution_count": 11,
      "outputs": [
        {
          "output_type": "execute_result",
          "data": {
            "text/html": [
              "<div>\n",
              "<style scoped>\n",
              "    .dataframe tbody tr th:only-of-type {\n",
              "        vertical-align: middle;\n",
              "    }\n",
              "\n",
              "    .dataframe tbody tr th {\n",
              "        vertical-align: top;\n",
              "    }\n",
              "\n",
              "    .dataframe thead th {\n",
              "        text-align: right;\n",
              "    }\n",
              "</style>\n",
              "<table border=\"1\" class=\"dataframe\">\n",
              "  <thead>\n",
              "    <tr style=\"text-align: right;\">\n",
              "      <th></th>\n",
              "      <th>URL</th>\n",
              "      <th>Book</th>\n",
              "      <th>Text</th>\n",
              "      <th>hdr1</th>\n",
              "      <th>hdr2</th>\n",
              "      <th>tildeinfo</th>\n",
              "      <th>note</th>\n",
              "      <th>lines</th>\n",
              "      <th>metadata</th>\n",
              "      <th>data</th>\n",
              "      <th>filename</th>\n",
              "      <th>PHI_ID</th>\n",
              "      <th>raw_date</th>\n",
              "    </tr>\n",
              "  </thead>\n",
              "  <tbody>\n",
              "    <tr>\n",
              "      <th>625</th>\n",
              "      <td>/text/262001?location=1040&amp;patt=&amp;bookid=517&amp;of...</td>\n",
              "      <td>Panamara</td>\n",
              "      <td>316</td>\n",
              "      <td>Regions\\nAsia Minor\\nCaria</td>\n",
              "      <td>Panamara\\n316</td>\n",
              "      <td>IStr 427</td>\n",
              "      <td>{}</td>\n",
              "      <td>2</td>\n",
              "      <td>1\\n</td>\n",
              "      <td>Διῒ Πανημέρῳ, κόμαι Εὐτύχεως· ἐπὶ ἱερέω[ς] Κλα...</td>\n",
              "      <td>Panamara.csv</td>\n",
              "      <td>262001</td>\n",
              "      <td>IStr 427</td>\n",
              "    </tr>\n",
              "    <tr>\n",
              "      <th>912</th>\n",
              "      <td>/text/266001?location=1673&amp;patt=&amp;bookid=587&amp;of...</td>\n",
              "      <td>St.Pont. III</td>\n",
              "      <td>110a</td>\n",
              "      <td>Regions\\nAsia Minor\\nPontus and Paphlagonia</td>\n",
              "      <td>St.Pont. III\\n110a</td>\n",
              "      <td>Pont. — Amasia — Rom. Imp. period</td>\n",
              "      <td>{}</td>\n",
              "      <td>6</td>\n",
              "      <td>1\\n\\n\\n\\n5\\n</td>\n",
              "      <td>Αὐρ(ηλίῳ) Φιλο-\\nμούσῳ ❦\\nἀρχιάτρῳ\\nῬω[μᾶνα(?)...</td>\n",
              "      <td>St.Pont.-III.csv</td>\n",
              "      <td>266001</td>\n",
              "      <td>Rom. Imp. period</td>\n",
              "    </tr>\n",
              "    <tr>\n",
              "      <th>1260</th>\n",
              "      <td>/text/231001?location=1365&amp;patt=&amp;bookid=394&amp;of...</td>\n",
              "      <td>Agora XV</td>\n",
              "      <td>130</td>\n",
              "      <td>Regions\\nAttica (IG I-III)\\nAttica</td>\n",
              "      <td>Agora XV\\n130</td>\n",
              "      <td>Att. — Athens: Agora — 220/19</td>\n",
              "      <td>{}</td>\n",
              "      <td>149</td>\n",
              "      <td>1\\n\\n\\n\\n5\\n\\n\\n\\n\\n10\\n\\n\\n\\n\\n15\\n\\n\\n\\n\\n20...</td>\n",
              "      <td>ἐπὶ Μενεκράτου ἄρχοντος ἐπὶ τῆς Οἰνεῖδος ἕκτη-...</td>\n",
              "      <td>Agora-XV.csv</td>\n",
              "      <td>231001</td>\n",
              "      <td>220/19</td>\n",
              "    </tr>\n",
              "    <tr>\n",
              "      <th>1944</th>\n",
              "      <td>/text/79501?location=126&amp;patt=&amp;bookid=23&amp;offse...</td>\n",
              "      <td>IG XII,8</td>\n",
              "      <td>311</td>\n",
              "      <td>Regions\\nAegean Islands, incl. Crete (IG XI-[X...</td>\n",
              "      <td>IG XII,8\\n311</td>\n",
              "      <td>Thasos</td>\n",
              "      <td>{}</td>\n",
              "      <td>7</td>\n",
              "      <td>1\\n\\n\\n\\n5\\n\\n</td>\n",
              "      <td>Ἐπικράτης  Κτησιφῶντος\\nΠυθίων  Περιθύμου\\nΠίν...</td>\n",
              "      <td>IG-XII-8.csv</td>\n",
              "      <td>79501</td>\n",
              "      <td>Thasos</td>\n",
              "    </tr>\n",
              "    <tr>\n",
              "      <th>2502</th>\n",
              "      <td>/text/218501?location=1497&amp;patt=&amp;bookid=367&amp;of...</td>\n",
              "      <td>Koptos à Kosseir</td>\n",
              "      <td>163</td>\n",
              "      <td>Regions\\nEgypt, Nubia and Cyrenaïca\\nEgypt and...</td>\n",
              "      <td>Koptos à Kosseir\\n163</td>\n",
              "      <td>Eg. — el-Boueib</td>\n",
              "      <td>{}</td>\n",
              "      <td>2</td>\n",
              "      <td>1\\n</td>\n",
              "      <td>Κάλχων̣\\nΠανὶ Χρ(υσόδωτηι).</td>\n",
              "      <td>Koptos---Kosseir.csv</td>\n",
              "      <td>218501</td>\n",
              "      <td>el-Boueib</td>\n",
              "    </tr>\n",
              "  </tbody>\n",
              "</table>\n",
              "</div>"
            ],
            "text/plain": [
              "                                                    URL  ...           raw_date\n",
              "625   /text/262001?location=1040&patt=&bookid=517&of...  ...           IStr 427\n",
              "912   /text/266001?location=1673&patt=&bookid=587&of...  ...   Rom. Imp. period\n",
              "1260  /text/231001?location=1365&patt=&bookid=394&of...  ...             220/19\n",
              "1944  /text/79501?location=126&patt=&bookid=23&offse...  ...             Thasos\n",
              "2502  /text/218501?location=1497&patt=&bookid=367&of...  ...          el-Boueib\n",
              "\n",
              "[5 rows x 13 columns]"
            ]
          },
          "metadata": {
            "tags": []
          },
          "execution_count": 11
        }
      ]
    },
    {
      "cell_type": "markdown",
      "metadata": {
        "id": "1yz6_Lr-VyIF",
        "colab_type": "text"
      },
      "source": [
        "# Parse ante quem and post quem"
      ]
    },
    {
      "cell_type": "code",
      "metadata": {
        "id": "Pvmb8GNS2qWH",
        "colab_type": "code",
        "outputId": "258ab507-db78-468a-f386-b8ee3e5adc96",
        "colab": {
          "base_uri": "https://localhost:8080/",
          "height": 34
        }
      },
      "source": [
        "### simple demonstration of the logic\n",
        "datation = \"not before 304 AD\"\n",
        "match = re.search(\"(not\\s(before|bef\\.)\\s|non\\sante\\s)(\\d+)\",  datation, flags=re.IGNORECASE)\n",
        "if match:\n",
        "  dating_update = {\"start\" : int(match.groups()[2]), \"type\" : \"post\"}\n",
        "dating_update"
      ],
      "execution_count": 12,
      "outputs": [
        {
          "output_type": "execute_result",
          "data": {
            "text/plain": [
              "{'start': 304, 'type': 'post'}"
            ]
          },
          "metadata": {
            "tags": []
          },
          "execution_count": 12
        }
      ]
    },
    {
      "cell_type": "code",
      "metadata": {
        "id": "y0Hq9f7U-Hl2",
        "colab_type": "code",
        "colab": {}
      },
      "source": [
        "def extract_ante_and_post(datation, dating):\n",
        "  if \"unknown\" in dating[\"type\"]: \n",
        "    # if \"NOT BEFORE\"\n",
        "    match = re.search(\"(not\\s(before|bef\\.)\\s|non\\sante\\s)(\\-?\\d+)(\\s|$)\",  datation, flags=re.IGNORECASE)\n",
        "    if match:\n",
        "      if \"AD\" not in datation:\n",
        "        start = (int(match.groups()[2]) * -1) - 1\n",
        "        dating_update = {\"start\" : start, \"type\" : \"post\"}\n",
        "      else:\n",
        "        dating_update = {\"start\" : int(match.groups()[2]) - 1, \"type\" : \"post\"}\n",
        "    # if \"BEFORE\"\n",
        "    else:\n",
        "      match = re.search('(before\\s|ante\\s)(\\-?\\d+)(\\s|$)', datation, flags=re.IGNORECASE)\n",
        "      if match:\n",
        "        dating_update = {\"stop\" : int(match.groups()[1]), \"type\" : \"ante\"}\n",
        "        if \"AD\" not in datation:\n",
        "          dating_update[\"stop\"] = dating_update[\"stop\"] * -1\n",
        "      # if \"NOT AFTER\"\n",
        "      else:\n",
        "        match = re.search(\"(not\\safter\\s|non\\spost\\s)(\\-?\\d+)(\\s|$)\",  datation, flags=re.IGNORECASE)\n",
        "        if match:\n",
        "          if \"AD\" not in datation:\n",
        "            dating_update = {\"stop\" : (int(match.groups()[1]) * -1) + 1, \"type\" : \"ante\"}\n",
        "          else:\n",
        "            dating_update = {\"stop\" : int(match.groups()[1]) + 1, \"type\" : \"ante\"}\n",
        "        # if \"AFTER\"\n",
        "        else:\n",
        "            match = re.search('(after\\s|post\\s)(\\-?\\d+)(\\s|$)', datation, flags=re.IGNORECASE)\n",
        "            if match:\n",
        "              dating_update = {\"start\" : int(match.groups()[1]), \"type\" : \"post\"}\n",
        "              if \"AD\" not in datation:\n",
        "                dating_update[\"start\"] = dating_update[\"start\"] * -1\n",
        "            else:\n",
        "              dating_update = dating\n",
        "  elif \"exact+or\" in dating[\"type\"]: \n",
        "    # if \"NOT BEFORE\"\n",
        "    match = re.search(\"(not\\s(before|bef\\.)\\s|non\\sante\\s)\",  datation, flags=re.IGNORECASE)\n",
        "    if match:\n",
        "      dating_update = {\"start\" : dating[\"exact\"], \"or\": {\"start\" : dating[\"or\"][\"exact\"], \"exact\" : None}, \"exact\" : None, \"type\" : \"post+or\"}\n",
        "    # if \"BEFORE\"\n",
        "    else:\n",
        "      match = re.search('(before\\s|ante\\s)', datation, flags=re.IGNORECASE)\n",
        "      if match:\n",
        "        dating_update = {\"stop\" : dating[\"exact\"], \"or\": {\"stop\" : dating[\"or\"][\"exact\"], \"exact\" : None}, \"exact\" : None, \"type\" : \"ante+or\"}\n",
        "      # if \"NOT AFTER\"\n",
        "      else:\n",
        "        match = re.search(\"(not\\safter\\s|non\\spost\\s)\",  datation, flags=re.IGNORECASE)\n",
        "        if match:\n",
        "              dating_update = {\"stop\" : dating[\"exact\"], \"or\": {\"stop\" : dating[\"or\"][\"exact\"], \"exact\" : None}, \"exact\" : None, \"type\" : \"ante+or\"}\n",
        "        # if \"AFTER\"\n",
        "        else:\n",
        "            match = re.search('(after\\s|post\\s)', datation, flags=re.IGNORECASE)\n",
        "            if match:\n",
        "              dating_update = {\"start\" : dating[\"exact\"], \"or\": {\"start\" : dating[\"or\"][\"exact\"], \"exact\" : None}, \"exact\" : None, \"type\" : \"post+or\"}\n",
        "            else:\n",
        "              dating_update = dating\n",
        "  elif \"range\" in dating[\"type\"]:\n",
        "    # if \"NOT BEFORE\"\n",
        "    match = re.search(\"(not\\s(before|bef\\.)\\s|non\\sante\\s)\",  datation, flags=re.IGNORECASE)\n",
        "    if match:\n",
        "      dating_update = {\"start\" : dating[\"start\"] - 1, \"stop\":None, \"type\" : dating[\"type\"]+\"+post\"}\n",
        "    # if \"BEFORE\"\n",
        "    else:\n",
        "      match = re.search('(before\\s|ante\\s)', datation, flags=re.IGNORECASE)\n",
        "      if match:\n",
        "        dating_update = {\"stop\" : dating[\"start\"], \"start\":None, \"type\" : dating[\"type\"]+\"+ante\"}  \n",
        "      # if \"NOT AFTER\"\n",
        "      else:\n",
        "        match = re.search(\"(not\\safter\\s|non\\spost\\s)\",  datation, flags=re.IGNORECASE)\n",
        "        if match:\n",
        "          dating_update = {\"stop\" : dating[\"stop\"] + 1, \"start\":None,\"type\" : dating[\"type\"]+\"+ante\"}\n",
        "        # if \"AFTER\"\n",
        "        else:\n",
        "          match = re.search('(after\\s|post\\s)', datation, flags=re.IGNORECASE)\n",
        "          if match:\n",
        "            dating_update = {\"start\" : dating[\"stop\"], \"stop\":None,\"type\" : dating[\"type\"]+\"+post\"}\n",
        "          else:\n",
        "            dating_update = dating\n",
        "  else: \n",
        "    #datation = re.sub(\"(not\\s(after|bef\\.)\\s|non\\spost)\", \"ante\\s\", datation)\n",
        "    dating_update = dating\n",
        "  if \"shortly\" in datation:\n",
        "    dating_update[\"type\"] = dating_update[\"type\"] + \"+shortly\"\n",
        "  return dating_update"
      ],
      "execution_count": 0,
      "outputs": []
    },
    {
      "cell_type": "code",
      "metadata": {
        "id": "iElBo6xYWBPq",
        "colab_type": "code",
        "outputId": "b0691222-5981-434b-9d75-1374038c9bdb",
        "colab": {
          "base_uri": "https://localhost:8080/",
          "height": 136
        }
      },
      "source": [
        "# example with \"unknown\"\n",
        "dating = {\"type\" : \"unknown\", \"era\": None}\n",
        "for datation in [\"non post 230 AD\", \"shortly after 320 BC\", \"not bef. 114 BC\",\"not after 317 AD\", \"before 200\", \"Ante 114 BC\", \"post 2nd century BC\"]:\n",
        "  print(datation, extract_ante_and_post(datation, dating))"
      ],
      "execution_count": 14,
      "outputs": [
        {
          "output_type": "stream",
          "text": [
            "non post 230 AD {'stop': 231, 'type': 'ante'}\n",
            "shortly after 320 BC {'start': -320, 'type': 'post+shortly'}\n",
            "not bef. 114 BC {'start': -115, 'type': 'post'}\n",
            "not after 317 AD {'stop': 318, 'type': 'ante'}\n",
            "before 200 {'stop': -200, 'type': 'ante'}\n",
            "Ante 114 BC {'stop': -114, 'type': 'ante'}\n",
            "post 2nd century BC {'type': 'unknown', 'era': None}\n"
          ],
          "name": "stdout"
        }
      ]
    },
    {
      "cell_type": "code",
      "metadata": {
        "id": "2kuMWHYek4t4",
        "colab_type": "code",
        "outputId": "a4c6c699-bdf0-4bae-efff-91270a9dc818",
        "colab": {
          "base_uri": "https://localhost:8080/",
          "height": 34
        }
      },
      "source": [
        "datation, dating = \"not after reign of Trajan\", {\"start\": 98, \"stop\" : 117, \"type\" : \"range+period\", \"era\": None}\n",
        "extract_ante_and_post(datation, dating)"
      ],
      "execution_count": 15,
      "outputs": [
        {
          "output_type": "execute_result",
          "data": {
            "text/plain": [
              "{'start': None, 'stop': 118, 'type': 'range+period+ante'}"
            ]
          },
          "metadata": {
            "tags": []
          },
          "execution_count": 15
        }
      ]
    },
    {
      "cell_type": "markdown",
      "metadata": {
        "id": "qF5f-0tIV9Tm",
        "colab_type": "text"
      },
      "source": [
        "# Parse periods"
      ]
    },
    {
      "cell_type": "code",
      "metadata": {
        "id": "GHK0NQwl-ap9",
        "colab_type": "code",
        "outputId": "faaefce0-8d30-4069-91fc-cfe14b5f5d20",
        "colab": {
          "base_uri": "https://localhost:8080/",
          "height": 762
        }
      },
      "source": [
        "# read periods from our external code\n",
        "periods = get_as_dataframe(PHI_overview.worksheet(\"periods\"))\n",
        "periods"
      ],
      "execution_count": 16,
      "outputs": [
        {
          "output_type": "execute_result",
          "data": {
            "text/html": [
              "<div>\n",
              "<style scoped>\n",
              "    .dataframe tbody tr th:only-of-type {\n",
              "        vertical-align: middle;\n",
              "    }\n",
              "\n",
              "    .dataframe tbody tr th {\n",
              "        vertical-align: top;\n",
              "    }\n",
              "\n",
              "    .dataframe thead th {\n",
              "        text-align: right;\n",
              "    }\n",
              "</style>\n",
              "<table border=\"1\" class=\"dataframe\">\n",
              "  <thead>\n",
              "    <tr style=\"text-align: right;\">\n",
              "      <th></th>\n",
              "      <th>period</th>\n",
              "      <th>start</th>\n",
              "      <th>stop</th>\n",
              "      <th>type</th>\n",
              "      <th>era</th>\n",
              "      <th>source</th>\n",
              "      <th>notes</th>\n",
              "      <th>link</th>\n",
              "    </tr>\n",
              "  </thead>\n",
              "  <tbody>\n",
              "    <tr>\n",
              "      <th>0</th>\n",
              "      <td>Roman imp</td>\n",
              "      <td>-31</td>\n",
              "      <td>410</td>\n",
              "      <td>range+period</td>\n",
              "      <td>AD</td>\n",
              "      <td>PeriodO</td>\n",
              "      <td>NaN</td>\n",
              "      <td>http://n2t.net/ark:/99152/p08m57hqcc5</td>\n",
              "    </tr>\n",
              "    <tr>\n",
              "      <th>1</th>\n",
              "      <td>Rom. Imp</td>\n",
              "      <td>-31</td>\n",
              "      <td>410</td>\n",
              "      <td>range+period</td>\n",
              "      <td>BC/AD</td>\n",
              "      <td>PeriodO</td>\n",
              "      <td>NaN</td>\n",
              "      <td>http://n2t.net/ark:/99152/p08m57hqcc5</td>\n",
              "    </tr>\n",
              "    <tr>\n",
              "      <th>2</th>\n",
              "      <td>aet. imp.</td>\n",
              "      <td>-31</td>\n",
              "      <td>410</td>\n",
              "      <td>range+period</td>\n",
              "      <td>BC/AD</td>\n",
              "      <td>PeriodO</td>\n",
              "      <td>NaN</td>\n",
              "      <td>http://n2t.net/ark:/99152/p08m57hqcc5</td>\n",
              "    </tr>\n",
              "    <tr>\n",
              "      <th>3</th>\n",
              "      <td>aet. Rom.</td>\n",
              "      <td>-146</td>\n",
              "      <td>324</td>\n",
              "      <td>range+period</td>\n",
              "      <td>BC/AD</td>\n",
              "      <td>NaN</td>\n",
              "      <td>NaN</td>\n",
              "      <td>NaN</td>\n",
              "    </tr>\n",
              "    <tr>\n",
              "      <th>4</th>\n",
              "      <td>Roman period</td>\n",
              "      <td>-146</td>\n",
              "      <td>324</td>\n",
              "      <td>range+period</td>\n",
              "      <td>BC/AD</td>\n",
              "      <td>NaN</td>\n",
              "      <td>NaN</td>\n",
              "      <td>NaN</td>\n",
              "    </tr>\n",
              "    <tr>\n",
              "      <th>5</th>\n",
              "      <td>reign of Hadrian</td>\n",
              "      <td>117</td>\n",
              "      <td>138</td>\n",
              "      <td>range+period</td>\n",
              "      <td>AD</td>\n",
              "      <td>PeriodO</td>\n",
              "      <td>NaN</td>\n",
              "      <td>http://n2t.net/ark:/99152/p0jrrjbntfj</td>\n",
              "    </tr>\n",
              "    <tr>\n",
              "      <th>6</th>\n",
              "      <td>reign of Justinian</td>\n",
              "      <td>527</td>\n",
              "      <td>565</td>\n",
              "      <td>range+period</td>\n",
              "      <td>AD</td>\n",
              "      <td>PeriodO</td>\n",
              "      <td>NaN</td>\n",
              "      <td>http://n2t.net/ark:/99152/p06c6g3r7ht</td>\n",
              "    </tr>\n",
              "    <tr>\n",
              "      <th>7</th>\n",
              "      <td>reign of Ant. Pius</td>\n",
              "      <td>138</td>\n",
              "      <td>161</td>\n",
              "      <td>range+period</td>\n",
              "      <td>AD</td>\n",
              "      <td>PeriodO</td>\n",
              "      <td>NaN</td>\n",
              "      <td>http://n2t.net/ark:/99152/p06c6g3drk4</td>\n",
              "    </tr>\n",
              "    <tr>\n",
              "      <th>8</th>\n",
              "      <td>reign of Augustus</td>\n",
              "      <td>-27</td>\n",
              "      <td>14</td>\n",
              "      <td>range+period</td>\n",
              "      <td>BC/AD</td>\n",
              "      <td>PeriodO</td>\n",
              "      <td>NaN</td>\n",
              "      <td>http://n2t.net/ark:/99152/p06c6g3xnmx</td>\n",
              "    </tr>\n",
              "    <tr>\n",
              "      <th>9</th>\n",
              "      <td>reign of Tiberius</td>\n",
              "      <td>14</td>\n",
              "      <td>37</td>\n",
              "      <td>range+period</td>\n",
              "      <td>AD</td>\n",
              "      <td>PeriodO</td>\n",
              "      <td>NaN</td>\n",
              "      <td>http://n2t.net/ark:/99152/p0jrrjbts8w</td>\n",
              "    </tr>\n",
              "    <tr>\n",
              "      <th>10</th>\n",
              "      <td>reign of Claudius</td>\n",
              "      <td>41</td>\n",
              "      <td>54</td>\n",
              "      <td>range+period</td>\n",
              "      <td>AD</td>\n",
              "      <td>PeriodO</td>\n",
              "      <td>NaN</td>\n",
              "      <td>http://n2t.net/ark:/99152/p0jrrjb8spw</td>\n",
              "    </tr>\n",
              "    <tr>\n",
              "      <th>11</th>\n",
              "      <td>reign of Trajan</td>\n",
              "      <td>98</td>\n",
              "      <td>117</td>\n",
              "      <td>range+period</td>\n",
              "      <td>AD</td>\n",
              "      <td>PeriodO</td>\n",
              "      <td>NaN</td>\n",
              "      <td>http://n2t.net/ark:/99152/p0jrrjbj7h3</td>\n",
              "    </tr>\n",
              "    <tr>\n",
              "      <th>12</th>\n",
              "      <td>Christian</td>\n",
              "      <td>1</td>\n",
              "      <td>2000</td>\n",
              "      <td>range+period</td>\n",
              "      <td>AD</td>\n",
              "      <td>Vojtech</td>\n",
              "      <td>NaN</td>\n",
              "      <td>NaN</td>\n",
              "    </tr>\n",
              "    <tr>\n",
              "      <th>13</th>\n",
              "      <td>Byzantine per</td>\n",
              "      <td>324</td>\n",
              "      <td>1453</td>\n",
              "      <td>range+period</td>\n",
              "      <td>AD</td>\n",
              "      <td>PeriodO</td>\n",
              "      <td>NaN</td>\n",
              "      <td>http://n2t.net/ark:/99152/p0m63njtm6w</td>\n",
              "    </tr>\n",
              "    <tr>\n",
              "      <th>14</th>\n",
              "      <td>Byzant. per</td>\n",
              "      <td>324</td>\n",
              "      <td>1453</td>\n",
              "      <td>range+period</td>\n",
              "      <td>AD</td>\n",
              "      <td>PeriodO</td>\n",
              "      <td>NaN</td>\n",
              "      <td>http://n2t.net/ark:/99152/p0m63njtm6w</td>\n",
              "    </tr>\n",
              "    <tr>\n",
              "      <th>15</th>\n",
              "      <td>Byzantium</td>\n",
              "      <td>330</td>\n",
              "      <td>1453</td>\n",
              "      <td>range+period</td>\n",
              "      <td>AD</td>\n",
              "      <td>PeriodO</td>\n",
              "      <td>NaN</td>\n",
              "      <td>http://n2t.net/ark:/99152/p08vvjk5t32</td>\n",
              "    </tr>\n",
              "    <tr>\n",
              "      <th>16</th>\n",
              "      <td>Hellenistic</td>\n",
              "      <td>-330</td>\n",
              "      <td>-30</td>\n",
              "      <td>range+period</td>\n",
              "      <td>BC</td>\n",
              "      <td>PeriodO</td>\n",
              "      <td>NaN</td>\n",
              "      <td>http://n2t.net/ark:/99152/p03wskd55sw</td>\n",
              "    </tr>\n",
              "    <tr>\n",
              "      <th>17</th>\n",
              "      <td>Late Antiquity</td>\n",
              "      <td>284</td>\n",
              "      <td>476</td>\n",
              "      <td>range+period</td>\n",
              "      <td>AD</td>\n",
              "      <td>PeriodO</td>\n",
              "      <td>NaN</td>\n",
              "      <td>http://n2t.net/ark:/99152/p0jrrjb67vs</td>\n",
              "    </tr>\n",
              "    <tr>\n",
              "      <th>18</th>\n",
              "      <td>Claudian</td>\n",
              "      <td>41</td>\n",
              "      <td>54</td>\n",
              "      <td>range+period</td>\n",
              "      <td>AD</td>\n",
              "      <td>PeriodO</td>\n",
              "      <td>NaN</td>\n",
              "      <td>http://n2t.net/ark:/99152/p0jrrjb8spw</td>\n",
              "    </tr>\n",
              "    <tr>\n",
              "      <th>19</th>\n",
              "      <td>Trajanic</td>\n",
              "      <td>98</td>\n",
              "      <td>117</td>\n",
              "      <td>range+period</td>\n",
              "      <td>AD</td>\n",
              "      <td>PeriodO</td>\n",
              "      <td>NaN</td>\n",
              "      <td>http://n2t.net/ark:/99152/p0jrrjbj7h3</td>\n",
              "    </tr>\n",
              "    <tr>\n",
              "      <th>20</th>\n",
              "      <td>Hadrianic</td>\n",
              "      <td>117</td>\n",
              "      <td>138</td>\n",
              "      <td>range+period</td>\n",
              "      <td>AD</td>\n",
              "      <td>PeriodO</td>\n",
              "      <td>NaN</td>\n",
              "      <td>http://n2t.net/ark:/99152/p0jrrjbntfj</td>\n",
              "    </tr>\n",
              "    <tr>\n",
              "      <th>21</th>\n",
              "      <td>Antonine period</td>\n",
              "      <td>96</td>\n",
              "      <td>192</td>\n",
              "      <td>range+period</td>\n",
              "      <td>AD</td>\n",
              "      <td>PeriodO</td>\n",
              "      <td>NaN</td>\n",
              "      <td>http://n2t.net/ark:/99152/p06c6g34zjk</td>\n",
              "    </tr>\n",
              "    <tr>\n",
              "      <th>22</th>\n",
              "      <td>Severan period</td>\n",
              "      <td>193</td>\n",
              "      <td>235</td>\n",
              "      <td>range+period</td>\n",
              "      <td>AD</td>\n",
              "      <td>PeriodO</td>\n",
              "      <td>NaN</td>\n",
              "      <td>http://n2t.net/ark:/99152/p0jrrjbtf3t</td>\n",
              "    </tr>\n",
              "  </tbody>\n",
              "</table>\n",
              "</div>"
            ],
            "text/plain": [
              "                period  start  ...  notes                                   link\n",
              "0            Roman imp    -31  ...    NaN  http://n2t.net/ark:/99152/p08m57hqcc5\n",
              "1             Rom. Imp    -31  ...    NaN  http://n2t.net/ark:/99152/p08m57hqcc5\n",
              "2            aet. imp.    -31  ...    NaN  http://n2t.net/ark:/99152/p08m57hqcc5\n",
              "3            aet. Rom.   -146  ...    NaN                                    NaN\n",
              "4         Roman period   -146  ...    NaN                                    NaN\n",
              "5     reign of Hadrian    117  ...    NaN  http://n2t.net/ark:/99152/p0jrrjbntfj\n",
              "6   reign of Justinian    527  ...    NaN  http://n2t.net/ark:/99152/p06c6g3r7ht\n",
              "7   reign of Ant. Pius    138  ...    NaN  http://n2t.net/ark:/99152/p06c6g3drk4\n",
              "8    reign of Augustus    -27  ...    NaN  http://n2t.net/ark:/99152/p06c6g3xnmx\n",
              "9    reign of Tiberius     14  ...    NaN  http://n2t.net/ark:/99152/p0jrrjbts8w\n",
              "10   reign of Claudius     41  ...    NaN  http://n2t.net/ark:/99152/p0jrrjb8spw\n",
              "11     reign of Trajan     98  ...    NaN  http://n2t.net/ark:/99152/p0jrrjbj7h3\n",
              "12          Christian       1  ...    NaN                                    NaN\n",
              "13       Byzantine per    324  ...    NaN  http://n2t.net/ark:/99152/p0m63njtm6w\n",
              "14         Byzant. per    324  ...    NaN  http://n2t.net/ark:/99152/p0m63njtm6w\n",
              "15           Byzantium    330  ...    NaN  http://n2t.net/ark:/99152/p08vvjk5t32\n",
              "16         Hellenistic   -330  ...    NaN  http://n2t.net/ark:/99152/p03wskd55sw\n",
              "17      Late Antiquity    284  ...    NaN  http://n2t.net/ark:/99152/p0jrrjb67vs\n",
              "18            Claudian     41  ...    NaN  http://n2t.net/ark:/99152/p0jrrjb8spw\n",
              "19            Trajanic     98  ...    NaN  http://n2t.net/ark:/99152/p0jrrjbj7h3\n",
              "20           Hadrianic    117  ...    NaN  http://n2t.net/ark:/99152/p0jrrjbntfj\n",
              "21     Antonine period     96  ...    NaN  http://n2t.net/ark:/99152/p06c6g34zjk\n",
              "22      Severan period    193  ...    NaN  http://n2t.net/ark:/99152/p0jrrjbtf3t\n",
              "\n",
              "[23 rows x 8 columns]"
            ]
          },
          "metadata": {
            "tags": []
          },
          "execution_count": 16
        }
      ]
    },
    {
      "cell_type": "code",
      "metadata": {
        "id": "KVTN1NZ2A6k9",
        "colab_type": "code",
        "outputId": "fcd828a1-78eb-4ad2-e935-cee43887aa50",
        "colab": {
          "base_uri": "https://localhost:8080/",
          "height": 136
        }
      },
      "source": [
        "periods_dict = periods.set_index(\"period\").T.to_dict()\n",
        "periods_dict[\"reign of Claudius\"]"
      ],
      "execution_count": 17,
      "outputs": [
        {
          "output_type": "execute_result",
          "data": {
            "text/plain": [
              "{'era': 'AD',\n",
              " 'link': 'http://n2t.net/ark:/99152/p0jrrjb8spw',\n",
              " 'notes': nan,\n",
              " 'source': 'PeriodO',\n",
              " 'start': 41,\n",
              " 'stop': 54,\n",
              " 'type': 'range+period'}"
            ]
          },
          "metadata": {
            "tags": []
          },
          "execution_count": 17
        }
      ]
    },
    {
      "cell_type": "code",
      "metadata": {
        "id": "p0xn4I-pPtYY",
        "colab_type": "code",
        "colab": {}
      },
      "source": [
        "def extract_period(datation, dating=None):\n",
        "  if (dating==None) or (dating[\"type\"] == \"unknown\"):\n",
        "    for key in periods_dict.keys():\n",
        "      if key.lower() in datation.lower(): # use lower cases to match everything\n",
        "        period = periods_dict[key]   \n",
        "        dating_update = period\n",
        "        break\n",
        "      else:\n",
        "        dating_update = {\"type\" : \"unknown\"}\n",
        "    return dating_update\n",
        "  else:\n",
        "    return dating\n"
      ],
      "execution_count": 0,
      "outputs": []
    },
    {
      "cell_type": "code",
      "metadata": {
        "id": "_ucDtS79Y-kj",
        "colab_type": "code",
        "outputId": "b20a6229-04ae-43c6-812d-c654e102e9d1",
        "colab": {
          "base_uri": "https://localhost:8080/",
          "height": 102
        }
      },
      "source": [
        "# example:\n",
        "dating = {\"type\": \"unknown\"}\n",
        "for datation in [\"Byzantine\", \"Roman Imperial\", \"reign of Augustus\", \"140\", \"late Antonine period\"]:\n",
        "  print({datation : extract_period(datation, dating)})"
      ],
      "execution_count": 19,
      "outputs": [
        {
          "output_type": "stream",
          "text": [
            "{'Byzantine': {'type': 'unknown'}}\n",
            "{'Roman Imperial': {'start': -31, 'stop': 410, 'type': 'range+period', 'era': 'AD', 'source': 'PeriodO', 'notes': nan, 'link': 'http://n2t.net/ark:/99152/p08m57hqcc5'}}\n",
            "{'reign of Augustus': {'start': -27, 'stop': 14, 'type': 'range+period', 'era': 'BC/AD', 'source': 'PeriodO', 'notes': nan, 'link': 'http://n2t.net/ark:/99152/p06c6g3xnmx'}}\n",
            "{'140': {'type': 'unknown'}}\n",
            "{'late Antonine period': {'start': 96, 'stop': 192, 'type': 'range+period', 'era': 'AD', 'source': 'PeriodO', 'notes': nan, 'link': 'http://n2t.net/ark:/99152/p06c6g34zjk'}}\n"
          ],
          "name": "stdout"
        }
      ]
    },
    {
      "cell_type": "markdown",
      "metadata": {
        "id": "QpEfYagozs_0",
        "colab_type": "text"
      },
      "source": [
        "# EDH periods exploratations\n",
        "(skip, not needed)"
      ]
    },
    {
      "cell_type": "code",
      "metadata": {
        "id": "oN1Q9jT5kcqf",
        "colab_type": "code",
        "outputId": "0342b834-8483-4988-8d5f-aa5692fb73f2",
        "colab": {
          "base_uri": "https://localhost:8080/",
          "height": 204
        }
      },
      "source": [
        "# read periods from our external code\n",
        "EDH_periods = get_as_dataframe(PHI_overview.worksheet(\"EDH_periods\"))\n",
        "EDH_periods.head(5)"
      ],
      "execution_count": 0,
      "outputs": [
        {
          "output_type": "execute_result",
          "data": {
            "text/html": [
              "<div>\n",
              "<style scoped>\n",
              "    .dataframe tbody tr th:only-of-type {\n",
              "        vertical-align: middle;\n",
              "    }\n",
              "\n",
              "    .dataframe tbody tr th {\n",
              "        vertical-align: top;\n",
              "    }\n",
              "\n",
              "    .dataframe thead th {\n",
              "        text-align: right;\n",
              "    }\n",
              "</style>\n",
              "<table border=\"1\" class=\"dataframe\">\n",
              "  <thead>\n",
              "    <tr style=\"text-align: right;\">\n",
              "      <th></th>\n",
              "      <th>period</th>\n",
              "      <th>label</th>\n",
              "      <th>spatial_coverage</th>\n",
              "      <th>gazetteer_links</th>\n",
              "      <th>start</th>\n",
              "      <th>stop</th>\n",
              "      <th>authority</th>\n",
              "      <th>source</th>\n",
              "      <th>publication_year</th>\n",
              "      <th>derived_periods</th>\n",
              "    </tr>\n",
              "  </thead>\n",
              "  <tbody>\n",
              "    <tr>\n",
              "      <th>0</th>\n",
              "      <td>http://n2t.net/ark:/99152/p0jrrjb7g67</td>\n",
              "      <td>Augustan Age</td>\n",
              "      <td>Roman Empire</td>\n",
              "      <td>NaN</td>\n",
              "      <td>-26</td>\n",
              "      <td>14</td>\n",
              "      <td>http://n2t.net/ark:/99152/p0jrrjb</td>\n",
              "      <td>Epigraphische Datenbank Heidelberg | Heidelber...</td>\n",
              "      <td>2017</td>\n",
              "      <td>NaN</td>\n",
              "    </tr>\n",
              "    <tr>\n",
              "      <th>1</th>\n",
              "      <td>http://n2t.net/ark:/99152/p0jrrjbw83z</td>\n",
              "      <td>Julio-Claudian Dynasty</td>\n",
              "      <td>Roman Empire</td>\n",
              "      <td>NaN</td>\n",
              "      <td>-26</td>\n",
              "      <td>68</td>\n",
              "      <td>http://n2t.net/ark:/99152/p0jrrjb</td>\n",
              "      <td>Epigraphische Datenbank Heidelberg | Heidelber...</td>\n",
              "      <td>2017</td>\n",
              "      <td>NaN</td>\n",
              "    </tr>\n",
              "    <tr>\n",
              "      <th>2</th>\n",
              "      <td>http://n2t.net/ark:/99152/p0jrrjbvfhm</td>\n",
              "      <td>Roman Empire</td>\n",
              "      <td>Roman Empire</td>\n",
              "      <td>NaN</td>\n",
              "      <td>-26</td>\n",
              "      <td>476</td>\n",
              "      <td>http://n2t.net/ark:/99152/p0jrrjb</td>\n",
              "      <td>Epigraphische Datenbank Heidelberg | Heidelber...</td>\n",
              "      <td>2017</td>\n",
              "      <td>NaN</td>\n",
              "    </tr>\n",
              "    <tr>\n",
              "      <th>3</th>\n",
              "      <td>http://n2t.net/ark:/99152/p0jrrjbts8w</td>\n",
              "      <td>Tiberian</td>\n",
              "      <td>Roman Empire</td>\n",
              "      <td>NaN</td>\n",
              "      <td>14</td>\n",
              "      <td>37</td>\n",
              "      <td>http://n2t.net/ark:/99152/p0jrrjb</td>\n",
              "      <td>Epigraphische Datenbank Heidelberg | Heidelber...</td>\n",
              "      <td>2017</td>\n",
              "      <td>NaN</td>\n",
              "    </tr>\n",
              "    <tr>\n",
              "      <th>4</th>\n",
              "      <td>http://n2t.net/ark:/99152/p0jrrjb8spw</td>\n",
              "      <td>Claudian</td>\n",
              "      <td>Roman Empire</td>\n",
              "      <td>NaN</td>\n",
              "      <td>41</td>\n",
              "      <td>54</td>\n",
              "      <td>http://n2t.net/ark:/99152/p0jrrjb</td>\n",
              "      <td>Epigraphische Datenbank Heidelberg | Heidelber...</td>\n",
              "      <td>2017</td>\n",
              "      <td>NaN</td>\n",
              "    </tr>\n",
              "  </tbody>\n",
              "</table>\n",
              "</div>"
            ],
            "text/plain": [
              "                                  period  ... derived_periods\n",
              "0  http://n2t.net/ark:/99152/p0jrrjb7g67  ...             NaN\n",
              "1  http://n2t.net/ark:/99152/p0jrrjbw83z  ...             NaN\n",
              "2  http://n2t.net/ark:/99152/p0jrrjbvfhm  ...             NaN\n",
              "3  http://n2t.net/ark:/99152/p0jrrjbts8w  ...             NaN\n",
              "4  http://n2t.net/ark:/99152/p0jrrjb8spw  ...             NaN\n",
              "\n",
              "[5 rows x 10 columns]"
            ]
          },
          "metadata": {
            "tags": []
          },
          "execution_count": 170
        }
      ]
    },
    {
      "cell_type": "code",
      "metadata": {
        "id": "ZwkGdkyvlEoB",
        "colab_type": "code",
        "colab": {}
      },
      "source": [
        "def count_instances(label):\n",
        "  return len(PHI[PHI[\"raw_date\"].str.contains(label)])\n",
        "\n",
        "EDH_periods[\"label_in_PHI\"] = EDH_periods.apply(lambda row: count_instances(row[\"label\"]), axis=1)"
      ],
      "execution_count": 0,
      "outputs": []
    },
    {
      "cell_type": "code",
      "metadata": {
        "id": "pnciE-NCpy0M",
        "colab_type": "code",
        "outputId": "0d568b60-ae89-4ff6-a3b3-833dbc876cde",
        "colab": {
          "base_uri": "https://localhost:8080/",
          "height": 97
        }
      },
      "source": [
        "PHI[PHI[\"raw_date\"].str.contains(\"Trajanic\")]"
      ],
      "execution_count": 0,
      "outputs": [
        {
          "output_type": "execute_result",
          "data": {
            "text/html": [
              "<div>\n",
              "<style scoped>\n",
              "    .dataframe tbody tr th:only-of-type {\n",
              "        vertical-align: middle;\n",
              "    }\n",
              "\n",
              "    .dataframe tbody tr th {\n",
              "        vertical-align: top;\n",
              "    }\n",
              "\n",
              "    .dataframe thead th {\n",
              "        text-align: right;\n",
              "    }\n",
              "</style>\n",
              "<table border=\"1\" class=\"dataframe\">\n",
              "  <thead>\n",
              "    <tr style=\"text-align: right;\">\n",
              "      <th></th>\n",
              "      <th>URL</th>\n",
              "      <th>Book</th>\n",
              "      <th>Text</th>\n",
              "      <th>hdr1</th>\n",
              "      <th>hdr2</th>\n",
              "      <th>tildeinfo</th>\n",
              "      <th>note</th>\n",
              "      <th>lines</th>\n",
              "      <th>metadata</th>\n",
              "      <th>data</th>\n",
              "      <th>filename</th>\n",
              "      <th>PHI_ID</th>\n",
              "      <th>raw_date</th>\n",
              "    </tr>\n",
              "  </thead>\n",
              "  <tbody>\n",
              "    <tr>\n",
              "      <th>150830</th>\n",
              "      <td>/text/270547?location=254&amp;patt=&amp;bookid=618&amp;off...</td>\n",
              "      <td>MAMA IX</td>\n",
              "      <td>223</td>\n",
              "      <td>Regions\\nAsia Minor\\nPhrygia</td>\n",
              "      <td>MAMA IX\\n223</td>\n",
              "      <td>Phryg., N. — Aizanoi (Çavdarhisar) — prob. Tra...</td>\n",
              "      <td>{}</td>\n",
              "      <td>2</td>\n",
              "      <td>2\\n1</td>\n",
              "      <td>Μενέλ̣α̣ος Μ̣ε̣ν̣ελάῳ [τρό]φ̣ιμος θρέψαντι\\nμν...</td>\n",
              "      <td>MAMA-IX.csv</td>\n",
              "      <td>270547</td>\n",
              "      <td>prob. Trajanic</td>\n",
              "    </tr>\n",
              "  </tbody>\n",
              "</table>\n",
              "</div>"
            ],
            "text/plain": [
              "                                                      URL  ...         raw_date\n",
              "150830  /text/270547?location=254&patt=&bookid=618&off...  ...   prob. Trajanic\n",
              "\n",
              "[1 rows x 13 columns]"
            ]
          },
          "metadata": {
            "tags": []
          },
          "execution_count": 180
        }
      ]
    },
    {
      "cell_type": "code",
      "metadata": {
        "id": "YBtXneUgmJQE",
        "colab_type": "code",
        "colab": {}
      },
      "source": [
        "set_with_dataframe(PHI_overview.add_worksheet(\"EDH_periods_in_PHI\", 1, 1), EDH_periods)"
      ],
      "execution_count": 0,
      "outputs": []
    },
    {
      "cell_type": "markdown",
      "metadata": {
        "colab_type": "text",
        "id": "gqnMB8TXIFKM"
      },
      "source": [
        "# Parse \"/\" for individual dates"
      ]
    },
    {
      "cell_type": "code",
      "metadata": {
        "colab_type": "code",
        "id": "LCHbxCIBIFKO",
        "colab": {}
      },
      "source": [
        "def match_or(datation, dating):\n",
        "  if dating[\"type\"] == \"unknown\":\n",
        "    match = re.search(r'(\\d+)(\\/)(\\d+)', str(datation), flags=re.IGNORECASE)\n",
        "    if match != None:\n",
        "        date1 = match.groups()[0]\n",
        "        date2 = match.groups()[2]\n",
        "        len_diff = len(date1) - len(date2)\n",
        "        # complete the numbers \n",
        "        if len_diff > 0:\n",
        "          date2 = date1[:len_diff] + date2\n",
        "        # transform it into integer\n",
        "        date1 = int(date1)\n",
        "        date2 = int(date2)\n",
        "        if \"AD\" not in datation:\n",
        "          date1 = date1 * -1\n",
        "          date2 = date2 * -1\n",
        "          dating[\"era\"] = \"BC\"\n",
        "        else:\n",
        "          dating[\"era\"] = \"AD\"\n",
        "        if date1 > date2:\n",
        "          date1, date2 = date2, date1\n",
        "        if abs(date1 - date2) < 2: # if these are neighboring numbers\n",
        "          dating.update({\"start\" : date1, \"stop\": date2, \"type\" : \"range\"})\n",
        "        else:\n",
        "          dating.update({\"exact\" : date1, \"or\": {\"exact\" : date2, \"type\" : \"exact\"}, \"type\" : \"exact+or\"})\n",
        "        dating = extract_ante_and_post(datation, dating)\n",
        "        return dating\n",
        "        #if dating_update[\"type\"] == \"post\":\n",
        "        #   return {\"start\" : date1, \"or\": {\"start\" : date2, \"type\" : \"post\"}, \"type\" : \"post+or\"}\n",
        "        #elif extract_ante_and_post(datation, dating)[\"type\"] == \"ante\":\n",
        "        #  return {\"stop\" : date1, \"or\": {\"stop\" : date2, \"type\" : \"ante\"}, \"type\" : \"ante+or\"}\n",
        "        #else:\n",
        "        #  return {\"exact\" : date1, \"or\": {\"exact\" : date2, \"type\" : \"exact\"}, \"type\" : \"exact+or\"}\n",
        "    else:\n",
        "      return {\"type\" : \"unknown\"}\n",
        "  else:\n",
        "    return {\"type\" : \"unknown\"}"
      ],
      "execution_count": 0,
      "outputs": []
    },
    {
      "cell_type": "code",
      "metadata": {
        "id": "Us522n9frYj6",
        "colab_type": "code",
        "outputId": "b137f3fa-629e-4b42-8944-a5859352705d",
        "colab": {
          "base_uri": "https://localhost:8080/",
          "height": 34
        }
      },
      "source": [
        "dating = {\"type\": \"unknown\"}\n",
        "match_or(\" 12/1 BC\", dating)"
      ],
      "execution_count": 21,
      "outputs": [
        {
          "output_type": "execute_result",
          "data": {
            "text/plain": [
              "{'era': 'BC', 'start': -12, 'stop': -11, 'type': 'range'}"
            ]
          },
          "metadata": {
            "tags": []
          },
          "execution_count": 21
        }
      ]
    },
    {
      "cell_type": "code",
      "metadata": {
        "colab_type": "code",
        "outputId": "620e4d7f-c5bc-450a-b08d-8c4dfe0e9ab2",
        "id": "D_3E6xkkIFKR",
        "colab": {
          "base_uri": "https://localhost:8080/",
          "height": 68
        }
      },
      "source": [
        "ors = PHI_by_500[PHI_by_500[\"raw_date\"].str.contains(r'(\\d+)(\\/)(\\d+)')][\"raw_date\"].tolist()\n",
        "print(ors)"
      ],
      "execution_count": 22,
      "outputs": [
        {
          "output_type": "stream",
          "text": [
            "[' 220/19', ' 12/1 BC', ' 116/5 BC', ' 229/30 or 230/1 AD ', ' ante 336/5', ' 204/3?', ' 73/4 AD', ' ca. 163/2 BC', ' 128/127 BC ', ' shortly after 208/7 BC (or 207/6) ', ' 154/5 AD', ' 66/7 AD']\n"
          ],
          "name": "stdout"
        },
        {
          "output_type": "stream",
          "text": [
            "/usr/local/lib/python3.6/dist-packages/pandas/core/strings.py:1954: UserWarning: This pattern has match groups. To actually get the groups, use str.extract.\n",
            "  return func(self, *args, **kwargs)\n"
          ],
          "name": "stderr"
        }
      ]
    },
    {
      "cell_type": "code",
      "metadata": {
        "id": "PVlE1mpP76XR",
        "colab_type": "code",
        "outputId": "0848aeca-2bac-4846-9f14-034d01db88b7",
        "colab": {
          "base_uri": "https://localhost:8080/",
          "height": 34
        }
      },
      "source": [
        "datation = \"12/1 BC\"\n",
        "match = re.search(r'(\\d+)(\\/)(\\d+)', str(datation), flags=re.IGNORECASE)\n",
        "if match:\n",
        "  date1 = match.groups()[0]\n",
        "  date2 = match.groups()[2]\n",
        "  len_diff = len(date1) - len(date2)\n",
        "  # complete the numbers \n",
        "  if len_diff > 0:\n",
        "    date2 = date1[:len_diff] + date2\n",
        "  # transform it into integer\n",
        "  date1 = int(date1)\n",
        "  date2 = int(date2)\n",
        "print(date1, date2)"
      ],
      "execution_count": 23,
      "outputs": [
        {
          "output_type": "stream",
          "text": [
            "12 11\n"
          ],
          "name": "stdout"
        }
      ]
    },
    {
      "cell_type": "code",
      "metadata": {
        "id": "CdJBu_3dAVmk",
        "colab_type": "code",
        "outputId": "7a34952c-e546-4853-c0ba-76ef60975b69",
        "colab": {
          "base_uri": "https://localhost:8080/",
          "height": 34
        }
      },
      "source": [
        "match_or(\" 12/1 BC\", {\"type\":\"unknown\"})"
      ],
      "execution_count": 24,
      "outputs": [
        {
          "output_type": "execute_result",
          "data": {
            "text/plain": [
              "{'era': 'BC', 'start': -12, 'stop': -11, 'type': 'range'}"
            ]
          },
          "metadata": {
            "tags": []
          },
          "execution_count": 24
        }
      ]
    },
    {
      "cell_type": "code",
      "metadata": {
        "colab_type": "code",
        "outputId": "0b86dfaf-16dd-4664-9cda-b71beec74a4d",
        "id": "PyHZcfg8IFKY",
        "colab": {
          "base_uri": "https://localhost:8080/",
          "height": 221
        }
      },
      "source": [
        "# example/testing\n",
        "dating = {\"type\": \"unknown\"}\n",
        "for our_or in ors:\n",
        "  print({our_or: match_or(our_or, dating)})\n",
        "  #print({our_or: extract_ante_and_post(our_or)})"
      ],
      "execution_count": 25,
      "outputs": [
        {
          "output_type": "stream",
          "text": [
            "{' 220/19': {'type': 'range', 'era': 'BC', 'start': -220, 'stop': -219}}\n",
            "{' 12/1 BC': {'type': 'unknown'}}\n",
            "{' 116/5 BC': {'type': 'unknown'}}\n",
            "{' 229/30 or 230/1 AD ': {'type': 'unknown'}}\n",
            "{' ante 336/5': {'type': 'unknown'}}\n",
            "{' 204/3?': {'type': 'unknown'}}\n",
            "{' 73/4 AD': {'type': 'unknown'}}\n",
            "{' ca. 163/2 BC': {'type': 'unknown'}}\n",
            "{' 128/127 BC ': {'type': 'unknown'}}\n",
            "{' shortly after 208/7 BC (or 207/6) ': {'type': 'unknown'}}\n",
            "{' 154/5 AD': {'type': 'unknown'}}\n",
            "{' 66/7 AD': {'type': 'unknown'}}\n"
          ],
          "name": "stdout"
        }
      ]
    },
    {
      "cell_type": "code",
      "metadata": {
        "colab_type": "code",
        "outputId": "1bc27007-85c6-4899-cddc-d18f2bdf05b7",
        "id": "pPHmzDG-IFKb",
        "colab": {
          "base_uri": "https://localhost:8080/",
          "height": 54
        }
      },
      "source": [
        "ors = PHI_by_500[PHI_by_500[\"raw_date\"].str.contains(\"/\")][\"raw_date\"].tolist()\n",
        "print(ors)"
      ],
      "execution_count": 26,
      "outputs": [
        {
          "output_type": "stream",
          "text": [
            "[' 220/19', ' 2nd/3rd c. AD', ' 12/1 BC', ' 2nd/3rd c. AD ', ' 116/5 BC', ' 3rd/2nd c. BC?', ' 6th/5th c. BC', ' 6th/5th c. BC', ' 229/30 or 230/1 AD ', ' 2nd/3rd c. AD ', ' 3rd/4th c. AD ', ' ante 336/5', ' 204/3?', ' [s. II/III p.]', ' 73/4 AD', ' 1st/2nd c. AD', ' fin. s. V/VI p.', ' 5th/6th c. AD', ' 2nd/3rd c. AD', ' ca. 163/2 BC', ' 3rd/2nd c. BC', ' 1st/2nd c. AD', ' 2nd/3rd c. AD ', ' 128/127 BC ', ' 2nd/3rd c. AD ', ' 2nd/1st c. BC', ' 1st/2nd c. AD', ' 3rd/4th c. AD? ', ' 2nd/3rd c. AD', ' 1st/2nd c. AD', ' Laurent, Corpus V 357bis/1702', ' shortly after 208/7 BC (or 207/6) ', ' 154/5 AD', ' 66/7 AD', ' 1st c. BC/1st c. AD ', ' 2nd/3rd c. AD']\n"
          ],
          "name": "stdout"
        }
      ]
    },
    {
      "cell_type": "code",
      "metadata": {
        "id": "kTnH38jSTApF",
        "colab_type": "code",
        "outputId": "5c511273-466f-4686-8ef9-a58df48115d9",
        "colab": {
          "base_uri": "https://localhost:8080/",
          "height": 306
        }
      },
      "source": [
        "PHI_by_500[PHI_by_500[\"raw_date\"].str.contains(\"/\")].head(5)"
      ],
      "execution_count": 27,
      "outputs": [
        {
          "output_type": "execute_result",
          "data": {
            "text/html": [
              "<div>\n",
              "<style scoped>\n",
              "    .dataframe tbody tr th:only-of-type {\n",
              "        vertical-align: middle;\n",
              "    }\n",
              "\n",
              "    .dataframe tbody tr th {\n",
              "        vertical-align: top;\n",
              "    }\n",
              "\n",
              "    .dataframe thead th {\n",
              "        text-align: right;\n",
              "    }\n",
              "</style>\n",
              "<table border=\"1\" class=\"dataframe\">\n",
              "  <thead>\n",
              "    <tr style=\"text-align: right;\">\n",
              "      <th></th>\n",
              "      <th>URL</th>\n",
              "      <th>Book</th>\n",
              "      <th>Text</th>\n",
              "      <th>hdr1</th>\n",
              "      <th>hdr2</th>\n",
              "      <th>tildeinfo</th>\n",
              "      <th>note</th>\n",
              "      <th>lines</th>\n",
              "      <th>metadata</th>\n",
              "      <th>data</th>\n",
              "      <th>filename</th>\n",
              "      <th>PHI_ID</th>\n",
              "      <th>raw_date</th>\n",
              "    </tr>\n",
              "  </thead>\n",
              "  <tbody>\n",
              "    <tr>\n",
              "      <th>1260</th>\n",
              "      <td>/text/231001?location=1365&amp;patt=&amp;bookid=394&amp;of...</td>\n",
              "      <td>Agora XV</td>\n",
              "      <td>130</td>\n",
              "      <td>Regions\\nAttica (IG I-III)\\nAttica</td>\n",
              "      <td>Agora XV\\n130</td>\n",
              "      <td>Att. — Athens: Agora — 220/19</td>\n",
              "      <td>{}</td>\n",
              "      <td>149</td>\n",
              "      <td>1\\n\\n\\n\\n5\\n\\n\\n\\n\\n10\\n\\n\\n\\n\\n15\\n\\n\\n\\n\\n20...</td>\n",
              "      <td>ἐπὶ Μενεκράτου ἄρχοντος ἐπὶ τῆς Οἰνεῖδος ἕκτη-...</td>\n",
              "      <td>Agora-XV.csv</td>\n",
              "      <td>231001</td>\n",
              "      <td>220/19</td>\n",
              "    </tr>\n",
              "    <tr>\n",
              "      <th>7001</th>\n",
              "      <td>/text/298501?location=1237&amp;patt=&amp;bookid=735&amp;of...</td>\n",
              "      <td>IDR III,1</td>\n",
              "      <td>153</td>\n",
              "      <td>Regions\\nThrace and the Lower Danube (IG X)\\nD...</td>\n",
              "      <td>IDR III,1\\n153</td>\n",
              "      <td>Dacia Sup. — Tibiscum (Jupa) — 2nd/3rd c. AD</td>\n",
              "      <td>{}</td>\n",
              "      <td>8</td>\n",
              "      <td>1\\n\\n\\n\\n5\\n\\n\\n</td>\n",
              "      <td>D(is) M(anibus)\\nP(ublius) Ael(ius) Claudia-\\n...</td>\n",
              "      <td>IDR-III-1.csv</td>\n",
              "      <td>298501</td>\n",
              "      <td>2nd/3rd c. AD</td>\n",
              "    </tr>\n",
              "    <tr>\n",
              "      <th>15498</th>\n",
              "      <td>/text/243501?location=1498&amp;patt=&amp;bookid=474&amp;of...</td>\n",
              "      <td>IGLSyr 4</td>\n",
              "      <td>1271B,g</td>\n",
              "      <td>Regions\\nGreater Syria and the East\\nSyria and...</td>\n",
              "      <td>IGLSyr 4\\n1271B,g</td>\n",
              "      <td>Syr., Laodik. — Laodicea — 12/1 BC</td>\n",
              "      <td>{}</td>\n",
              "      <td>2</td>\n",
              "      <td>1\\n</td>\n",
              "      <td>ζλʹ {²sc. ἔτους}², ἑκκα-\\nιδέκατον.</td>\n",
              "      <td>IGLSyr-4.csv</td>\n",
              "      <td>243501</td>\n",
              "      <td>12/1 BC</td>\n",
              "    </tr>\n",
              "    <tr>\n",
              "      <th>16567</th>\n",
              "      <td>/text/299501?location=1237&amp;patt=&amp;bookid=737&amp;of...</td>\n",
              "      <td>IDR III,3</td>\n",
              "      <td>182</td>\n",
              "      <td>Regions\\nThrace and the Lower Danube (IG X)\\nD...</td>\n",
              "      <td>IDR III,3\\n182</td>\n",
              "      <td>Dacia Sup. — Micia (Vețel)? — Chimindia — 2nd/...</td>\n",
              "      <td>{}</td>\n",
              "      <td>9</td>\n",
              "      <td>frg. a\\n\\n\\n\\n\\nfrg. b\\n\\n\\n</td>\n",
              "      <td>[— — — — — — — — — — — —]\\n[— —] quondam Pompo...</td>\n",
              "      <td>IDR-III-3.csv</td>\n",
              "      <td>299501</td>\n",
              "      <td>2nd/3rd c. AD</td>\n",
              "    </tr>\n",
              "    <tr>\n",
              "      <th>24698</th>\n",
              "      <td>/text/64501?location=915&amp;patt=&amp;bookid=1&amp;offset...</td>\n",
              "      <td>ID</td>\n",
              "      <td>2057</td>\n",
              "      <td>Regions\\nAegean Islands, incl. Crete (IG XI-[X...</td>\n",
              "      <td>ID\\n2057</td>\n",
              "      <td>Delos — 116/5 BC</td>\n",
              "      <td>{}</td>\n",
              "      <td>6</td>\n",
              "      <td>1\\n\\n\\n\\n5\\n</td>\n",
              "      <td>Διονύσιος\\nΔιονυσίου\\nΣφή&lt;τ&gt;τιος, ἱερεὺς\\nγενό...</td>\n",
              "      <td>ID.csv</td>\n",
              "      <td>64501</td>\n",
              "      <td>116/5 BC</td>\n",
              "    </tr>\n",
              "  </tbody>\n",
              "</table>\n",
              "</div>"
            ],
            "text/plain": [
              "                                                     URL  ...         raw_date\n",
              "1260   /text/231001?location=1365&patt=&bookid=394&of...  ...           220/19\n",
              "7001   /text/298501?location=1237&patt=&bookid=735&of...  ...    2nd/3rd c. AD\n",
              "15498  /text/243501?location=1498&patt=&bookid=474&of...  ...          12/1 BC\n",
              "16567  /text/299501?location=1237&patt=&bookid=737&of...  ...   2nd/3rd c. AD \n",
              "24698  /text/64501?location=915&patt=&bookid=1&offset...  ...         116/5 BC\n",
              "\n",
              "[5 rows x 13 columns]"
            ]
          },
          "metadata": {
            "tags": []
          },
          "execution_count": 27
        }
      ]
    },
    {
      "cell_type": "markdown",
      "metadata": {
        "id": "Wmnv7TMsCwqz",
        "colab_type": "text"
      },
      "source": [
        "# Parse centuries"
      ]
    },
    {
      "cell_type": "code",
      "metadata": {
        "id": "a4p8-HnxQ0SW",
        "colab_type": "code",
        "outputId": "03194f74-81ee-404a-e4b5-3f4471bb812c",
        "colab": {
          "base_uri": "https://localhost:8080/",
          "height": 328
        }
      },
      "source": [
        "centuries_df = get_as_dataframe(PHI_overview.worksheet(\"centuries\"))\n",
        "centuries_df.set_index(\"arabic\", inplace=True)\n",
        "centuries_df"
      ],
      "execution_count": 39,
      "outputs": [
        {
          "output_type": "execute_result",
          "data": {
            "text/html": [
              "<div>\n",
              "<style scoped>\n",
              "    .dataframe tbody tr th:only-of-type {\n",
              "        vertical-align: middle;\n",
              "    }\n",
              "\n",
              "    .dataframe tbody tr th {\n",
              "        vertical-align: top;\n",
              "    }\n",
              "\n",
              "    .dataframe thead th {\n",
              "        text-align: right;\n",
              "    }\n",
              "</style>\n",
              "<table border=\"1\" class=\"dataframe\">\n",
              "  <thead>\n",
              "    <tr style=\"text-align: right;\">\n",
              "      <th></th>\n",
              "      <th>roman</th>\n",
              "      <th>start_BC</th>\n",
              "      <th>stop_BC</th>\n",
              "      <th>start_AD</th>\n",
              "      <th>stop_AD</th>\n",
              "    </tr>\n",
              "    <tr>\n",
              "      <th>arabic</th>\n",
              "      <th></th>\n",
              "      <th></th>\n",
              "      <th></th>\n",
              "      <th></th>\n",
              "      <th></th>\n",
              "    </tr>\n",
              "  </thead>\n",
              "  <tbody>\n",
              "    <tr>\n",
              "      <th>8th</th>\n",
              "      <td>VIII</td>\n",
              "      <td>-800</td>\n",
              "      <td>-701</td>\n",
              "      <td>701</td>\n",
              "      <td>800</td>\n",
              "    </tr>\n",
              "    <tr>\n",
              "      <th>7th</th>\n",
              "      <td>VII</td>\n",
              "      <td>-700</td>\n",
              "      <td>-601</td>\n",
              "      <td>601</td>\n",
              "      <td>700</td>\n",
              "    </tr>\n",
              "    <tr>\n",
              "      <th>6th</th>\n",
              "      <td>VI</td>\n",
              "      <td>-600</td>\n",
              "      <td>-501</td>\n",
              "      <td>501</td>\n",
              "      <td>600</td>\n",
              "    </tr>\n",
              "    <tr>\n",
              "      <th>4th</th>\n",
              "      <td>IV</td>\n",
              "      <td>-400</td>\n",
              "      <td>-301</td>\n",
              "      <td>301</td>\n",
              "      <td>400</td>\n",
              "    </tr>\n",
              "    <tr>\n",
              "      <th>5th</th>\n",
              "      <td>V</td>\n",
              "      <td>-500</td>\n",
              "      <td>401</td>\n",
              "      <td>401</td>\n",
              "      <td>500</td>\n",
              "    </tr>\n",
              "    <tr>\n",
              "      <th>3rd</th>\n",
              "      <td>III</td>\n",
              "      <td>-300</td>\n",
              "      <td>-201</td>\n",
              "      <td>201</td>\n",
              "      <td>300</td>\n",
              "    </tr>\n",
              "    <tr>\n",
              "      <th>2nd</th>\n",
              "      <td>II</td>\n",
              "      <td>-200</td>\n",
              "      <td>-101</td>\n",
              "      <td>101</td>\n",
              "      <td>200</td>\n",
              "    </tr>\n",
              "    <tr>\n",
              "      <th>1st</th>\n",
              "      <td>I</td>\n",
              "      <td>-100</td>\n",
              "      <td>-1</td>\n",
              "      <td>1</td>\n",
              "      <td>100</td>\n",
              "    </tr>\n",
              "  </tbody>\n",
              "</table>\n",
              "</div>"
            ],
            "text/plain": [
              "       roman  start_BC  stop_BC  start_AD  stop_AD\n",
              "arabic                                            \n",
              "8th     VIII      -800     -701       701      800\n",
              "7th      VII      -700     -601       601      700\n",
              "6th       VI      -600     -501       501      600\n",
              "4th       IV      -400     -301       301      400\n",
              "5th        V      -500      401       401      500\n",
              "3rd      III      -300     -201       201      300\n",
              "2nd       II      -200     -101       101      200\n",
              "1st        I      -100       -1         1      100"
            ]
          },
          "metadata": {
            "tags": []
          },
          "execution_count": 39
        }
      ]
    },
    {
      "cell_type": "code",
      "metadata": {
        "id": "Ss7wRjSfhN55",
        "colab_type": "code",
        "colab": {
          "base_uri": "https://localhost:8080/",
          "height": 34
        },
        "outputId": "3cd1ca4b-14f9-424d-8c0b-6d2b9c4fd2c8"
      },
      "source": [
        "arabics = centuries_df.index.tolist()\n",
        "arabics"
      ],
      "execution_count": 70,
      "outputs": [
        {
          "output_type": "execute_result",
          "data": {
            "text/plain": [
              "['8th', '7th', '6th', '4th', '5th', '3rd', '2nd', '1st']"
            ]
          },
          "metadata": {
            "tags": []
          },
          "execution_count": 70
        }
      ]
    },
    {
      "cell_type": "code",
      "metadata": {
        "id": "7itHvFW6hWxh",
        "colab_type": "code",
        "colab": {
          "base_uri": "https://localhost:8080/",
          "height": 34
        },
        "outputId": "7e740250-d851-4f37-a32f-be5b3156cf90"
      },
      "source": [
        "centuries_df[\"roman\"].tolist()"
      ],
      "execution_count": 41,
      "outputs": [
        {
          "output_type": "execute_result",
          "data": {
            "text/plain": [
              "['VIII', 'VII', 'VI', 'IV', 'V', 'III', 'II', 'I']"
            ]
          },
          "metadata": {
            "tags": []
          },
          "execution_count": 41
        }
      ]
    },
    {
      "cell_type": "code",
      "metadata": {
        "id": "B_TWigvxd2mG",
        "colab_type": "code",
        "colab": {
          "base_uri": "https://localhost:8080/",
          "height": 34
        },
        "outputId": "639fe2cb-624b-419f-96a3-6b33862420b1"
      },
      "source": [
        "datation = \"1st-early 2nd c. AD\"\n",
        "re.split(\"-|/|\\sor\\s\", datation)"
      ],
      "execution_count": 31,
      "outputs": [
        {
          "output_type": "execute_result",
          "data": {
            "text/plain": [
              "['1st', 'early 2nd c. AD']"
            ]
          },
          "metadata": {
            "tags": []
          },
          "execution_count": 31
        }
      ]
    },
    {
      "cell_type": "code",
      "metadata": {
        "id": "dDw8xTdGg2RG",
        "colab_type": "code",
        "colab": {
          "base_uri": "https://localhost:8080/",
          "height": 34
        },
        "outputId": "7010f34f-7d3d-408b-dbcb-f17e9c7ccb6c"
      },
      "source": [
        "centuries_df.loc[\"3rd\"][\"roman\"]"
      ],
      "execution_count": 43,
      "outputs": [
        {
          "output_type": "execute_result",
          "data": {
            "text/plain": [
              "'III'"
            ]
          },
          "metadata": {
            "tags": []
          },
          "execution_count": 43
        }
      ]
    },
    {
      "cell_type": "code",
      "metadata": {
        "id": "qgs7D5WlhrB2",
        "colab_type": "code",
        "colab": {
          "base_uri": "https://localhost:8080/",
          "height": 34
        },
        "outputId": "0b242757-243c-4e49-b11c-767e70bdee87"
      },
      "source": [
        "datation = \"s. II/III AD\" # \"p.\" and \"a.\" are replaced previously\n",
        "for roman, arabic in zip(centuries_df[\"roman\"].tolist(), centuries_df.index.tolist()):\n",
        "  datation = re.sub(roman, arabic, datation)\n",
        "centuries = re.split(\"-|/|\\sor\\s\", datation)\n",
        "print(centuries)"
      ],
      "execution_count": 48,
      "outputs": [
        {
          "output_type": "stream",
          "text": [
            "['s. 2nd', '3rd AD']\n"
          ],
          "name": "stdout"
        }
      ]
    },
    {
      "cell_type": "code",
      "metadata": {
        "id": "Wj22yZ8srQQZ",
        "colab_type": "code",
        "colab": {
          "base_uri": "https://localhost:8080/",
          "height": 34
        },
        "outputId": "a03b1db6-5501-4c1d-b271-3f6750e6d060"
      },
      "source": [
        "any(re.search(arabic, \"2nd c. AD\") for arabic in arabics)"
      ],
      "execution_count": 84,
      "outputs": [
        {
          "output_type": "execute_result",
          "data": {
            "text/plain": [
              "True"
            ]
          },
          "metadata": {
            "tags": []
          },
          "execution_count": 84
        }
      ]
    },
    {
      "cell_type": "code",
      "metadata": {
        "id": "G_7Q3oaFv1nY",
        "colab_type": "code",
        "colab": {}
      },
      "source": [
        "for num in arabics:\n",
        "  century1 = [num for cents_list[0] if num in cents_list[0]]"
      ],
      "execution_count": 0,
      "outputs": []
    },
    {
      "cell_type": "code",
      "metadata": {
        "id": "Sbyht0O_xMOj",
        "colab_type": "code",
        "colab": {
          "base_uri": "https://localhost:8080/",
          "height": 153
        },
        "outputId": "11285626-7abe-4867-800a-24fccc2c2dc1"
      },
      "source": [
        "num = \"4th\"\n",
        "re.sub(\".*\" + num + \".\", num, \"beg. 4th c. \") # for num in arabics "
      ],
      "execution_count": 103,
      "outputs": [
        {
          "output_type": "execute_result",
          "data": {
            "text/plain": [
              "['s. 2nd c. ',\n",
              " 's. 2nd c. ',\n",
              " 's. 2nd c. ',\n",
              " 's. 2nd c. ',\n",
              " 's. 2nd c. ',\n",
              " 's. 2nd c. ',\n",
              " 's. 2nd',\n",
              " 's. 2nd c. ']"
            ]
          },
          "metadata": {
            "tags": []
          },
          "execution_count": 103
        }
      ]
    },
    {
      "cell_type": "code",
      "metadata": {
        "id": "yM6g97A6UA-m",
        "colab_type": "code",
        "colab": {}
      },
      "source": [
        "### new version - still not functional...\n",
        "def parse_centuries(datation, dating):\n",
        "  for roman, arabic in zip(centuries_df[\"roman\"].tolist(), arabics):\n",
        "    datation = re.sub(roman, arabic, datation)\n",
        "  cents = [cent for cent in centuries_df.index.tolist() if re.search(cent, datation)]\n",
        "  # if more centuries mentioned:\n",
        "  if len([cent for cent in centuries_df.index.tolist() if re.search(cent, datation)]) == 2:\n",
        "    cents_list = re.split(\"-|/|\\sor\\s\", datation)\n",
        "    century1 = [re.sub(\".*\" + num + \".*\", num, cents_list[0])  for num in arabics if num in string][0]\n",
        "    century2 = [re.sub(\".*\" + num + \".*\", num, cents_list[1])  for num in arabics if num in string][0]\n",
        "    if (\" AD\" in datation) and (\" BC\" not in datation): # if explicit AD and only AD:\n",
        "      start = centuries_df.loc[century1][\"start_AD\"]\n",
        "      stop = centuries_df.loc[century2][\"stop_AD\"]\n",
        "      era = \"AD\"\n",
        "    elif (\" BC\" in cents_list[0]) and (\" AD\" in cents_list[1]):\n",
        "      start = centuries_df.loc[century1][\"start_BC\"]\n",
        "      stop = centuries_df.loc[century2][\"stop_AD\"]\n",
        "      era = \"BC/AD\"\n",
        "    else:\n",
        "      start = centuries_df.loc[century1][\"start_BC\"]\n",
        "      stop = centuries_df.loc[century2][\"stop_BC\"]\n",
        "      era = \"BC\"\n",
        "    dating_update = {\"start\" : start, \"stop\" : stop, \"era\" : era, \"type\" : \"range+cent+morece\"}\n",
        "  elif len(cents) == 1:\n",
        "    century = [re.sub(\".*\" + num + \".*\", num, datation)  for num in arabics if num in string][0]\n",
        "    if \" AD\" in datation: \n",
        "      start = centuries_df.loc[century][\"start_AD\"]\n",
        "      stop = centuries_df.loc[century][\"stop_AD\"]\n",
        "      era = \"AD\"\n",
        "    else:\n",
        "      start = centuries_df.loc[century][\"start_BC\"]\n",
        "      stop = centuries_df.loc[century][\"stop_BC\"]\n",
        "      era = \"BC\"\n",
        "    dating_update = {\"start\" : start, \"stop\" : stop, \"era\" : era, \"type\" : \"range+cent\"}\n",
        "  else:\n",
        "    dating_update = {\"type\": \"unknown\"}\n",
        "  return dating_update"
      ],
      "execution_count": 0,
      "outputs": []
    },
    {
      "cell_type": "code",
      "metadata": {
        "id": "x2cvK94s3Hll",
        "colab_type": "code",
        "colab": {
          "base_uri": "https://localhost:8080/",
          "height": 34
        },
        "outputId": "1250dcf6-c815-4773-d55a-34b981d04c0e"
      },
      "source": [
        "arabics"
      ],
      "execution_count": 118,
      "outputs": [
        {
          "output_type": "execute_result",
          "data": {
            "text/plain": [
              "['8th', '7th', '6th', '4th', '5th', '3rd', '2nd', '1st']"
            ]
          },
          "metadata": {
            "tags": []
          },
          "execution_count": 118
        }
      ]
    },
    {
      "cell_type": "code",
      "metadata": {
        "id": "p2A-63WL0nNQ",
        "colab_type": "code",
        "colab": {
          "base_uri": "https://localhost:8080/",
          "height": 34
        },
        "outputId": "bf8e5454-4caf-44e0-d51f-7763256c4014"
      },
      "source": [
        "string = \"s. 2nd\"\n",
        "century1 = [re.sub(\".*\" + num + \".*\", num, string)  for num in arabics if num in string]\n",
        "century1"
      ],
      "execution_count": 122,
      "outputs": [
        {
          "output_type": "execute_result",
          "data": {
            "text/plain": [
              "['2nd']"
            ]
          },
          "metadata": {
            "tags": []
          },
          "execution_count": 122
        }
      ]
    },
    {
      "cell_type": "code",
      "metadata": {
        "id": "CNrJGSyyspSQ",
        "colab_type": "code",
        "colab": {
          "base_uri": "https://localhost:8080/",
          "height": 698
        },
        "outputId": "327461a1-c23b-45bb-ea5e-04f18e173d1c"
      },
      "source": [
        "datation = \"s. II/III AD\" # \"p.\" and \"a.\" are replaced previously\n",
        "parse_centuries(datation, {\"type\": \"unknown\"})"
      ],
      "execution_count": 120,
      "outputs": [
        {
          "output_type": "error",
          "ename": "KeyError",
          "evalue": "ignored",
          "traceback": [
            "\u001b[0;31m---------------------------------------------------------------------------\u001b[0m",
            "\u001b[0;31mKeyError\u001b[0m                                  Traceback (most recent call last)",
            "\u001b[0;32m/usr/local/lib/python3.6/dist-packages/pandas/core/indexes/base.py\u001b[0m in \u001b[0;36mget_loc\u001b[0;34m(self, key, method, tolerance)\u001b[0m\n\u001b[1;32m   2645\u001b[0m             \u001b[0;32mtry\u001b[0m\u001b[0;34m:\u001b[0m\u001b[0;34m\u001b[0m\u001b[0;34m\u001b[0m\u001b[0m\n\u001b[0;32m-> 2646\u001b[0;31m                 \u001b[0;32mreturn\u001b[0m \u001b[0mself\u001b[0m\u001b[0;34m.\u001b[0m\u001b[0m_engine\u001b[0m\u001b[0;34m.\u001b[0m\u001b[0mget_loc\u001b[0m\u001b[0;34m(\u001b[0m\u001b[0mkey\u001b[0m\u001b[0;34m)\u001b[0m\u001b[0;34m\u001b[0m\u001b[0;34m\u001b[0m\u001b[0m\n\u001b[0m\u001b[1;32m   2647\u001b[0m             \u001b[0;32mexcept\u001b[0m \u001b[0mKeyError\u001b[0m\u001b[0;34m:\u001b[0m\u001b[0;34m\u001b[0m\u001b[0;34m\u001b[0m\u001b[0m\n",
            "\u001b[0;32mpandas/_libs/index.pyx\u001b[0m in \u001b[0;36mpandas._libs.index.IndexEngine.get_loc\u001b[0;34m()\u001b[0m\n",
            "\u001b[0;32mpandas/_libs/index.pyx\u001b[0m in \u001b[0;36mpandas._libs.index.IndexEngine.get_loc\u001b[0;34m()\u001b[0m\n",
            "\u001b[0;32mpandas/_libs/hashtable_class_helper.pxi\u001b[0m in \u001b[0;36mpandas._libs.hashtable.PyObjectHashTable.get_item\u001b[0;34m()\u001b[0m\n",
            "\u001b[0;32mpandas/_libs/hashtable_class_helper.pxi\u001b[0m in \u001b[0;36mpandas._libs.hashtable.PyObjectHashTable.get_item\u001b[0;34m()\u001b[0m\n",
            "\u001b[0;31mKeyError\u001b[0m: 's. 2nd'",
            "\nDuring handling of the above exception, another exception occurred:\n",
            "\u001b[0;31mKeyError\u001b[0m                                  Traceback (most recent call last)",
            "\u001b[0;32m<ipython-input-120-47298cbf5a80>\u001b[0m in \u001b[0;36m<module>\u001b[0;34m()\u001b[0m\n\u001b[1;32m      1\u001b[0m \u001b[0mdatation\u001b[0m \u001b[0;34m=\u001b[0m \u001b[0;34m\"s. II/III AD\"\u001b[0m \u001b[0;31m# \"p.\" and \"a.\" are replaced previously\u001b[0m\u001b[0;34m\u001b[0m\u001b[0;34m\u001b[0m\u001b[0m\n\u001b[0;32m----> 2\u001b[0;31m \u001b[0mparse_centuries\u001b[0m\u001b[0;34m(\u001b[0m\u001b[0mdatation\u001b[0m\u001b[0;34m,\u001b[0m \u001b[0;34m{\u001b[0m\u001b[0;34m\"type\"\u001b[0m\u001b[0;34m:\u001b[0m \u001b[0;34m\"unknown\"\u001b[0m\u001b[0;34m}\u001b[0m\u001b[0;34m)\u001b[0m\u001b[0;34m\u001b[0m\u001b[0;34m\u001b[0m\u001b[0m\n\u001b[0m",
            "\u001b[0;32m<ipython-input-109-fa11dcec3e16>\u001b[0m in \u001b[0;36mparse_centuries\u001b[0;34m(datation, dating)\u001b[0m\n\u001b[1;32m     10\u001b[0m     \u001b[0mcentury2\u001b[0m \u001b[0;34m=\u001b[0m \u001b[0;34m[\u001b[0m\u001b[0mre\u001b[0m\u001b[0;34m.\u001b[0m\u001b[0msub\u001b[0m\u001b[0;34m(\u001b[0m\u001b[0;34m\".*\"\u001b[0m \u001b[0;34m+\u001b[0m \u001b[0mnum\u001b[0m \u001b[0;34m+\u001b[0m \u001b[0;34m\".*\"\u001b[0m\u001b[0;34m,\u001b[0m \u001b[0mnum\u001b[0m\u001b[0;34m,\u001b[0m \u001b[0mcents_list\u001b[0m\u001b[0;34m[\u001b[0m\u001b[0;36m1\u001b[0m\u001b[0;34m]\u001b[0m\u001b[0;34m)\u001b[0m  \u001b[0;32mfor\u001b[0m \u001b[0mnum\u001b[0m \u001b[0;32min\u001b[0m \u001b[0marabics\u001b[0m \u001b[0;32mif\u001b[0m \u001b[0mnum\u001b[0m \u001b[0;32min\u001b[0m \u001b[0mstring\u001b[0m\u001b[0;34m]\u001b[0m\u001b[0;34m[\u001b[0m\u001b[0;36m0\u001b[0m\u001b[0;34m]\u001b[0m\u001b[0;34m\u001b[0m\u001b[0;34m\u001b[0m\u001b[0m\n\u001b[1;32m     11\u001b[0m     \u001b[0;32mif\u001b[0m \u001b[0;34m(\u001b[0m\u001b[0;34m\" AD\"\u001b[0m \u001b[0;32min\u001b[0m \u001b[0mdatation\u001b[0m\u001b[0;34m)\u001b[0m \u001b[0;32mand\u001b[0m \u001b[0;34m(\u001b[0m\u001b[0;34m\" BC\"\u001b[0m \u001b[0;32mnot\u001b[0m \u001b[0;32min\u001b[0m \u001b[0mdatation\u001b[0m\u001b[0;34m)\u001b[0m\u001b[0;34m:\u001b[0m \u001b[0;31m# if explicit AD and only AD:\u001b[0m\u001b[0;34m\u001b[0m\u001b[0;34m\u001b[0m\u001b[0m\n\u001b[0;32m---> 12\u001b[0;31m       \u001b[0mstart\u001b[0m \u001b[0;34m=\u001b[0m \u001b[0mcenturies_df\u001b[0m\u001b[0;34m.\u001b[0m\u001b[0mloc\u001b[0m\u001b[0;34m[\u001b[0m\u001b[0mcentury1\u001b[0m\u001b[0;34m]\u001b[0m\u001b[0;34m[\u001b[0m\u001b[0;34m\"start_AD\"\u001b[0m\u001b[0;34m]\u001b[0m\u001b[0;34m\u001b[0m\u001b[0;34m\u001b[0m\u001b[0m\n\u001b[0m\u001b[1;32m     13\u001b[0m       \u001b[0mstop\u001b[0m \u001b[0;34m=\u001b[0m \u001b[0mcenturies_df\u001b[0m\u001b[0;34m.\u001b[0m\u001b[0mloc\u001b[0m\u001b[0;34m[\u001b[0m\u001b[0mcentury2\u001b[0m\u001b[0;34m]\u001b[0m\u001b[0;34m[\u001b[0m\u001b[0;34m\"stop_AD\"\u001b[0m\u001b[0;34m]\u001b[0m\u001b[0;34m\u001b[0m\u001b[0;34m\u001b[0m\u001b[0m\n\u001b[1;32m     14\u001b[0m       \u001b[0mera\u001b[0m \u001b[0;34m=\u001b[0m \u001b[0;34m\"AD\"\u001b[0m\u001b[0;34m\u001b[0m\u001b[0;34m\u001b[0m\u001b[0m\n",
            "\u001b[0;32m/usr/local/lib/python3.6/dist-packages/pandas/core/indexing.py\u001b[0m in \u001b[0;36m__getitem__\u001b[0;34m(self, key)\u001b[0m\n\u001b[1;32m   1766\u001b[0m \u001b[0;34m\u001b[0m\u001b[0m\n\u001b[1;32m   1767\u001b[0m             \u001b[0mmaybe_callable\u001b[0m \u001b[0;34m=\u001b[0m \u001b[0mcom\u001b[0m\u001b[0;34m.\u001b[0m\u001b[0mapply_if_callable\u001b[0m\u001b[0;34m(\u001b[0m\u001b[0mkey\u001b[0m\u001b[0;34m,\u001b[0m \u001b[0mself\u001b[0m\u001b[0;34m.\u001b[0m\u001b[0mobj\u001b[0m\u001b[0;34m)\u001b[0m\u001b[0;34m\u001b[0m\u001b[0;34m\u001b[0m\u001b[0m\n\u001b[0;32m-> 1768\u001b[0;31m             \u001b[0;32mreturn\u001b[0m \u001b[0mself\u001b[0m\u001b[0;34m.\u001b[0m\u001b[0m_getitem_axis\u001b[0m\u001b[0;34m(\u001b[0m\u001b[0mmaybe_callable\u001b[0m\u001b[0;34m,\u001b[0m \u001b[0maxis\u001b[0m\u001b[0;34m=\u001b[0m\u001b[0maxis\u001b[0m\u001b[0;34m)\u001b[0m\u001b[0;34m\u001b[0m\u001b[0;34m\u001b[0m\u001b[0m\n\u001b[0m\u001b[1;32m   1769\u001b[0m \u001b[0;34m\u001b[0m\u001b[0m\n\u001b[1;32m   1770\u001b[0m     \u001b[0;32mdef\u001b[0m \u001b[0m_is_scalar_access\u001b[0m\u001b[0;34m(\u001b[0m\u001b[0mself\u001b[0m\u001b[0;34m,\u001b[0m \u001b[0mkey\u001b[0m\u001b[0;34m:\u001b[0m \u001b[0mTuple\u001b[0m\u001b[0;34m)\u001b[0m\u001b[0;34m:\u001b[0m\u001b[0;34m\u001b[0m\u001b[0;34m\u001b[0m\u001b[0m\n",
            "\u001b[0;32m/usr/local/lib/python3.6/dist-packages/pandas/core/indexing.py\u001b[0m in \u001b[0;36m_getitem_axis\u001b[0;34m(self, key, axis)\u001b[0m\n\u001b[1;32m   1963\u001b[0m         \u001b[0;31m# fall thru to straight lookup\u001b[0m\u001b[0;34m\u001b[0m\u001b[0;34m\u001b[0m\u001b[0;34m\u001b[0m\u001b[0m\n\u001b[1;32m   1964\u001b[0m         \u001b[0mself\u001b[0m\u001b[0;34m.\u001b[0m\u001b[0m_validate_key\u001b[0m\u001b[0;34m(\u001b[0m\u001b[0mkey\u001b[0m\u001b[0;34m,\u001b[0m \u001b[0maxis\u001b[0m\u001b[0;34m)\u001b[0m\u001b[0;34m\u001b[0m\u001b[0;34m\u001b[0m\u001b[0m\n\u001b[0;32m-> 1965\u001b[0;31m         \u001b[0;32mreturn\u001b[0m \u001b[0mself\u001b[0m\u001b[0;34m.\u001b[0m\u001b[0m_get_label\u001b[0m\u001b[0;34m(\u001b[0m\u001b[0mkey\u001b[0m\u001b[0;34m,\u001b[0m \u001b[0maxis\u001b[0m\u001b[0;34m=\u001b[0m\u001b[0maxis\u001b[0m\u001b[0;34m)\u001b[0m\u001b[0;34m\u001b[0m\u001b[0;34m\u001b[0m\u001b[0m\n\u001b[0m\u001b[1;32m   1966\u001b[0m \u001b[0;34m\u001b[0m\u001b[0m\n\u001b[1;32m   1967\u001b[0m \u001b[0;34m\u001b[0m\u001b[0m\n",
            "\u001b[0;32m/usr/local/lib/python3.6/dist-packages/pandas/core/indexing.py\u001b[0m in \u001b[0;36m_get_label\u001b[0;34m(self, label, axis)\u001b[0m\n\u001b[1;32m    623\u001b[0m             \u001b[0;32mraise\u001b[0m \u001b[0mIndexingError\u001b[0m\u001b[0;34m(\u001b[0m\u001b[0;34m\"no slices here, handle elsewhere\"\u001b[0m\u001b[0;34m)\u001b[0m\u001b[0;34m\u001b[0m\u001b[0;34m\u001b[0m\u001b[0m\n\u001b[1;32m    624\u001b[0m \u001b[0;34m\u001b[0m\u001b[0m\n\u001b[0;32m--> 625\u001b[0;31m         \u001b[0;32mreturn\u001b[0m \u001b[0mself\u001b[0m\u001b[0;34m.\u001b[0m\u001b[0mobj\u001b[0m\u001b[0;34m.\u001b[0m\u001b[0m_xs\u001b[0m\u001b[0;34m(\u001b[0m\u001b[0mlabel\u001b[0m\u001b[0;34m,\u001b[0m \u001b[0maxis\u001b[0m\u001b[0;34m=\u001b[0m\u001b[0maxis\u001b[0m\u001b[0;34m)\u001b[0m\u001b[0;34m\u001b[0m\u001b[0;34m\u001b[0m\u001b[0m\n\u001b[0m\u001b[1;32m    626\u001b[0m \u001b[0;34m\u001b[0m\u001b[0m\n\u001b[1;32m    627\u001b[0m     \u001b[0;32mdef\u001b[0m \u001b[0m_get_loc\u001b[0m\u001b[0;34m(\u001b[0m\u001b[0mself\u001b[0m\u001b[0;34m,\u001b[0m \u001b[0mkey\u001b[0m\u001b[0;34m:\u001b[0m \u001b[0mint\u001b[0m\u001b[0;34m,\u001b[0m \u001b[0maxis\u001b[0m\u001b[0;34m:\u001b[0m \u001b[0mint\u001b[0m\u001b[0;34m)\u001b[0m\u001b[0;34m:\u001b[0m\u001b[0;34m\u001b[0m\u001b[0;34m\u001b[0m\u001b[0m\n",
            "\u001b[0;32m/usr/local/lib/python3.6/dist-packages/pandas/core/generic.py\u001b[0m in \u001b[0;36mxs\u001b[0;34m(self, key, axis, level, drop_level)\u001b[0m\n\u001b[1;32m   3535\u001b[0m             \u001b[0mloc\u001b[0m\u001b[0;34m,\u001b[0m \u001b[0mnew_index\u001b[0m \u001b[0;34m=\u001b[0m \u001b[0mself\u001b[0m\u001b[0;34m.\u001b[0m\u001b[0mindex\u001b[0m\u001b[0;34m.\u001b[0m\u001b[0mget_loc_level\u001b[0m\u001b[0;34m(\u001b[0m\u001b[0mkey\u001b[0m\u001b[0;34m,\u001b[0m \u001b[0mdrop_level\u001b[0m\u001b[0;34m=\u001b[0m\u001b[0mdrop_level\u001b[0m\u001b[0;34m)\u001b[0m\u001b[0;34m\u001b[0m\u001b[0;34m\u001b[0m\u001b[0m\n\u001b[1;32m   3536\u001b[0m         \u001b[0;32melse\u001b[0m\u001b[0;34m:\u001b[0m\u001b[0;34m\u001b[0m\u001b[0;34m\u001b[0m\u001b[0m\n\u001b[0;32m-> 3537\u001b[0;31m             \u001b[0mloc\u001b[0m \u001b[0;34m=\u001b[0m \u001b[0mself\u001b[0m\u001b[0;34m.\u001b[0m\u001b[0mindex\u001b[0m\u001b[0;34m.\u001b[0m\u001b[0mget_loc\u001b[0m\u001b[0;34m(\u001b[0m\u001b[0mkey\u001b[0m\u001b[0;34m)\u001b[0m\u001b[0;34m\u001b[0m\u001b[0;34m\u001b[0m\u001b[0m\n\u001b[0m\u001b[1;32m   3538\u001b[0m \u001b[0;34m\u001b[0m\u001b[0m\n\u001b[1;32m   3539\u001b[0m             \u001b[0;32mif\u001b[0m \u001b[0misinstance\u001b[0m\u001b[0;34m(\u001b[0m\u001b[0mloc\u001b[0m\u001b[0;34m,\u001b[0m \u001b[0mnp\u001b[0m\u001b[0;34m.\u001b[0m\u001b[0mndarray\u001b[0m\u001b[0;34m)\u001b[0m\u001b[0;34m:\u001b[0m\u001b[0;34m\u001b[0m\u001b[0;34m\u001b[0m\u001b[0m\n",
            "\u001b[0;32m/usr/local/lib/python3.6/dist-packages/pandas/core/indexes/base.py\u001b[0m in \u001b[0;36mget_loc\u001b[0;34m(self, key, method, tolerance)\u001b[0m\n\u001b[1;32m   2646\u001b[0m                 \u001b[0;32mreturn\u001b[0m \u001b[0mself\u001b[0m\u001b[0;34m.\u001b[0m\u001b[0m_engine\u001b[0m\u001b[0;34m.\u001b[0m\u001b[0mget_loc\u001b[0m\u001b[0;34m(\u001b[0m\u001b[0mkey\u001b[0m\u001b[0;34m)\u001b[0m\u001b[0;34m\u001b[0m\u001b[0;34m\u001b[0m\u001b[0m\n\u001b[1;32m   2647\u001b[0m             \u001b[0;32mexcept\u001b[0m \u001b[0mKeyError\u001b[0m\u001b[0;34m:\u001b[0m\u001b[0;34m\u001b[0m\u001b[0;34m\u001b[0m\u001b[0m\n\u001b[0;32m-> 2648\u001b[0;31m                 \u001b[0;32mreturn\u001b[0m \u001b[0mself\u001b[0m\u001b[0;34m.\u001b[0m\u001b[0m_engine\u001b[0m\u001b[0;34m.\u001b[0m\u001b[0mget_loc\u001b[0m\u001b[0;34m(\u001b[0m\u001b[0mself\u001b[0m\u001b[0;34m.\u001b[0m\u001b[0m_maybe_cast_indexer\u001b[0m\u001b[0;34m(\u001b[0m\u001b[0mkey\u001b[0m\u001b[0;34m)\u001b[0m\u001b[0;34m)\u001b[0m\u001b[0;34m\u001b[0m\u001b[0;34m\u001b[0m\u001b[0m\n\u001b[0m\u001b[1;32m   2649\u001b[0m         \u001b[0mindexer\u001b[0m \u001b[0;34m=\u001b[0m \u001b[0mself\u001b[0m\u001b[0;34m.\u001b[0m\u001b[0mget_indexer\u001b[0m\u001b[0;34m(\u001b[0m\u001b[0;34m[\u001b[0m\u001b[0mkey\u001b[0m\u001b[0;34m]\u001b[0m\u001b[0;34m,\u001b[0m \u001b[0mmethod\u001b[0m\u001b[0;34m=\u001b[0m\u001b[0mmethod\u001b[0m\u001b[0;34m,\u001b[0m \u001b[0mtolerance\u001b[0m\u001b[0;34m=\u001b[0m\u001b[0mtolerance\u001b[0m\u001b[0;34m)\u001b[0m\u001b[0;34m\u001b[0m\u001b[0;34m\u001b[0m\u001b[0m\n\u001b[1;32m   2650\u001b[0m         \u001b[0;32mif\u001b[0m \u001b[0mindexer\u001b[0m\u001b[0;34m.\u001b[0m\u001b[0mndim\u001b[0m \u001b[0;34m>\u001b[0m \u001b[0;36m1\u001b[0m \u001b[0;32mor\u001b[0m \u001b[0mindexer\u001b[0m\u001b[0;34m.\u001b[0m\u001b[0msize\u001b[0m \u001b[0;34m>\u001b[0m \u001b[0;36m1\u001b[0m\u001b[0;34m:\u001b[0m\u001b[0;34m\u001b[0m\u001b[0;34m\u001b[0m\u001b[0m\n",
            "\u001b[0;32mpandas/_libs/index.pyx\u001b[0m in \u001b[0;36mpandas._libs.index.IndexEngine.get_loc\u001b[0;34m()\u001b[0m\n",
            "\u001b[0;32mpandas/_libs/index.pyx\u001b[0m in \u001b[0;36mpandas._libs.index.IndexEngine.get_loc\u001b[0;34m()\u001b[0m\n",
            "\u001b[0;32mpandas/_libs/hashtable_class_helper.pxi\u001b[0m in \u001b[0;36mpandas._libs.hashtable.PyObjectHashTable.get_item\u001b[0;34m()\u001b[0m\n",
            "\u001b[0;32mpandas/_libs/hashtable_class_helper.pxi\u001b[0m in \u001b[0;36mpandas._libs.hashtable.PyObjectHashTable.get_item\u001b[0;34m()\u001b[0m\n",
            "\u001b[0;31mKeyError\u001b[0m: 's. 2nd'"
          ]
        }
      ]
    },
    {
      "cell_type": "code",
      "metadata": {
        "id": "PvPfdGcZoUT3",
        "colab_type": "code",
        "colab": {
          "base_uri": "https://localhost:8080/",
          "height": 317
        },
        "outputId": "5d9b9ff1-7703-4b33-814c-2eb1fe528dd0"
      },
      "source": [
        "cents = [cent for cent in centuries_df.index.tolist() if re.search(cent, datation)]\n",
        "cents_list = re.split(\"-|/|\\sor\\s\", datation)\n",
        "cents = [cent_num for cent_str in cents_list if cent_num in cent_str] # to correct order\n",
        "cents\n"
      ],
      "execution_count": 69,
      "outputs": [
        {
          "output_type": "error",
          "ename": "NameError",
          "evalue": "ignored",
          "traceback": [
            "\u001b[0;31m---------------------------------------------------------------------------\u001b[0m",
            "\u001b[0;31mNameError\u001b[0m                                 Traceback (most recent call last)",
            "\u001b[0;32m<ipython-input-69-69a65e8808cd>\u001b[0m in \u001b[0;36m<module>\u001b[0;34m()\u001b[0m\n\u001b[1;32m      1\u001b[0m \u001b[0mcents\u001b[0m \u001b[0;34m=\u001b[0m \u001b[0;34m[\u001b[0m\u001b[0mcent\u001b[0m \u001b[0;32mfor\u001b[0m \u001b[0mcent\u001b[0m \u001b[0;32min\u001b[0m \u001b[0mcenturies_df\u001b[0m\u001b[0;34m.\u001b[0m\u001b[0mindex\u001b[0m\u001b[0;34m.\u001b[0m\u001b[0mtolist\u001b[0m\u001b[0;34m(\u001b[0m\u001b[0;34m)\u001b[0m \u001b[0;32mif\u001b[0m \u001b[0mre\u001b[0m\u001b[0;34m.\u001b[0m\u001b[0msearch\u001b[0m\u001b[0;34m(\u001b[0m\u001b[0mcent\u001b[0m\u001b[0;34m,\u001b[0m \u001b[0mdatation\u001b[0m\u001b[0;34m)\u001b[0m\u001b[0;34m]\u001b[0m\u001b[0;34m\u001b[0m\u001b[0;34m\u001b[0m\u001b[0m\n\u001b[1;32m      2\u001b[0m \u001b[0mcents_list\u001b[0m \u001b[0;34m=\u001b[0m \u001b[0mre\u001b[0m\u001b[0;34m.\u001b[0m\u001b[0msplit\u001b[0m\u001b[0;34m(\u001b[0m\u001b[0;34m\"-|/|\\sor\\s\"\u001b[0m\u001b[0;34m,\u001b[0m \u001b[0mdatation\u001b[0m\u001b[0;34m)\u001b[0m\u001b[0;34m\u001b[0m\u001b[0;34m\u001b[0m\u001b[0m\n\u001b[0;32m----> 3\u001b[0;31m \u001b[0mcents\u001b[0m \u001b[0;34m=\u001b[0m \u001b[0;34m[\u001b[0m\u001b[0mcent_num\u001b[0m \u001b[0;32mfor\u001b[0m \u001b[0mcent_str\u001b[0m \u001b[0;32min\u001b[0m \u001b[0mcents_list\u001b[0m \u001b[0;32mif\u001b[0m \u001b[0mcent_num\u001b[0m \u001b[0;32min\u001b[0m \u001b[0mcent_str\u001b[0m\u001b[0;34m]\u001b[0m \u001b[0;31m# to correct order\u001b[0m\u001b[0;34m\u001b[0m\u001b[0;34m\u001b[0m\u001b[0m\n\u001b[0m\u001b[1;32m      4\u001b[0m \u001b[0mcents\u001b[0m\u001b[0;34m\u001b[0m\u001b[0;34m\u001b[0m\u001b[0m\n",
            "\u001b[0;32m<ipython-input-69-69a65e8808cd>\u001b[0m in \u001b[0;36m<listcomp>\u001b[0;34m(.0)\u001b[0m\n\u001b[1;32m      1\u001b[0m \u001b[0mcents\u001b[0m \u001b[0;34m=\u001b[0m \u001b[0;34m[\u001b[0m\u001b[0mcent\u001b[0m \u001b[0;32mfor\u001b[0m \u001b[0mcent\u001b[0m \u001b[0;32min\u001b[0m \u001b[0mcenturies_df\u001b[0m\u001b[0;34m.\u001b[0m\u001b[0mindex\u001b[0m\u001b[0;34m.\u001b[0m\u001b[0mtolist\u001b[0m\u001b[0;34m(\u001b[0m\u001b[0;34m)\u001b[0m \u001b[0;32mif\u001b[0m \u001b[0mre\u001b[0m\u001b[0;34m.\u001b[0m\u001b[0msearch\u001b[0m\u001b[0;34m(\u001b[0m\u001b[0mcent\u001b[0m\u001b[0;34m,\u001b[0m \u001b[0mdatation\u001b[0m\u001b[0;34m)\u001b[0m\u001b[0;34m]\u001b[0m\u001b[0;34m\u001b[0m\u001b[0;34m\u001b[0m\u001b[0m\n\u001b[1;32m      2\u001b[0m \u001b[0mcents_list\u001b[0m \u001b[0;34m=\u001b[0m \u001b[0mre\u001b[0m\u001b[0;34m.\u001b[0m\u001b[0msplit\u001b[0m\u001b[0;34m(\u001b[0m\u001b[0;34m\"-|/|\\sor\\s\"\u001b[0m\u001b[0;34m,\u001b[0m \u001b[0mdatation\u001b[0m\u001b[0;34m)\u001b[0m\u001b[0;34m\u001b[0m\u001b[0;34m\u001b[0m\u001b[0m\n\u001b[0;32m----> 3\u001b[0;31m \u001b[0mcents\u001b[0m \u001b[0;34m=\u001b[0m \u001b[0;34m[\u001b[0m\u001b[0mcent_num\u001b[0m \u001b[0;32mfor\u001b[0m \u001b[0mcent_str\u001b[0m \u001b[0;32min\u001b[0m \u001b[0mcents_list\u001b[0m \u001b[0;32mif\u001b[0m \u001b[0mcent_num\u001b[0m \u001b[0;32min\u001b[0m \u001b[0mcent_str\u001b[0m\u001b[0;34m]\u001b[0m \u001b[0;31m# to correct order\u001b[0m\u001b[0;34m\u001b[0m\u001b[0;34m\u001b[0m\u001b[0m\n\u001b[0m\u001b[1;32m      4\u001b[0m \u001b[0mcents\u001b[0m\u001b[0;34m\u001b[0m\u001b[0;34m\u001b[0m\u001b[0m\n",
            "\u001b[0;31mNameError\u001b[0m: name 'cent_num' is not defined"
          ]
        }
      ]
    },
    {
      "cell_type": "code",
      "metadata": {
        "id": "htnGpYz_liJF",
        "colab_type": "code",
        "colab": {
          "base_uri": "https://localhost:8080/",
          "height": 34
        },
        "outputId": "986d9ba4-e644-4ff6-f305-0750492f5404"
      },
      "source": [
        "datation = \"s. II/III AD\"\n",
        "for roman, arabic in zip(centuries_df[\"roman\"].tolist(), centuries_df.index.tolist()):\n",
        "  datation = re.sub(roman, arabic, datation)\n",
        "cents = [cent for cent in centuries_df.index.tolist() if re.search(cent, datation)]\n",
        "[cent for cent in cents\n",
        "\n",
        "#parse_centuries(datation, {\"type\" : \"unkwnown\"})"
      ],
      "execution_count": 62,
      "outputs": [
        {
          "output_type": "execute_result",
          "data": {
            "text/plain": [
              "['3rd', '2nd']"
            ]
          },
          "metadata": {
            "tags": []
          },
          "execution_count": 62
        }
      ]
    },
    {
      "cell_type": "code",
      "metadata": {
        "id": "WWsvE6kHmhH-",
        "colab_type": "code",
        "colab": {
          "base_uri": "https://localhost:8080/",
          "height": 34
        },
        "outputId": "256607cd-bb09-4056-a942-02c0b261ee8d"
      },
      "source": [
        "cents_list = re.split(\"-|/|\\sor\\s\", datation)\n",
        "cents_list"
      ],
      "execution_count": 63,
      "outputs": [
        {
          "output_type": "execute_result",
          "data": {
            "text/plain": [
              "['s. 2nd', '3rd AD']"
            ]
          },
          "metadata": {
            "tags": []
          },
          "execution_count": 63
        }
      ]
    },
    {
      "cell_type": "code",
      "metadata": {
        "id": "ewogExFsmoW4",
        "colab_type": "code",
        "colab": {
          "base_uri": "https://localhost:8080/",
          "height": 34
        },
        "outputId": "789fae64-0c71-4d2e-9749-d98cbe504abf"
      },
      "source": [
        "if (\" AD\" in datation) and (\" BC\" not in datation):\n",
        "  print(\"yes\")"
      ],
      "execution_count": 64,
      "outputs": [
        {
          "output_type": "stream",
          "text": [
            "yes\n"
          ],
          "name": "stdout"
        }
      ]
    },
    {
      "cell_type": "code",
      "metadata": {
        "id": "XVohx8sdmysn",
        "colab_type": "code",
        "colab": {
          "base_uri": "https://localhost:8080/",
          "height": 34
        },
        "outputId": "da2507e3-b778-4a6e-d134-9c95f104a6d7"
      },
      "source": [
        "dating_update = {\"start\" : centuries_df.loc[cents[0]][\"start_AD\"], \"stop\" : centuries_df.loc[cents[-1]][\"stop_AD\"], \"type\" : \"range+cent\", \"era\" : \"AD\"}\n",
        "dating_update"
      ],
      "execution_count": 66,
      "outputs": [
        {
          "output_type": "execute_result",
          "data": {
            "text/plain": [
              "{'era': 'AD', 'start': 201, 'stop': 200, 'type': 'range+cent'}"
            ]
          },
          "metadata": {
            "tags": []
          },
          "execution_count": 66
        }
      ]
    },
    {
      "cell_type": "code",
      "metadata": {
        "id": "Q9g3auhLAema",
        "colab_type": "code",
        "colab": {}
      },
      "source": [
        "cent_BC =                   [(\"s\\.\\sVI($|\\s|\\/)\", -600, -501),\n",
        "                             (\"s\\.\\sV($|\\s|\\/)\", -500, -401), \n",
        "                            (\"s\\.\\sV/IV($|\\s|\\/)\", -500, -301),\n",
        "                            (\"s\\.\\sIV($|\\s|\\/)\", -400, -301),\n",
        "                            (\"s\\.\\sIII($|\\s|\\/)\", -300, -201),\n",
        "                            (\"s\\.\\sII($|\\s|\\/)\", -200, -101),\n",
        "                            (\"s\\.\\sI($|\\s|\\/)\", -100, -1),\n",
        "                            (\"8th\", -800, -701), \n",
        "                            (\"7th\", -700, -601),\n",
        "                            (\"6th\", -600,  -501),\n",
        "                            (\"5th\", -500,  -401),\n",
        "                            (\"4th\", -400, -301),\n",
        "                            (\"3rd\", -300, -201),\n",
        "                            (\"2nd\", -200, -101),\n",
        "                            (\"1st\", -100, -1)]\n",
        "cent_AD =                  [(\"s\\.\\sI($|\\s|\\/)\", 1, 100),\n",
        "                            (\"s\\.\\sII($|\\s|\\/)\", 101, 200),\n",
        "                            (\"s\\.\\sIII($|\\s|\\/)\", 201, 300),\n",
        "                            (\"s\\.\\sIV($|\\s|\\/)\", 301, 400),\n",
        "                            (\"s\\.\\sV($|\\s|\\/)\", 401, 500),\n",
        "                            (\"s\\.\\sV($|\\s|\\/)\", 401, 500),\n",
        "                            (\"1st\", 1, 100),\n",
        "                            (\"2nd\", 101, 200),\n",
        "                            (\"3rd\", 201, 300),\n",
        "                            (\"4th\", 301, 400),\n",
        "                            (\"5th\", 401, 500),\n",
        "                            (\"6th\", 501, 600),\n",
        "                            (\"7th\", 601, 700),\n",
        "                            (\"8th\", 701, 800)]\n",
        "def parse_centuries(datation, dating):\n",
        "  #if (\" BC\" in datation) and (\" AD\" in datation):\n",
        "  #  century_BC = [element_cent for element_cent in cent_BC if re.search(element_cent[0], datation.partition(\"BC\")[0])]\n",
        "  #  century_AD = [element_cent for element_cent in cent_AD if re.search(element_cent[0], datation.partition(\"AD\")[2])]\n",
        "  #  return {\"start\" : century_BC[0][1], \"stop\" : century_AD[-1][2], \"type\" : \"range+cent\", \"era\" : \"BC/AD\"} # use the first century for start date and last for stop date\n",
        "  # else:\n",
        "    try:\n",
        "      if dating[\"era\"] == \"AD\":\n",
        "        dating_update = {}\n",
        "        centuries_mentioned = [element_cent for element_cent in cent_AD if re.search(element_cent[0], datation)]\n",
        "        return {\"start\" : centuries_mentioned[0][1], \"stop\" : centuries_mentioned[-1][2], \"type\" : \"range+cent\"} # use the first century for start date and last for stop date\n",
        "      if dating[\"era\"] == \"BC\":\n",
        "        centuries_mentioned = [element_cent for element_cent in cent_BC if re.search(element_cent[0], datation)]\n",
        "        return {\"start\" : centuries_mentioned[0][1], \"stop\" : centuries_mentioned[-1][2], \"type\" : \"range+cent\"} # use the first century for start date and last for stop date\n",
        "    except:\n",
        "      return {\"type\": \"unknown\"}"
      ],
      "execution_count": 0,
      "outputs": []
    },
    {
      "cell_type": "code",
      "metadata": {
        "id": "m1HYdXZ8NE3e",
        "colab_type": "code",
        "outputId": "747f1bd1-0add-4889-e323-d6ddf424577d",
        "colab": {
          "base_uri": "https://localhost:8080/",
          "height": 34
        }
      },
      "source": [
        "datation = \"s. III/II\"\n",
        "for number_pair in [(\"VIII\", \"8th\"),\n",
        "                       (\"VII\", \"7th\"),\n",
        "                       (\"VI\", \"6th\"),\n",
        "                       (\"IV\", \"4th\"),\n",
        "                       (\"V\", \"5th\"),\n",
        "                       (\"III\", \"3rd\"),\n",
        "                       (\"II\", \"2nd\"),\n",
        "                       (\"I\", \"1st\")]:\n",
        "  match = re.search(\"(s\\.\\s|/)(\" + number_pair[0] + \")($|\\s|/)\", datation)\n",
        "  if match:\n",
        "    datation = re.sub(\"(s\\.\\s|/)(\" + number_pair[0] + \")\", number_pair[1] + match.groups()[2], datation)\n",
        "datation"
      ],
      "execution_count": 0,
      "outputs": [
        {
          "output_type": "execute_result",
          "data": {
            "text/plain": [
              "'3rd/2nd'"
            ]
          },
          "metadata": {
            "tags": []
          },
          "execution_count": 202
        }
      ]
    },
    {
      "cell_type": "code",
      "metadata": {
        "id": "csTDyHPeGCH7",
        "colab_type": "code",
        "outputId": "61fa224f-2b23-4dcb-e029-55a836724a77",
        "colab": {
          "base_uri": "https://localhost:8080/",
          "height": 34
        }
      },
      "source": [
        "# example 1\n",
        "parse_centuries(\"2nd/3rd c. AD\", {\"era\": \"AD\"})"
      ],
      "execution_count": 0,
      "outputs": [
        {
          "output_type": "execute_result",
          "data": {
            "text/plain": [
              "{'start': 101, 'stop': 300, 'type': 'range+cent'}"
            ]
          },
          "metadata": {
            "tags": []
          },
          "execution_count": 214
        }
      ]
    },
    {
      "cell_type": "code",
      "metadata": {
        "id": "8Z4OeOrJz_uk",
        "colab_type": "code",
        "outputId": "41740040-2dff-4f21-8428-aa35d6c16e10",
        "colab": {
          "base_uri": "https://localhost:8080/",
          "height": 34
        }
      },
      "source": [
        "parse_centuries(\"2nd c. BC - 3rd c. AD\", {\"era\": \"AD\"})"
      ],
      "execution_count": 0,
      "outputs": [
        {
          "output_type": "execute_result",
          "data": {
            "text/plain": [
              "{'start': 101, 'stop': 300, 'type': 'range+cent'}"
            ]
          },
          "metadata": {
            "tags": []
          },
          "execution_count": 218
        }
      ]
    },
    {
      "cell_type": "code",
      "metadata": {
        "id": "o2WfKqkY0JY9",
        "colab_type": "code",
        "colab": {}
      },
      "source": [
        "# (\"a.\"  and \"p.\" are replaced by \"BC\" and \"AD\" earlier in the script\n",
        "parse_centuries(\"s. I BC/s. I AD\", {\"era\": \"BC/AD\"})"
      ],
      "execution_count": 0,
      "outputs": []
    },
    {
      "cell_type": "code",
      "metadata": {
        "id": "rcy0v2DDLFb9",
        "colab_type": "code",
        "outputId": "6df2b419-d926-4495-ea32-56e447080d3a",
        "colab": {
          "base_uri": "https://localhost:8080/",
          "height": 34
        }
      },
      "source": [
        "parse_centuries(\"s. II/III a.\", {\"era\": \"BC\"})"
      ],
      "execution_count": 0,
      "outputs": [
        {
          "output_type": "execute_result",
          "data": {
            "text/plain": [
              "{'start': -200, 'stop': -101, 'type': 'range+cent'}"
            ]
          },
          "metadata": {
            "tags": []
          },
          "execution_count": 220
        }
      ]
    },
    {
      "cell_type": "markdown",
      "metadata": {
        "id": "ObqKKNvRInTm",
        "colab_type": "text"
      },
      "source": [
        "# Parse phase"
      ]
    },
    {
      "cell_type": "code",
      "metadata": {
        "id": "JOdAmuZXJhGZ",
        "colab_type": "code",
        "colab": {}
      },
      "source": [
        "def modify_by_phase(datation, dating):\n",
        "  try:\n",
        "    start, stop = dating[\"start\"], dating[\"stop\"]\n",
        "    try: \n",
        "      duration = abs(dating[\"stop\"] - dating[\"start\"])\n",
        "    except:\n",
        "      duration = 1\n",
        "    datation = datation.lower()\n",
        "    if \"early\" in datation:\n",
        "      coef = 0.25\n",
        "      dating[\"stop\"] = start + round(duration * coef)\n",
        "      dating[\"type\"] = dating[\"type\"] + \"+early\"\n",
        "    if \"late\" in datation:\n",
        "      if \"late antiquity\" not in datation:\n",
        "        coef = 0.25\n",
        "        dating[\"start\"] = stop - round(duration * coef)\n",
        "        dating[\"type\"] = dating[\"type\"] + \"+late\"\n",
        "    if re.search(\"(beginning|beg\\.?\\s)\", datation):\n",
        "      coef = 0.1\n",
        "      dating[\"stop\"] = start + round(duration * coef)\n",
        "      dating[\"type\"] = dating[\"type\"] + \"+beg\"\n",
        "    if re.search(\"(end\\s|fin.\\s)\", datation):\n",
        "      coef = 0.1\n",
        "      dating[\"start\"] = stop - round(duration * coef)\n",
        "      dating[\"type\"] = dating[\"type\"] + \"+end\"\n",
        "    if re.search(\"(middle|mid\\.?\\s|med\\.\\s)\", datation):\n",
        "      coef = 0.05 # that means: \"middle 2nd c. AD\" => 140 - 161\n",
        "      dating_avr = (dating[\"start\"] + dating[\"stop\"]) / 2\n",
        "      dating[\"start\"] = round(dating_avr - (coef * duration))\n",
        "      dating[\"stop\"] = round(dating_avr + (coef * duration))\n",
        "      dating[\"type\"] = dating[\"type\"] + \"+middle\"\n",
        "    if re.search(\"ca\\.\\s\", datation):\n",
        "      dating[\"type\"] = dating[\"type\"] + \"+ca\"\n",
        "      if (\"exact\" in dating[\"type\"]) or duration < 10:\n",
        "        dating.update({\"start\" : dating[\"exact\"] - 5, \"stop\" : dating[\"exact\"] + 5})\n",
        "        dating[\"exact\"] = None\n",
        "      else:\n",
        "        dating[\"start\"] = start - round(duration * 0.1)\n",
        "        dating[\"stop\"] = stop + round(duration * 0.1)\n",
        "    return dating\n",
        "  except:\n",
        "    return dating"
      ],
      "execution_count": 0,
      "outputs": []
    },
    {
      "cell_type": "code",
      "metadata": {
        "id": "zlnUZvAFaAhu",
        "colab_type": "code",
        "outputId": "826e3625-8436-4a97-ef96-a3e12a5e5462",
        "colab": {
          "base_uri": "https://localhost:8080/",
          "height": 34
        }
      },
      "source": [
        "datation = \"ca. 200 BC\"\n",
        "dating = {\"start\" : None, \"stop\" : None, \"exact\" : -200, \"type\" : \"exact\", \"era\" : \"BC\"}\n",
        "print(modify_by_phase(datation, dating))"
      ],
      "execution_count": 0,
      "outputs": [
        {
          "output_type": "stream",
          "text": [
            "{'start': -205, 'stop': -195, 'exact': None, 'type': 'exact+ca', 'era': 'BC'}\n"
          ],
          "name": "stdout"
        }
      ]
    },
    {
      "cell_type": "code",
      "metadata": {
        "id": "A0S-JHUjOIm8",
        "colab_type": "code",
        "outputId": "df44e4f9-4f76-481c-d994-4ef91526d59c",
        "colab": {
          "base_uri": "https://localhost:8080/",
          "height": 34
        }
      },
      "source": [
        "datation = \"ca. s. II BC\"\n",
        "dating = {\"start\" : -200, \"stop\" : -101, \"type\" : \"range+cent\"}\n",
        "print(modify_by_phase(datation, dating))"
      ],
      "execution_count": 0,
      "outputs": [
        {
          "output_type": "stream",
          "text": [
            "{'start': -210, 'stop': -91, 'type': 'range+cent+ca'}\n"
          ],
          "name": "stdout"
        }
      ]
    },
    {
      "cell_type": "code",
      "metadata": {
        "id": "JZUt3NiULBtR",
        "colab_type": "code",
        "outputId": "c3c2eae4-24eb-4d7a-cd2e-8b64d1069b58",
        "colab": {
          "base_uri": "https://localhost:8080/",
          "height": 34
        }
      },
      "source": [
        "datation = \"[med. V a.]\"\n",
        "if datation[0] == \"[\":\n",
        "  datation = datation[1:-1]\n",
        "datation"
      ],
      "execution_count": 0,
      "outputs": [
        {
          "output_type": "execute_result",
          "data": {
            "text/plain": [
              "'med. V a.'"
            ]
          },
          "metadata": {
            "tags": []
          },
          "execution_count": 122
        }
      ]
    },
    {
      "cell_type": "code",
      "metadata": {
        "id": "2ON6DYp3OEBx",
        "colab_type": "code",
        "colab": {}
      },
      "source": [
        "datation = re.sub(\"a\\.(\\-|\\/|$)\", \"AD\", datation)"
      ],
      "execution_count": 0,
      "outputs": []
    },
    {
      "cell_type": "code",
      "metadata": {
        "id": "SqP4qlw7OaWB",
        "colab_type": "code",
        "outputId": "94bb0477-77a7-498a-e33a-cbe907d36ec1",
        "colab": {
          "base_uri": "https://localhost:8080/",
          "height": 34
        }
      },
      "source": [
        "datation"
      ],
      "execution_count": 0,
      "outputs": [
        {
          "output_type": "execute_result",
          "data": {
            "text/plain": [
              "'med. V AD'"
            ]
          },
          "metadata": {
            "tags": []
          },
          "execution_count": 124
        }
      ]
    },
    {
      "cell_type": "code",
      "metadata": {
        "id": "OkKWvH9JhdFf",
        "colab_type": "code",
        "outputId": "94a5a851-2346-42c7-cad1-9f36eca64a38",
        "colab": {
          "base_uri": "https://localhost:8080/",
          "height": 34
        }
      },
      "source": [
        "datation =  \"non ante med. s. II a.\"\n",
        "datation = re.sub(\"(not\\s(before|bef\\.)\\s|non\\sante\\s)\", \"post \", datation)\n",
        "datation"
      ],
      "execution_count": 0,
      "outputs": [
        {
          "output_type": "execute_result",
          "data": {
            "text/plain": [
              "'post med. s. II a.'"
            ]
          },
          "metadata": {
            "tags": []
          },
          "execution_count": 125
        }
      ]
    },
    {
      "cell_type": "markdown",
      "metadata": {
        "id": "2HsBdFeXY_WQ",
        "colab_type": "text"
      },
      "source": [
        "# Main function"
      ]
    },
    {
      "cell_type": "code",
      "metadata": {
        "id": "ro85091cVcB4",
        "colab_type": "code",
        "colab": {}
      },
      "source": [
        "def date_extractor(datation):\n",
        "  dating = {\"start\": None, \"stop\": None, \"exact\": None, \"or\": None, \"type\": \"unknown\", \"era\": None}\n",
        "  # UNCERTAINTY\n",
        "  if \"?\" in datation:\n",
        "    datation = datation.replace(\"?\", \"\")\n",
        "    dating[\"certainty\"] = \"?\"\n",
        "  if datation[0] == \"[\":\n",
        "    datation = datation[1:-1]\n",
        "    dating[\"certainty\"] = \"?\"\n",
        "  # PURE NUMBERS\n",
        "  if dating[\"type\"] == \"unknown\":\n",
        "    match = re.match(\"^\\s?(\\d+)\\s?$\", datation) # if it is not just a number (numbers alone are good) \n",
        "    if match:\n",
        "      dating.update({\"exact\" : int(match[0]), \"type\": \"exact\"})\n",
        "  # ranges combining BC and AD:\n",
        "  match = re.search(\"(\\d+)(\\s(a\\.|BP))(\\-)(\\d+)(\\s(p\\.|AD))\", datation) # (/sa/.)(/-)(/d+)(/sp/.)\"\n",
        "  if match:\n",
        "    dating.update({\"start\" : int(match.groups()[0]) * -1, \"stop\" : match.groups()[4], \"era\" : \"BC/AD\", \"type\" : \"range\"})\n",
        "  # \"year/year\"\n",
        "  dating.update(match_or(datation, dating)) # find all \"/\" instances linked with individual years\n",
        "  # PERIODS\n",
        "  dating.update(extract_period(datation, dating))\n",
        "  #replace \" a.\" and \" p.\" when at the end of datation or before \"/\" or \"-\"\n",
        "  datation = re.sub(\"a\\.(\\-|\\/|$)\", \"BC\", datation)\n",
        "  datation = re.sub(\"p\\.(\\-|\\/|$)\", \"AD\", datation)\n",
        "  if dating[\"type\"] == \"unknown\":\n",
        "    if \" AD\" in datation:\n",
        "            dating[\"era\"] = \"AD\" \n",
        "            if dating[\"type\"] == \"unknown\":\n",
        "              try: dating.update(parse_centuries(datation, dating))\n",
        "              except: pass\n",
        "            ### try post quem and ante quem\n",
        "            if dating[\"type\"] == \"unknown\":\n",
        "              dating.update(extract_ante_and_post(datation, dating))\n",
        "            if dating[\"type\"] == \"unknown\": \n",
        "              try:\n",
        "                date_both = re.search('(\\d+)(\\-)(\\d+)', datation, flags=re.IGNORECASE).groups()\n",
        "                if any(time_indicator in datation for time_indicator in [\" BC\", \" AD\", \"prob\", \"possi\"]):\n",
        "                  dating.update({\"start\" : int(date_both[0]), \"stop\" : int(date_both[2]), \"type\" : \"range\"})\n",
        "              except:  \n",
        "                  try:\n",
        "                    match = re.search('\\d+', datation, flags=re.IGNORECASE)\n",
        "                    if any(time_indicator in datation for time_indicator in [\" BC\", \" AD\", \"prob\", \"possi\"]):\n",
        "                      dating.update({\"exact\" : int(match[0]), \"type\": \"exact\"})\n",
        "                  except:\n",
        "                    pass\n",
        "    ### try BC:\n",
        "    else:\n",
        "        dating[\"era\"] = \"BC\"\n",
        "        if dating[\"type\"] == \"unknown\":\n",
        "          try:\n",
        "            dating.update(parse_centuries(datation, dating))\n",
        "          except:\n",
        "            pass\n",
        "        ### try post quem and ante quem\n",
        "        if dating[\"type\"] == \"unknown\":\n",
        "          dating.update(extract_ante_and_post(datation, dating))\n",
        "        if dating[\"type\"] == \"unknown\":\n",
        "          try:\n",
        "            date_both = re.search('(\\d+)(\\-)(\\d+)', datation, flags=re.IGNORECASE).groups()\n",
        "            if any(time_indicator in datation for time_indicator in [\" BC\", \" AD\", \"prob\", \"possi\"]):\n",
        "              dating.update({\"start\" : int(date_both[0]) * -1, \"stop\" : int(date_both[2]) * -1, \"type\" : \"range\"})\n",
        "          except:  \n",
        "            try:\n",
        "              date_exact = re.search('\\d+', datation, flags=re.IGNORECASE)\n",
        "              if any(time_indicator in datation for time_indicator in [\" BC\", \" AD\", \"prob\", \"possi\"]):\n",
        "                dating.update({\"exact\" : int(date_exact.group(0)) * -1, \"type\": \"exact\"})\n",
        "            except:\n",
        "              pass\n",
        "  # extract phases (e.g. \"early\", \"middle\", \"late\", \"beginning\" etc.)\n",
        "  dating = modify_by_phase(datation, dating)\n",
        "  # extract ante quem and post quem for ranges\n",
        "  if \"range\" in dating[\"type\"]:\n",
        "    dating = extract_ante_and_post(datation, dating)\n",
        "  if dating[\"type\"]==\"unknown\":\n",
        "    dating.update({\"start\": None, \"stop\": None, \"exact\": None, \"or\": None, \"type\": \"unknown\", \"era\" : None})\n",
        "  return dating "
      ],
      "execution_count": 0,
      "outputs": []
    },
    {
      "cell_type": "code",
      "metadata": {
        "id": "Lu_f5sLwJTYB",
        "colab_type": "code",
        "outputId": "7c968a3a-a32a-4fe2-b22f-e4b6373f8b97",
        "colab": {
          "base_uri": "https://localhost:8080/",
          "height": 119
        }
      },
      "source": [
        "date_extractor(\"s. II/III AD\")"
      ],
      "execution_count": 0,
      "outputs": [
        {
          "output_type": "execute_result",
          "data": {
            "text/plain": [
              "{'era': 'AD',\n",
              " 'exact': None,\n",
              " 'or': None,\n",
              " 'start': 101,\n",
              " 'stop': 200,\n",
              " 'type': 'range+cent'}"
            ]
          },
          "metadata": {
            "tags": []
          },
          "execution_count": 155
        }
      ]
    },
    {
      "cell_type": "code",
      "metadata": {
        "id": "FSBBZNATNuB_",
        "colab_type": "code",
        "outputId": "96a9020d-2fc6-4efd-a2b7-ea056f464c1a",
        "colab": {
          "base_uri": "https://localhost:8080/",
          "height": 153
        }
      },
      "source": [
        "# testing/example\n",
        "for datation in [\"Byzantine\", \"non ante s. II a.\", \"140/39 BC\", \"Rom. Imp\", \"reign of Augustus\", \"ante 140 BC\", \"late Antonine period\", \"IosPE IV 348\"]:\n",
        "  print(datation, date_extractor(datation))"
      ],
      "execution_count": 0,
      "outputs": [
        {
          "output_type": "stream",
          "text": [
            "Byzantine {'start': None, 'stop': None, 'exact': None, 'or': None, 'type': 'unknown', 'era': None}\n",
            "non ante s. II a. {'start': -201, 'stop': None, 'type': 'range+cent+post'}\n",
            "140/39 BC {'start': -140, 'stop': -139, 'exact': None, 'or': None, 'type': 'range', 'era': 'BC'}\n",
            "Rom. Imp {'start': -31, 'stop': 410, 'exact': None, 'or': None, 'type': 'range+period', 'era': 'BC/AD', 'source': 'PeriodO', 'notes': nan, 'link': 'http://n2t.net/ark:/99152/p08m57hqcc5'}\n",
            "reign of Augustus {'start': -27, 'stop': 14, 'exact': None, 'or': None, 'type': 'range+period', 'era': 'BC/AD', 'source': 'PeriodO', 'notes': nan, 'link': 'http://n2t.net/ark:/99152/p06c6g3xnmx'}\n",
            "ante 140 BC {'start': None, 'stop': -140, 'exact': None, 'or': None, 'type': 'ante', 'era': 'BC'}\n",
            "late Antonine period {'start': 168, 'stop': 192, 'exact': None, 'or': None, 'type': 'range+period+late', 'era': 'AD', 'source': 'PeriodO', 'notes': nan, 'link': 'http://n2t.net/ark:/99152/p06c6g34zjk'}\n",
            "IosPE IV 348 {'start': None, 'stop': None, 'exact': None, 'or': None, 'type': 'unknown', 'era': None}\n"
          ],
          "name": "stdout"
        }
      ]
    },
    {
      "cell_type": "code",
      "metadata": {
        "id": "i687b4xK97gZ",
        "colab_type": "code",
        "outputId": "c21612ea-3fb1-4d0a-a9f2-84caff836a38",
        "colab": {
          "base_uri": "https://localhost:8080/",
          "height": 119
        }
      },
      "source": [
        "datation = \"3rd c. AD\"\n",
        "date_extractor(datation)"
      ],
      "execution_count": 0,
      "outputs": [
        {
          "output_type": "execute_result",
          "data": {
            "text/plain": [
              "{'era': 'AD',\n",
              " 'exact': None,\n",
              " 'or': None,\n",
              " 'start': 201,\n",
              " 'stop': 300,\n",
              " 'type': 'range+cent'}"
            ]
          },
          "metadata": {
            "tags": []
          },
          "execution_count": 130
        }
      ]
    },
    {
      "cell_type": "code",
      "metadata": {
        "id": "4pDl1D82cRjk",
        "colab_type": "code",
        "outputId": "aa05b266-cb93-41e8-dc81-79eb160791b8",
        "colab": {
          "base_uri": "https://localhost:8080/",
          "height": 119
        }
      },
      "source": [
        "datation = \"Nécrop.Myr. 224,5\"\n",
        "date_extractor(datation)"
      ],
      "execution_count": 0,
      "outputs": [
        {
          "output_type": "execute_result",
          "data": {
            "text/plain": [
              "{'era': None,\n",
              " 'exact': None,\n",
              " 'or': None,\n",
              " 'start': None,\n",
              " 'stop': None,\n",
              " 'type': 'unknown'}"
            ]
          },
          "metadata": {
            "tags": []
          },
          "execution_count": 131
        }
      ]
    },
    {
      "cell_type": "code",
      "metadata": {
        "id": "9OdIdvCbEOB9",
        "colab_type": "code",
        "outputId": "6cbdffcb-8559-43e1-9e3b-6277ed3036a9",
        "colab": {
          "base_uri": "https://localhost:8080/",
          "height": 34
        }
      },
      "source": [
        " datation = \" non ante med. s. II p.\"\n",
        " date_extractor(datation)"
      ],
      "execution_count": 0,
      "outputs": [
        {
          "output_type": "execute_result",
          "data": {
            "text/plain": [
              "{'start': 145, 'stop': None, 'type': 'range+cent+middle+post'}"
            ]
          },
          "metadata": {
            "tags": []
          },
          "execution_count": 132
        }
      ]
    },
    {
      "cell_type": "code",
      "metadata": {
        "id": "dpHxVljmJeBZ",
        "colab_type": "code",
        "outputId": "6503d175-ea85-4cec-c807-93302438734d",
        "colab": {
          "base_uri": "https://localhost:8080/",
          "height": 34
        }
      },
      "source": [
        "date_extractor(\"not bef. the Antonine period\")"
      ],
      "execution_count": 0,
      "outputs": [
        {
          "output_type": "execute_result",
          "data": {
            "text/plain": [
              "{'start': 95, 'stop': None, 'type': 'range+period+post'}"
            ]
          },
          "metadata": {
            "tags": []
          },
          "execution_count": 133
        }
      ]
    },
    {
      "cell_type": "code",
      "metadata": {
        "id": "2ApLYR1QEvCP",
        "colab_type": "code",
        "outputId": "36a98c06-a4c1-4d02-8815-73488b0c5ba0",
        "colab": {
          "base_uri": "https://localhost:8080/",
          "height": 34
        }
      },
      "source": [
        "datation = \"27 a.-14 p.\"\n",
        "match = re.search(\"(\\d+)(\\s(a\\.|BP))(\\-)(\\d+)(\\s(p\\.|AD))\", datation) # (/sa/.)(/-)(/d+)(/sp/.)\"\n",
        "if match:\n",
        "  dating = {\"start\" : int(match.groups()[0]) * -1, \"stop\" : match.groups()[4], \"era\" : \"BC/AD\", \"type\" : \"range\"}\n",
        "dating"
      ],
      "execution_count": 0,
      "outputs": [
        {
          "output_type": "execute_result",
          "data": {
            "text/plain": [
              "{'era': 'BC/AD', 'start': -27, 'stop': '14', 'type': 'range'}"
            ]
          },
          "metadata": {
            "tags": []
          },
          "execution_count": 148
        }
      ]
    },
    {
      "cell_type": "code",
      "metadata": {
        "id": "_GoGsIUwuT9I",
        "colab_type": "code",
        "outputId": "16cdc065-83fe-4f6d-da76-017ce1c5920f",
        "colab": {
          "base_uri": "https://localhost:8080/",
          "height": 1000
        }
      },
      "source": [
        "test_list = PHI_by_500[\"raw_date\"].tolist()\n",
        "for datation in test_list:\n",
        "  print(datation, date_extractor(datation))"
      ],
      "execution_count": 0,
      "outputs": [
        {
          "output_type": "stream",
          "text": [
            "IStr 427 {'start': None, 'stop': None, 'exact': None, 'or': None, 'type': 'unknown', 'era': None}\n",
            " Rom. Imp. period {'start': -31, 'stop': 410, 'exact': None, 'or': None, 'type': 'range+period', 'era': 'BC/AD', 'source': 'PeriodO', 'notes': nan, 'link': 'http://n2t.net/ark:/99152/p08m57hqcc5'}\n",
            " 220/19 {'start': -220, 'stop': -219, 'exact': None, 'or': None, 'type': 'range', 'era': 'BC'}\n",
            "Thasos {'start': None, 'stop': None, 'exact': None, 'or': None, 'type': 'unknown', 'era': None}\n",
            " el-Boueib {'start': None, 'stop': None, 'exact': None, 'or': None, 'type': 'unknown', 'era': None}\n",
            " ca. 100-150 AD {'start': 95, 'stop': 155, 'exact': None, 'or': None, 'type': 'range+ca', 'era': 'AD'}\n",
            " 267-668 AD {'start': 267, 'stop': 668, 'exact': None, 'or': None, 'type': 'range', 'era': 'AD'}\n",
            " 1st c. BC  {'start': -100, 'stop': -1, 'exact': None, 'or': None, 'type': 'range+cent', 'era': 'BC'}\n",
            " Roman period?  {'start': -146, 'stop': 324, 'exact': None, 'or': None, 'type': 'range+period', 'era': 'BC/AD', 'certainty': '?', 'source': nan, 'notes': nan, 'link': nan}\n",
            " 155 AD  {'start': None, 'stop': None, 'exact': 155, 'or': None, 'type': 'exact', 'era': 'AD'}\n",
            " 199 AD {'start': None, 'stop': None, 'exact': 199, 'or': None, 'type': 'exact', 'era': 'AD'}\n",
            " 2nd/3rd c. AD {'start': 101, 'stop': 300, 'exact': None, 'or': None, 'type': 'range+cent', 'era': 'AD'}\n",
            " JHS 25,1905,56 Nr.4 {'start': None, 'stop': None, 'exact': None, 'or': None, 'type': 'unknown', 'era': None}\n",
            " ca. 100-150 AD  {'start': 95, 'stop': 155, 'exact': None, 'or': None, 'type': 'range+ca', 'era': 'AD'}\n",
            " 1st c. BC  {'start': -100, 'stop': -1, 'exact': None, 'or': None, 'type': 'range+cent', 'era': 'BC'}\n",
            " ca. 300-250 BC {'start': -305, 'stop': -245, 'exact': None, 'or': None, 'type': 'range+ca', 'era': 'BC'}\n",
            " beg. 2nd c. BC {'start': -200, 'stop': -190, 'exact': None, 'or': None, 'type': 'range+cent+beg', 'era': 'BC'}\n",
            " *SEG 24.119; 29.93 {'start': None, 'stop': None, 'exact': None, 'or': None, 'type': 'unknown', 'era': None}\n",
            " Thebes [W.]: Syringes {'start': None, 'stop': None, 'exact': None, 'or': None, 'type': 'unknown', 'era': None}\n",
            " Thebes [W.]: Syringes {'start': None, 'stop': None, 'exact': None, 'or': None, 'type': 'unknown', 'era': None}\n",
            " Thebes [W.]: Syringes {'start': None, 'stop': None, 'exact': None, 'or': None, 'type': 'unknown', 'era': None}\n",
            " Thebes [W.]: Syringes {'start': None, 'stop': None, 'exact': None, 'or': None, 'type': 'unknown', 'era': None}\n",
            " 1st c. AD {'start': 1, 'stop': 100, 'exact': None, 'or': None, 'type': 'range+cent', 'era': 'AD'}\n",
            " Rom. Imp. period  {'start': -31, 'stop': 410, 'exact': None, 'or': None, 'type': 'range+period', 'era': 'BC/AD', 'source': 'PeriodO', 'notes': nan, 'link': 'http://n2t.net/ark:/99152/p08m57hqcc5'}\n",
            " 46-44 BC {'start': -46, 'stop': -44, 'exact': None, 'or': None, 'type': 'range', 'era': 'BC'}\n",
            " SEG 27.880 {'start': None, 'stop': None, 'exact': None, 'or': None, 'type': 'unknown', 'era': None}\n",
            " 3rd c. BC {'start': -300, 'stop': -201, 'exact': None, 'or': None, 'type': 'range+cent', 'era': 'BC'}\n",
            " 12/1 BC {'start': -12, 'stop': -11, 'exact': None, 'or': None, 'type': 'range', 'era': 'BC'}\n",
            " Tell Frēǧ {'start': None, 'stop': None, 'exact': None, 'or': None, 'type': 'unknown', 'era': None}\n",
            " 2nd/3rd c. AD  {'start': 101, 'stop': 300, 'exact': None, 'or': None, 'type': 'range+cent', 'era': 'AD'}\n",
            "Paros {'start': None, 'stop': None, 'exact': None, 'or': None, 'type': 'unknown', 'era': None}\n",
            " Ta Grammata {'start': None, 'stop': None, 'exact': None, 'or': None, 'type': 'unknown', 'era': None}\n",
            "IEph 430 {'start': None, 'stop': None, 'exact': None, 'or': None, 'type': 'unknown', 'era': None}\n",
            "IEph 284 {'start': None, 'stop': None, 'exact': None, 'or': None, 'type': 'unknown', 'era': None}\n",
            "IEph 1599 {'start': None, 'stop': None, 'exact': None, 'or': None, 'type': 'unknown', 'era': None}\n",
            "IEph 1904.2 {'start': None, 'stop': None, 'exact': None, 'or': None, 'type': 'unknown', 'era': None}\n",
            "IEph 2247A {'start': None, 'stop': None, 'exact': None, 'or': None, 'type': 'unknown', 'era': None}\n",
            "IEph 2456 {'start': None, 'stop': None, 'exact': None, 'or': None, 'type': 'unknown', 'era': None}\n",
            "IEph 573.8 {'start': None, 'stop': None, 'exact': None, 'or': None, 'type': 'unknown', 'era': None}\n",
            "IEph 1962 {'start': None, 'stop': None, 'exact': None, 'or': None, 'type': 'unknown', 'era': None}\n",
            " Antiochia & Area of {'start': None, 'stop': None, 'exact': None, 'or': None, 'type': 'unknown', 'era': None}\n",
            " 350-300 BC {'start': -350, 'stop': -300, 'exact': None, 'or': None, 'type': 'range', 'era': 'BC'}\n",
            " 120-63 BC {'start': -120, 'stop': -63, 'exact': None, 'or': None, 'type': 'range', 'era': 'BC'}\n",
            " 116/5 BC {'start': -116, 'stop': -115, 'exact': None, 'or': None, 'type': 'range', 'era': 'BC'}\n",
            "Delos {'start': None, 'stop': None, 'exact': None, 'or': None, 'type': 'unknown', 'era': None}\n",
            " 3rd c. BC  {'start': -300, 'stop': -201, 'exact': None, 'or': None, 'type': 'range+cent', 'era': 'BC'}\n",
            " ca. 260-240 BC {'start': -262, 'stop': -238, 'exact': None, 'or': None, 'type': 'range+ca', 'era': 'BC'}\n",
            " mid 4th c. BC  {'start': -355, 'stop': -346, 'exact': None, 'or': None, 'type': 'range+cent+middle', 'era': 'BC'}\n",
            " 177 AD {'start': None, 'stop': None, 'exact': 177, 'or': None, 'type': 'exact', 'era': 'AD'}\n",
            " IG I³ 1088 {'start': None, 'stop': None, 'exact': None, 'or': None, 'type': 'unknown', 'era': None}\n",
            " end 5th c. AD {'start': 490, 'stop': 500, 'exact': None, 'or': None, 'type': 'range+cent+end', 'era': 'AD'}\n",
            " Rom. Imp. period {'start': -31, 'stop': 410, 'exact': None, 'or': None, 'type': 'range+period', 'era': 'BC/AD', 'source': 'PeriodO', 'notes': nan, 'link': 'http://n2t.net/ark:/99152/p08m57hqcc5'}\n",
            " Yapıldak: Inli {'start': None, 'stop': None, 'exact': None, 'or': None, 'type': 'unknown', 'era': None}\n",
            " 4th c. BC {'start': -400, 'stop': -301, 'exact': None, 'or': None, 'type': 'range+cent', 'era': 'BC'}\n",
            " Nikaia (Iznik) {'start': None, 'stop': None, 'exact': None, 'or': None, 'type': 'unknown', 'era': None}\n",
            "IPri 87 {'start': None, 'stop': None, 'exact': None, 'or': None, 'type': 'unknown', 'era': None}\n",
            "IPri 313.309 {'start': None, 'stop': None, 'exact': None, 'or': None, 'type': 'unknown', 'era': None}\n",
            "IPri 297 {'start': None, 'stop': None, 'exact': None, 'or': None, 'type': 'unknown', 'era': None}\n",
            " Mt. Hymettos {'start': None, 'stop': None, 'exact': None, 'or': None, 'type': 'unknown', 'era': None}\n",
            " 3rd/2nd c. BC? {'start': -300, 'stop': -101, 'exact': None, 'or': None, 'type': 'range+cent', 'era': 'BC', 'certainty': '?'}\n",
            " 209-204 BC  {'start': -209, 'stop': -204, 'exact': None, 'or': None, 'type': 'range', 'era': 'BC'}\n",
            " 1st c. AD {'start': 1, 'stop': 100, 'exact': None, 'or': None, 'type': 'range+cent', 'era': 'AD'}\n",
            " 6th/5th c. BC {'start': -600, 'stop': -401, 'exact': None, 'or': None, 'type': 'range+cent', 'era': 'BC'}\n",
            " 6th/5th c. BC {'start': -600, 'stop': -401, 'exact': None, 'or': None, 'type': 'range+cent', 'era': 'BC'}\n",
            " 1st c. AD  {'start': 1, 'stop': 100, 'exact': None, 'or': None, 'type': 'range+cent', 'era': 'AD'}\n",
            " 95 BC {'start': None, 'stop': None, 'exact': -95, 'or': None, 'type': 'exact', 'era': 'BC'}\n",
            " Bulis {'start': None, 'stop': None, 'exact': None, 'or': None, 'type': 'unknown', 'era': None}\n",
            " 1st c. BC {'start': -100, 'stop': -1, 'exact': None, 'or': None, 'type': 'range+cent', 'era': 'BC'}\n",
            " Aigina {'start': None, 'stop': None, 'exact': None, 'or': None, 'type': 'unknown', 'era': None}\n",
            " Nemea {'start': None, 'stop': None, 'exact': None, 'or': None, 'type': 'unknown', 'era': None}\n",
            " undated {'start': None, 'stop': None, 'exact': None, 'or': None, 'type': 'unknown', 'era': None}\n",
            " undated {'start': None, 'stop': None, 'exact': None, 'or': None, 'type': 'unknown', 'era': None}\n",
            "IMyl 151 {'start': None, 'stop': None, 'exact': None, 'or': None, 'type': 'unknown', 'era': None}\n",
            " 5th c. AD {'start': 401, 'stop': 500, 'exact': None, 'or': None, 'type': 'range+cent', 'era': 'AD'}\n",
            "BCH 1890, 97-99, no. 4 {'start': None, 'stop': None, 'exact': None, 'or': None, 'type': 'unknown', 'era': None}\n",
            " Heliopolis (Ba‘albek) {'start': None, 'stop': None, 'exact': None, 'or': None, 'type': 'unknown', 'era': None}\n",
            " MAMA 8.29 {'start': None, 'stop': None, 'exact': None, 'or': None, 'type': 'unknown', 'era': None}\n",
            " reign of Hadrian {'start': 117, 'stop': 138, 'exact': None, 'or': None, 'type': 'range+period', 'era': 'AD', 'source': 'PeriodO', 'notes': nan, 'link': 'http://n2t.net/ark:/99152/p0jrrjbntfj'}\n",
            " IK 26,27d {'start': None, 'stop': None, 'exact': None, 'or': None, 'type': 'unknown', 'era': None}\n",
            " Rom. Imp. period? (Fır.)  {'start': -31, 'stop': 410, 'exact': None, 'or': None, 'type': 'range+period', 'era': 'BC/AD', 'certainty': '?', 'source': 'PeriodO', 'notes': nan, 'link': 'http://n2t.net/ark:/99152/p08m57hqcc5'}\n",
            " 2nd c. AD  {'start': 101, 'stop': 200, 'exact': None, 'or': None, 'type': 'range+cent', 'era': 'AD'}\n",
            " SEG 30.841 {'start': None, 'stop': None, 'exact': None, 'or': None, 'type': 'unknown', 'era': None}\n",
            "ITral 21 {'start': None, 'stop': None, 'exact': None, 'or': None, 'type': 'unknown', 'era': None}\n",
            " 117-138 AD  {'start': 117, 'stop': 138, 'exact': None, 'or': None, 'type': 'range', 'era': 'AD'}\n",
            " Christian period  {'start': 1, 'stop': 2000, 'exact': None, 'or': None, 'type': 'range+period', 'era': 'AD', 'source': 'Vojtech', 'notes': nan, 'link': nan}\n",
            " IG II² 11759 {'start': None, 'stop': None, 'exact': None, 'or': None, 'type': 'unknown', 'era': None}\n",
            " beg. 3rd c. AD {'start': 201, 'stop': 211, 'exact': None, 'or': None, 'type': 'range+cent+beg', 'era': 'AD'}\n",
            " 229/30 or 230/1 AD  {'start': 229, 'stop': 230, 'exact': None, 'or': None, 'type': 'range', 'era': 'AD'}\n",
            " end 1st c. BC  {'start': -11, 'stop': -1, 'exact': None, 'or': None, 'type': 'range+cent+end', 'era': 'BC'}\n",
            " ca. 500-450 BC  {'start': -505, 'stop': -445, 'exact': None, 'or': None, 'type': 'range+ca', 'era': 'BC'}\n",
            " Athens {'start': None, 'stop': None, 'exact': None, 'or': None, 'type': 'unknown', 'era': None}\n",
            " 2nd/3rd c. AD  {'start': 101, 'stop': 300, 'exact': None, 'or': None, 'type': 'range+cent', 'era': 'AD'}\n",
            " 210-175 BC  {'start': -210, 'stop': -175, 'exact': None, 'or': None, 'type': 'range', 'era': 'BC'}\n",
            " 3rd/4th c. AD  {'start': 201, 'stop': 400, 'exact': None, 'or': None, 'type': 'range+cent', 'era': 'AD'}\n",
            " ca. 330-300 BC {'start': -333, 'stop': -297, 'exact': None, 'or': None, 'type': 'range+ca', 'era': 'BC'}\n",
            " ca. 180-150 BC  {'start': -183, 'stop': -147, 'exact': None, 'or': None, 'type': 'range+ca', 'era': 'BC'}\n",
            " ca. 150 BC {'start': -155, 'stop': -145, 'exact': None, 'or': None, 'type': 'exact+ca', 'era': 'BC'}\n",
            " 4th c. BC  {'start': -400, 'stop': -301, 'exact': None, 'or': None, 'type': 'range+cent', 'era': 'BC'}\n",
            " 4th (or 5th?) c. AD  {'start': 301, 'stop': 500, 'exact': None, 'or': None, 'type': 'range+cent', 'era': 'AD', 'certainty': '?'}\n",
            " 3rd c. AD {'start': 201, 'stop': 300, 'exact': None, 'or': None, 'type': 'range+cent', 'era': 'AD'}\n",
            " Saatsoglou-Paliadele, Epitaphia mnemeia (1984) 237, 61 {'start': None, 'stop': None, 'exact': None, 'or': None, 'type': 'unknown', 'era': None}\n",
            " after 145 BC  {'start': -145, 'stop': None, 'exact': None, 'or': None, 'type': 'post', 'era': 'BC'}\n",
            " 350-250 BC  {'start': -350, 'stop': -250, 'exact': None, 'or': None, 'type': 'range', 'era': 'BC'}\n",
            " late 3rd-mid. 2nd c. BC  {'start': -136, 'stop': -116, 'exact': None, 'or': None, 'type': 'range+cent+late+middle', 'era': 'BC'}\n",
            " ca. 475-450 BC  {'start': -477, 'stop': -448, 'exact': None, 'or': None, 'type': 'range+ca', 'era': 'BC'}\n",
            " Byzantine period  {'start': 324, 'stop': 1453, 'exact': None, 'or': None, 'type': 'range+period', 'era': 'AD', 'source': 'PeriodO', 'notes': nan, 'link': 'http://n2t.net/ark:/99152/p0m63njtm6w'}\n",
            " 5th c. AD  {'start': 401, 'stop': 500, 'exact': None, 'or': None, 'type': 'range+cent', 'era': 'AD'}\n",
            " ca. 270-260 BC  {'start': -271, 'stop': -259, 'exact': None, 'or': None, 'type': 'range+ca', 'era': 'BC'}\n",
            " Byzantine period  {'start': 324, 'stop': 1453, 'exact': None, 'or': None, 'type': 'range+period', 'era': 'AD', 'source': 'PeriodO', 'notes': nan, 'link': 'http://n2t.net/ark:/99152/p0m63njtm6w'}\n",
            " early 3rd c. BC  {'start': -300, 'stop': -275, 'exact': None, 'or': None, 'type': 'range+cent+early', 'era': 'BC'}\n",
            " AD 42 B2 (1987) 601 {'start': None, 'stop': None, 'exact': 42, 'or': None, 'type': 'exact', 'era': 'AD'}\n",
            " AD 45.1990[1995].B.42 {'start': None, 'stop': None, 'exact': 45, 'or': None, 'type': 'exact', 'era': 'AD'}\n",
            " 2nd c. BC  {'start': -200, 'stop': -101, 'exact': None, 'or': None, 'type': 'range+cent', 'era': 'BC'}\n",
            " Hellenistic period  {'start': -330, 'stop': -30, 'exact': None, 'or': None, 'type': 'range+period', 'era': 'BC', 'source': 'PeriodO', 'notes': nan, 'link': 'http://n2t.net/ark:/99152/p03wskd55sw'}\n",
            " 3rd c. BC  {'start': -300, 'stop': -201, 'exact': None, 'or': None, 'type': 'range+cent', 'era': 'BC'}\n",
            " ante 336/5 {'stop': None, 'start': None, 'type': 'range+ante+ante'}\n",
            " 204/3? {'start': -204, 'stop': -203, 'exact': None, 'or': None, 'type': 'range', 'era': 'BC', 'certainty': '?'}\n",
            " med. s. III a. {'start': -255, 'stop': -246, 'exact': None, 'or': None, 'type': 'range+cent+middle', 'era': 'BC'}\n",
            " IG II² 1773a Add. (pt. 2.2 p. 814) {'start': None, 'stop': None, 'exact': None, 'or': None, 'type': 'unknown', 'era': None}\n",
            " [s. II/III p.] {'start': None, 'stop': None, 'exact': None, 'or': None, 'type': 'unknown', 'era': None}\n",
            "Att. {'start': None, 'stop': None, 'exact': None, 'or': None, 'type': 'unknown', 'era': None}\n",
            " 27 a.-14 p. {'start': -27, 'stop': '14', 'exact': 27, 'or': None, 'type': 'exact', 'era': 'AD'}\n",
            "Att. {'start': None, 'stop': None, 'exact': None, 'or': None, 'type': 'unknown', 'era': None}\n",
            " fin. s. II p. {'start': 190, 'stop': 200, 'exact': None, 'or': None, 'type': 'range+cent+end', 'era': 'AD'}\n",
            " ante med. s. I a. {'stop': -55, 'start': None, 'type': 'range+cent+middle+ante'}\n",
            " non ante med. s. II p. {'start': 145, 'stop': None, 'type': 'range+cent+middle+post'}\n",
            " med. s. IV a. {'start': -355, 'stop': -346, 'exact': None, 'or': None, 'type': 'range+cent+middle', 'era': 'BC'}\n",
            " s. II a. {'start': -200, 'stop': -101, 'exact': None, 'or': None, 'type': 'range+cent', 'era': 'BC'}\n",
            " med. s. IV a. {'start': -355, 'stop': -346, 'exact': None, 'or': None, 'type': 'range+cent+middle', 'era': 'BC'}\n",
            " aet. Rom. {'start': -146, 'stop': 324, 'exact': None, 'or': None, 'type': 'range+period', 'era': 'BC/AD', 'source': nan, 'notes': nan, 'link': nan}\n",
            " aet. imp. {'start': -31, 'stop': 410, 'exact': None, 'or': None, 'type': 'range+period', 'era': 'BC/AD', 'source': 'PeriodO', 'notes': nan, 'link': 'http://n2t.net/ark:/99152/p08m57hqcc5'}\n",
            " s. I a. {'start': -100, 'stop': -1, 'exact': None, 'or': None, 'type': 'range+cent', 'era': 'BC'}\n",
            " s. I a. {'start': -100, 'stop': -1, 'exact': None, 'or': None, 'type': 'range+cent', 'era': 'BC'}\n",
            " aet. Rom. {'start': -146, 'stop': 324, 'exact': None, 'or': None, 'type': 'range+period', 'era': 'BC/AD', 'source': nan, 'notes': nan, 'link': nan}\n",
            " s. I p. {'start': 1, 'stop': 100, 'exact': None, 'or': None, 'type': 'range+cent', 'era': 'AD'}\n",
            " post med. s. IV {'start': -346, 'stop': None, 'type': 'range+cent+middle+post'}\n",
            " IG II² 10531a Add. (pt. 3.2 p. 886) {'start': None, 'stop': None, 'exact': None, 'or': None, 'type': 'unknown', 'era': None}\n",
            " s. III a. {'start': -300, 'stop': -201, 'exact': None, 'or': None, 'type': 'range+cent', 'era': 'BC'}\n",
            " s. II p. {'start': 101, 'stop': 200, 'exact': None, 'or': None, 'type': 'range+cent', 'era': 'AD'}\n",
            " s. IV a. {'start': -400, 'stop': -301, 'exact': None, 'or': None, 'type': 'range+cent', 'era': 'BC'}\n",
            " ante med. s. IV a. {'stop': -355, 'start': None, 'type': 'range+cent+middle+ante'}\n",
            " med. s. IV a. {'start': -355, 'stop': -346, 'exact': None, 'or': None, 'type': 'range+cent+middle', 'era': 'BC'}\n",
            " IG XIV 1412 {'start': None, 'stop': None, 'exact': None, 'or': None, 'type': 'unknown', 'era': None}\n",
            " cf. IGUR IV, p. 162, 862 {'start': None, 'stop': None, 'exact': None, 'or': None, 'type': 'unknown', 'era': None}\n",
            " GVI 184 {'start': None, 'stop': None, 'exact': None, 'or': None, 'type': 'unknown', 'era': None}\n",
            " 73/4 AD {'start': 73, 'stop': 74, 'exact': None, 'or': None, 'type': 'range', 'era': 'AD'}\n",
            " reign of Claudius {'start': 41, 'stop': 54, 'exact': None, 'or': None, 'type': 'range+period', 'era': 'AD', 'source': 'PeriodO', 'notes': nan, 'link': 'http://n2t.net/ark:/99152/p0jrrjb8spw'}\n",
            "IDid 484 {'start': None, 'stop': None, 'exact': None, 'or': None, 'type': 'unknown', 'era': None}\n",
            "IDid 411 {'start': None, 'stop': None, 'exact': None, 'or': None, 'type': 'unknown', 'era': None}\n",
            "ITral 102 {'start': None, 'stop': None, 'exact': None, 'or': None, 'type': 'unknown', 'era': None}\n",
            " McCabe 0351 {'start': None, 'stop': None, 'exact': None, 'or': None, 'type': 'unknown', 'era': None}\n",
            " 2nd c. AD  {'start': 101, 'stop': 200, 'exact': None, 'or': None, 'type': 'range+cent', 'era': 'AD'}\n",
            " 244-221 BC {'start': -244, 'stop': -221, 'exact': None, 'or': None, 'type': 'range', 'era': 'BC'}\n",
            " Anth.Gr. III Nr.1 {'start': None, 'stop': None, 'exact': None, 'or': None, 'type': 'unknown', 'era': None}\n",
            " 5th c. AD  {'start': 401, 'stop': 500, 'exact': None, 'or': None, 'type': 'range+cent', 'era': 'AD'}\n",
            "Philippopolis (Plovdiv) {'start': None, 'stop': None, 'exact': None, 'or': None, 'type': 'unknown', 'era': None}\n",
            " SEG 3.515 {'start': None, 'stop': None, 'exact': None, 'or': None, 'type': 'unknown', 'era': None}\n",
            " CIL III 395=7076 (2) {'start': None, 'stop': None, 'exact': None, 'or': None, 'type': 'unknown', 'era': None}\n",
            "IEph 3414 {'start': None, 'stop': None, 'exact': None, 'or': None, 'type': 'unknown', 'era': None}\n",
            " 1st c. BC  {'start': -100, 'stop': -1, 'exact': None, 'or': None, 'type': 'range+cent', 'era': 'BC'}\n",
            " reign of Ant. Pius  {'start': 138, 'stop': 161, 'exact': None, 'or': None, 'type': 'range+period', 'era': 'AD', 'source': 'PeriodO', 'notes': nan, 'link': 'http://n2t.net/ark:/99152/p06c6g3drk4'}\n",
            " 1st/2nd c. AD {'start': 1, 'stop': 200, 'exact': None, 'or': None, 'type': 'range+cent', 'era': 'AD'}\n",
            " late 6th c. BC  {'start': -526, 'stop': -501, 'exact': None, 'or': None, 'type': 'range+cent+late', 'era': 'BC'}\n",
            " ca. 460 BC  {'start': -465, 'stop': -455, 'exact': None, 'or': None, 'type': 'exact+ca', 'era': 'BC'}\n",
            " Pachoras--Phthouris (Faras) {'start': None, 'stop': None, 'exact': None, 'or': None, 'type': 'unknown', 'era': None}\n",
            " 155 AD  {'start': None, 'stop': None, 'exact': 155, 'or': None, 'type': 'exact', 'era': 'AD'}\n",
            " IosPE IV 60 {'start': None, 'stop': None, 'exact': None, 'or': None, 'type': 'unknown', 'era': None}\n",
            " med. s. V a. {'start': -455, 'stop': -446, 'exact': None, 'or': None, 'type': 'range+cent+middle', 'era': 'BC'}\n",
            " fin. s. V/VI p. {'start': None, 'stop': None, 'exact': None, 'or': None, 'type': 'unknown', 'era': None}\n",
            " Termessos (Güllük Dağı) {'start': None, 'stop': None, 'exact': None, 'or': None, 'type': 'unknown', 'era': None}\n",
            " Termessos (Güllük Dağı): Karaman Çay {'start': None, 'stop': None, 'exact': None, 'or': None, 'type': 'unknown', 'era': None}\n",
            " ca. 120 AD {'start': 115, 'stop': 125, 'exact': None, 'or': None, 'type': 'exact+ca', 'era': 'AD'}\n",
            " OGIS 2.535, IGR 3.316 {'start': None, 'stop': None, 'exact': None, 'or': None, 'type': 'unknown', 'era': None}\n",
            " CIG 3899 [1] {'start': None, 'stop': None, 'exact': None, 'or': None, 'type': 'unknown', 'era': None}\n",
            " undated {'start': None, 'stop': None, 'exact': None, 'or': None, 'type': 'unknown', 'era': None}\n",
            " 5th/6th c. AD {'start': 401, 'stop': 600, 'exact': None, 'or': None, 'type': 'range+cent', 'era': 'AD'}\n",
            " undated {'start': None, 'stop': None, 'exact': None, 'or': None, 'type': 'unknown', 'era': None}\n",
            " 3rd c. BC {'start': -300, 'stop': -201, 'exact': None, 'or': None, 'type': 'range+cent', 'era': 'BC'}\n",
            " undated {'start': None, 'stop': None, 'exact': None, 'or': None, 'type': 'unknown', 'era': None}\n",
            " 2nd c. AD  {'start': 101, 'stop': 200, 'exact': None, 'or': None, 'type': 'range+cent', 'era': 'AD'}\n",
            " 2nd/3rd c. AD {'start': 101, 'stop': 300, 'exact': None, 'or': None, 'type': 'range+cent', 'era': 'AD'}\n",
            " 335-322 BC {'start': -335, 'stop': -322, 'exact': None, 'or': None, 'type': 'range', 'era': 'BC'}\n",
            " Rom. Imp. period {'start': -31, 'stop': 410, 'exact': None, 'or': None, 'type': 'range+period', 'era': 'BC/AD', 'source': 'PeriodO', 'notes': nan, 'link': 'http://n2t.net/ark:/99152/p08m57hqcc5'}\n",
            " undated {'start': None, 'stop': None, 'exact': None, 'or': None, 'type': 'unknown', 'era': None}\n",
            " Aperantia {'start': None, 'stop': None, 'exact': None, 'or': None, 'type': 'unknown', 'era': None}\n",
            " ca. 163/2 BC {'start': -163, 'stop': -162, 'exact': None, 'or': None, 'type': 'range+ca', 'era': 'BC'}\n",
            " Hellenistic period  {'start': -330, 'stop': -30, 'exact': None, 'or': None, 'type': 'range+period', 'era': 'BC', 'source': 'PeriodO', 'notes': nan, 'link': 'http://n2t.net/ark:/99152/p03wskd55sw'}\n",
            " ca. 2nd c. BC {'start': -210, 'stop': -91, 'exact': None, 'or': None, 'type': 'range+cent+ca', 'era': 'BC'}\n",
            "Graf, Kulte, Chios 38 {'start': None, 'stop': None, 'exact': None, 'or': None, 'type': 'unknown', 'era': None}\n",
            " SEG 40.1219 {'start': None, 'stop': None, 'exact': None, 'or': None, 'type': 'unknown', 'era': None}\n",
            " 200-209 AD  {'start': 200, 'stop': 209, 'exact': None, 'or': None, 'type': 'range', 'era': 'AD'}\n",
            " s. I p. {'start': 1, 'stop': 100, 'exact': None, 'or': None, 'type': 'range+cent', 'era': 'AD'}\n",
            " s. III a. {'start': -300, 'stop': -201, 'exact': None, 'or': None, 'type': 'range+cent', 'era': 'BC'}\n",
            " Abydos: Memnonion {'start': None, 'stop': None, 'exact': None, 'or': None, 'type': 'unknown', 'era': None}\n",
            "ISmyrn 627 {'start': None, 'stop': None, 'exact': None, 'or': None, 'type': 'unknown', 'era': None}\n",
            "ISmyrn 181 {'start': None, 'stop': None, 'exact': None, 'or': None, 'type': 'unknown', 'era': None}\n",
            " IK 6,2 {'start': None, 'stop': None, 'exact': None, 'or': None, 'type': 'unknown', 'era': None}\n",
            " 215 BC {'start': None, 'stop': None, 'exact': -215, 'or': None, 'type': 'exact', 'era': 'BC'}\n",
            " ca. 125 BC {'start': -130, 'stop': -120, 'exact': None, 'or': None, 'type': 'exact+ca', 'era': 'BC'}\n",
            " undated {'start': None, 'stop': None, 'exact': None, 'or': None, 'type': 'unknown', 'era': None}\n",
            " Rom. Imp. period  {'start': -31, 'stop': 410, 'exact': None, 'or': None, 'type': 'range+period', 'era': 'BC/AD', 'source': 'PeriodO', 'notes': nan, 'link': 'http://n2t.net/ark:/99152/p08m57hqcc5'}\n",
            " 124-116 BC {'start': -124, 'stop': -116, 'exact': None, 'or': None, 'type': 'range', 'era': 'BC'}\n",
            " 2nd c. BC?  {'start': -200, 'stop': -101, 'exact': None, 'or': None, 'type': 'range+cent', 'era': 'BC', 'certainty': '?'}\n",
            "Paros {'start': None, 'stop': None, 'exact': None, 'or': None, 'type': 'unknown', 'era': None}\n",
            " 4th c. BC {'start': -400, 'stop': -301, 'exact': None, 'or': None, 'type': 'range+cent', 'era': 'BC'}\n",
            " 3rd/2nd c. BC {'start': -300, 'stop': -101, 'exact': None, 'or': None, 'type': 'range+cent', 'era': 'BC'}\n",
            " 7th-4th c. BC  {'start': -700, 'stop': -301, 'exact': None, 'or': None, 'type': 'range+cent', 'era': 'BC'}\n",
            " Hellenistic period  {'start': -330, 'stop': -30, 'exact': None, 'or': None, 'type': 'range+period', 'era': 'BC', 'source': 'PeriodO', 'notes': nan, 'link': 'http://n2t.net/ark:/99152/p03wskd55sw'}\n",
            " undated {'start': None, 'stop': None, 'exact': None, 'or': None, 'type': 'unknown', 'era': None}\n",
            " cf. Corrigenda p. XV {'start': None, 'stop': None, 'exact': None, 'or': None, 'type': 'unknown', 'era': None}\n",
            " Gonnoi II 118 {'start': None, 'stop': None, 'exact': None, 'or': None, 'type': 'unknown', 'era': None}\n",
            " 3rd c. AD  {'start': 201, 'stop': 300, 'exact': None, 'or': None, 'type': 'range+cent', 'era': 'AD'}\n",
            " 5th c. BC {'start': -500, 'stop': -401, 'exact': None, 'or': None, 'type': 'range+cent', 'era': 'BC'}\n",
            " Eretria {'start': None, 'stop': None, 'exact': None, 'or': None, 'type': 'unknown', 'era': None}\n",
            " 1st/2nd c. AD {'start': 1, 'stop': 200, 'exact': None, 'or': None, 'type': 'range+cent', 'era': 'AD'}\n",
            " Laodicea Comb.: Yeni Yaila {'start': None, 'stop': None, 'exact': None, 'or': None, 'type': 'unknown', 'era': None}\n",
            " Aizanitis: Sopu Köy {'start': None, 'stop': None, 'exact': None, 'or': None, 'type': 'unknown', 'era': None}\n",
            " Ali Bey Höyük {'start': None, 'stop': None, 'exact': None, 'or': None, 'type': 'unknown', 'era': None}\n",
            " Stratonikeia: Kirkaǧaç {'start': None, 'stop': None, 'exact': None, 'or': None, 'type': 'unknown', 'era': None}\n",
            "Milet I 2, 26 {'start': None, 'stop': None, 'exact': None, 'or': None, 'type': 'unknown', 'era': None}\n",
            "LW 1589 {'start': None, 'stop': None, 'exact': None, 'or': None, 'type': 'unknown', 'era': None}\n",
            "Roueché, Aphrodisias 42 {'start': None, 'stop': None, 'exact': None, 'or': None, 'type': 'unknown', 'era': None}\n",
            "IIasos 206 {'start': None, 'stop': None, 'exact': None, 'or': None, 'type': 'unknown', 'era': None}\n",
            "ASAA 1961-62, 630, no. 130 {'start': None, 'stop': None, 'exact': None, 'or': None, 'type': 'unknown', 'era': None}\n",
            " Bostra (Buṣrā) {'start': None, 'stop': None, 'exact': None, 'or': None, 'type': 'unknown', 'era': None}\n",
            " 2nd/3rd c. AD  {'start': 101, 'stop': 300, 'exact': None, 'or': None, 'type': 'range+cent', 'era': 'AD'}\n",
            " 128/127 BC  {'start': -128, 'stop': -127, 'exact': None, 'or': None, 'type': 'range', 'era': 'BC'}\n",
            " undated {'start': None, 'stop': None, 'exact': None, 'or': None, 'type': 'unknown', 'era': None}\n",
            " undated {'start': None, 'stop': None, 'exact': None, 'or': None, 'type': 'unknown', 'era': None}\n",
            " undated {'start': None, 'stop': None, 'exact': None, 'or': None, 'type': 'unknown', 'era': None}\n",
            " Aphrodisias {'start': None, 'stop': None, 'exact': None, 'or': None, 'type': 'unknown', 'era': None}\n",
            "Newton, Halik. II 592 {'start': None, 'stop': None, 'exact': None, 'or': None, 'type': 'unknown', 'era': None}\n",
            " 2nd/3rd c. AD  {'start': 101, 'stop': 300, 'exact': None, 'or': None, 'type': 'range+cent', 'era': 'AD'}\n",
            " beg. 5th c. BC {'start': -500, 'stop': -490, 'exact': None, 'or': None, 'type': 'range+cent+beg', 'era': 'BC'}\n",
            " 2nd/1st c. BC {'start': -200, 'stop': -1, 'exact': None, 'or': None, 'type': 'range+cent', 'era': 'BC'}\n",
            " 4th c. BC  {'start': -400, 'stop': -301, 'exact': None, 'or': None, 'type': 'range+cent', 'era': 'BC'}\n",
            " 144 AD  {'start': None, 'stop': None, 'exact': 144, 'or': None, 'type': 'exact', 'era': 'AD'}\n",
            " 1st-early 2nd c. AD {'start': 1, 'stop': 51, 'exact': None, 'or': None, 'type': 'range+cent+early', 'era': 'AD'}\n",
            " after 228 BC {'start': -228, 'stop': None, 'exact': None, 'or': None, 'type': 'post', 'era': 'BC'}\n",
            " 1st/2nd c. AD {'start': 1, 'stop': 200, 'exact': None, 'or': None, 'type': 'range+cent', 'era': 'AD'}\n",
            "Newton, Disc. II 742-43:91 {'start': None, 'stop': None, 'exact': None, 'or': None, 'type': 'unknown', 'era': None}\n",
            " Thyateira (Akhisar) {'start': None, 'stop': None, 'exact': None, 'or': None, 'type': 'unknown', 'era': None}\n",
            "IStr 1045 {'start': None, 'stop': None, 'exact': None, 'or': None, 'type': 'unknown', 'era': None}\n",
            " Attaleia (Antalya) {'start': None, 'stop': None, 'exact': None, 'or': None, 'type': 'unknown', 'era': None}\n",
            " Rom. Imp. period  {'start': -31, 'stop': 410, 'exact': None, 'or': None, 'type': 'range+period', 'era': 'BC/AD', 'source': 'PeriodO', 'notes': nan, 'link': 'http://n2t.net/ark:/99152/p08m57hqcc5'}\n",
            " CIL 3.8188 {'start': None, 'stop': None, 'exact': None, 'or': None, 'type': 'unknown', 'era': None}\n",
            " Hermonthis (Armant)? {'start': None, 'stop': None, 'exact': None, 'or': None, 'type': 'unknown', 'era': None, 'certainty': '?'}\n",
            " Side (Eski Adalia--Selimiye) {'start': None, 'stop': None, 'exact': None, 'or': None, 'type': 'unknown', 'era': None}\n",
            " Christian {'start': None, 'stop': None, 'exact': None, 'or': None, 'type': 'unknown', 'era': None}\n",
            " undated {'start': None, 'stop': None, 'exact': None, 'or': None, 'type': 'unknown', 'era': None}\n",
            " undated {'start': None, 'stop': None, 'exact': None, 'or': None, 'type': 'unknown', 'era': None}\n",
            " Taras-Tarentum: Montedoro {'start': None, 'stop': None, 'exact': None, 'or': None, 'type': 'unknown', 'era': None}\n",
            " p. 706, Add. et Corr. {'start': None, 'stop': None, 'exact': None, 'or': None, 'type': 'unknown', 'era': None}\n",
            " undated {'start': None, 'stop': None, 'exact': None, 'or': None, 'type': 'unknown', 'era': None}\n",
            " 3rd/4th c. AD?  {'start': 201, 'stop': 400, 'exact': None, 'or': None, 'type': 'range+cent', 'era': 'AD', 'certainty': '?'}\n",
            " 180 AD  {'start': None, 'stop': None, 'exact': 180, 'or': None, 'type': 'exact', 'era': 'AD'}\n",
            " AEMÖ 19 (1896) 51,25 {'start': None, 'stop': None, 'exact': None, 'or': None, 'type': 'unknown', 'era': None}\n",
            "LW 1559 {'start': None, 'stop': None, 'exact': None, 'or': None, 'type': 'unknown', 'era': None}\n",
            " GIBM IV.1 Nr.806 {'start': None, 'stop': None, 'exact': None, 'or': None, 'type': 'unknown', 'era': None}\n",
            "Odessus (Varna) {'start': None, 'stop': None, 'exact': None, 'or': None, 'type': 'unknown', 'era': None}\n",
            " 4th c. BC  {'start': -400, 'stop': -301, 'exact': None, 'or': None, 'type': 'range+cent', 'era': 'BC'}\n",
            " 2nd/3rd c. AD {'start': 101, 'stop': 300, 'exact': None, 'or': None, 'type': 'range+cent', 'era': 'AD'}\n",
            " ca. 220-210 BC?  {'start': -221, 'stop': -209, 'exact': None, 'or': None, 'type': 'range+ca', 'era': 'BC', 'certainty': '?'}\n",
            " undated {'start': None, 'stop': None, 'exact': None, 'or': None, 'type': 'unknown', 'era': None}\n",
            " Daux {'start': None, 'stop': None, 'exact': None, 'or': None, 'type': 'unknown', 'era': None}\n",
            " end 6th c. BC {'start': -511, 'stop': -501, 'exact': None, 'or': None, 'type': 'range+cent+end', 'era': 'BC'}\n",
            " undated {'start': None, 'stop': None, 'exact': None, 'or': None, 'type': 'unknown', 'era': None}\n",
            " Oinoanda (Incealiler): Girdev Gölü {'start': None, 'stop': None, 'exact': None, 'or': None, 'type': 'unknown', 'era': None}\n",
            " Klaudioupolis (Bolu), Plain of {'start': None, 'stop': None, 'exact': None, 'or': None, 'type': 'unknown', 'era': None}\n",
            " IG XIV 2393,75 {'start': None, 'stop': None, 'exact': None, 'or': None, 'type': 'unknown', 'era': None}\n",
            " 1st/2nd c. AD {'start': 1, 'stop': 200, 'exact': None, 'or': None, 'type': 'range+cent', 'era': 'AD'}\n",
            "AD 1972, B2, 603-4 {'start': None, 'stop': None, 'exact': None, 'or': None, 'type': 'unknown', 'era': None}\n",
            " 2nd c. AD  {'start': 101, 'stop': 200, 'exact': None, 'or': None, 'type': 'range+cent', 'era': 'AD'}\n",
            " end 4th c. BC {'start': -311, 'stop': -301, 'exact': None, 'or': None, 'type': 'range+cent+end', 'era': 'BC'}\n",
            " undated {'start': None, 'stop': None, 'exact': None, 'or': None, 'type': 'unknown', 'era': None}\n",
            " Patissia {'start': None, 'stop': None, 'exact': None, 'or': None, 'type': 'unknown', 'era': None}\n",
            " late 4th-6th c. AD {'start': 525, 'stop': 600, 'exact': None, 'or': None, 'type': 'range+cent+late', 'era': 'AD'}\n",
            " Christian {'start': None, 'stop': None, 'exact': None, 'or': None, 'type': 'unknown', 'era': None}\n",
            " not bef. the Antonine period {'start': 95, 'stop': None, 'type': 'range+period+post'}\n",
            " after mid. 3rd c. BC {'start': -246, 'stop': None, 'type': 'range+cent+middle+post'}\n",
            " undated {'start': None, 'stop': None, 'exact': None, 'or': None, 'type': 'unknown', 'era': None}\n",
            " undated {'start': None, 'stop': None, 'exact': None, 'or': None, 'type': 'unknown', 'era': None}\n",
            " undated {'start': None, 'stop': None, 'exact': None, 'or': None, 'type': 'unknown', 'era': None}\n",
            " 198-210 AD {'start': 198, 'stop': 210, 'exact': None, 'or': None, 'type': 'range', 'era': 'AD'}\n",
            " undated {'start': None, 'stop': None, 'exact': None, 'or': None, 'type': 'unknown', 'era': None}\n",
            " undated {'start': None, 'stop': None, 'exact': None, 'or': None, 'type': 'unknown', 'era': None}\n",
            " undated {'start': None, 'stop': None, 'exact': None, 'or': None, 'type': 'unknown', 'era': None}\n",
            " Laurent, Corpus V 357bis/1702 {'start': None, 'stop': None, 'exact': None, 'or': None, 'type': 'unknown', 'era': None}\n",
            " shortly after 208/7 BC (or 207/6)  {'start': None, 'stop': None, 'type': 'range+post+shortly+post+shortly'}\n",
            " Byzantine {'start': None, 'stop': None, 'exact': None, 'or': None, 'type': 'unknown', 'era': None}\n",
            " ca. 100-250 AD  {'start': 85, 'stop': 265, 'exact': None, 'or': None, 'type': 'range+ca', 'era': 'AD'}\n",
            " 194 BC {'start': None, 'stop': None, 'exact': -194, 'or': None, 'type': 'exact', 'era': 'BC'}\n",
            " Thebes [W.]: Colossus of Memnon {'start': None, 'stop': None, 'exact': None, 'or': None, 'type': 'unknown', 'era': None}\n",
            " 117-138 AD {'start': 117, 'stop': 138, 'exact': None, 'or': None, 'type': 'range', 'era': 'AD'}\n",
            "Thera {'start': None, 'stop': None, 'exact': None, 'or': None, 'type': 'unknown', 'era': None}\n",
            "Thera {'start': None, 'stop': None, 'exact': None, 'or': None, 'type': 'unknown', 'era': None}\n",
            " early 2nd c. AD {'start': 101, 'stop': 126, 'exact': None, 'or': None, 'type': 'range+cent+early', 'era': 'AD'}\n",
            " Sparta {'start': None, 'stop': None, 'exact': None, 'or': None, 'type': 'unknown', 'era': None}\n",
            " fanum Apollinis Hyperteleatae {'start': None, 'stop': None, 'exact': None, 'or': None, 'type': 'unknown', 'era': None}\n",
            " Messene {'start': None, 'stop': None, 'exact': None, 'or': None, 'type': 'unknown', 'era': None}\n",
            " 154/5 AD {'start': 154, 'stop': 155, 'exact': None, 'or': None, 'type': 'range', 'era': 'AD'}\n",
            " 66/7 AD {'start': 66, 'stop': 67, 'exact': None, 'or': None, 'type': 'range', 'era': 'AD'}\n",
            " Hellenistic period  {'start': -330, 'stop': -30, 'exact': None, 'or': None, 'type': 'range+period', 'era': 'BC', 'source': 'PeriodO', 'notes': nan, 'link': 'http://n2t.net/ark:/99152/p03wskd55sw'}\n",
            " ca. 213 BC? {'start': -218, 'stop': -208, 'exact': None, 'or': None, 'type': 'exact+ca', 'era': 'BC', 'certainty': '?'}\n",
            " Telmessos {'start': None, 'stop': None, 'exact': None, 'or': None, 'type': 'unknown', 'era': None}\n",
            " late 1st c. AD? {'start': 75, 'stop': 100, 'exact': None, 'or': None, 'type': 'range+cent+late', 'era': 'AD', 'certainty': '?'}\n",
            " Rom. Imp. period {'start': -31, 'stop': 410, 'exact': None, 'or': None, 'type': 'range+period', 'era': 'BC/AD', 'source': 'PeriodO', 'notes': nan, 'link': 'http://n2t.net/ark:/99152/p08m57hqcc5'}\n",
            " Mytilene {'start': None, 'stop': None, 'exact': None, 'or': None, 'type': 'unknown', 'era': None}\n",
            " 1st c. BC/1st c. AD  {'start': -100, 'stop': 100, 'exact': None, 'or': None, 'type': 'range+cent', 'era': 'BC/AD'}\n",
            " Alexandria: Kōm el-Shugafa {'start': None, 'stop': None, 'exact': None, 'or': None, 'type': 'unknown', 'era': None}\n",
            " Alexandria Mus. [Rhodes] {'start': None, 'stop': None, 'exact': None, 'or': None, 'type': 'unknown', 'era': None}\n",
            " Alexandria Mus. [Rhodes] {'start': None, 'stop': None, 'exact': None, 'or': None, 'type': 'unknown', 'era': None}\n",
            " Arsinoïte Nome (Faiyūm) {'start': None, 'stop': None, 'exact': None, 'or': None, 'type': 'unknown', 'era': None}\n",
            " Arsinoïte Nome (Faiyūm)? {'start': None, 'stop': None, 'exact': None, 'or': None, 'type': 'unknown', 'era': None, 'certainty': '?'}\n",
            " 3rd c. BC {'start': -300, 'stop': -201, 'exact': None, 'or': None, 'type': 'range+cent', 'era': 'BC'}\n",
            " 3rd c. AD  {'start': 201, 'stop': 300, 'exact': None, 'or': None, 'type': 'range+cent', 'era': 'AD'}\n",
            " Minoa {'start': None, 'stop': None, 'exact': None, 'or': None, 'type': 'unknown', 'era': None}\n",
            " Nakoleia (Seyitgazi) {'start': None, 'stop': None, 'exact': None, 'or': None, 'type': 'unknown', 'era': None}\n",
            " Skepseis kai Entyposeis (1962) 92 {'start': None, 'stop': None, 'exact': None, 'or': None, 'type': 'unknown', 'era': None}\n",
            " 89-91 AD  {'start': 89, 'stop': 91, 'exact': None, 'or': None, 'type': 'range', 'era': 'AD'}\n",
            " 3rd c. AD  {'start': 201, 'stop': 300, 'exact': None, 'or': None, 'type': 'range+cent', 'era': 'AD'}\n",
            " 2nd/3rd c. AD {'start': 101, 'stop': 300, 'exact': None, 'or': None, 'type': 'range+cent', 'era': 'AD'}\n",
            " Nikomedeia (Izmit) {'start': None, 'stop': None, 'exact': None, 'or': None, 'type': 'unknown', 'era': None}\n",
            " Prusias ad Hypium (Üskübü) {'start': None, 'stop': None, 'exact': None, 'or': None, 'type': 'unknown', 'era': None}\n"
          ],
          "name": "stdout"
        }
      ]
    },
    {
      "cell_type": "code",
      "metadata": {
        "id": "a3eNW_GHSbNA",
        "colab_type": "code",
        "colab": {}
      },
      "source": [
        "PHI_list_of_dict = []\n",
        "for inscription_date_tuple in list(zip(PHI_by_500[\"tildeinfo\"].tolist(), PHI_by_500[\"PHI_ID\"].tolist(),  PHI_by_500[\"raw_date\"].tolist())):\n",
        "  dating = date_extractor(inscription_date_tuple[2])\n",
        "  data_dict = {\"tildeinfo\": inscription_date_tuple[0], \"PHI_ID\" : inscription_date_tuple[1], \"raw_date\" : inscription_date_tuple[2]}\n",
        "  data_dict.update(dating)\n",
        "  PHI_list_of_dict.append(data_dict)"
      ],
      "execution_count": 0,
      "outputs": []
    },
    {
      "cell_type": "code",
      "metadata": {
        "id": "yrLrFl8ZT9cw",
        "colab_type": "code",
        "outputId": "4f582928-0ee2-4e24-9fb8-1b2310b27c3f",
        "colab": {
          "base_uri": "https://localhost:8080/",
          "height": 204
        }
      },
      "source": [
        "PHI_by_500_dates_v6 = pd.DataFrame(PHI_list_of_dict)\n",
        "PHI_by_500_dates_v6.head(5)"
      ],
      "execution_count": 0,
      "outputs": [
        {
          "output_type": "execute_result",
          "data": {
            "text/html": [
              "<div>\n",
              "<style scoped>\n",
              "    .dataframe tbody tr th:only-of-type {\n",
              "        vertical-align: middle;\n",
              "    }\n",
              "\n",
              "    .dataframe tbody tr th {\n",
              "        vertical-align: top;\n",
              "    }\n",
              "\n",
              "    .dataframe thead th {\n",
              "        text-align: right;\n",
              "    }\n",
              "</style>\n",
              "<table border=\"1\" class=\"dataframe\">\n",
              "  <thead>\n",
              "    <tr style=\"text-align: right;\">\n",
              "      <th></th>\n",
              "      <th>tildeinfo</th>\n",
              "      <th>PHI_ID</th>\n",
              "      <th>raw_date</th>\n",
              "      <th>start</th>\n",
              "      <th>stop</th>\n",
              "      <th>exact</th>\n",
              "      <th>or</th>\n",
              "      <th>type</th>\n",
              "      <th>era</th>\n",
              "      <th>source</th>\n",
              "      <th>notes</th>\n",
              "      <th>link</th>\n",
              "      <th>certainty</th>\n",
              "    </tr>\n",
              "  </thead>\n",
              "  <tbody>\n",
              "    <tr>\n",
              "      <th>0</th>\n",
              "      <td>IStr 427</td>\n",
              "      <td>262001</td>\n",
              "      <td>IStr 427</td>\n",
              "      <td>NaN</td>\n",
              "      <td>None</td>\n",
              "      <td>NaN</td>\n",
              "      <td>NaN</td>\n",
              "      <td>unknown</td>\n",
              "      <td>None</td>\n",
              "      <td>NaN</td>\n",
              "      <td>NaN</td>\n",
              "      <td>NaN</td>\n",
              "      <td>NaN</td>\n",
              "    </tr>\n",
              "    <tr>\n",
              "      <th>1</th>\n",
              "      <td>Pont. — Amasia — Rom. Imp. period</td>\n",
              "      <td>266001</td>\n",
              "      <td>Rom. Imp. period</td>\n",
              "      <td>-31.0</td>\n",
              "      <td>410</td>\n",
              "      <td>NaN</td>\n",
              "      <td>NaN</td>\n",
              "      <td>range+period</td>\n",
              "      <td>BC/AD</td>\n",
              "      <td>PeriodO</td>\n",
              "      <td>NaN</td>\n",
              "      <td>http://n2t.net/ark:/99152/p08m57hqcc5</td>\n",
              "      <td>NaN</td>\n",
              "    </tr>\n",
              "    <tr>\n",
              "      <th>2</th>\n",
              "      <td>Att. — Athens: Agora — 220/19</td>\n",
              "      <td>231001</td>\n",
              "      <td>220/19</td>\n",
              "      <td>-220.0</td>\n",
              "      <td>-219</td>\n",
              "      <td>NaN</td>\n",
              "      <td>NaN</td>\n",
              "      <td>range</td>\n",
              "      <td>BC</td>\n",
              "      <td>NaN</td>\n",
              "      <td>NaN</td>\n",
              "      <td>NaN</td>\n",
              "      <td>NaN</td>\n",
              "    </tr>\n",
              "    <tr>\n",
              "      <th>3</th>\n",
              "      <td>Thasos</td>\n",
              "      <td>79501</td>\n",
              "      <td>Thasos</td>\n",
              "      <td>NaN</td>\n",
              "      <td>None</td>\n",
              "      <td>NaN</td>\n",
              "      <td>NaN</td>\n",
              "      <td>unknown</td>\n",
              "      <td>None</td>\n",
              "      <td>NaN</td>\n",
              "      <td>NaN</td>\n",
              "      <td>NaN</td>\n",
              "      <td>NaN</td>\n",
              "    </tr>\n",
              "    <tr>\n",
              "      <th>4</th>\n",
              "      <td>Eg. — el-Boueib</td>\n",
              "      <td>218501</td>\n",
              "      <td>el-Boueib</td>\n",
              "      <td>NaN</td>\n",
              "      <td>None</td>\n",
              "      <td>NaN</td>\n",
              "      <td>NaN</td>\n",
              "      <td>unknown</td>\n",
              "      <td>None</td>\n",
              "      <td>NaN</td>\n",
              "      <td>NaN</td>\n",
              "      <td>NaN</td>\n",
              "      <td>NaN</td>\n",
              "    </tr>\n",
              "  </tbody>\n",
              "</table>\n",
              "</div>"
            ],
            "text/plain": [
              "                           tildeinfo  ...  certainty\n",
              "0                           IStr 427  ...        NaN\n",
              "1  Pont. — Amasia — Rom. Imp. period  ...        NaN\n",
              "2      Att. — Athens: Agora — 220/19  ...        NaN\n",
              "3                             Thasos  ...        NaN\n",
              "4                    Eg. — el-Boueib  ...        NaN\n",
              "\n",
              "[5 rows x 13 columns]"
            ]
          },
          "metadata": {
            "tags": []
          },
          "execution_count": 223
        }
      ]
    },
    {
      "cell_type": "code",
      "metadata": {
        "id": "e16RPHQAVFQc",
        "colab_type": "code",
        "colab": {}
      },
      "source": [
        "set_with_dataframe(PHI_overview.add_worksheet(\"PHI_by_500_dates_v6\", 1,1), PHI_by_500_dates_v6)"
      ],
      "execution_count": 0,
      "outputs": []
    },
    {
      "cell_type": "markdown",
      "metadata": {
        "id": "2bV1j_tDHhsy",
        "colab_type": "text"
      },
      "source": [
        "# Match \"/\" for individual dates"
      ]
    },
    {
      "cell_type": "code",
      "metadata": {
        "id": "u_Sa4Ql94vyI",
        "colab_type": "code",
        "colab": {}
      },
      "source": [
        "def match_or(datation):\n",
        "  match = re.search(r'(\\d+)(\\/)(\\d+)', str(datation), flags=re.IGNORECASE)\n",
        "  if match != None:\n",
        "      date1 = match.groups()[0]\n",
        "      date2 = match.groups()[2]\n",
        "      len_diff = len(date1) - len(date2)\n",
        "      if len_diff > 0:\n",
        "        date2 = date1[:len_diff] + date2\n",
        "      date1 = int(date1)\n",
        "      date2 = int(date2)\n",
        "      if \"AD\" not in datation:\n",
        "        date1 = int(date1) * -1\n",
        "        date2 = {int(date2) * -1\n",
        "      return {\"exact\" : date1, \"or\": date2, \"type\" : \"or\"}\n",
        "  else:\n",
        "      return {\"type\" : \"unknown\"}\n"
      ],
      "execution_count": 0,
      "outputs": []
    },
    {
      "cell_type": "code",
      "metadata": {
        "id": "1hHnkA-UCzYt",
        "colab_type": "code",
        "outputId": "f125b72a-dcc0-4632-ccf4-6a5426e20600",
        "colab": {
          "base_uri": "https://localhost:8080/",
          "height": 68
        }
      },
      "source": [
        "ors = PHI_by_500[PHI_by_500[\"raw_date\"].str.contains(r'(\\d+)(\\/)(\\d+)')][\"raw_date\"].tolist()\n",
        "print(ors)"
      ],
      "execution_count": 0,
      "outputs": [
        {
          "output_type": "stream",
          "text": [
            "[' 220/19', ' 12/1 BC', ' 116/5 BC', ' 229/30 or 230/1 AD ', ' ante 336/5', ' 204/3?', ' 73/4 AD', ' ca. 163/2 BC', ' 128/127 BC ', ' shortly after 208/7 BC (or 207/6) ', ' 154/5 AD', ' 66/7 AD']\n"
          ],
          "name": "stdout"
        },
        {
          "output_type": "stream",
          "text": [
            "/usr/local/lib/python3.6/dist-packages/pandas/core/strings.py:1954: UserWarning: This pattern has match groups. To actually get the groups, use str.extract.\n",
            "  return func(self, *args, **kwargs)\n"
          ],
          "name": "stderr"
        }
      ]
    },
    {
      "cell_type": "code",
      "metadata": {
        "id": "iGEFwL8X854e",
        "colab_type": "code",
        "outputId": "75fe9e28-eadb-4b42-fc92-18e5d4a8b9ab",
        "colab": {
          "base_uri": "https://localhost:8080/",
          "height": 221
        }
      },
      "source": [
        "# example/testing\n",
        "for our_or in ors:\n",
        "  print({our_or: match_or(our_or)})\n"
      ],
      "execution_count": 0,
      "outputs": [
        {
          "output_type": "stream",
          "text": [
            "{' 220/19': {'exact': -220, 'or': -219, 'type': 'or'}}\n",
            "{' 12/1 BC': {'exact': -12, 'or': -11, 'type': 'or'}}\n",
            "{' 116/5 BC': {'exact': -116, 'or': -115, 'type': 'or'}}\n",
            "{' 229/30 or 230/1 AD ': {'exact': 229, 'or': 230, 'type': 'or'}}\n",
            "{' ante 336/5': {'exact': -336, 'or': -335, 'type': 'or'}}\n",
            "{' 204/3?': {'exact': -204, 'or': -203, 'type': 'or'}}\n",
            "{' 73/4 AD': {'exact': 73, 'or': 74, 'type': 'or'}}\n",
            "{' ca. 163/2 BC': {'exact': -163, 'or': -162, 'type': 'or'}}\n",
            "{' 128/127 BC ': {'exact': -128, 'or': -127, 'type': 'or'}}\n",
            "{' shortly after 208/7 BC (or 207/6) ': {'exact': -208, 'or': -207, 'type': 'or'}}\n",
            "{' 154/5 AD': {'exact': 154, 'or': 155, 'type': 'or'}}\n",
            "{' 66/7 AD': {'exact': 66, 'or': 67, 'type': 'or'}}\n"
          ],
          "name": "stdout"
        }
      ]
    },
    {
      "cell_type": "code",
      "metadata": {
        "id": "kemxIJc73BWt",
        "colab_type": "code",
        "outputId": "d7e95f0b-13f7-49af-ae3b-eaa5ed36b637",
        "colab": {
          "base_uri": "https://localhost:8080/",
          "height": 68
        }
      },
      "source": [
        "ors = PHI_by_500[PHI_by_500[\"raw_date\"].str.contains(\"(\\d+)(\\/)(\\d+)\")][\"raw_date\"].tolist()\n",
        "print(ors)"
      ],
      "execution_count": 0,
      "outputs": [
        {
          "output_type": "stream",
          "text": [
            "[' 220/19', ' 12/1 BC', ' 116/5 BC', ' 229/30 or 230/1 AD ', ' ante 336/5', ' 204/3?', ' 73/4 AD', ' ca. 163/2 BC', ' 128/127 BC ', ' shortly after 208/7 BC (or 207/6) ', ' 154/5 AD', ' 66/7 AD']\n"
          ],
          "name": "stdout"
        },
        {
          "output_type": "stream",
          "text": [
            "/usr/local/lib/python3.6/dist-packages/pandas/core/strings.py:1954: UserWarning: This pattern has match groups. To actually get the groups, use str.extract.\n",
            "  return func(self, *args, **kwargs)\n"
          ],
          "name": "stderr"
        }
      ]
    },
    {
      "cell_type": "markdown",
      "metadata": {
        "id": "XN8vR4hjH6hX",
        "colab_type": "text"
      },
      "source": [
        "# Under development"
      ]
    },
    {
      "cell_type": "code",
      "metadata": {
        "id": "JLLGvf1C2ycH",
        "colab_type": "code",
        "outputId": "94c63aec-c1d2-4aca-d6d9-e5f84ee43ac1",
        "colab": {
          "base_uri": "https://localhost:8080/",
          "height": 1000
        }
      },
      "source": [
        "PHI_by_500[PHI_by_500[\"raw_date\"].str.contains(\"/\")]"
      ],
      "execution_count": 0,
      "outputs": [
        {
          "output_type": "execute_result",
          "data": {
            "text/html": [
              "<div>\n",
              "<style scoped>\n",
              "    .dataframe tbody tr th:only-of-type {\n",
              "        vertical-align: middle;\n",
              "    }\n",
              "\n",
              "    .dataframe tbody tr th {\n",
              "        vertical-align: top;\n",
              "    }\n",
              "\n",
              "    .dataframe thead th {\n",
              "        text-align: right;\n",
              "    }\n",
              "</style>\n",
              "<table border=\"1\" class=\"dataframe\">\n",
              "  <thead>\n",
              "    <tr style=\"text-align: right;\">\n",
              "      <th></th>\n",
              "      <th>URL</th>\n",
              "      <th>Book</th>\n",
              "      <th>Text</th>\n",
              "      <th>hdr1</th>\n",
              "      <th>hdr2</th>\n",
              "      <th>tildeinfo</th>\n",
              "      <th>note</th>\n",
              "      <th>lines</th>\n",
              "      <th>metadata</th>\n",
              "      <th>data</th>\n",
              "      <th>filename</th>\n",
              "      <th>PHI_ID</th>\n",
              "      <th>raw_date</th>\n",
              "    </tr>\n",
              "  </thead>\n",
              "  <tbody>\n",
              "    <tr>\n",
              "      <th>1260</th>\n",
              "      <td>/text/231001?location=1365&amp;patt=&amp;bookid=394&amp;of...</td>\n",
              "      <td>Agora XV</td>\n",
              "      <td>130</td>\n",
              "      <td>Regions\\nAttica (IG I-III)\\nAttica</td>\n",
              "      <td>Agora XV\\n130</td>\n",
              "      <td>Att. — Athens: Agora — 220/19</td>\n",
              "      <td>{}</td>\n",
              "      <td>149</td>\n",
              "      <td>1\\n\\n\\n\\n5\\n\\n\\n\\n\\n10\\n\\n\\n\\n\\n15\\n\\n\\n\\n\\n20...</td>\n",
              "      <td>ἐπὶ Μενεκράτου ἄρχοντος ἐπὶ τῆς Οἰνεῖδος ἕκτη-...</td>\n",
              "      <td>Agora-XV.csv</td>\n",
              "      <td>231001</td>\n",
              "      <td>220/19</td>\n",
              "    </tr>\n",
              "    <tr>\n",
              "      <th>7001</th>\n",
              "      <td>/text/298501?location=1237&amp;patt=&amp;bookid=735&amp;of...</td>\n",
              "      <td>IDR III,1</td>\n",
              "      <td>153</td>\n",
              "      <td>Regions\\nThrace and the Lower Danube (IG X)\\nD...</td>\n",
              "      <td>IDR III,1\\n153</td>\n",
              "      <td>Dacia Sup. — Tibiscum (Jupa) — 2nd/3rd c. AD</td>\n",
              "      <td>{}</td>\n",
              "      <td>8</td>\n",
              "      <td>1\\n\\n\\n\\n5\\n\\n\\n</td>\n",
              "      <td>D(is) M(anibus)\\nP(ublius) Ael(ius) Claudia-\\n...</td>\n",
              "      <td>IDR-III-1.csv</td>\n",
              "      <td>298501</td>\n",
              "      <td>2nd/3rd c. AD</td>\n",
              "    </tr>\n",
              "    <tr>\n",
              "      <th>15498</th>\n",
              "      <td>/text/243501?location=1498&amp;patt=&amp;bookid=474&amp;of...</td>\n",
              "      <td>IGLSyr 4</td>\n",
              "      <td>1271B,g</td>\n",
              "      <td>Regions\\nGreater Syria and the East\\nSyria and...</td>\n",
              "      <td>IGLSyr 4\\n1271B,g</td>\n",
              "      <td>Syr., Laodik. — Laodicea — 12/1 BC</td>\n",
              "      <td>{}</td>\n",
              "      <td>2</td>\n",
              "      <td>1\\n</td>\n",
              "      <td>ζλʹ {²sc. ἔτους}², ἑκκα-\\nιδέκατον.</td>\n",
              "      <td>IGLSyr-4.csv</td>\n",
              "      <td>243501</td>\n",
              "      <td>12/1 BC</td>\n",
              "    </tr>\n",
              "    <tr>\n",
              "      <th>16567</th>\n",
              "      <td>/text/299501?location=1237&amp;patt=&amp;bookid=737&amp;of...</td>\n",
              "      <td>IDR III,3</td>\n",
              "      <td>182</td>\n",
              "      <td>Regions\\nThrace and the Lower Danube (IG X)\\nD...</td>\n",
              "      <td>IDR III,3\\n182</td>\n",
              "      <td>Dacia Sup. — Micia (Vețel)? — Chimindia — 2nd/...</td>\n",
              "      <td>{}</td>\n",
              "      <td>9</td>\n",
              "      <td>frg. a\\n\\n\\n\\n\\nfrg. b\\n\\n\\n</td>\n",
              "      <td>[— — — — — — — — — — — —]\\n[— —] quondam Pompo...</td>\n",
              "      <td>IDR-III-3.csv</td>\n",
              "      <td>299501</td>\n",
              "      <td>2nd/3rd c. AD</td>\n",
              "    </tr>\n",
              "    <tr>\n",
              "      <th>24698</th>\n",
              "      <td>/text/64501?location=915&amp;patt=&amp;bookid=1&amp;offset...</td>\n",
              "      <td>ID</td>\n",
              "      <td>2057</td>\n",
              "      <td>Regions\\nAegean Islands, incl. Crete (IG XI-[X...</td>\n",
              "      <td>ID\\n2057</td>\n",
              "      <td>Delos — 116/5 BC</td>\n",
              "      <td>{}</td>\n",
              "      <td>6</td>\n",
              "      <td>1\\n\\n\\n\\n5\\n</td>\n",
              "      <td>Διονύσιος\\nΔιονυσίου\\nΣφή&lt;τ&gt;τιος, ἱερεὺς\\nγενό...</td>\n",
              "      <td>ID.csv</td>\n",
              "      <td>64501</td>\n",
              "      <td>116/5 BC</td>\n",
              "    </tr>\n",
              "    <tr>\n",
              "      <th>35543</th>\n",
              "      <td>/text/217001?location=1497&amp;patt=&amp;bookid=362&amp;of...</td>\n",
              "      <td>Bernand, Inscr. Métr.</td>\n",
              "      <td>113</td>\n",
              "      <td>Regions\\nEgypt, Nubia and Cyrenaïca\\nEgypt and...</td>\n",
              "      <td>Bernand, Inscr. Métr.\\n113</td>\n",
              "      <td>Eg. — Naukratis (Kōm Giéif) — 3rd/2nd c. BC?</td>\n",
              "      <td>{}</td>\n",
              "      <td>4</td>\n",
              "      <td>1\\n\\n\\n</td>\n",
              "      <td>Νειλούσσης ἀλόχου τήνδ’ εἰκόνα Παρθενοπαί[ου]\\...</td>\n",
              "      <td>Bernand--Inscr.-M-tr..csv</td>\n",
              "      <td>217001</td>\n",
              "      <td>3rd/2nd c. BC?</td>\n",
              "    </tr>\n",
              "    <tr>\n",
              "      <th>38001</th>\n",
              "      <td>/text/228501?location=1497&amp;patt=&amp;bookid=389&amp;of...</td>\n",
              "      <td>Delta I</td>\n",
              "      <td>662,198</td>\n",
              "      <td>Regions\\nEgypt, Nubia and Cyrenaïca\\nEgypt and...</td>\n",
              "      <td>Delta I\\n662,198</td>\n",
              "      <td>Eg. — Naukratis — 6th/5th c. BC</td>\n",
              "      <td>{}</td>\n",
              "      <td>1</td>\n",
              "      <td>1</td>\n",
              "      <td>Κ̣α̣ρό̣φνης με ἀνέθηκε τἀπό̣[λλοˉνι το͂ι Μ]ιλα...</td>\n",
              "      <td>Delta-I.csv</td>\n",
              "      <td>228501</td>\n",
              "      <td>6th/5th c. BC</td>\n",
              "    </tr>\n",
              "    <tr>\n",
              "      <th>38501</th>\n",
              "      <td>/text/229001?location=1497&amp;patt=&amp;bookid=389&amp;of...</td>\n",
              "      <td>Delta I</td>\n",
              "      <td>712,699</td>\n",
              "      <td>Regions\\nEgypt, Nubia and Cyrenaïca\\nEgypt and...</td>\n",
              "      <td>Delta I\\n712,699</td>\n",
              "      <td>Eg. — Naukratis — 6th/5th c. BC</td>\n",
              "      <td>{}</td>\n",
              "      <td>1</td>\n",
              "      <td>1</td>\n",
              "      <td>[Ἀ]πόλλ[ωνός ἐˉμι].</td>\n",
              "      <td>Delta-I.csv</td>\n",
              "      <td>229001</td>\n",
              "      <td>6th/5th c. BC</td>\n",
              "    </tr>\n",
              "    <tr>\n",
              "      <th>58576</th>\n",
              "      <td>/text/291501?location=1&amp;patt=&amp;bookid=172&amp;offse...</td>\n",
              "      <td>SEG</td>\n",
              "      <td>21:506</td>\n",
              "      <td>Regions</td>\n",
              "      <td>SEG\\n21:506</td>\n",
              "      <td>Att. — 229/30 or 230/1 AD — IG II² 1064+</td>\n",
              "      <td>{}</td>\n",
              "      <td>69</td>\n",
              "      <td>\\n\\n\\nfrg. a.1\\n\\n\\n\\n5\\n\\n\\n\\n\\n10\\nfrg. b.10...</td>\n",
              "      <td>IG II(2) 1064+, Oliver, Hesp. Suppl. VI (1941)...</td>\n",
              "      <td>SEG.csv</td>\n",
              "      <td>291501</td>\n",
              "      <td>229/30 or 230/1 AD</td>\n",
              "    </tr>\n",
              "    <tr>\n",
              "      <th>60698</th>\n",
              "      <td>/text/152001?location=1&amp;patt=&amp;bookid=172&amp;offse...</td>\n",
              "      <td>SEG</td>\n",
              "      <td>26:759</td>\n",
              "      <td>Regions</td>\n",
              "      <td>SEG\\n26:759</td>\n",
              "      <td>Makedonia (Mygdonia) — Thessalonike — 2nd/3rd ...</td>\n",
              "      <td>{}</td>\n",
              "      <td>3</td>\n",
              "      <td>6\\n\\n</td>\n",
              "      <td>. . . εἰ δέ\\n[τις ἕτ]ε̣ρος κα-\\n[ταθῇ ἕτερον π...</td>\n",
              "      <td>SEG.csv</td>\n",
              "      <td>152001</td>\n",
              "      <td>2nd/3rd c. AD</td>\n",
              "    </tr>\n",
              "    <tr>\n",
              "      <th>62919</th>\n",
              "      <td>/text/226501?location=1&amp;patt=&amp;bookid=172&amp;offse...</td>\n",
              "      <td>SEG</td>\n",
              "      <td>28:1530</td>\n",
              "      <td>Regions</td>\n",
              "      <td>SEG\\n28:1530</td>\n",
              "      <td>Eg. — Terenouthis (Kōm Abu Bellou) — 3rd/4th c...</td>\n",
              "      <td>{}</td>\n",
              "      <td>3</td>\n",
              "      <td>1\\n\\n</td>\n",
              "      <td>ἐνθάδε κεῖται\\nγυνὴ πάνυ σώφρων Ἀρτεμιδώρα\\nεὐ...</td>\n",
              "      <td>SEG.csv</td>\n",
              "      <td>226501</td>\n",
              "      <td>3rd/4th c. AD</td>\n",
              "    </tr>\n",
              "    <tr>\n",
              "      <th>88162</th>\n",
              "      <td>/text/2501?location=1365&amp;patt=&amp;bookid=5&amp;offset...</td>\n",
              "      <td>IG II²</td>\n",
              "      <td>284</td>\n",
              "      <td>Regions\\nAttica (IG I-III)\\nAttica</td>\n",
              "      <td>IG II²\\n284</td>\n",
              "      <td>Att. — stoich. 28 — ante 336/5</td>\n",
              "      <td>{}</td>\n",
              "      <td>17</td>\n",
              "      <td>1\\n\\n\\n\\n5\\n\\n\\n\\n\\n10\\n\\n\\n\\n\\n15\\n\\n</td>\n",
              "      <td>․․․7․․․#⁷#⁷#⁷․․․․․․․․18․․․․․․․․\\n․․․κράτης κα[...</td>\n",
              "      <td>IG-II-.csv</td>\n",
              "      <td>2501</td>\n",
              "      <td>ante 336/5</td>\n",
              "    </tr>\n",
              "    <tr>\n",
              "      <th>88662</th>\n",
              "      <td>/text/3001?location=1365&amp;patt=&amp;bookid=5&amp;offset...</td>\n",
              "      <td>IG II²</td>\n",
              "      <td>783</td>\n",
              "      <td>Regions\\nAttica (IG I-III)\\nAttica</td>\n",
              "      <td>IG II²\\n783</td>\n",
              "      <td>Att. — non-stoich. — 204/3?</td>\n",
              "      <td>{}</td>\n",
              "      <td>10</td>\n",
              "      <td>1\\n\\n\\n\\n5\\n\\n\\n\\n\\n10</td>\n",
              "      <td>[ἐπὶ — — — ἄρ]χοντος ἐπὶ τῆς Αἰαντίδος δωδεκάτ...</td>\n",
              "      <td>IG-II-.csv</td>\n",
              "      <td>3001</td>\n",
              "      <td>204/3?</td>\n",
              "    </tr>\n",
              "    <tr>\n",
              "      <th>90162</th>\n",
              "      <td>/text/4501?location=1365&amp;patt=&amp;bookid=5&amp;offset...</td>\n",
              "      <td>IG II²</td>\n",
              "      <td>2266</td>\n",
              "      <td>Regions\\nAttica (IG I-III)\\nAttica</td>\n",
              "      <td>IG II²\\n2266</td>\n",
              "      <td>Att. — [s. II/III p.]</td>\n",
              "      <td>{}</td>\n",
              "      <td>11</td>\n",
              "      <td>col. I.1\\n\\n\\n\\n5\\n\\n\\n\\ncol. II.5a\\n6a\\n7a</td>\n",
              "      <td>[στρατη]γό[ς]\\n— — — Βιέ(σιος) — —\\n[κῆ]ρυξ\\n[...</td>\n",
              "      <td>IG-II-.csv</td>\n",
              "      <td>4501</td>\n",
              "      <td>[s. II/III p.]</td>\n",
              "    </tr>\n",
              "    <tr>\n",
              "      <th>103790</th>\n",
              "      <td>/text/242501?location=1498&amp;patt=&amp;bookid=469&amp;of...</td>\n",
              "      <td>IGLSyr 2</td>\n",
              "      <td>427</td>\n",
              "      <td>Regions\\nGreater Syria and the East\\nSyria and...</td>\n",
              "      <td>IGLSyr 2\\n427</td>\n",
              "      <td>Syr., Antioch. — Refādé — 73/4 AD</td>\n",
              "      <td>{}</td>\n",
              "      <td>3</td>\n",
              "      <td>1\\n\\n</td>\n",
              "      <td>ἔτους βκρ Α— —\\n— —δωνις {²⁷Ἀ[φ|λα]δωνις?}²⁷ Β...</td>\n",
              "      <td>IGLSyr-2.csv</td>\n",
              "      <td>242501</td>\n",
              "      <td>73/4 AD</td>\n",
              "    </tr>\n",
              "    <tr>\n",
              "      <th>113220</th>\n",
              "      <td>/text/237501?location=1&amp;patt=&amp;bookid=332&amp;offse...</td>\n",
              "      <td>Polemon</td>\n",
              "      <td>4 (1949-51) 35,37b</td>\n",
              "      <td>Regions</td>\n",
              "      <td>Polemon\\n4 (1949-51) 35,37b</td>\n",
              "      <td>Att. — Athens: Nea Liosia — 1st/2nd c. AD</td>\n",
              "      <td>{}</td>\n",
              "      <td>4</td>\n",
              "      <td>1\\n\\n\\n</td>\n",
              "      <td>Γνάθιον\\nΔορκύλου\\nΠειραιέως\\nθυγάτηρ.</td>\n",
              "      <td>Polemon.csv</td>\n",
              "      <td>237501</td>\n",
              "      <td>1st/2nd c. AD</td>\n",
              "    </tr>\n",
              "    <tr>\n",
              "      <th>118743</th>\n",
              "      <td>/text/234001?location=1365&amp;patt=&amp;bookid=400&amp;of...</td>\n",
              "      <td>Agora XXI</td>\n",
              "      <td>I 18</td>\n",
              "      <td>Regions\\nAttica (IG I-III)\\nAttica</td>\n",
              "      <td>Agora XXI\\nI 18</td>\n",
              "      <td>Att. — Athens: Agora — non-stoich. — fin. s. V...</td>\n",
              "      <td>{}</td>\n",
              "      <td>3</td>\n",
              "      <td>1\\n\\n</td>\n",
              "      <td>ἐπινε(ήσεως) ιʹ\\nχω(ρίου) ἀγορέ(ου)\\nξ(έσται) ιʹ</td>\n",
              "      <td>Agora-XXI.csv</td>\n",
              "      <td>234001</td>\n",
              "      <td>fin. s. V/VI p.</td>\n",
              "    </tr>\n",
              "    <tr>\n",
              "      <th>121772</th>\n",
              "      <td>/text/172501?location=12&amp;patt=&amp;bookid=197&amp;offs...</td>\n",
              "      <td>IGLRom</td>\n",
              "      <td>310</td>\n",
              "      <td>Regions\\nThrace and the Lower Danube (IG X)</td>\n",
              "      <td>IGLRom\\n310</td>\n",
              "      <td>Dacia — Sucidava (Corabia) — 5th/6th c. AD</td>\n",
              "      <td>{}</td>\n",
              "      <td>1</td>\n",
              "      <td>1</td>\n",
              "      <td>[— —]ΑΗ[— —]</td>\n",
              "      <td>IGLRom.csv</td>\n",
              "      <td>172501</td>\n",
              "      <td>5th/6th c. AD</td>\n",
              "    </tr>\n",
              "    <tr>\n",
              "      <th>125947</th>\n",
              "      <td>/text/138001?location=1311&amp;patt=&amp;bookid=14&amp;off...</td>\n",
              "      <td>IG X,2 1</td>\n",
              "      <td>813</td>\n",
              "      <td>Regions\\nNorthern Greece (IG X)\\nMacedonia</td>\n",
              "      <td>IG X,2 1\\n813</td>\n",
              "      <td>Makedonia (Mygdonia) — Thessalonike — 2nd/3rd ...</td>\n",
              "      <td>{}</td>\n",
              "      <td>4</td>\n",
              "      <td>1\\n\\n\\n</td>\n",
              "      <td>Αὐία ∙ Τερτία καὶ Αἴλιος Τε-\\nλεσφόρος Εὐχαρίῳ...</td>\n",
              "      <td>IG-X-2-1.csv</td>\n",
              "      <td>138001</td>\n",
              "      <td>2nd/3rd c. AD</td>\n",
              "    </tr>\n",
              "    <tr>\n",
              "      <th>129476</th>\n",
              "      <td>/text/43501?location=1&amp;patt=&amp;bookid=9&amp;offset=7...</td>\n",
              "      <td>IG IX,1²</td>\n",
              "      <td>3:631</td>\n",
              "      <td>Regions</td>\n",
              "      <td>IG IX,1²\\n3:631</td>\n",
              "      <td>Lokris, W. — Naupaktos — ca. 163/2 BC</td>\n",
              "      <td>{}</td>\n",
              "      <td>14</td>\n",
              "      <td>1\\n\\n\\n\\n5\\n\\n\\n\\n\\n10\\n\\n\\n\\n</td>\n",
              "      <td>στραταγέοντος Τεισίππ-\\nου Τριχονέος, μηνὸς Ἀθ...</td>\n",
              "      <td>IG-IX-1-.csv</td>\n",
              "      <td>43501</td>\n",
              "      <td>ca. 163/2 BC</td>\n",
              "    </tr>\n",
              "    <tr>\n",
              "      <th>141613</th>\n",
              "      <td>/text/82001?location=6&amp;patt=&amp;bookid=25&amp;offset=...</td>\n",
              "      <td>IG XII Suppl.</td>\n",
              "      <td>659</td>\n",
              "      <td>Regions\\nAegean Islands, incl. Crete (IG XI-[X...</td>\n",
              "      <td>IG XII Suppl.\\n659</td>\n",
              "      <td>Euboia — Chalkis — 3rd/2nd c. BC</td>\n",
              "      <td>{}</td>\n",
              "      <td>2</td>\n",
              "      <td>1\\n</td>\n",
              "      <td>Ξεννὼ\\nΞένωνος.</td>\n",
              "      <td>IG-XII-Suppl..csv</td>\n",
              "      <td>82001</td>\n",
              "      <td>3rd/2nd c. BC</td>\n",
              "    </tr>\n",
              "    <tr>\n",
              "      <th>149439</th>\n",
              "      <td>/text/81501?location=1643&amp;patt=&amp;bookid=24&amp;offs...</td>\n",
              "      <td>IG XII,9</td>\n",
              "      <td>914</td>\n",
              "      <td>Regions\\nAegean Islands, incl. Crete (IG XI-[X...</td>\n",
              "      <td>IG XII,9\\n914</td>\n",
              "      <td>Euboia — Chalkis — 1st/2nd c. AD</td>\n",
              "      <td>{}</td>\n",
              "      <td>11</td>\n",
              "      <td>frg. a.1\\n\\n\\n\\n5\\n\\nfrg. b.1\\n\\n\\n\\n5</td>\n",
              "      <td>[— — — — —]ι̣ς\\n[— — — —]λης\\n[— — —]φάνης\\n[Ἀ...</td>\n",
              "      <td>IG-XII-9.csv</td>\n",
              "      <td>81501</td>\n",
              "      <td>1st/2nd c. AD</td>\n",
              "    </tr>\n",
              "    <tr>\n",
              "      <th>156116</th>\n",
              "      <td>/text/138501?location=1311&amp;patt=&amp;bookid=15&amp;off...</td>\n",
              "      <td>IG X,2 2</td>\n",
              "      <td>267</td>\n",
              "      <td>Regions\\nNorthern Greece (IG X)\\nMacedonia</td>\n",
              "      <td>IG X,2 2\\n267</td>\n",
              "      <td>Makedonia (Pelagonia) — Nebregovo — 2nd/3rd c....</td>\n",
              "      <td>{}</td>\n",
              "      <td>1</td>\n",
              "      <td>1</td>\n",
              "      <td>ΩϹ․ΜΗ․․․․․Ϲ[—]Ο․</td>\n",
              "      <td>IG-X-2-2.csv</td>\n",
              "      <td>138501</td>\n",
              "      <td>2nd/3rd c. AD</td>\n",
              "    </tr>\n",
              "    <tr>\n",
              "      <th>156459</th>\n",
              "      <td>/text/238501?location=1316&amp;patt=&amp;bookid=445&amp;of...</td>\n",
              "      <td>CID</td>\n",
              "      <td>3:2</td>\n",
              "      <td>Regions\\nCentral Greece (IG VII-IX)\\nDelphi</td>\n",
              "      <td>CID\\n3:2</td>\n",
              "      <td>Phokis — Delphi — 128/127 BC — FD 3:2.138</td>\n",
              "      <td>{}</td>\n",
              "      <td>41</td>\n",
              "      <td>1\\ncol. I.strophe I.1\\n\\n\\n\\n5\\n\\n\\nstrophe II...</td>\n",
              "      <td>[πα]ι̣ὰν δὲ καὶ π[ροσό]δ̣ιον εἰς τ[ὸν θεὸν ὃ ἐ...</td>\n",
              "      <td>CID.csv</td>\n",
              "      <td>238501</td>\n",
              "      <td>128/127 BC</td>\n",
              "    </tr>\n",
              "    <tr>\n",
              "      <th>159200</th>\n",
              "      <td>/text/167501?location=941&amp;patt=&amp;bookid=195&amp;off...</td>\n",
              "      <td>Perinthos-Herakleia</td>\n",
              "      <td>287</td>\n",
              "      <td>Regions\\nThrace and the Lower Danube (IG X)\\nT...</td>\n",
              "      <td>Perinthos-Herakleia\\n287</td>\n",
              "      <td>Thrace — Perinthos-Herakleia (Marmara Ereğlisi...</td>\n",
              "      <td>{}</td>\n",
              "      <td>4</td>\n",
              "      <td>1\\n\\n\\n</td>\n",
              "      <td>βαίνων ὦ πα[ροδεῖτα — —]\\nἌϊδι κεύθουσαν Π̣[— ...</td>\n",
              "      <td>Perinthos-Herakleia.csv</td>\n",
              "      <td>167501</td>\n",
              "      <td>2nd/3rd c. AD</td>\n",
              "    </tr>\n",
              "    <tr>\n",
              "      <th>160743</th>\n",
              "      <td>/text/201001?location=1362&amp;patt=&amp;bookid=293&amp;of...</td>\n",
              "      <td>IC IV</td>\n",
              "      <td>551</td>\n",
              "      <td>Regions\\nAegean Islands, incl. Crete (IG XI-[X...</td>\n",
              "      <td>IC IV\\n551</td>\n",
              "      <td>Crete, Ctr. — Gortyna — 2nd/1st c. BC</td>\n",
              "      <td>{}</td>\n",
              "      <td>10</td>\n",
              "      <td>\\n1\\n\\n\\n\\n5\\n\\n\\n\\n</td>\n",
              "      <td>[— — — — — — —]\\n[— —]․[— — — —]\\n[— —]ΟΜΝ[— —...</td>\n",
              "      <td>IC-IV.csv</td>\n",
              "      <td>201001</td>\n",
              "      <td>2nd/1st c. BC</td>\n",
              "    </tr>\n",
              "    <tr>\n",
              "      <th>163132</th>\n",
              "      <td>/text/29001?location=233&amp;patt=&amp;bookid=7&amp;offset...</td>\n",
              "      <td>IG IV²,1</td>\n",
              "      <td>561</td>\n",
              "      <td>Regions\\nPeloponnesos (IG IV-[VI])\\nEpidauria ...</td>\n",
              "      <td>IG IV²,1\\n561</td>\n",
              "      <td>Epidauria — Epidauros — 1st/2nd c. AD</td>\n",
              "      <td>{}</td>\n",
              "      <td>3</td>\n",
              "      <td>1\\n\\n</td>\n",
              "      <td>Τελεσφόρωι Σωτῆρι\\nΦάβουλλος ∙ ἐξ ὀνείρατος\\nτ...</td>\n",
              "      <td>IG-IV--1.csv</td>\n",
              "      <td>29001</td>\n",
              "      <td>1st/2nd c. AD</td>\n",
              "    </tr>\n",
              "    <tr>\n",
              "      <th>171514</th>\n",
              "      <td>/text/178501?location=1308&amp;patt=&amp;bookid=219&amp;of...</td>\n",
              "      <td>JIWE 2</td>\n",
              "      <td>290</td>\n",
              "      <td>Regions\\nSicily, Italy, and the West (IG XIV)\\...</td>\n",
              "      <td>JIWE 2\\n290</td>\n",
              "      <td>Italia — Roma: Vigna Randanini — 3rd/4th c. AD...</td>\n",
              "      <td>{}</td>\n",
              "      <td>6</td>\n",
              "      <td>1\\n\\n\\n\\n5\\n</td>\n",
              "      <td>Φλάβιος Ἰουλι-\\nανὸς ὑπηρέτης·\\nΦλαβία Ἰουλιάν...</td>\n",
              "      <td>JIWE-2.csv</td>\n",
              "      <td>178501</td>\n",
              "      <td>3rd/4th c. AD?</td>\n",
              "    </tr>\n",
              "    <tr>\n",
              "      <th>179727</th>\n",
              "      <td>/text/298001?location=1237&amp;patt=&amp;bookid=734&amp;of...</td>\n",
              "      <td>IDR II</td>\n",
              "      <td>400</td>\n",
              "      <td>Regions\\nThrace and the Lower Danube (IG X)\\nD...</td>\n",
              "      <td>IDR II\\n400</td>\n",
              "      <td>Dacia Inf. — Romula-Malva (Reșca) — 2nd/3rd c. AD</td>\n",
              "      <td>{}</td>\n",
              "      <td>1</td>\n",
              "      <td>1</td>\n",
              "      <td>[T]urranis.</td>\n",
              "      <td>IDR-II.csv</td>\n",
              "      <td>298001</td>\n",
              "      <td>2nd/3rd c. AD</td>\n",
              "    </tr>\n",
              "    <tr>\n",
              "      <th>183986</th>\n",
              "      <td>/text/194001?location=21&amp;patt=&amp;bookid=279&amp;offs...</td>\n",
              "      <td>Gonnoi II</td>\n",
              "      <td>213</td>\n",
              "      <td>Regions\\nCentral Greece (IG VII-IX)\\nThessaly ...</td>\n",
              "      <td>Gonnoi II\\n213</td>\n",
              "      <td>Thessalia (Perrhaibia) — Gonnoi — Kondylos (Ze...</td>\n",
              "      <td>Funerary epigram. Upper right corner of a whit...</td>\n",
              "      <td>19</td>\n",
              "      <td>1\\n\\n\\n\\n5\\n\\n\\n\\n\\n10\\n\\n\\n\\n\\n15\\n\\n\\n\\n</td>\n",
              "      <td>[— — — — — —]Λ̣Λ̣ΟΣΗΣΤΑΣ̣Η[․․․․]\\n[— — — — λ]υ...</td>\n",
              "      <td>Gonnoi-II.csv</td>\n",
              "      <td>194001</td>\n",
              "      <td>1st/2nd c. AD</td>\n",
              "    </tr>\n",
              "    <tr>\n",
              "      <th>193690</th>\n",
              "      <td>/text/290001?location=14&amp;patt=&amp;bookid=717&amp;offs...</td>\n",
              "      <td>IMT Siegelinschr</td>\n",
              "      <td>2935</td>\n",
              "      <td>Regions\\nAsia Minor</td>\n",
              "      <td>IMT Siegelinschr\\n2935</td>\n",
              "      <td>Mys.: Kyzikene, Kapu Dağ — Kyzikos — 6.-7.Jh.n...</td>\n",
              "      <td>{}</td>\n",
              "      <td>1</td>\n",
              "      <td>1</td>\n",
              "      <td>ἁγίας ἐκκλησίας Κυζίκου.</td>\n",
              "      <td>IMT-Siegelinschr.csv</td>\n",
              "      <td>290001</td>\n",
              "      <td>Laurent, Corpus V 357bis/1702</td>\n",
              "    </tr>\n",
              "    <tr>\n",
              "      <th>193960</th>\n",
              "      <td>/text/152501?location=1311&amp;patt=&amp;bookid=153&amp;of...</td>\n",
              "      <td>Hatzopoulos, Mac. Inst. II</td>\n",
              "      <td>53</td>\n",
              "      <td>Regions\\nNorthern Greece (IG X)\\nMacedonia</td>\n",
              "      <td>Hatzopoulos, Mac. Inst. II\\n53</td>\n",
              "      <td>Makedonia (Krestonia) — Morrylos (Ano Apostolo...</td>\n",
              "      <td>{}</td>\n",
              "      <td>24</td>\n",
              "      <td>1\\n\\n\\n\\n5\\n\\n\\n\\n\\n10\\n\\n\\n\\n\\n15\\n\\n\\n\\n\\n20...</td>\n",
              "      <td>[Ε]ὔξενος Σάμου, Μένανδρος Ὁλωίχου,\\nΝικάνωρ Π...</td>\n",
              "      <td>Hatzopoulos--Mac.-Inst.-II.csv</td>\n",
              "      <td>152501</td>\n",
              "      <td>shortly after 208/7 BC (or 207/6)</td>\n",
              "    </tr>\n",
              "    <tr>\n",
              "      <th>199352</th>\n",
              "      <td>/text/263501?location=1223&amp;patt=&amp;bookid=534&amp;of...</td>\n",
              "      <td>TAM V,1</td>\n",
              "      <td>106</td>\n",
              "      <td>Regions\\nAsia Minor\\nLydia</td>\n",
              "      <td>TAM V,1\\n106</td>\n",
              "      <td>Lyd., N.E. — Saittai (Sidasharabeleri) — Çaykö...</td>\n",
              "      <td>{}</td>\n",
              "      <td>8</td>\n",
              "      <td>1\\n\\n\\n\\n5\\n\\n\\n</td>\n",
              "      <td>ἔτους σλθʹ, μη(νὸς) Γορπιαί-\\nου γʹ. Γλύκων κα...</td>\n",
              "      <td>TAM-V-1.csv</td>\n",
              "      <td>263501</td>\n",
              "      <td>154/5 AD</td>\n",
              "    </tr>\n",
              "    <tr>\n",
              "      <th>199852</th>\n",
              "      <td>/text/264001?location=1223&amp;patt=&amp;bookid=534&amp;of...</td>\n",
              "      <td>TAM V,1</td>\n",
              "      <td>577</td>\n",
              "      <td>Regions\\nAsia Minor\\nLydia</td>\n",
              "      <td>TAM V,1\\n577</td>\n",
              "      <td>Lyd., N.E. — Maionia (Gökçeören-Menye) — Eseny...</td>\n",
              "      <td>{}</td>\n",
              "      <td>7</td>\n",
              "      <td>\\n1\\n\\n\\n\\n5\\n</td>\n",
              "      <td>[— — —]\\nρείτῃ #⁹⁰¹ ε[․․․․]\\nἩρακλείδης Με-\\nν...</td>\n",
              "      <td>TAM-V-1.csv</td>\n",
              "      <td>264001</td>\n",
              "      <td>66/7 AD</td>\n",
              "    </tr>\n",
              "    <tr>\n",
              "      <th>206309</th>\n",
              "      <td>/text/213501?location=1002&amp;patt=&amp;bookid=321&amp;of...</td>\n",
              "      <td>Rizakis, Achaïe II</td>\n",
              "      <td>80</td>\n",
              "      <td>Regions\\nPeloponnesos (IG IV-[VI])\\nAchaia</td>\n",
              "      <td>Rizakis, Achaïe II\\n80</td>\n",
              "      <td>Achaia — Patrai (Patras) — 1st c. BC/1st c. AD...</td>\n",
              "      <td>{}</td>\n",
              "      <td>4</td>\n",
              "      <td>1\\n\\n\\n</td>\n",
              "      <td>Σάλβιος Παν-\\nκράτους ὁ\\nκαὶ Πομπήιος,\\nχαῖρε.</td>\n",
              "      <td>Rizakis--Acha-e-II.csv</td>\n",
              "      <td>213501</td>\n",
              "      <td>1st c. BC/1st c. AD</td>\n",
              "    </tr>\n",
              "    <tr>\n",
              "      <th>213826</th>\n",
              "      <td>/text/299001?location=1237&amp;patt=&amp;bookid=736&amp;of...</td>\n",
              "      <td>IDR III,2</td>\n",
              "      <td>310</td>\n",
              "      <td>Regions\\nThrace and the Lower Danube (IG X)\\nD...</td>\n",
              "      <td>IDR III,2\\n310</td>\n",
              "      <td>Dacia Sup. — Ulpia Traiana-Sarmizegetusa — 2nd...</td>\n",
              "      <td>{}</td>\n",
              "      <td>3</td>\n",
              "      <td>1\\n\\n</td>\n",
              "      <td>[— Au]rel(ius) S[— — — pro sal(ute) sua]\\n[et(...</td>\n",
              "      <td>IDR-III-2.csv</td>\n",
              "      <td>299001</td>\n",
              "      <td>2nd/3rd c. AD</td>\n",
              "    </tr>\n",
              "  </tbody>\n",
              "</table>\n",
              "</div>"
            ],
            "text/plain": [
              "                                                      URL  ...                             raw_date\n",
              "1260    /text/231001?location=1365&patt=&bookid=394&of...  ...                               220/19\n",
              "7001    /text/298501?location=1237&patt=&bookid=735&of...  ...                        2nd/3rd c. AD\n",
              "15498   /text/243501?location=1498&patt=&bookid=474&of...  ...                              12/1 BC\n",
              "16567   /text/299501?location=1237&patt=&bookid=737&of...  ...                       2nd/3rd c. AD \n",
              "24698   /text/64501?location=915&patt=&bookid=1&offset...  ...                             116/5 BC\n",
              "35543   /text/217001?location=1497&patt=&bookid=362&of...  ...                       3rd/2nd c. BC?\n",
              "38001   /text/228501?location=1497&patt=&bookid=389&of...  ...                        6th/5th c. BC\n",
              "38501   /text/229001?location=1497&patt=&bookid=389&of...  ...                        6th/5th c. BC\n",
              "58576   /text/291501?location=1&patt=&bookid=172&offse...  ...                  229/30 or 230/1 AD \n",
              "60698   /text/152001?location=1&patt=&bookid=172&offse...  ...                       2nd/3rd c. AD \n",
              "62919   /text/226501?location=1&patt=&bookid=172&offse...  ...                       3rd/4th c. AD \n",
              "88162   /text/2501?location=1365&patt=&bookid=5&offset...  ...                           ante 336/5\n",
              "88662   /text/3001?location=1365&patt=&bookid=5&offset...  ...                               204/3?\n",
              "90162   /text/4501?location=1365&patt=&bookid=5&offset...  ...                       [s. II/III p.]\n",
              "103790  /text/242501?location=1498&patt=&bookid=469&of...  ...                              73/4 AD\n",
              "113220  /text/237501?location=1&patt=&bookid=332&offse...  ...                        1st/2nd c. AD\n",
              "118743  /text/234001?location=1365&patt=&bookid=400&of...  ...                      fin. s. V/VI p.\n",
              "121772  /text/172501?location=12&patt=&bookid=197&offs...  ...                        5th/6th c. AD\n",
              "125947  /text/138001?location=1311&patt=&bookid=14&off...  ...                        2nd/3rd c. AD\n",
              "129476  /text/43501?location=1&patt=&bookid=9&offset=7...  ...                         ca. 163/2 BC\n",
              "141613  /text/82001?location=6&patt=&bookid=25&offset=...  ...                        3rd/2nd c. BC\n",
              "149439  /text/81501?location=1643&patt=&bookid=24&offs...  ...                        1st/2nd c. AD\n",
              "156116  /text/138501?location=1311&patt=&bookid=15&off...  ...                       2nd/3rd c. AD \n",
              "156459  /text/238501?location=1316&patt=&bookid=445&of...  ...                          128/127 BC \n",
              "159200  /text/167501?location=941&patt=&bookid=195&off...  ...                       2nd/3rd c. AD \n",
              "160743  /text/201001?location=1362&patt=&bookid=293&of...  ...                        2nd/1st c. BC\n",
              "163132  /text/29001?location=233&patt=&bookid=7&offset...  ...                        1st/2nd c. AD\n",
              "171514  /text/178501?location=1308&patt=&bookid=219&of...  ...                      3rd/4th c. AD? \n",
              "179727  /text/298001?location=1237&patt=&bookid=734&of...  ...                        2nd/3rd c. AD\n",
              "183986  /text/194001?location=21&patt=&bookid=279&offs...  ...                        1st/2nd c. AD\n",
              "193690  /text/290001?location=14&patt=&bookid=717&offs...  ...        Laurent, Corpus V 357bis/1702\n",
              "193960  /text/152501?location=1311&patt=&bookid=153&of...  ...   shortly after 208/7 BC (or 207/6) \n",
              "199352  /text/263501?location=1223&patt=&bookid=534&of...  ...                             154/5 AD\n",
              "199852  /text/264001?location=1223&patt=&bookid=534&of...  ...                              66/7 AD\n",
              "206309  /text/213501?location=1002&patt=&bookid=321&of...  ...                 1st c. BC/1st c. AD \n",
              "213826  /text/299001?location=1237&patt=&bookid=736&of...  ...                        2nd/3rd c. AD\n",
              "\n",
              "[36 rows x 13 columns]"
            ]
          },
          "metadata": {
            "tags": []
          },
          "execution_count": 35
        }
      ]
    },
    {
      "cell_type": "code",
      "metadata": {
        "id": "HVqC9c7F1-gC",
        "colab_type": "code",
        "colab": {}
      },
      "source": [
        "re.match(\"\")"
      ],
      "execution_count": 0,
      "outputs": []
    },
    {
      "cell_type": "code",
      "metadata": {
        "id": "WuZGaA34GdBy",
        "colab_type": "code",
        "colab": {}
      },
      "source": [
        "set_with_dataframe(PHI_overview.add_worksheet(\"PHI_by_500_dates_v1\", 1, 1), PHI_by_500)"
      ],
      "execution_count": 0,
      "outputs": []
    },
    {
      "cell_type": "code",
      "metadata": {
        "id": "Zys-5WOT7qeQ",
        "colab_type": "code",
        "colab": {}
      },
      "source": [
        ""
      ],
      "execution_count": 0,
      "outputs": []
    }
  ]
}