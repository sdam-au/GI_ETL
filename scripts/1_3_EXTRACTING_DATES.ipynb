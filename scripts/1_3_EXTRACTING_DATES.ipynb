{
  "nbformat": 4,
  "nbformat_minor": 0,
  "metadata": {
    "colab": {
      "name": "1_3_EXTRACTING_DATES.ipynb",
      "provenance": [],
      "collapsed_sections": [
        "sMVLLV3VZ8AQ",
        "QpEfYagozs_0",
        "2bV1j_tDHhsy"
      ],
      "toc_visible": true,
      "include_colab_link": true
    },
    "kernelspec": {
      "name": "python3",
      "display_name": "Python 3"
    }
  },
  "cells": [
    {
      "cell_type": "markdown",
      "metadata": {
        "id": "view-in-github",
        "colab_type": "text"
      },
      "source": [
        "<a href=\"https://colab.research.google.com/github/sdam-au/PHI_ETL/blob/master/scripts/1_3_EXTRACTING_DATES.ipynb\" target=\"_parent\"><img src=\"https://colab.research.google.com/assets/colab-badge.svg\" alt=\"Open In Colab\"/></a>"
      ]
    },
    {
      "cell_type": "markdown",
      "metadata": {
        "id": "vhWC0rHNkwrI",
        "colab_type": "text"
      },
      "source": [
        "# Introduction\n",
        "\n",
        "This script contains a series of functions for extracting numerical dates (e.g. as an interval 101-200) from a historical dataset experessing this information in a textual form (e.g. \"2nd c. AD\"). The functions have been developed especially for extracting dates from the PHI dataset, but might be reused for other applications.\n",
        "\n",
        "In the core of the script is the function `date_extractor()`. This function takes as an input a textual date (e.g. \"s. III/II p.\" [= \"2nd c. BC\"]) and returns a dictionary of dating values, e.g:\n",
        "```python\n",
        "{\"start\" : -300, \"stop\" : -101, \"type\": \"range+cent+morece\"}\n",
        "```\n",
        "where `\"type\"` contains tags specifying what kind of dating it is: `range` means that it is an interval; `cent` means that the interval is based on information about centuries; and `morece` implies that there is more than one century.\n",
        "\n",
        "`date_extractor()` relies upon a number of other functions designed to extract individual types of dates:\n",
        "* `extract_ante_and_post(datation, dating)` looks for words like \"post\" and \"ante\", \"not before\" etc. and modifies the numerical dating (in `dating` dictionary) accordingly. E.g. \"ante 305BC\" means all years before the stop year `-305`; \"not before the reign of Trajan\" means all years after `97`\n",
        "*  `extract_period(datation)` checks whether the textual datation contains a period (like \"reign of Tiberius\") which could be translated into an interval (14-37).\n",
        "* `parse_centuries()` extract intervals for individual centuries. It deals with cases in which more centuries are present (e.g. \"s. III/II a.\") and even where one is BC and another AD (e.g. \"1st c. BC-1st c. AD\")\n",
        "* `modify_by_phase(datation, dating)` modify the ranges in `dating` by evaluating presence of words like \"beginning\", \"early\", \"late\" and \"end\". We use these parameters:\n",
        "  * \"beginning\": first 10% of the range (defined by \"start\" and \"stop\" in the `dating` dictionary)\n",
        "  * \"early\": first 25% of the range\n",
        "  * \"late\": last 25% of the range\n",
        "  * \"end\": last 10% of the range\n",
        "  * \"ca.\": extends the range by adding 10% on the left and 10% on the right\n"
      ]
    },
    {
      "cell_type": "markdown",
      "metadata": {
        "id": "yhyBq3wOfMFv",
        "colab_type": "text"
      },
      "source": [
        "# Requirements"
      ]
    },
    {
      "cell_type": "code",
      "metadata": {
        "id": "JcNeUMCflzF8",
        "colab_type": "code",
        "colab": {}
      },
      "source": [
        "import numpy as np\n",
        "import math\n",
        "import pandas as pd\n",
        "import re\n",
        "\n",
        "import sys\n",
        "import requests\n",
        "from bs4 import BeautifulSoup\n",
        "import json\n",
        "\n",
        "import datetime as dt\n",
        "# for simple paralel computing:\n",
        "from concurrent.futures import ThreadPoolExecutor\n",
        "\n",
        "import gspread\n",
        "from gspread_dataframe import get_as_dataframe, set_with_dataframe\n",
        "from google.colab import auth\n",
        "from oauth2client.client import GoogleCredentials"
      ],
      "execution_count": 1,
      "outputs": []
    },
    {
      "cell_type": "code",
      "metadata": {
        "id": "YnxNQl_rN1WU",
        "colab_type": "code",
        "colab": {
          "base_uri": "https://localhost:8080/",
          "height": 340
        },
        "outputId": "92a8f62b-d740-4666-fc76-a3ccb2782c36"
      },
      "source": [
        "# our own package for reading the data\n",
        "!pip install sddk\n",
        "import sddk"
      ],
      "execution_count": 2,
      "outputs": [
        {
          "output_type": "stream",
          "text": [
            "Collecting sddk\n",
            "  Downloading https://files.pythonhosted.org/packages/bf/96/3ae43f2d8ac06fc16ba111916970e5a1f3b96a3e41732fa3f099e2e5cd1c/sddk-2.6-py3-none-any.whl\n",
            "Requirement already satisfied: matplotlib in /usr/local/lib/python3.6/dist-packages (from sddk) (3.2.1)\n",
            "Requirement already satisfied: requests in /usr/local/lib/python3.6/dist-packages (from sddk) (2.23.0)\n",
            "Requirement already satisfied: numpy in /usr/local/lib/python3.6/dist-packages (from sddk) (1.18.5)\n",
            "Requirement already satisfied: pyarrow in /usr/local/lib/python3.6/dist-packages (from sddk) (0.14.1)\n",
            "Requirement already satisfied: pandas in /usr/local/lib/python3.6/dist-packages (from sddk) (1.0.4)\n",
            "Requirement already satisfied: cycler>=0.10 in /usr/local/lib/python3.6/dist-packages (from matplotlib->sddk) (0.10.0)\n",
            "Requirement already satisfied: pyparsing!=2.0.4,!=2.1.2,!=2.1.6,>=2.0.1 in /usr/local/lib/python3.6/dist-packages (from matplotlib->sddk) (2.4.7)\n",
            "Requirement already satisfied: kiwisolver>=1.0.1 in /usr/local/lib/python3.6/dist-packages (from matplotlib->sddk) (1.2.0)\n",
            "Requirement already satisfied: python-dateutil>=2.1 in /usr/local/lib/python3.6/dist-packages (from matplotlib->sddk) (2.8.1)\n",
            "Requirement already satisfied: urllib3!=1.25.0,!=1.25.1,<1.26,>=1.21.1 in /usr/local/lib/python3.6/dist-packages (from requests->sddk) (1.24.3)\n",
            "Requirement already satisfied: chardet<4,>=3.0.2 in /usr/local/lib/python3.6/dist-packages (from requests->sddk) (3.0.4)\n",
            "Requirement already satisfied: idna<3,>=2.5 in /usr/local/lib/python3.6/dist-packages (from requests->sddk) (2.9)\n",
            "Requirement already satisfied: certifi>=2017.4.17 in /usr/local/lib/python3.6/dist-packages (from requests->sddk) (2020.4.5.2)\n",
            "Requirement already satisfied: six>=1.0.0 in /usr/local/lib/python3.6/dist-packages (from pyarrow->sddk) (1.12.0)\n",
            "Requirement already satisfied: pytz>=2017.2 in /usr/local/lib/python3.6/dist-packages (from pandas->sddk) (2018.9)\n",
            "Installing collected packages: sddk\n",
            "Successfully installed sddk-2.6\n"
          ],
          "name": "stdout"
        }
      ]
    },
    {
      "cell_type": "markdown",
      "metadata": {
        "id": "H_CYM7yh9UTw",
        "colab_type": "text"
      },
      "source": [
        "# authentication"
      ]
    },
    {
      "cell_type": "code",
      "metadata": {
        "id": "MhnThoX5kUKs",
        "colab_type": "code",
        "colab": {
          "base_uri": "https://localhost:8080/",
          "height": 85
        },
        "outputId": "4376e7e2-ed2d-4f41-c61d-6713fd8f15e1"
      },
      "source": [
        "# login to sciencedata \n",
        "conf = sddk.configure(\"SDAM_root\", \"648597@au.dk\")"
      ],
      "execution_count": 66,
      "outputs": [
        {
          "output_type": "stream",
          "text": [
            "sciencedata.dk username (format '123456@au.dk'): 648597@au.dk\n",
            "sciencedata.dk password: ··········\n",
            "connection with shared folder established with you as its owner\n",
            "endpoint variable has been configured to: https://sciencedata.dk/files/SDAM_root/\n"
          ],
          "name": "stdout"
        }
      ]
    },
    {
      "cell_type": "code",
      "metadata": {
        "id": "06TCxflGbtLj",
        "colab_type": "code",
        "colab": {}
      },
      "source": [
        "### authorize google sheets\n",
        "auth.authenticate_user()\n",
        "gc = gspread.authorize(GoogleCredentials.get_application_default())\n",
        "# establish connection with particular sheet by its url:\n",
        "PHI_overview = gc.open_by_url(\"https://docs.google.com/spreadsheets/d/1zfTw0Hf304maBmrYvaMxRLnv1zfAVFixrtGTTsLCcT4/edit?usp=sharing\")"
      ],
      "execution_count": 595,
      "outputs": []
    },
    {
      "cell_type": "markdown",
      "metadata": {
        "id": "hSbHsFtn3_IA",
        "colab_type": "text"
      },
      "source": [
        "# Read data"
      ]
    },
    {
      "cell_type": "code",
      "metadata": {
        "id": "dV9g_k8d_kZU",
        "colab_type": "code",
        "colab": {}
      },
      "source": [
        "# read the PHI dataset from sciencedata.dk\n",
        "PHI = sddk.read_file(\"SDAM_data/PHI/PHI_enriched_raw.json\", \"df\", conf)"
      ],
      "execution_count": 7,
      "outputs": []
    },
    {
      "cell_type": "code",
      "metadata": {
        "id": "ZQX2wP4U4BsY",
        "colab_type": "code",
        "colab": {
          "base_uri": "https://localhost:8080/",
          "height": 374
        },
        "outputId": "ff1c8301-6146-492b-cd3d-73f5d26f352d"
      },
      "source": [
        "# print first 5 rows of the data\n",
        "PHI.head(5)"
      ],
      "execution_count": 8,
      "outputs": [
        {
          "output_type": "execute_result",
          "data": {
            "text/html": [
              "<div>\n",
              "<style scoped>\n",
              "    .dataframe tbody tr th:only-of-type {\n",
              "        vertical-align: middle;\n",
              "    }\n",
              "\n",
              "    .dataframe tbody tr th {\n",
              "        vertical-align: top;\n",
              "    }\n",
              "\n",
              "    .dataframe thead th {\n",
              "        text-align: right;\n",
              "    }\n",
              "</style>\n",
              "<table border=\"1\" class=\"dataframe\">\n",
              "  <thead>\n",
              "    <tr style=\"text-align: right;\">\n",
              "      <th></th>\n",
              "      <th>URL</th>\n",
              "      <th>Book</th>\n",
              "      <th>Text</th>\n",
              "      <th>hdr1</th>\n",
              "      <th>hdr2</th>\n",
              "      <th>tildeinfo</th>\n",
              "      <th>note</th>\n",
              "      <th>lines</th>\n",
              "      <th>metadata</th>\n",
              "      <th>data</th>\n",
              "      <th>filename</th>\n",
              "      <th>PHI_ID</th>\n",
              "    </tr>\n",
              "  </thead>\n",
              "  <tbody>\n",
              "    <tr>\n",
              "      <th>0</th>\n",
              "      <td>[/text/237443?location=1365&amp;patt=&amp;bookid=411&amp;b...</td>\n",
              "      <td>[CSCA]</td>\n",
              "      <td>[5 (1972) 169,3]</td>\n",
              "      <td>[Regions\\nAttica (IG I-III)\\nAttica]</td>\n",
              "      <td>[CSCA\\n5 (1972) 169,3]</td>\n",
              "      <td>[Att. — Athens: Akropolis — stoich. 28 — 303/2...</td>\n",
              "      <td>{}</td>\n",
              "      <td>[4]</td>\n",
              "      <td>[1\\n\\n\\n]</td>\n",
              "      <td>[ἐπὶ Λε[ωστράτου ἄρχοντος ἐπὶ τῆς Κ]-\\nεκρο[πί...</td>\n",
              "      <td>[CSCA.csv]</td>\n",
              "      <td>[237443]</td>\n",
              "    </tr>\n",
              "    <tr>\n",
              "      <th>1</th>\n",
              "      <td>[/text/237444?location=1365&amp;patt=&amp;bookid=411&amp;b...</td>\n",
              "      <td>[CSCA]</td>\n",
              "      <td>[5 (1972) 169,4]</td>\n",
              "      <td>[Regions\\nAttica (IG I-III)\\nAttica]</td>\n",
              "      <td>[CSCA\\n5 (1972) 169,4]</td>\n",
              "      <td>[Att. — Athens: EM — stoich. 35 — 306-302 BC]</td>\n",
              "      <td>{}</td>\n",
              "      <td>[15]</td>\n",
              "      <td>[1\\n\\n\\n\\n5\\n\\n\\n\\n\\n10\\n\\n\\n\\n\\n15]</td>\n",
              "      <td>[[․]ομε̣[․․․․․․․․․․․․․28․․․․․․․․․․․․․ τῆς]\\nπρ...</td>\n",
              "      <td>[CSCA.csv]</td>\n",
              "      <td>[237444]</td>\n",
              "    </tr>\n",
              "    <tr>\n",
              "      <th>2</th>\n",
              "      <td>[/text/237445?location=1365&amp;patt=&amp;bookid=411&amp;b...</td>\n",
              "      <td>[CSCA]</td>\n",
              "      <td>[5 (1972) 173,5]</td>\n",
              "      <td>[Regions\\nAttica (IG I-III)\\nAttica]</td>\n",
              "      <td>[CSCA\\n5 (1972) 173,5]</td>\n",
              "      <td>[Att. — Athens — non-stoich.]</td>\n",
              "      <td>{}</td>\n",
              "      <td>[16]</td>\n",
              "      <td>[1\\n\\n\\n\\n5\\n\\n\\n\\n\\n10\\n\\n\\n\\n\\n15\\n]</td>\n",
              "      <td>[— — — — —υτω․․․․11․․․․․\\n— — — — —ωντωι̣․․․․9...</td>\n",
              "      <td>[CSCA.csv]</td>\n",
              "      <td>[237445]</td>\n",
              "    </tr>\n",
              "    <tr>\n",
              "      <th>3</th>\n",
              "      <td>[/text/237446?location=1365&amp;patt=&amp;bookid=411&amp;b...</td>\n",
              "      <td>[CSCA]</td>\n",
              "      <td>[9 (1976) 9,4]</td>\n",
              "      <td>[Regions\\nAttica (IG I-III)\\nAttica]</td>\n",
              "      <td>[CSCA\\n9 (1976) 9,4]</td>\n",
              "      <td>[Att. — Athens: Eth.Mus. — 4th c. BC — SEG 26....</td>\n",
              "      <td>{}</td>\n",
              "      <td>[2]</td>\n",
              "      <td>[A.1\\nB.1]</td>\n",
              "      <td>[ψῆφος ⋮ δημοσία.\\nΔ  ․]</td>\n",
              "      <td>[CSCA.csv]</td>\n",
              "      <td>[237446]</td>\n",
              "    </tr>\n",
              "    <tr>\n",
              "      <th>4</th>\n",
              "      <td>[/text/237447?location=1365&amp;patt=&amp;bookid=411&amp;b...</td>\n",
              "      <td>[CSCA]</td>\n",
              "      <td>[9 (1976) 11,16]</td>\n",
              "      <td>[Regions\\nAttica (IG I-III)\\nAttica]</td>\n",
              "      <td>[CSCA\\n9 (1976) 11,16]</td>\n",
              "      <td>[Att. — Athens: Eth.Mus. — 4th c. BC — SEG 26....</td>\n",
              "      <td>{}</td>\n",
              "      <td>[2]</td>\n",
              "      <td>[A.1\\nB.1]</td>\n",
              "      <td>[ψῆφος ⋮ δημοσία.\\nΓ  Ε]</td>\n",
              "      <td>[CSCA.csv]</td>\n",
              "      <td>[237447]</td>\n",
              "    </tr>\n",
              "  </tbody>\n",
              "</table>\n",
              "</div>"
            ],
            "text/plain": [
              "                                                 URL  ...    PHI_ID\n",
              "0  [/text/237443?location=1365&patt=&bookid=411&b...  ...  [237443]\n",
              "1  [/text/237444?location=1365&patt=&bookid=411&b...  ...  [237444]\n",
              "2  [/text/237445?location=1365&patt=&bookid=411&b...  ...  [237445]\n",
              "3  [/text/237446?location=1365&patt=&bookid=411&b...  ...  [237446]\n",
              "4  [/text/237447?location=1365&patt=&bookid=411&b...  ...  [237447]\n",
              "\n",
              "[5 rows x 12 columns]"
            ]
          },
          "metadata": {
            "tags": []
          },
          "execution_count": 8
        }
      ]
    },
    {
      "cell_type": "code",
      "metadata": {
        "id": "YUWPxXY808-R",
        "colab_type": "code",
        "colab": {}
      },
      "source": [
        "# unfortunately, transferring the dataset between Python and R caused that cells in most columns of the dataframe contain a LIST OF VALUES (of length 1) and not the VALUE itself.\n",
        "# in such case, we have to do one simple transformation\n",
        "# perhaps it will not be needed in the future\n",
        "\n",
        "def lists_to_values(list_or_value):\n",
        "  if isinstance(list_or_value, list):\n",
        "    value = list_or_value[0]\n",
        "  else: \n",
        "    value = list_or_value\n",
        "  return value\n",
        "for column in PHI.columns:\n",
        "  PHI[column] = PHI.apply(lambda row: lists_to_values(row[column]), axis=1)"
      ],
      "execution_count": 9,
      "outputs": []
    },
    {
      "cell_type": "code",
      "metadata": {
        "id": "RrtwIevF0xMq",
        "colab_type": "code",
        "colab": {
          "base_uri": "https://localhost:8080/",
          "height": 340
        },
        "outputId": "fe76ae64-06c8-4434-9cb3-15742aa55f98"
      },
      "source": [
        "PHI.head(5)"
      ],
      "execution_count": 10,
      "outputs": [
        {
          "output_type": "execute_result",
          "data": {
            "text/html": [
              "<div>\n",
              "<style scoped>\n",
              "    .dataframe tbody tr th:only-of-type {\n",
              "        vertical-align: middle;\n",
              "    }\n",
              "\n",
              "    .dataframe tbody tr th {\n",
              "        vertical-align: top;\n",
              "    }\n",
              "\n",
              "    .dataframe thead th {\n",
              "        text-align: right;\n",
              "    }\n",
              "</style>\n",
              "<table border=\"1\" class=\"dataframe\">\n",
              "  <thead>\n",
              "    <tr style=\"text-align: right;\">\n",
              "      <th></th>\n",
              "      <th>URL</th>\n",
              "      <th>Book</th>\n",
              "      <th>Text</th>\n",
              "      <th>hdr1</th>\n",
              "      <th>hdr2</th>\n",
              "      <th>tildeinfo</th>\n",
              "      <th>note</th>\n",
              "      <th>lines</th>\n",
              "      <th>metadata</th>\n",
              "      <th>data</th>\n",
              "      <th>filename</th>\n",
              "      <th>PHI_ID</th>\n",
              "    </tr>\n",
              "  </thead>\n",
              "  <tbody>\n",
              "    <tr>\n",
              "      <th>0</th>\n",
              "      <td>/text/237443?location=1365&amp;patt=&amp;bookid=411&amp;bo...</td>\n",
              "      <td>CSCA</td>\n",
              "      <td>5 (1972) 169,3</td>\n",
              "      <td>Regions\\nAttica (IG I-III)\\nAttica</td>\n",
              "      <td>CSCA\\n5 (1972) 169,3</td>\n",
              "      <td>Att. — Athens: Akropolis — stoich. 28 — 303/2 BC</td>\n",
              "      <td>{}</td>\n",
              "      <td>4</td>\n",
              "      <td>1\\n\\n\\n</td>\n",
              "      <td>ἐπὶ Λε[ωστράτου ἄρχοντος ἐπὶ τῆς Κ]-\\nεκρο[πίδ...</td>\n",
              "      <td>CSCA.csv</td>\n",
              "      <td>237443</td>\n",
              "    </tr>\n",
              "    <tr>\n",
              "      <th>1</th>\n",
              "      <td>/text/237444?location=1365&amp;patt=&amp;bookid=411&amp;bo...</td>\n",
              "      <td>CSCA</td>\n",
              "      <td>5 (1972) 169,4</td>\n",
              "      <td>Regions\\nAttica (IG I-III)\\nAttica</td>\n",
              "      <td>CSCA\\n5 (1972) 169,4</td>\n",
              "      <td>Att. — Athens: EM — stoich. 35 — 306-302 BC</td>\n",
              "      <td>{}</td>\n",
              "      <td>15</td>\n",
              "      <td>1\\n\\n\\n\\n5\\n\\n\\n\\n\\n10\\n\\n\\n\\n\\n15</td>\n",
              "      <td>[․]ομε̣[․․․․․․․․․․․․․28․․․․․․․․․․․․․ τῆς]\\nπρυ...</td>\n",
              "      <td>CSCA.csv</td>\n",
              "      <td>237444</td>\n",
              "    </tr>\n",
              "    <tr>\n",
              "      <th>2</th>\n",
              "      <td>/text/237445?location=1365&amp;patt=&amp;bookid=411&amp;bo...</td>\n",
              "      <td>CSCA</td>\n",
              "      <td>5 (1972) 173,5</td>\n",
              "      <td>Regions\\nAttica (IG I-III)\\nAttica</td>\n",
              "      <td>CSCA\\n5 (1972) 173,5</td>\n",
              "      <td>Att. — Athens — non-stoich.</td>\n",
              "      <td>{}</td>\n",
              "      <td>16</td>\n",
              "      <td>1\\n\\n\\n\\n5\\n\\n\\n\\n\\n10\\n\\n\\n\\n\\n15\\n</td>\n",
              "      <td>— — — — —υτω․․․․11․․․․․\\n— — — — —ωντωι̣․․․․9․...</td>\n",
              "      <td>CSCA.csv</td>\n",
              "      <td>237445</td>\n",
              "    </tr>\n",
              "    <tr>\n",
              "      <th>3</th>\n",
              "      <td>/text/237446?location=1365&amp;patt=&amp;bookid=411&amp;bo...</td>\n",
              "      <td>CSCA</td>\n",
              "      <td>9 (1976) 9,4</td>\n",
              "      <td>Regions\\nAttica (IG I-III)\\nAttica</td>\n",
              "      <td>CSCA\\n9 (1976) 9,4</td>\n",
              "      <td>Att. — Athens: Eth.Mus. — 4th c. BC — SEG 26.1...</td>\n",
              "      <td>{}</td>\n",
              "      <td>2</td>\n",
              "      <td>A.1\\nB.1</td>\n",
              "      <td>ψῆφος ⋮ δημοσία.\\nΔ  ․</td>\n",
              "      <td>CSCA.csv</td>\n",
              "      <td>237446</td>\n",
              "    </tr>\n",
              "    <tr>\n",
              "      <th>4</th>\n",
              "      <td>/text/237447?location=1365&amp;patt=&amp;bookid=411&amp;bo...</td>\n",
              "      <td>CSCA</td>\n",
              "      <td>9 (1976) 11,16</td>\n",
              "      <td>Regions\\nAttica (IG I-III)\\nAttica</td>\n",
              "      <td>CSCA\\n9 (1976) 11,16</td>\n",
              "      <td>Att. — Athens: Eth.Mus. — 4th c. BC — SEG 26.1...</td>\n",
              "      <td>{}</td>\n",
              "      <td>2</td>\n",
              "      <td>A.1\\nB.1</td>\n",
              "      <td>ψῆφος ⋮ δημοσία.\\nΓ  Ε</td>\n",
              "      <td>CSCA.csv</td>\n",
              "      <td>237447</td>\n",
              "    </tr>\n",
              "  </tbody>\n",
              "</table>\n",
              "</div>"
            ],
            "text/plain": [
              "                                                 URL  Book  ...  filename  PHI_ID\n",
              "0  /text/237443?location=1365&patt=&bookid=411&bo...  CSCA  ...  CSCA.csv  237443\n",
              "1  /text/237444?location=1365&patt=&bookid=411&bo...  CSCA  ...  CSCA.csv  237444\n",
              "2  /text/237445?location=1365&patt=&bookid=411&bo...  CSCA  ...  CSCA.csv  237445\n",
              "3  /text/237446?location=1365&patt=&bookid=411&bo...  CSCA  ...  CSCA.csv  237446\n",
              "4  /text/237447?location=1365&patt=&bookid=411&bo...  CSCA  ...  CSCA.csv  237447\n",
              "\n",
              "[5 rows x 12 columns]"
            ]
          },
          "metadata": {
            "tags": []
          },
          "execution_count": 10
        }
      ]
    },
    {
      "cell_type": "markdown",
      "metadata": {
        "id": "DlWZYRzIxeU3",
        "colab_type": "text"
      },
      "source": [
        "# Raw date column\n",
        "\n",
        "In the PHI dataset, the datation information is usually contained in the \"tildeinfo\" column. \"tildeinfo\" has a form of a list, with individual elements separated by \" — \". Unfortunately, this list does not have a fully consistent structure. Typically, the datation information is the last element within the list (e.g. \"Dacia Sup. — Tibiscum (Jupa) — 2nd/3rd c. AD\" - PH298501), but not always (e.g. \"N. Black Sea — Pantikapaion (Kerch) — 1st c. BC — IosPE IV 253\" - PH183001). Thus, our first task is to extract the element which most probably contains the datation information.\n"
      ]
    },
    {
      "cell_type": "code",
      "metadata": {
        "id": "F_8vJRssihLW",
        "colab_type": "code",
        "colab": {}
      },
      "source": [
        "def get_date_from_tildeinfo(tildeinfo):\n",
        "  try:\n",
        "    tildeinfo_list = tildeinfo.split(\"— \")\n",
        "    datation = tildeinfo_list[-1]\n",
        "    for el in tildeinfo_list:\n",
        "      if any(time_indicator in el for time_indicator in [\" a.\", \" p.\", \"BC\", \"AD\", \"period\", \"reign\"]):\n",
        "        datation = el\n",
        "        break\n",
        "  except: \n",
        "    datation = \"\"\n",
        "  return datation "
      ],
      "execution_count": 12,
      "outputs": []
    },
    {
      "cell_type": "code",
      "metadata": {
        "id": "jtPeaQn_wZ32",
        "colab_type": "code",
        "colab": {
          "base_uri": "https://localhost:8080/",
          "height": 34
        },
        "outputId": "a592c521-5a36-4a43-ff1c-f56cc4333fed"
      },
      "source": [
        "# test 1\n",
        "get_date_from_tildeinfo(\"N. Black Sea — Pantikapaion (Kerch) — 1st c. BC — IosPE IV 253\")"
      ],
      "execution_count": 15,
      "outputs": [
        {
          "output_type": "execute_result",
          "data": {
            "text/plain": [
              "'1st c. BC '"
            ]
          },
          "metadata": {
            "tags": []
          },
          "execution_count": 15
        }
      ]
    },
    {
      "cell_type": "code",
      "metadata": {
        "id": "voqckZOLwkni",
        "colab_type": "code",
        "colab": {
          "base_uri": "https://localhost:8080/",
          "height": 34
        },
        "outputId": "c5af3abd-6fb3-4a52-c82c-316938b863ec"
      },
      "source": [
        "# test 2\n",
        "get_date_from_tildeinfo(\"Att. — Athens: Agora — stoich. 29 — 301/0-295/4 a. — *Hesp. 13.1944.242,7 — *SEG 24.119; 29.93\")"
      ],
      "execution_count": 16,
      "outputs": [
        {
          "output_type": "execute_result",
          "data": {
            "text/plain": [
              "'301/0-295/4 a. '"
            ]
          },
          "metadata": {
            "tags": []
          },
          "execution_count": 16
        }
      ]
    },
    {
      "cell_type": "code",
      "metadata": {
        "id": "ViRgWRMcioFi",
        "colab_type": "code",
        "colab": {}
      },
      "source": [
        "# application on the whole dataset\n",
        "PHI[\"raw_date\"] = PHI.apply(lambda row: get_date_from_tildeinfo(row[\"tildeinfo\"]), axis=1)"
      ],
      "execution_count": 17,
      "outputs": []
    },
    {
      "cell_type": "markdown",
      "metadata": {
        "id": "OyhrW32R6AgP",
        "colab_type": "text"
      },
      "source": [
        "# Generating a sample\n",
        "For developemnt purposes, the functions below have been firstly tested by using a representative sample from the dataset, containing every 500th inscription, i.e. inscriptions PH2501, PH3001, ..., PH218501 etc.\t"
      ]
    },
    {
      "cell_type": "code",
      "metadata": {
        "id": "_auRCD152g1X",
        "colab_type": "code",
        "colab": {
          "base_uri": "https://localhost:8080/",
          "height": 445
        },
        "outputId": "765dd49b-24bd-4a75-c32f-efcfd05a4ce9"
      },
      "source": [
        "# generate sample for testing purposes:\n",
        "PHI_by_500 = PHI[PHI[\"PHI_ID\"].isin(range(1, 300000, 500))]\n",
        "PHI_by_500.head(5)"
      ],
      "execution_count": 18,
      "outputs": [
        {
          "output_type": "execute_result",
          "data": {
            "text/html": [
              "<div>\n",
              "<style scoped>\n",
              "    .dataframe tbody tr th:only-of-type {\n",
              "        vertical-align: middle;\n",
              "    }\n",
              "\n",
              "    .dataframe tbody tr th {\n",
              "        vertical-align: top;\n",
              "    }\n",
              "\n",
              "    .dataframe thead th {\n",
              "        text-align: right;\n",
              "    }\n",
              "</style>\n",
              "<table border=\"1\" class=\"dataframe\">\n",
              "  <thead>\n",
              "    <tr style=\"text-align: right;\">\n",
              "      <th></th>\n",
              "      <th>URL</th>\n",
              "      <th>Book</th>\n",
              "      <th>Text</th>\n",
              "      <th>hdr1</th>\n",
              "      <th>hdr2</th>\n",
              "      <th>tildeinfo</th>\n",
              "      <th>note</th>\n",
              "      <th>lines</th>\n",
              "      <th>metadata</th>\n",
              "      <th>data</th>\n",
              "      <th>filename</th>\n",
              "      <th>PHI_ID</th>\n",
              "      <th>raw_date</th>\n",
              "    </tr>\n",
              "  </thead>\n",
              "  <tbody>\n",
              "    <tr>\n",
              "      <th>625</th>\n",
              "      <td>/text/262001?location=1040&amp;patt=&amp;bookid=517&amp;of...</td>\n",
              "      <td>Panamara</td>\n",
              "      <td>316</td>\n",
              "      <td>Regions\\nAsia Minor\\nCaria</td>\n",
              "      <td>Panamara\\n316</td>\n",
              "      <td>IStr 427</td>\n",
              "      <td>{}</td>\n",
              "      <td>2</td>\n",
              "      <td>1\\n</td>\n",
              "      <td>Διῒ Πανημέρῳ, κόμαι Εὐτύχεως· ἐπὶ ἱερέω[ς] Κλα...</td>\n",
              "      <td>Panamara.csv</td>\n",
              "      <td>262001</td>\n",
              "      <td>IStr 427</td>\n",
              "    </tr>\n",
              "    <tr>\n",
              "      <th>912</th>\n",
              "      <td>/text/266001?location=1673&amp;patt=&amp;bookid=587&amp;of...</td>\n",
              "      <td>St.Pont. III</td>\n",
              "      <td>110a</td>\n",
              "      <td>Regions\\nAsia Minor\\nPontus and Paphlagonia</td>\n",
              "      <td>St.Pont. III\\n110a</td>\n",
              "      <td>Pont. — Amasia — Rom. Imp. period</td>\n",
              "      <td>{}</td>\n",
              "      <td>6</td>\n",
              "      <td>1\\n\\n\\n\\n5\\n</td>\n",
              "      <td>Αὐρ(ηλίῳ) Φιλο-\\nμούσῳ ❦\\nἀρχιάτρῳ\\nῬω[μᾶνα(?)...</td>\n",
              "      <td>St.Pont.-III.csv</td>\n",
              "      <td>266001</td>\n",
              "      <td>Rom. Imp. period</td>\n",
              "    </tr>\n",
              "    <tr>\n",
              "      <th>1260</th>\n",
              "      <td>/text/231001?location=1365&amp;patt=&amp;bookid=394&amp;of...</td>\n",
              "      <td>Agora XV</td>\n",
              "      <td>130</td>\n",
              "      <td>Regions\\nAttica (IG I-III)\\nAttica</td>\n",
              "      <td>Agora XV\\n130</td>\n",
              "      <td>Att. — Athens: Agora — 220/19</td>\n",
              "      <td>{}</td>\n",
              "      <td>149</td>\n",
              "      <td>1\\n\\n\\n\\n5\\n\\n\\n\\n\\n10\\n\\n\\n\\n\\n15\\n\\n\\n\\n\\n20...</td>\n",
              "      <td>ἐπὶ Μενεκράτου ἄρχοντος ἐπὶ τῆς Οἰνεῖδος ἕκτη-...</td>\n",
              "      <td>Agora-XV.csv</td>\n",
              "      <td>231001</td>\n",
              "      <td>220/19</td>\n",
              "    </tr>\n",
              "    <tr>\n",
              "      <th>1944</th>\n",
              "      <td>/text/79501?location=126&amp;patt=&amp;bookid=23&amp;offse...</td>\n",
              "      <td>IG XII,8</td>\n",
              "      <td>311</td>\n",
              "      <td>Regions\\nAegean Islands, incl. Crete (IG XI-[X...</td>\n",
              "      <td>IG XII,8\\n311</td>\n",
              "      <td>Thasos</td>\n",
              "      <td>{}</td>\n",
              "      <td>7</td>\n",
              "      <td>1\\n\\n\\n\\n5\\n\\n</td>\n",
              "      <td>Ἐπικράτης  Κτησιφῶντος\\nΠυθίων  Περιθύμου\\nΠίν...</td>\n",
              "      <td>IG-XII-8.csv</td>\n",
              "      <td>79501</td>\n",
              "      <td>Thasos</td>\n",
              "    </tr>\n",
              "    <tr>\n",
              "      <th>2502</th>\n",
              "      <td>/text/218501?location=1497&amp;patt=&amp;bookid=367&amp;of...</td>\n",
              "      <td>Koptos à Kosseir</td>\n",
              "      <td>163</td>\n",
              "      <td>Regions\\nEgypt, Nubia and Cyrenaïca\\nEgypt and...</td>\n",
              "      <td>Koptos à Kosseir\\n163</td>\n",
              "      <td>Eg. — el-Boueib</td>\n",
              "      <td>{}</td>\n",
              "      <td>2</td>\n",
              "      <td>1\\n</td>\n",
              "      <td>Κάλχων̣\\nΠανὶ Χρ(υσόδωτηι).</td>\n",
              "      <td>Koptos---Kosseir.csv</td>\n",
              "      <td>218501</td>\n",
              "      <td>el-Boueib</td>\n",
              "    </tr>\n",
              "  </tbody>\n",
              "</table>\n",
              "</div>"
            ],
            "text/plain": [
              "                                                    URL  ...          raw_date\n",
              "625   /text/262001?location=1040&patt=&bookid=517&of...  ...          IStr 427\n",
              "912   /text/266001?location=1673&patt=&bookid=587&of...  ...  Rom. Imp. period\n",
              "1260  /text/231001?location=1365&patt=&bookid=394&of...  ...            220/19\n",
              "1944  /text/79501?location=126&patt=&bookid=23&offse...  ...            Thasos\n",
              "2502  /text/218501?location=1497&patt=&bookid=367&of...  ...         el-Boueib\n",
              "\n",
              "[5 rows x 13 columns]"
            ]
          },
          "metadata": {
            "tags": []
          },
          "execution_count": 18
        }
      ]
    },
    {
      "cell_type": "markdown",
      "metadata": {
        "id": "1yz6_Lr-VyIF",
        "colab_type": "text"
      },
      "source": [
        "# Parse ante quem and post quem"
      ]
    },
    {
      "cell_type": "code",
      "metadata": {
        "id": "Pvmb8GNS2qWH",
        "colab_type": "code",
        "colab": {
          "base_uri": "https://localhost:8080/",
          "height": 34
        },
        "outputId": "890a00c8-ca5a-487e-8e67-c325630bd46a"
      },
      "source": [
        "### simple demonstration of the logic\n",
        "datation = \"not before 304 AD\"\n",
        "match = re.search(\"(not\\s(before|bef\\.)\\s|non\\sante\\s)(\\d+)\",  datation, flags=re.IGNORECASE)\n",
        "if match:\n",
        "  dating_update = {\"start\" : int(match.groups()[2]), \"type\" : \"post\"}\n",
        "dating_update"
      ],
      "execution_count": 328,
      "outputs": [
        {
          "output_type": "execute_result",
          "data": {
            "text/plain": [
              "{'start': 304, 'type': 'post'}"
            ]
          },
          "metadata": {
            "tags": []
          },
          "execution_count": 328
        }
      ]
    },
    {
      "cell_type": "code",
      "metadata": {
        "id": "y0Hq9f7U-Hl2",
        "colab_type": "code",
        "colab": {}
      },
      "source": [
        "def extract_ante_and_post(datation, dating=None):\n",
        "  if dating==None: dating = {\"type\" : \"unknown\"}\n",
        "  if \"unknown\" in dating[\"type\"]: \n",
        "    # if \"NOT BEFORE\"\n",
        "    match = re.search(\"(not\\s(before|bef\\.)\\s|non\\sante\\s)(\\-?\\d+)(\\s|$)\",  datation, flags=re.IGNORECASE)\n",
        "    if match:\n",
        "      if \"AD\" not in datation:\n",
        "        start = (int(match.groups()[2]) * -1)\n",
        "        dating_update = {\"start\" : start, \"type\" : \"post\"}\n",
        "      else:\n",
        "        dating_update = {\"start\" : int(match.groups()[2]), \"type\" : \"post\"}\n",
        "    # if \"BEFORE\"\n",
        "    else:\n",
        "      match = re.search('(before\\s|ante\\s)(\\-?\\d+)(\\s|$)', datation, flags=re.IGNORECASE)\n",
        "      if match:\n",
        "        if \"AD\" not in datation:\n",
        "          dating_update = {\"stop\" : (int(match.groups()[1]) * -1) - 1, \"type\" : \"ante\"}\n",
        "        else:\n",
        "          dating_update = {\"stop\" : int(match.groups()[1]) - 1, \"type\" : \"ante\"}\n",
        "      # if \"NOT AFTER\"\n",
        "      else:\n",
        "        match = re.search(\"(not\\safter\\s|non\\spost\\s)(\\-?\\d+)(\\s|$)\",  datation, flags=re.IGNORECASE)\n",
        "        if match:\n",
        "          if \"AD\" not in datation:\n",
        "            dating_update = {\"stop\" : (int(match.groups()[1]) * -1), \"type\" : \"ante\"}\n",
        "          else:\n",
        "            dating_update = {\"stop\" : int(match.groups()[1]), \"type\" : \"ante\"}\n",
        "        # if \"AFTER\"\n",
        "        else:\n",
        "            match = re.search('(after\\s|aft.\\s|post\\s)(\\-?\\d+)(\\s|$)', datation, flags=re.IGNORECASE)\n",
        "            if match:\n",
        "              if \"AD\" not in datation:\n",
        "                dating_update = {\"start\" : (int(match.groups()[1]) * -1) + 1, \"type\" : \"post\"}\n",
        "              else:\n",
        "                dating_update = {\"start\" : int(match.groups()[1]) + 1, \"type\" : \"post\"}\n",
        "            else:\n",
        "              dating_update = dating\n",
        "  elif \"exact+or\" in dating[\"type\"]: \n",
        "    # if \"NOT BEFORE\"\n",
        "    match = re.search(\"(not\\s(before|bef\\.)\\s|non\\sante\\s)\",  datation, flags=re.IGNORECASE)\n",
        "    if match:\n",
        "      dating_update = {\"start\" : dating[\"exact\"], \"or\": {\"start\" : dating[\"or\"][\"exact\"], \"exact\" : None}, \"exact\" : None, \"type\" : \"post+or\"}\n",
        "    # if \"BEFORE\"\n",
        "    else:\n",
        "      match = re.search('(before\\s|ante\\s)', datation, flags=re.IGNORECASE)\n",
        "      if match:\n",
        "        dating_update = {\"stop\" : dating[\"exact\"], \"or\": {\"stop\" : dating[\"or\"][\"exact\"], \"exact\" : None}, \"exact\" : None, \"type\" : \"ante+or\"}\n",
        "      # if \"NOT AFTER\"\n",
        "      else:\n",
        "        match = re.search(\"(not\\safter\\s|non\\spost\\s)\",  datation, flags=re.IGNORECASE)\n",
        "        if match:\n",
        "              dating_update = {\"stop\" : dating[\"exact\"], \"or\": {\"stop\" : dating[\"or\"][\"exact\"], \"exact\" : None}, \"exact\" : None, \"type\" : \"ante+or\"}\n",
        "        # if \"AFTER\"\n",
        "        else:\n",
        "            match = re.search('(after\\s|aft.\\s|post\\s)', datation, flags=re.IGNORECASE)\n",
        "            if match:\n",
        "              dating_update = {\"start\" : dating[\"exact\"], \"or\": {\"start\" : dating[\"or\"][\"exact\"], \"exact\" : None}, \"exact\" : None, \"type\" : \"post+or\"}\n",
        "            else:\n",
        "              dating_update = dating\n",
        "  elif \"range\" in dating[\"type\"]:\n",
        "    # if \"NOT BEFORE\"\n",
        "    match = re.search(\"(not\\s(before|bef\\.)\\s|non\\sante\\s)\",  datation, flags=re.IGNORECASE)\n",
        "    if match:\n",
        "      dating_update = {\"start\" : dating[\"start\"], \"stop\":None, \"type\" : dating[\"type\"]+\"+post\"}\n",
        "    # if \"BEFORE\"\n",
        "    else:\n",
        "      match = re.search('(before\\s|ante\\s)', datation, flags=re.IGNORECASE)\n",
        "      if match:\n",
        "        dating_update = {\"stop\" : int(dating[\"start\"]) - 1, \"start\":None, \"type\" : dating[\"type\"]+\"+ante\"}  \n",
        "      # if \"NOT AFTER\"\n",
        "      else:\n",
        "        match = re.search(\"(not\\safter\\s|non\\spost\\s)\",  datation, flags=re.IGNORECASE)\n",
        "        if match:\n",
        "          dating_update = {\"stop\" : dating[\"stop\"], \"start\":None,\"type\" : dating[\"type\"]+\"+ante\"}\n",
        "        # if \"AFTER\"\n",
        "        else:\n",
        "          match = re.search('(after\\s|aft.\\s|post\\s)', datation, flags=re.IGNORECASE)\n",
        "          if match:\n",
        "            dating_update = {\"start\" : int(dating[\"stop\"]) + 1, \"stop\":None,\"type\" : dating[\"type\"]+\"+post\"}\n",
        "          else:\n",
        "            dating_update = dating\n",
        "  else: \n",
        "    #datation = re.sub(\"(not\\s(after|bef\\.)\\s|non\\spost)\", \"ante\\s\", datation)\n",
        "    dating_update = dating\n",
        "  if (\"shortly\" in datation) and (\"shortly\" not in dating_update[\"type\"]):\n",
        "    dating_update[\"type\"] = dating_update[\"type\"] + \"+shortly\"\n",
        "  return dating_update"
      ],
      "execution_count": 400,
      "outputs": []
    },
    {
      "cell_type": "code",
      "metadata": {
        "id": "JXd-MHGzups1",
        "colab_type": "code",
        "colab": {
          "base_uri": "https://localhost:8080/",
          "height": 34
        },
        "outputId": "1356aa0c-00e6-4beb-fda7-0ae523f17e99"
      },
      "source": [
        "extract_ante_and_post(\"after 4th c. BC\", {\"type\" : \"range\", \"start\": -400, \"stop\": -301})"
      ],
      "execution_count": 401,
      "outputs": [
        {
          "output_type": "execute_result",
          "data": {
            "text/plain": [
              "{'start': -300, 'stop': None, 'type': 'range+post'}"
            ]
          },
          "metadata": {
            "tags": []
          },
          "execution_count": 401
        }
      ]
    },
    {
      "cell_type": "code",
      "metadata": {
        "id": "I2QmBCuU0-ZP",
        "colab_type": "code",
        "colab": {
          "base_uri": "https://localhost:8080/",
          "height": 34
        },
        "outputId": "8616412d-dc35-471f-dbc8-df46e06d468f"
      },
      "source": [
        "extract_ante_and_post(\"shortly after 230 AD\")"
      ],
      "execution_count": 402,
      "outputs": [
        {
          "output_type": "execute_result",
          "data": {
            "text/plain": [
              "{'start': 231, 'type': 'post+shortly'}"
            ]
          },
          "metadata": {
            "tags": []
          },
          "execution_count": 402
        }
      ]
    },
    {
      "cell_type": "code",
      "metadata": {
        "id": "2kuMWHYek4t4",
        "colab_type": "code",
        "colab": {
          "base_uri": "https://localhost:8080/",
          "height": 34
        },
        "outputId": "75c6c409-84bd-4f89-ce1a-c8e42ac67524"
      },
      "source": [
        "datation, dating = \"not after reign of Trajan\", {\"start\": 98, \"stop\" : 117, \"type\" : \"range+period\", \"era\": None}\n",
        "extract_ante_and_post(datation, dating)"
      ],
      "execution_count": 331,
      "outputs": [
        {
          "output_type": "execute_result",
          "data": {
            "text/plain": [
              "{'start': None, 'stop': 117, 'type': 'range+period+ante'}"
            ]
          },
          "metadata": {
            "tags": []
          },
          "execution_count": 331
        }
      ]
    },
    {
      "cell_type": "code",
      "metadata": {
        "id": "iElBo6xYWBPq",
        "colab_type": "code",
        "colab": {
          "base_uri": "https://localhost:8080/",
          "height": 136
        },
        "outputId": "1d5daebc-97dc-4a10-84e9-02a0573a61e1"
      },
      "source": [
        "# example with \"unknown\"\n",
        "dating = {\"type\" : \"unknown\", \"era\": None}\n",
        "for datation in [\"non post 230 AD\", \"shortly after 320 BC\", \"not bef. 114 BC\",\"not after 317 AD\", \"before 200 AD\", \"Ante 114 BC\", \"post 2nd century BC\"]:\n",
        "  print(datation, extract_ante_and_post(datation, dating))"
      ],
      "execution_count": 332,
      "outputs": [
        {
          "output_type": "stream",
          "text": [
            "non post 230 AD {'stop': 230, 'type': 'ante'}\n",
            "shortly after 320 BC {'start': -319, 'type': 'post+shortly'}\n",
            "not bef. 114 BC {'start': -114, 'type': 'post'}\n",
            "not after 317 AD {'stop': 317, 'type': 'ante'}\n",
            "before 200 AD {'stop': 199, 'type': 'ante'}\n",
            "Ante 114 BC {'stop': -115, 'type': 'ante'}\n",
            "post 2nd century BC {'type': 'unknown', 'era': None}\n"
          ],
          "name": "stdout"
        }
      ]
    },
    {
      "cell_type": "markdown",
      "metadata": {
        "id": "qF5f-0tIV9Tm",
        "colab_type": "text"
      },
      "source": [
        "# Parse periods"
      ]
    },
    {
      "cell_type": "code",
      "metadata": {
        "id": "GHK0NQwl-ap9",
        "colab_type": "code",
        "colab": {
          "base_uri": "https://localhost:8080/",
          "height": 793
        },
        "outputId": "2a5338af-274d-470f-8aef-c452493b5310"
      },
      "source": [
        "# read periods from our external coding\n",
        "periods = get_as_dataframe(PHI_overview.worksheet(\"periods\"))\n",
        "periods"
      ],
      "execution_count": 507,
      "outputs": [
        {
          "output_type": "execute_result",
          "data": {
            "text/html": [
              "<div>\n",
              "<style scoped>\n",
              "    .dataframe tbody tr th:only-of-type {\n",
              "        vertical-align: middle;\n",
              "    }\n",
              "\n",
              "    .dataframe tbody tr th {\n",
              "        vertical-align: top;\n",
              "    }\n",
              "\n",
              "    .dataframe thead th {\n",
              "        text-align: right;\n",
              "    }\n",
              "</style>\n",
              "<table border=\"1\" class=\"dataframe\">\n",
              "  <thead>\n",
              "    <tr style=\"text-align: right;\">\n",
              "      <th></th>\n",
              "      <th>period</th>\n",
              "      <th>start</th>\n",
              "      <th>stop</th>\n",
              "      <th>type</th>\n",
              "      <th>era</th>\n",
              "      <th>source</th>\n",
              "      <th>notes</th>\n",
              "      <th>link</th>\n",
              "    </tr>\n",
              "  </thead>\n",
              "  <tbody>\n",
              "    <tr>\n",
              "      <th>0</th>\n",
              "      <td>Roman imp</td>\n",
              "      <td>-31</td>\n",
              "      <td>410</td>\n",
              "      <td>range+period</td>\n",
              "      <td>AD</td>\n",
              "      <td>PeriodO</td>\n",
              "      <td>NaN</td>\n",
              "      <td>http://n2t.net/ark:/99152/p08m57hqcc5</td>\n",
              "    </tr>\n",
              "    <tr>\n",
              "      <th>1</th>\n",
              "      <td>Rom. Imp</td>\n",
              "      <td>-31</td>\n",
              "      <td>410</td>\n",
              "      <td>range+period</td>\n",
              "      <td>BC/AD</td>\n",
              "      <td>PeriodO</td>\n",
              "      <td>NaN</td>\n",
              "      <td>http://n2t.net/ark:/99152/p08m57hqcc5</td>\n",
              "    </tr>\n",
              "    <tr>\n",
              "      <th>2</th>\n",
              "      <td>aet. imp.</td>\n",
              "      <td>-31</td>\n",
              "      <td>410</td>\n",
              "      <td>range+period</td>\n",
              "      <td>BC/AD</td>\n",
              "      <td>PeriodO</td>\n",
              "      <td>NaN</td>\n",
              "      <td>http://n2t.net/ark:/99152/p08m57hqcc5</td>\n",
              "    </tr>\n",
              "    <tr>\n",
              "      <th>3</th>\n",
              "      <td>aet. Rom.</td>\n",
              "      <td>-146</td>\n",
              "      <td>324</td>\n",
              "      <td>range+period</td>\n",
              "      <td>BC/AD</td>\n",
              "      <td>NaN</td>\n",
              "      <td>NaN</td>\n",
              "      <td>NaN</td>\n",
              "    </tr>\n",
              "    <tr>\n",
              "      <th>4</th>\n",
              "      <td>Roman period</td>\n",
              "      <td>-146</td>\n",
              "      <td>324</td>\n",
              "      <td>range+period</td>\n",
              "      <td>BC/AD</td>\n",
              "      <td>NaN</td>\n",
              "      <td>NaN</td>\n",
              "      <td>NaN</td>\n",
              "    </tr>\n",
              "    <tr>\n",
              "      <th>5</th>\n",
              "      <td>reign of Hadrian</td>\n",
              "      <td>117</td>\n",
              "      <td>138</td>\n",
              "      <td>range+period</td>\n",
              "      <td>AD</td>\n",
              "      <td>PeriodO</td>\n",
              "      <td>NaN</td>\n",
              "      <td>http://n2t.net/ark:/99152/p0jrrjbntfj</td>\n",
              "    </tr>\n",
              "    <tr>\n",
              "      <th>6</th>\n",
              "      <td>reign of Justinian</td>\n",
              "      <td>527</td>\n",
              "      <td>565</td>\n",
              "      <td>range+period</td>\n",
              "      <td>AD</td>\n",
              "      <td>PeriodO</td>\n",
              "      <td>NaN</td>\n",
              "      <td>http://n2t.net/ark:/99152/p06c6g3r7ht</td>\n",
              "    </tr>\n",
              "    <tr>\n",
              "      <th>7</th>\n",
              "      <td>reign of Ant. Pius</td>\n",
              "      <td>138</td>\n",
              "      <td>161</td>\n",
              "      <td>range+period</td>\n",
              "      <td>AD</td>\n",
              "      <td>PeriodO</td>\n",
              "      <td>NaN</td>\n",
              "      <td>http://n2t.net/ark:/99152/p06c6g3drk4</td>\n",
              "    </tr>\n",
              "    <tr>\n",
              "      <th>8</th>\n",
              "      <td>reign of Augustus</td>\n",
              "      <td>-27</td>\n",
              "      <td>14</td>\n",
              "      <td>range+period</td>\n",
              "      <td>BC/AD</td>\n",
              "      <td>PeriodO</td>\n",
              "      <td>NaN</td>\n",
              "      <td>http://n2t.net/ark:/99152/p06c6g3xnmx</td>\n",
              "    </tr>\n",
              "    <tr>\n",
              "      <th>9</th>\n",
              "      <td>reign of Tiberius</td>\n",
              "      <td>14</td>\n",
              "      <td>37</td>\n",
              "      <td>range+period</td>\n",
              "      <td>AD</td>\n",
              "      <td>PeriodO</td>\n",
              "      <td>NaN</td>\n",
              "      <td>http://n2t.net/ark:/99152/p0jrrjbts8w</td>\n",
              "    </tr>\n",
              "    <tr>\n",
              "      <th>10</th>\n",
              "      <td>reign of Claudius</td>\n",
              "      <td>41</td>\n",
              "      <td>54</td>\n",
              "      <td>range+period</td>\n",
              "      <td>AD</td>\n",
              "      <td>PeriodO</td>\n",
              "      <td>NaN</td>\n",
              "      <td>http://n2t.net/ark:/99152/p0jrrjb8spw</td>\n",
              "    </tr>\n",
              "    <tr>\n",
              "      <th>11</th>\n",
              "      <td>reign of Trajan</td>\n",
              "      <td>98</td>\n",
              "      <td>117</td>\n",
              "      <td>range+period</td>\n",
              "      <td>AD</td>\n",
              "      <td>PeriodO</td>\n",
              "      <td>NaN</td>\n",
              "      <td>http://n2t.net/ark:/99152/p0jrrjbj7h3</td>\n",
              "    </tr>\n",
              "    <tr>\n",
              "      <th>12</th>\n",
              "      <td>Christian</td>\n",
              "      <td>1</td>\n",
              "      <td>2000</td>\n",
              "      <td>range+period</td>\n",
              "      <td>AD</td>\n",
              "      <td>Vojtech</td>\n",
              "      <td>alone</td>\n",
              "      <td>NaN</td>\n",
              "    </tr>\n",
              "    <tr>\n",
              "      <th>13</th>\n",
              "      <td>Byzantine per</td>\n",
              "      <td>324</td>\n",
              "      <td>1453</td>\n",
              "      <td>range+period</td>\n",
              "      <td>AD</td>\n",
              "      <td>PeriodO</td>\n",
              "      <td>NaN</td>\n",
              "      <td>http://n2t.net/ark:/99152/p0m63njtm6w</td>\n",
              "    </tr>\n",
              "    <tr>\n",
              "      <th>14</th>\n",
              "      <td>Byzantine</td>\n",
              "      <td>324</td>\n",
              "      <td>1453</td>\n",
              "      <td>range+period</td>\n",
              "      <td>AD</td>\n",
              "      <td>PeriodO</td>\n",
              "      <td>alone</td>\n",
              "      <td>http://n2t.net/ark:/99152/p0m63njtm6w</td>\n",
              "    </tr>\n",
              "    <tr>\n",
              "      <th>15</th>\n",
              "      <td>Byzant. per</td>\n",
              "      <td>324</td>\n",
              "      <td>1453</td>\n",
              "      <td>range+period</td>\n",
              "      <td>AD</td>\n",
              "      <td>PeriodO</td>\n",
              "      <td>NaN</td>\n",
              "      <td>http://n2t.net/ark:/99152/p0m63njtm6w</td>\n",
              "    </tr>\n",
              "    <tr>\n",
              "      <th>16</th>\n",
              "      <td>Byzantium</td>\n",
              "      <td>330</td>\n",
              "      <td>1453</td>\n",
              "      <td>range+period</td>\n",
              "      <td>AD</td>\n",
              "      <td>PeriodO</td>\n",
              "      <td>NaN</td>\n",
              "      <td>http://n2t.net/ark:/99152/p08vvjk5t32</td>\n",
              "    </tr>\n",
              "    <tr>\n",
              "      <th>17</th>\n",
              "      <td>Hellenistic</td>\n",
              "      <td>-330</td>\n",
              "      <td>-30</td>\n",
              "      <td>range+period</td>\n",
              "      <td>BC</td>\n",
              "      <td>PeriodO</td>\n",
              "      <td>NaN</td>\n",
              "      <td>http://n2t.net/ark:/99152/p03wskd55sw</td>\n",
              "    </tr>\n",
              "    <tr>\n",
              "      <th>18</th>\n",
              "      <td>Late Antiquity</td>\n",
              "      <td>284</td>\n",
              "      <td>476</td>\n",
              "      <td>range+period</td>\n",
              "      <td>AD</td>\n",
              "      <td>PeriodO</td>\n",
              "      <td>NaN</td>\n",
              "      <td>http://n2t.net/ark:/99152/p0jrrjb67vs</td>\n",
              "    </tr>\n",
              "    <tr>\n",
              "      <th>19</th>\n",
              "      <td>Claudian</td>\n",
              "      <td>41</td>\n",
              "      <td>54</td>\n",
              "      <td>range+period</td>\n",
              "      <td>AD</td>\n",
              "      <td>PeriodO</td>\n",
              "      <td>NaN</td>\n",
              "      <td>http://n2t.net/ark:/99152/p0jrrjb8spw</td>\n",
              "    </tr>\n",
              "    <tr>\n",
              "      <th>20</th>\n",
              "      <td>Trajanic</td>\n",
              "      <td>98</td>\n",
              "      <td>117</td>\n",
              "      <td>range+period</td>\n",
              "      <td>AD</td>\n",
              "      <td>PeriodO</td>\n",
              "      <td>NaN</td>\n",
              "      <td>http://n2t.net/ark:/99152/p0jrrjbj7h3</td>\n",
              "    </tr>\n",
              "    <tr>\n",
              "      <th>21</th>\n",
              "      <td>Hadrianic</td>\n",
              "      <td>117</td>\n",
              "      <td>138</td>\n",
              "      <td>range+period</td>\n",
              "      <td>AD</td>\n",
              "      <td>PeriodO</td>\n",
              "      <td>NaN</td>\n",
              "      <td>http://n2t.net/ark:/99152/p0jrrjbntfj</td>\n",
              "    </tr>\n",
              "    <tr>\n",
              "      <th>22</th>\n",
              "      <td>Antonine period</td>\n",
              "      <td>96</td>\n",
              "      <td>192</td>\n",
              "      <td>range+period</td>\n",
              "      <td>AD</td>\n",
              "      <td>PeriodO</td>\n",
              "      <td>NaN</td>\n",
              "      <td>http://n2t.net/ark:/99152/p06c6g34zjk</td>\n",
              "    </tr>\n",
              "    <tr>\n",
              "      <th>23</th>\n",
              "      <td>Severan period</td>\n",
              "      <td>193</td>\n",
              "      <td>235</td>\n",
              "      <td>range+period</td>\n",
              "      <td>AD</td>\n",
              "      <td>PeriodO</td>\n",
              "      <td>NaN</td>\n",
              "      <td>http://n2t.net/ark:/99152/p0jrrjbtf3t</td>\n",
              "    </tr>\n",
              "  </tbody>\n",
              "</table>\n",
              "</div>"
            ],
            "text/plain": [
              "                period  start  ...  notes                                   link\n",
              "0            Roman imp    -31  ...    NaN  http://n2t.net/ark:/99152/p08m57hqcc5\n",
              "1             Rom. Imp    -31  ...    NaN  http://n2t.net/ark:/99152/p08m57hqcc5\n",
              "2            aet. imp.    -31  ...    NaN  http://n2t.net/ark:/99152/p08m57hqcc5\n",
              "3            aet. Rom.   -146  ...    NaN                                    NaN\n",
              "4         Roman period   -146  ...    NaN                                    NaN\n",
              "5     reign of Hadrian    117  ...    NaN  http://n2t.net/ark:/99152/p0jrrjbntfj\n",
              "6   reign of Justinian    527  ...    NaN  http://n2t.net/ark:/99152/p06c6g3r7ht\n",
              "7   reign of Ant. Pius    138  ...    NaN  http://n2t.net/ark:/99152/p06c6g3drk4\n",
              "8    reign of Augustus    -27  ...    NaN  http://n2t.net/ark:/99152/p06c6g3xnmx\n",
              "9    reign of Tiberius     14  ...    NaN  http://n2t.net/ark:/99152/p0jrrjbts8w\n",
              "10   reign of Claudius     41  ...    NaN  http://n2t.net/ark:/99152/p0jrrjb8spw\n",
              "11     reign of Trajan     98  ...    NaN  http://n2t.net/ark:/99152/p0jrrjbj7h3\n",
              "12          Christian       1  ...  alone                                    NaN\n",
              "13       Byzantine per    324  ...    NaN  http://n2t.net/ark:/99152/p0m63njtm6w\n",
              "14           Byzantine    324  ...  alone  http://n2t.net/ark:/99152/p0m63njtm6w\n",
              "15         Byzant. per    324  ...    NaN  http://n2t.net/ark:/99152/p0m63njtm6w\n",
              "16           Byzantium    330  ...    NaN  http://n2t.net/ark:/99152/p08vvjk5t32\n",
              "17         Hellenistic   -330  ...    NaN  http://n2t.net/ark:/99152/p03wskd55sw\n",
              "18      Late Antiquity    284  ...    NaN  http://n2t.net/ark:/99152/p0jrrjb67vs\n",
              "19            Claudian     41  ...    NaN  http://n2t.net/ark:/99152/p0jrrjb8spw\n",
              "20            Trajanic     98  ...    NaN  http://n2t.net/ark:/99152/p0jrrjbj7h3\n",
              "21           Hadrianic    117  ...    NaN  http://n2t.net/ark:/99152/p0jrrjbntfj\n",
              "22     Antonine period     96  ...    NaN  http://n2t.net/ark:/99152/p06c6g34zjk\n",
              "23      Severan period    193  ...    NaN  http://n2t.net/ark:/99152/p0jrrjbtf3t\n",
              "\n",
              "[24 rows x 8 columns]"
            ]
          },
          "metadata": {
            "tags": []
          },
          "execution_count": 507
        }
      ]
    },
    {
      "cell_type": "code",
      "metadata": {
        "id": "KVTN1NZ2A6k9",
        "colab_type": "code",
        "colab": {
          "base_uri": "https://localhost:8080/",
          "height": 136
        },
        "outputId": "cff2caa0-2015-4379-f5de-d46dabcd93fe"
      },
      "source": [
        "periods_dict = periods.set_index(\"period\").T.to_dict()\n",
        "periods_dict[\"reign of Claudius\"]"
      ],
      "execution_count": 516,
      "outputs": [
        {
          "output_type": "execute_result",
          "data": {
            "text/plain": [
              "{'era': 'AD',\n",
              " 'link': 'http://n2t.net/ark:/99152/p0jrrjb8spw',\n",
              " 'notes': nan,\n",
              " 'source': 'PeriodO',\n",
              " 'start': 41,\n",
              " 'stop': 54,\n",
              " 'type': 'range+period'}"
            ]
          },
          "metadata": {
            "tags": []
          },
          "execution_count": 516
        }
      ]
    },
    {
      "cell_type": "code",
      "metadata": {
        "id": "8fLTjrTpFqqw",
        "colab_type": "code",
        "colab": {}
      },
      "source": [
        "def extract_period(datation, dating=None):\n",
        "  if (dating==None): dating = {\"type\" : \"unknown\"} \n",
        "  if dating[\"type\"] == \"unknown\":\n",
        "    for key in periods_dict.keys():\n",
        "      if periods_dict[key][\"notes\"] != \"alone\":\n",
        "        if re.search(key, datation, flags=re.IGNORECASE): # use lower cases to match everything\n",
        "          dating_update = periods_dict[key]\n",
        "          break\n",
        "      elif re.search(\"^\\s?\" + key + \"\\s?$\", datation):\n",
        "          dating_update = periods_dict[key]\n",
        "          break\n",
        "      else:\n",
        "          dating_update = {\"type\" : \"unknown\"}\n",
        "    return dating_update\n",
        "  else:\n",
        "    return dating"
      ],
      "execution_count": 532,
      "outputs": []
    },
    {
      "cell_type": "code",
      "metadata": {
        "id": "_ucDtS79Y-kj",
        "colab_type": "code",
        "colab": {
          "base_uri": "https://localhost:8080/",
          "height": 136
        },
        "outputId": "82c10940-b59f-4c24-8fad-255b027e4fb0"
      },
      "source": [
        "# example:\n",
        "for datation in [\"Roman Imperial\", \"reign of Augustus\", \"Antonine period\", \"Christian Anderson\", \"Christian \",\"Book about Byzantine\", \" Byzantine\",]:\n",
        "  print({datation : extract_period(datation)})"
      ],
      "execution_count": 533,
      "outputs": [
        {
          "output_type": "stream",
          "text": [
            "{'Roman Imperial': {'start': -31, 'stop': 410, 'type': 'range+period', 'era': 'AD', 'source': 'PeriodO', 'notes': nan, 'link': 'http://n2t.net/ark:/99152/p08m57hqcc5'}}\n",
            "{'reign of Augustus': {'start': -27, 'stop': 14, 'type': 'range+period', 'era': 'BC/AD', 'source': 'PeriodO', 'notes': nan, 'link': 'http://n2t.net/ark:/99152/p06c6g3xnmx'}}\n",
            "{'Antonine period': {'start': 96, 'stop': 192, 'type': 'range+period', 'era': 'AD', 'source': 'PeriodO', 'notes': nan, 'link': 'http://n2t.net/ark:/99152/p06c6g34zjk'}}\n",
            "{'Christian Anderson': {'type': 'unknown'}}\n",
            "{'Christian ': {'start': 1, 'stop': 2000, 'type': 'range+period', 'era': 'AD', 'source': 'Vojtech', 'notes': 'alone', 'link': nan}}\n",
            "{'Book about Byzantine': {'type': 'unknown'}}\n",
            "{' Byzantine': {'start': 324, 'stop': 1453, 'type': 'range+period', 'era': 'AD', 'source': 'PeriodO', 'notes': 'alone', 'link': 'http://n2t.net/ark:/99152/p0m63njtm6w'}}\n"
          ],
          "name": "stdout"
        }
      ]
    },
    {
      "cell_type": "markdown",
      "metadata": {
        "colab_type": "text",
        "id": "gqnMB8TXIFKM"
      },
      "source": [
        "# Parse \"/\" for individual dates\n",
        "\n",
        "The \"/\" character is use in several different cases, each of which requires slightly different approach. Here we are parsing cases in which it is used for individual date numbers, e.g. \"114/3 BC\", what is translated as an interval (-114, -113). However, if there is a loger range between the two numbers, the \"/\" character is treated as \"or\" and the alternative date is extracted into the \"or\" key within the dictionary."
      ]
    },
    {
      "cell_type": "code",
      "metadata": {
        "id": "1L35w0JIDiGF",
        "colab_type": "code",
        "colab": {
          "base_uri": "https://localhost:8080/",
          "height": 68
        },
        "outputId": "57d157b3-d5f7-450b-b62e-2de27b70dce3"
      },
      "source": [
        "ors = PHI_by_500[PHI_by_500[\"raw_date\"].str.contains(\"(\\d+)(\\/)(\\d+)\")][raw_date\"].tolist()\n",
        "len(ors)"
      ],
      "execution_count": 92,
      "outputs": [
        {
          "output_type": "stream",
          "text": [
            "/usr/local/lib/python3.6/dist-packages/pandas/core/strings.py:1954: UserWarning: This pattern has match groups. To actually get the groups, use str.extract.\n",
            "  return func(self, *args, **kwargs)\n"
          ],
          "name": "stderr"
        },
        {
          "output_type": "execute_result",
          "data": {
            "text/plain": [
              "9664"
            ]
          },
          "metadata": {
            "tags": []
          },
          "execution_count": 92
        }
      ]
    },
    {
      "cell_type": "code",
      "metadata": {
        "id": "cFYx8Y8bLobP",
        "colab_type": "code",
        "colab": {
          "base_uri": "https://localhost:8080/",
          "height": 187
        },
        "outputId": "4edc6a45-59e3-4445-cbe0-56dbacb320ee"
      },
      "source": [
        "# examples of more \"/\" combined with \"-\"\n",
        "[datation for datation in ors if re.search(r'(\\d+)(\\/)(\\d+).?-.?(\\d+)(\\/)(\\d+)', datation)][:10]"
      ],
      "execution_count": 108,
      "outputs": [
        {
          "output_type": "execute_result",
          "data": {
            "text/plain": [
              "['139/8-122/1 BC ',\n",
              " '217/8-226/7 AD?',\n",
              " '331/0-330/29 a.',\n",
              " 'c. 231/0-230/29',\n",
              " 'c. 176/5-170/69',\n",
              " 'c. 176/5-170/69',\n",
              " '167/6-165/4? a.',\n",
              " '74/3-63/2 a.',\n",
              " '132/3-137/8',\n",
              " '132/3-137/8']"
            ]
          },
          "metadata": {
            "tags": []
          },
          "execution_count": 108
        }
      ]
    },
    {
      "cell_type": "code",
      "metadata": {
        "id": "8GQhbPz_D21t",
        "colab_type": "code",
        "colab": {
          "base_uri": "https://localhost:8080/",
          "height": 187
        },
        "outputId": "0c3af3b7-a1bb-455d-c35a-1c94be0c28b6"
      },
      "source": [
        "# examples of more \"/\" combined with \" or \"\n",
        "[datation for datation in ors if re.search(r'(\\d+)(\\/)(\\d+)().?(\\sor\\s).?(\\d+)(\\/)(\\d+)', datation)][:10]"
      ],
      "execution_count": 124,
      "outputs": [
        {
          "output_type": "execute_result",
          "data": {
            "text/plain": [
              "['27/6 or 17/8?',\n",
              " '186/5, 162/1 or 151/0 BC?',\n",
              " '186/5, 162/1 or 151/0 BC?',\n",
              " '14/13 or 9/8 BC',\n",
              " '14/13 or 13/12 BC ',\n",
              " '129/130 or 245/246 AD [229/230 AD (Tataki, Ed. Pr.)] ',\n",
              " '268/7 or 265/4 a. ',\n",
              " '267/6 or 265/4 a. ',\n",
              " '564/5 or 464/5 AD',\n",
              " '578/9 or 494/5 AD']"
            ]
          },
          "metadata": {
            "tags": []
          },
          "execution_count": 124
        }
      ]
    },
    {
      "cell_type": "code",
      "metadata": {
        "colab_type": "code",
        "id": "LCHbxCIBIFKO",
        "colab": {}
      },
      "source": [
        "def complete_numbers(datation, date1, date2):\n",
        "  # if the second number contains less numerals, try to complete it\n",
        "  len_diff = len(date1) - len(date2)\n",
        "  if len_diff > 0:\n",
        "    date2 = date1[:len_diff] + date2\n",
        "  # transform it into integer\n",
        "  date1 = int(date1)\n",
        "  date2 = int(date2)\n",
        "  if (\"AD\" not in datation) and (date1 > date2):\n",
        "    date1 = date1 * -1\n",
        "    date2 = date2 * -1\n",
        "    #if date1 > date2:\n",
        "       #  date1, date2 = date2, date1\n",
        "  return date1, date2\n",
        "\n",
        "def match_or(datation, dating=None):\n",
        "  if dating==None: dating = {\"type\" : \"unknown\"}\n",
        "  if dating[\"type\"] == \"unknown\":\n",
        "    matches = re.findall(r'(\\d+)(\\/)(\\d+)', str(datation), flags=re.IGNORECASE)\n",
        "    if len(matches) != 0:\n",
        "        date1, date2 = complete_numbers(datation, matches[0][0], matches[0][2])\n",
        "        if len(matches) > 1: # if there is more than one match\n",
        "          date3, date4 = complete_numbers(datation, matches[1][0], matches[1][2])         \n",
        "        #if date1 > date2:\n",
        "        #  date1, date2 = date2, date1\n",
        "        if re.search(r'(\\d+)(\\/)(\\d+)().?(\\sor\\s).?(\\d+)(\\/)(\\d+)', datation):\n",
        "          if abs(date1 - date4) < 5: # if it is something like \"331/0 or 330/29 BC\"\n",
        "            dating.update({\"start\" : date1, \"stop\": date4, \"type\" : \"range\"})\n",
        "          else: # treat the or numbers as an alternative range\n",
        "            dating.update({\"start\" : date1, \"stop\": date2, \"type\" : \"range+or\", \"or\": {\"start\" : date3, \"stop\": date4, \"type\" : \"range\"}})\n",
        "        elif re.search(r'(\\d+)(\\/)(\\d+).?-.?(\\d+)(\\/)(\\d+)', datation):\n",
        "          dating.update({\"start\" : date1, \"stop\": date4, \"type\" : \"range\"})\n",
        "        else:\n",
        "          if abs(date1 - date2) < 3:\n",
        "            dating.update({\"start\" : date1, \"stop\": date2, \"type\" : \"range\"})\n",
        "          else:\n",
        "            dating.update({\"exact\" : date1, \"or\": {\"exact\" : date2, \"type\" : \"exact\"}, \"type\" : \"exact+or\"})\n",
        "        dating = extract_ante_and_post(datation, dating)\n",
        "        return dating\n",
        "        #if dating_update[\"type\"] == \"post\":\n",
        "        #   return {\"start\" : date1, \"or\": {\"start\" : date2, \"type\" : \"post\"}, \"type\" : \"post+or\"}\n",
        "        #elif extract_ante_and_post(datation, dating)[\"type\"] == \"ante\":\n",
        "        #  return {\"stop\" : date1, \"or\": {\"stop\" : date2, \"type\" : \"ante\"}, \"type\" : \"ante+or\"}\n",
        "        #else:\n",
        "        #  return {\"exact\" : date1, \"or\": {\"exact\" : date2, \"type\" : \"exact\"}, \"type\" : \"exact+or\"}\n",
        "    else:\n",
        "      return dating\n",
        "  return {\"type\" : \"unknown\"}"
      ],
      "execution_count": 354,
      "outputs": []
    },
    {
      "cell_type": "code",
      "metadata": {
        "id": "Jdjp1OKErR-t",
        "colab_type": "code",
        "colab": {
          "base_uri": "https://localhost:8080/",
          "height": 34
        },
        "outputId": "c95d4b5a-7442-4b6b-bc0c-ed6225b33f32"
      },
      "source": [
        "match_or(\"5th or 4th c. BC\")"
      ],
      "execution_count": 356,
      "outputs": [
        {
          "output_type": "execute_result",
          "data": {
            "text/plain": [
              "{'type': 'unknown'}"
            ]
          },
          "metadata": {
            "tags": []
          },
          "execution_count": 356
        }
      ]
    },
    {
      "cell_type": "code",
      "metadata": {
        "id": "Us522n9frYj6",
        "colab_type": "code",
        "colab": {
          "base_uri": "https://localhost:8080/",
          "height": 34
        },
        "outputId": "14098444-e156-41ba-ed9e-6cfdd1146336"
      },
      "source": [
        "match_or(\" 12/1 BC\")"
      ],
      "execution_count": 357,
      "outputs": [
        {
          "output_type": "execute_result",
          "data": {
            "text/plain": [
              "{'start': -12, 'stop': -11, 'type': 'range'}"
            ]
          },
          "metadata": {
            "tags": []
          },
          "execution_count": 357
        }
      ]
    },
    {
      "cell_type": "code",
      "metadata": {
        "id": "EHQm6j1PAmwH",
        "colab_type": "code",
        "colab": {
          "base_uri": "https://localhost:8080/",
          "height": 34
        },
        "outputId": "a45024b4-0812-4668-d13d-c7f5fdd6a487"
      },
      "source": [
        "match_or(\"229/30 or 230/1\")"
      ],
      "execution_count": 358,
      "outputs": [
        {
          "output_type": "execute_result",
          "data": {
            "text/plain": [
              "{'start': 229, 'stop': 231, 'type': 'range'}"
            ]
          },
          "metadata": {
            "tags": []
          },
          "execution_count": 358
        }
      ]
    },
    {
      "cell_type": "code",
      "metadata": {
        "id": "cTBxsD-ITc2G",
        "colab_type": "code",
        "colab": {
          "base_uri": "https://localhost:8080/",
          "height": 85
        },
        "outputId": "3290c1b6-3c37-4cc1-cc62-969c9c2cd85a"
      },
      "source": [
        "date_extractor(\"27/6 or 17/8\")"
      ],
      "execution_count": 620,
      "outputs": [
        {
          "output_type": "execute_result",
          "data": {
            "text/plain": [
              "{'date_tags': ['range', 'or'],\n",
              " 'not_after': -26,\n",
              " 'not_before': -27,\n",
              " 'or': {'start': 17, 'stop': 18, 'type': 'range'}}"
            ]
          },
          "metadata": {
            "tags": []
          },
          "execution_count": 620
        }
      ]
    },
    {
      "cell_type": "code",
      "metadata": {
        "id": "bSTZyAG7OZ27",
        "colab_type": "code",
        "colab": {
          "base_uri": "https://localhost:8080/",
          "height": 85
        },
        "outputId": "e9075121-42cb-4e6c-c5c8-4d4f763db4a2"
      },
      "source": [
        "match_or(\"27/6 or 17/8\")"
      ],
      "execution_count": 616,
      "outputs": [
        {
          "output_type": "execute_result",
          "data": {
            "text/plain": [
              "{'or': {'start': 17, 'stop': 18, 'type': 'range'},\n",
              " 'start': -27,\n",
              " 'stop': -26,\n",
              " 'type': 'range+or'}"
            ]
          },
          "metadata": {
            "tags": []
          },
          "execution_count": 616
        }
      ]
    },
    {
      "cell_type": "code",
      "metadata": {
        "id": "TfjiWIj7UH4a",
        "colab_type": "code",
        "colab": {}
      },
      "source": [
        ""
      ],
      "execution_count": 621,
      "outputs": []
    },
    {
      "cell_type": "code",
      "metadata": {
        "id": "SJqu9B3hPEzi",
        "colab_type": "code",
        "colab": {
          "base_uri": "https://localhost:8080/",
          "height": 34
        },
        "outputId": "cd3102bb-cd48-473d-f6de-33da4e4f1875"
      },
      "source": [
        "match_or(\"14/13 or 13/12 BC\")"
      ],
      "execution_count": 360,
      "outputs": [
        {
          "output_type": "execute_result",
          "data": {
            "text/plain": [
              "{'start': -14, 'stop': -12, 'type': 'range'}"
            ]
          },
          "metadata": {
            "tags": []
          },
          "execution_count": 360
        }
      ]
    },
    {
      "cell_type": "code",
      "metadata": {
        "id": "2WSle2OPQwNp",
        "colab_type": "code",
        "colab": {
          "base_uri": "https://localhost:8080/",
          "height": 34
        },
        "outputId": "9d8c5167-adda-486f-996d-071d56d4dda4"
      },
      "source": [
        "match_or(\"aft. 14/13 or 13/12 BC\")"
      ],
      "execution_count": 361,
      "outputs": [
        {
          "output_type": "execute_result",
          "data": {
            "text/plain": [
              "{'start': -11, 'stop': None, 'type': 'range+post'}"
            ]
          },
          "metadata": {
            "tags": []
          },
          "execution_count": 361
        }
      ]
    },
    {
      "cell_type": "code",
      "metadata": {
        "id": "9R-CqfEEOw7M",
        "colab_type": "code",
        "colab": {
          "base_uri": "https://localhost:8080/",
          "height": 34
        },
        "outputId": "6faf843b-fc99-4ffe-fc39-513484af9bd1"
      },
      "source": [
        "match_or(\"139/8-122/1 BC\")"
      ],
      "execution_count": 362,
      "outputs": [
        {
          "output_type": "execute_result",
          "data": {
            "text/plain": [
              "{'start': -139, 'stop': -121, 'type': 'range'}"
            ]
          },
          "metadata": {
            "tags": []
          },
          "execution_count": 362
        }
      ]
    },
    {
      "cell_type": "markdown",
      "metadata": {
        "id": "ObqKKNvRInTm",
        "colab_type": "text"
      },
      "source": [
        "# Parse phase"
      ]
    },
    {
      "cell_type": "code",
      "metadata": {
        "id": "TjZtW6x-TG4S",
        "colab_type": "code",
        "colab": {}
      },
      "source": [
        "# parametrization \n",
        "early_late = 0.25 # i.e. first or last 25% of the range\n",
        "beginning_end = 0.1 # i.e. first or last 25% of the range\n",
        "middle = 0.05 # i.e. 5% left of the middle, 5% right of the middle\n",
        "ca = 0.1 # i.e. plus 10% of the range on the left side and plus 10% on the right side"
      ],
      "execution_count": 197,
      "outputs": []
    },
    {
      "cell_type": "code",
      "metadata": {
        "id": "JOdAmuZXJhGZ",
        "colab_type": "code",
        "colab": {}
      },
      "source": [
        "# application of this function requires that you already have a dating dictionary having either start and stop or an exact date (for \"ca.\")\n",
        "def modify_by_phase(datation, dating):\n",
        "  if (not \"phase\" in dating[\"type\"]) and (not \"morece\" in dating[\"type\"]):\n",
        "    try:\n",
        "      start, stop = dating[\"start\"], dating[\"stop\"]\n",
        "      try: \n",
        "        duration = abs(dating[\"stop\"] - dating[\"start\"])\n",
        "      except:\n",
        "        duration = 1\n",
        "      datation = datation.lower()\n",
        "      if \"early\" in datation:\n",
        "        coef = early_late\n",
        "        dating[\"stop\"] = start + round(duration * coef)\n",
        "        dating[\"type\"] = dating[\"type\"] + \"+phase+early\"\n",
        "      if \"late\" in datation:\n",
        "        if \"late antiquity\" not in datation:\n",
        "          coef = early_late\n",
        "          dating[\"start\"] = stop - round(duration * coef)\n",
        "          dating[\"type\"] = dating[\"type\"] + \"+phase+late\"\n",
        "      if re.search(\"(beginning|beg\\.?\\s)\", datation):\n",
        "        coef = beginning_end\n",
        "        dating[\"stop\"] = start + round(duration * coef)\n",
        "        dating[\"type\"] = dating[\"type\"] + \"+phase+beg\"\n",
        "      if re.search(\"(end\\s|fin.\\s)\", datation):\n",
        "        coef = beginning_end\n",
        "        dating[\"start\"] = stop - round(duration * coef)\n",
        "        dating[\"type\"] = dating[\"type\"] + \"+phase+end\"\n",
        "      if re.search(\"(middle|mid\\.?\\s|med\\.\\s)\", datation):\n",
        "        coef = middle # that means: \"middle 2nd c. AD\" => 140 - 161\n",
        "        dating_avr = (dating[\"start\"] + dating[\"stop\"]) / 2\n",
        "        dating[\"start\"] = round(dating_avr - (coef * duration))\n",
        "        dating[\"stop\"] = round(dating_avr + (coef * duration))\n",
        "        dating[\"type\"] = dating[\"type\"] + \"+phase+middle\"\n",
        "      if re.search(\"ca\\.\\s\", datation):\n",
        "        dating[\"type\"] = dating[\"type\"] + \"+phase+ca\"\n",
        "        if (\"exact\" in dating[\"type\"]) or duration < 10:\n",
        "          dating.update({\"start\" : dating[\"exact\"] - 5, \"stop\" : dating[\"exact\"] + 5})\n",
        "          dating[\"exact\"] = None\n",
        "        else:\n",
        "          dating[\"start\"] = start - round(duration * ca)\n",
        "          dating[\"stop\"] = stop + round(duration * ca)\n",
        "      return dating\n",
        "    except:\n",
        "      return dating\n",
        "  else: \n",
        "    return dating"
      ],
      "execution_count": 566,
      "outputs": []
    },
    {
      "cell_type": "code",
      "metadata": {
        "id": "N3e0LnrmB_l0",
        "colab_type": "code",
        "colab": {
          "base_uri": "https://localhost:8080/",
          "height": 34
        },
        "outputId": "6f04d397-bba8-42d2-8483-980495ee5d95"
      },
      "source": [
        "modify_by_phase(\"beg. 5th c. BC\", {\"start\" : -500, \"stop\" : -401, \"type\" : \"range\"})"
      ],
      "execution_count": 567,
      "outputs": [
        {
          "output_type": "execute_result",
          "data": {
            "text/plain": [
              "{'start': -500, 'stop': -490, 'type': 'range+phase+beg'}"
            ]
          },
          "metadata": {
            "tags": []
          },
          "execution_count": 567
        }
      ]
    },
    {
      "cell_type": "code",
      "metadata": {
        "id": "zlnUZvAFaAhu",
        "colab_type": "code",
        "colab": {
          "base_uri": "https://localhost:8080/",
          "height": 34
        },
        "outputId": "da97ddad-4925-4b4f-d4a9-435402aa93d7"
      },
      "source": [
        "# example 1: \"ca.\" in case of individual date\n",
        "datation = \"ca. 200 BC\"\n",
        "dating = {\"start\" : None, \"stop\" : None, \"exact\" : -200, \"type\" : \"exact\", \"era\" : \"BC\"}\n",
        "print(modify_by_phase(datation, dating))"
      ],
      "execution_count": 568,
      "outputs": [
        {
          "output_type": "stream",
          "text": [
            "{'start': -205, 'stop': -195, 'exact': None, 'type': 'exact+phase+ca', 'era': 'BC'}\n"
          ],
          "name": "stdout"
        }
      ]
    },
    {
      "cell_type": "code",
      "metadata": {
        "id": "A0S-JHUjOIm8",
        "colab_type": "code",
        "colab": {
          "base_uri": "https://localhost:8080/",
          "height": 34
        },
        "outputId": "3a696a7e-7488-4dbe-8cb6-6fd908ebd130"
      },
      "source": [
        "#  example 2: \"ca.\" in case of century\n",
        "datation = \"ca. s. II BC\"\n",
        "dating = {\"start\" : -200, \"stop\" : -101, \"type\" : \"range+cent\"}\n",
        "print(modify_by_phase(datation, dating))"
      ],
      "execution_count": 569,
      "outputs": [
        {
          "output_type": "stream",
          "text": [
            "{'start': -210, 'stop': -91, 'type': 'range+cent+phase+ca'}\n"
          ],
          "name": "stdout"
        }
      ]
    },
    {
      "cell_type": "code",
      "metadata": {
        "id": "IKELyfP_847o",
        "colab_type": "code",
        "colab": {
          "base_uri": "https://localhost:8080/",
          "height": 34
        },
        "outputId": "e1772254-123e-4a85-f9ea-75f287eced2f"
      },
      "source": [
        "#  example 3: \"early\"\n",
        "datation = \"early 2nd BC\"\n",
        "dating = {\"start\" : -200, \"stop\" : -101, \"type\" : \"range+cent\"}\n",
        "print(modify_by_phase(datation, dating))"
      ],
      "execution_count": 570,
      "outputs": [
        {
          "output_type": "stream",
          "text": [
            "{'start': -200, 'stop': -175, 'type': 'range+cent+phase+early'}\n"
          ],
          "name": "stdout"
        }
      ]
    },
    {
      "cell_type": "markdown",
      "metadata": {
        "id": "Wmnv7TMsCwqz",
        "colab_type": "text"
      },
      "source": [
        "# Parse centuries"
      ]
    },
    {
      "cell_type": "code",
      "metadata": {
        "id": "a4p8-HnxQ0SW",
        "colab_type": "code",
        "colab": {
          "base_uri": "https://localhost:8080/",
          "height": 328
        },
        "outputId": "2450c605-b647-44f4-bd5f-7fee32017e54"
      },
      "source": [
        "# read centuries table from gsheet\n",
        "centuries_df = get_as_dataframe(PHI_overview.worksheet(\"centuries\"))\n",
        "centuries_df.set_index(\"arabic\", inplace=True)\n",
        "centuries_df"
      ],
      "execution_count": 500,
      "outputs": [
        {
          "output_type": "execute_result",
          "data": {
            "text/html": [
              "<div>\n",
              "<style scoped>\n",
              "    .dataframe tbody tr th:only-of-type {\n",
              "        vertical-align: middle;\n",
              "    }\n",
              "\n",
              "    .dataframe tbody tr th {\n",
              "        vertical-align: top;\n",
              "    }\n",
              "\n",
              "    .dataframe thead th {\n",
              "        text-align: right;\n",
              "    }\n",
              "</style>\n",
              "<table border=\"1\" class=\"dataframe\">\n",
              "  <thead>\n",
              "    <tr style=\"text-align: right;\">\n",
              "      <th></th>\n",
              "      <th>roman</th>\n",
              "      <th>start_BC</th>\n",
              "      <th>stop_BC</th>\n",
              "      <th>start_AD</th>\n",
              "      <th>stop_AD</th>\n",
              "    </tr>\n",
              "    <tr>\n",
              "      <th>arabic</th>\n",
              "      <th></th>\n",
              "      <th></th>\n",
              "      <th></th>\n",
              "      <th></th>\n",
              "      <th></th>\n",
              "    </tr>\n",
              "  </thead>\n",
              "  <tbody>\n",
              "    <tr>\n",
              "      <th>8th</th>\n",
              "      <td>VIII</td>\n",
              "      <td>-800</td>\n",
              "      <td>-701</td>\n",
              "      <td>701</td>\n",
              "      <td>800</td>\n",
              "    </tr>\n",
              "    <tr>\n",
              "      <th>7th</th>\n",
              "      <td>VII</td>\n",
              "      <td>-700</td>\n",
              "      <td>-601</td>\n",
              "      <td>601</td>\n",
              "      <td>700</td>\n",
              "    </tr>\n",
              "    <tr>\n",
              "      <th>6th</th>\n",
              "      <td>VI</td>\n",
              "      <td>-600</td>\n",
              "      <td>-501</td>\n",
              "      <td>501</td>\n",
              "      <td>600</td>\n",
              "    </tr>\n",
              "    <tr>\n",
              "      <th>4th</th>\n",
              "      <td>IV</td>\n",
              "      <td>-400</td>\n",
              "      <td>-301</td>\n",
              "      <td>301</td>\n",
              "      <td>400</td>\n",
              "    </tr>\n",
              "    <tr>\n",
              "      <th>5th</th>\n",
              "      <td>V</td>\n",
              "      <td>-500</td>\n",
              "      <td>-401</td>\n",
              "      <td>401</td>\n",
              "      <td>500</td>\n",
              "    </tr>\n",
              "    <tr>\n",
              "      <th>3rd</th>\n",
              "      <td>III</td>\n",
              "      <td>-300</td>\n",
              "      <td>-201</td>\n",
              "      <td>201</td>\n",
              "      <td>300</td>\n",
              "    </tr>\n",
              "    <tr>\n",
              "      <th>2nd</th>\n",
              "      <td>II</td>\n",
              "      <td>-200</td>\n",
              "      <td>-101</td>\n",
              "      <td>101</td>\n",
              "      <td>200</td>\n",
              "    </tr>\n",
              "    <tr>\n",
              "      <th>1st</th>\n",
              "      <td>I</td>\n",
              "      <td>-100</td>\n",
              "      <td>-1</td>\n",
              "      <td>1</td>\n",
              "      <td>100</td>\n",
              "    </tr>\n",
              "  </tbody>\n",
              "</table>\n",
              "</div>"
            ],
            "text/plain": [
              "       roman  start_BC  stop_BC  start_AD  stop_AD\n",
              "arabic                                            \n",
              "8th     VIII      -800     -701       701      800\n",
              "7th      VII      -700     -601       601      700\n",
              "6th       VI      -600     -501       501      600\n",
              "4th       IV      -400     -301       301      400\n",
              "5th        V      -500     -401       401      500\n",
              "3rd      III      -300     -201       201      300\n",
              "2nd       II      -200     -101       101      200\n",
              "1st        I      -100       -1         1      100"
            ]
          },
          "metadata": {
            "tags": []
          },
          "execution_count": 500
        }
      ]
    },
    {
      "cell_type": "code",
      "metadata": {
        "id": "Ss7wRjSfhN55",
        "colab_type": "code",
        "colab": {
          "base_uri": "https://localhost:8080/",
          "height": 34
        },
        "outputId": "06b59148-e529-40de-d3ec-8f07cb01b6bf"
      },
      "source": [
        "arabics = centuries_df.index.tolist()\n",
        "arabics"
      ],
      "execution_count": 158,
      "outputs": [
        {
          "output_type": "execute_result",
          "data": {
            "text/plain": [
              "['8th', '7th', '6th', '4th', '5th', '3rd', '2nd', '1st']"
            ]
          },
          "metadata": {
            "tags": []
          },
          "execution_count": 158
        }
      ]
    },
    {
      "cell_type": "code",
      "metadata": {
        "id": "7itHvFW6hWxh",
        "colab_type": "code",
        "colab": {
          "base_uri": "https://localhost:8080/",
          "height": 34
        },
        "outputId": "f3ea9dc0-1e04-45d0-a7ad-acee09017cd2"
      },
      "source": [
        "centuries_df[\"roman\"].tolist()"
      ],
      "execution_count": 159,
      "outputs": [
        {
          "output_type": "execute_result",
          "data": {
            "text/plain": [
              "['VIII', 'VII', 'VI', 'IV', 'V', 'III', 'II', 'I']"
            ]
          },
          "metadata": {
            "tags": []
          },
          "execution_count": 159
        }
      ]
    },
    {
      "cell_type": "code",
      "metadata": {
        "id": "dDw8xTdGg2RG",
        "colab_type": "code",
        "colab": {
          "base_uri": "https://localhost:8080/",
          "height": 34
        },
        "outputId": "2bbe5f6f-2427-45e8-8596-cbdd98967e3a"
      },
      "source": [
        "# navigating through the dataframe using index and \".loc[]\"\n",
        "centuries_df.loc[\"3rd\"][\"roman\"]"
      ],
      "execution_count": 160,
      "outputs": [
        {
          "output_type": "execute_result",
          "data": {
            "text/plain": [
              "'III'"
            ]
          },
          "metadata": {
            "tags": []
          },
          "execution_count": 160
        }
      ]
    },
    {
      "cell_type": "code",
      "metadata": {
        "id": "Wj22yZ8srQQZ",
        "colab_type": "code",
        "colab": {
          "base_uri": "https://localhost:8080/",
          "height": 34
        },
        "outputId": "fc90a38e-49a4-42e1-ebb1-f94538706578"
      },
      "source": [
        "any(re.search(arabic, \"2nd c. AD\") for arabic in arabics)"
      ],
      "execution_count": 163,
      "outputs": [
        {
          "output_type": "execute_result",
          "data": {
            "text/plain": [
              "True"
            ]
          },
          "metadata": {
            "tags": []
          },
          "execution_count": 163
        }
      ]
    },
    {
      "cell_type": "code",
      "metadata": {
        "id": "HtZWj1nWcBB0",
        "colab_type": "code",
        "colab": {
          "base_uri": "https://localhost:8080/",
          "height": 34
        },
        "outputId": "52dd23ee-f16d-4304-d9a8-ef0adff11792"
      },
      "source": [
        "datation = \"III bagrt\"\n",
        "cent = \"III\"\n",
        "match =  re.search(\"^\\s?\" + cent + \"(\\s|$|/|-)\", datation)\n",
        "if match:\n",
        "  print(match)"
      ],
      "execution_count": 233,
      "outputs": [
        {
          "output_type": "stream",
          "text": [
            "<_sre.SRE_Match object; span=(0, 4), match='III '>\n"
          ],
          "name": "stdout"
        }
      ]
    },
    {
      "cell_type": "code",
      "metadata": {
        "id": "yM6g97A6UA-m",
        "colab_type": "code",
        "colab": {}
      },
      "source": [
        "def parse_centuries(datation, dating=None):\n",
        "  if dating==None: dating = {\"type\" : \"unknown\"}\n",
        "  if dating[\"type\"] == \"unknown\": \n",
        "    if any(cent for cent in centuries_df[\"roman\"].tolist() if (re.search(\"^\\s?\" + cent + \"($|/)\", datation)) or (re.search(\"(s|c)\\.\", datation))):\n",
        "      for roman, arabic in zip(centuries_df[\"roman\"].tolist(), arabics):\n",
        "        datation = re.sub(roman, arabic, datation)\n",
        "    cents = [cent for cent in centuries_df.index.tolist() if re.search(cent, datation)] # we have the centuries mentioned, but not in right order :-)\n",
        "    if len(cents) > 0:\n",
        "      cents_list = re.split(\"-|/|\\sor\\s\", datation)\n",
        "      if len(cents_list) > 1:\n",
        "        try:\n",
        "          century1 = [re.sub(\".*\" + num + \".*\", num, cents_list[0])  for num in arabics if num in cents_list[0]][0]\n",
        "          century2 = [re.sub(\".*\" + num + \".*\", num, cents_list[1])  for num in arabics if num in cents_list[1]][0]\n",
        "          if (\" AD\" in datation) and (\" BC\" not in datation): # if explicit AD and only AD:\n",
        "            start = modify_by_phase(cents_list[0], {\"start\" : centuries_df.loc[century1][\"start_AD\"], \"stop\" : centuries_df.loc[century1][\"stop_AD\"], \"type\" : \"cent\"})[\"start\"]\n",
        "            stop = modify_by_phase(cents_list[1], {\"start\" : centuries_df.loc[century2][\"start_AD\"], \"stop\" : centuries_df.loc[century2][\"stop_AD\"], \"type\" : \"cent\"})[\"stop\"]\n",
        "            era = \"AD\"\n",
        "          elif (\" BC\" in cents_list[0]) and (\" AD\" in cents_list[1]):\n",
        "            start = modify_by_phase(cents_list[0], {\"start\" : centuries_df.loc[century1][\"start_BC\"], \"stop\" : centuries_df.loc[century1][\"stop_BC\"], \"type\" : \"cent\"})[\"start\"]\n",
        "            stop = modify_by_phase(cents_list[1], {\"start\" : centuries_df.loc[century2][\"start_AD\"], \"stop\" : centuries_df.loc[century2][\"stop_AD\"], \"type\" : \"cent\"})[\"stop\"]\n",
        "            era = \"BC/AD\"\n",
        "          else:\n",
        "            start = modify_by_phase(cents_list[0], {\"start\" : centuries_df.loc[century1][\"start_BC\"], \"stop\" : centuries_df.loc[century1][\"stop_BC\"], \"type\" : \"cent\"})[\"start\"]\n",
        "            stop = modify_by_phase(cents_list[1], {\"start\" : centuries_df.loc[century2][\"start_BC\"], \"stop\" : centuries_df.loc[century2][\"stop_BC\"], \"type\" : \"cent\"})[\"stop\"]\n",
        "            era = \"BC\"\n",
        "          dating_update = {\"start\" : start, \"stop\" : stop, \"era\" : era, \"type\" : \"range+cent+morece\"}\n",
        "        except:\n",
        "          dating_update = dating\n",
        "      elif len(cents) == 1:\n",
        "        century = [re.sub(\".*\" + num + \".*\", num, datation)  for num in arabics if num in datation][0]\n",
        "        if \" AD\" in datation: \n",
        "          start = centuries_df.loc[century][\"start_AD\"]\n",
        "          stop = centuries_df.loc[century][\"stop_AD\"]\n",
        "          era = \"AD\"\n",
        "        else:\n",
        "          start = centuries_df.loc[century][\"start_BC\"]\n",
        "          stop = centuries_df.loc[century][\"stop_BC\"]\n",
        "          era = \"BC\"\n",
        "        dating_update = {\"start\" : start, \"stop\" : stop, \"era\" : era, \"type\" : \"range+cent\"}\n",
        "        dating_update = modify_by_phase(datation, dating_update)\n",
        "      else:\n",
        "        dating_update = {\"type\": \"unknown\"}\n",
        "      return dating_update\n",
        "    else:\n",
        "      return dating\n",
        "  else:\n",
        "    return dating"
      ],
      "execution_count": 501,
      "outputs": []
    },
    {
      "cell_type": "code",
      "metadata": {
        "id": "CNrJGSyyspSQ",
        "colab_type": "code",
        "colab": {
          "base_uri": "https://localhost:8080/",
          "height": 34
        },
        "outputId": "def1758f-140d-4a68-e8b5-f937c0c734bd"
      },
      "source": [
        "# example 1\n",
        "datation = \"III/II\" # \"p.\" and \"a.\" are replaced previously by \"BC\" and \"AD\"\n",
        "parse_centuries(datation)"
      ],
      "execution_count": 240,
      "outputs": [
        {
          "output_type": "execute_result",
          "data": {
            "text/plain": [
              "{'era': 'BC', 'start': -300, 'stop': -101, 'type': 'range+cent+morece'}"
            ]
          },
          "metadata": {
            "tags": []
          },
          "execution_count": 240
        }
      ]
    },
    {
      "cell_type": "code",
      "metadata": {
        "id": "jeOU3EtudcYY",
        "colab_type": "code",
        "colab": {
          "base_uri": "https://localhost:8080/",
          "height": 34
        },
        "outputId": "c9e78ca0-78e8-405b-8fe7-22abdb0cad86"
      },
      "source": [
        "datation = \"fin. s. III/II\" # \"p.\" and \"a.\" are replaced previously by \"BC\" and \"AD\"\n",
        "parse_centuries(datation)"
      ],
      "execution_count": 241,
      "outputs": [
        {
          "output_type": "execute_result",
          "data": {
            "text/plain": [
              "{'era': 'BC', 'start': -211.0, 'stop': -101, 'type': 'range+cent+morece'}"
            ]
          },
          "metadata": {
            "tags": []
          },
          "execution_count": 241
        }
      ]
    },
    {
      "cell_type": "code",
      "metadata": {
        "id": "RZk2RXSdA0sr",
        "colab_type": "code",
        "colab": {
          "base_uri": "https://localhost:8080/",
          "height": 34
        },
        "outputId": "82d7be84-137e-4c63-b51f-a644c4fdad29"
      },
      "source": [
        "# example 1\n",
        "datation = \"late 1st c. AD\" # - early 1st c. AD\" # \"p.\" and \"a.\" are replaced previously by \"BC\" and \"AD\"\n",
        "parse_centuries(datation, {\"type\": \"unknown\"})"
      ],
      "execution_count": 242,
      "outputs": [
        {
          "output_type": "execute_result",
          "data": {
            "text/plain": [
              "{'era': 'AD', 'start': 75.0, 'stop': 100, 'type': 'range+cent+phase+late'}"
            ]
          },
          "metadata": {
            "tags": []
          },
          "execution_count": 242
        }
      ]
    },
    {
      "cell_type": "code",
      "metadata": {
        "id": "csTDyHPeGCH7",
        "colab_type": "code",
        "colab": {
          "base_uri": "https://localhost:8080/",
          "height": 34
        },
        "outputId": "77e3f486-52dc-4fd3-fe1d-11bd82cafe71"
      },
      "source": [
        "# example \n",
        "parse_centuries(\"2nd/3rd c. AD\", {\"era\": \"AD\", \"type\": \"unknown\"})"
      ],
      "execution_count": 243,
      "outputs": [
        {
          "output_type": "execute_result",
          "data": {
            "text/plain": [
              "{'era': 'AD', 'start': 101, 'stop': 300, 'type': 'range+cent+morece'}"
            ]
          },
          "metadata": {
            "tags": []
          },
          "execution_count": 243
        }
      ]
    },
    {
      "cell_type": "code",
      "metadata": {
        "id": "o2WfKqkY0JY9",
        "colab_type": "code",
        "colab": {
          "base_uri": "https://localhost:8080/",
          "height": 34
        },
        "outputId": "6cd7f0ae-fdd2-4e02-c0dd-1dec46ff4cbf"
      },
      "source": [
        "# example\n",
        "parse_centuries(\"late 2nd c. BC/beginning 1st c. BC\")"
      ],
      "execution_count": 245,
      "outputs": [
        {
          "output_type": "execute_result",
          "data": {
            "text/plain": [
              "{'era': 'BC', 'start': -126.0, 'stop': -90.0, 'type': 'range+cent+morece'}"
            ]
          },
          "metadata": {
            "tags": []
          },
          "execution_count": 245
        }
      ]
    },
    {
      "cell_type": "code",
      "metadata": {
        "id": "f315RkowbvDD",
        "colab_type": "code",
        "colab": {}
      },
      "source": [
        ""
      ],
      "execution_count": null,
      "outputs": []
    },
    {
      "cell_type": "markdown",
      "metadata": {
        "id": "coHsL_P5f0LX",
        "colab_type": "text"
      },
      "source": [
        "# Simple dates and ranges\n",
        "This the last function we apply, since it overlooks all potential relevant information and looks for individual dates and straighforward ranges."
      ]
    },
    {
      "cell_type": "code",
      "metadata": {
        "id": "eZZt94TWf3jU",
        "colab_type": "code",
        "colab": {}
      },
      "source": [
        " def simple_dates_and_ranges(datation, dating=None):\n",
        "  if dating==None: dating = {\"type\" : \"unknown\"}\n",
        "  if dating[\"type\"] == \"unknown\":\n",
        "    if \" AD\" in datation:\n",
        "      dating[\"era\"] = \"AD\" \n",
        "      try:\n",
        "        date_both = re.search('(\\d+)(\\-)(\\d+)', datation, flags=re.IGNORECASE).groups()\n",
        "        if any(time_indicator in datation for time_indicator in [\" BC\", \" AD\", \"prob\", \"possi\"]):\n",
        "          date1, date2 = date_both[0], date_both[2]\n",
        "          len_diff = len(date1) - len(date2)\n",
        "          if len_diff > 0:\n",
        "            date2 = date1[:len_diff] + date2\n",
        "          dating.update({\"start\" : int(date1), \"stop\" : int(date2), \"type\" : \"range\"})\n",
        "      except:  \n",
        "        try:\n",
        "          match = re.search('\\d+', datation, flags=re.IGNORECASE)\n",
        "          if any(time_indicator in datation for time_indicator in [\" BC\", \" AD\", \"prob\", \"possi\"]):\n",
        "            dating.update({\"exact\" : int(match[0]), \"type\": \"exact\"})\n",
        "        except:\n",
        "          pass\n",
        "    else:\n",
        "      try:\n",
        "        date_both = re.search('(\\d+)(\\-)(\\d+)', datation, flags=re.IGNORECASE).groups()\n",
        "        if any(time_indicator in datation for time_indicator in [\" BC\", \" AD\", \"prob\", \"possi\"]):\n",
        "          date1, date2 = date_both[0], date_both[2]\n",
        "          len_diff = len(date1) - len(date2)\n",
        "          if len_diff > 0:\n",
        "            date2 = date1[:len_diff] + date2\n",
        "          date1, date2 = int(date1) * -1, int(date2) * -1\n",
        "          if date1 < date2:\n",
        "            dating.update({\"start\" : date1, \"stop\" : date2, \"type\" : \"range\", \"era\" : \"BC\"})\n",
        "      except:  \n",
        "        match = re.match(\"^\\s?(\\d+)\\s?$\", datation) # if it is just one number and nothing else (single numbers are good) \n",
        "        if match:\n",
        "          dating.update({\"exact\" : int(match[0]) * -1, \"type\": \"exact\"})\n",
        "        else:\n",
        "          if any(time_indicator in datation for time_indicator in [\" BC\", \" AD\", \"prob\", \"possi\"]):\n",
        "            match = re.search('\\d+', datation, flags=re.IGNORECASE)\n",
        "            dating.update({\"exact\" : int(match[0]) * -1, \"type\": \"exact\"})\n",
        "  return dating"
      ],
      "execution_count": 444,
      "outputs": []
    },
    {
      "cell_type": "code",
      "metadata": {
        "id": "OCxUWrYLsFcj",
        "colab_type": "code",
        "colab": {
          "base_uri": "https://localhost:8080/",
          "height": 34
        },
        "outputId": "98c37eeb-7aa1-4dff-fb90-9eb41a1a3c1e"
      },
      "source": [
        "simple_dates_and_ranges(\"4th or 5th c. AD\", {\"type\": \"century\"})"
      ],
      "execution_count": 368,
      "outputs": [
        {
          "output_type": "execute_result",
          "data": {
            "text/plain": [
              "{'type': 'century'}"
            ]
          },
          "metadata": {
            "tags": []
          },
          "execution_count": 368
        }
      ]
    },
    {
      "cell_type": "code",
      "metadata": {
        "id": "1wj_VvPLguGt",
        "colab_type": "code",
        "colab": {
          "base_uri": "https://localhost:8080/",
          "height": 51
        },
        "outputId": "c953a535-bfb5-48af-ba83-c67ccef6ab23"
      },
      "source": [
        "simple_dates_and_ranges(\"320 BC\")"
      ],
      "execution_count": 370,
      "outputs": [
        {
          "output_type": "stream",
          "text": [
            "here\n"
          ],
          "name": "stdout"
        },
        {
          "output_type": "execute_result",
          "data": {
            "text/plain": [
              "{'exact': -320, 'type': 'exact'}"
            ]
          },
          "metadata": {
            "tags": []
          },
          "execution_count": 370
        }
      ]
    },
    {
      "cell_type": "code",
      "metadata": {
        "id": "Flr7YFoYgz_H",
        "colab_type": "code",
        "colab": {
          "base_uri": "https://localhost:8080/",
          "height": 34
        },
        "outputId": "3a14ccc5-e07e-4e4b-ec7e-95c011505229"
      },
      "source": [
        "simple_dates_and_ranges(\"213 AD\")"
      ],
      "execution_count": 318,
      "outputs": [
        {
          "output_type": "execute_result",
          "data": {
            "text/plain": [
              "{'era': 'AD', 'exact': 213, 'type': 'exact'}"
            ]
          },
          "metadata": {
            "tags": []
          },
          "execution_count": 318
        }
      ]
    },
    {
      "cell_type": "code",
      "metadata": {
        "id": "1BW568W-ie7m",
        "colab_type": "code",
        "colab": {
          "base_uri": "https://localhost:8080/",
          "height": 34
        },
        "outputId": "ac225c60-6b36-4ece-edb6-c306d0064834"
      },
      "source": [
        "simple_dates_and_ranges(\"213-4 AD\")"
      ],
      "execution_count": 319,
      "outputs": [
        {
          "output_type": "execute_result",
          "data": {
            "text/plain": [
              "{'era': 'AD', 'start': 213, 'stop': 214, 'type': 'range'}"
            ]
          },
          "metadata": {
            "tags": []
          },
          "execution_count": 319
        }
      ]
    },
    {
      "cell_type": "code",
      "metadata": {
        "id": "uuQMrNv-g5Fw",
        "colab_type": "code",
        "colab": {
          "base_uri": "https://localhost:8080/",
          "height": 34
        },
        "outputId": "6fa64d31-0d0b-46fa-f81e-247a24bafce6"
      },
      "source": [
        "simple_dates_and_ranges(\"124-15 BC\")"
      ],
      "execution_count": 320,
      "outputs": [
        {
          "output_type": "execute_result",
          "data": {
            "text/plain": [
              "{'era': 'BC', 'start': -124, 'stop': -115, 'type': 'range'}"
            ]
          },
          "metadata": {
            "tags": []
          },
          "execution_count": 320
        }
      ]
    },
    {
      "cell_type": "markdown",
      "metadata": {
        "id": "2HsBdFeXY_WQ",
        "colab_type": "text"
      },
      "source": [
        "# Main function"
      ]
    },
    {
      "cell_type": "code",
      "metadata": {
        "id": "qkvYnUWhOZW2",
        "colab_type": "code",
        "colab": {}
      },
      "source": [
        "def change_dict_structure(dictionary):\n",
        "  try:\n",
        "    for tup in [[\"not_before\", \"start\"], [\"not_after\", \"stop\"]]:\n",
        "      try: dictionary[tup[0]] = int(dictionary.pop(tup[1]))\n",
        "      except: dictionary[tup[0]] = None\n",
        "    try: dictionary.update({\"not_before\" : int(dictionary[\"exact\"]), \"not_after\" : int(dictionary[\"exact\"])})\n",
        "    except: pass\n",
        "    try: dictionary[\"date_tags\"] = dictionary.pop(\"type\").split(\"+\")\n",
        "    except: dictionary[\"date_tags\"] = \"unknown\"\n",
        "    #for key in dictionary.keys():\n",
        "    #  if key in [\"exact\"]:\n",
        "    #    del dictionary[key]\n",
        "    return dictionary\n",
        "  except: \n",
        "    print(\"some problem\")\n",
        "    pass"
      ],
      "execution_count": 629,
      "outputs": []
    },
    {
      "cell_type": "code",
      "metadata": {
        "id": "ro85091cVcB4",
        "colab_type": "code",
        "colab": {}
      },
      "source": [
        "def date_extractor(datation):\n",
        "  dating = {\"start\": None, \"stop\": None, \"exact\": None, \"or\": None, \"type\": \"unknown\", \"era\": None}\n",
        "  #replace \" a.\" and \" p.\" when at the end of datation or before \"/\" or \"-\"\n",
        "  datation = re.sub(\"(\\s)(a\\.)(\\-|\\/|$)\", r\"\\1BC\\3\", datation)\n",
        "  datation = re.sub(\"(\\s)(p\\.)(\\-|\\/|$)\", r\"\\1AD\\3\", datation)\n",
        "  datation = re.sub(\"(\\(|\\)|\\[|\\])\", \"\", datation)   # remove brackets\n",
        "  # UNCERTAINTY\n",
        "  if \"?\" in datation:\n",
        "    datation = datation.replace(\"?\", \"\")\n",
        "    dating[\"certainty\"] = \"?\"\n",
        "  #if datation[0] == \"[\":\n",
        "  #  datation = datation[1:-1]\n",
        "  #  dating[\"certainty\"] = \"?\"\n",
        "  # ranges combining BC and AD:\n",
        "  match = re.search(\"(\\d+)(\\s(a\\.|BC))(\\-)(\\d+)(\\s(p\\.|AD))\", datation) # (/sa/.)(/-)(/d+)(/sp/.)\"\n",
        "  if match:\n",
        "    dating.update({\"start\" : int(match.groups()[0]) * -1, \"stop\" : match.groups()[4], \"era\" : \"BC/AD\", \"type\" : \"range\"})\n",
        "  # simple ante quem and postquem\n",
        "  dating.update(extract_ante_and_post(datation, dating))\n",
        "  # PERIODS\n",
        "  dating.update(extract_period(datation, dating))\n",
        "  # CENTURIES\n",
        "  dating.update(parse_centuries(datation, dating))\n",
        "  # \"year/year\"\n",
        "  if dating[\"type\"] == \"unknown\":\n",
        "    dating.update(match_or(datation, dating)) # find all \"/\" instances linked with individual years\n",
        "  # if we still don't know:\n",
        "  dating.update(simple_dates_and_ranges(datation, dating))\n",
        "  # extract phases (e.g. \"early\", \"middle\", \"late\", \"beginning\" etc.)\n",
        "  dating.update(modify_by_phase(datation, dating))\n",
        "  # extract ante quem and post quem for ranges\n",
        "  try:\n",
        "    dating.update(extract_ante_and_post(datation, dating))\n",
        "  except:\n",
        "    pass\n",
        "  if dating[\"type\"]==\"unknown\":\n",
        "    dating.update({\"start\": None, \"stop\": None, \"exact\": None, \"or\": None, \"type\": \"unknown\", \"era\" : None})\n",
        "  dating = change_dict_structure(dating)\n",
        "  if dating[\"or\"] != None:\n",
        "    dating[\"or\"] = change_dict_structure(dating[\"or\"])\n",
        "  del dating[\"exact\"], dating[\"era\"]\n",
        "  for key in [\"certainty\", \"or\", \"link\"]:\n",
        "    try: dating[key] = dating[key]\n",
        "    except: dating[key] = None\n",
        "  return dating"
      ],
      "execution_count": 667,
      "outputs": []
    },
    {
      "cell_type": "code",
      "metadata": {
        "id": "Ncy9XuXiOIc0",
        "colab_type": "code",
        "colab": {
          "base_uri": "https://localhost:8080/",
          "height": 119
        },
        "outputId": "f55b33d8-5ff1-42d5-fe85-daca588663ec"
      },
      "source": [
        "date_extractor(\"med. s. V a.\")"
      ],
      "execution_count": 668,
      "outputs": [
        {
          "output_type": "execute_result",
          "data": {
            "text/plain": [
              "{'certainty': None,\n",
              " 'date_tags': ['range', 'cent', 'phase', 'middle'],\n",
              " 'link': None,\n",
              " 'not_after': -446,\n",
              " 'not_before': -455,\n",
              " 'or': None}"
            ]
          },
          "metadata": {
            "tags": []
          },
          "execution_count": 668
        }
      ]
    },
    {
      "cell_type": "code",
      "metadata": {
        "id": "Plgl9rbr0Yg0",
        "colab_type": "code",
        "colab": {
          "base_uri": "https://localhost:8080/",
          "height": 119
        },
        "outputId": "2aba3ad9-770f-490d-96f7-c2063d904df2"
      },
      "source": [
        "datation = \"5th (or 4th?) c. BC\"\n",
        "date_extractor(datation)"
      ],
      "execution_count": 669,
      "outputs": [
        {
          "output_type": "execute_result",
          "data": {
            "text/plain": [
              "{'certainty': '?',\n",
              " 'date_tags': ['range', 'cent', 'morece'],\n",
              " 'link': None,\n",
              " 'not_after': -301,\n",
              " 'not_before': -500,\n",
              " 'or': None}"
            ]
          },
          "metadata": {
            "tags": []
          },
          "execution_count": 669
        }
      ]
    },
    {
      "cell_type": "code",
      "metadata": {
        "id": "oLe_I4-3b15m",
        "colab_type": "code",
        "colab": {
          "base_uri": "https://localhost:8080/",
          "height": 119
        },
        "outputId": "28750c4e-4238-4397-8019-bdd8b9b44563"
      },
      "source": [
        "date_extractor(\"14/13 or 13/12 BC\") "
      ],
      "execution_count": 594,
      "outputs": [
        {
          "output_type": "execute_result",
          "data": {
            "text/plain": [
              "{'date_tags': ['range'],\n",
              " 'era': None,\n",
              " 'exact': None,\n",
              " 'not_after': -12,\n",
              " 'not_before': -14,\n",
              " 'or': None}"
            ]
          },
          "metadata": {
            "tags": []
          },
          "execution_count": 594
        }
      ]
    },
    {
      "cell_type": "code",
      "metadata": {
        "id": "gp4xcY9Y06xo",
        "colab_type": "code",
        "colab": {
          "base_uri": "https://localhost:8080/",
          "height": 119
        },
        "outputId": "cbd3080b-e0ec-4d31-ffa7-a841d82aa6fa"
      },
      "source": [
        "date_extractor(\"after 216/5\") "
      ],
      "execution_count": 588,
      "outputs": [
        {
          "output_type": "execute_result",
          "data": {
            "text/plain": [
              "{'date_tags': ['range', 'post'],\n",
              " 'era': None,\n",
              " 'exact': None,\n",
              " 'not_after': None,\n",
              " 'not_before': -214,\n",
              " 'or': None}"
            ]
          },
          "metadata": {
            "tags": []
          },
          "execution_count": 588
        }
      ]
    },
    {
      "cell_type": "code",
      "metadata": {
        "id": "zIKQ9sHM0pKj",
        "colab_type": "code",
        "colab": {
          "base_uri": "https://localhost:8080/",
          "height": 85
        },
        "outputId": "1ec3880d-835d-414f-9bf4-48633f6538eb"
      },
      "source": [
        "date_extractor(\"after 14/13 or 13/12 BC\") "
      ],
      "execution_count": 633,
      "outputs": [
        {
          "output_type": "execute_result",
          "data": {
            "text/plain": [
              "{'date_tags': ['range', 'post'],\n",
              " 'not_after': None,\n",
              " 'not_before': -11,\n",
              " 'or': None}"
            ]
          },
          "metadata": {
            "tags": []
          },
          "execution_count": 633
        }
      ]
    },
    {
      "cell_type": "code",
      "metadata": {
        "id": "Lu_f5sLwJTYB",
        "colab_type": "code",
        "colab": {
          "base_uri": "https://localhost:8080/",
          "height": 85
        },
        "outputId": "0d475b64-a0f3-407b-e7d4-70d306736bf8"
      },
      "source": [
        "date_extractor(\"s. II/III AD\")"
      ],
      "execution_count": 634,
      "outputs": [
        {
          "output_type": "execute_result",
          "data": {
            "text/plain": [
              "{'date_tags': ['range', 'cent', 'morece'],\n",
              " 'not_after': 300,\n",
              " 'not_before': 101,\n",
              " 'or': None}"
            ]
          },
          "metadata": {
            "tags": []
          },
          "execution_count": 634
        }
      ]
    },
    {
      "cell_type": "code",
      "metadata": {
        "id": "CUrl5gm5Bmn2",
        "colab_type": "code",
        "colab": {
          "base_uri": "https://localhost:8080/",
          "height": 85
        },
        "outputId": "aa9ac68b-f05e-4252-d4b7-060c9702c2f2"
      },
      "source": [
        "date_extractor(\"fin. s. I a./s. I p.\")"
      ],
      "execution_count": 635,
      "outputs": [
        {
          "output_type": "execute_result",
          "data": {
            "text/plain": [
              "{'date_tags': ['range', 'cent', 'morece'],\n",
              " 'not_after': 100,\n",
              " 'not_before': -11,\n",
              " 'or': None}"
            ]
          },
          "metadata": {
            "tags": []
          },
          "execution_count": 635
        }
      ]
    },
    {
      "cell_type": "code",
      "metadata": {
        "id": "058aow1mGtes",
        "colab_type": "code",
        "colab": {
          "base_uri": "https://localhost:8080/",
          "height": 85
        },
        "outputId": "8e6d5c94-e07e-4ca9-cf1d-e1608e53c293"
      },
      "source": [
        "date_extractor(\"2nd-early 3rd c. AD\")"
      ],
      "execution_count": 636,
      "outputs": [
        {
          "output_type": "execute_result",
          "data": {
            "text/plain": [
              "{'date_tags': ['range', 'cent', 'morece'],\n",
              " 'not_after': 226,\n",
              " 'not_before': 101,\n",
              " 'or': None}"
            ]
          },
          "metadata": {
            "tags": []
          },
          "execution_count": 636
        }
      ]
    },
    {
      "cell_type": "code",
      "metadata": {
        "id": "4A9-SIRgt58A",
        "colab_type": "code",
        "colab": {
          "base_uri": "https://localhost:8080/",
          "height": 34
        },
        "outputId": "9f0bd02d-bb55-42bd-a58e-5c9d0668d4ed"
      },
      "source": [
        "date_extractor(\"320 BC\")"
      ],
      "execution_count": 637,
      "outputs": [
        {
          "output_type": "execute_result",
          "data": {
            "text/plain": [
              "{'date_tags': ['exact'], 'not_after': -320, 'not_before': -320, 'or': None}"
            ]
          },
          "metadata": {
            "tags": []
          },
          "execution_count": 637
        }
      ]
    },
    {
      "cell_type": "code",
      "metadata": {
        "id": "mACWIOUIt9Lk",
        "colab_type": "code",
        "colab": {
          "base_uri": "https://localhost:8080/",
          "height": 34
        },
        "outputId": "08358e38-1af8-4d58-a845-a49e6796c186"
      },
      "source": [
        "date_extractor(\"post 120 AD\")"
      ],
      "execution_count": 638,
      "outputs": [
        {
          "output_type": "execute_result",
          "data": {
            "text/plain": [
              "{'date_tags': ['post'], 'not_after': None, 'not_before': 121, 'or': None}"
            ]
          },
          "metadata": {
            "tags": []
          },
          "execution_count": 638
        }
      ]
    },
    {
      "cell_type": "code",
      "metadata": {
        "id": "Buy525lpuB3G",
        "colab_type": "code",
        "colab": {
          "base_uri": "https://localhost:8080/",
          "height": 85
        },
        "outputId": "aea9cab8-244f-47e7-ee28-178f1021a949"
      },
      "source": [
        "date_extractor(\"after 4th c. BC\")"
      ],
      "execution_count": 639,
      "outputs": [
        {
          "output_type": "execute_result",
          "data": {
            "text/plain": [
              "{'date_tags': ['range', 'cent', 'post'],\n",
              " 'not_after': None,\n",
              " 'not_before': -300,\n",
              " 'or': None}"
            ]
          },
          "metadata": {
            "tags": []
          },
          "execution_count": 639
        }
      ]
    },
    {
      "cell_type": "code",
      "metadata": {
        "id": "FSBBZNATNuB_",
        "colab_type": "code",
        "colab": {
          "base_uri": "https://localhost:8080/",
          "height": 173
        },
        "outputId": "3c017bf1-0bd1-495e-8d45-a64845ac490e"
      },
      "source": [
        "# testing/example\n",
        "for datation in [\"Byzantine\", \"non ante s. II a.\", \"140/39 BC\", \"Rom. Imp\", \"reign of Augustus\", \"ante 140 BC\", \"late Antonine period\", \"IosPE IV 348\"]:\n",
        "  print(datation, date_extractor(datation))"
      ],
      "execution_count": 640,
      "outputs": [
        {
          "output_type": "stream",
          "text": [
            "Byzantine {'or': None, 'source': 'PeriodO', 'notes': 'alone', 'link': 'http://n2t.net/ark:/99152/p0m63njtm6w', 'not_before': 324, 'not_after': 1453, 'date_tags': ['range', 'period']}\n",
            "non ante s. II a. {'or': None, 'not_before': -200, 'not_after': None, 'date_tags': ['range', 'cent', 'post']}\n",
            "140/39 BC {'or': None, 'not_before': -140, 'not_after': -139, 'date_tags': ['range']}\n",
            "Rom. Imp {'or': None, 'source': 'PeriodO', 'notes': nan, 'link': 'http://n2t.net/ark:/99152/p08m57hqcc5', 'not_before': -31, 'not_after': 410, 'date_tags': ['range', 'period']}\n",
            "reign of Augustus {'or': None, 'source': 'PeriodO', 'notes': nan, 'link': 'http://n2t.net/ark:/99152/p06c6g3xnmx', 'not_before': -27, 'not_after': 14, 'date_tags': ['range', 'period']}\n",
            "ante 140 BC {'or': None, 'not_before': None, 'not_after': -141, 'date_tags': ['ante']}\n",
            "late Antonine period {'or': None, 'source': 'PeriodO', 'notes': nan, 'link': 'http://n2t.net/ark:/99152/p06c6g34zjk', 'not_before': 168, 'not_after': 192, 'date_tags': ['range', 'period', 'phase', 'late']}\n",
            "IosPE IV 348 {'or': None, 'not_before': None, 'not_after': None, 'date_tags': ['unknown']}\n"
          ],
          "name": "stdout"
        }
      ]
    },
    {
      "cell_type": "code",
      "metadata": {
        "id": "4pDl1D82cRjk",
        "colab_type": "code",
        "colab": {
          "base_uri": "https://localhost:8080/",
          "height": 34
        },
        "outputId": "08409ab8-1bd6-4ae2-8db1-eef2168c18f8"
      },
      "source": [
        "datation = \"Nécrop.Myr. 224,5\"\n",
        "date_extractor(datation)"
      ],
      "execution_count": 641,
      "outputs": [
        {
          "output_type": "execute_result",
          "data": {
            "text/plain": [
              "{'date_tags': ['unknown'], 'not_after': None, 'not_before': None, 'or': None}"
            ]
          },
          "metadata": {
            "tags": []
          },
          "execution_count": 641
        }
      ]
    },
    {
      "cell_type": "code",
      "metadata": {
        "id": "9OdIdvCbEOB9",
        "colab_type": "code",
        "colab": {
          "base_uri": "https://localhost:8080/",
          "height": 85
        },
        "outputId": "9bd3aa5b-f97e-4bf8-cb51-510901ddb6ee"
      },
      "source": [
        " datation = \" non ante med. s. II p.\"\n",
        " date_extractor(datation)"
      ],
      "execution_count": 642,
      "outputs": [
        {
          "output_type": "execute_result",
          "data": {
            "text/plain": [
              "{'date_tags': ['range', 'cent', 'phase', 'middle', 'post'],\n",
              " 'not_after': None,\n",
              " 'not_before': 146,\n",
              " 'or': None}"
            ]
          },
          "metadata": {
            "tags": []
          },
          "execution_count": 642
        }
      ]
    },
    {
      "cell_type": "code",
      "metadata": {
        "id": "dpHxVljmJeBZ",
        "colab_type": "code",
        "colab": {
          "base_uri": "https://localhost:8080/",
          "height": 136
        },
        "outputId": "1d214a63-121e-49b6-8967-0d5b712faf03"
      },
      "source": [
        "date_extractor(\"not bef. the Antonine period\")"
      ],
      "execution_count": 643,
      "outputs": [
        {
          "output_type": "execute_result",
          "data": {
            "text/plain": [
              "{'date_tags': ['range', 'period', 'post'],\n",
              " 'link': 'http://n2t.net/ark:/99152/p06c6g34zjk',\n",
              " 'not_after': None,\n",
              " 'not_before': 96,\n",
              " 'notes': nan,\n",
              " 'or': None,\n",
              " 'source': 'PeriodO'}"
            ]
          },
          "metadata": {
            "tags": []
          },
          "execution_count": 643
        }
      ]
    },
    {
      "cell_type": "code",
      "metadata": {
        "id": "FQck_F8xWCqy",
        "colab_type": "code",
        "colab": {
          "base_uri": "https://localhost:8080/",
          "height": 85
        },
        "outputId": "d5343dd0-4be0-4a26-e561-e6484c4c90f1"
      },
      "source": [
        "date_extractor(\"1st BC/1st AD\")"
      ],
      "execution_count": 644,
      "outputs": [
        {
          "output_type": "execute_result",
          "data": {
            "text/plain": [
              "{'date_tags': ['range', 'cent', 'morece'],\n",
              " 'not_after': 100,\n",
              " 'not_before': -100,\n",
              " 'or': None}"
            ]
          },
          "metadata": {
            "tags": []
          },
          "execution_count": 644
        }
      ]
    },
    {
      "cell_type": "code",
      "metadata": {
        "id": "QAmgMGeyLTdY",
        "colab_type": "code",
        "colab": {
          "base_uri": "https://localhost:8080/",
          "height": 34
        },
        "outputId": "39b2ad3a-dd62-4f17-d86d-d20d5981bf13"
      },
      "source": [
        "date_extractor(\"Newton, Disc. II 742-43:91\")"
      ],
      "execution_count": 645,
      "outputs": [
        {
          "output_type": "execute_result",
          "data": {
            "text/plain": [
              "{'date_tags': ['unknown'], 'not_after': None, 'not_before': None, 'or': None}"
            ]
          },
          "metadata": {
            "tags": []
          },
          "execution_count": 645
        }
      ]
    },
    {
      "cell_type": "code",
      "metadata": {
        "id": "2ApLYR1QEvCP",
        "colab_type": "code",
        "colab": {
          "base_uri": "https://localhost:8080/",
          "height": 34
        },
        "outputId": "5f62c834-077f-4b84-cc83-ff2113ef60fb"
      },
      "source": [
        "datation = \"27 a.-14 p.\"\n",
        "match = re.search(\"(\\d+)(\\s(a\\.|BP))(\\-)(\\d+)(\\s(p\\.|AD))\", datation) # (/sa/.)(/-)(/d+)(/sp/.)\"\n",
        "if match:\n",
        "  dating = {\"start\" : int(match.groups()[0]) * -1, \"stop\" : match.groups()[4], \"era\" : \"BC/AD\", \"type\" : \"range\"}\n",
        "dating"
      ],
      "execution_count": 646,
      "outputs": [
        {
          "output_type": "execute_result",
          "data": {
            "text/plain": [
              "{'era': 'BC/AD', 'start': -27, 'stop': '14', 'type': 'range'}"
            ]
          },
          "metadata": {
            "tags": []
          },
          "execution_count": 646
        }
      ]
    },
    {
      "cell_type": "markdown",
      "metadata": {
        "id": "-K4kl6vEWD8t",
        "colab_type": "text"
      },
      "source": [
        "# Testing with sample 1 (by 500)"
      ]
    },
    {
      "cell_type": "code",
      "metadata": {
        "id": "_GoGsIUwuT9I",
        "colab_type": "code",
        "colab": {
          "base_uri": "https://localhost:8080/",
          "height": 1000
        },
        "outputId": "ac80843b-7afe-4bd1-a5be-7d527734cd03"
      },
      "source": [
        "test_list = PHI_by_500[\"raw_date\"].tolist()\n",
        "for datation in test_list:\n",
        "  print(datation, date_extractor(datation))"
      ],
      "execution_count": 647,
      "outputs": [
        {
          "output_type": "stream",
          "text": [
            "IStr 427 {'or': None, 'not_before': None, 'not_after': None, 'date_tags': ['unknown']}\n",
            "Rom. Imp. period {'or': None, 'source': 'PeriodO', 'notes': nan, 'link': 'http://n2t.net/ark:/99152/p08m57hqcc5', 'not_before': -31, 'not_after': 410, 'date_tags': ['range', 'period']}\n",
            "220/19 {'or': None, 'not_before': -220, 'not_after': -219, 'date_tags': ['range']}\n",
            "Thasos {'or': None, 'not_before': None, 'not_after': None, 'date_tags': ['unknown']}\n",
            "el-Boueib {'or': None, 'not_before': None, 'not_after': None, 'date_tags': ['unknown']}\n",
            "ca. 100-150 AD {'or': None, 'not_before': 95, 'not_after': 155, 'date_tags': ['range', 'phase', 'ca']}\n",
            "267-668 AD {'or': None, 'not_before': 267, 'not_after': 668, 'date_tags': ['range']}\n",
            "1st c. BC  {'or': None, 'not_before': -100, 'not_after': -1, 'date_tags': ['range', 'cent']}\n",
            "Roman period?  {'or': None, 'certainty': '?', 'source': nan, 'notes': nan, 'link': nan, 'not_before': -146, 'not_after': 324, 'date_tags': ['range', 'period']}\n",
            "155 AD  {'or': None, 'not_before': 155, 'not_after': 155, 'date_tags': ['exact']}\n",
            "199 AD {'or': None, 'not_before': 199, 'not_after': 199, 'date_tags': ['exact']}\n",
            "2nd/3rd c. AD {'or': None, 'not_before': 101, 'not_after': 300, 'date_tags': ['range', 'cent', 'morece']}\n",
            "JHS 25,1905,56 Nr.4 {'or': None, 'not_before': None, 'not_after': None, 'date_tags': ['unknown']}\n",
            "ca. 100-150 AD  {'or': None, 'not_before': 95, 'not_after': 155, 'date_tags': ['range', 'phase', 'ca']}\n",
            "1st c. BC  {'or': None, 'not_before': -100, 'not_after': -1, 'date_tags': ['range', 'cent']}\n",
            "ca. 300-250 BC {'or': None, 'not_before': -305, 'not_after': -245, 'date_tags': ['range', 'phase', 'ca']}\n",
            "beg. 2nd c. BC {'or': None, 'not_before': -200, 'not_after': -190, 'date_tags': ['range', 'cent', 'phase', 'beg']}\n",
            "301/0-295/4 a.  {'or': None, 'not_before': -301, 'not_after': -294, 'date_tags': ['range']}\n",
            "Thebes [W.]: Syringes {'or': None, 'not_before': None, 'not_after': None, 'date_tags': ['unknown']}\n",
            "Thebes [W.]: Syringes {'or': None, 'not_before': None, 'not_after': None, 'date_tags': ['unknown']}\n",
            "Thebes [W.]: Syringes {'or': None, 'not_before': None, 'not_after': None, 'date_tags': ['unknown']}\n",
            "Thebes [W.]: Syringes {'or': None, 'not_before': None, 'not_after': None, 'date_tags': ['unknown']}\n",
            "1st c. AD {'or': None, 'not_before': 1, 'not_after': 100, 'date_tags': ['range', 'cent']}\n",
            "Rom. Imp. period  {'or': None, 'source': 'PeriodO', 'notes': nan, 'link': 'http://n2t.net/ark:/99152/p08m57hqcc5', 'not_before': -31, 'not_after': 410, 'date_tags': ['range', 'period']}\n",
            "46-44 BC {'or': None, 'not_before': -46, 'not_after': -44, 'date_tags': ['range']}\n",
            "SEG 27.880 {'or': None, 'not_before': None, 'not_after': None, 'date_tags': ['unknown']}\n",
            "3rd c. BC {'or': None, 'not_before': -300, 'not_after': -201, 'date_tags': ['range', 'cent']}\n",
            "12/1 BC {'or': None, 'not_before': -12, 'not_after': -11, 'date_tags': ['range']}\n",
            "Tell Frēǧ {'or': None, 'not_before': None, 'not_after': None, 'date_tags': ['unknown']}\n",
            "2nd/3rd c. AD  {'or': None, 'not_before': 101, 'not_after': 300, 'date_tags': ['range', 'cent', 'morece']}\n",
            "Paros {'or': None, 'not_before': None, 'not_after': None, 'date_tags': ['unknown']}\n",
            "Ta Grammata {'or': None, 'not_before': None, 'not_after': None, 'date_tags': ['unknown']}\n",
            "IEph 430 {'or': None, 'not_before': None, 'not_after': None, 'date_tags': ['unknown']}\n",
            "IEph 284 {'or': None, 'not_before': None, 'not_after': None, 'date_tags': ['unknown']}\n",
            "IEph 1599 {'or': None, 'not_before': None, 'not_after': None, 'date_tags': ['unknown']}\n",
            "IEph 1904.2 {'or': None, 'not_before': None, 'not_after': None, 'date_tags': ['unknown']}\n",
            "IEph 2247A {'or': None, 'not_before': None, 'not_after': None, 'date_tags': ['unknown']}\n",
            "IEph 2456 {'or': None, 'not_before': None, 'not_after': None, 'date_tags': ['unknown']}\n",
            "IEph 573.8 {'or': None, 'not_before': None, 'not_after': None, 'date_tags': ['unknown']}\n",
            "IEph 1962 {'or': None, 'not_before': None, 'not_after': None, 'date_tags': ['unknown']}\n",
            "Antiochia & Area of {'or': None, 'not_before': None, 'not_after': None, 'date_tags': ['unknown']}\n",
            "350-300 BC {'or': None, 'not_before': -350, 'not_after': -300, 'date_tags': ['range']}\n",
            "120-63 BC {'or': None, 'not_before': None, 'not_after': None, 'date_tags': ['unknown']}\n",
            "116/5 BC {'or': None, 'not_before': -116, 'not_after': -115, 'date_tags': ['range']}\n",
            "Delos {'or': None, 'not_before': None, 'not_after': None, 'date_tags': ['unknown']}\n",
            "3rd c. BC  {'or': None, 'not_before': -300, 'not_after': -201, 'date_tags': ['range', 'cent']}\n",
            "ca. 260-240 BC {'or': None, 'not_before': -262, 'not_after': -238, 'date_tags': ['range', 'phase', 'ca']}\n",
            "mid 4th c. BC  {'or': None, 'not_before': -355, 'not_after': -346, 'date_tags': ['range', 'cent', 'phase', 'middle']}\n",
            "177 AD {'or': None, 'not_before': 177, 'not_after': 177, 'date_tags': ['exact']}\n",
            "c. 500 a.  {'or': None, 'not_before': None, 'not_after': None, 'date_tags': ['unknown']}\n",
            "end 5th c. AD {'or': None, 'not_before': 490, 'not_after': 500, 'date_tags': ['range', 'cent', 'phase', 'end']}\n",
            "Rom. Imp. period {'or': None, 'source': 'PeriodO', 'notes': nan, 'link': 'http://n2t.net/ark:/99152/p08m57hqcc5', 'not_before': -31, 'not_after': 410, 'date_tags': ['range', 'period']}\n",
            "Yapıldak: Inli {'or': None, 'not_before': None, 'not_after': None, 'date_tags': ['unknown']}\n",
            "4th c. BC {'or': None, 'not_before': -400, 'not_after': -301, 'date_tags': ['range', 'cent']}\n",
            "Nikaia (Iznik) {'or': None, 'not_before': None, 'not_after': None, 'date_tags': ['unknown']}\n",
            "IPri 87 {'or': None, 'not_before': None, 'not_after': None, 'date_tags': ['unknown']}\n",
            "IPri 313.309 {'or': None, 'not_before': None, 'not_after': None, 'date_tags': ['unknown']}\n",
            "IPri 297 {'or': None, 'not_before': None, 'not_after': None, 'date_tags': ['unknown']}\n",
            "Mt. Hymettos {'or': None, 'not_before': None, 'not_after': None, 'date_tags': ['unknown']}\n",
            "3rd/2nd c. BC? {'or': None, 'certainty': '?', 'not_before': -300, 'not_after': -101, 'date_tags': ['range', 'cent', 'morece']}\n",
            "209-204 BC  {'or': None, 'not_before': -209, 'not_after': -204, 'date_tags': ['range']}\n",
            "1st c. AD {'or': None, 'not_before': 1, 'not_after': 100, 'date_tags': ['range', 'cent']}\n",
            "6th/5th c. BC {'or': None, 'not_before': -600, 'not_after': -401, 'date_tags': ['range', 'cent', 'morece']}\n",
            "6th/5th c. BC {'or': None, 'not_before': -600, 'not_after': -401, 'date_tags': ['range', 'cent', 'morece']}\n",
            "1st c. AD  {'or': None, 'not_before': 1, 'not_after': 100, 'date_tags': ['range', 'cent']}\n",
            "95 BC {'or': None, 'not_before': -95, 'not_after': -95, 'date_tags': ['exact']}\n",
            "Bulis {'or': None, 'not_before': None, 'not_after': None, 'date_tags': ['unknown']}\n",
            "1st c. BC {'or': None, 'not_before': -100, 'not_after': -1, 'date_tags': ['range', 'cent']}\n",
            "Aigina {'or': None, 'not_before': None, 'not_after': None, 'date_tags': ['unknown']}\n",
            "Nemea {'or': None, 'not_before': None, 'not_after': None, 'date_tags': ['unknown']}\n",
            "undated {'or': None, 'not_before': None, 'not_after': None, 'date_tags': ['unknown']}\n",
            "undated {'or': None, 'not_before': None, 'not_after': None, 'date_tags': ['unknown']}\n",
            "IMyl 151 {'or': None, 'not_before': None, 'not_after': None, 'date_tags': ['unknown']}\n",
            "5th c. AD {'or': None, 'not_before': 401, 'not_after': 500, 'date_tags': ['range', 'cent']}\n",
            "BCH 1890, 97-99, no. 4 {'or': None, 'not_before': None, 'not_after': None, 'date_tags': ['unknown']}\n",
            "Heliopolis (Ba‘albek) {'or': None, 'not_before': None, 'not_after': None, 'date_tags': ['unknown']}\n",
            "MAMA 8.29 {'or': None, 'not_before': None, 'not_after': None, 'date_tags': ['unknown']}\n",
            "reign of Hadrian {'or': None, 'source': 'PeriodO', 'notes': nan, 'link': 'http://n2t.net/ark:/99152/p0jrrjbntfj', 'not_before': 117, 'not_after': 138, 'date_tags': ['range', 'period']}\n",
            "IK 26,27d {'or': None, 'not_before': None, 'not_after': None, 'date_tags': ['unknown']}\n",
            "Rom. Imp. period? (Fır.)  {'or': None, 'certainty': '?', 'source': 'PeriodO', 'notes': nan, 'link': 'http://n2t.net/ark:/99152/p08m57hqcc5', 'not_before': -31, 'not_after': 410, 'date_tags': ['range', 'period']}\n",
            "2nd c. AD  {'or': None, 'not_before': 101, 'not_after': 200, 'date_tags': ['range', 'cent']}\n",
            "SEG 30.841 {'or': None, 'not_before': None, 'not_after': None, 'date_tags': ['unknown']}\n",
            "ITral 21 {'or': None, 'not_before': None, 'not_after': None, 'date_tags': ['unknown']}\n",
            "117-138 AD  {'or': None, 'not_before': 117, 'not_after': 138, 'date_tags': ['range']}\n",
            "Christian period  {'or': None, 'not_before': None, 'not_after': None, 'date_tags': ['unknown']}\n",
            "IG II² 11759 {'or': None, 'not_before': None, 'not_after': None, 'date_tags': ['unknown']}\n",
            "beg. 3rd c. AD {'or': None, 'not_before': 201, 'not_after': 211, 'date_tags': ['range', 'cent', 'phase', 'beg']}\n",
            "229/30 or 230/1 AD  {'or': None, 'not_before': 229, 'not_after': 231, 'date_tags': ['range']}\n",
            "end 1st c. BC  {'or': None, 'not_before': -11, 'not_after': -1, 'date_tags': ['range', 'cent', 'phase', 'end']}\n",
            "ca. 500-450 BC  {'or': None, 'not_before': -505, 'not_after': -445, 'date_tags': ['range', 'phase', 'ca']}\n",
            "Athens {'or': None, 'not_before': None, 'not_after': None, 'date_tags': ['unknown']}\n",
            "2nd/3rd c. AD  {'or': None, 'not_before': 101, 'not_after': 300, 'date_tags': ['range', 'cent', 'morece']}\n",
            "210-175 BC  {'or': None, 'not_before': -210, 'not_after': -175, 'date_tags': ['range']}\n",
            "3rd/4th c. AD  {'or': None, 'not_before': 201, 'not_after': 400, 'date_tags': ['range', 'cent', 'morece']}\n",
            "ca. 330-300 BC {'or': None, 'not_before': -333, 'not_after': -297, 'date_tags': ['range', 'phase', 'ca']}\n",
            "ca. 180-150 BC  {'or': None, 'not_before': -183, 'not_after': -147, 'date_tags': ['range', 'phase', 'ca']}\n",
            "ca. 150 BC {'or': None, 'not_before': -155, 'not_after': -145, 'date_tags': ['exact', 'phase', 'ca']}\n",
            "4th c. BC  {'or': None, 'not_before': -400, 'not_after': -301, 'date_tags': ['range', 'cent']}\n",
            "4th (or 5th?) c. AD  {'or': None, 'certainty': '?', 'not_before': 301, 'not_after': 500, 'date_tags': ['range', 'cent', 'morece']}\n",
            "3rd c. AD {'or': None, 'not_before': 201, 'not_after': 300, 'date_tags': ['range', 'cent']}\n",
            "Saatsoglou-Paliadele, Epitaphia mnemeia (1984) 237, 61 {'or': None, 'not_before': None, 'not_after': None, 'date_tags': ['unknown']}\n",
            "after 145 BC  {'or': None, 'not_before': -144, 'not_after': None, 'date_tags': ['post']}\n",
            "350-250 BC  {'or': None, 'not_before': -350, 'not_after': -250, 'date_tags': ['range']}\n",
            "late 3rd-mid. 2nd c. BC  {'or': None, 'not_before': -226, 'not_after': -146, 'date_tags': ['range', 'cent', 'morece']}\n",
            "ca. 475-450 BC  {'or': None, 'not_before': -477, 'not_after': -448, 'date_tags': ['range', 'phase', 'ca']}\n",
            "Byzantine period  {'or': None, 'source': 'PeriodO', 'notes': nan, 'link': 'http://n2t.net/ark:/99152/p0m63njtm6w', 'not_before': 324, 'not_after': 1453, 'date_tags': ['range', 'period']}\n",
            "5th c. AD  {'or': None, 'not_before': 401, 'not_after': 500, 'date_tags': ['range', 'cent']}\n",
            "ca. 270-260 BC  {'or': None, 'not_before': -271, 'not_after': -259, 'date_tags': ['range', 'phase', 'ca']}\n",
            "Byzantine period  {'or': None, 'source': 'PeriodO', 'notes': nan, 'link': 'http://n2t.net/ark:/99152/p0m63njtm6w', 'not_before': 324, 'not_after': 1453, 'date_tags': ['range', 'period']}\n",
            "early 3rd c. BC  {'or': None, 'not_before': -300, 'not_after': -275, 'date_tags': ['range', 'cent', 'phase', 'early']}\n",
            "AD 42 B2 (1987) 601 {'or': None, 'not_before': None, 'not_after': None, 'date_tags': ['unknown']}\n",
            "AD 45.1990[1995].B.42 {'or': None, 'not_before': None, 'not_after': None, 'date_tags': ['unknown']}\n",
            "2nd c. BC  {'or': None, 'not_before': -200, 'not_after': -101, 'date_tags': ['range', 'cent']}\n",
            "Hellenistic period  {'or': None, 'source': 'PeriodO', 'notes': nan, 'link': 'http://n2t.net/ark:/99152/p03wskd55sw', 'not_before': -330, 'not_after': -30, 'date_tags': ['range', 'period']}\n",
            "3rd c. BC  {'or': None, 'not_before': -300, 'not_after': -201, 'date_tags': ['range', 'cent']}\n",
            "ante 336/5 {'or': None, 'not_before': None, 'not_after': -337, 'date_tags': ['range', 'ante']}\n",
            "204/3? {'or': None, 'certainty': '?', 'not_before': -204, 'not_after': -203, 'date_tags': ['range']}\n",
            "med. s. III a. {'or': None, 'not_before': -255, 'not_after': -246, 'date_tags': ['range', 'cent', 'phase', 'middle']}\n",
            "post med. s. II p.  {'or': None, 'not_before': -145, 'not_after': None, 'date_tags': ['range', 'cent', 'phase', 'middle', 'post']}\n",
            "[s. II/III p.] {'or': None, 'not_before': -200, 'not_after': -201, 'date_tags': ['range', 'cent', 'morece']}\n",
            "Att. {'or': None, 'not_before': None, 'not_after': None, 'date_tags': ['unknown']}\n",
            "27 a.-14 p. {'or': None, 'not_before': -27, 'not_after': 14, 'date_tags': ['range']}\n",
            "Att. {'or': None, 'not_before': None, 'not_after': None, 'date_tags': ['unknown']}\n",
            "fin. s. II p. {'or': None, 'not_before': 190, 'not_after': 200, 'date_tags': ['range', 'cent', 'phase', 'end']}\n",
            "ante med. s. I a. {'or': None, 'not_before': None, 'not_after': -56, 'date_tags': ['range', 'cent', 'phase', 'middle', 'ante']}\n",
            "non ante med. s. II p. {'or': None, 'not_before': 146, 'not_after': None, 'date_tags': ['range', 'cent', 'phase', 'middle', 'post']}\n",
            "med. s. IV a. {'or': None, 'not_before': -355, 'not_after': -346, 'date_tags': ['range', 'cent', 'phase', 'middle']}\n",
            "s. II a. {'or': None, 'not_before': -200, 'not_after': -101, 'date_tags': ['range', 'cent']}\n",
            "med. s. IV a. {'or': None, 'not_before': -355, 'not_after': -346, 'date_tags': ['range', 'cent', 'phase', 'middle']}\n",
            "aet. Rom. {'or': None, 'source': nan, 'notes': nan, 'link': nan, 'not_before': -146, 'not_after': 324, 'date_tags': ['range', 'period']}\n",
            "aet. imp. {'or': None, 'source': 'PeriodO', 'notes': nan, 'link': 'http://n2t.net/ark:/99152/p08m57hqcc5', 'not_before': -31, 'not_after': 410, 'date_tags': ['range', 'period']}\n",
            "s. I a. {'or': None, 'not_before': -100, 'not_after': -1, 'date_tags': ['range', 'cent']}\n",
            "s. I a. {'or': None, 'not_before': -100, 'not_after': -1, 'date_tags': ['range', 'cent']}\n",
            "aet. Rom. {'or': None, 'source': nan, 'notes': nan, 'link': nan, 'not_before': -146, 'not_after': 324, 'date_tags': ['range', 'period']}\n",
            "s. I p. {'or': None, 'not_before': 1, 'not_after': 100, 'date_tags': ['range', 'cent']}\n",
            "post med. s. IV {'or': None, 'not_before': -345, 'not_after': None, 'date_tags': ['range', 'cent', 'phase', 'middle', 'post']}\n",
            "s. I/II p.  {'or': None, 'not_before': -100, 'not_after': -101, 'date_tags': ['range', 'cent', 'morece']}\n",
            "s. III a. {'or': None, 'not_before': -300, 'not_after': -201, 'date_tags': ['range', 'cent']}\n",
            "s. II p. {'or': None, 'not_before': 101, 'not_after': 200, 'date_tags': ['range', 'cent']}\n",
            "s. IV a. {'or': None, 'not_before': -400, 'not_after': -301, 'date_tags': ['range', 'cent']}\n",
            "ante med. s. IV a. {'or': None, 'not_before': None, 'not_after': -356, 'date_tags': ['range', 'cent', 'phase', 'middle', 'ante']}\n",
            "med. s. IV a. {'or': None, 'not_before': -355, 'not_after': -346, 'date_tags': ['range', 'cent', 'phase', 'middle']}\n",
            "IG XIV 1412 {'or': None, 'not_before': None, 'not_after': None, 'date_tags': ['unknown']}\n",
            "cf. IGUR IV, p. 162, 862 {'or': None, 'not_before': None, 'not_after': None, 'date_tags': ['unknown']}\n",
            "GVI 184 {'or': None, 'not_before': None, 'not_after': None, 'date_tags': ['unknown']}\n",
            "73/4 AD {'or': None, 'not_before': 73, 'not_after': 74, 'date_tags': ['range']}\n",
            "reign of Claudius {'or': None, 'source': 'PeriodO', 'notes': nan, 'link': 'http://n2t.net/ark:/99152/p0jrrjb8spw', 'not_before': 41, 'not_after': 54, 'date_tags': ['range', 'period']}\n",
            "IDid 484 {'or': None, 'not_before': None, 'not_after': None, 'date_tags': ['unknown']}\n",
            "IDid 411 {'or': None, 'not_before': None, 'not_after': None, 'date_tags': ['unknown']}\n",
            "ITral 102 {'or': None, 'not_before': None, 'not_after': None, 'date_tags': ['unknown']}\n",
            "McCabe 0351 {'or': None, 'not_before': None, 'not_after': None, 'date_tags': ['unknown']}\n",
            "2nd c. AD  {'or': None, 'not_before': 101, 'not_after': 200, 'date_tags': ['range', 'cent']}\n",
            "244-221 BC {'or': None, 'not_before': -244, 'not_after': -221, 'date_tags': ['range']}\n",
            "Anth.Gr. III Nr.1 {'or': None, 'not_before': None, 'not_after': None, 'date_tags': ['unknown']}\n",
            "5th c. AD  {'or': None, 'not_before': 401, 'not_after': 500, 'date_tags': ['range', 'cent']}\n",
            "Philippopolis (Plovdiv) {'or': None, 'not_before': None, 'not_after': None, 'date_tags': ['unknown']}\n",
            "SEG 3.515 {'or': None, 'not_before': None, 'not_after': None, 'date_tags': ['unknown']}\n",
            "CIL III 395=7076 (2) {'or': None, 'not_before': None, 'not_after': None, 'date_tags': ['unknown']}\n",
            "IEph 3414 {'or': None, 'not_before': None, 'not_after': None, 'date_tags': ['unknown']}\n",
            "1st c. BC  {'or': None, 'not_before': -100, 'not_after': -1, 'date_tags': ['range', 'cent']}\n",
            "reign of Ant. Pius  {'or': None, 'source': 'PeriodO', 'notes': nan, 'link': 'http://n2t.net/ark:/99152/p06c6g3drk4', 'not_before': 138, 'not_after': 161, 'date_tags': ['range', 'period']}\n",
            "1st/2nd c. AD {'or': None, 'not_before': 1, 'not_after': 200, 'date_tags': ['range', 'cent', 'morece']}\n",
            "late 6th c. BC  {'or': None, 'not_before': -526, 'not_after': -501, 'date_tags': ['range', 'cent', 'phase', 'late']}\n",
            "ca. 460 BC  {'or': None, 'not_before': -465, 'not_after': -455, 'date_tags': ['exact', 'phase', 'ca']}\n",
            "Pachoras--Phthouris (Faras) {'or': None, 'not_before': None, 'not_after': None, 'date_tags': ['unknown']}\n",
            "155 AD  {'or': None, 'not_before': 155, 'not_after': 155, 'date_tags': ['exact']}\n",
            "IosPE IV 60 {'or': None, 'not_before': None, 'not_after': None, 'date_tags': ['unknown']}\n",
            "med. s. V a. {'or': None, 'not_before': -455, 'not_after': -446, 'date_tags': ['range', 'cent', 'phase', 'middle']}\n",
            "fin. s. V/VI p. {'or': None, 'not_before': 490, 'not_after': 600, 'date_tags': ['range', 'cent', 'morece']}\n",
            "Termessos (Güllük Dağı) {'or': None, 'not_before': None, 'not_after': None, 'date_tags': ['unknown']}\n",
            "Termessos (Güllük Dağı): Karaman Çay {'or': None, 'not_before': None, 'not_after': None, 'date_tags': ['unknown']}\n",
            "ca. 120 AD {'or': None, 'not_before': 115, 'not_after': 125, 'date_tags': ['exact', 'phase', 'ca']}\n",
            "OGIS 2.535, IGR 3.316 {'or': None, 'not_before': None, 'not_after': None, 'date_tags': ['unknown']}\n",
            "CIG 3899 [1] {'or': None, 'not_before': None, 'not_after': None, 'date_tags': ['unknown']}\n",
            "undated {'or': None, 'not_before': None, 'not_after': None, 'date_tags': ['unknown']}\n",
            "5th/6th c. AD {'or': None, 'not_before': 401, 'not_after': 600, 'date_tags': ['range', 'cent', 'morece']}\n",
            "undated {'or': None, 'not_before': None, 'not_after': None, 'date_tags': ['unknown']}\n",
            "3rd c. BC {'or': None, 'not_before': -300, 'not_after': -201, 'date_tags': ['range', 'cent']}\n",
            "undated {'or': None, 'not_before': None, 'not_after': None, 'date_tags': ['unknown']}\n",
            "2nd c. AD  {'or': None, 'not_before': 101, 'not_after': 200, 'date_tags': ['range', 'cent']}\n",
            "2nd/3rd c. AD {'or': None, 'not_before': 101, 'not_after': 300, 'date_tags': ['range', 'cent', 'morece']}\n",
            "335-322 BC {'or': None, 'not_before': -335, 'not_after': -322, 'date_tags': ['range']}\n",
            "Rom. Imp. period {'or': None, 'source': 'PeriodO', 'notes': nan, 'link': 'http://n2t.net/ark:/99152/p08m57hqcc5', 'not_before': -31, 'not_after': 410, 'date_tags': ['range', 'period']}\n",
            "undated {'or': None, 'not_before': None, 'not_after': None, 'date_tags': ['unknown']}\n",
            "Aperantia {'or': None, 'not_before': None, 'not_after': None, 'date_tags': ['unknown']}\n",
            "ca. 163/2 BC {'or': None, 'not_before': -163, 'not_after': -162, 'date_tags': ['range', 'phase', 'ca']}\n",
            "Hellenistic period  {'or': None, 'source': 'PeriodO', 'notes': nan, 'link': 'http://n2t.net/ark:/99152/p03wskd55sw', 'not_before': -330, 'not_after': -30, 'date_tags': ['range', 'period']}\n",
            "ca. 2nd c. BC {'or': None, 'not_before': -210, 'not_after': -91, 'date_tags': ['range', 'cent', 'phase', 'ca']}\n",
            "Graf, Kulte, Chios 38 {'or': None, 'not_before': None, 'not_after': None, 'date_tags': ['unknown']}\n",
            "SEG 40.1219 {'or': None, 'not_before': None, 'not_after': None, 'date_tags': ['unknown']}\n",
            "200-209 AD  {'or': None, 'not_before': 200, 'not_after': 209, 'date_tags': ['range']}\n",
            "s. I p. {'or': None, 'not_before': 1, 'not_after': 100, 'date_tags': ['range', 'cent']}\n",
            "s. III a. {'or': None, 'not_before': -300, 'not_after': -201, 'date_tags': ['range', 'cent']}\n",
            "Abydos: Memnonion {'or': None, 'not_before': None, 'not_after': None, 'date_tags': ['unknown']}\n",
            "ISmyrn 627 {'or': None, 'not_before': None, 'not_after': None, 'date_tags': ['unknown']}\n",
            "ISmyrn 181 {'or': None, 'not_before': None, 'not_after': None, 'date_tags': ['unknown']}\n",
            "IK 6,2 {'or': None, 'not_before': None, 'not_after': None, 'date_tags': ['unknown']}\n",
            "215 BC {'or': None, 'not_before': -215, 'not_after': -215, 'date_tags': ['exact']}\n",
            "ca. 125 BC {'or': None, 'not_before': -130, 'not_after': -120, 'date_tags': ['exact', 'phase', 'ca']}\n",
            "undated {'or': None, 'not_before': None, 'not_after': None, 'date_tags': ['unknown']}\n",
            "Rom. Imp. period  {'or': None, 'source': 'PeriodO', 'notes': nan, 'link': 'http://n2t.net/ark:/99152/p08m57hqcc5', 'not_before': -31, 'not_after': 410, 'date_tags': ['range', 'period']}\n",
            "124-116 BC {'or': None, 'not_before': -124, 'not_after': -116, 'date_tags': ['range']}\n",
            "2nd c. BC?  {'or': None, 'certainty': '?', 'not_before': -200, 'not_after': -101, 'date_tags': ['range', 'cent']}\n",
            "Paros {'or': None, 'not_before': None, 'not_after': None, 'date_tags': ['unknown']}\n",
            "4th c. BC {'or': None, 'not_before': -400, 'not_after': -301, 'date_tags': ['range', 'cent']}\n",
            "3rd/2nd c. BC {'or': None, 'not_before': -300, 'not_after': -101, 'date_tags': ['range', 'cent', 'morece']}\n",
            "7th-4th c. BC  {'or': None, 'not_before': -700, 'not_after': -301, 'date_tags': ['range', 'cent', 'morece']}\n",
            "Hellenistic period  {'or': None, 'source': 'PeriodO', 'notes': nan, 'link': 'http://n2t.net/ark:/99152/p03wskd55sw', 'not_before': -330, 'not_after': -30, 'date_tags': ['range', 'period']}\n",
            "undated {'or': None, 'not_before': None, 'not_after': None, 'date_tags': ['unknown']}\n",
            "cf. Corrigenda p. XV {'or': None, 'not_before': None, 'not_after': None, 'date_tags': ['unknown']}\n",
            "Gonnoi II 118 {'or': None, 'not_before': None, 'not_after': None, 'date_tags': ['unknown']}\n",
            "3rd c. AD  {'or': None, 'not_before': 201, 'not_after': 300, 'date_tags': ['range', 'cent']}\n",
            "5th c. BC {'or': None, 'not_before': -500, 'not_after': -401, 'date_tags': ['range', 'cent']}\n",
            "Eretria {'or': None, 'not_before': None, 'not_after': None, 'date_tags': ['unknown']}\n",
            "1st/2nd c. AD {'or': None, 'not_before': 1, 'not_after': 200, 'date_tags': ['range', 'cent', 'morece']}\n",
            "Laodicea Comb.: Yeni Yaila {'or': None, 'not_before': None, 'not_after': None, 'date_tags': ['unknown']}\n",
            "Aizanitis: Sopu Köy {'or': None, 'not_before': None, 'not_after': None, 'date_tags': ['unknown']}\n",
            "Ali Bey Höyük {'or': None, 'not_before': None, 'not_after': None, 'date_tags': ['unknown']}\n",
            "Stratonikeia: Kirkaǧaç {'or': None, 'not_before': None, 'not_after': None, 'date_tags': ['unknown']}\n",
            "Milet I 2, 26 {'or': None, 'not_before': None, 'not_after': None, 'date_tags': ['unknown']}\n",
            "LW 1589 {'or': None, 'not_before': None, 'not_after': None, 'date_tags': ['unknown']}\n",
            "Roueché, Aphrodisias 42 {'or': None, 'not_before': None, 'not_after': None, 'date_tags': ['unknown']}\n",
            "IIasos 206 {'or': None, 'not_before': None, 'not_after': None, 'date_tags': ['unknown']}\n",
            "ASAA 1961-62, 630, no. 130 {'or': None, 'not_before': None, 'not_after': None, 'date_tags': ['unknown']}\n",
            "Bostra (Buṣrā) {'or': None, 'not_before': None, 'not_after': None, 'date_tags': ['unknown']}\n",
            "2nd/3rd c. AD  {'or': None, 'not_before': 101, 'not_after': 300, 'date_tags': ['range', 'cent', 'morece']}\n",
            "128/127 BC  {'or': None, 'not_before': -128, 'not_after': -127, 'date_tags': ['range']}\n",
            "undated {'or': None, 'not_before': None, 'not_after': None, 'date_tags': ['unknown']}\n",
            "undated {'or': None, 'not_before': None, 'not_after': None, 'date_tags': ['unknown']}\n",
            "undated {'or': None, 'not_before': None, 'not_after': None, 'date_tags': ['unknown']}\n",
            "Aphrodisias {'or': None, 'not_before': None, 'not_after': None, 'date_tags': ['unknown']}\n",
            "Newton, Halik. II 592 {'or': None, 'not_before': None, 'not_after': None, 'date_tags': ['unknown']}\n",
            "2nd/3rd c. AD  {'or': None, 'not_before': 101, 'not_after': 300, 'date_tags': ['range', 'cent', 'morece']}\n",
            "beg. 5th c. BC {'or': None, 'not_before': -500, 'not_after': -490, 'date_tags': ['range', 'cent', 'phase', 'beg']}\n",
            "2nd/1st c. BC {'or': None, 'not_before': -200, 'not_after': -1, 'date_tags': ['range', 'cent', 'morece']}\n",
            "4th c. BC  {'or': None, 'not_before': -400, 'not_after': -301, 'date_tags': ['range', 'cent']}\n",
            "144 AD  {'or': None, 'not_before': 144, 'not_after': 144, 'date_tags': ['exact']}\n",
            "1st-early 2nd c. AD {'or': None, 'not_before': 1, 'not_after': 126, 'date_tags': ['range', 'cent', 'morece']}\n",
            "after 228 BC {'or': None, 'not_before': -227, 'not_after': None, 'date_tags': ['post']}\n",
            "1st/2nd c. AD {'or': None, 'not_before': 1, 'not_after': 200, 'date_tags': ['range', 'cent', 'morece']}\n",
            "Newton, Disc. II 742-43:91 {'or': None, 'not_before': None, 'not_after': None, 'date_tags': ['unknown']}\n",
            "Thyateira (Akhisar) {'or': None, 'not_before': None, 'not_after': None, 'date_tags': ['unknown']}\n",
            "IStr 1045 {'or': None, 'not_before': None, 'not_after': None, 'date_tags': ['unknown']}\n",
            "Attaleia (Antalya) {'or': None, 'not_before': None, 'not_after': None, 'date_tags': ['unknown']}\n",
            "Rom. Imp. period  {'or': None, 'source': 'PeriodO', 'notes': nan, 'link': 'http://n2t.net/ark:/99152/p08m57hqcc5', 'not_before': -31, 'not_after': 410, 'date_tags': ['range', 'period']}\n",
            "CIL 3.8188 {'or': None, 'not_before': None, 'not_after': None, 'date_tags': ['unknown']}\n",
            "Hermonthis (Armant)? {'or': None, 'certainty': '?', 'not_before': None, 'not_after': None, 'date_tags': ['unknown']}\n",
            "Side (Eski Adalia--Selimiye) {'or': None, 'not_before': None, 'not_after': None, 'date_tags': ['unknown']}\n",
            "Christian {'or': None, 'not_before': None, 'not_after': None, 'date_tags': ['unknown']}\n",
            "undated {'or': None, 'not_before': None, 'not_after': None, 'date_tags': ['unknown']}\n",
            "undated {'or': None, 'not_before': None, 'not_after': None, 'date_tags': ['unknown']}\n",
            "Taras-Tarentum: Montedoro {'or': None, 'not_before': None, 'not_after': None, 'date_tags': ['unknown']}\n",
            "p. 706, Add. et Corr. {'or': None, 'not_before': None, 'not_after': None, 'date_tags': ['unknown']}\n",
            "undated {'or': None, 'not_before': None, 'not_after': None, 'date_tags': ['unknown']}\n",
            "3rd/4th c. AD?  {'or': None, 'certainty': '?', 'not_before': 201, 'not_after': 400, 'date_tags': ['range', 'cent', 'morece']}\n",
            "180 AD  {'or': None, 'not_before': 180, 'not_after': 180, 'date_tags': ['exact']}\n",
            "AEMÖ 19 (1896) 51,25 {'or': None, 'not_before': None, 'not_after': None, 'date_tags': ['unknown']}\n",
            "LW 1559 {'or': None, 'not_before': None, 'not_after': None, 'date_tags': ['unknown']}\n",
            "GIBM IV.1 Nr.806 {'or': None, 'not_before': None, 'not_after': None, 'date_tags': ['unknown']}\n",
            "Odessus (Varna) {'or': None, 'not_before': None, 'not_after': None, 'date_tags': ['unknown']}\n",
            "4th c. BC  {'or': None, 'not_before': -400, 'not_after': -301, 'date_tags': ['range', 'cent']}\n",
            "2nd/3rd c. AD {'or': None, 'not_before': 101, 'not_after': 300, 'date_tags': ['range', 'cent', 'morece']}\n",
            "ca. 220-210 BC?  {'or': None, 'certainty': '?', 'not_before': -221, 'not_after': -209, 'date_tags': ['range', 'phase', 'ca']}\n",
            "undated {'or': None, 'not_before': None, 'not_after': None, 'date_tags': ['unknown']}\n",
            "Daux {'or': None, 'not_before': None, 'not_after': None, 'date_tags': ['unknown']}\n",
            "end 6th c. BC {'or': None, 'not_before': -511, 'not_after': -501, 'date_tags': ['range', 'cent', 'phase', 'end']}\n",
            "undated {'or': None, 'not_before': None, 'not_after': None, 'date_tags': ['unknown']}\n",
            "Oinoanda (Incealiler): Girdev Gölü {'or': None, 'not_before': None, 'not_after': None, 'date_tags': ['unknown']}\n",
            "Klaudioupolis (Bolu), Plain of {'or': None, 'not_before': None, 'not_after': None, 'date_tags': ['unknown']}\n",
            "IG XIV 2393,75 {'or': None, 'not_before': None, 'not_after': None, 'date_tags': ['unknown']}\n",
            "1st/2nd c. AD {'or': None, 'not_before': 1, 'not_after': 200, 'date_tags': ['range', 'cent', 'morece']}\n",
            "AD 1972, B2, 603-4 {'or': None, 'not_before': None, 'not_after': None, 'date_tags': ['unknown']}\n",
            "2nd c. AD  {'or': None, 'not_before': 101, 'not_after': 200, 'date_tags': ['range', 'cent']}\n",
            "end 4th c. BC {'or': None, 'not_before': -311, 'not_after': -301, 'date_tags': ['range', 'cent', 'phase', 'end']}\n",
            "undated {'or': None, 'not_before': None, 'not_after': None, 'date_tags': ['unknown']}\n",
            "Patissia {'or': None, 'not_before': None, 'not_after': None, 'date_tags': ['unknown']}\n",
            "late 4th-6th c. AD {'or': None, 'not_before': 375, 'not_after': 600, 'date_tags': ['range', 'cent', 'morece']}\n",
            "Christian {'or': None, 'not_before': None, 'not_after': None, 'date_tags': ['unknown']}\n",
            "not bef. the Antonine period {'or': None, 'source': 'PeriodO', 'notes': nan, 'link': 'http://n2t.net/ark:/99152/p06c6g34zjk', 'not_before': 96, 'not_after': None, 'date_tags': ['range', 'period', 'post']}\n",
            "after mid. 3rd c. BC {'or': None, 'not_before': -245, 'not_after': None, 'date_tags': ['range', 'cent', 'phase', 'middle', 'post']}\n",
            "undated {'or': None, 'not_before': None, 'not_after': None, 'date_tags': ['unknown']}\n",
            "undated {'or': None, 'not_before': None, 'not_after': None, 'date_tags': ['unknown']}\n",
            "undated {'or': None, 'not_before': None, 'not_after': None, 'date_tags': ['unknown']}\n",
            "198-210 AD {'or': None, 'not_before': 198, 'not_after': 210, 'date_tags': ['range']}\n",
            "undated {'or': None, 'not_before': None, 'not_after': None, 'date_tags': ['unknown']}\n",
            "undated {'or': None, 'not_before': None, 'not_after': None, 'date_tags': ['unknown']}\n",
            "undated {'or': None, 'not_before': None, 'not_after': None, 'date_tags': ['unknown']}\n",
            "Laurent, Corpus V 357bis/1702 {'or': None, 'not_before': None, 'not_after': None, 'date_tags': ['unknown']}\n",
            "shortly after 208/7 BC (or 207/6)  {'or': None, 'not_before': None, 'not_after': None, 'date_tags': ['unknown', 'shortly']}\n",
            "Byzantine {'or': None, 'source': 'PeriodO', 'notes': 'alone', 'link': 'http://n2t.net/ark:/99152/p0m63njtm6w', 'not_before': 324, 'not_after': 1453, 'date_tags': ['range', 'period']}\n",
            "ca. 100-250 AD  {'or': None, 'not_before': 85, 'not_after': 265, 'date_tags': ['range', 'phase', 'ca']}\n",
            "194 BC {'or': None, 'not_before': -194, 'not_after': -194, 'date_tags': ['exact']}\n",
            "Thebes [W.]: Colossus of Memnon {'or': None, 'not_before': None, 'not_after': None, 'date_tags': ['unknown']}\n",
            "117-138 AD {'or': None, 'not_before': 117, 'not_after': 138, 'date_tags': ['range']}\n",
            "Thera {'or': None, 'not_before': None, 'not_after': None, 'date_tags': ['unknown']}\n",
            "Thera {'or': None, 'not_before': None, 'not_after': None, 'date_tags': ['unknown']}\n",
            "early 2nd c. AD {'or': None, 'not_before': 101, 'not_after': 126, 'date_tags': ['range', 'cent', 'phase', 'early']}\n",
            "Sparta {'or': None, 'not_before': None, 'not_after': None, 'date_tags': ['unknown']}\n",
            "fanum Apollinis Hyperteleatae {'or': None, 'not_before': None, 'not_after': None, 'date_tags': ['unknown']}\n",
            "Messene {'or': None, 'not_before': None, 'not_after': None, 'date_tags': ['unknown']}\n",
            "154/5 AD {'or': None, 'not_before': 154, 'not_after': 155, 'date_tags': ['range']}\n",
            "66/7 AD {'or': None, 'not_before': 66, 'not_after': 67, 'date_tags': ['range']}\n",
            "Hellenistic period  {'or': None, 'source': 'PeriodO', 'notes': nan, 'link': 'http://n2t.net/ark:/99152/p03wskd55sw', 'not_before': -330, 'not_after': -30, 'date_tags': ['range', 'period']}\n",
            "ca. 213 BC? {'or': None, 'certainty': '?', 'not_before': -218, 'not_after': -208, 'date_tags': ['exact', 'phase', 'ca']}\n",
            "Telmessos {'or': None, 'not_before': None, 'not_after': None, 'date_tags': ['unknown']}\n",
            "late 1st c. AD? {'or': None, 'certainty': '?', 'not_before': 75, 'not_after': 100, 'date_tags': ['range', 'cent', 'phase', 'late']}\n",
            "Rom. Imp. period {'or': None, 'source': 'PeriodO', 'notes': nan, 'link': 'http://n2t.net/ark:/99152/p08m57hqcc5', 'not_before': -31, 'not_after': 410, 'date_tags': ['range', 'period']}\n",
            "Mytilene {'or': None, 'not_before': None, 'not_after': None, 'date_tags': ['unknown']}\n",
            "1st c. BC/1st c. AD  {'or': None, 'not_before': -100, 'not_after': 100, 'date_tags': ['range', 'cent', 'morece']}\n",
            "Alexandria: Kōm el-Shugafa {'or': None, 'not_before': None, 'not_after': None, 'date_tags': ['unknown']}\n",
            "Alexandria Mus. [Rhodes] {'or': None, 'not_before': None, 'not_after': None, 'date_tags': ['unknown']}\n",
            "Alexandria Mus. [Rhodes] {'or': None, 'not_before': None, 'not_after': None, 'date_tags': ['unknown']}\n",
            "Arsinoïte Nome (Faiyūm) {'or': None, 'not_before': None, 'not_after': None, 'date_tags': ['unknown']}\n",
            "Arsinoïte Nome (Faiyūm)? {'or': None, 'certainty': '?', 'not_before': None, 'not_after': None, 'date_tags': ['unknown']}\n",
            "3rd c. BC {'or': None, 'not_before': -300, 'not_after': -201, 'date_tags': ['range', 'cent']}\n",
            "3rd c. AD  {'or': None, 'not_before': 201, 'not_after': 300, 'date_tags': ['range', 'cent']}\n",
            "Minoa {'or': None, 'not_before': None, 'not_after': None, 'date_tags': ['unknown']}\n",
            "Nakoleia (Seyitgazi) {'or': None, 'not_before': None, 'not_after': None, 'date_tags': ['unknown']}\n",
            "Skepseis kai Entyposeis (1962) 92 {'or': None, 'not_before': None, 'not_after': None, 'date_tags': ['unknown']}\n",
            "89-91 AD  {'or': None, 'not_before': 89, 'not_after': 91, 'date_tags': ['range']}\n",
            "3rd c. AD  {'or': None, 'not_before': 201, 'not_after': 300, 'date_tags': ['range', 'cent']}\n",
            "2nd/3rd c. AD {'or': None, 'not_before': 101, 'not_after': 300, 'date_tags': ['range', 'cent', 'morece']}\n",
            "Nikomedeia (Izmit) {'or': None, 'not_before': None, 'not_after': None, 'date_tags': ['unknown']}\n",
            "Prusias ad Hypium (Üskübü) {'or': None, 'not_before': None, 'not_after': None, 'date_tags': ['unknown']}\n"
          ],
          "name": "stdout"
        }
      ]
    },
    {
      "cell_type": "code",
      "metadata": {
        "id": "a3eNW_GHSbNA",
        "colab_type": "code",
        "colab": {}
      },
      "source": [
        "PHI_list_of_dict = []\n",
        "for inscription_date_tuple in list(zip(PHI_by_500[\"PHI_ID\"].tolist(), PHI_by_500[\"tildeinfo\"].tolist(),  PHI_by_500[\"raw_date\"].tolist())):\n",
        "  dating = date_extractor(inscription_date_tuple[2])\n",
        "  data_dict = {\"PHI_ID\": inscription_date_tuple[0], \"tildeinfo\" : inscription_date_tuple[1], \"raw_date\" : inscription_date_tuple[2]}\n",
        "  data_dict.update(dating)\n",
        "  PHI_list_of_dict.append(data_dict)"
      ],
      "execution_count": 648,
      "outputs": []
    },
    {
      "cell_type": "code",
      "metadata": {
        "id": "yrLrFl8ZT9cw",
        "colab_type": "code",
        "colab": {
          "base_uri": "https://localhost:8080/",
          "height": 204
        },
        "outputId": "85fb15d5-8450-426c-def9-e565b07b4c21"
      },
      "source": [
        "PHI_by_500_dates_v9 = pd.DataFrame(PHI_list_of_dict)\n",
        "PHI_by_500_dates_v9.head(5)"
      ],
      "execution_count": 649,
      "outputs": [
        {
          "output_type": "execute_result",
          "data": {
            "text/html": [
              "<div>\n",
              "<style scoped>\n",
              "    .dataframe tbody tr th:only-of-type {\n",
              "        vertical-align: middle;\n",
              "    }\n",
              "\n",
              "    .dataframe tbody tr th {\n",
              "        vertical-align: top;\n",
              "    }\n",
              "\n",
              "    .dataframe thead th {\n",
              "        text-align: right;\n",
              "    }\n",
              "</style>\n",
              "<table border=\"1\" class=\"dataframe\">\n",
              "  <thead>\n",
              "    <tr style=\"text-align: right;\">\n",
              "      <th></th>\n",
              "      <th>PHI_ID</th>\n",
              "      <th>tildeinfo</th>\n",
              "      <th>raw_date</th>\n",
              "      <th>or</th>\n",
              "      <th>not_before</th>\n",
              "      <th>not_after</th>\n",
              "      <th>date_tags</th>\n",
              "      <th>source</th>\n",
              "      <th>notes</th>\n",
              "      <th>link</th>\n",
              "      <th>certainty</th>\n",
              "    </tr>\n",
              "  </thead>\n",
              "  <tbody>\n",
              "    <tr>\n",
              "      <th>0</th>\n",
              "      <td>262001</td>\n",
              "      <td>IStr 427</td>\n",
              "      <td>IStr 427</td>\n",
              "      <td>None</td>\n",
              "      <td>NaN</td>\n",
              "      <td>NaN</td>\n",
              "      <td>[unknown]</td>\n",
              "      <td>NaN</td>\n",
              "      <td>NaN</td>\n",
              "      <td>NaN</td>\n",
              "      <td>NaN</td>\n",
              "    </tr>\n",
              "    <tr>\n",
              "      <th>1</th>\n",
              "      <td>266001</td>\n",
              "      <td>Pont. — Amasia — Rom. Imp. period</td>\n",
              "      <td>Rom. Imp. period</td>\n",
              "      <td>None</td>\n",
              "      <td>-31.0</td>\n",
              "      <td>410.0</td>\n",
              "      <td>[range, period]</td>\n",
              "      <td>PeriodO</td>\n",
              "      <td>NaN</td>\n",
              "      <td>http://n2t.net/ark:/99152/p08m57hqcc5</td>\n",
              "      <td>NaN</td>\n",
              "    </tr>\n",
              "    <tr>\n",
              "      <th>2</th>\n",
              "      <td>231001</td>\n",
              "      <td>Att. — Athens: Agora — 220/19</td>\n",
              "      <td>220/19</td>\n",
              "      <td>None</td>\n",
              "      <td>-220.0</td>\n",
              "      <td>-219.0</td>\n",
              "      <td>[range]</td>\n",
              "      <td>NaN</td>\n",
              "      <td>NaN</td>\n",
              "      <td>NaN</td>\n",
              "      <td>NaN</td>\n",
              "    </tr>\n",
              "    <tr>\n",
              "      <th>3</th>\n",
              "      <td>79501</td>\n",
              "      <td>Thasos</td>\n",
              "      <td>Thasos</td>\n",
              "      <td>None</td>\n",
              "      <td>NaN</td>\n",
              "      <td>NaN</td>\n",
              "      <td>[unknown]</td>\n",
              "      <td>NaN</td>\n",
              "      <td>NaN</td>\n",
              "      <td>NaN</td>\n",
              "      <td>NaN</td>\n",
              "    </tr>\n",
              "    <tr>\n",
              "      <th>4</th>\n",
              "      <td>218501</td>\n",
              "      <td>Eg. — el-Boueib</td>\n",
              "      <td>el-Boueib</td>\n",
              "      <td>None</td>\n",
              "      <td>NaN</td>\n",
              "      <td>NaN</td>\n",
              "      <td>[unknown]</td>\n",
              "      <td>NaN</td>\n",
              "      <td>NaN</td>\n",
              "      <td>NaN</td>\n",
              "      <td>NaN</td>\n",
              "    </tr>\n",
              "  </tbody>\n",
              "</table>\n",
              "</div>"
            ],
            "text/plain": [
              "   PHI_ID  ... certainty\n",
              "0  262001  ...       NaN\n",
              "1  266001  ...       NaN\n",
              "2  231001  ...       NaN\n",
              "3   79501  ...       NaN\n",
              "4  218501  ...       NaN\n",
              "\n",
              "[5 rows x 11 columns]"
            ]
          },
          "metadata": {
            "tags": []
          },
          "execution_count": 649
        }
      ]
    },
    {
      "cell_type": "code",
      "metadata": {
        "id": "giPKMRLNVm5H",
        "colab_type": "code",
        "colab": {
          "base_uri": "https://localhost:8080/",
          "height": 68
        },
        "outputId": "af5f3679-03ef-4954-eb07-f603272b9026"
      },
      "source": [
        "PHI_by_500_dates_v9.columns"
      ],
      "execution_count": 651,
      "outputs": [
        {
          "output_type": "execute_result",
          "data": {
            "text/plain": [
              "Index(['PHI_ID', 'tildeinfo', 'raw_date', 'or', 'not_before', 'not_after',\n",
              "       'date_tags', 'source', 'notes', 'link', 'certainty'],\n",
              "      dtype='object')"
            ]
          },
          "metadata": {
            "tags": []
          },
          "execution_count": 651
        }
      ]
    },
    {
      "cell_type": "code",
      "metadata": {
        "id": "Oj4KrYLOVlF8",
        "colab_type": "code",
        "colab": {}
      },
      "source": [
        "PHI_by_500_dates_v9 = PHI_by_500_dates_v9[['PHI_ID', 'tildeinfo', 'raw_date', 'not_before', 'not_after', 'certainty', 'or',\n",
        "       'date_tags', 'source', 'notes', 'link']]"
      ],
      "execution_count": 652,
      "outputs": []
    },
    {
      "cell_type": "code",
      "metadata": {
        "id": "e16RPHQAVFQc",
        "colab_type": "code",
        "colab": {}
      },
      "source": [
        "set_with_dataframe(PHI_overview.add_worksheet(\"PHI_by_500_dates_v9\", 1,1), PHI_by_500_dates_v9)"
      ],
      "execution_count": 653,
      "outputs": []
    },
    {
      "cell_type": "markdown",
      "metadata": {
        "id": "B3t50nBgWLXV",
        "colab_type": "text"
      },
      "source": [
        "# Test with sample 2"
      ]
    },
    {
      "cell_type": "code",
      "metadata": {
        "id": "6tvrW6mtWQDs",
        "colab_type": "code",
        "colab": {
          "base_uri": "https://localhost:8080/",
          "height": 408
        },
        "outputId": "d3e0f5a3-805b-4224-c854-e61055453676"
      },
      "source": [
        "# generate sample for testing purposes:\n",
        "PHI_by_200 = PHI[PHI[\"PHI_ID\"].isin(range(0, 300000, 200))]\n",
        "PHI_by_200.head(5)"
      ],
      "execution_count": 654,
      "outputs": [
        {
          "output_type": "execute_result",
          "data": {
            "text/html": [
              "<div>\n",
              "<style scoped>\n",
              "    .dataframe tbody tr th:only-of-type {\n",
              "        vertical-align: middle;\n",
              "    }\n",
              "\n",
              "    .dataframe tbody tr th {\n",
              "        vertical-align: top;\n",
              "    }\n",
              "\n",
              "    .dataframe thead th {\n",
              "        text-align: right;\n",
              "    }\n",
              "</style>\n",
              "<table border=\"1\" class=\"dataframe\">\n",
              "  <thead>\n",
              "    <tr style=\"text-align: right;\">\n",
              "      <th></th>\n",
              "      <th>URL</th>\n",
              "      <th>Book</th>\n",
              "      <th>Text</th>\n",
              "      <th>hdr1</th>\n",
              "      <th>hdr2</th>\n",
              "      <th>tildeinfo</th>\n",
              "      <th>note</th>\n",
              "      <th>lines</th>\n",
              "      <th>metadata</th>\n",
              "      <th>data</th>\n",
              "      <th>filename</th>\n",
              "      <th>PHI_ID</th>\n",
              "      <th>raw_date</th>\n",
              "    </tr>\n",
              "  </thead>\n",
              "  <tbody>\n",
              "    <tr>\n",
              "      <th>89</th>\n",
              "      <td>/text/167600?location=1&amp;patt=&amp;bookid=173&amp;offse...</td>\n",
              "      <td>SGLIBulg</td>\n",
              "      <td>70</td>\n",
              "      <td>Regions</td>\n",
              "      <td>SGLIBulg\\n70</td>\n",
              "      <td>Moesia Inferior — Pliska — undated</td>\n",
              "      <td>{}</td>\n",
              "      <td>4</td>\n",
              "      <td>\\n1\\n\\n</td>\n",
              "      <td>[— — — — — — — —]\\n[— —]ΝΗΖ․[— — —]\\n[— — —Ο]Υ...</td>\n",
              "      <td>SGLIBulg.csv</td>\n",
              "      <td>167600</td>\n",
              "      <td>undated</td>\n",
              "    </tr>\n",
              "    <tr>\n",
              "      <th>288</th>\n",
              "      <td>/text/167800?location=1&amp;patt=&amp;bookid=173&amp;offse...</td>\n",
              "      <td>SGLIBulg</td>\n",
              "      <td>248,a</td>\n",
              "      <td>Regions</td>\n",
              "      <td>SGLIBulg\\n248,a</td>\n",
              "      <td>Moesia Inferior — Odessos (Varna) — late 4th/e...</td>\n",
              "      <td>{}</td>\n",
              "      <td>2</td>\n",
              "      <td>1\\n</td>\n",
              "      <td>CIRTO\\n☧ ☩</td>\n",
              "      <td>SGLIBulg.csv</td>\n",
              "      <td>167800</td>\n",
              "      <td>late 4th/early 5th c. AD</td>\n",
              "    </tr>\n",
              "    <tr>\n",
              "      <th>424</th>\n",
              "      <td>/text/261800?location=1040&amp;patt=&amp;bookid=517&amp;of...</td>\n",
              "      <td>Panamara</td>\n",
              "      <td>115</td>\n",
              "      <td>Regions\\nAsia Minor\\nCaria</td>\n",
              "      <td>Panamara\\n115</td>\n",
              "      <td>IStr 183</td>\n",
              "      <td>{}</td>\n",
              "      <td>12</td>\n",
              "      <td>1\\n\\n\\n\\n5\\n\\n\\n\\n\\n10\\n\\n</td>\n",
              "      <td>ἱερεὺς ἐν Ἡραίοις ἐπηνγελμέν[ος δὲ καὶ ἐν Κομυ...</td>\n",
              "      <td>Panamara.csv</td>\n",
              "      <td>261800</td>\n",
              "      <td>IStr 183</td>\n",
              "    </tr>\n",
              "    <tr>\n",
              "      <th>624</th>\n",
              "      <td>/text/262000?location=1040&amp;patt=&amp;bookid=517&amp;of...</td>\n",
              "      <td>Panamara</td>\n",
              "      <td>315</td>\n",
              "      <td>Regions\\nAsia Minor\\nCaria</td>\n",
              "      <td>Panamara\\n315</td>\n",
              "      <td>IStr 426</td>\n",
              "      <td>{}</td>\n",
              "      <td>2</td>\n",
              "      <td>1\\n</td>\n",
              "      <td>ἀγαθῇ τύχ[ῃ·] Διῒ Πανημερίῳ, ἐπὶ ἱερέως Κλ(αυδ...</td>\n",
              "      <td>Panamara.csv</td>\n",
              "      <td>262000</td>\n",
              "      <td>IStr 426</td>\n",
              "    </tr>\n",
              "    <tr>\n",
              "      <th>911</th>\n",
              "      <td>/text/266000?location=1673&amp;patt=&amp;bookid=587&amp;of...</td>\n",
              "      <td>St.Pont. III</td>\n",
              "      <td>110</td>\n",
              "      <td>Regions\\nAsia Minor\\nPontus and Paphlagonia</td>\n",
              "      <td>St.Pont. III\\n110</td>\n",
              "      <td>Pont. — Amasia — Rom. Imp. period</td>\n",
              "      <td>{}</td>\n",
              "      <td>11</td>\n",
              "      <td>1\\n\\n\\n\\n5\\n\\n\\n\\n\\n10\\n</td>\n",
              "      <td>ἐνθάδε κεῖμαι\\nΠίννας ῥητιάρις\\nπέντε πυκτεύ-\\...</td>\n",
              "      <td>St.Pont.-III.csv</td>\n",
              "      <td>266000</td>\n",
              "      <td>Rom. Imp. period</td>\n",
              "    </tr>\n",
              "  </tbody>\n",
              "</table>\n",
              "</div>"
            ],
            "text/plain": [
              "                                                   URL  ...                  raw_date\n",
              "89   /text/167600?location=1&patt=&bookid=173&offse...  ...                   undated\n",
              "288  /text/167800?location=1&patt=&bookid=173&offse...  ...  late 4th/early 5th c. AD\n",
              "424  /text/261800?location=1040&patt=&bookid=517&of...  ...                  IStr 183\n",
              "624  /text/262000?location=1040&patt=&bookid=517&of...  ...                  IStr 426\n",
              "911  /text/266000?location=1673&patt=&bookid=587&of...  ...          Rom. Imp. period\n",
              "\n",
              "[5 rows x 13 columns]"
            ]
          },
          "metadata": {
            "tags": []
          },
          "execution_count": 654
        }
      ]
    },
    {
      "cell_type": "code",
      "metadata": {
        "id": "c14YC7ngWaLB",
        "colab_type": "code",
        "colab": {
          "base_uri": "https://localhost:8080/",
          "height": 102
        },
        "outputId": "07e90709-935d-47be-80e5-5fd464bc1aef"
      },
      "source": [
        "PHI_by_200.sort_values(\"PHI_ID\", inplace=True)"
      ],
      "execution_count": 655,
      "outputs": [
        {
          "output_type": "stream",
          "text": [
            "/usr/local/lib/python3.6/dist-packages/ipykernel_launcher.py:1: SettingWithCopyWarning: \n",
            "A value is trying to be set on a copy of a slice from a DataFrame\n",
            "\n",
            "See the caveats in the documentation: https://pandas.pydata.org/pandas-docs/stable/user_guide/indexing.html#returning-a-view-versus-a-copy\n",
            "  \"\"\"Entry point for launching an IPython kernel.\n"
          ],
          "name": "stderr"
        }
      ]
    },
    {
      "cell_type": "code",
      "metadata": {
        "id": "cmd4qGjmW9_D",
        "colab_type": "code",
        "colab": {
          "base_uri": "https://localhost:8080/",
          "height": 119
        },
        "outputId": "7c254cf9-6adc-4dd6-cd76-e14350930a9d"
      },
      "source": [
        "PHI_by_200[\"dating_dict\"] = PHI_by_200.apply(lambda row: date_extractor(row[\"raw_date\"]), axis=1)"
      ],
      "execution_count": 671,
      "outputs": [
        {
          "output_type": "stream",
          "text": [
            "/usr/local/lib/python3.6/dist-packages/ipykernel_launcher.py:1: SettingWithCopyWarning: \n",
            "A value is trying to be set on a copy of a slice from a DataFrame.\n",
            "Try using .loc[row_indexer,col_indexer] = value instead\n",
            "\n",
            "See the caveats in the documentation: https://pandas.pydata.org/pandas-docs/stable/user_guide/indexing.html#returning-a-view-versus-a-copy\n",
            "  \"\"\"Entry point for launching an IPython kernel.\n"
          ],
          "name": "stderr"
        }
      ]
    },
    {
      "cell_type": "code",
      "metadata": {
        "id": "v1YZjJXmXg26",
        "colab_type": "code",
        "colab": {
          "base_uri": "https://localhost:8080/",
          "height": 119
        },
        "outputId": "9912a8c6-215e-4c37-dfee-ddc138ada52f"
      },
      "source": [
        "for key in [\"not_before\", \"not_after\", \"or\", \"date_tags\", \"certainty\", \"link\"]:\n",
        "  PHI_by_200[key] = PHI_by_200.apply(lambda row: row[\"dating_dict\"][key], axis=1)"
      ],
      "execution_count": 672,
      "outputs": [
        {
          "output_type": "stream",
          "text": [
            "/usr/local/lib/python3.6/dist-packages/ipykernel_launcher.py:2: SettingWithCopyWarning: \n",
            "A value is trying to be set on a copy of a slice from a DataFrame.\n",
            "Try using .loc[row_indexer,col_indexer] = value instead\n",
            "\n",
            "See the caveats in the documentation: https://pandas.pydata.org/pandas-docs/stable/user_guide/indexing.html#returning-a-view-versus-a-copy\n",
            "  \n"
          ],
          "name": "stderr"
        }
      ]
    },
    {
      "cell_type": "code",
      "metadata": {
        "id": "N1uBF2riWkSE",
        "colab_type": "code",
        "colab": {
          "base_uri": "https://localhost:8080/",
          "height": 949
        },
        "outputId": "c6a0de7b-e047-407a-abdc-9792fc30f19e"
      },
      "source": [
        "PHI_by_200"
      ],
      "execution_count": 673,
      "outputs": [
        {
          "output_type": "execute_result",
          "data": {
            "text/html": [
              "<div>\n",
              "<style scoped>\n",
              "    .dataframe tbody tr th:only-of-type {\n",
              "        vertical-align: middle;\n",
              "    }\n",
              "\n",
              "    .dataframe tbody tr th {\n",
              "        vertical-align: top;\n",
              "    }\n",
              "\n",
              "    .dataframe thead th {\n",
              "        text-align: right;\n",
              "    }\n",
              "</style>\n",
              "<table border=\"1\" class=\"dataframe\">\n",
              "  <thead>\n",
              "    <tr style=\"text-align: right;\">\n",
              "      <th></th>\n",
              "      <th>URL</th>\n",
              "      <th>Book</th>\n",
              "      <th>Text</th>\n",
              "      <th>hdr1</th>\n",
              "      <th>hdr2</th>\n",
              "      <th>tildeinfo</th>\n",
              "      <th>note</th>\n",
              "      <th>lines</th>\n",
              "      <th>metadata</th>\n",
              "      <th>data</th>\n",
              "      <th>filename</th>\n",
              "      <th>PHI_ID</th>\n",
              "      <th>raw_date</th>\n",
              "      <th>dating_dict</th>\n",
              "      <th>not_before</th>\n",
              "      <th>not_after</th>\n",
              "      <th>or</th>\n",
              "      <th>date_tags</th>\n",
              "      <th>certainty</th>\n",
              "      <th>link</th>\n",
              "    </tr>\n",
              "  </thead>\n",
              "  <tbody>\n",
              "    <tr>\n",
              "      <th>178490</th>\n",
              "      <td>/text/1800?location=1365&amp;patt=&amp;bookid=3&amp;offset...</td>\n",
              "      <td>IG I²</td>\n",
              "      <td>911,3</td>\n",
              "      <td>Regions\\nAttica (IG I-III)\\nAttica</td>\n",
              "      <td>IG I²\\n911,3</td>\n",
              "      <td>Att. — Ath.: Kerameikos — [ostrakon]</td>\n",
              "      <td>{}</td>\n",
              "      <td>2</td>\n",
              "      <td>1\\n</td>\n",
              "      <td>[Ἀνδο]κίδες\\n[Λεογ]όρο.</td>\n",
              "      <td>IG-I-.csv</td>\n",
              "      <td>1800</td>\n",
              "      <td>[ostrakon]</td>\n",
              "      <td>{'or': None, 'not_before': None, 'not_after': ...</td>\n",
              "      <td>NaN</td>\n",
              "      <td>NaN</td>\n",
              "      <td>None</td>\n",
              "      <td>[unknown]</td>\n",
              "      <td>None</td>\n",
              "      <td>None</td>\n",
              "    </tr>\n",
              "    <tr>\n",
              "      <th>88061</th>\n",
              "      <td>/text/2400?location=1365&amp;patt=&amp;bookid=5&amp;offset...</td>\n",
              "      <td>IG II²</td>\n",
              "      <td>182</td>\n",
              "      <td>Regions\\nAttica (IG I-III)\\nAttica</td>\n",
              "      <td>IG II²\\n182</td>\n",
              "      <td>Att. — stoich. 32 — ante 353/2 — IG II² 182 Ad...</td>\n",
              "      <td>{}</td>\n",
              "      <td>11</td>\n",
              "      <td>1\\n\\n\\n\\n5\\n\\n\\n\\n\\n10\\n</td>\n",
              "      <td>— — — — — — — — — — Ν — — — — — — — — — —\\n— —...</td>\n",
              "      <td>IG-II-.csv</td>\n",
              "      <td>2400</td>\n",
              "      <td>IG II² 182 Add. (pt. 1.2 p. 658)</td>\n",
              "      <td>{'or': None, 'not_before': None, 'not_after': ...</td>\n",
              "      <td>NaN</td>\n",
              "      <td>NaN</td>\n",
              "      <td>None</td>\n",
              "      <td>[unknown]</td>\n",
              "      <td>None</td>\n",
              "      <td>None</td>\n",
              "    </tr>\n",
              "    <tr>\n",
              "      <th>88261</th>\n",
              "      <td>/text/2600?location=1365&amp;patt=&amp;bookid=5&amp;offset...</td>\n",
              "      <td>IG II²</td>\n",
              "      <td>383</td>\n",
              "      <td>Regions\\nAttica (IG I-III)\\nAttica</td>\n",
              "      <td>IG II²\\n383</td>\n",
              "      <td>Att. — stoich. 24 — 320/19</td>\n",
              "      <td>{}</td>\n",
              "      <td>5</td>\n",
              "      <td>1\\n\\n\\n\\n5</td>\n",
              "      <td>[θε]οί.\\n[ἀναγραφεὺς Ἀρχ]έδικος Ν[αυκρ]-\\n[ίτο...</td>\n",
              "      <td>IG-II-.csv</td>\n",
              "      <td>2600</td>\n",
              "      <td>320/19</td>\n",
              "      <td>{'or': None, 'not_before': -320, 'not_after': ...</td>\n",
              "      <td>-320.0</td>\n",
              "      <td>-319.0</td>\n",
              "      <td>None</td>\n",
              "      <td>[range]</td>\n",
              "      <td>None</td>\n",
              "      <td>None</td>\n",
              "    </tr>\n",
              "    <tr>\n",
              "      <th>88461</th>\n",
              "      <td>/text/2800?location=1365&amp;patt=&amp;bookid=5&amp;offset...</td>\n",
              "      <td>IG II²</td>\n",
              "      <td>581</td>\n",
              "      <td>Regions\\nAttica (IG I-III)\\nAttica</td>\n",
              "      <td>IG II²\\n581</td>\n",
              "      <td>Att. — stoich. — fin. s. IV a.</td>\n",
              "      <td>{}</td>\n",
              "      <td>10</td>\n",
              "      <td>1\\n\\n\\n\\n5\\n\\n\\n\\n\\n10</td>\n",
              "      <td>․․․․ο — — — — — — — — — — — — — —\\n․․․ τὴν π̣ο...</td>\n",
              "      <td>IG-II-.csv</td>\n",
              "      <td>2800</td>\n",
              "      <td>fin. s. IV a.</td>\n",
              "      <td>{'or': None, 'not_before': -311, 'not_after': ...</td>\n",
              "      <td>-311.0</td>\n",
              "      <td>-301.0</td>\n",
              "      <td>None</td>\n",
              "      <td>[range, cent, phase, end]</td>\n",
              "      <td>None</td>\n",
              "      <td>None</td>\n",
              "    </tr>\n",
              "    <tr>\n",
              "      <th>88661</th>\n",
              "      <td>/text/3000?location=1365&amp;patt=&amp;bookid=5&amp;offset...</td>\n",
              "      <td>IG II²</td>\n",
              "      <td>782</td>\n",
              "      <td>Regions\\nAttica (IG I-III)\\nAttica</td>\n",
              "      <td>IG II²\\n782</td>\n",
              "      <td>Att. — stoich. 51 — c. 244/3</td>\n",
              "      <td>{}</td>\n",
              "      <td>15</td>\n",
              "      <td>1\\n\\n\\n\\n5\\n\\n\\n\\n\\n10\\n\\n\\n\\n\\n15</td>\n",
              "      <td>ἐπὶ Θερ[σ]ιλό[χου ἄρχοντος ἐπὶ τῆς — — — — — π...</td>\n",
              "      <td>IG-II-.csv</td>\n",
              "      <td>3000</td>\n",
              "      <td>c. 244/3</td>\n",
              "      <td>{'or': None, 'not_before': -244, 'not_after': ...</td>\n",
              "      <td>-244.0</td>\n",
              "      <td>-243.0</td>\n",
              "      <td>None</td>\n",
              "      <td>[range]</td>\n",
              "      <td>None</td>\n",
              "      <td>None</td>\n",
              "    </tr>\n",
              "    <tr>\n",
              "      <th>...</th>\n",
              "      <td>...</td>\n",
              "      <td>...</td>\n",
              "      <td>...</td>\n",
              "      <td>...</td>\n",
              "      <td>...</td>\n",
              "      <td>...</td>\n",
              "      <td>...</td>\n",
              "      <td>...</td>\n",
              "      <td>...</td>\n",
              "      <td>...</td>\n",
              "      <td>...</td>\n",
              "      <td>...</td>\n",
              "      <td>...</td>\n",
              "      <td>...</td>\n",
              "      <td>...</td>\n",
              "      <td>...</td>\n",
              "      <td>...</td>\n",
              "      <td>...</td>\n",
              "      <td>...</td>\n",
              "      <td>...</td>\n",
              "    </tr>\n",
              "    <tr>\n",
              "      <th>213825</th>\n",
              "      <td>/text/299000?location=1237&amp;patt=&amp;bookid=736&amp;of...</td>\n",
              "      <td>IDR III,2</td>\n",
              "      <td>309</td>\n",
              "      <td>Regions\\nThrace and the Lower Danube (IG X)\\nD...</td>\n",
              "      <td>IDR III,2\\n309</td>\n",
              "      <td>Dacia Sup. — Ulpia Traiana-Sarmizegetusa — 2nd...</td>\n",
              "      <td>{}</td>\n",
              "      <td>7</td>\n",
              "      <td>1\\n\\n\\n\\n5\\n\\n</td>\n",
              "      <td>Deae Regi(nae)\\nAel(ia) Primi-\\ntiva ex vot(o)...</td>\n",
              "      <td>IDR-III-2.csv</td>\n",
              "      <td>299000</td>\n",
              "      <td>2nd/3rd c. AD</td>\n",
              "      <td>{'or': None, 'not_before': 101, 'not_after': 3...</td>\n",
              "      <td>101.0</td>\n",
              "      <td>300.0</td>\n",
              "      <td>None</td>\n",
              "      <td>[range, cent, morece]</td>\n",
              "      <td>None</td>\n",
              "      <td>None</td>\n",
              "    </tr>\n",
              "    <tr>\n",
              "      <th>214025</th>\n",
              "      <td>/text/299200?location=1237&amp;patt=&amp;bookid=736&amp;of...</td>\n",
              "      <td>IDR III,2</td>\n",
              "      <td>506</td>\n",
              "      <td>Regions\\nThrace and the Lower Danube (IG X)\\nD...</td>\n",
              "      <td>IDR III,2\\n506</td>\n",
              "      <td>Dacia Sup. — Ulpia Traiana-Sarmizegetusa — 2nd...</td>\n",
              "      <td>{}</td>\n",
              "      <td>12</td>\n",
              "      <td>frg. a\\n\\n\\n\\nfrg. b\\n\\n\\n\\n\\nfrg. c\\n\\n</td>\n",
              "      <td>[— — — — —]\\n[— —]MI[— —]\\n[— — — — —]\\n\\n[— —...</td>\n",
              "      <td>IDR-III-2.csv</td>\n",
              "      <td>299200</td>\n",
              "      <td>2nd/3rd c. AD</td>\n",
              "      <td>{'or': None, 'not_before': 101, 'not_after': 3...</td>\n",
              "      <td>101.0</td>\n",
              "      <td>300.0</td>\n",
              "      <td>None</td>\n",
              "      <td>[range, cent, morece]</td>\n",
              "      <td>None</td>\n",
              "      <td>None</td>\n",
              "    </tr>\n",
              "    <tr>\n",
              "      <th>16466</th>\n",
              "      <td>/text/299400?location=1237&amp;patt=&amp;bookid=737&amp;of...</td>\n",
              "      <td>IDR III,3</td>\n",
              "      <td>83</td>\n",
              "      <td>Regions\\nThrace and the Lower Danube (IG X)\\nD...</td>\n",
              "      <td>IDR III,3\\n83</td>\n",
              "      <td>Dacia Sup. — Micia (Vețel) — 2nd/3rd c. AD — C...</td>\n",
              "      <td>{}</td>\n",
              "      <td>6</td>\n",
              "      <td>1\\n\\n\\n\\n5\\n</td>\n",
              "      <td>I(ovi) O(ptimo) M(aximo)\\nvet(erani) et c(ives...</td>\n",
              "      <td>IDR-III-3.csv</td>\n",
              "      <td>299400</td>\n",
              "      <td>2nd/3rd c. AD</td>\n",
              "      <td>{'or': None, 'not_before': 101, 'not_after': 3...</td>\n",
              "      <td>101.0</td>\n",
              "      <td>300.0</td>\n",
              "      <td>None</td>\n",
              "      <td>[range, cent, morece]</td>\n",
              "      <td>None</td>\n",
              "      <td>None</td>\n",
              "    </tr>\n",
              "    <tr>\n",
              "      <th>16666</th>\n",
              "      <td>/text/299600?location=1237&amp;patt=&amp;bookid=737&amp;of...</td>\n",
              "      <td>IDR III,3</td>\n",
              "      <td>232</td>\n",
              "      <td>Regions\\nThrace and the Lower Danube (IG X)\\nD...</td>\n",
              "      <td>IDR III,3\\n232</td>\n",
              "      <td>Dacia Sup. — Germisara: Geoagiu — 161 AD</td>\n",
              "      <td>{}</td>\n",
              "      <td>7</td>\n",
              "      <td>1\\n\\n\\n\\n5\\n\\n</td>\n",
              "      <td>Aesculapio\\net Hygiae\\nsacrum\\nP(ublius) Furiu...</td>\n",
              "      <td>IDR-III-3.csv</td>\n",
              "      <td>299600</td>\n",
              "      <td>161 AD</td>\n",
              "      <td>{'or': None, 'not_before': 161, 'not_after': 1...</td>\n",
              "      <td>161.0</td>\n",
              "      <td>161.0</td>\n",
              "      <td>None</td>\n",
              "      <td>[exact]</td>\n",
              "      <td>None</td>\n",
              "      <td>None</td>\n",
              "    </tr>\n",
              "    <tr>\n",
              "      <th>16866</th>\n",
              "      <td>/text/299800?location=1237&amp;patt=&amp;bookid=737&amp;of...</td>\n",
              "      <td>IDR III,3</td>\n",
              "      <td>396</td>\n",
              "      <td>Regions\\nThrace and the Lower Danube (IG X)\\nD...</td>\n",
              "      <td>IDR III,3\\n396</td>\n",
              "      <td>Dacia Sup. — Alburnus Maior (Roșia Montană) — ...</td>\n",
              "      <td>{}</td>\n",
              "      <td>5</td>\n",
              "      <td>1\\n\\n\\n\\n5</td>\n",
              "      <td>Lib(ero) Patr(i)\\nsacrum\\nAtrius Ma-\\nximi v(o...</td>\n",
              "      <td>IDR-III-3.csv</td>\n",
              "      <td>299800</td>\n",
              "      <td>2nd/3rd c. AD</td>\n",
              "      <td>{'or': None, 'not_before': 101, 'not_after': 3...</td>\n",
              "      <td>101.0</td>\n",
              "      <td>300.0</td>\n",
              "      <td>None</td>\n",
              "      <td>[range, cent, morece]</td>\n",
              "      <td>None</td>\n",
              "      <td>None</td>\n",
              "    </tr>\n",
              "  </tbody>\n",
              "</table>\n",
              "<p>821 rows × 20 columns</p>\n",
              "</div>"
            ],
            "text/plain": [
              "                                                      URL  ...  link\n",
              "178490  /text/1800?location=1365&patt=&bookid=3&offset...  ...  None\n",
              "88061   /text/2400?location=1365&patt=&bookid=5&offset...  ...  None\n",
              "88261   /text/2600?location=1365&patt=&bookid=5&offset...  ...  None\n",
              "88461   /text/2800?location=1365&patt=&bookid=5&offset...  ...  None\n",
              "88661   /text/3000?location=1365&patt=&bookid=5&offset...  ...  None\n",
              "...                                                   ...  ...   ...\n",
              "213825  /text/299000?location=1237&patt=&bookid=736&of...  ...  None\n",
              "214025  /text/299200?location=1237&patt=&bookid=736&of...  ...  None\n",
              "16466   /text/299400?location=1237&patt=&bookid=737&of...  ...  None\n",
              "16666   /text/299600?location=1237&patt=&bookid=737&of...  ...  None\n",
              "16866   /text/299800?location=1237&patt=&bookid=737&of...  ...  None\n",
              "\n",
              "[821 rows x 20 columns]"
            ]
          },
          "metadata": {
            "tags": []
          },
          "execution_count": 673
        }
      ]
    },
    {
      "cell_type": "code",
      "metadata": {
        "id": "_L14WDyMZldZ",
        "colab_type": "code",
        "colab": {}
      },
      "source": [
        "set_with_dataframe(PHI_overview.add_worksheet(\"PHI_by_200_v1\", 1,1), PHI_by_200)"
      ],
      "execution_count": 674,
      "outputs": []
    },
    {
      "cell_type": "markdown",
      "metadata": {
        "id": "2bV1j_tDHhsy",
        "colab_type": "text"
      },
      "source": [
        "# Match \"/\" for individual dates"
      ]
    },
    {
      "cell_type": "code",
      "metadata": {
        "id": "u_Sa4Ql94vyI",
        "colab_type": "code",
        "colab": {}
      },
      "source": [
        "def match_or(datation):\n",
        "  match = re.search(r'(\\d+)(\\/)(\\d+)', str(datation), flags=re.IGNORECASE)\n",
        "  if match != None:\n",
        "      date1 = match.groups()[0]\n",
        "      date2 = match.groups()[2]\n",
        "      len_diff = len(date1) - len(date2)\n",
        "      if len_diff > 0:\n",
        "        date2 = date1[:len_diff] + date2\n",
        "      date1 = int(date1)\n",
        "      date2 = int(date2)\n",
        "      if \"AD\" not in datation:\n",
        "        date1 = int(date1) * -1\n",
        "        date2 = {int(date2) * -1\n",
        "      return {\"exact\" : date1, \"or\": date2, \"type\" : \"or\"}\n",
        "  else:\n",
        "      return {\"type\" : \"unknown\"}\n"
      ],
      "execution_count": null,
      "outputs": []
    },
    {
      "cell_type": "code",
      "metadata": {
        "id": "1hHnkA-UCzYt",
        "colab_type": "code",
        "colab": {
          "base_uri": "https://localhost:8080/",
          "height": 68
        },
        "outputId": "f125b72a-dcc0-4632-ccf4-6a5426e20600"
      },
      "source": [
        "ors = PHI_by_500[PHI_by_500[\"raw_date\"].str.contains(r'(\\d+)(\\/)(\\d+)')][\"raw_date\"].tolist()\n",
        "print(ors)"
      ],
      "execution_count": null,
      "outputs": [
        {
          "output_type": "stream",
          "text": [
            "[' 220/19', ' 12/1 BC', ' 116/5 BC', ' 229/30 or 230/1 AD ', ' ante 336/5', ' 204/3?', ' 73/4 AD', ' ca. 163/2 BC', ' 128/127 BC ', ' shortly after 208/7 BC (or 207/6) ', ' 154/5 AD', ' 66/7 AD']\n"
          ],
          "name": "stdout"
        },
        {
          "output_type": "stream",
          "text": [
            "/usr/local/lib/python3.6/dist-packages/pandas/core/strings.py:1954: UserWarning: This pattern has match groups. To actually get the groups, use str.extract.\n",
            "  return func(self, *args, **kwargs)\n"
          ],
          "name": "stderr"
        }
      ]
    },
    {
      "cell_type": "code",
      "metadata": {
        "id": "iGEFwL8X854e",
        "colab_type": "code",
        "colab": {
          "base_uri": "https://localhost:8080/",
          "height": 221
        },
        "outputId": "75fe9e28-eadb-4b42-fc92-18e5d4a8b9ab"
      },
      "source": [
        "# example/testing\n",
        "for our_or in ors:\n",
        "  print({our_or: match_or(our_or)})\n"
      ],
      "execution_count": null,
      "outputs": [
        {
          "output_type": "stream",
          "text": [
            "{' 220/19': {'exact': -220, 'or': -219, 'type': 'or'}}\n",
            "{' 12/1 BC': {'exact': -12, 'or': -11, 'type': 'or'}}\n",
            "{' 116/5 BC': {'exact': -116, 'or': -115, 'type': 'or'}}\n",
            "{' 229/30 or 230/1 AD ': {'exact': 229, 'or': 230, 'type': 'or'}}\n",
            "{' ante 336/5': {'exact': -336, 'or': -335, 'type': 'or'}}\n",
            "{' 204/3?': {'exact': -204, 'or': -203, 'type': 'or'}}\n",
            "{' 73/4 AD': {'exact': 73, 'or': 74, 'type': 'or'}}\n",
            "{' ca. 163/2 BC': {'exact': -163, 'or': -162, 'type': 'or'}}\n",
            "{' 128/127 BC ': {'exact': -128, 'or': -127, 'type': 'or'}}\n",
            "{' shortly after 208/7 BC (or 207/6) ': {'exact': -208, 'or': -207, 'type': 'or'}}\n",
            "{' 154/5 AD': {'exact': 154, 'or': 155, 'type': 'or'}}\n",
            "{' 66/7 AD': {'exact': 66, 'or': 67, 'type': 'or'}}\n"
          ],
          "name": "stdout"
        }
      ]
    },
    {
      "cell_type": "code",
      "metadata": {
        "id": "kemxIJc73BWt",
        "colab_type": "code",
        "colab": {
          "base_uri": "https://localhost:8080/",
          "height": 68
        },
        "outputId": "d7e95f0b-13f7-49af-ae3b-eaa5ed36b637"
      },
      "source": [
        "ors = PHI_by_500[PHI_by_500[\"raw_date\"].str.contains(\"(\\d+)(\\/)(\\d+)\")][\"raw_date\"].tolist()\n",
        "print(ors)"
      ],
      "execution_count": null,
      "outputs": [
        {
          "output_type": "stream",
          "text": [
            "[' 220/19', ' 12/1 BC', ' 116/5 BC', ' 229/30 or 230/1 AD ', ' ante 336/5', ' 204/3?', ' 73/4 AD', ' ca. 163/2 BC', ' 128/127 BC ', ' shortly after 208/7 BC (or 207/6) ', ' 154/5 AD', ' 66/7 AD']\n"
          ],
          "name": "stdout"
        },
        {
          "output_type": "stream",
          "text": [
            "/usr/local/lib/python3.6/dist-packages/pandas/core/strings.py:1954: UserWarning: This pattern has match groups. To actually get the groups, use str.extract.\n",
            "  return func(self, *args, **kwargs)\n"
          ],
          "name": "stderr"
        }
      ]
    },
    {
      "cell_type": "markdown",
      "metadata": {
        "id": "XN8vR4hjH6hX",
        "colab_type": "text"
      },
      "source": [
        "# Under development"
      ]
    },
    {
      "cell_type": "code",
      "metadata": {
        "id": "JLLGvf1C2ycH",
        "colab_type": "code",
        "colab": {
          "base_uri": "https://localhost:8080/",
          "height": 1000
        },
        "outputId": "94c63aec-c1d2-4aca-d6d9-e5f84ee43ac1"
      },
      "source": [
        "PHI_by_500[PHI_by_500[\"raw_date\"].str.contains(\"/\")]"
      ],
      "execution_count": null,
      "outputs": [
        {
          "output_type": "execute_result",
          "data": {
            "text/html": [
              "<div>\n",
              "<style scoped>\n",
              "    .dataframe tbody tr th:only-of-type {\n",
              "        vertical-align: middle;\n",
              "    }\n",
              "\n",
              "    .dataframe tbody tr th {\n",
              "        vertical-align: top;\n",
              "    }\n",
              "\n",
              "    .dataframe thead th {\n",
              "        text-align: right;\n",
              "    }\n",
              "</style>\n",
              "<table border=\"1\" class=\"dataframe\">\n",
              "  <thead>\n",
              "    <tr style=\"text-align: right;\">\n",
              "      <th></th>\n",
              "      <th>URL</th>\n",
              "      <th>Book</th>\n",
              "      <th>Text</th>\n",
              "      <th>hdr1</th>\n",
              "      <th>hdr2</th>\n",
              "      <th>tildeinfo</th>\n",
              "      <th>note</th>\n",
              "      <th>lines</th>\n",
              "      <th>metadata</th>\n",
              "      <th>data</th>\n",
              "      <th>filename</th>\n",
              "      <th>PHI_ID</th>\n",
              "      <th>raw_date</th>\n",
              "    </tr>\n",
              "  </thead>\n",
              "  <tbody>\n",
              "    <tr>\n",
              "      <th>1260</th>\n",
              "      <td>/text/231001?location=1365&amp;patt=&amp;bookid=394&amp;of...</td>\n",
              "      <td>Agora XV</td>\n",
              "      <td>130</td>\n",
              "      <td>Regions\\nAttica (IG I-III)\\nAttica</td>\n",
              "      <td>Agora XV\\n130</td>\n",
              "      <td>Att. — Athens: Agora — 220/19</td>\n",
              "      <td>{}</td>\n",
              "      <td>149</td>\n",
              "      <td>1\\n\\n\\n\\n5\\n\\n\\n\\n\\n10\\n\\n\\n\\n\\n15\\n\\n\\n\\n\\n20...</td>\n",
              "      <td>ἐπὶ Μενεκράτου ἄρχοντος ἐπὶ τῆς Οἰνεῖδος ἕκτη-...</td>\n",
              "      <td>Agora-XV.csv</td>\n",
              "      <td>231001</td>\n",
              "      <td>220/19</td>\n",
              "    </tr>\n",
              "    <tr>\n",
              "      <th>7001</th>\n",
              "      <td>/text/298501?location=1237&amp;patt=&amp;bookid=735&amp;of...</td>\n",
              "      <td>IDR III,1</td>\n",
              "      <td>153</td>\n",
              "      <td>Regions\\nThrace and the Lower Danube (IG X)\\nD...</td>\n",
              "      <td>IDR III,1\\n153</td>\n",
              "      <td>Dacia Sup. — Tibiscum (Jupa) — 2nd/3rd c. AD</td>\n",
              "      <td>{}</td>\n",
              "      <td>8</td>\n",
              "      <td>1\\n\\n\\n\\n5\\n\\n\\n</td>\n",
              "      <td>D(is) M(anibus)\\nP(ublius) Ael(ius) Claudia-\\n...</td>\n",
              "      <td>IDR-III-1.csv</td>\n",
              "      <td>298501</td>\n",
              "      <td>2nd/3rd c. AD</td>\n",
              "    </tr>\n",
              "    <tr>\n",
              "      <th>15498</th>\n",
              "      <td>/text/243501?location=1498&amp;patt=&amp;bookid=474&amp;of...</td>\n",
              "      <td>IGLSyr 4</td>\n",
              "      <td>1271B,g</td>\n",
              "      <td>Regions\\nGreater Syria and the East\\nSyria and...</td>\n",
              "      <td>IGLSyr 4\\n1271B,g</td>\n",
              "      <td>Syr., Laodik. — Laodicea — 12/1 BC</td>\n",
              "      <td>{}</td>\n",
              "      <td>2</td>\n",
              "      <td>1\\n</td>\n",
              "      <td>ζλʹ {²sc. ἔτους}², ἑκκα-\\nιδέκατον.</td>\n",
              "      <td>IGLSyr-4.csv</td>\n",
              "      <td>243501</td>\n",
              "      <td>12/1 BC</td>\n",
              "    </tr>\n",
              "    <tr>\n",
              "      <th>16567</th>\n",
              "      <td>/text/299501?location=1237&amp;patt=&amp;bookid=737&amp;of...</td>\n",
              "      <td>IDR III,3</td>\n",
              "      <td>182</td>\n",
              "      <td>Regions\\nThrace and the Lower Danube (IG X)\\nD...</td>\n",
              "      <td>IDR III,3\\n182</td>\n",
              "      <td>Dacia Sup. — Micia (Vețel)? — Chimindia — 2nd/...</td>\n",
              "      <td>{}</td>\n",
              "      <td>9</td>\n",
              "      <td>frg. a\\n\\n\\n\\n\\nfrg. b\\n\\n\\n</td>\n",
              "      <td>[— — — — — — — — — — — —]\\n[— —] quondam Pompo...</td>\n",
              "      <td>IDR-III-3.csv</td>\n",
              "      <td>299501</td>\n",
              "      <td>2nd/3rd c. AD</td>\n",
              "    </tr>\n",
              "    <tr>\n",
              "      <th>24698</th>\n",
              "      <td>/text/64501?location=915&amp;patt=&amp;bookid=1&amp;offset...</td>\n",
              "      <td>ID</td>\n",
              "      <td>2057</td>\n",
              "      <td>Regions\\nAegean Islands, incl. Crete (IG XI-[X...</td>\n",
              "      <td>ID\\n2057</td>\n",
              "      <td>Delos — 116/5 BC</td>\n",
              "      <td>{}</td>\n",
              "      <td>6</td>\n",
              "      <td>1\\n\\n\\n\\n5\\n</td>\n",
              "      <td>Διονύσιος\\nΔιονυσίου\\nΣφή&lt;τ&gt;τιος, ἱερεὺς\\nγενό...</td>\n",
              "      <td>ID.csv</td>\n",
              "      <td>64501</td>\n",
              "      <td>116/5 BC</td>\n",
              "    </tr>\n",
              "    <tr>\n",
              "      <th>35543</th>\n",
              "      <td>/text/217001?location=1497&amp;patt=&amp;bookid=362&amp;of...</td>\n",
              "      <td>Bernand, Inscr. Métr.</td>\n",
              "      <td>113</td>\n",
              "      <td>Regions\\nEgypt, Nubia and Cyrenaïca\\nEgypt and...</td>\n",
              "      <td>Bernand, Inscr. Métr.\\n113</td>\n",
              "      <td>Eg. — Naukratis (Kōm Giéif) — 3rd/2nd c. BC?</td>\n",
              "      <td>{}</td>\n",
              "      <td>4</td>\n",
              "      <td>1\\n\\n\\n</td>\n",
              "      <td>Νειλούσσης ἀλόχου τήνδ’ εἰκόνα Παρθενοπαί[ου]\\...</td>\n",
              "      <td>Bernand--Inscr.-M-tr..csv</td>\n",
              "      <td>217001</td>\n",
              "      <td>3rd/2nd c. BC?</td>\n",
              "    </tr>\n",
              "    <tr>\n",
              "      <th>38001</th>\n",
              "      <td>/text/228501?location=1497&amp;patt=&amp;bookid=389&amp;of...</td>\n",
              "      <td>Delta I</td>\n",
              "      <td>662,198</td>\n",
              "      <td>Regions\\nEgypt, Nubia and Cyrenaïca\\nEgypt and...</td>\n",
              "      <td>Delta I\\n662,198</td>\n",
              "      <td>Eg. — Naukratis — 6th/5th c. BC</td>\n",
              "      <td>{}</td>\n",
              "      <td>1</td>\n",
              "      <td>1</td>\n",
              "      <td>Κ̣α̣ρό̣φνης με ἀνέθηκε τἀπό̣[λλοˉνι το͂ι Μ]ιλα...</td>\n",
              "      <td>Delta-I.csv</td>\n",
              "      <td>228501</td>\n",
              "      <td>6th/5th c. BC</td>\n",
              "    </tr>\n",
              "    <tr>\n",
              "      <th>38501</th>\n",
              "      <td>/text/229001?location=1497&amp;patt=&amp;bookid=389&amp;of...</td>\n",
              "      <td>Delta I</td>\n",
              "      <td>712,699</td>\n",
              "      <td>Regions\\nEgypt, Nubia and Cyrenaïca\\nEgypt and...</td>\n",
              "      <td>Delta I\\n712,699</td>\n",
              "      <td>Eg. — Naukratis — 6th/5th c. BC</td>\n",
              "      <td>{}</td>\n",
              "      <td>1</td>\n",
              "      <td>1</td>\n",
              "      <td>[Ἀ]πόλλ[ωνός ἐˉμι].</td>\n",
              "      <td>Delta-I.csv</td>\n",
              "      <td>229001</td>\n",
              "      <td>6th/5th c. BC</td>\n",
              "    </tr>\n",
              "    <tr>\n",
              "      <th>58576</th>\n",
              "      <td>/text/291501?location=1&amp;patt=&amp;bookid=172&amp;offse...</td>\n",
              "      <td>SEG</td>\n",
              "      <td>21:506</td>\n",
              "      <td>Regions</td>\n",
              "      <td>SEG\\n21:506</td>\n",
              "      <td>Att. — 229/30 or 230/1 AD — IG II² 1064+</td>\n",
              "      <td>{}</td>\n",
              "      <td>69</td>\n",
              "      <td>\\n\\n\\nfrg. a.1\\n\\n\\n\\n5\\n\\n\\n\\n\\n10\\nfrg. b.10...</td>\n",
              "      <td>IG II(2) 1064+, Oliver, Hesp. Suppl. VI (1941)...</td>\n",
              "      <td>SEG.csv</td>\n",
              "      <td>291501</td>\n",
              "      <td>229/30 or 230/1 AD</td>\n",
              "    </tr>\n",
              "    <tr>\n",
              "      <th>60698</th>\n",
              "      <td>/text/152001?location=1&amp;patt=&amp;bookid=172&amp;offse...</td>\n",
              "      <td>SEG</td>\n",
              "      <td>26:759</td>\n",
              "      <td>Regions</td>\n",
              "      <td>SEG\\n26:759</td>\n",
              "      <td>Makedonia (Mygdonia) — Thessalonike — 2nd/3rd ...</td>\n",
              "      <td>{}</td>\n",
              "      <td>3</td>\n",
              "      <td>6\\n\\n</td>\n",
              "      <td>. . . εἰ δέ\\n[τις ἕτ]ε̣ρος κα-\\n[ταθῇ ἕτερον π...</td>\n",
              "      <td>SEG.csv</td>\n",
              "      <td>152001</td>\n",
              "      <td>2nd/3rd c. AD</td>\n",
              "    </tr>\n",
              "    <tr>\n",
              "      <th>62919</th>\n",
              "      <td>/text/226501?location=1&amp;patt=&amp;bookid=172&amp;offse...</td>\n",
              "      <td>SEG</td>\n",
              "      <td>28:1530</td>\n",
              "      <td>Regions</td>\n",
              "      <td>SEG\\n28:1530</td>\n",
              "      <td>Eg. — Terenouthis (Kōm Abu Bellou) — 3rd/4th c...</td>\n",
              "      <td>{}</td>\n",
              "      <td>3</td>\n",
              "      <td>1\\n\\n</td>\n",
              "      <td>ἐνθάδε κεῖται\\nγυνὴ πάνυ σώφρων Ἀρτεμιδώρα\\nεὐ...</td>\n",
              "      <td>SEG.csv</td>\n",
              "      <td>226501</td>\n",
              "      <td>3rd/4th c. AD</td>\n",
              "    </tr>\n",
              "    <tr>\n",
              "      <th>88162</th>\n",
              "      <td>/text/2501?location=1365&amp;patt=&amp;bookid=5&amp;offset...</td>\n",
              "      <td>IG II²</td>\n",
              "      <td>284</td>\n",
              "      <td>Regions\\nAttica (IG I-III)\\nAttica</td>\n",
              "      <td>IG II²\\n284</td>\n",
              "      <td>Att. — stoich. 28 — ante 336/5</td>\n",
              "      <td>{}</td>\n",
              "      <td>17</td>\n",
              "      <td>1\\n\\n\\n\\n5\\n\\n\\n\\n\\n10\\n\\n\\n\\n\\n15\\n\\n</td>\n",
              "      <td>․․․7․․․#⁷#⁷#⁷․․․․․․․․18․․․․․․․․\\n․․․κράτης κα[...</td>\n",
              "      <td>IG-II-.csv</td>\n",
              "      <td>2501</td>\n",
              "      <td>ante 336/5</td>\n",
              "    </tr>\n",
              "    <tr>\n",
              "      <th>88662</th>\n",
              "      <td>/text/3001?location=1365&amp;patt=&amp;bookid=5&amp;offset...</td>\n",
              "      <td>IG II²</td>\n",
              "      <td>783</td>\n",
              "      <td>Regions\\nAttica (IG I-III)\\nAttica</td>\n",
              "      <td>IG II²\\n783</td>\n",
              "      <td>Att. — non-stoich. — 204/3?</td>\n",
              "      <td>{}</td>\n",
              "      <td>10</td>\n",
              "      <td>1\\n\\n\\n\\n5\\n\\n\\n\\n\\n10</td>\n",
              "      <td>[ἐπὶ — — — ἄρ]χοντος ἐπὶ τῆς Αἰαντίδος δωδεκάτ...</td>\n",
              "      <td>IG-II-.csv</td>\n",
              "      <td>3001</td>\n",
              "      <td>204/3?</td>\n",
              "    </tr>\n",
              "    <tr>\n",
              "      <th>90162</th>\n",
              "      <td>/text/4501?location=1365&amp;patt=&amp;bookid=5&amp;offset...</td>\n",
              "      <td>IG II²</td>\n",
              "      <td>2266</td>\n",
              "      <td>Regions\\nAttica (IG I-III)\\nAttica</td>\n",
              "      <td>IG II²\\n2266</td>\n",
              "      <td>Att. — [s. II/III p.]</td>\n",
              "      <td>{}</td>\n",
              "      <td>11</td>\n",
              "      <td>col. I.1\\n\\n\\n\\n5\\n\\n\\n\\ncol. II.5a\\n6a\\n7a</td>\n",
              "      <td>[στρατη]γό[ς]\\n— — — Βιέ(σιος) — —\\n[κῆ]ρυξ\\n[...</td>\n",
              "      <td>IG-II-.csv</td>\n",
              "      <td>4501</td>\n",
              "      <td>[s. II/III p.]</td>\n",
              "    </tr>\n",
              "    <tr>\n",
              "      <th>103790</th>\n",
              "      <td>/text/242501?location=1498&amp;patt=&amp;bookid=469&amp;of...</td>\n",
              "      <td>IGLSyr 2</td>\n",
              "      <td>427</td>\n",
              "      <td>Regions\\nGreater Syria and the East\\nSyria and...</td>\n",
              "      <td>IGLSyr 2\\n427</td>\n",
              "      <td>Syr., Antioch. — Refādé — 73/4 AD</td>\n",
              "      <td>{}</td>\n",
              "      <td>3</td>\n",
              "      <td>1\\n\\n</td>\n",
              "      <td>ἔτους βκρ Α— —\\n— —δωνις {²⁷Ἀ[φ|λα]δωνις?}²⁷ Β...</td>\n",
              "      <td>IGLSyr-2.csv</td>\n",
              "      <td>242501</td>\n",
              "      <td>73/4 AD</td>\n",
              "    </tr>\n",
              "    <tr>\n",
              "      <th>113220</th>\n",
              "      <td>/text/237501?location=1&amp;patt=&amp;bookid=332&amp;offse...</td>\n",
              "      <td>Polemon</td>\n",
              "      <td>4 (1949-51) 35,37b</td>\n",
              "      <td>Regions</td>\n",
              "      <td>Polemon\\n4 (1949-51) 35,37b</td>\n",
              "      <td>Att. — Athens: Nea Liosia — 1st/2nd c. AD</td>\n",
              "      <td>{}</td>\n",
              "      <td>4</td>\n",
              "      <td>1\\n\\n\\n</td>\n",
              "      <td>Γνάθιον\\nΔορκύλου\\nΠειραιέως\\nθυγάτηρ.</td>\n",
              "      <td>Polemon.csv</td>\n",
              "      <td>237501</td>\n",
              "      <td>1st/2nd c. AD</td>\n",
              "    </tr>\n",
              "    <tr>\n",
              "      <th>118743</th>\n",
              "      <td>/text/234001?location=1365&amp;patt=&amp;bookid=400&amp;of...</td>\n",
              "      <td>Agora XXI</td>\n",
              "      <td>I 18</td>\n",
              "      <td>Regions\\nAttica (IG I-III)\\nAttica</td>\n",
              "      <td>Agora XXI\\nI 18</td>\n",
              "      <td>Att. — Athens: Agora — non-stoich. — fin. s. V...</td>\n",
              "      <td>{}</td>\n",
              "      <td>3</td>\n",
              "      <td>1\\n\\n</td>\n",
              "      <td>ἐπινε(ήσεως) ιʹ\\nχω(ρίου) ἀγορέ(ου)\\nξ(έσται) ιʹ</td>\n",
              "      <td>Agora-XXI.csv</td>\n",
              "      <td>234001</td>\n",
              "      <td>fin. s. V/VI p.</td>\n",
              "    </tr>\n",
              "    <tr>\n",
              "      <th>121772</th>\n",
              "      <td>/text/172501?location=12&amp;patt=&amp;bookid=197&amp;offs...</td>\n",
              "      <td>IGLRom</td>\n",
              "      <td>310</td>\n",
              "      <td>Regions\\nThrace and the Lower Danube (IG X)</td>\n",
              "      <td>IGLRom\\n310</td>\n",
              "      <td>Dacia — Sucidava (Corabia) — 5th/6th c. AD</td>\n",
              "      <td>{}</td>\n",
              "      <td>1</td>\n",
              "      <td>1</td>\n",
              "      <td>[— —]ΑΗ[— —]</td>\n",
              "      <td>IGLRom.csv</td>\n",
              "      <td>172501</td>\n",
              "      <td>5th/6th c. AD</td>\n",
              "    </tr>\n",
              "    <tr>\n",
              "      <th>125947</th>\n",
              "      <td>/text/138001?location=1311&amp;patt=&amp;bookid=14&amp;off...</td>\n",
              "      <td>IG X,2 1</td>\n",
              "      <td>813</td>\n",
              "      <td>Regions\\nNorthern Greece (IG X)\\nMacedonia</td>\n",
              "      <td>IG X,2 1\\n813</td>\n",
              "      <td>Makedonia (Mygdonia) — Thessalonike — 2nd/3rd ...</td>\n",
              "      <td>{}</td>\n",
              "      <td>4</td>\n",
              "      <td>1\\n\\n\\n</td>\n",
              "      <td>Αὐία ∙ Τερτία καὶ Αἴλιος Τε-\\nλεσφόρος Εὐχαρίῳ...</td>\n",
              "      <td>IG-X-2-1.csv</td>\n",
              "      <td>138001</td>\n",
              "      <td>2nd/3rd c. AD</td>\n",
              "    </tr>\n",
              "    <tr>\n",
              "      <th>129476</th>\n",
              "      <td>/text/43501?location=1&amp;patt=&amp;bookid=9&amp;offset=7...</td>\n",
              "      <td>IG IX,1²</td>\n",
              "      <td>3:631</td>\n",
              "      <td>Regions</td>\n",
              "      <td>IG IX,1²\\n3:631</td>\n",
              "      <td>Lokris, W. — Naupaktos — ca. 163/2 BC</td>\n",
              "      <td>{}</td>\n",
              "      <td>14</td>\n",
              "      <td>1\\n\\n\\n\\n5\\n\\n\\n\\n\\n10\\n\\n\\n\\n</td>\n",
              "      <td>στραταγέοντος Τεισίππ-\\nου Τριχονέος, μηνὸς Ἀθ...</td>\n",
              "      <td>IG-IX-1-.csv</td>\n",
              "      <td>43501</td>\n",
              "      <td>ca. 163/2 BC</td>\n",
              "    </tr>\n",
              "    <tr>\n",
              "      <th>141613</th>\n",
              "      <td>/text/82001?location=6&amp;patt=&amp;bookid=25&amp;offset=...</td>\n",
              "      <td>IG XII Suppl.</td>\n",
              "      <td>659</td>\n",
              "      <td>Regions\\nAegean Islands, incl. Crete (IG XI-[X...</td>\n",
              "      <td>IG XII Suppl.\\n659</td>\n",
              "      <td>Euboia — Chalkis — 3rd/2nd c. BC</td>\n",
              "      <td>{}</td>\n",
              "      <td>2</td>\n",
              "      <td>1\\n</td>\n",
              "      <td>Ξεννὼ\\nΞένωνος.</td>\n",
              "      <td>IG-XII-Suppl..csv</td>\n",
              "      <td>82001</td>\n",
              "      <td>3rd/2nd c. BC</td>\n",
              "    </tr>\n",
              "    <tr>\n",
              "      <th>149439</th>\n",
              "      <td>/text/81501?location=1643&amp;patt=&amp;bookid=24&amp;offs...</td>\n",
              "      <td>IG XII,9</td>\n",
              "      <td>914</td>\n",
              "      <td>Regions\\nAegean Islands, incl. Crete (IG XI-[X...</td>\n",
              "      <td>IG XII,9\\n914</td>\n",
              "      <td>Euboia — Chalkis — 1st/2nd c. AD</td>\n",
              "      <td>{}</td>\n",
              "      <td>11</td>\n",
              "      <td>frg. a.1\\n\\n\\n\\n5\\n\\nfrg. b.1\\n\\n\\n\\n5</td>\n",
              "      <td>[— — — — —]ι̣ς\\n[— — — —]λης\\n[— — —]φάνης\\n[Ἀ...</td>\n",
              "      <td>IG-XII-9.csv</td>\n",
              "      <td>81501</td>\n",
              "      <td>1st/2nd c. AD</td>\n",
              "    </tr>\n",
              "    <tr>\n",
              "      <th>156116</th>\n",
              "      <td>/text/138501?location=1311&amp;patt=&amp;bookid=15&amp;off...</td>\n",
              "      <td>IG X,2 2</td>\n",
              "      <td>267</td>\n",
              "      <td>Regions\\nNorthern Greece (IG X)\\nMacedonia</td>\n",
              "      <td>IG X,2 2\\n267</td>\n",
              "      <td>Makedonia (Pelagonia) — Nebregovo — 2nd/3rd c....</td>\n",
              "      <td>{}</td>\n",
              "      <td>1</td>\n",
              "      <td>1</td>\n",
              "      <td>ΩϹ․ΜΗ․․․․․Ϲ[—]Ο․</td>\n",
              "      <td>IG-X-2-2.csv</td>\n",
              "      <td>138501</td>\n",
              "      <td>2nd/3rd c. AD</td>\n",
              "    </tr>\n",
              "    <tr>\n",
              "      <th>156459</th>\n",
              "      <td>/text/238501?location=1316&amp;patt=&amp;bookid=445&amp;of...</td>\n",
              "      <td>CID</td>\n",
              "      <td>3:2</td>\n",
              "      <td>Regions\\nCentral Greece (IG VII-IX)\\nDelphi</td>\n",
              "      <td>CID\\n3:2</td>\n",
              "      <td>Phokis — Delphi — 128/127 BC — FD 3:2.138</td>\n",
              "      <td>{}</td>\n",
              "      <td>41</td>\n",
              "      <td>1\\ncol. I.strophe I.1\\n\\n\\n\\n5\\n\\n\\nstrophe II...</td>\n",
              "      <td>[πα]ι̣ὰν δὲ καὶ π[ροσό]δ̣ιον εἰς τ[ὸν θεὸν ὃ ἐ...</td>\n",
              "      <td>CID.csv</td>\n",
              "      <td>238501</td>\n",
              "      <td>128/127 BC</td>\n",
              "    </tr>\n",
              "    <tr>\n",
              "      <th>159200</th>\n",
              "      <td>/text/167501?location=941&amp;patt=&amp;bookid=195&amp;off...</td>\n",
              "      <td>Perinthos-Herakleia</td>\n",
              "      <td>287</td>\n",
              "      <td>Regions\\nThrace and the Lower Danube (IG X)\\nT...</td>\n",
              "      <td>Perinthos-Herakleia\\n287</td>\n",
              "      <td>Thrace — Perinthos-Herakleia (Marmara Ereğlisi...</td>\n",
              "      <td>{}</td>\n",
              "      <td>4</td>\n",
              "      <td>1\\n\\n\\n</td>\n",
              "      <td>βαίνων ὦ πα[ροδεῖτα — —]\\nἌϊδι κεύθουσαν Π̣[— ...</td>\n",
              "      <td>Perinthos-Herakleia.csv</td>\n",
              "      <td>167501</td>\n",
              "      <td>2nd/3rd c. AD</td>\n",
              "    </tr>\n",
              "    <tr>\n",
              "      <th>160743</th>\n",
              "      <td>/text/201001?location=1362&amp;patt=&amp;bookid=293&amp;of...</td>\n",
              "      <td>IC IV</td>\n",
              "      <td>551</td>\n",
              "      <td>Regions\\nAegean Islands, incl. Crete (IG XI-[X...</td>\n",
              "      <td>IC IV\\n551</td>\n",
              "      <td>Crete, Ctr. — Gortyna — 2nd/1st c. BC</td>\n",
              "      <td>{}</td>\n",
              "      <td>10</td>\n",
              "      <td>\\n1\\n\\n\\n\\n5\\n\\n\\n\\n</td>\n",
              "      <td>[— — — — — — —]\\n[— —]․[— — — —]\\n[— —]ΟΜΝ[— —...</td>\n",
              "      <td>IC-IV.csv</td>\n",
              "      <td>201001</td>\n",
              "      <td>2nd/1st c. BC</td>\n",
              "    </tr>\n",
              "    <tr>\n",
              "      <th>163132</th>\n",
              "      <td>/text/29001?location=233&amp;patt=&amp;bookid=7&amp;offset...</td>\n",
              "      <td>IG IV²,1</td>\n",
              "      <td>561</td>\n",
              "      <td>Regions\\nPeloponnesos (IG IV-[VI])\\nEpidauria ...</td>\n",
              "      <td>IG IV²,1\\n561</td>\n",
              "      <td>Epidauria — Epidauros — 1st/2nd c. AD</td>\n",
              "      <td>{}</td>\n",
              "      <td>3</td>\n",
              "      <td>1\\n\\n</td>\n",
              "      <td>Τελεσφόρωι Σωτῆρι\\nΦάβουλλος ∙ ἐξ ὀνείρατος\\nτ...</td>\n",
              "      <td>IG-IV--1.csv</td>\n",
              "      <td>29001</td>\n",
              "      <td>1st/2nd c. AD</td>\n",
              "    </tr>\n",
              "    <tr>\n",
              "      <th>171514</th>\n",
              "      <td>/text/178501?location=1308&amp;patt=&amp;bookid=219&amp;of...</td>\n",
              "      <td>JIWE 2</td>\n",
              "      <td>290</td>\n",
              "      <td>Regions\\nSicily, Italy, and the West (IG XIV)\\...</td>\n",
              "      <td>JIWE 2\\n290</td>\n",
              "      <td>Italia — Roma: Vigna Randanini — 3rd/4th c. AD...</td>\n",
              "      <td>{}</td>\n",
              "      <td>6</td>\n",
              "      <td>1\\n\\n\\n\\n5\\n</td>\n",
              "      <td>Φλάβιος Ἰουλι-\\nανὸς ὑπηρέτης·\\nΦλαβία Ἰουλιάν...</td>\n",
              "      <td>JIWE-2.csv</td>\n",
              "      <td>178501</td>\n",
              "      <td>3rd/4th c. AD?</td>\n",
              "    </tr>\n",
              "    <tr>\n",
              "      <th>179727</th>\n",
              "      <td>/text/298001?location=1237&amp;patt=&amp;bookid=734&amp;of...</td>\n",
              "      <td>IDR II</td>\n",
              "      <td>400</td>\n",
              "      <td>Regions\\nThrace and the Lower Danube (IG X)\\nD...</td>\n",
              "      <td>IDR II\\n400</td>\n",
              "      <td>Dacia Inf. — Romula-Malva (Reșca) — 2nd/3rd c. AD</td>\n",
              "      <td>{}</td>\n",
              "      <td>1</td>\n",
              "      <td>1</td>\n",
              "      <td>[T]urranis.</td>\n",
              "      <td>IDR-II.csv</td>\n",
              "      <td>298001</td>\n",
              "      <td>2nd/3rd c. AD</td>\n",
              "    </tr>\n",
              "    <tr>\n",
              "      <th>183986</th>\n",
              "      <td>/text/194001?location=21&amp;patt=&amp;bookid=279&amp;offs...</td>\n",
              "      <td>Gonnoi II</td>\n",
              "      <td>213</td>\n",
              "      <td>Regions\\nCentral Greece (IG VII-IX)\\nThessaly ...</td>\n",
              "      <td>Gonnoi II\\n213</td>\n",
              "      <td>Thessalia (Perrhaibia) — Gonnoi — Kondylos (Ze...</td>\n",
              "      <td>Funerary epigram. Upper right corner of a whit...</td>\n",
              "      <td>19</td>\n",
              "      <td>1\\n\\n\\n\\n5\\n\\n\\n\\n\\n10\\n\\n\\n\\n\\n15\\n\\n\\n\\n</td>\n",
              "      <td>[— — — — — —]Λ̣Λ̣ΟΣΗΣΤΑΣ̣Η[․․․․]\\n[— — — — λ]υ...</td>\n",
              "      <td>Gonnoi-II.csv</td>\n",
              "      <td>194001</td>\n",
              "      <td>1st/2nd c. AD</td>\n",
              "    </tr>\n",
              "    <tr>\n",
              "      <th>193690</th>\n",
              "      <td>/text/290001?location=14&amp;patt=&amp;bookid=717&amp;offs...</td>\n",
              "      <td>IMT Siegelinschr</td>\n",
              "      <td>2935</td>\n",
              "      <td>Regions\\nAsia Minor</td>\n",
              "      <td>IMT Siegelinschr\\n2935</td>\n",
              "      <td>Mys.: Kyzikene, Kapu Dağ — Kyzikos — 6.-7.Jh.n...</td>\n",
              "      <td>{}</td>\n",
              "      <td>1</td>\n",
              "      <td>1</td>\n",
              "      <td>ἁγίας ἐκκλησίας Κυζίκου.</td>\n",
              "      <td>IMT-Siegelinschr.csv</td>\n",
              "      <td>290001</td>\n",
              "      <td>Laurent, Corpus V 357bis/1702</td>\n",
              "    </tr>\n",
              "    <tr>\n",
              "      <th>193960</th>\n",
              "      <td>/text/152501?location=1311&amp;patt=&amp;bookid=153&amp;of...</td>\n",
              "      <td>Hatzopoulos, Mac. Inst. II</td>\n",
              "      <td>53</td>\n",
              "      <td>Regions\\nNorthern Greece (IG X)\\nMacedonia</td>\n",
              "      <td>Hatzopoulos, Mac. Inst. II\\n53</td>\n",
              "      <td>Makedonia (Krestonia) — Morrylos (Ano Apostolo...</td>\n",
              "      <td>{}</td>\n",
              "      <td>24</td>\n",
              "      <td>1\\n\\n\\n\\n5\\n\\n\\n\\n\\n10\\n\\n\\n\\n\\n15\\n\\n\\n\\n\\n20...</td>\n",
              "      <td>[Ε]ὔξενος Σάμου, Μένανδρος Ὁλωίχου,\\nΝικάνωρ Π...</td>\n",
              "      <td>Hatzopoulos--Mac.-Inst.-II.csv</td>\n",
              "      <td>152501</td>\n",
              "      <td>shortly after 208/7 BC (or 207/6)</td>\n",
              "    </tr>\n",
              "    <tr>\n",
              "      <th>199352</th>\n",
              "      <td>/text/263501?location=1223&amp;patt=&amp;bookid=534&amp;of...</td>\n",
              "      <td>TAM V,1</td>\n",
              "      <td>106</td>\n",
              "      <td>Regions\\nAsia Minor\\nLydia</td>\n",
              "      <td>TAM V,1\\n106</td>\n",
              "      <td>Lyd., N.E. — Saittai (Sidasharabeleri) — Çaykö...</td>\n",
              "      <td>{}</td>\n",
              "      <td>8</td>\n",
              "      <td>1\\n\\n\\n\\n5\\n\\n\\n</td>\n",
              "      <td>ἔτους σλθʹ, μη(νὸς) Γορπιαί-\\nου γʹ. Γλύκων κα...</td>\n",
              "      <td>TAM-V-1.csv</td>\n",
              "      <td>263501</td>\n",
              "      <td>154/5 AD</td>\n",
              "    </tr>\n",
              "    <tr>\n",
              "      <th>199852</th>\n",
              "      <td>/text/264001?location=1223&amp;patt=&amp;bookid=534&amp;of...</td>\n",
              "      <td>TAM V,1</td>\n",
              "      <td>577</td>\n",
              "      <td>Regions\\nAsia Minor\\nLydia</td>\n",
              "      <td>TAM V,1\\n577</td>\n",
              "      <td>Lyd., N.E. — Maionia (Gökçeören-Menye) — Eseny...</td>\n",
              "      <td>{}</td>\n",
              "      <td>7</td>\n",
              "      <td>\\n1\\n\\n\\n\\n5\\n</td>\n",
              "      <td>[— — —]\\nρείτῃ #⁹⁰¹ ε[․․․․]\\nἩρακλείδης Με-\\nν...</td>\n",
              "      <td>TAM-V-1.csv</td>\n",
              "      <td>264001</td>\n",
              "      <td>66/7 AD</td>\n",
              "    </tr>\n",
              "    <tr>\n",
              "      <th>206309</th>\n",
              "      <td>/text/213501?location=1002&amp;patt=&amp;bookid=321&amp;of...</td>\n",
              "      <td>Rizakis, Achaïe II</td>\n",
              "      <td>80</td>\n",
              "      <td>Regions\\nPeloponnesos (IG IV-[VI])\\nAchaia</td>\n",
              "      <td>Rizakis, Achaïe II\\n80</td>\n",
              "      <td>Achaia — Patrai (Patras) — 1st c. BC/1st c. AD...</td>\n",
              "      <td>{}</td>\n",
              "      <td>4</td>\n",
              "      <td>1\\n\\n\\n</td>\n",
              "      <td>Σάλβιος Παν-\\nκράτους ὁ\\nκαὶ Πομπήιος,\\nχαῖρε.</td>\n",
              "      <td>Rizakis--Acha-e-II.csv</td>\n",
              "      <td>213501</td>\n",
              "      <td>1st c. BC/1st c. AD</td>\n",
              "    </tr>\n",
              "    <tr>\n",
              "      <th>213826</th>\n",
              "      <td>/text/299001?location=1237&amp;patt=&amp;bookid=736&amp;of...</td>\n",
              "      <td>IDR III,2</td>\n",
              "      <td>310</td>\n",
              "      <td>Regions\\nThrace and the Lower Danube (IG X)\\nD...</td>\n",
              "      <td>IDR III,2\\n310</td>\n",
              "      <td>Dacia Sup. — Ulpia Traiana-Sarmizegetusa — 2nd...</td>\n",
              "      <td>{}</td>\n",
              "      <td>3</td>\n",
              "      <td>1\\n\\n</td>\n",
              "      <td>[— Au]rel(ius) S[— — — pro sal(ute) sua]\\n[et(...</td>\n",
              "      <td>IDR-III-2.csv</td>\n",
              "      <td>299001</td>\n",
              "      <td>2nd/3rd c. AD</td>\n",
              "    </tr>\n",
              "  </tbody>\n",
              "</table>\n",
              "</div>"
            ],
            "text/plain": [
              "                                                      URL  ...                             raw_date\n",
              "1260    /text/231001?location=1365&patt=&bookid=394&of...  ...                               220/19\n",
              "7001    /text/298501?location=1237&patt=&bookid=735&of...  ...                        2nd/3rd c. AD\n",
              "15498   /text/243501?location=1498&patt=&bookid=474&of...  ...                              12/1 BC\n",
              "16567   /text/299501?location=1237&patt=&bookid=737&of...  ...                       2nd/3rd c. AD \n",
              "24698   /text/64501?location=915&patt=&bookid=1&offset...  ...                             116/5 BC\n",
              "35543   /text/217001?location=1497&patt=&bookid=362&of...  ...                       3rd/2nd c. BC?\n",
              "38001   /text/228501?location=1497&patt=&bookid=389&of...  ...                        6th/5th c. BC\n",
              "38501   /text/229001?location=1497&patt=&bookid=389&of...  ...                        6th/5th c. BC\n",
              "58576   /text/291501?location=1&patt=&bookid=172&offse...  ...                  229/30 or 230/1 AD \n",
              "60698   /text/152001?location=1&patt=&bookid=172&offse...  ...                       2nd/3rd c. AD \n",
              "62919   /text/226501?location=1&patt=&bookid=172&offse...  ...                       3rd/4th c. AD \n",
              "88162   /text/2501?location=1365&patt=&bookid=5&offset...  ...                           ante 336/5\n",
              "88662   /text/3001?location=1365&patt=&bookid=5&offset...  ...                               204/3?\n",
              "90162   /text/4501?location=1365&patt=&bookid=5&offset...  ...                       [s. II/III p.]\n",
              "103790  /text/242501?location=1498&patt=&bookid=469&of...  ...                              73/4 AD\n",
              "113220  /text/237501?location=1&patt=&bookid=332&offse...  ...                        1st/2nd c. AD\n",
              "118743  /text/234001?location=1365&patt=&bookid=400&of...  ...                      fin. s. V/VI p.\n",
              "121772  /text/172501?location=12&patt=&bookid=197&offs...  ...                        5th/6th c. AD\n",
              "125947  /text/138001?location=1311&patt=&bookid=14&off...  ...                        2nd/3rd c. AD\n",
              "129476  /text/43501?location=1&patt=&bookid=9&offset=7...  ...                         ca. 163/2 BC\n",
              "141613  /text/82001?location=6&patt=&bookid=25&offset=...  ...                        3rd/2nd c. BC\n",
              "149439  /text/81501?location=1643&patt=&bookid=24&offs...  ...                        1st/2nd c. AD\n",
              "156116  /text/138501?location=1311&patt=&bookid=15&off...  ...                       2nd/3rd c. AD \n",
              "156459  /text/238501?location=1316&patt=&bookid=445&of...  ...                          128/127 BC \n",
              "159200  /text/167501?location=941&patt=&bookid=195&off...  ...                       2nd/3rd c. AD \n",
              "160743  /text/201001?location=1362&patt=&bookid=293&of...  ...                        2nd/1st c. BC\n",
              "163132  /text/29001?location=233&patt=&bookid=7&offset...  ...                        1st/2nd c. AD\n",
              "171514  /text/178501?location=1308&patt=&bookid=219&of...  ...                      3rd/4th c. AD? \n",
              "179727  /text/298001?location=1237&patt=&bookid=734&of...  ...                        2nd/3rd c. AD\n",
              "183986  /text/194001?location=21&patt=&bookid=279&offs...  ...                        1st/2nd c. AD\n",
              "193690  /text/290001?location=14&patt=&bookid=717&offs...  ...        Laurent, Corpus V 357bis/1702\n",
              "193960  /text/152501?location=1311&patt=&bookid=153&of...  ...   shortly after 208/7 BC (or 207/6) \n",
              "199352  /text/263501?location=1223&patt=&bookid=534&of...  ...                             154/5 AD\n",
              "199852  /text/264001?location=1223&patt=&bookid=534&of...  ...                              66/7 AD\n",
              "206309  /text/213501?location=1002&patt=&bookid=321&of...  ...                 1st c. BC/1st c. AD \n",
              "213826  /text/299001?location=1237&patt=&bookid=736&of...  ...                        2nd/3rd c. AD\n",
              "\n",
              "[36 rows x 13 columns]"
            ]
          },
          "metadata": {
            "tags": []
          },
          "execution_count": 35
        }
      ]
    },
    {
      "cell_type": "code",
      "metadata": {
        "id": "HVqC9c7F1-gC",
        "colab_type": "code",
        "colab": {}
      },
      "source": [
        "re.match(\"\")"
      ],
      "execution_count": null,
      "outputs": []
    },
    {
      "cell_type": "code",
      "metadata": {
        "id": "WuZGaA34GdBy",
        "colab_type": "code",
        "colab": {}
      },
      "source": [
        "set_with_dataframe(PHI_overview.add_worksheet(\"PHI_by_500_dates_v1\", 1, 1), PHI_by_500)"
      ],
      "execution_count": null,
      "outputs": []
    },
    {
      "cell_type": "code",
      "metadata": {
        "id": "Zys-5WOT7qeQ",
        "colab_type": "code",
        "colab": {}
      },
      "source": [
        ""
      ],
      "execution_count": null,
      "outputs": []
    }
  ]
}