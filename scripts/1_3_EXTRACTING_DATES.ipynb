{
  "nbformat": 4,
  "nbformat_minor": 0,
  "metadata": {
    "colab": {
      "name": "1_3_EXTRACTING_DATES.ipynb",
      "provenance": [],
      "collapsed_sections": [
        "sMVLLV3VZ8AQ",
        "QpEfYagozs_0",
        "2bV1j_tDHhsy"
      ],
      "include_colab_link": true
    },
    "kernelspec": {
      "display_name": "Python 3",
      "language": "python",
      "name": "python3"
    },
    "language_info": {
      "codemirror_mode": {
        "name": "ipython",
        "version": 3
      },
      "file_extension": ".py",
      "mimetype": "text/x-python",
      "name": "python",
      "nbconvert_exporter": "python",
      "pygments_lexer": "ipython3",
      "version": "3.6.6+"
    }
  },
  "cells": [
    {
      "cell_type": "markdown",
      "metadata": {
        "id": "view-in-github",
        "colab_type": "text"
      },
      "source": [
        "<a href=\"https://colab.research.google.com/github/sdam-au/PHI_ETL/blob/master/scripts/1_3_EXTRACTING_DATES.ipynb\" target=\"_parent\"><img src=\"https://colab.research.google.com/assets/colab-badge.svg\" alt=\"Open In Colab\"/></a>"
      ]
    },
    {
      "cell_type": "markdown",
      "metadata": {
        "colab_type": "text",
        "id": "vhWC0rHNkwrI"
      },
      "source": [
        "# Introduction\n",
        "\n",
        "* **Description**\n",
        "\n",
        "This script contains a series of functions for extracting numerical dates (e.g. an interval 101-200) from a historical dataset experessing this information in a textual form (e.g. \"2nd c. AD\"). The functions have been developed especially for extracting dates from the PHI dataset, but might be reused for other applications.\n",
        "\n",
        "In the core of the script is the function `date_extractor()`. This function takes as an input a textual date (e.g. \"s. III/II p.\" [= \"3rd or 2nd c. BC\"]) and returns a dictionary of dating values, e.g:\n",
        "```python\n",
        "{\"not_before\" : -300, \"not_after\" : -101, \"date_tags\": [\"range\", \"cent\", \"morece\"]}\n",
        "```\n",
        "where `\"date_tags\"` contains tags specifying what kind of dating it is: `range` means that it is an interval; `cent` means that the interval is based on information about centuries; and `morece` implies that there is more than one century.\n",
        "\n",
        "`date_extractor()` relies upon a number of other functions designed to extract individual types of dates:\n",
        "* `extract_ante_and_post(datation, dating)` looks for words like \"post\" and \"ante\", \"not before\" etc. and modifies the numerical dating (in `dating` dictionary) accordingly. E.g. \"ante 305BC\" means all years before the stop year `-305`; \"not before the reign of Trajan\" means all years after `97`\n",
        "*  `extract_period(datation)` checks whether the textual datation contains a period (like \"reign of Tiberius\") which could be translated into an interval (14-37).\n",
        "* `parse_centuries()` extract intervals for individual centuries. It deals with cases in which more centuries are present (e.g. \"s. III/II a.\") and even where one is BC and another AD (e.g. \"1st c. BC-1st c. AD\")\n",
        "* `modify_by_phase(datation, dating)` modify the ranges in `dating` by evaluating presence of words like \"beginning\", \"early\", \"late\" and \"end\". We use these parameters:\n",
        "  * \"beginning\": first 10% of the range (defined by \"start\" and \"stop\" in the `dating` dictionary)\n",
        "  * \"early\": first 25% of the range\n",
        "  * \"late\": last 25% of the range\n",
        "  * \"end\": last 10% of the range\n",
        "  * \"ca.\": extends the range by adding 10% on the left and 10% on the right\n",
        "\n",
        "\n",
        "* **data input**\n",
        "  * `PHI_merged_[timestamp].json`\n",
        "  * `PHI_overview` gsheet\n",
        "* **data output**\n",
        "  * `PHI_dated_[timestamp].json`\n",
        "  * `PHI_overview` gsheet\n",
        "\n",
        "* **author**: Vojtěch Kaše\n",
        "* **last complete run**: 2020-06-29\n"
      ]
    },
    {
      "cell_type": "markdown",
      "metadata": {
        "colab_type": "text",
        "id": "yhyBq3wOfMFv"
      },
      "source": [
        "# Requirements"
      ]
    },
    {
      "cell_type": "code",
      "metadata": {
        "colab_type": "code",
        "id": "JcNeUMCflzF8",
        "colab": {}
      },
      "source": [
        "import numpy as np  # as usual\n",
        "import math\n",
        "import pandas as pd\n",
        "import re\n",
        "\n",
        "import sys\n",
        "import requests\n",
        "from bs4 import BeautifulSoup\n",
        "import json\n",
        "\n",
        "import datetime as dt\n",
        "# for simple paralel computing:\n",
        "from concurrent.futures import ThreadPoolExecutor\n",
        "\n",
        "import gspread\n",
        "from gspread_dataframe import get_as_dataframe, set_with_dataframe\n",
        "from google.colab import auth\n",
        "from oauth2client.client import GoogleCredentials"
      ],
      "execution_count": 301,
      "outputs": []
    },
    {
      "cell_type": "code",
      "metadata": {
        "colab_type": "code",
        "id": "YnxNQl_rN1WU",
        "colab": {
          "base_uri": "https://localhost:8080/",
          "height": 309
        },
        "outputId": "fbf0e8cd-ab56-4562-f5a9-d5fbdbd0e7ae"
      },
      "source": [
        "# our own package for reading the data\n",
        "!pip install sddk\n",
        "import sddk"
      ],
      "execution_count": 302,
      "outputs": [
        {
          "output_type": "stream",
          "text": [
            "Requirement already satisfied: sddk in /usr/local/lib/python3.6/dist-packages (2.6)\n",
            "Requirement already satisfied: matplotlib in /usr/local/lib/python3.6/dist-packages (from sddk) (3.2.2)\n",
            "Requirement already satisfied: numpy in /usr/local/lib/python3.6/dist-packages (from sddk) (1.18.5)\n",
            "Requirement already satisfied: pandas in /usr/local/lib/python3.6/dist-packages (from sddk) (1.0.5)\n",
            "Requirement already satisfied: requests in /usr/local/lib/python3.6/dist-packages (from sddk) (2.23.0)\n",
            "Requirement already satisfied: pyarrow in /usr/local/lib/python3.6/dist-packages (from sddk) (0.14.1)\n",
            "Requirement already satisfied: cycler>=0.10 in /usr/local/lib/python3.6/dist-packages (from matplotlib->sddk) (0.10.0)\n",
            "Requirement already satisfied: python-dateutil>=2.1 in /usr/local/lib/python3.6/dist-packages (from matplotlib->sddk) (2.8.1)\n",
            "Requirement already satisfied: pyparsing!=2.0.4,!=2.1.2,!=2.1.6,>=2.0.1 in /usr/local/lib/python3.6/dist-packages (from matplotlib->sddk) (2.4.7)\n",
            "Requirement already satisfied: kiwisolver>=1.0.1 in /usr/local/lib/python3.6/dist-packages (from matplotlib->sddk) (1.2.0)\n",
            "Requirement already satisfied: pytz>=2017.2 in /usr/local/lib/python3.6/dist-packages (from pandas->sddk) (2018.9)\n",
            "Requirement already satisfied: urllib3!=1.25.0,!=1.25.1,<1.26,>=1.21.1 in /usr/local/lib/python3.6/dist-packages (from requests->sddk) (1.24.3)\n",
            "Requirement already satisfied: idna<3,>=2.5 in /usr/local/lib/python3.6/dist-packages (from requests->sddk) (2.9)\n",
            "Requirement already satisfied: chardet<4,>=3.0.2 in /usr/local/lib/python3.6/dist-packages (from requests->sddk) (3.0.4)\n",
            "Requirement already satisfied: certifi>=2017.4.17 in /usr/local/lib/python3.6/dist-packages (from requests->sddk) (2020.6.20)\n",
            "Requirement already satisfied: six>=1.0.0 in /usr/local/lib/python3.6/dist-packages (from pyarrow->sddk) (1.12.0)\n"
          ],
          "name": "stdout"
        }
      ]
    },
    {
      "cell_type": "markdown",
      "metadata": {
        "colab_type": "text",
        "id": "H_CYM7yh9UTw"
      },
      "source": [
        "# authentication"
      ]
    },
    {
      "cell_type": "code",
      "metadata": {
        "colab_type": "code",
        "id": "MhnThoX5kUKs",
        "colab": {
          "base_uri": "https://localhost:8080/",
          "height": 85
        },
        "outputId": "9e9e6f93-24ac-4cdb-cafd-8cd22602de37"
      },
      "source": [
        "# login to sciencedata \n",
        "conf = sddk.configure(\"SDAM_root\", \"648597@au.dk\")"
      ],
      "execution_count": 303,
      "outputs": [
        {
          "output_type": "stream",
          "text": [
            "sciencedata.dk username (format '123456@au.dk'): 648597@au.dk\n",
            "sciencedata.dk password: ··········\n",
            "connection with shared folder established with you as its owner\n",
            "endpoint variable has been configured to: https://sciencedata.dk/files/SDAM_root/\n"
          ],
          "name": "stdout"
        }
      ]
    },
    {
      "cell_type": "code",
      "metadata": {
        "colab_type": "code",
        "id": "06TCxflGbtLj",
        "colab": {}
      },
      "source": [
        "### authorize google sheets\n",
        "auth.authenticate_user()\n",
        "gc = gspread.authorize(GoogleCredentials.get_application_default())\n",
        "# establish connection with particular sheet by its url:\n",
        "PHI_overview = gc.open_by_url(\"https://docs.google.com/spreadsheets/d/1zfTw0Hf304maBmrYvaMxRLnv1zfAVFixrtGTTsLCcT4/edit?usp=sharing\")"
      ],
      "execution_count": 320,
      "outputs": []
    },
    {
      "cell_type": "markdown",
      "metadata": {
        "colab_type": "text",
        "id": "hSbHsFtn3_IA"
      },
      "source": [
        "# Read data"
      ]
    },
    {
      "cell_type": "code",
      "metadata": {
        "colab_type": "code",
        "id": "dV9g_k8d_kZU",
        "colab": {
          "base_uri": "https://localhost:8080/",
          "height": 411
        },
        "outputId": "b1faba39-c4f0-4826-cc2a-26da50ab8f71"
      },
      "source": [
        "# read the PHI dataset from sciencedata.dk\n",
        "PHI = sddk.read_file(\"SDAM_data/PHI/PHI_cleaned_2020-06-29.json\", \"df\", conf)\n",
        "# older version used during development: PHI = sddk.read_file(\"SDAM_data/PHI/PHI_enriched_raw.json\", \"df\", conf)\n",
        "# print first 5 rows of the data\n",
        "PHI.head(5)"
      ],
      "execution_count": 304,
      "outputs": [
        {
          "output_type": "execute_result",
          "data": {
            "text/html": [
              "<div>\n",
              "<style scoped>\n",
              "    .dataframe tbody tr th:only-of-type {\n",
              "        vertical-align: middle;\n",
              "    }\n",
              "\n",
              "    .dataframe tbody tr th {\n",
              "        vertical-align: top;\n",
              "    }\n",
              "\n",
              "    .dataframe thead th {\n",
              "        text-align: right;\n",
              "    }\n",
              "</style>\n",
              "<table border=\"1\" class=\"dataframe\">\n",
              "  <thead>\n",
              "    <tr style=\"text-align: right;\">\n",
              "      <th></th>\n",
              "      <th>URL</th>\n",
              "      <th>Book</th>\n",
              "      <th>Text</th>\n",
              "      <th>hdr1</th>\n",
              "      <th>hdr2</th>\n",
              "      <th>tildeinfo</th>\n",
              "      <th>note</th>\n",
              "      <th>lines</th>\n",
              "      <th>metadata</th>\n",
              "      <th>data</th>\n",
              "      <th>filename</th>\n",
              "      <th>PHI_ID</th>\n",
              "      <th>hdr1_scrape</th>\n",
              "      <th>hdr2_scrape</th>\n",
              "      <th>clean_text_conservative</th>\n",
              "      <th>clean_text_interpretive_word</th>\n",
              "      <th>clean_text_interpretive_sentence</th>\n",
              "    </tr>\n",
              "  </thead>\n",
              "  <tbody>\n",
              "    <tr>\n",
              "      <th>0</th>\n",
              "      <td>[https://epigraphy.packhum.org/text/1]</td>\n",
              "      <td>[IG I³]</td>\n",
              "      <td>[1]</td>\n",
              "      <td>Regions\\n\\nAttica (IG I-III)Attica</td>\n",
              "      <td>{}</td>\n",
              "      <td>[Att. — Ath.: Akr. — stoich. 35 — c. 510-500 a...</td>\n",
              "      <td>{}</td>\n",
              "      <td>[12]</td>\n",
              "      <td>[\\n1\\n\\n\\n\\n\\n5\\n\\n\\n\\n\\n\\n10\\n\\n\\n]</td>\n",
              "      <td>[ἔδοχσεν το͂ι δέμοι· τ̣[ὸς ἐ Σ]αλαμ̣[ῖνι κλερό...</td>\n",
              "      <td>[IG-I-3.csv]</td>\n",
              "      <td>[1]</td>\n",
              "      <td>[Regions\\nAttica (IG I-III)Attica]</td>\n",
              "      <td>[IG I³\\n1]</td>\n",
              "      <td>ἔδοχσεν το͂ι δέμοι ταλαμος οἰκε͂ν ἐᾶ Σαλαμῖνι ...</td>\n",
              "      <td>ἔδοχσεν το͂ι δέμοι τὸς ἐ Σαλαμῖνι κλερόχος οἰκ...</td>\n",
              "      <td>ἔδοχσεν το͂ι δέμοι τὸς ἐ Σαλαμῖνι κλερόχος οἰκ...</td>\n",
              "    </tr>\n",
              "    <tr>\n",
              "      <th>1</th>\n",
              "      <td>[https://epigraphy.packhum.org/text/2]</td>\n",
              "      <td>[IG I³]</td>\n",
              "      <td>[2]</td>\n",
              "      <td>Regions\\n\\nAttica (IG I-III)Attica</td>\n",
              "      <td>{}</td>\n",
              "      <td>[Att. — non-stoich. — c. 500 a.]</td>\n",
              "      <td>{}</td>\n",
              "      <td>[14]</td>\n",
              "      <td>[\\n1\\n\\n\\n\\n\\n5\\n\\n\\n\\n\\n\\n10\\n\\n\\n\\n\\n]</td>\n",
              "      <td>[[․․8-9․․․]ν̣ βολ — — — — — — — — — —\\n[․6-7․․...</td>\n",
              "      <td>[IG-I-3.csv]</td>\n",
              "      <td>[2]</td>\n",
              "      <td>[Regions\\nAttica (IG I-III)Attica]</td>\n",
              "      <td>[IG I³\\n2]</td>\n",
              "      <td>ν βολ α ℎεκον σιον γνοσθε͂ι δὲ ν ἀτεχνος μὲ π ...</td>\n",
              "      <td>ν βολ α ℎεκον σιον γνοσθε͂ι δὲ ν ἀτεχνος μὲ π ...</td>\n",
              "      <td>․․ ․․․ν βολ ․ ․․ α ⋮ ℎεκον σιον, γνοσθε͂ι δὲ ν...</td>\n",
              "    </tr>\n",
              "    <tr>\n",
              "      <th>2</th>\n",
              "      <td>[https://epigraphy.packhum.org/text/3]</td>\n",
              "      <td>[IG I³]</td>\n",
              "      <td>[3]</td>\n",
              "      <td>Regions\\n\\nAttica (IG I-III)Attica</td>\n",
              "      <td>{}</td>\n",
              "      <td>[Att. — stoich. 21 — 490-480 a.]</td>\n",
              "      <td>{}</td>\n",
              "      <td>[13]</td>\n",
              "      <td>[\\n1\\n\\n\\n\\n\\n5\\n\\n\\n\\n\\n\\n10\\n\\n\\n\\n]</td>\n",
              "      <td>[[․]αρ[․․․․]ι ℎερακλειο[․․5․․]\\n[․]αρ̣ο#⁷[․] τ...</td>\n",
              "      <td>[IG-I-3.csv]</td>\n",
              "      <td>[3]</td>\n",
              "      <td>[Regions\\nAttica (IG I-III)Attica]</td>\n",
              "      <td>[IG I³\\n3]</td>\n",
              "      <td>αρι ℎερακλειο αρο τιθέναι τὸς ἀέτας τριάκοντα ...</td>\n",
              "      <td>αρι ℎερακλειο αρο τιθέναι τὸς ἀθλοθέτας τριάκο...</td>\n",
              "      <td>αρι ℎερακλειο․․․․ αρο τιθέναι τὸς ἀθλοθέτας τρ...</td>\n",
              "    </tr>\n",
              "    <tr>\n",
              "      <th>3</th>\n",
              "      <td>[https://epigraphy.packhum.org/text/4]</td>\n",
              "      <td>[IG I³]</td>\n",
              "      <td>[4]</td>\n",
              "      <td>Regions\\n\\nAttica (IG I-III)Attica</td>\n",
              "      <td>{}</td>\n",
              "      <td>[Att. — stoich. 38 — 485/4 a.]</td>\n",
              "      <td>{}</td>\n",
              "      <td>[58]</td>\n",
              "      <td>[\\nface A.1\\n\\n\\n\\n\\n5\\n\\n\\n\\n\\n\\n10\\n\\n\\n\\n\\n...</td>\n",
              "      <td>[[․․․․․․․․․․․․․․․․․․38․․․․․․․․․․․․․․․․․․]\\n[․․...</td>\n",
              "      <td>[IG-I-3.csv]</td>\n",
              "      <td>[4]</td>\n",
              "      <td>[Regions\\nAttica (IG I-III)Attica]</td>\n",
              "      <td>[IG I³\\n4]</td>\n",
              "      <td>δέ τις αν ἒ φρορὰν μ ντέκοντα δχμὰς τ ας ℎες π...</td>\n",
              "      <td>ἐὰν δέ τις αν ἒ φρορὰν μὲ πεντέκοντα δραχμὰς τ...</td>\n",
              "      <td>․․․․․․․․․․․․․․․․․․․․․․․․․․․․․․․․․․․․ ․․․․․․․․․...</td>\n",
              "    </tr>\n",
              "    <tr>\n",
              "      <th>4</th>\n",
              "      <td>[https://epigraphy.packhum.org/text/5]</td>\n",
              "      <td>[IG I³]</td>\n",
              "      <td>[5]</td>\n",
              "      <td>Regions\\n\\nAttica (IG I-III)Attica</td>\n",
              "      <td>{}</td>\n",
              "      <td>[Att. — c. 500 a.\\n\\nSee also:\\nI.Eleusis 13]</td>\n",
              "      <td>{}</td>\n",
              "      <td>[6]</td>\n",
              "      <td>[\\n1\\n\\n\\n\\n \\n5\\n\\n]</td>\n",
              "      <td>[[ἔδοχσε]ν [⋮ τε͂ι βολε͂ι] ⋮ καὶ [τ]ο͂ι δέμοι ...</td>\n",
              "      <td>[IG-I-3.csv]</td>\n",
              "      <td>[5]</td>\n",
              "      <td>[Regions\\nAttica (IG I-III)Attica]</td>\n",
              "      <td>[IG I³\\n5]</td>\n",
              "      <td>ν καὶ ο͂ι δέμοι ℎότε Παραιβάτες λεια θν τὸς ℎι...</td>\n",
              "      <td>ἔδοχσεν τε͂ι βολε͂ι καὶ το͂ι δέμοι ℎότε Παραιβ...</td>\n",
              "      <td>ἔδοχσεν ⋮ τε͂ι βολε͂ι ⋮ καὶ το͂ι δέμοι ⋮ ℎότε ...</td>\n",
              "    </tr>\n",
              "  </tbody>\n",
              "</table>\n",
              "</div>"
            ],
            "text/plain": [
              "                                      URL  ...                   clean_text_interpretive_sentence\n",
              "0  [https://epigraphy.packhum.org/text/1]  ...  ἔδοχσεν το͂ι δέμοι τὸς ἐ Σαλαμῖνι κλερόχος οἰκ...\n",
              "1  [https://epigraphy.packhum.org/text/2]  ...  ․․ ․․․ν βολ ․ ․․ α ⋮ ℎεκον σιον, γνοσθε͂ι δὲ ν...\n",
              "2  [https://epigraphy.packhum.org/text/3]  ...  αρι ℎερακλειο․․․․ αρο τιθέναι τὸς ἀθλοθέτας τρ...\n",
              "3  [https://epigraphy.packhum.org/text/4]  ...  ․․․․․․․․․․․․․․․․․․․․․․․․․․․․․․․․․․․․ ․․․․․․․․․...\n",
              "4  [https://epigraphy.packhum.org/text/5]  ...  ἔδοχσεν ⋮ τε͂ι βολε͂ι ⋮ καὶ το͂ι δέμοι ⋮ ℎότε ...\n",
              "\n",
              "[5 rows x 17 columns]"
            ]
          },
          "metadata": {
            "tags": []
          },
          "execution_count": 304
        }
      ]
    },
    {
      "cell_type": "code",
      "metadata": {
        "colab_type": "code",
        "id": "YUWPxXY808-R",
        "colab": {}
      },
      "source": [
        "# unfortunately, moving the dataset between Python and R causes that cells in most columns of the dataframe contain a LIST OF VALUES (of length 1) and not the VALUE itself.\n",
        "# if this is the case, uncomment the last two rows to do one simple transformation\n",
        "\n",
        "def lists_to_values(list_or_value):\n",
        "  if isinstance(list_or_value, list):\n",
        "    value = list_or_value[0]\n",
        "  else: \n",
        "    value = list_or_value\n",
        "  if not bool(value): # if is it empty dict or list\n",
        "    value = np.nan\n",
        "  return value\n",
        "for column in PHI.columns:\n",
        "  PHI[column] = PHI.apply(lambda row: lists_to_values(row[column]), axis=1)"
      ],
      "execution_count": 305,
      "outputs": []
    },
    {
      "cell_type": "code",
      "metadata": {
        "colab_type": "code",
        "id": "RrtwIevF0xMq",
        "colab": {
          "base_uri": "https://localhost:8080/",
          "height": 411
        },
        "outputId": "bd4c3a48-c5d8-4440-a417-e6ef1cc051be"
      },
      "source": [
        "PHI.head(5)"
      ],
      "execution_count": 306,
      "outputs": [
        {
          "output_type": "execute_result",
          "data": {
            "text/html": [
              "<div>\n",
              "<style scoped>\n",
              "    .dataframe tbody tr th:only-of-type {\n",
              "        vertical-align: middle;\n",
              "    }\n",
              "\n",
              "    .dataframe tbody tr th {\n",
              "        vertical-align: top;\n",
              "    }\n",
              "\n",
              "    .dataframe thead th {\n",
              "        text-align: right;\n",
              "    }\n",
              "</style>\n",
              "<table border=\"1\" class=\"dataframe\">\n",
              "  <thead>\n",
              "    <tr style=\"text-align: right;\">\n",
              "      <th></th>\n",
              "      <th>URL</th>\n",
              "      <th>Book</th>\n",
              "      <th>Text</th>\n",
              "      <th>hdr1</th>\n",
              "      <th>hdr2</th>\n",
              "      <th>tildeinfo</th>\n",
              "      <th>note</th>\n",
              "      <th>lines</th>\n",
              "      <th>metadata</th>\n",
              "      <th>data</th>\n",
              "      <th>filename</th>\n",
              "      <th>PHI_ID</th>\n",
              "      <th>hdr1_scrape</th>\n",
              "      <th>hdr2_scrape</th>\n",
              "      <th>clean_text_conservative</th>\n",
              "      <th>clean_text_interpretive_word</th>\n",
              "      <th>clean_text_interpretive_sentence</th>\n",
              "    </tr>\n",
              "  </thead>\n",
              "  <tbody>\n",
              "    <tr>\n",
              "      <th>0</th>\n",
              "      <td>https://epigraphy.packhum.org/text/1</td>\n",
              "      <td>IG I³</td>\n",
              "      <td>1</td>\n",
              "      <td>Regions\\n\\nAttica (IG I-III)Attica</td>\n",
              "      <td>NaN</td>\n",
              "      <td>Att. — Ath.: Akr. — stoich. 35 — c. 510-500 a....</td>\n",
              "      <td>NaN</td>\n",
              "      <td>12.0</td>\n",
              "      <td>\\n1\\n\\n\\n\\n\\n5\\n\\n\\n\\n\\n\\n10\\n\\n\\n</td>\n",
              "      <td>ἔδοχσεν το͂ι δέμοι· τ̣[ὸς ἐ Σ]αλαμ̣[ῖνι κλερόχ...</td>\n",
              "      <td>IG-I-3.csv</td>\n",
              "      <td>1</td>\n",
              "      <td>Regions\\nAttica (IG I-III)Attica</td>\n",
              "      <td>IG I³\\n1</td>\n",
              "      <td>ἔδοχσεν το͂ι δέμοι ταλαμος οἰκε͂ν ἐᾶ Σαλαμῖνι ...</td>\n",
              "      <td>ἔδοχσεν το͂ι δέμοι τὸς ἐ Σαλαμῖνι κλερόχος οἰκ...</td>\n",
              "      <td>ἔδοχσεν το͂ι δέμοι τὸς ἐ Σαλαμῖνι κλερόχος οἰκ...</td>\n",
              "    </tr>\n",
              "    <tr>\n",
              "      <th>1</th>\n",
              "      <td>https://epigraphy.packhum.org/text/2</td>\n",
              "      <td>IG I³</td>\n",
              "      <td>2</td>\n",
              "      <td>Regions\\n\\nAttica (IG I-III)Attica</td>\n",
              "      <td>NaN</td>\n",
              "      <td>Att. — non-stoich. — c. 500 a.</td>\n",
              "      <td>NaN</td>\n",
              "      <td>14.0</td>\n",
              "      <td>\\n1\\n\\n\\n\\n\\n5\\n\\n\\n\\n\\n\\n10\\n\\n\\n\\n\\n</td>\n",
              "      <td>[․․8-9․․․]ν̣ βολ — — — — — — — — — —\\n[․6-7․․]...</td>\n",
              "      <td>IG-I-3.csv</td>\n",
              "      <td>2</td>\n",
              "      <td>Regions\\nAttica (IG I-III)Attica</td>\n",
              "      <td>IG I³\\n2</td>\n",
              "      <td>ν βολ α ℎεκον σιον γνοσθε͂ι δὲ ν ἀτεχνος μὲ π ...</td>\n",
              "      <td>ν βολ α ℎεκον σιον γνοσθε͂ι δὲ ν ἀτεχνος μὲ π ...</td>\n",
              "      <td>․․ ․․․ν βολ ․ ․․ α ⋮ ℎεκον σιον, γνοσθε͂ι δὲ ν...</td>\n",
              "    </tr>\n",
              "    <tr>\n",
              "      <th>2</th>\n",
              "      <td>https://epigraphy.packhum.org/text/3</td>\n",
              "      <td>IG I³</td>\n",
              "      <td>3</td>\n",
              "      <td>Regions\\n\\nAttica (IG I-III)Attica</td>\n",
              "      <td>NaN</td>\n",
              "      <td>Att. — stoich. 21 — 490-480 a.</td>\n",
              "      <td>NaN</td>\n",
              "      <td>13.0</td>\n",
              "      <td>\\n1\\n\\n\\n\\n\\n5\\n\\n\\n\\n\\n\\n10\\n\\n\\n\\n</td>\n",
              "      <td>[․]αρ[․․․․]ι ℎερακλειο[․․5․․]\\n[․]αρ̣ο#⁷[․] τι...</td>\n",
              "      <td>IG-I-3.csv</td>\n",
              "      <td>3</td>\n",
              "      <td>Regions\\nAttica (IG I-III)Attica</td>\n",
              "      <td>IG I³\\n3</td>\n",
              "      <td>αρι ℎερακλειο αρο τιθέναι τὸς ἀέτας τριάκοντα ...</td>\n",
              "      <td>αρι ℎερακλειο αρο τιθέναι τὸς ἀθλοθέτας τριάκο...</td>\n",
              "      <td>αρι ℎερακλειο․․․․ αρο τιθέναι τὸς ἀθλοθέτας τρ...</td>\n",
              "    </tr>\n",
              "    <tr>\n",
              "      <th>3</th>\n",
              "      <td>https://epigraphy.packhum.org/text/4</td>\n",
              "      <td>IG I³</td>\n",
              "      <td>4</td>\n",
              "      <td>Regions\\n\\nAttica (IG I-III)Attica</td>\n",
              "      <td>NaN</td>\n",
              "      <td>Att. — stoich. 38 — 485/4 a.</td>\n",
              "      <td>NaN</td>\n",
              "      <td>58.0</td>\n",
              "      <td>\\nface A.1\\n\\n\\n\\n\\n5\\n\\n\\n\\n\\n\\n10\\n\\n\\n\\n\\n\\...</td>\n",
              "      <td>[․․․․․․․․․․․․․․․․․․38․․․․․․․․․․․․․․․․․․]\\n[․․․...</td>\n",
              "      <td>IG-I-3.csv</td>\n",
              "      <td>4</td>\n",
              "      <td>Regions\\nAttica (IG I-III)Attica</td>\n",
              "      <td>IG I³\\n4</td>\n",
              "      <td>δέ τις αν ἒ φρορὰν μ ντέκοντα δχμὰς τ ας ℎες π...</td>\n",
              "      <td>ἐὰν δέ τις αν ἒ φρορὰν μὲ πεντέκοντα δραχμὰς τ...</td>\n",
              "      <td>․․․․․․․․․․․․․․․․․․․․․․․․․․․․․․․․․․․․ ․․․․․․․․․...</td>\n",
              "    </tr>\n",
              "    <tr>\n",
              "      <th>4</th>\n",
              "      <td>https://epigraphy.packhum.org/text/5</td>\n",
              "      <td>IG I³</td>\n",
              "      <td>5</td>\n",
              "      <td>Regions\\n\\nAttica (IG I-III)Attica</td>\n",
              "      <td>NaN</td>\n",
              "      <td>Att. — c. 500 a.\\n\\nSee also:\\nI.Eleusis 13</td>\n",
              "      <td>NaN</td>\n",
              "      <td>6.0</td>\n",
              "      <td>\\n1\\n\\n\\n\\n \\n5\\n\\n</td>\n",
              "      <td>[ἔδοχσε]ν [⋮ τε͂ι βολε͂ι] ⋮ καὶ [τ]ο͂ι δέμοι ⋮...</td>\n",
              "      <td>IG-I-3.csv</td>\n",
              "      <td>5</td>\n",
              "      <td>Regions\\nAttica (IG I-III)Attica</td>\n",
              "      <td>IG I³\\n5</td>\n",
              "      <td>ν καὶ ο͂ι δέμοι ℎότε Παραιβάτες λεια θν τὸς ℎι...</td>\n",
              "      <td>ἔδοχσεν τε͂ι βολε͂ι καὶ το͂ι δέμοι ℎότε Παραιβ...</td>\n",
              "      <td>ἔδοχσεν ⋮ τε͂ι βολε͂ι ⋮ καὶ το͂ι δέμοι ⋮ ℎότε ...</td>\n",
              "    </tr>\n",
              "  </tbody>\n",
              "</table>\n",
              "</div>"
            ],
            "text/plain": [
              "                                    URL  ...                   clean_text_interpretive_sentence\n",
              "0  https://epigraphy.packhum.org/text/1  ...  ἔδοχσεν το͂ι δέμοι τὸς ἐ Σαλαμῖνι κλερόχος οἰκ...\n",
              "1  https://epigraphy.packhum.org/text/2  ...  ․․ ․․․ν βολ ․ ․․ α ⋮ ℎεκον σιον, γνοσθε͂ι δὲ ν...\n",
              "2  https://epigraphy.packhum.org/text/3  ...  αρι ℎερακλειο․․․․ αρο τιθέναι τὸς ἀθλοθέτας τρ...\n",
              "3  https://epigraphy.packhum.org/text/4  ...  ․․․․․․․․․․․․․․․․․․․․․․․․․․․․․․․․․․․․ ․․․․․․․․․...\n",
              "4  https://epigraphy.packhum.org/text/5  ...  ἔδοχσεν ⋮ τε͂ι βολε͂ι ⋮ καὶ το͂ι δέμοι ⋮ ℎότε ...\n",
              "\n",
              "[5 rows x 17 columns]"
            ]
          },
          "metadata": {
            "tags": []
          },
          "execution_count": 306
        }
      ]
    },
    {
      "cell_type": "markdown",
      "metadata": {
        "colab_type": "text",
        "id": "DlWZYRzIxeU3"
      },
      "source": [
        "# Raw date column\n",
        "\n",
        "In the PHI dataset, the datation information is usually contained in the \"tildeinfo\" column. \"tildeinfo\" has a form of a list, with individual elements separated by \" — \". Unfortunately, this list does not have a fully consistent structure. Typically, the datation information is the last element within the list (e.g. \"Dacia Sup. — Tibiscum (Jupa) — 2nd/3rd c. AD\" - PH298501), but not always (e.g. \"N. Black Sea — Pantikapaion (Kerch) — 1st c. BC — IosPE IV 253\" - PH183001). Thus, our first task is to extract the element which most probably contains the datation information.\n"
      ]
    },
    {
      "cell_type": "code",
      "metadata": {
        "colab_type": "code",
        "id": "F_8vJRssihLW",
        "colab": {}
      },
      "source": [
        "def get_date_from_tildeinfo(tildeinfo):\n",
        "  try:\n",
        "    tildeinfo_list = tildeinfo.split(\"— \")\n",
        "    datation = tildeinfo_list[-1]\n",
        "    for el in tildeinfo_list:\n",
        "      if any(time_indicator in el for time_indicator in [\" a.\", \" p.\", \"BC\", \"AD\", \"period\", \"reign\"]):\n",
        "        datation = el.partition(\"\\n\")[0]\n",
        "        break\n",
        "  except: \n",
        "    datation = \"\"\n",
        "  return datation "
      ],
      "execution_count": 307,
      "outputs": []
    },
    {
      "cell_type": "code",
      "metadata": {
        "colab_type": "code",
        "id": "jtPeaQn_wZ32",
        "colab": {
          "base_uri": "https://localhost:8080/",
          "height": 35
        },
        "outputId": "c4ea1771-a57e-4395-8bb4-b141fb5d1c94"
      },
      "source": [
        "# test 1\n",
        "get_date_from_tildeinfo(\"N. Black Sea — Pantikapaion (Kerch) — 1st c. BC — IosPE IV 253\")"
      ],
      "execution_count": 308,
      "outputs": [
        {
          "output_type": "execute_result",
          "data": {
            "application/vnd.google.colaboratory.intrinsic": {
              "type": "string"
            },
            "text/plain": [
              "'1st c. BC '"
            ]
          },
          "metadata": {
            "tags": []
          },
          "execution_count": 308
        }
      ]
    },
    {
      "cell_type": "code",
      "metadata": {
        "colab_type": "code",
        "id": "voqckZOLwkni",
        "colab": {
          "base_uri": "https://localhost:8080/",
          "height": 35
        },
        "outputId": "6a5efbda-aa54-4430-94ab-180898f5eff7"
      },
      "source": [
        "# test 2\n",
        "get_date_from_tildeinfo(\"Att. — Athens: Agora — stoich. 29 — 301/0-295/4 a. — *Hesp. 13.1944.242,7 — *SEG 24.119; 29.93\")"
      ],
      "execution_count": 309,
      "outputs": [
        {
          "output_type": "execute_result",
          "data": {
            "application/vnd.google.colaboratory.intrinsic": {
              "type": "string"
            },
            "text/plain": [
              "'301/0-295/4 a. '"
            ]
          },
          "metadata": {
            "tags": []
          },
          "execution_count": 309
        }
      ]
    },
    {
      "cell_type": "code",
      "metadata": {
        "colab_type": "code",
        "id": "ViRgWRMcioFi",
        "colab": {}
      },
      "source": [
        "# application on the whole dataset\n",
        "PHI[\"raw_date\"] = PHI.apply(lambda row: get_date_from_tildeinfo(row[\"tildeinfo\"]), axis=1)"
      ],
      "execution_count": 310,
      "outputs": []
    },
    {
      "cell_type": "markdown",
      "metadata": {
        "colab_type": "text",
        "id": "OyhrW32R6AgP"
      },
      "source": [
        "# Generating a sample\n",
        "For developemnt purposes, the functions below have been firstly tested by using a representative sample from the dataset, containing every 500th inscription, i.e. inscriptions PH2501, PH3001, ..., PH218501 etc.\t"
      ]
    },
    {
      "cell_type": "code",
      "metadata": {
        "colab_type": "code",
        "id": "_auRCD152g1X",
        "colab": {
          "base_uri": "https://localhost:8080/",
          "height": 547
        },
        "outputId": "f7cd615d-76af-43f1-dcbf-6d177346aba6"
      },
      "source": [
        "# generate sample for testing purposes:\n",
        "PHI_by_500 = PHI[PHI[\"PHI_ID\"].isin(range(1, 300000, 500))]\n",
        "PHI_by_500.head(5)"
      ],
      "execution_count": 311,
      "outputs": [
        {
          "output_type": "execute_result",
          "data": {
            "text/html": [
              "<div>\n",
              "<style scoped>\n",
              "    .dataframe tbody tr th:only-of-type {\n",
              "        vertical-align: middle;\n",
              "    }\n",
              "\n",
              "    .dataframe tbody tr th {\n",
              "        vertical-align: top;\n",
              "    }\n",
              "\n",
              "    .dataframe thead th {\n",
              "        text-align: right;\n",
              "    }\n",
              "</style>\n",
              "<table border=\"1\" class=\"dataframe\">\n",
              "  <thead>\n",
              "    <tr style=\"text-align: right;\">\n",
              "      <th></th>\n",
              "      <th>URL</th>\n",
              "      <th>Book</th>\n",
              "      <th>Text</th>\n",
              "      <th>hdr1</th>\n",
              "      <th>hdr2</th>\n",
              "      <th>tildeinfo</th>\n",
              "      <th>note</th>\n",
              "      <th>lines</th>\n",
              "      <th>metadata</th>\n",
              "      <th>data</th>\n",
              "      <th>filename</th>\n",
              "      <th>PHI_ID</th>\n",
              "      <th>hdr1_scrape</th>\n",
              "      <th>hdr2_scrape</th>\n",
              "      <th>clean_text_conservative</th>\n",
              "      <th>clean_text_interpretive_word</th>\n",
              "      <th>clean_text_interpretive_sentence</th>\n",
              "      <th>raw_date</th>\n",
              "    </tr>\n",
              "  </thead>\n",
              "  <tbody>\n",
              "    <tr>\n",
              "      <th>0</th>\n",
              "      <td>https://epigraphy.packhum.org/text/1</td>\n",
              "      <td>IG I³</td>\n",
              "      <td>1</td>\n",
              "      <td>Regions\\n\\nAttica (IG I-III)Attica</td>\n",
              "      <td>NaN</td>\n",
              "      <td>Att. — Ath.: Akr. — stoich. 35 — c. 510-500 a....</td>\n",
              "      <td>NaN</td>\n",
              "      <td>12.0</td>\n",
              "      <td>\\n1\\n\\n\\n\\n\\n5\\n\\n\\n\\n\\n\\n10\\n\\n\\n</td>\n",
              "      <td>ἔδοχσεν το͂ι δέμοι· τ̣[ὸς ἐ Σ]αλαμ̣[ῖνι κλερόχ...</td>\n",
              "      <td>IG-I-3.csv</td>\n",
              "      <td>1</td>\n",
              "      <td>Regions\\nAttica (IG I-III)Attica</td>\n",
              "      <td>IG I³\\n1</td>\n",
              "      <td>ἔδοχσεν το͂ι δέμοι ταλαμος οἰκε͂ν ἐᾶ Σαλαμῖνι ...</td>\n",
              "      <td>ἔδοχσεν το͂ι δέμοι τὸς ἐ Σαλαμῖνι κλερόχος οἰκ...</td>\n",
              "      <td>ἔδοχσεν το͂ι δέμοι τὸς ἐ Σαλαμῖνι κλερόχος οἰκ...</td>\n",
              "      <td>c. 510-500 a.</td>\n",
              "    </tr>\n",
              "    <tr>\n",
              "      <th>500</th>\n",
              "      <td>https://epigraphy.packhum.org/text/501</td>\n",
              "      <td>IG I³</td>\n",
              "      <td>486</td>\n",
              "      <td>Regions\\n\\nAttica (IG I-III)Attica</td>\n",
              "      <td>NaN</td>\n",
              "      <td>Att. — stoich. — s. V a.</td>\n",
              "      <td>NaN</td>\n",
              "      <td>11.0</td>\n",
              "      <td>\\n\\n1\\n\\n\\n\\n\\n5\\n\\n\\n\\n\\n\\n\\n10\\n</td>\n",
              "      <td>— — — — — —\\n[v?․]Ε#⁷ — — — —\\n[v?]ολοι #⁷#⁷ —...</td>\n",
              "      <td>IG-I-3.csv</td>\n",
              "      <td>501</td>\n",
              "      <td>Regions\\nAttica (IG I-III)Attica</td>\n",
              "      <td>IG I³\\n486</td>\n",
              "      <td>Ε ολοι χρυσίον v τον πετ v σταθμὸ μὸν το͂ χρ Δ...</td>\n",
              "      <td>v Ε vολοι v χρυσίον v τον πεταλ v σταθμὸν σταθ...</td>\n",
              "      <td>v․Ε vολοι v χρυσίον v τον πεταλ v σταθμὸν σταθ...</td>\n",
              "      <td>s. V a.</td>\n",
              "    </tr>\n",
              "    <tr>\n",
              "      <th>1000</th>\n",
              "      <td>https://epigraphy.packhum.org/text/1001</td>\n",
              "      <td>IG I³</td>\n",
              "      <td>886</td>\n",
              "      <td>Regions\\n\\nAttica (IG I-III)Attica</td>\n",
              "      <td>NaN</td>\n",
              "      <td>Att. — Athens: Akropolis — c. 440? a. — IG I² ...</td>\n",
              "      <td>NaN</td>\n",
              "      <td>2.0</td>\n",
              "      <td>\\n1\\n\\n</td>\n",
              "      <td>— — —ένης vacat\\nvacat</td>\n",
              "      <td>IG-I-3.csv</td>\n",
              "      <td>1001</td>\n",
              "      <td>Regions\\nAttica (IG I-III)Attica</td>\n",
              "      <td>IG I³\\n886</td>\n",
              "      <td>ένης</td>\n",
              "      <td>ένης</td>\n",
              "      <td>ένης</td>\n",
              "      <td>c. 440? a.</td>\n",
              "    </tr>\n",
              "    <tr>\n",
              "      <th>1500</th>\n",
              "      <td>https://epigraphy.packhum.org/text/1501</td>\n",
              "      <td>IG I³</td>\n",
              "      <td>1314</td>\n",
              "      <td>Regions\\n\\nAttica (IG I-III)Attica</td>\n",
              "      <td>NaN</td>\n",
              "      <td>Att. — Salamis: Koulouri — c. 420-410? a. — IG...</td>\n",
              "      <td>NaN</td>\n",
              "      <td>NaN</td>\n",
              "      <td>\\n1\\n</td>\n",
              "      <td>Χαιρέδημος.  Λυκέας.</td>\n",
              "      <td>IG-I-3.csv</td>\n",
              "      <td>1501</td>\n",
              "      <td>Regions\\nAttica (IG I-III)Attica</td>\n",
              "      <td>IG I³\\n1314</td>\n",
              "      <td>Χαιρέδημος Λυκέας</td>\n",
              "      <td>Χαιρέδημος Λυκέας</td>\n",
              "      <td>Χαιρέδημος. Λυκέας.</td>\n",
              "      <td>c. 420-410? a.</td>\n",
              "    </tr>\n",
              "    <tr>\n",
              "      <th>2108</th>\n",
              "      <td>/text/2501?location=1365&amp;patt=&amp;bookid=5&amp;offset...</td>\n",
              "      <td>IG II²</td>\n",
              "      <td>284</td>\n",
              "      <td>Regions\\nAttica (IG I-III)\\nAttica</td>\n",
              "      <td>IG II²\\n284</td>\n",
              "      <td>Att. — stoich. 28 — ante 336/5</td>\n",
              "      <td>NaN</td>\n",
              "      <td>17.0</td>\n",
              "      <td>1\\n\\n\\n\\n5\\n\\n\\n\\n\\n10\\n\\n\\n\\n\\n15\\n\\n</td>\n",
              "      <td>․․․7․․․#⁷#⁷#⁷․․․․․․․․18․․․․․․․․\\n․․․κράτης κα[...</td>\n",
              "      <td>IG-II-2.csv</td>\n",
              "      <td>2501</td>\n",
              "      <td>NaN</td>\n",
              "      <td>NaN</td>\n",
              "      <td>κράτης καν ὑπὸ τῶν λη υλῆι ὑπὸ τοὺς π προεδρεύ...</td>\n",
              "      <td>κράτης καὶ ἑάλωσαν ὑπὸ τῶν ληιστῶν ἐψήφισθαι τ...</td>\n",
              "      <td>․․․․․․ ․․․․․․․․․․․․․․․․ ․․․κράτης καὶ ․․․․․․․․...</td>\n",
              "      <td>ante 336/5</td>\n",
              "    </tr>\n",
              "  </tbody>\n",
              "</table>\n",
              "</div>"
            ],
            "text/plain": [
              "                                                    URL  ...         raw_date\n",
              "0                  https://epigraphy.packhum.org/text/1  ...   c. 510-500 a. \n",
              "500              https://epigraphy.packhum.org/text/501  ...          s. V a.\n",
              "1000            https://epigraphy.packhum.org/text/1001  ...      c. 440? a. \n",
              "1500            https://epigraphy.packhum.org/text/1501  ...  c. 420-410? a. \n",
              "2108  /text/2501?location=1365&patt=&bookid=5&offset...  ...       ante 336/5\n",
              "\n",
              "[5 rows x 18 columns]"
            ]
          },
          "metadata": {
            "tags": []
          },
          "execution_count": 311
        }
      ]
    },
    {
      "cell_type": "markdown",
      "metadata": {
        "colab_type": "text",
        "id": "1yz6_Lr-VyIF"
      },
      "source": [
        "# Parse ante quem and post quem"
      ]
    },
    {
      "cell_type": "code",
      "metadata": {
        "colab_type": "code",
        "id": "Pvmb8GNS2qWH",
        "colab": {
          "base_uri": "https://localhost:8080/",
          "height": 34
        },
        "outputId": "7db80bb7-2abf-4a6b-b321-2935a03f3156"
      },
      "source": [
        "### simple demonstration of the logic\n",
        "datation = \"not before 304 AD\"\n",
        "match = re.search(\"(not\\s(before|bef\\.)\\s|non\\sante\\s)(\\d+)\",  datation, flags=re.IGNORECASE)\n",
        "if match:\n",
        "  dating_update = {\"start\" : int(match.groups()[2]), \"type\" : \"post\"}\n",
        "dating_update"
      ],
      "execution_count": 312,
      "outputs": [
        {
          "output_type": "execute_result",
          "data": {
            "text/plain": [
              "{'start': 304, 'type': 'post'}"
            ]
          },
          "metadata": {
            "tags": []
          },
          "execution_count": 312
        }
      ]
    },
    {
      "cell_type": "code",
      "metadata": {
        "colab_type": "code",
        "id": "y0Hq9f7U-Hl2",
        "colab": {}
      },
      "source": [
        "def extract_ante_and_post(datation, dating=None):\n",
        "  if dating==None: dating = {\"type\" : \"unknown\"}\n",
        "  if \"unknown\" in dating[\"type\"]: \n",
        "    # if \"NOT BEFORE\"\n",
        "    match = re.search(\"(not\\s(before|bef\\.)\\s|non\\sante\\s)(\\-?\\d+)(\\s|$)\",  datation, flags=re.IGNORECASE)\n",
        "    if match:\n",
        "      if \"AD\" not in datation:\n",
        "        start = (int(match.groups()[2]) * -1)\n",
        "        dating_update = {\"start\" : start, \"type\" : \"post\"}\n",
        "      else:\n",
        "        dating_update = {\"start\" : int(match.groups()[2]), \"type\" : \"post\"}\n",
        "    # if \"BEFORE\"\n",
        "    else:\n",
        "      match = re.search('(before\\s|ante\\s)(\\-?\\d+)(\\s|$)', datation, flags=re.IGNORECASE)\n",
        "      if match:\n",
        "        if \"AD\" not in datation:\n",
        "          dating_update = {\"stop\" : (int(match.groups()[1]) * -1) - 1, \"type\" : \"ante\"}\n",
        "        else:\n",
        "          dating_update = {\"stop\" : int(match.groups()[1]) - 1, \"type\" : \"ante\"}\n",
        "      # if \"NOT AFTER\"\n",
        "      else:\n",
        "        match = re.search(\"(not\\safter\\s|non\\spost\\s)(\\-?\\d+)(\\s|$)\",  datation, flags=re.IGNORECASE)\n",
        "        if match:\n",
        "          if \"AD\" not in datation:\n",
        "            dating_update = {\"stop\" : (int(match.groups()[1]) * -1), \"type\" : \"ante\"}\n",
        "          else:\n",
        "            dating_update = {\"stop\" : int(match.groups()[1]), \"type\" : \"ante\"}\n",
        "        # if \"AFTER\"\n",
        "        else:\n",
        "            match = re.search('(after\\s|aft.\\s|post\\s)(\\-?\\d+)(\\s|$)', datation, flags=re.IGNORECASE)\n",
        "            if match:\n",
        "              if \"AD\" not in datation:\n",
        "                dating_update = {\"start\" : (int(match.groups()[1]) * -1) + 1, \"type\" : \"post\"}\n",
        "              else:\n",
        "                dating_update = {\"start\" : int(match.groups()[1]) + 1, \"type\" : \"post\"}\n",
        "            else:\n",
        "              dating_update = dating\n",
        "  elif \"exact+or\" in dating[\"type\"]: \n",
        "    # if \"NOT BEFORE\"\n",
        "    match = re.search(\"(not\\s(before|bef\\.)\\s|non\\sante\\s)\",  datation, flags=re.IGNORECASE)\n",
        "    if match:\n",
        "      dating_update = {\"start\" : dating[\"exact\"], \"or\": {\"start\" : dating[\"or\"][\"exact\"], \"exact\" : None}, \"exact\" : None, \"type\" : \"post+or\"}\n",
        "    # if \"BEFORE\"\n",
        "    else:\n",
        "      match = re.search('(before\\s|ante\\s)', datation, flags=re.IGNORECASE)\n",
        "      if match:\n",
        "        dating_update = {\"stop\" : dating[\"exact\"], \"or\": {\"stop\" : dating[\"or\"][\"exact\"], \"exact\" : None}, \"exact\" : None, \"type\" : \"ante+or\"}\n",
        "      # if \"NOT AFTER\"\n",
        "      else:\n",
        "        match = re.search(\"(not\\safter\\s|non\\spost\\s)\",  datation, flags=re.IGNORECASE)\n",
        "        if match:\n",
        "              dating_update = {\"stop\" : dating[\"exact\"], \"or\": {\"stop\" : dating[\"or\"][\"exact\"], \"exact\" : None}, \"exact\" : None, \"type\" : \"ante+or\"}\n",
        "        # if \"AFTER\"\n",
        "        else:\n",
        "            match = re.search('(after\\s|aft.\\s|post\\s)', datation, flags=re.IGNORECASE)\n",
        "            if match:\n",
        "              dating_update = {\"start\" : dating[\"exact\"], \"or\": {\"start\" : dating[\"or\"][\"exact\"], \"exact\" : None}, \"exact\" : None, \"type\" : \"post+or\"}\n",
        "            else:\n",
        "              dating_update = dating\n",
        "  elif \"range\" in dating[\"type\"]:\n",
        "    # if \"NOT BEFORE\"\n",
        "    match = re.search(\"(not\\s(before|bef\\.)\\s|non\\sante\\s)\",  datation, flags=re.IGNORECASE)\n",
        "    if match:\n",
        "      dating_update = {\"start\" : dating[\"start\"], \"stop\":None, \"type\" : dating[\"type\"]+\"+post\"}\n",
        "    # if \"BEFORE\"\n",
        "    else:\n",
        "      match = re.search('(before\\s|ante\\s)', datation, flags=re.IGNORECASE)\n",
        "      if match:\n",
        "        dating_update = {\"stop\" : int(dating[\"start\"]) - 1, \"start\":None, \"type\" : dating[\"type\"]+\"+ante\"}  \n",
        "      # if \"NOT AFTER\"\n",
        "      else:\n",
        "        match = re.search(\"(not\\safter\\s|non\\spost\\s)\",  datation, flags=re.IGNORECASE)\n",
        "        if match:\n",
        "          dating_update = {\"stop\" : dating[\"stop\"], \"start\":None,\"type\" : dating[\"type\"]+\"+ante\"}\n",
        "        # if \"AFTER\"\n",
        "        else:\n",
        "          match = re.search('(after\\s|aft.\\s|post\\s)', datation, flags=re.IGNORECASE)\n",
        "          if match:\n",
        "            dating_update = {\"start\" : int(dating[\"stop\"]) + 1, \"stop\":None,\"type\" : dating[\"type\"]+\"+post\"}\n",
        "          else:\n",
        "            dating_update = dating\n",
        "  else: \n",
        "    #datation = re.sub(\"(not\\s(after|bef\\.)\\s|non\\spost)\", \"ante\\s\", datation)\n",
        "    dating_update = dating\n",
        "  if (\"shortly\" in datation) and (\"shortly\" not in dating_update[\"type\"]):\n",
        "    dating_update[\"type\"] = dating_update[\"type\"] + \"+shortly\"\n",
        "  return dating_update"
      ],
      "execution_count": 313,
      "outputs": []
    },
    {
      "cell_type": "code",
      "metadata": {
        "colab_type": "code",
        "id": "JXd-MHGzups1",
        "colab": {
          "base_uri": "https://localhost:8080/",
          "height": 34
        },
        "outputId": "3d8e12f5-00c2-4f25-d87d-f691f53e117b"
      },
      "source": [
        "extract_ante_and_post(\"after 4th c. BC\", {\"type\" : \"range\", \"start\": -400, \"stop\": -301})"
      ],
      "execution_count": 314,
      "outputs": [
        {
          "output_type": "execute_result",
          "data": {
            "text/plain": [
              "{'start': -300, 'stop': None, 'type': 'range+post'}"
            ]
          },
          "metadata": {
            "tags": []
          },
          "execution_count": 314
        }
      ]
    },
    {
      "cell_type": "code",
      "metadata": {
        "colab_type": "code",
        "id": "I2QmBCuU0-ZP",
        "colab": {
          "base_uri": "https://localhost:8080/",
          "height": 34
        },
        "outputId": "5d6cb62f-b747-4a98-af1b-fcd965877adf"
      },
      "source": [
        "extract_ante_and_post(\"shortly after 230 AD\")"
      ],
      "execution_count": 315,
      "outputs": [
        {
          "output_type": "execute_result",
          "data": {
            "text/plain": [
              "{'start': 231, 'type': 'post+shortly'}"
            ]
          },
          "metadata": {
            "tags": []
          },
          "execution_count": 315
        }
      ]
    },
    {
      "cell_type": "code",
      "metadata": {
        "colab_type": "code",
        "id": "2kuMWHYek4t4",
        "colab": {
          "base_uri": "https://localhost:8080/",
          "height": 34
        },
        "outputId": "283b1468-ac4e-4515-f4be-cc8fff5ba9a6"
      },
      "source": [
        "datation, dating = \"not after reign of Trajan\", {\"start\": 98, \"stop\" : 117, \"type\" : \"range+period\", \"era\": None}\n",
        "extract_ante_and_post(datation, dating)"
      ],
      "execution_count": 316,
      "outputs": [
        {
          "output_type": "execute_result",
          "data": {
            "text/plain": [
              "{'start': None, 'stop': 117, 'type': 'range+period+ante'}"
            ]
          },
          "metadata": {
            "tags": []
          },
          "execution_count": 316
        }
      ]
    },
    {
      "cell_type": "code",
      "metadata": {
        "colab_type": "code",
        "id": "iElBo6xYWBPq",
        "colab": {
          "base_uri": "https://localhost:8080/",
          "height": 136
        },
        "outputId": "d6f2fa6d-149b-4016-8bc9-135cc51ea297"
      },
      "source": [
        "# example with \"unknown\"\n",
        "dating = {\"type\" : \"unknown\", \"era\": None}\n",
        "for datation in [\"non post 230 AD\", \"shortly after 320 BC\", \"not bef. 114 BC\",\"not after 317 AD\", \"before 200 AD\", \"Ante 114 BC\", \"post 2nd century BC\"]:\n",
        "  print(datation, extract_ante_and_post(datation, dating))"
      ],
      "execution_count": 317,
      "outputs": [
        {
          "output_type": "stream",
          "text": [
            "non post 230 AD {'stop': 230, 'type': 'ante'}\n",
            "shortly after 320 BC {'start': -319, 'type': 'post+shortly'}\n",
            "not bef. 114 BC {'start': -114, 'type': 'post'}\n",
            "not after 317 AD {'stop': 317, 'type': 'ante'}\n",
            "before 200 AD {'stop': 199, 'type': 'ante'}\n",
            "Ante 114 BC {'stop': -115, 'type': 'ante'}\n",
            "post 2nd century BC {'type': 'unknown', 'era': None}\n"
          ],
          "name": "stdout"
        }
      ]
    },
    {
      "cell_type": "markdown",
      "metadata": {
        "colab_type": "text",
        "id": "qF5f-0tIV9Tm"
      },
      "source": [
        "# Parse periods"
      ]
    },
    {
      "cell_type": "code",
      "metadata": {
        "colab_type": "code",
        "id": "GHK0NQwl-ap9",
        "colab": {
          "base_uri": "https://localhost:8080/",
          "height": 793
        },
        "outputId": "2cfb2d0e-f146-4adb-bcdd-ffb44db11c74"
      },
      "source": [
        "# read periods from our external coding\n",
        "periods = get_as_dataframe(PHI_overview.worksheet(\"periods\"))\n",
        "periods"
      ],
      "execution_count": 321,
      "outputs": [
        {
          "output_type": "execute_result",
          "data": {
            "text/html": [
              "<div>\n",
              "<style scoped>\n",
              "    .dataframe tbody tr th:only-of-type {\n",
              "        vertical-align: middle;\n",
              "    }\n",
              "\n",
              "    .dataframe tbody tr th {\n",
              "        vertical-align: top;\n",
              "    }\n",
              "\n",
              "    .dataframe thead th {\n",
              "        text-align: right;\n",
              "    }\n",
              "</style>\n",
              "<table border=\"1\" class=\"dataframe\">\n",
              "  <thead>\n",
              "    <tr style=\"text-align: right;\">\n",
              "      <th></th>\n",
              "      <th>period</th>\n",
              "      <th>start</th>\n",
              "      <th>stop</th>\n",
              "      <th>type</th>\n",
              "      <th>era</th>\n",
              "      <th>source</th>\n",
              "      <th>notes</th>\n",
              "      <th>link</th>\n",
              "    </tr>\n",
              "  </thead>\n",
              "  <tbody>\n",
              "    <tr>\n",
              "      <th>0</th>\n",
              "      <td>Roman imp</td>\n",
              "      <td>-31</td>\n",
              "      <td>410</td>\n",
              "      <td>range+period</td>\n",
              "      <td>AD</td>\n",
              "      <td>PeriodO</td>\n",
              "      <td>NaN</td>\n",
              "      <td>http://n2t.net/ark:/99152/p08m57hqcc5</td>\n",
              "    </tr>\n",
              "    <tr>\n",
              "      <th>1</th>\n",
              "      <td>Rom. Imp</td>\n",
              "      <td>-31</td>\n",
              "      <td>410</td>\n",
              "      <td>range+period</td>\n",
              "      <td>BC/AD</td>\n",
              "      <td>PeriodO</td>\n",
              "      <td>NaN</td>\n",
              "      <td>http://n2t.net/ark:/99152/p08m57hqcc5</td>\n",
              "    </tr>\n",
              "    <tr>\n",
              "      <th>2</th>\n",
              "      <td>aet. imp.</td>\n",
              "      <td>-31</td>\n",
              "      <td>410</td>\n",
              "      <td>range+period</td>\n",
              "      <td>BC/AD</td>\n",
              "      <td>PeriodO</td>\n",
              "      <td>NaN</td>\n",
              "      <td>http://n2t.net/ark:/99152/p08m57hqcc5</td>\n",
              "    </tr>\n",
              "    <tr>\n",
              "      <th>3</th>\n",
              "      <td>aet. Rom.</td>\n",
              "      <td>-146</td>\n",
              "      <td>324</td>\n",
              "      <td>range+period</td>\n",
              "      <td>BC/AD</td>\n",
              "      <td>NaN</td>\n",
              "      <td>NaN</td>\n",
              "      <td>NaN</td>\n",
              "    </tr>\n",
              "    <tr>\n",
              "      <th>4</th>\n",
              "      <td>Roman period</td>\n",
              "      <td>-146</td>\n",
              "      <td>324</td>\n",
              "      <td>range+period</td>\n",
              "      <td>BC/AD</td>\n",
              "      <td>NaN</td>\n",
              "      <td>NaN</td>\n",
              "      <td>NaN</td>\n",
              "    </tr>\n",
              "    <tr>\n",
              "      <th>5</th>\n",
              "      <td>reign of Hadrian</td>\n",
              "      <td>117</td>\n",
              "      <td>138</td>\n",
              "      <td>range+period</td>\n",
              "      <td>AD</td>\n",
              "      <td>PeriodO</td>\n",
              "      <td>NaN</td>\n",
              "      <td>http://n2t.net/ark:/99152/p0jrrjbntfj</td>\n",
              "    </tr>\n",
              "    <tr>\n",
              "      <th>6</th>\n",
              "      <td>reign of Justinian</td>\n",
              "      <td>527</td>\n",
              "      <td>565</td>\n",
              "      <td>range+period</td>\n",
              "      <td>AD</td>\n",
              "      <td>PeriodO</td>\n",
              "      <td>NaN</td>\n",
              "      <td>http://n2t.net/ark:/99152/p06c6g3r7ht</td>\n",
              "    </tr>\n",
              "    <tr>\n",
              "      <th>7</th>\n",
              "      <td>reign of Ant. Pius</td>\n",
              "      <td>138</td>\n",
              "      <td>161</td>\n",
              "      <td>range+period</td>\n",
              "      <td>AD</td>\n",
              "      <td>PeriodO</td>\n",
              "      <td>NaN</td>\n",
              "      <td>http://n2t.net/ark:/99152/p06c6g3drk4</td>\n",
              "    </tr>\n",
              "    <tr>\n",
              "      <th>8</th>\n",
              "      <td>reign of Augustus</td>\n",
              "      <td>-27</td>\n",
              "      <td>14</td>\n",
              "      <td>range+period</td>\n",
              "      <td>BC/AD</td>\n",
              "      <td>PeriodO</td>\n",
              "      <td>NaN</td>\n",
              "      <td>http://n2t.net/ark:/99152/p06c6g3xnmx</td>\n",
              "    </tr>\n",
              "    <tr>\n",
              "      <th>9</th>\n",
              "      <td>reign of Tiberius</td>\n",
              "      <td>14</td>\n",
              "      <td>37</td>\n",
              "      <td>range+period</td>\n",
              "      <td>AD</td>\n",
              "      <td>PeriodO</td>\n",
              "      <td>NaN</td>\n",
              "      <td>http://n2t.net/ark:/99152/p0jrrjbts8w</td>\n",
              "    </tr>\n",
              "    <tr>\n",
              "      <th>10</th>\n",
              "      <td>reign of Claudius</td>\n",
              "      <td>41</td>\n",
              "      <td>54</td>\n",
              "      <td>range+period</td>\n",
              "      <td>AD</td>\n",
              "      <td>PeriodO</td>\n",
              "      <td>NaN</td>\n",
              "      <td>http://n2t.net/ark:/99152/p0jrrjb8spw</td>\n",
              "    </tr>\n",
              "    <tr>\n",
              "      <th>11</th>\n",
              "      <td>reign of Trajan</td>\n",
              "      <td>98</td>\n",
              "      <td>117</td>\n",
              "      <td>range+period</td>\n",
              "      <td>AD</td>\n",
              "      <td>PeriodO</td>\n",
              "      <td>NaN</td>\n",
              "      <td>http://n2t.net/ark:/99152/p0jrrjbj7h3</td>\n",
              "    </tr>\n",
              "    <tr>\n",
              "      <th>12</th>\n",
              "      <td>Christian</td>\n",
              "      <td>1</td>\n",
              "      <td>2000</td>\n",
              "      <td>range+period</td>\n",
              "      <td>AD</td>\n",
              "      <td>Vojtech</td>\n",
              "      <td>alone</td>\n",
              "      <td>NaN</td>\n",
              "    </tr>\n",
              "    <tr>\n",
              "      <th>13</th>\n",
              "      <td>Byzantine per</td>\n",
              "      <td>324</td>\n",
              "      <td>1453</td>\n",
              "      <td>range+period</td>\n",
              "      <td>AD</td>\n",
              "      <td>PeriodO</td>\n",
              "      <td>NaN</td>\n",
              "      <td>http://n2t.net/ark:/99152/p0m63njtm6w</td>\n",
              "    </tr>\n",
              "    <tr>\n",
              "      <th>14</th>\n",
              "      <td>Byzantine</td>\n",
              "      <td>324</td>\n",
              "      <td>1453</td>\n",
              "      <td>range+period</td>\n",
              "      <td>AD</td>\n",
              "      <td>PeriodO</td>\n",
              "      <td>alone</td>\n",
              "      <td>http://n2t.net/ark:/99152/p0m63njtm6w</td>\n",
              "    </tr>\n",
              "    <tr>\n",
              "      <th>15</th>\n",
              "      <td>Byzant. per</td>\n",
              "      <td>324</td>\n",
              "      <td>1453</td>\n",
              "      <td>range+period</td>\n",
              "      <td>AD</td>\n",
              "      <td>PeriodO</td>\n",
              "      <td>NaN</td>\n",
              "      <td>http://n2t.net/ark:/99152/p0m63njtm6w</td>\n",
              "    </tr>\n",
              "    <tr>\n",
              "      <th>16</th>\n",
              "      <td>Byzantium</td>\n",
              "      <td>330</td>\n",
              "      <td>1453</td>\n",
              "      <td>range+period</td>\n",
              "      <td>AD</td>\n",
              "      <td>PeriodO</td>\n",
              "      <td>NaN</td>\n",
              "      <td>http://n2t.net/ark:/99152/p08vvjk5t32</td>\n",
              "    </tr>\n",
              "    <tr>\n",
              "      <th>17</th>\n",
              "      <td>Hellenistic</td>\n",
              "      <td>-330</td>\n",
              "      <td>-30</td>\n",
              "      <td>range+period</td>\n",
              "      <td>BC</td>\n",
              "      <td>PeriodO</td>\n",
              "      <td>NaN</td>\n",
              "      <td>http://n2t.net/ark:/99152/p03wskd55sw</td>\n",
              "    </tr>\n",
              "    <tr>\n",
              "      <th>18</th>\n",
              "      <td>Late Antiquity</td>\n",
              "      <td>284</td>\n",
              "      <td>476</td>\n",
              "      <td>range+period</td>\n",
              "      <td>AD</td>\n",
              "      <td>PeriodO</td>\n",
              "      <td>NaN</td>\n",
              "      <td>http://n2t.net/ark:/99152/p0jrrjb67vs</td>\n",
              "    </tr>\n",
              "    <tr>\n",
              "      <th>19</th>\n",
              "      <td>Claudian</td>\n",
              "      <td>41</td>\n",
              "      <td>54</td>\n",
              "      <td>range+period</td>\n",
              "      <td>AD</td>\n",
              "      <td>PeriodO</td>\n",
              "      <td>NaN</td>\n",
              "      <td>http://n2t.net/ark:/99152/p0jrrjb8spw</td>\n",
              "    </tr>\n",
              "    <tr>\n",
              "      <th>20</th>\n",
              "      <td>Trajanic</td>\n",
              "      <td>98</td>\n",
              "      <td>117</td>\n",
              "      <td>range+period</td>\n",
              "      <td>AD</td>\n",
              "      <td>PeriodO</td>\n",
              "      <td>NaN</td>\n",
              "      <td>http://n2t.net/ark:/99152/p0jrrjbj7h3</td>\n",
              "    </tr>\n",
              "    <tr>\n",
              "      <th>21</th>\n",
              "      <td>Hadrianic</td>\n",
              "      <td>117</td>\n",
              "      <td>138</td>\n",
              "      <td>range+period</td>\n",
              "      <td>AD</td>\n",
              "      <td>PeriodO</td>\n",
              "      <td>NaN</td>\n",
              "      <td>http://n2t.net/ark:/99152/p0jrrjbntfj</td>\n",
              "    </tr>\n",
              "    <tr>\n",
              "      <th>22</th>\n",
              "      <td>Antonine period</td>\n",
              "      <td>96</td>\n",
              "      <td>192</td>\n",
              "      <td>range+period</td>\n",
              "      <td>AD</td>\n",
              "      <td>PeriodO</td>\n",
              "      <td>NaN</td>\n",
              "      <td>http://n2t.net/ark:/99152/p06c6g34zjk</td>\n",
              "    </tr>\n",
              "    <tr>\n",
              "      <th>23</th>\n",
              "      <td>Severan period</td>\n",
              "      <td>193</td>\n",
              "      <td>235</td>\n",
              "      <td>range+period</td>\n",
              "      <td>AD</td>\n",
              "      <td>PeriodO</td>\n",
              "      <td>NaN</td>\n",
              "      <td>http://n2t.net/ark:/99152/p0jrrjbtf3t</td>\n",
              "    </tr>\n",
              "  </tbody>\n",
              "</table>\n",
              "</div>"
            ],
            "text/plain": [
              "                period  start  ...  notes                                   link\n",
              "0            Roman imp    -31  ...    NaN  http://n2t.net/ark:/99152/p08m57hqcc5\n",
              "1             Rom. Imp    -31  ...    NaN  http://n2t.net/ark:/99152/p08m57hqcc5\n",
              "2            aet. imp.    -31  ...    NaN  http://n2t.net/ark:/99152/p08m57hqcc5\n",
              "3            aet. Rom.   -146  ...    NaN                                    NaN\n",
              "4         Roman period   -146  ...    NaN                                    NaN\n",
              "5     reign of Hadrian    117  ...    NaN  http://n2t.net/ark:/99152/p0jrrjbntfj\n",
              "6   reign of Justinian    527  ...    NaN  http://n2t.net/ark:/99152/p06c6g3r7ht\n",
              "7   reign of Ant. Pius    138  ...    NaN  http://n2t.net/ark:/99152/p06c6g3drk4\n",
              "8    reign of Augustus    -27  ...    NaN  http://n2t.net/ark:/99152/p06c6g3xnmx\n",
              "9    reign of Tiberius     14  ...    NaN  http://n2t.net/ark:/99152/p0jrrjbts8w\n",
              "10   reign of Claudius     41  ...    NaN  http://n2t.net/ark:/99152/p0jrrjb8spw\n",
              "11     reign of Trajan     98  ...    NaN  http://n2t.net/ark:/99152/p0jrrjbj7h3\n",
              "12          Christian       1  ...  alone                                    NaN\n",
              "13       Byzantine per    324  ...    NaN  http://n2t.net/ark:/99152/p0m63njtm6w\n",
              "14           Byzantine    324  ...  alone  http://n2t.net/ark:/99152/p0m63njtm6w\n",
              "15         Byzant. per    324  ...    NaN  http://n2t.net/ark:/99152/p0m63njtm6w\n",
              "16           Byzantium    330  ...    NaN  http://n2t.net/ark:/99152/p08vvjk5t32\n",
              "17         Hellenistic   -330  ...    NaN  http://n2t.net/ark:/99152/p03wskd55sw\n",
              "18      Late Antiquity    284  ...    NaN  http://n2t.net/ark:/99152/p0jrrjb67vs\n",
              "19            Claudian     41  ...    NaN  http://n2t.net/ark:/99152/p0jrrjb8spw\n",
              "20            Trajanic     98  ...    NaN  http://n2t.net/ark:/99152/p0jrrjbj7h3\n",
              "21           Hadrianic    117  ...    NaN  http://n2t.net/ark:/99152/p0jrrjbntfj\n",
              "22     Antonine period     96  ...    NaN  http://n2t.net/ark:/99152/p06c6g34zjk\n",
              "23      Severan period    193  ...    NaN  http://n2t.net/ark:/99152/p0jrrjbtf3t\n",
              "\n",
              "[24 rows x 8 columns]"
            ]
          },
          "metadata": {
            "tags": []
          },
          "execution_count": 321
        }
      ]
    },
    {
      "cell_type": "code",
      "metadata": {
        "colab_type": "code",
        "id": "KVTN1NZ2A6k9",
        "colab": {
          "base_uri": "https://localhost:8080/",
          "height": 136
        },
        "outputId": "9676a79a-8cf2-43d5-efbd-83ba29ba4d89"
      },
      "source": [
        "periods_dict = periods.set_index(\"period\").T.to_dict()\n",
        "periods_dict[\"reign of Claudius\"]"
      ],
      "execution_count": 322,
      "outputs": [
        {
          "output_type": "execute_result",
          "data": {
            "text/plain": [
              "{'era': 'AD',\n",
              " 'link': 'http://n2t.net/ark:/99152/p0jrrjb8spw',\n",
              " 'notes': nan,\n",
              " 'source': 'PeriodO',\n",
              " 'start': 41,\n",
              " 'stop': 54,\n",
              " 'type': 'range+period'}"
            ]
          },
          "metadata": {
            "tags": []
          },
          "execution_count": 322
        }
      ]
    },
    {
      "cell_type": "code",
      "metadata": {
        "colab_type": "code",
        "id": "8fLTjrTpFqqw",
        "colab": {}
      },
      "source": [
        "def extract_period(datation, dating=None):\n",
        "  if (dating==None): dating = {\"type\" : \"unknown\"} \n",
        "  if dating[\"type\"] == \"unknown\":\n",
        "    for key in periods_dict.keys():\n",
        "      if periods_dict[key][\"notes\"] != \"alone\":\n",
        "        if re.search(key, datation, flags=re.IGNORECASE): # use lower cases to match everything\n",
        "          dating_update = periods_dict[key]\n",
        "          break\n",
        "      elif re.search(\"^\\s?\" + key + \"\\s?$\", datation):\n",
        "          dating_update = periods_dict[key]\n",
        "          break\n",
        "      else:\n",
        "          dating_update = {\"type\" : \"unknown\"}\n",
        "    return dating_update\n",
        "  else:\n",
        "    return dating"
      ],
      "execution_count": 323,
      "outputs": []
    },
    {
      "cell_type": "code",
      "metadata": {
        "colab_type": "code",
        "id": "_ucDtS79Y-kj",
        "colab": {
          "base_uri": "https://localhost:8080/",
          "height": 156
        },
        "outputId": "c8c4ed44-77cf-4c61-a63e-3805e3166f74"
      },
      "source": [
        "# example:\n",
        "for datation in [\"Roman Imperial\", \"reign of Augustus\", \"Antonine period\", \"Christian Anderson\", \"Christian \",\"Book about Byzantine\", \" Byzantine\",]:\n",
        "  print({datation : extract_period(datation)})"
      ],
      "execution_count": 324,
      "outputs": [
        {
          "output_type": "stream",
          "text": [
            "{'Roman Imperial': {'start': -31, 'stop': 410, 'type': 'range+period', 'era': 'AD', 'source': 'PeriodO', 'notes': nan, 'link': 'http://n2t.net/ark:/99152/p08m57hqcc5'}}\n",
            "{'reign of Augustus': {'start': -27, 'stop': 14, 'type': 'range+period', 'era': 'BC/AD', 'source': 'PeriodO', 'notes': nan, 'link': 'http://n2t.net/ark:/99152/p06c6g3xnmx'}}\n",
            "{'Antonine period': {'start': 96, 'stop': 192, 'type': 'range+period', 'era': 'AD', 'source': 'PeriodO', 'notes': nan, 'link': 'http://n2t.net/ark:/99152/p06c6g34zjk'}}\n",
            "{'Christian Anderson': {'type': 'unknown'}}\n",
            "{'Christian ': {'start': 1, 'stop': 2000, 'type': 'range+period', 'era': 'AD', 'source': 'Vojtech', 'notes': 'alone', 'link': nan}}\n",
            "{'Book about Byzantine': {'type': 'unknown'}}\n",
            "{' Byzantine': {'start': 324, 'stop': 1453, 'type': 'range+period', 'era': 'AD', 'source': 'PeriodO', 'notes': 'alone', 'link': 'http://n2t.net/ark:/99152/p0m63njtm6w'}}\n"
          ],
          "name": "stdout"
        }
      ]
    },
    {
      "cell_type": "markdown",
      "metadata": {
        "colab_type": "text",
        "id": "gqnMB8TXIFKM"
      },
      "source": [
        "# Parse \"/\" for individual dates\n",
        "\n",
        "The \"/\" character is use in several different cases, each of which requires slightly different approach. Here we are parsing cases in which it is used for individual date numbers, e.g. \"114/3 BC\", what is translated as an interval (-114, -113). However, if there is a loger range between the two numbers, the \"/\" character is treated as \"or\" and the alternative date is extracted into the \"or\" key within the dictionary."
      ]
    },
    {
      "cell_type": "code",
      "metadata": {
        "colab_type": "code",
        "id": "1L35w0JIDiGF",
        "colab": {
          "base_uri": "https://localhost:8080/",
          "height": 88
        },
        "outputId": "dcf68e78-ccb8-4a93-d3ee-7aa59ee713f3"
      },
      "source": [
        "ors = PHI[PHI[\"raw_date\"].str.contains(\"(\\d+)(\\/)(\\d+)\")][\"raw_date\"].tolist()\n",
        "len(ors)"
      ],
      "execution_count": 325,
      "outputs": [
        {
          "output_type": "stream",
          "text": [
            "/usr/local/lib/python3.6/dist-packages/pandas/core/strings.py:1954: UserWarning: This pattern has match groups. To actually get the groups, use str.extract.\n",
            "  return func(self, *args, **kwargs)\n"
          ],
          "name": "stderr"
        },
        {
          "output_type": "execute_result",
          "data": {
            "text/plain": [
              "9898"
            ]
          },
          "metadata": {
            "tags": []
          },
          "execution_count": 325
        }
      ]
    },
    {
      "cell_type": "code",
      "metadata": {
        "colab_type": "code",
        "id": "cFYx8Y8bLobP",
        "colab": {
          "base_uri": "https://localhost:8080/",
          "height": 187
        },
        "outputId": "5aec6d11-f055-42fa-f60f-18ad4cabb6e2"
      },
      "source": [
        "# examples of more \"/\" combined with \"-\"\n",
        "[datation for datation in ors if re.search(r'(\\d+)(\\/)(\\d+).?-.?(\\d+)(\\/)(\\d+)', datation)][:10]"
      ],
      "execution_count": 326,
      "outputs": [
        {
          "output_type": "execute_result",
          "data": {
            "text/plain": [
              "['441/0-440/39 a.',\n",
              " '430/29-427/6 a.',\n",
              " '418/7-415/4 a. ',\n",
              " '409/8-407/6 a.',\n",
              " '413/2-405/4 a.',\n",
              " '447/6-433/2 a.',\n",
              " '447/6-433/2 a.',\n",
              " '447/6-433/2 a.',\n",
              " '447/6-433/2 a.',\n",
              " '447/6-433/2 a.']"
            ]
          },
          "metadata": {
            "tags": []
          },
          "execution_count": 326
        }
      ]
    },
    {
      "cell_type": "code",
      "metadata": {
        "colab_type": "code",
        "id": "8GQhbPz_D21t",
        "colab": {
          "base_uri": "https://localhost:8080/",
          "height": 187
        },
        "outputId": "41557941-2d8d-4543-8435-f23b1880c75e"
      },
      "source": [
        "# examples of more \"/\" combined with \" or \"\n",
        "[datation for datation in ors if re.search(r'(\\d+)(\\/)(\\d+)().?(\\sor\\s).?(\\d+)(\\/)(\\d+)', datation)][:10]"
      ],
      "execution_count": 327,
      "outputs": [
        {
          "output_type": "execute_result",
          "data": {
            "text/plain": [
              "['238/9 or 242/3',\n",
              " '238/9 or 242/3',\n",
              " '262/3 or 266/7',\n",
              " '321/0 or 318/7',\n",
              " '175/4 or 172/1',\n",
              " '329/8 or 323/2',\n",
              " '340/39 or 313/2',\n",
              " '180/79 or 179/8 BC',\n",
              " '148/7 or 147/6 BC',\n",
              " '147/6 or 146/5 BC']"
            ]
          },
          "metadata": {
            "tags": []
          },
          "execution_count": 327
        }
      ]
    },
    {
      "cell_type": "code",
      "metadata": {
        "colab_type": "code",
        "id": "LCHbxCIBIFKO",
        "colab": {}
      },
      "source": [
        "def complete_numbers(datation, date1, date2):\n",
        "  # if the second number contains less numerals, try to complete it\n",
        "  len_diff = len(date1) - len(date2)\n",
        "  if len_diff > 0:\n",
        "    date2 = date1[:len_diff] + date2\n",
        "  # transform it into integer\n",
        "  date1 = int(date1)\n",
        "  date2 = int(date2)\n",
        "  if (\"AD\" not in datation) and (date1 > date2):\n",
        "    date1 = date1 * -1\n",
        "    date2 = date2 * -1\n",
        "    #if date1 > date2:\n",
        "       #  date1, date2 = date2, date1\n",
        "  return date1, date2\n",
        "\n",
        "def match_or(datation, dating=None):\n",
        "  if dating==None: dating = {\"type\" : \"unknown\"}\n",
        "  if dating[\"type\"] == \"unknown\":\n",
        "    if (len(re.findall(\"[a-z|A-Z]\", datation)) < 4) or (re.search(\"BC|AD|early|late|beg|end|after|post|before|ante\", datation)):\n",
        "      matches = re.findall(r'(\\d+)(\\/)(\\d+)', str(datation), flags=re.IGNORECASE)\n",
        "      if len(matches) != 0:\n",
        "          date1, date2 = complete_numbers(datation, matches[0][0], matches[0][2])\n",
        "          if len(matches) > 1: # if there is more than one match\n",
        "            date3, date4 = complete_numbers(datation, matches[1][0], matches[1][2])         \n",
        "          #if date1 > date2:\n",
        "          #  date1, date2 = date2, date1\n",
        "          if re.search(r'(\\d+)(\\/)(\\d+)().?(\\sor\\s).?(\\d+)(\\/)(\\d+)', datation):\n",
        "            if abs(date1 - date4) < 5: # if it is something like \"331/0 or 330/29 BC\"\n",
        "              dating.update({\"start\" : date1, \"stop\": date4, \"type\" : \"range\"})\n",
        "            else: # treat the or numbers as an alternative range\n",
        "              dating.update({\"start\" : date1, \"stop\": date2, \"type\" : \"range+or\", \"or\": {\"start\" : date3, \"stop\": date4, \"type\" : \"range\"}})\n",
        "          elif re.search(r'(\\d+)(\\/)(\\d+).?-.?(\\d+)(\\/)(\\d+)', datation):\n",
        "            dating.update({\"start\" : date1, \"stop\": date4, \"type\" : \"range\"})\n",
        "          else:\n",
        "            if abs(date1 - date2) < 3:\n",
        "              dating.update({\"start\" : date1, \"stop\": date2, \"type\" : \"range\"})\n",
        "            else:\n",
        "              dating.update({\"exact\" : date1, \"or\": {\"exact\" : date2, \"type\" : \"exact\"}, \"type\" : \"exact+or\"})\n",
        "          dating = extract_ante_and_post(datation, dating)\n",
        "          return dating\n",
        "          #if dating_update[\"type\"] == \"post\":\n",
        "          #   return {\"start\" : date1, \"or\": {\"start\" : date2, \"type\" : \"post\"}, \"type\" : \"post+or\"}\n",
        "          #elif extract_ante_and_post(datation, dating)[\"type\"] == \"ante\":\n",
        "          #  return {\"stop\" : date1, \"or\": {\"stop\" : date2, \"type\" : \"ante\"}, \"type\" : \"ante+or\"}\n",
        "          #else:\n",
        "          #  return {\"exact\" : date1, \"or\": {\"exact\" : date2, \"type\" : \"exact\"}, \"type\" : \"exact+or\"}\n",
        "      else:\n",
        "        return dating\n",
        "  return {\"type\" : \"unknown\"}"
      ],
      "execution_count": 328,
      "outputs": []
    },
    {
      "cell_type": "code",
      "metadata": {
        "id": "uhsquTQMTjk2",
        "colab_type": "code",
        "colab": {
          "base_uri": "https://localhost:8080/",
          "height": 34
        },
        "outputId": "a48f5a9a-6bfc-48bc-c9d2-900604982822"
      },
      "source": [
        "match_or('ASAA 6/7 (1923/4) 446, 161')"
      ],
      "execution_count": 329,
      "outputs": [
        {
          "output_type": "execute_result",
          "data": {
            "text/plain": [
              "{'type': 'unknown'}"
            ]
          },
          "metadata": {
            "tags": []
          },
          "execution_count": 329
        }
      ]
    },
    {
      "cell_type": "code",
      "metadata": {
        "colab_type": "code",
        "id": "Us522n9frYj6",
        "colab": {
          "base_uri": "https://localhost:8080/",
          "height": 34
        },
        "outputId": "f7e2f012-0402-4595-f452-e264f5727f2e"
      },
      "source": [
        "match_or(\" 12/1 BC\")"
      ],
      "execution_count": 330,
      "outputs": [
        {
          "output_type": "execute_result",
          "data": {
            "text/plain": [
              "{'start': -12, 'stop': -11, 'type': 'range'}"
            ]
          },
          "metadata": {
            "tags": []
          },
          "execution_count": 330
        }
      ]
    },
    {
      "cell_type": "code",
      "metadata": {
        "colab_type": "code",
        "id": "EHQm6j1PAmwH",
        "colab": {
          "base_uri": "https://localhost:8080/",
          "height": 34
        },
        "outputId": "90b3367f-d415-4f58-b24e-895cd5ac8655"
      },
      "source": [
        "match_or(\"229/30 or 230/1\")"
      ],
      "execution_count": 331,
      "outputs": [
        {
          "output_type": "execute_result",
          "data": {
            "text/plain": [
              "{'start': 229, 'stop': 231, 'type': 'range'}"
            ]
          },
          "metadata": {
            "tags": []
          },
          "execution_count": 331
        }
      ]
    },
    {
      "cell_type": "code",
      "metadata": {
        "colab_type": "code",
        "id": "bSTZyAG7OZ27",
        "colab": {
          "base_uri": "https://localhost:8080/",
          "height": 85
        },
        "outputId": "dba497ed-21b9-4236-8775-cd7bc50535e0"
      },
      "source": [
        "match_or(\"27/6 or 17/8\")"
      ],
      "execution_count": 332,
      "outputs": [
        {
          "output_type": "execute_result",
          "data": {
            "text/plain": [
              "{'or': {'start': 17, 'stop': 18, 'type': 'range'},\n",
              " 'start': -27,\n",
              " 'stop': -26,\n",
              " 'type': 'range+or'}"
            ]
          },
          "metadata": {
            "tags": []
          },
          "execution_count": 332
        }
      ]
    },
    {
      "cell_type": "code",
      "metadata": {
        "colab_type": "code",
        "id": "SJqu9B3hPEzi",
        "colab": {
          "base_uri": "https://localhost:8080/",
          "height": 34
        },
        "outputId": "23d75efd-7430-42fe-e3d2-dc92017698f0"
      },
      "source": [
        "match_or(\"14/13 or 13/12 BC\")"
      ],
      "execution_count": 333,
      "outputs": [
        {
          "output_type": "execute_result",
          "data": {
            "text/plain": [
              "{'start': -14, 'stop': -12, 'type': 'range'}"
            ]
          },
          "metadata": {
            "tags": []
          },
          "execution_count": 333
        }
      ]
    },
    {
      "cell_type": "code",
      "metadata": {
        "colab_type": "code",
        "id": "2WSle2OPQwNp",
        "colab": {
          "base_uri": "https://localhost:8080/",
          "height": 34
        },
        "outputId": "74eaa73e-5aec-4b6c-cdb1-afc3e8a996cf"
      },
      "source": [
        "match_or(\"aft. 14/13 or 13/12 BC\")"
      ],
      "execution_count": 334,
      "outputs": [
        {
          "output_type": "execute_result",
          "data": {
            "text/plain": [
              "{'start': -11, 'stop': None, 'type': 'range+post'}"
            ]
          },
          "metadata": {
            "tags": []
          },
          "execution_count": 334
        }
      ]
    },
    {
      "cell_type": "code",
      "metadata": {
        "colab_type": "code",
        "id": "9R-CqfEEOw7M",
        "colab": {
          "base_uri": "https://localhost:8080/",
          "height": 34
        },
        "outputId": "bf6f7e0c-c00f-4ede-d30a-4c8a7d52cc46"
      },
      "source": [
        "match_or(\"139/8-122/1 BC\")"
      ],
      "execution_count": 335,
      "outputs": [
        {
          "output_type": "execute_result",
          "data": {
            "text/plain": [
              "{'start': -139, 'stop': -121, 'type': 'range'}"
            ]
          },
          "metadata": {
            "tags": []
          },
          "execution_count": 335
        }
      ]
    },
    {
      "cell_type": "markdown",
      "metadata": {
        "colab_type": "text",
        "id": "ObqKKNvRInTm"
      },
      "source": [
        "# Parse phase"
      ]
    },
    {
      "cell_type": "code",
      "metadata": {
        "colab_type": "code",
        "id": "TjZtW6x-TG4S",
        "colab": {}
      },
      "source": [
        "# parametrization \n",
        "early_late = 0.25 # i.e. first or last 25% of the range\n",
        "beginning_end = 0.1 # i.e. first or last 25% of the range\n",
        "middle = 0.05 # i.e. 5% left of the middle, 5% right of the middle\n",
        "ca = 0.1 # i.e. plus 10% of the range on the left side and plus 10% on the right side"
      ],
      "execution_count": 336,
      "outputs": []
    },
    {
      "cell_type": "code",
      "metadata": {
        "colab_type": "code",
        "id": "JOdAmuZXJhGZ",
        "colab": {}
      },
      "source": [
        "# application of this function requires that you already have a dating dictionary having either start and stop or an exact date (for \"ca.\")\n",
        "def modify_by_phase(datation, dating):\n",
        "  if (not \"phase\" in dating[\"type\"]) and (not \"morece\" in dating[\"type\"]):\n",
        "    try:\n",
        "      start, stop = dating[\"start\"], dating[\"stop\"]\n",
        "      try: \n",
        "        duration = abs(dating[\"stop\"] - dating[\"start\"])\n",
        "      except:\n",
        "        duration = 1\n",
        "      datation = datation.lower()\n",
        "      if \"firsthalf\" in datation:\n",
        "        dating[\"stop\"] = start + round(duration * 0.5)\n",
        "        dating[\"type\"] = dating[\"type\"] + \"+phase+firsthalf\"\n",
        "      if \"secondhalf\" in datation:\n",
        "        dating[\"start\"] = start + round(duration * 0.5)\n",
        "        dating[\"type\"] = dating[\"type\"] + \"+phase+secondhalf\"\n",
        "      if \"early\" in datation:\n",
        "        coef = early_late\n",
        "        dating[\"stop\"] = start + round(duration * coef)\n",
        "        dating[\"type\"] = dating[\"type\"] + \"+phase+early\"\n",
        "      if \"late\" in datation:\n",
        "        if \"late antiquity\" not in datation:\n",
        "          coef = early_late\n",
        "          dating[\"start\"] = stop - round(duration * coef)\n",
        "          dating[\"type\"] = dating[\"type\"] + \"+phase+late\"\n",
        "      if re.search(\"(init\\.\\s|beginning|beg\\.?\\s)\", datation):\n",
        "        coef = beginning_end\n",
        "        dating[\"stop\"] = start + round(duration * coef)\n",
        "        dating[\"type\"] = dating[\"type\"] + \"+phase+beg\"\n",
        "      if re.search(\"(end\\s|fin.\\s)\", datation):\n",
        "        coef = beginning_end\n",
        "        dating[\"start\"] = stop - round(duration * coef)\n",
        "        dating[\"type\"] = dating[\"type\"] + \"+phase+end\"\n",
        "      if re.search(\"(middle|mid\\.?\\s|med\\.\\s)\", datation):\n",
        "        coef = middle # that means: \"middle 2nd c. AD\" => 140 - 161\n",
        "        dating_avr = (dating[\"start\"] + dating[\"stop\"]) / 2\n",
        "        dating[\"start\"] = round(dating_avr - (coef * duration))\n",
        "        dating[\"stop\"] = round(dating_avr + (coef * duration))\n",
        "        dating[\"type\"] = dating[\"type\"] + \"+phase+middle\"\n",
        "      if re.search(\"ca\\.\\s\", datation):\n",
        "        dating[\"type\"] = dating[\"type\"] + \"+phase+ca\"\n",
        "        if (\"exact\" in dating[\"type\"]) or duration < 10:\n",
        "          dating.update({\"start\" : dating[\"exact\"] - 5, \"stop\" : dating[\"exact\"] + 5})\n",
        "          dating[\"exact\"] = None\n",
        "        else:\n",
        "          dating[\"start\"] = start - round(duration * ca)\n",
        "          dating[\"stop\"] = stop + round(duration * ca)\n",
        "      return dating\n",
        "    except:\n",
        "      return dating\n",
        "  else: \n",
        "    return dating"
      ],
      "execution_count": 337,
      "outputs": []
    },
    {
      "cell_type": "code",
      "metadata": {
        "colab_type": "code",
        "id": "N3e0LnrmB_l0",
        "colab": {
          "base_uri": "https://localhost:8080/",
          "height": 34
        },
        "outputId": "b2945e00-0044-4f1e-caed-bcffa77022c1"
      },
      "source": [
        "# example 0\n",
        "modify_by_phase(\"beg. 5th c. BC\", {\"start\" : -500, \"stop\" : -401, \"type\" : \"range\"})"
      ],
      "execution_count": 338,
      "outputs": [
        {
          "output_type": "execute_result",
          "data": {
            "text/plain": [
              "{'start': -500, 'stop': -490, 'type': 'range+phase+beg'}"
            ]
          },
          "metadata": {
            "tags": []
          },
          "execution_count": 338
        }
      ]
    },
    {
      "cell_type": "code",
      "metadata": {
        "colab_type": "code",
        "id": "zlnUZvAFaAhu",
        "colab": {
          "base_uri": "https://localhost:8080/",
          "height": 34
        },
        "outputId": "415f8d87-a4d2-4dc9-828c-0c5066d22cfd"
      },
      "source": [
        "# example 1: \"ca.\" in case of individual date\n",
        "datation = \"ca. 200 BC\"\n",
        "dating = {\"start\" : None, \"stop\" : None, \"exact\" : -200, \"type\" : \"exact\", \"era\" : \"BC\"}\n",
        "print(modify_by_phase(datation, dating))"
      ],
      "execution_count": 339,
      "outputs": [
        {
          "output_type": "stream",
          "text": [
            "{'start': -205, 'stop': -195, 'exact': None, 'type': 'exact+phase+ca', 'era': 'BC'}\n"
          ],
          "name": "stdout"
        }
      ]
    },
    {
      "cell_type": "code",
      "metadata": {
        "colab_type": "code",
        "id": "A0S-JHUjOIm8",
        "colab": {
          "base_uri": "https://localhost:8080/",
          "height": 34
        },
        "outputId": "5101c34c-ffe3-42c5-d348-dda749f0ab38"
      },
      "source": [
        "#  example 2: \"ca.\" in case of century\n",
        "datation = \"ca. s. II BC\"\n",
        "dating = {\"start\" : -200, \"stop\" : -101, \"type\" : \"range+cent\"}\n",
        "print(modify_by_phase(datation, dating))"
      ],
      "execution_count": 340,
      "outputs": [
        {
          "output_type": "stream",
          "text": [
            "{'start': -210, 'stop': -91, 'type': 'range+cent+phase+ca'}\n"
          ],
          "name": "stdout"
        }
      ]
    },
    {
      "cell_type": "code",
      "metadata": {
        "colab_type": "code",
        "id": "IKELyfP_847o",
        "colab": {
          "base_uri": "https://localhost:8080/",
          "height": 34
        },
        "outputId": "f09aefb4-88e5-41de-a056-63c170c30eff"
      },
      "source": [
        "#  example 3: \"early\"\n",
        "datation = \"early 2nd BC\"\n",
        "dating = {\"start\" : -200, \"stop\" : -101, \"type\" : \"range+cent\"}\n",
        "print(modify_by_phase(datation, dating))"
      ],
      "execution_count": 40,
      "outputs": [
        {
          "output_type": "stream",
          "text": [
            "{'start': -200, 'stop': -175, 'type': 'range+cent+phase+early'}\n"
          ],
          "name": "stdout"
        }
      ]
    },
    {
      "cell_type": "markdown",
      "metadata": {
        "colab_type": "text",
        "id": "Wmnv7TMsCwqz"
      },
      "source": [
        "# Parse centuries"
      ]
    },
    {
      "cell_type": "code",
      "metadata": {
        "colab_type": "code",
        "id": "a4p8-HnxQ0SW",
        "colab": {
          "base_uri": "https://localhost:8080/",
          "height": 328
        },
        "outputId": "32e14b88-971b-45df-8def-1f80a73ae914"
      },
      "source": [
        "# read centuries table from gsheet\n",
        "centuries_df = get_as_dataframe(PHI_overview.worksheet(\"centuries\"))\n",
        "centuries_df.set_index(\"arabic\", inplace=True)\n",
        "centuries_df"
      ],
      "execution_count": 341,
      "outputs": [
        {
          "output_type": "execute_result",
          "data": {
            "text/html": [
              "<div>\n",
              "<style scoped>\n",
              "    .dataframe tbody tr th:only-of-type {\n",
              "        vertical-align: middle;\n",
              "    }\n",
              "\n",
              "    .dataframe tbody tr th {\n",
              "        vertical-align: top;\n",
              "    }\n",
              "\n",
              "    .dataframe thead th {\n",
              "        text-align: right;\n",
              "    }\n",
              "</style>\n",
              "<table border=\"1\" class=\"dataframe\">\n",
              "  <thead>\n",
              "    <tr style=\"text-align: right;\">\n",
              "      <th></th>\n",
              "      <th>roman</th>\n",
              "      <th>start_BC</th>\n",
              "      <th>stop_BC</th>\n",
              "      <th>start_AD</th>\n",
              "      <th>stop_AD</th>\n",
              "    </tr>\n",
              "    <tr>\n",
              "      <th>arabic</th>\n",
              "      <th></th>\n",
              "      <th></th>\n",
              "      <th></th>\n",
              "      <th></th>\n",
              "      <th></th>\n",
              "    </tr>\n",
              "  </thead>\n",
              "  <tbody>\n",
              "    <tr>\n",
              "      <th>8th</th>\n",
              "      <td>VIII</td>\n",
              "      <td>-800</td>\n",
              "      <td>-701</td>\n",
              "      <td>701</td>\n",
              "      <td>800</td>\n",
              "    </tr>\n",
              "    <tr>\n",
              "      <th>7th</th>\n",
              "      <td>VII</td>\n",
              "      <td>-700</td>\n",
              "      <td>-601</td>\n",
              "      <td>601</td>\n",
              "      <td>700</td>\n",
              "    </tr>\n",
              "    <tr>\n",
              "      <th>6th</th>\n",
              "      <td>VI</td>\n",
              "      <td>-600</td>\n",
              "      <td>-501</td>\n",
              "      <td>501</td>\n",
              "      <td>600</td>\n",
              "    </tr>\n",
              "    <tr>\n",
              "      <th>4th</th>\n",
              "      <td>IV</td>\n",
              "      <td>-400</td>\n",
              "      <td>-301</td>\n",
              "      <td>301</td>\n",
              "      <td>400</td>\n",
              "    </tr>\n",
              "    <tr>\n",
              "      <th>5th</th>\n",
              "      <td>V</td>\n",
              "      <td>-500</td>\n",
              "      <td>-401</td>\n",
              "      <td>401</td>\n",
              "      <td>500</td>\n",
              "    </tr>\n",
              "    <tr>\n",
              "      <th>3rd</th>\n",
              "      <td>III</td>\n",
              "      <td>-300</td>\n",
              "      <td>-201</td>\n",
              "      <td>201</td>\n",
              "      <td>300</td>\n",
              "    </tr>\n",
              "    <tr>\n",
              "      <th>2nd</th>\n",
              "      <td>II</td>\n",
              "      <td>-200</td>\n",
              "      <td>-101</td>\n",
              "      <td>101</td>\n",
              "      <td>200</td>\n",
              "    </tr>\n",
              "    <tr>\n",
              "      <th>1st</th>\n",
              "      <td>I</td>\n",
              "      <td>-100</td>\n",
              "      <td>-1</td>\n",
              "      <td>1</td>\n",
              "      <td>100</td>\n",
              "    </tr>\n",
              "  </tbody>\n",
              "</table>\n",
              "</div>"
            ],
            "text/plain": [
              "       roman  start_BC  stop_BC  start_AD  stop_AD\n",
              "arabic                                            \n",
              "8th     VIII      -800     -701       701      800\n",
              "7th      VII      -700     -601       601      700\n",
              "6th       VI      -600     -501       501      600\n",
              "4th       IV      -400     -301       301      400\n",
              "5th        V      -500     -401       401      500\n",
              "3rd      III      -300     -201       201      300\n",
              "2nd       II      -200     -101       101      200\n",
              "1st        I      -100       -1         1      100"
            ]
          },
          "metadata": {
            "tags": []
          },
          "execution_count": 341
        }
      ]
    },
    {
      "cell_type": "code",
      "metadata": {
        "colab_type": "code",
        "id": "Ss7wRjSfhN55",
        "colab": {
          "base_uri": "https://localhost:8080/",
          "height": 34
        },
        "outputId": "27c1734f-9b8a-4de4-fee2-c893840ccd30"
      },
      "source": [
        "arabics = centuries_df.index.tolist()\n",
        "arabics"
      ],
      "execution_count": 342,
      "outputs": [
        {
          "output_type": "execute_result",
          "data": {
            "text/plain": [
              "['8th', '7th', '6th', '4th', '5th', '3rd', '2nd', '1st']"
            ]
          },
          "metadata": {
            "tags": []
          },
          "execution_count": 342
        }
      ]
    },
    {
      "cell_type": "code",
      "metadata": {
        "colab_type": "code",
        "id": "7itHvFW6hWxh",
        "colab": {
          "base_uri": "https://localhost:8080/",
          "height": 34
        },
        "outputId": "d48051e8-1b17-4451-efb1-07bf0b4cc059"
      },
      "source": [
        "centuries_df[\"roman\"].tolist()"
      ],
      "execution_count": 343,
      "outputs": [
        {
          "output_type": "execute_result",
          "data": {
            "text/plain": [
              "['VIII', 'VII', 'VI', 'IV', 'V', 'III', 'II', 'I']"
            ]
          },
          "metadata": {
            "tags": []
          },
          "execution_count": 343
        }
      ]
    },
    {
      "cell_type": "code",
      "metadata": {
        "colab_type": "code",
        "id": "dDw8xTdGg2RG",
        "colab": {
          "base_uri": "https://localhost:8080/",
          "height": 35
        },
        "outputId": "e6ef3f6e-ed88-4da5-d809-dfa5380a0857"
      },
      "source": [
        "# navigating through the dataframe using index and \".loc[]\"\n",
        "centuries_df.loc[\"3rd\"][\"roman\"]"
      ],
      "execution_count": 344,
      "outputs": [
        {
          "output_type": "execute_result",
          "data": {
            "application/vnd.google.colaboratory.intrinsic": {
              "type": "string"
            },
            "text/plain": [
              "'III'"
            ]
          },
          "metadata": {
            "tags": []
          },
          "execution_count": 344
        }
      ]
    },
    {
      "cell_type": "code",
      "metadata": {
        "colab_type": "code",
        "id": "Wj22yZ8srQQZ",
        "colab": {
          "base_uri": "https://localhost:8080/",
          "height": 34
        },
        "outputId": "b992683e-4bb5-4c4a-f05a-418b98b6d4d5"
      },
      "source": [
        "any(re.search(arabic, \"2nd c. AD\") for arabic in arabics)"
      ],
      "execution_count": 345,
      "outputs": [
        {
          "output_type": "execute_result",
          "data": {
            "text/plain": [
              "True"
            ]
          },
          "metadata": {
            "tags": []
          },
          "execution_count": 345
        }
      ]
    },
    {
      "cell_type": "code",
      "metadata": {
        "colab_type": "code",
        "id": "yM6g97A6UA-m",
        "colab": {}
      },
      "source": [
        "def parse_centuries(datation, dating=None):\n",
        "  if dating==None: dating = {\"type\" : \"unknown\"}\n",
        "  if dating[\"type\"] == \"unknown\": \n",
        "    if any(cent for cent in centuries_df[\"roman\"].tolist() if (re.search(\"^\\s?\" + cent + \"($|/)\", datation)) or (re.search(\"(s|c)\\.\", datation))):\n",
        "      for roman, arabic in zip(centuries_df[\"roman\"].tolist(), arabics):\n",
        "          match = re.search(r\"(^|\\s|/)(\" + roman + r\")($|\\s|/)\", datation)\n",
        "          if match:\n",
        "            datation = re.sub(match[2], arabic, datation)\n",
        "    cents = [cent for cent in centuries_df.index.tolist() if re.search(cent, datation)] # we have the centuries mentioned, but not in right order :-)\n",
        "    if len(cents) > 0:\n",
        "      cents_list = re.split(\"-|/|\\sor\\s|\\sand|&|,\", datation)\n",
        "      if len(cents_list) > 1:\n",
        "        try:\n",
        "          century1 = [re.sub(\".*\" + num + \".*\", num, cents_list[0])  for num in arabics if num in cents_list[0]][0]\n",
        "          century2 = [re.sub(\".*\" + num + \".*\", num, cents_list[1])  for num in arabics if num in cents_list[1]][0]\n",
        "          if (\" AD\" in datation) and (\" BC\" not in datation): # if explicit AD and only AD:\n",
        "            start = modify_by_phase(cents_list[0], {\"start\" : centuries_df.loc[century1][\"start_AD\"], \"stop\" : centuries_df.loc[century1][\"stop_AD\"], \"type\" : \"cent\"})[\"start\"]\n",
        "            stop = modify_by_phase(cents_list[1], {\"start\" : centuries_df.loc[century2][\"start_AD\"], \"stop\" : centuries_df.loc[century2][\"stop_AD\"], \"type\" : \"cent\"})[\"stop\"]\n",
        "            era = \"AD\"\n",
        "          elif (\" BC\" in cents_list[0]) and (\" AD\" in cents_list[1]):\n",
        "            start = modify_by_phase(cents_list[0], {\"start\" : centuries_df.loc[century1][\"start_BC\"], \"stop\" : centuries_df.loc[century1][\"stop_BC\"], \"type\" : \"cent\"})[\"start\"]\n",
        "            stop = modify_by_phase(cents_list[1], {\"start\" : centuries_df.loc[century2][\"start_AD\"], \"stop\" : centuries_df.loc[century2][\"stop_AD\"], \"type\" : \"cent\"})[\"stop\"]\n",
        "            era = \"BC/AD\"\n",
        "          else:\n",
        "            start = modify_by_phase(cents_list[0], {\"start\" : centuries_df.loc[century1][\"start_BC\"], \"stop\" : centuries_df.loc[century1][\"stop_BC\"], \"type\" : \"cent\"})[\"start\"]\n",
        "            stop = modify_by_phase(cents_list[1], {\"start\" : centuries_df.loc[century2][\"start_BC\"], \"stop\" : centuries_df.loc[century2][\"stop_BC\"], \"type\" : \"cent\"})[\"stop\"]\n",
        "            era = \"BC\"\n",
        "          dating_update = {\"start\" : start, \"stop\" : stop, \"era\" : era, \"type\" : \"range+cent+morece\"}\n",
        "        except:\n",
        "          try: # try to identify at least the first of them \n",
        "            century = [re.sub(\".*\" + num + \".*\", num, datation)  for num in arabics if num in datation][0]\n",
        "            if \" AD\" in datation: \n",
        "              start = centuries_df.loc[century][\"start_AD\"]\n",
        "              stop = centuries_df.loc[century][\"stop_AD\"]\n",
        "              era = \"AD\"\n",
        "            else:\n",
        "              start = centuries_df.loc[century][\"start_BC\"]\n",
        "              stop = centuries_df.loc[century][\"stop_BC\"]\n",
        "              era = \"BC\"\n",
        "            dating_update = {\"start\" : start, \"stop\" : stop, \"era\" : era, \"type\" : \"range+cent\"}\n",
        "            dating_update = modify_by_phase(datation, dating_update)\n",
        "          except:\n",
        "            dating_update = dating\n",
        "      elif len(cents) == 1:\n",
        "        century = [re.sub(\".*\" + num + \".*\", num, datation)  for num in arabics if num in datation][0]\n",
        "        if \" AD\" in datation: \n",
        "          start = centuries_df.loc[century][\"start_AD\"]\n",
        "          stop = centuries_df.loc[century][\"stop_AD\"]\n",
        "          era = \"AD\"\n",
        "        else:\n",
        "          start = centuries_df.loc[century][\"start_BC\"]\n",
        "          stop = centuries_df.loc[century][\"stop_BC\"]\n",
        "          era = \"BC\"\n",
        "        dating_update = {\"start\" : start, \"stop\" : stop, \"era\" : era, \"type\" : \"range+cent\"}\n",
        "        dating_update = modify_by_phase(datation, dating_update)\n",
        "      else:\n",
        "        dating_update = {\"type\": \"unknown\"}\n",
        "      return dating_update\n",
        "    else:\n",
        "      return dating\n",
        "  else:\n",
        "    return dating"
      ],
      "execution_count": 346,
      "outputs": []
    },
    {
      "cell_type": "code",
      "metadata": {
        "id": "3FYt60aDkz9m",
        "colab_type": "code",
        "colab": {
          "base_uri": "https://localhost:8080/",
          "height": 119
        },
        "outputId": "97411e3e-0d55-4193-9229-ef7b2fd7b9fe"
      },
      "source": [
        "datation = \"1st c. AD (Vidman)\"\n",
        "date_extractor(datation)"
      ],
      "execution_count": 347,
      "outputs": [
        {
          "output_type": "execute_result",
          "data": {
            "text/plain": [
              "{'certainty': None,\n",
              " 'date_tags': ['range', 'cent'],\n",
              " 'link': None,\n",
              " 'not_after': 100,\n",
              " 'not_before': 1,\n",
              " 'or': None}"
            ]
          },
          "metadata": {
            "tags": []
          },
          "execution_count": 347
        }
      ]
    },
    {
      "cell_type": "code",
      "metadata": {
        "colab_type": "code",
        "id": "CNrJGSyyspSQ",
        "colab": {
          "base_uri": "https://localhost:8080/",
          "height": 34
        },
        "outputId": "9a9320fd-58ff-47b0-d1df-709f29f54e8e"
      },
      "source": [
        "# example 1\n",
        "datation = \"III/II\" # \"p.\" and \"a.\" are replaced previously by \"BC\" and \"AD\"\n",
        "parse_centuries(datation)"
      ],
      "execution_count": 348,
      "outputs": [
        {
          "output_type": "execute_result",
          "data": {
            "text/plain": [
              "{'era': 'BC', 'start': -300, 'stop': -101, 'type': 'range+cent+morece'}"
            ]
          },
          "metadata": {
            "tags": []
          },
          "execution_count": 348
        }
      ]
    },
    {
      "cell_type": "code",
      "metadata": {
        "colab_type": "code",
        "id": "jeOU3EtudcYY",
        "colab": {
          "base_uri": "https://localhost:8080/",
          "height": 34
        },
        "outputId": "83181961-b541-46a5-db5c-afc23711bcf3"
      },
      "source": [
        "datation = \"fin. s. III/II\" # \"p.\" and \"a.\" are replaced previously by \"BC\" and \"AD\"\n",
        "parse_centuries(datation)"
      ],
      "execution_count": 349,
      "outputs": [
        {
          "output_type": "execute_result",
          "data": {
            "text/plain": [
              "{'era': 'BC', 'start': -211.0, 'stop': -101, 'type': 'range+cent+morece'}"
            ]
          },
          "metadata": {
            "tags": []
          },
          "execution_count": 349
        }
      ]
    },
    {
      "cell_type": "code",
      "metadata": {
        "colab_type": "code",
        "id": "RZk2RXSdA0sr",
        "colab": {
          "base_uri": "https://localhost:8080/",
          "height": 34
        },
        "outputId": "db8f4077-ca40-4856-8525-90740799b9e4"
      },
      "source": [
        "# example 1\n",
        "datation = \"late 1st c. AD\" # - early 1st c. AD\" # \"p.\" and \"a.\" are replaced previously by \"BC\" and \"AD\"\n",
        "parse_centuries(datation, {\"type\": \"unknown\"})"
      ],
      "execution_count": 350,
      "outputs": [
        {
          "output_type": "execute_result",
          "data": {
            "text/plain": [
              "{'era': 'AD', 'start': 75.0, 'stop': 100, 'type': 'range+cent+phase+late'}"
            ]
          },
          "metadata": {
            "tags": []
          },
          "execution_count": 350
        }
      ]
    },
    {
      "cell_type": "code",
      "metadata": {
        "colab_type": "code",
        "id": "csTDyHPeGCH7",
        "colab": {
          "base_uri": "https://localhost:8080/",
          "height": 34
        },
        "outputId": "f4cea625-301d-4922-992d-68ab0668de0f"
      },
      "source": [
        "# example \n",
        "parse_centuries(\"2nd/3rd c. AD\", {\"era\": \"AD\", \"type\": \"unknown\"})"
      ],
      "execution_count": 351,
      "outputs": [
        {
          "output_type": "execute_result",
          "data": {
            "text/plain": [
              "{'era': 'AD', 'start': 101, 'stop': 300, 'type': 'range+cent+morece'}"
            ]
          },
          "metadata": {
            "tags": []
          },
          "execution_count": 351
        }
      ]
    },
    {
      "cell_type": "code",
      "metadata": {
        "colab_type": "code",
        "id": "o2WfKqkY0JY9",
        "colab": {
          "base_uri": "https://localhost:8080/",
          "height": 34
        },
        "outputId": "2df11ab2-2cb5-4ee7-981d-8037072f581a"
      },
      "source": [
        "# example\n",
        "parse_centuries(\"late 2nd c. BC/beginning 1st c. BC\")"
      ],
      "execution_count": 352,
      "outputs": [
        {
          "output_type": "execute_result",
          "data": {
            "text/plain": [
              "{'era': 'BC', 'start': -126.0, 'stop': -90.0, 'type': 'range+cent+morece'}"
            ]
          },
          "metadata": {
            "tags": []
          },
          "execution_count": 352
        }
      ]
    },
    {
      "cell_type": "markdown",
      "metadata": {
        "colab_type": "text",
        "id": "coHsL_P5f0LX"
      },
      "source": [
        "# Simple dates and ranges\n",
        "This the last function we apply, since it overlooks all potential relevant information and looks for individual dates and straighforward ranges."
      ]
    },
    {
      "cell_type": "code",
      "metadata": {
        "colab_type": "code",
        "id": "eZZt94TWf3jU",
        "colab": {}
      },
      "source": [
        " def simple_dates_and_ranges(datation, dating=None):\n",
        "  if dating==None: dating = {\"type\" : \"unknown\"}\n",
        "  if dating[\"type\"] == \"unknown\":\n",
        "    if \" AD\" in datation:\n",
        "      dating[\"era\"] = \"AD\" \n",
        "      try:\n",
        "        date_both = re.search('(\\d+)(\\-)(\\d+)', datation, flags=re.IGNORECASE).groups()\n",
        "        if any(time_indicator in datation for time_indicator in [\" BC\", \" AD\", \"prob\", \"possi\"]):\n",
        "          date1, date2 = date_both[0], date_both[2]\n",
        "          len_diff = len(date1) - len(date2)\n",
        "          if len_diff > 0:\n",
        "            date2 = date1[:len_diff] + date2\n",
        "          dating.update({\"start\" : int(date1), \"stop\" : int(date2), \"type\" : \"range\"})\n",
        "      except:  \n",
        "        try:\n",
        "          match = re.search('\\d+', datation, flags=re.IGNORECASE)\n",
        "          if any(time_indicator in datation for time_indicator in [\" BC\", \" AD\", \"prob\", \"possi\"]):\n",
        "            dating.update({\"exact\" : int(match[0]), \"type\": \"exact\"})\n",
        "        except:\n",
        "          pass\n",
        "    else:\n",
        "      try:\n",
        "        date_both = re.search('(\\d+)(\\-)(\\d+)', datation, flags=re.IGNORECASE).groups()\n",
        "        #if any(time_indicator in datation for time_indicator in [\" BC\", \" AD\", \"prob\", \"possi\"]):\n",
        "        try:\n",
        "          date1, date2 = date_both[0], date_both[2]\n",
        "          len_diff = len(date1) - len(date2)\n",
        "          if len_diff > 0:\n",
        "            date2 = date1[:len_diff] + date2\n",
        "          date1, date2 = int(date1) * -1, int(date2) * -1\n",
        "          if date1 < date2:\n",
        "            dating.update({\"start\" : date1, \"stop\" : date2, \"type\" : \"range\", \"era\" : \"BC\"})\n",
        "        except:\n",
        "          pass\n",
        "      except:  \n",
        "        match = re.match(\"^\\s?(\\d+)\\s?$\", datation) # if it is just one number and nothing else (single numbers are good) \n",
        "        if match:\n",
        "          dating.update({\"exact\" : int(match[0]) * -1, \"type\": \"exact\"})\n",
        "        else:\n",
        "          if any(time_indicator in datation for time_indicator in [\" BC\", \" AD\", \"prob\", \"possi\"]):\n",
        "            match = re.search('\\d+', datation, flags=re.IGNORECASE)\n",
        "            dating.update({\"exact\" : int(match[0]) * -1, \"type\": \"exact\"})\n",
        "  return dating"
      ],
      "execution_count": 353,
      "outputs": []
    },
    {
      "cell_type": "code",
      "metadata": {
        "id": "JUs_L3PKSshh",
        "colab_type": "code",
        "colab": {
          "base_uri": "https://localhost:8080/",
          "height": 34
        },
        "outputId": "4e6d99b0-93d0-4cc6-c631-df0c16ead845"
      },
      "source": [
        "simple_dates_and_ranges('ASAA 6/7 (1923/4) 446, 161')"
      ],
      "execution_count": 354,
      "outputs": [
        {
          "output_type": "execute_result",
          "data": {
            "text/plain": [
              "{'type': 'unknown'}"
            ]
          },
          "metadata": {
            "tags": []
          },
          "execution_count": 354
        }
      ]
    },
    {
      "cell_type": "code",
      "metadata": {
        "colab_type": "code",
        "id": "OCxUWrYLsFcj",
        "colab": {
          "base_uri": "https://localhost:8080/",
          "height": 34
        },
        "outputId": "cb0ff869-4782-4859-cf84-53f6afd65e64"
      },
      "source": [
        "simple_dates_and_ranges(\"4th or 5th c. AD\", {\"type\": \"century\"})"
      ],
      "execution_count": 355,
      "outputs": [
        {
          "output_type": "execute_result",
          "data": {
            "text/plain": [
              "{'type': 'century'}"
            ]
          },
          "metadata": {
            "tags": []
          },
          "execution_count": 355
        }
      ]
    },
    {
      "cell_type": "code",
      "metadata": {
        "colab_type": "code",
        "id": "1wj_VvPLguGt",
        "colab": {
          "base_uri": "https://localhost:8080/",
          "height": 34
        },
        "outputId": "9d8cfc8b-58d3-4a1e-b7a8-0b79658b1425"
      },
      "source": [
        "simple_dates_and_ranges(\"320 BC\")"
      ],
      "execution_count": 356,
      "outputs": [
        {
          "output_type": "execute_result",
          "data": {
            "text/plain": [
              "{'exact': -320, 'type': 'exact'}"
            ]
          },
          "metadata": {
            "tags": []
          },
          "execution_count": 356
        }
      ]
    },
    {
      "cell_type": "code",
      "metadata": {
        "colab_type": "code",
        "id": "Flr7YFoYgz_H",
        "colab": {
          "base_uri": "https://localhost:8080/",
          "height": 34
        },
        "outputId": "05b99b63-8d34-40ce-eb4a-0b0ddacbff32"
      },
      "source": [
        "simple_dates_and_ranges(\"213 AD\")"
      ],
      "execution_count": 357,
      "outputs": [
        {
          "output_type": "execute_result",
          "data": {
            "text/plain": [
              "{'era': 'AD', 'exact': 213, 'type': 'exact'}"
            ]
          },
          "metadata": {
            "tags": []
          },
          "execution_count": 357
        }
      ]
    },
    {
      "cell_type": "code",
      "metadata": {
        "colab_type": "code",
        "id": "1BW568W-ie7m",
        "colab": {
          "base_uri": "https://localhost:8080/",
          "height": 34
        },
        "outputId": "7dfb9569-ff1d-4f83-a91e-013d38aaafd1"
      },
      "source": [
        "simple_dates_and_ranges(\"213-4 AD\")"
      ],
      "execution_count": 358,
      "outputs": [
        {
          "output_type": "execute_result",
          "data": {
            "text/plain": [
              "{'era': 'AD', 'start': 213, 'stop': 214, 'type': 'range'}"
            ]
          },
          "metadata": {
            "tags": []
          },
          "execution_count": 358
        }
      ]
    },
    {
      "cell_type": "code",
      "metadata": {
        "colab_type": "code",
        "id": "uuQMrNv-g5Fw",
        "colab": {
          "base_uri": "https://localhost:8080/",
          "height": 34
        },
        "outputId": "46af82b0-3653-47ff-c48c-c08af100a0fe"
      },
      "source": [
        "simple_dates_and_ranges(\"124-15 BC\")"
      ],
      "execution_count": 359,
      "outputs": [
        {
          "output_type": "execute_result",
          "data": {
            "text/plain": [
              "{'era': 'BC', 'start': -124, 'stop': -115, 'type': 'range'}"
            ]
          },
          "metadata": {
            "tags": []
          },
          "execution_count": 359
        }
      ]
    },
    {
      "cell_type": "markdown",
      "metadata": {
        "colab_type": "text",
        "id": "2HsBdFeXY_WQ"
      },
      "source": [
        "# Main function"
      ]
    },
    {
      "cell_type": "code",
      "metadata": {
        "colab_type": "code",
        "id": "qkvYnUWhOZW2",
        "colab": {}
      },
      "source": [
        "# function to modify the structure of the data\n",
        "def change_dict_structure(dictionary):\n",
        "  try:\n",
        "    for tup in [[\"not_before\", \"start\"], [\"not_after\", \"stop\"]]:\n",
        "      try: dictionary[tup[0]] = int(dictionary.pop(tup[1]))\n",
        "      except: dictionary[tup[0]] = None\n",
        "    try: dictionary.update({\"not_before\" : int(dictionary[\"exact\"]), \"not_after\" : int(dictionary[\"exact\"])})\n",
        "    except: pass\n",
        "    try: dictionary[\"date_tags\"] = dictionary.pop(\"type\").split(\"+\")\n",
        "    except: dictionary[\"date_tags\"] = \"unknown\"\n",
        "    #for key in dictionary.keys():\n",
        "    #  if key in [\"exact\"]:\n",
        "    #    del dictionary[key]\n",
        "    return dictionary\n",
        "  except: \n",
        "    print(\"some problem\")\n",
        "    pass"
      ],
      "execution_count": 361,
      "outputs": []
    },
    {
      "cell_type": "code",
      "metadata": {
        "colab_type": "code",
        "id": "ro85091cVcB4",
        "colab": {}
      },
      "source": [
        "def date_extractor(datation):\n",
        "  dating = {\"start\": None, \"stop\": None, \"exact\": None, \"or\": None, \"type\": \"unknown\", \"era\": None}\n",
        "  #replace \" a.\" and \" p.\" when at the end of datation or before \"/\" or \"-\"\n",
        "  datation = re.sub(\"(\\s+$|^\\s)\", \"\", datation) # remove spaces at the beginning and end\n",
        "  datation = re.sub(\"(\\s)(a\\.)(\\-|\\/|$)\", r\"\\1BC\\3\", datation)\n",
        "  datation = re.sub(\"(\\s)(p\\.)(\\-|\\/|$)\", r\"\\1AD\\3\", datation)\n",
        "  datation = re.sub(\"^(\\s?c\\.)(\\s\\d+)\", r\"ca.\\2\", datation) # \"c.\" -> \"ca.\" if at the beginning of the string and followed by numbers\n",
        "  datation = re.sub(\"mid-\", \"mid. \", datation)\n",
        "  datation = re.sub(\"1st half\", \"firsthalf\", datation) \n",
        "  datation = re.sub(\"2nd half\", \"secondhalf\", datation) \n",
        "  datation = re.sub(\"\\(II?\\)\", \"\", datation) \n",
        "  datation = re.sub(\"(\\(|\\)|\\[|\\])\", \"\", datation)   # remove brackets\n",
        "  # UNCERTAINTY\n",
        "  if \"?\" in datation:\n",
        "    datation = datation.replace(\"?\", \"\")\n",
        "    dating[\"certainty\"] = \"?\"\n",
        "  #if datation[0] == \"[\":\n",
        "  #  datation = datation[1:-1]\n",
        "  #  dating[\"certainty\"] = \"?\"\n",
        "  # ranges combining BC and AD:\n",
        "  match = re.search(\"(\\d+)(\\s(a\\.|BC))(\\-)(\\d+)(\\s(p\\.|AD))\", datation) # (/sa/.)(/-)(/d+)(/sp/.)\"\n",
        "  if match:\n",
        "    dating.update({\"start\" : int(match.groups()[0]) * -1, \"stop\" : match.groups()[4], \"era\" : \"BC/AD\", \"type\" : \"range\"})\n",
        "  # simple ante quem and postquem\n",
        "  dating.update(extract_ante_and_post(datation, dating))\n",
        "  # PERIODS\n",
        "  dating.update(extract_period(datation, dating))\n",
        "  # CENTURIES\n",
        "  dating.update(parse_centuries(datation, dating))\n",
        "  # \"year/year\"\n",
        "  if dating[\"type\"] == \"unknown\":\n",
        "    dating.update(match_or(datation, dating)) # find all \"/\" instances linked with individual years\n",
        "  # if we still don't know:\n",
        "  dating.update(simple_dates_and_ranges(datation, dating))\n",
        "  # extract phases (e.g. \"early\", \"middle\", \"late\", \"beginning\" etc.)\n",
        "  dating.update(modify_by_phase(datation, dating))\n",
        "  # extract ante quem and post quem for ranges\n",
        "  try:\n",
        "    dating.update(extract_ante_and_post(datation, dating))\n",
        "  except:\n",
        "    pass\n",
        "  if dating[\"type\"]==\"unknown\":\n",
        "    dating.update({\"start\": None, \"stop\": None, \"exact\": None, \"or\": None, \"type\": \"unknown\", \"era\" : None})\n",
        "  dating = change_dict_structure(dating)\n",
        "  if dating[\"or\"] != None:\n",
        "    dating[\"or\"] = change_dict_structure(dating[\"or\"])\n",
        "  del dating[\"exact\"], dating[\"era\"]\n",
        "  for key in [\"certainty\", \"or\", \"link\"]:\n",
        "    try: dating[key] = dating[key]\n",
        "    except: dating[key] = None\n",
        "  return dating"
      ],
      "execution_count": 362,
      "outputs": []
    },
    {
      "cell_type": "code",
      "metadata": {
        "colab_type": "code",
        "id": "Ncy9XuXiOIc0",
        "colab": {
          "base_uri": "https://localhost:8080/",
          "height": 119
        },
        "outputId": "39e65b74-59a8-4178-e9c9-5b5bb6bc7f61"
      },
      "source": [
        "date_extractor(\"med. s. V a.\")"
      ],
      "execution_count": 363,
      "outputs": [
        {
          "output_type": "execute_result",
          "data": {
            "text/plain": [
              "{'certainty': None,\n",
              " 'date_tags': ['range', 'cent', 'phase', 'middle'],\n",
              " 'link': None,\n",
              " 'not_after': -446,\n",
              " 'not_before': -455,\n",
              " 'or': None}"
            ]
          },
          "metadata": {
            "tags": []
          },
          "execution_count": 363
        }
      ]
    },
    {
      "cell_type": "code",
      "metadata": {
        "colab_type": "code",
        "id": "Plgl9rbr0Yg0",
        "colab": {
          "base_uri": "https://localhost:8080/",
          "height": 119
        },
        "outputId": "cc97cc2a-3506-4b4d-b918-1b81344fdd48"
      },
      "source": [
        "datation = \"5th (or 4th?) c. BC\"\n",
        "date_extractor(datation)"
      ],
      "execution_count": 364,
      "outputs": [
        {
          "output_type": "execute_result",
          "data": {
            "text/plain": [
              "{'certainty': '?',\n",
              " 'date_tags': ['range', 'cent', 'morece'],\n",
              " 'link': None,\n",
              " 'not_after': -301,\n",
              " 'not_before': -500,\n",
              " 'or': None}"
            ]
          },
          "metadata": {
            "tags": []
          },
          "execution_count": 364
        }
      ]
    },
    {
      "cell_type": "code",
      "metadata": {
        "colab_type": "code",
        "id": "oLe_I4-3b15m",
        "colab": {
          "base_uri": "https://localhost:8080/",
          "height": 119
        },
        "outputId": "ffcea082-375f-4843-b7d2-da03f13b84cd"
      },
      "source": [
        "date_extractor(\"14/13 or 13/12 BC\") "
      ],
      "execution_count": 365,
      "outputs": [
        {
          "output_type": "execute_result",
          "data": {
            "text/plain": [
              "{'certainty': None,\n",
              " 'date_tags': ['range'],\n",
              " 'link': None,\n",
              " 'not_after': -12,\n",
              " 'not_before': -14,\n",
              " 'or': None}"
            ]
          },
          "metadata": {
            "tags": []
          },
          "execution_count": 365
        }
      ]
    },
    {
      "cell_type": "markdown",
      "metadata": {
        "colab_type": "text",
        "id": "aZcQIZgPKEUA"
      },
      "source": [
        "# Various examples"
      ]
    },
    {
      "cell_type": "code",
      "metadata": {
        "colab_type": "code",
        "id": "gp4xcY9Y06xo",
        "colab": {
          "base_uri": "https://localhost:8080/",
          "height": 119
        },
        "outputId": "f24f8956-b1e8-48f7-d9f7-71f6f3d50c9b"
      },
      "source": [
        "date_extractor(\"after 216/5\") "
      ],
      "execution_count": 296,
      "outputs": [
        {
          "output_type": "execute_result",
          "data": {
            "text/plain": [
              "{'certainty': None,\n",
              " 'date_tags': ['range', 'post'],\n",
              " 'link': None,\n",
              " 'not_after': None,\n",
              " 'not_before': -214,\n",
              " 'or': None}"
            ]
          },
          "metadata": {
            "tags": []
          },
          "execution_count": 296
        }
      ]
    },
    {
      "cell_type": "code",
      "metadata": {
        "colab_type": "code",
        "id": "MbFErKqwJjW7",
        "colab": {
          "base_uri": "https://localhost:8080/",
          "height": 119
        },
        "outputId": "8908ba5c-ffc8-4691-f2a3-9e899dcedd2f"
      },
      "source": [
        "date_extractor(\"c. 145 BC\")"
      ],
      "execution_count": 288,
      "outputs": [
        {
          "output_type": "execute_result",
          "data": {
            "text/plain": [
              "{'certainty': None,\n",
              " 'date_tags': ['exact', 'phase', 'ca'],\n",
              " 'link': None,\n",
              " 'not_after': -140,\n",
              " 'not_before': -150,\n",
              " 'or': None}"
            ]
          },
          "metadata": {
            "tags": []
          },
          "execution_count": 288
        }
      ]
    },
    {
      "cell_type": "code",
      "metadata": {
        "colab_type": "code",
        "id": "zIKQ9sHM0pKj",
        "colab": {
          "base_uri": "https://localhost:8080/",
          "height": 119
        },
        "outputId": "fa52d98b-b09c-49b7-882b-806b8c7c6a68"
      },
      "source": [
        "date_extractor(\"after 14/13 or 13/12 BC\") "
      ],
      "execution_count": 295,
      "outputs": [
        {
          "output_type": "execute_result",
          "data": {
            "text/plain": [
              "{'certainty': None,\n",
              " 'date_tags': ['range', 'post'],\n",
              " 'link': None,\n",
              " 'not_after': None,\n",
              " 'not_before': -11,\n",
              " 'or': None}"
            ]
          },
          "metadata": {
            "tags": []
          },
          "execution_count": 295
        }
      ]
    },
    {
      "cell_type": "code",
      "metadata": {
        "colab_type": "code",
        "id": "Lu_f5sLwJTYB",
        "colab": {
          "base_uri": "https://localhost:8080/",
          "height": 85
        },
        "outputId": "0d475b64-a0f3-407b-e7d4-70d306736bf8"
      },
      "source": [
        "date_extractor(\"s. II/III AD\")"
      ],
      "execution_count": null,
      "outputs": [
        {
          "output_type": "execute_result",
          "data": {
            "text/plain": [
              "{'date_tags': ['range', 'cent', 'morece'],\n",
              " 'not_after': 300,\n",
              " 'not_before': 101,\n",
              " 'or': None}"
            ]
          },
          "metadata": {
            "tags": []
          },
          "execution_count": 634
        }
      ]
    },
    {
      "cell_type": "code",
      "metadata": {
        "colab_type": "code",
        "id": "CUrl5gm5Bmn2",
        "colab": {
          "base_uri": "https://localhost:8080/",
          "height": 119
        },
        "outputId": "63edecea-2fbc-4388-b19f-b8dc3ce6f257"
      },
      "source": [
        "date_extractor(\"fin. s. I a./s. I p.\")"
      ],
      "execution_count": 297,
      "outputs": [
        {
          "output_type": "execute_result",
          "data": {
            "text/plain": [
              "{'certainty': None,\n",
              " 'date_tags': ['range', 'cent', 'morece'],\n",
              " 'link': None,\n",
              " 'not_after': 100,\n",
              " 'not_before': -11,\n",
              " 'or': None}"
            ]
          },
          "metadata": {
            "tags": []
          },
          "execution_count": 297
        }
      ]
    },
    {
      "cell_type": "code",
      "metadata": {
        "colab_type": "code",
        "id": "058aow1mGtes",
        "colab": {
          "base_uri": "https://localhost:8080/",
          "height": 119
        },
        "outputId": "9879b56d-8f22-4e4e-b324-71f818a47bf9"
      },
      "source": [
        "date_extractor(\"2nd-early 3rd c. AD\")"
      ],
      "execution_count": null,
      "outputs": [
        {
          "output_type": "execute_result",
          "data": {
            "text/plain": [
              "{'certainty': None,\n",
              " 'date_tags': ['range', 'cent', 'morece'],\n",
              " 'link': None,\n",
              " 'not_after': 226,\n",
              " 'not_before': 101,\n",
              " 'or': None}"
            ]
          },
          "metadata": {
            "tags": []
          },
          "execution_count": 91
        }
      ]
    },
    {
      "cell_type": "code",
      "metadata": {
        "colab_type": "code",
        "id": "4A9-SIRgt58A",
        "colab": {
          "base_uri": "https://localhost:8080/",
          "height": 119
        },
        "outputId": "3f90d73c-d703-4a21-cc92-3f86053d1209"
      },
      "source": [
        "date_extractor(\"320 BC\")"
      ],
      "execution_count": null,
      "outputs": [
        {
          "output_type": "execute_result",
          "data": {
            "text/plain": [
              "{'certainty': None,\n",
              " 'date_tags': ['exact'],\n",
              " 'link': None,\n",
              " 'not_after': -320,\n",
              " 'not_before': -320,\n",
              " 'or': None}"
            ]
          },
          "metadata": {
            "tags": []
          },
          "execution_count": 92
        }
      ]
    },
    {
      "cell_type": "code",
      "metadata": {
        "colab_type": "code",
        "id": "mACWIOUIt9Lk",
        "colab": {
          "base_uri": "https://localhost:8080/",
          "height": 119
        },
        "outputId": "ddda897d-c8f8-44e9-fee9-5b77f46bba0f"
      },
      "source": [
        "date_extractor(\"post 120 AD\")"
      ],
      "execution_count": null,
      "outputs": [
        {
          "output_type": "execute_result",
          "data": {
            "text/plain": [
              "{'certainty': None,\n",
              " 'date_tags': ['post'],\n",
              " 'link': None,\n",
              " 'not_after': None,\n",
              " 'not_before': 121,\n",
              " 'or': None}"
            ]
          },
          "metadata": {
            "tags": []
          },
          "execution_count": 93
        }
      ]
    },
    {
      "cell_type": "code",
      "metadata": {
        "colab_type": "code",
        "id": "Buy525lpuB3G",
        "colab": {
          "base_uri": "https://localhost:8080/",
          "height": 119
        },
        "outputId": "da77f7a0-c0fb-41a5-c3ac-fda14d240dc5"
      },
      "source": [
        "date_extractor(\"after 4th c. BC\")"
      ],
      "execution_count": null,
      "outputs": [
        {
          "output_type": "execute_result",
          "data": {
            "text/plain": [
              "{'certainty': None,\n",
              " 'date_tags': ['range', 'cent', 'post'],\n",
              " 'link': None,\n",
              " 'not_after': None,\n",
              " 'not_before': -300,\n",
              " 'or': None}"
            ]
          },
          "metadata": {
            "tags": []
          },
          "execution_count": 94
        }
      ]
    },
    {
      "cell_type": "code",
      "metadata": {
        "colab_type": "code",
        "id": "FSBBZNATNuB_",
        "colab": {
          "base_uri": "https://localhost:8080/",
          "height": 173
        },
        "outputId": "ebd8d8df-44f9-4fd5-d29c-90bedbb8ff3f"
      },
      "source": [
        "# testing/example\n",
        "for datation in [\"Byzantine\", \"non ante s. II a.\", \"140/39 BC\", \"Rom. Imp\", \"reign of Augustus\", \"ante 140 BC\", \"late Antonine period\", \"IosPE IV 348\"]:\n",
        "  print(datation, date_extractor(datation))"
      ],
      "execution_count": null,
      "outputs": [
        {
          "output_type": "stream",
          "text": [
            "Byzantine {'or': None, 'source': 'PeriodO', 'notes': 'alone', 'link': 'http://n2t.net/ark:/99152/p0m63njtm6w', 'not_before': 324, 'not_after': 1453, 'date_tags': ['range', 'period'], 'certainty': None}\n",
            "non ante s. II a. {'or': None, 'not_before': -200, 'not_after': None, 'date_tags': ['range', 'cent', 'post'], 'certainty': None, 'link': None}\n",
            "140/39 BC {'or': None, 'not_before': -140, 'not_after': -139, 'date_tags': ['range'], 'certainty': None, 'link': None}\n",
            "Rom. Imp {'or': None, 'source': 'PeriodO', 'notes': nan, 'link': 'http://n2t.net/ark:/99152/p08m57hqcc5', 'not_before': -31, 'not_after': 410, 'date_tags': ['range', 'period'], 'certainty': None}\n",
            "reign of Augustus {'or': None, 'source': 'PeriodO', 'notes': nan, 'link': 'http://n2t.net/ark:/99152/p06c6g3xnmx', 'not_before': -27, 'not_after': 14, 'date_tags': ['range', 'period'], 'certainty': None}\n",
            "ante 140 BC {'or': None, 'not_before': None, 'not_after': -141, 'date_tags': ['ante'], 'certainty': None, 'link': None}\n",
            "late Antonine period {'or': None, 'source': 'PeriodO', 'notes': nan, 'link': 'http://n2t.net/ark:/99152/p06c6g34zjk', 'not_before': 168, 'not_after': 192, 'date_tags': ['range', 'period', 'phase', 'late'], 'certainty': None}\n",
            "IosPE IV 348 {'or': None, 'not_before': None, 'not_after': None, 'date_tags': ['unknown'], 'certainty': None, 'link': None}\n"
          ],
          "name": "stdout"
        }
      ]
    },
    {
      "cell_type": "code",
      "metadata": {
        "colab_type": "code",
        "id": "4pDl1D82cRjk",
        "colab": {
          "base_uri": "https://localhost:8080/",
          "height": 119
        },
        "outputId": "fb51a761-4026-40da-afbf-da7ffc5ea321"
      },
      "source": [
        "datation = \"Nécrop.Myr. 224,5\"\n",
        "date_extractor(datation)"
      ],
      "execution_count": null,
      "outputs": [
        {
          "output_type": "execute_result",
          "data": {
            "text/plain": [
              "{'certainty': None,\n",
              " 'date_tags': ['unknown'],\n",
              " 'link': None,\n",
              " 'not_after': None,\n",
              " 'not_before': None,\n",
              " 'or': None}"
            ]
          },
          "metadata": {
            "tags": []
          },
          "execution_count": 96
        }
      ]
    },
    {
      "cell_type": "code",
      "metadata": {
        "colab_type": "code",
        "id": "9OdIdvCbEOB9",
        "colab": {
          "base_uri": "https://localhost:8080/",
          "height": 119
        },
        "outputId": "86477429-bfd1-4050-e117-4d97adb8b5b5"
      },
      "source": [
        " datation = \" non ante med. s. II p.\"\n",
        " date_extractor(datation)"
      ],
      "execution_count": null,
      "outputs": [
        {
          "output_type": "execute_result",
          "data": {
            "text/plain": [
              "{'certainty': None,\n",
              " 'date_tags': ['range', 'cent', 'phase', 'middle', 'post'],\n",
              " 'link': None,\n",
              " 'not_after': None,\n",
              " 'not_before': 146,\n",
              " 'or': None}"
            ]
          },
          "metadata": {
            "tags": []
          },
          "execution_count": 97
        }
      ]
    },
    {
      "cell_type": "code",
      "metadata": {
        "colab_type": "code",
        "id": "dpHxVljmJeBZ",
        "colab": {
          "base_uri": "https://localhost:8080/",
          "height": 153
        },
        "outputId": "e2f00374-a4d4-4f2a-94f0-090c93a34857"
      },
      "source": [
        "date_extractor(\"not bef. the Antonine period\")"
      ],
      "execution_count": null,
      "outputs": [
        {
          "output_type": "execute_result",
          "data": {
            "text/plain": [
              "{'certainty': None,\n",
              " 'date_tags': ['range', 'period', 'post'],\n",
              " 'link': 'http://n2t.net/ark:/99152/p06c6g34zjk',\n",
              " 'not_after': None,\n",
              " 'not_before': 96,\n",
              " 'notes': nan,\n",
              " 'or': None,\n",
              " 'source': 'PeriodO'}"
            ]
          },
          "metadata": {
            "tags": []
          },
          "execution_count": 98
        }
      ]
    },
    {
      "cell_type": "code",
      "metadata": {
        "colab_type": "code",
        "id": "FQck_F8xWCqy",
        "colab": {
          "base_uri": "https://localhost:8080/",
          "height": 119
        },
        "outputId": "f91daf3a-9d63-4852-a0d5-2ee5c9814f74"
      },
      "source": [
        "date_extractor(\"1st BC/1st AD\")"
      ],
      "execution_count": null,
      "outputs": [
        {
          "output_type": "execute_result",
          "data": {
            "text/plain": [
              "{'certainty': None,\n",
              " 'date_tags': ['range', 'cent', 'morece'],\n",
              " 'link': None,\n",
              " 'not_after': 100,\n",
              " 'not_before': -100,\n",
              " 'or': None}"
            ]
          },
          "metadata": {
            "tags": []
          },
          "execution_count": 99
        }
      ]
    },
    {
      "cell_type": "code",
      "metadata": {
        "colab_type": "code",
        "id": "QAmgMGeyLTdY",
        "colab": {
          "base_uri": "https://localhost:8080/",
          "height": 119
        },
        "outputId": "7258c85a-1a6c-4eac-9c5f-23a2e59b4c9d"
      },
      "source": [
        "date_extractor(\"Newton, Disc. II 742-43:91\")"
      ],
      "execution_count": null,
      "outputs": [
        {
          "output_type": "execute_result",
          "data": {
            "text/plain": [
              "{'certainty': None,\n",
              " 'date_tags': ['unknown'],\n",
              " 'link': None,\n",
              " 'not_after': None,\n",
              " 'not_before': None,\n",
              " 'or': None}"
            ]
          },
          "metadata": {
            "tags": []
          },
          "execution_count": 100
        }
      ]
    },
    {
      "cell_type": "code",
      "metadata": {
        "colab_type": "code",
        "id": "2ApLYR1QEvCP",
        "colab": {
          "base_uri": "https://localhost:8080/",
          "height": 34
        },
        "outputId": "c63da8d4-93be-406e-f6ef-d0432c4f3f52"
      },
      "source": [
        "datation = \"27 a.-14 p.\"\n",
        "match = re.search(\"(\\d+)(\\s(a\\.|BP))(\\-)(\\d+)(\\s(p\\.|AD))\", datation) # (/sa/.)(/-)(/d+)(/sp/.)\"\n",
        "if match:\n",
        "  dating = {\"start\" : int(match.groups()[0]) * -1, \"stop\" : match.groups()[4], \"era\" : \"BC/AD\", \"type\" : \"range\"}\n",
        "dating"
      ],
      "execution_count": null,
      "outputs": [
        {
          "output_type": "execute_result",
          "data": {
            "text/plain": [
              "{'era': 'BC/AD', 'start': -27, 'stop': '14', 'type': 'range'}"
            ]
          },
          "metadata": {
            "tags": []
          },
          "execution_count": 101
        }
      ]
    },
    {
      "cell_type": "markdown",
      "metadata": {
        "colab_type": "text",
        "id": "-K4kl6vEWD8t"
      },
      "source": [
        "# Testing with sample 1 (by 500)"
      ]
    },
    {
      "cell_type": "code",
      "metadata": {
        "colab_type": "code",
        "id": "_GoGsIUwuT9I",
        "colab": {
          "base_uri": "https://localhost:8080/",
          "height": 1000
        },
        "outputId": "31b019c7-74be-4cfa-b5f3-fcfbdeacf854"
      },
      "source": [
        "test_list = PHI_by_500[\"raw_date\"].tolist()\n",
        "for datation in test_list:\n",
        "  print(datation, date_extractor(datation))"
      ],
      "execution_count": 300,
      "outputs": [
        {
          "output_type": "stream",
          "text": [
            "c. 510-500 a.  {'or': None, 'not_before': -511, 'not_after': -499, 'date_tags': ['range', 'phase', 'ca'], 'certainty': None, 'link': None}\n",
            "s. V a. {'or': None, 'not_before': -500, 'not_after': -401, 'date_tags': ['range', 'cent'], 'certainty': None, 'link': None}\n",
            "c. 440? a.  {'or': None, 'certainty': '?', 'not_before': -445, 'not_after': -435, 'date_tags': ['exact', 'phase', 'ca'], 'link': None}\n",
            "c. 420-410? a.  {'or': None, 'certainty': '?', 'not_before': -421, 'not_after': -409, 'date_tags': ['range', 'phase', 'ca'], 'link': None}\n",
            "ante 336/5 {'or': None, 'not_before': None, 'not_after': -337, 'date_tags': ['range', 'ante'], 'certainty': None, 'link': None}\n",
            "204/3? {'or': None, 'certainty': '?', 'not_before': -204, 'not_after': -203, 'date_tags': ['range'], 'link': None}\n",
            "med. s. III a. {'or': None, 'not_before': -255, 'not_after': -246, 'date_tags': ['range', 'cent', 'phase', 'middle'], 'certainty': None, 'link': None}\n",
            "post med. s. II p.  {'or': None, 'not_before': 156, 'not_after': None, 'date_tags': ['range', 'cent', 'phase', 'middle', 'post'], 'certainty': None, 'link': None}\n",
            "[s. II/III p.] {'or': None, 'not_before': -200, 'not_after': -201, 'date_tags': ['range', 'cent', 'morece'], 'certainty': None, 'link': None}\n",
            "Att. {'or': None, 'not_before': None, 'not_after': None, 'date_tags': ['unknown'], 'certainty': None, 'link': None}\n",
            "27 a.-14 p. {'or': None, 'not_before': -27, 'not_after': 14, 'date_tags': ['range'], 'certainty': None, 'link': None}\n",
            "Att. {'or': None, 'not_before': None, 'not_after': None, 'date_tags': ['unknown'], 'certainty': None, 'link': None}\n",
            "fin. s. II p. {'or': None, 'not_before': 190, 'not_after': 200, 'date_tags': ['range', 'cent', 'phase', 'end'], 'certainty': None, 'link': None}\n",
            "ante med. s. I a. {'or': None, 'not_before': None, 'not_after': -56, 'date_tags': ['range', 'cent', 'phase', 'middle', 'ante'], 'certainty': None, 'link': None}\n",
            "non ante med. s. II p. {'or': None, 'not_before': 146, 'not_after': None, 'date_tags': ['range', 'cent', 'phase', 'middle', 'post'], 'certainty': None, 'link': None}\n",
            "med. s. IV a. {'or': None, 'not_before': -355, 'not_after': -346, 'date_tags': ['range', 'cent', 'phase', 'middle'], 'certainty': None, 'link': None}\n",
            "s. II a. {'or': None, 'not_before': -200, 'not_after': -101, 'date_tags': ['range', 'cent'], 'certainty': None, 'link': None}\n",
            "med. s. IV a. {'or': None, 'not_before': -355, 'not_after': -346, 'date_tags': ['range', 'cent', 'phase', 'middle'], 'certainty': None, 'link': None}\n",
            "aet. Rom. {'or': None, 'source': nan, 'notes': nan, 'link': nan, 'not_before': -146, 'not_after': 324, 'date_tags': ['range', 'period'], 'certainty': None}\n",
            "aet. imp. {'or': None, 'source': 'PeriodO', 'notes': nan, 'link': 'http://n2t.net/ark:/99152/p08m57hqcc5', 'not_before': -31, 'not_after': 410, 'date_tags': ['range', 'period'], 'certainty': None}\n",
            "s. I a. {'or': None, 'not_before': -100, 'not_after': -1, 'date_tags': ['range', 'cent'], 'certainty': None, 'link': None}\n",
            "s. I a. {'or': None, 'not_before': -100, 'not_after': -1, 'date_tags': ['range', 'cent'], 'certainty': None, 'link': None}\n",
            "aet. Rom. {'or': None, 'source': nan, 'notes': nan, 'link': nan, 'not_before': -146, 'not_after': 324, 'date_tags': ['range', 'period'], 'certainty': None}\n",
            "s. I p. {'or': None, 'not_before': 1, 'not_after': 100, 'date_tags': ['range', 'cent'], 'certainty': None, 'link': None}\n",
            "post med. s. IV {'or': None, 'not_before': -345, 'not_after': None, 'date_tags': ['range', 'cent', 'phase', 'middle', 'post'], 'certainty': None, 'link': None}\n",
            "s. I/II p.  {'or': None, 'not_before': 1, 'not_after': 200, 'date_tags': ['range', 'cent', 'morece'], 'certainty': None, 'link': None}\n",
            "s. III a. {'or': None, 'not_before': -300, 'not_after': -201, 'date_tags': ['range', 'cent'], 'certainty': None, 'link': None}\n",
            "s. II p. {'or': None, 'not_before': 101, 'not_after': 200, 'date_tags': ['range', 'cent'], 'certainty': None, 'link': None}\n",
            "s. IV a. {'or': None, 'not_before': -400, 'not_after': -301, 'date_tags': ['range', 'cent'], 'certainty': None, 'link': None}\n",
            "ante med. s. IV a. {'or': None, 'not_before': None, 'not_after': -356, 'date_tags': ['range', 'cent', 'phase', 'middle', 'ante'], 'certainty': None, 'link': None}\n",
            "med. s. IV a. {'or': None, 'not_before': -355, 'not_after': -346, 'date_tags': ['range', 'cent', 'phase', 'middle'], 'certainty': None, 'link': None}\n",
            "Aigina {'or': None, 'not_before': None, 'not_after': None, 'date_tags': ['unknown'], 'certainty': None, 'link': None}\n",
            "Nemea {'or': None, 'not_before': None, 'not_after': None, 'date_tags': ['unknown'], 'certainty': None, 'link': None}\n",
            "after 228 BC {'or': None, 'not_before': -227, 'not_after': None, 'date_tags': ['post'], 'certainty': None, 'link': None}\n",
            "1st/2nd c. AD {'or': None, 'not_before': 1, 'not_after': 200, 'date_tags': ['range', 'cent', 'morece'], 'certainty': None, 'link': None}\n",
            "early 2nd c. AD {'or': None, 'not_before': 101, 'not_after': 126, 'date_tags': ['range', 'cent', 'phase', 'early'], 'certainty': None, 'link': None}\n",
            "Sparta {'or': None, 'not_before': None, 'not_after': None, 'date_tags': ['unknown'], 'certainty': None, 'link': None}\n",
            "fanum Apollinis Hyperteleatae {'or': None, 'not_before': None, 'not_after': None, 'date_tags': ['unknown'], 'certainty': None, 'link': None}\n",
            "Messene {'or': None, 'not_before': None, 'not_after': None, 'date_tags': ['unknown'], 'certainty': None, 'link': None}\n",
            "3rd c. BC {'or': None, 'not_before': -300, 'not_after': -201, 'date_tags': ['range', 'cent'], 'certainty': None, 'link': None}\n",
            "Bulis {'or': None, 'not_before': None, 'not_after': None, 'date_tags': ['unknown'], 'certainty': None, 'link': None}\n",
            "1st c. BC {'or': None, 'not_before': -100, 'not_after': -1, 'date_tags': ['range', 'cent'], 'certainty': None, 'link': None}\n",
            "Aperantia {'or': None, 'not_before': None, 'not_after': None, 'date_tags': ['unknown'], 'certainty': None, 'link': None}\n",
            "ca. 163/2 BC {'or': None, 'not_before': -163, 'not_after': -162, 'date_tags': ['range', 'phase', 'ca'], 'certainty': None, 'link': None}\n",
            "350-300 BC {'or': None, 'not_before': -350, 'not_after': -300, 'date_tags': ['range'], 'certainty': None, 'link': None}\n",
            "ca. 300-250 BC {'or': None, 'not_before': -305, 'not_after': -245, 'date_tags': ['range', 'phase', 'ca'], 'certainty': None, 'link': None}\n",
            "beg. 2nd c. BC {'or': None, 'not_before': -200, 'not_after': -190, 'date_tags': ['range', 'cent', 'phase', 'beg'], 'certainty': None, 'link': None}\n",
            "120-63 BC {'or': None, 'not_before': None, 'not_after': None, 'date_tags': ['unknown'], 'certainty': None, 'link': None}\n",
            "116/5 BC {'or': None, 'not_before': -116, 'not_after': -115, 'date_tags': ['range'], 'certainty': None, 'link': None}\n",
            "Delos {'or': None, 'not_before': None, 'not_after': None, 'date_tags': ['unknown'], 'certainty': None, 'link': None}\n",
            "Mytilene {'or': None, 'not_before': None, 'not_after': None, 'date_tags': ['unknown'], 'certainty': None, 'link': None}\n",
            "2nd c. BC?  {'or': None, 'certainty': '?', 'not_before': -200, 'not_after': -101, 'date_tags': ['range', 'cent'], 'link': None}\n",
            "117-138 AD {'or': None, 'not_before': 117, 'not_after': 138, 'date_tags': ['range'], 'certainty': None, 'link': None}\n",
            "Thera {'or': None, 'not_before': None, 'not_after': None, 'date_tags': ['unknown'], 'certainty': None, 'link': None}\n",
            "Thera {'or': None, 'not_before': None, 'not_after': None, 'date_tags': ['unknown'], 'certainty': None, 'link': None}\n",
            "Paros {'or': None, 'not_before': None, 'not_after': None, 'date_tags': ['unknown'], 'certainty': None, 'link': None}\n",
            "Ta Grammata {'or': None, 'not_before': None, 'not_after': None, 'date_tags': ['unknown'], 'certainty': None, 'link': None}\n",
            "Paros {'or': None, 'not_before': None, 'not_after': None, 'date_tags': ['unknown'], 'certainty': None, 'link': None}\n",
            "Minoa {'or': None, 'not_before': None, 'not_after': None, 'date_tags': ['unknown'], 'certainty': None, 'link': None}\n",
            "Thasos {'or': None, 'not_before': None, 'not_after': None, 'date_tags': ['unknown'], 'certainty': None, 'link': None}\n",
            "4th c. BC {'or': None, 'not_before': -400, 'not_after': -301, 'date_tags': ['range', 'cent'], 'certainty': None, 'link': None}\n",
            "5th c. BC {'or': None, 'not_before': -500, 'not_after': -401, 'date_tags': ['range', 'cent'], 'certainty': None, 'link': None}\n",
            "Eretria {'or': None, 'not_before': None, 'not_after': None, 'date_tags': ['unknown'], 'certainty': None, 'link': None}\n",
            "1st/2nd c. AD {'or': None, 'not_before': 1, 'not_after': 200, 'date_tags': ['range', 'cent', 'morece'], 'certainty': None, 'link': None}\n",
            "3rd/2nd c. BC {'or': None, 'not_before': -300, 'not_after': -101, 'date_tags': ['range', 'cent', 'morece'], 'certainty': None, 'link': None}\n",
            "2nd c. AD  {'or': None, 'not_before': 101, 'not_after': 200, 'date_tags': ['range', 'cent'], 'certainty': None, 'link': None}\n",
            "2nd/3rd c. AD {'or': None, 'not_before': 101, 'not_after': 300, 'date_tags': ['range', 'cent', 'morece'], 'certainty': None, 'link': None}\n",
            "2nd/3rd c. AD  {'or': None, 'not_before': 101, 'not_after': 300, 'date_tags': ['range', 'cent', 'morece'], 'certainty': None, 'link': None}\n",
            "undated {'or': None, 'not_before': None, 'not_after': None, 'date_tags': ['unknown'], 'certainty': None, 'link': None}\n",
            "3rd c. BC {'or': None, 'not_before': -300, 'not_after': -201, 'date_tags': ['range', 'cent'], 'certainty': None, 'link': None}\n",
            "undated {'or': None, 'not_before': None, 'not_after': None, 'date_tags': ['unknown'], 'certainty': None, 'link': None}\n",
            "Christian {'or': None, 'not_before': None, 'not_after': None, 'date_tags': ['unknown'], 'certainty': None, 'link': None}\n",
            "undated {'or': None, 'not_before': None, 'not_after': None, 'date_tags': ['unknown'], 'certainty': None, 'link': None}\n",
            "undated {'or': None, 'not_before': None, 'not_after': None, 'date_tags': ['unknown'], 'certainty': None, 'link': None}\n",
            "Taras-Tarentum: Montedoro {'or': None, 'not_before': None, 'not_after': None, 'date_tags': ['unknown'], 'certainty': None, 'link': None}\n",
            "p. 706, Add. et Corr. {'or': None, 'not_before': None, 'not_after': None, 'date_tags': ['unknown'], 'certainty': None, 'link': None}\n",
            "undated {'or': None, 'not_before': None, 'not_after': None, 'date_tags': ['unknown'], 'certainty': None, 'link': None}\n",
            "not bef. the Antonine period {'or': None, 'source': 'PeriodO', 'notes': nan, 'link': 'http://n2t.net/ark:/99152/p06c6g34zjk', 'not_before': 96, 'not_after': None, 'date_tags': ['range', 'period', 'post'], 'certainty': None}\n",
            "after mid. 3rd c. BC {'or': None, 'not_before': -245, 'not_after': None, 'date_tags': ['range', 'cent', 'phase', 'middle', 'post'], 'certainty': None, 'link': None}\n",
            "undated {'or': None, 'not_before': None, 'not_after': None, 'date_tags': ['unknown'], 'certainty': None, 'link': None}\n",
            "undated {'or': None, 'not_before': None, 'not_after': None, 'date_tags': ['unknown'], 'certainty': None, 'link': None}\n",
            "undated {'or': None, 'not_before': None, 'not_after': None, 'date_tags': ['unknown'], 'certainty': None, 'link': None}\n",
            "198-210 AD {'or': None, 'not_before': 198, 'not_after': 210, 'date_tags': ['range'], 'certainty': None, 'link': None}\n",
            "undated {'or': None, 'not_before': None, 'not_after': None, 'date_tags': ['unknown'], 'certainty': None, 'link': None}\n",
            "undated {'or': None, 'not_before': None, 'not_after': None, 'date_tags': ['unknown'], 'certainty': None, 'link': None}\n",
            "undated {'or': None, 'not_before': None, 'not_after': None, 'date_tags': ['unknown'], 'certainty': None, 'link': None}\n",
            "undated {'or': None, 'not_before': None, 'not_after': None, 'date_tags': ['unknown'], 'certainty': None, 'link': None}\n",
            "cf. Corrigenda p. XV {'or': None, 'not_before': None, 'not_after': None, 'date_tags': ['unknown'], 'certainty': None, 'link': None}\n",
            "Gonnoi II 118 {'or': None, 'not_before': None, 'not_after': None, 'date_tags': ['unknown'], 'certainty': None, 'link': None}\n",
            "ca. 100-150 AD  {'or': None, 'not_before': 95, 'not_after': 155, 'date_tags': ['range', 'phase', 'ca'], 'certainty': None, 'link': None}\n",
            "1st c. BC  {'or': None, 'not_before': -100, 'not_after': -1, 'date_tags': ['range', 'cent'], 'certainty': None, 'link': None}\n",
            "undated {'or': None, 'not_before': None, 'not_after': None, 'date_tags': ['unknown'], 'certainty': None, 'link': None}\n",
            "Skepseis kai Entyposeis (1962) 92 {'or': None, 'not_before': None, 'not_after': None, 'date_tags': ['unknown'], 'certainty': None, 'link': None}\n",
            "5th c. AD {'or': None, 'not_before': 401, 'not_after': 500, 'date_tags': ['range', 'cent'], 'certainty': None, 'link': None}\n",
            "2nd/3rd c. AD  {'or': None, 'not_before': 101, 'not_after': 300, 'date_tags': ['range', 'cent', 'morece'], 'certainty': None, 'link': None}\n",
            "shortly after 208/7 BC (or 207/6)  {'or': None, 'not_before': None, 'not_after': None, 'date_tags': ['unknown', 'shortly'], 'certainty': None, 'link': None}\n",
            "Saatsoglou-Paliadele, Epitaphia mnemeia (1984) 237, 61 {'or': None, 'not_before': None, 'not_after': None, 'date_tags': ['unknown'], 'certainty': None, 'link': None}\n",
            "ca. 100-250 AD  {'or': None, 'not_before': 85, 'not_after': 265, 'date_tags': ['range', 'phase', 'ca'], 'certainty': None, 'link': None}\n",
            "undated {'or': None, 'not_before': None, 'not_after': None, 'date_tags': ['unknown'], 'certainty': None, 'link': None}\n",
            "2nd/3rd c. AD  {'or': None, 'not_before': 101, 'not_after': 300, 'date_tags': ['range', 'cent', 'morece'], 'certainty': None, 'link': None}\n",
            "Odessus (Varna) {'or': None, 'not_before': None, 'not_after': None, 'date_tags': ['unknown'], 'certainty': None, 'link': None}\n",
            "4th c. BC  {'or': None, 'not_before': -400, 'not_after': -301, 'date_tags': ['range', 'cent'], 'certainty': None, 'link': None}\n",
            "Philippopolis (Plovdiv) {'or': None, 'not_before': None, 'not_after': None, 'date_tags': ['unknown'], 'certainty': None, 'link': None}\n",
            "SEG 3.515 {'or': None, 'not_before': None, 'not_after': None, 'date_tags': ['unknown'], 'certainty': None, 'link': None}\n",
            "155 AD  {'or': None, 'not_before': 155, 'not_after': 155, 'date_tags': ['exact'], 'certainty': None, 'link': None}\n",
            "SEG 30.841 {'or': None, 'not_before': None, 'not_after': None, 'date_tags': ['unknown'], 'certainty': None, 'link': None}\n",
            "Rom. Imp. period? (Fır.)  {'or': None, 'certainty': '?', 'source': 'PeriodO', 'notes': nan, 'link': 'http://n2t.net/ark:/99152/p08m57hqcc5', 'not_before': -31, 'not_after': 410, 'date_tags': ['range', 'period']}\n",
            "ca. 180-150 BC  {'or': None, 'not_before': -183, 'not_after': -147, 'date_tags': ['range', 'phase', 'ca'], 'certainty': None, 'link': None}\n",
            "5th/6th c. AD {'or': None, 'not_before': 401, 'not_after': 600, 'date_tags': ['range', 'cent', 'morece'], 'certainty': None, 'link': None}\n",
            "177 AD {'or': None, 'not_before': 177, 'not_after': 177, 'date_tags': ['exact'], 'certainty': None, 'link': None}\n",
            "2nd c. AD  {'or': None, 'not_before': 101, 'not_after': 200, 'date_tags': ['range', 'cent'], 'certainty': None, 'link': None}\n",
            "reign of Ant. Pius  {'or': None, 'source': 'PeriodO', 'notes': nan, 'link': 'http://n2t.net/ark:/99152/p06c6g3drk4', 'not_before': 138, 'not_after': 161, 'date_tags': ['range', 'period'], 'certainty': None}\n",
            "undated {'or': None, 'not_before': None, 'not_after': None, 'date_tags': ['unknown'], 'certainty': None, 'link': None}\n",
            "CIL 3.8188 {'or': None, 'not_before': None, 'not_after': None, 'date_tags': ['unknown'], 'certainty': None, 'link': None}\n",
            "IG XIV 2393,75 {'or': None, 'not_before': None, 'not_after': None, 'date_tags': ['unknown'], 'certainty': None, 'link': None}\n",
            "5th c. AD  {'or': None, 'not_before': 401, 'not_after': 500, 'date_tags': ['range', 'cent'], 'certainty': None, 'link': None}\n",
            "3rd/4th c. AD?  {'or': None, 'certainty': '?', 'not_before': 201, 'not_after': 400, 'date_tags': ['range', 'cent', 'morece'], 'link': None}\n",
            "Byzantine {'or': None, 'source': 'PeriodO', 'notes': 'alone', 'link': 'http://n2t.net/ark:/99152/p0m63njtm6w', 'not_before': 324, 'not_after': 1453, 'date_tags': ['range', 'period'], 'certainty': None}\n",
            "267-668 AD {'or': None, 'not_before': 267, 'not_after': 668, 'date_tags': ['range'], 'certainty': None, 'link': None}\n",
            "335-322 BC {'or': None, 'not_before': -335, 'not_after': -322, 'date_tags': ['range'], 'certainty': None, 'link': None}\n",
            "3rd c. AD  {'or': None, 'not_before': 201, 'not_after': 300, 'date_tags': ['range', 'cent'], 'certainty': None, 'link': None}\n",
            "2nd c. AD  {'or': None, 'not_before': 101, 'not_after': 200, 'date_tags': ['range', 'cent'], 'certainty': None, 'link': None}\n",
            "undated {'or': None, 'not_before': None, 'not_after': None, 'date_tags': ['unknown'], 'certainty': None, 'link': None}\n",
            "1st c. BC  {'or': None, 'not_before': -100, 'not_after': -1, 'date_tags': ['range', 'cent'], 'certainty': None, 'link': None}\n",
            "Roman period?  {'or': None, 'certainty': '?', 'source': nan, 'notes': nan, 'link': nan, 'not_before': -146, 'not_after': 324, 'date_tags': ['range', 'period']}\n",
            "155 AD  {'or': None, 'not_before': 155, 'not_after': 155, 'date_tags': ['exact'], 'certainty': None, 'link': None}\n",
            "IosPE IV 60 {'or': None, 'not_before': None, 'not_after': None, 'date_tags': ['unknown'], 'certainty': None, 'link': None}\n",
            "ca. 2nd c. BC {'or': None, 'not_before': -210, 'not_after': -91, 'date_tags': ['range', 'cent', 'phase', 'ca'], 'certainty': None, 'link': None}\n",
            "ca. 120 AD {'or': None, 'not_before': 115, 'not_after': 125, 'date_tags': ['exact', 'phase', 'ca'], 'certainty': None, 'link': None}\n",
            "2nd c. BC  {'or': None, 'not_before': -200, 'not_after': -101, 'date_tags': ['range', 'cent'], 'certainty': None, 'link': None}\n",
            "undated {'or': None, 'not_before': None, 'not_after': None, 'date_tags': ['unknown'], 'certainty': None, 'link': None}\n",
            "4th c. BC {'or': None, 'not_before': -400, 'not_after': -301, 'date_tags': ['range', 'cent'], 'certainty': None, 'link': None}\n",
            "46-44 BC {'or': None, 'not_before': -46, 'not_after': -44, 'date_tags': ['range'], 'certainty': None, 'link': None}\n",
            "IG XIV 1412 {'or': None, 'not_before': None, 'not_after': None, 'date_tags': ['unknown'], 'certainty': None, 'link': None}\n",
            "cf. IGUR IV, p. 162, 862 {'or': None, 'not_before': None, 'not_after': None, 'date_tags': ['unknown'], 'certainty': None, 'link': None}\n",
            "GVI 184 {'or': None, 'not_before': None, 'not_after': None, 'date_tags': ['unknown'], 'certainty': None, 'link': None}\n",
            "3rd c. AD  {'or': None, 'not_before': 201, 'not_after': 300, 'date_tags': ['range', 'cent'], 'certainty': None, 'link': None}\n",
            "undated {'or': None, 'not_before': None, 'not_after': None, 'date_tags': ['unknown'], 'certainty': None, 'link': None}\n",
            "95 BC {'or': None, 'not_before': -95, 'not_after': -95, 'date_tags': ['exact'], 'certainty': None, 'link': None}\n",
            "undated {'or': None, 'not_before': None, 'not_after': None, 'date_tags': ['unknown'], 'certainty': None, 'link': None}\n",
            "ca. 220-210 BC?  {'or': None, 'certainty': '?', 'not_before': -221, 'not_after': -209, 'date_tags': ['range', 'phase', 'ca'], 'link': None}\n",
            "undated {'or': None, 'not_before': None, 'not_after': None, 'date_tags': ['unknown'], 'certainty': None, 'link': None}\n",
            "AD 42 B2 (1987) 601 {'or': None, 'not_before': None, 'not_after': None, 'date_tags': ['unknown'], 'certainty': None, 'link': None}\n",
            "late 6th c. BC  {'or': None, 'not_before': -526, 'not_after': -501, 'date_tags': ['range', 'cent', 'phase', 'late'], 'certainty': None, 'link': None}\n",
            "1st/2nd c. AD {'or': None, 'not_before': 1, 'not_after': 200, 'date_tags': ['range', 'cent', 'morece'], 'certainty': None, 'link': None}\n",
            "late 3rd-mid. 2nd c. BC  {'or': None, 'not_before': -226, 'not_after': -146, 'date_tags': ['range', 'cent', 'morece'], 'certainty': None, 'link': None}\n",
            "ca. 460 BC  {'or': None, 'not_before': -465, 'not_after': -455, 'date_tags': ['exact', 'phase', 'ca'], 'certainty': None, 'link': None}\n",
            "Rom. Imp. period {'or': None, 'source': 'PeriodO', 'notes': nan, 'link': 'http://n2t.net/ark:/99152/p08m57hqcc5', 'not_before': -31, 'not_after': 410, 'date_tags': ['range', 'period'], 'certainty': None}\n",
            "1st c. AD {'or': None, 'not_before': 1, 'not_after': 100, 'date_tags': ['range', 'cent'], 'certainty': None, 'link': None}\n",
            "beg. 5th c. BC {'or': None, 'not_before': -500, 'not_after': -490, 'date_tags': ['range', 'cent', 'phase', 'beg'], 'certainty': None, 'link': None}\n",
            "2nd/1st c. BC {'or': None, 'not_before': -200, 'not_after': -1, 'date_tags': ['range', 'cent', 'morece'], 'certainty': None, 'link': None}\n",
            "Hellenistic period  {'or': None, 'source': 'PeriodO', 'notes': nan, 'link': 'http://n2t.net/ark:/99152/p03wskd55sw', 'not_before': -330, 'not_after': -30, 'date_tags': ['range', 'period'], 'certainty': None}\n",
            "after 145 BC  {'or': None, 'not_before': -144, 'not_after': None, 'date_tags': ['post'], 'certainty': None, 'link': None}\n",
            "mid 4th c. BC  {'or': None, 'not_before': -355, 'not_after': -346, 'date_tags': ['range', 'cent', 'phase', 'middle'], 'certainty': None, 'link': None}\n",
            "200-209 AD  {'or': None, 'not_before': 200, 'not_after': 209, 'date_tags': ['range'], 'certainty': None, 'link': None}\n",
            "7th-4th c. BC  {'or': None, 'not_before': -700, 'not_after': -301, 'date_tags': ['range', 'cent', 'morece'], 'certainty': None, 'link': None}\n",
            "reign of Claudius {'or': None, 'source': 'PeriodO', 'notes': nan, 'link': 'http://n2t.net/ark:/99152/p0jrrjb8spw', 'not_before': 41, 'not_after': 54, 'date_tags': ['range', 'period'], 'certainty': None}\n",
            "ca. 100-150 AD {'or': None, 'not_before': 95, 'not_after': 155, 'date_tags': ['range', 'phase', 'ca'], 'certainty': None, 'link': None}\n",
            "1st c. BC/1st c. AD  {'or': None, 'not_before': -100, 'not_after': 100, 'date_tags': ['range', 'cent', 'morece'], 'certainty': None, 'link': None}\n",
            "undated {'or': None, 'not_before': None, 'not_after': None, 'date_tags': ['unknown'], 'certainty': None, 'link': None}\n",
            "undated {'or': None, 'not_before': None, 'not_after': None, 'date_tags': ['unknown'], 'certainty': None, 'link': None}\n",
            "ca. 500-450 BC  {'or': None, 'not_before': -505, 'not_after': -445, 'date_tags': ['range', 'phase', 'ca'], 'certainty': None, 'link': None}\n",
            "1st c. AD  {'or': None, 'not_before': 1, 'not_after': 100, 'date_tags': ['range', 'cent'], 'certainty': None, 'link': None}\n",
            "Abydos: Memnonion {'or': None, 'not_before': None, 'not_after': None, 'date_tags': ['unknown'], 'certainty': None, 'link': None}\n",
            "3rd/2nd c. BC? {'or': None, 'certainty': '?', 'not_before': -300, 'not_after': -101, 'date_tags': ['range', 'cent', 'morece'], 'link': None}\n",
            "Hermonthis (Armant)? {'or': None, 'certainty': '?', 'not_before': None, 'not_after': None, 'date_tags': ['unknown'], 'link': None}\n",
            "180 AD  {'or': None, 'not_before': 180, 'not_after': 180, 'date_tags': ['exact'], 'certainty': None, 'link': None}\n",
            "el-Boueib {'or': None, 'not_before': None, 'not_after': None, 'date_tags': ['unknown'], 'certainty': None, 'link': None}\n",
            "209-204 BC  {'or': None, 'not_before': -209, 'not_after': -204, 'date_tags': ['range'], 'certainty': None, 'link': None}\n",
            "244-221 BC {'or': None, 'not_before': -244, 'not_after': -221, 'date_tags': ['range'], 'certainty': None, 'link': None}\n",
            "89-91 AD  {'or': None, 'not_before': 89, 'not_after': 91, 'date_tags': ['range'], 'certainty': None, 'link': None}\n",
            "Alexandria: Kōm el-Shugafa {'or': None, 'not_before': None, 'not_after': None, 'date_tags': ['unknown'], 'certainty': None, 'link': None}\n",
            "Alexandria Mus. [Rhodes] {'or': None, 'not_before': None, 'not_after': None, 'date_tags': ['unknown'], 'certainty': None, 'link': None}\n",
            "Alexandria Mus. [Rhodes] {'or': None, 'not_before': None, 'not_after': None, 'date_tags': ['unknown'], 'certainty': None, 'link': None}\n",
            "Arsinoïte Nome (Faiyūm) {'or': None, 'not_before': None, 'not_after': None, 'date_tags': ['unknown'], 'certainty': None, 'link': None}\n",
            "Arsinoïte Nome (Faiyūm)? {'or': None, 'certainty': '?', 'not_before': None, 'not_after': None, 'date_tags': ['unknown'], 'link': None}\n",
            "Christian period  {'or': None, 'not_before': None, 'not_after': None, 'date_tags': ['unknown'], 'certainty': None, 'link': None}\n",
            "210-175 BC  {'or': None, 'not_before': -210, 'not_after': -175, 'date_tags': ['range'], 'certainty': None, 'link': None}\n",
            "Byzantine period  {'or': None, 'source': 'PeriodO', 'notes': nan, 'link': 'http://n2t.net/ark:/99152/p0m63njtm6w', 'not_before': 324, 'not_after': 1453, 'date_tags': ['range', 'period'], 'certainty': None}\n",
            "Thebes [W.]: Syringes {'or': None, 'not_before': None, 'not_after': None, 'date_tags': ['unknown'], 'certainty': None, 'link': None}\n",
            "Thebes [W.]: Syringes {'or': None, 'not_before': None, 'not_after': None, 'date_tags': ['unknown'], 'certainty': None, 'link': None}\n",
            "Thebes [W.]: Syringes {'or': None, 'not_before': None, 'not_after': None, 'date_tags': ['unknown'], 'certainty': None, 'link': None}\n",
            "Thebes [W.]: Syringes {'or': None, 'not_before': None, 'not_after': None, 'date_tags': ['unknown'], 'certainty': None, 'link': None}\n",
            "3rd/4th c. AD  {'or': None, 'not_before': 201, 'not_after': 400, 'date_tags': ['range', 'cent', 'morece'], 'certainty': None, 'link': None}\n",
            "Rom. Imp. period  {'or': None, 'source': 'PeriodO', 'notes': nan, 'link': 'http://n2t.net/ark:/99152/p08m57hqcc5', 'not_before': -31, 'not_after': 410, 'date_tags': ['range', 'period'], 'certainty': None}\n",
            "1st c. BC  {'or': None, 'not_before': -100, 'not_after': -1, 'date_tags': ['range', 'cent'], 'certainty': None, 'link': None}\n",
            "Thebes [W.]: Colossus of Memnon {'or': None, 'not_before': None, 'not_after': None, 'date_tags': ['unknown'], 'certainty': None, 'link': None}\n",
            "6th/5th c. BC {'or': None, 'not_before': -600, 'not_after': -401, 'date_tags': ['range', 'cent', 'morece'], 'certainty': None, 'link': None}\n",
            "6th/5th c. BC {'or': None, 'not_before': -600, 'not_after': -401, 'date_tags': ['range', 'cent', 'morece'], 'certainty': None, 'link': None}\n",
            "Pachoras--Phthouris (Faras) {'or': None, 'not_before': None, 'not_after': None, 'date_tags': ['unknown'], 'certainty': None, 'link': None}\n",
            "AD 45.1990[1995].B.42 {'or': None, 'not_before': None, 'not_after': None, 'date_tags': ['unknown'], 'certainty': None, 'link': None}\n",
            "4th c. BC  {'or': None, 'not_before': -400, 'not_after': -301, 'date_tags': ['range', 'cent'], 'certainty': None, 'link': None}\n",
            "220/19 {'or': None, 'not_before': -220, 'not_after': -219, 'date_tags': ['range'], 'certainty': None, 'link': None}\n",
            "s. I p. {'or': None, 'not_before': 1, 'not_after': 100, 'date_tags': ['range', 'cent'], 'certainty': None, 'link': None}\n",
            "s. III a. {'or': None, 'not_before': -300, 'not_after': -201, 'date_tags': ['range', 'cent'], 'certainty': None, 'link': None}\n",
            "c. 500 a.  {'or': None, 'not_before': -505, 'not_after': -495, 'date_tags': ['exact', 'phase', 'ca'], 'certainty': None, 'link': None}\n",
            "301/0-295/4 a.  {'or': None, 'not_before': -301, 'not_after': -294, 'date_tags': ['range'], 'certainty': None, 'link': None}\n",
            "med. s. V a. {'or': None, 'not_before': -455, 'not_after': -446, 'date_tags': ['range', 'cent', 'phase', 'middle'], 'certainty': None, 'link': None}\n",
            "fin. s. V/VI p. {'or': None, 'not_before': 490, 'not_after': 600, 'date_tags': ['range', 'cent', 'morece'], 'certainty': None, 'link': None}\n",
            "Patissia {'or': None, 'not_before': None, 'not_after': None, 'date_tags': ['unknown'], 'certainty': None, 'link': None}\n",
            "end 6th c. BC {'or': None, 'not_before': -511, 'not_after': -501, 'date_tags': ['range', 'cent', 'phase', 'end'], 'certainty': None, 'link': None}\n",
            "end 4th c. BC {'or': None, 'not_before': -311, 'not_after': -301, 'date_tags': ['range', 'cent', 'phase', 'end'], 'certainty': None, 'link': None}\n",
            "Mt. Hymettos {'or': None, 'not_before': None, 'not_after': None, 'date_tags': ['unknown'], 'certainty': None, 'link': None}\n",
            "3rd c. BC  {'or': None, 'not_before': -300, 'not_after': -201, 'date_tags': ['range', 'cent'], 'certainty': None, 'link': None}\n",
            "ca. 260-240 BC {'or': None, 'not_before': -262, 'not_after': -238, 'date_tags': ['range', 'phase', 'ca'], 'certainty': None, 'link': None}\n",
            "1st/2nd c. AD {'or': None, 'not_before': 1, 'not_after': 200, 'date_tags': ['range', 'cent', 'morece'], 'certainty': None, 'link': None}\n",
            "Daux {'or': None, 'not_before': None, 'not_after': None, 'date_tags': ['unknown'], 'certainty': None, 'link': None}\n",
            "128/127 BC  {'or': None, 'not_before': -128, 'not_after': -127, 'date_tags': ['range'], 'certainty': None, 'link': None}\n",
            "215 BC {'or': None, 'not_before': -215, 'not_after': -215, 'date_tags': ['exact'], 'certainty': None, 'link': None}\n",
            "ca. 125 BC {'or': None, 'not_before': -130, 'not_after': -120, 'date_tags': ['exact', 'phase', 'ca'], 'certainty': None, 'link': None}\n",
            "undated {'or': None, 'not_before': None, 'not_after': None, 'date_tags': ['unknown'], 'certainty': None, 'link': None}\n",
            "Rom. Imp. period  {'or': None, 'source': 'PeriodO', 'notes': nan, 'link': 'http://n2t.net/ark:/99152/p08m57hqcc5', 'not_before': -31, 'not_after': 410, 'date_tags': ['range', 'period'], 'certainty': None}\n",
            "124-116 BC {'or': None, 'not_before': -124, 'not_after': -116, 'date_tags': ['range'], 'certainty': None, 'link': None}\n",
            "194 BC {'or': None, 'not_before': -194, 'not_after': -194, 'date_tags': ['exact'], 'certainty': None, 'link': None}\n",
            "ca. 213 BC? {'or': None, 'certainty': '?', 'not_before': -218, 'not_after': -208, 'date_tags': ['exact', 'phase', 'ca'], 'link': None}\n",
            "73/4 AD {'or': None, 'not_before': 73, 'not_after': 74, 'date_tags': ['range'], 'certainty': None, 'link': None}\n",
            "Antiochia & Area of {'or': None, 'not_before': None, 'not_after': None, 'date_tags': ['unknown'], 'certainty': None, 'link': None}\n",
            "12/1 BC {'or': None, 'not_before': -12, 'not_after': -11, 'date_tags': ['range'], 'certainty': None, 'link': None}\n",
            "Tell Frēǧ {'or': None, 'not_before': None, 'not_after': None, 'date_tags': ['unknown'], 'certainty': None, 'link': None}\n",
            "end 5th c. AD {'or': None, 'not_before': 490, 'not_after': 500, 'date_tags': ['range', 'cent', 'phase', 'end'], 'certainty': None, 'link': None}\n",
            "Heliopolis (Ba‘albek) {'or': None, 'not_before': None, 'not_after': None, 'date_tags': ['unknown'], 'certainty': None, 'link': None}\n",
            "reign of Hadrian {'or': None, 'source': 'PeriodO', 'notes': nan, 'link': 'http://n2t.net/ark:/99152/p0jrrjbntfj', 'not_before': 117, 'not_after': 138, 'date_tags': ['range', 'period'], 'certainty': None}\n",
            "Bostra (Buṣrā) {'or': None, 'not_before': None, 'not_after': None, 'date_tags': ['unknown'], 'certainty': None, 'link': None}\n",
            "Graf, Kulte, Chios 38 {'or': None, 'not_before': None, 'not_after': None, 'date_tags': ['unknown'], 'certainty': None, 'link': None}\n",
            "IDid 484 {'or': None, 'not_before': None, 'not_after': None, 'date_tags': ['unknown'], 'certainty': None, 'link': None}\n",
            "IDid 411 {'or': None, 'not_before': None, 'not_after': None, 'date_tags': ['unknown'], 'certainty': None, 'link': None}\n",
            "IEph 430 {'or': None, 'not_before': None, 'not_after': None, 'date_tags': ['unknown'], 'certainty': None, 'link': None}\n",
            "IEph 284 {'or': None, 'not_before': None, 'not_after': None, 'date_tags': ['unknown'], 'certainty': None, 'link': None}\n",
            "IEph 1599 {'or': None, 'not_before': None, 'not_after': None, 'date_tags': ['unknown'], 'certainty': None, 'link': None}\n",
            "IEph 1904.2 {'or': None, 'not_before': None, 'not_after': None, 'date_tags': ['unknown'], 'certainty': None, 'link': None}\n",
            "IEph 2247A {'or': None, 'not_before': None, 'not_after': None, 'date_tags': ['unknown'], 'certainty': None, 'link': None}\n",
            "IEph 2456 {'or': None, 'not_before': None, 'not_after': None, 'date_tags': ['unknown'], 'certainty': None, 'link': None}\n",
            "IEph 573.8 {'or': None, 'not_before': None, 'not_after': None, 'date_tags': ['unknown'], 'certainty': None, 'link': None}\n",
            "IEph 1962 {'or': None, 'not_before': None, 'not_after': None, 'date_tags': ['unknown'], 'certainty': None, 'link': None}\n",
            "IEph 3414 {'or': None, 'not_before': None, 'not_after': None, 'date_tags': ['unknown'], 'certainty': None, 'link': None}\n",
            "Milet I 2, 26 {'or': None, 'not_before': None, 'not_after': None, 'date_tags': ['unknown'], 'certainty': None, 'link': None}\n",
            "IPri 87 {'or': None, 'not_before': None, 'not_after': None, 'date_tags': ['unknown'], 'certainty': None, 'link': None}\n",
            "IPri 313.309 {'or': None, 'not_before': None, 'not_after': None, 'date_tags': ['unknown'], 'certainty': None, 'link': None}\n",
            "IPri 297 {'or': None, 'not_before': None, 'not_after': None, 'date_tags': ['unknown'], 'certainty': None, 'link': None}\n",
            "AD 1972, B2, 603-4 {'or': None, 'not_before': None, 'not_after': None, 'date_tags': ['unknown'], 'certainty': None, 'link': None}\n",
            "ISmyrn 627 {'or': None, 'not_before': None, 'not_after': None, 'date_tags': ['unknown'], 'certainty': None, 'link': None}\n",
            "ISmyrn 181 {'or': None, 'not_before': None, 'not_after': None, 'date_tags': ['unknown'], 'certainty': None, 'link': None}\n",
            "McCabe 0351 {'or': None, 'not_before': None, 'not_after': None, 'date_tags': ['unknown'], 'certainty': None, 'link': None}\n",
            "LW 1559 {'or': None, 'not_before': None, 'not_after': None, 'date_tags': ['unknown'], 'certainty': None, 'link': None}\n",
            "LW 1589 {'or': None, 'not_before': None, 'not_after': None, 'date_tags': ['unknown'], 'certainty': None, 'link': None}\n",
            "Roueché, Aphrodisias 42 {'or': None, 'not_before': None, 'not_after': None, 'date_tags': ['unknown'], 'certainty': None, 'link': None}\n",
            "BCH 1890, 97-99, no. 4 {'or': None, 'not_before': None, 'not_after': None, 'date_tags': ['unknown'], 'certainty': None, 'link': None}\n",
            "GIBM IV.1 Nr.806 {'or': None, 'not_before': None, 'not_after': None, 'date_tags': ['unknown'], 'certainty': None, 'link': None}\n",
            "IIasos 206 {'or': None, 'not_before': None, 'not_after': None, 'date_tags': ['unknown'], 'certainty': None, 'link': None}\n",
            "ASAA 1961-62, 630, no. 130 {'or': None, 'not_before': None, 'not_after': None, 'date_tags': ['unknown'], 'certainty': None, 'link': None}\n",
            "Newton, Disc. II 742-43:91 {'or': None, 'not_before': -200, 'not_after': -101, 'date_tags': ['range', 'cent'], 'certainty': None, 'link': None}\n",
            "ITral 21 {'or': None, 'not_before': None, 'not_after': None, 'date_tags': ['unknown'], 'certainty': None, 'link': None}\n",
            "IMyl 151 {'or': None, 'not_before': None, 'not_after': None, 'date_tags': ['unknown'], 'certainty': None, 'link': None}\n",
            "Newton, Halik. II 592 {'or': None, 'not_before': None, 'not_after': None, 'date_tags': ['unknown'], 'certainty': None, 'link': None}\n",
            "IStr 427 {'or': None, 'not_before': None, 'not_after': None, 'date_tags': ['unknown'], 'certainty': None, 'link': None}\n",
            "IStr 1045 {'or': None, 'not_before': None, 'not_after': None, 'date_tags': ['unknown'], 'certainty': None, 'link': None}\n",
            "ITral 102 {'or': None, 'not_before': None, 'not_after': None, 'date_tags': ['unknown'], 'certainty': None, 'link': None}\n",
            "154/5 AD {'or': None, 'not_before': 154, 'not_after': 155, 'date_tags': ['range'], 'certainty': None, 'link': None}\n",
            "66/7 AD {'or': None, 'not_before': 66, 'not_after': 67, 'date_tags': ['range'], 'certainty': None, 'link': None}\n",
            "Thyateira (Akhisar) {'or': None, 'not_before': None, 'not_after': None, 'date_tags': ['unknown'], 'certainty': None, 'link': None}\n",
            "Aphrodisias {'or': None, 'not_before': None, 'not_after': None, 'date_tags': ['unknown'], 'certainty': None, 'link': None}\n",
            "144 AD  {'or': None, 'not_before': 144, 'not_after': 144, 'date_tags': ['exact'], 'certainty': None, 'link': None}\n",
            "Rom. Imp. period {'or': None, 'source': 'PeriodO', 'notes': nan, 'link': 'http://n2t.net/ark:/99152/p08m57hqcc5', 'not_before': -31, 'not_after': 410, 'date_tags': ['range', 'period'], 'certainty': None}\n",
            "Stratonikeia: Kirkaǧaç {'or': None, 'not_before': None, 'not_after': None, 'date_tags': ['unknown'], 'certainty': None, 'link': None}\n",
            "SEG 27.880 {'or': None, 'not_before': None, 'not_after': None, 'date_tags': ['unknown'], 'certainty': None, 'link': None}\n",
            "Rom. Imp. period  {'or': None, 'source': 'PeriodO', 'notes': nan, 'link': 'http://n2t.net/ark:/99152/p08m57hqcc5', 'not_before': -31, 'not_after': 410, 'date_tags': ['range', 'period'], 'certainty': None}\n",
            "SEG 40.1219 {'or': None, 'not_before': None, 'not_after': None, 'date_tags': ['unknown'], 'certainty': None, 'link': None}\n",
            "Hellenistic period  {'or': None, 'source': 'PeriodO', 'notes': nan, 'link': 'http://n2t.net/ark:/99152/p03wskd55sw', 'not_before': -330, 'not_after': -30, 'date_tags': ['range', 'period'], 'certainty': None}\n",
            "OGIS 2.535, IGR 3.316 {'or': None, 'not_before': None, 'not_after': None, 'date_tags': ['unknown'], 'certainty': None, 'link': None}\n",
            "1st c. AD {'or': None, 'not_before': 1, 'not_after': 100, 'date_tags': ['range', 'cent'], 'certainty': None, 'link': None}\n",
            "Nakoleia (Seyitgazi) {'or': None, 'not_before': None, 'not_after': None, 'date_tags': ['unknown'], 'certainty': None, 'link': None}\n",
            "Aizanitis: Sopu Köy {'or': None, 'not_before': None, 'not_after': None, 'date_tags': ['unknown'], 'certainty': None, 'link': None}\n",
            "CIG 3899 [1] {'or': None, 'not_before': None, 'not_after': None, 'date_tags': ['unknown'], 'certainty': None, 'link': None}\n",
            "Yapıldak: Inli {'or': None, 'not_before': None, 'not_after': None, 'date_tags': ['unknown'], 'certainty': None, 'link': None}\n",
            "3rd c. AD  {'or': None, 'not_before': 201, 'not_after': 300, 'date_tags': ['range', 'cent'], 'certainty': None, 'link': None}\n",
            "2nd c. AD  {'or': None, 'not_before': 101, 'not_after': 200, 'date_tags': ['range', 'cent'], 'certainty': None, 'link': None}\n",
            "350-250 BC  {'or': None, 'not_before': -350, 'not_after': -250, 'date_tags': ['range'], 'certainty': None, 'link': None}\n",
            "MAMA 8.29 {'or': None, 'not_before': None, 'not_after': None, 'date_tags': ['unknown'], 'certainty': None, 'link': None}\n",
            "Laodicea Comb.: Yeni Yaila {'or': None, 'not_before': None, 'not_after': None, 'date_tags': ['unknown'], 'certainty': None, 'link': None}\n",
            "Ali Bey Höyük {'or': None, 'not_before': None, 'not_after': None, 'date_tags': ['unknown'], 'certainty': None, 'link': None}\n",
            "1st-early 2nd c. AD {'or': None, 'not_before': 1, 'not_after': 126, 'date_tags': ['range', 'cent', 'morece'], 'certainty': None, 'link': None}\n",
            "Side (Eski Adalia--Selimiye) {'or': None, 'not_before': None, 'not_after': None, 'date_tags': ['unknown'], 'certainty': None, 'link': None}\n",
            "117-138 AD  {'or': None, 'not_before': 117, 'not_after': 138, 'date_tags': ['range'], 'certainty': None, 'link': None}\n",
            "Byzantine period  {'or': None, 'source': 'PeriodO', 'notes': nan, 'link': 'http://n2t.net/ark:/99152/p0m63njtm6w', 'not_before': 324, 'not_after': 1453, 'date_tags': ['range', 'period'], 'certainty': None}\n",
            "Nikaia (Iznik) {'or': None, 'not_before': None, 'not_after': None, 'date_tags': ['unknown'], 'certainty': None, 'link': None}\n",
            "199 AD {'or': None, 'not_before': 199, 'not_after': 199, 'date_tags': ['exact'], 'certainty': None, 'link': None}\n",
            "Nikomedeia (Izmit) {'or': None, 'not_before': None, 'not_after': None, 'date_tags': ['unknown'], 'certainty': None, 'link': None}\n",
            "Klaudioupolis (Bolu), Plain of {'or': None, 'not_before': None, 'not_after': None, 'date_tags': ['unknown'], 'certainty': None, 'link': None}\n",
            "Prusias ad Hypium (Üskübü) {'or': None, 'not_before': None, 'not_after': None, 'date_tags': ['unknown'], 'certainty': None, 'link': None}\n",
            "Termessos (Güllük Dağı) {'or': None, 'not_before': None, 'not_after': None, 'date_tags': ['unknown'], 'certainty': None, 'link': None}\n",
            "Termessos (Güllük Dağı): Karaman Çay {'or': None, 'not_before': None, 'not_after': None, 'date_tags': ['unknown'], 'certainty': None, 'link': None}\n",
            "Rom. Imp. period {'or': None, 'source': 'PeriodO', 'notes': nan, 'link': 'http://n2t.net/ark:/99152/p08m57hqcc5', 'not_before': -31, 'not_after': 410, 'date_tags': ['range', 'period'], 'certainty': None}\n",
            "AEMÖ 19 (1896) 51,25 {'or': None, 'not_before': None, 'not_after': None, 'date_tags': ['unknown'], 'certainty': None, 'link': None}\n",
            "4th (or 5th?) c. AD  {'or': None, 'certainty': '?', 'not_before': 301, 'not_after': 500, 'date_tags': ['range', 'cent', 'morece'], 'link': None}\n",
            "Hellenistic period  {'or': None, 'source': 'PeriodO', 'notes': nan, 'link': 'http://n2t.net/ark:/99152/p03wskd55sw', 'not_before': -330, 'not_after': -30, 'date_tags': ['range', 'period'], 'certainty': None}\n",
            "Oinoanda (Incealiler): Girdev Gölü {'or': None, 'not_before': None, 'not_after': None, 'date_tags': ['unknown'], 'certainty': None, 'link': None}\n",
            "Telmessos {'or': None, 'not_before': None, 'not_after': None, 'date_tags': ['unknown'], 'certainty': None, 'link': None}\n",
            "late 1st c. AD? {'or': None, 'certainty': '?', 'not_before': 75, 'not_after': 100, 'date_tags': ['range', 'cent', 'phase', 'late'], 'link': None}\n",
            "Rom. Imp. period {'or': None, 'source': 'PeriodO', 'notes': nan, 'link': 'http://n2t.net/ark:/99152/p08m57hqcc5', 'not_before': -31, 'not_after': 410, 'date_tags': ['range', 'period'], 'certainty': None}\n",
            "Attaleia (Antalya) {'or': None, 'not_before': None, 'not_after': None, 'date_tags': ['unknown'], 'certainty': None, 'link': None}\n",
            "late 4th-6th c. AD {'or': None, 'not_before': 375, 'not_after': 600, 'date_tags': ['range', 'cent', 'morece'], 'certainty': None, 'link': None}\n",
            "Christian {'or': None, 'not_before': None, 'not_after': None, 'date_tags': ['unknown'], 'certainty': None, 'link': None}\n",
            "5th c. AD  {'or': None, 'not_before': 401, 'not_after': 500, 'date_tags': ['range', 'cent'], 'certainty': None, 'link': None}\n",
            "IK 6,2 {'or': None, 'not_before': None, 'not_after': None, 'date_tags': ['unknown'], 'certainty': None, 'link': None}\n",
            "CIL III 395=7076 (2) {'or': None, 'not_before': None, 'not_after': None, 'date_tags': ['unknown'], 'certainty': None, 'link': None}\n",
            "JHS 25,1905,56 Nr.4 {'or': None, 'not_before': None, 'not_after': None, 'date_tags': ['unknown'], 'certainty': None, 'link': None}\n",
            "Anth.Gr. III Nr.1 {'or': None, 'not_before': None, 'not_after': None, 'date_tags': ['unknown'], 'certainty': None, 'link': None}\n",
            "IK 26,27d {'or': None, 'not_before': None, 'not_after': None, 'date_tags': ['unknown'], 'certainty': None, 'link': None}\n",
            "Laurent, Corpus V 357bis/1702 {'or': None, 'not_before': None, 'not_after': None, 'date_tags': ['unknown'], 'certainty': None, 'link': None}\n",
            "IG II² 11759 {'or': None, 'not_before': None, 'not_after': None, 'date_tags': ['unknown'], 'certainty': None, 'link': None}\n",
            "beg. 3rd c. AD {'or': None, 'not_before': 201, 'not_after': 211, 'date_tags': ['range', 'cent', 'phase', 'beg'], 'certainty': None, 'link': None}\n",
            "229/30 or 230/1 AD  {'or': None, 'not_before': 229, 'not_after': 231, 'date_tags': ['range'], 'certainty': None, 'link': None}\n",
            "end 1st c. BC  {'or': None, 'not_before': -11, 'not_after': -1, 'date_tags': ['range', 'cent', 'phase', 'end'], 'certainty': None, 'link': None}\n",
            "Athens {'or': None, 'not_before': None, 'not_after': None, 'date_tags': ['unknown'], 'certainty': None, 'link': None}\n",
            "ca. 330-300 BC {'or': None, 'not_before': -333, 'not_after': -297, 'date_tags': ['range', 'phase', 'ca'], 'certainty': None, 'link': None}\n",
            "ca. 150 BC {'or': None, 'not_before': -155, 'not_after': -145, 'date_tags': ['exact', 'phase', 'ca'], 'certainty': None, 'link': None}\n",
            "3rd c. AD {'or': None, 'not_before': 201, 'not_after': 300, 'date_tags': ['range', 'cent'], 'certainty': None, 'link': None}\n",
            "ca. 475-450 BC  {'or': None, 'not_before': -477, 'not_after': -448, 'date_tags': ['range', 'phase', 'ca'], 'certainty': None, 'link': None}\n",
            "ca. 270-260 BC  {'or': None, 'not_before': -271, 'not_after': -259, 'date_tags': ['range', 'phase', 'ca'], 'certainty': None, 'link': None}\n",
            "3rd c. BC {'or': None, 'not_before': -300, 'not_after': -201, 'date_tags': ['range', 'cent'], 'certainty': None, 'link': None}\n",
            "Hellenistic period  {'or': None, 'source': 'PeriodO', 'notes': nan, 'link': 'http://n2t.net/ark:/99152/p03wskd55sw', 'not_before': -330, 'not_after': -30, 'date_tags': ['range', 'period'], 'certainty': None}\n",
            "4th c. BC  {'or': None, 'not_before': -400, 'not_after': -301, 'date_tags': ['range', 'cent'], 'certainty': None, 'link': None}\n",
            "early 3rd c. BC  {'or': None, 'not_before': -300, 'not_after': -275, 'date_tags': ['range', 'cent', 'phase', 'early'], 'certainty': None, 'link': None}\n",
            "3rd c. BC  {'or': None, 'not_before': -300, 'not_after': -201, 'date_tags': ['range', 'cent'], 'certainty': None, 'link': None}\n",
            "2nd/3rd c. AD {'or': None, 'not_before': 101, 'not_after': 300, 'date_tags': ['range', 'cent', 'morece'], 'certainty': None, 'link': None}\n",
            "2nd/3rd c. AD {'or': None, 'not_before': 101, 'not_after': 300, 'date_tags': ['range', 'cent', 'morece'], 'certainty': None, 'link': None}\n",
            "2nd/3rd c. AD {'or': None, 'not_before': 101, 'not_after': 300, 'date_tags': ['range', 'cent', 'morece'], 'certainty': None, 'link': None}\n",
            "2nd/3rd c. AD  {'or': None, 'not_before': 101, 'not_after': 300, 'date_tags': ['range', 'cent', 'morece'], 'certainty': None, 'link': None}\n"
          ],
          "name": "stdout"
        }
      ]
    },
    {
      "cell_type": "code",
      "metadata": {
        "colab_type": "code",
        "id": "a3eNW_GHSbNA",
        "colab": {}
      },
      "source": [
        "PHI_list_of_dict = []\n",
        "for inscription_date_tuple in list(zip(PHI_by_500[\"PHI_ID\"].tolist(), PHI_by_500[\"tildeinfo\"].tolist(),  PHI_by_500[\"raw_date\"].tolist())):\n",
        "  dating = date_extractor(inscription_date_tuple[2])\n",
        "  data_dict = {\"PHI_ID\": inscription_date_tuple[0], \"tildeinfo\" : inscription_date_tuple[1], \"raw_date\" : inscription_date_tuple[2]}\n",
        "  data_dict.update(dating)\n",
        "  PHI_list_of_dict.append(data_dict)"
      ],
      "execution_count": null,
      "outputs": []
    },
    {
      "cell_type": "code",
      "metadata": {
        "colab_type": "code",
        "id": "yrLrFl8ZT9cw",
        "colab": {
          "base_uri": "https://localhost:8080/",
          "height": 204
        },
        "outputId": "85fb15d5-8450-426c-def9-e565b07b4c21"
      },
      "source": [
        "PHI_by_500_dates_v9 = pd.DataFrame(PHI_list_of_dict)\n",
        "PHI_by_500_dates_v9.head(5)"
      ],
      "execution_count": null,
      "outputs": [
        {
          "output_type": "execute_result",
          "data": {
            "text/html": [
              "<div>\n",
              "<style scoped>\n",
              "    .dataframe tbody tr th:only-of-type {\n",
              "        vertical-align: middle;\n",
              "    }\n",
              "\n",
              "    .dataframe tbody tr th {\n",
              "        vertical-align: top;\n",
              "    }\n",
              "\n",
              "    .dataframe thead th {\n",
              "        text-align: right;\n",
              "    }\n",
              "</style>\n",
              "<table border=\"1\" class=\"dataframe\">\n",
              "  <thead>\n",
              "    <tr style=\"text-align: right;\">\n",
              "      <th></th>\n",
              "      <th>PHI_ID</th>\n",
              "      <th>tildeinfo</th>\n",
              "      <th>raw_date</th>\n",
              "      <th>or</th>\n",
              "      <th>not_before</th>\n",
              "      <th>not_after</th>\n",
              "      <th>date_tags</th>\n",
              "      <th>source</th>\n",
              "      <th>notes</th>\n",
              "      <th>link</th>\n",
              "      <th>certainty</th>\n",
              "    </tr>\n",
              "  </thead>\n",
              "  <tbody>\n",
              "    <tr>\n",
              "      <th>0</th>\n",
              "      <td>262001</td>\n",
              "      <td>IStr 427</td>\n",
              "      <td>IStr 427</td>\n",
              "      <td>None</td>\n",
              "      <td>NaN</td>\n",
              "      <td>NaN</td>\n",
              "      <td>[unknown]</td>\n",
              "      <td>NaN</td>\n",
              "      <td>NaN</td>\n",
              "      <td>NaN</td>\n",
              "      <td>NaN</td>\n",
              "    </tr>\n",
              "    <tr>\n",
              "      <th>1</th>\n",
              "      <td>266001</td>\n",
              "      <td>Pont. — Amasia — Rom. Imp. period</td>\n",
              "      <td>Rom. Imp. period</td>\n",
              "      <td>None</td>\n",
              "      <td>-31.0</td>\n",
              "      <td>410.0</td>\n",
              "      <td>[range, period]</td>\n",
              "      <td>PeriodO</td>\n",
              "      <td>NaN</td>\n",
              "      <td>http://n2t.net/ark:/99152/p08m57hqcc5</td>\n",
              "      <td>NaN</td>\n",
              "    </tr>\n",
              "    <tr>\n",
              "      <th>2</th>\n",
              "      <td>231001</td>\n",
              "      <td>Att. — Athens: Agora — 220/19</td>\n",
              "      <td>220/19</td>\n",
              "      <td>None</td>\n",
              "      <td>-220.0</td>\n",
              "      <td>-219.0</td>\n",
              "      <td>[range]</td>\n",
              "      <td>NaN</td>\n",
              "      <td>NaN</td>\n",
              "      <td>NaN</td>\n",
              "      <td>NaN</td>\n",
              "    </tr>\n",
              "    <tr>\n",
              "      <th>3</th>\n",
              "      <td>79501</td>\n",
              "      <td>Thasos</td>\n",
              "      <td>Thasos</td>\n",
              "      <td>None</td>\n",
              "      <td>NaN</td>\n",
              "      <td>NaN</td>\n",
              "      <td>[unknown]</td>\n",
              "      <td>NaN</td>\n",
              "      <td>NaN</td>\n",
              "      <td>NaN</td>\n",
              "      <td>NaN</td>\n",
              "    </tr>\n",
              "    <tr>\n",
              "      <th>4</th>\n",
              "      <td>218501</td>\n",
              "      <td>Eg. — el-Boueib</td>\n",
              "      <td>el-Boueib</td>\n",
              "      <td>None</td>\n",
              "      <td>NaN</td>\n",
              "      <td>NaN</td>\n",
              "      <td>[unknown]</td>\n",
              "      <td>NaN</td>\n",
              "      <td>NaN</td>\n",
              "      <td>NaN</td>\n",
              "      <td>NaN</td>\n",
              "    </tr>\n",
              "  </tbody>\n",
              "</table>\n",
              "</div>"
            ],
            "text/plain": [
              "   PHI_ID  ... certainty\n",
              "0  262001  ...       NaN\n",
              "1  266001  ...       NaN\n",
              "2  231001  ...       NaN\n",
              "3   79501  ...       NaN\n",
              "4  218501  ...       NaN\n",
              "\n",
              "[5 rows x 11 columns]"
            ]
          },
          "metadata": {
            "tags": []
          },
          "execution_count": 649
        }
      ]
    },
    {
      "cell_type": "code",
      "metadata": {
        "colab_type": "code",
        "id": "giPKMRLNVm5H",
        "colab": {
          "base_uri": "https://localhost:8080/",
          "height": 68
        },
        "outputId": "af5f3679-03ef-4954-eb07-f603272b9026"
      },
      "source": [
        "PHI_by_500_dates_v9.columns"
      ],
      "execution_count": null,
      "outputs": [
        {
          "output_type": "execute_result",
          "data": {
            "text/plain": [
              "Index(['PHI_ID', 'tildeinfo', 'raw_date', 'or', 'not_before', 'not_after',\n",
              "       'date_tags', 'source', 'notes', 'link', 'certainty'],\n",
              "      dtype='object')"
            ]
          },
          "metadata": {
            "tags": []
          },
          "execution_count": 651
        }
      ]
    },
    {
      "cell_type": "code",
      "metadata": {
        "colab_type": "code",
        "id": "Oj4KrYLOVlF8",
        "colab": {}
      },
      "source": [
        "PHI_by_500_dates_v9 = PHI_by_500_dates_v9[['PHI_ID', 'tildeinfo', 'raw_date', 'not_before', 'not_after', 'certainty', 'or',\n",
        "       'date_tags', 'source', 'notes', 'link']]"
      ],
      "execution_count": null,
      "outputs": []
    },
    {
      "cell_type": "code",
      "metadata": {
        "colab_type": "code",
        "id": "e16RPHQAVFQc",
        "colab": {}
      },
      "source": [
        "set_with_dataframe(PHI_overview.add_worksheet(\"PHI_by_500_dates_v9\", 1,1), PHI_by_500_dates_v9)"
      ],
      "execution_count": null,
      "outputs": []
    },
    {
      "cell_type": "markdown",
      "metadata": {
        "colab_type": "text",
        "id": "B3t50nBgWLXV"
      },
      "source": [
        "# Test with sample 2 (by 200)"
      ]
    },
    {
      "cell_type": "code",
      "metadata": {
        "colab_type": "code",
        "id": "6tvrW6mtWQDs",
        "colab": {
          "base_uri": "https://localhost:8080/",
          "height": 615
        },
        "outputId": "2b231e92-8513-49eb-9338-bb9c312c2631"
      },
      "source": [
        "# generate sample for testing purposes:\n",
        "PHI_by_200 = PHI[PHI[\"PHI_ID\"].isin(range(0, 300000, 200))]\n",
        "PHI_by_200.head(5)"
      ],
      "execution_count": null,
      "outputs": [
        {
          "output_type": "execute_result",
          "data": {
            "text/html": [
              "<div>\n",
              "<style scoped>\n",
              "    .dataframe tbody tr th:only-of-type {\n",
              "        vertical-align: middle;\n",
              "    }\n",
              "\n",
              "    .dataframe tbody tr th {\n",
              "        vertical-align: top;\n",
              "    }\n",
              "\n",
              "    .dataframe thead th {\n",
              "        text-align: right;\n",
              "    }\n",
              "</style>\n",
              "<table border=\"1\" class=\"dataframe\">\n",
              "  <thead>\n",
              "    <tr style=\"text-align: right;\">\n",
              "      <th></th>\n",
              "      <th>URL</th>\n",
              "      <th>Book</th>\n",
              "      <th>Text</th>\n",
              "      <th>hdr1</th>\n",
              "      <th>hdr2</th>\n",
              "      <th>tildeinfo</th>\n",
              "      <th>note</th>\n",
              "      <th>lines</th>\n",
              "      <th>metadata</th>\n",
              "      <th>data</th>\n",
              "      <th>filename</th>\n",
              "      <th>PHI_ID</th>\n",
              "      <th>hdr1_scrape</th>\n",
              "      <th>hdr2_scrape</th>\n",
              "      <th>raw_date</th>\n",
              "    </tr>\n",
              "  </thead>\n",
              "  <tbody>\n",
              "    <tr>\n",
              "      <th>200</th>\n",
              "      <td>https://epigraphy.packhum.org/text/200</td>\n",
              "      <td>IG I³</td>\n",
              "      <td>193</td>\n",
              "      <td>None</td>\n",
              "      <td>None</td>\n",
              "      <td>Att. — stoich. 39? — 450-435</td>\n",
              "      <td>None</td>\n",
              "      <td>6</td>\n",
              "      <td>\\n\\n1\\n\\n\\n\\n\\n 5\\n\\n</td>\n",
              "      <td>— — — — — — — — — — — — — — — — — — — — — — —\\...</td>\n",
              "      <td>IG-I-3.csv</td>\n",
              "      <td>200</td>\n",
              "      <td>Regions\\nAttica (IG I-III)Attica</td>\n",
              "      <td>IG I³\\n193</td>\n",
              "      <td>450-435</td>\n",
              "    </tr>\n",
              "    <tr>\n",
              "      <th>400</th>\n",
              "      <td>https://epigraphy.packhum.org/text/400</td>\n",
              "      <td>IG I³</td>\n",
              "      <td>388</td>\n",
              "      <td>None</td>\n",
              "      <td>None</td>\n",
              "      <td>Att. — stoich. — 420-405 a.\\n\\nSee also:\\nI.El...</td>\n",
              "      <td>None</td>\n",
              "      <td>17</td>\n",
              "      <td>\\n\\n1\\n\\n\\n\\n\\n5\\n\\n\\n\\n\\n\\n10\\n\\n\\n\\n\\n\\n15\\n\\n</td>\n",
              "      <td>— — — — — — — — — — — —\\n— — — — Ι̣#⁷ — — — — ...</td>\n",
              "      <td>IG-I-3.csv</td>\n",
              "      <td>400</td>\n",
              "      <td>Regions\\nAttica (IG I-III)Attica</td>\n",
              "      <td>IG I³\\n388</td>\n",
              "      <td>420-405 a.</td>\n",
              "    </tr>\n",
              "    <tr>\n",
              "      <th>600</th>\n",
              "      <td>https://epigraphy.packhum.org/text/600</td>\n",
              "      <td>IG I³</td>\n",
              "      <td>564</td>\n",
              "      <td>None</td>\n",
              "      <td>None</td>\n",
              "      <td>Att. — Athens: Akropolis — c. 500-475? a. — IG...</td>\n",
              "      <td>None</td>\n",
              "      <td>0</td>\n",
              "      <td>\\n1\\n</td>\n",
              "      <td>Ἐπιγέν[ες — — —].</td>\n",
              "      <td>IG-I-3.csv</td>\n",
              "      <td>600</td>\n",
              "      <td>Regions\\nAttica (IG I-III)Attica</td>\n",
              "      <td>IG I³\\n564</td>\n",
              "      <td>c. 500-475? a.</td>\n",
              "    </tr>\n",
              "    <tr>\n",
              "      <th>800</th>\n",
              "      <td>https://epigraphy.packhum.org/text/800</td>\n",
              "      <td>IG I³</td>\n",
              "      <td>703</td>\n",
              "      <td>None</td>\n",
              "      <td>None</td>\n",
              "      <td>Att. — Athens: Akropolis — c. 500-480? a. — IG...</td>\n",
              "      <td>None</td>\n",
              "      <td>2</td>\n",
              "      <td>\\n1\\n\\n</td>\n",
              "      <td>[ἄρ]γ̣ματα Θότιμ— — — ἀνέθ[εκε — — —] /\\n—2-3—...</td>\n",
              "      <td>IG-I-3.csv</td>\n",
              "      <td>800</td>\n",
              "      <td>Regions\\nAttica (IG I-III)Attica</td>\n",
              "      <td>IG I³\\n703</td>\n",
              "      <td>c. 500-480? a.</td>\n",
              "    </tr>\n",
              "    <tr>\n",
              "      <th>1000</th>\n",
              "      <td>https://epigraphy.packhum.org/text/1000</td>\n",
              "      <td>IG I³</td>\n",
              "      <td>885</td>\n",
              "      <td>None</td>\n",
              "      <td>None</td>\n",
              "      <td>Att. — Athens: Akropolis — c. 440? a. — IG I² ...</td>\n",
              "      <td>None</td>\n",
              "      <td>2</td>\n",
              "      <td>\\n1\\n\\n\\n</td>\n",
              "      <td>[τόνδε Πυρε͂]ς ἀνέθεκε Πολυμνέστ̣ο φίλο[ς ℎυιὸ...</td>\n",
              "      <td>IG-I-3.csv</td>\n",
              "      <td>1000</td>\n",
              "      <td>Regions\\nAttica (IG I-III)Attica</td>\n",
              "      <td>IG I³\\n885</td>\n",
              "      <td>c. 440? a.</td>\n",
              "    </tr>\n",
              "  </tbody>\n",
              "</table>\n",
              "</div>"
            ],
            "text/plain": [
              "                                          URL  ...         raw_date\n",
              "200    https://epigraphy.packhum.org/text/200  ...          450-435\n",
              "400    https://epigraphy.packhum.org/text/400  ...       420-405 a.\n",
              "600    https://epigraphy.packhum.org/text/600  ...  c. 500-475? a. \n",
              "800    https://epigraphy.packhum.org/text/800  ...  c. 500-480? a. \n",
              "1000  https://epigraphy.packhum.org/text/1000  ...      c. 440? a. \n",
              "\n",
              "[5 rows x 15 columns]"
            ]
          },
          "metadata": {
            "tags": []
          },
          "execution_count": 129
        }
      ]
    },
    {
      "cell_type": "code",
      "metadata": {
        "colab_type": "code",
        "id": "Zh0_dnOFPc_i",
        "colab": {
          "base_uri": "https://localhost:8080/",
          "height": 119
        },
        "outputId": "bd591ae0-b2b0-4674-bc31-4df303e9b9b3"
      },
      "source": [
        "date_extractor(\"c. 450 a. \")"
      ],
      "execution_count": null,
      "outputs": [
        {
          "output_type": "execute_result",
          "data": {
            "text/plain": [
              "{'certainty': None,\n",
              " 'date_tags': ['exact', 'phase', 'ca'],\n",
              " 'link': None,\n",
              " 'not_after': -445,\n",
              " 'not_before': -455,\n",
              " 'or': None}"
            ]
          },
          "metadata": {
            "tags": []
          },
          "execution_count": 147
        }
      ]
    },
    {
      "cell_type": "code",
      "metadata": {
        "colab_type": "code",
        "id": "0aMlfDwRMdUk",
        "colab": {
          "base_uri": "https://localhost:8080/",
          "height": 887
        },
        "outputId": "8689de38-7369-4b2b-f001-d26f4d599e6b"
      },
      "source": [
        "for datation in PHI_by_200[\"raw_date\"].tolist()[:50]:\n",
        "  print(datation, date_extractor(datation))"
      ],
      "execution_count": null,
      "outputs": [
        {
          "output_type": "stream",
          "text": [
            "450-435 {'or': None, 'not_before': -450, 'not_after': -435, 'date_tags': ['range'], 'certainty': None, 'link': None}\n",
            "420-405 a. {'or': None, 'not_before': -420, 'not_after': -405, 'date_tags': ['range'], 'certainty': None, 'link': None}\n",
            "c. 500-475? a.  {'or': None, 'certainty': '?', 'not_before': -502, 'not_after': -473, 'date_tags': ['range', 'phase', 'ca'], 'link': None}\n",
            "c. 500-480? a.  {'or': None, 'certainty': '?', 'not_before': -502, 'not_after': -478, 'date_tags': ['range', 'phase', 'ca'], 'link': None}\n",
            "c. 440? a.  {'or': None, 'certainty': '?', 'not_before': -445, 'not_after': -435, 'date_tags': ['exact', 'phase', 'ca'], 'link': None}\n",
            "c. 450 a.  {'or': None, 'not_before': -455, 'not_after': -445, 'date_tags': ['exact', 'phase', 'ca'], 'certainty': None, 'link': None}\n",
            "SEG 22.73,adn. {'or': None, 'not_before': None, 'not_after': None, 'date_tags': ['unknown'], 'certainty': None, 'link': None}\n",
            "c. 525 a.  {'or': None, 'not_before': -530, 'not_after': -520, 'date_tags': ['exact', 'phase', 'ca'], 'certainty': None, 'link': None}\n",
            "[ostrakon] {'or': None, 'not_before': None, 'not_after': None, 'date_tags': ['unknown'], 'certainty': None, 'link': None}\n",
            "IG II² 182 Add. (pt. 1.2 p. 658) {'or': None, 'not_before': None, 'not_after': None, 'date_tags': ['unknown'], 'certainty': None, 'link': None}\n",
            "320/19 {'or': None, 'not_before': -320, 'not_after': -319, 'date_tags': ['range'], 'certainty': None, 'link': None}\n",
            "fin. s. IV a. {'or': None, 'not_before': -311, 'not_after': -301, 'date_tags': ['range', 'cent', 'phase', 'end'], 'certainty': None, 'link': None}\n",
            "c. 244/3 {'or': None, 'not_before': -244, 'not_after': -243, 'date_tags': ['range', 'phase', 'ca'], 'certainty': None, 'link': None}\n",
            "med. s. II a. {'or': None, 'not_before': -155, 'not_after': -146, 'date_tags': ['range', 'cent', 'phase', 'middle'], 'certainty': None, 'link': None}\n",
            "med. s. IV a. {'or': None, 'not_before': -355, 'not_after': -346, 'date_tags': ['range', 'cent', 'phase', 'middle'], 'certainty': None, 'link': None}\n",
            "c. 400 a. {'or': None, 'not_before': -405, 'not_after': -395, 'date_tags': ['exact', 'phase', 'ca'], 'certainty': None, 'link': None}\n",
            "p. post 348/7 a. {'or': None, 'not_before': -346, 'not_after': None, 'date_tags': ['range', 'post'], 'certainty': None, 'link': None}\n",
            "166/7 {'or': None, 'not_before': 166, 'not_after': 167, 'date_tags': ['range'], 'certainty': None, 'link': None}\n",
            "fin. s. I a. {'or': None, 'not_before': -11, 'not_after': -1, 'date_tags': ['range', 'cent', 'phase', 'end'], 'certainty': None, 'link': None}\n",
            "s. II p. {'or': None, 'not_before': 101, 'not_after': 200, 'date_tags': ['range', 'cent'], 'certainty': None, 'link': None}\n",
            "c. 400 a. {'or': None, 'not_before': -405, 'not_after': -395, 'date_tags': ['exact', 'phase', 'ca'], 'certainty': None, 'link': None}\n",
            "Att. {'or': None, 'not_before': None, 'not_after': None, 'date_tags': ['unknown'], 'certainty': None, 'link': None}\n",
            "Att. {'or': None, 'not_before': None, 'not_after': None, 'date_tags': ['unknown'], 'certainty': None, 'link': None}\n",
            "s. III a.  {'or': None, 'not_before': -300, 'not_after': -201, 'date_tags': ['range', 'cent'], 'certainty': None, 'link': None}\n",
            "s. IV a.? {'or': None, 'certainty': '?', 'not_before': -400, 'not_after': -301, 'date_tags': ['range', 'cent'], 'link': None}\n",
            "c. 132 p. {'or': None, 'not_before': 127, 'not_after': 137, 'date_tags': ['exact', 'phase', 'ca'], 'certainty': None, 'link': None}\n",
            "init. s. I p. {'or': None, 'not_before': 1, 'not_after': 11, 'date_tags': ['range', 'cent', 'phase', 'beg'], 'certainty': None, 'link': None}\n",
            "s. IV p. {'or': None, 'not_before': 301, 'not_after': 400, 'date_tags': ['range', 'cent'], 'certainty': None, 'link': None}\n",
            "init. s. I p. {'or': None, 'not_before': 1, 'not_after': 11, 'date_tags': ['range', 'cent', 'phase', 'beg'], 'certainty': None, 'link': None}\n",
            "34 a.ut 33 a. {'or': None, 'not_before': -34, 'not_after': -34, 'date_tags': ['exact'], 'certainty': None, 'link': None}\n",
            "s. II/III p. {'or': None, 'not_before': 101, 'not_after': 300, 'date_tags': ['range', 'cent', 'morece'], 'certainty': None, 'link': None}\n",
            "s. I/II p. {'or': None, 'not_before': 1, 'not_after': 200, 'date_tags': ['range', 'cent', 'morece'], 'certainty': None, 'link': None}\n",
            "init. s. I a. {'or': None, 'not_before': -100, 'not_after': -90, 'date_tags': ['range', 'cent', 'phase', 'beg'], 'certainty': None, 'link': None}\n",
            "med. s. IV a. {'or': None, 'not_before': -355, 'not_after': -346, 'date_tags': ['range', 'cent', 'phase', 'middle'], 'certainty': None, 'link': None}\n",
            "c. 37 p.? {'or': None, 'certainty': '?', 'not_before': None, 'not_after': None, 'date_tags': ['unknown', 'phase', 'ca'], 'link': None}\n",
            "Att. {'or': None, 'not_before': None, 'not_after': None, 'date_tags': ['unknown'], 'certainty': None, 'link': None}\n",
            "s. I p.? {'or': None, 'certainty': '?', 'not_before': -100, 'not_after': -1, 'date_tags': ['range', 'cent'], 'link': None}\n",
            "s. III a. {'or': None, 'not_before': -300, 'not_after': -201, 'date_tags': ['range', 'cent'], 'certainty': None, 'link': None}\n",
            "aet. Rom. {'or': None, 'source': nan, 'notes': nan, 'link': nan, 'not_before': -146, 'not_after': 324, 'date_tags': ['range', 'period'], 'certainty': None}\n",
            "init. s. I p. {'or': None, 'not_before': 1, 'not_after': 11, 'date_tags': ['range', 'cent', 'phase', 'beg'], 'certainty': None, 'link': None}\n",
            "med. s. IV a. {'or': None, 'not_before': -355, 'not_after': -346, 'date_tags': ['range', 'cent', 'phase', 'middle'], 'certainty': None, 'link': None}\n",
            "post med. s. IV a. {'or': None, 'not_before': -345, 'not_after': None, 'date_tags': ['range', 'cent', 'phase', 'middle', 'post'], 'certainty': None, 'link': None}\n",
            "s. I a. {'or': None, 'not_before': -100, 'not_after': -1, 'date_tags': ['range', 'cent'], 'certainty': None, 'link': None}\n",
            "Att. {'or': None, 'not_before': None, 'not_after': None, 'date_tags': ['unknown'], 'certainty': None, 'link': None}\n",
            "aet. Rom. {'or': None, 'source': nan, 'notes': nan, 'link': nan, 'not_before': -146, 'not_after': 324, 'date_tags': ['range', 'period'], 'certainty': None}\n",
            "c. 360 a. {'or': None, 'not_before': -365, 'not_after': -355, 'date_tags': ['exact', 'phase', 'ca'], 'certainty': None, 'link': None}\n",
            "s. III a.  {'or': None, 'not_before': -300, 'not_after': -201, 'date_tags': ['range', 'cent'], 'certainty': None, 'link': None}\n",
            "Att. {'or': None, 'not_before': None, 'not_after': None, 'date_tags': ['unknown'], 'certainty': None, 'link': None}\n",
            "Att. {'or': None, 'not_before': None, 'not_after': None, 'date_tags': ['unknown'], 'certainty': None, 'link': None}\n",
            "post fin. s. IV a.  {'or': None, 'not_before': -300, 'not_after': None, 'date_tags': ['range', 'cent', 'phase', 'end', 'post'], 'certainty': None, 'link': None}\n"
          ],
          "name": "stdout"
        }
      ]
    },
    {
      "cell_type": "code",
      "metadata": {
        "colab_type": "code",
        "id": "cmd4qGjmW9_D",
        "colab": {
          "base_uri": "https://localhost:8080/",
          "height": 139
        },
        "outputId": "d14d61ad-f2db-466f-b806-8f21e5f99529"
      },
      "source": [
        "PHI_by_200[\"dating_dict\"] = PHI_by_200.apply(lambda row: date_extractor(row[\"raw_date\"]), axis=1)"
      ],
      "execution_count": null,
      "outputs": [
        {
          "output_type": "stream",
          "text": [
            "/usr/local/lib/python3.6/dist-packages/ipykernel_launcher.py:1: SettingWithCopyWarning: \n",
            "A value is trying to be set on a copy of a slice from a DataFrame.\n",
            "Try using .loc[row_indexer,col_indexer] = value instead\n",
            "\n",
            "See the caveats in the documentation: https://pandas.pydata.org/pandas-docs/stable/user_guide/indexing.html#returning-a-view-versus-a-copy\n",
            "  \"\"\"Entry point for launching an IPython kernel.\n"
          ],
          "name": "stderr"
        }
      ]
    },
    {
      "cell_type": "code",
      "metadata": {
        "colab_type": "code",
        "id": "N1uBF2riWkSE",
        "colab": {
          "base_uri": "https://localhost:8080/",
          "height": 615
        },
        "outputId": "ea15e30e-1b4a-465f-cbd9-1d30071a60f2"
      },
      "source": [
        "PHI_by_200.head(5)"
      ],
      "execution_count": null,
      "outputs": [
        {
          "output_type": "execute_result",
          "data": {
            "text/html": [
              "<div>\n",
              "<style scoped>\n",
              "    .dataframe tbody tr th:only-of-type {\n",
              "        vertical-align: middle;\n",
              "    }\n",
              "\n",
              "    .dataframe tbody tr th {\n",
              "        vertical-align: top;\n",
              "    }\n",
              "\n",
              "    .dataframe thead th {\n",
              "        text-align: right;\n",
              "    }\n",
              "</style>\n",
              "<table border=\"1\" class=\"dataframe\">\n",
              "  <thead>\n",
              "    <tr style=\"text-align: right;\">\n",
              "      <th></th>\n",
              "      <th>URL</th>\n",
              "      <th>Book</th>\n",
              "      <th>Text</th>\n",
              "      <th>hdr1</th>\n",
              "      <th>hdr2</th>\n",
              "      <th>tildeinfo</th>\n",
              "      <th>note</th>\n",
              "      <th>lines</th>\n",
              "      <th>metadata</th>\n",
              "      <th>data</th>\n",
              "      <th>filename</th>\n",
              "      <th>PHI_ID</th>\n",
              "      <th>hdr1_scrape</th>\n",
              "      <th>hdr2_scrape</th>\n",
              "      <th>raw_date</th>\n",
              "      <th>dating_dict</th>\n",
              "    </tr>\n",
              "  </thead>\n",
              "  <tbody>\n",
              "    <tr>\n",
              "      <th>200</th>\n",
              "      <td>https://epigraphy.packhum.org/text/200</td>\n",
              "      <td>IG I³</td>\n",
              "      <td>193</td>\n",
              "      <td>None</td>\n",
              "      <td>None</td>\n",
              "      <td>Att. — stoich. 39? — 450-435</td>\n",
              "      <td>None</td>\n",
              "      <td>6</td>\n",
              "      <td>\\n\\n1\\n\\n\\n\\n\\n 5\\n\\n</td>\n",
              "      <td>— — — — — — — — — — — — — — — — — — — — — — —\\...</td>\n",
              "      <td>IG-I-3.csv</td>\n",
              "      <td>200</td>\n",
              "      <td>Regions\\nAttica (IG I-III)Attica</td>\n",
              "      <td>IG I³\\n193</td>\n",
              "      <td>450-435</td>\n",
              "      <td>{'or': None, 'not_before': -450, 'not_after': ...</td>\n",
              "    </tr>\n",
              "    <tr>\n",
              "      <th>400</th>\n",
              "      <td>https://epigraphy.packhum.org/text/400</td>\n",
              "      <td>IG I³</td>\n",
              "      <td>388</td>\n",
              "      <td>None</td>\n",
              "      <td>None</td>\n",
              "      <td>Att. — stoich. — 420-405 a.\\n\\nSee also:\\nI.El...</td>\n",
              "      <td>None</td>\n",
              "      <td>17</td>\n",
              "      <td>\\n\\n1\\n\\n\\n\\n\\n5\\n\\n\\n\\n\\n\\n10\\n\\n\\n\\n\\n\\n15\\n\\n</td>\n",
              "      <td>— — — — — — — — — — — —\\n— — — — Ι̣#⁷ — — — — ...</td>\n",
              "      <td>IG-I-3.csv</td>\n",
              "      <td>400</td>\n",
              "      <td>Regions\\nAttica (IG I-III)Attica</td>\n",
              "      <td>IG I³\\n388</td>\n",
              "      <td>420-405 a.</td>\n",
              "      <td>{'or': None, 'not_before': -420, 'not_after': ...</td>\n",
              "    </tr>\n",
              "    <tr>\n",
              "      <th>600</th>\n",
              "      <td>https://epigraphy.packhum.org/text/600</td>\n",
              "      <td>IG I³</td>\n",
              "      <td>564</td>\n",
              "      <td>None</td>\n",
              "      <td>None</td>\n",
              "      <td>Att. — Athens: Akropolis — c. 500-475? a. — IG...</td>\n",
              "      <td>None</td>\n",
              "      <td>0</td>\n",
              "      <td>\\n1\\n</td>\n",
              "      <td>Ἐπιγέν[ες — — —].</td>\n",
              "      <td>IG-I-3.csv</td>\n",
              "      <td>600</td>\n",
              "      <td>Regions\\nAttica (IG I-III)Attica</td>\n",
              "      <td>IG I³\\n564</td>\n",
              "      <td>c. 500-475? a.</td>\n",
              "      <td>{'or': None, 'certainty': '?', 'not_before': -...</td>\n",
              "    </tr>\n",
              "    <tr>\n",
              "      <th>800</th>\n",
              "      <td>https://epigraphy.packhum.org/text/800</td>\n",
              "      <td>IG I³</td>\n",
              "      <td>703</td>\n",
              "      <td>None</td>\n",
              "      <td>None</td>\n",
              "      <td>Att. — Athens: Akropolis — c. 500-480? a. — IG...</td>\n",
              "      <td>None</td>\n",
              "      <td>2</td>\n",
              "      <td>\\n1\\n\\n</td>\n",
              "      <td>[ἄρ]γ̣ματα Θότιμ— — — ἀνέθ[εκε — — —] /\\n—2-3—...</td>\n",
              "      <td>IG-I-3.csv</td>\n",
              "      <td>800</td>\n",
              "      <td>Regions\\nAttica (IG I-III)Attica</td>\n",
              "      <td>IG I³\\n703</td>\n",
              "      <td>c. 500-480? a.</td>\n",
              "      <td>{'or': None, 'certainty': '?', 'not_before': -...</td>\n",
              "    </tr>\n",
              "    <tr>\n",
              "      <th>1000</th>\n",
              "      <td>https://epigraphy.packhum.org/text/1000</td>\n",
              "      <td>IG I³</td>\n",
              "      <td>885</td>\n",
              "      <td>None</td>\n",
              "      <td>None</td>\n",
              "      <td>Att. — Athens: Akropolis — c. 440? a. — IG I² ...</td>\n",
              "      <td>None</td>\n",
              "      <td>2</td>\n",
              "      <td>\\n1\\n\\n\\n</td>\n",
              "      <td>[τόνδε Πυρε͂]ς ἀνέθεκε Πολυμνέστ̣ο φίλο[ς ℎυιὸ...</td>\n",
              "      <td>IG-I-3.csv</td>\n",
              "      <td>1000</td>\n",
              "      <td>Regions\\nAttica (IG I-III)Attica</td>\n",
              "      <td>IG I³\\n885</td>\n",
              "      <td>c. 440? a.</td>\n",
              "      <td>{'or': None, 'certainty': '?', 'not_before': -...</td>\n",
              "    </tr>\n",
              "  </tbody>\n",
              "</table>\n",
              "</div>"
            ],
            "text/plain": [
              "                                          URL  ...                                        dating_dict\n",
              "200    https://epigraphy.packhum.org/text/200  ...  {'or': None, 'not_before': -450, 'not_after': ...\n",
              "400    https://epigraphy.packhum.org/text/400  ...  {'or': None, 'not_before': -420, 'not_after': ...\n",
              "600    https://epigraphy.packhum.org/text/600  ...  {'or': None, 'certainty': '?', 'not_before': -...\n",
              "800    https://epigraphy.packhum.org/text/800  ...  {'or': None, 'certainty': '?', 'not_before': -...\n",
              "1000  https://epigraphy.packhum.org/text/1000  ...  {'or': None, 'certainty': '?', 'not_before': -...\n",
              "\n",
              "[5 rows x 16 columns]"
            ]
          },
          "metadata": {
            "tags": []
          },
          "execution_count": 150
        }
      ]
    },
    {
      "cell_type": "code",
      "metadata": {
        "colab_type": "code",
        "id": "v1YZjJXmXg26",
        "colab": {
          "base_uri": "https://localhost:8080/",
          "height": 139
        },
        "outputId": "315659e5-40b7-4050-c25e-be0137d49b9a"
      },
      "source": [
        "# extract data from dating_dict to individual columns:\n",
        "for key in [\"not_before\", \"not_after\", \"or\", \"date_tags\", \"certainty\", \"link\"]:\n",
        "  PHI_by_200[key] = PHI_by_200.apply(lambda row: row[\"dating_dict\"][key], axis=1)"
      ],
      "execution_count": null,
      "outputs": [
        {
          "output_type": "stream",
          "text": [
            "/usr/local/lib/python3.6/dist-packages/ipykernel_launcher.py:3: SettingWithCopyWarning: \n",
            "A value is trying to be set on a copy of a slice from a DataFrame.\n",
            "Try using .loc[row_indexer,col_indexer] = value instead\n",
            "\n",
            "See the caveats in the documentation: https://pandas.pydata.org/pandas-docs/stable/user_guide/indexing.html#returning-a-view-versus-a-copy\n",
            "  This is separate from the ipykernel package so we can avoid doing imports until\n"
          ],
          "name": "stderr"
        }
      ]
    },
    {
      "cell_type": "code",
      "metadata": {
        "colab_type": "code",
        "id": "jNSW7KDWQtDg",
        "colab": {
          "base_uri": "https://localhost:8080/",
          "height": 949
        },
        "outputId": "72f1f337-4c8f-45fa-cce6-59c98297a9ff"
      },
      "source": [
        "PHI_by_200"
      ],
      "execution_count": null,
      "outputs": [
        {
          "output_type": "execute_result",
          "data": {
            "text/html": [
              "<div>\n",
              "<style scoped>\n",
              "    .dataframe tbody tr th:only-of-type {\n",
              "        vertical-align: middle;\n",
              "    }\n",
              "\n",
              "    .dataframe tbody tr th {\n",
              "        vertical-align: top;\n",
              "    }\n",
              "\n",
              "    .dataframe thead th {\n",
              "        text-align: right;\n",
              "    }\n",
              "</style>\n",
              "<table border=\"1\" class=\"dataframe\">\n",
              "  <thead>\n",
              "    <tr style=\"text-align: right;\">\n",
              "      <th></th>\n",
              "      <th>URL</th>\n",
              "      <th>Book</th>\n",
              "      <th>Text</th>\n",
              "      <th>hdr1</th>\n",
              "      <th>hdr2</th>\n",
              "      <th>tildeinfo</th>\n",
              "      <th>note</th>\n",
              "      <th>lines</th>\n",
              "      <th>metadata</th>\n",
              "      <th>data</th>\n",
              "      <th>filename</th>\n",
              "      <th>PHI_ID</th>\n",
              "      <th>hdr1_scrape</th>\n",
              "      <th>hdr2_scrape</th>\n",
              "      <th>raw_date</th>\n",
              "      <th>dating_dict</th>\n",
              "      <th>not_before</th>\n",
              "      <th>not_after</th>\n",
              "      <th>or</th>\n",
              "      <th>date_tags</th>\n",
              "      <th>certainty</th>\n",
              "      <th>link</th>\n",
              "    </tr>\n",
              "  </thead>\n",
              "  <tbody>\n",
              "    <tr>\n",
              "      <th>200</th>\n",
              "      <td>https://epigraphy.packhum.org/text/200</td>\n",
              "      <td>IG I³</td>\n",
              "      <td>193</td>\n",
              "      <td>None</td>\n",
              "      <td>None</td>\n",
              "      <td>Att. — stoich. 39? — 450-435</td>\n",
              "      <td>None</td>\n",
              "      <td>6</td>\n",
              "      <td>\\n\\n1\\n\\n\\n\\n\\n 5\\n\\n</td>\n",
              "      <td>— — — — — — — — — — — — — — — — — — — — — — —\\...</td>\n",
              "      <td>IG-I-3.csv</td>\n",
              "      <td>200</td>\n",
              "      <td>Regions\\nAttica (IG I-III)Attica</td>\n",
              "      <td>IG I³\\n193</td>\n",
              "      <td>450-435</td>\n",
              "      <td>{'or': None, 'not_before': -450, 'not_after': ...</td>\n",
              "      <td>-450.0</td>\n",
              "      <td>-435.0</td>\n",
              "      <td>None</td>\n",
              "      <td>[range]</td>\n",
              "      <td>None</td>\n",
              "      <td>None</td>\n",
              "    </tr>\n",
              "    <tr>\n",
              "      <th>400</th>\n",
              "      <td>https://epigraphy.packhum.org/text/400</td>\n",
              "      <td>IG I³</td>\n",
              "      <td>388</td>\n",
              "      <td>None</td>\n",
              "      <td>None</td>\n",
              "      <td>Att. — stoich. — 420-405 a.\\n\\nSee also:\\nI.El...</td>\n",
              "      <td>None</td>\n",
              "      <td>17</td>\n",
              "      <td>\\n\\n1\\n\\n\\n\\n\\n5\\n\\n\\n\\n\\n\\n10\\n\\n\\n\\n\\n\\n15\\n\\n</td>\n",
              "      <td>— — — — — — — — — — — —\\n— — — — Ι̣#⁷ — — — — ...</td>\n",
              "      <td>IG-I-3.csv</td>\n",
              "      <td>400</td>\n",
              "      <td>Regions\\nAttica (IG I-III)Attica</td>\n",
              "      <td>IG I³\\n388</td>\n",
              "      <td>420-405 a.</td>\n",
              "      <td>{'or': None, 'not_before': -420, 'not_after': ...</td>\n",
              "      <td>-420.0</td>\n",
              "      <td>-405.0</td>\n",
              "      <td>None</td>\n",
              "      <td>[range]</td>\n",
              "      <td>None</td>\n",
              "      <td>None</td>\n",
              "    </tr>\n",
              "    <tr>\n",
              "      <th>600</th>\n",
              "      <td>https://epigraphy.packhum.org/text/600</td>\n",
              "      <td>IG I³</td>\n",
              "      <td>564</td>\n",
              "      <td>None</td>\n",
              "      <td>None</td>\n",
              "      <td>Att. — Athens: Akropolis — c. 500-475? a. — IG...</td>\n",
              "      <td>None</td>\n",
              "      <td>0</td>\n",
              "      <td>\\n1\\n</td>\n",
              "      <td>Ἐπιγέν[ες — — —].</td>\n",
              "      <td>IG-I-3.csv</td>\n",
              "      <td>600</td>\n",
              "      <td>Regions\\nAttica (IG I-III)Attica</td>\n",
              "      <td>IG I³\\n564</td>\n",
              "      <td>c. 500-475? a.</td>\n",
              "      <td>{'or': None, 'certainty': '?', 'not_before': -...</td>\n",
              "      <td>-502.0</td>\n",
              "      <td>-473.0</td>\n",
              "      <td>None</td>\n",
              "      <td>[range, phase, ca]</td>\n",
              "      <td>?</td>\n",
              "      <td>None</td>\n",
              "    </tr>\n",
              "    <tr>\n",
              "      <th>800</th>\n",
              "      <td>https://epigraphy.packhum.org/text/800</td>\n",
              "      <td>IG I³</td>\n",
              "      <td>703</td>\n",
              "      <td>None</td>\n",
              "      <td>None</td>\n",
              "      <td>Att. — Athens: Akropolis — c. 500-480? a. — IG...</td>\n",
              "      <td>None</td>\n",
              "      <td>2</td>\n",
              "      <td>\\n1\\n\\n</td>\n",
              "      <td>[ἄρ]γ̣ματα Θότιμ— — — ἀνέθ[εκε — — —] /\\n—2-3—...</td>\n",
              "      <td>IG-I-3.csv</td>\n",
              "      <td>800</td>\n",
              "      <td>Regions\\nAttica (IG I-III)Attica</td>\n",
              "      <td>IG I³\\n703</td>\n",
              "      <td>c. 500-480? a.</td>\n",
              "      <td>{'or': None, 'certainty': '?', 'not_before': -...</td>\n",
              "      <td>-502.0</td>\n",
              "      <td>-478.0</td>\n",
              "      <td>None</td>\n",
              "      <td>[range, phase, ca]</td>\n",
              "      <td>?</td>\n",
              "      <td>None</td>\n",
              "    </tr>\n",
              "    <tr>\n",
              "      <th>1000</th>\n",
              "      <td>https://epigraphy.packhum.org/text/1000</td>\n",
              "      <td>IG I³</td>\n",
              "      <td>885</td>\n",
              "      <td>None</td>\n",
              "      <td>None</td>\n",
              "      <td>Att. — Athens: Akropolis — c. 440? a. — IG I² ...</td>\n",
              "      <td>None</td>\n",
              "      <td>2</td>\n",
              "      <td>\\n1\\n\\n\\n</td>\n",
              "      <td>[τόνδε Πυρε͂]ς ἀνέθεκε Πολυμνέστ̣ο φίλο[ς ℎυιὸ...</td>\n",
              "      <td>IG-I-3.csv</td>\n",
              "      <td>1000</td>\n",
              "      <td>Regions\\nAttica (IG I-III)Attica</td>\n",
              "      <td>IG I³\\n885</td>\n",
              "      <td>c. 440? a.</td>\n",
              "      <td>{'or': None, 'certainty': '?', 'not_before': -...</td>\n",
              "      <td>-445.0</td>\n",
              "      <td>-435.0</td>\n",
              "      <td>None</td>\n",
              "      <td>[exact, phase, ca]</td>\n",
              "      <td>?</td>\n",
              "      <td>None</td>\n",
              "    </tr>\n",
              "    <tr>\n",
              "      <th>...</th>\n",
              "      <td>...</td>\n",
              "      <td>...</td>\n",
              "      <td>...</td>\n",
              "      <td>...</td>\n",
              "      <td>...</td>\n",
              "      <td>...</td>\n",
              "      <td>...</td>\n",
              "      <td>...</td>\n",
              "      <td>...</td>\n",
              "      <td>...</td>\n",
              "      <td>...</td>\n",
              "      <td>...</td>\n",
              "      <td>...</td>\n",
              "      <td>...</td>\n",
              "      <td>...</td>\n",
              "      <td>...</td>\n",
              "      <td>...</td>\n",
              "      <td>...</td>\n",
              "      <td>...</td>\n",
              "      <td>...</td>\n",
              "      <td>...</td>\n",
              "      <td>...</td>\n",
              "    </tr>\n",
              "    <tr>\n",
              "      <th>299000</th>\n",
              "      <td>/text/299000?location=1237&amp;patt=&amp;bookid=736&amp;of...</td>\n",
              "      <td>IDR III,2</td>\n",
              "      <td>309</td>\n",
              "      <td>Regions\\nThrace and the Lower Danube (IG X)\\nD...</td>\n",
              "      <td>IDR III,2\\n309</td>\n",
              "      <td>Dacia Sup. — Ulpia Traiana-Sarmizegetusa — 2nd...</td>\n",
              "      <td>None</td>\n",
              "      <td>7</td>\n",
              "      <td>1\\n\\n\\n\\n5\\n\\n</td>\n",
              "      <td>Deae Regi(nae)\\nAel(ia) Primi-\\ntiva ex vot(o)...</td>\n",
              "      <td>IDR-III-2.csv</td>\n",
              "      <td>299000</td>\n",
              "      <td>None</td>\n",
              "      <td>None</td>\n",
              "      <td>2nd/3rd c. AD</td>\n",
              "      <td>{'or': None, 'not_before': 101, 'not_after': 3...</td>\n",
              "      <td>101.0</td>\n",
              "      <td>300.0</td>\n",
              "      <td>None</td>\n",
              "      <td>[range, cent, morece]</td>\n",
              "      <td>None</td>\n",
              "      <td>None</td>\n",
              "    </tr>\n",
              "    <tr>\n",
              "      <th>299200</th>\n",
              "      <td>/text/299200?location=1237&amp;patt=&amp;bookid=736&amp;of...</td>\n",
              "      <td>IDR III,2</td>\n",
              "      <td>506</td>\n",
              "      <td>Regions\\nThrace and the Lower Danube (IG X)\\nD...</td>\n",
              "      <td>IDR III,2\\n506</td>\n",
              "      <td>Dacia Sup. — Ulpia Traiana-Sarmizegetusa — 2nd...</td>\n",
              "      <td>None</td>\n",
              "      <td>12</td>\n",
              "      <td>frg. a\\n\\n\\n\\nfrg. b\\n\\n\\n\\n\\nfrg. c\\n\\n</td>\n",
              "      <td>[— — — — —]\\n[— —]MI[— —]\\n[— — — — —]\\n\\n[— —...</td>\n",
              "      <td>IDR-III-2.csv</td>\n",
              "      <td>299200</td>\n",
              "      <td>None</td>\n",
              "      <td>None</td>\n",
              "      <td>2nd/3rd c. AD</td>\n",
              "      <td>{'or': None, 'not_before': 101, 'not_after': 3...</td>\n",
              "      <td>101.0</td>\n",
              "      <td>300.0</td>\n",
              "      <td>None</td>\n",
              "      <td>[range, cent, morece]</td>\n",
              "      <td>None</td>\n",
              "      <td>None</td>\n",
              "    </tr>\n",
              "    <tr>\n",
              "      <th>299400</th>\n",
              "      <td>/text/299400?location=1237&amp;patt=&amp;bookid=737&amp;of...</td>\n",
              "      <td>IDR III,3</td>\n",
              "      <td>83</td>\n",
              "      <td>Regions\\nThrace and the Lower Danube (IG X)\\nD...</td>\n",
              "      <td>IDR III,3\\n83</td>\n",
              "      <td>Dacia Sup. — Micia (Vețel) — 2nd/3rd c. AD — C...</td>\n",
              "      <td>None</td>\n",
              "      <td>6</td>\n",
              "      <td>1\\n\\n\\n\\n5\\n</td>\n",
              "      <td>I(ovi) O(ptimo) M(aximo)\\nvet(erani) et c(ives...</td>\n",
              "      <td>IDR-III-3.csv</td>\n",
              "      <td>299400</td>\n",
              "      <td>None</td>\n",
              "      <td>None</td>\n",
              "      <td>2nd/3rd c. AD</td>\n",
              "      <td>{'or': None, 'not_before': 101, 'not_after': 3...</td>\n",
              "      <td>101.0</td>\n",
              "      <td>300.0</td>\n",
              "      <td>None</td>\n",
              "      <td>[range, cent, morece]</td>\n",
              "      <td>None</td>\n",
              "      <td>None</td>\n",
              "    </tr>\n",
              "    <tr>\n",
              "      <th>299600</th>\n",
              "      <td>/text/299600?location=1237&amp;patt=&amp;bookid=737&amp;of...</td>\n",
              "      <td>IDR III,3</td>\n",
              "      <td>232</td>\n",
              "      <td>Regions\\nThrace and the Lower Danube (IG X)\\nD...</td>\n",
              "      <td>IDR III,3\\n232</td>\n",
              "      <td>Dacia Sup. — Germisara: Geoagiu — 161 AD</td>\n",
              "      <td>None</td>\n",
              "      <td>7</td>\n",
              "      <td>1\\n\\n\\n\\n5\\n\\n</td>\n",
              "      <td>Aesculapio\\net Hygiae\\nsacrum\\nP(ublius) Furiu...</td>\n",
              "      <td>IDR-III-3.csv</td>\n",
              "      <td>299600</td>\n",
              "      <td>None</td>\n",
              "      <td>None</td>\n",
              "      <td>161 AD</td>\n",
              "      <td>{'or': None, 'not_before': 161, 'not_after': 1...</td>\n",
              "      <td>161.0</td>\n",
              "      <td>161.0</td>\n",
              "      <td>None</td>\n",
              "      <td>[exact]</td>\n",
              "      <td>None</td>\n",
              "      <td>None</td>\n",
              "    </tr>\n",
              "    <tr>\n",
              "      <th>299800</th>\n",
              "      <td>/text/299800?location=1237&amp;patt=&amp;bookid=737&amp;of...</td>\n",
              "      <td>IDR III,3</td>\n",
              "      <td>396</td>\n",
              "      <td>Regions\\nThrace and the Lower Danube (IG X)\\nD...</td>\n",
              "      <td>IDR III,3\\n396</td>\n",
              "      <td>Dacia Sup. — Alburnus Maior (Roșia Montană) — ...</td>\n",
              "      <td>None</td>\n",
              "      <td>5</td>\n",
              "      <td>1\\n\\n\\n\\n5</td>\n",
              "      <td>Lib(ero) Patr(i)\\nsacrum\\nAtrius Ma-\\nximi v(o...</td>\n",
              "      <td>IDR-III-3.csv</td>\n",
              "      <td>299800</td>\n",
              "      <td>None</td>\n",
              "      <td>None</td>\n",
              "      <td>2nd/3rd c. AD</td>\n",
              "      <td>{'or': None, 'not_before': 101, 'not_after': 3...</td>\n",
              "      <td>101.0</td>\n",
              "      <td>300.0</td>\n",
              "      <td>None</td>\n",
              "      <td>[range, cent, morece]</td>\n",
              "      <td>None</td>\n",
              "      <td>None</td>\n",
              "    </tr>\n",
              "  </tbody>\n",
              "</table>\n",
              "<p>829 rows × 22 columns</p>\n",
              "</div>"
            ],
            "text/plain": [
              "                                                      URL  ...  link\n",
              "200                https://epigraphy.packhum.org/text/200  ...  None\n",
              "400                https://epigraphy.packhum.org/text/400  ...  None\n",
              "600                https://epigraphy.packhum.org/text/600  ...  None\n",
              "800                https://epigraphy.packhum.org/text/800  ...  None\n",
              "1000              https://epigraphy.packhum.org/text/1000  ...  None\n",
              "...                                                   ...  ...   ...\n",
              "299000  /text/299000?location=1237&patt=&bookid=736&of...  ...  None\n",
              "299200  /text/299200?location=1237&patt=&bookid=736&of...  ...  None\n",
              "299400  /text/299400?location=1237&patt=&bookid=737&of...  ...  None\n",
              "299600  /text/299600?location=1237&patt=&bookid=737&of...  ...  None\n",
              "299800  /text/299800?location=1237&patt=&bookid=737&of...  ...  None\n",
              "\n",
              "[829 rows x 22 columns]"
            ]
          },
          "metadata": {
            "tags": []
          },
          "execution_count": 152
        }
      ]
    },
    {
      "cell_type": "code",
      "metadata": {
        "colab_type": "code",
        "id": "_L14WDyMZldZ",
        "colab": {}
      },
      "source": [
        "set_with_dataframe(PHI_overview.add_worksheet(\"PHI_by_200_v1\", 1,1), PHI_by_200)"
      ],
      "execution_count": null,
      "outputs": []
    },
    {
      "cell_type": "markdown",
      "metadata": {
        "colab_type": "text",
        "id": "kMIDY7PGR0p9"
      },
      "source": [
        "# Application on the whole dataset"
      ]
    },
    {
      "cell_type": "code",
      "metadata": {
        "colab_type": "code",
        "id": "v7sMji52R4qn",
        "colab": {
          "base_uri": "https://localhost:8080/",
          "height": 51
        },
        "outputId": "d229979c-472f-491e-8b33-2935ff0c74cc"
      },
      "source": [
        "%%time\n",
        "def apply_function(row):\n",
        "  try: \n",
        "    return date_extractor(row[\"raw_date\"])\n",
        "  except:\n",
        "    return {\"not_before\": None, \"not_after\": None, \"or\": None, \"date_tags\": [\"unknown\"], \"link\" : None, \"certainty\" : None}\n",
        "\n",
        "PHI[\"dating_dict\"] = PHI.apply(lambda row: apply_function(row), axis=1)\n",
        "# extract data from dating_dict to individual columns:\n",
        "for key in [\"not_before\", \"not_after\", \"or\", \"date_tags\", \"certainty\", \"link\"]:\n",
        "  PHI[key] = PHI.apply(lambda row: row[\"dating_dict\"][key], axis=1)"
      ],
      "execution_count": 366,
      "outputs": [
        {
          "output_type": "stream",
          "text": [
            "CPU times: user 1min 34s, sys: 203 ms, total: 1min 34s\n",
            "Wall time: 1min 34s\n"
          ],
          "name": "stdout"
        }
      ]
    },
    {
      "cell_type": "code",
      "metadata": {
        "colab_type": "code",
        "id": "PWHmdyYUUIVI",
        "colab": {
          "base_uri": "https://localhost:8080/",
          "height": 1000
        },
        "outputId": "4fa774c0-4afd-4dc5-80f0-ed6623a6f0b6"
      },
      "source": [
        "PHI.head(20)"
      ],
      "execution_count": 367,
      "outputs": [
        {
          "output_type": "execute_result",
          "data": {
            "text/html": [
              "<div>\n",
              "<style scoped>\n",
              "    .dataframe tbody tr th:only-of-type {\n",
              "        vertical-align: middle;\n",
              "    }\n",
              "\n",
              "    .dataframe tbody tr th {\n",
              "        vertical-align: top;\n",
              "    }\n",
              "\n",
              "    .dataframe thead th {\n",
              "        text-align: right;\n",
              "    }\n",
              "</style>\n",
              "<table border=\"1\" class=\"dataframe\">\n",
              "  <thead>\n",
              "    <tr style=\"text-align: right;\">\n",
              "      <th></th>\n",
              "      <th>URL</th>\n",
              "      <th>Book</th>\n",
              "      <th>Text</th>\n",
              "      <th>hdr1</th>\n",
              "      <th>hdr2</th>\n",
              "      <th>tildeinfo</th>\n",
              "      <th>note</th>\n",
              "      <th>lines</th>\n",
              "      <th>metadata</th>\n",
              "      <th>data</th>\n",
              "      <th>filename</th>\n",
              "      <th>PHI_ID</th>\n",
              "      <th>hdr1_scrape</th>\n",
              "      <th>hdr2_scrape</th>\n",
              "      <th>clean_text_conservative</th>\n",
              "      <th>clean_text_interpretive_word</th>\n",
              "      <th>clean_text_interpretive_sentence</th>\n",
              "      <th>raw_date</th>\n",
              "      <th>dating_dict</th>\n",
              "      <th>not_before</th>\n",
              "      <th>not_after</th>\n",
              "      <th>or</th>\n",
              "      <th>date_tags</th>\n",
              "      <th>certainty</th>\n",
              "      <th>link</th>\n",
              "    </tr>\n",
              "  </thead>\n",
              "  <tbody>\n",
              "    <tr>\n",
              "      <th>0</th>\n",
              "      <td>https://epigraphy.packhum.org/text/1</td>\n",
              "      <td>IG I³</td>\n",
              "      <td>1</td>\n",
              "      <td>Regions\\n\\nAttica (IG I-III)Attica</td>\n",
              "      <td>NaN</td>\n",
              "      <td>Att. — Ath.: Akr. — stoich. 35 — c. 510-500 a....</td>\n",
              "      <td>NaN</td>\n",
              "      <td>12.0</td>\n",
              "      <td>\\n1\\n\\n\\n\\n\\n5\\n\\n\\n\\n\\n\\n10\\n\\n\\n</td>\n",
              "      <td>ἔδοχσεν το͂ι δέμοι· τ̣[ὸς ἐ Σ]αλαμ̣[ῖνι κλερόχ...</td>\n",
              "      <td>IG-I-3.csv</td>\n",
              "      <td>1</td>\n",
              "      <td>Regions\\nAttica (IG I-III)Attica</td>\n",
              "      <td>IG I³\\n1</td>\n",
              "      <td>ἔδοχσεν το͂ι δέμοι ταλαμος οἰκε͂ν ἐᾶ Σαλαμῖνι ...</td>\n",
              "      <td>ἔδοχσεν το͂ι δέμοι τὸς ἐ Σαλαμῖνι κλερόχος οἰκ...</td>\n",
              "      <td>ἔδοχσεν το͂ι δέμοι τὸς ἐ Σαλαμῖνι κλερόχος οἰκ...</td>\n",
              "      <td>c. 510-500 a.</td>\n",
              "      <td>{'or': None, 'not_before': -511, 'not_after': ...</td>\n",
              "      <td>-511.0</td>\n",
              "      <td>-499.0</td>\n",
              "      <td>None</td>\n",
              "      <td>[range, phase, ca]</td>\n",
              "      <td>None</td>\n",
              "      <td>None</td>\n",
              "    </tr>\n",
              "    <tr>\n",
              "      <th>1</th>\n",
              "      <td>https://epigraphy.packhum.org/text/2</td>\n",
              "      <td>IG I³</td>\n",
              "      <td>2</td>\n",
              "      <td>Regions\\n\\nAttica (IG I-III)Attica</td>\n",
              "      <td>NaN</td>\n",
              "      <td>Att. — non-stoich. — c. 500 a.</td>\n",
              "      <td>NaN</td>\n",
              "      <td>14.0</td>\n",
              "      <td>\\n1\\n\\n\\n\\n\\n5\\n\\n\\n\\n\\n\\n10\\n\\n\\n\\n\\n</td>\n",
              "      <td>[․․8-9․․․]ν̣ βολ — — — — — — — — — —\\n[․6-7․․]...</td>\n",
              "      <td>IG-I-3.csv</td>\n",
              "      <td>2</td>\n",
              "      <td>Regions\\nAttica (IG I-III)Attica</td>\n",
              "      <td>IG I³\\n2</td>\n",
              "      <td>ν βολ α ℎεκον σιον γνοσθε͂ι δὲ ν ἀτεχνος μὲ π ...</td>\n",
              "      <td>ν βολ α ℎεκον σιον γνοσθε͂ι δὲ ν ἀτεχνος μὲ π ...</td>\n",
              "      <td>․․ ․․․ν βολ ․ ․․ α ⋮ ℎεκον σιον, γνοσθε͂ι δὲ ν...</td>\n",
              "      <td>c. 500 a.</td>\n",
              "      <td>{'or': None, 'not_before': -505, 'not_after': ...</td>\n",
              "      <td>-505.0</td>\n",
              "      <td>-495.0</td>\n",
              "      <td>None</td>\n",
              "      <td>[exact, phase, ca]</td>\n",
              "      <td>None</td>\n",
              "      <td>None</td>\n",
              "    </tr>\n",
              "    <tr>\n",
              "      <th>2</th>\n",
              "      <td>https://epigraphy.packhum.org/text/3</td>\n",
              "      <td>IG I³</td>\n",
              "      <td>3</td>\n",
              "      <td>Regions\\n\\nAttica (IG I-III)Attica</td>\n",
              "      <td>NaN</td>\n",
              "      <td>Att. — stoich. 21 — 490-480 a.</td>\n",
              "      <td>NaN</td>\n",
              "      <td>13.0</td>\n",
              "      <td>\\n1\\n\\n\\n\\n\\n5\\n\\n\\n\\n\\n\\n10\\n\\n\\n\\n</td>\n",
              "      <td>[․]αρ[․․․․]ι ℎερακλειο[․․5․․]\\n[․]αρ̣ο#⁷[․] τι...</td>\n",
              "      <td>IG-I-3.csv</td>\n",
              "      <td>3</td>\n",
              "      <td>Regions\\nAttica (IG I-III)Attica</td>\n",
              "      <td>IG I³\\n3</td>\n",
              "      <td>αρι ℎερακλειο αρο τιθέναι τὸς ἀέτας τριάκοντα ...</td>\n",
              "      <td>αρι ℎερακλειο αρο τιθέναι τὸς ἀθλοθέτας τριάκο...</td>\n",
              "      <td>αρι ℎερακλειο․․․․ αρο τιθέναι τὸς ἀθλοθέτας τρ...</td>\n",
              "      <td>490-480 a.</td>\n",
              "      <td>{'or': None, 'not_before': -490, 'not_after': ...</td>\n",
              "      <td>-490.0</td>\n",
              "      <td>-480.0</td>\n",
              "      <td>None</td>\n",
              "      <td>[range]</td>\n",
              "      <td>None</td>\n",
              "      <td>None</td>\n",
              "    </tr>\n",
              "    <tr>\n",
              "      <th>3</th>\n",
              "      <td>https://epigraphy.packhum.org/text/4</td>\n",
              "      <td>IG I³</td>\n",
              "      <td>4</td>\n",
              "      <td>Regions\\n\\nAttica (IG I-III)Attica</td>\n",
              "      <td>NaN</td>\n",
              "      <td>Att. — stoich. 38 — 485/4 a.</td>\n",
              "      <td>NaN</td>\n",
              "      <td>58.0</td>\n",
              "      <td>\\nface A.1\\n\\n\\n\\n\\n5\\n\\n\\n\\n\\n\\n10\\n\\n\\n\\n\\n\\...</td>\n",
              "      <td>[․․․․․․․․․․․․․․․․․․38․․․․․․․․․․․․․․․․․․]\\n[․․․...</td>\n",
              "      <td>IG-I-3.csv</td>\n",
              "      <td>4</td>\n",
              "      <td>Regions\\nAttica (IG I-III)Attica</td>\n",
              "      <td>IG I³\\n4</td>\n",
              "      <td>δέ τις αν ἒ φρορὰν μ ντέκοντα δχμὰς τ ας ℎες π...</td>\n",
              "      <td>ἐὰν δέ τις αν ἒ φρορὰν μὲ πεντέκοντα δραχμὰς τ...</td>\n",
              "      <td>․․․․․․․․․․․․․․․․․․․․․․․․․․․․․․․․․․․․ ․․․․․․․․․...</td>\n",
              "      <td>485/4 a.</td>\n",
              "      <td>{'or': None, 'not_before': -485, 'not_after': ...</td>\n",
              "      <td>-485.0</td>\n",
              "      <td>-484.0</td>\n",
              "      <td>None</td>\n",
              "      <td>[range]</td>\n",
              "      <td>None</td>\n",
              "      <td>None</td>\n",
              "    </tr>\n",
              "    <tr>\n",
              "      <th>4</th>\n",
              "      <td>https://epigraphy.packhum.org/text/5</td>\n",
              "      <td>IG I³</td>\n",
              "      <td>5</td>\n",
              "      <td>Regions\\n\\nAttica (IG I-III)Attica</td>\n",
              "      <td>NaN</td>\n",
              "      <td>Att. — c. 500 a.\\n\\nSee also:\\nI.Eleusis 13</td>\n",
              "      <td>NaN</td>\n",
              "      <td>6.0</td>\n",
              "      <td>\\n1\\n\\n\\n\\n \\n5\\n\\n</td>\n",
              "      <td>[ἔδοχσε]ν [⋮ τε͂ι βολε͂ι] ⋮ καὶ [τ]ο͂ι δέμοι ⋮...</td>\n",
              "      <td>IG-I-3.csv</td>\n",
              "      <td>5</td>\n",
              "      <td>Regions\\nAttica (IG I-III)Attica</td>\n",
              "      <td>IG I³\\n5</td>\n",
              "      <td>ν καὶ ο͂ι δέμοι ℎότε Παραιβάτες λεια θν τὸς ℎι...</td>\n",
              "      <td>ἔδοχσεν τε͂ι βολε͂ι καὶ το͂ι δέμοι ℎότε Παραιβ...</td>\n",
              "      <td>ἔδοχσεν ⋮ τε͂ι βολε͂ι ⋮ καὶ το͂ι δέμοι ⋮ ℎότε ...</td>\n",
              "      <td>c. 500 a.</td>\n",
              "      <td>{'or': None, 'not_before': -505, 'not_after': ...</td>\n",
              "      <td>-505.0</td>\n",
              "      <td>-495.0</td>\n",
              "      <td>None</td>\n",
              "      <td>[exact, phase, ca]</td>\n",
              "      <td>None</td>\n",
              "      <td>None</td>\n",
              "    </tr>\n",
              "    <tr>\n",
              "      <th>5</th>\n",
              "      <td>https://epigraphy.packhum.org/text/6</td>\n",
              "      <td>IG I³</td>\n",
              "      <td>6</td>\n",
              "      <td>Regions\\n\\nAttica (IG I-III)Attica</td>\n",
              "      <td>NaN</td>\n",
              "      <td>Att. — stoich. 23/11 — ante 460 a.\\n\\nSee also...</td>\n",
              "      <td>NaN</td>\n",
              "      <td>168.0</td>\n",
              "      <td>\\nface A.BM 309.1\\n\\n\\n\\n\\n5\\n\\n\\n\\n\\n\\n10\\n\\n...</td>\n",
              "      <td>— — — — — — — — — — — — —\\n[․․․․․․15․․․․․․․] δ...</td>\n",
              "      <td>IG-I-3.csv</td>\n",
              "      <td>6</td>\n",
              "      <td>Regions\\nAttica (IG I-III)Attica</td>\n",
              "      <td>IG I³\\n6</td>\n",
              "      <td>δραχμε͂ιστες τὸς ιο μενος δεμο το͂ν πόλεο οκε͂...</td>\n",
              "      <td>δραχμε͂ισι τες τὸς ιο μενος δεμο το͂ν πόλεον δ...</td>\n",
              "      <td>․․․․․․․․․․․․․ δραχμε͂ισι ․․․․․․․․․․․․τες τὸς ι...</td>\n",
              "      <td>ante 460 a.</td>\n",
              "      <td>{'or': None, 'not_before': None, 'not_after': ...</td>\n",
              "      <td>NaN</td>\n",
              "      <td>-461.0</td>\n",
              "      <td>None</td>\n",
              "      <td>[ante]</td>\n",
              "      <td>None</td>\n",
              "      <td>None</td>\n",
              "    </tr>\n",
              "    <tr>\n",
              "      <th>6</th>\n",
              "      <td>https://epigraphy.packhum.org/text/7</td>\n",
              "      <td>IG I³</td>\n",
              "      <td>7</td>\n",
              "      <td>Regions\\n\\nAttica (IG I-III)Attica</td>\n",
              "      <td>NaN</td>\n",
              "      <td>Att. — stoich. 40 — 460-450</td>\n",
              "      <td>NaN</td>\n",
              "      <td>29.0</td>\n",
              "      <td>\\nfrg. a.1\\n\\n\\n\\n\\n5\\n\\n\\n\\n\\n\\n10\\n\\n\\n\\n\\n1...</td>\n",
              "      <td>[ἔδοχσεν τε͂]ι βο[λ]ε͂[ι καὶ το͂ι δέμοι· ․․6․․...</td>\n",
              "      <td>IG-I-3.csv</td>\n",
              "      <td>7</td>\n",
              "      <td>Regions\\nAttica (IG I-III)Attica</td>\n",
              "      <td>IG I³\\n7</td>\n",
              "      <td>ι βοε͂ς ἐγραμμ ρὶ ὁ͂ν δέοεο͂ καὶ τὰ πρόαντας ...</td>\n",
              "      <td>ἔδοχσεν τε͂ι βολε͂ι καὶ το͂ι δέμοι ἐπρυτάνευε ...</td>\n",
              "      <td>ἔδοχσεν τε͂ι βολε͂ι καὶ το͂ι δέμοι ․․․․․ ἐπρυτ...</td>\n",
              "      <td>460-450</td>\n",
              "      <td>{'or': None, 'not_before': -460, 'not_after': ...</td>\n",
              "      <td>-460.0</td>\n",
              "      <td>-450.0</td>\n",
              "      <td>None</td>\n",
              "      <td>[range]</td>\n",
              "      <td>None</td>\n",
              "      <td>None</td>\n",
              "    </tr>\n",
              "    <tr>\n",
              "      <th>7</th>\n",
              "      <td>https://epigraphy.packhum.org/text/8</td>\n",
              "      <td>IG I³</td>\n",
              "      <td>8</td>\n",
              "      <td>Regions\\n\\nAttica (IG I-III)Attica</td>\n",
              "      <td>NaN</td>\n",
              "      <td>Att. — stoich. 32 — 460-450</td>\n",
              "      <td>NaN</td>\n",
              "      <td>27.0</td>\n",
              "      <td>\\nfrg. a.1\\n\\n\\n\\n\\n5\\n\\n\\n\\n\\n\\n10\\n\\n\\n\\nfrg...</td>\n",
              "      <td>[․․5․․]#⁷ον ℎὰ ο[․․․․․․․․․21․․․․․․․․․․]\\nα περ...</td>\n",
              "      <td>IG-I-3.csv</td>\n",
              "      <td>8</td>\n",
              "      <td>Regions\\nAttica (IG I-III)Attica</td>\n",
              "      <td>IG I³\\n8</td>\n",
              "      <td>ον ℎὰ ο α περὶ τούτον μον Ἀντίβιορ Καλλίμαχος ...</td>\n",
              "      <td>ον ℎὰ ο α περὶ τούτον δε͂μον Ἀντίβιος εἶπεν τὰ...</td>\n",
              "      <td>․․․․ ον ℎὰ ο․․․․․․․․․․․․․․․․․․․ α περὶ τούτον ...</td>\n",
              "      <td>460-450</td>\n",
              "      <td>{'or': None, 'not_before': -460, 'not_after': ...</td>\n",
              "      <td>-460.0</td>\n",
              "      <td>-450.0</td>\n",
              "      <td>None</td>\n",
              "      <td>[range]</td>\n",
              "      <td>None</td>\n",
              "      <td>None</td>\n",
              "    </tr>\n",
              "    <tr>\n",
              "      <th>8</th>\n",
              "      <td>https://epigraphy.packhum.org/text/9</td>\n",
              "      <td>IG I³</td>\n",
              "      <td>9</td>\n",
              "      <td>Regions\\n\\nAttica (IG I-III)Attica</td>\n",
              "      <td>NaN</td>\n",
              "      <td>Att. — stoich. 24 — c. 458 a.</td>\n",
              "      <td>NaN</td>\n",
              "      <td>17.0</td>\n",
              "      <td>\\n1\\n\\n\\n\\n\\n5\\n\\n\\n\\n\\n\\n10\\n\\n\\n\\n\\n\\n15\\n\\n\\n</td>\n",
              "      <td>[ἔδοχσεν τε͂ι βο]λε̣͂ι καὶ το͂[ι δέμ]-\\n[οι· ․...</td>\n",
              "      <td>IG-I-3.csv</td>\n",
              "      <td>9</td>\n",
              "      <td>Regions\\nAttica (IG I-III)Attica</td>\n",
              "      <td>IG I³\\n9</td>\n",
              "      <td>λε͂ι καὶ το͂υτάνευε Αἰ ευε Μένυλλίες εἶπε χσσυ...</td>\n",
              "      <td>ἔδοχσεν τε͂ι βολε͂ι καὶ το͂ι δέμοι ντὶς ἐπρυτά...</td>\n",
              "      <td>ἔδοχσεν τε͂ι βολε͂ι καὶ το͂ι δέμοι ․․․ντὶς ἐπρ...</td>\n",
              "      <td>c. 458 a.</td>\n",
              "      <td>{'or': None, 'not_before': -463, 'not_after': ...</td>\n",
              "      <td>-463.0</td>\n",
              "      <td>-453.0</td>\n",
              "      <td>None</td>\n",
              "      <td>[exact, phase, ca]</td>\n",
              "      <td>None</td>\n",
              "      <td>None</td>\n",
              "    </tr>\n",
              "    <tr>\n",
              "      <th>9</th>\n",
              "      <td>https://epigraphy.packhum.org/text/10</td>\n",
              "      <td>IG I³</td>\n",
              "      <td>10</td>\n",
              "      <td>Regions\\n\\nAttica (IG I-III)Attica</td>\n",
              "      <td>NaN</td>\n",
              "      <td>Att. — stoich. 22 — 469-450</td>\n",
              "      <td>NaN</td>\n",
              "      <td>29.0</td>\n",
              "      <td>\\n1\\n\\n\\n\\n\\n5\\n\\n\\n\\n\\n\\n\\n10\\n\\n\\n\\n\\n\\n15\\n...</td>\n",
              "      <td>[ἔδο]ξεν τῆι βολῆι καὶ τῶι δ[ή]-\\n[μωι· Ἀ]καμα...</td>\n",
              "      <td>IG-I-3.csv</td>\n",
              "      <td>10</td>\n",
              "      <td>Regions\\nAttica (IG I-III)Attica</td>\n",
              "      <td>IG I³\\n10</td>\n",
              "      <td>ξεν τῆι βολῆι καὶ τῶι δκαμαντὶς πρυτάνευε νάσι...</td>\n",
              "      <td>ἔδοξεν τῆι βολῆι καὶ τῶι δήμωι Ἀκαμαντὶς ἐπρυτ...</td>\n",
              "      <td>ἔδοξεν τῆι βολῆι καὶ τῶι δήμωι Ἀκαμαντὶς ἐπρυτ...</td>\n",
              "      <td>469-450</td>\n",
              "      <td>{'or': None, 'not_before': -469, 'not_after': ...</td>\n",
              "      <td>-469.0</td>\n",
              "      <td>-450.0</td>\n",
              "      <td>None</td>\n",
              "      <td>[range]</td>\n",
              "      <td>None</td>\n",
              "      <td>None</td>\n",
              "    </tr>\n",
              "    <tr>\n",
              "      <th>10</th>\n",
              "      <td>https://epigraphy.packhum.org/text/11</td>\n",
              "      <td>IG I³</td>\n",
              "      <td>11</td>\n",
              "      <td>Regions\\n\\nAttica (IG I-III)Attica</td>\n",
              "      <td>NaN</td>\n",
              "      <td>Att. — stoich. 48 — ante med. s. V a.</td>\n",
              "      <td>NaN</td>\n",
              "      <td>23.0</td>\n",
              "      <td>\\nfrg. a.1\\n\\n\\n\\n\\n5\\n\\n\\n\\n\\n\\n10\\n\\n\\n\\n\\n\\...</td>\n",
              "      <td>[χσυμμαχία καὶ ℎόρ]κ̣ο̣[ς] Ἀ̣[θ]ε̣ν̣α̣[ίον κα]...</td>\n",
              "      <td>IG-I-3.csv</td>\n",
              "      <td>11</td>\n",
              "      <td>Regions\\nAttica (IG I-III)Attica</td>\n",
              "      <td>IG I³\\n11</td>\n",
              "      <td>κο Ἀεναὶ Ἐγεσταί ο͂ι ἐπρυτάνευε οΙ ον ἐ͂ρχε Ἀ...</td>\n",
              "      <td>χσυμμαχία καὶ ℎόρκος Ἀθεναίον καὶ Ἐγεσταίον ἔδ...</td>\n",
              "      <td>χσυμμαχία καὶ ℎόρκος Ἀθεναίον καὶ Ἐγεσταίον. ἔ...</td>\n",
              "      <td>ante med. s. V a.</td>\n",
              "      <td>{'or': None, 'not_before': None, 'not_after': ...</td>\n",
              "      <td>NaN</td>\n",
              "      <td>-456.0</td>\n",
              "      <td>None</td>\n",
              "      <td>[range, cent, phase, middle, ante]</td>\n",
              "      <td>None</td>\n",
              "      <td>None</td>\n",
              "    </tr>\n",
              "    <tr>\n",
              "      <th>11</th>\n",
              "      <td>https://epigraphy.packhum.org/text/12</td>\n",
              "      <td>IG I³</td>\n",
              "      <td>12</td>\n",
              "      <td>Regions\\n\\nAttica (IG I-III)Attica</td>\n",
              "      <td>NaN</td>\n",
              "      <td>Att. — stoich. 54 — c. 433/2 a.</td>\n",
              "      <td>NaN</td>\n",
              "      <td>7.0</td>\n",
              "      <td>\\n1\\n\\n\\n\\n\\n5\\n\\n\\n</td>\n",
              "      <td>[ἔδοχσε]ν τε͂ι βολε͂ι [καὶ το͂ι δέμοι· ․․․c.9․...</td>\n",
              "      <td>IG-I-3.csv</td>\n",
              "      <td>12</td>\n",
              "      <td>Regions\\nAttica (IG I-III)Attica</td>\n",
              "      <td>IG I³\\n12</td>\n",
              "      <td>ν τε͂ι βολε͂ι μάτευε Ἀρ κυαίοις Ἐλα τὰ πρὸς Ἀθ...</td>\n",
              "      <td>ἔδοχσεν τε͂ι βολε͂ι καὶ το͂ι δέμοι c ἐπρυτάνευ...</td>\n",
              "      <td>ἔδοχσεν τε͂ι βολε͂ι καὶ το͂ι δέμοι ․․․c.․․․ ἐπ...</td>\n",
              "      <td>c. 433/2 a.</td>\n",
              "      <td>{'or': None, 'not_before': -433, 'not_after': ...</td>\n",
              "      <td>-433.0</td>\n",
              "      <td>-432.0</td>\n",
              "      <td>None</td>\n",
              "      <td>[range, phase, ca]</td>\n",
              "      <td>None</td>\n",
              "      <td>None</td>\n",
              "    </tr>\n",
              "    <tr>\n",
              "      <th>12</th>\n",
              "      <td>https://epigraphy.packhum.org/text/13</td>\n",
              "      <td>IG I³</td>\n",
              "      <td>13</td>\n",
              "      <td>Regions\\n\\nAttica (IG I-III)Attica</td>\n",
              "      <td>NaN</td>\n",
              "      <td>Att. — stoich. — 465-450</td>\n",
              "      <td>NaN</td>\n",
              "      <td>13.0</td>\n",
              "      <td>\\nfrg. a.1\\n\\n\\n\\n\\n\\nfrg. b.5\\n\\n\\n\\n\\n\\n10\\n...</td>\n",
              "      <td>— — χαι — —\\n— — ε̣σσθα̣ — —\\n— — [․]λιστ — —\\...</td>\n",
              "      <td>IG-I-3.csv</td>\n",
              "      <td>13</td>\n",
              "      <td>Regions\\nAttica (IG I-III)Attica</td>\n",
              "      <td>IG I³\\n13</td>\n",
              "      <td>χαι εσσθα λιστ νεμ ενν ℎότι οδομεν ον δὲ καὶ ν...</td>\n",
              "      <td>χαι εσσθα λιστ νεμ ενν ℎότι οδομεν ον δὲ καὶ ν...</td>\n",
              "      <td>χαι εσσθα λιστ νεμ ενν ℎότι οδομεν ον δὲ καὶ ν...</td>\n",
              "      <td>465-450</td>\n",
              "      <td>{'or': None, 'not_before': -465, 'not_after': ...</td>\n",
              "      <td>-465.0</td>\n",
              "      <td>-450.0</td>\n",
              "      <td>None</td>\n",
              "      <td>[range]</td>\n",
              "      <td>None</td>\n",
              "      <td>None</td>\n",
              "    </tr>\n",
              "    <tr>\n",
              "      <th>13</th>\n",
              "      <td>https://epigraphy.packhum.org/text/14</td>\n",
              "      <td>IG I³</td>\n",
              "      <td>14</td>\n",
              "      <td>Regions\\n\\nAttica (IG I-III)Attica</td>\n",
              "      <td>NaN</td>\n",
              "      <td>Att. — stoich. 23 — 453/2?</td>\n",
              "      <td>NaN</td>\n",
              "      <td>48.0</td>\n",
              "      <td>\\n1\\n\\n\\n\\n\\n5\\n\\n\\n\\n\\n\\n10\\n\\n\\n\\n\\n\\n15\\n\\n...</td>\n",
              "      <td>[ἔδοχσεν τε͂ι βολε͂ι καὶ το͂ι δέμοι· — — — ἐπρ...</td>\n",
              "      <td>IG-I-3.csv</td>\n",
              "      <td>14</td>\n",
              "      <td>Regions\\nAttica (IG I-III)Attica</td>\n",
              "      <td>IG I³\\n14</td>\n",
              "      <td>ἐπεστάτε ΛΙος ἀπάγεν στο Παναθέναια τὰ μεγάχσν...</td>\n",
              "      <td>ἔδοχσεν τε͂ι βολε͂ι καὶ το͂ι δέμοι ἐπρυτάνευε ...</td>\n",
              "      <td>ἔδοχσεν τε͂ι βολε͂ι καὶ το͂ι δέμοι ἐπρυτάνευε,...</td>\n",
              "      <td>453/2?</td>\n",
              "      <td>{'or': None, 'certainty': '?', 'not_before': -...</td>\n",
              "      <td>-453.0</td>\n",
              "      <td>-452.0</td>\n",
              "      <td>None</td>\n",
              "      <td>[range]</td>\n",
              "      <td>?</td>\n",
              "      <td>None</td>\n",
              "    </tr>\n",
              "    <tr>\n",
              "      <th>14</th>\n",
              "      <td>https://epigraphy.packhum.org/text/15</td>\n",
              "      <td>IG I³</td>\n",
              "      <td>15</td>\n",
              "      <td>Regions\\n\\nAttica (IG I-III)Attica</td>\n",
              "      <td>NaN</td>\n",
              "      <td>Att. — stoich. 47 — c. 450 a.</td>\n",
              "      <td>NaN</td>\n",
              "      <td>50.0</td>\n",
              "      <td>\\nfrg. c.1\\n\\n\\n\\n\\n\\nfrg. b.5\\n\\n\\n\\n\\n\\n10\\n...</td>\n",
              "      <td>— — ΧΙ — —\\n— — ΔΙ — —\\n— — ΟΛ — —\\n— — ΟΝ̣ — ...</td>\n",
              "      <td>IG-I-3.csv</td>\n",
              "      <td>15</td>\n",
              "      <td>Regions\\nAttica (IG I-III)Attica</td>\n",
              "      <td>IG I³\\n15</td>\n",
              "      <td>ΧΙ ΔΙ ΟΛ ΟΝ lacuna ανε ι ἐπι δραχμὰς παρει τα ...</td>\n",
              "      <td>ΧΙ ΔΙ ΟΛ ΟΝ lacuna ανε ι ἐπι δραχμὰς παρει τα ...</td>\n",
              "      <td>ΧΙ ΔΙ ΟΛ ΟΝ lacuna ․․․․․ανε ․․․․ι ἐπι ․․․ δραχ...</td>\n",
              "      <td>c. 450 a.</td>\n",
              "      <td>{'or': None, 'not_before': -455, 'not_after': ...</td>\n",
              "      <td>-455.0</td>\n",
              "      <td>-445.0</td>\n",
              "      <td>None</td>\n",
              "      <td>[exact, phase, ca]</td>\n",
              "      <td>None</td>\n",
              "      <td>None</td>\n",
              "    </tr>\n",
              "    <tr>\n",
              "      <th>15</th>\n",
              "      <td>https://epigraphy.packhum.org/text/16</td>\n",
              "      <td>IG I³</td>\n",
              "      <td>16</td>\n",
              "      <td>Regions\\n\\nAttica (IG I-III)Attica</td>\n",
              "      <td>NaN</td>\n",
              "      <td>Att. — stoich. — c. 450 a.</td>\n",
              "      <td>NaN</td>\n",
              "      <td>24.0</td>\n",
              "      <td>\\nfrg. a\\n\\n1\\n\\n\\n\\n\\n5\\n\\n\\n\\n\\n\\n10\\n\\n\\n\\n...</td>\n",
              "      <td>vestigia\\n[․]ται ἐὰμ — — — — — — — — — — —\\n[․...</td>\n",
              "      <td>IG-I-3.csv</td>\n",
              "      <td>16</td>\n",
              "      <td>Regions\\nAttica (IG I-III)Attica</td>\n",
              "      <td>IG I³\\n16</td>\n",
              "      <td>vestigia ται ἐὰμ σθο ατ ΛΛΟΤ τα καὶ τεμ ΟΛΕ τὲ...</td>\n",
              "      <td>vestigia ται ἐὰμ σθο ατ ΛΛΟΤ τα καὶ τ εμ ΟΛΕ τ...</td>\n",
              "      <td>vestigia ται ἐὰμ σθο ατ ΛΛΟΤ τα καὶ τ․․․․εμ ․․...</td>\n",
              "      <td>c. 450 a.</td>\n",
              "      <td>{'or': None, 'not_before': -455, 'not_after': ...</td>\n",
              "      <td>-455.0</td>\n",
              "      <td>-445.0</td>\n",
              "      <td>None</td>\n",
              "      <td>[exact, phase, ca]</td>\n",
              "      <td>None</td>\n",
              "      <td>None</td>\n",
              "    </tr>\n",
              "    <tr>\n",
              "      <th>16</th>\n",
              "      <td>https://epigraphy.packhum.org/text/17</td>\n",
              "      <td>IG I³</td>\n",
              "      <td>17</td>\n",
              "      <td>Regions\\n\\nAttica (IG I-III)Attica</td>\n",
              "      <td>NaN</td>\n",
              "      <td>Att. — stoich. 23 — 451/0</td>\n",
              "      <td>NaN</td>\n",
              "      <td>18.0</td>\n",
              "      <td>\\nfrg. a.1\\n\\n\\n\\n\\n5\\n\\n\\n\\n\\n\\n10\\n\\nfrg. b....</td>\n",
              "      <td>Σιγ[ειέον].\\n[ἔ]δοχσεν τε͂[ι βολε͂ι καὶ το͂ι δ...</td>\n",
              "      <td>IG-I-3.csv</td>\n",
              "      <td>17</td>\n",
              "      <td>Regions\\nAttica (IG I-III)Attica</td>\n",
              "      <td>IG I³\\n17</td>\n",
              "      <td>Σιγ δοχσεν τε͂οι Οἰνες ς ἐγραμμάτπεστάτε Ἀν χί...</td>\n",
              "      <td>Σιγειέον ἔδοχσεν τε͂ι βολε͂ι καὶ το͂ι δέμοι Οἰ...</td>\n",
              "      <td>Σιγειέον. ἔδοχσεν τε͂ι βολε͂ι καὶ το͂ι δέμοι Ο...</td>\n",
              "      <td>451/0</td>\n",
              "      <td>{'or': None, 'not_before': -451, 'not_after': ...</td>\n",
              "      <td>-451.0</td>\n",
              "      <td>-450.0</td>\n",
              "      <td>None</td>\n",
              "      <td>[range]</td>\n",
              "      <td>None</td>\n",
              "      <td>None</td>\n",
              "    </tr>\n",
              "    <tr>\n",
              "      <th>17</th>\n",
              "      <td>https://epigraphy.packhum.org/text/18</td>\n",
              "      <td>IG I³</td>\n",
              "      <td>18</td>\n",
              "      <td>Regions\\n\\nAttica (IG I-III)Attica</td>\n",
              "      <td>NaN</td>\n",
              "      <td>Att. — stoich. — c. 450 a.</td>\n",
              "      <td>NaN</td>\n",
              "      <td>27.0</td>\n",
              "      <td>\\nfrg. a.1\\n\\n\\n\\n\\n5\\n\\n\\n\\n\\n\\n10\\n\\n\\nfrg. ...</td>\n",
              "      <td>προ[χσένον καὶ εὐεργετο͂ν]\\nἈθενα[ίον — — — — ...</td>\n",
              "      <td>IG-I-3.csv</td>\n",
              "      <td>18</td>\n",
              "      <td>Regions\\nAttica (IG I-III)Attica</td>\n",
              "      <td>IG I³\\n18</td>\n",
              "      <td>προ Ἀθενα Παριαν Ἀθενοδ Ἱκεσίο ἔδοχσεν τε͂άνευ...</td>\n",
              "      <td>προχσένον καὶ εὐεργετο͂ν Ἀθεναίον Παριανο͂ν Ἀθ...</td>\n",
              "      <td>προχσένον καὶ εὐεργετο͂ν Ἀθεναίον Παριανο͂ν Ἀθ...</td>\n",
              "      <td>c. 450 a.</td>\n",
              "      <td>{'or': None, 'not_before': -455, 'not_after': ...</td>\n",
              "      <td>-455.0</td>\n",
              "      <td>-445.0</td>\n",
              "      <td>None</td>\n",
              "      <td>[exact, phase, ca]</td>\n",
              "      <td>None</td>\n",
              "      <td>None</td>\n",
              "    </tr>\n",
              "    <tr>\n",
              "      <th>18</th>\n",
              "      <td>https://epigraphy.packhum.org/text/19</td>\n",
              "      <td>IG I³</td>\n",
              "      <td>19</td>\n",
              "      <td>Regions\\n\\nAttica (IG I-III)Attica</td>\n",
              "      <td>NaN</td>\n",
              "      <td>Att. — stoich. 28 — c. 450/49 a.</td>\n",
              "      <td>NaN</td>\n",
              "      <td>13.0</td>\n",
              "      <td>\\n1\\n\\n\\n\\n\\n5\\n\\n\\n\\n\\n\\n10\\n\\n\\n\\n</td>\n",
              "      <td>[․․․․ ἐ͂ναι] δ α[ὐτὸν πρόχσενον Ἀθενα]-\\n[ίον...</td>\n",
              "      <td>IG-I-3.csv</td>\n",
              "      <td>19</td>\n",
              "      <td>Regions\\nAttica (IG I-III)Attica</td>\n",
              "      <td>IG I³\\n19</td>\n",
              "      <td>δ αὐεργέτε αι Ἀχελοΐοατὰ τούτον Ἀέμαρχον πρυτὲ...</td>\n",
              "      <td>ἐ͂ναι δ αὐτὸν πρόχσενον Ἀθεναίον καὶ εὐεργέτε...</td>\n",
              "      <td>․․․․ ἐ͂ναι δ αὐτὸν πρόχσενον Ἀθεναίον καὶ εὐε...</td>\n",
              "      <td>c. 450/49 a.</td>\n",
              "      <td>{'or': None, 'not_before': -450, 'not_after': ...</td>\n",
              "      <td>-450.0</td>\n",
              "      <td>-449.0</td>\n",
              "      <td>None</td>\n",
              "      <td>[range, phase, ca]</td>\n",
              "      <td>None</td>\n",
              "      <td>None</td>\n",
              "    </tr>\n",
              "    <tr>\n",
              "      <th>19</th>\n",
              "      <td>https://epigraphy.packhum.org/text/20</td>\n",
              "      <td>IG I³</td>\n",
              "      <td>20</td>\n",
              "      <td>Regions\\n\\nAttica (IG I-III)Attica</td>\n",
              "      <td>NaN</td>\n",
              "      <td>Att. — stoich. — c. 450 a.</td>\n",
              "      <td>NaN</td>\n",
              "      <td>11.0</td>\n",
              "      <td>\\n1\\n\\n\\n\\n\\n5\\n\\n\\n\\n\\n\\n10\\n\\n</td>\n",
              "      <td>[— — — — — — — —  ․․․․] καὶ — — — — — — — — —\\...</td>\n",
              "      <td>IG-I-3.csv</td>\n",
              "      <td>20</td>\n",
              "      <td>Regions\\nAttica (IG I-III)Attica</td>\n",
              "      <td>IG I³\\n20</td>\n",
              "      <td>καὶ κε͂ται ὸν δε͂μο ολις τ ότοις οι ἂν κυρ δέο...</td>\n",
              "      <td>καὶ ℎόπος ἂν μὲ ἀδικε͂ται τὸν δε͂μον ολις τ πρ...</td>\n",
              "      <td>․․․․ καὶ ℎόπος ἂν μὲ ἀδικε͂ται τὸν δε͂μον ․․ολ...</td>\n",
              "      <td>c. 450 a.</td>\n",
              "      <td>{'or': None, 'not_before': -455, 'not_after': ...</td>\n",
              "      <td>-455.0</td>\n",
              "      <td>-445.0</td>\n",
              "      <td>None</td>\n",
              "      <td>[exact, phase, ca]</td>\n",
              "      <td>None</td>\n",
              "      <td>None</td>\n",
              "    </tr>\n",
              "  </tbody>\n",
              "</table>\n",
              "</div>"
            ],
            "text/plain": [
              "                                      URL   Book  ... certainty  link\n",
              "0    https://epigraphy.packhum.org/text/1  IG I³  ...      None  None\n",
              "1    https://epigraphy.packhum.org/text/2  IG I³  ...      None  None\n",
              "2    https://epigraphy.packhum.org/text/3  IG I³  ...      None  None\n",
              "3    https://epigraphy.packhum.org/text/4  IG I³  ...      None  None\n",
              "4    https://epigraphy.packhum.org/text/5  IG I³  ...      None  None\n",
              "5    https://epigraphy.packhum.org/text/6  IG I³  ...      None  None\n",
              "6    https://epigraphy.packhum.org/text/7  IG I³  ...      None  None\n",
              "7    https://epigraphy.packhum.org/text/8  IG I³  ...      None  None\n",
              "8    https://epigraphy.packhum.org/text/9  IG I³  ...      None  None\n",
              "9   https://epigraphy.packhum.org/text/10  IG I³  ...      None  None\n",
              "10  https://epigraphy.packhum.org/text/11  IG I³  ...      None  None\n",
              "11  https://epigraphy.packhum.org/text/12  IG I³  ...      None  None\n",
              "12  https://epigraphy.packhum.org/text/13  IG I³  ...      None  None\n",
              "13  https://epigraphy.packhum.org/text/14  IG I³  ...         ?  None\n",
              "14  https://epigraphy.packhum.org/text/15  IG I³  ...      None  None\n",
              "15  https://epigraphy.packhum.org/text/16  IG I³  ...      None  None\n",
              "16  https://epigraphy.packhum.org/text/17  IG I³  ...      None  None\n",
              "17  https://epigraphy.packhum.org/text/18  IG I³  ...      None  None\n",
              "18  https://epigraphy.packhum.org/text/19  IG I³  ...      None  None\n",
              "19  https://epigraphy.packhum.org/text/20  IG I³  ...      None  None\n",
              "\n",
              "[20 rows x 25 columns]"
            ]
          },
          "metadata": {
            "tags": []
          },
          "execution_count": 367
        }
      ]
    },
    {
      "cell_type": "code",
      "metadata": {
        "colab_type": "code",
        "id": "sk3zAdMrUD6J",
        "colab": {
          "base_uri": "https://localhost:8080/",
          "height": 54
        },
        "outputId": "1ab1b161-7721-47fb-b8be-b710bc47b9db"
      },
      "source": [
        "sddk.write_file(\"SDAM_data/PHI/PHI_cleaned_dated_2020-06-29.json\", PHI, conf)"
      ],
      "execution_count": 369,
      "outputs": [
        {
          "output_type": "stream",
          "text": [
            "Your <class 'pandas.core.frame.DataFrame'> object has been succefully written as \"https://sciencedata.dk/files/SDAM_root/SDAM_data/PHI/PHI_cleaned_dated_2020-06-29.json\"\n"
          ],
          "name": "stdout"
        }
      ]
    }
  ]
}