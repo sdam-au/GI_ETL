{
 "cells": [
  {
   "cell_type": "code",
   "execution_count": 8,
   "metadata": {},
   "outputs": [],
   "source": [
    "import requests\n",
    "import pandas as pd\n",
    "import numpy as np\n",
    "import sddk\n",
    "import spacy\n",
    "import zipfile\n",
    "import io\n",
    "import re\n",
    "pd.set_option('display.max_columns', 500)"
   ]
  },
  {
   "cell_type": "code",
   "execution_count": 2,
   "metadata": {
    "scrolled": true
   },
   "outputs": [
    {
     "name": "stdout",
     "output_type": "stream",
     "text": [
      "sciencedata.dk username (format '123456@au.dk'): 648597@au.dk\n",
      "sciencedata.dk password: ········\n",
      "connection with shared folder established with you as its owner\n",
      "endpoint variable has been configured to: https://sciencedata.dk/files/SDAM_root/\n"
     ]
    }
   ],
   "source": [
    "conf = sddk.configure(\"SDAM_root\", \"648597@au.dk\")"
   ]
  },
  {
   "cell_type": "code",
   "execution_count": 3,
   "metadata": {},
   "outputs": [],
   "source": [
    "PHI = sddk.read_file(\"SDAM_data/PHI/PHI_text_cleaned_2020-12-16.json\", \"df\", conf)"
   ]
  },
  {
   "cell_type": "code",
   "execution_count": 4,
   "metadata": {},
   "outputs": [
    {
     "data": {
      "text/html": [
       "<div>\n",
       "<style scoped>\n",
       "    .dataframe tbody tr th:only-of-type {\n",
       "        vertical-align: middle;\n",
       "    }\n",
       "\n",
       "    .dataframe tbody tr th {\n",
       "        vertical-align: top;\n",
       "    }\n",
       "\n",
       "    .dataframe thead th {\n",
       "        text-align: right;\n",
       "    }\n",
       "</style>\n",
       "<table border=\"1\" class=\"dataframe\">\n",
       "  <thead>\n",
       "    <tr style=\"text-align: right;\">\n",
       "      <th></th>\n",
       "      <th>URL</th>\n",
       "      <th>Book</th>\n",
       "      <th>Text</th>\n",
       "      <th>hdr1</th>\n",
       "      <th>hdr2</th>\n",
       "      <th>tildeinfo</th>\n",
       "      <th>note</th>\n",
       "      <th>lines</th>\n",
       "      <th>metadata</th>\n",
       "      <th>data</th>\n",
       "      <th>filename</th>\n",
       "      <th>PHI_ID</th>\n",
       "      <th>string_pythia</th>\n",
       "      <th>clean_text_conservative</th>\n",
       "      <th>clean_text_interpretive_word</th>\n",
       "      <th>clean_text_interpretive_sentence</th>\n",
       "      <th>clean_text_pythia</th>\n",
       "    </tr>\n",
       "  </thead>\n",
       "  <tbody>\n",
       "    <tr>\n",
       "      <th>0</th>\n",
       "      <td>/text/1?location=1701&amp;patt=&amp;bookid=4&amp;offset=0&amp;...</td>\n",
       "      <td>IG I³</td>\n",
       "      <td>1</td>\n",
       "      <td>Regions\\nAttica (IG I-III)</td>\n",
       "      <td>IG I³\\n1</td>\n",
       "      <td>Att. — Ath.: Akr. — stoich. 35 — c. 510-500 a....</td>\n",
       "      <td></td>\n",
       "      <td>12</td>\n",
       "      <td>1\\n\\n\\n\\n5\\n\\n\\n\\n\\n10\\n\\n</td>\n",
       "      <td>ἔδοχσεν το͂ι δέμοι· τ̣[ὸς ἐ Σ]αλαμ̣[ῖνι κλερόχ...</td>\n",
       "      <td>IG-I³.csv</td>\n",
       "      <td>1</td>\n",
       "      <td>ἔδοχσεν τοι δέμοι τ[ὸς ἐ σ]αλαμ[ῖνι κλερόχ]ος ...</td>\n",
       "      <td>ἔδοχσεν το͂ι δέμοι ταλαμος οἰκε͂ν ἐᾶ Σαλαμῖνι ...</td>\n",
       "      <td>ἔδοχσεν το͂ι δέμοι τὸς ἐ Σαλαμῖνι κλερόχος οἰκ...</td>\n",
       "      <td>ἔδοχσεν το͂ι δέμοι τὸς ἐ Σαλαμῖνι κλερόχος οἰκ...</td>\n",
       "      <td>ἔδοχσεν τοι δέμοι τὸς ἐ σαλαμῖνι κλερόχος οἰκε...</td>\n",
       "    </tr>\n",
       "    <tr>\n",
       "      <th>1</th>\n",
       "      <td>/text/2?location=1701&amp;patt=&amp;bookid=4&amp;offset=0&amp;...</td>\n",
       "      <td>IG I³</td>\n",
       "      <td>2</td>\n",
       "      <td>Regions\\nAttica (IG I-III)</td>\n",
       "      <td>IG I³\\n2</td>\n",
       "      <td>Att. — non-stoich. — c. 500 a.</td>\n",
       "      <td></td>\n",
       "      <td>14</td>\n",
       "      <td>1\\n\\n\\n\\n5\\n\\n\\n\\n\\n10\\n\\n\\n\\n</td>\n",
       "      <td>[․․8-9․․․]ν̣ βολ — — — — — — — — — —\\n[․6-7․․]...</td>\n",
       "      <td>IG-I³.csv</td>\n",
       "      <td>2</td>\n",
       "      <td>[--------9---]ν βολ ---------- [------7--] α ἑ...</td>\n",
       "      <td>ν βολ α ℎεκον σιον γνοσθε͂ι δὲ ν ἀτεχνος μὲ π ...</td>\n",
       "      <td>ν βολ α ℎεκον σιον γνοσθε͂ι δὲ ν ἀτεχνος μὲ π ...</td>\n",
       "      <td>ν βολ ․ α ⋮ ℎεκον σιον, γνοσθε͂ι δὲ ν ἀτεχνος ...</td>\n",
       "      <td>ν βολ α ἑκον σιον γνοσθει δὲ ν ἀτεχνος μὲ π ἄλ...</td>\n",
       "    </tr>\n",
       "    <tr>\n",
       "      <th>2</th>\n",
       "      <td>/text/3?location=1701&amp;patt=&amp;bookid=4&amp;offset=0&amp;...</td>\n",
       "      <td>IG I³</td>\n",
       "      <td>3</td>\n",
       "      <td>Regions\\nAttica (IG I-III)</td>\n",
       "      <td>IG I³\\n3</td>\n",
       "      <td>Att. — stoich. 21 — 490-480 a.</td>\n",
       "      <td></td>\n",
       "      <td>13</td>\n",
       "      <td>1\\n\\n\\n\\n5\\n\\n\\n\\n\\n10\\n\\n\\n</td>\n",
       "      <td>[․]αρ[․․․․]ι ℎερακλειο[․․5․․]\\n[․]αρ̣ο#⁷[․] τι...</td>\n",
       "      <td>IG-I³.csv</td>\n",
       "      <td>3</td>\n",
       "      <td>[-]αρ[----]ι ἑρακλειο[-----] [-]αρο [-] τιθένα...</td>\n",
       "      <td>αρι ℎερακλειο αρο τιθέναι τὸς ἀέτας τριάκοντα ...</td>\n",
       "      <td>αρι ℎερακλειο αρο τιθέναι τὸς ἀθλοθέτας τριάκο...</td>\n",
       "      <td>αρι ℎερακλειο αρο τιθέναι τὸς ἀθλοθέτας τριάκο...</td>\n",
       "      <td>αρ ι ἑρακλειο αρο τιθέναι τὸς ἀθλοθέτας τριάκο...</td>\n",
       "    </tr>\n",
       "    <tr>\n",
       "      <th>3</th>\n",
       "      <td>/text/4?location=1701&amp;patt=&amp;bookid=4&amp;offset=0&amp;...</td>\n",
       "      <td>IG I³</td>\n",
       "      <td>4</td>\n",
       "      <td>Regions\\nAttica (IG I-III)</td>\n",
       "      <td>IG I³\\n4</td>\n",
       "      <td>Att. — stoich. 38 — 485/4 a.</td>\n",
       "      <td></td>\n",
       "      <td>56</td>\n",
       "      <td>face A.1\\n\\n\\n\\n5\\n\\n\\n\\n\\n10\\n\\n\\n\\n\\n15\\n\\n\\...</td>\n",
       "      <td>[․․․․․․․․․․․․․․․․․․38․․․․․․․․․․․․․․․․․․]\\n[․․․...</td>\n",
       "      <td>IG-I³.csv</td>\n",
       "      <td>4</td>\n",
       "      <td>[--------------------------------------] [----...</td>\n",
       "      <td>δέ τις αν ἒ φρορὰν μ ντέκοντα δχμὰς τ ας ℎες π...</td>\n",
       "      <td>ἐὰν δέ τις αν ἒ φρορὰν μὲ πεντέκοντα δραχμὰς τ...</td>\n",
       "      <td>ἐὰν δέ τις αν ⋮ ἒ φρορὰν ⋮ μὲ πεντέκοντα ⋮ δρα...</td>\n",
       "      <td>ἐὰν δέ τις αν ἒ φρορὰν μὲ πεντέκοντα δραχμὰς τ...</td>\n",
       "    </tr>\n",
       "    <tr>\n",
       "      <th>4</th>\n",
       "      <td>/text/5?location=1701&amp;patt=&amp;bookid=4&amp;offset=0&amp;...</td>\n",
       "      <td>IG I³</td>\n",
       "      <td>5</td>\n",
       "      <td>Regions\\nAttica (IG I-III)</td>\n",
       "      <td>IG I³\\n5</td>\n",
       "      <td>Att. — c. 500 a.</td>\n",
       "      <td></td>\n",
       "      <td>6</td>\n",
       "      <td>1\\n\\n\\n\\n5\\n</td>\n",
       "      <td>[ἔδοχσε]ν [⋮ τε͂ι βολε͂ι] ⋮ καὶ [τ]ο͂ι δέμοι ⋮...</td>\n",
       "      <td>IG-I³.csv</td>\n",
       "      <td>5</td>\n",
       "      <td>[ἔδοχσε]ν [ τει βολει] καὶ [τ]οι δέμοι ὅτε παρ...</td>\n",
       "      <td>ν καὶ ο͂ι δέμοι ℎότε Παραιβάτες λεια θν τὸς ℎι...</td>\n",
       "      <td>ἔδοχσεν τε͂ι βολε͂ι καὶ το͂ι δέμοι ℎότε Παραιβ...</td>\n",
       "      <td>ἔδοχσεν ⋮ τε͂ι βολε͂ι ⋮ καὶ το͂ι δέμοι ⋮ ℎότε ...</td>\n",
       "      <td>ἔδοχσεν τει βολει καὶ τοι δέμοι ὅτε παραιβάτες...</td>\n",
       "    </tr>\n",
       "  </tbody>\n",
       "</table>\n",
       "</div>"
      ],
      "text/plain": [
       "                                                 URL   Book Text  \\\n",
       "0  /text/1?location=1701&patt=&bookid=4&offset=0&...  IG I³    1   \n",
       "1  /text/2?location=1701&patt=&bookid=4&offset=0&...  IG I³    2   \n",
       "2  /text/3?location=1701&patt=&bookid=4&offset=0&...  IG I³    3   \n",
       "3  /text/4?location=1701&patt=&bookid=4&offset=0&...  IG I³    4   \n",
       "4  /text/5?location=1701&patt=&bookid=4&offset=0&...  IG I³    5   \n",
       "\n",
       "                         hdr1      hdr2  \\\n",
       "0  Regions\\nAttica (IG I-III)  IG I³\\n1   \n",
       "1  Regions\\nAttica (IG I-III)  IG I³\\n2   \n",
       "2  Regions\\nAttica (IG I-III)  IG I³\\n3   \n",
       "3  Regions\\nAttica (IG I-III)  IG I³\\n4   \n",
       "4  Regions\\nAttica (IG I-III)  IG I³\\n5   \n",
       "\n",
       "                                           tildeinfo note  lines  \\\n",
       "0  Att. — Ath.: Akr. — stoich. 35 — c. 510-500 a....          12   \n",
       "1                     Att. — non-stoich. — c. 500 a.          14   \n",
       "2                     Att. — stoich. 21 — 490-480 a.          13   \n",
       "3                       Att. — stoich. 38 — 485/4 a.          56   \n",
       "4                                   Att. — c. 500 a.           6   \n",
       "\n",
       "                                            metadata  \\\n",
       "0                         1\\n\\n\\n\\n5\\n\\n\\n\\n\\n10\\n\\n   \n",
       "1                     1\\n\\n\\n\\n5\\n\\n\\n\\n\\n10\\n\\n\\n\\n   \n",
       "2                       1\\n\\n\\n\\n5\\n\\n\\n\\n\\n10\\n\\n\\n   \n",
       "3  face A.1\\n\\n\\n\\n5\\n\\n\\n\\n\\n10\\n\\n\\n\\n\\n15\\n\\n\\...   \n",
       "4                                       1\\n\\n\\n\\n5\\n   \n",
       "\n",
       "                                                data   filename  PHI_ID  \\\n",
       "0  ἔδοχσεν το͂ι δέμοι· τ̣[ὸς ἐ Σ]αλαμ̣[ῖνι κλερόχ...  IG-I³.csv       1   \n",
       "1  [․․8-9․․․]ν̣ βολ — — — — — — — — — —\\n[․6-7․․]...  IG-I³.csv       2   \n",
       "2  [․]αρ[․․․․]ι ℎερακλειο[․․5․․]\\n[․]αρ̣ο#⁷[․] τι...  IG-I³.csv       3   \n",
       "3  [․․․․․․․․․․․․․․․․․․38․․․․․․․․․․․․․․․․․․]\\n[․․․...  IG-I³.csv       4   \n",
       "4  [ἔδοχσε]ν [⋮ τε͂ι βολε͂ι] ⋮ καὶ [τ]ο͂ι δέμοι ⋮...  IG-I³.csv       5   \n",
       "\n",
       "                                       string_pythia  \\\n",
       "0  ἔδοχσεν τοι δέμοι τ[ὸς ἐ σ]αλαμ[ῖνι κλερόχ]ος ...   \n",
       "1  [--------9---]ν βολ ---------- [------7--] α ἑ...   \n",
       "2  [-]αρ[----]ι ἑρακλειο[-----] [-]αρο [-] τιθένα...   \n",
       "3  [--------------------------------------] [----...   \n",
       "4  [ἔδοχσε]ν [ τει βολει] καὶ [τ]οι δέμοι ὅτε παρ...   \n",
       "\n",
       "                             clean_text_conservative  \\\n",
       "0  ἔδοχσεν το͂ι δέμοι ταλαμος οἰκε͂ν ἐᾶ Σαλαμῖνι ...   \n",
       "1  ν βολ α ℎεκον σιον γνοσθε͂ι δὲ ν ἀτεχνος μὲ π ...   \n",
       "2  αρι ℎερακλειο αρο τιθέναι τὸς ἀέτας τριάκοντα ...   \n",
       "3  δέ τις αν ἒ φρορὰν μ ντέκοντα δχμὰς τ ας ℎες π...   \n",
       "4  ν καὶ ο͂ι δέμοι ℎότε Παραιβάτες λεια θν τὸς ℎι...   \n",
       "\n",
       "                        clean_text_interpretive_word  \\\n",
       "0  ἔδοχσεν το͂ι δέμοι τὸς ἐ Σαλαμῖνι κλερόχος οἰκ...   \n",
       "1  ν βολ α ℎεκον σιον γνοσθε͂ι δὲ ν ἀτεχνος μὲ π ...   \n",
       "2  αρι ℎερακλειο αρο τιθέναι τὸς ἀθλοθέτας τριάκο...   \n",
       "3  ἐὰν δέ τις αν ἒ φρορὰν μὲ πεντέκοντα δραχμὰς τ...   \n",
       "4  ἔδοχσεν τε͂ι βολε͂ι καὶ το͂ι δέμοι ℎότε Παραιβ...   \n",
       "\n",
       "                    clean_text_interpretive_sentence  \\\n",
       "0  ἔδοχσεν το͂ι δέμοι τὸς ἐ Σαλαμῖνι κλερόχος οἰκ...   \n",
       "1  ν βολ ․ α ⋮ ℎεκον σιον, γνοσθε͂ι δὲ ν ἀτεχνος ...   \n",
       "2  αρι ℎερακλειο αρο τιθέναι τὸς ἀθλοθέτας τριάκο...   \n",
       "3  ἐὰν δέ τις αν ⋮ ἒ φρορὰν ⋮ μὲ πεντέκοντα ⋮ δρα...   \n",
       "4  ἔδοχσεν ⋮ τε͂ι βολε͂ι ⋮ καὶ το͂ι δέμοι ⋮ ℎότε ...   \n",
       "\n",
       "                                   clean_text_pythia  \n",
       "0  ἔδοχσεν τοι δέμοι τὸς ἐ σαλαμῖνι κλερόχος οἰκε...  \n",
       "1  ν βολ α ἑκον σιον γνοσθει δὲ ν ἀτεχνος μὲ π ἄλ...  \n",
       "2  αρ ι ἑρακλειο αρο τιθέναι τὸς ἀθλοθέτας τριάκο...  \n",
       "3  ἐὰν δέ τις αν ἒ φρορὰν μὲ πεντέκοντα δραχμὰς τ...  \n",
       "4  ἔδοχσεν τει βολει καὶ τοι δέμοι ὅτε παραιβάτες...  "
      ]
     },
     "execution_count": 4,
     "metadata": {},
     "output_type": "execute_result"
    }
   ],
   "source": [
    "PHI.head(5)"
   ]
  },
  {
   "cell_type": "code",
   "execution_count": 5,
   "metadata": {},
   "outputs": [
    {
     "data": {
      "text/plain": [
       "34206"
      ]
     },
     "execution_count": 5,
     "metadata": {},
     "output_type": "execute_result"
    }
   ],
   "source": [
    "len(PHI[PHI[\"clean_text_pythia\"] ==  PHI[\"clean_text_interpretive_word\"]])"
   ]
  },
  {
   "cell_type": "code",
   "execution_count": 29,
   "metadata": {},
   "outputs": [],
   "source": [
    "# sentences\n",
    "# add column with sentences\n",
    "v_ud = \"’\"\n",
    "v_agt = \"ʼ\"\n",
    "\n",
    "def get_sentences(string):\n",
    "    splits = re.split(r\"(\\.\\s|\\·\\s|\\:\\s|\\;\\s|\\?\\s|\\!\\s)\" , string)\n",
    "    sentences = []\n",
    "    for n in range(0, len(splits), 2):\n",
    "        try:\n",
    "            sentence = splits[n]+re.sub(\"\\s$\", \"\", splits[n+1])\n",
    "            sentence = \"\".join([c for c in sentence if re.match(\"[\\w|\\s|\\.|\\,|\\·|\\:|\\;|\\?|\\!]\", c)]) \n",
    "            sentence = re.sub(\"^\\s*\", \"\", sentence)\n",
    "            sentence = re.sub(v_ud, v_agt, sentence)\n",
    "            sentences.append(sentence)\n",
    "        except:\n",
    "            sentence = splits[n]\n",
    "            sentence = re.sub(\"^\\s*\", \"\", sentence)\n",
    "            if len(sentence) > 0:\n",
    "                sentences.append(sentence)\n",
    "            break\n",
    "    sentences = [sent for sent in sentences if re.search(\"\\w\", sent)]\n",
    "    return sentences"
   ]
  },
  {
   "cell_type": "code",
   "execution_count": 30,
   "metadata": {},
   "outputs": [],
   "source": [
    "PHI[\"sents\"] = PHI[\"clean_text_pythia\"].apply(get_sentences)"
   ]
  },
  {
   "cell_type": "code",
   "execution_count": 31,
   "metadata": {},
   "outputs": [],
   "source": [
    "PHI[\"sents_N\"] = PHI[\"sents\"].apply(lambda x: len(x))"
   ]
  },
  {
   "cell_type": "code",
   "execution_count": 40,
   "metadata": {},
   "outputs": [
    {
     "data": {
      "text/plain": [
       "309734"
      ]
     },
     "execution_count": 40,
     "metadata": {},
     "output_type": "execute_result"
    }
   ],
   "source": [
    "PHI[\"sents_N\"].sum()"
   ]
  },
  {
   "cell_type": "code",
   "execution_count": 42,
   "metadata": {},
   "outputs": [
    {
     "data": {
      "text/plain": [
       "4419743"
      ]
     },
     "execution_count": 42,
     "metadata": {},
     "output_type": "execute_result"
    }
   ],
   "source": [
    "PHI[\"clean_text_pythia\"].apply(lambda x: len(x.split())).sum()"
   ]
  },
  {
   "cell_type": "code",
   "execution_count": 32,
   "metadata": {},
   "outputs": [
    {
     "data": {
      "text/plain": [
       "42973"
      ]
     },
     "execution_count": 32,
     "metadata": {},
     "output_type": "execute_result"
    }
   ],
   "source": [
    "len(PHI[PHI[\"sents_N\"] > 1]) # previously: 22321"
   ]
  },
  {
   "cell_type": "code",
   "execution_count": 33,
   "metadata": {},
   "outputs": [
    {
     "data": {
      "text/plain": [
       "15617"
      ]
     },
     "execution_count": 33,
     "metadata": {},
     "output_type": "execute_result"
    }
   ],
   "source": [
    "len(PHI[PHI[\"sents_N\"] > 2]) # 11125"
   ]
  },
  {
   "cell_type": "code",
   "execution_count": 34,
   "metadata": {},
   "outputs": [
    {
     "data": {
      "text/plain": [
       "[['δραχμεισι τες τὸς ιο μενος δεμο τον πόλεον δοκει ἀνατιθ α ἐάν τις τον ον ἒ ὁσαλ ο ἒ εν ορ νας ἵνα αντο ιν σ τον πόλεον ταυτ χρε μεμβολ εχθεο χε ν δε ν λο ἐὰν δὲ μέ ἑκαστ ο σε α ιν ιμ ιας πε ετα τεν ια ο λ πο σειαν λ λαμ ολει καὶ μὲ νεοτερ χρέσθο τοι ἱεροι ἐὰν δὲ ι μὲ χρέσθο ἐὰν δὲ ἰ κατὰ ταὐτὰ ταῦτα ἐὰν πλεῖστον κατὰ τὲν δύναμιν πρᾶχσαι δ ἔκπραχσιν ἐὰν δὲ μὲ ἐγδοι τὸν ὀφλόντα μὲ χρέσθο τοι ἱεροι ἐὰν ἀμφισβετοσι μὲ κλεθεναι ἐμ πόλει εν ἐλθοσαν ἀδικ ὕστερον ἑ βολὲ α ι τὸν ἀθεναῖον μὲ ἐκ γες πο τούτον τον πόλεον μεδὲ ἁμος βιᾶσθαι ἐὰν μὲ δίκεν ὀφλόντα ἐπιχορίαν ἒ ἐς πολεμίος λεφθέντα ἕτις δ ἂν τομ πόλεον μὲ ἐθέλει δίκας διδόναι καὶ δέχεσθαι ἀθεναίοισιν ἀπὸ χσυμβολον.',\n",
       "  'ια ντο τος τὰ μὲν ἁκόσια ἁπλει τὰ δὲ ἡ εκόσια διπλει σπονδὰς εἶναι τοῖσι μύστεσιν καὶ τοῖς ἐπόπτεισιν καὶ τοῖς ἀκολούθοισιν καὶ χρέμασιν τον ὀθνείον καὶ ἀθεναῖοισιν ἅπασιν ἄρχεν δὲ τὸν χρόνον τον σπονδον το μεταγειτνιονος μενὸς ἀπὸ διχομενίας καὶ τὸν βοεδρομιονα καὶ το υανοφσιονος μέχρι δεκάτες ἱσταμένο τὰς δὲ σπονδὰς εἶναι ἐν τεισι πόλεσιν ὅσαι χρονται τοι ἱεροι καὶ ἀθεναίοισιν ἐκεῖ ἐν τεισιν αὐτεσι πόλεσιν τοῖσι δὲ ὀλείζοσι μυστερίοισιν τὰς σπονδὰς εἶναι το γαμελιονος μενὸς ἀπὸ διχομενίας καὶ τὸν ἀνθεστεριονα καὶ το ἐλαφεβολιονος μέχρι δεκάτες ἱσταμένο.',\n",
       "  'θαι αθεμι ναι τ στ ὀβολ ο ἱεροποιὸς δὲ λαμβάνεν ἑμιοβέλιον καθ ἑμέραν παρὰ το μύστο ἑκάστο τὲν ἱέρεαν τὲν δέμετρος λαμβάνεν μυστερίοις τοῖς ὀλέζοσιν παρὰ το μύστο ἑκάστο ὀβολόν καὶ τοῖς μείζοσιν μυστερίοις ὀβολὸν παρὰ το μύστο ἑκάστο σύμπαντας ὀβολὸς τοῖν θεοῖν εἶναι πλὲν ἑχσακοσίον καὶ χιλίον δραχμον ἀπὸ δὲ τον ἑχσακοσίον καὶ χιλίον δραχμον τὲν ἱέρεαν τἀναλόματα δοναι καθάπερ τέος ἀνέλοτο εὐμολπίδας καὶ κέρυκας λαμβάνεν παρὰ το μύστο ἑκάστο πέντε ὀβολὸς τον ἀρρένον θελειον δὲ τρεῖς ἀτελε μύστεμ μὲ ἐνεῖναι μυεν μεδένα πλὲν το ἀφ ἑστίας μυομένο κερύκας δὲ μυεν μύστας ἕκαστον καὶ εὐμολπίδας κατὰ ταὐτά ἐ πλείος εὐθύνεσθαι χιλιάσι δραχμεσι μυεν δὲ ὁὶ ἂν ἑβοσι κερύκον καὶ εὐμολπιδον το δὲ ἱερο ἀργυρίο ες ιναι ἀθεναίοισι σθαι ἕος ἂν βόλονται καθάπερ το τες ἀθεναίας ἀργυρίο το ἐμ πόλει τὸ δὲ ἀργυρίον τὸς ἱεροποιὸς το ἐμ πόλει ταμιεύεσθαι δ χεν ἐν τοι β εν τον ὀρφανον τὸς ὀρφανὸς παῖδας καὶ τὸς μύστας ἑκαστομ τὸς μύστας τὸς ἐλευσῖνι ενος ἐν τει αὐλει ἐντὸς το ἡιερο τὸς δὲ ἐν ἄστει ἐν τοι ἐλευσινίοι.',\n",
       "  'τὸν ἐπὶ τοι βομοι ἱερέα καὶ τὸν φαιδυντὲν τοῖν θεοῖν καὶ τὸν ἱερέα τὸν λανβάνεν ἕκαστον τότον παρὰ το μύστο ἑκάστο ρα ρο υο ν ον ς μυ τρε τον τοο ρν .'],\n",
       " ['ἔδοξεν τῆι βολῆι καὶ τῶι δήμωι ἀκαμαντὶς ἐπρυτάνευε νάσιππος ἐγραμμάτευε νε δης ἐπεστάτει λέων εἶπε τοῖς φασηλίταις τὸ ψήφισμα ἀναγράψαι ὅ τι ἂμ μὲν ἀθήνησι ξυμβόλαιον γένηται πρὸς φασηλιτῶν τινα ἀθήνησι τὰς δίκας γίγνεσθαι παρὰ τῶι πολεμάρχωι καθάπερ χίοις καὶ ἄλλοθι μηδὲ ἁμο τῶν δὲ ἄλλων ἀπὸ ξυμβολῶν κατὰ τὰς ὄσας ξυμβολὰς πρὸς φασηλίτας τὰς δίκας ε ναι τὰς τος ἀφελεν.',\n",
       "  'ἐὰν δέ τις ἄλλη τῶν ἀρχῶν δέξηται δίκην κατὰ φασηλιτῶν τινος εἰ μὲν καταδικάσει ἡ καταδίκη ἄκυρος ἔστω.',\n",
       "  'ἐὰν δέ τις παραβαίνηι τὰ ἐψηφισμένα ὀφελέτω μυρίας δραχμὰς ἱερὰς τῆι ἀθηναίαι τὸ δὲ ψήφισμα τόδε ἀναγραψάτω ὁ γραμματεὺς ὁ τῆς βολῆς ἐστήληι λιθίνηι καὶ καταθέτω ἐμ πόλει τέλεσι τοῖς τῶν φασηλιτῶν.'],\n",
       " ['χσυμμαχία καὶ ὅρκος ἀθεναίον καὶ ἐγεσταίον.',\n",
       "  'ἔδοχσεν τει βολει καὶ τοι δέμοι ὶς ἐπρυτάνευε ἐγραμμάτευε ο ον ε ρχε ἀρχίας εἶπεν περὶ μὲν ἐγεσταίον τὸν ὅρκον δοναι αὐτοῖς οσα δ ε σ ι αι τὸς δι ερ ν α ἱερὰ ὅσομπερ ε τὸν ὅρκον ὀμνύναι ὅπος δ ἂν ὀμόσοσιν ἅπαντες ὁι στρατεγοὶ ἐπιμελεθέντον παραγγελ τον ὁρκοτον ὅπος ἐγεσταιο τὸ δὲ φσέφισμα τόδε καὶ τὸν ὅρκον ἀναγράφσαι ἐστέλει λιθίνει ἐμ πόλει τὸν γραμματέα τες βολες ὁι δὲ πολεταὶ ἀπομισθοσάντον ὁι δὲ κολακρέται δόντον τὸ ἀργύριον καλέσαι δὲ καὶ ἐπὶ χσένια τὲν πρεσβείαν τον ἐγεσταίον ἐς πρυτανεῖον ἐς τὸν νομιζόμενον χρόνον.',\n",
       "  'εὔφεμος εἶπε τὰ μὲν ἄλλα καθάπερ τει βολει τὸ δὲ λοιπὸν ἐπειδὰν πρέσβες ἐγεσταίον ἀφικνονται ὁ κερυχς προσαγέτο τὸς πρέσβες πρέσβες ἐγεσταίον ὁίδε τὸν ὅρκον ὄμνυον ικίνο ἀπ .'],\n",
       " ['θεόδορος πρασιεὺς ἐγραμμάτευε.',\n",
       "  'χσυνθεκαι ἑρμιονέον καὶ ἀθεναίον.',\n",
       "  'ἔδοχσεν τει βολει καὶ τοι δέμοι ἀντιοχὶς ἐπρυτάνευε θεόδορος ἐγραμμάτευε σι ἐπεστάτε λέον εἶπε χσυνθέσθαι ἃ ὁι ἑρμιονες ρ ου .'],\n",
       " ['ἔδοχσεν τει βολει καὶ τοι δέμοι ἀντιοχὶς ἐπρυτάνευε δρακοντίδες ἐπεστάτε διόγνετος εἶπε κατὰ τάδε τὸν ὅρκον ὀμόσαι ἀθεναίον τὲν βολὲν καὶ τὸς δικαστάς οὐκ ἐχσελο χαλκιδέας ἐχ χαλκίδος οὐδὲ τὲν πόλιν ἀνάστατον ποέσο οὐδὲ ἰδιότεν οὐδένα ἀτιμόσο οὐδὲ φυγει ζεμιόσο οὐδὲ χσυλλέφσομαι οὐδὲ ἀποκτενο οὐδὲ χρέματα ἀφαιρέσομαι ἀκρίτο οὐδενὸς ἄνευ το δέμο το ἀθεναίον οὐδ ἐπιφσεφιο κατὰ ἀπροσκλέτο οὔτε κατὰ το κοινο οὔτε κατὰ ἰδιότο οὐδὲ ἑνός καὶ πρεσβείαν ἐλθοσαν προσάχσο πρὸς βολὲν καὶ δεμον δέκα ἑμερον ὅταν πρυτανεύο κατὰ τὸ δυνατόν.',\n",
       "  'ταῦτα δὲ ἐμπεδόσο χαλκιδεῦσιν πειθομένοις τοι δέμοι τοι ἀθεναίον.',\n",
       "  'ὁρκοσαι δὲ πρεσβείαν ἐλθοσαν ἐχ χαλκίδος μετὰ τον ὁρκοτον ἀθεναίος καὶ ἀπογράφσαι τὸς ὀμόσαντας.',\n",
       "  'ὅπος δ ἂν ὀμόσοσιν ἅπαντες ἐπιμελόσθον ὁι στρατεγοί κατὰ τάδε χαλκιδέας ὀμόσαι οὐκ ἀποστέσομαι ἀπὸ το δέμο το ἀθεναίον οὔτε τέχνει οὔτε μεχανει οὐδεμιᾶι οὐδ ἔπει οὐδὲ ἔργοι οὐδὲ τοι ἀφισταμένοι πείσομαι καὶ ἐὰν ἀφιστει τις κατερο ἀθεναίοισι καὶ τὸν φόρον ὑποτελο ἀθεναίοισιν ὃν ἂν πείθο ἀθεναίος καὶ χσύμμαχος ἔσομαι ὁῖος ἂν δύνομαι ἄριστος καὶ δικαιότατος καὶ τοι δέμοι ἀθεναίον βοεθέσο καὶ ἀμυνο ἐάν τις ἀδικει τὸν δεμον τὸν ἀθεναίον καὶ πείσομαι τοι δέμοι τοι ἀθεναίον.',\n",
       "  'ὀμόσαι δὲ χαλκιδέον τὸς ἑβοντας ἅπαντας ὃς δ ἂμ μὲ ὀμόσει ἄτιμον αὐτὸν ε ναι καὶ τὰ χρέματα αὐτο δεμόσια καὶ το διὸς το ὀλυμπίο τὸ ἐπιδέκατον ἱερὸν ἔστο τον χρεμάτον.',\n",
       "  'ὁρκοσαι δὲ πρεσβείαν ἀθεναίον ἐλθοσαν ἐς χαλκίδα μετὰ τον ὁρκοτον τον ἐν χαλκίδι καὶ ἀπογράφσαι τὸς ὀμόσαντας χαλκιδέον.',\n",
       "  'ἀντικλες εἶπε ἀγαθει τύχει τει ἀθεναίον ποεσθαι τὸν ὅρκον ἀθεναίος καὶ χαλκιδέας καθάπερ ἐρετριεῦσι ἐφσεφίσατο ὁ δεμος ὁ ἀθεναίον ὅπος δ ἂν τάχιστα γίγνεται ἐπιμελόσθον ὁι στρατεγοί.',\n",
       "  'ὁίτινες δὲ ἐχσορκόσοσι ἀφικόμενοι ἐς χαλκίδα ἑλέσθαι τὸν δεμον πέντε ἄνδρας αὐτίκα μάλα.',\n",
       "  'περὶ δὲ τον ὁμέρον ἀποκρίνασθαι χαλκιδεῦσιν ὅτι νῦμ μὲν ἀθεναίοις δοκεῖ ἐᾶν κατὰ τὰ ἐφσεφισμένα ὅταν δὲ δοκει βολευσάμενοι ποέσοσι τὲν διαλλαγέν καθότι ἂν δοκει ἐπιτέδειον ε ναι ἀθεναίοις καὶ χαλκιδεῦσιν.',\n",
       "  'τὸς δὲ χσένος τὸς ἐν χαλκίδι ὅσοι οἰκοντες μὲ τελοσιν ἀθέναζε καὶ εἴ τοι δέδοται ὑπὸ το δέμο το ἀθεναίον ἀτέλεια τὸς δὲ ἄλλος τελεν ἐς χαλκίδα καθάπερ ὁι ἄλλοι χαλκιδέες.',\n",
       "  'τὸ δὲ φσέφισμα τόδε καὶ τὸν ὅρκον ἀναγράφσαι ἀθένεσι μὲν τὸν γραμματέα τες βολες ἐστέλει λιθίνει καὶ καταθεναι ἐς πόλιν τέλεσι τοῖς χαλκιδέον ἐν δὲ χαλκίδι ἐν τοι ἱεροι το διὸς το ὀλυμπίο ἑ βολὲ χαλκιδέον ἀναγράφσασα καταθέτο.',\n",
       "  'ταῦτα μὲν φσεφίσασθαι χαλκιδεῦσιν.',\n",
       "  'τὰ δὲ ἱερὰ τὰ ἐκ τον χρεσμον ὑπὲρ εὐβοίας θῦσαι ὁς τάχιστα μετὰ ἱεροκλέος τρες ἄνδρας ὃς ἂν ἕλεται ἑ βολὲ σφον αὐτον ὅπος δ ἂν τάχιστα τυθει ὁι στρατεγοὶ συνεπιμελόσθον καὶ τὸ ἀργύριον ἐς ταῦτα παρεχόντον ἀρχέστρατος εἶπε τὰ μὲν ἄλλα καθάπερ ἀντικλες τὰς δὲ εὐθύνας χαλκιδεῦσι κατὰ σφον αὐτον ε ναι ἐν χαλκίδι καθάπερ ἀθένεσιν ἀθεναίοις πλὲν φυγες καὶ θανάτο καὶ ἀτιμίας περὶ δὲ τούτον ἔφεσιν ε ναι ἀθεναζε ἐς τὲν ἑλιαίαν τὲν τον θεσμοθετον κατὰ τὸ φσέφισμα το δέμο περὶ δὲ φυλακες εὐβοίας τὸς στρατηγὸς ἐπιμέλεσθαι ὁς ἂν δύνονται ἄριστα ὅπος ἂν ἔχει ὁς βέλτιστα ἀθεναίοις.',\n",
       "  'ὅρκος.']]"
      ]
     },
     "execution_count": 34,
     "metadata": {},
     "output_type": "execute_result"
    }
   ],
   "source": [
    "# look at some inscriptions having more than two sentences.\n",
    "PHI[PHI[\"sents_N\"] > 2][\"sents\"].tolist()[:5]"
   ]
  },
  {
   "cell_type": "markdown",
   "metadata": {},
   "source": [
    "# Download spacy model from sciencedata, load it etc."
   ]
  },
  {
   "cell_type": "code",
   "execution_count": 35,
   "metadata": {},
   "outputs": [],
   "source": [
    "# download our spacy model and unzip it.\n",
    "#!curl https://sciencedata.dk//shared/b8f6c317c433385ce79a9531a0fbf658?download -o ../data/spacy_grc_model.zip\n",
    "#!unzip  -: ../data/spacy_grc_model.zip"
   ]
  },
  {
   "cell_type": "code",
   "execution_count": 36,
   "metadata": {},
   "outputs": [],
   "source": [
    "nlp = spacy.load(\"../models/spacy_grc_model_7\")\n",
    "path = \"../models/spacy_grc_model_7/grc_lemmatization.py\"\n",
    "exec(open(path).read())\n",
    "nlp.add_pipe(grc_doc_lemmatizer, \"grc_doc_lemmatizer\", after=\"tagger\")"
   ]
  },
  {
   "cell_type": "code",
   "execution_count": 37,
   "metadata": {},
   "outputs": [],
   "source": [
    "def apply_nlp(sentences_list):\n",
    "    spacy_docs = []\n",
    "    for sentence in sentences_list:\n",
    "        doc = nlp(sentence)\n",
    "        spacy_docs.append(doc)\n",
    "    return spacy_docs"
   ]
  },
  {
   "cell_type": "code",
   "execution_count": 43,
   "metadata": {},
   "outputs": [
    {
     "name": "stdout",
     "output_type": "stream",
     "text": [
      "CPU times: user 16min 7s, sys: 2.62 s, total: 16min 10s\n",
      "Wall time: 16min 13s\n"
     ]
    }
   ],
   "source": [
    "%%time\n",
    "def try_apply_nlp(sents):\n",
    "    try: return apply_nlp(sents)\n",
    "    except: return None\n",
    "\n",
    "## apply it on the normalized string\n",
    "PHI_docs_series = PHI[\"sents\"].apply(try_apply_nlp)"
   ]
  },
  {
   "cell_type": "code",
   "execution_count": 44,
   "metadata": {},
   "outputs": [],
   "source": [
    "def extract_tagged(sentences):\n",
    "    tagged_sentences = []\n",
    "    try:\n",
    "        for sent in sentences:\n",
    "            tokens = []\n",
    "            for token in sent:\n",
    "                tokens.append((token.text, token.pos_,token.lemma_))\n",
    "            tagged_sentences.append(tokens)\n",
    "    except: pass\n",
    "    return tagged_sentences"
   ]
  },
  {
   "cell_type": "code",
   "execution_count": 45,
   "metadata": {},
   "outputs": [
    {
     "data": {
      "text/plain": [
       "[[('ἔδοχσεν', 'VERB', 'ἔδοχσεν'),\n",
       "  ('τοι', 'PRON', 'σύ'),\n",
       "  ('δέμοι', 'ADJ', 'δέμοι'),\n",
       "  ('τὸς', 'PRON', 'τὸς'),\n",
       "  ('ἐ', 'INTJ', 'ἒ'),\n",
       "  ('σαλαμῖνι', 'NOUN', 'Σαλαμίς'),\n",
       "  ('κλερόχος', 'NOUN', 'κλερόχος'),\n",
       "  ('οἰκεν', 'VERB', 'οἰκεν'),\n",
       "  ('ἐᾶ', 'INTJ', 'ἔα'),\n",
       "  ('σαλαμῖνι', 'NOUN', 'Σαλαμίς'),\n",
       "  ('λεν', 'VERB', 'λεν'),\n",
       "  ('ἀθένεσι', 'NOUN', 'ἀθένεσι'),\n",
       "  ('τελεν', 'VERB', 'τελεν'),\n",
       "  ('καὶ', 'CCONJ', 'καί'),\n",
       "  ('στρατεύεσθαι', 'VERB', 'στρατεύω'),\n",
       "  ('τὰ', 'PRON', 'ὁ'),\n",
       "  ('δ', 'PRON', 'δ'),\n",
       "  ('ἐ', 'INTJ', 'ἒ'),\n",
       "  ('σαλαμῖνι', 'NOUN', 'Σαλαμίς'),\n",
       "  ('μὲ', 'PRON', 'ἐγώ'),\n",
       "  ('μισθον', 'NOUN', 'μισθός'),\n",
       "  ('ἐὰ', 'INTJ', 'ἔα'),\n",
       "  ('μὲ', 'PRON', 'ἐγώ'),\n",
       "  ('οἰκ', 'ADV', 'οἰκ'),\n",
       "  ('ο', 'ADV', 'ο'),\n",
       "  ('μισθόμενο', 'VERB', 'μισθόμενο'),\n",
       "  ('ἐὰν', 'SCONJ', 'ἐάν'),\n",
       "  ('δὲ', 'ADV', 'δέ'),\n",
       "  ('μισθοι', 'NOUN', 'μισθός'),\n",
       "  ('ἀποτίνεν', 'VERB', 'ἀποτίνεν'),\n",
       "  ('τὸ', 'DET', 'ὁ'),\n",
       "  ('μισθόμενον', 'VERB', 'μισθόμενον'),\n",
       "  ('καὶ', 'CCONJ', 'καί'),\n",
       "  ('τὸ', 'DET', 'ὁ'),\n",
       "  ('μισθοντα', 'VERB', 'μισθοντα'),\n",
       "  ('ἑκάτερον', 'ADJ', 'ἑκάτερος'),\n",
       "  ('ἐς', 'ADP', 'εἰς'),\n",
       "  ('δεμόσιον', 'ADJ', 'δεμόσιον'),\n",
       "  ('ἐσπράτεν', 'VERB', 'ἐσπράτεν'),\n",
       "  ('δὲ', 'ADV', 'δέ'),\n",
       "  ('τὸν', 'DET', 'ὁ'),\n",
       "  ('ἄρχοντα', 'NOUN', 'ἄρχων'),\n",
       "  ('ἐὰν', 'SCONJ', 'ἐάν'),\n",
       "  ('δὲ', 'ADV', 'δέ'),\n",
       "  ('μέ', 'PRON', 'ἐγώ'),\n",
       "  ('εὐθύνεσθαι', 'VERB', 'εὐθύνω'),\n",
       "  ('τὰ', 'DET', 'ὁ'),\n",
       "  ('δὲ', 'ADV', 'δέ'),\n",
       "  ('ὅπλα', 'NOUN', 'ὅπλον'),\n",
       "  ('παρέχεσθαι', 'VERB', 'παρέχω'),\n",
       "  ('αὐτὸς', 'ADJ', 'αὐτός'),\n",
       "  ('τριάκοντα', 'NUM', 'τριάκοντα'),\n",
       "  ('δραχμον', 'ADJ', 'δραχμον'),\n",
       "  ('ὁπλισμένον', 'VERB', 'ὁπλισμένον'),\n",
       "  ('δὲ', 'ADV', 'δέ'),\n",
       "  ('τὸν', 'DET', 'ὁ'),\n",
       "  ('ἄρχοντα', 'NOUN', 'ἄρχων'),\n",
       "  ('τὰ', 'DET', 'ὁ'),\n",
       "  ('ὅπλα', 'NOUN', 'ὅπλον'),\n",
       "  ('κρίνεν', 'VERB', 'κρίνεν'),\n",
       "  ('ἐπὶ', 'ADP', 'ἐπί'),\n",
       "  ('τες', 'NOUN', 'τες'),\n",
       "  ('βολες', 'NOUN', 'βολες'),\n",
       "  ('.', 'PUNCT', '.')]]"
      ]
     },
     "execution_count": 45,
     "metadata": {},
     "output_type": "execute_result"
    }
   ],
   "source": [
    "extract_tagged(PHI_docs_series.iloc[0])"
   ]
  },
  {
   "cell_type": "code",
   "execution_count": 46,
   "metadata": {},
   "outputs": [],
   "source": [
    "def extraxt_lem_sents(sentences):\n",
    "    lemmatized_sentences = []\n",
    "    try:\n",
    "        for sent in sentences:\n",
    "            lemmata = []\n",
    "            for token in sent:\n",
    "                if token.pos_ in [\"NOUN\", \"PROPN\", \"ADJ\", \"VERB\"]:\n",
    "                    lemmata.append(token.lemma_)\n",
    "            lemmatized_sentences.append(lemmata)\n",
    "    except: pass\n",
    "    return lemmatized_sentences"
   ]
  },
  {
   "cell_type": "code",
   "execution_count": 47,
   "metadata": {},
   "outputs": [
    {
     "name": "stdout",
     "output_type": "stream",
     "text": [
      "CPU times: user 4.91 s, sys: 100 ms, total: 5.01 s\n",
      "Wall time: 5.04 s\n"
     ]
    }
   ],
   "source": [
    "%%time\n",
    "lem_sents_series = PHI_docs_series.apply(extraxt_lem_sents)"
   ]
  },
  {
   "cell_type": "code",
   "execution_count": 48,
   "metadata": {},
   "outputs": [
    {
     "name": "stdout",
     "output_type": "stream",
     "text": [
      "CPU times: user 3.91 ms, sys: 0 ns, total: 3.91 ms\n",
      "Wall time: 3.72 ms\n"
     ]
    }
   ],
   "source": [
    "%%time\n",
    "PHI[\"lem_sents\"] = lem_sents_series\n",
    "#PHI[\"lemmata\"] = PHI[\"string_normalized\"].apply(lambda x: lemmatize_string(x, all_lemmata=False, filter_by_postag=[\"n\", \"a\", \"v\"], involve_unknown=True))"
   ]
  },
  {
   "cell_type": "code",
   "execution_count": 49,
   "metadata": {},
   "outputs": [],
   "source": [
    "def flat_lemmata(sentences):\n",
    "    lemmata = [word for sent in sentences for word in sent]\n",
    "    return lemmata\n",
    "PHI[\"lemmata\"] = PHI[\"lem_sents\"].apply(flat_lemmata)"
   ]
  },
  {
   "cell_type": "code",
   "execution_count": 51,
   "metadata": {},
   "outputs": [
    {
     "data": {
      "text/plain": [
       "2805617"
      ]
     },
     "execution_count": 51,
     "metadata": {},
     "output_type": "execute_result"
    }
   ],
   "source": [
    "PHI[\"lemmata\"].apply(lambda x: len(x)).sum()"
   ]
  },
  {
   "cell_type": "code",
   "execution_count": 50,
   "metadata": {},
   "outputs": [
    {
     "name": "stdout",
     "output_type": "stream",
     "text": [
      "Your <class 'pandas.core.frame.DataFrame'> object has been succefully written as \"https://sciencedata.dk/files/SDAM_root/SDAM_data/PHI/PHI_lemmatized_20201217.json\"\n"
     ]
    }
   ],
   "source": [
    "sddk.write_file(\"SDAM_data/PHI/PHI_lemmatized_20201217.json\", PHI, conf)"
   ]
  },
  {
   "cell_type": "markdown",
   "metadata": {},
   "source": [
    "# Reading the data back"
   ]
  },
  {
   "cell_type": "code",
   "execution_count": 4,
   "metadata": {},
   "outputs": [],
   "source": [
    "PHI = sddk.read_file(\"SDAM_data/PHI/PHI_dated_lemmatized_20201214.json\", \"df\", conf)"
   ]
  },
  {
   "cell_type": "code",
   "execution_count": 6,
   "metadata": {},
   "outputs": [
    {
     "data": {
      "text/plain": [
       "11551090"
      ]
     },
     "execution_count": 6,
     "metadata": {},
     "output_type": "execute_result"
    }
   ],
   "source": [
    "def count_words(x):\n",
    "    try:\n",
    "        return len(x.split())\n",
    "    except:\n",
    "        return 0\n",
    "PHI[\"clean_text_pythia_ext\"].apply(count_words).sum() # previously 4469462, then 4507247"
   ]
  },
  {
   "cell_type": "code",
   "execution_count": 10,
   "metadata": {},
   "outputs": [
    {
     "data": {
      "text/plain": [
       "4507247"
      ]
     },
     "execution_count": 10,
     "metadata": {},
     "output_type": "execute_result"
    }
   ],
   "source": [
    "PHI[\"clean_text_interpretive_word\"].apply(count_words).sum()"
   ]
  },
  {
   "cell_type": "code",
   "execution_count": 9,
   "metadata": {},
   "outputs": [
    {
     "data": {
      "text/plain": [
       "8704432"
      ]
     },
     "execution_count": 9,
     "metadata": {},
     "output_type": "execute_result"
    }
   ],
   "source": [
    "PHI[\"clean_text_pythia\"].apply(count_words).sum() # previously 4469462, then 4507247"
   ]
  },
  {
   "cell_type": "code",
   "execution_count": 45,
   "metadata": {},
   "outputs": [
    {
     "data": {
      "text/plain": [
       "7132407"
      ]
     },
     "execution_count": 45,
     "metadata": {},
     "output_type": "execute_result"
    }
   ],
   "source": [
    "PHI[\"lemmata\"].apply(lambda x: len(x)).sum() # previously 2743932, 2846806, 2867815"
   ]
  },
  {
   "cell_type": "code",
   "execution_count": null,
   "metadata": {},
   "outputs": [],
   "source": []
  }
 ],
 "metadata": {
  "kernelspec": {
   "display_name": "Python 3",
   "language": "python",
   "name": "python3"
  },
  "language_info": {
   "codemirror_mode": {
    "name": "ipython",
    "version": 3
   },
   "file_extension": ".py",
   "mimetype": "text/x-python",
   "name": "python",
   "nbconvert_exporter": "python",
   "pygments_lexer": "ipython3",
   "version": "3.6.9"
  }
 },
 "nbformat": 4,
 "nbformat_minor": 4
}
