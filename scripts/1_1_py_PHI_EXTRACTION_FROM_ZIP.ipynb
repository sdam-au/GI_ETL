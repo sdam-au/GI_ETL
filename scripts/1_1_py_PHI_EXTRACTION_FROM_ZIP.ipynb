{
  "nbformat": 4,
  "nbformat_minor": 0,
  "metadata": {
    "colab": {
      "name": "1_1_py_PHI_EXTRACTION_FROM_ZIP.ipynb",
      "provenance": [],
      "authorship_tag": "ABX9TyPwY7Dqpixtk+BXjNHZGw0I",
      "include_colab_link": true
    },
    "kernelspec": {
      "name": "python3",
      "display_name": "Python 3"
    }
  },
  "cells": [
    {
      "cell_type": "markdown",
      "metadata": {
        "id": "view-in-github",
        "colab_type": "text"
      },
      "source": [
        "<a href=\"https://colab.research.google.com/github/sdam-au/PHI_ETL/blob/master/scripts/1_1_py_PHI_EXTRACTION_FROM_ZIP.ipynb\" target=\"_parent\"><img src=\"https://colab.research.google.com/assets/colab-badge.svg\" alt=\"Open In Colab\"/></a>"
      ]
    },
    {
      "cell_type": "code",
      "metadata": {
        "id": "JcNeUMCflzF8",
        "colab_type": "code",
        "colab": {}
      },
      "source": [
        "import numpy as np\n",
        "import math\n",
        "import pandas as pd\n",
        "\n",
        "import sys\n",
        "### we do a lot of requests during the scrapping. Some of them with requests package, some of them with urllib\n",
        "import requests\n",
        "from urllib.request import urlopen \n",
        "from urllib.parse import quote  \n",
        "from bs4 import BeautifulSoup\n",
        "import xml.etree.cElementTree as ET\n",
        "\n",
        "import zipfile\n",
        "import io\n",
        "\n",
        "# to avoid errors, we sometime use time.sleep(N) before retrying a request\n",
        "import time\n",
        "# the input data have typically a json structure\n",
        "import json\n",
        "import getpass\n",
        "\n",
        "import datetime as dt\n",
        "# for simple paralel computing:\n",
        "from concurrent.futures import ThreadPoolExecutor"
      ],
      "execution_count": 0,
      "outputs": []
    },
    {
      "cell_type": "code",
      "metadata": {
        "id": "Z7ev1FnpnGk4",
        "colab_type": "code",
        "colab": {}
      },
      "source": [
        "!pip install sddk --upgrade\n",
        "import sddk"
      ],
      "execution_count": 0,
      "outputs": []
    },
    {
      "cell_type": "code",
      "metadata": {
        "id": "MhnThoX5kUKs",
        "colab_type": "code",
        "outputId": "91b473cb-bb86-43f0-c2bd-d433adf77d0c",
        "colab": {
          "base_uri": "https://localhost:8080/",
          "height": 85
        }
      },
      "source": [
        "conf = sddk.configure(\"SDAM_root\", \"648597@au.dk\")"
      ],
      "execution_count": 3,
      "outputs": [
        {
          "output_type": "stream",
          "text": [
            "sciencedata.dk username (format '123456@au.dk'): 648597@au.dk\n",
            "sciencedata.dk password: ··········\n",
            "connection with shared folder established with you as its owner\n",
            "endpoint variable has been configured to: https://sciencedata.dk/files/SDAM_root/\n"
          ],
          "name": "stdout"
        }
      ]
    },
    {
      "cell_type": "markdown",
      "metadata": {
        "id": "q3mnCgRBxXWL",
        "colab_type": "text"
      },
      "source": [
        "# Extract the data from a zipfile on sciencedata.dk\n"
      ]
    },
    {
      "cell_type": "code",
      "metadata": {
        "id": "pdedljlMl4Ps",
        "colab_type": "code",
        "colab": {}
      },
      "source": [
        "### to get the zip file into a response\n",
        "response = conf[0].get(conf[1] + \"SDAM_data/PHI/PHI_Petra.zip\")\n"
      ],
      "execution_count": 0,
      "outputs": []
    },
    {
      "cell_type": "code",
      "metadata": {
        "id": "IlO0dmDommBM",
        "colab_type": "code",
        "outputId": "a894cd0f-e747-4f87-8b24-ddb04f8d2040",
        "colab": {
          "base_uri": "https://localhost:8080/",
          "height": 34
        }
      },
      "source": [
        "### check that the response is functional\n",
        "response"
      ],
      "execution_count": 0,
      "outputs": [
        {
          "output_type": "execute_result",
          "data": {
            "text/plain": [
              "<Response [200]>"
            ]
          },
          "metadata": {
            "tags": []
          },
          "execution_count": 5
        }
      ]
    },
    {
      "cell_type": "code",
      "metadata": {
        "id": "sgx9V__kmaEd",
        "colab_type": "code",
        "outputId": "1fd9d4e6-04fd-4e7c-eafe-7c134fc82f29",
        "colab": {
          "base_uri": "https://localhost:8080/",
          "height": 51
        }
      },
      "source": [
        "%%time\n",
        "zipped = zipfile.ZipFile(io.BytesIO(response.content))"
      ],
      "execution_count": 0,
      "outputs": [
        {
          "output_type": "stream",
          "text": [
            "CPU times: user 29.1 ms, sys: 3.7 ms, total: 32.8 ms\n",
            "Wall time: 37.7 ms\n"
          ],
          "name": "stdout"
        }
      ]
    },
    {
      "cell_type": "code",
      "metadata": {
        "id": "WfD_e7GRmj8Z",
        "colab_type": "code",
        "outputId": "c07d8b05-96f4-4446-a92c-c6564aeb5278",
        "colab": {
          "base_uri": "https://localhost:8080/",
          "height": 34
        }
      },
      "source": [
        "# how many files we have?\n",
        "namelist = zipped.namelist()[1:] ### index \"0\" is for main directory\n",
        "len(namelist)"
      ],
      "execution_count": 0,
      "outputs": [
        {
          "output_type": "execute_result",
          "data": {
            "text/plain": [
              "3363"
            ]
          },
          "metadata": {
            "tags": []
          },
          "execution_count": 7
        }
      ]
    },
    {
      "cell_type": "code",
      "metadata": {
        "id": "-FRHto4amtW1",
        "colab_type": "code",
        "outputId": "6499c91d-3b6e-49f1-e6b2-cc73c0ffca6e",
        "colab": {
          "base_uri": "https://localhost:8080/",
          "height": 34
        }
      },
      "source": [
        "namelist = [name for name in namelist if not \"._\" in name]\n",
        "namelist = [name for name in namelist if  \".csv\" in name]\n",
        "namelist = [name for name in namelist if  \"output_parsed\" in name]\n",
        "\n",
        "len(namelist)"
      ],
      "execution_count": 0,
      "outputs": [
        {
          "output_type": "execute_result",
          "data": {
            "text/plain": [
              "743"
            ]
          },
          "metadata": {
            "tags": []
          },
          "execution_count": 12
        }
      ]
    },
    {
      "cell_type": "code",
      "metadata": {
        "id": "yktJWyXcm5mW",
        "colab_type": "code",
        "outputId": "8ae546c9-560d-4a31-9932-16c15bcc1a54",
        "colab": {
          "base_uri": "https://localhost:8080/",
          "height": 1000
        }
      },
      "source": [
        "namelist[:100]"
      ],
      "execution_count": 0,
      "outputs": [
        {
          "output_type": "execute_result",
          "data": {
            "text/plain": [
              "['PHI/output_parsed/Clinton--Sacred-Officials.csv',\n",
              " 'PHI/output_parsed/Clara-Rhodos.csv',\n",
              " 'PHI/output_parsed/ClRev.csv',\n",
              " 'PHI/output_parsed/Christol-Drew-Bear--Castellum-rom..csv',\n",
              " 'PHI/output_parsed/Chiron.csv',\n",
              " 'PHI/output_parsed/Chios.csv',\n",
              " 'PHI/output_parsed/Chaniotis--Vertr-ge.csv',\n",
              " 'PHI/output_parsed/Cesnola--Cyprus.csv',\n",
              " 'PHI/output_parsed/CahArch.csv',\n",
              " 'PHI/output_parsed/Cabanes--L--pire.csv',\n",
              " 'PHI/output_parsed/CSCA.csv',\n",
              " 'PHI/output_parsed/CRAI.csv',\n",
              " 'PHI/output_parsed/CPh.csv',\n",
              " 'PHI/output_parsed/CIRB.csv',\n",
              " 'PHI/output_parsed/CIL-III.csv',\n",
              " 'PHI/output_parsed/CIJud.-II.csv',\n",
              " 'PHI/output_parsed/CIG.csv',\n",
              " 'PHI/output_parsed/CID.csv',\n",
              " 'PHI/output_parsed/CEG.csv',\n",
              " 'PHI/output_parsed/CCET.csv',\n",
              " 'PHI/output_parsed/ByzantologSynedr-9-1953.csv',\n",
              " 'PHI/output_parsed/Byzantion.csv',\n",
              " 'PHI/output_parsed/Buresch--Aus-Lydien.csv',\n",
              " 'PHI/output_parsed/Budde--Ant.Mosaiken-I.csv',\n",
              " 'PHI/output_parsed/Brun-mid--Inschriften.csv',\n",
              " 'PHI/output_parsed/Brixhe--Dial.gr.Pamph..csv',\n",
              " 'PHI/output_parsed/Breccia--Alexandria-Mus..csv',\n",
              " 'PHI/output_parsed/Bosnakis--Epigraphes.csv',\n",
              " 'PHI/output_parsed/Bosch--Quellen-Ankara.csv',\n",
              " 'PHI/output_parsed/BollArte.csv',\n",
              " 'PHI/output_parsed/Boesch--Theoros.csv',\n",
              " 'PHI/output_parsed/Blaundos.csv',\n",
              " 'PHI/output_parsed/Bile--Dialecte.csv',\n",
              " 'PHI/output_parsed/Bettarini--Defixiones.csv',\n",
              " 'PHI/output_parsed/Berytus.csv',\n",
              " 'PHI/output_parsed/Bernand--Mus.-du-Louvre.csv',\n",
              " 'PHI/output_parsed/Bernand--Inscr.-M-tr..csv',\n",
              " 'PHI/output_parsed/Benndorf-Niemann--Reisen-I.csv',\n",
              " 'PHI/output_parsed/Benndorf-Niemann--Heroon.csv',\n",
              " 'PHI/output_parsed/Belleten.csv',\n",
              " 'PHI/output_parsed/Bees--Inschriftenaufzeichnung.csv',\n",
              " 'PHI/output_parsed/Bean-Mitford--Journeys-1964-68.csv',\n",
              " 'PHI/output_parsed/Bean-Mitford--Journeys-1962-63.csv',\n",
              " 'PHI/output_parsed/Bean--Journeys-1965-1967.csv',\n",
              " 'PHI/output_parsed/BdI.csv',\n",
              " 'PHI/output_parsed/BasZeit.csv',\n",
              " 'PHI/output_parsed/Bargylia.csv',\n",
              " 'PHI/output_parsed/Bandy.csv',\n",
              " 'PHI/output_parsed/BSAF.csv',\n",
              " 'PHI/output_parsed/BSAAlex.csv',\n",
              " 'PHI/output_parsed/BPhW.csv',\n",
              " 'PHI/output_parsed/BP.csv',\n",
              " 'PHI/output_parsed/BNGJ.csv',\n",
              " 'PHI/output_parsed/BMusImp.csv',\n",
              " 'PHI/output_parsed/BMBeyrouth.csv',\n",
              " 'PHI/output_parsed/BE.csv',\n",
              " 'PHI/output_parsed/BCH.csv',\n",
              " 'PHI/output_parsed/BCH-Suppl..csv',\n",
              " 'PHI/output_parsed/BASP.csv',\n",
              " 'PHI/output_parsed/BABesch.csv',\n",
              " 'PHI/output_parsed/Axenidis--Pelasgis-Larisa.csv',\n",
              " 'PHI/output_parsed/AvP-VII-2.csv',\n",
              " 'PHI/output_parsed/AvP-II.csv',\n",
              " 'PHI/output_parsed/Audollent--Defix.-Tab..csv',\n",
              " 'PHI/output_parsed/Attouda.csv',\n",
              " 'PHI/output_parsed/Ath-naion.csv',\n",
              " 'PHI/output_parsed/Ath-na.csv',\n",
              " 'PHI/output_parsed/Ath-na-ka.csv',\n",
              " 'PHI/output_parsed/Asdracha--Inscr.-Byz..csv',\n",
              " 'PHI/output_parsed/Archaeology.csv',\n",
              " 'PHI/output_parsed/ArchPap.csv',\n",
              " 'PHI/output_parsed/ArchIug.csv',\n",
              " 'PHI/output_parsed/ArchEph.csv',\n",
              " 'PHI/output_parsed/ArchCl.csv',\n",
              " 'PHI/output_parsed/ArchByzMnHell.csv',\n",
              " 'PHI/output_parsed/Arch.-Epigr.-Thessalonikes.csv',\n",
              " 'PHI/output_parsed/Apollonia-Salbake.csv',\n",
              " 'PHI/output_parsed/Aphrodisias.csv',\n",
              " 'PHI/output_parsed/AnzWien.csv',\n",
              " 'PHI/output_parsed/Antonin--Poiezdka.csv',\n",
              " 'PHI/output_parsed/Antich.-Ist.-i-Kult..csv',\n",
              " 'PHI/output_parsed/Anth.Gr..csv',\n",
              " 'PHI/output_parsed/AntTard.csv',\n",
              " 'PHI/output_parsed/AntKunst.csv',\n",
              " 'PHI/output_parsed/AntCl.csv',\n",
              " 'PHI/output_parsed/Ann-p.csv',\n",
              " 'PHI/output_parsed/Andronikos--Vergina.csv',\n",
              " 'PHI/output_parsed/Ancient-Cos.csv',\n",
              " 'PHI/output_parsed/Anc.-Macedonia.csv',\n",
              " 'PHI/output_parsed/AnalBoll.csv',\n",
              " 'PHI/output_parsed/AnIsl.csv',\n",
              " 'PHI/output_parsed/Amyzon.csv',\n",
              " 'PHI/output_parsed/Amnisos.csv',\n",
              " 'PHI/output_parsed/Alt.v.Hierapolis.csv',\n",
              " 'PHI/output_parsed/Alt.-von-Aegae.csv',\n",
              " 'PHI/output_parsed/Aleshire--Ath.-Asklepieion.csv',\n",
              " 'PHI/output_parsed/Albania.csv',\n",
              " 'PHI/output_parsed/Albania-Antica-3.csv',\n",
              " 'PHI/output_parsed/Albania-Antica-2.csv',\n",
              " 'PHI/output_parsed/Albania-Antica-1.csv']"
            ]
          },
          "metadata": {
            "tags": []
          },
          "execution_count": 11
        }
      ]
    },
    {
      "cell_type": "markdown",
      "metadata": {
        "id": "qTgreFsb3agZ",
        "colab_type": "text"
      },
      "source": [
        "# Test with one file"
      ]
    },
    {
      "cell_type": "code",
      "metadata": {
        "id": "07l6FQCR1Fiu",
        "colab_type": "code",
        "colab": {}
      },
      "source": [
        "test = pd.read_csv(io.BytesIO(zipped.read(\"PHI/output_parsed/CEG.csv\")))"
      ],
      "execution_count": 0,
      "outputs": []
    },
    {
      "cell_type": "code",
      "metadata": {
        "id": "3THVUyKW3WKX",
        "colab_type": "code",
        "outputId": "e483998a-5d15-4519-b741-d8ed0b79bd6e",
        "colab": {
          "base_uri": "https://localhost:8080/",
          "height": 632
        }
      },
      "source": [
        "test.head()"
      ],
      "execution_count": 0,
      "outputs": [
        {
          "output_type": "execute_result",
          "data": {
            "text/html": [
              "<div>\n",
              "<style scoped>\n",
              "    .dataframe tbody tr th:only-of-type {\n",
              "        vertical-align: middle;\n",
              "    }\n",
              "\n",
              "    .dataframe tbody tr th {\n",
              "        vertical-align: top;\n",
              "    }\n",
              "\n",
              "    .dataframe thead th {\n",
              "        text-align: right;\n",
              "    }\n",
              "</style>\n",
              "<table border=\"1\" class=\"dataframe\">\n",
              "  <thead>\n",
              "    <tr style=\"text-align: right;\">\n",
              "      <th></th>\n",
              "      <th>URL</th>\n",
              "      <th>Book</th>\n",
              "      <th>Text</th>\n",
              "      <th>hdr1</th>\n",
              "      <th>hdr2</th>\n",
              "      <th>tildeinfo</th>\n",
              "      <th>note</th>\n",
              "      <th>lines</th>\n",
              "      <th>metadata</th>\n",
              "      <th>data</th>\n",
              "      <th>region</th>\n",
              "      <th>stoich</th>\n",
              "      <th>sinistr</th>\n",
              "      <th>subregion</th>\n",
              "      <th>date</th>\n",
              "      <th>other_info_0</th>\n",
              "      <th>other_info_1</th>\n",
              "      <th>other_info_2</th>\n",
              "      <th>other_info_3</th>\n",
              "      <th>other_info_4</th>\n",
              "    </tr>\n",
              "  </thead>\n",
              "  <tbody>\n",
              "    <tr>\n",
              "      <th>0</th>\n",
              "      <td>/text/328151?location=1&amp;patt=&amp;bookid=303&amp;offse...</td>\n",
              "      <td>CEG</td>\n",
              "      <td>I 109</td>\n",
              "      <td>Regions</td>\n",
              "      <td>CEG I 109</td>\n",
              "      <td>NaN</td>\n",
              "      <td>Funerary epigram for Dermys and Kitylos.  Lime...</td>\n",
              "      <td>5</td>\n",
              "      <td>i, left figure.1\\n\\nii, right figure.2\\n\\niii,...</td>\n",
              "      <td>Δέρμυς.\\n\\nΚιτύλος.\\n\\nἈμφάλκες ἔστασ’ ἐπὶ Κιτ...</td>\n",
              "      <td>Boiotia</td>\n",
              "      <td>NaN</td>\n",
              "      <td>NaN</td>\n",
              "      <td>Tanagra</td>\n",
              "      <td>ca. 600 BC</td>\n",
              "      <td>ca. 600 BC</td>\n",
              "      <td>IG VII 579</td>\n",
              "      <td>GVI 137</td>\n",
              "      <td>LSAG² 92; 94, 8</td>\n",
              "      <td>NaN</td>\n",
              "    </tr>\n",
              "    <tr>\n",
              "      <th>1</th>\n",
              "      <td>/text/328152?location=1&amp;patt=&amp;bookid=303&amp;offse...</td>\n",
              "      <td>CEG</td>\n",
              "      <td>I 110</td>\n",
              "      <td>Regions</td>\n",
              "      <td>CEG I 110</td>\n",
              "      <td>NaN</td>\n",
              "      <td>Funerary epigram for Kallias, son of Aigisthos...</td>\n",
              "      <td>4</td>\n",
              "      <td>1\\n\\n\\n</td>\n",
              "      <td>Καλλία\\nΑἰγίθοιο {²⁶Αἰγίσθοιο}²⁶·\\nτὺ δ’ εὖ πρ...</td>\n",
              "      <td>Boiotia</td>\n",
              "      <td>NaN</td>\n",
              "      <td>NaN</td>\n",
              "      <td>Haliartos (Kastri Maziou)</td>\n",
              "      <td>ca. 500 BC?</td>\n",
              "      <td>ca. 500 BC?</td>\n",
              "      <td>IG VII 2852</td>\n",
              "      <td>GVI 62</td>\n",
              "      <td>NaN</td>\n",
              "      <td>NaN</td>\n",
              "    </tr>\n",
              "    <tr>\n",
              "      <th>2</th>\n",
              "      <td>/text/328153?location=1&amp;patt=&amp;bookid=303&amp;offse...</td>\n",
              "      <td>CEG</td>\n",
              "      <td>I 111</td>\n",
              "      <td>Regions</td>\n",
              "      <td>CEG I 111</td>\n",
              "      <td>NaN</td>\n",
              "      <td>Funerary epigram for Gathon.  Limestone tablet...</td>\n",
              "      <td>1</td>\n",
              "      <td>1</td>\n",
              "      <td>[π]αῖδες̣ ἐ̣[ποίεσ]α̣ν μ̣νᾶ̣μ̣’ ἐνθάδ̣[ε] πατρ...</td>\n",
              "      <td>Boiotia</td>\n",
              "      <td>NaN</td>\n",
              "      <td>NaN</td>\n",
              "      <td>Tanagra</td>\n",
              "      <td>ca. 500 BC?</td>\n",
              "      <td>ca. 500 BC?</td>\n",
              "      <td>IG VII 3501 (a)</td>\n",
              "      <td>GVI 162</td>\n",
              "      <td>SEG 15.316</td>\n",
              "      <td>NaN</td>\n",
              "    </tr>\n",
              "    <tr>\n",
              "      <th>3</th>\n",
              "      <td>/text/328154?location=1&amp;patt=&amp;bookid=303&amp;offse...</td>\n",
              "      <td>CEG</td>\n",
              "      <td>I 112</td>\n",
              "      <td>Regions</td>\n",
              "      <td>CEG I 112</td>\n",
              "      <td>NaN</td>\n",
              "      <td>Funerary epigram for Phanes.  Funerary stele. ...</td>\n",
              "      <td>2</td>\n",
              "      <td>1\\n</td>\n",
              "      <td>ἀσστοῖ[ς] καὶ χσένοισι Φάνες φίλος [ἐνθάδε κεῖ...</td>\n",
              "      <td>Boiotia</td>\n",
              "      <td>NaN</td>\n",
              "      <td>NaN</td>\n",
              "      <td>Thisbe</td>\n",
              "      <td>ca. 500 BC?</td>\n",
              "      <td>ca. 500 BC?</td>\n",
              "      <td>IG VII 2247</td>\n",
              "      <td>GVI 321 (cf. SEG 15.327)</td>\n",
              "      <td>CEG I, Add. p. 261</td>\n",
              "      <td>NaN</td>\n",
              "    </tr>\n",
              "    <tr>\n",
              "      <th>4</th>\n",
              "      <td>/text/328155?location=1&amp;patt=&amp;bookid=303&amp;offse...</td>\n",
              "      <td>CEG</td>\n",
              "      <td>I 113</td>\n",
              "      <td>Regions</td>\n",
              "      <td>CEG I 113</td>\n",
              "      <td>NaN</td>\n",
              "      <td>Funerary epigram for Oligeides, son of Osthilo...</td>\n",
              "      <td>6</td>\n",
              "      <td>1\\n\\n\\n\\n5\\n</td>\n",
              "      <td>μνᾶμ’ ἐπ’ Ὀλιγέ-\\nδαι {ι} μ’ ὁ πατὲρ ἐ-\\nπέθεκ...</td>\n",
              "      <td>Boiotia</td>\n",
              "      <td>NaN</td>\n",
              "      <td>NaN</td>\n",
              "      <td>Thespiai</td>\n",
              "      <td>ca. 500-480 BC?</td>\n",
              "      <td>Palaiopanagia</td>\n",
              "      <td>ca. 500-480 BC?</td>\n",
              "      <td>IG VII 1880</td>\n",
              "      <td>GVI 152</td>\n",
              "      <td>SEG 15.325</td>\n",
              "    </tr>\n",
              "  </tbody>\n",
              "</table>\n",
              "</div>"
            ],
            "text/plain": [
              "                                                 URL  ... other_info_4\n",
              "0  /text/328151?location=1&patt=&bookid=303&offse...  ...          NaN\n",
              "1  /text/328152?location=1&patt=&bookid=303&offse...  ...          NaN\n",
              "2  /text/328153?location=1&patt=&bookid=303&offse...  ...          NaN\n",
              "3  /text/328154?location=1&patt=&bookid=303&offse...  ...          NaN\n",
              "4  /text/328155?location=1&patt=&bookid=303&offse...  ...   SEG 15.325\n",
              "\n",
              "[5 rows x 20 columns]"
            ]
          },
          "metadata": {
            "tags": []
          },
          "execution_count": 21
        }
      ]
    },
    {
      "cell_type": "markdown",
      "metadata": {
        "id": "SAQImvXN3_pS",
        "colab_type": "text"
      },
      "source": [
        "# Extracting the whole dataset"
      ]
    },
    {
      "cell_type": "code",
      "metadata": {
        "id": "1QxUVaIb3s2j",
        "colab_type": "code",
        "outputId": "d5d4e2bc-7076-43f1-a4f3-10ad0906b5e5",
        "colab": {
          "base_uri": "https://localhost:8080/",
          "height": 71
        }
      },
      "source": [
        "dfs = []\n",
        "for filename in namelist:\n",
        "  df = pd.read_csv(io.BytesIO(zipped.read(filename)))\n",
        "  dfs.append(df)"
      ],
      "execution_count": 0,
      "outputs": [
        {
          "output_type": "stream",
          "text": [
            "/usr/local/lib/python3.6/dist-packages/IPython/core/interactiveshell.py:2718: DtypeWarning: Columns (11,12) have mixed types.Specify dtype option on import or set low_memory=False.\n",
            "  interactivity=interactivity, compiler=compiler, result=result)\n"
          ],
          "name": "stderr"
        }
      ]
    },
    {
      "cell_type": "code",
      "metadata": {
        "id": "oZnbgCoq4UWW",
        "colab_type": "code",
        "outputId": "59d6d775-02ab-4be2-9c34-4ecde12b9519",
        "colab": {
          "base_uri": "https://localhost:8080/",
          "height": 34
        }
      },
      "source": [
        "dfs = pd.concat(dfs)\n",
        "dfs.shape"
      ],
      "execution_count": 0,
      "outputs": [
        {
          "output_type": "execute_result",
          "data": {
            "text/plain": [
              "(214995, 25)"
            ]
          },
          "metadata": {
            "tags": []
          },
          "execution_count": 29
        }
      ]
    },
    {
      "cell_type": "code",
      "metadata": {
        "id": "rB3_qalF5x6q",
        "colab_type": "code",
        "outputId": "24dc08da-29f7-4812-9d6a-58183d93a55f",
        "colab": {
          "base_uri": "https://localhost:8080/",
          "height": 462
        }
      },
      "source": [
        "### so let look at what is somewhere in the middle...\n",
        "dfs.iloc[10000:10005]"
      ],
      "execution_count": 0,
      "outputs": [
        {
          "output_type": "execute_result",
          "data": {
            "text/html": [
              "<div>\n",
              "<style scoped>\n",
              "    .dataframe tbody tr th:only-of-type {\n",
              "        vertical-align: middle;\n",
              "    }\n",
              "\n",
              "    .dataframe tbody tr th {\n",
              "        vertical-align: top;\n",
              "    }\n",
              "\n",
              "    .dataframe thead th {\n",
              "        text-align: right;\n",
              "    }\n",
              "</style>\n",
              "<table border=\"1\" class=\"dataframe\">\n",
              "  <thead>\n",
              "    <tr style=\"text-align: right;\">\n",
              "      <th></th>\n",
              "      <th>URL</th>\n",
              "      <th>Book</th>\n",
              "      <th>Text</th>\n",
              "      <th>hdr1</th>\n",
              "      <th>hdr2</th>\n",
              "      <th>tildeinfo</th>\n",
              "      <th>note</th>\n",
              "      <th>lines</th>\n",
              "      <th>metadata</th>\n",
              "      <th>data</th>\n",
              "      <th>region</th>\n",
              "      <th>stoich</th>\n",
              "      <th>sinistr</th>\n",
              "      <th>subregion</th>\n",
              "      <th>date</th>\n",
              "      <th>other_info_0</th>\n",
              "      <th>other_info_1</th>\n",
              "      <th>other_info_2</th>\n",
              "      <th>other_info_3</th>\n",
              "      <th>other_info_4</th>\n",
              "      <th>Unnamed: 0</th>\n",
              "      <th>petra</th>\n",
              "      <th>X260</th>\n",
              "      <th>17.12.2019 16:59</th>\n",
              "      <th>file:///home/petra/.config/libreoffice/4;</th>\n",
              "    </tr>\n",
              "  </thead>\n",
              "  <tbody>\n",
              "    <tr>\n",
              "      <th>55</th>\n",
              "      <td>/text/256730?location=1040&amp;patt=&amp;bookid=482&amp;bo...</td>\n",
              "      <td>Alabanda</td>\n",
              "      <td>49*5</td>\n",
              "      <td>Regions\\nAsia Minor\\nCaria</td>\n",
              "      <td>Alabanda 49*5</td>\n",
              "      <td>NaN</td>\n",
              "      <td>NaN</td>\n",
              "      <td>3.0</td>\n",
              "      <td>1\\n\\n</td>\n",
              "      <td>Ἐπαφρᾶ #⁹³⁷ τραπεζείτου,\\nπατρὸς δὲ Φιλουμενοῦ...</td>\n",
              "      <td>LW 557</td>\n",
              "      <td>NaN</td>\n",
              "      <td>NaN</td>\n",
              "      <td>NaN</td>\n",
              "      <td>NaN</td>\n",
              "      <td>NaN</td>\n",
              "      <td>NaN</td>\n",
              "      <td>NaN</td>\n",
              "      <td>NaN</td>\n",
              "      <td>NaN</td>\n",
              "      <td>NaN</td>\n",
              "      <td>NaN</td>\n",
              "      <td>NaN</td>\n",
              "      <td>NaN</td>\n",
              "      <td>NaN</td>\n",
              "    </tr>\n",
              "    <tr>\n",
              "      <th>56</th>\n",
              "      <td>/text/256731?location=1040&amp;patt=&amp;bookid=482&amp;of...</td>\n",
              "      <td>Alabanda</td>\n",
              "      <td>50</td>\n",
              "      <td>Regions\\nAsia Minor\\nCaria</td>\n",
              "      <td>Alabanda 50</td>\n",
              "      <td>NaN</td>\n",
              "      <td>Funerary inscription of Ephebos Neikanoros ...</td>\n",
              "      <td>2.0</td>\n",
              "      <td>1\\n</td>\n",
              "      <td>Ἐφήβου τοῦ\\nΝεικάνορος.</td>\n",
              "      <td>BCH 1894, 34</td>\n",
              "      <td>NaN</td>\n",
              "      <td>NaN</td>\n",
              "      <td>NaN</td>\n",
              "      <td>NaN</td>\n",
              "      <td>NaN</td>\n",
              "      <td>NaN</td>\n",
              "      <td>NaN</td>\n",
              "      <td>NaN</td>\n",
              "      <td>NaN</td>\n",
              "      <td>NaN</td>\n",
              "      <td>NaN</td>\n",
              "      <td>NaN</td>\n",
              "      <td>NaN</td>\n",
              "      <td>NaN</td>\n",
              "    </tr>\n",
              "    <tr>\n",
              "      <th>57</th>\n",
              "      <td>/text/256732?location=1040&amp;patt=&amp;bookid=482&amp;of...</td>\n",
              "      <td>Alabanda</td>\n",
              "      <td>51</td>\n",
              "      <td>Regions\\nAsia Minor\\nCaria</td>\n",
              "      <td>Alabanda 51</td>\n",
              "      <td>NaN</td>\n",
              "      <td>NaN</td>\n",
              "      <td>1.0</td>\n",
              "      <td>1</td>\n",
              "      <td>Εὐκάρπου οἰκείου Ἀριστογένου.</td>\n",
              "      <td>LW 563</td>\n",
              "      <td>NaN</td>\n",
              "      <td>NaN</td>\n",
              "      <td>NaN</td>\n",
              "      <td>NaN</td>\n",
              "      <td>NaN</td>\n",
              "      <td>NaN</td>\n",
              "      <td>NaN</td>\n",
              "      <td>NaN</td>\n",
              "      <td>NaN</td>\n",
              "      <td>NaN</td>\n",
              "      <td>NaN</td>\n",
              "      <td>NaN</td>\n",
              "      <td>NaN</td>\n",
              "      <td>NaN</td>\n",
              "    </tr>\n",
              "    <tr>\n",
              "      <th>58</th>\n",
              "      <td>/text/256733?location=1040&amp;patt=&amp;bookid=482&amp;of...</td>\n",
              "      <td>Alabanda</td>\n",
              "      <td>52</td>\n",
              "      <td>Regions\\nAsia Minor\\nCaria</td>\n",
              "      <td>Alabanda 52</td>\n",
              "      <td>NaN</td>\n",
              "      <td>Reclassified as Hyllarima 24. \\n  \\n</td>\n",
              "      <td>1.0</td>\n",
              "      <td>0</td>\n",
              "      <td>{²reclassified as Hyllarima 24}²</td>\n",
              "      <td>NaN</td>\n",
              "      <td>NaN</td>\n",
              "      <td>NaN</td>\n",
              "      <td>NaN</td>\n",
              "      <td>NaN</td>\n",
              "      <td>NaN</td>\n",
              "      <td>NaN</td>\n",
              "      <td>NaN</td>\n",
              "      <td>NaN</td>\n",
              "      <td>NaN</td>\n",
              "      <td>NaN</td>\n",
              "      <td>NaN</td>\n",
              "      <td>NaN</td>\n",
              "      <td>NaN</td>\n",
              "      <td>NaN</td>\n",
              "    </tr>\n",
              "    <tr>\n",
              "      <th>59</th>\n",
              "      <td>/text/256734?location=1040&amp;patt=&amp;bookid=482&amp;of...</td>\n",
              "      <td>Alabanda</td>\n",
              "      <td>53</td>\n",
              "      <td>Regions\\nAsia Minor\\nCaria</td>\n",
              "      <td>Alabanda 53</td>\n",
              "      <td>NaN</td>\n",
              "      <td>Funerary inscription of Eutyches [D]o[x]ipa...</td>\n",
              "      <td>2.0</td>\n",
              "      <td>1\\n</td>\n",
              "      <td>Εὐτύχου [Δ]ο[ξ]ιπάτρου·\\nvacat ζῇ.</td>\n",
              "      <td>LW 562</td>\n",
              "      <td>NaN</td>\n",
              "      <td>NaN</td>\n",
              "      <td>NaN</td>\n",
              "      <td>NaN</td>\n",
              "      <td>NaN</td>\n",
              "      <td>NaN</td>\n",
              "      <td>NaN</td>\n",
              "      <td>NaN</td>\n",
              "      <td>NaN</td>\n",
              "      <td>NaN</td>\n",
              "      <td>NaN</td>\n",
              "      <td>NaN</td>\n",
              "      <td>NaN</td>\n",
              "      <td>NaN</td>\n",
              "    </tr>\n",
              "  </tbody>\n",
              "</table>\n",
              "</div>"
            ],
            "text/plain": [
              "                                                  URL  ... file:///home/petra/.config/libreoffice/4;\n",
              "55  /text/256730?location=1040&patt=&bookid=482&bo...  ...                                       NaN\n",
              "56  /text/256731?location=1040&patt=&bookid=482&of...  ...                                       NaN\n",
              "57  /text/256732?location=1040&patt=&bookid=482&of...  ...                                       NaN\n",
              "58  /text/256733?location=1040&patt=&bookid=482&of...  ...                                       NaN\n",
              "59  /text/256734?location=1040&patt=&bookid=482&of...  ...                                       NaN\n",
              "\n",
              "[5 rows x 25 columns]"
            ]
          },
          "metadata": {
            "tags": []
          },
          "execution_count": 32
        }
      ]
    },
    {
      "cell_type": "code",
      "metadata": {
        "id": "4-YOY-YZ7sl0",
        "colab_type": "code",
        "outputId": "84749db1-3d89-42b4-e29a-39db6ac6f7e0",
        "colab": {
          "base_uri": "https://localhost:8080/",
          "height": 119
        }
      },
      "source": [
        "# what are the columns?\n",
        "dfs.columns"
      ],
      "execution_count": 0,
      "outputs": [
        {
          "output_type": "execute_result",
          "data": {
            "text/plain": [
              "Index(['URL', 'Book', 'Text', 'hdr1', 'hdr2', 'tildeinfo', 'note', 'lines',\n",
              "       'metadata', 'data', 'region', 'stoich', 'sinistr', 'subregion', 'date',\n",
              "       'other_info_0', 'other_info_1', 'other_info_2', 'other_info_3',\n",
              "       'other_info_4', 'Unnamed: 0', 'petra', 'X260', '17.12.2019 16:59',\n",
              "       'file:///home/petra/.config/libreoffice/4;'],\n",
              "      dtype='object')"
            ]
          },
          "metadata": {
            "tags": []
          },
          "execution_count": 33
        }
      ]
    },
    {
      "cell_type": "code",
      "metadata": {
        "id": "CkMrzvtJ8krz",
        "colab_type": "code",
        "outputId": "b0b9756d-6ed6-4be0-dae4-4cb98678d824",
        "colab": {
          "base_uri": "https://localhost:8080/",
          "height": 34
        }
      },
      "source": [
        "# ok, some of these columns are probably useless\n",
        "# check what contain\n",
        "dfs[\"file:///home/petra/.config/libreoffice/4;\"].unique().tolist()"
      ],
      "execution_count": 0,
      "outputs": [
        {
          "output_type": "execute_result",
          "data": {
            "text/plain": [
              "[nan]"
            ]
          },
          "metadata": {
            "tags": []
          },
          "execution_count": 34
        }
      ]
    },
    {
      "cell_type": "code",
      "metadata": {
        "id": "9aVKPzcv8y_x",
        "colab_type": "code",
        "outputId": "8bdf3b7d-024f-4c02-8032-38c251c63bfc",
        "colab": {
          "base_uri": "https://localhost:8080/",
          "height": 34
        }
      },
      "source": [
        "dfs[\"X260\"].unique()"
      ],
      "execution_count": 0,
      "outputs": [
        {
          "output_type": "execute_result",
          "data": {
            "text/plain": [
              "array([nan], dtype=object)"
            ]
          },
          "metadata": {
            "tags": []
          },
          "execution_count": 36
        }
      ]
    },
    {
      "cell_type": "code",
      "metadata": {
        "id": "PyQpKNTx84w8",
        "colab_type": "code",
        "outputId": "49703e46-cf8f-4c84-b669-064179d83c6c",
        "colab": {
          "base_uri": "https://localhost:8080/",
          "height": 34
        }
      },
      "source": [
        "dfs[\"17.12.2019 16:59\"].unique()"
      ],
      "execution_count": 0,
      "outputs": [
        {
          "output_type": "execute_result",
          "data": {
            "text/plain": [
              "array([nan], dtype=object)"
            ]
          },
          "metadata": {
            "tags": []
          },
          "execution_count": 38
        }
      ]
    },
    {
      "cell_type": "code",
      "metadata": {
        "id": "x1p70ubT__sZ",
        "colab_type": "code",
        "colab": {}
      },
      "source": [
        "dfs.reset_index(inplace=True)"
      ],
      "execution_count": 0,
      "outputs": []
    },
    {
      "cell_type": "code",
      "metadata": {
        "id": "i9FR7_3A9GkD",
        "colab_type": "code",
        "colab": {}
      },
      "source": [
        "# remove the strange columns\n",
        "dfs.drop(['Unnamed: 0', 'petra', 'X260', '17.12.2019 16:59',\n",
        "       'file:///home/petra/.config/libreoffice/4;', 'level_0', 'index'], axis=1, inplace=True)\n"
      ],
      "execution_count": 0,
      "outputs": []
    },
    {
      "cell_type": "code",
      "metadata": {
        "id": "P7u7dr-t9mav",
        "colab_type": "code",
        "outputId": "fcffe4d6-067a-4c11-8865-77b143e65bf3",
        "colab": {
          "base_uri": "https://localhost:8080/",
          "height": 479
        }
      },
      "source": [
        "dfs.head(5)"
      ],
      "execution_count": 0,
      "outputs": [
        {
          "output_type": "execute_result",
          "data": {
            "text/html": [
              "<div>\n",
              "<style scoped>\n",
              "    .dataframe tbody tr th:only-of-type {\n",
              "        vertical-align: middle;\n",
              "    }\n",
              "\n",
              "    .dataframe tbody tr th {\n",
              "        vertical-align: top;\n",
              "    }\n",
              "\n",
              "    .dataframe thead th {\n",
              "        text-align: right;\n",
              "    }\n",
              "</style>\n",
              "<table border=\"1\" class=\"dataframe\">\n",
              "  <thead>\n",
              "    <tr style=\"text-align: right;\">\n",
              "      <th></th>\n",
              "      <th>URL</th>\n",
              "      <th>Book</th>\n",
              "      <th>Text</th>\n",
              "      <th>hdr1</th>\n",
              "      <th>hdr2</th>\n",
              "      <th>tildeinfo</th>\n",
              "      <th>note</th>\n",
              "      <th>lines</th>\n",
              "      <th>metadata</th>\n",
              "      <th>data</th>\n",
              "      <th>region</th>\n",
              "      <th>stoich</th>\n",
              "      <th>sinistr</th>\n",
              "      <th>subregion</th>\n",
              "      <th>date</th>\n",
              "      <th>other_info_0</th>\n",
              "      <th>other_info_1</th>\n",
              "      <th>other_info_2</th>\n",
              "      <th>other_info_3</th>\n",
              "      <th>other_info_4</th>\n",
              "    </tr>\n",
              "  </thead>\n",
              "  <tbody>\n",
              "    <tr>\n",
              "      <th>0</th>\n",
              "      <td>/text/237766?location=7&amp;patt=&amp;bookid=409&amp;booki...</td>\n",
              "      <td>Clinton, Sacred Officials</td>\n",
              "      <td>10</td>\n",
              "      <td>Regions\\nAttica (IG I-III)</td>\n",
              "      <td>Clinton, Sacred Officials 10</td>\n",
              "      <td>NaN</td>\n",
              "      <td>NaN</td>\n",
              "      <td>46.0</td>\n",
              "      <td>5\\n\\n\\n\\n\\n10\\n\\n\\n\\n\\n15\\n\\n\\n\\n\\n20\\n\\n\\n\\n\\...</td>\n",
              "      <td>[․․․․․12․․․․․] ὀβολ[ὸν ․․5․․]\\n[․․․․․12․․․․․]ο...</td>\n",
              "      <td>Att.</td>\n",
              "      <td>stoich. 23</td>\n",
              "      <td>NaN</td>\n",
              "      <td>Ath.: Eleusinion</td>\n",
              "      <td>ca. 460 BC</td>\n",
              "      <td>ca. 460 BC</td>\n",
              "      <td>IG I² 6,C</td>\n",
              "      <td>I(3).6,C ll. 5-50</td>\n",
              "      <td>NaN</td>\n",
              "      <td>NaN</td>\n",
              "    </tr>\n",
              "    <tr>\n",
              "      <th>1</th>\n",
              "      <td>/text/237767?location=7&amp;patt=&amp;bookid=409&amp;booki...</td>\n",
              "      <td>Clinton, Sacred Officials</td>\n",
              "      <td>18,H5</td>\n",
              "      <td>Regions\\nAttica (IG I-III)</td>\n",
              "      <td>Clinton, Sacred Officials 18,H5</td>\n",
              "      <td>NaN</td>\n",
              "      <td>NaN</td>\n",
              "      <td>35.0</td>\n",
              "      <td>\\n1\\n\\n\\n\\n5\\n\\n\\n\\n\\n10\\n\\n\\n\\n\\n15\\n\\n\\n\\n\\n...</td>\n",
              "      <td>corona\\nθ[εοί].\\nΕ̣ὐθ̣[․․6․․․]θ̣ωνος Ἐλευσίνιο...</td>\n",
              "      <td>Att.</td>\n",
              "      <td>stoich. 25</td>\n",
              "      <td>NaN</td>\n",
              "      <td>Eleusis</td>\n",
              "      <td>ca. mid-4th c. BC</td>\n",
              "      <td>ca. mid-4th c. BC</td>\n",
              "      <td>IG II² 1188</td>\n",
              "      <td>NaN</td>\n",
              "      <td>NaN</td>\n",
              "      <td>NaN</td>\n",
              "    </tr>\n",
              "    <tr>\n",
              "      <th>2</th>\n",
              "      <td>/text/237768?location=7&amp;patt=&amp;bookid=409&amp;booki...</td>\n",
              "      <td>Clinton, Sacred Officials</td>\n",
              "      <td>24,H11</td>\n",
              "      <td>Regions\\nAttica (IG I-III)</td>\n",
              "      <td>Clinton, Sacred Officials 24,H11</td>\n",
              "      <td>NaN</td>\n",
              "      <td>NaN</td>\n",
              "      <td>26.0</td>\n",
              "      <td>1\\n\\n\\n\\n5\\n\\n\\n\\n\\n10\\n\\n\\n\\n\\n15\\n\\n\\n\\n\\n20...</td>\n",
              "      <td>ἐπὶ Λυσιάδου ἄρχοντος Π̣[υανοψ]ιῶνος ἕκτ[ει ἐπ...</td>\n",
              "      <td>Att.</td>\n",
              "      <td>non-stoich.</td>\n",
              "      <td>NaN</td>\n",
              "      <td>Ath.: Agora</td>\n",
              "      <td>NaN</td>\n",
              "      <td>148/7? BC</td>\n",
              "      <td>Hsp.11.1942.293,58 [SEG 19.124]</td>\n",
              "      <td>NaN</td>\n",
              "      <td>NaN</td>\n",
              "      <td>NaN</td>\n",
              "    </tr>\n",
              "    <tr>\n",
              "      <th>3</th>\n",
              "      <td>/text/237769?location=7&amp;patt=&amp;bookid=409&amp;booki...</td>\n",
              "      <td>Clinton, Sacred Officials</td>\n",
              "      <td>30,H19</td>\n",
              "      <td>Regions\\nAttica (IG I-III)</td>\n",
              "      <td>Clinton, Sacred Officials 30,H19</td>\n",
              "      <td>NaN</td>\n",
              "      <td>NaN</td>\n",
              "      <td>5.0</td>\n",
              "      <td>1\\n\\n\\n\\n5</td>\n",
              "      <td>[Τ. Φλ]ά̣β. Πάντα[ινον]\\n[Γαργ]ήττιον vac.\\n[․...</td>\n",
              "      <td>Att.</td>\n",
              "      <td>NaN</td>\n",
              "      <td>NaN</td>\n",
              "      <td>Athens</td>\n",
              "      <td>ca. 100 AD?</td>\n",
              "      <td>ca. 100 AD?</td>\n",
              "      <td>Hsp.35.1966.247,8 +</td>\n",
              "      <td>AD 25.1970.187,6 [SEG 23.114]</td>\n",
              "      <td>SEG 29.180</td>\n",
              "      <td>NaN</td>\n",
              "    </tr>\n",
              "    <tr>\n",
              "      <th>4</th>\n",
              "      <td>/text/237770?location=7&amp;patt=&amp;bookid=409&amp;booki...</td>\n",
              "      <td>Clinton, Sacred Officials</td>\n",
              "      <td>31,H20</td>\n",
              "      <td>Regions\\nAttica (IG I-III)</td>\n",
              "      <td>Clinton, Sacred Officials 31,H20</td>\n",
              "      <td>NaN</td>\n",
              "      <td>NaN</td>\n",
              "      <td>14.0</td>\n",
              "      <td>1\\n\\n\\n\\n5\\n\\n\\n\\n\\n10\\n\\n\\n\\n</td>\n",
              "      <td>[κ]α̣θ’ ὑπομνη[ματι]-\\nσμὸν τῆς ἐξ Ἀ[ρείου]\\nπ...</td>\n",
              "      <td>Att.</td>\n",
              "      <td>NaN</td>\n",
              "      <td>NaN</td>\n",
              "      <td>Eleusis</td>\n",
              "      <td>166/7 AD</td>\n",
              "      <td>166/7 AD</td>\n",
              "      <td>IG II² 3984</td>\n",
              "      <td>NaN</td>\n",
              "      <td>NaN</td>\n",
              "      <td>NaN</td>\n",
              "    </tr>\n",
              "  </tbody>\n",
              "</table>\n",
              "</div>"
            ],
            "text/plain": [
              "                                                 URL  ... other_info_4\n",
              "0  /text/237766?location=7&patt=&bookid=409&booki...  ...          NaN\n",
              "1  /text/237767?location=7&patt=&bookid=409&booki...  ...          NaN\n",
              "2  /text/237768?location=7&patt=&bookid=409&booki...  ...          NaN\n",
              "3  /text/237769?location=7&patt=&bookid=409&booki...  ...          NaN\n",
              "4  /text/237770?location=7&patt=&bookid=409&booki...  ...          NaN\n",
              "\n",
              "[5 rows x 20 columns]"
            ]
          },
          "metadata": {
            "tags": []
          },
          "execution_count": 47
        }
      ]
    },
    {
      "cell_type": "code",
      "metadata": {
        "id": "9vJzH9iZ7Ot7",
        "colab_type": "code",
        "outputId": "4b58e00d-7edf-4675-d96e-18e87533f353",
        "colab": {
          "base_uri": "https://localhost:8080/",
          "height": 34
        }
      },
      "source": [
        "sddk.write_file(\"SDAM_data/PHI/PHI_merged.json\", dfs, conf)"
      ],
      "execution_count": 0,
      "outputs": [
        {
          "output_type": "stream",
          "text": [
            "Your <class 'pandas.core.frame.DataFrame'> object has been succefully written as \"https://sciencedata.dk/files/SDAM_root/SDAM_data/PHI/PHI_merged.json\"\n"
          ],
          "name": "stdout"
        }
      ]
    },
    {
      "cell_type": "code",
      "metadata": {
        "id": "28gRJ0yj_C9L",
        "colab_type": "code",
        "outputId": "04862299-3956-4944-c5e1-3cfc80beb78a",
        "colab": {
          "base_uri": "https://localhost:8080/",
          "height": 34
        }
      },
      "source": [
        "# produce a sample:\n",
        "sddk.write_file(\"SDAM_data/PHI/PHI_sample.json\", dfs[:10000], conf)"
      ],
      "execution_count": 0,
      "outputs": [
        {
          "output_type": "stream",
          "text": [
            "Your <class 'pandas.core.frame.DataFrame'> object has been succefully written as \"https://sciencedata.dk/files/SDAM_root/SDAM_data/PHI/PHI_sample.json\"\n"
          ],
          "name": "stdout"
        }
      ]
    },
    {
      "cell_type": "markdown",
      "metadata": {
        "id": "MyHtb4w6eYu1",
        "colab_type": "text"
      },
      "source": [
        "# Reading the files back and correcting encoding"
      ]
    },
    {
      "cell_type": "code",
      "metadata": {
        "id": "mEjYr3KFdj8H",
        "colab_type": "code",
        "colab": {}
      },
      "source": [
        "PHI = sddk.read_file(\"SDAM_data/PHI/PHI_merged.json\", \"df\", conf)"
      ],
      "execution_count": 0,
      "outputs": []
    },
    {
      "cell_type": "code",
      "metadata": {
        "id": "ADj4c8R8woa7",
        "colab_type": "code",
        "outputId": "4d35d219-4831-4076-8530-7fedf9783131",
        "colab": {
          "base_uri": "https://localhost:8080/",
          "height": 68
        }
      },
      "source": [
        "### there was an update in the sddk package, which now manages encoding on its own\n",
        "sddk.write_file(\"SDAM_data/PHI/PHI_sample_utf8.json\", PHI[:10000], conf)"
      ],
      "execution_count": 0,
      "outputs": [
        {
          "output_type": "stream",
          "text": [
            "A file with the same name (\"PHI_sample_utf8.json\") already exists in this location.\n",
            "Press Enter to overwrite it or choose different path and filename: \n",
            "Your <class 'pandas.core.frame.DataFrame'> object has been succefully written as \"https://sciencedata.dk/files/SDAM_root/SDAM_data/PHI/PHI_sample_utf8.json\"\n"
          ],
          "name": "stdout"
        }
      ]
    },
    {
      "cell_type": "code",
      "metadata": {
        "id": "AITEajh3otNf",
        "colab_type": "code",
        "outputId": "de4a1319-775f-40b8-8c9b-c0494af766e6",
        "colab": {
          "base_uri": "https://localhost:8080/",
          "height": 68
        }
      },
      "source": [
        "### and now do the same with the whole dataset\n",
        "sddk.write_file(\"SDAM_data/PHI/PHI_merged_utf8.json\", PHI, conf)"
      ],
      "execution_count": 0,
      "outputs": [
        {
          "output_type": "stream",
          "text": [
            "A file with the same name (\"PHI_merged_utf8.json\") already exists in this location.\n",
            "Press Enter to overwrite it or choose different path and filename: \n",
            "Your <class 'pandas.core.frame.DataFrame'> object has been succefully written as \"https://sciencedata.dk/files/SDAM_root/SDAM_data/PHI/PHI_merged_utf8.json\"\n"
          ],
          "name": "stdout"
        }
      ]
    },
    {
      "cell_type": "markdown",
      "metadata": {
        "id": "3MTZSSU4akwu",
        "colab_type": "text"
      },
      "source": [
        "# Exporting list of inscriptions\n"
      ]
    },
    {
      "cell_type": "code",
      "metadata": {
        "id": "1yK_pGVFaphf",
        "colab_type": "code",
        "colab": {}
      },
      "source": [
        "PHI = sddk.read_file(\"SDAM_data/PHI/PHI_merged.json\", \"df\", conf)"
      ],
      "execution_count": 0,
      "outputs": []
    },
    {
      "cell_type": "code",
      "metadata": {
        "id": "ipCGK_F1aqmP",
        "colab_type": "code",
        "colab": {
          "base_uri": "https://localhost:8080/",
          "height": 54
        },
        "outputId": "64d2bb63-b286-4eef-fd08-1ce4a9fc75e4"
      },
      "source": [
        "inscriptions_list = [url.partition(\"text/\")[2].partition(\"?\")[0] for url in  PHI[\"URL\"]]\n",
        "print(inscriptions_list[:100])"
      ],
      "execution_count": 5,
      "outputs": [
        {
          "output_type": "stream",
          "text": [
            "['237766', '237767', '237768', '237769', '237770', '237771', '237772', '237773', '237774', '237775', '237776', '237777', '237778', '237779', '237780', '237781', '237782', '237783', '237784', '237785', '237786', '237787', '237788', '237789', '237790', '237791', '237792', '237793', '237794', '237795', '237796', '237797', '237798', '237799', '237800', '237801', '237802', '237803', '237804', '237805', '237806', '237807', '237808', '237809', '237810', '237811', '237812', '190454', '190455', '190457', '190458', '190459', '190460', '190461', '190462', '190463', '190464', '190465', '190466', '190467', '190468', '190469', '190470', '190471', '190472', '190473', '190474', '190475', '190476', '190477', '190478', '190479', '190480', '190481', '190482', '190483', '190484', '190485', '190486', '190487', '190488', '190489', '190490', '190491', '190492', '190493', '190494', '190495', '190496', '190497', '190498', '190499', '190500', '190501', '190502', '186278', '190503', '190504', '190505', '190506']\n"
          ],
          "name": "stdout"
        }
      ]
    },
    {
      "cell_type": "code",
      "metadata": {
        "id": "6_5Tq7KJc7MS",
        "colab_type": "code",
        "colab": {}
      },
      "source": [
        "PHI[\"inscription ID\"] = inscriptions_list"
      ],
      "execution_count": 0,
      "outputs": []
    },
    {
      "cell_type": "code",
      "metadata": {
        "id": "iuXrPObUdHWe",
        "colab_type": "code",
        "colab": {
          "base_uri": "https://localhost:8080/",
          "height": 496
        },
        "outputId": "9defb69d-c607-44b7-f2f4-faa6b1e213b4"
      },
      "source": [
        "PHI.head()"
      ],
      "execution_count": 13,
      "outputs": [
        {
          "output_type": "execute_result",
          "data": {
            "text/html": [
              "<div>\n",
              "<style scoped>\n",
              "    .dataframe tbody tr th:only-of-type {\n",
              "        vertical-align: middle;\n",
              "    }\n",
              "\n",
              "    .dataframe tbody tr th {\n",
              "        vertical-align: top;\n",
              "    }\n",
              "\n",
              "    .dataframe thead th {\n",
              "        text-align: right;\n",
              "    }\n",
              "</style>\n",
              "<table border=\"1\" class=\"dataframe\">\n",
              "  <thead>\n",
              "    <tr style=\"text-align: right;\">\n",
              "      <th></th>\n",
              "      <th>URL</th>\n",
              "      <th>Book</th>\n",
              "      <th>Text</th>\n",
              "      <th>hdr1</th>\n",
              "      <th>hdr2</th>\n",
              "      <th>tildeinfo</th>\n",
              "      <th>note</th>\n",
              "      <th>lines</th>\n",
              "      <th>metadata</th>\n",
              "      <th>data</th>\n",
              "      <th>region</th>\n",
              "      <th>stoich</th>\n",
              "      <th>sinistr</th>\n",
              "      <th>subregion</th>\n",
              "      <th>date</th>\n",
              "      <th>other_info_0</th>\n",
              "      <th>other_info_1</th>\n",
              "      <th>other_info_2</th>\n",
              "      <th>other_info_3</th>\n",
              "      <th>other_info_4</th>\n",
              "      <th>inscription ID</th>\n",
              "    </tr>\n",
              "  </thead>\n",
              "  <tbody>\n",
              "    <tr>\n",
              "      <th>0</th>\n",
              "      <td>/text/237766?location=7&amp;patt=&amp;bookid=409&amp;booki...</td>\n",
              "      <td>Clinton, Sacred Officials</td>\n",
              "      <td>10</td>\n",
              "      <td>Regions\\nAttica (IG I-III)</td>\n",
              "      <td>Clinton, Sacred Officials 10</td>\n",
              "      <td>None</td>\n",
              "      <td>None</td>\n",
              "      <td>46.0</td>\n",
              "      <td>5\\n\\n\\n\\n\\n10\\n\\n\\n\\n\\n15\\n\\n\\n\\n\\n20\\n\\n\\n\\n\\...</td>\n",
              "      <td>[․․․․․12․․․․․] ὀβολ[ὸν ․․5․․]\\n[․․․․․12․․․․․]ο...</td>\n",
              "      <td>Att.</td>\n",
              "      <td>stoich. 23</td>\n",
              "      <td>None</td>\n",
              "      <td>Ath.: Eleusinion</td>\n",
              "      <td>ca. 460 BC</td>\n",
              "      <td>ca. 460 BC</td>\n",
              "      <td>IG I² 6,C</td>\n",
              "      <td>I(3).6,C ll. 5-50</td>\n",
              "      <td>None</td>\n",
              "      <td>None</td>\n",
              "      <td>237766</td>\n",
              "    </tr>\n",
              "    <tr>\n",
              "      <th>1</th>\n",
              "      <td>/text/237767?location=7&amp;patt=&amp;bookid=409&amp;booki...</td>\n",
              "      <td>Clinton, Sacred Officials</td>\n",
              "      <td>18,H5</td>\n",
              "      <td>Regions\\nAttica (IG I-III)</td>\n",
              "      <td>Clinton, Sacred Officials 18,H5</td>\n",
              "      <td>None</td>\n",
              "      <td>None</td>\n",
              "      <td>35.0</td>\n",
              "      <td>\\n1\\n\\n\\n\\n5\\n\\n\\n\\n\\n10\\n\\n\\n\\n\\n15\\n\\n\\n\\n\\n...</td>\n",
              "      <td>corona\\nθ[εοί].\\nΕ̣ὐθ̣[․․6․․․]θ̣ωνος Ἐλευσίνιο...</td>\n",
              "      <td>Att.</td>\n",
              "      <td>stoich. 25</td>\n",
              "      <td>None</td>\n",
              "      <td>Eleusis</td>\n",
              "      <td>ca. mid-4th c. BC</td>\n",
              "      <td>ca. mid-4th c. BC</td>\n",
              "      <td>IG II² 1188</td>\n",
              "      <td>None</td>\n",
              "      <td>None</td>\n",
              "      <td>None</td>\n",
              "      <td>237767</td>\n",
              "    </tr>\n",
              "    <tr>\n",
              "      <th>2</th>\n",
              "      <td>/text/237768?location=7&amp;patt=&amp;bookid=409&amp;booki...</td>\n",
              "      <td>Clinton, Sacred Officials</td>\n",
              "      <td>24,H11</td>\n",
              "      <td>Regions\\nAttica (IG I-III)</td>\n",
              "      <td>Clinton, Sacred Officials 24,H11</td>\n",
              "      <td>None</td>\n",
              "      <td>None</td>\n",
              "      <td>26.0</td>\n",
              "      <td>1\\n\\n\\n\\n5\\n\\n\\n\\n\\n10\\n\\n\\n\\n\\n15\\n\\n\\n\\n\\n20...</td>\n",
              "      <td>ἐπὶ Λυσιάδου ἄρχοντος Π̣[υανοψ]ιῶνος ἕκτ[ει ἐπ...</td>\n",
              "      <td>Att.</td>\n",
              "      <td>non-stoich.</td>\n",
              "      <td>None</td>\n",
              "      <td>Ath.: Agora</td>\n",
              "      <td>None</td>\n",
              "      <td>148/7? BC</td>\n",
              "      <td>Hsp.11.1942.293,58 [SEG 19.124]</td>\n",
              "      <td>None</td>\n",
              "      <td>None</td>\n",
              "      <td>None</td>\n",
              "      <td>237768</td>\n",
              "    </tr>\n",
              "    <tr>\n",
              "      <th>3</th>\n",
              "      <td>/text/237769?location=7&amp;patt=&amp;bookid=409&amp;booki...</td>\n",
              "      <td>Clinton, Sacred Officials</td>\n",
              "      <td>30,H19</td>\n",
              "      <td>Regions\\nAttica (IG I-III)</td>\n",
              "      <td>Clinton, Sacred Officials 30,H19</td>\n",
              "      <td>None</td>\n",
              "      <td>None</td>\n",
              "      <td>5.0</td>\n",
              "      <td>1\\n\\n\\n\\n5</td>\n",
              "      <td>[Τ. Φλ]ά̣β. Πάντα[ινον]\\n[Γαργ]ήττιον vac.\\n[․...</td>\n",
              "      <td>Att.</td>\n",
              "      <td>None</td>\n",
              "      <td>None</td>\n",
              "      <td>Athens</td>\n",
              "      <td>ca. 100 AD?</td>\n",
              "      <td>ca. 100 AD?</td>\n",
              "      <td>Hsp.35.1966.247,8 +</td>\n",
              "      <td>AD 25.1970.187,6 [SEG 23.114]</td>\n",
              "      <td>SEG 29.180</td>\n",
              "      <td>None</td>\n",
              "      <td>237769</td>\n",
              "    </tr>\n",
              "    <tr>\n",
              "      <th>4</th>\n",
              "      <td>/text/237770?location=7&amp;patt=&amp;bookid=409&amp;booki...</td>\n",
              "      <td>Clinton, Sacred Officials</td>\n",
              "      <td>31,H20</td>\n",
              "      <td>Regions\\nAttica (IG I-III)</td>\n",
              "      <td>Clinton, Sacred Officials 31,H20</td>\n",
              "      <td>None</td>\n",
              "      <td>None</td>\n",
              "      <td>14.0</td>\n",
              "      <td>1\\n\\n\\n\\n5\\n\\n\\n\\n\\n10\\n\\n\\n\\n</td>\n",
              "      <td>[κ]α̣θ’ ὑπομνη[ματι]-\\nσμὸν τῆς ἐξ Ἀ[ρείου]\\nπ...</td>\n",
              "      <td>Att.</td>\n",
              "      <td>None</td>\n",
              "      <td>None</td>\n",
              "      <td>Eleusis</td>\n",
              "      <td>166/7 AD</td>\n",
              "      <td>166/7 AD</td>\n",
              "      <td>IG II² 3984</td>\n",
              "      <td>None</td>\n",
              "      <td>None</td>\n",
              "      <td>None</td>\n",
              "      <td>237770</td>\n",
              "    </tr>\n",
              "  </tbody>\n",
              "</table>\n",
              "</div>"
            ],
            "text/plain": [
              "                                                 URL  ... inscription ID\n",
              "0  /text/237766?location=7&patt=&bookid=409&booki...  ...         237766\n",
              "1  /text/237767?location=7&patt=&bookid=409&booki...  ...         237767\n",
              "2  /text/237768?location=7&patt=&bookid=409&booki...  ...         237768\n",
              "3  /text/237769?location=7&patt=&bookid=409&booki...  ...         237769\n",
              "4  /text/237770?location=7&patt=&bookid=409&booki...  ...         237770\n",
              "\n",
              "[5 rows x 21 columns]"
            ]
          },
          "metadata": {
            "tags": []
          },
          "execution_count": 13
        }
      ]
    },
    {
      "cell_type": "code",
      "metadata": {
        "id": "0mLLoAgkbPIc",
        "colab_type": "code",
        "colab": {
          "base_uri": "https://localhost:8080/",
          "height": 34
        },
        "outputId": "e0c40f8c-1ac4-4025-982d-f34fd62d27df"
      },
      "source": [
        "len(inscriptions_list)"
      ],
      "execution_count": 9,
      "outputs": [
        {
          "output_type": "execute_result",
          "data": {
            "text/plain": [
              "214995"
            ]
          },
          "metadata": {
            "tags": []
          },
          "execution_count": 9
        }
      ]
    },
    {
      "cell_type": "code",
      "metadata": {
        "id": "_2BeF44mbmkI",
        "colab_type": "code",
        "colab": {
          "base_uri": "https://localhost:8080/",
          "height": 34
        },
        "outputId": "e466dd99-919c-444e-a66a-e085471a5d91"
      },
      "source": [
        "# number of unique values\n",
        "len(list(set(inscriptions_list)))"
      ],
      "execution_count": 10,
      "outputs": [
        {
          "output_type": "execute_result",
          "data": {
            "text/plain": [
              "214995"
            ]
          },
          "metadata": {
            "tags": []
          },
          "execution_count": 10
        }
      ]
    },
    {
      "cell_type": "code",
      "metadata": {
        "id": "LkYoluf7bsqm",
        "colab_type": "code",
        "colab": {
          "base_uri": "https://localhost:8080/",
          "height": 54
        },
        "outputId": "402d794e-ffd0-4f67-e4c2-e9049b630864"
      },
      "source": [
        "inscriptions_list_sorted = sorted([int(ins) for ins in inscriptions_list])\n",
        "print(inscriptions_list_sorted[:1000])"
      ],
      "execution_count": 22,
      "outputs": [
        {
          "output_type": "stream",
          "text": [
            "[1754, 1755, 1756, 1757, 1758, 1759, 1760, 1761, 1762, 1763, 1764, 1765, 1766, 1767, 1768, 1769, 1770, 1771, 1772, 1773, 1774, 1775, 1776, 1777, 1778, 1779, 1780, 1781, 1782, 1783, 1784, 1785, 1786, 1787, 1788, 1789, 1790, 1791, 1792, 1793, 1794, 1795, 1796, 1797, 1798, 1799, 1800, 1801, 1802, 1803, 1804, 1805, 1806, 1807, 1808, 1809, 1810, 1811, 1812, 1813, 1814, 1815, 1816, 1817, 1818, 1819, 1820, 1821, 1822, 1823, 1824, 1825, 1826, 2219, 2220, 2221, 2222, 2223, 2224, 2225, 2226, 2227, 2228, 2229, 2230, 2231, 2232, 2233, 2234, 2235, 2236, 2237, 2238, 2239, 2240, 2241, 2242, 2243, 2244, 2245, 2246, 2247, 2248, 2249, 2250, 2251, 2252, 2253, 2254, 2255, 2256, 2257, 2258, 2259, 2260, 2261, 2262, 2263, 2264, 2265, 2266, 2267, 2268, 2269, 2270, 2271, 2272, 2273, 2274, 2275, 2276, 2277, 2278, 2279, 2280, 2281, 2282, 2283, 2284, 2285, 2286, 2287, 2288, 2289, 2290, 2291, 2292, 2293, 2294, 2295, 2296, 2297, 2298, 2299, 2300, 2301, 2302, 2303, 2304, 2305, 2306, 2307, 2308, 2309, 2310, 2311, 2312, 2313, 2314, 2315, 2316, 2317, 2318, 2319, 2320, 2321, 2322, 2323, 2324, 2325, 2326, 2327, 2328, 2329, 2330, 2331, 2332, 2333, 2334, 2335, 2336, 2337, 2338, 2339, 2340, 2341, 2342, 2343, 2344, 2345, 2346, 2347, 2348, 2349, 2350, 2351, 2352, 2353, 2354, 2355, 2356, 2357, 2358, 2359, 2360, 2361, 2362, 2363, 2364, 2365, 2366, 2367, 2368, 2369, 2370, 2371, 2372, 2373, 2374, 2375, 2376, 2377, 2378, 2379, 2380, 2381, 2382, 2383, 2384, 2385, 2386, 2387, 2388, 2389, 2390, 2391, 2392, 2393, 2394, 2395, 2396, 2397, 2398, 2399, 2400, 2401, 2402, 2403, 2404, 2405, 2406, 2407, 2408, 2409, 2410, 2411, 2412, 2413, 2414, 2415, 2416, 2417, 2418, 2419, 2420, 2421, 2422, 2423, 2424, 2425, 2426, 2427, 2428, 2429, 2430, 2431, 2432, 2433, 2434, 2435, 2436, 2437, 2438, 2439, 2440, 2441, 2442, 2443, 2444, 2445, 2446, 2447, 2448, 2449, 2450, 2451, 2452, 2453, 2454, 2455, 2456, 2457, 2458, 2459, 2460, 2461, 2462, 2463, 2464, 2465, 2466, 2467, 2468, 2469, 2470, 2471, 2472, 2473, 2474, 2475, 2476, 2477, 2478, 2479, 2480, 2481, 2482, 2483, 2484, 2485, 2486, 2487, 2488, 2489, 2490, 2491, 2492, 2493, 2494, 2495, 2496, 2497, 2498, 2499, 2500, 2501, 2502, 2503, 2504, 2505, 2506, 2507, 2508, 2509, 2510, 2511, 2512, 2513, 2514, 2515, 2516, 2517, 2518, 2519, 2520, 2521, 2522, 2523, 2524, 2525, 2526, 2527, 2528, 2529, 2530, 2531, 2532, 2533, 2534, 2535, 2536, 2537, 2538, 2539, 2540, 2541, 2542, 2543, 2544, 2545, 2546, 2547, 2548, 2549, 2550, 2551, 2552, 2553, 2554, 2555, 2556, 2557, 2558, 2559, 2560, 2561, 2562, 2563, 2564, 2565, 2566, 2567, 2568, 2569, 2570, 2571, 2572, 2573, 2574, 2575, 2576, 2577, 2578, 2579, 2580, 2581, 2582, 2583, 2584, 2585, 2586, 2587, 2588, 2589, 2590, 2591, 2592, 2593, 2594, 2595, 2596, 2597, 2598, 2599, 2600, 2601, 2602, 2603, 2604, 2605, 2606, 2607, 2608, 2609, 2610, 2611, 2612, 2613, 2614, 2615, 2616, 2617, 2618, 2619, 2620, 2621, 2622, 2623, 2624, 2625, 2626, 2627, 2628, 2629, 2630, 2631, 2632, 2633, 2634, 2635, 2636, 2637, 2638, 2639, 2640, 2641, 2642, 2643, 2644, 2645, 2646, 2647, 2648, 2649, 2650, 2651, 2652, 2653, 2654, 2655, 2656, 2657, 2658, 2659, 2660, 2661, 2662, 2663, 2664, 2665, 2666, 2667, 2668, 2669, 2670, 2671, 2672, 2673, 2674, 2675, 2676, 2677, 2678, 2679, 2680, 2681, 2682, 2683, 2684, 2685, 2686, 2687, 2688, 2689, 2690, 2691, 2692, 2693, 2694, 2695, 2696, 2697, 2698, 2699, 2700, 2701, 2702, 2703, 2704, 2705, 2706, 2707, 2708, 2709, 2710, 2711, 2712, 2713, 2714, 2715, 2716, 2717, 2718, 2719, 2720, 2721, 2722, 2723, 2724, 2725, 2726, 2727, 2728, 2729, 2730, 2731, 2732, 2733, 2734, 2735, 2736, 2737, 2738, 2739, 2740, 2741, 2742, 2743, 2744, 2745, 2746, 2747, 2748, 2749, 2750, 2751, 2752, 2753, 2754, 2755, 2756, 2757, 2758, 2759, 2760, 2761, 2762, 2763, 2764, 2765, 2766, 2767, 2768, 2769, 2770, 2771, 2772, 2773, 2774, 2775, 2776, 2777, 2778, 2779, 2780, 2781, 2782, 2783, 2784, 2785, 2786, 2787, 2788, 2789, 2790, 2791, 2792, 2793, 2794, 2795, 2796, 2797, 2798, 2799, 2800, 2801, 2802, 2803, 2804, 2805, 2806, 2807, 2808, 2809, 2810, 2811, 2812, 2813, 2814, 2815, 2816, 2817, 2818, 2819, 2820, 2821, 2822, 2823, 2824, 2825, 2826, 2827, 2828, 2829, 2830, 2831, 2832, 2833, 2834, 2835, 2836, 2837, 2838, 2839, 2840, 2841, 2842, 2843, 2844, 2845, 2846, 2847, 2848, 2849, 2850, 2851, 2852, 2853, 2854, 2855, 2856, 2857, 2858, 2859, 2860, 2861, 2862, 2863, 2864, 2865, 2866, 2867, 2868, 2869, 2870, 2871, 2872, 2873, 2874, 2875, 2876, 2877, 2878, 2879, 2880, 2881, 2882, 2883, 2884, 2885, 2886, 2887, 2888, 2889, 2890, 2891, 2892, 2893, 2894, 2895, 2896, 2897, 2898, 2899, 2900, 2901, 2902, 2903, 2904, 2905, 2906, 2907, 2908, 2909, 2910, 2911, 2912, 2913, 2914, 2915, 2916, 2917, 2918, 2919, 2920, 2921, 2922, 2923, 2924, 2925, 2926, 2927, 2928, 2929, 2930, 2931, 2932, 2933, 2934, 2935, 2936, 2937, 2938, 2939, 2940, 2941, 2942, 2943, 2944, 2945, 2946, 2947, 2948, 2949, 2950, 2951, 2952, 2953, 2954, 2955, 2956, 2957, 2958, 2959, 2960, 2961, 2962, 2963, 2964, 2965, 2966, 2967, 2968, 2969, 2970, 2971, 2972, 2973, 2974, 2975, 2976, 2977, 2978, 2979, 2980, 2981, 2982, 2983, 2984, 2985, 2986, 2987, 2988, 2989, 2990, 2991, 2992, 2993, 2994, 2995, 2996, 2997, 2998, 2999, 3000, 3001, 3002, 3003, 3004, 3005, 3006, 3007, 3008, 3009, 3010, 3011, 3012, 3013, 3014, 3015, 3016, 3017, 3018, 3019, 3020, 3021, 3022, 3023, 3024, 3025, 3026, 3027, 3028, 3029, 3030, 3031, 3032, 3033, 3034, 3035, 3036, 3037, 3038, 3039, 3040, 3041, 3042, 3043, 3044, 3045, 3046, 3047, 3048, 3049, 3050, 3051, 3052, 3053, 3054, 3055, 3056, 3057, 3058, 3059, 3060, 3061, 3062, 3063, 3064, 3065, 3066, 3067, 3068, 3069, 3070, 3071, 3072, 3073, 3074, 3075, 3076, 3077, 3078, 3079, 3080, 3081, 3082, 3083, 3084, 3085, 3086, 3087, 3088, 3089, 3090, 3091, 3092, 3093, 3094, 3095, 3096, 3097, 3098, 3099, 3100, 3101, 3102, 3103, 3104, 3105, 3106, 3107, 3108, 3109, 3110, 3111, 3112, 3113, 3114, 3115, 3116, 3117, 3118, 3119, 3120, 3121, 3122, 3123, 3124, 3125, 3126, 3127, 3128, 3129, 3130, 3131, 3132, 3133, 3134, 3135, 3136, 3137, 3138, 3139, 3140, 3141, 3142, 3143, 3144, 3145]\n"
          ],
          "name": "stdout"
        }
      ]
    },
    {
      "cell_type": "code",
      "metadata": {
        "id": "fFuBxXD1jE24",
        "colab_type": "code",
        "colab": {
          "base_uri": "https://localhost:8080/",
          "height": 34
        },
        "outputId": "c08cd0ca-3f3e-43ce-f93a-8c25b0b64ddb"
      },
      "source": [
        "sddk.write_file(\"SDAM_data/PHI/inscriptions_list_sorted.json\", inscriptions_list_sorted, conf)"
      ],
      "execution_count": 24,
      "outputs": [
        {
          "output_type": "stream",
          "text": [
            "Your <class 'list'> object has been succefully written as \"https://sciencedata.dk/files/SDAM_root/SDAM_data/PHI/inscriptions_list_sorted.json\"\n"
          ],
          "name": "stdout"
        }
      ]
    },
    {
      "cell_type": "markdown",
      "metadata": {
        "id": "yFltETVKhevH",
        "colab_type": "text"
      },
      "source": [
        "# Testing: reading sample digested by R by to Python"
      ]
    },
    {
      "cell_type": "code",
      "metadata": {
        "id": "OUTuwhz3ySIJ",
        "colab_type": "code",
        "outputId": "10425ea4-b321-44ef-bb15-8ada62d60872",
        "colab": {
          "base_uri": "https://localhost:8080/",
          "height": 479
        }
      },
      "source": [
        "# reading the json processed in R back to Python:\n",
        "PHI_sample = sddk.read_file(\"SDAM_data/PHI/PHI_tibble.json\", \"df\", conf)\n",
        "PHI_sample.head(5)"
      ],
      "execution_count": 0,
      "outputs": [
        {
          "output_type": "execute_result",
          "data": {
            "text/html": [
              "<div>\n",
              "<style scoped>\n",
              "    .dataframe tbody tr th:only-of-type {\n",
              "        vertical-align: middle;\n",
              "    }\n",
              "\n",
              "    .dataframe tbody tr th {\n",
              "        vertical-align: top;\n",
              "    }\n",
              "\n",
              "    .dataframe thead th {\n",
              "        text-align: right;\n",
              "    }\n",
              "</style>\n",
              "<table border=\"1\" class=\"dataframe\">\n",
              "  <thead>\n",
              "    <tr style=\"text-align: right;\">\n",
              "      <th></th>\n",
              "      <th>URL</th>\n",
              "      <th>Book</th>\n",
              "      <th>Text</th>\n",
              "      <th>hdr1</th>\n",
              "      <th>hdr2</th>\n",
              "      <th>tildeinfo</th>\n",
              "      <th>note</th>\n",
              "      <th>lines</th>\n",
              "      <th>metadata</th>\n",
              "      <th>data</th>\n",
              "      <th>region</th>\n",
              "      <th>stoich</th>\n",
              "      <th>sinistr</th>\n",
              "      <th>subregion</th>\n",
              "      <th>date</th>\n",
              "      <th>other_info_0</th>\n",
              "      <th>other_info_1</th>\n",
              "      <th>other_info_2</th>\n",
              "      <th>other_info_3</th>\n",
              "      <th>other_info_4</th>\n",
              "    </tr>\n",
              "  </thead>\n",
              "  <tbody>\n",
              "    <tr>\n",
              "      <th>0</th>\n",
              "      <td>[/text/237766?location=7&amp;patt=&amp;bookid=409&amp;book...</td>\n",
              "      <td>[Clinton, Sacred Officials]</td>\n",
              "      <td>[10]</td>\n",
              "      <td>[Regions\\nAttica (IG I-III)]</td>\n",
              "      <td>[Clinton, Sacred Officials 10]</td>\n",
              "      <td>{}</td>\n",
              "      <td>{}</td>\n",
              "      <td>[46]</td>\n",
              "      <td>[5\\n\\n\\n\\n\\n10\\n\\n\\n\\n\\n15\\n\\n\\n\\n\\n20\\n\\n\\n\\n...</td>\n",
              "      <td>[[․․․․․12․․․․․] ὀβολ[ὸν ․․5․․]\\n[․․․․․12․․․․․]...</td>\n",
              "      <td>[Att.]</td>\n",
              "      <td>[stoich. 23]</td>\n",
              "      <td>{}</td>\n",
              "      <td>[Ath.: Eleusinion]</td>\n",
              "      <td>[ca. 460 BC]</td>\n",
              "      <td>[ca. 460 BC]</td>\n",
              "      <td>[IG I² 6,C]</td>\n",
              "      <td>[I(3).6,C ll. 5-50]</td>\n",
              "      <td>{}</td>\n",
              "      <td>{}</td>\n",
              "    </tr>\n",
              "    <tr>\n",
              "      <th>1</th>\n",
              "      <td>[/text/237767?location=7&amp;patt=&amp;bookid=409&amp;book...</td>\n",
              "      <td>[Clinton, Sacred Officials]</td>\n",
              "      <td>[18,H5]</td>\n",
              "      <td>[Regions\\nAttica (IG I-III)]</td>\n",
              "      <td>[Clinton, Sacred Officials 18,H5]</td>\n",
              "      <td>{}</td>\n",
              "      <td>{}</td>\n",
              "      <td>[35]</td>\n",
              "      <td>[\\n1\\n\\n\\n\\n5\\n\\n\\n\\n\\n10\\n\\n\\n\\n\\n15\\n\\n\\n\\n\\...</td>\n",
              "      <td>[corona\\nθ[εοί].\\nΕ̣ὐθ̣[․․6․․․]θ̣ωνος Ἐλευσίνι...</td>\n",
              "      <td>[Att.]</td>\n",
              "      <td>[stoich. 25]</td>\n",
              "      <td>{}</td>\n",
              "      <td>[Eleusis]</td>\n",
              "      <td>[ca. mid-4th c. BC]</td>\n",
              "      <td>[ca. mid-4th c. BC]</td>\n",
              "      <td>[IG II² 1188]</td>\n",
              "      <td>{}</td>\n",
              "      <td>{}</td>\n",
              "      <td>{}</td>\n",
              "    </tr>\n",
              "    <tr>\n",
              "      <th>2</th>\n",
              "      <td>[/text/237768?location=7&amp;patt=&amp;bookid=409&amp;book...</td>\n",
              "      <td>[Clinton, Sacred Officials]</td>\n",
              "      <td>[24,H11]</td>\n",
              "      <td>[Regions\\nAttica (IG I-III)]</td>\n",
              "      <td>[Clinton, Sacred Officials 24,H11]</td>\n",
              "      <td>{}</td>\n",
              "      <td>{}</td>\n",
              "      <td>[26]</td>\n",
              "      <td>[1\\n\\n\\n\\n5\\n\\n\\n\\n\\n10\\n\\n\\n\\n\\n15\\n\\n\\n\\n\\n2...</td>\n",
              "      <td>[ἐπὶ Λυσιάδου ἄρχοντος Π̣[υανοψ]ιῶνος ἕκτ[ει ἐ...</td>\n",
              "      <td>[Att.]</td>\n",
              "      <td>[non-stoich.]</td>\n",
              "      <td>{}</td>\n",
              "      <td>[Ath.: Agora]</td>\n",
              "      <td>{}</td>\n",
              "      <td>[148/7? BC]</td>\n",
              "      <td>[Hsp.11.1942.293,58 [SEG 19.124]]</td>\n",
              "      <td>{}</td>\n",
              "      <td>{}</td>\n",
              "      <td>{}</td>\n",
              "    </tr>\n",
              "    <tr>\n",
              "      <th>3</th>\n",
              "      <td>[/text/237769?location=7&amp;patt=&amp;bookid=409&amp;book...</td>\n",
              "      <td>[Clinton, Sacred Officials]</td>\n",
              "      <td>[30,H19]</td>\n",
              "      <td>[Regions\\nAttica (IG I-III)]</td>\n",
              "      <td>[Clinton, Sacred Officials 30,H19]</td>\n",
              "      <td>{}</td>\n",
              "      <td>{}</td>\n",
              "      <td>[5]</td>\n",
              "      <td>[1\\n\\n\\n\\n5]</td>\n",
              "      <td>[[Τ. Φλ]ά̣β. Πάντα[ινον]\\n[Γαργ]ήττιον vac.\\n[...</td>\n",
              "      <td>[Att.]</td>\n",
              "      <td>{}</td>\n",
              "      <td>{}</td>\n",
              "      <td>[Athens]</td>\n",
              "      <td>[ca. 100 AD?]</td>\n",
              "      <td>[ca. 100 AD?]</td>\n",
              "      <td>[Hsp.35.1966.247,8 +]</td>\n",
              "      <td>[AD 25.1970.187,6 [SEG 23.114]]</td>\n",
              "      <td>[SEG 29.180]</td>\n",
              "      <td>{}</td>\n",
              "    </tr>\n",
              "    <tr>\n",
              "      <th>4</th>\n",
              "      <td>[/text/237770?location=7&amp;patt=&amp;bookid=409&amp;book...</td>\n",
              "      <td>[Clinton, Sacred Officials]</td>\n",
              "      <td>[31,H20]</td>\n",
              "      <td>[Regions\\nAttica (IG I-III)]</td>\n",
              "      <td>[Clinton, Sacred Officials 31,H20]</td>\n",
              "      <td>{}</td>\n",
              "      <td>{}</td>\n",
              "      <td>[14]</td>\n",
              "      <td>[1\\n\\n\\n\\n5\\n\\n\\n\\n\\n10\\n\\n\\n\\n]</td>\n",
              "      <td>[[κ]α̣θ’ ὑπομνη[ματι]-\\nσμὸν τῆς ἐξ Ἀ[ρείου]\\n...</td>\n",
              "      <td>[Att.]</td>\n",
              "      <td>{}</td>\n",
              "      <td>{}</td>\n",
              "      <td>[Eleusis]</td>\n",
              "      <td>[166/7 AD]</td>\n",
              "      <td>[166/7 AD]</td>\n",
              "      <td>[IG II² 3984]</td>\n",
              "      <td>{}</td>\n",
              "      <td>{}</td>\n",
              "      <td>{}</td>\n",
              "    </tr>\n",
              "  </tbody>\n",
              "</table>\n",
              "</div>"
            ],
            "text/plain": [
              "                                                 URL  ... other_info_4\n",
              "0  [/text/237766?location=7&patt=&bookid=409&book...  ...           {}\n",
              "1  [/text/237767?location=7&patt=&bookid=409&book...  ...           {}\n",
              "2  [/text/237768?location=7&patt=&bookid=409&book...  ...           {}\n",
              "3  [/text/237769?location=7&patt=&bookid=409&book...  ...           {}\n",
              "4  [/text/237770?location=7&patt=&bookid=409&book...  ...           {}\n",
              "\n",
              "[5 rows x 20 columns]"
            ]
          },
          "metadata": {
            "tags": []
          },
          "execution_count": 36
        }
      ]
    },
    {
      "cell_type": "code",
      "metadata": {
        "id": "VtPlnTK_drPm",
        "colab_type": "code",
        "colab": {}
      },
      "source": [
        ""
      ],
      "execution_count": 0,
      "outputs": []
    }
  ]
}