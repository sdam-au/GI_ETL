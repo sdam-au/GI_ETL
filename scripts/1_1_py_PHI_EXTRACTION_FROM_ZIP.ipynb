{
  "nbformat": 4,
  "nbformat_minor": 0,
  "metadata": {
    "colab": {
      "name": "1_1_py_PHI_EXTRACTION_FROM_ZIP.ipynb",
      "provenance": [],
      "authorship_tag": "ABX9TyMUSbZTqm6mt1cyyCSysbTx",
      "include_colab_link": true
    },
    "kernelspec": {
      "name": "python3",
      "display_name": "Python 3"
    }
  },
  "cells": [
    {
      "cell_type": "markdown",
      "metadata": {
        "id": "view-in-github",
        "colab_type": "text"
      },
      "source": [
        "<a href=\"https://colab.research.google.com/github/sdam-au/PHI_ETL/blob/master/scripts/1_1_py_PHI_EXTRACTION_FROM_ZIP.ipynb\" target=\"_parent\"><img src=\"https://colab.research.google.com/assets/colab-badge.svg\" alt=\"Open In Colab\"/></a>"
      ]
    },
    {
      "cell_type": "code",
      "metadata": {
        "id": "YnxNQl_rN1WU",
        "colab_type": "code",
        "outputId": "b4efbf84-fdd5-4293-a0fc-b8089b600207",
        "colab": {
          "base_uri": "https://localhost:8080/",
          "height": 701
        }
      },
      "source": [
        "!pip install sddk --ignore-installed\n",
        "import sddk"
      ],
      "execution_count": 10,
      "outputs": [
        {
          "output_type": "stream",
          "text": [
            "Collecting sddk\n",
            "  Using cached https://files.pythonhosted.org/packages/e1/66/d630106ba925f374c477c489c0b955e64d253e3cf9614cf36185b3fb1bf5/sddk-2.4-py3-none-any.whl\n",
            "Collecting requests\n",
            "  Using cached https://files.pythonhosted.org/packages/1a/70/1935c770cb3be6e3a8b78ced23d7e0f3b187f5cbfab4749523ed65d7c9b1/requests-2.23.0-py2.py3-none-any.whl\n",
            "Collecting matplotlib\n",
            "  Using cached https://files.pythonhosted.org/packages/93/4b/52da6b1523d5139d04e02d9e26ceda6146b48f2a4e5d2abfdf1c7bac8c40/matplotlib-3.2.1-cp36-cp36m-manylinux1_x86_64.whl\n",
            "Collecting pyarrow>=0.17.0\n",
            "  Using cached https://files.pythonhosted.org/packages/ba/3f/6cac1714fff444664603f92cb9fbe91c7ae25375880158b9e9691c4584c8/pyarrow-0.17.1-cp36-cp36m-manylinux2014_x86_64.whl\n",
            "Collecting idna<3,>=2.5\n",
            "  Using cached https://files.pythonhosted.org/packages/89/e3/afebe61c546d18fb1709a61bee788254b40e736cff7271c7de5de2dc4128/idna-2.9-py2.py3-none-any.whl\n",
            "Collecting certifi>=2017.4.17\n",
            "  Using cached https://files.pythonhosted.org/packages/57/2b/26e37a4b034800c960a00c4e1b3d9ca5d7014e983e6e729e33ea2f36426c/certifi-2020.4.5.1-py2.py3-none-any.whl\n",
            "Collecting chardet<4,>=3.0.2\n",
            "  Using cached https://files.pythonhosted.org/packages/bc/a9/01ffebfb562e4274b6487b4bb1ddec7ca55ec7510b22e4c51f14098443b8/chardet-3.0.4-py2.py3-none-any.whl\n",
            "Collecting urllib3!=1.25.0,!=1.25.1,<1.26,>=1.21.1\n",
            "  Using cached https://files.pythonhosted.org/packages/e1/e5/df302e8017440f111c11cc41a6b432838672f5a70aa29227bf58149dc72f/urllib3-1.25.9-py2.py3-none-any.whl\n",
            "Collecting numpy>=1.11\n",
            "  Using cached https://files.pythonhosted.org/packages/03/27/e35e7c6e6a52fab9fcc64fc2b20c6b516eba930bb02b10ace3b38200d3ab/numpy-1.18.4-cp36-cp36m-manylinux1_x86_64.whl\n",
            "Collecting kiwisolver>=1.0.1\n",
            "  Using cached https://files.pythonhosted.org/packages/ae/23/147de658aabbf968324551ea22c0c13a00284c4ef49a77002e91f79657b7/kiwisolver-1.2.0-cp36-cp36m-manylinux1_x86_64.whl\n",
            "Collecting python-dateutil>=2.1\n",
            "  Using cached https://files.pythonhosted.org/packages/d4/70/d60450c3dd48ef87586924207ae8907090de0b306af2bce5d134d78615cb/python_dateutil-2.8.1-py2.py3-none-any.whl\n",
            "Collecting pyparsing!=2.0.4,!=2.1.2,!=2.1.6,>=2.0.1\n",
            "  Using cached https://files.pythonhosted.org/packages/8a/bb/488841f56197b13700afd5658fc279a2025a39e22449b7cf29864669b15d/pyparsing-2.4.7-py2.py3-none-any.whl\n",
            "Collecting cycler>=0.10\n",
            "  Using cached https://files.pythonhosted.org/packages/f7/d2/e07d3ebb2bd7af696440ce7e754c59dd546ffe1bbe732c8ab68b9c834e61/cycler-0.10.0-py2.py3-none-any.whl\n",
            "Collecting six>=1.5\n",
            "  Using cached https://files.pythonhosted.org/packages/65/eb/1f97cb97bfc2390a276969c6fae16075da282f5058082d4cb10c6c5c1dba/six-1.14.0-py2.py3-none-any.whl\n",
            "\u001b[31mERROR: kaggle 1.5.6 has requirement urllib3<1.25,>=1.21.1, but you'll have urllib3 1.25.9 which is incompatible.\u001b[0m\n",
            "\u001b[31mERROR: google-colab 1.0.0 has requirement six~=1.12.0, but you'll have six 1.14.0 which is incompatible.\u001b[0m\n",
            "\u001b[31mERROR: datascience 0.10.6 has requirement folium==0.2.1, but you'll have folium 0.8.3 which is incompatible.\u001b[0m\n",
            "\u001b[31mERROR: albumentations 0.1.12 has requirement imgaug<0.2.7,>=0.2.5, but you'll have imgaug 0.2.9 which is incompatible.\u001b[0m\n",
            "Installing collected packages: idna, certifi, chardet, urllib3, requests, numpy, kiwisolver, six, python-dateutil, pyparsing, cycler, matplotlib, pyarrow, sddk\n",
            "Successfully installed certifi-2020.4.5.1 chardet-3.0.4 cycler-0.10.0 idna-2.9 kiwisolver-1.2.0 matplotlib-3.2.1 numpy-1.18.4 pyarrow-0.17.1 pyparsing-2.4.7 python-dateutil-2.8.1 requests-2.23.0 sddk-2.4 six-1.14.0 urllib3-1.25.9\n"
          ],
          "name": "stdout"
        },
        {
          "output_type": "display_data",
          "data": {
            "application/vnd.colab-display-data+json": {
              "pip_warning": {
                "packages": [
                  "certifi",
                  "chardet",
                  "cycler",
                  "dateutil",
                  "idna",
                  "kiwisolver",
                  "matplotlib",
                  "mpl_toolkits",
                  "numpy",
                  "pyarrow",
                  "pyparsing",
                  "requests",
                  "sddk",
                  "six",
                  "urllib3"
                ]
              }
            }
          },
          "metadata": {
            "tags": []
          }
        }
      ]
    },
    {
      "cell_type": "code",
      "metadata": {
        "id": "JcNeUMCflzF8",
        "colab_type": "code",
        "colab": {}
      },
      "source": [
        "import numpy as np\n",
        "import math\n",
        "import pandas as pd\n",
        "\n",
        "import sys\n",
        "### we do a lot of requests during the scrapping. Some of them with requests package, some of them with urllib\n",
        "import requests\n",
        "from urllib.request import urlopen \n",
        "from urllib.parse import quote  \n",
        "from bs4 import BeautifulSoup\n",
        "import xml.etree.cElementTree as ET\n",
        "\n",
        "import zipfile\n",
        "import io\n",
        "\n",
        "# to avoid errors, we sometime use time.sleep(N) before retrying a request\n",
        "import time\n",
        "# the input data have typically a json structure\n",
        "import json\n",
        "import getpass\n",
        "\n",
        "import datetime as dt\n",
        "# for simple paralel computing:\n",
        "from concurrent.futures import ThreadPoolExecutor"
      ],
      "execution_count": 0,
      "outputs": []
    },
    {
      "cell_type": "code",
      "metadata": {
        "id": "MhnThoX5kUKs",
        "colab_type": "code",
        "outputId": "c581c53c-9e95-47e4-e861-e37170ecca0c",
        "colab": {
          "base_uri": "https://localhost:8080/",
          "height": 85
        }
      },
      "source": [
        "conf = sddk.configure(\"SDAM_root\", \"648597@au.dk\")"
      ],
      "execution_count": 12,
      "outputs": [
        {
          "output_type": "stream",
          "text": [
            "sciencedata.dk username (format '123456@au.dk'): 648597@au.dk\n",
            "sciencedata.dk password: ··········\n",
            "connection with shared folder established with you as its owner\n",
            "endpoint variable has been configured to: https://sciencedata.dk/files/SDAM_root/\n"
          ],
          "name": "stdout"
        }
      ]
    },
    {
      "cell_type": "markdown",
      "metadata": {
        "id": "q3mnCgRBxXWL",
        "colab_type": "text"
      },
      "source": [
        "# Extract the data from a zipfile on sciencedata.dk\n"
      ]
    },
    {
      "cell_type": "code",
      "metadata": {
        "id": "pdedljlMl4Ps",
        "colab_type": "code",
        "colab": {}
      },
      "source": [
        "### to get the zip file into a response\n",
        "response = conf[0].get(conf[1] + \"SDAM_data/PHI/PHI_Petra.zip\")\n"
      ],
      "execution_count": 0,
      "outputs": []
    },
    {
      "cell_type": "code",
      "metadata": {
        "id": "IlO0dmDommBM",
        "colab_type": "code",
        "outputId": "a894cd0f-e747-4f87-8b24-ddb04f8d2040",
        "colab": {
          "base_uri": "https://localhost:8080/",
          "height": 34
        }
      },
      "source": [
        "### check that the response is functional\n",
        "response"
      ],
      "execution_count": 0,
      "outputs": [
        {
          "output_type": "execute_result",
          "data": {
            "text/plain": [
              "<Response [200]>"
            ]
          },
          "metadata": {
            "tags": []
          },
          "execution_count": 5
        }
      ]
    },
    {
      "cell_type": "code",
      "metadata": {
        "id": "sgx9V__kmaEd",
        "colab_type": "code",
        "outputId": "1fd9d4e6-04fd-4e7c-eafe-7c134fc82f29",
        "colab": {
          "base_uri": "https://localhost:8080/",
          "height": 51
        }
      },
      "source": [
        "%%time\n",
        "zipped = zipfile.ZipFile(io.BytesIO(response.content))"
      ],
      "execution_count": 0,
      "outputs": [
        {
          "output_type": "stream",
          "text": [
            "CPU times: user 29.1 ms, sys: 3.7 ms, total: 32.8 ms\n",
            "Wall time: 37.7 ms\n"
          ],
          "name": "stdout"
        }
      ]
    },
    {
      "cell_type": "code",
      "metadata": {
        "id": "WfD_e7GRmj8Z",
        "colab_type": "code",
        "outputId": "c07d8b05-96f4-4446-a92c-c6564aeb5278",
        "colab": {
          "base_uri": "https://localhost:8080/",
          "height": 34
        }
      },
      "source": [
        "# how many files we have?\n",
        "namelist = zipped.namelist()[1:] ### index \"0\" is for main directory\n",
        "len(namelist)"
      ],
      "execution_count": 0,
      "outputs": [
        {
          "output_type": "execute_result",
          "data": {
            "text/plain": [
              "3363"
            ]
          },
          "metadata": {
            "tags": []
          },
          "execution_count": 7
        }
      ]
    },
    {
      "cell_type": "code",
      "metadata": {
        "id": "-FRHto4amtW1",
        "colab_type": "code",
        "outputId": "6499c91d-3b6e-49f1-e6b2-cc73c0ffca6e",
        "colab": {
          "base_uri": "https://localhost:8080/",
          "height": 34
        }
      },
      "source": [
        "namelist = [name for name in namelist if not \"._\" in name]\n",
        "namelist = [name for name in namelist if  \".csv\" in name]\n",
        "namelist = [name for name in namelist if  \"output_parsed\" in name]\n",
        "\n",
        "len(namelist)"
      ],
      "execution_count": 0,
      "outputs": [
        {
          "output_type": "execute_result",
          "data": {
            "text/plain": [
              "743"
            ]
          },
          "metadata": {
            "tags": []
          },
          "execution_count": 12
        }
      ]
    },
    {
      "cell_type": "code",
      "metadata": {
        "id": "yktJWyXcm5mW",
        "colab_type": "code",
        "outputId": "8ae546c9-560d-4a31-9932-16c15bcc1a54",
        "colab": {
          "base_uri": "https://localhost:8080/",
          "height": 1000
        }
      },
      "source": [
        "namelist[:100]"
      ],
      "execution_count": 0,
      "outputs": [
        {
          "output_type": "execute_result",
          "data": {
            "text/plain": [
              "['PHI/output_parsed/Clinton--Sacred-Officials.csv',\n",
              " 'PHI/output_parsed/Clara-Rhodos.csv',\n",
              " 'PHI/output_parsed/ClRev.csv',\n",
              " 'PHI/output_parsed/Christol-Drew-Bear--Castellum-rom..csv',\n",
              " 'PHI/output_parsed/Chiron.csv',\n",
              " 'PHI/output_parsed/Chios.csv',\n",
              " 'PHI/output_parsed/Chaniotis--Vertr-ge.csv',\n",
              " 'PHI/output_parsed/Cesnola--Cyprus.csv',\n",
              " 'PHI/output_parsed/CahArch.csv',\n",
              " 'PHI/output_parsed/Cabanes--L--pire.csv',\n",
              " 'PHI/output_parsed/CSCA.csv',\n",
              " 'PHI/output_parsed/CRAI.csv',\n",
              " 'PHI/output_parsed/CPh.csv',\n",
              " 'PHI/output_parsed/CIRB.csv',\n",
              " 'PHI/output_parsed/CIL-III.csv',\n",
              " 'PHI/output_parsed/CIJud.-II.csv',\n",
              " 'PHI/output_parsed/CIG.csv',\n",
              " 'PHI/output_parsed/CID.csv',\n",
              " 'PHI/output_parsed/CEG.csv',\n",
              " 'PHI/output_parsed/CCET.csv',\n",
              " 'PHI/output_parsed/ByzantologSynedr-9-1953.csv',\n",
              " 'PHI/output_parsed/Byzantion.csv',\n",
              " 'PHI/output_parsed/Buresch--Aus-Lydien.csv',\n",
              " 'PHI/output_parsed/Budde--Ant.Mosaiken-I.csv',\n",
              " 'PHI/output_parsed/Brun-mid--Inschriften.csv',\n",
              " 'PHI/output_parsed/Brixhe--Dial.gr.Pamph..csv',\n",
              " 'PHI/output_parsed/Breccia--Alexandria-Mus..csv',\n",
              " 'PHI/output_parsed/Bosnakis--Epigraphes.csv',\n",
              " 'PHI/output_parsed/Bosch--Quellen-Ankara.csv',\n",
              " 'PHI/output_parsed/BollArte.csv',\n",
              " 'PHI/output_parsed/Boesch--Theoros.csv',\n",
              " 'PHI/output_parsed/Blaundos.csv',\n",
              " 'PHI/output_parsed/Bile--Dialecte.csv',\n",
              " 'PHI/output_parsed/Bettarini--Defixiones.csv',\n",
              " 'PHI/output_parsed/Berytus.csv',\n",
              " 'PHI/output_parsed/Bernand--Mus.-du-Louvre.csv',\n",
              " 'PHI/output_parsed/Bernand--Inscr.-M-tr..csv',\n",
              " 'PHI/output_parsed/Benndorf-Niemann--Reisen-I.csv',\n",
              " 'PHI/output_parsed/Benndorf-Niemann--Heroon.csv',\n",
              " 'PHI/output_parsed/Belleten.csv',\n",
              " 'PHI/output_parsed/Bees--Inschriftenaufzeichnung.csv',\n",
              " 'PHI/output_parsed/Bean-Mitford--Journeys-1964-68.csv',\n",
              " 'PHI/output_parsed/Bean-Mitford--Journeys-1962-63.csv',\n",
              " 'PHI/output_parsed/Bean--Journeys-1965-1967.csv',\n",
              " 'PHI/output_parsed/BdI.csv',\n",
              " 'PHI/output_parsed/BasZeit.csv',\n",
              " 'PHI/output_parsed/Bargylia.csv',\n",
              " 'PHI/output_parsed/Bandy.csv',\n",
              " 'PHI/output_parsed/BSAF.csv',\n",
              " 'PHI/output_parsed/BSAAlex.csv',\n",
              " 'PHI/output_parsed/BPhW.csv',\n",
              " 'PHI/output_parsed/BP.csv',\n",
              " 'PHI/output_parsed/BNGJ.csv',\n",
              " 'PHI/output_parsed/BMusImp.csv',\n",
              " 'PHI/output_parsed/BMBeyrouth.csv',\n",
              " 'PHI/output_parsed/BE.csv',\n",
              " 'PHI/output_parsed/BCH.csv',\n",
              " 'PHI/output_parsed/BCH-Suppl..csv',\n",
              " 'PHI/output_parsed/BASP.csv',\n",
              " 'PHI/output_parsed/BABesch.csv',\n",
              " 'PHI/output_parsed/Axenidis--Pelasgis-Larisa.csv',\n",
              " 'PHI/output_parsed/AvP-VII-2.csv',\n",
              " 'PHI/output_parsed/AvP-II.csv',\n",
              " 'PHI/output_parsed/Audollent--Defix.-Tab..csv',\n",
              " 'PHI/output_parsed/Attouda.csv',\n",
              " 'PHI/output_parsed/Ath-naion.csv',\n",
              " 'PHI/output_parsed/Ath-na.csv',\n",
              " 'PHI/output_parsed/Ath-na-ka.csv',\n",
              " 'PHI/output_parsed/Asdracha--Inscr.-Byz..csv',\n",
              " 'PHI/output_parsed/Archaeology.csv',\n",
              " 'PHI/output_parsed/ArchPap.csv',\n",
              " 'PHI/output_parsed/ArchIug.csv',\n",
              " 'PHI/output_parsed/ArchEph.csv',\n",
              " 'PHI/output_parsed/ArchCl.csv',\n",
              " 'PHI/output_parsed/ArchByzMnHell.csv',\n",
              " 'PHI/output_parsed/Arch.-Epigr.-Thessalonikes.csv',\n",
              " 'PHI/output_parsed/Apollonia-Salbake.csv',\n",
              " 'PHI/output_parsed/Aphrodisias.csv',\n",
              " 'PHI/output_parsed/AnzWien.csv',\n",
              " 'PHI/output_parsed/Antonin--Poiezdka.csv',\n",
              " 'PHI/output_parsed/Antich.-Ist.-i-Kult..csv',\n",
              " 'PHI/output_parsed/Anth.Gr..csv',\n",
              " 'PHI/output_parsed/AntTard.csv',\n",
              " 'PHI/output_parsed/AntKunst.csv',\n",
              " 'PHI/output_parsed/AntCl.csv',\n",
              " 'PHI/output_parsed/Ann-p.csv',\n",
              " 'PHI/output_parsed/Andronikos--Vergina.csv',\n",
              " 'PHI/output_parsed/Ancient-Cos.csv',\n",
              " 'PHI/output_parsed/Anc.-Macedonia.csv',\n",
              " 'PHI/output_parsed/AnalBoll.csv',\n",
              " 'PHI/output_parsed/AnIsl.csv',\n",
              " 'PHI/output_parsed/Amyzon.csv',\n",
              " 'PHI/output_parsed/Amnisos.csv',\n",
              " 'PHI/output_parsed/Alt.v.Hierapolis.csv',\n",
              " 'PHI/output_parsed/Alt.-von-Aegae.csv',\n",
              " 'PHI/output_parsed/Aleshire--Ath.-Asklepieion.csv',\n",
              " 'PHI/output_parsed/Albania.csv',\n",
              " 'PHI/output_parsed/Albania-Antica-3.csv',\n",
              " 'PHI/output_parsed/Albania-Antica-2.csv',\n",
              " 'PHI/output_parsed/Albania-Antica-1.csv']"
            ]
          },
          "metadata": {
            "tags": []
          },
          "execution_count": 11
        }
      ]
    },
    {
      "cell_type": "markdown",
      "metadata": {
        "id": "qTgreFsb3agZ",
        "colab_type": "text"
      },
      "source": [
        "# Test with one file"
      ]
    },
    {
      "cell_type": "code",
      "metadata": {
        "id": "07l6FQCR1Fiu",
        "colab_type": "code",
        "colab": {}
      },
      "source": [
        "test = pd.read_csv(io.BytesIO(zipped.read(\"PHI/output_parsed/CEG.csv\")))"
      ],
      "execution_count": 0,
      "outputs": []
    },
    {
      "cell_type": "code",
      "metadata": {
        "id": "3THVUyKW3WKX",
        "colab_type": "code",
        "outputId": "e483998a-5d15-4519-b741-d8ed0b79bd6e",
        "colab": {
          "base_uri": "https://localhost:8080/",
          "height": 632
        }
      },
      "source": [
        "test.head()"
      ],
      "execution_count": 0,
      "outputs": [
        {
          "output_type": "execute_result",
          "data": {
            "text/html": [
              "<div>\n",
              "<style scoped>\n",
              "    .dataframe tbody tr th:only-of-type {\n",
              "        vertical-align: middle;\n",
              "    }\n",
              "\n",
              "    .dataframe tbody tr th {\n",
              "        vertical-align: top;\n",
              "    }\n",
              "\n",
              "    .dataframe thead th {\n",
              "        text-align: right;\n",
              "    }\n",
              "</style>\n",
              "<table border=\"1\" class=\"dataframe\">\n",
              "  <thead>\n",
              "    <tr style=\"text-align: right;\">\n",
              "      <th></th>\n",
              "      <th>URL</th>\n",
              "      <th>Book</th>\n",
              "      <th>Text</th>\n",
              "      <th>hdr1</th>\n",
              "      <th>hdr2</th>\n",
              "      <th>tildeinfo</th>\n",
              "      <th>note</th>\n",
              "      <th>lines</th>\n",
              "      <th>metadata</th>\n",
              "      <th>data</th>\n",
              "      <th>region</th>\n",
              "      <th>stoich</th>\n",
              "      <th>sinistr</th>\n",
              "      <th>subregion</th>\n",
              "      <th>date</th>\n",
              "      <th>other_info_0</th>\n",
              "      <th>other_info_1</th>\n",
              "      <th>other_info_2</th>\n",
              "      <th>other_info_3</th>\n",
              "      <th>other_info_4</th>\n",
              "    </tr>\n",
              "  </thead>\n",
              "  <tbody>\n",
              "    <tr>\n",
              "      <th>0</th>\n",
              "      <td>/text/328151?location=1&amp;patt=&amp;bookid=303&amp;offse...</td>\n",
              "      <td>CEG</td>\n",
              "      <td>I 109</td>\n",
              "      <td>Regions</td>\n",
              "      <td>CEG I 109</td>\n",
              "      <td>NaN</td>\n",
              "      <td>Funerary epigram for Dermys and Kitylos.  Lime...</td>\n",
              "      <td>5</td>\n",
              "      <td>i, left figure.1\\n\\nii, right figure.2\\n\\niii,...</td>\n",
              "      <td>Δέρμυς.\\n\\nΚιτύλος.\\n\\nἈμφάλκες ἔστασ’ ἐπὶ Κιτ...</td>\n",
              "      <td>Boiotia</td>\n",
              "      <td>NaN</td>\n",
              "      <td>NaN</td>\n",
              "      <td>Tanagra</td>\n",
              "      <td>ca. 600 BC</td>\n",
              "      <td>ca. 600 BC</td>\n",
              "      <td>IG VII 579</td>\n",
              "      <td>GVI 137</td>\n",
              "      <td>LSAG² 92; 94, 8</td>\n",
              "      <td>NaN</td>\n",
              "    </tr>\n",
              "    <tr>\n",
              "      <th>1</th>\n",
              "      <td>/text/328152?location=1&amp;patt=&amp;bookid=303&amp;offse...</td>\n",
              "      <td>CEG</td>\n",
              "      <td>I 110</td>\n",
              "      <td>Regions</td>\n",
              "      <td>CEG I 110</td>\n",
              "      <td>NaN</td>\n",
              "      <td>Funerary epigram for Kallias, son of Aigisthos...</td>\n",
              "      <td>4</td>\n",
              "      <td>1\\n\\n\\n</td>\n",
              "      <td>Καλλία\\nΑἰγίθοιο {²⁶Αἰγίσθοιο}²⁶·\\nτὺ δ’ εὖ πρ...</td>\n",
              "      <td>Boiotia</td>\n",
              "      <td>NaN</td>\n",
              "      <td>NaN</td>\n",
              "      <td>Haliartos (Kastri Maziou)</td>\n",
              "      <td>ca. 500 BC?</td>\n",
              "      <td>ca. 500 BC?</td>\n",
              "      <td>IG VII 2852</td>\n",
              "      <td>GVI 62</td>\n",
              "      <td>NaN</td>\n",
              "      <td>NaN</td>\n",
              "    </tr>\n",
              "    <tr>\n",
              "      <th>2</th>\n",
              "      <td>/text/328153?location=1&amp;patt=&amp;bookid=303&amp;offse...</td>\n",
              "      <td>CEG</td>\n",
              "      <td>I 111</td>\n",
              "      <td>Regions</td>\n",
              "      <td>CEG I 111</td>\n",
              "      <td>NaN</td>\n",
              "      <td>Funerary epigram for Gathon.  Limestone tablet...</td>\n",
              "      <td>1</td>\n",
              "      <td>1</td>\n",
              "      <td>[π]αῖδες̣ ἐ̣[ποίεσ]α̣ν μ̣νᾶ̣μ̣’ ἐνθάδ̣[ε] πατρ...</td>\n",
              "      <td>Boiotia</td>\n",
              "      <td>NaN</td>\n",
              "      <td>NaN</td>\n",
              "      <td>Tanagra</td>\n",
              "      <td>ca. 500 BC?</td>\n",
              "      <td>ca. 500 BC?</td>\n",
              "      <td>IG VII 3501 (a)</td>\n",
              "      <td>GVI 162</td>\n",
              "      <td>SEG 15.316</td>\n",
              "      <td>NaN</td>\n",
              "    </tr>\n",
              "    <tr>\n",
              "      <th>3</th>\n",
              "      <td>/text/328154?location=1&amp;patt=&amp;bookid=303&amp;offse...</td>\n",
              "      <td>CEG</td>\n",
              "      <td>I 112</td>\n",
              "      <td>Regions</td>\n",
              "      <td>CEG I 112</td>\n",
              "      <td>NaN</td>\n",
              "      <td>Funerary epigram for Phanes.  Funerary stele. ...</td>\n",
              "      <td>2</td>\n",
              "      <td>1\\n</td>\n",
              "      <td>ἀσστοῖ[ς] καὶ χσένοισι Φάνες φίλος [ἐνθάδε κεῖ...</td>\n",
              "      <td>Boiotia</td>\n",
              "      <td>NaN</td>\n",
              "      <td>NaN</td>\n",
              "      <td>Thisbe</td>\n",
              "      <td>ca. 500 BC?</td>\n",
              "      <td>ca. 500 BC?</td>\n",
              "      <td>IG VII 2247</td>\n",
              "      <td>GVI 321 (cf. SEG 15.327)</td>\n",
              "      <td>CEG I, Add. p. 261</td>\n",
              "      <td>NaN</td>\n",
              "    </tr>\n",
              "    <tr>\n",
              "      <th>4</th>\n",
              "      <td>/text/328155?location=1&amp;patt=&amp;bookid=303&amp;offse...</td>\n",
              "      <td>CEG</td>\n",
              "      <td>I 113</td>\n",
              "      <td>Regions</td>\n",
              "      <td>CEG I 113</td>\n",
              "      <td>NaN</td>\n",
              "      <td>Funerary epigram for Oligeides, son of Osthilo...</td>\n",
              "      <td>6</td>\n",
              "      <td>1\\n\\n\\n\\n5\\n</td>\n",
              "      <td>μνᾶμ’ ἐπ’ Ὀλιγέ-\\nδαι {ι} μ’ ὁ πατὲρ ἐ-\\nπέθεκ...</td>\n",
              "      <td>Boiotia</td>\n",
              "      <td>NaN</td>\n",
              "      <td>NaN</td>\n",
              "      <td>Thespiai</td>\n",
              "      <td>ca. 500-480 BC?</td>\n",
              "      <td>Palaiopanagia</td>\n",
              "      <td>ca. 500-480 BC?</td>\n",
              "      <td>IG VII 1880</td>\n",
              "      <td>GVI 152</td>\n",
              "      <td>SEG 15.325</td>\n",
              "    </tr>\n",
              "  </tbody>\n",
              "</table>\n",
              "</div>"
            ],
            "text/plain": [
              "                                                 URL  ... other_info_4\n",
              "0  /text/328151?location=1&patt=&bookid=303&offse...  ...          NaN\n",
              "1  /text/328152?location=1&patt=&bookid=303&offse...  ...          NaN\n",
              "2  /text/328153?location=1&patt=&bookid=303&offse...  ...          NaN\n",
              "3  /text/328154?location=1&patt=&bookid=303&offse...  ...          NaN\n",
              "4  /text/328155?location=1&patt=&bookid=303&offse...  ...   SEG 15.325\n",
              "\n",
              "[5 rows x 20 columns]"
            ]
          },
          "metadata": {
            "tags": []
          },
          "execution_count": 21
        }
      ]
    },
    {
      "cell_type": "markdown",
      "metadata": {
        "id": "SAQImvXN3_pS",
        "colab_type": "text"
      },
      "source": [
        "# Extracting the whole dataset"
      ]
    },
    {
      "cell_type": "code",
      "metadata": {
        "id": "1QxUVaIb3s2j",
        "colab_type": "code",
        "outputId": "d5d4e2bc-7076-43f1-a4f3-10ad0906b5e5",
        "colab": {
          "base_uri": "https://localhost:8080/",
          "height": 71
        }
      },
      "source": [
        "dfs = []\n",
        "for filename in namelist:\n",
        "  df = pd.read_csv(io.BytesIO(zipped.read(filename)))\n",
        "  dfs.append(df)"
      ],
      "execution_count": 0,
      "outputs": [
        {
          "output_type": "stream",
          "text": [
            "/usr/local/lib/python3.6/dist-packages/IPython/core/interactiveshell.py:2718: DtypeWarning: Columns (11,12) have mixed types.Specify dtype option on import or set low_memory=False.\n",
            "  interactivity=interactivity, compiler=compiler, result=result)\n"
          ],
          "name": "stderr"
        }
      ]
    },
    {
      "cell_type": "code",
      "metadata": {
        "id": "oZnbgCoq4UWW",
        "colab_type": "code",
        "outputId": "59d6d775-02ab-4be2-9c34-4ecde12b9519",
        "colab": {
          "base_uri": "https://localhost:8080/",
          "height": 34
        }
      },
      "source": [
        "dfs = pd.concat(dfs)\n",
        "dfs.shape"
      ],
      "execution_count": 0,
      "outputs": [
        {
          "output_type": "execute_result",
          "data": {
            "text/plain": [
              "(214995, 25)"
            ]
          },
          "metadata": {
            "tags": []
          },
          "execution_count": 29
        }
      ]
    },
    {
      "cell_type": "code",
      "metadata": {
        "id": "rB3_qalF5x6q",
        "colab_type": "code",
        "outputId": "24dc08da-29f7-4812-9d6a-58183d93a55f",
        "colab": {
          "base_uri": "https://localhost:8080/",
          "height": 462
        }
      },
      "source": [
        "### so let look at what is somewhere in the middle...\n",
        "dfs.iloc[10000:10005]"
      ],
      "execution_count": 0,
      "outputs": [
        {
          "output_type": "execute_result",
          "data": {
            "text/html": [
              "<div>\n",
              "<style scoped>\n",
              "    .dataframe tbody tr th:only-of-type {\n",
              "        vertical-align: middle;\n",
              "    }\n",
              "\n",
              "    .dataframe tbody tr th {\n",
              "        vertical-align: top;\n",
              "    }\n",
              "\n",
              "    .dataframe thead th {\n",
              "        text-align: right;\n",
              "    }\n",
              "</style>\n",
              "<table border=\"1\" class=\"dataframe\">\n",
              "  <thead>\n",
              "    <tr style=\"text-align: right;\">\n",
              "      <th></th>\n",
              "      <th>URL</th>\n",
              "      <th>Book</th>\n",
              "      <th>Text</th>\n",
              "      <th>hdr1</th>\n",
              "      <th>hdr2</th>\n",
              "      <th>tildeinfo</th>\n",
              "      <th>note</th>\n",
              "      <th>lines</th>\n",
              "      <th>metadata</th>\n",
              "      <th>data</th>\n",
              "      <th>region</th>\n",
              "      <th>stoich</th>\n",
              "      <th>sinistr</th>\n",
              "      <th>subregion</th>\n",
              "      <th>date</th>\n",
              "      <th>other_info_0</th>\n",
              "      <th>other_info_1</th>\n",
              "      <th>other_info_2</th>\n",
              "      <th>other_info_3</th>\n",
              "      <th>other_info_4</th>\n",
              "      <th>Unnamed: 0</th>\n",
              "      <th>petra</th>\n",
              "      <th>X260</th>\n",
              "      <th>17.12.2019 16:59</th>\n",
              "      <th>file:///home/petra/.config/libreoffice/4;</th>\n",
              "    </tr>\n",
              "  </thead>\n",
              "  <tbody>\n",
              "    <tr>\n",
              "      <th>55</th>\n",
              "      <td>/text/256730?location=1040&amp;patt=&amp;bookid=482&amp;bo...</td>\n",
              "      <td>Alabanda</td>\n",
              "      <td>49*5</td>\n",
              "      <td>Regions\\nAsia Minor\\nCaria</td>\n",
              "      <td>Alabanda 49*5</td>\n",
              "      <td>NaN</td>\n",
              "      <td>NaN</td>\n",
              "      <td>3.0</td>\n",
              "      <td>1\\n\\n</td>\n",
              "      <td>Ἐπαφρᾶ #⁹³⁷ τραπεζείτου,\\nπατρὸς δὲ Φιλουμενοῦ...</td>\n",
              "      <td>LW 557</td>\n",
              "      <td>NaN</td>\n",
              "      <td>NaN</td>\n",
              "      <td>NaN</td>\n",
              "      <td>NaN</td>\n",
              "      <td>NaN</td>\n",
              "      <td>NaN</td>\n",
              "      <td>NaN</td>\n",
              "      <td>NaN</td>\n",
              "      <td>NaN</td>\n",
              "      <td>NaN</td>\n",
              "      <td>NaN</td>\n",
              "      <td>NaN</td>\n",
              "      <td>NaN</td>\n",
              "      <td>NaN</td>\n",
              "    </tr>\n",
              "    <tr>\n",
              "      <th>56</th>\n",
              "      <td>/text/256731?location=1040&amp;patt=&amp;bookid=482&amp;of...</td>\n",
              "      <td>Alabanda</td>\n",
              "      <td>50</td>\n",
              "      <td>Regions\\nAsia Minor\\nCaria</td>\n",
              "      <td>Alabanda 50</td>\n",
              "      <td>NaN</td>\n",
              "      <td>Funerary inscription of Ephebos Neikanoros ...</td>\n",
              "      <td>2.0</td>\n",
              "      <td>1\\n</td>\n",
              "      <td>Ἐφήβου τοῦ\\nΝεικάνορος.</td>\n",
              "      <td>BCH 1894, 34</td>\n",
              "      <td>NaN</td>\n",
              "      <td>NaN</td>\n",
              "      <td>NaN</td>\n",
              "      <td>NaN</td>\n",
              "      <td>NaN</td>\n",
              "      <td>NaN</td>\n",
              "      <td>NaN</td>\n",
              "      <td>NaN</td>\n",
              "      <td>NaN</td>\n",
              "      <td>NaN</td>\n",
              "      <td>NaN</td>\n",
              "      <td>NaN</td>\n",
              "      <td>NaN</td>\n",
              "      <td>NaN</td>\n",
              "    </tr>\n",
              "    <tr>\n",
              "      <th>57</th>\n",
              "      <td>/text/256732?location=1040&amp;patt=&amp;bookid=482&amp;of...</td>\n",
              "      <td>Alabanda</td>\n",
              "      <td>51</td>\n",
              "      <td>Regions\\nAsia Minor\\nCaria</td>\n",
              "      <td>Alabanda 51</td>\n",
              "      <td>NaN</td>\n",
              "      <td>NaN</td>\n",
              "      <td>1.0</td>\n",
              "      <td>1</td>\n",
              "      <td>Εὐκάρπου οἰκείου Ἀριστογένου.</td>\n",
              "      <td>LW 563</td>\n",
              "      <td>NaN</td>\n",
              "      <td>NaN</td>\n",
              "      <td>NaN</td>\n",
              "      <td>NaN</td>\n",
              "      <td>NaN</td>\n",
              "      <td>NaN</td>\n",
              "      <td>NaN</td>\n",
              "      <td>NaN</td>\n",
              "      <td>NaN</td>\n",
              "      <td>NaN</td>\n",
              "      <td>NaN</td>\n",
              "      <td>NaN</td>\n",
              "      <td>NaN</td>\n",
              "      <td>NaN</td>\n",
              "    </tr>\n",
              "    <tr>\n",
              "      <th>58</th>\n",
              "      <td>/text/256733?location=1040&amp;patt=&amp;bookid=482&amp;of...</td>\n",
              "      <td>Alabanda</td>\n",
              "      <td>52</td>\n",
              "      <td>Regions\\nAsia Minor\\nCaria</td>\n",
              "      <td>Alabanda 52</td>\n",
              "      <td>NaN</td>\n",
              "      <td>Reclassified as Hyllarima 24. \\n  \\n</td>\n",
              "      <td>1.0</td>\n",
              "      <td>0</td>\n",
              "      <td>{²reclassified as Hyllarima 24}²</td>\n",
              "      <td>NaN</td>\n",
              "      <td>NaN</td>\n",
              "      <td>NaN</td>\n",
              "      <td>NaN</td>\n",
              "      <td>NaN</td>\n",
              "      <td>NaN</td>\n",
              "      <td>NaN</td>\n",
              "      <td>NaN</td>\n",
              "      <td>NaN</td>\n",
              "      <td>NaN</td>\n",
              "      <td>NaN</td>\n",
              "      <td>NaN</td>\n",
              "      <td>NaN</td>\n",
              "      <td>NaN</td>\n",
              "      <td>NaN</td>\n",
              "    </tr>\n",
              "    <tr>\n",
              "      <th>59</th>\n",
              "      <td>/text/256734?location=1040&amp;patt=&amp;bookid=482&amp;of...</td>\n",
              "      <td>Alabanda</td>\n",
              "      <td>53</td>\n",
              "      <td>Regions\\nAsia Minor\\nCaria</td>\n",
              "      <td>Alabanda 53</td>\n",
              "      <td>NaN</td>\n",
              "      <td>Funerary inscription of Eutyches [D]o[x]ipa...</td>\n",
              "      <td>2.0</td>\n",
              "      <td>1\\n</td>\n",
              "      <td>Εὐτύχου [Δ]ο[ξ]ιπάτρου·\\nvacat ζῇ.</td>\n",
              "      <td>LW 562</td>\n",
              "      <td>NaN</td>\n",
              "      <td>NaN</td>\n",
              "      <td>NaN</td>\n",
              "      <td>NaN</td>\n",
              "      <td>NaN</td>\n",
              "      <td>NaN</td>\n",
              "      <td>NaN</td>\n",
              "      <td>NaN</td>\n",
              "      <td>NaN</td>\n",
              "      <td>NaN</td>\n",
              "      <td>NaN</td>\n",
              "      <td>NaN</td>\n",
              "      <td>NaN</td>\n",
              "      <td>NaN</td>\n",
              "    </tr>\n",
              "  </tbody>\n",
              "</table>\n",
              "</div>"
            ],
            "text/plain": [
              "                                                  URL  ... file:///home/petra/.config/libreoffice/4;\n",
              "55  /text/256730?location=1040&patt=&bookid=482&bo...  ...                                       NaN\n",
              "56  /text/256731?location=1040&patt=&bookid=482&of...  ...                                       NaN\n",
              "57  /text/256732?location=1040&patt=&bookid=482&of...  ...                                       NaN\n",
              "58  /text/256733?location=1040&patt=&bookid=482&of...  ...                                       NaN\n",
              "59  /text/256734?location=1040&patt=&bookid=482&of...  ...                                       NaN\n",
              "\n",
              "[5 rows x 25 columns]"
            ]
          },
          "metadata": {
            "tags": []
          },
          "execution_count": 32
        }
      ]
    },
    {
      "cell_type": "code",
      "metadata": {
        "id": "4-YOY-YZ7sl0",
        "colab_type": "code",
        "outputId": "84749db1-3d89-42b4-e29a-39db6ac6f7e0",
        "colab": {
          "base_uri": "https://localhost:8080/",
          "height": 119
        }
      },
      "source": [
        "# what are the columns?\n",
        "dfs.columns"
      ],
      "execution_count": 0,
      "outputs": [
        {
          "output_type": "execute_result",
          "data": {
            "text/plain": [
              "Index(['URL', 'Book', 'Text', 'hdr1', 'hdr2', 'tildeinfo', 'note', 'lines',\n",
              "       'metadata', 'data', 'region', 'stoich', 'sinistr', 'subregion', 'date',\n",
              "       'other_info_0', 'other_info_1', 'other_info_2', 'other_info_3',\n",
              "       'other_info_4', 'Unnamed: 0', 'petra', 'X260', '17.12.2019 16:59',\n",
              "       'file:///home/petra/.config/libreoffice/4;'],\n",
              "      dtype='object')"
            ]
          },
          "metadata": {
            "tags": []
          },
          "execution_count": 33
        }
      ]
    },
    {
      "cell_type": "code",
      "metadata": {
        "id": "CkMrzvtJ8krz",
        "colab_type": "code",
        "outputId": "b0b9756d-6ed6-4be0-dae4-4cb98678d824",
        "colab": {
          "base_uri": "https://localhost:8080/",
          "height": 34
        }
      },
      "source": [
        "# ok, some of these columns are probably useless\n",
        "# check what contain\n",
        "dfs[\"file:///home/petra/.config/libreoffice/4;\"].unique().tolist()"
      ],
      "execution_count": 0,
      "outputs": [
        {
          "output_type": "execute_result",
          "data": {
            "text/plain": [
              "[nan]"
            ]
          },
          "metadata": {
            "tags": []
          },
          "execution_count": 34
        }
      ]
    },
    {
      "cell_type": "code",
      "metadata": {
        "id": "9aVKPzcv8y_x",
        "colab_type": "code",
        "outputId": "8bdf3b7d-024f-4c02-8032-38c251c63bfc",
        "colab": {
          "base_uri": "https://localhost:8080/",
          "height": 34
        }
      },
      "source": [
        "dfs[\"X260\"].unique()"
      ],
      "execution_count": 0,
      "outputs": [
        {
          "output_type": "execute_result",
          "data": {
            "text/plain": [
              "array([nan], dtype=object)"
            ]
          },
          "metadata": {
            "tags": []
          },
          "execution_count": 36
        }
      ]
    },
    {
      "cell_type": "code",
      "metadata": {
        "id": "PyQpKNTx84w8",
        "colab_type": "code",
        "outputId": "49703e46-cf8f-4c84-b669-064179d83c6c",
        "colab": {
          "base_uri": "https://localhost:8080/",
          "height": 34
        }
      },
      "source": [
        "dfs[\"17.12.2019 16:59\"].unique()"
      ],
      "execution_count": 0,
      "outputs": [
        {
          "output_type": "execute_result",
          "data": {
            "text/plain": [
              "array([nan], dtype=object)"
            ]
          },
          "metadata": {
            "tags": []
          },
          "execution_count": 38
        }
      ]
    },
    {
      "cell_type": "code",
      "metadata": {
        "id": "x1p70ubT__sZ",
        "colab_type": "code",
        "colab": {}
      },
      "source": [
        "dfs.reset_index(inplace=True)"
      ],
      "execution_count": 0,
      "outputs": []
    },
    {
      "cell_type": "code",
      "metadata": {
        "id": "i9FR7_3A9GkD",
        "colab_type": "code",
        "colab": {}
      },
      "source": [
        "# remove the strange columns\n",
        "dfs.drop(['Unnamed: 0', 'petra', 'X260', '17.12.2019 16:59',\n",
        "       'file:///home/petra/.config/libreoffice/4;', 'level_0', 'index'], axis=1, inplace=True)\n"
      ],
      "execution_count": 0,
      "outputs": []
    },
    {
      "cell_type": "code",
      "metadata": {
        "id": "P7u7dr-t9mav",
        "colab_type": "code",
        "outputId": "fcffe4d6-067a-4c11-8865-77b143e65bf3",
        "colab": {
          "base_uri": "https://localhost:8080/",
          "height": 479
        }
      },
      "source": [
        "dfs.head(5)"
      ],
      "execution_count": 0,
      "outputs": [
        {
          "output_type": "execute_result",
          "data": {
            "text/html": [
              "<div>\n",
              "<style scoped>\n",
              "    .dataframe tbody tr th:only-of-type {\n",
              "        vertical-align: middle;\n",
              "    }\n",
              "\n",
              "    .dataframe tbody tr th {\n",
              "        vertical-align: top;\n",
              "    }\n",
              "\n",
              "    .dataframe thead th {\n",
              "        text-align: right;\n",
              "    }\n",
              "</style>\n",
              "<table border=\"1\" class=\"dataframe\">\n",
              "  <thead>\n",
              "    <tr style=\"text-align: right;\">\n",
              "      <th></th>\n",
              "      <th>URL</th>\n",
              "      <th>Book</th>\n",
              "      <th>Text</th>\n",
              "      <th>hdr1</th>\n",
              "      <th>hdr2</th>\n",
              "      <th>tildeinfo</th>\n",
              "      <th>note</th>\n",
              "      <th>lines</th>\n",
              "      <th>metadata</th>\n",
              "      <th>data</th>\n",
              "      <th>region</th>\n",
              "      <th>stoich</th>\n",
              "      <th>sinistr</th>\n",
              "      <th>subregion</th>\n",
              "      <th>date</th>\n",
              "      <th>other_info_0</th>\n",
              "      <th>other_info_1</th>\n",
              "      <th>other_info_2</th>\n",
              "      <th>other_info_3</th>\n",
              "      <th>other_info_4</th>\n",
              "    </tr>\n",
              "  </thead>\n",
              "  <tbody>\n",
              "    <tr>\n",
              "      <th>0</th>\n",
              "      <td>/text/237766?location=7&amp;patt=&amp;bookid=409&amp;booki...</td>\n",
              "      <td>Clinton, Sacred Officials</td>\n",
              "      <td>10</td>\n",
              "      <td>Regions\\nAttica (IG I-III)</td>\n",
              "      <td>Clinton, Sacred Officials 10</td>\n",
              "      <td>NaN</td>\n",
              "      <td>NaN</td>\n",
              "      <td>46.0</td>\n",
              "      <td>5\\n\\n\\n\\n\\n10\\n\\n\\n\\n\\n15\\n\\n\\n\\n\\n20\\n\\n\\n\\n\\...</td>\n",
              "      <td>[․․․․․12․․․․․] ὀβολ[ὸν ․․5․․]\\n[․․․․․12․․․․․]ο...</td>\n",
              "      <td>Att.</td>\n",
              "      <td>stoich. 23</td>\n",
              "      <td>NaN</td>\n",
              "      <td>Ath.: Eleusinion</td>\n",
              "      <td>ca. 460 BC</td>\n",
              "      <td>ca. 460 BC</td>\n",
              "      <td>IG I² 6,C</td>\n",
              "      <td>I(3).6,C ll. 5-50</td>\n",
              "      <td>NaN</td>\n",
              "      <td>NaN</td>\n",
              "    </tr>\n",
              "    <tr>\n",
              "      <th>1</th>\n",
              "      <td>/text/237767?location=7&amp;patt=&amp;bookid=409&amp;booki...</td>\n",
              "      <td>Clinton, Sacred Officials</td>\n",
              "      <td>18,H5</td>\n",
              "      <td>Regions\\nAttica (IG I-III)</td>\n",
              "      <td>Clinton, Sacred Officials 18,H5</td>\n",
              "      <td>NaN</td>\n",
              "      <td>NaN</td>\n",
              "      <td>35.0</td>\n",
              "      <td>\\n1\\n\\n\\n\\n5\\n\\n\\n\\n\\n10\\n\\n\\n\\n\\n15\\n\\n\\n\\n\\n...</td>\n",
              "      <td>corona\\nθ[εοί].\\nΕ̣ὐθ̣[․․6․․․]θ̣ωνος Ἐλευσίνιο...</td>\n",
              "      <td>Att.</td>\n",
              "      <td>stoich. 25</td>\n",
              "      <td>NaN</td>\n",
              "      <td>Eleusis</td>\n",
              "      <td>ca. mid-4th c. BC</td>\n",
              "      <td>ca. mid-4th c. BC</td>\n",
              "      <td>IG II² 1188</td>\n",
              "      <td>NaN</td>\n",
              "      <td>NaN</td>\n",
              "      <td>NaN</td>\n",
              "    </tr>\n",
              "    <tr>\n",
              "      <th>2</th>\n",
              "      <td>/text/237768?location=7&amp;patt=&amp;bookid=409&amp;booki...</td>\n",
              "      <td>Clinton, Sacred Officials</td>\n",
              "      <td>24,H11</td>\n",
              "      <td>Regions\\nAttica (IG I-III)</td>\n",
              "      <td>Clinton, Sacred Officials 24,H11</td>\n",
              "      <td>NaN</td>\n",
              "      <td>NaN</td>\n",
              "      <td>26.0</td>\n",
              "      <td>1\\n\\n\\n\\n5\\n\\n\\n\\n\\n10\\n\\n\\n\\n\\n15\\n\\n\\n\\n\\n20...</td>\n",
              "      <td>ἐπὶ Λυσιάδου ἄρχοντος Π̣[υανοψ]ιῶνος ἕκτ[ει ἐπ...</td>\n",
              "      <td>Att.</td>\n",
              "      <td>non-stoich.</td>\n",
              "      <td>NaN</td>\n",
              "      <td>Ath.: Agora</td>\n",
              "      <td>NaN</td>\n",
              "      <td>148/7? BC</td>\n",
              "      <td>Hsp.11.1942.293,58 [SEG 19.124]</td>\n",
              "      <td>NaN</td>\n",
              "      <td>NaN</td>\n",
              "      <td>NaN</td>\n",
              "    </tr>\n",
              "    <tr>\n",
              "      <th>3</th>\n",
              "      <td>/text/237769?location=7&amp;patt=&amp;bookid=409&amp;booki...</td>\n",
              "      <td>Clinton, Sacred Officials</td>\n",
              "      <td>30,H19</td>\n",
              "      <td>Regions\\nAttica (IG I-III)</td>\n",
              "      <td>Clinton, Sacred Officials 30,H19</td>\n",
              "      <td>NaN</td>\n",
              "      <td>NaN</td>\n",
              "      <td>5.0</td>\n",
              "      <td>1\\n\\n\\n\\n5</td>\n",
              "      <td>[Τ. Φλ]ά̣β. Πάντα[ινον]\\n[Γαργ]ήττιον vac.\\n[․...</td>\n",
              "      <td>Att.</td>\n",
              "      <td>NaN</td>\n",
              "      <td>NaN</td>\n",
              "      <td>Athens</td>\n",
              "      <td>ca. 100 AD?</td>\n",
              "      <td>ca. 100 AD?</td>\n",
              "      <td>Hsp.35.1966.247,8 +</td>\n",
              "      <td>AD 25.1970.187,6 [SEG 23.114]</td>\n",
              "      <td>SEG 29.180</td>\n",
              "      <td>NaN</td>\n",
              "    </tr>\n",
              "    <tr>\n",
              "      <th>4</th>\n",
              "      <td>/text/237770?location=7&amp;patt=&amp;bookid=409&amp;booki...</td>\n",
              "      <td>Clinton, Sacred Officials</td>\n",
              "      <td>31,H20</td>\n",
              "      <td>Regions\\nAttica (IG I-III)</td>\n",
              "      <td>Clinton, Sacred Officials 31,H20</td>\n",
              "      <td>NaN</td>\n",
              "      <td>NaN</td>\n",
              "      <td>14.0</td>\n",
              "      <td>1\\n\\n\\n\\n5\\n\\n\\n\\n\\n10\\n\\n\\n\\n</td>\n",
              "      <td>[κ]α̣θ’ ὑπομνη[ματι]-\\nσμὸν τῆς ἐξ Ἀ[ρείου]\\nπ...</td>\n",
              "      <td>Att.</td>\n",
              "      <td>NaN</td>\n",
              "      <td>NaN</td>\n",
              "      <td>Eleusis</td>\n",
              "      <td>166/7 AD</td>\n",
              "      <td>166/7 AD</td>\n",
              "      <td>IG II² 3984</td>\n",
              "      <td>NaN</td>\n",
              "      <td>NaN</td>\n",
              "      <td>NaN</td>\n",
              "    </tr>\n",
              "  </tbody>\n",
              "</table>\n",
              "</div>"
            ],
            "text/plain": [
              "                                                 URL  ... other_info_4\n",
              "0  /text/237766?location=7&patt=&bookid=409&booki...  ...          NaN\n",
              "1  /text/237767?location=7&patt=&bookid=409&booki...  ...          NaN\n",
              "2  /text/237768?location=7&patt=&bookid=409&booki...  ...          NaN\n",
              "3  /text/237769?location=7&patt=&bookid=409&booki...  ...          NaN\n",
              "4  /text/237770?location=7&patt=&bookid=409&booki...  ...          NaN\n",
              "\n",
              "[5 rows x 20 columns]"
            ]
          },
          "metadata": {
            "tags": []
          },
          "execution_count": 47
        }
      ]
    },
    {
      "cell_type": "code",
      "metadata": {
        "id": "9vJzH9iZ7Ot7",
        "colab_type": "code",
        "outputId": "4b58e00d-7edf-4675-d96e-18e87533f353",
        "colab": {
          "base_uri": "https://localhost:8080/",
          "height": 34
        }
      },
      "source": [
        "sddk.write_file(\"SDAM_data/PHI/PHI_merged.json\", dfs, conf)"
      ],
      "execution_count": 0,
      "outputs": [
        {
          "output_type": "stream",
          "text": [
            "Your <class 'pandas.core.frame.DataFrame'> object has been succefully written as \"https://sciencedata.dk/files/SDAM_root/SDAM_data/PHI/PHI_merged.json\"\n"
          ],
          "name": "stdout"
        }
      ]
    },
    {
      "cell_type": "code",
      "metadata": {
        "id": "28gRJ0yj_C9L",
        "colab_type": "code",
        "outputId": "04862299-3956-4944-c5e1-3cfc80beb78a",
        "colab": {
          "base_uri": "https://localhost:8080/",
          "height": 34
        }
      },
      "source": [
        "# produce a sample:\n",
        "sddk.write_file(\"SDAM_data/PHI/PHI_sample.json\", dfs[:10000], conf)"
      ],
      "execution_count": 0,
      "outputs": [
        {
          "output_type": "stream",
          "text": [
            "Your <class 'pandas.core.frame.DataFrame'> object has been succefully written as \"https://sciencedata.dk/files/SDAM_root/SDAM_data/PHI/PHI_sample.json\"\n"
          ],
          "name": "stdout"
        }
      ]
    },
    {
      "cell_type": "markdown",
      "metadata": {
        "id": "MyHtb4w6eYu1",
        "colab_type": "text"
      },
      "source": [
        "# Reading the files back and correcting encoding"
      ]
    },
    {
      "cell_type": "code",
      "metadata": {
        "id": "mEjYr3KFdj8H",
        "colab_type": "code",
        "colab": {}
      },
      "source": [
        "PHI = sddk.read_file(\"SDAM_data/PHI/PHI_merged.json\", \"df\", conf)"
      ],
      "execution_count": 0,
      "outputs": []
    },
    {
      "cell_type": "code",
      "metadata": {
        "id": "ADj4c8R8woa7",
        "colab_type": "code",
        "outputId": "4d35d219-4831-4076-8530-7fedf9783131",
        "colab": {
          "base_uri": "https://localhost:8080/",
          "height": 68
        }
      },
      "source": [
        "### there was an update in the sddk package, which now manages encoding on its own\n",
        "sddk.write_file(\"SDAM_data/PHI/PHI_sample_utf8.json\", PHI[:10000], conf)"
      ],
      "execution_count": 34,
      "outputs": [
        {
          "output_type": "stream",
          "text": [
            "A file with the same name (\"PHI_sample_utf8.json\") already exists in this location.\n",
            "Press Enter to overwrite it or choose different path and filename: \n",
            "Your <class 'pandas.core.frame.DataFrame'> object has been succefully written as \"https://sciencedata.dk/files/SDAM_root/SDAM_data/PHI/PHI_sample_utf8.json\"\n"
          ],
          "name": "stdout"
        }
      ]
    },
    {
      "cell_type": "code",
      "metadata": {
        "id": "AITEajh3otNf",
        "colab_type": "code",
        "outputId": "de4a1319-775f-40b8-8c9b-c0494af766e6",
        "colab": {
          "base_uri": "https://localhost:8080/",
          "height": 68
        }
      },
      "source": [
        "### and now do the same with the whole dataset\n",
        "sddk.write_file(\"SDAM_data/PHI/PHI_merged_utf8.json\", PHI, conf)"
      ],
      "execution_count": 37,
      "outputs": [
        {
          "output_type": "stream",
          "text": [
            "A file with the same name (\"PHI_merged_utf8.json\") already exists in this location.\n",
            "Press Enter to overwrite it or choose different path and filename: \n",
            "Your <class 'pandas.core.frame.DataFrame'> object has been succefully written as \"https://sciencedata.dk/files/SDAM_root/SDAM_data/PHI/PHI_merged_utf8.json\"\n"
          ],
          "name": "stdout"
        }
      ]
    },
    {
      "cell_type": "markdown",
      "metadata": {
        "id": "yFltETVKhevH",
        "colab_type": "text"
      },
      "source": [
        "# Testing: reading sample digested by R by to Python"
      ]
    },
    {
      "cell_type": "code",
      "metadata": {
        "id": "OUTuwhz3ySIJ",
        "colab_type": "code",
        "colab": {
          "base_uri": "https://localhost:8080/",
          "height": 479
        },
        "outputId": "10425ea4-b321-44ef-bb15-8ada62d60872"
      },
      "source": [
        "# reading the json processed in R back to Python:\n",
        "PHI_sample = sddk.read_file(\"SDAM_data/PHI/PHI_tibble.json\", \"df\", conf)\n",
        "PHI_sample.head(5)"
      ],
      "execution_count": 36,
      "outputs": [
        {
          "output_type": "execute_result",
          "data": {
            "text/html": [
              "<div>\n",
              "<style scoped>\n",
              "    .dataframe tbody tr th:only-of-type {\n",
              "        vertical-align: middle;\n",
              "    }\n",
              "\n",
              "    .dataframe tbody tr th {\n",
              "        vertical-align: top;\n",
              "    }\n",
              "\n",
              "    .dataframe thead th {\n",
              "        text-align: right;\n",
              "    }\n",
              "</style>\n",
              "<table border=\"1\" class=\"dataframe\">\n",
              "  <thead>\n",
              "    <tr style=\"text-align: right;\">\n",
              "      <th></th>\n",
              "      <th>URL</th>\n",
              "      <th>Book</th>\n",
              "      <th>Text</th>\n",
              "      <th>hdr1</th>\n",
              "      <th>hdr2</th>\n",
              "      <th>tildeinfo</th>\n",
              "      <th>note</th>\n",
              "      <th>lines</th>\n",
              "      <th>metadata</th>\n",
              "      <th>data</th>\n",
              "      <th>region</th>\n",
              "      <th>stoich</th>\n",
              "      <th>sinistr</th>\n",
              "      <th>subregion</th>\n",
              "      <th>date</th>\n",
              "      <th>other_info_0</th>\n",
              "      <th>other_info_1</th>\n",
              "      <th>other_info_2</th>\n",
              "      <th>other_info_3</th>\n",
              "      <th>other_info_4</th>\n",
              "    </tr>\n",
              "  </thead>\n",
              "  <tbody>\n",
              "    <tr>\n",
              "      <th>0</th>\n",
              "      <td>[/text/237766?location=7&amp;patt=&amp;bookid=409&amp;book...</td>\n",
              "      <td>[Clinton, Sacred Officials]</td>\n",
              "      <td>[10]</td>\n",
              "      <td>[Regions\\nAttica (IG I-III)]</td>\n",
              "      <td>[Clinton, Sacred Officials 10]</td>\n",
              "      <td>{}</td>\n",
              "      <td>{}</td>\n",
              "      <td>[46]</td>\n",
              "      <td>[5\\n\\n\\n\\n\\n10\\n\\n\\n\\n\\n15\\n\\n\\n\\n\\n20\\n\\n\\n\\n...</td>\n",
              "      <td>[[․․․․․12․․․․․] ὀβολ[ὸν ․․5․․]\\n[․․․․․12․․․․․]...</td>\n",
              "      <td>[Att.]</td>\n",
              "      <td>[stoich. 23]</td>\n",
              "      <td>{}</td>\n",
              "      <td>[Ath.: Eleusinion]</td>\n",
              "      <td>[ca. 460 BC]</td>\n",
              "      <td>[ca. 460 BC]</td>\n",
              "      <td>[IG I² 6,C]</td>\n",
              "      <td>[I(3).6,C ll. 5-50]</td>\n",
              "      <td>{}</td>\n",
              "      <td>{}</td>\n",
              "    </tr>\n",
              "    <tr>\n",
              "      <th>1</th>\n",
              "      <td>[/text/237767?location=7&amp;patt=&amp;bookid=409&amp;book...</td>\n",
              "      <td>[Clinton, Sacred Officials]</td>\n",
              "      <td>[18,H5]</td>\n",
              "      <td>[Regions\\nAttica (IG I-III)]</td>\n",
              "      <td>[Clinton, Sacred Officials 18,H5]</td>\n",
              "      <td>{}</td>\n",
              "      <td>{}</td>\n",
              "      <td>[35]</td>\n",
              "      <td>[\\n1\\n\\n\\n\\n5\\n\\n\\n\\n\\n10\\n\\n\\n\\n\\n15\\n\\n\\n\\n\\...</td>\n",
              "      <td>[corona\\nθ[εοί].\\nΕ̣ὐθ̣[․․6․․․]θ̣ωνος Ἐλευσίνι...</td>\n",
              "      <td>[Att.]</td>\n",
              "      <td>[stoich. 25]</td>\n",
              "      <td>{}</td>\n",
              "      <td>[Eleusis]</td>\n",
              "      <td>[ca. mid-4th c. BC]</td>\n",
              "      <td>[ca. mid-4th c. BC]</td>\n",
              "      <td>[IG II² 1188]</td>\n",
              "      <td>{}</td>\n",
              "      <td>{}</td>\n",
              "      <td>{}</td>\n",
              "    </tr>\n",
              "    <tr>\n",
              "      <th>2</th>\n",
              "      <td>[/text/237768?location=7&amp;patt=&amp;bookid=409&amp;book...</td>\n",
              "      <td>[Clinton, Sacred Officials]</td>\n",
              "      <td>[24,H11]</td>\n",
              "      <td>[Regions\\nAttica (IG I-III)]</td>\n",
              "      <td>[Clinton, Sacred Officials 24,H11]</td>\n",
              "      <td>{}</td>\n",
              "      <td>{}</td>\n",
              "      <td>[26]</td>\n",
              "      <td>[1\\n\\n\\n\\n5\\n\\n\\n\\n\\n10\\n\\n\\n\\n\\n15\\n\\n\\n\\n\\n2...</td>\n",
              "      <td>[ἐπὶ Λυσιάδου ἄρχοντος Π̣[υανοψ]ιῶνος ἕκτ[ει ἐ...</td>\n",
              "      <td>[Att.]</td>\n",
              "      <td>[non-stoich.]</td>\n",
              "      <td>{}</td>\n",
              "      <td>[Ath.: Agora]</td>\n",
              "      <td>{}</td>\n",
              "      <td>[148/7? BC]</td>\n",
              "      <td>[Hsp.11.1942.293,58 [SEG 19.124]]</td>\n",
              "      <td>{}</td>\n",
              "      <td>{}</td>\n",
              "      <td>{}</td>\n",
              "    </tr>\n",
              "    <tr>\n",
              "      <th>3</th>\n",
              "      <td>[/text/237769?location=7&amp;patt=&amp;bookid=409&amp;book...</td>\n",
              "      <td>[Clinton, Sacred Officials]</td>\n",
              "      <td>[30,H19]</td>\n",
              "      <td>[Regions\\nAttica (IG I-III)]</td>\n",
              "      <td>[Clinton, Sacred Officials 30,H19]</td>\n",
              "      <td>{}</td>\n",
              "      <td>{}</td>\n",
              "      <td>[5]</td>\n",
              "      <td>[1\\n\\n\\n\\n5]</td>\n",
              "      <td>[[Τ. Φλ]ά̣β. Πάντα[ινον]\\n[Γαργ]ήττιον vac.\\n[...</td>\n",
              "      <td>[Att.]</td>\n",
              "      <td>{}</td>\n",
              "      <td>{}</td>\n",
              "      <td>[Athens]</td>\n",
              "      <td>[ca. 100 AD?]</td>\n",
              "      <td>[ca. 100 AD?]</td>\n",
              "      <td>[Hsp.35.1966.247,8 +]</td>\n",
              "      <td>[AD 25.1970.187,6 [SEG 23.114]]</td>\n",
              "      <td>[SEG 29.180]</td>\n",
              "      <td>{}</td>\n",
              "    </tr>\n",
              "    <tr>\n",
              "      <th>4</th>\n",
              "      <td>[/text/237770?location=7&amp;patt=&amp;bookid=409&amp;book...</td>\n",
              "      <td>[Clinton, Sacred Officials]</td>\n",
              "      <td>[31,H20]</td>\n",
              "      <td>[Regions\\nAttica (IG I-III)]</td>\n",
              "      <td>[Clinton, Sacred Officials 31,H20]</td>\n",
              "      <td>{}</td>\n",
              "      <td>{}</td>\n",
              "      <td>[14]</td>\n",
              "      <td>[1\\n\\n\\n\\n5\\n\\n\\n\\n\\n10\\n\\n\\n\\n]</td>\n",
              "      <td>[[κ]α̣θ’ ὑπομνη[ματι]-\\nσμὸν τῆς ἐξ Ἀ[ρείου]\\n...</td>\n",
              "      <td>[Att.]</td>\n",
              "      <td>{}</td>\n",
              "      <td>{}</td>\n",
              "      <td>[Eleusis]</td>\n",
              "      <td>[166/7 AD]</td>\n",
              "      <td>[166/7 AD]</td>\n",
              "      <td>[IG II² 3984]</td>\n",
              "      <td>{}</td>\n",
              "      <td>{}</td>\n",
              "      <td>{}</td>\n",
              "    </tr>\n",
              "  </tbody>\n",
              "</table>\n",
              "</div>"
            ],
            "text/plain": [
              "                                                 URL  ... other_info_4\n",
              "0  [/text/237766?location=7&patt=&bookid=409&book...  ...           {}\n",
              "1  [/text/237767?location=7&patt=&bookid=409&book...  ...           {}\n",
              "2  [/text/237768?location=7&patt=&bookid=409&book...  ...           {}\n",
              "3  [/text/237769?location=7&patt=&bookid=409&book...  ...           {}\n",
              "4  [/text/237770?location=7&patt=&bookid=409&book...  ...           {}\n",
              "\n",
              "[5 rows x 20 columns]"
            ]
          },
          "metadata": {
            "tags": []
          },
          "execution_count": 36
        }
      ]
    },
    {
      "cell_type": "code",
      "metadata": {
        "id": "VtPlnTK_drPm",
        "colab_type": "code",
        "colab": {}
      },
      "source": [
        ""
      ],
      "execution_count": 0,
      "outputs": []
    }
  ]
}