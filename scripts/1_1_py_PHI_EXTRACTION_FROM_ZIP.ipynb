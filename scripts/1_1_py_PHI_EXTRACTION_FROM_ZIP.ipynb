{
  "nbformat": 4,
  "nbformat_minor": 0,
  "metadata": {
    "colab": {
      "name": "1_1_py_PHI_EXTRACTION_FROM_ZIP.ipynb",
      "provenance": [],
      "authorship_tag": "ABX9TyM04/D1PWF4nqpQzStdFcc/",
      "include_colab_link": true
    },
    "kernelspec": {
      "name": "python3",
      "display_name": "Python 3"
    }
  },
  "cells": [
    {
      "cell_type": "markdown",
      "metadata": {
        "id": "view-in-github",
        "colab_type": "text"
      },
      "source": [
        "<a href=\"https://colab.research.google.com/github/sdam-au/PHI_ETL/blob/master/scripts/1_1_py_PHI_EXTRACTION_FROM_ZIP.ipynb\" target=\"_parent\"><img src=\"https://colab.research.google.com/assets/colab-badge.svg\" alt=\"Open In Colab\"/></a>"
      ]
    },
    {
      "cell_type": "code",
      "metadata": {
        "id": "JcNeUMCflzF8",
        "colab_type": "code",
        "colab": {}
      },
      "source": [
        "import numpy as np\n",
        "import math\n",
        "import pandas as pd\n",
        "\n",
        "import sys\n",
        "### we do a lot of requests during the scrapping. Some of them with requests package, some of them with urllib\n",
        "import requests\n",
        "from urllib.request import urlopen \n",
        "from urllib.parse import quote  \n",
        "from bs4 import BeautifulSoup\n",
        "import xml.etree.cElementTree as ET\n",
        "\n",
        "import zipfile\n",
        "import io\n",
        "\n",
        "# to avoid errors, we sometime use time.sleep(N) before retrying a request\n",
        "import time\n",
        "# the input data have typically a json structure\n",
        "import json\n",
        "import getpass\n",
        "\n",
        "import datetime as dt\n",
        "# for simple paralel computing:\n",
        "from concurrent.futures import ThreadPoolExecutor"
      ],
      "execution_count": 0,
      "outputs": []
    },
    {
      "cell_type": "code",
      "metadata": {
        "id": "YnxNQl_rN1WU",
        "colab_type": "code",
        "outputId": "b63684df-b285-47df-f7b1-a701dfafbadb",
        "colab": {
          "base_uri": "https://localhost:8080/",
          "height": 326
        }
      },
      "source": [
        "!pip install sddk\n",
        "import sddk"
      ],
      "execution_count": 0,
      "outputs": [
        {
          "output_type": "stream",
          "text": [
            "Collecting sddk\n",
            "  Downloading https://files.pythonhosted.org/packages/85/b5/bed0d32b81135fefec928b1ae4fdae956fb9927309cbcd398b387fc773f0/sddk-2.2-py3-none-any.whl\n",
            "Requirement already satisfied: matplotlib in /usr/local/lib/python3.6/dist-packages (from sddk) (3.2.1)\n",
            "Requirement already satisfied: requests in /usr/local/lib/python3.6/dist-packages (from sddk) (2.23.0)\n",
            "Requirement already satisfied: pyarrow>=0.17.0 in /usr/local/lib/python3.6/dist-packages (from sddk) (0.17.0)\n",
            "Requirement already satisfied: numpy>=1.11 in /usr/local/lib/python3.6/dist-packages (from matplotlib->sddk) (1.18.4)\n",
            "Requirement already satisfied: kiwisolver>=1.0.1 in /usr/local/lib/python3.6/dist-packages (from matplotlib->sddk) (1.2.0)\n",
            "Requirement already satisfied: python-dateutil>=2.1 in /usr/local/lib/python3.6/dist-packages (from matplotlib->sddk) (2.8.1)\n",
            "Requirement already satisfied: pyparsing!=2.0.4,!=2.1.2,!=2.1.6,>=2.0.1 in /usr/local/lib/python3.6/dist-packages (from matplotlib->sddk) (2.4.7)\n",
            "Requirement already satisfied: cycler>=0.10 in /usr/local/lib/python3.6/dist-packages (from matplotlib->sddk) (0.10.0)\n",
            "Requirement already satisfied: idna<3,>=2.5 in /usr/local/lib/python3.6/dist-packages (from requests->sddk) (2.9)\n",
            "Requirement already satisfied: certifi>=2017.4.17 in /usr/local/lib/python3.6/dist-packages (from requests->sddk) (2020.4.5.1)\n",
            "Requirement already satisfied: chardet<4,>=3.0.2 in /usr/local/lib/python3.6/dist-packages (from requests->sddk) (3.0.4)\n",
            "Requirement already satisfied: urllib3!=1.25.0,!=1.25.1,<1.26,>=1.21.1 in /usr/local/lib/python3.6/dist-packages (from requests->sddk) (1.24.3)\n",
            "Requirement already satisfied: six>=1.5 in /usr/local/lib/python3.6/dist-packages (from python-dateutil>=2.1->matplotlib->sddk) (1.12.0)\n",
            "Installing collected packages: sddk\n",
            "Successfully installed sddk-2.2\n"
          ],
          "name": "stdout"
        }
      ]
    },
    {
      "cell_type": "code",
      "metadata": {
        "id": "MhnThoX5kUKs",
        "colab_type": "code",
        "outputId": "c1773097-a339-45d7-ecaf-89c4ab6ff74f",
        "colab": {
          "base_uri": "https://localhost:8080/",
          "height": 85
        }
      },
      "source": [
        "conf = sddk.configure(\"SDAM_root\", \"648597@au.dk\")"
      ],
      "execution_count": 0,
      "outputs": [
        {
          "output_type": "stream",
          "text": [
            "sciencedata.dk username (format '123456@au.dk'): 648597@au.dk\n",
            "sciencedata.dk password: ··········\n",
            "connection with shared folder established with you as its owner\n",
            "endpoint variable has been configured to: https://sciencedata.dk/files/SDAM_root/\n"
          ],
          "name": "stdout"
        }
      ]
    },
    {
      "cell_type": "code",
      "metadata": {
        "id": "pdedljlMl4Ps",
        "colab_type": "code",
        "colab": {}
      },
      "source": [
        "response = conf[0].get(conf[1] + \"SDAM_data/PHI/PHI_Petra.zip\")\n"
      ],
      "execution_count": 0,
      "outputs": []
    },
    {
      "cell_type": "code",
      "metadata": {
        "id": "IlO0dmDommBM",
        "colab_type": "code",
        "outputId": "aa6ba42c-9375-478f-842d-f046a7505183",
        "colab": {
          "base_uri": "https://localhost:8080/",
          "height": 34
        }
      },
      "source": [
        "response"
      ],
      "execution_count": 0,
      "outputs": [
        {
          "output_type": "execute_result",
          "data": {
            "text/plain": [
              "<Response [200]>"
            ]
          },
          "metadata": {
            "tags": []
          },
          "execution_count": 8
        }
      ]
    },
    {
      "cell_type": "code",
      "metadata": {
        "id": "sgx9V__kmaEd",
        "colab_type": "code",
        "outputId": "bfa5a0cd-fa7d-45eb-bd08-cd646e9b1e80",
        "colab": {
          "base_uri": "https://localhost:8080/",
          "height": 51
        }
      },
      "source": [
        "%%time\n",
        "zipped = zipfile.ZipFile(io.BytesIO(response.content))"
      ],
      "execution_count": 0,
      "outputs": [
        {
          "output_type": "stream",
          "text": [
            "CPU times: user 37.7 ms, sys: 16.9 ms, total: 54.7 ms\n",
            "Wall time: 54.6 ms\n"
          ],
          "name": "stdout"
        }
      ]
    },
    {
      "cell_type": "code",
      "metadata": {
        "id": "WfD_e7GRmj8Z",
        "colab_type": "code",
        "outputId": "9b1b1aeb-fde8-4a77-8e12-df9749623da4",
        "colab": {
          "base_uri": "https://localhost:8080/",
          "height": 34
        }
      },
      "source": [
        "namelist = zipped.namelist()[1:] ### index \"0\" is for main directory\n",
        "len(namelist)"
      ],
      "execution_count": 0,
      "outputs": [
        {
          "output_type": "execute_result",
          "data": {
            "text/plain": [
              "3363"
            ]
          },
          "metadata": {
            "tags": []
          },
          "execution_count": 10
        }
      ]
    },
    {
      "cell_type": "code",
      "metadata": {
        "id": "-FRHto4amtW1",
        "colab_type": "code",
        "outputId": "96aed2b7-0eed-47db-c42a-9f9d38aeefd1",
        "colab": {
          "base_uri": "https://localhost:8080/",
          "height": 34
        }
      },
      "source": [
        "namelist = [name for name in namelist if not \"._\" in name]\n",
        "namelist = [name for name in namelist if  \".csv\" in name]\n",
        "len(namelist)"
      ],
      "execution_count": 0,
      "outputs": [
        {
          "output_type": "execute_result",
          "data": {
            "text/plain": [
              "2227"
            ]
          },
          "metadata": {
            "tags": []
          },
          "execution_count": 11
        }
      ]
    },
    {
      "cell_type": "code",
      "metadata": {
        "id": "yktJWyXcm5mW",
        "colab_type": "code",
        "outputId": "0dacca1e-a82c-4683-a1f3-d2b8f72feceb",
        "colab": {
          "base_uri": "https://localhost:8080/",
          "height": 1000
        }
      },
      "source": [
        "namelist[:100]"
      ],
      "execution_count": 0,
      "outputs": [
        {
          "output_type": "execute_result",
          "data": {
            "text/plain": [
              "['PHI/output_parsed/Clinton--Sacred-Officials.csv',\n",
              " 'PHI/output_parsed/Clara-Rhodos.csv',\n",
              " 'PHI/output_parsed/ClRev.csv',\n",
              " 'PHI/output_parsed/Christol-Drew-Bear--Castellum-rom..csv',\n",
              " 'PHI/output_parsed/Chiron.csv',\n",
              " 'PHI/output_parsed/Chios.csv',\n",
              " 'PHI/output_parsed/Chaniotis--Vertr-ge.csv',\n",
              " 'PHI/output_parsed/Cesnola--Cyprus.csv',\n",
              " 'PHI/output_parsed/CahArch.csv',\n",
              " 'PHI/output_parsed/Cabanes--L--pire.csv',\n",
              " 'PHI/output_parsed/CSCA.csv',\n",
              " 'PHI/output_parsed/CRAI.csv',\n",
              " 'PHI/output_parsed/CPh.csv',\n",
              " 'PHI/output_parsed/CIRB.csv',\n",
              " 'PHI/output_parsed/CIL-III.csv',\n",
              " 'PHI/output_parsed/CIJud.-II.csv',\n",
              " 'PHI/output_parsed/CIG.csv',\n",
              " 'PHI/output_parsed/CID.csv',\n",
              " 'PHI/output_parsed/CEG.csv',\n",
              " 'PHI/output_parsed/CCET.csv',\n",
              " 'PHI/output_parsed/ByzantologSynedr-9-1953.csv',\n",
              " 'PHI/output_parsed/Byzantion.csv',\n",
              " 'PHI/output_parsed/Buresch--Aus-Lydien.csv',\n",
              " 'PHI/output_parsed/Budde--Ant.Mosaiken-I.csv',\n",
              " 'PHI/output_parsed/Brun-mid--Inschriften.csv',\n",
              " 'PHI/output_parsed/Brixhe--Dial.gr.Pamph..csv',\n",
              " 'PHI/output_parsed/Breccia--Alexandria-Mus..csv',\n",
              " 'PHI/output_parsed/Bosnakis--Epigraphes.csv',\n",
              " 'PHI/output_parsed/Bosch--Quellen-Ankara.csv',\n",
              " 'PHI/output_parsed/BollArte.csv',\n",
              " 'PHI/output_parsed/Boesch--Theoros.csv',\n",
              " 'PHI/output_parsed/Blaundos.csv',\n",
              " 'PHI/output_parsed/Bile--Dialecte.csv',\n",
              " 'PHI/output_parsed/Bettarini--Defixiones.csv',\n",
              " 'PHI/output_parsed/Berytus.csv',\n",
              " 'PHI/output_parsed/Bernand--Mus.-du-Louvre.csv',\n",
              " 'PHI/output_parsed/Bernand--Inscr.-M-tr..csv',\n",
              " 'PHI/output_parsed/Benndorf-Niemann--Reisen-I.csv',\n",
              " 'PHI/output_parsed/Benndorf-Niemann--Heroon.csv',\n",
              " 'PHI/output_parsed/Belleten.csv',\n",
              " 'PHI/output_parsed/Bees--Inschriftenaufzeichnung.csv',\n",
              " 'PHI/output_parsed/Bean-Mitford--Journeys-1964-68.csv',\n",
              " 'PHI/output_parsed/Bean-Mitford--Journeys-1962-63.csv',\n",
              " 'PHI/output_parsed/Bean--Journeys-1965-1967.csv',\n",
              " 'PHI/output_parsed/BdI.csv',\n",
              " 'PHI/output_parsed/BasZeit.csv',\n",
              " 'PHI/output_parsed/Bargylia.csv',\n",
              " 'PHI/output_parsed/Bandy.csv',\n",
              " 'PHI/output_parsed/BSAF.csv',\n",
              " 'PHI/output_parsed/BSAAlex.csv',\n",
              " 'PHI/output_parsed/BPhW.csv',\n",
              " 'PHI/output_parsed/BP.csv',\n",
              " 'PHI/output_parsed/BNGJ.csv',\n",
              " 'PHI/output_parsed/BMusImp.csv',\n",
              " 'PHI/output_parsed/BMBeyrouth.csv',\n",
              " 'PHI/output_parsed/BE.csv',\n",
              " 'PHI/output_parsed/BCH.csv',\n",
              " 'PHI/output_parsed/BCH-Suppl..csv',\n",
              " 'PHI/output_parsed/BASP.csv',\n",
              " 'PHI/output_parsed/BABesch.csv',\n",
              " 'PHI/output_parsed/Axenidis--Pelasgis-Larisa.csv',\n",
              " 'PHI/output_parsed/AvP-VII-2.csv',\n",
              " 'PHI/output_parsed/AvP-II.csv',\n",
              " 'PHI/output_parsed/Audollent--Defix.-Tab..csv',\n",
              " 'PHI/output_parsed/Attouda.csv',\n",
              " 'PHI/output_parsed/Ath-naion.csv',\n",
              " 'PHI/output_parsed/Ath-na.csv',\n",
              " 'PHI/output_parsed/Ath-na-ka.csv',\n",
              " 'PHI/output_parsed/Asdracha--Inscr.-Byz..csv',\n",
              " 'PHI/output_parsed/Archaeology.csv',\n",
              " 'PHI/output_parsed/ArchPap.csv',\n",
              " 'PHI/output_parsed/ArchIug.csv',\n",
              " 'PHI/output_parsed/ArchEph.csv',\n",
              " 'PHI/output_parsed/ArchCl.csv',\n",
              " 'PHI/output_parsed/ArchByzMnHell.csv',\n",
              " 'PHI/output_parsed/Arch.-Epigr.-Thessalonikes.csv',\n",
              " 'PHI/output_parsed/Apollonia-Salbake.csv',\n",
              " 'PHI/output_parsed/Aphrodisias.csv',\n",
              " 'PHI/output_parsed/AnzWien.csv',\n",
              " 'PHI/output_parsed/Antonin--Poiezdka.csv',\n",
              " 'PHI/output_parsed/Antich.-Ist.-i-Kult..csv',\n",
              " 'PHI/output_parsed/Anth.Gr..csv',\n",
              " 'PHI/output_parsed/AntTard.csv',\n",
              " 'PHI/output_parsed/AntKunst.csv',\n",
              " 'PHI/output_parsed/AntCl.csv',\n",
              " 'PHI/output_parsed/Ann-p.csv',\n",
              " 'PHI/output_parsed/Andronikos--Vergina.csv',\n",
              " 'PHI/output_parsed/Ancient-Cos.csv',\n",
              " 'PHI/output_parsed/Anc.-Macedonia.csv',\n",
              " 'PHI/output_parsed/AnalBoll.csv',\n",
              " 'PHI/output_parsed/AnIsl.csv',\n",
              " 'PHI/output_parsed/Amyzon.csv',\n",
              " 'PHI/output_parsed/Amnisos.csv',\n",
              " 'PHI/output_parsed/Alt.v.Hierapolis.csv',\n",
              " 'PHI/output_parsed/Alt.-von-Aegae.csv',\n",
              " 'PHI/output_parsed/Aleshire--Ath.-Asklepieion.csv',\n",
              " 'PHI/output_parsed/Albania.csv',\n",
              " 'PHI/output_parsed/Albania-Antica-3.csv',\n",
              " 'PHI/output_parsed/Albania-Antica-2.csv',\n",
              " 'PHI/output_parsed/Albania-Antica-1.csv']"
            ]
          },
          "metadata": {
            "tags": []
          },
          "execution_count": 12
        }
      ]
    },
    {
      "cell_type": "code",
      "metadata": {
        "id": "bEt5zzq2m8TP",
        "colab_type": "code",
        "colab": {}
      },
      "source": [
        ""
      ],
      "execution_count": 0,
      "outputs": []
    }
  ]
}