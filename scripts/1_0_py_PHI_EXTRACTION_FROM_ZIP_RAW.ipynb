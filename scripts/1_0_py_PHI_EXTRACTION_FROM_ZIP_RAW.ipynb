{
  "nbformat": 4,
  "nbformat_minor": 0,
  "metadata": {
    "colab": {
      "name": "1_0_py_PHI_EXTRACTION_FROM_ZIP_RAW.ipynb",
      "provenance": [],
      "authorship_tag": "ABX9TyOJHNj6LZ3AD/UHc/pL0hyj",
      "include_colab_link": true
    },
    "kernelspec": {
      "name": "python3",
      "display_name": "Python 3"
    }
  },
  "cells": [
    {
      "cell_type": "markdown",
      "metadata": {
        "id": "view-in-github",
        "colab_type": "text"
      },
      "source": [
        "<a href=\"https://colab.research.google.com/github/sdam-au/PHI_ETL/blob/master/scripts/1_0_py_PHI_EXTRACTION_FROM_ZIP_RAW.ipynb\" target=\"_parent\"><img src=\"https://colab.research.google.com/assets/colab-badge.svg\" alt=\"Open In Colab\"/></a>"
      ]
    },
    {
      "cell_type": "code",
      "metadata": {
        "id": "JcNeUMCflzF8",
        "colab_type": "code",
        "colab": {}
      },
      "source": [
        "import numpy as np\n",
        "import math\n",
        "import pandas as pd\n",
        "\n",
        "import sys\n",
        "### we do a lot of requests during the scrapping. Some of them with requests package, some of them with urllib\n",
        "import requests\n",
        "from urllib.request import urlopen \n",
        "from urllib.parse import quote  \n",
        "from bs4 import BeautifulSoup\n",
        "import xml.etree.cElementTree as ET\n",
        "\n",
        "import zipfile\n",
        "import io\n",
        "\n",
        "# to avoid errors, we sometime use time.sleep(N) before retrying a request\n",
        "import time\n",
        "# the input data have typically a json structure\n",
        "import json\n",
        "import getpass\n",
        "\n",
        "import datetime as dt\n",
        "# for simple paralel computing:\n",
        "from concurrent.futures import ThreadPoolExecutor\n",
        "\n",
        "import gspread\n",
        "from gspread_dataframe import get_as_dataframe, set_with_dataframe"
      ],
      "execution_count": 0,
      "outputs": []
    },
    {
      "cell_type": "code",
      "metadata": {
        "id": "Z7ev1FnpnGk4",
        "colab_type": "code",
        "outputId": "120f7678-6b25-49af-d199-26cfeb49cc90",
        "colab": {
          "base_uri": "https://localhost:8080/",
          "height": 340
        }
      },
      "source": [
        "!pip install sddk\n",
        "import sddk"
      ],
      "execution_count": 2,
      "outputs": [
        {
          "output_type": "stream",
          "text": [
            "Collecting sddk\n",
            "  Downloading https://files.pythonhosted.org/packages/bf/96/3ae43f2d8ac06fc16ba111916970e5a1f3b96a3e41732fa3f099e2e5cd1c/sddk-2.6-py3-none-any.whl\n",
            "Requirement already satisfied: requests in /usr/local/lib/python3.6/dist-packages (from sddk) (2.23.0)\n",
            "Requirement already satisfied: numpy in /usr/local/lib/python3.6/dist-packages (from sddk) (1.18.4)\n",
            "Requirement already satisfied: pyarrow in /usr/local/lib/python3.6/dist-packages (from sddk) (0.14.1)\n",
            "Requirement already satisfied: matplotlib in /usr/local/lib/python3.6/dist-packages (from sddk) (3.2.1)\n",
            "Requirement already satisfied: pandas in /usr/local/lib/python3.6/dist-packages (from sddk) (1.0.3)\n",
            "Requirement already satisfied: chardet<4,>=3.0.2 in /usr/local/lib/python3.6/dist-packages (from requests->sddk) (3.0.4)\n",
            "Requirement already satisfied: idna<3,>=2.5 in /usr/local/lib/python3.6/dist-packages (from requests->sddk) (2.9)\n",
            "Requirement already satisfied: certifi>=2017.4.17 in /usr/local/lib/python3.6/dist-packages (from requests->sddk) (2020.4.5.1)\n",
            "Requirement already satisfied: urllib3!=1.25.0,!=1.25.1,<1.26,>=1.21.1 in /usr/local/lib/python3.6/dist-packages (from requests->sddk) (1.24.3)\n",
            "Requirement already satisfied: six>=1.0.0 in /usr/local/lib/python3.6/dist-packages (from pyarrow->sddk) (1.12.0)\n",
            "Requirement already satisfied: pyparsing!=2.0.4,!=2.1.2,!=2.1.6,>=2.0.1 in /usr/local/lib/python3.6/dist-packages (from matplotlib->sddk) (2.4.7)\n",
            "Requirement already satisfied: cycler>=0.10 in /usr/local/lib/python3.6/dist-packages (from matplotlib->sddk) (0.10.0)\n",
            "Requirement already satisfied: python-dateutil>=2.1 in /usr/local/lib/python3.6/dist-packages (from matplotlib->sddk) (2.8.1)\n",
            "Requirement already satisfied: kiwisolver>=1.0.1 in /usr/local/lib/python3.6/dist-packages (from matplotlib->sddk) (1.2.0)\n",
            "Requirement already satisfied: pytz>=2017.2 in /usr/local/lib/python3.6/dist-packages (from pandas->sddk) (2018.9)\n",
            "Installing collected packages: sddk\n",
            "Successfully installed sddk-2.6\n"
          ],
          "name": "stdout"
        }
      ]
    },
    {
      "cell_type": "code",
      "metadata": {
        "id": "MhnThoX5kUKs",
        "colab_type": "code",
        "outputId": "004a55fd-56a3-491a-a67b-7f45dd9e5c14",
        "colab": {
          "base_uri": "https://localhost:8080/",
          "height": 85
        }
      },
      "source": [
        "conf = sddk.configure(\"SDAM_root\", \"648597@au.dk\")"
      ],
      "execution_count": 3,
      "outputs": [
        {
          "output_type": "stream",
          "text": [
            "sciencedata.dk username (format '123456@au.dk'): 648597@au.dk\n",
            "sciencedata.dk password: ··········\n",
            "connection with shared folder established with you as its owner\n",
            "endpoint variable has been configured to: https://sciencedata.dk/files/SDAM_root/\n"
          ],
          "name": "stdout"
        }
      ]
    },
    {
      "cell_type": "code",
      "metadata": {
        "id": "zlnRKA5TWxck",
        "colab_type": "code",
        "colab": {}
      },
      "source": [
        "### authorize google sheets\n",
        "from google.colab import auth\n",
        "auth.authenticate_user()\n",
        "from oauth2client.client import GoogleCredentials\n",
        "gc = gspread.authorize(GoogleCredentials.get_application_default())\n",
        "# establish connection with particular sheet by its url:\n",
        "PHI_overview = gc.open_by_url(\"https://docs.google.com/spreadsheets/d/1zfTw0Hf304maBmrYvaMxRLnv1zfAVFixrtGTTsLCcT4/edit?usp=sharing\")"
      ],
      "execution_count": 0,
      "outputs": []
    },
    {
      "cell_type": "markdown",
      "metadata": {
        "id": "q3mnCgRBxXWL",
        "colab_type": "text"
      },
      "source": [
        "# Extract the data from a zipfile on sciencedata.dk\n"
      ]
    },
    {
      "cell_type": "code",
      "metadata": {
        "id": "pdedljlMl4Ps",
        "colab_type": "code",
        "colab": {}
      },
      "source": [
        "### to get the zip file into a response\n",
        "response = conf[0].get(conf[1] + \"SDAM_data/PHI/PHI_Petra.zip\")"
      ],
      "execution_count": 0,
      "outputs": []
    },
    {
      "cell_type": "code",
      "metadata": {
        "id": "IlO0dmDommBM",
        "colab_type": "code",
        "outputId": "a1b8f7af-3fee-4f3c-e5e1-3c4140fa46d0",
        "colab": {
          "base_uri": "https://localhost:8080/",
          "height": 34
        }
      },
      "source": [
        "### check that the response is functional\n",
        "response"
      ],
      "execution_count": 5,
      "outputs": [
        {
          "output_type": "execute_result",
          "data": {
            "text/plain": [
              "<Response [200]>"
            ]
          },
          "metadata": {
            "tags": []
          },
          "execution_count": 5
        }
      ]
    },
    {
      "cell_type": "code",
      "metadata": {
        "id": "sgx9V__kmaEd",
        "colab_type": "code",
        "outputId": "9e576be3-4d70-46d2-b123-9f57702e4548",
        "colab": {
          "base_uri": "https://localhost:8080/",
          "height": 51
        }
      },
      "source": [
        "%%time\n",
        "zipped = zipfile.ZipFile(io.BytesIO(response.content))"
      ],
      "execution_count": 6,
      "outputs": [
        {
          "output_type": "stream",
          "text": [
            "CPU times: user 37.8 ms, sys: 4.37 ms, total: 42.2 ms\n",
            "Wall time: 43.2 ms\n"
          ],
          "name": "stdout"
        }
      ]
    },
    {
      "cell_type": "code",
      "metadata": {
        "id": "WfD_e7GRmj8Z",
        "colab_type": "code",
        "outputId": "43c78571-0b68-47c3-de38-b5b572e3fb2b",
        "colab": {
          "base_uri": "https://localhost:8080/",
          "height": 34
        }
      },
      "source": [
        "# how many files we have?\n",
        "namelist = zipped.namelist()[1:] ### index \"0\" is for main directory\n",
        "len(namelist)"
      ],
      "execution_count": 7,
      "outputs": [
        {
          "output_type": "execute_result",
          "data": {
            "text/plain": [
              "3363"
            ]
          },
          "metadata": {
            "tags": []
          },
          "execution_count": 7
        }
      ]
    },
    {
      "cell_type": "code",
      "metadata": {
        "id": "-FRHto4amtW1",
        "colab_type": "code",
        "outputId": "028a721b-237e-4f2d-ebc4-b77b709c6eee",
        "colab": {
          "base_uri": "https://localhost:8080/",
          "height": 34
        }
      },
      "source": [
        "namelist = [name for name in namelist if not \"._\" in name]\n",
        "namelist = [name for name in namelist if  \".csv\" in name]\n",
        "namelist = [name for name in namelist if  \"output_raw\" in name]\n",
        "len(namelist)"
      ],
      "execution_count": 8,
      "outputs": [
        {
          "output_type": "execute_result",
          "data": {
            "text/plain": [
              "742"
            ]
          },
          "metadata": {
            "tags": []
          },
          "execution_count": 8
        }
      ]
    },
    {
      "cell_type": "markdown",
      "metadata": {
        "id": "qTgreFsb3agZ",
        "colab_type": "text"
      },
      "source": [
        "# Test with one file"
      ]
    },
    {
      "cell_type": "code",
      "metadata": {
        "id": "07l6FQCR1Fiu",
        "colab_type": "code",
        "colab": {}
      },
      "source": [
        "test = pd.read_csv(io.BytesIO(zipped.read(\"PHI/output_raw/CEG.csv\")), sep=\"@\")"
      ],
      "execution_count": 0,
      "outputs": []
    },
    {
      "cell_type": "code",
      "metadata": {
        "id": "3THVUyKW3WKX",
        "colab_type": "code",
        "outputId": "e09b3c79-cc7c-4d7c-9df0-d812cc535749",
        "colab": {
          "base_uri": "https://localhost:8080/",
          "height": 340
        }
      },
      "source": [
        "test.head()"
      ],
      "execution_count": 11,
      "outputs": [
        {
          "output_type": "execute_result",
          "data": {
            "text/html": [
              "<div>\n",
              "<style scoped>\n",
              "    .dataframe tbody tr th:only-of-type {\n",
              "        vertical-align: middle;\n",
              "    }\n",
              "\n",
              "    .dataframe tbody tr th {\n",
              "        vertical-align: top;\n",
              "    }\n",
              "\n",
              "    .dataframe thead th {\n",
              "        text-align: right;\n",
              "    }\n",
              "</style>\n",
              "<table border=\"1\" class=\"dataframe\">\n",
              "  <thead>\n",
              "    <tr style=\"text-align: right;\">\n",
              "      <th></th>\n",
              "      <th>URL</th>\n",
              "      <th>Book</th>\n",
              "      <th>Text</th>\n",
              "      <th>hdr1</th>\n",
              "      <th>hdr2</th>\n",
              "      <th>tildeinfo</th>\n",
              "      <th>note</th>\n",
              "      <th>lines</th>\n",
              "      <th>metadata</th>\n",
              "      <th>data</th>\n",
              "    </tr>\n",
              "  </thead>\n",
              "  <tbody>\n",
              "    <tr>\n",
              "      <th>0</th>\n",
              "      <td>/text/328151?location=1&amp;patt=&amp;bookid=303&amp;offse...</td>\n",
              "      <td>CEG</td>\n",
              "      <td>I 109</td>\n",
              "      <td>Regions</td>\n",
              "      <td>CEG\\nI 109</td>\n",
              "      <td>Boiotia — Tanagra — ca. 600 BC — IG VII 579 — ...</td>\n",
              "      <td>Funerary epigram for Dermys and Kitylos.  Lime...</td>\n",
              "      <td>5</td>\n",
              "      <td>i, left figure.1\\n\\nii, right figure.2\\n\\niii,...</td>\n",
              "      <td>Δέρμυς.\\n\\nΚιτύλος.\\n\\nἈμφάλκες ἔστασ’ ἐπὶ Κιτ...</td>\n",
              "    </tr>\n",
              "    <tr>\n",
              "      <th>1</th>\n",
              "      <td>/text/328152?location=1&amp;patt=&amp;bookid=303&amp;offse...</td>\n",
              "      <td>CEG</td>\n",
              "      <td>I 110</td>\n",
              "      <td>Regions</td>\n",
              "      <td>CEG\\nI 110</td>\n",
              "      <td>Boiotia — Haliartos (Kastri Maziou) — ca. 500 ...</td>\n",
              "      <td>Funerary epigram for Kallias, son of Aigisthos...</td>\n",
              "      <td>4</td>\n",
              "      <td>1\\n\\n\\n</td>\n",
              "      <td>Καλλία\\nΑἰγίθοιο {²⁶Αἰγίσθοιο}²⁶·\\nτὺ δ’ εὖ πρ...</td>\n",
              "    </tr>\n",
              "    <tr>\n",
              "      <th>2</th>\n",
              "      <td>/text/328153?location=1&amp;patt=&amp;bookid=303&amp;offse...</td>\n",
              "      <td>CEG</td>\n",
              "      <td>I 111</td>\n",
              "      <td>Regions</td>\n",
              "      <td>CEG\\nI 111</td>\n",
              "      <td>Boiotia — Tanagra — ca. 500 BC? — IG VII 3501 ...</td>\n",
              "      <td>Funerary epigram for Gathon.  Limestone tablet...</td>\n",
              "      <td>1</td>\n",
              "      <td>1</td>\n",
              "      <td>[π]αῖδες̣ ἐ̣[ποίεσ]α̣ν μ̣νᾶ̣μ̣’ ἐνθάδ̣[ε] πατρ...</td>\n",
              "    </tr>\n",
              "    <tr>\n",
              "      <th>3</th>\n",
              "      <td>/text/328154?location=1&amp;patt=&amp;bookid=303&amp;offse...</td>\n",
              "      <td>CEG</td>\n",
              "      <td>I 112</td>\n",
              "      <td>Regions</td>\n",
              "      <td>CEG\\nI 112</td>\n",
              "      <td>Boiotia — Thisbe — ca. 500 BC? — IG VII 2247 —...</td>\n",
              "      <td>Funerary epigram for Phanes.  Funerary stele. ...</td>\n",
              "      <td>2</td>\n",
              "      <td>1\\n</td>\n",
              "      <td>ἀσστοῖ[ς] καὶ χσένοισι Φάνες φίλος [ἐνθάδε κεῖ...</td>\n",
              "    </tr>\n",
              "    <tr>\n",
              "      <th>4</th>\n",
              "      <td>/text/328155?location=1&amp;patt=&amp;bookid=303&amp;offse...</td>\n",
              "      <td>CEG</td>\n",
              "      <td>I 113</td>\n",
              "      <td>Regions</td>\n",
              "      <td>CEG\\nI 113</td>\n",
              "      <td>Boiotia — Thespiai — Palaiopanagia — ca. 500-4...</td>\n",
              "      <td>Funerary epigram for Oligeides, son of Osthilo...</td>\n",
              "      <td>6</td>\n",
              "      <td>1\\n\\n\\n\\n5\\n</td>\n",
              "      <td>μνᾶμ’ ἐπ’ Ὀλιγέ-\\nδαι {ι} μ’ ὁ πατὲρ ἐ-\\nπέθεκ...</td>\n",
              "    </tr>\n",
              "  </tbody>\n",
              "</table>\n",
              "</div>"
            ],
            "text/plain": [
              "                                                 URL  ...                                               data\n",
              "0  /text/328151?location=1&patt=&bookid=303&offse...  ...  Δέρμυς.\\n\\nΚιτύλος.\\n\\nἈμφάλκες ἔστασ’ ἐπὶ Κιτ...\n",
              "1  /text/328152?location=1&patt=&bookid=303&offse...  ...  Καλλία\\nΑἰγίθοιο {²⁶Αἰγίσθοιο}²⁶·\\nτὺ δ’ εὖ πρ...\n",
              "2  /text/328153?location=1&patt=&bookid=303&offse...  ...  [π]αῖδες̣ ἐ̣[ποίεσ]α̣ν μ̣νᾶ̣μ̣’ ἐνθάδ̣[ε] πατρ...\n",
              "3  /text/328154?location=1&patt=&bookid=303&offse...  ...  ἀσστοῖ[ς] καὶ χσένοισι Φάνες φίλος [ἐνθάδε κεῖ...\n",
              "4  /text/328155?location=1&patt=&bookid=303&offse...  ...  μνᾶμ’ ἐπ’ Ὀλιγέ-\\nδαι {ι} μ’ ὁ πατὲρ ἐ-\\nπέθεκ...\n",
              "\n",
              "[5 rows x 10 columns]"
            ]
          },
          "metadata": {
            "tags": []
          },
          "execution_count": 11
        }
      ]
    },
    {
      "cell_type": "markdown",
      "metadata": {
        "id": "SAQImvXN3_pS",
        "colab_type": "text"
      },
      "source": [
        "# Extracting the whole dataset"
      ]
    },
    {
      "cell_type": "code",
      "metadata": {
        "id": "1QxUVaIb3s2j",
        "colab_type": "code",
        "colab": {}
      },
      "source": [
        "dfs_list = []\n",
        "for filename in namelist:\n",
        "  try:\n",
        "    df = pd.read_csv(io.BytesIO(zipped.read(filename)))\n",
        "    if len(df.columns)<9:\n",
        "      df = pd.read_csv(io.BytesIO(zipped.read(filename)), sep=\"@\")\n",
        "    if len(df.columns)<9:\n",
        "      print(filename)\n",
        "  except:\n",
        "    df = pd.read_csv(io.BytesIO(zipped.read(filename)), sep=\"@\")\n",
        "  df[\"filename\"] = filename.rpartition(\"/\")[2]\n",
        "  df[\"PHI_ID\"] = df.apply(lambda row: int(row[\"URL\"].partition(\"text/\")[2].partition(\"?\")[0]), axis=1)\n",
        "  dfs_list.append(df)"
      ],
      "execution_count": 0,
      "outputs": []
    },
    {
      "cell_type": "code",
      "metadata": {
        "id": "oZnbgCoq4UWW",
        "colab_type": "code",
        "outputId": "deaff229-5847-4fb7-da36-02e9f48e7476",
        "colab": {
          "base_uri": "https://localhost:8080/",
          "height": 34
        }
      },
      "source": [
        "PHI_raw = pd.concat(dfs_list)\n",
        "PHI_raw.shape"
      ],
      "execution_count": 75,
      "outputs": [
        {
          "output_type": "execute_result",
          "data": {
            "text/plain": [
              "(214995, 12)"
            ]
          },
          "metadata": {
            "tags": []
          },
          "execution_count": 75
        }
      ]
    },
    {
      "cell_type": "code",
      "metadata": {
        "id": "NqI8PmLjXt6g",
        "colab_type": "code",
        "colab": {
          "base_uri": "https://localhost:8080/",
          "height": 1000
        },
        "outputId": "8e83f627-4b12-4776-817c-01d20989bcce"
      },
      "source": [
        "PHI_raw.reset_index(inplace=True)\n",
        "PHI_raw.drop(\"index\", axis=1, inplace=True)\n",
        "PHI_raw"
      ],
      "execution_count": 76,
      "outputs": [
        {
          "output_type": "execute_result",
          "data": {
            "text/html": [
              "<div>\n",
              "<style scoped>\n",
              "    .dataframe tbody tr th:only-of-type {\n",
              "        vertical-align: middle;\n",
              "    }\n",
              "\n",
              "    .dataframe tbody tr th {\n",
              "        vertical-align: top;\n",
              "    }\n",
              "\n",
              "    .dataframe thead th {\n",
              "        text-align: right;\n",
              "    }\n",
              "</style>\n",
              "<table border=\"1\" class=\"dataframe\">\n",
              "  <thead>\n",
              "    <tr style=\"text-align: right;\">\n",
              "      <th></th>\n",
              "      <th>URL</th>\n",
              "      <th>Book</th>\n",
              "      <th>Text</th>\n",
              "      <th>hdr1</th>\n",
              "      <th>hdr2</th>\n",
              "      <th>tildeinfo</th>\n",
              "      <th>note</th>\n",
              "      <th>lines</th>\n",
              "      <th>metadata</th>\n",
              "      <th>data</th>\n",
              "      <th>filename</th>\n",
              "      <th>PHI_ID</th>\n",
              "    </tr>\n",
              "  </thead>\n",
              "  <tbody>\n",
              "    <tr>\n",
              "      <th>0</th>\n",
              "      <td>/text/237443?location=1365&amp;patt=&amp;bookid=411&amp;bo...</td>\n",
              "      <td>CSCA</td>\n",
              "      <td>5 (1972) 169,3</td>\n",
              "      <td>Regions\\nAttica (IG I-III)\\nAttica</td>\n",
              "      <td>CSCA\\n5 (1972) 169,3</td>\n",
              "      <td>Att. — Athens: Akropolis — stoich. 28 — 303/2 BC</td>\n",
              "      <td>NaN</td>\n",
              "      <td>4</td>\n",
              "      <td>1\\n\\n\\n</td>\n",
              "      <td>ἐπὶ Λε[ωστράτου ἄρχοντος ἐπὶ τῆς Κ]-\\nεκρο[πίδ...</td>\n",
              "      <td>CSCA.csv</td>\n",
              "      <td>237443</td>\n",
              "    </tr>\n",
              "    <tr>\n",
              "      <th>1</th>\n",
              "      <td>/text/237444?location=1365&amp;patt=&amp;bookid=411&amp;bo...</td>\n",
              "      <td>CSCA</td>\n",
              "      <td>5 (1972) 169,4</td>\n",
              "      <td>Regions\\nAttica (IG I-III)\\nAttica</td>\n",
              "      <td>CSCA\\n5 (1972) 169,4</td>\n",
              "      <td>Att. — Athens: EM — stoich. 35 — 306-302 BC</td>\n",
              "      <td>NaN</td>\n",
              "      <td>15</td>\n",
              "      <td>1\\n\\n\\n\\n5\\n\\n\\n\\n\\n10\\n\\n\\n\\n\\n15</td>\n",
              "      <td>[․]ομε̣[․․․․․․․․․․․․․28․․․․․․․․․․․․․ τῆς]\\nπρυ...</td>\n",
              "      <td>CSCA.csv</td>\n",
              "      <td>237444</td>\n",
              "    </tr>\n",
              "    <tr>\n",
              "      <th>2</th>\n",
              "      <td>/text/237445?location=1365&amp;patt=&amp;bookid=411&amp;bo...</td>\n",
              "      <td>CSCA</td>\n",
              "      <td>5 (1972) 173,5</td>\n",
              "      <td>Regions\\nAttica (IG I-III)\\nAttica</td>\n",
              "      <td>CSCA\\n5 (1972) 173,5</td>\n",
              "      <td>Att. — Athens — non-stoich.</td>\n",
              "      <td>NaN</td>\n",
              "      <td>16</td>\n",
              "      <td>1\\n\\n\\n\\n5\\n\\n\\n\\n\\n10\\n\\n\\n\\n\\n15\\n</td>\n",
              "      <td>— — — — —υτω․․․․11․․․․․\\n— — — — —ωντωι̣․․․․9․...</td>\n",
              "      <td>CSCA.csv</td>\n",
              "      <td>237445</td>\n",
              "    </tr>\n",
              "    <tr>\n",
              "      <th>3</th>\n",
              "      <td>/text/237446?location=1365&amp;patt=&amp;bookid=411&amp;bo...</td>\n",
              "      <td>CSCA</td>\n",
              "      <td>9 (1976) 9,4</td>\n",
              "      <td>Regions\\nAttica (IG I-III)\\nAttica</td>\n",
              "      <td>CSCA\\n9 (1976) 9,4</td>\n",
              "      <td>Att. — Athens: Eth.Mus. — 4th c. BC — SEG 26.1...</td>\n",
              "      <td>NaN</td>\n",
              "      <td>2</td>\n",
              "      <td>A.1\\nB.1</td>\n",
              "      <td>ψῆφος ⋮ δημοσία.\\nΔ  ․</td>\n",
              "      <td>CSCA.csv</td>\n",
              "      <td>237446</td>\n",
              "    </tr>\n",
              "    <tr>\n",
              "      <th>4</th>\n",
              "      <td>/text/237447?location=1365&amp;patt=&amp;bookid=411&amp;bo...</td>\n",
              "      <td>CSCA</td>\n",
              "      <td>9 (1976) 11,16</td>\n",
              "      <td>Regions\\nAttica (IG I-III)\\nAttica</td>\n",
              "      <td>CSCA\\n9 (1976) 11,16</td>\n",
              "      <td>Att. — Athens: Eth.Mus. — 4th c. BC — SEG 26.1...</td>\n",
              "      <td>NaN</td>\n",
              "      <td>2</td>\n",
              "      <td>A.1\\nB.1</td>\n",
              "      <td>ψῆφος ⋮ δημοσία.\\nΓ  Ε</td>\n",
              "      <td>CSCA.csv</td>\n",
              "      <td>237447</td>\n",
              "    </tr>\n",
              "    <tr>\n",
              "      <th>...</th>\n",
              "      <td>...</td>\n",
              "      <td>...</td>\n",
              "      <td>...</td>\n",
              "      <td>...</td>\n",
              "      <td>...</td>\n",
              "      <td>...</td>\n",
              "      <td>...</td>\n",
              "      <td>...</td>\n",
              "      <td>...</td>\n",
              "      <td>...</td>\n",
              "      <td>...</td>\n",
              "      <td>...</td>\n",
              "    </tr>\n",
              "    <tr>\n",
              "      <th>214990</th>\n",
              "      <td>/text/280102?location=1090&amp;patt=&amp;bookid=661&amp;of...</td>\n",
              "      <td>IK Prusias ad Hypium</td>\n",
              "      <td>164</td>\n",
              "      <td>Regions\\nAsia Minor\\nBithynia</td>\n",
              "      <td>IK Prusias ad Hypium\\n164</td>\n",
              "      <td>Bith. — Prusias ad Hypium (Üskübü)</td>\n",
              "      <td>NaN</td>\n",
              "      <td>2</td>\n",
              "      <td>1\\n</td>\n",
              "      <td>[— — —]#⁷ΣΙ[— — —]\\n[— — —]#⁷ τοῦ Ἀ̣[— — —]</td>\n",
              "      <td>IK-Prusias-ad-Hypium.csv</td>\n",
              "      <td>280102</td>\n",
              "    </tr>\n",
              "    <tr>\n",
              "      <th>214991</th>\n",
              "      <td>/text/280103?location=1090&amp;patt=&amp;bookid=661&amp;of...</td>\n",
              "      <td>IK Prusias ad Hypium</td>\n",
              "      <td>165</td>\n",
              "      <td>Regions\\nAsia Minor\\nBithynia</td>\n",
              "      <td>IK Prusias ad Hypium\\n165</td>\n",
              "      <td>Bith. — Prusias ad Hypium (Üskübü)</td>\n",
              "      <td>NaN</td>\n",
              "      <td>1</td>\n",
              "      <td>1</td>\n",
              "      <td>[— — — ]ΟΣΚΗ[— — —]</td>\n",
              "      <td>IK-Prusias-ad-Hypium.csv</td>\n",
              "      <td>280103</td>\n",
              "    </tr>\n",
              "    <tr>\n",
              "      <th>214992</th>\n",
              "      <td>/text/280104?location=1090&amp;patt=&amp;bookid=661&amp;of...</td>\n",
              "      <td>IK Prusias ad Hypium</td>\n",
              "      <td>166</td>\n",
              "      <td>Regions\\nAsia Minor\\nBithynia</td>\n",
              "      <td>IK Prusias ad Hypium\\n166</td>\n",
              "      <td>Bith. — Prusias ad Hypium (Üskübü)</td>\n",
              "      <td>NaN</td>\n",
              "      <td>1</td>\n",
              "      <td>1</td>\n",
              "      <td>[— — —]ΗΡΑ[— — —]</td>\n",
              "      <td>IK-Prusias-ad-Hypium.csv</td>\n",
              "      <td>280104</td>\n",
              "    </tr>\n",
              "    <tr>\n",
              "      <th>214993</th>\n",
              "      <td>/text/280105?location=1090&amp;patt=&amp;bookid=661&amp;of...</td>\n",
              "      <td>IK Prusias ad Hypium</td>\n",
              "      <td>167</td>\n",
              "      <td>Regions\\nAsia Minor\\nBithynia</td>\n",
              "      <td>IK Prusias ad Hypium\\n167</td>\n",
              "      <td>Bith. — Prusias ad Hypium (Üskübü)</td>\n",
              "      <td>NaN</td>\n",
              "      <td>1</td>\n",
              "      <td>1</td>\n",
              "      <td>[— — —]ΛΕΡ[— — —]</td>\n",
              "      <td>IK-Prusias-ad-Hypium.csv</td>\n",
              "      <td>280105</td>\n",
              "    </tr>\n",
              "    <tr>\n",
              "      <th>214994</th>\n",
              "      <td>/text/280106?location=1090&amp;patt=&amp;bookid=661&amp;of...</td>\n",
              "      <td>IK Prusias ad Hypium</td>\n",
              "      <td>168</td>\n",
              "      <td>Regions\\nAsia Minor\\nBithynia</td>\n",
              "      <td>IK Prusias ad Hypium\\n168</td>\n",
              "      <td>Bith. — Prusias ad Hypium (Üskübü)</td>\n",
              "      <td>NaN</td>\n",
              "      <td>3</td>\n",
              "      <td>1\\n\\n</td>\n",
              "      <td>— — —\\n[ἡ γ]ε̣ιτ[νία]-\\nσις</td>\n",
              "      <td>IK-Prusias-ad-Hypium.csv</td>\n",
              "      <td>280106</td>\n",
              "    </tr>\n",
              "  </tbody>\n",
              "</table>\n",
              "<p>214995 rows × 12 columns</p>\n",
              "</div>"
            ],
            "text/plain": [
              "                                                      URL  ...  PHI_ID\n",
              "0       /text/237443?location=1365&patt=&bookid=411&bo...  ...  237443\n",
              "1       /text/237444?location=1365&patt=&bookid=411&bo...  ...  237444\n",
              "2       /text/237445?location=1365&patt=&bookid=411&bo...  ...  237445\n",
              "3       /text/237446?location=1365&patt=&bookid=411&bo...  ...  237446\n",
              "4       /text/237447?location=1365&patt=&bookid=411&bo...  ...  237447\n",
              "...                                                   ...  ...     ...\n",
              "214990  /text/280102?location=1090&patt=&bookid=661&of...  ...  280102\n",
              "214991  /text/280103?location=1090&patt=&bookid=661&of...  ...  280103\n",
              "214992  /text/280104?location=1090&patt=&bookid=661&of...  ...  280104\n",
              "214993  /text/280105?location=1090&patt=&bookid=661&of...  ...  280105\n",
              "214994  /text/280106?location=1090&patt=&bookid=661&of...  ...  280106\n",
              "\n",
              "[214995 rows x 12 columns]"
            ]
          },
          "metadata": {
            "tags": []
          },
          "execution_count": 76
        }
      ]
    },
    {
      "cell_type": "code",
      "metadata": {
        "id": "FyP9-NDkac2g",
        "colab_type": "code",
        "colab": {
          "base_uri": "https://localhost:8080/",
          "height": 34
        },
        "outputId": "b7363bff-80df-4fad-b7f1-5276d113706f"
      },
      "source": [
        "sddk.write_file(\"SDAM_data/PHI/PHI_raw.json\", PHI_raw, conf)"
      ],
      "execution_count": 77,
      "outputs": [
        {
          "output_type": "stream",
          "text": [
            "Your <class 'pandas.core.frame.DataFrame'> object has been succefully written as \"https://sciencedata.dk/files/SDAM_root/SDAM_data/PHI/PHI_raw.json\"\n"
          ],
          "name": "stdout"
        }
      ]
    },
    {
      "cell_type": "code",
      "metadata": {
        "id": "1xSPZkmvYMT3",
        "colab_type": "code",
        "colab": {}
      },
      "source": [
        "PHI_raw_by_500 = PHI_raw[PHI_raw[\"PHI_ID\"].isin(range(1, 300000, 500))]"
      ],
      "execution_count": 0,
      "outputs": []
    },
    {
      "cell_type": "code",
      "metadata": {
        "id": "_7Wd-BN_YcXJ",
        "colab_type": "code",
        "colab": {
          "base_uri": "https://localhost:8080/",
          "height": 898
        },
        "outputId": "00e1e5ef-ad9a-4c70-92e8-e35b03d14d09"
      },
      "source": [
        "PHI_raw_by_500"
      ],
      "execution_count": 70,
      "outputs": [
        {
          "output_type": "execute_result",
          "data": {
            "text/html": [
              "<div>\n",
              "<style scoped>\n",
              "    .dataframe tbody tr th:only-of-type {\n",
              "        vertical-align: middle;\n",
              "    }\n",
              "\n",
              "    .dataframe tbody tr th {\n",
              "        vertical-align: top;\n",
              "    }\n",
              "\n",
              "    .dataframe thead th {\n",
              "        text-align: right;\n",
              "    }\n",
              "</style>\n",
              "<table border=\"1\" class=\"dataframe\">\n",
              "  <thead>\n",
              "    <tr style=\"text-align: right;\">\n",
              "      <th></th>\n",
              "      <th>URL</th>\n",
              "      <th>Book</th>\n",
              "      <th>Text</th>\n",
              "      <th>hdr1</th>\n",
              "      <th>hdr2</th>\n",
              "      <th>tildeinfo</th>\n",
              "      <th>note</th>\n",
              "      <th>lines</th>\n",
              "      <th>metadata</th>\n",
              "      <th>data</th>\n",
              "      <th>filename</th>\n",
              "      <th>PHI_ID</th>\n",
              "    </tr>\n",
              "  </thead>\n",
              "  <tbody>\n",
              "    <tr>\n",
              "      <th>315</th>\n",
              "      <td>/text/262001?location=1040&amp;patt=&amp;bookid=517&amp;of...</td>\n",
              "      <td>Panamara</td>\n",
              "      <td>316</td>\n",
              "      <td>Regions\\nAsia Minor\\nCaria</td>\n",
              "      <td>Panamara\\n316</td>\n",
              "      <td>IStr 427</td>\n",
              "      <td>NaN</td>\n",
              "      <td>2</td>\n",
              "      <td>1\\n</td>\n",
              "      <td>Διῒ Πανημέρῳ, κόμαι Εὐτύχεως· ἐπὶ ἱερέω[ς] Κλα...</td>\n",
              "      <td>Panamara.csv</td>\n",
              "      <td>262001</td>\n",
              "    </tr>\n",
              "    <tr>\n",
              "      <th>185</th>\n",
              "      <td>/text/266001?location=1673&amp;patt=&amp;bookid=587&amp;of...</td>\n",
              "      <td>St.Pont. III</td>\n",
              "      <td>110a</td>\n",
              "      <td>Regions\\nAsia Minor\\nPontus and Paphlagonia</td>\n",
              "      <td>St.Pont. III\\n110a</td>\n",
              "      <td>Pont. — Amasia — Rom. Imp. period</td>\n",
              "      <td>NaN</td>\n",
              "      <td>6</td>\n",
              "      <td>1\\n\\n\\n\\n5\\n</td>\n",
              "      <td>Αὐρ(ηλίῳ) Φιλο-\\nμούσῳ ❦\\nἀρχιάτρῳ\\nῬω[μᾶνα(?)...</td>\n",
              "      <td>St.Pont.-III.csv</td>\n",
              "      <td>266001</td>\n",
              "    </tr>\n",
              "    <tr>\n",
              "      <th>130</th>\n",
              "      <td>/text/231001?location=1365&amp;patt=&amp;bookid=394&amp;of...</td>\n",
              "      <td>Agora XV</td>\n",
              "      <td>130</td>\n",
              "      <td>Regions\\nAttica (IG I-III)\\nAttica</td>\n",
              "      <td>Agora XV\\n130</td>\n",
              "      <td>Att. — Athens: Agora — 220/19</td>\n",
              "      <td>NaN</td>\n",
              "      <td>149</td>\n",
              "      <td>1\\n\\n\\n\\n5\\n\\n\\n\\n\\n10\\n\\n\\n\\n\\n15\\n\\n\\n\\n\\n20...</td>\n",
              "      <td>ἐπὶ Μενεκράτου ἄρχοντος ἐπὶ τῆς Οἰνεῖδος ἕκτη-...</td>\n",
              "      <td>Agora-XV.csv</td>\n",
              "      <td>231001</td>\n",
              "    </tr>\n",
              "    <tr>\n",
              "      <th>317</th>\n",
              "      <td>/text/79501?location=126&amp;patt=&amp;bookid=23&amp;offse...</td>\n",
              "      <td>IG XII,8</td>\n",
              "      <td>311</td>\n",
              "      <td>Regions\\nAegean Islands, incl. Crete (IG XI-[X...</td>\n",
              "      <td>IG XII,8\\n311</td>\n",
              "      <td>Thasos</td>\n",
              "      <td>NaN</td>\n",
              "      <td>7</td>\n",
              "      <td>1\\n\\n\\n\\n5\\n\\n</td>\n",
              "      <td>Ἐπικράτης  Κτησιφῶντος\\nΠυθίων  Περιθύμου\\nΠίν...</td>\n",
              "      <td>IG-XII-8.csv</td>\n",
              "      <td>79501</td>\n",
              "    </tr>\n",
              "    <tr>\n",
              "      <th>164</th>\n",
              "      <td>/text/218501?location=1497&amp;patt=&amp;bookid=367&amp;of...</td>\n",
              "      <td>Koptos à Kosseir</td>\n",
              "      <td>163</td>\n",
              "      <td>Regions\\nEgypt, Nubia and Cyrenaïca\\nEgypt and...</td>\n",
              "      <td>Koptos à Kosseir\\n163</td>\n",
              "      <td>Eg. — el-Boueib</td>\n",
              "      <td>NaN</td>\n",
              "      <td>2</td>\n",
              "      <td>1\\n</td>\n",
              "      <td>Κάλχων̣\\nΠανὶ Χρ(υσόδωτηι).</td>\n",
              "      <td>Koptos---Kosseir.csv</td>\n",
              "      <td>218501</td>\n",
              "    </tr>\n",
              "    <tr>\n",
              "      <th>...</th>\n",
              "      <td>...</td>\n",
              "      <td>...</td>\n",
              "      <td>...</td>\n",
              "      <td>...</td>\n",
              "      <td>...</td>\n",
              "      <td>...</td>\n",
              "      <td>...</td>\n",
              "      <td>...</td>\n",
              "      <td>...</td>\n",
              "      <td>...</td>\n",
              "      <td>...</td>\n",
              "      <td>...</td>\n",
              "    </tr>\n",
              "    <tr>\n",
              "      <th>60</th>\n",
              "      <td>/text/220001?location=1497&amp;patt=&amp;bookid=376&amp;of...</td>\n",
              "      <td>Prose sur pierre</td>\n",
              "      <td>60</td>\n",
              "      <td>Regions\\nEgypt, Nubia and Cyrenaïca\\nEgypt and...</td>\n",
              "      <td>Prose sur pierre\\n60</td>\n",
              "      <td>Eg. — Alexandria (El Iskandariya) — 89-91 AD —...</td>\n",
              "      <td>NaN</td>\n",
              "      <td>23</td>\n",
              "      <td>I.1\\nII.2\\n\\n\\n5\\n\\nIII.7\\n\\n\\n10\\n\\n\\nIV.13\\n...</td>\n",
              "      <td>θεοῖς καταχθονίοις.\\nΠο[μπ]ηία Μοῦσα ἀνειέρωσε...</td>\n",
              "      <td>Prose-sur-pierre.csv</td>\n",
              "      <td>220001</td>\n",
              "    </tr>\n",
              "    <tr>\n",
              "      <th>7</th>\n",
              "      <td>/text/189501?location=473&amp;patt=&amp;bookid=252&amp;off...</td>\n",
              "      <td>IRT</td>\n",
              "      <td>264</td>\n",
              "      <td>Regions\\nNorth Africa\\nTripolitania</td>\n",
              "      <td>IRT\\n264</td>\n",
              "      <td>Tripolitania — Lepcis Magna (Lebda) — 3rd c. A...</td>\n",
              "      <td>NaN</td>\n",
              "      <td>13</td>\n",
              "      <td>a,pediment.1\\n\\nb,pilasters.1\\n\\n\\n\\n5\\n\\nc,ba...</td>\n",
              "      <td>ἀγαθῇ τύχῃ [τῶν κυ]ρίων\\nἈσσκληπιάδης {²⁶Ἀσκλη...</td>\n",
              "      <td>IRT.csv</td>\n",
              "      <td>189501</td>\n",
              "    </tr>\n",
              "    <tr>\n",
              "      <th>322</th>\n",
              "      <td>/text/299001?location=1237&amp;patt=&amp;bookid=736&amp;of...</td>\n",
              "      <td>IDR III,2</td>\n",
              "      <td>310</td>\n",
              "      <td>Regions\\nThrace and the Lower Danube (IG X)\\nD...</td>\n",
              "      <td>IDR III,2\\n310</td>\n",
              "      <td>Dacia Sup. — Ulpia Traiana-Sarmizegetusa — 2nd...</td>\n",
              "      <td>NaN</td>\n",
              "      <td>3</td>\n",
              "      <td>1\\n\\n</td>\n",
              "      <td>[— Au]rel(ius) S[— — — pro sal(ute) sua]\\n[et(...</td>\n",
              "      <td>IDR-III-2.csv</td>\n",
              "      <td>299001</td>\n",
              "    </tr>\n",
              "    <tr>\n",
              "      <th>180</th>\n",
              "      <td>/text/279001?location=1090&amp;patt=&amp;bookid=659&amp;of...</td>\n",
              "      <td>TAM IV,1</td>\n",
              "      <td>181</td>\n",
              "      <td>Regions\\nAsia Minor\\nBithynia</td>\n",
              "      <td>TAM IV,1\\n181</td>\n",
              "      <td>Bith. — Nikomedeia (Izmit)</td>\n",
              "      <td>NaN</td>\n",
              "      <td>3</td>\n",
              "      <td>1\\n\\n</td>\n",
              "      <td>— — — Ἀράβιος ὁ θεῖος μου κὲ Μ— — —\\n— — — Θεα...</td>\n",
              "      <td>TAM-IV-1.csv</td>\n",
              "      <td>279001</td>\n",
              "    </tr>\n",
              "    <tr>\n",
              "      <th>61</th>\n",
              "      <td>/text/280001?location=1090&amp;patt=&amp;bookid=661&amp;of...</td>\n",
              "      <td>IK Prusias ad Hypium</td>\n",
              "      <td>62</td>\n",
              "      <td>Regions\\nAsia Minor\\nBithynia</td>\n",
              "      <td>IK Prusias ad Hypium\\n62</td>\n",
              "      <td>Bith. — Prusias ad Hypium (Üskübü)</td>\n",
              "      <td>NaN</td>\n",
              "      <td>5</td>\n",
              "      <td>1\\n\\n\\n\\n5</td>\n",
              "      <td>Διὸς\\nΣωτῆρος\\nΓάιος Μενάνδρου\\nτὴν πλινθεῖδα ...</td>\n",
              "      <td>IK-Prusias-ad-Hypium.csv</td>\n",
              "      <td>280001</td>\n",
              "    </tr>\n",
              "  </tbody>\n",
              "</table>\n",
              "<p>324 rows × 12 columns</p>\n",
              "</div>"
            ],
            "text/plain": [
              "                                                   URL  ...  PHI_ID\n",
              "315  /text/262001?location=1040&patt=&bookid=517&of...  ...  262001\n",
              "185  /text/266001?location=1673&patt=&bookid=587&of...  ...  266001\n",
              "130  /text/231001?location=1365&patt=&bookid=394&of...  ...  231001\n",
              "317  /text/79501?location=126&patt=&bookid=23&offse...  ...   79501\n",
              "164  /text/218501?location=1497&patt=&bookid=367&of...  ...  218501\n",
              "..                                                 ...  ...     ...\n",
              "60   /text/220001?location=1497&patt=&bookid=376&of...  ...  220001\n",
              "7    /text/189501?location=473&patt=&bookid=252&off...  ...  189501\n",
              "322  /text/299001?location=1237&patt=&bookid=736&of...  ...  299001\n",
              "180  /text/279001?location=1090&patt=&bookid=659&of...  ...  279001\n",
              "61   /text/280001?location=1090&patt=&bookid=661&of...  ...  280001\n",
              "\n",
              "[324 rows x 12 columns]"
            ]
          },
          "metadata": {
            "tags": []
          },
          "execution_count": 70
        }
      ]
    },
    {
      "cell_type": "code",
      "metadata": {
        "id": "1M4U9AJBYh8r",
        "colab_type": "code",
        "colab": {}
      },
      "source": [
        "set_with_dataframe(PHI_overview.add_worksheet(\"PHI_raw_by_500\", 1, 1), PHI_raw_by_500)"
      ],
      "execution_count": 0,
      "outputs": []
    },
    {
      "cell_type": "markdown",
      "metadata": {
        "id": "3MTZSSU4akwu",
        "colab_type": "text"
      },
      "source": [
        "# Exporting list of inscriptions\n"
      ]
    },
    {
      "cell_type": "code",
      "metadata": {
        "id": "1yK_pGVFaphf",
        "colab_type": "code",
        "colab": {}
      },
      "source": [
        "PHI = sddk.read_file(\"SDAM_data/PHI/PHI_raw.json\", \"df\", conf)"
      ],
      "execution_count": 0,
      "outputs": []
    },
    {
      "cell_type": "code",
      "metadata": {
        "id": "ipCGK_F1aqmP",
        "colab_type": "code",
        "outputId": "c0592ef5-9392-47b3-96f4-4b11aa2e94dd",
        "colab": {
          "base_uri": "https://localhost:8080/",
          "height": 54
        }
      },
      "source": [
        "inscriptions_list = [int(url.partition(\"text/\")[2].partition(\"?\")[0]) for url in  PHI[\"URL\"]]\n",
        "print(inscriptions_list[:100])"
      ],
      "execution_count": 0,
      "outputs": [
        {
          "output_type": "stream",
          "text": [
            "[237766, 237767, 237768, 237769, 237770, 237771, 237772, 237773, 237774, 237775, 237776, 237777, 237778, 237779, 237780, 237781, 237782, 237783, 237784, 237785, 237786, 237787, 237788, 237789, 237790, 237791, 237792, 237793, 237794, 237795, 237796, 237797, 237798, 237799, 237800, 237801, 237802, 237803, 237804, 237805, 237806, 237807, 237808, 237809, 237810, 237811, 237812, 190454, 190455, 190457, 190458, 190459, 190460, 190461, 190462, 190463, 190464, 190465, 190466, 190467, 190468, 190469, 190470, 190471, 190472, 190473, 190474, 190475, 190476, 190477, 190478, 190479, 190480, 190481, 190482, 190483, 190484, 190485, 190486, 190487, 190488, 190489, 190490, 190491, 190492, 190493, 190494, 190495, 190496, 190497, 190498, 190499, 190500, 190501, 190502, 186278, 190503, 190504, 190505, 190506]\n"
          ],
          "name": "stdout"
        }
      ]
    },
    {
      "cell_type": "code",
      "metadata": {
        "id": "6_5Tq7KJc7MS",
        "colab_type": "code",
        "colab": {}
      },
      "source": [
        "PHI[\"inscription ID\"] = inscriptions_list"
      ],
      "execution_count": 0,
      "outputs": []
    },
    {
      "cell_type": "code",
      "metadata": {
        "id": "iuXrPObUdHWe",
        "colab_type": "code",
        "outputId": "cff3c1f2-0642-42ad-db00-10775d329500",
        "colab": {
          "base_uri": "https://localhost:8080/",
          "height": 634
        }
      },
      "source": [
        "PHI.sort_values(\"inscription ID\").head(10)"
      ],
      "execution_count": 0,
      "outputs": [
        {
          "output_type": "execute_result",
          "data": {
            "text/html": [
              "<div>\n",
              "<style scoped>\n",
              "    .dataframe tbody tr th:only-of-type {\n",
              "        vertical-align: middle;\n",
              "    }\n",
              "\n",
              "    .dataframe tbody tr th {\n",
              "        vertical-align: top;\n",
              "    }\n",
              "\n",
              "    .dataframe thead th {\n",
              "        text-align: right;\n",
              "    }\n",
              "</style>\n",
              "<table border=\"1\" class=\"dataframe\">\n",
              "  <thead>\n",
              "    <tr style=\"text-align: right;\">\n",
              "      <th></th>\n",
              "      <th>URL</th>\n",
              "      <th>Book</th>\n",
              "      <th>Text</th>\n",
              "      <th>hdr1</th>\n",
              "      <th>hdr2</th>\n",
              "      <th>tildeinfo</th>\n",
              "      <th>note</th>\n",
              "      <th>lines</th>\n",
              "      <th>metadata</th>\n",
              "      <th>data</th>\n",
              "      <th>region</th>\n",
              "      <th>stoich</th>\n",
              "      <th>sinistr</th>\n",
              "      <th>subregion</th>\n",
              "      <th>date</th>\n",
              "      <th>other_info_0</th>\n",
              "      <th>other_info_1</th>\n",
              "      <th>other_info_2</th>\n",
              "      <th>other_info_3</th>\n",
              "      <th>other_info_4</th>\n",
              "      <th>inscription ID</th>\n",
              "    </tr>\n",
              "  </thead>\n",
              "  <tbody>\n",
              "    <tr>\n",
              "      <th>107154</th>\n",
              "      <td>/text/1754?location=1365&amp;patt=&amp;bookid=3&amp;bookid...</td>\n",
              "      <td>IG I²</td>\n",
              "      <td>165</td>\n",
              "      <td>Regions\\nAttica (IG I-III)\\nAttica</td>\n",
              "      <td>IG I² 165</td>\n",
              "      <td>None</td>\n",
              "      <td>None</td>\n",
              "      <td>12.0</td>\n",
              "      <td>1\\n\\n\\n\\n5\\n\\n\\n\\n\\n10\\n\\n</td>\n",
              "      <td>․․5․․οτο— — —\\n— — —\\n— — —\\n․․․ρτ— — —\\n․․ν ℎ...</td>\n",
              "      <td>Att.</td>\n",
              "      <td>None</td>\n",
              "      <td>None</td>\n",
              "      <td>Ath.: Od.Evangelistrias?</td>\n",
              "      <td>c. 2nd ac</td>\n",
              "      <td>c. 2nd ac</td>\n",
              "      <td>IG I³, p.972</td>\n",
              "      <td>None</td>\n",
              "      <td>None</td>\n",
              "      <td>None</td>\n",
              "      <td>1754</td>\n",
              "    </tr>\n",
              "    <tr>\n",
              "      <th>107155</th>\n",
              "      <td>/text/1755?location=1365&amp;patt=&amp;bookid=3&amp;bookid...</td>\n",
              "      <td>IG I²</td>\n",
              "      <td>185a</td>\n",
              "      <td>Regions\\nAttica (IG I-III)\\nAttica</td>\n",
              "      <td>IG I² 185a</td>\n",
              "      <td>None</td>\n",
              "      <td>None</td>\n",
              "      <td>5.0</td>\n",
              "      <td>1\\n\\n\\n\\n5</td>\n",
              "      <td>— — —․․5․․ο ℎεκαστ․․․— — —\\n— — —․․․․λακες μὲ ...</td>\n",
              "      <td>Att.</td>\n",
              "      <td>None</td>\n",
              "      <td>None</td>\n",
              "      <td>prov.?</td>\n",
              "      <td>None</td>\n",
              "      <td>forgery?</td>\n",
              "      <td>IG I³, p.972</td>\n",
              "      <td>None</td>\n",
              "      <td>None</td>\n",
              "      <td>None</td>\n",
              "      <td>1755</td>\n",
              "    </tr>\n",
              "    <tr>\n",
              "      <th>107156</th>\n",
              "      <td>/text/1756?location=1365&amp;patt=&amp;bookid=3&amp;bookid...</td>\n",
              "      <td>IG I²</td>\n",
              "      <td>400,Ib</td>\n",
              "      <td>Regions\\nAttica (IG I-III)\\nAttica</td>\n",
              "      <td>IG I² 400,Ib</td>\n",
              "      <td>None</td>\n",
              "      <td>None</td>\n",
              "      <td>3.0</td>\n",
              "      <td>1\\n\\n</td>\n",
              "      <td>ℎοι ℎιππῆς ἀπὸ το͂ν πολεμίον ℎιππαρχ[όν]-\\n[το...</td>\n",
              "      <td>Att.</td>\n",
              "      <td>None</td>\n",
              "      <td>None</td>\n",
              "      <td>Ath.: Akr.</td>\n",
              "      <td>None</td>\n",
              "      <td>early imp.</td>\n",
              "      <td>DAA 135a</td>\n",
              "      <td>None</td>\n",
              "      <td>None</td>\n",
              "      <td>None</td>\n",
              "      <td>1756</td>\n",
              "    </tr>\n",
              "    <tr>\n",
              "      <th>107157</th>\n",
              "      <td>/text/1757?location=1365&amp;patt=&amp;bookid=3&amp;bookid...</td>\n",
              "      <td>IG I²</td>\n",
              "      <td>400,II</td>\n",
              "      <td>Regions\\nAttica (IG I-III)\\nAttica</td>\n",
              "      <td>IG I² 400,II</td>\n",
              "      <td>None</td>\n",
              "      <td>None</td>\n",
              "      <td>3.0</td>\n",
              "      <td>1\\n\\n</td>\n",
              "      <td>[ℎοι ℎι]π̣π̣ῆ̣[ς ⋮ ἀπὸ] το͂ν ⋮ π[ολ]ε[μί]ον ⋮ ...</td>\n",
              "      <td>Att.</td>\n",
              "      <td>None</td>\n",
              "      <td>None</td>\n",
              "      <td>Ath.: Akr.</td>\n",
              "      <td>None</td>\n",
              "      <td>early imp.</td>\n",
              "      <td>DAA 135b</td>\n",
              "      <td>None</td>\n",
              "      <td>None</td>\n",
              "      <td>None</td>\n",
              "      <td>1757</td>\n",
              "    </tr>\n",
              "    <tr>\n",
              "      <th>107158</th>\n",
              "      <td>/text/1758?location=1365&amp;patt=&amp;bookid=3&amp;bookid...</td>\n",
              "      <td>IG I²</td>\n",
              "      <td>503,adn</td>\n",
              "      <td>Regions\\nAttica (IG I-III)\\nAttica</td>\n",
              "      <td>IG I² 503,adn</td>\n",
              "      <td>None</td>\n",
              "      <td>None</td>\n",
              "      <td>2.0</td>\n",
              "      <td>1\\n</td>\n",
              "      <td>[–⏕—]δες ἀ[νέθεκε]\\n[Διὸς κ]ρατερό[φρονι παιδί].</td>\n",
              "      <td>Att.</td>\n",
              "      <td>None</td>\n",
              "      <td>None</td>\n",
              "      <td>Ath.: Akr.</td>\n",
              "      <td>c. 500-490? BC</td>\n",
              "      <td>[pottery]</td>\n",
              "      <td>c. 500-490? BC</td>\n",
              "      <td>Vasen.Akr. I.2570</td>\n",
              "      <td>None</td>\n",
              "      <td>None</td>\n",
              "      <td>1758</td>\n",
              "    </tr>\n",
              "    <tr>\n",
              "      <th>107159</th>\n",
              "      <td>/text/1759?location=1365&amp;patt=&amp;bookid=3&amp;bookid...</td>\n",
              "      <td>IG I²</td>\n",
              "      <td>522</td>\n",
              "      <td>Regions\\nAttica (IG I-III)\\nAttica</td>\n",
              "      <td>IG I² 522</td>\n",
              "      <td>None</td>\n",
              "      <td>None</td>\n",
              "      <td>2.0</td>\n",
              "      <td>\\n1</td>\n",
              "      <td>— — —\\nἄνδρες ἐποίεσαν σοφίαισιν καλὸν ἄγαλμα.</td>\n",
              "      <td>Att.</td>\n",
              "      <td>None</td>\n",
              "      <td>None</td>\n",
              "      <td>Ath.: Akr.</td>\n",
              "      <td>None</td>\n",
              "      <td>[pottery]</td>\n",
              "      <td>end 6th BC</td>\n",
              "      <td>Vasen.Akr. II.1348</td>\n",
              "      <td>None</td>\n",
              "      <td>None</td>\n",
              "      <td>1759</td>\n",
              "    </tr>\n",
              "    <tr>\n",
              "      <th>107160</th>\n",
              "      <td>/text/1760?location=1365&amp;patt=&amp;bookid=3&amp;bookid...</td>\n",
              "      <td>IG I²</td>\n",
              "      <td>561</td>\n",
              "      <td>Regions\\nAttica (IG I-III)\\nAttica</td>\n",
              "      <td>IG I² 561</td>\n",
              "      <td>None</td>\n",
              "      <td>None</td>\n",
              "      <td>4.0</td>\n",
              "      <td>\\n1\\n\\n</td>\n",
              "      <td>— — —\\nἈχαρνέος θυγάτη̣[ρ]\\nἈθηναίαι Ἐργάνηι\\n...</td>\n",
              "      <td>Att.</td>\n",
              "      <td>stoich. 15</td>\n",
              "      <td>None</td>\n",
              "      <td>Ath.: Akr.</td>\n",
              "      <td>4th c. BC</td>\n",
              "      <td>4th c. BC</td>\n",
              "      <td>IG I³, p. 972</td>\n",
              "      <td>None</td>\n",
              "      <td>None</td>\n",
              "      <td>None</td>\n",
              "      <td>1760</td>\n",
              "    </tr>\n",
              "    <tr>\n",
              "      <th>107161</th>\n",
              "      <td>/text/1761?location=1365&amp;patt=&amp;bookid=3&amp;bookid...</td>\n",
              "      <td>IG I²</td>\n",
              "      <td>575</td>\n",
              "      <td>Regions\\nAttica (IG I-III)\\nAttica</td>\n",
              "      <td>IG I² 575</td>\n",
              "      <td>None</td>\n",
              "      <td>None</td>\n",
              "      <td>3.0</td>\n",
              "      <td>1\\n\\n</td>\n",
              "      <td>Διφιλίδες ἐκ Κερ̣αμέο[ν]\\nἀνέθεκε.\\nsigla: ΦΥΠ...</td>\n",
              "      <td>Att.</td>\n",
              "      <td>None</td>\n",
              "      <td>None</td>\n",
              "      <td>Ath.: Akr.</td>\n",
              "      <td>aet. Hadriani</td>\n",
              "      <td>aet. Hadriani</td>\n",
              "      <td>IG I³, p. 972</td>\n",
              "      <td>None</td>\n",
              "      <td>None</td>\n",
              "      <td>None</td>\n",
              "      <td>1761</td>\n",
              "    </tr>\n",
              "    <tr>\n",
              "      <th>107162</th>\n",
              "      <td>/text/1762?location=1365&amp;patt=&amp;bookid=3&amp;bookid...</td>\n",
              "      <td>IG I²</td>\n",
              "      <td>644</td>\n",
              "      <td>Regions\\nAttica (IG I-III)\\nAttica</td>\n",
              "      <td>IG I² 644</td>\n",
              "      <td>None</td>\n",
              "      <td>None</td>\n",
              "      <td>1.0</td>\n",
              "      <td>1</td>\n",
              "      <td>Σμῖκρος ἀνέθεκεν τε͂ι Ἀθενάαι.</td>\n",
              "      <td>Att.</td>\n",
              "      <td>None</td>\n",
              "      <td>None</td>\n",
              "      <td>Ath.: Akr.</td>\n",
              "      <td>None</td>\n",
              "      <td>[pottery]</td>\n",
              "      <td>Vasen.Akr. II.238</td>\n",
              "      <td>None</td>\n",
              "      <td>None</td>\n",
              "      <td>None</td>\n",
              "      <td>1762</td>\n",
              "    </tr>\n",
              "    <tr>\n",
              "      <th>107163</th>\n",
              "      <td>/text/1763?location=1365&amp;patt=&amp;bookid=3&amp;bookid...</td>\n",
              "      <td>IG I²</td>\n",
              "      <td>730</td>\n",
              "      <td>Regions\\nAttica (IG I-III)\\nAttica</td>\n",
              "      <td>IG I² 730</td>\n",
              "      <td>None</td>\n",
              "      <td>None</td>\n",
              "      <td>1.0</td>\n",
              "      <td>1</td>\n",
              "      <td>[— — ἀνέθεκ]εν #⁵⁶ ἀπαρχὲ&lt;ν&gt; #⁵⁶ ἔργον Ἀθεναία...</td>\n",
              "      <td>Att.</td>\n",
              "      <td>None</td>\n",
              "      <td>None</td>\n",
              "      <td>Ath.: Akr.</td>\n",
              "      <td>None</td>\n",
              "      <td>[pottery]</td>\n",
              "      <td>Vasen.Akr. II.1354</td>\n",
              "      <td>None</td>\n",
              "      <td>None</td>\n",
              "      <td>None</td>\n",
              "      <td>1763</td>\n",
              "    </tr>\n",
              "  </tbody>\n",
              "</table>\n",
              "</div>"
            ],
            "text/plain": [
              "                                                      URL  ... inscription ID\n",
              "107154  /text/1754?location=1365&patt=&bookid=3&bookid...  ...           1754\n",
              "107155  /text/1755?location=1365&patt=&bookid=3&bookid...  ...           1755\n",
              "107156  /text/1756?location=1365&patt=&bookid=3&bookid...  ...           1756\n",
              "107157  /text/1757?location=1365&patt=&bookid=3&bookid...  ...           1757\n",
              "107158  /text/1758?location=1365&patt=&bookid=3&bookid...  ...           1758\n",
              "107159  /text/1759?location=1365&patt=&bookid=3&bookid...  ...           1759\n",
              "107160  /text/1760?location=1365&patt=&bookid=3&bookid...  ...           1760\n",
              "107161  /text/1761?location=1365&patt=&bookid=3&bookid...  ...           1761\n",
              "107162  /text/1762?location=1365&patt=&bookid=3&bookid...  ...           1762\n",
              "107163  /text/1763?location=1365&patt=&bookid=3&bookid...  ...           1763\n",
              "\n",
              "[10 rows x 21 columns]"
            ]
          },
          "metadata": {
            "tags": []
          },
          "execution_count": 12
        }
      ]
    },
    {
      "cell_type": "code",
      "metadata": {
        "id": "LkYoluf7bsqm",
        "colab_type": "code",
        "outputId": "402d794e-ffd0-4f67-e4c2-e9049b630864",
        "colab": {
          "base_uri": "https://localhost:8080/",
          "height": 54
        }
      },
      "source": [
        "inscriptions_list_sorted = sorted([int(ins) for ins in inscriptions_list])\n",
        "print(inscriptions_list_sorted[:1000])"
      ],
      "execution_count": 0,
      "outputs": [
        {
          "output_type": "stream",
          "text": [
            "[1754, 1755, 1756, 1757, 1758, 1759, 1760, 1761, 1762, 1763, 1764, 1765, 1766, 1767, 1768, 1769, 1770, 1771, 1772, 1773, 1774, 1775, 1776, 1777, 1778, 1779, 1780, 1781, 1782, 1783, 1784, 1785, 1786, 1787, 1788, 1789, 1790, 1791, 1792, 1793, 1794, 1795, 1796, 1797, 1798, 1799, 1800, 1801, 1802, 1803, 1804, 1805, 1806, 1807, 1808, 1809, 1810, 1811, 1812, 1813, 1814, 1815, 1816, 1817, 1818, 1819, 1820, 1821, 1822, 1823, 1824, 1825, 1826, 2219, 2220, 2221, 2222, 2223, 2224, 2225, 2226, 2227, 2228, 2229, 2230, 2231, 2232, 2233, 2234, 2235, 2236, 2237, 2238, 2239, 2240, 2241, 2242, 2243, 2244, 2245, 2246, 2247, 2248, 2249, 2250, 2251, 2252, 2253, 2254, 2255, 2256, 2257, 2258, 2259, 2260, 2261, 2262, 2263, 2264, 2265, 2266, 2267, 2268, 2269, 2270, 2271, 2272, 2273, 2274, 2275, 2276, 2277, 2278, 2279, 2280, 2281, 2282, 2283, 2284, 2285, 2286, 2287, 2288, 2289, 2290, 2291, 2292, 2293, 2294, 2295, 2296, 2297, 2298, 2299, 2300, 2301, 2302, 2303, 2304, 2305, 2306, 2307, 2308, 2309, 2310, 2311, 2312, 2313, 2314, 2315, 2316, 2317, 2318, 2319, 2320, 2321, 2322, 2323, 2324, 2325, 2326, 2327, 2328, 2329, 2330, 2331, 2332, 2333, 2334, 2335, 2336, 2337, 2338, 2339, 2340, 2341, 2342, 2343, 2344, 2345, 2346, 2347, 2348, 2349, 2350, 2351, 2352, 2353, 2354, 2355, 2356, 2357, 2358, 2359, 2360, 2361, 2362, 2363, 2364, 2365, 2366, 2367, 2368, 2369, 2370, 2371, 2372, 2373, 2374, 2375, 2376, 2377, 2378, 2379, 2380, 2381, 2382, 2383, 2384, 2385, 2386, 2387, 2388, 2389, 2390, 2391, 2392, 2393, 2394, 2395, 2396, 2397, 2398, 2399, 2400, 2401, 2402, 2403, 2404, 2405, 2406, 2407, 2408, 2409, 2410, 2411, 2412, 2413, 2414, 2415, 2416, 2417, 2418, 2419, 2420, 2421, 2422, 2423, 2424, 2425, 2426, 2427, 2428, 2429, 2430, 2431, 2432, 2433, 2434, 2435, 2436, 2437, 2438, 2439, 2440, 2441, 2442, 2443, 2444, 2445, 2446, 2447, 2448, 2449, 2450, 2451, 2452, 2453, 2454, 2455, 2456, 2457, 2458, 2459, 2460, 2461, 2462, 2463, 2464, 2465, 2466, 2467, 2468, 2469, 2470, 2471, 2472, 2473, 2474, 2475, 2476, 2477, 2478, 2479, 2480, 2481, 2482, 2483, 2484, 2485, 2486, 2487, 2488, 2489, 2490, 2491, 2492, 2493, 2494, 2495, 2496, 2497, 2498, 2499, 2500, 2501, 2502, 2503, 2504, 2505, 2506, 2507, 2508, 2509, 2510, 2511, 2512, 2513, 2514, 2515, 2516, 2517, 2518, 2519, 2520, 2521, 2522, 2523, 2524, 2525, 2526, 2527, 2528, 2529, 2530, 2531, 2532, 2533, 2534, 2535, 2536, 2537, 2538, 2539, 2540, 2541, 2542, 2543, 2544, 2545, 2546, 2547, 2548, 2549, 2550, 2551, 2552, 2553, 2554, 2555, 2556, 2557, 2558, 2559, 2560, 2561, 2562, 2563, 2564, 2565, 2566, 2567, 2568, 2569, 2570, 2571, 2572, 2573, 2574, 2575, 2576, 2577, 2578, 2579, 2580, 2581, 2582, 2583, 2584, 2585, 2586, 2587, 2588, 2589, 2590, 2591, 2592, 2593, 2594, 2595, 2596, 2597, 2598, 2599, 2600, 2601, 2602, 2603, 2604, 2605, 2606, 2607, 2608, 2609, 2610, 2611, 2612, 2613, 2614, 2615, 2616, 2617, 2618, 2619, 2620, 2621, 2622, 2623, 2624, 2625, 2626, 2627, 2628, 2629, 2630, 2631, 2632, 2633, 2634, 2635, 2636, 2637, 2638, 2639, 2640, 2641, 2642, 2643, 2644, 2645, 2646, 2647, 2648, 2649, 2650, 2651, 2652, 2653, 2654, 2655, 2656, 2657, 2658, 2659, 2660, 2661, 2662, 2663, 2664, 2665, 2666, 2667, 2668, 2669, 2670, 2671, 2672, 2673, 2674, 2675, 2676, 2677, 2678, 2679, 2680, 2681, 2682, 2683, 2684, 2685, 2686, 2687, 2688, 2689, 2690, 2691, 2692, 2693, 2694, 2695, 2696, 2697, 2698, 2699, 2700, 2701, 2702, 2703, 2704, 2705, 2706, 2707, 2708, 2709, 2710, 2711, 2712, 2713, 2714, 2715, 2716, 2717, 2718, 2719, 2720, 2721, 2722, 2723, 2724, 2725, 2726, 2727, 2728, 2729, 2730, 2731, 2732, 2733, 2734, 2735, 2736, 2737, 2738, 2739, 2740, 2741, 2742, 2743, 2744, 2745, 2746, 2747, 2748, 2749, 2750, 2751, 2752, 2753, 2754, 2755, 2756, 2757, 2758, 2759, 2760, 2761, 2762, 2763, 2764, 2765, 2766, 2767, 2768, 2769, 2770, 2771, 2772, 2773, 2774, 2775, 2776, 2777, 2778, 2779, 2780, 2781, 2782, 2783, 2784, 2785, 2786, 2787, 2788, 2789, 2790, 2791, 2792, 2793, 2794, 2795, 2796, 2797, 2798, 2799, 2800, 2801, 2802, 2803, 2804, 2805, 2806, 2807, 2808, 2809, 2810, 2811, 2812, 2813, 2814, 2815, 2816, 2817, 2818, 2819, 2820, 2821, 2822, 2823, 2824, 2825, 2826, 2827, 2828, 2829, 2830, 2831, 2832, 2833, 2834, 2835, 2836, 2837, 2838, 2839, 2840, 2841, 2842, 2843, 2844, 2845, 2846, 2847, 2848, 2849, 2850, 2851, 2852, 2853, 2854, 2855, 2856, 2857, 2858, 2859, 2860, 2861, 2862, 2863, 2864, 2865, 2866, 2867, 2868, 2869, 2870, 2871, 2872, 2873, 2874, 2875, 2876, 2877, 2878, 2879, 2880, 2881, 2882, 2883, 2884, 2885, 2886, 2887, 2888, 2889, 2890, 2891, 2892, 2893, 2894, 2895, 2896, 2897, 2898, 2899, 2900, 2901, 2902, 2903, 2904, 2905, 2906, 2907, 2908, 2909, 2910, 2911, 2912, 2913, 2914, 2915, 2916, 2917, 2918, 2919, 2920, 2921, 2922, 2923, 2924, 2925, 2926, 2927, 2928, 2929, 2930, 2931, 2932, 2933, 2934, 2935, 2936, 2937, 2938, 2939, 2940, 2941, 2942, 2943, 2944, 2945, 2946, 2947, 2948, 2949, 2950, 2951, 2952, 2953, 2954, 2955, 2956, 2957, 2958, 2959, 2960, 2961, 2962, 2963, 2964, 2965, 2966, 2967, 2968, 2969, 2970, 2971, 2972, 2973, 2974, 2975, 2976, 2977, 2978, 2979, 2980, 2981, 2982, 2983, 2984, 2985, 2986, 2987, 2988, 2989, 2990, 2991, 2992, 2993, 2994, 2995, 2996, 2997, 2998, 2999, 3000, 3001, 3002, 3003, 3004, 3005, 3006, 3007, 3008, 3009, 3010, 3011, 3012, 3013, 3014, 3015, 3016, 3017, 3018, 3019, 3020, 3021, 3022, 3023, 3024, 3025, 3026, 3027, 3028, 3029, 3030, 3031, 3032, 3033, 3034, 3035, 3036, 3037, 3038, 3039, 3040, 3041, 3042, 3043, 3044, 3045, 3046, 3047, 3048, 3049, 3050, 3051, 3052, 3053, 3054, 3055, 3056, 3057, 3058, 3059, 3060, 3061, 3062, 3063, 3064, 3065, 3066, 3067, 3068, 3069, 3070, 3071, 3072, 3073, 3074, 3075, 3076, 3077, 3078, 3079, 3080, 3081, 3082, 3083, 3084, 3085, 3086, 3087, 3088, 3089, 3090, 3091, 3092, 3093, 3094, 3095, 3096, 3097, 3098, 3099, 3100, 3101, 3102, 3103, 3104, 3105, 3106, 3107, 3108, 3109, 3110, 3111, 3112, 3113, 3114, 3115, 3116, 3117, 3118, 3119, 3120, 3121, 3122, 3123, 3124, 3125, 3126, 3127, 3128, 3129, 3130, 3131, 3132, 3133, 3134, 3135, 3136, 3137, 3138, 3139, 3140, 3141, 3142, 3143, 3144, 3145]\n"
          ],
          "name": "stdout"
        }
      ]
    },
    {
      "cell_type": "code",
      "metadata": {
        "id": "fFuBxXD1jE24",
        "colab_type": "code",
        "outputId": "c08cd0ca-3f3e-43ce-f93a-8c25b0b64ddb",
        "colab": {
          "base_uri": "https://localhost:8080/",
          "height": 34
        }
      },
      "source": [
        "sddk.write_file(\"SDAM_data/PHI/inscriptions_list_sorted.json\", inscriptions_list_sorted, conf)"
      ],
      "execution_count": 0,
      "outputs": [
        {
          "output_type": "stream",
          "text": [
            "Your <class 'list'> object has been succefully written as \"https://sciencedata.dk/files/SDAM_root/SDAM_data/PHI/inscriptions_list_sorted.json\"\n"
          ],
          "name": "stdout"
        }
      ]
    },
    {
      "cell_type": "code",
      "metadata": {
        "id": "ADj4c8R8woa7",
        "colab_type": "code",
        "outputId": "4d35d219-4831-4076-8530-7fedf9783131",
        "colab": {
          "base_uri": "https://localhost:8080/",
          "height": 68
        }
      },
      "source": [
        "### there was an update in the sddk package, which now manages encoding on its own\n",
        "sddk.write_file(\"SDAM_data/PHI/PHI_sample_utf8.json\", PHI[:10000], conf)"
      ],
      "execution_count": 0,
      "outputs": [
        {
          "output_type": "stream",
          "text": [
            "A file with the same name (\"PHI_sample_utf8.json\") already exists in this location.\n",
            "Press Enter to overwrite it or choose different path and filename: \n",
            "Your <class 'pandas.core.frame.DataFrame'> object has been succefully written as \"https://sciencedata.dk/files/SDAM_root/SDAM_data/PHI/PHI_sample_utf8.json\"\n"
          ],
          "name": "stdout"
        }
      ]
    },
    {
      "cell_type": "code",
      "metadata": {
        "id": "AITEajh3otNf",
        "colab_type": "code",
        "outputId": "41ba600c-6a30-4b5e-813e-f04168259bb3",
        "colab": {
          "base_uri": "https://localhost:8080/",
          "height": 68
        }
      },
      "source": [
        "### and now do the same with the whole dataset\n",
        "sddk.write_file(\"SDAM_data/PHI/PHI_merged_utf8.json\", PHI, conf)"
      ],
      "execution_count": 0,
      "outputs": [
        {
          "output_type": "stream",
          "text": [
            "A file with the same name (\"PHI_merged_utf8.json\") already exists in this location.\n",
            "Press Enter to overwrite it or choose different path and filename: \n",
            "Your <class 'pandas.core.frame.DataFrame'> object has been succefully written as \"https://sciencedata.dk/files/SDAM_root/SDAM_data/PHI/PHI_merged_utf8.json\"\n"
          ],
          "name": "stdout"
        }
      ]
    },
    {
      "cell_type": "markdown",
      "metadata": {
        "id": "yFltETVKhevH",
        "colab_type": "text"
      },
      "source": [
        "# Testing: reading sample digested by R by to Python"
      ]
    },
    {
      "cell_type": "code",
      "metadata": {
        "id": "OUTuwhz3ySIJ",
        "colab_type": "code",
        "outputId": "10425ea4-b321-44ef-bb15-8ada62d60872",
        "colab": {
          "base_uri": "https://localhost:8080/",
          "height": 479
        }
      },
      "source": [
        "# reading the json processed in R back to Python:\n",
        "PHI_sample = sddk.read_file(\"SDAM_data/PHI/PHI_tibble.json\", \"df\", conf)\n",
        "PHI_sample.head(5)"
      ],
      "execution_count": 0,
      "outputs": [
        {
          "output_type": "execute_result",
          "data": {
            "text/html": [
              "<div>\n",
              "<style scoped>\n",
              "    .dataframe tbody tr th:only-of-type {\n",
              "        vertical-align: middle;\n",
              "    }\n",
              "\n",
              "    .dataframe tbody tr th {\n",
              "        vertical-align: top;\n",
              "    }\n",
              "\n",
              "    .dataframe thead th {\n",
              "        text-align: right;\n",
              "    }\n",
              "</style>\n",
              "<table border=\"1\" class=\"dataframe\">\n",
              "  <thead>\n",
              "    <tr style=\"text-align: right;\">\n",
              "      <th></th>\n",
              "      <th>URL</th>\n",
              "      <th>Book</th>\n",
              "      <th>Text</th>\n",
              "      <th>hdr1</th>\n",
              "      <th>hdr2</th>\n",
              "      <th>tildeinfo</th>\n",
              "      <th>note</th>\n",
              "      <th>lines</th>\n",
              "      <th>metadata</th>\n",
              "      <th>data</th>\n",
              "      <th>region</th>\n",
              "      <th>stoich</th>\n",
              "      <th>sinistr</th>\n",
              "      <th>subregion</th>\n",
              "      <th>date</th>\n",
              "      <th>other_info_0</th>\n",
              "      <th>other_info_1</th>\n",
              "      <th>other_info_2</th>\n",
              "      <th>other_info_3</th>\n",
              "      <th>other_info_4</th>\n",
              "    </tr>\n",
              "  </thead>\n",
              "  <tbody>\n",
              "    <tr>\n",
              "      <th>0</th>\n",
              "      <td>[/text/237766?location=7&amp;patt=&amp;bookid=409&amp;book...</td>\n",
              "      <td>[Clinton, Sacred Officials]</td>\n",
              "      <td>[10]</td>\n",
              "      <td>[Regions\\nAttica (IG I-III)]</td>\n",
              "      <td>[Clinton, Sacred Officials 10]</td>\n",
              "      <td>{}</td>\n",
              "      <td>{}</td>\n",
              "      <td>[46]</td>\n",
              "      <td>[5\\n\\n\\n\\n\\n10\\n\\n\\n\\n\\n15\\n\\n\\n\\n\\n20\\n\\n\\n\\n...</td>\n",
              "      <td>[[․․․․․12․․․․․] ὀβολ[ὸν ․․5․․]\\n[․․․․․12․․․․․]...</td>\n",
              "      <td>[Att.]</td>\n",
              "      <td>[stoich. 23]</td>\n",
              "      <td>{}</td>\n",
              "      <td>[Ath.: Eleusinion]</td>\n",
              "      <td>[ca. 460 BC]</td>\n",
              "      <td>[ca. 460 BC]</td>\n",
              "      <td>[IG I² 6,C]</td>\n",
              "      <td>[I(3).6,C ll. 5-50]</td>\n",
              "      <td>{}</td>\n",
              "      <td>{}</td>\n",
              "    </tr>\n",
              "    <tr>\n",
              "      <th>1</th>\n",
              "      <td>[/text/237767?location=7&amp;patt=&amp;bookid=409&amp;book...</td>\n",
              "      <td>[Clinton, Sacred Officials]</td>\n",
              "      <td>[18,H5]</td>\n",
              "      <td>[Regions\\nAttica (IG I-III)]</td>\n",
              "      <td>[Clinton, Sacred Officials 18,H5]</td>\n",
              "      <td>{}</td>\n",
              "      <td>{}</td>\n",
              "      <td>[35]</td>\n",
              "      <td>[\\n1\\n\\n\\n\\n5\\n\\n\\n\\n\\n10\\n\\n\\n\\n\\n15\\n\\n\\n\\n\\...</td>\n",
              "      <td>[corona\\nθ[εοί].\\nΕ̣ὐθ̣[․․6․․․]θ̣ωνος Ἐλευσίνι...</td>\n",
              "      <td>[Att.]</td>\n",
              "      <td>[stoich. 25]</td>\n",
              "      <td>{}</td>\n",
              "      <td>[Eleusis]</td>\n",
              "      <td>[ca. mid-4th c. BC]</td>\n",
              "      <td>[ca. mid-4th c. BC]</td>\n",
              "      <td>[IG II² 1188]</td>\n",
              "      <td>{}</td>\n",
              "      <td>{}</td>\n",
              "      <td>{}</td>\n",
              "    </tr>\n",
              "    <tr>\n",
              "      <th>2</th>\n",
              "      <td>[/text/237768?location=7&amp;patt=&amp;bookid=409&amp;book...</td>\n",
              "      <td>[Clinton, Sacred Officials]</td>\n",
              "      <td>[24,H11]</td>\n",
              "      <td>[Regions\\nAttica (IG I-III)]</td>\n",
              "      <td>[Clinton, Sacred Officials 24,H11]</td>\n",
              "      <td>{}</td>\n",
              "      <td>{}</td>\n",
              "      <td>[26]</td>\n",
              "      <td>[1\\n\\n\\n\\n5\\n\\n\\n\\n\\n10\\n\\n\\n\\n\\n15\\n\\n\\n\\n\\n2...</td>\n",
              "      <td>[ἐπὶ Λυσιάδου ἄρχοντος Π̣[υανοψ]ιῶνος ἕκτ[ει ἐ...</td>\n",
              "      <td>[Att.]</td>\n",
              "      <td>[non-stoich.]</td>\n",
              "      <td>{}</td>\n",
              "      <td>[Ath.: Agora]</td>\n",
              "      <td>{}</td>\n",
              "      <td>[148/7? BC]</td>\n",
              "      <td>[Hsp.11.1942.293,58 [SEG 19.124]]</td>\n",
              "      <td>{}</td>\n",
              "      <td>{}</td>\n",
              "      <td>{}</td>\n",
              "    </tr>\n",
              "    <tr>\n",
              "      <th>3</th>\n",
              "      <td>[/text/237769?location=7&amp;patt=&amp;bookid=409&amp;book...</td>\n",
              "      <td>[Clinton, Sacred Officials]</td>\n",
              "      <td>[30,H19]</td>\n",
              "      <td>[Regions\\nAttica (IG I-III)]</td>\n",
              "      <td>[Clinton, Sacred Officials 30,H19]</td>\n",
              "      <td>{}</td>\n",
              "      <td>{}</td>\n",
              "      <td>[5]</td>\n",
              "      <td>[1\\n\\n\\n\\n5]</td>\n",
              "      <td>[[Τ. Φλ]ά̣β. Πάντα[ινον]\\n[Γαργ]ήττιον vac.\\n[...</td>\n",
              "      <td>[Att.]</td>\n",
              "      <td>{}</td>\n",
              "      <td>{}</td>\n",
              "      <td>[Athens]</td>\n",
              "      <td>[ca. 100 AD?]</td>\n",
              "      <td>[ca. 100 AD?]</td>\n",
              "      <td>[Hsp.35.1966.247,8 +]</td>\n",
              "      <td>[AD 25.1970.187,6 [SEG 23.114]]</td>\n",
              "      <td>[SEG 29.180]</td>\n",
              "      <td>{}</td>\n",
              "    </tr>\n",
              "    <tr>\n",
              "      <th>4</th>\n",
              "      <td>[/text/237770?location=7&amp;patt=&amp;bookid=409&amp;book...</td>\n",
              "      <td>[Clinton, Sacred Officials]</td>\n",
              "      <td>[31,H20]</td>\n",
              "      <td>[Regions\\nAttica (IG I-III)]</td>\n",
              "      <td>[Clinton, Sacred Officials 31,H20]</td>\n",
              "      <td>{}</td>\n",
              "      <td>{}</td>\n",
              "      <td>[14]</td>\n",
              "      <td>[1\\n\\n\\n\\n5\\n\\n\\n\\n\\n10\\n\\n\\n\\n]</td>\n",
              "      <td>[[κ]α̣θ’ ὑπομνη[ματι]-\\nσμὸν τῆς ἐξ Ἀ[ρείου]\\n...</td>\n",
              "      <td>[Att.]</td>\n",
              "      <td>{}</td>\n",
              "      <td>{}</td>\n",
              "      <td>[Eleusis]</td>\n",
              "      <td>[166/7 AD]</td>\n",
              "      <td>[166/7 AD]</td>\n",
              "      <td>[IG II² 3984]</td>\n",
              "      <td>{}</td>\n",
              "      <td>{}</td>\n",
              "      <td>{}</td>\n",
              "    </tr>\n",
              "  </tbody>\n",
              "</table>\n",
              "</div>"
            ],
            "text/plain": [
              "                                                 URL  ... other_info_4\n",
              "0  [/text/237766?location=7&patt=&bookid=409&book...  ...           {}\n",
              "1  [/text/237767?location=7&patt=&bookid=409&book...  ...           {}\n",
              "2  [/text/237768?location=7&patt=&bookid=409&book...  ...           {}\n",
              "3  [/text/237769?location=7&patt=&bookid=409&book...  ...           {}\n",
              "4  [/text/237770?location=7&patt=&bookid=409&book...  ...           {}\n",
              "\n",
              "[5 rows x 20 columns]"
            ]
          },
          "metadata": {
            "tags": []
          },
          "execution_count": 36
        }
      ]
    },
    {
      "cell_type": "code",
      "metadata": {
        "id": "VtPlnTK_drPm",
        "colab_type": "code",
        "colab": {}
      },
      "source": [
        ""
      ],
      "execution_count": 0,
      "outputs": []
    }
  ]
}