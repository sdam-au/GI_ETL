{
 "cells": [
  {
   "cell_type": "code",
   "execution_count": 2,
   "metadata": {},
   "outputs": [],
   "source": [
    "import requests\n",
    "import pandas as pd\n",
    "import numpy as np\n",
    "import sddk\n",
    "import zipfile\n",
    "import io"
   ]
  },
  {
   "cell_type": "code",
   "execution_count": 3,
   "metadata": {},
   "outputs": [
    {
     "name": "stdout",
     "output_type": "stream",
     "text": [
      "sciencedata.dk username (format '123456@au.dk'): 648597@au.dk\n",
      "sciencedata.dk password: ········\n",
      "connection with shared folder established with you as its owner\n",
      "endpoint variable has been configured to: https://sciencedata.dk/files/SDAM_root/\n"
     ]
    }
   ],
   "source": [
    "conf = sddk.configure(\"SDAM_root\", \"648597@au.dk\")"
   ]
  },
  {
   "cell_type": "code",
   "execution_count": 4,
   "metadata": {},
   "outputs": [],
   "source": [
    "PHI = sddk.read_file(\"SDAM_data/PHI/PHI_enriched_2020-12-16.json\", \"df\", conf)"
   ]
  },
  {
   "cell_type": "code",
   "execution_count": 12,
   "metadata": {},
   "outputs": [],
   "source": [
    "# unfortunately, moving the dataset between Python and R causes that cells in most columns of the dataframe contain a LIST OF VALUES (of length 1) and not the VALUE itself.\n",
    "# if this is the case, uncomment the last two rows to do one simple transformation\n",
    "\n",
    "def lists_to_values(list_or_value):\n",
    "  if isinstance(list_or_value, list):\n",
    "    value = list_or_value[0]\n",
    "  else: \n",
    "    value = list_or_value\n",
    "  if not bool(value): # if is it empty dict or list\n",
    "    value = np.nan\n",
    "  return value\n",
    "for column in PHI.columns:\n",
    "  PHI[column] = PHI.apply(lambda row: lists_to_values(row[column]), axis=1)"
   ]
  },
  {
   "cell_type": "code",
   "execution_count": 5,
   "metadata": {},
   "outputs": [
    {
     "data": {
      "text/html": [
       "<div>\n",
       "<style scoped>\n",
       "    .dataframe tbody tr th:only-of-type {\n",
       "        vertical-align: middle;\n",
       "    }\n",
       "\n",
       "    .dataframe tbody tr th {\n",
       "        vertical-align: top;\n",
       "    }\n",
       "\n",
       "    .dataframe thead th {\n",
       "        text-align: right;\n",
       "    }\n",
       "</style>\n",
       "<table border=\"1\" class=\"dataframe\">\n",
       "  <thead>\n",
       "    <tr style=\"text-align: right;\">\n",
       "      <th></th>\n",
       "      <th>URL</th>\n",
       "      <th>Book</th>\n",
       "      <th>Text</th>\n",
       "      <th>hdr1</th>\n",
       "      <th>hdr2</th>\n",
       "      <th>tildeinfo</th>\n",
       "      <th>note</th>\n",
       "      <th>lines</th>\n",
       "      <th>metadata</th>\n",
       "      <th>data</th>\n",
       "      <th>filename</th>\n",
       "      <th>PHI_ID</th>\n",
       "    </tr>\n",
       "  </thead>\n",
       "  <tbody>\n",
       "    <tr>\n",
       "      <th>0</th>\n",
       "      <td>/text/1?location=1701&amp;patt=&amp;bookid=4&amp;offset=0&amp;...</td>\n",
       "      <td>IG I³</td>\n",
       "      <td>1</td>\n",
       "      <td>Regions\\nAttica (IG I-III)</td>\n",
       "      <td>IG I³\\n1</td>\n",
       "      <td>Att. — Ath.: Akr. — stoich. 35 — c. 510-500 a....</td>\n",
       "      <td>{}</td>\n",
       "      <td>12</td>\n",
       "      <td>1\\n\\n\\n\\n5\\n\\n\\n\\n\\n10\\n\\n</td>\n",
       "      <td>ἔδοχσεν το͂ι δέμοι· τ̣[ὸς ἐ Σ]αλαμ̣[ῖνι κλερόχ...</td>\n",
       "      <td>IG-I³.csv</td>\n",
       "      <td>1</td>\n",
       "    </tr>\n",
       "    <tr>\n",
       "      <th>1</th>\n",
       "      <td>/text/2?location=1701&amp;patt=&amp;bookid=4&amp;offset=0&amp;...</td>\n",
       "      <td>IG I³</td>\n",
       "      <td>2</td>\n",
       "      <td>Regions\\nAttica (IG I-III)</td>\n",
       "      <td>IG I³\\n2</td>\n",
       "      <td>Att. — non-stoich. — c. 500 a.</td>\n",
       "      <td>{}</td>\n",
       "      <td>14</td>\n",
       "      <td>1\\n\\n\\n\\n5\\n\\n\\n\\n\\n10\\n\\n\\n\\n</td>\n",
       "      <td>[․․8-9․․․]ν̣ βολ — — — — — — — — — —\\n[․6-7․․]...</td>\n",
       "      <td>IG-I³.csv</td>\n",
       "      <td>2</td>\n",
       "    </tr>\n",
       "    <tr>\n",
       "      <th>2</th>\n",
       "      <td>/text/3?location=1701&amp;patt=&amp;bookid=4&amp;offset=0&amp;...</td>\n",
       "      <td>IG I³</td>\n",
       "      <td>3</td>\n",
       "      <td>Regions\\nAttica (IG I-III)</td>\n",
       "      <td>IG I³\\n3</td>\n",
       "      <td>Att. — stoich. 21 — 490-480 a.</td>\n",
       "      <td>{}</td>\n",
       "      <td>13</td>\n",
       "      <td>1\\n\\n\\n\\n5\\n\\n\\n\\n\\n10\\n\\n\\n</td>\n",
       "      <td>[․]αρ[․․․․]ι ℎερακλειο[․․5․․]\\n[․]αρ̣ο#⁷[․] τι...</td>\n",
       "      <td>IG-I³.csv</td>\n",
       "      <td>3</td>\n",
       "    </tr>\n",
       "    <tr>\n",
       "      <th>3</th>\n",
       "      <td>/text/4?location=1701&amp;patt=&amp;bookid=4&amp;offset=0&amp;...</td>\n",
       "      <td>IG I³</td>\n",
       "      <td>4</td>\n",
       "      <td>Regions\\nAttica (IG I-III)</td>\n",
       "      <td>IG I³\\n4</td>\n",
       "      <td>Att. — stoich. 38 — 485/4 a.</td>\n",
       "      <td>{}</td>\n",
       "      <td>56</td>\n",
       "      <td>face A.1\\n\\n\\n\\n5\\n\\n\\n\\n\\n10\\n\\n\\n\\n\\n15\\n\\n\\...</td>\n",
       "      <td>[․․․․․․․․․․․․․․․․․․38․․․․․․․․․․․․․․․․․․]\\n[․․․...</td>\n",
       "      <td>IG-I³.csv</td>\n",
       "      <td>4</td>\n",
       "    </tr>\n",
       "    <tr>\n",
       "      <th>4</th>\n",
       "      <td>/text/5?location=1701&amp;patt=&amp;bookid=4&amp;offset=0&amp;...</td>\n",
       "      <td>IG I³</td>\n",
       "      <td>5</td>\n",
       "      <td>Regions\\nAttica (IG I-III)</td>\n",
       "      <td>IG I³\\n5</td>\n",
       "      <td>Att. — c. 500 a.</td>\n",
       "      <td>{}</td>\n",
       "      <td>6</td>\n",
       "      <td>1\\n\\n\\n\\n5\\n</td>\n",
       "      <td>[ἔδοχσε]ν [⋮ τε͂ι βολε͂ι] ⋮ καὶ [τ]ο͂ι δέμοι ⋮...</td>\n",
       "      <td>IG-I³.csv</td>\n",
       "      <td>5</td>\n",
       "    </tr>\n",
       "  </tbody>\n",
       "</table>\n",
       "</div>"
      ],
      "text/plain": [
       "                                                 URL   Book Text  \\\n",
       "0  /text/1?location=1701&patt=&bookid=4&offset=0&...  IG I³    1   \n",
       "1  /text/2?location=1701&patt=&bookid=4&offset=0&...  IG I³    2   \n",
       "2  /text/3?location=1701&patt=&bookid=4&offset=0&...  IG I³    3   \n",
       "3  /text/4?location=1701&patt=&bookid=4&offset=0&...  IG I³    4   \n",
       "4  /text/5?location=1701&patt=&bookid=4&offset=0&...  IG I³    5   \n",
       "\n",
       "                         hdr1      hdr2  \\\n",
       "0  Regions\\nAttica (IG I-III)  IG I³\\n1   \n",
       "1  Regions\\nAttica (IG I-III)  IG I³\\n2   \n",
       "2  Regions\\nAttica (IG I-III)  IG I³\\n3   \n",
       "3  Regions\\nAttica (IG I-III)  IG I³\\n4   \n",
       "4  Regions\\nAttica (IG I-III)  IG I³\\n5   \n",
       "\n",
       "                                           tildeinfo note  lines  \\\n",
       "0  Att. — Ath.: Akr. — stoich. 35 — c. 510-500 a....   {}     12   \n",
       "1                     Att. — non-stoich. — c. 500 a.   {}     14   \n",
       "2                     Att. — stoich. 21 — 490-480 a.   {}     13   \n",
       "3                       Att. — stoich. 38 — 485/4 a.   {}     56   \n",
       "4                                   Att. — c. 500 a.   {}      6   \n",
       "\n",
       "                                            metadata  \\\n",
       "0                         1\\n\\n\\n\\n5\\n\\n\\n\\n\\n10\\n\\n   \n",
       "1                     1\\n\\n\\n\\n5\\n\\n\\n\\n\\n10\\n\\n\\n\\n   \n",
       "2                       1\\n\\n\\n\\n5\\n\\n\\n\\n\\n10\\n\\n\\n   \n",
       "3  face A.1\\n\\n\\n\\n5\\n\\n\\n\\n\\n10\\n\\n\\n\\n\\n15\\n\\n\\...   \n",
       "4                                       1\\n\\n\\n\\n5\\n   \n",
       "\n",
       "                                                data   filename  PHI_ID  \n",
       "0  ἔδοχσεν το͂ι δέμοι· τ̣[ὸς ἐ Σ]αλαμ̣[ῖνι κλερόχ...  IG-I³.csv       1  \n",
       "1  [․․8-9․․․]ν̣ βολ — — — — — — — — — —\\n[․6-7․․]...  IG-I³.csv       2  \n",
       "2  [․]αρ[․․․․]ι ℎερακλειο[․․5․․]\\n[․]αρ̣ο#⁷[․] τι...  IG-I³.csv       3  \n",
       "3  [․․․․․․․․․․․․․․․․․․38․․․․․․․․․․․․․․․․․․]\\n[․․․...  IG-I³.csv       4  \n",
       "4  [ἔδοχσε]ν [⋮ τε͂ι βολε͂ι] ⋮ καὶ [τ]ο͂ι δέμοι ⋮...  IG-I³.csv       5  "
      ]
     },
     "execution_count": 5,
     "metadata": {},
     "output_type": "execute_result"
    }
   ],
   "source": [
    "PHI.head(5)"
   ]
  },
  {
   "cell_type": "code",
   "execution_count": 24,
   "metadata": {},
   "outputs": [
    {
     "data": {
      "text/html": [
       "<div>\n",
       "<style scoped>\n",
       "    .dataframe tbody tr th:only-of-type {\n",
       "        vertical-align: middle;\n",
       "    }\n",
       "\n",
       "    .dataframe tbody tr th {\n",
       "        vertical-align: top;\n",
       "    }\n",
       "\n",
       "    .dataframe thead th {\n",
       "        text-align: right;\n",
       "    }\n",
       "</style>\n",
       "<table border=\"1\" class=\"dataframe\">\n",
       "  <thead>\n",
       "    <tr style=\"text-align: right;\">\n",
       "      <th></th>\n",
       "      <th>URL</th>\n",
       "      <th>Book</th>\n",
       "      <th>Text</th>\n",
       "      <th>hdr1</th>\n",
       "      <th>hdr2</th>\n",
       "      <th>tildeinfo</th>\n",
       "      <th>note</th>\n",
       "      <th>lines</th>\n",
       "      <th>metadata</th>\n",
       "      <th>data</th>\n",
       "      <th>filename</th>\n",
       "      <th>PHI_ID</th>\n",
       "      <th>string_pythia</th>\n",
       "    </tr>\n",
       "  </thead>\n",
       "  <tbody>\n",
       "    <tr>\n",
       "      <th>57602</th>\n",
       "      <td>/text/175723?location=1696&amp;patt=&amp;bookid=209&amp;bo...</td>\n",
       "      <td>IGLPalermo</td>\n",
       "      <td>120[1]</td>\n",
       "      <td>Regions\\nSicily, Italy, and the West (IG XIV)</td>\n",
       "      <td>IGLPalermo\\n120[1]</td>\n",
       "      <td>Sikelia — Thermai Himeraiai (Termini) — not la...</td>\n",
       "      <td>{}</td>\n",
       "      <td>0</td>\n",
       "      <td>{}</td>\n",
       "      <td>{}</td>\n",
       "      <td>IGLPalermo.csv</td>\n",
       "      <td>175723</td>\n",
       "      <td></td>\n",
       "    </tr>\n",
       "    <tr>\n",
       "      <th>160833</th>\n",
       "      <td>/text/294703?location=1703&amp;patt=&amp;bookid=172&amp;bo...</td>\n",
       "      <td>SEG</td>\n",
       "      <td>40:115</td>\n",
       "      <td>Regions\\nEgypt, Nubia and CyrenaïcaEgypt and N...</td>\n",
       "      <td>SEG\\n40:115</td>\n",
       "      <td>{}</td>\n",
       "      <td>{}</td>\n",
       "      <td>0</td>\n",
       "      <td>{}</td>\n",
       "      <td>{}</td>\n",
       "      <td>SEG.csv</td>\n",
       "      <td>294703</td>\n",
       "      <td></td>\n",
       "    </tr>\n",
       "  </tbody>\n",
       "</table>\n",
       "</div>"
      ],
      "text/plain": [
       "                                                      URL        Book    Text  \\\n",
       "57602   /text/175723?location=1696&patt=&bookid=209&bo...  IGLPalermo  120[1]   \n",
       "160833  /text/294703?location=1703&patt=&bookid=172&bo...         SEG  40:115   \n",
       "\n",
       "                                                     hdr1                hdr2  \\\n",
       "57602       Regions\\nSicily, Italy, and the West (IG XIV)  IGLPalermo\\n120[1]   \n",
       "160833  Regions\\nEgypt, Nubia and CyrenaïcaEgypt and N...         SEG\\n40:115   \n",
       "\n",
       "                                                tildeinfo note  lines  \\\n",
       "57602   Sikelia — Thermai Himeraiai (Termini) — not la...   {}      0   \n",
       "160833                                                 {}   {}      0   \n",
       "\n",
       "       metadata data        filename  PHI_ID string_pythia  \n",
       "57602        {}   {}  IGLPalermo.csv  175723                \n",
       "160833       {}   {}         SEG.csv  294703                "
      ]
     },
     "execution_count": 24,
     "metadata": {},
     "output_type": "execute_result"
    }
   ],
   "source": [
    "PHI[PHI[\"data\"].apply(lambda x: isinstance(x, dict))]"
   ]
  },
  {
   "cell_type": "code",
   "execution_count": 25,
   "metadata": {},
   "outputs": [],
   "source": [
    "def dict_to_empty_str(x):\n",
    "    if isinstance(x, dict):\n",
    "        x = \"\"\n",
    "    return x\n",
    "PHI = PHI.applymap(dict_to_empty_str)\n",
    "PHI.head(5)"
   ]
  },
  {
   "cell_type": "markdown",
   "metadata": {},
   "source": [
    "# Pythia data"
   ]
  },
  {
   "cell_type": "code",
   "execution_count": 30,
   "metadata": {},
   "outputs": [],
   "source": [
    "url = \"SDAM_data/PHI/PHI_pythia/phi-plaintext.zip\"\n",
    "resp = conf[0].get(conf[1] + url)"
   ]
  },
  {
   "cell_type": "code",
   "execution_count": 31,
   "metadata": {},
   "outputs": [],
   "source": [
    "zipped = zipfile.ZipFile(io.BytesIO(resp.content))"
   ]
  },
  {
   "cell_type": "code",
   "execution_count": 32,
   "metadata": {},
   "outputs": [
    {
     "data": {
      "text/plain": [
       "['phi-plaintext/285586.txt',\n",
       " 'phi-plaintext/186989.txt',\n",
       " 'phi-plaintext/180320.txt',\n",
       " 'phi-plaintext/284840.txt',\n",
       " 'phi-plaintext/261172.txt',\n",
       " 'phi-plaintext/3644.txt',\n",
       " 'phi-plaintext/249826.txt',\n",
       " 'phi-plaintext/152266.txt',\n",
       " 'phi-plaintext/239319.txt',\n",
       " 'phi-plaintext/5235.txt']"
      ]
     },
     "execution_count": 32,
     "metadata": {},
     "output_type": "execute_result"
    }
   ],
   "source": [
    "namelist = zipped.namelist()\n",
    "namelist = [file for file in namelist if (\".txt\" in file) and (file[0] != \"_\")]\n",
    "namelist[:10]"
   ]
  },
  {
   "cell_type": "code",
   "execution_count": 50,
   "metadata": {},
   "outputs": [
    {
     "data": {
      "text/plain": [
       "42711"
      ]
     },
     "execution_count": 50,
     "metadata": {},
     "output_type": "execute_result"
    }
   ],
   "source": [
    "len(namelist)"
   ]
  },
  {
   "cell_type": "code",
   "execution_count": 33,
   "metadata": {},
   "outputs": [],
   "source": [
    "### to do below some matching, we have to take care of appropriate encoding\n",
    "from unicodedata import normalize\n",
    "def normalize_string(string):\n",
    "    try:\n",
    "        return normalize(\"NFC\", string)\n",
    "    except: \n",
    "        return \"\""
   ]
  },
  {
   "cell_type": "code",
   "execution_count": 34,
   "metadata": {},
   "outputs": [],
   "source": [
    "phi_pythia_dict = {}\n",
    "for filename in namelist:\n",
    "    phi_number = filename.rpartition(\"/\")[2].partition(\".txt\")[0]\n",
    "    phi_string = normalize_string(zipped.read(filename).decode())\n",
    "    phi_pythia_dict[phi_number] =  phi_string"
   ]
  },
  {
   "cell_type": "code",
   "execution_count": 35,
   "metadata": {},
   "outputs": [
    {
     "data": {
      "text/plain": [
       "'------------------------------- ερε[------------------------------------------------- ἱππ]όνικο[ς εἶπε ----------------------------------------------] ἑκαστο[---------------------------------- μισθὸν λαμβάνειν δ]ραχμὲν τε[ς ἑμέρας ἑκάστες ἐπιμέλεσθαι δὲ αὐτὸς καὶ τες κρένες κα]ὶ τες ἀγογες [το ὕδατος ----------------------- νικόμαχος εἶπε τὰ] μὲν ἄλλα καθ[άπερ τει βολει ---------------------------------] ει ὅπος ἂν ῥέοσ[ι ------------------------------ ὅπος δ ἂν ἀπὸ ὀ]λιγίστον χρεμάτο[ν --------------------- τὸς πρυτάνες ὁὶ ἂν λάχ]οσι προτοι πρυτανεύ[εν ----------------------- ἐν τει πρότει τον] κυρίον ἐκκλεσιον προτ[ον μετὰ τὰ ἱερὰ --------------------- ἀγα]θὸν ε ναι τοι δέμοι τοι ἀθε[ναίον ---------------------------- με]δεμία γίγνεται καὶ ἔχει ἀθε[ναίοις ὁς ----------------------- ε]ἶπε τὰ μὲν ἄλλα καθάπερ νικόμα[χος ἐπαινέσαι δὲ καὶ περικλεῖ καὶ παρ]άλοι καὶ χσανθίπποι καὶ τοῖς ὑέ[σιν ἀπαναλίσκεν δὲ ἀπὸ τον χρεμάτον] ὅσα ἐς τὸν φόρον τὸν ἀθεναίον τελ[εται ἐπειδὰν ἑ θεὸς ἐχς αὐτον λαμ]βάνει τὰ νομιζόμενα.'"
      ]
     },
     "execution_count": 35,
     "metadata": {},
     "output_type": "execute_result"
    }
   ],
   "source": [
    "phi_pythia_dict[\"50\"]"
   ]
  },
  {
   "cell_type": "code",
   "execution_count": 36,
   "metadata": {},
   "outputs": [],
   "source": [
    "def get_pythia_text_by_number(phi_number):\n",
    "    try: return phi_pythia_dict[str(phi_number)]\n",
    "    except: return \"\""
   ]
  },
  {
   "cell_type": "code",
   "execution_count": 37,
   "metadata": {},
   "outputs": [],
   "source": [
    "PHI[\"string_pythia\"] = PHI[\"PHI_ID\"].apply(get_pythia_text_by_number)  "
   ]
  },
  {
   "cell_type": "code",
   "execution_count": 38,
   "metadata": {},
   "outputs": [
    {
     "data": {
      "text/html": [
       "<div>\n",
       "<style scoped>\n",
       "    .dataframe tbody tr th:only-of-type {\n",
       "        vertical-align: middle;\n",
       "    }\n",
       "\n",
       "    .dataframe tbody tr th {\n",
       "        vertical-align: top;\n",
       "    }\n",
       "\n",
       "    .dataframe thead th {\n",
       "        text-align: right;\n",
       "    }\n",
       "</style>\n",
       "<table border=\"1\" class=\"dataframe\">\n",
       "  <thead>\n",
       "    <tr style=\"text-align: right;\">\n",
       "      <th></th>\n",
       "      <th>URL</th>\n",
       "      <th>Book</th>\n",
       "      <th>Text</th>\n",
       "      <th>hdr1</th>\n",
       "      <th>hdr2</th>\n",
       "      <th>tildeinfo</th>\n",
       "      <th>note</th>\n",
       "      <th>lines</th>\n",
       "      <th>metadata</th>\n",
       "      <th>data</th>\n",
       "      <th>filename</th>\n",
       "      <th>PHI_ID</th>\n",
       "      <th>string_pythia</th>\n",
       "    </tr>\n",
       "  </thead>\n",
       "  <tbody>\n",
       "    <tr>\n",
       "      <th>0</th>\n",
       "      <td>/text/1?location=1701&amp;patt=&amp;bookid=4&amp;offset=0&amp;...</td>\n",
       "      <td>IG I³</td>\n",
       "      <td>1</td>\n",
       "      <td>Regions\\nAttica (IG I-III)</td>\n",
       "      <td>IG I³\\n1</td>\n",
       "      <td>Att. — Ath.: Akr. — stoich. 35 — c. 510-500 a....</td>\n",
       "      <td></td>\n",
       "      <td>12</td>\n",
       "      <td>1\\n\\n\\n\\n5\\n\\n\\n\\n\\n10\\n\\n</td>\n",
       "      <td>ἔδοχσεν το͂ι δέμοι· τ̣[ὸς ἐ Σ]αλαμ̣[ῖνι κλερόχ...</td>\n",
       "      <td>IG-I³.csv</td>\n",
       "      <td>1</td>\n",
       "      <td>ἔδοχσεν τοι δέμοι τ[ὸς ἐ σ]αλαμ[ῖνι κλερόχ]ος ...</td>\n",
       "    </tr>\n",
       "    <tr>\n",
       "      <th>1</th>\n",
       "      <td>/text/2?location=1701&amp;patt=&amp;bookid=4&amp;offset=0&amp;...</td>\n",
       "      <td>IG I³</td>\n",
       "      <td>2</td>\n",
       "      <td>Regions\\nAttica (IG I-III)</td>\n",
       "      <td>IG I³\\n2</td>\n",
       "      <td>Att. — non-stoich. — c. 500 a.</td>\n",
       "      <td></td>\n",
       "      <td>14</td>\n",
       "      <td>1\\n\\n\\n\\n5\\n\\n\\n\\n\\n10\\n\\n\\n\\n</td>\n",
       "      <td>[․․8-9․․․]ν̣ βολ — — — — — — — — — —\\n[․6-7․․]...</td>\n",
       "      <td>IG-I³.csv</td>\n",
       "      <td>2</td>\n",
       "      <td>[--------9---]ν βολ ---------- [------7--] α ἑ...</td>\n",
       "    </tr>\n",
       "    <tr>\n",
       "      <th>2</th>\n",
       "      <td>/text/3?location=1701&amp;patt=&amp;bookid=4&amp;offset=0&amp;...</td>\n",
       "      <td>IG I³</td>\n",
       "      <td>3</td>\n",
       "      <td>Regions\\nAttica (IG I-III)</td>\n",
       "      <td>IG I³\\n3</td>\n",
       "      <td>Att. — stoich. 21 — 490-480 a.</td>\n",
       "      <td></td>\n",
       "      <td>13</td>\n",
       "      <td>1\\n\\n\\n\\n5\\n\\n\\n\\n\\n10\\n\\n\\n</td>\n",
       "      <td>[․]αρ[․․․․]ι ℎερακλειο[․․5․․]\\n[․]αρ̣ο#⁷[․] τι...</td>\n",
       "      <td>IG-I³.csv</td>\n",
       "      <td>3</td>\n",
       "      <td>[-]αρ[----]ι ἑρακλειο[-----] [-]αρο [-] τιθένα...</td>\n",
       "    </tr>\n",
       "    <tr>\n",
       "      <th>3</th>\n",
       "      <td>/text/4?location=1701&amp;patt=&amp;bookid=4&amp;offset=0&amp;...</td>\n",
       "      <td>IG I³</td>\n",
       "      <td>4</td>\n",
       "      <td>Regions\\nAttica (IG I-III)</td>\n",
       "      <td>IG I³\\n4</td>\n",
       "      <td>Att. — stoich. 38 — 485/4 a.</td>\n",
       "      <td></td>\n",
       "      <td>56</td>\n",
       "      <td>face A.1\\n\\n\\n\\n5\\n\\n\\n\\n\\n10\\n\\n\\n\\n\\n15\\n\\n\\...</td>\n",
       "      <td>[․․․․․․․․․․․․․․․․․․38․․․․․․․․․․․․․․․․․․]\\n[․․․...</td>\n",
       "      <td>IG-I³.csv</td>\n",
       "      <td>4</td>\n",
       "      <td>[--------------------------------------] [----...</td>\n",
       "    </tr>\n",
       "    <tr>\n",
       "      <th>4</th>\n",
       "      <td>/text/5?location=1701&amp;patt=&amp;bookid=4&amp;offset=0&amp;...</td>\n",
       "      <td>IG I³</td>\n",
       "      <td>5</td>\n",
       "      <td>Regions\\nAttica (IG I-III)</td>\n",
       "      <td>IG I³\\n5</td>\n",
       "      <td>Att. — c. 500 a.</td>\n",
       "      <td></td>\n",
       "      <td>6</td>\n",
       "      <td>1\\n\\n\\n\\n5\\n</td>\n",
       "      <td>[ἔδοχσε]ν [⋮ τε͂ι βολε͂ι] ⋮ καὶ [τ]ο͂ι δέμοι ⋮...</td>\n",
       "      <td>IG-I³.csv</td>\n",
       "      <td>5</td>\n",
       "      <td>[ἔδοχσε]ν [ τει βολει] καὶ [τ]οι δέμοι ὅτε παρ...</td>\n",
       "    </tr>\n",
       "    <tr>\n",
       "      <th>5</th>\n",
       "      <td>/text/6?location=1701&amp;patt=&amp;bookid=4&amp;offset=0&amp;...</td>\n",
       "      <td>IG I³</td>\n",
       "      <td>6</td>\n",
       "      <td>Regions\\nAttica (IG I-III)</td>\n",
       "      <td>IG I³\\n6</td>\n",
       "      <td>Att. — stoich. 23/11 — ante 460 a.</td>\n",
       "      <td></td>\n",
       "      <td>160</td>\n",
       "      <td>face A.BM 309.1\\n\\n\\n\\n5\\n\\n\\n\\n\\n10\\n\\n\\n\\n\\n...</td>\n",
       "      <td>— — — — — — — — — — — — —\\n[․․․․․․15․․․․․․․] δ...</td>\n",
       "      <td>IG-I³.csv</td>\n",
       "      <td>6</td>\n",
       "      <td>------------- [---------------] δραχμεισ[ι ---...</td>\n",
       "    </tr>\n",
       "    <tr>\n",
       "      <th>6</th>\n",
       "      <td>/text/7?location=1701&amp;patt=&amp;bookid=4&amp;offset=0&amp;...</td>\n",
       "      <td>IG I³</td>\n",
       "      <td>7</td>\n",
       "      <td>Regions\\nAttica (IG I-III)</td>\n",
       "      <td>IG I³\\n7</td>\n",
       "      <td>Att. — stoich. 40 — 460-450</td>\n",
       "      <td></td>\n",
       "      <td>28</td>\n",
       "      <td>frg. a.1\\n\\n\\n\\n5\\n\\n\\n\\n\\n10\\n\\n\\n\\n13\\n\\n\\nf...</td>\n",
       "      <td>[ἔδοχσεν τε͂]ι βο[λ]ε͂[ι καὶ το͂ι δέμοι· ․․6․․...</td>\n",
       "      <td>IG-I³.csv</td>\n",
       "      <td>7</td>\n",
       "      <td>[ἔδοχσεν τε]ι βο[λ]ε[ι καὶ τοι δέμοι ------ ἐπ...</td>\n",
       "    </tr>\n",
       "    <tr>\n",
       "      <th>7</th>\n",
       "      <td>/text/8?location=1701&amp;patt=&amp;bookid=4&amp;offset=0&amp;...</td>\n",
       "      <td>IG I³</td>\n",
       "      <td>8</td>\n",
       "      <td>Regions\\nAttica (IG I-III)</td>\n",
       "      <td>IG I³\\n8</td>\n",
       "      <td>Att. — stoich. 32 — 460-450</td>\n",
       "      <td></td>\n",
       "      <td>26</td>\n",
       "      <td>frg. a.1\\n\\n\\n\\n5\\n\\n\\n\\n\\n10\\n\\n\\nfrg. b.12\\n...</td>\n",
       "      <td>[․․5․․]#⁷ον ℎὰ ο[․․․․․․․․․21․․․․․․․․․․]\\nα περ...</td>\n",
       "      <td>IG-I³.csv</td>\n",
       "      <td>8</td>\n",
       "      <td>[-----] ον ἃ ο[---------------------] α περὶ τ...</td>\n",
       "    </tr>\n",
       "    <tr>\n",
       "      <th>8</th>\n",
       "      <td>/text/9?location=1701&amp;patt=&amp;bookid=4&amp;offset=0&amp;...</td>\n",
       "      <td>IG I³</td>\n",
       "      <td>9</td>\n",
       "      <td>Regions\\nAttica (IG I-III)</td>\n",
       "      <td>IG I³\\n9</td>\n",
       "      <td>Att. — stoich. 24 — c. 458 a.</td>\n",
       "      <td></td>\n",
       "      <td>17</td>\n",
       "      <td>1\\n\\n\\n\\n5\\n\\n\\n\\n\\n10\\n\\n\\n\\n\\n15\\n\\n</td>\n",
       "      <td>[ἔδοχσεν τε͂ι βο]λε̣͂ι καὶ το͂[ι δέμ]-\\n[οι· ․...</td>\n",
       "      <td>IG-I³.csv</td>\n",
       "      <td>9</td>\n",
       "      <td>[ἔδοχσεν τει βο]λει καὶ το[ι δέμοι ---ντὶς ἐπρ...</td>\n",
       "    </tr>\n",
       "    <tr>\n",
       "      <th>9</th>\n",
       "      <td>/text/10?location=1701&amp;patt=&amp;bookid=4&amp;offset=0...</td>\n",
       "      <td>IG I³</td>\n",
       "      <td>10</td>\n",
       "      <td>Regions\\nAttica (IG I-III)</td>\n",
       "      <td>IG I³\\n10</td>\n",
       "      <td>Att. — stoich. 22 — 469-450</td>\n",
       "      <td></td>\n",
       "      <td>28</td>\n",
       "      <td>1\\n\\n\\n\\n5\\n\\n\\n\\n\\n10\\n\\n\\n\\n\\n15\\n\\n\\n\\n\\n20...</td>\n",
       "      <td>[ἔδο]ξεν τῆι βολῆι καὶ τῶι δ[ή]-\\n[μωι· Ἀ]καμα...</td>\n",
       "      <td>IG-I³.csv</td>\n",
       "      <td>10</td>\n",
       "      <td>[ἔδο]ξεν τῆι βολῆι καὶ τῶι δ[ήμωι ἀ]καμαντὶς [...</td>\n",
       "    </tr>\n",
       "  </tbody>\n",
       "</table>\n",
       "</div>"
      ],
      "text/plain": [
       "                                                 URL   Book Text  \\\n",
       "0  /text/1?location=1701&patt=&bookid=4&offset=0&...  IG I³    1   \n",
       "1  /text/2?location=1701&patt=&bookid=4&offset=0&...  IG I³    2   \n",
       "2  /text/3?location=1701&patt=&bookid=4&offset=0&...  IG I³    3   \n",
       "3  /text/4?location=1701&patt=&bookid=4&offset=0&...  IG I³    4   \n",
       "4  /text/5?location=1701&patt=&bookid=4&offset=0&...  IG I³    5   \n",
       "5  /text/6?location=1701&patt=&bookid=4&offset=0&...  IG I³    6   \n",
       "6  /text/7?location=1701&patt=&bookid=4&offset=0&...  IG I³    7   \n",
       "7  /text/8?location=1701&patt=&bookid=4&offset=0&...  IG I³    8   \n",
       "8  /text/9?location=1701&patt=&bookid=4&offset=0&...  IG I³    9   \n",
       "9  /text/10?location=1701&patt=&bookid=4&offset=0...  IG I³   10   \n",
       "\n",
       "                         hdr1       hdr2  \\\n",
       "0  Regions\\nAttica (IG I-III)   IG I³\\n1   \n",
       "1  Regions\\nAttica (IG I-III)   IG I³\\n2   \n",
       "2  Regions\\nAttica (IG I-III)   IG I³\\n3   \n",
       "3  Regions\\nAttica (IG I-III)   IG I³\\n4   \n",
       "4  Regions\\nAttica (IG I-III)   IG I³\\n5   \n",
       "5  Regions\\nAttica (IG I-III)   IG I³\\n6   \n",
       "6  Regions\\nAttica (IG I-III)   IG I³\\n7   \n",
       "7  Regions\\nAttica (IG I-III)   IG I³\\n8   \n",
       "8  Regions\\nAttica (IG I-III)   IG I³\\n9   \n",
       "9  Regions\\nAttica (IG I-III)  IG I³\\n10   \n",
       "\n",
       "                                           tildeinfo note  lines  \\\n",
       "0  Att. — Ath.: Akr. — stoich. 35 — c. 510-500 a....          12   \n",
       "1                     Att. — non-stoich. — c. 500 a.          14   \n",
       "2                     Att. — stoich. 21 — 490-480 a.          13   \n",
       "3                       Att. — stoich. 38 — 485/4 a.          56   \n",
       "4                                   Att. — c. 500 a.           6   \n",
       "5                 Att. — stoich. 23/11 — ante 460 a.         160   \n",
       "6                        Att. — stoich. 40 — 460-450          28   \n",
       "7                        Att. — stoich. 32 — 460-450          26   \n",
       "8                      Att. — stoich. 24 — c. 458 a.          17   \n",
       "9                        Att. — stoich. 22 — 469-450          28   \n",
       "\n",
       "                                            metadata  \\\n",
       "0                         1\\n\\n\\n\\n5\\n\\n\\n\\n\\n10\\n\\n   \n",
       "1                     1\\n\\n\\n\\n5\\n\\n\\n\\n\\n10\\n\\n\\n\\n   \n",
       "2                       1\\n\\n\\n\\n5\\n\\n\\n\\n\\n10\\n\\n\\n   \n",
       "3  face A.1\\n\\n\\n\\n5\\n\\n\\n\\n\\n10\\n\\n\\n\\n\\n15\\n\\n\\...   \n",
       "4                                       1\\n\\n\\n\\n5\\n   \n",
       "5  face A.BM 309.1\\n\\n\\n\\n5\\n\\n\\n\\n\\n10\\n\\n\\n\\n\\n...   \n",
       "6  frg. a.1\\n\\n\\n\\n5\\n\\n\\n\\n\\n10\\n\\n\\n\\n13\\n\\n\\nf...   \n",
       "7  frg. a.1\\n\\n\\n\\n5\\n\\n\\n\\n\\n10\\n\\n\\nfrg. b.12\\n...   \n",
       "8             1\\n\\n\\n\\n5\\n\\n\\n\\n\\n10\\n\\n\\n\\n\\n15\\n\\n   \n",
       "9  1\\n\\n\\n\\n5\\n\\n\\n\\n\\n10\\n\\n\\n\\n\\n15\\n\\n\\n\\n\\n20...   \n",
       "\n",
       "                                                data   filename  PHI_ID  \\\n",
       "0  ἔδοχσεν το͂ι δέμοι· τ̣[ὸς ἐ Σ]αλαμ̣[ῖνι κλερόχ...  IG-I³.csv       1   \n",
       "1  [․․8-9․․․]ν̣ βολ — — — — — — — — — —\\n[․6-7․․]...  IG-I³.csv       2   \n",
       "2  [․]αρ[․․․․]ι ℎερακλειο[․․5․․]\\n[․]αρ̣ο#⁷[․] τι...  IG-I³.csv       3   \n",
       "3  [․․․․․․․․․․․․․․․․․․38․․․․․․․․․․․․․․․․․․]\\n[․․․...  IG-I³.csv       4   \n",
       "4  [ἔδοχσε]ν [⋮ τε͂ι βολε͂ι] ⋮ καὶ [τ]ο͂ι δέμοι ⋮...  IG-I³.csv       5   \n",
       "5  — — — — — — — — — — — — —\\n[․․․․․․15․․․․․․․] δ...  IG-I³.csv       6   \n",
       "6  [ἔδοχσεν τε͂]ι βο[λ]ε͂[ι καὶ το͂ι δέμοι· ․․6․․...  IG-I³.csv       7   \n",
       "7  [․․5․․]#⁷ον ℎὰ ο[․․․․․․․․․21․․․․․․․․․․]\\nα περ...  IG-I³.csv       8   \n",
       "8  [ἔδοχσεν τε͂ι βο]λε̣͂ι καὶ το͂[ι δέμ]-\\n[οι· ․...  IG-I³.csv       9   \n",
       "9  [ἔδο]ξεν τῆι βολῆι καὶ τῶι δ[ή]-\\n[μωι· Ἀ]καμα...  IG-I³.csv      10   \n",
       "\n",
       "                                       string_pythia  \n",
       "0  ἔδοχσεν τοι δέμοι τ[ὸς ἐ σ]αλαμ[ῖνι κλερόχ]ος ...  \n",
       "1  [--------9---]ν βολ ---------- [------7--] α ἑ...  \n",
       "2  [-]αρ[----]ι ἑρακλειο[-----] [-]αρο [-] τιθένα...  \n",
       "3  [--------------------------------------] [----...  \n",
       "4  [ἔδοχσε]ν [ τει βολει] καὶ [τ]οι δέμοι ὅτε παρ...  \n",
       "5  ------------- [---------------] δραχμεισ[ι ---...  \n",
       "6  [ἔδοχσεν τε]ι βο[λ]ε[ι καὶ τοι δέμοι ------ ἐπ...  \n",
       "7  [-----] ον ἃ ο[---------------------] α περὶ τ...  \n",
       "8  [ἔδοχσεν τει βο]λει καὶ το[ι δέμοι ---ντὶς ἐπρ...  \n",
       "9  [ἔδο]ξεν τῆι βολῆι καὶ τῶι δ[ήμωι ἀ]καμαντὶς [...  "
      ]
     },
     "execution_count": 38,
     "metadata": {},
     "output_type": "execute_result"
    }
   ],
   "source": [
    "PHI.head(10)"
   ]
  },
  {
   "cell_type": "code",
   "execution_count": 42,
   "metadata": {},
   "outputs": [
    {
     "data": {
      "text/plain": [
       "42710"
      ]
     },
     "execution_count": 42,
     "metadata": {},
     "output_type": "execute_result"
    }
   ],
   "source": [
    "len(PHI[PHI[\"string_pythia\"] != \"\"])"
   ]
  },
  {
   "cell_type": "code",
   "execution_count": 44,
   "metadata": {},
   "outputs": [],
   "source": [
    "def extend_pythia(row):\n",
    "    if row[\"string_pythia\"] == \"\":\n",
    "        return row[\"data\"]\n",
    "    else: \n",
    "        return row[\"string_pythia\"]"
   ]
  },
  {
   "cell_type": "code",
   "execution_count": 45,
   "metadata": {},
   "outputs": [],
   "source": [
    "PHI[\"string_pythia\"] = PHI.apply(lambda row: extend_pythia(row), axis=1)"
   ]
  },
  {
   "cell_type": "code",
   "execution_count": 51,
   "metadata": {},
   "outputs": [
    {
     "data": {
      "text/plain": [
       "6998420"
      ]
     },
     "execution_count": 51,
     "metadata": {},
     "output_type": "execute_result"
    }
   ],
   "source": [
    "PHI[\"data\"].apply(lambda x: len(x.split())).sum()"
   ]
  },
  {
   "cell_type": "code",
   "execution_count": 52,
   "metadata": {},
   "outputs": [
    {
     "data": {
      "text/plain": [
       "5412718"
      ]
     },
     "execution_count": 52,
     "metadata": {},
     "output_type": "execute_result"
    }
   ],
   "source": [
    "PHI[\"string_pythia\"].apply(lambda x: len(x.split())).sum()"
   ]
  },
  {
   "cell_type": "code",
   "execution_count": 49,
   "metadata": {},
   "outputs": [
    {
     "name": "stdout",
     "output_type": "stream",
     "text": [
      "A file with the same name (\"PHI_with_pythia_20201216.json\") already exists in this location.\n",
      "Press Enter to overwrite it or choose different path and filename: \n",
      "Your <class 'pandas.core.frame.DataFrame'> object has been succefully written as \"https://sciencedata.dk/files/SDAM_root/SDAM_data/PHI/PHI_with_pythia_20201216.json\"\n"
     ]
    }
   ],
   "source": [
    "sddk.write_file(\"SDAM_data/PHI/PHI_with_pythia_20201216.json\", PHI, conf)"
   ]
  },
  {
   "cell_type": "code",
   "execution_count": null,
   "metadata": {},
   "outputs": [],
   "source": []
  }
 ],
 "metadata": {
  "kernelspec": {
   "display_name": "Python 3",
   "language": "python",
   "name": "python3"
  },
  "language_info": {
   "codemirror_mode": {
    "name": "ipython",
    "version": 3
   },
   "file_extension": ".py",
   "mimetype": "text/x-python",
   "name": "python",
   "nbconvert_exporter": "python",
   "pygments_lexer": "ipython3",
   "version": "3.6.9"
  }
 },
 "nbformat": 4,
 "nbformat_minor": 4
}
