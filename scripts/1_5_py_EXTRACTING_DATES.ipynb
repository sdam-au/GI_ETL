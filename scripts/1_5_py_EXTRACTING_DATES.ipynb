{
 "cells": [
  {
   "cell_type": "markdown",
   "metadata": {
    "colab_type": "text",
    "id": "vhWC0rHNkwrI"
   },
   "source": [
    "# Introduction\n",
    "\n",
    "* **Description**\n",
    "\n",
    "This script contains a series of functions for extracting numerical dates (e.g. an interval 101-200) from a historical dataset experessing this information in a textual form (e.g. \"2nd c. AD\"). The functions have been developed especially for extracting dates from the PHI dataset, but might be reused for other applications.\n",
    "\n",
    "In the core of the script is the function `date_extractor()`. This function takes as an input a textual date (e.g. \"s. III/II p.\" [= \"3rd or 2nd c. BC\"]) and returns a dictionary of dating values, e.g:\n",
    "```python\n",
    "{\"not_before\" : -300, \"not_after\" : -101, \"date_tags\": [\"range\", \"cent\", \"morece\"]}\n",
    "```\n",
    "where `\"date_tags\"` contains tags specifying what kind of dating it is: `range` means that it is an interval; `cent` means that the interval is based on information about centuries; and `morece` implies that there is more than one century.\n",
    "\n",
    "`date_extractor()` relies upon a number of other functions designed to extract individual types of dates:\n",
    "* `extract_ante_and_post(datation, dating)` looks for words like \"post\" and \"ante\", \"not before\" etc. and modifies the numerical dating (in `dating` dictionary) accordingly. E.g. \"ante 305BC\" means all years before the stop year `-305`; \"not before the reign of Trajan\" means all years after `97`\n",
    "*  `extract_period(datation)` checks whether the textual datation contains a period (like \"reign of Tiberius\") which could be translated into an interval (14-37).\n",
    "* `parse_centuries()` extract intervals for individual centuries. It deals with cases in which more centuries are present (e.g. \"s. III/II a.\") and even where one is BC and another AD (e.g. \"1st c. BC-1st c. AD\")\n",
    "* `modify_by_phase(datation, dating)` modify the ranges in `dating` by evaluating presence of words like \"beginning\", \"early\", \"late\" and \"end\". We use these parameters:\n",
    "  * \"beginning\": first 10% of the range (defined by \"start\" and \"stop\" in the `dating` dictionary)\n",
    "  * \"early\": first 25% of the range\n",
    "  * \"late\": last 25% of the range\n",
    "  * \"end\": last 10% of the range\n",
    "  * \"ca.\": extends the range by adding 10% on the left and 10% on the right\n",
    "\n",
    "\n",
    "* **data input**\n",
    "  * `PHI_merged_[timestamp].json`\n",
    "  * `PHI_overview` gsheet\n",
    "* **data output**\n",
    "  * `PHI_dated_[timestamp].json`\n",
    "  * `PHI_overview` gsheet\n",
    "\n",
    "* **author**: Vojtěch Kaše\n",
    "* **last complete run**: 2020-06-30\n"
   ]
  },
  {
   "cell_type": "markdown",
   "metadata": {
    "colab_type": "text",
    "id": "yhyBq3wOfMFv"
   },
   "source": [
    "# Requirements"
   ]
  },
  {
   "cell_type": "code",
   "execution_count": 1,
   "metadata": {
    "colab": {},
    "colab_type": "code",
    "id": "JcNeUMCflzF8"
   },
   "outputs": [],
   "source": [
    "import numpy as np  # as usual\n",
    "import math\n",
    "import pandas as pd\n",
    "import re\n",
    "\n",
    "import sys\n",
    "import requests\n",
    "from bs4 import BeautifulSoup\n",
    "import json\n",
    "\n",
    "import datetime as dt\n",
    "# for simple paralel computing:\n",
    "from concurrent.futures import ThreadPoolExecutor\n",
    "\n",
    "import gspread\n",
    "from gspread_dataframe import get_as_dataframe, set_with_dataframe\n",
    "from google.oauth2 import service_account # based on google-auth library\n",
    "\n",
    "import sddk"
   ]
  },
  {
   "cell_type": "markdown",
   "metadata": {
    "colab_type": "text",
    "id": "H_CYM7yh9UTw"
   },
   "source": [
    "# authentication"
   ]
  },
  {
   "cell_type": "code",
   "execution_count": 2,
   "metadata": {
    "colab": {
     "base_uri": "https://localhost:8080/",
     "height": 85
    },
    "colab_type": "code",
    "id": "MhnThoX5kUKs",
    "outputId": "4e34cd17-b91e-44ca-a94c-e4baa973a29b"
   },
   "outputs": [
    {
     "name": "stdout",
     "output_type": "stream",
     "text": [
      "sciencedata.dk username (format '123456@au.dk'): 648597@au.dk\n",
      "sciencedata.dk password: ········\n",
      "connection with shared folder established with you as its owner\n",
      "endpoint variable has been configured to: https://sciencedata.dk/files/SDAM_root/\n"
     ]
    }
   ],
   "source": [
    "# login to sciencedata \n",
    "conf = sddk.configure(\"SDAM_root\", \"648597@au.dk\")"
   ]
  },
  {
   "cell_type": "code",
   "execution_count": 3,
   "metadata": {
    "colab": {},
    "colab_type": "code",
    "id": "06TCxflGbtLj"
   },
   "outputs": [],
   "source": [
    "# to access gsheet, you need Google Service Account key json file\n",
    "# I have mine located in my personal space on sciencedata.dk, so I read it from there:\n",
    "\n",
    "# (1) read the file and parse its content\n",
    "file_data = conf[0].get(\"https://sciencedata.dk/files/ServiceAccountsKey.json\").json()\n",
    "# (2) transform the content into crendentials object\n",
    "credentials = service_account.Credentials.from_service_account_info(file_data)\n",
    "# (3) specify your usage of the credentials\n",
    "scoped_credentials = credentials.with_scopes(['https://spreadsheets.google.com/feeds', 'https://www.googleapis.com/auth/drive'])\n",
    "# (4) use the constrained credentials for authentication of gspread package\n",
    "gc = gspread.Client(auth=scoped_credentials)\n",
    "\n",
    "PHI_overview = gc.open_by_url(\"https://docs.google.com/spreadsheets/d/1zfTw0Hf304maBmrYvaMxRLnv1zfAVFixrtGTTsLCcT4/edit?usp=sharing\")"
   ]
  },
  {
   "cell_type": "markdown",
   "metadata": {
    "colab_type": "text",
    "id": "hSbHsFtn3_IA"
   },
   "source": [
    "# Read data"
   ]
  },
  {
   "cell_type": "code",
   "execution_count": 4,
   "metadata": {
    "colab": {
     "base_uri": "https://localhost:8080/",
     "height": 411
    },
    "colab_type": "code",
    "id": "dV9g_k8d_kZU",
    "outputId": "fa4e3f59-bb8c-46e2-aa48-721d48edf205"
   },
   "outputs": [
    {
     "data": {
      "text/html": [
       "<div>\n",
       "<style scoped>\n",
       "    .dataframe tbody tr th:only-of-type {\n",
       "        vertical-align: middle;\n",
       "    }\n",
       "\n",
       "    .dataframe tbody tr th {\n",
       "        vertical-align: top;\n",
       "    }\n",
       "\n",
       "    .dataframe thead th {\n",
       "        text-align: right;\n",
       "    }\n",
       "</style>\n",
       "<table border=\"1\" class=\"dataframe\">\n",
       "  <thead>\n",
       "    <tr style=\"text-align: right;\">\n",
       "      <th></th>\n",
       "      <th>URL</th>\n",
       "      <th>Book</th>\n",
       "      <th>Text</th>\n",
       "      <th>hdr1</th>\n",
       "      <th>hdr2</th>\n",
       "      <th>tildeinfo</th>\n",
       "      <th>note</th>\n",
       "      <th>lines</th>\n",
       "      <th>metadata</th>\n",
       "      <th>data</th>\n",
       "      <th>...</th>\n",
       "      <th>PHI_ID</th>\n",
       "      <th>string_pythia</th>\n",
       "      <th>clean_text_conservative</th>\n",
       "      <th>clean_text_interpretive_word</th>\n",
       "      <th>clean_text_interpretive_sentence</th>\n",
       "      <th>clean_text_pythia</th>\n",
       "      <th>sents</th>\n",
       "      <th>sents_N</th>\n",
       "      <th>lem_sents</th>\n",
       "      <th>lemmata</th>\n",
       "    </tr>\n",
       "  </thead>\n",
       "  <tbody>\n",
       "    <tr>\n",
       "      <th>0</th>\n",
       "      <td>/text/1?location=1701&amp;patt=&amp;bookid=4&amp;offset=0&amp;...</td>\n",
       "      <td>IG I³</td>\n",
       "      <td>1</td>\n",
       "      <td>Regions\\nAttica (IG I-III)</td>\n",
       "      <td>IG I³\\n1</td>\n",
       "      <td>Att. — Ath.: Akr. — stoich. 35 — c. 510-500 a....</td>\n",
       "      <td></td>\n",
       "      <td>12</td>\n",
       "      <td>1\\n\\n\\n\\n5\\n\\n\\n\\n\\n10\\n\\n</td>\n",
       "      <td>ἔδοχσεν το͂ι δέμοι· τ̣[ὸς ἐ Σ]αλαμ̣[ῖνι κλερόχ...</td>\n",
       "      <td>...</td>\n",
       "      <td>1</td>\n",
       "      <td>ἔδοχσεν τοι δέμοι τ[ὸς ἐ σ]αλαμ[ῖνι κλερόχ]ος ...</td>\n",
       "      <td>ἔδοχσεν το͂ι δέμοι ταλαμος οἰκε͂ν ἐᾶ Σαλαμῖνι ...</td>\n",
       "      <td>ἔδοχσεν το͂ι δέμοι τὸς ἐ Σαλαμῖνι κλερόχος οἰκ...</td>\n",
       "      <td>ἔδοχσεν το͂ι δέμοι τὸς ἐ Σαλαμῖνι κλερόχος οἰκ...</td>\n",
       "      <td>ἔδοχσεν τοι δέμοι τὸς ἐ σαλαμῖνι κλερόχος οἰκε...</td>\n",
       "      <td>[ἔδοχσεν τοι δέμοι τὸς ἐ σαλαμῖνι κλερόχος οἰκ...</td>\n",
       "      <td>1</td>\n",
       "      <td>[[ἔδοχσεν, δέμοι, Σαλαμίς, κλερόχος, οἰκεν, Σα...</td>\n",
       "      <td>[ἔδοχσεν, δέμοι, Σαλαμίς, κλερόχος, οἰκεν, Σαλ...</td>\n",
       "    </tr>\n",
       "    <tr>\n",
       "      <th>1</th>\n",
       "      <td>/text/2?location=1701&amp;patt=&amp;bookid=4&amp;offset=0&amp;...</td>\n",
       "      <td>IG I³</td>\n",
       "      <td>2</td>\n",
       "      <td>Regions\\nAttica (IG I-III)</td>\n",
       "      <td>IG I³\\n2</td>\n",
       "      <td>Att. — non-stoich. — c. 500 a.</td>\n",
       "      <td></td>\n",
       "      <td>14</td>\n",
       "      <td>1\\n\\n\\n\\n5\\n\\n\\n\\n\\n10\\n\\n\\n\\n</td>\n",
       "      <td>[․․8-9․․․]ν̣ βολ — — — — — — — — — —\\n[․6-7․․]...</td>\n",
       "      <td>...</td>\n",
       "      <td>2</td>\n",
       "      <td>[--------9---]ν βολ ---------- [------7--] α ἑ...</td>\n",
       "      <td>ν βολ α ℎεκον σιον γνοσθε͂ι δὲ ν ἀτεχνος μὲ π ...</td>\n",
       "      <td>ν βολ α ℎεκον σιον γνοσθε͂ι δὲ ν ἀτεχνος μὲ π ...</td>\n",
       "      <td>ν βολ ․ α ⋮ ℎεκον σιον, γνοσθε͂ι δὲ ν ἀτεχνος ...</td>\n",
       "      <td>ν βολ α ἑκον σιον γνοσθει δὲ ν ἀτεχνος μὲ π ἄλ...</td>\n",
       "      <td>[ν βολ α ἑκον σιον γνοσθει δὲ ν ἀτεχνος μὲ π ἄ...</td>\n",
       "      <td>1</td>\n",
       "      <td>[[βολ, ἑκών, σίον, γνοσθει, ἄτεχνος, μεδὲ, κελ...</td>\n",
       "      <td>[βολ, ἑκών, σίον, γνοσθει, ἄτεχνος, μεδὲ, κελε...</td>\n",
       "    </tr>\n",
       "    <tr>\n",
       "      <th>2</th>\n",
       "      <td>/text/3?location=1701&amp;patt=&amp;bookid=4&amp;offset=0&amp;...</td>\n",
       "      <td>IG I³</td>\n",
       "      <td>3</td>\n",
       "      <td>Regions\\nAttica (IG I-III)</td>\n",
       "      <td>IG I³\\n3</td>\n",
       "      <td>Att. — stoich. 21 — 490-480 a.</td>\n",
       "      <td></td>\n",
       "      <td>13</td>\n",
       "      <td>1\\n\\n\\n\\n5\\n\\n\\n\\n\\n10\\n\\n\\n</td>\n",
       "      <td>[․]αρ[․․․․]ι ℎερακλειο[․․5․․]\\n[․]αρ̣ο#⁷[․] τι...</td>\n",
       "      <td>...</td>\n",
       "      <td>3</td>\n",
       "      <td>[-]αρ[----]ι ἑρακλειο[-----] [-]αρο [-] τιθένα...</td>\n",
       "      <td>αρι ℎερακλειο αρο τιθέναι τὸς ἀέτας τριάκοντα ...</td>\n",
       "      <td>αρι ℎερακλειο αρο τιθέναι τὸς ἀθλοθέτας τριάκο...</td>\n",
       "      <td>αρι ℎερακλειο αρο τιθέναι τὸς ἀθλοθέτας τριάκο...</td>\n",
       "      <td>αρ ι ἑρακλειο αρο τιθέναι τὸς ἀθλοθέτας τριάκο...</td>\n",
       "      <td>[αρ ι ἑρακλειο αρο τιθέναι τὸς ἀθλοθέτας τριάκ...</td>\n",
       "      <td>1</td>\n",
       "      <td>[[ἑρακλειο, ἀρόω, τίθημι, ἀθλοθέτης, ἀνήρ, ἄγο...</td>\n",
       "      <td>[ἑρακλειο, ἀρόω, τίθημι, ἀθλοθέτης, ἀνήρ, ἄγον...</td>\n",
       "    </tr>\n",
       "    <tr>\n",
       "      <th>3</th>\n",
       "      <td>/text/4?location=1701&amp;patt=&amp;bookid=4&amp;offset=0&amp;...</td>\n",
       "      <td>IG I³</td>\n",
       "      <td>4</td>\n",
       "      <td>Regions\\nAttica (IG I-III)</td>\n",
       "      <td>IG I³\\n4</td>\n",
       "      <td>Att. — stoich. 38 — 485/4 a.</td>\n",
       "      <td></td>\n",
       "      <td>56</td>\n",
       "      <td>face A.1\\n\\n\\n\\n5\\n\\n\\n\\n\\n10\\n\\n\\n\\n\\n15\\n\\n\\...</td>\n",
       "      <td>[․․․․․․․․․․․․․․․․․․38․․․․․․․․․․․․․․․․․․]\\n[․․․...</td>\n",
       "      <td>...</td>\n",
       "      <td>4</td>\n",
       "      <td>[--------------------------------------] [----...</td>\n",
       "      <td>δέ τις αν ἒ φρορὰν μ ντέκοντα δχμὰς τ ας ℎες π...</td>\n",
       "      <td>ἐὰν δέ τις αν ἒ φρορὰν μὲ πεντέκοντα δραχμὰς τ...</td>\n",
       "      <td>ἐὰν δέ τις αν ⋮ ἒ φρορὰν ⋮ μὲ πεντέκοντα ⋮ δρα...</td>\n",
       "      <td>ἐὰν δέ τις αν ἒ φρορὰν μὲ πεντέκοντα δραχμὰς τ...</td>\n",
       "      <td>[ἐὰν δέ τις αν ἒ φρορὰν μὲ πεντέκοντα δραχμὰς ...</td>\n",
       "      <td>2</td>\n",
       "      <td>[[τὶς, φρορὰν, πεντέκοντα, δραχμή, τ, πρᾶχσιν,...</td>\n",
       "      <td>[τὶς, φρορὰν, πεντέκοντα, δραχμή, τ, πρᾶχσιν, ...</td>\n",
       "    </tr>\n",
       "    <tr>\n",
       "      <th>4</th>\n",
       "      <td>/text/5?location=1701&amp;patt=&amp;bookid=4&amp;offset=0&amp;...</td>\n",
       "      <td>IG I³</td>\n",
       "      <td>5</td>\n",
       "      <td>Regions\\nAttica (IG I-III)</td>\n",
       "      <td>IG I³\\n5</td>\n",
       "      <td>Att. — c. 500 a.</td>\n",
       "      <td></td>\n",
       "      <td>6</td>\n",
       "      <td>1\\n\\n\\n\\n5\\n</td>\n",
       "      <td>[ἔδοχσε]ν [⋮ τε͂ι βολε͂ι] ⋮ καὶ [τ]ο͂ι δέμοι ⋮...</td>\n",
       "      <td>...</td>\n",
       "      <td>5</td>\n",
       "      <td>[ἔδοχσε]ν [ τει βολει] καὶ [τ]οι δέμοι ὅτε παρ...</td>\n",
       "      <td>ν καὶ ο͂ι δέμοι ℎότε Παραιβάτες λεια θν τὸς ℎι...</td>\n",
       "      <td>ἔδοχσεν τε͂ι βολε͂ι καὶ το͂ι δέμοι ℎότε Παραιβ...</td>\n",
       "      <td>ἔδοχσεν ⋮ τε͂ι βολε͂ι ⋮ καὶ το͂ι δέμοι ⋮ ℎότε ...</td>\n",
       "      <td>ἔδοχσεν τει βολει καὶ τοι δέμοι ὅτε παραιβάτες...</td>\n",
       "      <td>[ἔδοχσεν τει βολει καὶ τοι δέμοι ὅτε παραιβάτε...</td>\n",
       "      <td>1</td>\n",
       "      <td>[[ἔδοχσεν, τει, βολει, δέμοι, παραιβάτες, γραμ...</td>\n",
       "      <td>[ἔδοχσεν, τει, βολει, δέμοι, παραιβάτες, γραμμ...</td>\n",
       "    </tr>\n",
       "  </tbody>\n",
       "</table>\n",
       "<p>5 rows × 21 columns</p>\n",
       "</div>"
      ],
      "text/plain": [
       "                                                 URL   Book Text  \\\n",
       "0  /text/1?location=1701&patt=&bookid=4&offset=0&...  IG I³    1   \n",
       "1  /text/2?location=1701&patt=&bookid=4&offset=0&...  IG I³    2   \n",
       "2  /text/3?location=1701&patt=&bookid=4&offset=0&...  IG I³    3   \n",
       "3  /text/4?location=1701&patt=&bookid=4&offset=0&...  IG I³    4   \n",
       "4  /text/5?location=1701&patt=&bookid=4&offset=0&...  IG I³    5   \n",
       "\n",
       "                         hdr1      hdr2  \\\n",
       "0  Regions\\nAttica (IG I-III)  IG I³\\n1   \n",
       "1  Regions\\nAttica (IG I-III)  IG I³\\n2   \n",
       "2  Regions\\nAttica (IG I-III)  IG I³\\n3   \n",
       "3  Regions\\nAttica (IG I-III)  IG I³\\n4   \n",
       "4  Regions\\nAttica (IG I-III)  IG I³\\n5   \n",
       "\n",
       "                                           tildeinfo note  lines  \\\n",
       "0  Att. — Ath.: Akr. — stoich. 35 — c. 510-500 a....          12   \n",
       "1                     Att. — non-stoich. — c. 500 a.          14   \n",
       "2                     Att. — stoich. 21 — 490-480 a.          13   \n",
       "3                       Att. — stoich. 38 — 485/4 a.          56   \n",
       "4                                   Att. — c. 500 a.           6   \n",
       "\n",
       "                                            metadata  \\\n",
       "0                         1\\n\\n\\n\\n5\\n\\n\\n\\n\\n10\\n\\n   \n",
       "1                     1\\n\\n\\n\\n5\\n\\n\\n\\n\\n10\\n\\n\\n\\n   \n",
       "2                       1\\n\\n\\n\\n5\\n\\n\\n\\n\\n10\\n\\n\\n   \n",
       "3  face A.1\\n\\n\\n\\n5\\n\\n\\n\\n\\n10\\n\\n\\n\\n\\n15\\n\\n\\...   \n",
       "4                                       1\\n\\n\\n\\n5\\n   \n",
       "\n",
       "                                                data  ... PHI_ID  \\\n",
       "0  ἔδοχσεν το͂ι δέμοι· τ̣[ὸς ἐ Σ]αλαμ̣[ῖνι κλερόχ...  ...      1   \n",
       "1  [․․8-9․․․]ν̣ βολ — — — — — — — — — —\\n[․6-7․․]...  ...      2   \n",
       "2  [․]αρ[․․․․]ι ℎερακλειο[․․5․․]\\n[․]αρ̣ο#⁷[․] τι...  ...      3   \n",
       "3  [․․․․․․․․․․․․․․․․․․38․․․․․․․․․․․․․․․․․․]\\n[․․․...  ...      4   \n",
       "4  [ἔδοχσε]ν [⋮ τε͂ι βολε͂ι] ⋮ καὶ [τ]ο͂ι δέμοι ⋮...  ...      5   \n",
       "\n",
       "                                       string_pythia  \\\n",
       "0  ἔδοχσεν τοι δέμοι τ[ὸς ἐ σ]αλαμ[ῖνι κλερόχ]ος ...   \n",
       "1  [--------9---]ν βολ ---------- [------7--] α ἑ...   \n",
       "2  [-]αρ[----]ι ἑρακλειο[-----] [-]αρο [-] τιθένα...   \n",
       "3  [--------------------------------------] [----...   \n",
       "4  [ἔδοχσε]ν [ τει βολει] καὶ [τ]οι δέμοι ὅτε παρ...   \n",
       "\n",
       "                             clean_text_conservative  \\\n",
       "0  ἔδοχσεν το͂ι δέμοι ταλαμος οἰκε͂ν ἐᾶ Σαλαμῖνι ...   \n",
       "1  ν βολ α ℎεκον σιον γνοσθε͂ι δὲ ν ἀτεχνος μὲ π ...   \n",
       "2  αρι ℎερακλειο αρο τιθέναι τὸς ἀέτας τριάκοντα ...   \n",
       "3  δέ τις αν ἒ φρορὰν μ ντέκοντα δχμὰς τ ας ℎες π...   \n",
       "4  ν καὶ ο͂ι δέμοι ℎότε Παραιβάτες λεια θν τὸς ℎι...   \n",
       "\n",
       "                        clean_text_interpretive_word  \\\n",
       "0  ἔδοχσεν το͂ι δέμοι τὸς ἐ Σαλαμῖνι κλερόχος οἰκ...   \n",
       "1  ν βολ α ℎεκον σιον γνοσθε͂ι δὲ ν ἀτεχνος μὲ π ...   \n",
       "2  αρι ℎερακλειο αρο τιθέναι τὸς ἀθλοθέτας τριάκο...   \n",
       "3  ἐὰν δέ τις αν ἒ φρορὰν μὲ πεντέκοντα δραχμὰς τ...   \n",
       "4  ἔδοχσεν τε͂ι βολε͂ι καὶ το͂ι δέμοι ℎότε Παραιβ...   \n",
       "\n",
       "                    clean_text_interpretive_sentence  \\\n",
       "0  ἔδοχσεν το͂ι δέμοι τὸς ἐ Σαλαμῖνι κλερόχος οἰκ...   \n",
       "1  ν βολ ․ α ⋮ ℎεκον σιον, γνοσθε͂ι δὲ ν ἀτεχνος ...   \n",
       "2  αρι ℎερακλειο αρο τιθέναι τὸς ἀθλοθέτας τριάκο...   \n",
       "3  ἐὰν δέ τις αν ⋮ ἒ φρορὰν ⋮ μὲ πεντέκοντα ⋮ δρα...   \n",
       "4  ἔδοχσεν ⋮ τε͂ι βολε͂ι ⋮ καὶ το͂ι δέμοι ⋮ ℎότε ...   \n",
       "\n",
       "                                   clean_text_pythia  \\\n",
       "0  ἔδοχσεν τοι δέμοι τὸς ἐ σαλαμῖνι κλερόχος οἰκε...   \n",
       "1  ν βολ α ἑκον σιον γνοσθει δὲ ν ἀτεχνος μὲ π ἄλ...   \n",
       "2  αρ ι ἑρακλειο αρο τιθέναι τὸς ἀθλοθέτας τριάκο...   \n",
       "3  ἐὰν δέ τις αν ἒ φρορὰν μὲ πεντέκοντα δραχμὰς τ...   \n",
       "4  ἔδοχσεν τει βολει καὶ τοι δέμοι ὅτε παραιβάτες...   \n",
       "\n",
       "                                               sents sents_N  \\\n",
       "0  [ἔδοχσεν τοι δέμοι τὸς ἐ σαλαμῖνι κλερόχος οἰκ...       1   \n",
       "1  [ν βολ α ἑκον σιον γνοσθει δὲ ν ἀτεχνος μὲ π ἄ...       1   \n",
       "2  [αρ ι ἑρακλειο αρο τιθέναι τὸς ἀθλοθέτας τριάκ...       1   \n",
       "3  [ἐὰν δέ τις αν ἒ φρορὰν μὲ πεντέκοντα δραχμὰς ...       2   \n",
       "4  [ἔδοχσεν τει βολει καὶ τοι δέμοι ὅτε παραιβάτε...       1   \n",
       "\n",
       "                                           lem_sents  \\\n",
       "0  [[ἔδοχσεν, δέμοι, Σαλαμίς, κλερόχος, οἰκεν, Σα...   \n",
       "1  [[βολ, ἑκών, σίον, γνοσθει, ἄτεχνος, μεδὲ, κελ...   \n",
       "2  [[ἑρακλειο, ἀρόω, τίθημι, ἀθλοθέτης, ἀνήρ, ἄγο...   \n",
       "3  [[τὶς, φρορὰν, πεντέκοντα, δραχμή, τ, πρᾶχσιν,...   \n",
       "4  [[ἔδοχσεν, τει, βολει, δέμοι, παραιβάτες, γραμ...   \n",
       "\n",
       "                                             lemmata  \n",
       "0  [ἔδοχσεν, δέμοι, Σαλαμίς, κλερόχος, οἰκεν, Σαλ...  \n",
       "1  [βολ, ἑκών, σίον, γνοσθει, ἄτεχνος, μεδὲ, κελε...  \n",
       "2  [ἑρακλειο, ἀρόω, τίθημι, ἀθλοθέτης, ἀνήρ, ἄγον...  \n",
       "3  [τὶς, φρορὰν, πεντέκοντα, δραχμή, τ, πρᾶχσιν, ...  \n",
       "4  [ἔδοχσεν, τει, βολει, δέμοι, παραιβάτες, γραμμ...  \n",
       "\n",
       "[5 rows x 21 columns]"
      ]
     },
     "execution_count": 4,
     "metadata": {},
     "output_type": "execute_result"
    }
   ],
   "source": [
    "# read the PHI dataset from sciencedata.dk\n",
    "PHI = sddk.read_file(\"SDAM_data/PHI/PHI_lemmatized_20201217.json\", \"df\", conf)\n",
    "# older version used during development: PHI = sddk.read_file(\"SDAM_data/PHI/PHI_enriched_raw.json\", \"df\", conf)\n",
    "# print first 5 rows of the data\n",
    "PHI.head(5)"
   ]
  },
  {
   "cell_type": "markdown",
   "metadata": {
    "colab_type": "text",
    "id": "DlWZYRzIxeU3"
   },
   "source": [
    "# Raw date column\n",
    "\n",
    "In the PHI dataset, the datation information is usually contained in the \"tildeinfo\" column. \"tildeinfo\" has a form of a list, with individual elements separated by \" — \". Unfortunately, this list does not have a fully consistent structure. Typically, the datation information is the last element within the list (e.g. \"Dacia Sup. — Tibiscum (Jupa) — 2nd/3rd c. AD\" - PH298501), but not always (e.g. \"N. Black Sea — Pantikapaion (Kerch) — 1st c. BC — IosPE IV 253\" - PH183001). Thus, our first task is to extract the element which most probably contains the datation information.\n"
   ]
  },
  {
   "cell_type": "code",
   "execution_count": 5,
   "metadata": {
    "colab": {},
    "colab_type": "code",
    "id": "F_8vJRssihLW"
   },
   "outputs": [],
   "source": [
    "def get_date_from_tildeinfo(tildeinfo):\n",
    "  try:\n",
    "    tildeinfo_list = tildeinfo.split(\"— \")\n",
    "    datation = tildeinfo_list[-1]\n",
    "    for el in tildeinfo_list:\n",
    "      if any(time_indicator in el for time_indicator in [\" a.\", \" p.\", \"BC\", \"AD\", \"period\", \"reign\"]):\n",
    "        datation = el.partition(\"\\n\")[0]\n",
    "        break\n",
    "  except: \n",
    "    datation = \"\"\n",
    "  return datation "
   ]
  },
  {
   "cell_type": "code",
   "execution_count": 6,
   "metadata": {
    "colab": {
     "base_uri": "https://localhost:8080/",
     "height": 35
    },
    "colab_type": "code",
    "id": "jtPeaQn_wZ32",
    "outputId": "6caa07b7-fc75-4db2-b054-d9037791984f"
   },
   "outputs": [
    {
     "data": {
      "text/plain": [
       "'1st c. BC '"
      ]
     },
     "execution_count": 6,
     "metadata": {},
     "output_type": "execute_result"
    }
   ],
   "source": [
    "# test 1\n",
    "get_date_from_tildeinfo(\"N. Black Sea — Pantikapaion (Kerch) — 1st c. BC — IosPE IV 253\")"
   ]
  },
  {
   "cell_type": "code",
   "execution_count": 7,
   "metadata": {
    "colab": {
     "base_uri": "https://localhost:8080/",
     "height": 35
    },
    "colab_type": "code",
    "id": "voqckZOLwkni",
    "outputId": "d4051d9f-6b6b-46c5-ada5-345dd81a095c"
   },
   "outputs": [
    {
     "data": {
      "text/plain": [
       "'301/0-295/4 a. '"
      ]
     },
     "execution_count": 7,
     "metadata": {},
     "output_type": "execute_result"
    }
   ],
   "source": [
    "# test 2\n",
    "get_date_from_tildeinfo(\"Att. — Athens: Agora — stoich. 29 — 301/0-295/4 a. — *Hesp. 13.1944.242,7 — *SEG 24.119; 29.93\")"
   ]
  },
  {
   "cell_type": "code",
   "execution_count": 8,
   "metadata": {
    "colab": {},
    "colab_type": "code",
    "id": "ViRgWRMcioFi"
   },
   "outputs": [],
   "source": [
    "# application on the whole dataset\n",
    "PHI[\"raw_date\"] = PHI.apply(lambda row: get_date_from_tildeinfo(row[\"tildeinfo\"]), axis=1)"
   ]
  },
  {
   "cell_type": "markdown",
   "metadata": {
    "colab_type": "text",
    "id": "OyhrW32R6AgP"
   },
   "source": [
    "# Generating a sample\n",
    "For developemnt purposes, the functions below have been firstly tested by using a representative sample from the dataset, containing every 500th inscription, i.e. inscriptions PH2501, PH3001, ..., PH218501 etc.\t"
   ]
  },
  {
   "cell_type": "code",
   "execution_count": 9,
   "metadata": {
    "colab": {
     "base_uri": "https://localhost:8080/",
     "height": 547
    },
    "colab_type": "code",
    "id": "_auRCD152g1X",
    "outputId": "d612cd90-29b5-43c8-e1d9-5a21a4ed4a29"
   },
   "outputs": [
    {
     "data": {
      "text/html": [
       "<div>\n",
       "<style scoped>\n",
       "    .dataframe tbody tr th:only-of-type {\n",
       "        vertical-align: middle;\n",
       "    }\n",
       "\n",
       "    .dataframe tbody tr th {\n",
       "        vertical-align: top;\n",
       "    }\n",
       "\n",
       "    .dataframe thead th {\n",
       "        text-align: right;\n",
       "    }\n",
       "</style>\n",
       "<table border=\"1\" class=\"dataframe\">\n",
       "  <thead>\n",
       "    <tr style=\"text-align: right;\">\n",
       "      <th></th>\n",
       "      <th>URL</th>\n",
       "      <th>Book</th>\n",
       "      <th>Text</th>\n",
       "      <th>hdr1</th>\n",
       "      <th>hdr2</th>\n",
       "      <th>tildeinfo</th>\n",
       "      <th>note</th>\n",
       "      <th>lines</th>\n",
       "      <th>metadata</th>\n",
       "      <th>data</th>\n",
       "      <th>...</th>\n",
       "      <th>string_pythia</th>\n",
       "      <th>clean_text_conservative</th>\n",
       "      <th>clean_text_interpretive_word</th>\n",
       "      <th>clean_text_interpretive_sentence</th>\n",
       "      <th>clean_text_pythia</th>\n",
       "      <th>sents</th>\n",
       "      <th>sents_N</th>\n",
       "      <th>lem_sents</th>\n",
       "      <th>lemmata</th>\n",
       "      <th>raw_date</th>\n",
       "    </tr>\n",
       "  </thead>\n",
       "  <tbody>\n",
       "    <tr>\n",
       "      <th>0</th>\n",
       "      <td>/text/1?location=1701&amp;patt=&amp;bookid=4&amp;offset=0&amp;...</td>\n",
       "      <td>IG I³</td>\n",
       "      <td>1</td>\n",
       "      <td>Regions\\nAttica (IG I-III)</td>\n",
       "      <td>IG I³\\n1</td>\n",
       "      <td>Att. — Ath.: Akr. — stoich. 35 — c. 510-500 a....</td>\n",
       "      <td></td>\n",
       "      <td>12</td>\n",
       "      <td>1\\n\\n\\n\\n5\\n\\n\\n\\n\\n10\\n\\n</td>\n",
       "      <td>ἔδοχσεν το͂ι δέμοι· τ̣[ὸς ἐ Σ]αλαμ̣[ῖνι κλερόχ...</td>\n",
       "      <td>...</td>\n",
       "      <td>ἔδοχσεν τοι δέμοι τ[ὸς ἐ σ]αλαμ[ῖνι κλερόχ]ος ...</td>\n",
       "      <td>ἔδοχσεν το͂ι δέμοι ταλαμος οἰκε͂ν ἐᾶ Σαλαμῖνι ...</td>\n",
       "      <td>ἔδοχσεν το͂ι δέμοι τὸς ἐ Σαλαμῖνι κλερόχος οἰκ...</td>\n",
       "      <td>ἔδοχσεν το͂ι δέμοι τὸς ἐ Σαλαμῖνι κλερόχος οἰκ...</td>\n",
       "      <td>ἔδοχσεν τοι δέμοι τὸς ἐ σαλαμῖνι κλερόχος οἰκε...</td>\n",
       "      <td>[ἔδοχσεν τοι δέμοι τὸς ἐ σαλαμῖνι κλερόχος οἰκ...</td>\n",
       "      <td>1</td>\n",
       "      <td>[[ἔδοχσεν, δέμοι, Σαλαμίς, κλερόχος, οἰκεν, Σα...</td>\n",
       "      <td>[ἔδοχσεν, δέμοι, Σαλαμίς, κλερόχος, οἰκεν, Σαλ...</td>\n",
       "      <td>c. 510-500 a.</td>\n",
       "    </tr>\n",
       "    <tr>\n",
       "      <th>500</th>\n",
       "      <td>/text/501?location=1701&amp;patt=&amp;bookid=4&amp;offset=...</td>\n",
       "      <td>IG I³</td>\n",
       "      <td>486</td>\n",
       "      <td>Regions\\nAttica (IG I-III)</td>\n",
       "      <td>IG I³\\n486</td>\n",
       "      <td>Att. — stoich. — s. V a.</td>\n",
       "      <td></td>\n",
       "      <td>11</td>\n",
       "      <td>\\n1\\n\\n\\n\\n5\\n\\n\\n\\n\\n10</td>\n",
       "      <td>— — — — — —\\n[v?․]Ε#⁷ — — — —\\n[v?]ολοι #⁷#⁷ —...</td>\n",
       "      <td>...</td>\n",
       "      <td>— — — — — —\\n[v?․]Ε#⁷ — — — —\\n[v?]ολοι #⁷#⁷ —...</td>\n",
       "      <td>Ε ολοι χρυσίον τον πετ σταθμὸ μὸν το͂ χρ ΔΔΔΔ ...</td>\n",
       "      <td>Ε ολοι χρυσίον τον πεταλ σταθμὸν σταθμὸν το͂ χ...</td>\n",
       "      <td>․Ε ολοι χρυσίον τον πεταλ σταθμὸν σταθμὸν το͂ ...</td>\n",
       "      <td>․Ε ολοι χρυσίον τον πεταλ σταθμὸν σταθμὸν το͂ ...</td>\n",
       "      <td>[․Ε ολοι χρυσίον τον πεταλ σταθμὸν σταθμὸν το͂...</td>\n",
       "      <td>1</td>\n",
       "      <td>[[ολοι, χρυσίον, πεταλ, σταθμόν, σταθμόν, χρυσ...</td>\n",
       "      <td>[ολοι, χρυσίον, πεταλ, σταθμόν, σταθμόν, χρυσί...</td>\n",
       "      <td>s. V a.</td>\n",
       "    </tr>\n",
       "    <tr>\n",
       "      <th>1000</th>\n",
       "      <td>/text/1001?location=1701&amp;patt=&amp;bookid=4&amp;offset...</td>\n",
       "      <td>IG I³</td>\n",
       "      <td>886</td>\n",
       "      <td>Regions\\nAttica (IG I-III)</td>\n",
       "      <td>IG I³\\n886</td>\n",
       "      <td>Att. — Athens: Akropolis — c. 440? a. — IG I² ...</td>\n",
       "      <td></td>\n",
       "      <td>2</td>\n",
       "      <td>1\\n</td>\n",
       "      <td>— — —ένης vacat\\nvacat</td>\n",
       "      <td>...</td>\n",
       "      <td>— — —ένης vacat\\nvacat</td>\n",
       "      <td>ένης</td>\n",
       "      <td>ένης</td>\n",
       "      <td>ένης</td>\n",
       "      <td>ένης</td>\n",
       "      <td>[ένης]</td>\n",
       "      <td>1</td>\n",
       "      <td>[[νέω]]</td>\n",
       "      <td>[νέω]</td>\n",
       "      <td>c. 440? a.</td>\n",
       "    </tr>\n",
       "    <tr>\n",
       "      <th>1500</th>\n",
       "      <td>/text/1501?location=1701&amp;patt=&amp;bookid=4&amp;offset...</td>\n",
       "      <td>IG I³</td>\n",
       "      <td>1314</td>\n",
       "      <td>Regions\\nAttica (IG I-III)</td>\n",
       "      <td>IG I³\\n1314</td>\n",
       "      <td>Att. — Salamis: Koulouri — c. 420-410? a. — IG...</td>\n",
       "      <td></td>\n",
       "      <td>1</td>\n",
       "      <td>1</td>\n",
       "      <td>Χαιρέδημος.  Λυκέας.</td>\n",
       "      <td>...</td>\n",
       "      <td>Χαιρέδημος.  Λυκέας.</td>\n",
       "      <td>Χαιρέδημος Λυκέας</td>\n",
       "      <td>Χαιρέδημος Λυκέας</td>\n",
       "      <td>Χαιρέδημος. Λυκέας.</td>\n",
       "      <td>Χαιρέδημος. Λυκέας.</td>\n",
       "      <td>[Χαιρέδημος., Λυκέας.]</td>\n",
       "      <td>2</td>\n",
       "      <td>[[χαιρέδημος], [λυκέη]]</td>\n",
       "      <td>[χαιρέδημος, λυκέη]</td>\n",
       "      <td>c. 420-410? a.</td>\n",
       "    </tr>\n",
       "    <tr>\n",
       "      <th>2108</th>\n",
       "      <td>/text/2501?location=1700&amp;patt=&amp;bookid=5&amp;offset...</td>\n",
       "      <td>IG II²</td>\n",
       "      <td>284</td>\n",
       "      <td>Regions\\nAttica (IG I-III)\\nAttica</td>\n",
       "      <td>IG II²\\n284</td>\n",
       "      <td>Att. — stoich. 28 — ante 336/5</td>\n",
       "      <td></td>\n",
       "      <td>17</td>\n",
       "      <td>1\\n\\n\\n\\n5\\n\\n\\n\\n\\n10\\n\\n\\n\\n\\n15\\n\\n</td>\n",
       "      <td>․․․7․․․#⁷#⁷#⁷․․․․․․․․18․․․․․․․․\\n․․․κράτης κα[...</td>\n",
       "      <td>...</td>\n",
       "      <td>------- ------------------ ---κράτης κα[ὶ ----...</td>\n",
       "      <td>κράτης καν ὑπὸ τῶν λη υλῆι ὑπὸ τοὺς π προεδρεύ...</td>\n",
       "      <td>κράτης καὶ ἑάλωσαν ὑπὸ τῶν ληιστῶν ἐψήφισθαι τ...</td>\n",
       "      <td>κράτης καὶ ἑάλωσαν ὑπὸ τῶν ληιστῶν, ἐψήφισθαι ...</td>\n",
       "      <td>κράτης καὶ ἑάλωσαν ὑπὸ τῶν ληιστῶν ἐψήφισθαι τ...</td>\n",
       "      <td>[κράτης καὶ ἑάλωσαν ὑπὸ τῶν ληιστῶν ἐψήφισθαι ...</td>\n",
       "      <td>1</td>\n",
       "      <td>[[κρατύς, ἁλίσκομαι, ληιστῶν, ψηφίζω, βουλή, π...</td>\n",
       "      <td>[κρατύς, ἁλίσκομαι, ληιστῶν, ψηφίζω, βουλή, πρ...</td>\n",
       "      <td>ante 336/5</td>\n",
       "    </tr>\n",
       "  </tbody>\n",
       "</table>\n",
       "<p>5 rows × 22 columns</p>\n",
       "</div>"
      ],
      "text/plain": [
       "                                                    URL    Book  Text  \\\n",
       "0     /text/1?location=1701&patt=&bookid=4&offset=0&...   IG I³     1   \n",
       "500   /text/501?location=1701&patt=&bookid=4&offset=...   IG I³   486   \n",
       "1000  /text/1001?location=1701&patt=&bookid=4&offset...   IG I³   886   \n",
       "1500  /text/1501?location=1701&patt=&bookid=4&offset...   IG I³  1314   \n",
       "2108  /text/2501?location=1700&patt=&bookid=5&offset...  IG II²   284   \n",
       "\n",
       "                                    hdr1         hdr2  \\\n",
       "0             Regions\\nAttica (IG I-III)     IG I³\\n1   \n",
       "500           Regions\\nAttica (IG I-III)   IG I³\\n486   \n",
       "1000          Regions\\nAttica (IG I-III)   IG I³\\n886   \n",
       "1500          Regions\\nAttica (IG I-III)  IG I³\\n1314   \n",
       "2108  Regions\\nAttica (IG I-III)\\nAttica  IG II²\\n284   \n",
       "\n",
       "                                              tildeinfo note  lines  \\\n",
       "0     Att. — Ath.: Akr. — stoich. 35 — c. 510-500 a....          12   \n",
       "500                            Att. — stoich. — s. V a.          11   \n",
       "1000  Att. — Athens: Akropolis — c. 440? a. — IG I² ...           2   \n",
       "1500  Att. — Salamis: Koulouri — c. 420-410? a. — IG...           1   \n",
       "2108                     Att. — stoich. 28 — ante 336/5          17   \n",
       "\n",
       "                                    metadata  \\\n",
       "0                 1\\n\\n\\n\\n5\\n\\n\\n\\n\\n10\\n\\n   \n",
       "500                 \\n1\\n\\n\\n\\n5\\n\\n\\n\\n\\n10   \n",
       "1000                                     1\\n   \n",
       "1500                                       1   \n",
       "2108  1\\n\\n\\n\\n5\\n\\n\\n\\n\\n10\\n\\n\\n\\n\\n15\\n\\n   \n",
       "\n",
       "                                                   data  ...  \\\n",
       "0     ἔδοχσεν το͂ι δέμοι· τ̣[ὸς ἐ Σ]αλαμ̣[ῖνι κλερόχ...  ...   \n",
       "500   — — — — — —\\n[v?․]Ε#⁷ — — — —\\n[v?]ολοι #⁷#⁷ —...  ...   \n",
       "1000                             — — —ένης vacat\\nvacat  ...   \n",
       "1500                               Χαιρέδημος.  Λυκέας.  ...   \n",
       "2108  ․․․7․․․#⁷#⁷#⁷․․․․․․․․18․․․․․․․․\\n․․․κράτης κα[...  ...   \n",
       "\n",
       "                                          string_pythia  \\\n",
       "0     ἔδοχσεν τοι δέμοι τ[ὸς ἐ σ]αλαμ[ῖνι κλερόχ]ος ...   \n",
       "500   — — — — — —\\n[v?․]Ε#⁷ — — — —\\n[v?]ολοι #⁷#⁷ —...   \n",
       "1000                             — — —ένης vacat\\nvacat   \n",
       "1500                               Χαιρέδημος.  Λυκέας.   \n",
       "2108  ------- ------------------ ---κράτης κα[ὶ ----...   \n",
       "\n",
       "                                clean_text_conservative  \\\n",
       "0     ἔδοχσεν το͂ι δέμοι ταλαμος οἰκε͂ν ἐᾶ Σαλαμῖνι ...   \n",
       "500   Ε ολοι χρυσίον τον πετ σταθμὸ μὸν το͂ χρ ΔΔΔΔ ...   \n",
       "1000                                               ένης   \n",
       "1500                                  Χαιρέδημος Λυκέας   \n",
       "2108  κράτης καν ὑπὸ τῶν λη υλῆι ὑπὸ τοὺς π προεδρεύ...   \n",
       "\n",
       "                           clean_text_interpretive_word  \\\n",
       "0     ἔδοχσεν το͂ι δέμοι τὸς ἐ Σαλαμῖνι κλερόχος οἰκ...   \n",
       "500   Ε ολοι χρυσίον τον πεταλ σταθμὸν σταθμὸν το͂ χ...   \n",
       "1000                                               ένης   \n",
       "1500                                  Χαιρέδημος Λυκέας   \n",
       "2108  κράτης καὶ ἑάλωσαν ὑπὸ τῶν ληιστῶν ἐψήφισθαι τ...   \n",
       "\n",
       "                       clean_text_interpretive_sentence  \\\n",
       "0     ἔδοχσεν το͂ι δέμοι τὸς ἐ Σαλαμῖνι κλερόχος οἰκ...   \n",
       "500   ․Ε ολοι χρυσίον τον πεταλ σταθμὸν σταθμὸν το͂ ...   \n",
       "1000                                               ένης   \n",
       "1500                                Χαιρέδημος. Λυκέας.   \n",
       "2108  κράτης καὶ ἑάλωσαν ὑπὸ τῶν ληιστῶν, ἐψήφισθαι ...   \n",
       "\n",
       "                                      clean_text_pythia  \\\n",
       "0     ἔδοχσεν τοι δέμοι τὸς ἐ σαλαμῖνι κλερόχος οἰκε...   \n",
       "500   ․Ε ολοι χρυσίον τον πεταλ σταθμὸν σταθμὸν το͂ ...   \n",
       "1000                                               ένης   \n",
       "1500                                Χαιρέδημος. Λυκέας.   \n",
       "2108  κράτης καὶ ἑάλωσαν ὑπὸ τῶν ληιστῶν ἐψήφισθαι τ...   \n",
       "\n",
       "                                                  sents sents_N  \\\n",
       "0     [ἔδοχσεν τοι δέμοι τὸς ἐ σαλαμῖνι κλερόχος οἰκ...       1   \n",
       "500   [․Ε ολοι χρυσίον τον πεταλ σταθμὸν σταθμὸν το͂...       1   \n",
       "1000                                             [ένης]       1   \n",
       "1500                             [Χαιρέδημος., Λυκέας.]       2   \n",
       "2108  [κράτης καὶ ἑάλωσαν ὑπὸ τῶν ληιστῶν ἐψήφισθαι ...       1   \n",
       "\n",
       "                                              lem_sents  \\\n",
       "0     [[ἔδοχσεν, δέμοι, Σαλαμίς, κλερόχος, οἰκεν, Σα...   \n",
       "500   [[ολοι, χρυσίον, πεταλ, σταθμόν, σταθμόν, χρυσ...   \n",
       "1000                                            [[νέω]]   \n",
       "1500                            [[χαιρέδημος], [λυκέη]]   \n",
       "2108  [[κρατύς, ἁλίσκομαι, ληιστῶν, ψηφίζω, βουλή, π...   \n",
       "\n",
       "                                                lemmata         raw_date  \n",
       "0     [ἔδοχσεν, δέμοι, Σαλαμίς, κλερόχος, οἰκεν, Σαλ...   c. 510-500 a.   \n",
       "500   [ολοι, χρυσίον, πεταλ, σταθμόν, σταθμόν, χρυσί...          s. V a.  \n",
       "1000                                              [νέω]      c. 440? a.   \n",
       "1500                                [χαιρέδημος, λυκέη]  c. 420-410? a.   \n",
       "2108  [κρατύς, ἁλίσκομαι, ληιστῶν, ψηφίζω, βουλή, πρ...       ante 336/5  \n",
       "\n",
       "[5 rows x 22 columns]"
      ]
     },
     "execution_count": 9,
     "metadata": {},
     "output_type": "execute_result"
    }
   ],
   "source": [
    "# generate sample for testing purposes:\n",
    "PHI_by_500 = PHI[PHI[\"PHI_ID\"].isin(range(1, 300000, 500))]\n",
    "PHI_by_500.head(5)"
   ]
  },
  {
   "cell_type": "markdown",
   "metadata": {
    "colab_type": "text",
    "id": "1yz6_Lr-VyIF"
   },
   "source": [
    "# Parse ante quem and post quem"
   ]
  },
  {
   "cell_type": "code",
   "execution_count": 10,
   "metadata": {
    "colab": {
     "base_uri": "https://localhost:8080/",
     "height": 34
    },
    "colab_type": "code",
    "id": "Pvmb8GNS2qWH",
    "outputId": "5bf9ba81-2dd1-4b4e-ef3c-97f57c1abeb7"
   },
   "outputs": [
    {
     "data": {
      "text/plain": [
       "{'start': 304, 'type': 'post'}"
      ]
     },
     "execution_count": 10,
     "metadata": {},
     "output_type": "execute_result"
    }
   ],
   "source": [
    "### simple demonstration of the logic\n",
    "datation = \"not before 304 AD\"\n",
    "match = re.search(\"(not\\s(before|bef\\.)\\s|non\\sante\\s)(\\d+)\",  datation, flags=re.IGNORECASE)\n",
    "if match:\n",
    "  dating_update = {\"start\" : int(match.groups()[2]), \"type\" : \"post\"}\n",
    "dating_update"
   ]
  },
  {
   "cell_type": "code",
   "execution_count": 11,
   "metadata": {
    "colab": {},
    "colab_type": "code",
    "id": "y0Hq9f7U-Hl2"
   },
   "outputs": [],
   "source": [
    "def extract_ante_and_post(datation, dating=None):\n",
    "  if dating==None: dating = {\"type\" : \"unknown\"}\n",
    "  if \"unknown\" in dating[\"type\"]: \n",
    "    # if \"NOT BEFORE\"\n",
    "    match = re.search(\"(not\\s(before|bef\\.)\\s|non\\sante\\s)(\\-?\\d+)(\\s|$)\",  datation, flags=re.IGNORECASE)\n",
    "    if match:\n",
    "      if \"AD\" not in datation:\n",
    "        start = (int(match.groups()[2]) * -1)\n",
    "        dating_update = {\"start\" : start, \"type\" : \"post\"}\n",
    "      else:\n",
    "        dating_update = {\"start\" : int(match.groups()[2]), \"type\" : \"post\"}\n",
    "    # if \"BEFORE\"\n",
    "    else:\n",
    "      match = re.search('(before\\s|ante\\s)(\\-?\\d+)(\\s|$)', datation, flags=re.IGNORECASE)\n",
    "      if match:\n",
    "        if \"AD\" not in datation:\n",
    "          dating_update = {\"stop\" : (int(match.groups()[1]) * -1) - 1, \"type\" : \"ante\"}\n",
    "        else:\n",
    "          dating_update = {\"stop\" : int(match.groups()[1]) - 1, \"type\" : \"ante\"}\n",
    "      # if \"NOT AFTER\"\n",
    "      else:\n",
    "        match = re.search(\"(not\\safter\\s|non\\spost\\s)(\\-?\\d+)(\\s|$)\",  datation, flags=re.IGNORECASE)\n",
    "        if match:\n",
    "          if \"AD\" not in datation:\n",
    "            dating_update = {\"stop\" : (int(match.groups()[1]) * -1), \"type\" : \"ante\"}\n",
    "          else:\n",
    "            dating_update = {\"stop\" : int(match.groups()[1]), \"type\" : \"ante\"}\n",
    "        # if \"AFTER\"\n",
    "        else:\n",
    "            match = re.search('(after\\s|aft.\\s|post\\s)(\\-?\\d+)(\\s|$)', datation, flags=re.IGNORECASE)\n",
    "            if match:\n",
    "              if \"AD\" not in datation:\n",
    "                dating_update = {\"start\" : (int(match.groups()[1]) * -1) + 1, \"type\" : \"post\"}\n",
    "              else:\n",
    "                dating_update = {\"start\" : int(match.groups()[1]) + 1, \"type\" : \"post\"}\n",
    "            else:\n",
    "              dating_update = dating\n",
    "  elif \"exact+or\" in dating[\"type\"]: \n",
    "    # if \"NOT BEFORE\"\n",
    "    match = re.search(\"(not\\s(before|bef\\.)\\s|non\\sante\\s)\",  datation, flags=re.IGNORECASE)\n",
    "    if match:\n",
    "      dating_update = {\"start\" : dating[\"exact\"], \"or\": {\"start\" : dating[\"or\"][\"exact\"], \"exact\" : None}, \"exact\" : None, \"type\" : \"post+or\"}\n",
    "    # if \"BEFORE\"\n",
    "    else:\n",
    "      match = re.search('(before\\s|ante\\s)', datation, flags=re.IGNORECASE)\n",
    "      if match:\n",
    "        dating_update = {\"stop\" : dating[\"exact\"], \"or\": {\"stop\" : dating[\"or\"][\"exact\"], \"exact\" : None}, \"exact\" : None, \"type\" : \"ante+or\"}\n",
    "      # if \"NOT AFTER\"\n",
    "      else:\n",
    "        match = re.search(\"(not\\safter\\s|non\\spost\\s)\",  datation, flags=re.IGNORECASE)\n",
    "        if match:\n",
    "              dating_update = {\"stop\" : dating[\"exact\"], \"or\": {\"stop\" : dating[\"or\"][\"exact\"], \"exact\" : None}, \"exact\" : None, \"type\" : \"ante+or\"}\n",
    "        # if \"AFTER\"\n",
    "        else:\n",
    "            match = re.search('(after\\s|aft.\\s|post\\s)', datation, flags=re.IGNORECASE)\n",
    "            if match:\n",
    "              dating_update = {\"start\" : dating[\"exact\"], \"or\": {\"start\" : dating[\"or\"][\"exact\"], \"exact\" : None}, \"exact\" : None, \"type\" : \"post+or\"}\n",
    "            else:\n",
    "              dating_update = dating\n",
    "  elif \"range\" in dating[\"type\"]:\n",
    "    # if \"NOT BEFORE\"\n",
    "    match = re.search(\"(not\\s(before|bef\\.)\\s|non\\sante\\s)\",  datation, flags=re.IGNORECASE)\n",
    "    if match:\n",
    "      dating_update = {\"start\" : dating[\"start\"], \"stop\":None, \"type\" : dating[\"type\"]+\"+post\"}\n",
    "    # if \"BEFORE\"\n",
    "    else:\n",
    "      match = re.search('(before\\s|ante\\s)', datation, flags=re.IGNORECASE)\n",
    "      if match:\n",
    "        dating_update = {\"stop\" : int(dating[\"start\"]) - 1, \"start\":None, \"type\" : dating[\"type\"]+\"+ante\"}  \n",
    "      # if \"NOT AFTER\"\n",
    "      else:\n",
    "        match = re.search(\"(not\\safter\\s|non\\spost\\s)\",  datation, flags=re.IGNORECASE)\n",
    "        if match:\n",
    "          dating_update = {\"stop\" : dating[\"stop\"], \"start\":None,\"type\" : dating[\"type\"]+\"+ante\"}\n",
    "        # if \"AFTER\"\n",
    "        else:\n",
    "          match = re.search('(after\\s|aft.\\s|post\\s)', datation, flags=re.IGNORECASE)\n",
    "          if match:\n",
    "            dating_update = {\"start\" : int(dating[\"stop\"]) + 1, \"stop\":None,\"type\" : dating[\"type\"]+\"+post\"}\n",
    "          else:\n",
    "            dating_update = dating\n",
    "  else: \n",
    "    #datation = re.sub(\"(not\\s(after|bef\\.)\\s|non\\spost)\", \"ante\\s\", datation)\n",
    "    dating_update = dating\n",
    "  if (\"shortly\" in datation) and (\"shortly\" not in dating_update[\"type\"]):\n",
    "    dating_update[\"type\"] = dating_update[\"type\"] + \"+shortly\"\n",
    "  return dating_update"
   ]
  },
  {
   "cell_type": "code",
   "execution_count": 12,
   "metadata": {
    "colab": {
     "base_uri": "https://localhost:8080/",
     "height": 34
    },
    "colab_type": "code",
    "id": "JXd-MHGzups1",
    "outputId": "5afd5c0b-4aa4-439d-82a6-a3aa6793a415"
   },
   "outputs": [
    {
     "data": {
      "text/plain": [
       "{'start': -300, 'stop': None, 'type': 'range+post'}"
      ]
     },
     "execution_count": 12,
     "metadata": {},
     "output_type": "execute_result"
    }
   ],
   "source": [
    "extract_ante_and_post(\"after 4th c. BC\", {\"type\" : \"range\", \"start\": -400, \"stop\": -301})"
   ]
  },
  {
   "cell_type": "code",
   "execution_count": 13,
   "metadata": {
    "colab": {
     "base_uri": "https://localhost:8080/",
     "height": 34
    },
    "colab_type": "code",
    "id": "I2QmBCuU0-ZP",
    "outputId": "f1711693-a0ca-449b-840f-c1376bb18c2a"
   },
   "outputs": [
    {
     "data": {
      "text/plain": [
       "{'start': 231, 'type': 'post+shortly'}"
      ]
     },
     "execution_count": 13,
     "metadata": {},
     "output_type": "execute_result"
    }
   ],
   "source": [
    "extract_ante_and_post(\"shortly after 230 AD\")"
   ]
  },
  {
   "cell_type": "code",
   "execution_count": 14,
   "metadata": {
    "colab": {
     "base_uri": "https://localhost:8080/",
     "height": 34
    },
    "colab_type": "code",
    "id": "2kuMWHYek4t4",
    "outputId": "ae7dd8d5-1f0c-4f8f-c542-42c20340dda9"
   },
   "outputs": [
    {
     "data": {
      "text/plain": [
       "{'stop': 117, 'start': None, 'type': 'range+period+ante'}"
      ]
     },
     "execution_count": 14,
     "metadata": {},
     "output_type": "execute_result"
    }
   ],
   "source": [
    "datation, dating = \"not after reign of Trajan\", {\"start\": 98, \"stop\" : 117, \"type\" : \"range+period\", \"era\": None}\n",
    "extract_ante_and_post(datation, dating)"
   ]
  },
  {
   "cell_type": "code",
   "execution_count": 15,
   "metadata": {
    "colab": {
     "base_uri": "https://localhost:8080/",
     "height": 136
    },
    "colab_type": "code",
    "id": "iElBo6xYWBPq",
    "outputId": "260427bd-9f72-4d63-91a8-27e19cbed571"
   },
   "outputs": [
    {
     "name": "stdout",
     "output_type": "stream",
     "text": [
      "non post 230 AD {'stop': 230, 'type': 'ante'}\n",
      "shortly after 320 BC {'start': -319, 'type': 'post+shortly'}\n",
      "not bef. 114 BC {'start': -114, 'type': 'post'}\n",
      "not after 317 AD {'stop': 317, 'type': 'ante'}\n",
      "before 200 AD {'stop': 199, 'type': 'ante'}\n",
      "Ante 114 BC {'stop': -115, 'type': 'ante'}\n",
      "post 2nd century BC {'type': 'unknown', 'era': None}\n"
     ]
    }
   ],
   "source": [
    "# example with \"unknown\"\n",
    "dating = {\"type\" : \"unknown\", \"era\": None}\n",
    "for datation in [\"non post 230 AD\", \"shortly after 320 BC\", \"not bef. 114 BC\",\"not after 317 AD\", \"before 200 AD\", \"Ante 114 BC\", \"post 2nd century BC\"]:\n",
    "  print(datation, extract_ante_and_post(datation, dating))"
   ]
  },
  {
   "cell_type": "markdown",
   "metadata": {
    "colab_type": "text",
    "id": "qF5f-0tIV9Tm"
   },
   "source": [
    "# Parse periods"
   ]
  },
  {
   "cell_type": "code",
   "execution_count": 16,
   "metadata": {
    "colab": {
     "base_uri": "https://localhost:8080/",
     "height": 793
    },
    "colab_type": "code",
    "id": "GHK0NQwl-ap9",
    "outputId": "5fde7092-cad7-445f-fdac-66541c60e0f0"
   },
   "outputs": [
    {
     "data": {
      "text/html": [
       "<div>\n",
       "<style scoped>\n",
       "    .dataframe tbody tr th:only-of-type {\n",
       "        vertical-align: middle;\n",
       "    }\n",
       "\n",
       "    .dataframe tbody tr th {\n",
       "        vertical-align: top;\n",
       "    }\n",
       "\n",
       "    .dataframe thead th {\n",
       "        text-align: right;\n",
       "    }\n",
       "</style>\n",
       "<table border=\"1\" class=\"dataframe\">\n",
       "  <thead>\n",
       "    <tr style=\"text-align: right;\">\n",
       "      <th></th>\n",
       "      <th>period</th>\n",
       "      <th>start</th>\n",
       "      <th>stop</th>\n",
       "      <th>type</th>\n",
       "      <th>era</th>\n",
       "      <th>source</th>\n",
       "      <th>notes</th>\n",
       "      <th>link</th>\n",
       "    </tr>\n",
       "  </thead>\n",
       "  <tbody>\n",
       "    <tr>\n",
       "      <th>0</th>\n",
       "      <td>Roman imp</td>\n",
       "      <td>-31</td>\n",
       "      <td>410</td>\n",
       "      <td>range+period</td>\n",
       "      <td>AD</td>\n",
       "      <td>PeriodO</td>\n",
       "      <td>NaN</td>\n",
       "      <td>http://n2t.net/ark:/99152/p08m57hqcc5</td>\n",
       "    </tr>\n",
       "    <tr>\n",
       "      <th>1</th>\n",
       "      <td>Rom. Imp</td>\n",
       "      <td>-31</td>\n",
       "      <td>410</td>\n",
       "      <td>range+period</td>\n",
       "      <td>BC/AD</td>\n",
       "      <td>PeriodO</td>\n",
       "      <td>NaN</td>\n",
       "      <td>http://n2t.net/ark:/99152/p08m57hqcc5</td>\n",
       "    </tr>\n",
       "    <tr>\n",
       "      <th>2</th>\n",
       "      <td>aet. imp.</td>\n",
       "      <td>-31</td>\n",
       "      <td>410</td>\n",
       "      <td>range+period</td>\n",
       "      <td>BC/AD</td>\n",
       "      <td>PeriodO</td>\n",
       "      <td>NaN</td>\n",
       "      <td>http://n2t.net/ark:/99152/p08m57hqcc5</td>\n",
       "    </tr>\n",
       "    <tr>\n",
       "      <th>3</th>\n",
       "      <td>aet. Rom.</td>\n",
       "      <td>-146</td>\n",
       "      <td>324</td>\n",
       "      <td>range+period</td>\n",
       "      <td>BC/AD</td>\n",
       "      <td>NaN</td>\n",
       "      <td>NaN</td>\n",
       "      <td>NaN</td>\n",
       "    </tr>\n",
       "    <tr>\n",
       "      <th>4</th>\n",
       "      <td>Roman period</td>\n",
       "      <td>-146</td>\n",
       "      <td>324</td>\n",
       "      <td>range+period</td>\n",
       "      <td>BC/AD</td>\n",
       "      <td>NaN</td>\n",
       "      <td>NaN</td>\n",
       "      <td>NaN</td>\n",
       "    </tr>\n",
       "    <tr>\n",
       "      <th>5</th>\n",
       "      <td>reign of Hadrian</td>\n",
       "      <td>117</td>\n",
       "      <td>138</td>\n",
       "      <td>range+period</td>\n",
       "      <td>AD</td>\n",
       "      <td>PeriodO</td>\n",
       "      <td>NaN</td>\n",
       "      <td>http://n2t.net/ark:/99152/p0jrrjbntfj</td>\n",
       "    </tr>\n",
       "    <tr>\n",
       "      <th>6</th>\n",
       "      <td>reign of Justinian</td>\n",
       "      <td>527</td>\n",
       "      <td>565</td>\n",
       "      <td>range+period</td>\n",
       "      <td>AD</td>\n",
       "      <td>PeriodO</td>\n",
       "      <td>NaN</td>\n",
       "      <td>http://n2t.net/ark:/99152/p06c6g3r7ht</td>\n",
       "    </tr>\n",
       "    <tr>\n",
       "      <th>7</th>\n",
       "      <td>reign of Ant. Pius</td>\n",
       "      <td>138</td>\n",
       "      <td>161</td>\n",
       "      <td>range+period</td>\n",
       "      <td>AD</td>\n",
       "      <td>PeriodO</td>\n",
       "      <td>NaN</td>\n",
       "      <td>http://n2t.net/ark:/99152/p06c6g3drk4</td>\n",
       "    </tr>\n",
       "    <tr>\n",
       "      <th>8</th>\n",
       "      <td>reign of Augustus</td>\n",
       "      <td>-27</td>\n",
       "      <td>14</td>\n",
       "      <td>range+period</td>\n",
       "      <td>BC/AD</td>\n",
       "      <td>PeriodO</td>\n",
       "      <td>NaN</td>\n",
       "      <td>http://n2t.net/ark:/99152/p06c6g3xnmx</td>\n",
       "    </tr>\n",
       "    <tr>\n",
       "      <th>9</th>\n",
       "      <td>reign of Tiberius</td>\n",
       "      <td>14</td>\n",
       "      <td>37</td>\n",
       "      <td>range+period</td>\n",
       "      <td>AD</td>\n",
       "      <td>PeriodO</td>\n",
       "      <td>NaN</td>\n",
       "      <td>http://n2t.net/ark:/99152/p0jrrjbts8w</td>\n",
       "    </tr>\n",
       "    <tr>\n",
       "      <th>10</th>\n",
       "      <td>reign of Claudius</td>\n",
       "      <td>41</td>\n",
       "      <td>54</td>\n",
       "      <td>range+period</td>\n",
       "      <td>AD</td>\n",
       "      <td>PeriodO</td>\n",
       "      <td>NaN</td>\n",
       "      <td>http://n2t.net/ark:/99152/p0jrrjb8spw</td>\n",
       "    </tr>\n",
       "    <tr>\n",
       "      <th>11</th>\n",
       "      <td>reign of Trajan</td>\n",
       "      <td>98</td>\n",
       "      <td>117</td>\n",
       "      <td>range+period</td>\n",
       "      <td>AD</td>\n",
       "      <td>PeriodO</td>\n",
       "      <td>NaN</td>\n",
       "      <td>http://n2t.net/ark:/99152/p0jrrjbj7h3</td>\n",
       "    </tr>\n",
       "    <tr>\n",
       "      <th>12</th>\n",
       "      <td>Christian</td>\n",
       "      <td>1</td>\n",
       "      <td>2000</td>\n",
       "      <td>range+period</td>\n",
       "      <td>AD</td>\n",
       "      <td>Vojtech</td>\n",
       "      <td>alone</td>\n",
       "      <td>NaN</td>\n",
       "    </tr>\n",
       "    <tr>\n",
       "      <th>13</th>\n",
       "      <td>Byzantine per</td>\n",
       "      <td>324</td>\n",
       "      <td>1453</td>\n",
       "      <td>range+period</td>\n",
       "      <td>AD</td>\n",
       "      <td>PeriodO</td>\n",
       "      <td>NaN</td>\n",
       "      <td>http://n2t.net/ark:/99152/p0m63njtm6w</td>\n",
       "    </tr>\n",
       "    <tr>\n",
       "      <th>14</th>\n",
       "      <td>Byzantine</td>\n",
       "      <td>324</td>\n",
       "      <td>1453</td>\n",
       "      <td>range+period</td>\n",
       "      <td>AD</td>\n",
       "      <td>PeriodO</td>\n",
       "      <td>alone</td>\n",
       "      <td>http://n2t.net/ark:/99152/p0m63njtm6w</td>\n",
       "    </tr>\n",
       "    <tr>\n",
       "      <th>15</th>\n",
       "      <td>Byzant. per</td>\n",
       "      <td>324</td>\n",
       "      <td>1453</td>\n",
       "      <td>range+period</td>\n",
       "      <td>AD</td>\n",
       "      <td>PeriodO</td>\n",
       "      <td>NaN</td>\n",
       "      <td>http://n2t.net/ark:/99152/p0m63njtm6w</td>\n",
       "    </tr>\n",
       "    <tr>\n",
       "      <th>16</th>\n",
       "      <td>Byzantium</td>\n",
       "      <td>330</td>\n",
       "      <td>1453</td>\n",
       "      <td>range+period</td>\n",
       "      <td>AD</td>\n",
       "      <td>PeriodO</td>\n",
       "      <td>NaN</td>\n",
       "      <td>http://n2t.net/ark:/99152/p08vvjk5t32</td>\n",
       "    </tr>\n",
       "    <tr>\n",
       "      <th>17</th>\n",
       "      <td>Hellenistic</td>\n",
       "      <td>-330</td>\n",
       "      <td>-30</td>\n",
       "      <td>range+period</td>\n",
       "      <td>BC</td>\n",
       "      <td>PeriodO</td>\n",
       "      <td>NaN</td>\n",
       "      <td>http://n2t.net/ark:/99152/p03wskd55sw</td>\n",
       "    </tr>\n",
       "    <tr>\n",
       "      <th>18</th>\n",
       "      <td>Late Antiquity</td>\n",
       "      <td>284</td>\n",
       "      <td>476</td>\n",
       "      <td>range+period</td>\n",
       "      <td>AD</td>\n",
       "      <td>PeriodO</td>\n",
       "      <td>NaN</td>\n",
       "      <td>http://n2t.net/ark:/99152/p0jrrjb67vs</td>\n",
       "    </tr>\n",
       "    <tr>\n",
       "      <th>19</th>\n",
       "      <td>Claudian</td>\n",
       "      <td>41</td>\n",
       "      <td>54</td>\n",
       "      <td>range+period</td>\n",
       "      <td>AD</td>\n",
       "      <td>PeriodO</td>\n",
       "      <td>NaN</td>\n",
       "      <td>http://n2t.net/ark:/99152/p0jrrjb8spw</td>\n",
       "    </tr>\n",
       "    <tr>\n",
       "      <th>20</th>\n",
       "      <td>Trajanic</td>\n",
       "      <td>98</td>\n",
       "      <td>117</td>\n",
       "      <td>range+period</td>\n",
       "      <td>AD</td>\n",
       "      <td>PeriodO</td>\n",
       "      <td>NaN</td>\n",
       "      <td>http://n2t.net/ark:/99152/p0jrrjbj7h3</td>\n",
       "    </tr>\n",
       "    <tr>\n",
       "      <th>21</th>\n",
       "      <td>Hadrianic</td>\n",
       "      <td>117</td>\n",
       "      <td>138</td>\n",
       "      <td>range+period</td>\n",
       "      <td>AD</td>\n",
       "      <td>PeriodO</td>\n",
       "      <td>NaN</td>\n",
       "      <td>http://n2t.net/ark:/99152/p0jrrjbntfj</td>\n",
       "    </tr>\n",
       "    <tr>\n",
       "      <th>22</th>\n",
       "      <td>Antonine period</td>\n",
       "      <td>96</td>\n",
       "      <td>192</td>\n",
       "      <td>range+period</td>\n",
       "      <td>AD</td>\n",
       "      <td>PeriodO</td>\n",
       "      <td>NaN</td>\n",
       "      <td>http://n2t.net/ark:/99152/p06c6g34zjk</td>\n",
       "    </tr>\n",
       "    <tr>\n",
       "      <th>23</th>\n",
       "      <td>Severan period</td>\n",
       "      <td>193</td>\n",
       "      <td>235</td>\n",
       "      <td>range+period</td>\n",
       "      <td>AD</td>\n",
       "      <td>PeriodO</td>\n",
       "      <td>NaN</td>\n",
       "      <td>http://n2t.net/ark:/99152/p0jrrjbtf3t</td>\n",
       "    </tr>\n",
       "  </tbody>\n",
       "</table>\n",
       "</div>"
      ],
      "text/plain": [
       "                period  start  stop          type    era   source  notes  \\\n",
       "0            Roman imp    -31   410  range+period     AD  PeriodO    NaN   \n",
       "1             Rom. Imp    -31   410  range+period  BC/AD  PeriodO    NaN   \n",
       "2            aet. imp.    -31   410  range+period  BC/AD  PeriodO    NaN   \n",
       "3            aet. Rom.   -146   324  range+period  BC/AD      NaN    NaN   \n",
       "4         Roman period   -146   324  range+period  BC/AD      NaN    NaN   \n",
       "5     reign of Hadrian    117   138  range+period     AD  PeriodO    NaN   \n",
       "6   reign of Justinian    527   565  range+period     AD  PeriodO    NaN   \n",
       "7   reign of Ant. Pius    138   161  range+period     AD  PeriodO    NaN   \n",
       "8    reign of Augustus    -27    14  range+period  BC/AD  PeriodO    NaN   \n",
       "9    reign of Tiberius     14    37  range+period     AD  PeriodO    NaN   \n",
       "10   reign of Claudius     41    54  range+period     AD  PeriodO    NaN   \n",
       "11     reign of Trajan     98   117  range+period     AD  PeriodO    NaN   \n",
       "12          Christian       1  2000  range+period     AD  Vojtech  alone   \n",
       "13       Byzantine per    324  1453  range+period     AD  PeriodO    NaN   \n",
       "14           Byzantine    324  1453  range+period     AD  PeriodO  alone   \n",
       "15         Byzant. per    324  1453  range+period     AD  PeriodO    NaN   \n",
       "16           Byzantium    330  1453  range+period     AD  PeriodO    NaN   \n",
       "17         Hellenistic   -330   -30  range+period     BC  PeriodO    NaN   \n",
       "18      Late Antiquity    284   476  range+period     AD  PeriodO    NaN   \n",
       "19            Claudian     41    54  range+period     AD  PeriodO    NaN   \n",
       "20            Trajanic     98   117  range+period     AD  PeriodO    NaN   \n",
       "21           Hadrianic    117   138  range+period     AD  PeriodO    NaN   \n",
       "22     Antonine period     96   192  range+period     AD  PeriodO    NaN   \n",
       "23      Severan period    193   235  range+period     AD  PeriodO    NaN   \n",
       "\n",
       "                                     link  \n",
       "0   http://n2t.net/ark:/99152/p08m57hqcc5  \n",
       "1   http://n2t.net/ark:/99152/p08m57hqcc5  \n",
       "2   http://n2t.net/ark:/99152/p08m57hqcc5  \n",
       "3                                     NaN  \n",
       "4                                     NaN  \n",
       "5   http://n2t.net/ark:/99152/p0jrrjbntfj  \n",
       "6   http://n2t.net/ark:/99152/p06c6g3r7ht  \n",
       "7   http://n2t.net/ark:/99152/p06c6g3drk4  \n",
       "8   http://n2t.net/ark:/99152/p06c6g3xnmx  \n",
       "9   http://n2t.net/ark:/99152/p0jrrjbts8w  \n",
       "10  http://n2t.net/ark:/99152/p0jrrjb8spw  \n",
       "11  http://n2t.net/ark:/99152/p0jrrjbj7h3  \n",
       "12                                    NaN  \n",
       "13  http://n2t.net/ark:/99152/p0m63njtm6w  \n",
       "14  http://n2t.net/ark:/99152/p0m63njtm6w  \n",
       "15  http://n2t.net/ark:/99152/p0m63njtm6w  \n",
       "16  http://n2t.net/ark:/99152/p08vvjk5t32  \n",
       "17  http://n2t.net/ark:/99152/p03wskd55sw  \n",
       "18  http://n2t.net/ark:/99152/p0jrrjb67vs  \n",
       "19  http://n2t.net/ark:/99152/p0jrrjb8spw  \n",
       "20  http://n2t.net/ark:/99152/p0jrrjbj7h3  \n",
       "21  http://n2t.net/ark:/99152/p0jrrjbntfj  \n",
       "22  http://n2t.net/ark:/99152/p06c6g34zjk  \n",
       "23  http://n2t.net/ark:/99152/p0jrrjbtf3t  "
      ]
     },
     "execution_count": 16,
     "metadata": {},
     "output_type": "execute_result"
    }
   ],
   "source": [
    "# read periods from our external coding\n",
    "periods = get_as_dataframe(PHI_overview.worksheet(\"periods\"))\n",
    "periods"
   ]
  },
  {
   "cell_type": "code",
   "execution_count": 17,
   "metadata": {
    "colab": {
     "base_uri": "https://localhost:8080/",
     "height": 136
    },
    "colab_type": "code",
    "id": "KVTN1NZ2A6k9",
    "outputId": "c0a855b2-112e-462f-ff44-a8d6ed8a9177"
   },
   "outputs": [
    {
     "data": {
      "text/plain": [
       "{'start': 41,\n",
       " 'stop': 54,\n",
       " 'type': 'range+period',\n",
       " 'era': 'AD',\n",
       " 'source': 'PeriodO',\n",
       " 'notes': nan,\n",
       " 'link': 'http://n2t.net/ark:/99152/p0jrrjb8spw'}"
      ]
     },
     "execution_count": 17,
     "metadata": {},
     "output_type": "execute_result"
    }
   ],
   "source": [
    "periods_dict = periods.set_index(\"period\").T.to_dict()\n",
    "periods_dict[\"reign of Claudius\"]"
   ]
  },
  {
   "cell_type": "code",
   "execution_count": 18,
   "metadata": {
    "colab": {},
    "colab_type": "code",
    "id": "8fLTjrTpFqqw"
   },
   "outputs": [],
   "source": [
    "def extract_period(datation, dating=None):\n",
    "  if (dating==None): dating = {\"type\" : \"unknown\"} \n",
    "  if dating[\"type\"] == \"unknown\":\n",
    "    for key in periods_dict.keys():\n",
    "      if periods_dict[key][\"notes\"] != \"alone\":\n",
    "        if re.search(key, datation, flags=re.IGNORECASE): # use lower cases to match everything\n",
    "          dating_update = periods_dict[key]\n",
    "          break\n",
    "      elif re.search(\"^\\s?\" + key + \"\\s?$\", datation):\n",
    "          dating_update = periods_dict[key]\n",
    "          break\n",
    "      else:\n",
    "          dating_update = {\"type\" : \"unknown\"}\n",
    "    return dating_update\n",
    "  else:\n",
    "    return dating"
   ]
  },
  {
   "cell_type": "code",
   "execution_count": 19,
   "metadata": {
    "colab": {
     "base_uri": "https://localhost:8080/",
     "height": 156
    },
    "colab_type": "code",
    "id": "_ucDtS79Y-kj",
    "outputId": "76be05a2-42bc-4c63-ee59-08563763ff5a"
   },
   "outputs": [
    {
     "name": "stdout",
     "output_type": "stream",
     "text": [
      "{'Roman Imperial': {'start': -31, 'stop': 410, 'type': 'range+period', 'era': 'AD', 'source': 'PeriodO', 'notes': nan, 'link': 'http://n2t.net/ark:/99152/p08m57hqcc5'}}\n",
      "{'reign of Augustus': {'start': -27, 'stop': 14, 'type': 'range+period', 'era': 'BC/AD', 'source': 'PeriodO', 'notes': nan, 'link': 'http://n2t.net/ark:/99152/p06c6g3xnmx'}}\n",
      "{'Antonine period': {'start': 96, 'stop': 192, 'type': 'range+period', 'era': 'AD', 'source': 'PeriodO', 'notes': nan, 'link': 'http://n2t.net/ark:/99152/p06c6g34zjk'}}\n",
      "{'Christian Anderson': {'type': 'unknown'}}\n",
      "{'Christian ': {'start': 1, 'stop': 2000, 'type': 'range+period', 'era': 'AD', 'source': 'Vojtech', 'notes': 'alone', 'link': nan}}\n",
      "{'Book about Byzantine': {'type': 'unknown'}}\n",
      "{' Byzantine': {'start': 324, 'stop': 1453, 'type': 'range+period', 'era': 'AD', 'source': 'PeriodO', 'notes': 'alone', 'link': 'http://n2t.net/ark:/99152/p0m63njtm6w'}}\n"
     ]
    }
   ],
   "source": [
    "# example:\n",
    "for datation in [\"Roman Imperial\", \"reign of Augustus\", \"Antonine period\", \"Christian Anderson\", \"Christian \",\"Book about Byzantine\", \" Byzantine\",]:\n",
    "  print({datation : extract_period(datation)})"
   ]
  },
  {
   "cell_type": "markdown",
   "metadata": {
    "colab_type": "text",
    "id": "gqnMB8TXIFKM"
   },
   "source": [
    "# Parse \"/\" for individual dates\n",
    "\n",
    "The \"/\" character is use in several different cases, each of which requires slightly different approach. Here we are parsing cases in which it is used for individual date numbers, e.g. \"114/3 BC\", what is translated as an interval (-114, -113). However, if there is a loger range between the two numbers, the \"/\" character is treated as \"or\" and the alternative date is extracted into the \"or\" key within the dictionary."
   ]
  },
  {
   "cell_type": "code",
   "execution_count": 20,
   "metadata": {
    "colab": {
     "base_uri": "https://localhost:8080/",
     "height": 88
    },
    "colab_type": "code",
    "id": "1L35w0JIDiGF",
    "outputId": "95f51cf9-d4ee-4567-eb4e-da2a24e49d69"
   },
   "outputs": [
    {
     "name": "stderr",
     "output_type": "stream",
     "text": [
      "/home/kasev/.local/lib/python3.6/site-packages/pandas/core/strings.py:2001: UserWarning:\n",
      "\n",
      "This pattern has match groups. To actually get the groups, use str.extract.\n",
      "\n"
     ]
    },
    {
     "data": {
      "text/plain": [
       "9909"
      ]
     },
     "execution_count": 20,
     "metadata": {},
     "output_type": "execute_result"
    }
   ],
   "source": [
    "ors = PHI[PHI[\"raw_date\"].str.contains(\"(\\d+)(\\/)(\\d+)\")][\"raw_date\"].tolist()\n",
    "len(ors)"
   ]
  },
  {
   "cell_type": "code",
   "execution_count": 21,
   "metadata": {
    "colab": {
     "base_uri": "https://localhost:8080/",
     "height": 187
    },
    "colab_type": "code",
    "id": "cFYx8Y8bLobP",
    "outputId": "6ab871e7-c8eb-434e-d813-337fba1f4d82"
   },
   "outputs": [
    {
     "data": {
      "text/plain": [
       "['441/0-440/39 a.',\n",
       " '430/29-427/6 a.',\n",
       " '418/7-415/4 a. ',\n",
       " '409/8-407/6 a.',\n",
       " '413/2-405/4 a.',\n",
       " '447/6-433/2 a.',\n",
       " '447/6-433/2 a.',\n",
       " '447/6-433/2 a.',\n",
       " '447/6-433/2 a.',\n",
       " '447/6-433/2 a.']"
      ]
     },
     "execution_count": 21,
     "metadata": {},
     "output_type": "execute_result"
    }
   ],
   "source": [
    "# examples of more \"/\" combined with \"-\"\n",
    "[datation for datation in ors if re.search(r'(\\d+)(\\/)(\\d+).?-.?(\\d+)(\\/)(\\d+)', datation)][:10]"
   ]
  },
  {
   "cell_type": "code",
   "execution_count": 22,
   "metadata": {
    "colab": {
     "base_uri": "https://localhost:8080/",
     "height": 187
    },
    "colab_type": "code",
    "id": "8GQhbPz_D21t",
    "outputId": "4b7cd1cd-7ac9-49b6-bcff-12d4a15a44c5"
   },
   "outputs": [
    {
     "data": {
      "text/plain": [
       "['238/9 or 242/3',\n",
       " '238/9 or 242/3',\n",
       " '262/3 or 266/7',\n",
       " '321/0 or 318/7',\n",
       " '175/4 or 172/1',\n",
       " '329/8 or 323/2',\n",
       " '340/39 or 313/2',\n",
       " '180/79 or 179/8 BC',\n",
       " '148/7 or 147/6 BC',\n",
       " '147/6 or 146/5 BC']"
      ]
     },
     "execution_count": 22,
     "metadata": {},
     "output_type": "execute_result"
    }
   ],
   "source": [
    "# examples of more \"/\" combined with \" or \"\n",
    "[datation for datation in ors if re.search(r'(\\d+)(\\/)(\\d+)().?(\\sor\\s).?(\\d+)(\\/)(\\d+)', datation)][:10]"
   ]
  },
  {
   "cell_type": "code",
   "execution_count": 23,
   "metadata": {
    "colab": {},
    "colab_type": "code",
    "id": "LCHbxCIBIFKO"
   },
   "outputs": [],
   "source": [
    "def complete_numbers(datation, date1, date2):\n",
    "  # if the second number contains less numerals, try to complete it\n",
    "  len_diff = len(date1) - len(date2)\n",
    "  if len_diff > 0:\n",
    "    date2 = date1[:len_diff] + date2\n",
    "  # transform it into integer\n",
    "  date1 = int(date1)\n",
    "  date2 = int(date2)\n",
    "  if (\"AD\" not in datation) and (date1 > date2):\n",
    "    date1 = date1 * -1\n",
    "    date2 = date2 * -1\n",
    "    #if date1 > date2:\n",
    "       #  date1, date2 = date2, date1\n",
    "  return date1, date2\n",
    "\n",
    "def match_or(datation, dating=None):\n",
    "  if dating==None: dating = {\"type\" : \"unknown\"}\n",
    "  if dating[\"type\"] == \"unknown\":\n",
    "    if (len(re.findall(\"[a-z|A-Z]\", datation)) < 4) or (re.search(\"BC|AD|early|late|beg|end|after|post|before|ante\", datation)):\n",
    "      matches = re.findall(r'(\\d+)(\\/)(\\d+)', str(datation), flags=re.IGNORECASE)\n",
    "      if len(matches) != 0:\n",
    "          date1, date2 = complete_numbers(datation, matches[0][0], matches[0][2])\n",
    "          if len(matches) > 1: # if there is more than one match\n",
    "            date3, date4 = complete_numbers(datation, matches[1][0], matches[1][2])         \n",
    "          #if date1 > date2:\n",
    "          #  date1, date2 = date2, date1\n",
    "          if re.search(r'(\\d+)(\\/)(\\d+)().?(\\sor\\s).?(\\d+)(\\/)(\\d+)', datation):\n",
    "            if abs(date1 - date4) < 5: # if it is something like \"331/0 or 330/29 BC\"\n",
    "              dating.update({\"start\" : date1, \"stop\": date4, \"type\" : \"range\"})\n",
    "            else: # treat the or numbers as an alternative range\n",
    "              dating.update({\"start\" : date1, \"stop\": date2, \"type\" : \"range+or\", \"or\": {\"start\" : date3, \"stop\": date4, \"type\" : \"range\"}})\n",
    "          elif re.search(r'(\\d+)(\\/)(\\d+).?-.?(\\d+)(\\/)(\\d+)', datation):\n",
    "            dating.update({\"start\" : date1, \"stop\": date4, \"type\" : \"range\"})\n",
    "          else:\n",
    "            if abs(date1 - date2) < 3:\n",
    "              dating.update({\"start\" : date1, \"stop\": date2, \"type\" : \"range\"})\n",
    "            else:\n",
    "              dating.update({\"exact\" : date1, \"or\": {\"exact\" : date2, \"type\" : \"exact\"}, \"type\" : \"exact+or\"})\n",
    "          dating = extract_ante_and_post(datation, dating)\n",
    "          return dating\n",
    "          #if dating_update[\"type\"] == \"post\":\n",
    "          #   return {\"start\" : date1, \"or\": {\"start\" : date2, \"type\" : \"post\"}, \"type\" : \"post+or\"}\n",
    "          #elif extract_ante_and_post(datation, dating)[\"type\"] == \"ante\":\n",
    "          #  return {\"stop\" : date1, \"or\": {\"stop\" : date2, \"type\" : \"ante\"}, \"type\" : \"ante+or\"}\n",
    "          #else:\n",
    "          #  return {\"exact\" : date1, \"or\": {\"exact\" : date2, \"type\" : \"exact\"}, \"type\" : \"exact+or\"}\n",
    "      else:\n",
    "        return dating\n",
    "  return {\"type\" : \"unknown\"}"
   ]
  },
  {
   "cell_type": "code",
   "execution_count": 24,
   "metadata": {
    "colab": {
     "base_uri": "https://localhost:8080/",
     "height": 34
    },
    "colab_type": "code",
    "id": "uhsquTQMTjk2",
    "outputId": "780c7890-a832-4731-9c90-2c65cfcaadc4"
   },
   "outputs": [
    {
     "data": {
      "text/plain": [
       "{'type': 'unknown'}"
      ]
     },
     "execution_count": 24,
     "metadata": {},
     "output_type": "execute_result"
    }
   ],
   "source": [
    "match_or('ASAA 6/7 (1923/4) 446, 161')"
   ]
  },
  {
   "cell_type": "code",
   "execution_count": 25,
   "metadata": {
    "colab": {
     "base_uri": "https://localhost:8080/",
     "height": 34
    },
    "colab_type": "code",
    "id": "Us522n9frYj6",
    "outputId": "3e478f09-b85b-4d46-c347-77160c388b6f"
   },
   "outputs": [
    {
     "data": {
      "text/plain": [
       "{'type': 'range', 'start': -12, 'stop': -11}"
      ]
     },
     "execution_count": 25,
     "metadata": {},
     "output_type": "execute_result"
    }
   ],
   "source": [
    "match_or(\" 12/1 BC\")"
   ]
  },
  {
   "cell_type": "code",
   "execution_count": 26,
   "metadata": {
    "colab": {
     "base_uri": "https://localhost:8080/",
     "height": 34
    },
    "colab_type": "code",
    "id": "EHQm6j1PAmwH",
    "outputId": "b014b5d4-acac-4a3b-b9a7-41666257a6a2"
   },
   "outputs": [
    {
     "data": {
      "text/plain": [
       "{'type': 'range', 'start': 229, 'stop': 231}"
      ]
     },
     "execution_count": 26,
     "metadata": {},
     "output_type": "execute_result"
    }
   ],
   "source": [
    "match_or(\"229/30 or 230/1\")"
   ]
  },
  {
   "cell_type": "code",
   "execution_count": 27,
   "metadata": {
    "colab": {
     "base_uri": "https://localhost:8080/",
     "height": 85
    },
    "colab_type": "code",
    "id": "bSTZyAG7OZ27",
    "outputId": "9e90830d-dd81-4df1-c3fb-2ecb7d7509f0"
   },
   "outputs": [
    {
     "data": {
      "text/plain": [
       "{'type': 'range+or',\n",
       " 'start': -27,\n",
       " 'stop': -26,\n",
       " 'or': {'start': 17, 'stop': 18, 'type': 'range'}}"
      ]
     },
     "execution_count": 27,
     "metadata": {},
     "output_type": "execute_result"
    }
   ],
   "source": [
    "match_or(\"27/6 or 17/8\")"
   ]
  },
  {
   "cell_type": "code",
   "execution_count": 28,
   "metadata": {
    "colab": {
     "base_uri": "https://localhost:8080/",
     "height": 34
    },
    "colab_type": "code",
    "id": "SJqu9B3hPEzi",
    "outputId": "ced461a3-65bd-4be9-a9fa-6ab441764900"
   },
   "outputs": [
    {
     "data": {
      "text/plain": [
       "{'type': 'range', 'start': -14, 'stop': -12}"
      ]
     },
     "execution_count": 28,
     "metadata": {},
     "output_type": "execute_result"
    }
   ],
   "source": [
    "match_or(\"14/13 or 13/12 BC\")"
   ]
  },
  {
   "cell_type": "code",
   "execution_count": 29,
   "metadata": {
    "colab": {
     "base_uri": "https://localhost:8080/",
     "height": 34
    },
    "colab_type": "code",
    "id": "2WSle2OPQwNp",
    "outputId": "83e20551-a796-4dad-f72f-84db99ef6118"
   },
   "outputs": [
    {
     "data": {
      "text/plain": [
       "{'start': -11, 'stop': None, 'type': 'range+post'}"
      ]
     },
     "execution_count": 29,
     "metadata": {},
     "output_type": "execute_result"
    }
   ],
   "source": [
    "match_or(\"aft. 14/13 or 13/12 BC\")"
   ]
  },
  {
   "cell_type": "code",
   "execution_count": 30,
   "metadata": {
    "colab": {
     "base_uri": "https://localhost:8080/",
     "height": 34
    },
    "colab_type": "code",
    "id": "9R-CqfEEOw7M",
    "outputId": "2d0eef16-f380-4a68-f02e-95b739d1bc92"
   },
   "outputs": [
    {
     "data": {
      "text/plain": [
       "{'type': 'range', 'start': -139, 'stop': -121}"
      ]
     },
     "execution_count": 30,
     "metadata": {},
     "output_type": "execute_result"
    }
   ],
   "source": [
    "match_or(\"139/8-122/1 BC\")"
   ]
  },
  {
   "cell_type": "markdown",
   "metadata": {
    "colab_type": "text",
    "id": "ObqKKNvRInTm"
   },
   "source": [
    "# Parse phase"
   ]
  },
  {
   "cell_type": "code",
   "execution_count": 31,
   "metadata": {
    "colab": {},
    "colab_type": "code",
    "id": "TjZtW6x-TG4S"
   },
   "outputs": [],
   "source": [
    "# parametrization \n",
    "early_late = 0.25 # i.e. first or last 25% of the range\n",
    "beginning_end = 0.1 # i.e. first or last 25% of the range\n",
    "middle = 0.05 # i.e. 5% left of the middle, 5% right of the middle\n",
    "ca = 0.1 # i.e. plus 10% of the range on the left side and plus 10% on the right side"
   ]
  },
  {
   "cell_type": "code",
   "execution_count": 32,
   "metadata": {
    "colab": {},
    "colab_type": "code",
    "id": "JOdAmuZXJhGZ"
   },
   "outputs": [],
   "source": [
    "# application of this function requires that you already have a dating dictionary having either start and stop or an exact date (for \"ca.\")\n",
    "def modify_by_phase(datation, dating):\n",
    "  if (not \"phase\" in dating[\"type\"]) and (not \"morece\" in dating[\"type\"]):\n",
    "    try:\n",
    "      start, stop = dating[\"start\"], dating[\"stop\"]\n",
    "      try: \n",
    "        duration = abs(dating[\"stop\"] - dating[\"start\"])\n",
    "      except:\n",
    "        duration = 1\n",
    "      datation = datation.lower()\n",
    "      if \"firsthalf\" in datation:\n",
    "        dating[\"stop\"] = start + round(duration * 0.5)\n",
    "        dating[\"type\"] = dating[\"type\"] + \"+phase+firsthalf\"\n",
    "      if \"secondhalf\" in datation:\n",
    "        dating[\"start\"] = start + round(duration * 0.5)\n",
    "        dating[\"type\"] = dating[\"type\"] + \"+phase+secondhalf\"\n",
    "      if \"early\" in datation:\n",
    "        coef = early_late\n",
    "        dating[\"stop\"] = start + round(duration * coef)\n",
    "        dating[\"type\"] = dating[\"type\"] + \"+phase+early\"\n",
    "      if \"late\" in datation:\n",
    "        if \"late antiquity\" not in datation:\n",
    "          coef = early_late\n",
    "          dating[\"start\"] = stop - round(duration * coef)\n",
    "          dating[\"type\"] = dating[\"type\"] + \"+phase+late\"\n",
    "      if re.search(\"(init\\.\\s|beginning|beg\\.?\\s)\", datation):\n",
    "        coef = beginning_end\n",
    "        dating[\"stop\"] = start + round(duration * coef)\n",
    "        dating[\"type\"] = dating[\"type\"] + \"+phase+beg\"\n",
    "      if re.search(\"(end\\s|fin.\\s)\", datation):\n",
    "        coef = beginning_end\n",
    "        dating[\"start\"] = stop - round(duration * coef)\n",
    "        dating[\"type\"] = dating[\"type\"] + \"+phase+end\"\n",
    "      if re.search(\"(middle|mid\\.?\\s|med\\.\\s)\", datation):\n",
    "        coef = middle # that means: \"middle 2nd c. AD\" => 140 - 161\n",
    "        dating_avr = (dating[\"start\"] + dating[\"stop\"]) / 2\n",
    "        dating[\"start\"] = round(dating_avr - (coef * duration))\n",
    "        dating[\"stop\"] = round(dating_avr + (coef * duration))\n",
    "        dating[\"type\"] = dating[\"type\"] + \"+phase+middle\"\n",
    "      if re.search(\"ca\\.\\s\", datation):\n",
    "        dating[\"type\"] = dating[\"type\"] + \"+phase+ca\"\n",
    "        if (\"exact\" in dating[\"type\"]) or duration < 10:\n",
    "          dating.update({\"start\" : dating[\"exact\"] - 5, \"stop\" : dating[\"exact\"] + 5})\n",
    "          dating[\"exact\"] = None\n",
    "        else:\n",
    "          dating[\"start\"] = start - round(duration * ca)\n",
    "          dating[\"stop\"] = stop + round(duration * ca)\n",
    "      return dating\n",
    "    except:\n",
    "      return dating\n",
    "  else: \n",
    "    return dating"
   ]
  },
  {
   "cell_type": "code",
   "execution_count": 33,
   "metadata": {
    "colab": {
     "base_uri": "https://localhost:8080/",
     "height": 34
    },
    "colab_type": "code",
    "id": "N3e0LnrmB_l0",
    "outputId": "0aaf2dd0-d1e0-4483-c400-6af1b106c66f"
   },
   "outputs": [
    {
     "data": {
      "text/plain": [
       "{'start': -500, 'stop': -490, 'type': 'range+phase+beg'}"
      ]
     },
     "execution_count": 33,
     "metadata": {},
     "output_type": "execute_result"
    }
   ],
   "source": [
    "# example 0\n",
    "modify_by_phase(\"beg. 5th c. BC\", {\"start\" : -500, \"stop\" : -401, \"type\" : \"range\"})"
   ]
  },
  {
   "cell_type": "code",
   "execution_count": 34,
   "metadata": {
    "colab": {
     "base_uri": "https://localhost:8080/",
     "height": 34
    },
    "colab_type": "code",
    "id": "zlnUZvAFaAhu",
    "outputId": "13584e14-f301-4874-aea8-b0d21478f66c"
   },
   "outputs": [
    {
     "name": "stdout",
     "output_type": "stream",
     "text": [
      "{'start': -205, 'stop': -195, 'exact': None, 'type': 'exact+phase+ca', 'era': 'BC'}\n"
     ]
    }
   ],
   "source": [
    "# example 1: \"ca.\" in case of individual date\n",
    "datation = \"ca. 200 BC\"\n",
    "dating = {\"start\" : None, \"stop\" : None, \"exact\" : -200, \"type\" : \"exact\", \"era\" : \"BC\"}\n",
    "print(modify_by_phase(datation, dating))"
   ]
  },
  {
   "cell_type": "code",
   "execution_count": 35,
   "metadata": {
    "colab": {
     "base_uri": "https://localhost:8080/",
     "height": 34
    },
    "colab_type": "code",
    "id": "A0S-JHUjOIm8",
    "outputId": "f69efd68-6fa9-457f-92a1-a25d1d474bd1"
   },
   "outputs": [
    {
     "name": "stdout",
     "output_type": "stream",
     "text": [
      "{'start': -210, 'stop': -91, 'type': 'range+cent+phase+ca'}\n"
     ]
    }
   ],
   "source": [
    "#  example 2: \"ca.\" in case of century\n",
    "datation = \"ca. s. II BC\"\n",
    "dating = {\"start\" : -200, \"stop\" : -101, \"type\" : \"range+cent\"}\n",
    "print(modify_by_phase(datation, dating))"
   ]
  },
  {
   "cell_type": "code",
   "execution_count": 36,
   "metadata": {
    "colab": {
     "base_uri": "https://localhost:8080/",
     "height": 34
    },
    "colab_type": "code",
    "id": "IKELyfP_847o",
    "outputId": "9e5f4cbb-378f-474e-9315-8488d4d4ea90"
   },
   "outputs": [
    {
     "name": "stdout",
     "output_type": "stream",
     "text": [
      "{'start': -200, 'stop': -175, 'type': 'range+cent+phase+early'}\n"
     ]
    }
   ],
   "source": [
    "#  example 3: \"early\"\n",
    "datation = \"early 2nd BC\"\n",
    "dating = {\"start\" : -200, \"stop\" : -101, \"type\" : \"range+cent\"}\n",
    "print(modify_by_phase(datation, dating))"
   ]
  },
  {
   "cell_type": "markdown",
   "metadata": {
    "colab_type": "text",
    "id": "Wmnv7TMsCwqz"
   },
   "source": [
    "# Parse centuries"
   ]
  },
  {
   "cell_type": "code",
   "execution_count": 37,
   "metadata": {
    "colab": {
     "base_uri": "https://localhost:8080/",
     "height": 328
    },
    "colab_type": "code",
    "id": "a4p8-HnxQ0SW",
    "outputId": "4b024013-5879-4cd0-a41c-ebf9cfd8c600"
   },
   "outputs": [
    {
     "data": {
      "text/html": [
       "<div>\n",
       "<style scoped>\n",
       "    .dataframe tbody tr th:only-of-type {\n",
       "        vertical-align: middle;\n",
       "    }\n",
       "\n",
       "    .dataframe tbody tr th {\n",
       "        vertical-align: top;\n",
       "    }\n",
       "\n",
       "    .dataframe thead th {\n",
       "        text-align: right;\n",
       "    }\n",
       "</style>\n",
       "<table border=\"1\" class=\"dataframe\">\n",
       "  <thead>\n",
       "    <tr style=\"text-align: right;\">\n",
       "      <th></th>\n",
       "      <th>roman</th>\n",
       "      <th>start_BC</th>\n",
       "      <th>stop_BC</th>\n",
       "      <th>start_AD</th>\n",
       "      <th>stop_AD</th>\n",
       "    </tr>\n",
       "    <tr>\n",
       "      <th>arabic</th>\n",
       "      <th></th>\n",
       "      <th></th>\n",
       "      <th></th>\n",
       "      <th></th>\n",
       "      <th></th>\n",
       "    </tr>\n",
       "  </thead>\n",
       "  <tbody>\n",
       "    <tr>\n",
       "      <th>8th</th>\n",
       "      <td>VIII</td>\n",
       "      <td>-800</td>\n",
       "      <td>-701</td>\n",
       "      <td>701</td>\n",
       "      <td>800</td>\n",
       "    </tr>\n",
       "    <tr>\n",
       "      <th>7th</th>\n",
       "      <td>VII</td>\n",
       "      <td>-700</td>\n",
       "      <td>-601</td>\n",
       "      <td>601</td>\n",
       "      <td>700</td>\n",
       "    </tr>\n",
       "    <tr>\n",
       "      <th>6th</th>\n",
       "      <td>VI</td>\n",
       "      <td>-600</td>\n",
       "      <td>-501</td>\n",
       "      <td>501</td>\n",
       "      <td>600</td>\n",
       "    </tr>\n",
       "    <tr>\n",
       "      <th>4th</th>\n",
       "      <td>IV</td>\n",
       "      <td>-400</td>\n",
       "      <td>-301</td>\n",
       "      <td>301</td>\n",
       "      <td>400</td>\n",
       "    </tr>\n",
       "    <tr>\n",
       "      <th>5th</th>\n",
       "      <td>V</td>\n",
       "      <td>-500</td>\n",
       "      <td>-401</td>\n",
       "      <td>401</td>\n",
       "      <td>500</td>\n",
       "    </tr>\n",
       "    <tr>\n",
       "      <th>3rd</th>\n",
       "      <td>III</td>\n",
       "      <td>-300</td>\n",
       "      <td>-201</td>\n",
       "      <td>201</td>\n",
       "      <td>300</td>\n",
       "    </tr>\n",
       "    <tr>\n",
       "      <th>2nd</th>\n",
       "      <td>II</td>\n",
       "      <td>-200</td>\n",
       "      <td>-101</td>\n",
       "      <td>101</td>\n",
       "      <td>200</td>\n",
       "    </tr>\n",
       "    <tr>\n",
       "      <th>1st</th>\n",
       "      <td>I</td>\n",
       "      <td>-100</td>\n",
       "      <td>-1</td>\n",
       "      <td>1</td>\n",
       "      <td>100</td>\n",
       "    </tr>\n",
       "  </tbody>\n",
       "</table>\n",
       "</div>"
      ],
      "text/plain": [
       "       roman  start_BC  stop_BC  start_AD  stop_AD\n",
       "arabic                                            \n",
       "8th     VIII      -800     -701       701      800\n",
       "7th      VII      -700     -601       601      700\n",
       "6th       VI      -600     -501       501      600\n",
       "4th       IV      -400     -301       301      400\n",
       "5th        V      -500     -401       401      500\n",
       "3rd      III      -300     -201       201      300\n",
       "2nd       II      -200     -101       101      200\n",
       "1st        I      -100       -1         1      100"
      ]
     },
     "execution_count": 37,
     "metadata": {},
     "output_type": "execute_result"
    }
   ],
   "source": [
    "# read centuries table from gsheet\n",
    "centuries_df = get_as_dataframe(PHI_overview.worksheet(\"centuries\"))\n",
    "centuries_df.set_index(\"arabic\", inplace=True)\n",
    "centuries_df"
   ]
  },
  {
   "cell_type": "code",
   "execution_count": 38,
   "metadata": {
    "colab": {
     "base_uri": "https://localhost:8080/",
     "height": 34
    },
    "colab_type": "code",
    "id": "Ss7wRjSfhN55",
    "outputId": "62944e20-7612-4ebc-9a06-051f02868a69"
   },
   "outputs": [
    {
     "data": {
      "text/plain": [
       "['8th', '7th', '6th', '4th', '5th', '3rd', '2nd', '1st']"
      ]
     },
     "execution_count": 38,
     "metadata": {},
     "output_type": "execute_result"
    }
   ],
   "source": [
    "arabics = centuries_df.index.tolist()\n",
    "arabics"
   ]
  },
  {
   "cell_type": "code",
   "execution_count": 39,
   "metadata": {
    "colab": {
     "base_uri": "https://localhost:8080/",
     "height": 34
    },
    "colab_type": "code",
    "id": "7itHvFW6hWxh",
    "outputId": "51cb3846-1953-406d-d4ca-cb49cc4f837b"
   },
   "outputs": [
    {
     "data": {
      "text/plain": [
       "['VIII', 'VII', 'VI', 'IV', 'V', 'III', 'II', 'I']"
      ]
     },
     "execution_count": 39,
     "metadata": {},
     "output_type": "execute_result"
    }
   ],
   "source": [
    "centuries_df[\"roman\"].tolist()"
   ]
  },
  {
   "cell_type": "code",
   "execution_count": 40,
   "metadata": {
    "colab": {
     "base_uri": "https://localhost:8080/",
     "height": 35
    },
    "colab_type": "code",
    "id": "dDw8xTdGg2RG",
    "outputId": "f66e0e86-0cdf-4dae-b335-69fafd540895"
   },
   "outputs": [
    {
     "data": {
      "text/plain": [
       "'III'"
      ]
     },
     "execution_count": 40,
     "metadata": {},
     "output_type": "execute_result"
    }
   ],
   "source": [
    "# navigating through the dataframe using index and \".loc[]\"\n",
    "centuries_df.loc[\"3rd\"][\"roman\"]"
   ]
  },
  {
   "cell_type": "code",
   "execution_count": 41,
   "metadata": {
    "colab": {
     "base_uri": "https://localhost:8080/",
     "height": 34
    },
    "colab_type": "code",
    "id": "Wj22yZ8srQQZ",
    "outputId": "c801328b-9fe6-4011-faea-62628656e4ce"
   },
   "outputs": [
    {
     "data": {
      "text/plain": [
       "True"
      ]
     },
     "execution_count": 41,
     "metadata": {},
     "output_type": "execute_result"
    }
   ],
   "source": [
    "any(re.search(arabic, \"2nd c. AD\") for arabic in arabics)"
   ]
  },
  {
   "cell_type": "code",
   "execution_count": 42,
   "metadata": {
    "colab": {},
    "colab_type": "code",
    "id": "yM6g97A6UA-m"
   },
   "outputs": [],
   "source": [
    "def parse_centuries(datation, dating=None):\n",
    "  if dating==None: dating = {\"type\" : \"unknown\"}\n",
    "  if dating[\"type\"] == \"unknown\": \n",
    "    if any(cent for cent in centuries_df[\"roman\"].tolist() if (re.search(\"^\\s?\" + cent + \"($|/)\", datation)) or (re.search(\"(s|c)\\.\", datation))):\n",
    "      for roman, arabic in zip(centuries_df[\"roman\"].tolist(), arabics):\n",
    "          match = re.search(r\"(^|\\s|/)(\" + roman + r\")($|\\s|/)\", datation)\n",
    "          if match:\n",
    "            datation = re.sub(match[2], arabic, datation)\n",
    "    cents = [cent for cent in centuries_df.index.tolist() if re.search(cent, datation)] # we have the centuries mentioned, but not in right order :-)\n",
    "    if len(cents) > 0:\n",
    "      cents_list = re.split(\"-|/|\\sor\\s|\\sand|&|,\", datation)\n",
    "      if len(cents_list) > 1:\n",
    "        try:\n",
    "          century1 = [re.sub(\".*\" + num + \".*\", num, cents_list[0])  for num in arabics if num in cents_list[0]][0]\n",
    "          century2 = [re.sub(\".*\" + num + \".*\", num, cents_list[1])  for num in arabics if num in cents_list[1]][0]\n",
    "          if (\" AD\" in datation) and (\" BC\" not in datation): # if explicit AD and only AD:\n",
    "            start = modify_by_phase(cents_list[0], {\"start\" : centuries_df.loc[century1][\"start_AD\"], \"stop\" : centuries_df.loc[century1][\"stop_AD\"], \"type\" : \"cent\"})[\"start\"]\n",
    "            stop = modify_by_phase(cents_list[1], {\"start\" : centuries_df.loc[century2][\"start_AD\"], \"stop\" : centuries_df.loc[century2][\"stop_AD\"], \"type\" : \"cent\"})[\"stop\"]\n",
    "            era = \"AD\"\n",
    "          elif (\" BC\" in cents_list[0]) and (\" AD\" in cents_list[1]):\n",
    "            start = modify_by_phase(cents_list[0], {\"start\" : centuries_df.loc[century1][\"start_BC\"], \"stop\" : centuries_df.loc[century1][\"stop_BC\"], \"type\" : \"cent\"})[\"start\"]\n",
    "            stop = modify_by_phase(cents_list[1], {\"start\" : centuries_df.loc[century2][\"start_AD\"], \"stop\" : centuries_df.loc[century2][\"stop_AD\"], \"type\" : \"cent\"})[\"stop\"]\n",
    "            era = \"BC/AD\"\n",
    "          else:\n",
    "            start = modify_by_phase(cents_list[0], {\"start\" : centuries_df.loc[century1][\"start_BC\"], \"stop\" : centuries_df.loc[century1][\"stop_BC\"], \"type\" : \"cent\"})[\"start\"]\n",
    "            stop = modify_by_phase(cents_list[1], {\"start\" : centuries_df.loc[century2][\"start_BC\"], \"stop\" : centuries_df.loc[century2][\"stop_BC\"], \"type\" : \"cent\"})[\"stop\"]\n",
    "            era = \"BC\"\n",
    "          dating_update = {\"start\" : start, \"stop\" : stop, \"era\" : era, \"type\" : \"range+cent+morece\"}\n",
    "        except:\n",
    "          try: # try to identify at least the first of them \n",
    "            century = [re.sub(\".*\" + num + \".*\", num, datation)  for num in arabics if num in datation][0]\n",
    "            if \" AD\" in datation: \n",
    "              start = centuries_df.loc[century][\"start_AD\"]\n",
    "              stop = centuries_df.loc[century][\"stop_AD\"]\n",
    "              era = \"AD\"\n",
    "            else:\n",
    "              start = centuries_df.loc[century][\"start_BC\"]\n",
    "              stop = centuries_df.loc[century][\"stop_BC\"]\n",
    "              era = \"BC\"\n",
    "            dating_update = {\"start\" : start, \"stop\" : stop, \"era\" : era, \"type\" : \"range+cent\"}\n",
    "            dating_update = modify_by_phase(datation, dating_update)\n",
    "          except:\n",
    "            dating_update = dating\n",
    "      elif len(cents) == 1:\n",
    "        century = [re.sub(\".*\" + num + \".*\", num, datation)  for num in arabics if num in datation][0]\n",
    "        if \" AD\" in datation: \n",
    "          start = centuries_df.loc[century][\"start_AD\"]\n",
    "          stop = centuries_df.loc[century][\"stop_AD\"]\n",
    "          era = \"AD\"\n",
    "        else:\n",
    "          start = centuries_df.loc[century][\"start_BC\"]\n",
    "          stop = centuries_df.loc[century][\"stop_BC\"]\n",
    "          era = \"BC\"\n",
    "        dating_update = {\"start\" : start, \"stop\" : stop, \"era\" : era, \"type\" : \"range+cent\"}\n",
    "        dating_update = modify_by_phase(datation, dating_update)\n",
    "      else:\n",
    "        dating_update = {\"type\": \"unknown\"}\n",
    "      return dating_update\n",
    "    else:\n",
    "      return dating\n",
    "  else:\n",
    "    return dating"
   ]
  },
  {
   "cell_type": "code",
   "execution_count": 43,
   "metadata": {
    "colab": {
     "base_uri": "https://localhost:8080/",
     "height": 34
    },
    "colab_type": "code",
    "id": "CNrJGSyyspSQ",
    "outputId": "e062fc7b-9213-46bb-f69a-60ef5e6bcfad"
   },
   "outputs": [
    {
     "data": {
      "text/plain": [
       "{'start': -300, 'stop': -101, 'era': 'BC', 'type': 'range+cent+morece'}"
      ]
     },
     "execution_count": 43,
     "metadata": {},
     "output_type": "execute_result"
    }
   ],
   "source": [
    "# example 1\n",
    "datation = \"III/II\" # \"p.\" and \"a.\" are replaced previously by \"BC\" and \"AD\"\n",
    "parse_centuries(datation)"
   ]
  },
  {
   "cell_type": "code",
   "execution_count": 44,
   "metadata": {
    "colab": {
     "base_uri": "https://localhost:8080/",
     "height": 34
    },
    "colab_type": "code",
    "id": "jeOU3EtudcYY",
    "outputId": "97136cfb-3c94-4d5b-e164-1548b9fd0a85"
   },
   "outputs": [
    {
     "data": {
      "text/plain": [
       "{'start': -211, 'stop': -101, 'era': 'BC', 'type': 'range+cent+morece'}"
      ]
     },
     "execution_count": 44,
     "metadata": {},
     "output_type": "execute_result"
    }
   ],
   "source": [
    "datation = \"fin. s. III/II\" # \"p.\" and \"a.\" are replaced previously by \"BC\" and \"AD\"\n",
    "parse_centuries(datation)"
   ]
  },
  {
   "cell_type": "code",
   "execution_count": 45,
   "metadata": {
    "colab": {
     "base_uri": "https://localhost:8080/",
     "height": 34
    },
    "colab_type": "code",
    "id": "RZk2RXSdA0sr",
    "outputId": "63fc2d5f-172c-4d91-eeec-1ae41da9dd9c"
   },
   "outputs": [
    {
     "data": {
      "text/plain": [
       "{'start': 75, 'stop': 100, 'era': 'AD', 'type': 'range+cent+phase+late'}"
      ]
     },
     "execution_count": 45,
     "metadata": {},
     "output_type": "execute_result"
    }
   ],
   "source": [
    "# example 1\n",
    "datation = \"late 1st c. AD\" # - early 1st c. AD\" # \"p.\" and \"a.\" are replaced previously by \"BC\" and \"AD\"\n",
    "parse_centuries(datation, {\"type\": \"unknown\"})"
   ]
  },
  {
   "cell_type": "code",
   "execution_count": 46,
   "metadata": {
    "colab": {
     "base_uri": "https://localhost:8080/",
     "height": 34
    },
    "colab_type": "code",
    "id": "csTDyHPeGCH7",
    "outputId": "0d28df24-b385-445c-fc55-0d7e5e37044a"
   },
   "outputs": [
    {
     "data": {
      "text/plain": [
       "{'start': 101, 'stop': 300, 'era': 'AD', 'type': 'range+cent+morece'}"
      ]
     },
     "execution_count": 46,
     "metadata": {},
     "output_type": "execute_result"
    }
   ],
   "source": [
    "# example \n",
    "parse_centuries(\"2nd/3rd c. AD\", {\"era\": \"AD\", \"type\": \"unknown\"})"
   ]
  },
  {
   "cell_type": "code",
   "execution_count": 47,
   "metadata": {
    "colab": {
     "base_uri": "https://localhost:8080/",
     "height": 34
    },
    "colab_type": "code",
    "id": "o2WfKqkY0JY9",
    "outputId": "5013ef7e-bfdd-44e8-880f-057bf6f286a7"
   },
   "outputs": [
    {
     "data": {
      "text/plain": [
       "{'start': -126, 'stop': -90, 'era': 'BC', 'type': 'range+cent+morece'}"
      ]
     },
     "execution_count": 47,
     "metadata": {},
     "output_type": "execute_result"
    }
   ],
   "source": [
    "# example\n",
    "parse_centuries(\"late 2nd c. BC/beginning 1st c. BC\")"
   ]
  },
  {
   "cell_type": "markdown",
   "metadata": {
    "colab_type": "text",
    "id": "coHsL_P5f0LX"
   },
   "source": [
    "# Simple dates and ranges\n",
    "This the last function we apply, since it overlooks all potential relevant information and looks for individual dates and straighforward ranges."
   ]
  },
  {
   "cell_type": "code",
   "execution_count": 48,
   "metadata": {
    "colab": {},
    "colab_type": "code",
    "id": "eZZt94TWf3jU"
   },
   "outputs": [],
   "source": [
    " def simple_dates_and_ranges(datation, dating=None):\n",
    "  if dating==None: dating = {\"type\" : \"unknown\"}\n",
    "  if dating[\"type\"] == \"unknown\":\n",
    "    if \" AD\" in datation:\n",
    "      dating[\"era\"] = \"AD\" \n",
    "      try:\n",
    "        date_both = re.search('(\\d+)(\\-)(\\d+)', datation, flags=re.IGNORECASE).groups()\n",
    "        if any(time_indicator in datation for time_indicator in [\" BC\", \" AD\", \"prob\", \"possi\"]):\n",
    "          date1, date2 = date_both[0], date_both[2]\n",
    "          len_diff = len(date1) - len(date2)\n",
    "          if len_diff > 0:\n",
    "            date2 = date1[:len_diff] + date2\n",
    "          dating.update({\"start\" : int(date1), \"stop\" : int(date2), \"type\" : \"range\"})\n",
    "      except:  \n",
    "        try:\n",
    "          match = re.search('\\d+', datation, flags=re.IGNORECASE)\n",
    "          if any(time_indicator in datation for time_indicator in [\" BC\", \" AD\", \"prob\", \"possi\"]):\n",
    "            dating.update({\"exact\" : int(match[0]), \"type\": \"exact\"})\n",
    "        except:\n",
    "          pass\n",
    "    else:\n",
    "      try:\n",
    "        date_both = re.search('(\\d+)(\\-)(\\d+)', datation, flags=re.IGNORECASE).groups()\n",
    "        #if any(time_indicator in datation for time_indicator in [\" BC\", \" AD\", \"prob\", \"possi\"]):\n",
    "        try:\n",
    "          date1, date2 = date_both[0], date_both[2]\n",
    "          len_diff = len(date1) - len(date2)\n",
    "          if len_diff > 0:\n",
    "            date2 = date1[:len_diff] + date2\n",
    "          date1, date2 = int(date1) * -1, int(date2) * -1\n",
    "          if date1 < date2:\n",
    "            dating.update({\"start\" : date1, \"stop\" : date2, \"type\" : \"range\", \"era\" : \"BC\"})\n",
    "        except:\n",
    "          pass\n",
    "      except:  \n",
    "        match = re.match(\"^\\s?(\\d+)\\s?$\", datation) # if it is just one number and nothing else (single numbers are good) \n",
    "        if match:\n",
    "          dating.update({\"exact\" : int(match[0]) * -1, \"type\": \"exact\"})\n",
    "        else:\n",
    "          if any(time_indicator in datation for time_indicator in [\" BC\", \" AD\", \"prob\", \"possi\"]):\n",
    "            match = re.search('\\d+', datation, flags=re.IGNORECASE)\n",
    "            dating.update({\"exact\" : int(match[0]) * -1, \"type\": \"exact\"})\n",
    "  return dating"
   ]
  },
  {
   "cell_type": "code",
   "execution_count": 49,
   "metadata": {
    "colab": {
     "base_uri": "https://localhost:8080/",
     "height": 34
    },
    "colab_type": "code",
    "id": "JUs_L3PKSshh",
    "outputId": "37e32773-825e-4476-eb2b-402a24b38555"
   },
   "outputs": [
    {
     "data": {
      "text/plain": [
       "{'type': 'unknown'}"
      ]
     },
     "execution_count": 49,
     "metadata": {},
     "output_type": "execute_result"
    }
   ],
   "source": [
    "simple_dates_and_ranges('ASAA 6/7 (1923/4) 446, 161')"
   ]
  },
  {
   "cell_type": "code",
   "execution_count": 50,
   "metadata": {
    "colab": {
     "base_uri": "https://localhost:8080/",
     "height": 34
    },
    "colab_type": "code",
    "id": "OCxUWrYLsFcj",
    "outputId": "017e0b2e-bd14-45a1-8dfa-f24c97c4ac9a"
   },
   "outputs": [
    {
     "data": {
      "text/plain": [
       "{'type': 'century'}"
      ]
     },
     "execution_count": 50,
     "metadata": {},
     "output_type": "execute_result"
    }
   ],
   "source": [
    "simple_dates_and_ranges(\"4th or 5th c. AD\", {\"type\": \"century\"})"
   ]
  },
  {
   "cell_type": "code",
   "execution_count": 51,
   "metadata": {
    "colab": {
     "base_uri": "https://localhost:8080/",
     "height": 34
    },
    "colab_type": "code",
    "id": "1wj_VvPLguGt",
    "outputId": "3e294217-0b8a-4b58-eb9c-931f16ec25f9"
   },
   "outputs": [
    {
     "data": {
      "text/plain": [
       "{'type': 'exact', 'exact': -320}"
      ]
     },
     "execution_count": 51,
     "metadata": {},
     "output_type": "execute_result"
    }
   ],
   "source": [
    "simple_dates_and_ranges(\"320 BC\")"
   ]
  },
  {
   "cell_type": "code",
   "execution_count": 52,
   "metadata": {
    "colab": {
     "base_uri": "https://localhost:8080/",
     "height": 34
    },
    "colab_type": "code",
    "id": "Flr7YFoYgz_H",
    "outputId": "2de913a7-f6ea-4f91-97b4-bb47e6cb152d"
   },
   "outputs": [
    {
     "data": {
      "text/plain": [
       "{'type': 'exact', 'era': 'AD', 'exact': 213}"
      ]
     },
     "execution_count": 52,
     "metadata": {},
     "output_type": "execute_result"
    }
   ],
   "source": [
    "simple_dates_and_ranges(\"213 AD\")"
   ]
  },
  {
   "cell_type": "code",
   "execution_count": 53,
   "metadata": {
    "colab": {
     "base_uri": "https://localhost:8080/",
     "height": 34
    },
    "colab_type": "code",
    "id": "1BW568W-ie7m",
    "outputId": "03f4d64b-a5df-43b2-8363-a14107e8f1fd"
   },
   "outputs": [
    {
     "data": {
      "text/plain": [
       "{'type': 'range', 'era': 'AD', 'start': 213, 'stop': 214}"
      ]
     },
     "execution_count": 53,
     "metadata": {},
     "output_type": "execute_result"
    }
   ],
   "source": [
    "simple_dates_and_ranges(\"213-4 AD\")"
   ]
  },
  {
   "cell_type": "code",
   "execution_count": 54,
   "metadata": {
    "colab": {
     "base_uri": "https://localhost:8080/",
     "height": 34
    },
    "colab_type": "code",
    "id": "uuQMrNv-g5Fw",
    "outputId": "6b06fdbd-5e07-46fb-8b7c-3f24e001de48"
   },
   "outputs": [
    {
     "data": {
      "text/plain": [
       "{'type': 'range', 'start': -124, 'stop': -115, 'era': 'BC'}"
      ]
     },
     "execution_count": 54,
     "metadata": {},
     "output_type": "execute_result"
    }
   ],
   "source": [
    "simple_dates_and_ranges(\"124-15 BC\")"
   ]
  },
  {
   "cell_type": "markdown",
   "metadata": {
    "colab_type": "text",
    "id": "2HsBdFeXY_WQ"
   },
   "source": [
    "# Main function"
   ]
  },
  {
   "cell_type": "code",
   "execution_count": 55,
   "metadata": {
    "colab": {},
    "colab_type": "code",
    "id": "qkvYnUWhOZW2"
   },
   "outputs": [],
   "source": [
    "# function to modify the structure of the data\n",
    "def change_dict_structure(dictionary):\n",
    "  try:\n",
    "    for tup in [[\"not_before\", \"start\"], [\"not_after\", \"stop\"]]:\n",
    "      try: dictionary[tup[0]] = int(dictionary.pop(tup[1]))\n",
    "      except: dictionary[tup[0]] = None\n",
    "    try: dictionary.update({\"not_before\" : int(dictionary[\"exact\"]), \"not_after\" : int(dictionary[\"exact\"])})\n",
    "    except: pass\n",
    "    try: dictionary[\"date_tags\"] = dictionary.pop(\"type\").split(\"+\")\n",
    "    except: dictionary[\"date_tags\"] = \"unknown\"\n",
    "    #for key in dictionary.keys():\n",
    "    #  if key in [\"exact\"]:\n",
    "    #    del dictionary[key]\n",
    "    return dictionary\n",
    "  except: \n",
    "    print(\"some problem\")\n",
    "    pass"
   ]
  },
  {
   "cell_type": "code",
   "execution_count": 56,
   "metadata": {
    "colab": {},
    "colab_type": "code",
    "id": "ro85091cVcB4"
   },
   "outputs": [],
   "source": [
    "def date_extractor(datation):\n",
    "  dating = {\"start\": None, \"stop\": None, \"exact\": None, \"or\": None, \"type\": \"unknown\", \"era\": None}\n",
    "  #replace \" a.\" and \" p.\" when at the end of datation or before \"/\" or \"-\"\n",
    "  datation = re.sub(\"(\\s+$|^\\s)\", \"\", datation) # remove spaces at the beginning and end\n",
    "  datation = re.sub(\"(\\s)(a\\.)(\\-|\\/|$)\", r\"\\1BC\\3\", datation)\n",
    "  datation = re.sub(\"(\\s)(p\\.)(\\-|\\/|$)\", r\"\\1AD\\3\", datation)\n",
    "  datation = re.sub(\"^(\\s?c\\.)(\\s\\d+)\", r\"ca.\\2\", datation) # \"c.\" -> \"ca.\" if at the beginning of the string and followed by numbers\n",
    "  datation = re.sub(\"mid-\", \"mid. \", datation)\n",
    "  datation = re.sub(\"1st half\", \"firsthalf\", datation) \n",
    "  datation = re.sub(\"2nd half\", \"secondhalf\", datation) \n",
    "  datation = re.sub(\"\\(II?\\)\", \"\", datation) \n",
    "  datation = re.sub(\"(\\(|\\)|\\[|\\])\", \"\", datation)   # remove brackets\n",
    "  # UNCERTAINTY\n",
    "  if \"?\" in datation:\n",
    "    datation = datation.replace(\"?\", \"\")\n",
    "    dating[\"certainty\"] = \"?\"\n",
    "  #if datation[0] == \"[\":\n",
    "  #  datation = datation[1:-1]\n",
    "  #  dating[\"certainty\"] = \"?\"\n",
    "  # ranges combining BC and AD:\n",
    "  match = re.search(\"(\\d+)(\\s(a\\.|BC))(\\-)(\\d+)(\\s(p\\.|AD))\", datation) # (/sa/.)(/-)(/d+)(/sp/.)\"\n",
    "  if match:\n",
    "    dating.update({\"start\" : int(match.groups()[0]) * -1, \"stop\" : match.groups()[4], \"era\" : \"BC/AD\", \"type\" : \"range\"})\n",
    "  # simple ante quem and postquem\n",
    "  dating.update(extract_ante_and_post(datation, dating))\n",
    "  # PERIODS\n",
    "  dating.update(extract_period(datation, dating))\n",
    "  # CENTURIES\n",
    "  dating.update(parse_centuries(datation, dating))\n",
    "  # \"year/year\"\n",
    "  if dating[\"type\"] == \"unknown\":\n",
    "    dating.update(match_or(datation, dating)) # find all \"/\" instances linked with individual years\n",
    "  # if we still don't know:\n",
    "  dating.update(simple_dates_and_ranges(datation, dating))\n",
    "  # extract phases (e.g. \"early\", \"middle\", \"late\", \"beginning\" etc.)\n",
    "  dating.update(modify_by_phase(datation, dating))\n",
    "  # extract ante quem and post quem for ranges\n",
    "  try:\n",
    "    dating.update(extract_ante_and_post(datation, dating))\n",
    "  except:\n",
    "    pass\n",
    "  if dating[\"type\"]==\"unknown\":\n",
    "    dating.update({\"start\": None, \"stop\": None, \"exact\": None, \"or\": None, \"type\": \"unknown\", \"era\" : None})\n",
    "  dating = change_dict_structure(dating)\n",
    "  if dating[\"or\"] != None:\n",
    "    dating[\"or\"] = change_dict_structure(dating[\"or\"])\n",
    "  del dating[\"exact\"], dating[\"era\"]\n",
    "  for key in [\"certainty\", \"or\", \"link\"]:\n",
    "    try: dating[key] = dating[key]\n",
    "    except: dating[key] = None\n",
    "  return dating"
   ]
  },
  {
   "cell_type": "code",
   "execution_count": 57,
   "metadata": {
    "colab": {
     "base_uri": "https://localhost:8080/",
     "height": 119
    },
    "colab_type": "code",
    "id": "Ncy9XuXiOIc0",
    "outputId": "1f1e92b5-4cf7-4a36-8429-31c4608d285d"
   },
   "outputs": [
    {
     "data": {
      "text/plain": [
       "{'or': None,\n",
       " 'not_before': -455,\n",
       " 'not_after': -446,\n",
       " 'date_tags': ['range', 'cent', 'phase', 'middle'],\n",
       " 'certainty': None,\n",
       " 'link': None}"
      ]
     },
     "execution_count": 57,
     "metadata": {},
     "output_type": "execute_result"
    }
   ],
   "source": [
    "date_extractor(\"med. s. V a.\")"
   ]
  },
  {
   "cell_type": "code",
   "execution_count": 58,
   "metadata": {
    "colab": {
     "base_uri": "https://localhost:8080/",
     "height": 119
    },
    "colab_type": "code",
    "id": "Plgl9rbr0Yg0",
    "outputId": "219a9c92-720d-4cef-88b6-b61890ae048e"
   },
   "outputs": [
    {
     "data": {
      "text/plain": [
       "{'or': None,\n",
       " 'certainty': '?',\n",
       " 'not_before': -500,\n",
       " 'not_after': -301,\n",
       " 'date_tags': ['range', 'cent', 'morece'],\n",
       " 'link': None}"
      ]
     },
     "execution_count": 58,
     "metadata": {},
     "output_type": "execute_result"
    }
   ],
   "source": [
    "datation = \"5th (or 4th?) c. BC\"\n",
    "date_extractor(datation)"
   ]
  },
  {
   "cell_type": "code",
   "execution_count": 59,
   "metadata": {
    "colab": {
     "base_uri": "https://localhost:8080/",
     "height": 119
    },
    "colab_type": "code",
    "id": "oLe_I4-3b15m",
    "outputId": "09ca95d6-efd6-412c-d492-a089343e9fe9"
   },
   "outputs": [
    {
     "data": {
      "text/plain": [
       "{'or': None,\n",
       " 'not_before': -14,\n",
       " 'not_after': -12,\n",
       " 'date_tags': ['range'],\n",
       " 'certainty': None,\n",
       " 'link': None}"
      ]
     },
     "execution_count": 59,
     "metadata": {},
     "output_type": "execute_result"
    }
   ],
   "source": [
    "date_extractor(\"14/13 or 13/12 BC\") "
   ]
  },
  {
   "cell_type": "markdown",
   "metadata": {
    "colab_type": "text",
    "id": "aZcQIZgPKEUA"
   },
   "source": [
    "# Various examples"
   ]
  },
  {
   "cell_type": "code",
   "execution_count": 60,
   "metadata": {
    "colab": {
     "base_uri": "https://localhost:8080/",
     "height": 119
    },
    "colab_type": "code",
    "id": "gp4xcY9Y06xo",
    "outputId": "f24f8956-b1e8-48f7-d9f7-71f6f3d50c9b"
   },
   "outputs": [
    {
     "data": {
      "text/plain": [
       "{'or': None,\n",
       " 'not_before': -214,\n",
       " 'not_after': None,\n",
       " 'date_tags': ['range', 'post'],\n",
       " 'certainty': None,\n",
       " 'link': None}"
      ]
     },
     "execution_count": 60,
     "metadata": {},
     "output_type": "execute_result"
    }
   ],
   "source": [
    "date_extractor(\"after 216/5\") "
   ]
  },
  {
   "cell_type": "code",
   "execution_count": 61,
   "metadata": {
    "colab": {
     "base_uri": "https://localhost:8080/",
     "height": 119
    },
    "colab_type": "code",
    "id": "MbFErKqwJjW7",
    "outputId": "8908ba5c-ffc8-4691-f2a3-9e899dcedd2f"
   },
   "outputs": [
    {
     "data": {
      "text/plain": [
       "{'or': None,\n",
       " 'not_before': -150,\n",
       " 'not_after': -140,\n",
       " 'date_tags': ['exact', 'phase', 'ca'],\n",
       " 'certainty': None,\n",
       " 'link': None}"
      ]
     },
     "execution_count": 61,
     "metadata": {},
     "output_type": "execute_result"
    }
   ],
   "source": [
    "date_extractor(\"c. 145 BC\")"
   ]
  },
  {
   "cell_type": "code",
   "execution_count": 62,
   "metadata": {
    "colab": {
     "base_uri": "https://localhost:8080/",
     "height": 119
    },
    "colab_type": "code",
    "id": "zIKQ9sHM0pKj",
    "outputId": "fa52d98b-b09c-49b7-882b-806b8c7c6a68"
   },
   "outputs": [
    {
     "data": {
      "text/plain": [
       "{'or': None,\n",
       " 'not_before': -11,\n",
       " 'not_after': None,\n",
       " 'date_tags': ['range', 'post'],\n",
       " 'certainty': None,\n",
       " 'link': None}"
      ]
     },
     "execution_count": 62,
     "metadata": {},
     "output_type": "execute_result"
    }
   ],
   "source": [
    "date_extractor(\"after 14/13 or 13/12 BC\") "
   ]
  },
  {
   "cell_type": "code",
   "execution_count": 63,
   "metadata": {
    "colab": {
     "base_uri": "https://localhost:8080/",
     "height": 85
    },
    "colab_type": "code",
    "id": "Lu_f5sLwJTYB",
    "outputId": "0d475b64-a0f3-407b-e7d4-70d306736bf8"
   },
   "outputs": [
    {
     "data": {
      "text/plain": [
       "{'or': None,\n",
       " 'not_before': 101,\n",
       " 'not_after': 300,\n",
       " 'date_tags': ['range', 'cent', 'morece'],\n",
       " 'certainty': None,\n",
       " 'link': None}"
      ]
     },
     "execution_count": 63,
     "metadata": {},
     "output_type": "execute_result"
    }
   ],
   "source": [
    "date_extractor(\"s. II/III AD\")"
   ]
  },
  {
   "cell_type": "code",
   "execution_count": 64,
   "metadata": {
    "colab": {
     "base_uri": "https://localhost:8080/",
     "height": 119
    },
    "colab_type": "code",
    "id": "CUrl5gm5Bmn2",
    "outputId": "63edecea-2fbc-4388-b19f-b8dc3ce6f257"
   },
   "outputs": [
    {
     "data": {
      "text/plain": [
       "{'or': None,\n",
       " 'not_before': -11,\n",
       " 'not_after': 100,\n",
       " 'date_tags': ['range', 'cent', 'morece'],\n",
       " 'certainty': None,\n",
       " 'link': None}"
      ]
     },
     "execution_count": 64,
     "metadata": {},
     "output_type": "execute_result"
    }
   ],
   "source": [
    "date_extractor(\"fin. s. I a./s. I p.\")"
   ]
  },
  {
   "cell_type": "code",
   "execution_count": 65,
   "metadata": {
    "colab": {
     "base_uri": "https://localhost:8080/",
     "height": 119
    },
    "colab_type": "code",
    "id": "058aow1mGtes",
    "outputId": "9879b56d-8f22-4e4e-b324-71f818a47bf9"
   },
   "outputs": [
    {
     "data": {
      "text/plain": [
       "{'or': None,\n",
       " 'not_before': 101,\n",
       " 'not_after': 226,\n",
       " 'date_tags': ['range', 'cent', 'morece'],\n",
       " 'certainty': None,\n",
       " 'link': None}"
      ]
     },
     "execution_count": 65,
     "metadata": {},
     "output_type": "execute_result"
    }
   ],
   "source": [
    "date_extractor(\"2nd-early 3rd c. AD\")"
   ]
  },
  {
   "cell_type": "code",
   "execution_count": 66,
   "metadata": {
    "colab": {
     "base_uri": "https://localhost:8080/",
     "height": 119
    },
    "colab_type": "code",
    "id": "4A9-SIRgt58A",
    "outputId": "3f90d73c-d703-4a21-cc92-3f86053d1209"
   },
   "outputs": [
    {
     "data": {
      "text/plain": [
       "{'or': None,\n",
       " 'not_before': -320,\n",
       " 'not_after': -320,\n",
       " 'date_tags': ['exact'],\n",
       " 'certainty': None,\n",
       " 'link': None}"
      ]
     },
     "execution_count": 66,
     "metadata": {},
     "output_type": "execute_result"
    }
   ],
   "source": [
    "date_extractor(\"320 BC\")"
   ]
  },
  {
   "cell_type": "code",
   "execution_count": 67,
   "metadata": {
    "colab": {
     "base_uri": "https://localhost:8080/",
     "height": 119
    },
    "colab_type": "code",
    "id": "mACWIOUIt9Lk",
    "outputId": "ddda897d-c8f8-44e9-fee9-5b77f46bba0f"
   },
   "outputs": [
    {
     "data": {
      "text/plain": [
       "{'or': None,\n",
       " 'not_before': 121,\n",
       " 'not_after': None,\n",
       " 'date_tags': ['post'],\n",
       " 'certainty': None,\n",
       " 'link': None}"
      ]
     },
     "execution_count": 67,
     "metadata": {},
     "output_type": "execute_result"
    }
   ],
   "source": [
    "date_extractor(\"post 120 AD\")"
   ]
  },
  {
   "cell_type": "code",
   "execution_count": 68,
   "metadata": {
    "colab": {
     "base_uri": "https://localhost:8080/",
     "height": 119
    },
    "colab_type": "code",
    "id": "Buy525lpuB3G",
    "outputId": "da77f7a0-c0fb-41a5-c3ac-fda14d240dc5"
   },
   "outputs": [
    {
     "data": {
      "text/plain": [
       "{'or': None,\n",
       " 'not_before': -300,\n",
       " 'not_after': None,\n",
       " 'date_tags': ['range', 'cent', 'post'],\n",
       " 'certainty': None,\n",
       " 'link': None}"
      ]
     },
     "execution_count": 68,
     "metadata": {},
     "output_type": "execute_result"
    }
   ],
   "source": [
    "date_extractor(\"after 4th c. BC\")"
   ]
  },
  {
   "cell_type": "code",
   "execution_count": 69,
   "metadata": {
    "colab": {
     "base_uri": "https://localhost:8080/",
     "height": 173
    },
    "colab_type": "code",
    "id": "FSBBZNATNuB_",
    "outputId": "ebd8d8df-44f9-4fd5-d29c-90bedbb8ff3f"
   },
   "outputs": [
    {
     "name": "stdout",
     "output_type": "stream",
     "text": [
      "Byzantine {'or': None, 'source': 'PeriodO', 'notes': 'alone', 'link': 'http://n2t.net/ark:/99152/p0m63njtm6w', 'not_before': 324, 'not_after': 1453, 'date_tags': ['range', 'period'], 'certainty': None}\n",
      "non ante s. II a. {'or': None, 'not_before': -200, 'not_after': None, 'date_tags': ['range', 'cent', 'post'], 'certainty': None, 'link': None}\n",
      "140/39 BC {'or': None, 'not_before': -140, 'not_after': -139, 'date_tags': ['range'], 'certainty': None, 'link': None}\n",
      "Rom. Imp {'or': None, 'source': 'PeriodO', 'notes': nan, 'link': 'http://n2t.net/ark:/99152/p08m57hqcc5', 'not_before': -31, 'not_after': 410, 'date_tags': ['range', 'period'], 'certainty': None}\n",
      "reign of Augustus {'or': None, 'source': 'PeriodO', 'notes': nan, 'link': 'http://n2t.net/ark:/99152/p06c6g3xnmx', 'not_before': -27, 'not_after': 14, 'date_tags': ['range', 'period'], 'certainty': None}\n",
      "ante 140 BC {'or': None, 'not_before': None, 'not_after': -141, 'date_tags': ['ante'], 'certainty': None, 'link': None}\n",
      "late Antonine period {'or': None, 'source': 'PeriodO', 'notes': nan, 'link': 'http://n2t.net/ark:/99152/p06c6g34zjk', 'not_before': 168, 'not_after': 192, 'date_tags': ['range', 'period', 'phase', 'late'], 'certainty': None}\n",
      "IosPE IV 348 {'or': None, 'not_before': None, 'not_after': None, 'date_tags': ['unknown'], 'certainty': None, 'link': None}\n"
     ]
    }
   ],
   "source": [
    "# testing/example\n",
    "for datation in [\"Byzantine\", \"non ante s. II a.\", \"140/39 BC\", \"Rom. Imp\", \"reign of Augustus\", \"ante 140 BC\", \"late Antonine period\", \"IosPE IV 348\"]:\n",
    "  print(datation, date_extractor(datation))"
   ]
  },
  {
   "cell_type": "code",
   "execution_count": 70,
   "metadata": {
    "colab": {
     "base_uri": "https://localhost:8080/",
     "height": 119
    },
    "colab_type": "code",
    "id": "4pDl1D82cRjk",
    "outputId": "fb51a761-4026-40da-afbf-da7ffc5ea321"
   },
   "outputs": [
    {
     "data": {
      "text/plain": [
       "{'or': None,\n",
       " 'not_before': None,\n",
       " 'not_after': None,\n",
       " 'date_tags': ['unknown'],\n",
       " 'certainty': None,\n",
       " 'link': None}"
      ]
     },
     "execution_count": 70,
     "metadata": {},
     "output_type": "execute_result"
    }
   ],
   "source": [
    "datation = \"Nécrop.Myr. 224,5\"\n",
    "date_extractor(datation)"
   ]
  },
  {
   "cell_type": "code",
   "execution_count": 71,
   "metadata": {
    "colab": {
     "base_uri": "https://localhost:8080/",
     "height": 119
    },
    "colab_type": "code",
    "id": "9OdIdvCbEOB9",
    "outputId": "86477429-bfd1-4050-e117-4d97adb8b5b5"
   },
   "outputs": [
    {
     "data": {
      "text/plain": [
       "{'or': None,\n",
       " 'not_before': 146,\n",
       " 'not_after': None,\n",
       " 'date_tags': ['range', 'cent', 'phase', 'middle', 'post'],\n",
       " 'certainty': None,\n",
       " 'link': None}"
      ]
     },
     "execution_count": 71,
     "metadata": {},
     "output_type": "execute_result"
    }
   ],
   "source": [
    " datation = \" non ante med. s. II p.\"\n",
    " date_extractor(datation)"
   ]
  },
  {
   "cell_type": "code",
   "execution_count": 72,
   "metadata": {
    "colab": {
     "base_uri": "https://localhost:8080/",
     "height": 153
    },
    "colab_type": "code",
    "id": "dpHxVljmJeBZ",
    "outputId": "e2f00374-a4d4-4f2a-94f0-090c93a34857"
   },
   "outputs": [
    {
     "data": {
      "text/plain": [
       "{'or': None,\n",
       " 'source': 'PeriodO',\n",
       " 'notes': nan,\n",
       " 'link': 'http://n2t.net/ark:/99152/p06c6g34zjk',\n",
       " 'not_before': 96,\n",
       " 'not_after': None,\n",
       " 'date_tags': ['range', 'period', 'post'],\n",
       " 'certainty': None}"
      ]
     },
     "execution_count": 72,
     "metadata": {},
     "output_type": "execute_result"
    }
   ],
   "source": [
    "date_extractor(\"not bef. the Antonine period\")"
   ]
  },
  {
   "cell_type": "code",
   "execution_count": 73,
   "metadata": {
    "colab": {
     "base_uri": "https://localhost:8080/",
     "height": 119
    },
    "colab_type": "code",
    "id": "FQck_F8xWCqy",
    "outputId": "f91daf3a-9d63-4852-a0d5-2ee5c9814f74"
   },
   "outputs": [
    {
     "data": {
      "text/plain": [
       "{'or': None,\n",
       " 'not_before': -100,\n",
       " 'not_after': 100,\n",
       " 'date_tags': ['range', 'cent', 'morece'],\n",
       " 'certainty': None,\n",
       " 'link': None}"
      ]
     },
     "execution_count": 73,
     "metadata": {},
     "output_type": "execute_result"
    }
   ],
   "source": [
    "date_extractor(\"1st BC/1st AD\")"
   ]
  },
  {
   "cell_type": "code",
   "execution_count": 74,
   "metadata": {
    "colab": {
     "base_uri": "https://localhost:8080/",
     "height": 119
    },
    "colab_type": "code",
    "id": "QAmgMGeyLTdY",
    "outputId": "7258c85a-1a6c-4eac-9c5f-23a2e59b4c9d"
   },
   "outputs": [
    {
     "data": {
      "text/plain": [
       "{'or': None,\n",
       " 'not_before': -200,\n",
       " 'not_after': -101,\n",
       " 'date_tags': ['range', 'cent'],\n",
       " 'certainty': None,\n",
       " 'link': None}"
      ]
     },
     "execution_count": 74,
     "metadata": {},
     "output_type": "execute_result"
    }
   ],
   "source": [
    "date_extractor(\"Newton, Disc. II 742-43:91\")"
   ]
  },
  {
   "cell_type": "code",
   "execution_count": 75,
   "metadata": {
    "colab": {
     "base_uri": "https://localhost:8080/",
     "height": 34
    },
    "colab_type": "code",
    "id": "2ApLYR1QEvCP",
    "outputId": "c63da8d4-93be-406e-f6ef-d0432c4f3f52"
   },
   "outputs": [
    {
     "data": {
      "text/plain": [
       "{'start': -27, 'stop': '14', 'era': 'BC/AD', 'type': 'range'}"
      ]
     },
     "execution_count": 75,
     "metadata": {},
     "output_type": "execute_result"
    }
   ],
   "source": [
    "datation = \"27 a.-14 p.\"\n",
    "match = re.search(\"(\\d+)(\\s(a\\.|BP))(\\-)(\\d+)(\\s(p\\.|AD))\", datation) # (/sa/.)(/-)(/d+)(/sp/.)\"\n",
    "if match:\n",
    "  dating = {\"start\" : int(match.groups()[0]) * -1, \"stop\" : match.groups()[4], \"era\" : \"BC/AD\", \"type\" : \"range\"}\n",
    "dating"
   ]
  },
  {
   "cell_type": "markdown",
   "metadata": {
    "colab_type": "text",
    "id": "-K4kl6vEWD8t"
   },
   "source": [
    "# Testing with sample 1 (by 500)"
   ]
  },
  {
   "cell_type": "code",
   "execution_count": 76,
   "metadata": {
    "colab": {
     "base_uri": "https://localhost:8080/",
     "height": 1000
    },
    "colab_type": "code",
    "id": "_GoGsIUwuT9I",
    "outputId": "31b019c7-74be-4cfa-b5f3-fcfbdeacf854"
   },
   "outputs": [
    {
     "name": "stdout",
     "output_type": "stream",
     "text": [
      "c. 510-500 a.  {'or': None, 'not_before': -511, 'not_after': -499, 'date_tags': ['range', 'phase', 'ca'], 'certainty': None, 'link': None}\n",
      "s. V a. {'or': None, 'not_before': -500, 'not_after': -401, 'date_tags': ['range', 'cent'], 'certainty': None, 'link': None}\n",
      "c. 440? a.  {'or': None, 'certainty': '?', 'not_before': -445, 'not_after': -435, 'date_tags': ['exact', 'phase', 'ca'], 'link': None}\n",
      "c. 420-410? a.  {'or': None, 'certainty': '?', 'not_before': -421, 'not_after': -409, 'date_tags': ['range', 'phase', 'ca'], 'link': None}\n",
      "ante 336/5 {'or': None, 'not_before': None, 'not_after': -337, 'date_tags': ['range', 'ante'], 'certainty': None, 'link': None}\n",
      "204/3? {'or': None, 'certainty': '?', 'not_before': -204, 'not_after': -203, 'date_tags': ['range'], 'link': None}\n",
      "med. s. III a. {'or': None, 'not_before': -255, 'not_after': -246, 'date_tags': ['range', 'cent', 'phase', 'middle'], 'certainty': None, 'link': None}\n",
      "post med. s. II p.  {'or': None, 'not_before': 156, 'not_after': None, 'date_tags': ['range', 'cent', 'phase', 'middle', 'post'], 'certainty': None, 'link': None}\n",
      "[s. II/III p.] {'or': None, 'not_before': -200, 'not_after': -201, 'date_tags': ['range', 'cent', 'morece'], 'certainty': None, 'link': None}\n",
      "Att. {'or': None, 'not_before': None, 'not_after': None, 'date_tags': ['unknown'], 'certainty': None, 'link': None}\n",
      "27 a.-14 p. {'or': None, 'not_before': -27, 'not_after': 14, 'date_tags': ['range'], 'certainty': None, 'link': None}\n",
      "Att. {'or': None, 'not_before': None, 'not_after': None, 'date_tags': ['unknown'], 'certainty': None, 'link': None}\n",
      "fin. s. II p. {'or': None, 'not_before': 190, 'not_after': 200, 'date_tags': ['range', 'cent', 'phase', 'end'], 'certainty': None, 'link': None}\n",
      "ante med. s. I a. {'or': None, 'not_before': None, 'not_after': -56, 'date_tags': ['range', 'cent', 'phase', 'middle', 'ante'], 'certainty': None, 'link': None}\n",
      "non ante med. s. II p. {'or': None, 'not_before': 146, 'not_after': None, 'date_tags': ['range', 'cent', 'phase', 'middle', 'post'], 'certainty': None, 'link': None}\n",
      "med. s. IV a. {'or': None, 'not_before': -355, 'not_after': -346, 'date_tags': ['range', 'cent', 'phase', 'middle'], 'certainty': None, 'link': None}\n",
      "s. II a. {'or': None, 'not_before': -200, 'not_after': -101, 'date_tags': ['range', 'cent'], 'certainty': None, 'link': None}\n",
      "med. s. IV a. {'or': None, 'not_before': -355, 'not_after': -346, 'date_tags': ['range', 'cent', 'phase', 'middle'], 'certainty': None, 'link': None}\n",
      "aet. Rom. {'or': None, 'source': nan, 'notes': nan, 'link': nan, 'not_before': -146, 'not_after': 324, 'date_tags': ['range', 'period'], 'certainty': None}\n",
      "aet. imp. {'or': None, 'source': 'PeriodO', 'notes': nan, 'link': 'http://n2t.net/ark:/99152/p08m57hqcc5', 'not_before': -31, 'not_after': 410, 'date_tags': ['range', 'period'], 'certainty': None}\n",
      "s. I a. {'or': None, 'not_before': -100, 'not_after': -1, 'date_tags': ['range', 'cent'], 'certainty': None, 'link': None}\n",
      "s. I a. {'or': None, 'not_before': -100, 'not_after': -1, 'date_tags': ['range', 'cent'], 'certainty': None, 'link': None}\n",
      "aet. Rom. {'or': None, 'source': nan, 'notes': nan, 'link': nan, 'not_before': -146, 'not_after': 324, 'date_tags': ['range', 'period'], 'certainty': None}\n",
      "s. I p. {'or': None, 'not_before': 1, 'not_after': 100, 'date_tags': ['range', 'cent'], 'certainty': None, 'link': None}\n",
      "post med. s. IV {'or': None, 'not_before': -345, 'not_after': None, 'date_tags': ['range', 'cent', 'phase', 'middle', 'post'], 'certainty': None, 'link': None}\n",
      "s. I/II p.  {'or': None, 'not_before': 1, 'not_after': 200, 'date_tags': ['range', 'cent', 'morece'], 'certainty': None, 'link': None}\n",
      "s. III a. {'or': None, 'not_before': -300, 'not_after': -201, 'date_tags': ['range', 'cent'], 'certainty': None, 'link': None}\n",
      "s. II p. {'or': None, 'not_before': 101, 'not_after': 200, 'date_tags': ['range', 'cent'], 'certainty': None, 'link': None}\n",
      "s. IV a. {'or': None, 'not_before': -400, 'not_after': -301, 'date_tags': ['range', 'cent'], 'certainty': None, 'link': None}\n",
      "ante med. s. IV a. {'or': None, 'not_before': None, 'not_after': -356, 'date_tags': ['range', 'cent', 'phase', 'middle', 'ante'], 'certainty': None, 'link': None}\n",
      "med. s. IV a. {'or': None, 'not_before': -355, 'not_after': -346, 'date_tags': ['range', 'cent', 'phase', 'middle'], 'certainty': None, 'link': None}\n",
      "Aigina {'or': None, 'not_before': None, 'not_after': None, 'date_tags': ['unknown'], 'certainty': None, 'link': None}\n",
      "Nemea {'or': None, 'not_before': None, 'not_after': None, 'date_tags': ['unknown'], 'certainty': None, 'link': None}\n",
      "after 228 BC {'or': None, 'not_before': -227, 'not_after': None, 'date_tags': ['post'], 'certainty': None, 'link': None}\n",
      "1st/2nd c. AD {'or': None, 'not_before': 1, 'not_after': 200, 'date_tags': ['range', 'cent', 'morece'], 'certainty': None, 'link': None}\n",
      "early 2nd c. AD {'or': None, 'not_before': 101, 'not_after': 126, 'date_tags': ['range', 'cent', 'phase', 'early'], 'certainty': None, 'link': None}\n",
      "Sparta {'or': None, 'not_before': None, 'not_after': None, 'date_tags': ['unknown'], 'certainty': None, 'link': None}\n",
      "fanum Apollinis Hyperteleatae {'or': None, 'not_before': None, 'not_after': None, 'date_tags': ['unknown'], 'certainty': None, 'link': None}\n",
      "Messene {'or': None, 'not_before': None, 'not_after': None, 'date_tags': ['unknown'], 'certainty': None, 'link': None}\n",
      "3rd c. BC {'or': None, 'not_before': -300, 'not_after': -201, 'date_tags': ['range', 'cent'], 'certainty': None, 'link': None}\n",
      "Bulis {'or': None, 'not_before': None, 'not_after': None, 'date_tags': ['unknown'], 'certainty': None, 'link': None}\n",
      "1st c. BC {'or': None, 'not_before': -100, 'not_after': -1, 'date_tags': ['range', 'cent'], 'certainty': None, 'link': None}\n",
      "Aperantia {'or': None, 'not_before': None, 'not_after': None, 'date_tags': ['unknown'], 'certainty': None, 'link': None}\n",
      "ca. 163/2 BC {'or': None, 'not_before': -163, 'not_after': -162, 'date_tags': ['range', 'phase', 'ca'], 'certainty': None, 'link': None}\n",
      "350-300 BC {'or': None, 'not_before': -350, 'not_after': -300, 'date_tags': ['range'], 'certainty': None, 'link': None}\n",
      "ca. 300-250 BC {'or': None, 'not_before': -305, 'not_after': -245, 'date_tags': ['range', 'phase', 'ca'], 'certainty': None, 'link': None}\n",
      "beg. 2nd c. BC {'or': None, 'not_before': -200, 'not_after': -190, 'date_tags': ['range', 'cent', 'phase', 'beg'], 'certainty': None, 'link': None}\n",
      "120-63 BC {'or': None, 'not_before': None, 'not_after': None, 'date_tags': ['unknown'], 'certainty': None, 'link': None}\n",
      "116/5 BC {'or': None, 'not_before': -116, 'not_after': -115, 'date_tags': ['range'], 'certainty': None, 'link': None}\n",
      "Delos {'or': None, 'not_before': None, 'not_after': None, 'date_tags': ['unknown'], 'certainty': None, 'link': None}\n",
      "Mytilene {'or': None, 'not_before': None, 'not_after': None, 'date_tags': ['unknown'], 'certainty': None, 'link': None}\n",
      "2nd c. BC?  {'or': None, 'certainty': '?', 'not_before': -200, 'not_after': -101, 'date_tags': ['range', 'cent'], 'link': None}\n",
      "117-138 AD {'or': None, 'not_before': 117, 'not_after': 138, 'date_tags': ['range'], 'certainty': None, 'link': None}\n",
      "Thera {'or': None, 'not_before': None, 'not_after': None, 'date_tags': ['unknown'], 'certainty': None, 'link': None}\n",
      "Thera {'or': None, 'not_before': None, 'not_after': None, 'date_tags': ['unknown'], 'certainty': None, 'link': None}\n",
      "Paros {'or': None, 'not_before': None, 'not_after': None, 'date_tags': ['unknown'], 'certainty': None, 'link': None}\n",
      "Ta Grammata {'or': None, 'not_before': None, 'not_after': None, 'date_tags': ['unknown'], 'certainty': None, 'link': None}\n",
      "Paros {'or': None, 'not_before': None, 'not_after': None, 'date_tags': ['unknown'], 'certainty': None, 'link': None}\n",
      "Minoa {'or': None, 'not_before': None, 'not_after': None, 'date_tags': ['unknown'], 'certainty': None, 'link': None}\n",
      "Thasos {'or': None, 'not_before': None, 'not_after': None, 'date_tags': ['unknown'], 'certainty': None, 'link': None}\n",
      "4th c. BC {'or': None, 'not_before': -400, 'not_after': -301, 'date_tags': ['range', 'cent'], 'certainty': None, 'link': None}\n",
      "5th c. BC {'or': None, 'not_before': -500, 'not_after': -401, 'date_tags': ['range', 'cent'], 'certainty': None, 'link': None}\n",
      "Eretria {'or': None, 'not_before': None, 'not_after': None, 'date_tags': ['unknown'], 'certainty': None, 'link': None}\n",
      "1st/2nd c. AD {'or': None, 'not_before': 1, 'not_after': 200, 'date_tags': ['range', 'cent', 'morece'], 'certainty': None, 'link': None}\n",
      "3rd/2nd c. BC {'or': None, 'not_before': -300, 'not_after': -101, 'date_tags': ['range', 'cent', 'morece'], 'certainty': None, 'link': None}\n",
      "2nd c. AD  {'or': None, 'not_before': 101, 'not_after': 200, 'date_tags': ['range', 'cent'], 'certainty': None, 'link': None}\n",
      "2nd/3rd c. AD {'or': None, 'not_before': 101, 'not_after': 300, 'date_tags': ['range', 'cent', 'morece'], 'certainty': None, 'link': None}\n",
      "2nd/3rd c. AD  {'or': None, 'not_before': 101, 'not_after': 300, 'date_tags': ['range', 'cent', 'morece'], 'certainty': None, 'link': None}\n",
      "undated {'or': None, 'not_before': None, 'not_after': None, 'date_tags': ['unknown'], 'certainty': None, 'link': None}\n",
      "3rd c. BC {'or': None, 'not_before': -300, 'not_after': -201, 'date_tags': ['range', 'cent'], 'certainty': None, 'link': None}\n",
      "undated {'or': None, 'not_before': None, 'not_after': None, 'date_tags': ['unknown'], 'certainty': None, 'link': None}\n",
      "Christian {'or': None, 'not_before': None, 'not_after': None, 'date_tags': ['unknown'], 'certainty': None, 'link': None}\n",
      "undated {'or': None, 'not_before': None, 'not_after': None, 'date_tags': ['unknown'], 'certainty': None, 'link': None}\n",
      "undated {'or': None, 'not_before': None, 'not_after': None, 'date_tags': ['unknown'], 'certainty': None, 'link': None}\n",
      "Taras-Tarentum: Montedoro {'or': None, 'not_before': None, 'not_after': None, 'date_tags': ['unknown'], 'certainty': None, 'link': None}\n",
      "p. 706, Add. et Corr. {'or': None, 'not_before': None, 'not_after': None, 'date_tags': ['unknown'], 'certainty': None, 'link': None}\n",
      "undated {'or': None, 'not_before': None, 'not_after': None, 'date_tags': ['unknown'], 'certainty': None, 'link': None}\n",
      "not bef. the Antonine period {'or': None, 'source': 'PeriodO', 'notes': nan, 'link': 'http://n2t.net/ark:/99152/p06c6g34zjk', 'not_before': 96, 'not_after': None, 'date_tags': ['range', 'period', 'post'], 'certainty': None}\n",
      "after mid. 3rd c. BC {'or': None, 'not_before': -245, 'not_after': None, 'date_tags': ['range', 'cent', 'phase', 'middle', 'post'], 'certainty': None, 'link': None}\n",
      "undated {'or': None, 'not_before': None, 'not_after': None, 'date_tags': ['unknown'], 'certainty': None, 'link': None}\n",
      "undated {'or': None, 'not_before': None, 'not_after': None, 'date_tags': ['unknown'], 'certainty': None, 'link': None}\n",
      "undated {'or': None, 'not_before': None, 'not_after': None, 'date_tags': ['unknown'], 'certainty': None, 'link': None}\n",
      "198-210 AD {'or': None, 'not_before': 198, 'not_after': 210, 'date_tags': ['range'], 'certainty': None, 'link': None}\n",
      "undated {'or': None, 'not_before': None, 'not_after': None, 'date_tags': ['unknown'], 'certainty': None, 'link': None}\n",
      "undated {'or': None, 'not_before': None, 'not_after': None, 'date_tags': ['unknown'], 'certainty': None, 'link': None}\n",
      "undated {'or': None, 'not_before': None, 'not_after': None, 'date_tags': ['unknown'], 'certainty': None, 'link': None}\n",
      "undated {'or': None, 'not_before': None, 'not_after': None, 'date_tags': ['unknown'], 'certainty': None, 'link': None}\n",
      "cf. Corrigenda p. XV {'or': None, 'not_before': None, 'not_after': None, 'date_tags': ['unknown'], 'certainty': None, 'link': None}\n",
      "Gonnoi II 118 {'or': None, 'not_before': None, 'not_after': None, 'date_tags': ['unknown'], 'certainty': None, 'link': None}\n",
      "ca. 100-150 AD  {'or': None, 'not_before': 95, 'not_after': 155, 'date_tags': ['range', 'phase', 'ca'], 'certainty': None, 'link': None}\n",
      "1st c. BC  {'or': None, 'not_before': -100, 'not_after': -1, 'date_tags': ['range', 'cent'], 'certainty': None, 'link': None}\n",
      "undated {'or': None, 'not_before': None, 'not_after': None, 'date_tags': ['unknown'], 'certainty': None, 'link': None}\n",
      "Skepseis kai Entyposeis (1962) 92 {'or': None, 'not_before': None, 'not_after': None, 'date_tags': ['unknown'], 'certainty': None, 'link': None}\n",
      "5th c. AD {'or': None, 'not_before': 401, 'not_after': 500, 'date_tags': ['range', 'cent'], 'certainty': None, 'link': None}\n",
      "2nd/3rd c. AD  {'or': None, 'not_before': 101, 'not_after': 300, 'date_tags': ['range', 'cent', 'morece'], 'certainty': None, 'link': None}\n",
      "shortly after 208/7 BC (or 207/6)  {'or': None, 'not_before': None, 'not_after': None, 'date_tags': ['unknown', 'shortly'], 'certainty': None, 'link': None}\n",
      "Ch. Saatsoglou-Paliadelē, Epitaphia mnēmeia (1984) 237, 61 {'or': None, 'not_before': None, 'not_after': None, 'date_tags': ['unknown'], 'certainty': None, 'link': None}\n",
      "ca. 100-250 AD  {'or': None, 'not_before': 85, 'not_after': 265, 'date_tags': ['range', 'phase', 'ca'], 'certainty': None, 'link': None}\n",
      "undated {'or': None, 'not_before': None, 'not_after': None, 'date_tags': ['unknown'], 'certainty': None, 'link': None}\n",
      "2nd/3rd c. AD  {'or': None, 'not_before': 101, 'not_after': 300, 'date_tags': ['range', 'cent', 'morece'], 'certainty': None, 'link': None}\n",
      "Odessus (Varna) {'or': None, 'not_before': None, 'not_after': None, 'date_tags': ['unknown'], 'certainty': None, 'link': None}\n",
      "4th c. BC  {'or': None, 'not_before': -400, 'not_after': -301, 'date_tags': ['range', 'cent'], 'certainty': None, 'link': None}\n",
      "Philippopolis (Plovdiv) {'or': None, 'not_before': None, 'not_after': None, 'date_tags': ['unknown'], 'certainty': None, 'link': None}\n",
      "SEG 3.515 {'or': None, 'not_before': None, 'not_after': None, 'date_tags': ['unknown'], 'certainty': None, 'link': None}\n",
      "155 AD  {'or': None, 'not_before': 155, 'not_after': 155, 'date_tags': ['exact'], 'certainty': None, 'link': None}\n",
      "SEG 30.841 {'or': None, 'not_before': None, 'not_after': None, 'date_tags': ['unknown'], 'certainty': None, 'link': None}\n",
      "Rom. Imp. period? (Fır.)  {'or': None, 'certainty': '?', 'source': 'PeriodO', 'notes': nan, 'link': 'http://n2t.net/ark:/99152/p08m57hqcc5', 'not_before': -31, 'not_after': 410, 'date_tags': ['range', 'period']}\n",
      "ca. 180-150 BC  {'or': None, 'not_before': -183, 'not_after': -147, 'date_tags': ['range', 'phase', 'ca'], 'certainty': None, 'link': None}\n",
      "5th/6th c. AD {'or': None, 'not_before': 401, 'not_after': 600, 'date_tags': ['range', 'cent', 'morece'], 'certainty': None, 'link': None}\n",
      "177 AD {'or': None, 'not_before': 177, 'not_after': 177, 'date_tags': ['exact'], 'certainty': None, 'link': None}\n",
      "2nd c. AD  {'or': None, 'not_before': 101, 'not_after': 200, 'date_tags': ['range', 'cent'], 'certainty': None, 'link': None}\n",
      "reign of Ant. Pius  {'or': None, 'source': 'PeriodO', 'notes': nan, 'link': 'http://n2t.net/ark:/99152/p06c6g3drk4', 'not_before': 138, 'not_after': 161, 'date_tags': ['range', 'period'], 'certainty': None}\n",
      "undated {'or': None, 'not_before': None, 'not_after': None, 'date_tags': ['unknown'], 'certainty': None, 'link': None}\n",
      "CIL 3.8188 {'or': None, 'not_before': None, 'not_after': None, 'date_tags': ['unknown'], 'certainty': None, 'link': None}\n",
      "IG XIV 2393,75 {'or': None, 'not_before': None, 'not_after': None, 'date_tags': ['unknown'], 'certainty': None, 'link': None}\n",
      "5th c. AD  {'or': None, 'not_before': 401, 'not_after': 500, 'date_tags': ['range', 'cent'], 'certainty': None, 'link': None}\n",
      "3rd/4th c. AD?  {'or': None, 'certainty': '?', 'not_before': 201, 'not_after': 400, 'date_tags': ['range', 'cent', 'morece'], 'link': None}\n",
      "Byzantine {'or': None, 'source': 'PeriodO', 'notes': 'alone', 'link': 'http://n2t.net/ark:/99152/p0m63njtm6w', 'not_before': 324, 'not_after': 1453, 'date_tags': ['range', 'period'], 'certainty': None}\n",
      "267-668 AD {'or': None, 'not_before': 267, 'not_after': 668, 'date_tags': ['range'], 'certainty': None, 'link': None}\n",
      "335-322 BC {'or': None, 'not_before': -335, 'not_after': -322, 'date_tags': ['range'], 'certainty': None, 'link': None}\n",
      "3rd c. AD  {'or': None, 'not_before': 201, 'not_after': 300, 'date_tags': ['range', 'cent'], 'certainty': None, 'link': None}\n",
      "2nd c. AD  {'or': None, 'not_before': 101, 'not_after': 200, 'date_tags': ['range', 'cent'], 'certainty': None, 'link': None}\n",
      "undated {'or': None, 'not_before': None, 'not_after': None, 'date_tags': ['unknown'], 'certainty': None, 'link': None}\n",
      "1st c. BC  {'or': None, 'not_before': -100, 'not_after': -1, 'date_tags': ['range', 'cent'], 'certainty': None, 'link': None}\n",
      "Roman period?  {'or': None, 'certainty': '?', 'source': nan, 'notes': nan, 'link': nan, 'not_before': -146, 'not_after': 324, 'date_tags': ['range', 'period']}\n",
      "155 AD  {'or': None, 'not_before': 155, 'not_after': 155, 'date_tags': ['exact'], 'certainty': None, 'link': None}\n",
      "IosPE IV 60 {'or': None, 'not_before': None, 'not_after': None, 'date_tags': ['unknown'], 'certainty': None, 'link': None}\n",
      "ca. 2nd c. BC {'or': None, 'not_before': -210, 'not_after': -91, 'date_tags': ['range', 'cent', 'phase', 'ca'], 'certainty': None, 'link': None}\n",
      "ca. 120 AD {'or': None, 'not_before': 115, 'not_after': 125, 'date_tags': ['exact', 'phase', 'ca'], 'certainty': None, 'link': None}\n",
      "2nd c. BC  {'or': None, 'not_before': -200, 'not_after': -101, 'date_tags': ['range', 'cent'], 'certainty': None, 'link': None}\n",
      "undated {'or': None, 'not_before': None, 'not_after': None, 'date_tags': ['unknown'], 'certainty': None, 'link': None}\n",
      "4th c. BC {'or': None, 'not_before': -400, 'not_after': -301, 'date_tags': ['range', 'cent'], 'certainty': None, 'link': None}\n",
      "46-44 BC {'or': None, 'not_before': -46, 'not_after': -44, 'date_tags': ['range'], 'certainty': None, 'link': None}\n",
      "IG XIV 1412 {'or': None, 'not_before': None, 'not_after': None, 'date_tags': ['unknown'], 'certainty': None, 'link': None}\n",
      "cf. IGUR IV, p. 162, 862 {'or': None, 'not_before': None, 'not_after': None, 'date_tags': ['unknown'], 'certainty': None, 'link': None}\n",
      "GVI 184 {'or': None, 'not_before': None, 'not_after': None, 'date_tags': ['unknown'], 'certainty': None, 'link': None}\n",
      "3rd c. AD  {'or': None, 'not_before': 201, 'not_after': 300, 'date_tags': ['range', 'cent'], 'certainty': None, 'link': None}\n",
      "undated {'or': None, 'not_before': None, 'not_after': None, 'date_tags': ['unknown'], 'certainty': None, 'link': None}\n",
      "95 BC {'or': None, 'not_before': -95, 'not_after': -95, 'date_tags': ['exact'], 'certainty': None, 'link': None}\n",
      "undated {'or': None, 'not_before': None, 'not_after': None, 'date_tags': ['unknown'], 'certainty': None, 'link': None}\n",
      "ca. 220-210 BC?  {'or': None, 'certainty': '?', 'not_before': -221, 'not_after': -209, 'date_tags': ['range', 'phase', 'ca'], 'link': None}\n",
      "undated {'or': None, 'not_before': None, 'not_after': None, 'date_tags': ['unknown'], 'certainty': None, 'link': None}\n",
      "AD 42 B2 (1987) 601 {'or': None, 'not_before': None, 'not_after': None, 'date_tags': ['unknown'], 'certainty': None, 'link': None}\n",
      "late 6th c. BC  {'or': None, 'not_before': -526, 'not_after': -501, 'date_tags': ['range', 'cent', 'phase', 'late'], 'certainty': None, 'link': None}\n",
      "1st/2nd c. AD {'or': None, 'not_before': 1, 'not_after': 200, 'date_tags': ['range', 'cent', 'morece'], 'certainty': None, 'link': None}\n",
      "late 3rd-mid. 2nd c. BC  {'or': None, 'not_before': -226, 'not_after': -146, 'date_tags': ['range', 'cent', 'morece'], 'certainty': None, 'link': None}\n",
      "ca. 460 BC  {'or': None, 'not_before': -465, 'not_after': -455, 'date_tags': ['exact', 'phase', 'ca'], 'certainty': None, 'link': None}\n",
      "Rom. Imp. period {'or': None, 'source': 'PeriodO', 'notes': nan, 'link': 'http://n2t.net/ark:/99152/p08m57hqcc5', 'not_before': -31, 'not_after': 410, 'date_tags': ['range', 'period'], 'certainty': None}\n",
      "1st c. AD {'or': None, 'not_before': 1, 'not_after': 100, 'date_tags': ['range', 'cent'], 'certainty': None, 'link': None}\n",
      "beg. 5th c. BC {'or': None, 'not_before': -500, 'not_after': -490, 'date_tags': ['range', 'cent', 'phase', 'beg'], 'certainty': None, 'link': None}\n",
      "2nd/1st c. BC {'or': None, 'not_before': -200, 'not_after': -1, 'date_tags': ['range', 'cent', 'morece'], 'certainty': None, 'link': None}\n",
      "Hellenistic period  {'or': None, 'source': 'PeriodO', 'notes': nan, 'link': 'http://n2t.net/ark:/99152/p03wskd55sw', 'not_before': -330, 'not_after': -30, 'date_tags': ['range', 'period'], 'certainty': None}\n",
      "after 145 BC  {'or': None, 'not_before': -144, 'not_after': None, 'date_tags': ['post'], 'certainty': None, 'link': None}\n",
      "mid-4th c. BC  {'or': None, 'not_before': -355, 'not_after': -346, 'date_tags': ['range', 'cent', 'phase', 'middle'], 'certainty': None, 'link': None}\n",
      "200-209 AD  {'or': None, 'not_before': 200, 'not_after': 209, 'date_tags': ['range'], 'certainty': None, 'link': None}\n",
      "7th-4th c. BC  {'or': None, 'not_before': -700, 'not_after': -301, 'date_tags': ['range', 'cent', 'morece'], 'certainty': None, 'link': None}\n",
      "reign of Claudius {'or': None, 'source': 'PeriodO', 'notes': nan, 'link': 'http://n2t.net/ark:/99152/p0jrrjb8spw', 'not_before': 41, 'not_after': 54, 'date_tags': ['range', 'period'], 'certainty': None}\n",
      "ca. 100-150 AD {'or': None, 'not_before': 95, 'not_after': 155, 'date_tags': ['range', 'phase', 'ca'], 'certainty': None, 'link': None}\n",
      "1st c. BC/1st c. AD  {'or': None, 'not_before': -100, 'not_after': 100, 'date_tags': ['range', 'cent', 'morece'], 'certainty': None, 'link': None}\n",
      "undated {'or': None, 'not_before': None, 'not_after': None, 'date_tags': ['unknown'], 'certainty': None, 'link': None}\n",
      "undated {'or': None, 'not_before': None, 'not_after': None, 'date_tags': ['unknown'], 'certainty': None, 'link': None}\n",
      "ca. 500-450 BC  {'or': None, 'not_before': -505, 'not_after': -445, 'date_tags': ['range', 'phase', 'ca'], 'certainty': None, 'link': None}\n",
      "1st c. AD  {'or': None, 'not_before': 1, 'not_after': 100, 'date_tags': ['range', 'cent'], 'certainty': None, 'link': None}\n",
      "Abydos: Memnonion {'or': None, 'not_before': None, 'not_after': None, 'date_tags': ['unknown'], 'certainty': None, 'link': None}\n",
      "3rd/2nd c. BC? {'or': None, 'certainty': '?', 'not_before': -300, 'not_after': -101, 'date_tags': ['range', 'cent', 'morece'], 'link': None}\n",
      "Hermonthis (Armant)? {'or': None, 'certainty': '?', 'not_before': None, 'not_after': None, 'date_tags': ['unknown'], 'link': None}\n",
      "180 AD  {'or': None, 'not_before': 180, 'not_after': 180, 'date_tags': ['exact'], 'certainty': None, 'link': None}\n",
      "el-Boueib {'or': None, 'not_before': None, 'not_after': None, 'date_tags': ['unknown'], 'certainty': None, 'link': None}\n",
      "209-204 BC  {'or': None, 'not_before': -209, 'not_after': -204, 'date_tags': ['range'], 'certainty': None, 'link': None}\n",
      "244-221 BC {'or': None, 'not_before': -244, 'not_after': -221, 'date_tags': ['range'], 'certainty': None, 'link': None}\n",
      "89-91 AD  {'or': None, 'not_before': 89, 'not_after': 91, 'date_tags': ['range'], 'certainty': None, 'link': None}\n",
      "Alexandria: Kōm el-Shugafa {'or': None, 'not_before': None, 'not_after': None, 'date_tags': ['unknown'], 'certainty': None, 'link': None}\n",
      "Alexandria Mus. [Rhodes] {'or': None, 'not_before': None, 'not_after': None, 'date_tags': ['unknown'], 'certainty': None, 'link': None}\n",
      "Alexandria Mus. [Rhodes] {'or': None, 'not_before': None, 'not_after': None, 'date_tags': ['unknown'], 'certainty': None, 'link': None}\n",
      "Arsinoïte Nome (Faiyūm) {'or': None, 'not_before': None, 'not_after': None, 'date_tags': ['unknown'], 'certainty': None, 'link': None}\n",
      "Arsinoïte Nome (Faiyūm)? {'or': None, 'certainty': '?', 'not_before': None, 'not_after': None, 'date_tags': ['unknown'], 'link': None}\n",
      "Christian period  {'or': None, 'not_before': None, 'not_after': None, 'date_tags': ['unknown'], 'certainty': None, 'link': None}\n",
      "210-175 BC  {'or': None, 'not_before': -210, 'not_after': -175, 'date_tags': ['range'], 'certainty': None, 'link': None}\n",
      "Byzantine period  {'or': None, 'source': 'PeriodO', 'notes': nan, 'link': 'http://n2t.net/ark:/99152/p0m63njtm6w', 'not_before': 324, 'not_after': 1453, 'date_tags': ['range', 'period'], 'certainty': None}\n",
      "Thebes [W.]: Syringes {'or': None, 'not_before': None, 'not_after': None, 'date_tags': ['unknown'], 'certainty': None, 'link': None}\n",
      "Thebes [W.]: Syringes {'or': None, 'not_before': None, 'not_after': None, 'date_tags': ['unknown'], 'certainty': None, 'link': None}\n",
      "Thebes [W.]: Syringes {'or': None, 'not_before': None, 'not_after': None, 'date_tags': ['unknown'], 'certainty': None, 'link': None}\n",
      "Thebes [W.]: Syringes {'or': None, 'not_before': None, 'not_after': None, 'date_tags': ['unknown'], 'certainty': None, 'link': None}\n",
      "3rd/4th c. AD  {'or': None, 'not_before': 201, 'not_after': 400, 'date_tags': ['range', 'cent', 'morece'], 'certainty': None, 'link': None}\n",
      "Rom. Imp. period  {'or': None, 'source': 'PeriodO', 'notes': nan, 'link': 'http://n2t.net/ark:/99152/p08m57hqcc5', 'not_before': -31, 'not_after': 410, 'date_tags': ['range', 'period'], 'certainty': None}\n",
      "1st c. BC  {'or': None, 'not_before': -100, 'not_after': -1, 'date_tags': ['range', 'cent'], 'certainty': None, 'link': None}\n",
      "Thebes [W.]: Colossus of Memnon {'or': None, 'not_before': None, 'not_after': None, 'date_tags': ['unknown'], 'certainty': None, 'link': None}\n",
      "6th/5th c. BC {'or': None, 'not_before': -600, 'not_after': -401, 'date_tags': ['range', 'cent', 'morece'], 'certainty': None, 'link': None}\n",
      "6th/5th c. BC {'or': None, 'not_before': -600, 'not_after': -401, 'date_tags': ['range', 'cent', 'morece'], 'certainty': None, 'link': None}\n",
      "Pachoras--Phthouris (Faras) {'or': None, 'not_before': None, 'not_after': None, 'date_tags': ['unknown'], 'certainty': None, 'link': None}\n",
      "AD 45.1990[1995].B.42 {'or': None, 'not_before': None, 'not_after': None, 'date_tags': ['unknown'], 'certainty': None, 'link': None}\n",
      "4th c. BC  {'or': None, 'not_before': -400, 'not_after': -301, 'date_tags': ['range', 'cent'], 'certainty': None, 'link': None}\n",
      "220/19 {'or': None, 'not_before': -220, 'not_after': -219, 'date_tags': ['range'], 'certainty': None, 'link': None}\n",
      "s. I p. {'or': None, 'not_before': 1, 'not_after': 100, 'date_tags': ['range', 'cent'], 'certainty': None, 'link': None}\n",
      "s. III a. {'or': None, 'not_before': -300, 'not_after': -201, 'date_tags': ['range', 'cent'], 'certainty': None, 'link': None}\n",
      "c. 500 a.  {'or': None, 'not_before': -505, 'not_after': -495, 'date_tags': ['exact', 'phase', 'ca'], 'certainty': None, 'link': None}\n",
      "301/0-295/4 a.  {'or': None, 'not_before': -301, 'not_after': -294, 'date_tags': ['range'], 'certainty': None, 'link': None}\n",
      "med. s. V a. {'or': None, 'not_before': -455, 'not_after': -446, 'date_tags': ['range', 'cent', 'phase', 'middle'], 'certainty': None, 'link': None}\n",
      "fin. s. V/VI p. {'or': None, 'not_before': 490, 'not_after': 600, 'date_tags': ['range', 'cent', 'morece'], 'certainty': None, 'link': None}\n",
      "Patissia {'or': None, 'not_before': None, 'not_after': None, 'date_tags': ['unknown'], 'certainty': None, 'link': None}\n",
      "end 6th c. BC {'or': None, 'not_before': -511, 'not_after': -501, 'date_tags': ['range', 'cent', 'phase', 'end'], 'certainty': None, 'link': None}\n",
      "end 4th c. BC {'or': None, 'not_before': -311, 'not_after': -301, 'date_tags': ['range', 'cent', 'phase', 'end'], 'certainty': None, 'link': None}\n",
      "Mt. Hymettos {'or': None, 'not_before': None, 'not_after': None, 'date_tags': ['unknown'], 'certainty': None, 'link': None}\n",
      "3rd c. BC  {'or': None, 'not_before': -300, 'not_after': -201, 'date_tags': ['range', 'cent'], 'certainty': None, 'link': None}\n",
      "ca. 260-240 BC {'or': None, 'not_before': -262, 'not_after': -238, 'date_tags': ['range', 'phase', 'ca'], 'certainty': None, 'link': None}\n",
      "1st/2nd c. AD {'or': None, 'not_before': 1, 'not_after': 200, 'date_tags': ['range', 'cent', 'morece'], 'certainty': None, 'link': None}\n",
      "Daux {'or': None, 'not_before': None, 'not_after': None, 'date_tags': ['unknown'], 'certainty': None, 'link': None}\n",
      "128/127 BC  {'or': None, 'not_before': -128, 'not_after': -127, 'date_tags': ['range'], 'certainty': None, 'link': None}\n",
      "215 BC {'or': None, 'not_before': -215, 'not_after': -215, 'date_tags': ['exact'], 'certainty': None, 'link': None}\n",
      "ca. 125 BC {'or': None, 'not_before': -130, 'not_after': -120, 'date_tags': ['exact', 'phase', 'ca'], 'certainty': None, 'link': None}\n",
      "undated {'or': None, 'not_before': None, 'not_after': None, 'date_tags': ['unknown'], 'certainty': None, 'link': None}\n",
      "Rom. Imp. period  {'or': None, 'source': 'PeriodO', 'notes': nan, 'link': 'http://n2t.net/ark:/99152/p08m57hqcc5', 'not_before': -31, 'not_after': 410, 'date_tags': ['range', 'period'], 'certainty': None}\n",
      "124-116 BC {'or': None, 'not_before': -124, 'not_after': -116, 'date_tags': ['range'], 'certainty': None, 'link': None}\n",
      "194 BC {'or': None, 'not_before': -194, 'not_after': -194, 'date_tags': ['exact'], 'certainty': None, 'link': None}\n",
      "ca. 213 BC? {'or': None, 'certainty': '?', 'not_before': -218, 'not_after': -208, 'date_tags': ['exact', 'phase', 'ca'], 'link': None}\n",
      "73/4 AD {'or': None, 'not_before': 73, 'not_after': 74, 'date_tags': ['range'], 'certainty': None, 'link': None}\n",
      "Antiochia & Area of {'or': None, 'not_before': None, 'not_after': None, 'date_tags': ['unknown'], 'certainty': None, 'link': None}\n",
      "12/1 BC {'or': None, 'not_before': -12, 'not_after': -11, 'date_tags': ['range'], 'certainty': None, 'link': None}\n",
      "Tell Frēǧ {'or': None, 'not_before': None, 'not_after': None, 'date_tags': ['unknown'], 'certainty': None, 'link': None}\n",
      "end 5th c. AD {'or': None, 'not_before': 490, 'not_after': 500, 'date_tags': ['range', 'cent', 'phase', 'end'], 'certainty': None, 'link': None}\n",
      "Heliopolis (Ba‘albek) {'or': None, 'not_before': None, 'not_after': None, 'date_tags': ['unknown'], 'certainty': None, 'link': None}\n",
      "reign of Hadrian {'or': None, 'source': 'PeriodO', 'notes': nan, 'link': 'http://n2t.net/ark:/99152/p0jrrjbntfj', 'not_before': 117, 'not_after': 138, 'date_tags': ['range', 'period'], 'certainty': None}\n",
      "Bostra (Buṣrā) {'or': None, 'not_before': None, 'not_after': None, 'date_tags': ['unknown'], 'certainty': None, 'link': None}\n",
      "Graf, Kulte, Chios 38 {'or': None, 'not_before': None, 'not_after': None, 'date_tags': ['unknown'], 'certainty': None, 'link': None}\n",
      "IDid 484 {'or': None, 'not_before': None, 'not_after': None, 'date_tags': ['unknown'], 'certainty': None, 'link': None}\n",
      "IDid 411 {'or': None, 'not_before': None, 'not_after': None, 'date_tags': ['unknown'], 'certainty': None, 'link': None}\n",
      "IEph 430 {'or': None, 'not_before': None, 'not_after': None, 'date_tags': ['unknown'], 'certainty': None, 'link': None}\n",
      "IEph 284 {'or': None, 'not_before': None, 'not_after': None, 'date_tags': ['unknown'], 'certainty': None, 'link': None}\n",
      "IEph 1599 {'or': None, 'not_before': None, 'not_after': None, 'date_tags': ['unknown'], 'certainty': None, 'link': None}\n",
      "IEph 1904.2 {'or': None, 'not_before': None, 'not_after': None, 'date_tags': ['unknown'], 'certainty': None, 'link': None}\n",
      "IEph 2247A {'or': None, 'not_before': None, 'not_after': None, 'date_tags': ['unknown'], 'certainty': None, 'link': None}\n",
      "IEph 2456 {'or': None, 'not_before': None, 'not_after': None, 'date_tags': ['unknown'], 'certainty': None, 'link': None}\n",
      "IEph 573.8 {'or': None, 'not_before': None, 'not_after': None, 'date_tags': ['unknown'], 'certainty': None, 'link': None}\n",
      "IEph 1962 {'or': None, 'not_before': None, 'not_after': None, 'date_tags': ['unknown'], 'certainty': None, 'link': None}\n",
      "IEph 3414 {'or': None, 'not_before': None, 'not_after': None, 'date_tags': ['unknown'], 'certainty': None, 'link': None}\n",
      "Milet I 2, 26 {'or': None, 'not_before': None, 'not_after': None, 'date_tags': ['unknown'], 'certainty': None, 'link': None}\n",
      "IPri 87 {'or': None, 'not_before': None, 'not_after': None, 'date_tags': ['unknown'], 'certainty': None, 'link': None}\n",
      "IPri 313.309 {'or': None, 'not_before': None, 'not_after': None, 'date_tags': ['unknown'], 'certainty': None, 'link': None}\n",
      "IPri 297 {'or': None, 'not_before': None, 'not_after': None, 'date_tags': ['unknown'], 'certainty': None, 'link': None}\n",
      "AD 1972, B2, 603-4 {'or': None, 'not_before': None, 'not_after': None, 'date_tags': ['unknown'], 'certainty': None, 'link': None}\n",
      "ISmyrn 627 {'or': None, 'not_before': None, 'not_after': None, 'date_tags': ['unknown'], 'certainty': None, 'link': None}\n",
      "ISmyrn 181 {'or': None, 'not_before': None, 'not_after': None, 'date_tags': ['unknown'], 'certainty': None, 'link': None}\n",
      "McCabe 0351 {'or': None, 'not_before': None, 'not_after': None, 'date_tags': ['unknown'], 'certainty': None, 'link': None}\n",
      "LW 1559 {'or': None, 'not_before': None, 'not_after': None, 'date_tags': ['unknown'], 'certainty': None, 'link': None}\n",
      "LW 1589 {'or': None, 'not_before': None, 'not_after': None, 'date_tags': ['unknown'], 'certainty': None, 'link': None}\n",
      "Roueché, Aphrodisias 42 {'or': None, 'not_before': None, 'not_after': None, 'date_tags': ['unknown'], 'certainty': None, 'link': None}\n",
      "BCH 1890, 97-99, no. 4 {'or': None, 'not_before': None, 'not_after': None, 'date_tags': ['unknown'], 'certainty': None, 'link': None}\n",
      "GIBM IV.1 Nr.806 {'or': None, 'not_before': None, 'not_after': None, 'date_tags': ['unknown'], 'certainty': None, 'link': None}\n",
      "IIasos 206 {'or': None, 'not_before': None, 'not_after': None, 'date_tags': ['unknown'], 'certainty': None, 'link': None}\n",
      "ASAA 1961-62, 630, no. 130 {'or': None, 'not_before': None, 'not_after': None, 'date_tags': ['unknown'], 'certainty': None, 'link': None}\n",
      "Newton, Disc. II 742-43:91 {'or': None, 'not_before': -200, 'not_after': -101, 'date_tags': ['range', 'cent'], 'certainty': None, 'link': None}\n",
      "ITral 21 {'or': None, 'not_before': None, 'not_after': None, 'date_tags': ['unknown'], 'certainty': None, 'link': None}\n",
      "IMyl 151 {'or': None, 'not_before': None, 'not_after': None, 'date_tags': ['unknown'], 'certainty': None, 'link': None}\n",
      "Newton, Halik. II 592 {'or': None, 'not_before': None, 'not_after': None, 'date_tags': ['unknown'], 'certainty': None, 'link': None}\n",
      "IStr 427 {'or': None, 'not_before': None, 'not_after': None, 'date_tags': ['unknown'], 'certainty': None, 'link': None}\n",
      "IStr 1045 {'or': None, 'not_before': None, 'not_after': None, 'date_tags': ['unknown'], 'certainty': None, 'link': None}\n",
      "ITral 102 {'or': None, 'not_before': None, 'not_after': None, 'date_tags': ['unknown'], 'certainty': None, 'link': None}\n",
      "154/5 AD {'or': None, 'not_before': 154, 'not_after': 155, 'date_tags': ['range'], 'certainty': None, 'link': None}\n",
      "66/7 AD {'or': None, 'not_before': 66, 'not_after': 67, 'date_tags': ['range'], 'certainty': None, 'link': None}\n",
      "Thyateira (Akhisar) {'or': None, 'not_before': None, 'not_after': None, 'date_tags': ['unknown'], 'certainty': None, 'link': None}\n",
      "Aphrodisias {'or': None, 'not_before': None, 'not_after': None, 'date_tags': ['unknown'], 'certainty': None, 'link': None}\n",
      "144 AD  {'or': None, 'not_before': 144, 'not_after': 144, 'date_tags': ['exact'], 'certainty': None, 'link': None}\n",
      "Rom. Imp. period {'or': None, 'source': 'PeriodO', 'notes': nan, 'link': 'http://n2t.net/ark:/99152/p08m57hqcc5', 'not_before': -31, 'not_after': 410, 'date_tags': ['range', 'period'], 'certainty': None}\n",
      "Stratonikeia: Kirkaǧaç {'or': None, 'not_before': None, 'not_after': None, 'date_tags': ['unknown'], 'certainty': None, 'link': None}\n",
      "SEG 27.880 {'or': None, 'not_before': None, 'not_after': None, 'date_tags': ['unknown'], 'certainty': None, 'link': None}\n",
      "Rom. Imp. period  {'or': None, 'source': 'PeriodO', 'notes': nan, 'link': 'http://n2t.net/ark:/99152/p08m57hqcc5', 'not_before': -31, 'not_after': 410, 'date_tags': ['range', 'period'], 'certainty': None}\n",
      "SEG 40.1219 {'or': None, 'not_before': None, 'not_after': None, 'date_tags': ['unknown'], 'certainty': None, 'link': None}\n",
      "Hellenistic period  {'or': None, 'source': 'PeriodO', 'notes': nan, 'link': 'http://n2t.net/ark:/99152/p03wskd55sw', 'not_before': -330, 'not_after': -30, 'date_tags': ['range', 'period'], 'certainty': None}\n",
      "OGIS 2.535, IGR 3.316 {'or': None, 'not_before': None, 'not_after': None, 'date_tags': ['unknown'], 'certainty': None, 'link': None}\n",
      "1st c. AD {'or': None, 'not_before': 1, 'not_after': 100, 'date_tags': ['range', 'cent'], 'certainty': None, 'link': None}\n",
      "Nakoleia (Seyitgazi) {'or': None, 'not_before': None, 'not_after': None, 'date_tags': ['unknown'], 'certainty': None, 'link': None}\n",
      "Aizanitis: Sopu Köy {'or': None, 'not_before': None, 'not_after': None, 'date_tags': ['unknown'], 'certainty': None, 'link': None}\n",
      "CIG 3899 [1] {'or': None, 'not_before': None, 'not_after': None, 'date_tags': ['unknown'], 'certainty': None, 'link': None}\n",
      "Yapıldak: Inli {'or': None, 'not_before': None, 'not_after': None, 'date_tags': ['unknown'], 'certainty': None, 'link': None}\n",
      "3rd c. AD  {'or': None, 'not_before': 201, 'not_after': 300, 'date_tags': ['range', 'cent'], 'certainty': None, 'link': None}\n",
      "2nd c. AD  {'or': None, 'not_before': 101, 'not_after': 200, 'date_tags': ['range', 'cent'], 'certainty': None, 'link': None}\n",
      "350-250 BC  {'or': None, 'not_before': -350, 'not_after': -250, 'date_tags': ['range'], 'certainty': None, 'link': None}\n",
      "MAMA 8.29 {'or': None, 'not_before': None, 'not_after': None, 'date_tags': ['unknown'], 'certainty': None, 'link': None}\n",
      "Laodicea Comb.: Yeni Yaila {'or': None, 'not_before': None, 'not_after': None, 'date_tags': ['unknown'], 'certainty': None, 'link': None}\n",
      "Ali Bey Höyük {'or': None, 'not_before': None, 'not_after': None, 'date_tags': ['unknown'], 'certainty': None, 'link': None}\n",
      "1st-early 2nd c. AD {'or': None, 'not_before': 1, 'not_after': 126, 'date_tags': ['range', 'cent', 'morece'], 'certainty': None, 'link': None}\n",
      "Side (Eski Adalia--Selimiye) {'or': None, 'not_before': None, 'not_after': None, 'date_tags': ['unknown'], 'certainty': None, 'link': None}\n",
      "117-138 AD  {'or': None, 'not_before': 117, 'not_after': 138, 'date_tags': ['range'], 'certainty': None, 'link': None}\n",
      "Byzantine period  {'or': None, 'source': 'PeriodO', 'notes': nan, 'link': 'http://n2t.net/ark:/99152/p0m63njtm6w', 'not_before': 324, 'not_after': 1453, 'date_tags': ['range', 'period'], 'certainty': None}\n",
      "Nikaia (Iznik) {'or': None, 'not_before': None, 'not_after': None, 'date_tags': ['unknown'], 'certainty': None, 'link': None}\n",
      "199 AD {'or': None, 'not_before': 199, 'not_after': 199, 'date_tags': ['exact'], 'certainty': None, 'link': None}\n",
      "Nikomedeia (Izmit) {'or': None, 'not_before': None, 'not_after': None, 'date_tags': ['unknown'], 'certainty': None, 'link': None}\n",
      "Klaudioupolis (Bolu), Plain of {'or': None, 'not_before': None, 'not_after': None, 'date_tags': ['unknown'], 'certainty': None, 'link': None}\n",
      "Prusias ad Hypium (Üskübü) {'or': None, 'not_before': None, 'not_after': None, 'date_tags': ['unknown'], 'certainty': None, 'link': None}\n",
      "Termessos (Güllük Dağı) {'or': None, 'not_before': None, 'not_after': None, 'date_tags': ['unknown'], 'certainty': None, 'link': None}\n",
      "Termessos (Güllük Dağı): Karaman Çay {'or': None, 'not_before': None, 'not_after': None, 'date_tags': ['unknown'], 'certainty': None, 'link': None}\n",
      "Rom. Imp. period {'or': None, 'source': 'PeriodO', 'notes': nan, 'link': 'http://n2t.net/ark:/99152/p08m57hqcc5', 'not_before': -31, 'not_after': 410, 'date_tags': ['range', 'period'], 'certainty': None}\n",
      "AEMÖ 19 (1896) 51,25 {'or': None, 'not_before': None, 'not_after': None, 'date_tags': ['unknown'], 'certainty': None, 'link': None}\n",
      "4th (or 5th?) c. AD  {'or': None, 'certainty': '?', 'not_before': 301, 'not_after': 500, 'date_tags': ['range', 'cent', 'morece'], 'link': None}\n",
      "Hellenistic period  {'or': None, 'source': 'PeriodO', 'notes': nan, 'link': 'http://n2t.net/ark:/99152/p03wskd55sw', 'not_before': -330, 'not_after': -30, 'date_tags': ['range', 'period'], 'certainty': None}\n",
      "Oinoanda (Incealiler): Girdev Gölü {'or': None, 'not_before': None, 'not_after': None, 'date_tags': ['unknown'], 'certainty': None, 'link': None}\n",
      "Telmessos {'or': None, 'not_before': None, 'not_after': None, 'date_tags': ['unknown'], 'certainty': None, 'link': None}\n",
      "late 1st c. AD? {'or': None, 'certainty': '?', 'not_before': 75, 'not_after': 100, 'date_tags': ['range', 'cent', 'phase', 'late'], 'link': None}\n",
      "Rom. Imp. period {'or': None, 'source': 'PeriodO', 'notes': nan, 'link': 'http://n2t.net/ark:/99152/p08m57hqcc5', 'not_before': -31, 'not_after': 410, 'date_tags': ['range', 'period'], 'certainty': None}\n",
      "Attaleia (Antalya) {'or': None, 'not_before': None, 'not_after': None, 'date_tags': ['unknown'], 'certainty': None, 'link': None}\n",
      "late 4th-6th c. AD {'or': None, 'not_before': 375, 'not_after': 600, 'date_tags': ['range', 'cent', 'morece'], 'certainty': None, 'link': None}\n",
      "Christian {'or': None, 'not_before': None, 'not_after': None, 'date_tags': ['unknown'], 'certainty': None, 'link': None}\n",
      "5th c. AD  {'or': None, 'not_before': 401, 'not_after': 500, 'date_tags': ['range', 'cent'], 'certainty': None, 'link': None}\n",
      "IK 6,2 {'or': None, 'not_before': None, 'not_after': None, 'date_tags': ['unknown'], 'certainty': None, 'link': None}\n",
      "CIL III 395=7076 (2) {'or': None, 'not_before': None, 'not_after': None, 'date_tags': ['unknown'], 'certainty': None, 'link': None}\n",
      "JHS 25,1905,56 Nr.4 {'or': None, 'not_before': None, 'not_after': None, 'date_tags': ['unknown'], 'certainty': None, 'link': None}\n",
      "Anth.Gr. III Nr.1 {'or': None, 'not_before': None, 'not_after': None, 'date_tags': ['unknown'], 'certainty': None, 'link': None}\n",
      "IK 26,27d {'or': None, 'not_before': None, 'not_after': None, 'date_tags': ['unknown'], 'certainty': None, 'link': None}\n",
      "Laurent, Corpus V 357bis/1702 {'or': None, 'not_before': None, 'not_after': None, 'date_tags': ['unknown'], 'certainty': None, 'link': None}\n",
      "IG II² 11759 {'or': None, 'not_before': None, 'not_after': None, 'date_tags': ['unknown'], 'certainty': None, 'link': None}\n",
      "beg. 3rd c. AD {'or': None, 'not_before': 201, 'not_after': 211, 'date_tags': ['range', 'cent', 'phase', 'beg'], 'certainty': None, 'link': None}\n",
      "229/30 or 230/1 AD  {'or': None, 'not_before': 229, 'not_after': 231, 'date_tags': ['range'], 'certainty': None, 'link': None}\n",
      "end 1st c. BC  {'or': None, 'not_before': -11, 'not_after': -1, 'date_tags': ['range', 'cent', 'phase', 'end'], 'certainty': None, 'link': None}\n",
      "Athens {'or': None, 'not_before': None, 'not_after': None, 'date_tags': ['unknown'], 'certainty': None, 'link': None}\n",
      "ca. 330-300 BC {'or': None, 'not_before': -333, 'not_after': -297, 'date_tags': ['range', 'phase', 'ca'], 'certainty': None, 'link': None}\n",
      "ca. 150 BC {'or': None, 'not_before': -155, 'not_after': -145, 'date_tags': ['exact', 'phase', 'ca'], 'certainty': None, 'link': None}\n",
      "3rd c. AD {'or': None, 'not_before': 201, 'not_after': 300, 'date_tags': ['range', 'cent'], 'certainty': None, 'link': None}\n",
      "ca. 475-450 BC  {'or': None, 'not_before': -477, 'not_after': -448, 'date_tags': ['range', 'phase', 'ca'], 'certainty': None, 'link': None}\n",
      "ca. 270-260 BC  {'or': None, 'not_before': -271, 'not_after': -259, 'date_tags': ['range', 'phase', 'ca'], 'certainty': None, 'link': None}\n",
      "3rd c. BC {'or': None, 'not_before': -300, 'not_after': -201, 'date_tags': ['range', 'cent'], 'certainty': None, 'link': None}\n",
      "Hellenistic period  {'or': None, 'source': 'PeriodO', 'notes': nan, 'link': 'http://n2t.net/ark:/99152/p03wskd55sw', 'not_before': -330, 'not_after': -30, 'date_tags': ['range', 'period'], 'certainty': None}\n",
      "4th c. BC  {'or': None, 'not_before': -400, 'not_after': -301, 'date_tags': ['range', 'cent'], 'certainty': None, 'link': None}\n",
      "early 3rd c. BC  {'or': None, 'not_before': -300, 'not_after': -275, 'date_tags': ['range', 'cent', 'phase', 'early'], 'certainty': None, 'link': None}\n",
      "3rd c. BC  {'or': None, 'not_before': -300, 'not_after': -201, 'date_tags': ['range', 'cent'], 'certainty': None, 'link': None}\n",
      "2nd/3rd c. AD {'or': None, 'not_before': 101, 'not_after': 300, 'date_tags': ['range', 'cent', 'morece'], 'certainty': None, 'link': None}\n",
      "2nd/3rd c. AD {'or': None, 'not_before': 101, 'not_after': 300, 'date_tags': ['range', 'cent', 'morece'], 'certainty': None, 'link': None}\n",
      "2nd/3rd c. AD {'or': None, 'not_before': 101, 'not_after': 300, 'date_tags': ['range', 'cent', 'morece'], 'certainty': None, 'link': None}\n",
      "2nd/3rd c. AD  {'or': None, 'not_before': 101, 'not_after': 300, 'date_tags': ['range', 'cent', 'morece'], 'certainty': None, 'link': None}\n"
     ]
    }
   ],
   "source": [
    "test_list = PHI_by_500[\"raw_date\"].tolist()\n",
    "for datation in test_list:\n",
    "  print(datation, date_extractor(datation))"
   ]
  },
  {
   "cell_type": "code",
   "execution_count": 77,
   "metadata": {
    "colab": {},
    "colab_type": "code",
    "id": "a3eNW_GHSbNA"
   },
   "outputs": [],
   "source": [
    "PHI_list_of_dict = []\n",
    "for inscription_date_tuple in list(zip(PHI_by_500[\"PHI_ID\"].tolist(), PHI_by_500[\"tildeinfo\"].tolist(),  PHI_by_500[\"raw_date\"].tolist())):\n",
    "  dating = date_extractor(inscription_date_tuple[2])\n",
    "  data_dict = {\"PHI_ID\": inscription_date_tuple[0], \"tildeinfo\" : inscription_date_tuple[1], \"raw_date\" : inscription_date_tuple[2]}\n",
    "  data_dict.update(dating)\n",
    "  PHI_list_of_dict.append(data_dict)"
   ]
  },
  {
   "cell_type": "code",
   "execution_count": 78,
   "metadata": {
    "colab": {
     "base_uri": "https://localhost:8080/",
     "height": 204
    },
    "colab_type": "code",
    "id": "yrLrFl8ZT9cw",
    "outputId": "85fb15d5-8450-426c-def9-e565b07b4c21"
   },
   "outputs": [
    {
     "data": {
      "text/html": [
       "<div>\n",
       "<style scoped>\n",
       "    .dataframe tbody tr th:only-of-type {\n",
       "        vertical-align: middle;\n",
       "    }\n",
       "\n",
       "    .dataframe tbody tr th {\n",
       "        vertical-align: top;\n",
       "    }\n",
       "\n",
       "    .dataframe thead th {\n",
       "        text-align: right;\n",
       "    }\n",
       "</style>\n",
       "<table border=\"1\" class=\"dataframe\">\n",
       "  <thead>\n",
       "    <tr style=\"text-align: right;\">\n",
       "      <th></th>\n",
       "      <th>PHI_ID</th>\n",
       "      <th>tildeinfo</th>\n",
       "      <th>raw_date</th>\n",
       "      <th>or</th>\n",
       "      <th>not_before</th>\n",
       "      <th>not_after</th>\n",
       "      <th>date_tags</th>\n",
       "      <th>certainty</th>\n",
       "      <th>link</th>\n",
       "      <th>source</th>\n",
       "      <th>notes</th>\n",
       "    </tr>\n",
       "  </thead>\n",
       "  <tbody>\n",
       "    <tr>\n",
       "      <th>0</th>\n",
       "      <td>1</td>\n",
       "      <td>Att. — Ath.: Akr. — stoich. 35 — c. 510-500 a....</td>\n",
       "      <td>c. 510-500 a.</td>\n",
       "      <td>None</td>\n",
       "      <td>-511.0</td>\n",
       "      <td>-499.0</td>\n",
       "      <td>[range, phase, ca]</td>\n",
       "      <td>None</td>\n",
       "      <td>None</td>\n",
       "      <td>NaN</td>\n",
       "      <td>NaN</td>\n",
       "    </tr>\n",
       "    <tr>\n",
       "      <th>1</th>\n",
       "      <td>501</td>\n",
       "      <td>Att. — stoich. — s. V a.</td>\n",
       "      <td>s. V a.</td>\n",
       "      <td>None</td>\n",
       "      <td>-500.0</td>\n",
       "      <td>-401.0</td>\n",
       "      <td>[range, cent]</td>\n",
       "      <td>None</td>\n",
       "      <td>None</td>\n",
       "      <td>NaN</td>\n",
       "      <td>NaN</td>\n",
       "    </tr>\n",
       "    <tr>\n",
       "      <th>2</th>\n",
       "      <td>1001</td>\n",
       "      <td>Att. — Athens: Akropolis — c. 440? a. — IG I² ...</td>\n",
       "      <td>c. 440? a.</td>\n",
       "      <td>None</td>\n",
       "      <td>-445.0</td>\n",
       "      <td>-435.0</td>\n",
       "      <td>[exact, phase, ca]</td>\n",
       "      <td>?</td>\n",
       "      <td>None</td>\n",
       "      <td>NaN</td>\n",
       "      <td>NaN</td>\n",
       "    </tr>\n",
       "    <tr>\n",
       "      <th>3</th>\n",
       "      <td>1501</td>\n",
       "      <td>Att. — Salamis: Koulouri — c. 420-410? a. — IG...</td>\n",
       "      <td>c. 420-410? a.</td>\n",
       "      <td>None</td>\n",
       "      <td>-421.0</td>\n",
       "      <td>-409.0</td>\n",
       "      <td>[range, phase, ca]</td>\n",
       "      <td>?</td>\n",
       "      <td>None</td>\n",
       "      <td>NaN</td>\n",
       "      <td>NaN</td>\n",
       "    </tr>\n",
       "    <tr>\n",
       "      <th>4</th>\n",
       "      <td>2501</td>\n",
       "      <td>Att. — stoich. 28 — ante 336/5</td>\n",
       "      <td>ante 336/5</td>\n",
       "      <td>None</td>\n",
       "      <td>NaN</td>\n",
       "      <td>-337.0</td>\n",
       "      <td>[range, ante]</td>\n",
       "      <td>None</td>\n",
       "      <td>None</td>\n",
       "      <td>NaN</td>\n",
       "      <td>NaN</td>\n",
       "    </tr>\n",
       "  </tbody>\n",
       "</table>\n",
       "</div>"
      ],
      "text/plain": [
       "   PHI_ID                                          tildeinfo         raw_date  \\\n",
       "0       1  Att. — Ath.: Akr. — stoich. 35 — c. 510-500 a....   c. 510-500 a.    \n",
       "1     501                           Att. — stoich. — s. V a.          s. V a.   \n",
       "2    1001  Att. — Athens: Akropolis — c. 440? a. — IG I² ...      c. 440? a.    \n",
       "3    1501  Att. — Salamis: Koulouri — c. 420-410? a. — IG...  c. 420-410? a.    \n",
       "4    2501                     Att. — stoich. 28 — ante 336/5       ante 336/5   \n",
       "\n",
       "     or  not_before  not_after           date_tags certainty  link source  \\\n",
       "0  None      -511.0     -499.0  [range, phase, ca]      None  None    NaN   \n",
       "1  None      -500.0     -401.0       [range, cent]      None  None    NaN   \n",
       "2  None      -445.0     -435.0  [exact, phase, ca]         ?  None    NaN   \n",
       "3  None      -421.0     -409.0  [range, phase, ca]         ?  None    NaN   \n",
       "4  None         NaN     -337.0       [range, ante]      None  None    NaN   \n",
       "\n",
       "  notes  \n",
       "0   NaN  \n",
       "1   NaN  \n",
       "2   NaN  \n",
       "3   NaN  \n",
       "4   NaN  "
      ]
     },
     "execution_count": 78,
     "metadata": {},
     "output_type": "execute_result"
    }
   ],
   "source": [
    "PHI_by_500_dates_v9 = pd.DataFrame(PHI_list_of_dict)\n",
    "PHI_by_500_dates_v9.head(5)"
   ]
  },
  {
   "cell_type": "code",
   "execution_count": 79,
   "metadata": {
    "colab": {
     "base_uri": "https://localhost:8080/",
     "height": 68
    },
    "colab_type": "code",
    "id": "giPKMRLNVm5H",
    "outputId": "af5f3679-03ef-4954-eb07-f603272b9026"
   },
   "outputs": [
    {
     "data": {
      "text/plain": [
       "Index(['PHI_ID', 'tildeinfo', 'raw_date', 'or', 'not_before', 'not_after',\n",
       "       'date_tags', 'certainty', 'link', 'source', 'notes'],\n",
       "      dtype='object')"
      ]
     },
     "execution_count": 79,
     "metadata": {},
     "output_type": "execute_result"
    }
   ],
   "source": [
    "PHI_by_500_dates_v9.columns"
   ]
  },
  {
   "cell_type": "code",
   "execution_count": 80,
   "metadata": {
    "colab": {},
    "colab_type": "code",
    "id": "Oj4KrYLOVlF8"
   },
   "outputs": [],
   "source": [
    "PHI_by_500_dates_v9 = PHI_by_500_dates_v9[['PHI_ID', 'tildeinfo', 'raw_date', 'not_before', 'not_after', 'certainty', 'or',\n",
    "       'date_tags', 'source', 'notes', 'link']]"
   ]
  },
  {
   "cell_type": "code",
   "execution_count": 81,
   "metadata": {
    "colab": {},
    "colab_type": "code",
    "id": "e16RPHQAVFQc"
   },
   "outputs": [],
   "source": [
    "#set_with_dataframe(PHI_overview.add_worksheet(\"PHI_by_500_dates_v9\", 1,1), PHI_by_500_dates_v9)"
   ]
  },
  {
   "cell_type": "markdown",
   "metadata": {
    "colab_type": "text",
    "id": "B3t50nBgWLXV"
   },
   "source": [
    "# Test with sample 2 (by 200)"
   ]
  },
  {
   "cell_type": "code",
   "execution_count": 82,
   "metadata": {
    "colab": {
     "base_uri": "https://localhost:8080/",
     "height": 615
    },
    "colab_type": "code",
    "id": "6tvrW6mtWQDs",
    "outputId": "2b231e92-8513-49eb-9338-bb9c312c2631"
   },
   "outputs": [
    {
     "data": {
      "text/html": [
       "<div>\n",
       "<style scoped>\n",
       "    .dataframe tbody tr th:only-of-type {\n",
       "        vertical-align: middle;\n",
       "    }\n",
       "\n",
       "    .dataframe tbody tr th {\n",
       "        vertical-align: top;\n",
       "    }\n",
       "\n",
       "    .dataframe thead th {\n",
       "        text-align: right;\n",
       "    }\n",
       "</style>\n",
       "<table border=\"1\" class=\"dataframe\">\n",
       "  <thead>\n",
       "    <tr style=\"text-align: right;\">\n",
       "      <th></th>\n",
       "      <th>URL</th>\n",
       "      <th>Book</th>\n",
       "      <th>Text</th>\n",
       "      <th>hdr1</th>\n",
       "      <th>hdr2</th>\n",
       "      <th>tildeinfo</th>\n",
       "      <th>note</th>\n",
       "      <th>lines</th>\n",
       "      <th>metadata</th>\n",
       "      <th>data</th>\n",
       "      <th>...</th>\n",
       "      <th>string_pythia</th>\n",
       "      <th>clean_text_conservative</th>\n",
       "      <th>clean_text_interpretive_word</th>\n",
       "      <th>clean_text_interpretive_sentence</th>\n",
       "      <th>clean_text_pythia</th>\n",
       "      <th>sents</th>\n",
       "      <th>sents_N</th>\n",
       "      <th>lem_sents</th>\n",
       "      <th>lemmata</th>\n",
       "      <th>raw_date</th>\n",
       "    </tr>\n",
       "  </thead>\n",
       "  <tbody>\n",
       "    <tr>\n",
       "      <th>199</th>\n",
       "      <td>/text/200?location=1701&amp;patt=&amp;bookid=4&amp;offset=...</td>\n",
       "      <td>IG I³</td>\n",
       "      <td>193</td>\n",
       "      <td>Regions\\nAttica (IG I-III)</td>\n",
       "      <td>IG I³\\n193</td>\n",
       "      <td>Att. — stoich. 39? — 450-435</td>\n",
       "      <td></td>\n",
       "      <td>7</td>\n",
       "      <td>\\n1\\n\\n\\n\\n5\\n</td>\n",
       "      <td>— — — — — — — — — — — — — — — — — — — — — — —\\...</td>\n",
       "      <td>...</td>\n",
       "      <td>----------------------- [----------------]ονδε...</td>\n",
       "      <td>ονδε Λ ταῦτα μ ℎο γραμματεὺτο ἐμ πόλει δὲ κολα...</td>\n",
       "      <td>ονδε Λ ταῦτα μ ἀναγραφσάτο ℎο γραμματεὺς ℎο τε...</td>\n",
       "      <td>ονδε Λ ταῦτα μ ․ ἀναγραφσάτο ℎο γραμματεὺς ℎο ...</td>\n",
       "      <td>ονδε λ ταῦτα μ ἀναγραφσάτο ὁ γραμματεὺς ὁ τες ...</td>\n",
       "      <td>[ονδε λ ταῦτα μ ἀναγραφσάτο ὁ γραμματεὺς ὁ τες...</td>\n",
       "      <td>2</td>\n",
       "      <td>[[ονδε, οὗτος, ἀναγραφσάτο, γραμματεύς, τες, β...</td>\n",
       "      <td>[ονδε, οὗτος, ἀναγραφσάτο, γραμματεύς, τες, βο...</td>\n",
       "      <td>450-435</td>\n",
       "    </tr>\n",
       "    <tr>\n",
       "      <th>399</th>\n",
       "      <td>/text/400?location=1701&amp;patt=&amp;bookid=4&amp;offset=...</td>\n",
       "      <td>IG I³</td>\n",
       "      <td>388</td>\n",
       "      <td>Regions\\nAttica (IG I-III)</td>\n",
       "      <td>IG I³\\n388</td>\n",
       "      <td>Att. — stoich. — 420-405 a.</td>\n",
       "      <td></td>\n",
       "      <td>17</td>\n",
       "      <td>\\n1\\n\\n\\n\\n5\\n\\n\\n\\n\\n10\\n\\n\\n\\n\\n15\\n</td>\n",
       "      <td>— — — — — — — — — — — —\\n— — — — Ι̣#⁷ — — — — ...</td>\n",
       "      <td>...</td>\n",
       "      <td>---------------- ι --------------- 0 χρυ[σίς σ...</td>\n",
       "      <td>Ι ΙΙ χρυ οἰνοχ οἰνοχόε χρυσίο σ Κυζικενό ℎέκτα...</td>\n",
       "      <td>Ι ΙΙ χρυσίς σταθμὸν ταύτες Η Δ οἰνοχόε ἀργυρᾶ ...</td>\n",
       "      <td>Ι ΙΙ χρυσίς σταθμὸν ταύτες Η Δ οἰνοχόε ἀργυρᾶ ...</td>\n",
       "      <td>ι χρυσίς σταθμὸν ταύτες οἰνοχόε ἀργυρᾶ σταθμόν...</td>\n",
       "      <td>[ι χρυσίς σταθμὸν ταύτες οἰνοχόε ἀργυρᾶ σταθμό...</td>\n",
       "      <td>1</td>\n",
       "      <td>[[χρυσίς, σταθμόν, ταύτες, οἰνοχόε, ἀργύρεος, ...</td>\n",
       "      <td>[χρυσίς, σταθμόν, ταύτες, οἰνοχόε, ἀργύρεος, σ...</td>\n",
       "      <td>420-405 a.</td>\n",
       "    </tr>\n",
       "    <tr>\n",
       "      <th>599</th>\n",
       "      <td>/text/600?location=1701&amp;patt=&amp;bookid=4&amp;offset=...</td>\n",
       "      <td>IG I³</td>\n",
       "      <td>564</td>\n",
       "      <td>Regions\\nAttica (IG I-III)</td>\n",
       "      <td>IG I³\\n564</td>\n",
       "      <td>Att. — Athens: Akropolis — c. 500-475? a. — IG...</td>\n",
       "      <td></td>\n",
       "      <td>1</td>\n",
       "      <td>1</td>\n",
       "      <td>Ἐπιγέν[ες — — —].</td>\n",
       "      <td>...</td>\n",
       "      <td>Ἐπιγέν[ες — — —].</td>\n",
       "      <td>Ἐπιγέν</td>\n",
       "      <td>Ἐπιγένες</td>\n",
       "      <td>Ἐπιγένες .</td>\n",
       "      <td>Ἐπιγένες .</td>\n",
       "      <td>[Ἐπιγένες .]</td>\n",
       "      <td>1</td>\n",
       "      <td>[[ἐπιγένες]]</td>\n",
       "      <td>[ἐπιγένες]</td>\n",
       "      <td>c. 500-475? a.</td>\n",
       "    </tr>\n",
       "    <tr>\n",
       "      <th>799</th>\n",
       "      <td>/text/800?location=1701&amp;patt=&amp;bookid=4&amp;offset=...</td>\n",
       "      <td>IG I³</td>\n",
       "      <td>703</td>\n",
       "      <td>Regions\\nAttica (IG I-III)</td>\n",
       "      <td>IG I³\\n703</td>\n",
       "      <td>Att. — Athens: Akropolis — c. 500-480? a. — IG...</td>\n",
       "      <td></td>\n",
       "      <td>2</td>\n",
       "      <td>1\\n</td>\n",
       "      <td>[ἄρ]γ̣ματα Θότιμ— — — ἀνέθ[εκε — — —] /\\n—2-3—...</td>\n",
       "      <td>...</td>\n",
       "      <td>[ἄρ]γ̣ματα Θότιμ— — — ἀνέθ[εκε — — —] /\\n—2-3—...</td>\n",
       "      <td>γματα Θότιμ ἀνέθ ενο τεσε</td>\n",
       "      <td>ἄργματα Θότιμ ἀνέθεκε ενο τεσε</td>\n",
       "      <td>ἄργματα Θότιμ ἀνέθεκε ενο τεσε .</td>\n",
       "      <td>ἄργματα Θότιμ ἀνέθεκε ενο τεσε .</td>\n",
       "      <td>[ἄργματα Θότιμ ἀνέθεκε ενο τεσε .]</td>\n",
       "      <td>1</td>\n",
       "      <td>[[ἄργμα, θότιμ, ἀνέθεκε, ενο, τεσε]]</td>\n",
       "      <td>[ἄργμα, θότιμ, ἀνέθεκε, ενο, τεσε]</td>\n",
       "      <td>c. 500-480? a.</td>\n",
       "    </tr>\n",
       "    <tr>\n",
       "      <th>999</th>\n",
       "      <td>/text/1000?location=1701&amp;patt=&amp;bookid=4&amp;offset...</td>\n",
       "      <td>IG I³</td>\n",
       "      <td>885</td>\n",
       "      <td>Regions\\nAttica (IG I-III)</td>\n",
       "      <td>IG I³\\n885</td>\n",
       "      <td>Att. — Athens: Akropolis — c. 440? a. — IG I² ...</td>\n",
       "      <td></td>\n",
       "      <td>3</td>\n",
       "      <td>1\\n\\n</td>\n",
       "      <td>[τόνδε Πυρε͂]ς ἀνέθεκε Πολυμνέστ̣ο φίλο[ς ℎυιὸ...</td>\n",
       "      <td>...</td>\n",
       "      <td>[τόνδε Πυρε͂]ς ἀνέθεκε Πολυμνέστ̣ο φίλο[ς ℎυιὸ...</td>\n",
       "      <td>ς ἀνέθεκε Πολυμνέστο φίλο εὐξάμενος δεκάτεν Πα...</td>\n",
       "      <td>τόνδε Πυρε͂ς ἀνέθεκε Πολυμνέστο φίλος ℎυιὸς εὐ...</td>\n",
       "      <td>τόνδε Πυρε͂ς ἀνέθεκε Πολυμνέστο φίλος ℎυιὸς εὐ...</td>\n",
       "      <td>τόνδε Πυρε͂ς ἀνέθεκε Πολυμνέστο φίλος ℎυιὸς εὐ...</td>\n",
       "      <td>[τόνδε Πυρες ἀνέθεκε Πολυμνέστο φίλος ℎυιὸς εὐ...</td>\n",
       "      <td>2</td>\n",
       "      <td>[[ὅδε, πυρες, ἀνέθεκε, πολυμνέστο, φίλος, ℎυιὸ...</td>\n",
       "      <td>[ὅδε, πυρες, ἀνέθεκε, πολυμνέστο, φίλος, ℎυιὸς...</td>\n",
       "      <td>c. 440? a.</td>\n",
       "    </tr>\n",
       "  </tbody>\n",
       "</table>\n",
       "<p>5 rows × 22 columns</p>\n",
       "</div>"
      ],
      "text/plain": [
       "                                                   URL   Book Text  \\\n",
       "199  /text/200?location=1701&patt=&bookid=4&offset=...  IG I³  193   \n",
       "399  /text/400?location=1701&patt=&bookid=4&offset=...  IG I³  388   \n",
       "599  /text/600?location=1701&patt=&bookid=4&offset=...  IG I³  564   \n",
       "799  /text/800?location=1701&patt=&bookid=4&offset=...  IG I³  703   \n",
       "999  /text/1000?location=1701&patt=&bookid=4&offset...  IG I³  885   \n",
       "\n",
       "                           hdr1        hdr2  \\\n",
       "199  Regions\\nAttica (IG I-III)  IG I³\\n193   \n",
       "399  Regions\\nAttica (IG I-III)  IG I³\\n388   \n",
       "599  Regions\\nAttica (IG I-III)  IG I³\\n564   \n",
       "799  Regions\\nAttica (IG I-III)  IG I³\\n703   \n",
       "999  Regions\\nAttica (IG I-III)  IG I³\\n885   \n",
       "\n",
       "                                             tildeinfo note  lines  \\\n",
       "199                       Att. — stoich. 39? — 450-435           7   \n",
       "399                        Att. — stoich. — 420-405 a.          17   \n",
       "599  Att. — Athens: Akropolis — c. 500-475? a. — IG...           1   \n",
       "799  Att. — Athens: Akropolis — c. 500-480? a. — IG...           2   \n",
       "999  Att. — Athens: Akropolis — c. 440? a. — IG I² ...           3   \n",
       "\n",
       "                                   metadata  \\\n",
       "199                          \\n1\\n\\n\\n\\n5\\n   \n",
       "399  \\n1\\n\\n\\n\\n5\\n\\n\\n\\n\\n10\\n\\n\\n\\n\\n15\\n   \n",
       "599                                       1   \n",
       "799                                     1\\n   \n",
       "999                                   1\\n\\n   \n",
       "\n",
       "                                                  data  ...  \\\n",
       "199  — — — — — — — — — — — — — — — — — — — — — — —\\...  ...   \n",
       "399  — — — — — — — — — — — —\\n— — — — Ι̣#⁷ — — — — ...  ...   \n",
       "599                                  Ἐπιγέν[ες — — —].  ...   \n",
       "799  [ἄρ]γ̣ματα Θότιμ— — — ἀνέθ[εκε — — —] /\\n—2-3—...  ...   \n",
       "999  [τόνδε Πυρε͂]ς ἀνέθεκε Πολυμνέστ̣ο φίλο[ς ℎυιὸ...  ...   \n",
       "\n",
       "                                         string_pythia  \\\n",
       "199  ----------------------- [----------------]ονδε...   \n",
       "399  ---------------- ι --------------- 0 χρυ[σίς σ...   \n",
       "599                                  Ἐπιγέν[ες — — —].   \n",
       "799  [ἄρ]γ̣ματα Θότιμ— — — ἀνέθ[εκε — — —] /\\n—2-3—...   \n",
       "999  [τόνδε Πυρε͂]ς ἀνέθεκε Πολυμνέστ̣ο φίλο[ς ℎυιὸ...   \n",
       "\n",
       "                               clean_text_conservative  \\\n",
       "199  ονδε Λ ταῦτα μ ℎο γραμματεὺτο ἐμ πόλει δὲ κολα...   \n",
       "399  Ι ΙΙ χρυ οἰνοχ οἰνοχόε χρυσίο σ Κυζικενό ℎέκτα...   \n",
       "599                                             Ἐπιγέν   \n",
       "799                          γματα Θότιμ ἀνέθ ενο τεσε   \n",
       "999  ς ἀνέθεκε Πολυμνέστο φίλο εὐξάμενος δεκάτεν Πα...   \n",
       "\n",
       "                          clean_text_interpretive_word  \\\n",
       "199  ονδε Λ ταῦτα μ ἀναγραφσάτο ℎο γραμματεὺς ℎο τε...   \n",
       "399  Ι ΙΙ χρυσίς σταθμὸν ταύτες Η Δ οἰνοχόε ἀργυρᾶ ...   \n",
       "599                                           Ἐπιγένες   \n",
       "799                     ἄργματα Θότιμ ἀνέθεκε ενο τεσε   \n",
       "999  τόνδε Πυρε͂ς ἀνέθεκε Πολυμνέστο φίλος ℎυιὸς εὐ...   \n",
       "\n",
       "                      clean_text_interpretive_sentence  \\\n",
       "199  ονδε Λ ταῦτα μ ․ ἀναγραφσάτο ℎο γραμματεὺς ℎο ...   \n",
       "399  Ι ΙΙ χρυσίς σταθμὸν ταύτες Η Δ οἰνοχόε ἀργυρᾶ ...   \n",
       "599                                         Ἐπιγένες .   \n",
       "799                   ἄργματα Θότιμ ἀνέθεκε ενο τεσε .   \n",
       "999  τόνδε Πυρε͂ς ἀνέθεκε Πολυμνέστο φίλος ℎυιὸς εὐ...   \n",
       "\n",
       "                                     clean_text_pythia  \\\n",
       "199  ονδε λ ταῦτα μ ἀναγραφσάτο ὁ γραμματεὺς ὁ τες ...   \n",
       "399  ι χρυσίς σταθμὸν ταύτες οἰνοχόε ἀργυρᾶ σταθμόν...   \n",
       "599                                         Ἐπιγένες .   \n",
       "799                   ἄργματα Θότιμ ἀνέθεκε ενο τεσε .   \n",
       "999  τόνδε Πυρε͂ς ἀνέθεκε Πολυμνέστο φίλος ℎυιὸς εὐ...   \n",
       "\n",
       "                                                 sents sents_N  \\\n",
       "199  [ονδε λ ταῦτα μ ἀναγραφσάτο ὁ γραμματεὺς ὁ τες...       2   \n",
       "399  [ι χρυσίς σταθμὸν ταύτες οἰνοχόε ἀργυρᾶ σταθμό...       1   \n",
       "599                                       [Ἐπιγένες .]       1   \n",
       "799                 [ἄργματα Θότιμ ἀνέθεκε ενο τεσε .]       1   \n",
       "999  [τόνδε Πυρες ἀνέθεκε Πολυμνέστο φίλος ℎυιὸς εὐ...       2   \n",
       "\n",
       "                                             lem_sents  \\\n",
       "199  [[ονδε, οὗτος, ἀναγραφσάτο, γραμματεύς, τες, β...   \n",
       "399  [[χρυσίς, σταθμόν, ταύτες, οἰνοχόε, ἀργύρεος, ...   \n",
       "599                                       [[ἐπιγένες]]   \n",
       "799               [[ἄργμα, θότιμ, ἀνέθεκε, ενο, τεσε]]   \n",
       "999  [[ὅδε, πυρες, ἀνέθεκε, πολυμνέστο, φίλος, ℎυιὸ...   \n",
       "\n",
       "                                               lemmata         raw_date  \n",
       "199  [ονδε, οὗτος, ἀναγραφσάτο, γραμματεύς, τες, βο...          450-435  \n",
       "399  [χρυσίς, σταθμόν, ταύτες, οἰνοχόε, ἀργύρεος, σ...       420-405 a.  \n",
       "599                                         [ἐπιγένες]  c. 500-475? a.   \n",
       "799                 [ἄργμα, θότιμ, ἀνέθεκε, ενο, τεσε]  c. 500-480? a.   \n",
       "999  [ὅδε, πυρες, ἀνέθεκε, πολυμνέστο, φίλος, ℎυιὸς...      c. 440? a.   \n",
       "\n",
       "[5 rows x 22 columns]"
      ]
     },
     "execution_count": 82,
     "metadata": {},
     "output_type": "execute_result"
    }
   ],
   "source": [
    "# generate sample for testing purposes:\n",
    "PHI_by_200 = PHI[PHI[\"PHI_ID\"].isin(range(0, 300000, 200))]\n",
    "PHI_by_200.head(5)"
   ]
  },
  {
   "cell_type": "code",
   "execution_count": 83,
   "metadata": {
    "colab": {
     "base_uri": "https://localhost:8080/",
     "height": 119
    },
    "colab_type": "code",
    "id": "Zh0_dnOFPc_i",
    "outputId": "bd591ae0-b2b0-4674-bc31-4df303e9b9b3"
   },
   "outputs": [
    {
     "data": {
      "text/plain": [
       "{'or': None,\n",
       " 'not_before': -455,\n",
       " 'not_after': -445,\n",
       " 'date_tags': ['exact', 'phase', 'ca'],\n",
       " 'certainty': None,\n",
       " 'link': None}"
      ]
     },
     "execution_count": 83,
     "metadata": {},
     "output_type": "execute_result"
    }
   ],
   "source": [
    "date_extractor(\"c. 450 a. \")"
   ]
  },
  {
   "cell_type": "code",
   "execution_count": 84,
   "metadata": {
    "colab": {
     "base_uri": "https://localhost:8080/",
     "height": 887
    },
    "colab_type": "code",
    "id": "0aMlfDwRMdUk",
    "outputId": "8689de38-7369-4b2b-f001-d26f4d599e6b"
   },
   "outputs": [
    {
     "name": "stdout",
     "output_type": "stream",
     "text": [
      "450-435 {'or': None, 'not_before': -450, 'not_after': -435, 'date_tags': ['range'], 'certainty': None, 'link': None}\n",
      "420-405 a. {'or': None, 'not_before': -420, 'not_after': -405, 'date_tags': ['range'], 'certainty': None, 'link': None}\n",
      "c. 500-475? a.  {'or': None, 'certainty': '?', 'not_before': -502, 'not_after': -473, 'date_tags': ['range', 'phase', 'ca'], 'link': None}\n",
      "c. 500-480? a.  {'or': None, 'certainty': '?', 'not_before': -502, 'not_after': -478, 'date_tags': ['range', 'phase', 'ca'], 'link': None}\n",
      "c. 440? a.  {'or': None, 'certainty': '?', 'not_before': -445, 'not_after': -435, 'date_tags': ['exact', 'phase', 'ca'], 'link': None}\n",
      "c. 450 a.  {'or': None, 'not_before': -455, 'not_after': -445, 'date_tags': ['exact', 'phase', 'ca'], 'certainty': None, 'link': None}\n",
      "SEG 22.73,adn. {'or': None, 'not_before': None, 'not_after': None, 'date_tags': ['unknown'], 'certainty': None, 'link': None}\n",
      "c. 525 a.  {'or': None, 'not_before': -530, 'not_after': -520, 'date_tags': ['exact', 'phase', 'ca'], 'certainty': None, 'link': None}\n",
      "[ostrakon] {'or': None, 'not_before': None, 'not_after': None, 'date_tags': ['unknown'], 'certainty': None, 'link': None}\n",
      "IG II² 182 Add. (pt. 1.2 p. 658) {'or': None, 'not_before': None, 'not_after': None, 'date_tags': ['unknown'], 'certainty': None, 'link': None}\n",
      "320/19 {'or': None, 'not_before': -320, 'not_after': -319, 'date_tags': ['range'], 'certainty': None, 'link': None}\n",
      "fin. s. IV a. {'or': None, 'not_before': -311, 'not_after': -301, 'date_tags': ['range', 'cent', 'phase', 'end'], 'certainty': None, 'link': None}\n",
      "c. 244/3 {'or': None, 'not_before': -244, 'not_after': -243, 'date_tags': ['range', 'phase', 'ca'], 'certainty': None, 'link': None}\n",
      "med. s. II a. {'or': None, 'not_before': -155, 'not_after': -146, 'date_tags': ['range', 'cent', 'phase', 'middle'], 'certainty': None, 'link': None}\n",
      "med. s. IV a. {'or': None, 'not_before': -355, 'not_after': -346, 'date_tags': ['range', 'cent', 'phase', 'middle'], 'certainty': None, 'link': None}\n",
      "c. 400 a. {'or': None, 'not_before': -405, 'not_after': -395, 'date_tags': ['exact', 'phase', 'ca'], 'certainty': None, 'link': None}\n",
      "p. post 348/7 a. {'or': None, 'not_before': -346, 'not_after': None, 'date_tags': ['range', 'post'], 'certainty': None, 'link': None}\n",
      "166/7 {'or': None, 'not_before': 166, 'not_after': 167, 'date_tags': ['range'], 'certainty': None, 'link': None}\n",
      "fin. s. I a. {'or': None, 'not_before': -11, 'not_after': -1, 'date_tags': ['range', 'cent', 'phase', 'end'], 'certainty': None, 'link': None}\n",
      "s. II p. {'or': None, 'not_before': 101, 'not_after': 200, 'date_tags': ['range', 'cent'], 'certainty': None, 'link': None}\n",
      "c. 400 a. {'or': None, 'not_before': -405, 'not_after': -395, 'date_tags': ['exact', 'phase', 'ca'], 'certainty': None, 'link': None}\n",
      "Att. {'or': None, 'not_before': None, 'not_after': None, 'date_tags': ['unknown'], 'certainty': None, 'link': None}\n",
      "Att. {'or': None, 'not_before': None, 'not_after': None, 'date_tags': ['unknown'], 'certainty': None, 'link': None}\n",
      "s. III a.  {'or': None, 'not_before': -300, 'not_after': -201, 'date_tags': ['range', 'cent'], 'certainty': None, 'link': None}\n",
      "s. IV a.? {'or': None, 'certainty': '?', 'not_before': -400, 'not_after': -301, 'date_tags': ['range', 'cent'], 'link': None}\n",
      "c. 132 p. {'or': None, 'not_before': 127, 'not_after': 137, 'date_tags': ['exact', 'phase', 'ca'], 'certainty': None, 'link': None}\n",
      "init. s. I p. {'or': None, 'not_before': 1, 'not_after': 11, 'date_tags': ['range', 'cent', 'phase', 'beg'], 'certainty': None, 'link': None}\n",
      "s. IV p. {'or': None, 'not_before': 301, 'not_after': 400, 'date_tags': ['range', 'cent'], 'certainty': None, 'link': None}\n",
      "init. s. I p. {'or': None, 'not_before': 1, 'not_after': 11, 'date_tags': ['range', 'cent', 'phase', 'beg'], 'certainty': None, 'link': None}\n",
      "34 a.ut 33 a. {'or': None, 'not_before': -34, 'not_after': -34, 'date_tags': ['exact'], 'certainty': None, 'link': None}\n",
      "s. II/III p. {'or': None, 'not_before': 101, 'not_after': 300, 'date_tags': ['range', 'cent', 'morece'], 'certainty': None, 'link': None}\n",
      "s. I/II p. {'or': None, 'not_before': 1, 'not_after': 200, 'date_tags': ['range', 'cent', 'morece'], 'certainty': None, 'link': None}\n",
      "init. s. I a. {'or': None, 'not_before': -100, 'not_after': -90, 'date_tags': ['range', 'cent', 'phase', 'beg'], 'certainty': None, 'link': None}\n",
      "med. s. IV a. {'or': None, 'not_before': -355, 'not_after': -346, 'date_tags': ['range', 'cent', 'phase', 'middle'], 'certainty': None, 'link': None}\n",
      "c. 37 p.? {'or': None, 'certainty': '?', 'not_before': None, 'not_after': None, 'date_tags': ['unknown', 'phase', 'ca'], 'link': None}\n",
      "Att. {'or': None, 'not_before': None, 'not_after': None, 'date_tags': ['unknown'], 'certainty': None, 'link': None}\n",
      "s. I p.? {'or': None, 'certainty': '?', 'not_before': -100, 'not_after': -1, 'date_tags': ['range', 'cent'], 'link': None}\n",
      "s. III a. {'or': None, 'not_before': -300, 'not_after': -201, 'date_tags': ['range', 'cent'], 'certainty': None, 'link': None}\n",
      "aet. Rom. {'or': None, 'source': nan, 'notes': nan, 'link': nan, 'not_before': -146, 'not_after': 324, 'date_tags': ['range', 'period'], 'certainty': None}\n",
      "init. s. I p. {'or': None, 'not_before': 1, 'not_after': 11, 'date_tags': ['range', 'cent', 'phase', 'beg'], 'certainty': None, 'link': None}\n",
      "med. s. IV a. {'or': None, 'not_before': -355, 'not_after': -346, 'date_tags': ['range', 'cent', 'phase', 'middle'], 'certainty': None, 'link': None}\n",
      "post med. s. IV a. {'or': None, 'not_before': -345, 'not_after': None, 'date_tags': ['range', 'cent', 'phase', 'middle', 'post'], 'certainty': None, 'link': None}\n",
      "s. I a. {'or': None, 'not_before': -100, 'not_after': -1, 'date_tags': ['range', 'cent'], 'certainty': None, 'link': None}\n",
      "Att. {'or': None, 'not_before': None, 'not_after': None, 'date_tags': ['unknown'], 'certainty': None, 'link': None}\n",
      "aet. Rom. {'or': None, 'source': nan, 'notes': nan, 'link': nan, 'not_before': -146, 'not_after': 324, 'date_tags': ['range', 'period'], 'certainty': None}\n",
      "c. 360 a. {'or': None, 'not_before': -365, 'not_after': -355, 'date_tags': ['exact', 'phase', 'ca'], 'certainty': None, 'link': None}\n",
      "s. III a.  {'or': None, 'not_before': -300, 'not_after': -201, 'date_tags': ['range', 'cent'], 'certainty': None, 'link': None}\n",
      "Att. {'or': None, 'not_before': None, 'not_after': None, 'date_tags': ['unknown'], 'certainty': None, 'link': None}\n",
      "Att. {'or': None, 'not_before': None, 'not_after': None, 'date_tags': ['unknown'], 'certainty': None, 'link': None}\n",
      "post fin. s. IV a.  {'or': None, 'not_before': -300, 'not_after': None, 'date_tags': ['range', 'cent', 'phase', 'end', 'post'], 'certainty': None, 'link': None}\n"
     ]
    }
   ],
   "source": [
    "for datation in PHI_by_200[\"raw_date\"].tolist()[:50]:\n",
    "  print(datation, date_extractor(datation))"
   ]
  },
  {
   "cell_type": "code",
   "execution_count": 85,
   "metadata": {
    "colab": {
     "base_uri": "https://localhost:8080/",
     "height": 139
    },
    "colab_type": "code",
    "id": "cmd4qGjmW9_D",
    "outputId": "d14d61ad-f2db-466f-b806-8f21e5f99529"
   },
   "outputs": [
    {
     "name": "stderr",
     "output_type": "stream",
     "text": [
      "/home/kasev/.local/lib/python3.6/site-packages/ipykernel_launcher.py:1: SettingWithCopyWarning:\n",
      "\n",
      "\n",
      "A value is trying to be set on a copy of a slice from a DataFrame.\n",
      "Try using .loc[row_indexer,col_indexer] = value instead\n",
      "\n",
      "See the caveats in the documentation: https://pandas.pydata.org/pandas-docs/stable/user_guide/indexing.html#returning-a-view-versus-a-copy\n",
      "\n"
     ]
    }
   ],
   "source": [
    "PHI_by_200[\"dating_dict\"] = PHI_by_200.apply(lambda row: date_extractor(row[\"raw_date\"]), axis=1)"
   ]
  },
  {
   "cell_type": "code",
   "execution_count": 86,
   "metadata": {
    "colab": {
     "base_uri": "https://localhost:8080/",
     "height": 615
    },
    "colab_type": "code",
    "id": "N1uBF2riWkSE",
    "outputId": "ea15e30e-1b4a-465f-cbd9-1d30071a60f2"
   },
   "outputs": [
    {
     "data": {
      "text/html": [
       "<div>\n",
       "<style scoped>\n",
       "    .dataframe tbody tr th:only-of-type {\n",
       "        vertical-align: middle;\n",
       "    }\n",
       "\n",
       "    .dataframe tbody tr th {\n",
       "        vertical-align: top;\n",
       "    }\n",
       "\n",
       "    .dataframe thead th {\n",
       "        text-align: right;\n",
       "    }\n",
       "</style>\n",
       "<table border=\"1\" class=\"dataframe\">\n",
       "  <thead>\n",
       "    <tr style=\"text-align: right;\">\n",
       "      <th></th>\n",
       "      <th>URL</th>\n",
       "      <th>Book</th>\n",
       "      <th>Text</th>\n",
       "      <th>hdr1</th>\n",
       "      <th>hdr2</th>\n",
       "      <th>tildeinfo</th>\n",
       "      <th>note</th>\n",
       "      <th>lines</th>\n",
       "      <th>metadata</th>\n",
       "      <th>data</th>\n",
       "      <th>...</th>\n",
       "      <th>clean_text_conservative</th>\n",
       "      <th>clean_text_interpretive_word</th>\n",
       "      <th>clean_text_interpretive_sentence</th>\n",
       "      <th>clean_text_pythia</th>\n",
       "      <th>sents</th>\n",
       "      <th>sents_N</th>\n",
       "      <th>lem_sents</th>\n",
       "      <th>lemmata</th>\n",
       "      <th>raw_date</th>\n",
       "      <th>dating_dict</th>\n",
       "    </tr>\n",
       "  </thead>\n",
       "  <tbody>\n",
       "    <tr>\n",
       "      <th>199</th>\n",
       "      <td>/text/200?location=1701&amp;patt=&amp;bookid=4&amp;offset=...</td>\n",
       "      <td>IG I³</td>\n",
       "      <td>193</td>\n",
       "      <td>Regions\\nAttica (IG I-III)</td>\n",
       "      <td>IG I³\\n193</td>\n",
       "      <td>Att. — stoich. 39? — 450-435</td>\n",
       "      <td></td>\n",
       "      <td>7</td>\n",
       "      <td>\\n1\\n\\n\\n\\n5\\n</td>\n",
       "      <td>— — — — — — — — — — — — — — — — — — — — — — —\\...</td>\n",
       "      <td>...</td>\n",
       "      <td>ονδε Λ ταῦτα μ ℎο γραμματεὺτο ἐμ πόλει δὲ κολα...</td>\n",
       "      <td>ονδε Λ ταῦτα μ ἀναγραφσάτο ℎο γραμματεὺς ℎο τε...</td>\n",
       "      <td>ονδε Λ ταῦτα μ ․ ἀναγραφσάτο ℎο γραμματεὺς ℎο ...</td>\n",
       "      <td>ονδε λ ταῦτα μ ἀναγραφσάτο ὁ γραμματεὺς ὁ τες ...</td>\n",
       "      <td>[ονδε λ ταῦτα μ ἀναγραφσάτο ὁ γραμματεὺς ὁ τες...</td>\n",
       "      <td>2</td>\n",
       "      <td>[[ονδε, οὗτος, ἀναγραφσάτο, γραμματεύς, τες, β...</td>\n",
       "      <td>[ονδε, οὗτος, ἀναγραφσάτο, γραμματεύς, τες, βο...</td>\n",
       "      <td>450-435</td>\n",
       "      <td>{'or': None, 'not_before': -450, 'not_after': ...</td>\n",
       "    </tr>\n",
       "    <tr>\n",
       "      <th>399</th>\n",
       "      <td>/text/400?location=1701&amp;patt=&amp;bookid=4&amp;offset=...</td>\n",
       "      <td>IG I³</td>\n",
       "      <td>388</td>\n",
       "      <td>Regions\\nAttica (IG I-III)</td>\n",
       "      <td>IG I³\\n388</td>\n",
       "      <td>Att. — stoich. — 420-405 a.</td>\n",
       "      <td></td>\n",
       "      <td>17</td>\n",
       "      <td>\\n1\\n\\n\\n\\n5\\n\\n\\n\\n\\n10\\n\\n\\n\\n\\n15\\n</td>\n",
       "      <td>— — — — — — — — — — — —\\n— — — — Ι̣#⁷ — — — — ...</td>\n",
       "      <td>...</td>\n",
       "      <td>Ι ΙΙ χρυ οἰνοχ οἰνοχόε χρυσίο σ Κυζικενό ℎέκτα...</td>\n",
       "      <td>Ι ΙΙ χρυσίς σταθμὸν ταύτες Η Δ οἰνοχόε ἀργυρᾶ ...</td>\n",
       "      <td>Ι ΙΙ χρυσίς σταθμὸν ταύτες Η Δ οἰνοχόε ἀργυρᾶ ...</td>\n",
       "      <td>ι χρυσίς σταθμὸν ταύτες οἰνοχόε ἀργυρᾶ σταθμόν...</td>\n",
       "      <td>[ι χρυσίς σταθμὸν ταύτες οἰνοχόε ἀργυρᾶ σταθμό...</td>\n",
       "      <td>1</td>\n",
       "      <td>[[χρυσίς, σταθμόν, ταύτες, οἰνοχόε, ἀργύρεος, ...</td>\n",
       "      <td>[χρυσίς, σταθμόν, ταύτες, οἰνοχόε, ἀργύρεος, σ...</td>\n",
       "      <td>420-405 a.</td>\n",
       "      <td>{'or': None, 'not_before': -420, 'not_after': ...</td>\n",
       "    </tr>\n",
       "    <tr>\n",
       "      <th>599</th>\n",
       "      <td>/text/600?location=1701&amp;patt=&amp;bookid=4&amp;offset=...</td>\n",
       "      <td>IG I³</td>\n",
       "      <td>564</td>\n",
       "      <td>Regions\\nAttica (IG I-III)</td>\n",
       "      <td>IG I³\\n564</td>\n",
       "      <td>Att. — Athens: Akropolis — c. 500-475? a. — IG...</td>\n",
       "      <td></td>\n",
       "      <td>1</td>\n",
       "      <td>1</td>\n",
       "      <td>Ἐπιγέν[ες — — —].</td>\n",
       "      <td>...</td>\n",
       "      <td>Ἐπιγέν</td>\n",
       "      <td>Ἐπιγένες</td>\n",
       "      <td>Ἐπιγένες .</td>\n",
       "      <td>Ἐπιγένες .</td>\n",
       "      <td>[Ἐπιγένες .]</td>\n",
       "      <td>1</td>\n",
       "      <td>[[ἐπιγένες]]</td>\n",
       "      <td>[ἐπιγένες]</td>\n",
       "      <td>c. 500-475? a.</td>\n",
       "      <td>{'or': None, 'certainty': '?', 'not_before': -...</td>\n",
       "    </tr>\n",
       "    <tr>\n",
       "      <th>799</th>\n",
       "      <td>/text/800?location=1701&amp;patt=&amp;bookid=4&amp;offset=...</td>\n",
       "      <td>IG I³</td>\n",
       "      <td>703</td>\n",
       "      <td>Regions\\nAttica (IG I-III)</td>\n",
       "      <td>IG I³\\n703</td>\n",
       "      <td>Att. — Athens: Akropolis — c. 500-480? a. — IG...</td>\n",
       "      <td></td>\n",
       "      <td>2</td>\n",
       "      <td>1\\n</td>\n",
       "      <td>[ἄρ]γ̣ματα Θότιμ— — — ἀνέθ[εκε — — —] /\\n—2-3—...</td>\n",
       "      <td>...</td>\n",
       "      <td>γματα Θότιμ ἀνέθ ενο τεσε</td>\n",
       "      <td>ἄργματα Θότιμ ἀνέθεκε ενο τεσε</td>\n",
       "      <td>ἄργματα Θότιμ ἀνέθεκε ενο τεσε .</td>\n",
       "      <td>ἄργματα Θότιμ ἀνέθεκε ενο τεσε .</td>\n",
       "      <td>[ἄργματα Θότιμ ἀνέθεκε ενο τεσε .]</td>\n",
       "      <td>1</td>\n",
       "      <td>[[ἄργμα, θότιμ, ἀνέθεκε, ενο, τεσε]]</td>\n",
       "      <td>[ἄργμα, θότιμ, ἀνέθεκε, ενο, τεσε]</td>\n",
       "      <td>c. 500-480? a.</td>\n",
       "      <td>{'or': None, 'certainty': '?', 'not_before': -...</td>\n",
       "    </tr>\n",
       "    <tr>\n",
       "      <th>999</th>\n",
       "      <td>/text/1000?location=1701&amp;patt=&amp;bookid=4&amp;offset...</td>\n",
       "      <td>IG I³</td>\n",
       "      <td>885</td>\n",
       "      <td>Regions\\nAttica (IG I-III)</td>\n",
       "      <td>IG I³\\n885</td>\n",
       "      <td>Att. — Athens: Akropolis — c. 440? a. — IG I² ...</td>\n",
       "      <td></td>\n",
       "      <td>3</td>\n",
       "      <td>1\\n\\n</td>\n",
       "      <td>[τόνδε Πυρε͂]ς ἀνέθεκε Πολυμνέστ̣ο φίλο[ς ℎυιὸ...</td>\n",
       "      <td>...</td>\n",
       "      <td>ς ἀνέθεκε Πολυμνέστο φίλο εὐξάμενος δεκάτεν Πα...</td>\n",
       "      <td>τόνδε Πυρε͂ς ἀνέθεκε Πολυμνέστο φίλος ℎυιὸς εὐ...</td>\n",
       "      <td>τόνδε Πυρε͂ς ἀνέθεκε Πολυμνέστο φίλος ℎυιὸς εὐ...</td>\n",
       "      <td>τόνδε Πυρε͂ς ἀνέθεκε Πολυμνέστο φίλος ℎυιὸς εὐ...</td>\n",
       "      <td>[τόνδε Πυρες ἀνέθεκε Πολυμνέστο φίλος ℎυιὸς εὐ...</td>\n",
       "      <td>2</td>\n",
       "      <td>[[ὅδε, πυρες, ἀνέθεκε, πολυμνέστο, φίλος, ℎυιὸ...</td>\n",
       "      <td>[ὅδε, πυρες, ἀνέθεκε, πολυμνέστο, φίλος, ℎυιὸς...</td>\n",
       "      <td>c. 440? a.</td>\n",
       "      <td>{'or': None, 'certainty': '?', 'not_before': -...</td>\n",
       "    </tr>\n",
       "  </tbody>\n",
       "</table>\n",
       "<p>5 rows × 23 columns</p>\n",
       "</div>"
      ],
      "text/plain": [
       "                                                   URL   Book Text  \\\n",
       "199  /text/200?location=1701&patt=&bookid=4&offset=...  IG I³  193   \n",
       "399  /text/400?location=1701&patt=&bookid=4&offset=...  IG I³  388   \n",
       "599  /text/600?location=1701&patt=&bookid=4&offset=...  IG I³  564   \n",
       "799  /text/800?location=1701&patt=&bookid=4&offset=...  IG I³  703   \n",
       "999  /text/1000?location=1701&patt=&bookid=4&offset...  IG I³  885   \n",
       "\n",
       "                           hdr1        hdr2  \\\n",
       "199  Regions\\nAttica (IG I-III)  IG I³\\n193   \n",
       "399  Regions\\nAttica (IG I-III)  IG I³\\n388   \n",
       "599  Regions\\nAttica (IG I-III)  IG I³\\n564   \n",
       "799  Regions\\nAttica (IG I-III)  IG I³\\n703   \n",
       "999  Regions\\nAttica (IG I-III)  IG I³\\n885   \n",
       "\n",
       "                                             tildeinfo note  lines  \\\n",
       "199                       Att. — stoich. 39? — 450-435           7   \n",
       "399                        Att. — stoich. — 420-405 a.          17   \n",
       "599  Att. — Athens: Akropolis — c. 500-475? a. — IG...           1   \n",
       "799  Att. — Athens: Akropolis — c. 500-480? a. — IG...           2   \n",
       "999  Att. — Athens: Akropolis — c. 440? a. — IG I² ...           3   \n",
       "\n",
       "                                   metadata  \\\n",
       "199                          \\n1\\n\\n\\n\\n5\\n   \n",
       "399  \\n1\\n\\n\\n\\n5\\n\\n\\n\\n\\n10\\n\\n\\n\\n\\n15\\n   \n",
       "599                                       1   \n",
       "799                                     1\\n   \n",
       "999                                   1\\n\\n   \n",
       "\n",
       "                                                  data  ...  \\\n",
       "199  — — — — — — — — — — — — — — — — — — — — — — —\\...  ...   \n",
       "399  — — — — — — — — — — — —\\n— — — — Ι̣#⁷ — — — — ...  ...   \n",
       "599                                  Ἐπιγέν[ες — — —].  ...   \n",
       "799  [ἄρ]γ̣ματα Θότιμ— — — ἀνέθ[εκε — — —] /\\n—2-3—...  ...   \n",
       "999  [τόνδε Πυρε͂]ς ἀνέθεκε Πολυμνέστ̣ο φίλο[ς ℎυιὸ...  ...   \n",
       "\n",
       "                               clean_text_conservative  \\\n",
       "199  ονδε Λ ταῦτα μ ℎο γραμματεὺτο ἐμ πόλει δὲ κολα...   \n",
       "399  Ι ΙΙ χρυ οἰνοχ οἰνοχόε χρυσίο σ Κυζικενό ℎέκτα...   \n",
       "599                                             Ἐπιγέν   \n",
       "799                          γματα Θότιμ ἀνέθ ενο τεσε   \n",
       "999  ς ἀνέθεκε Πολυμνέστο φίλο εὐξάμενος δεκάτεν Πα...   \n",
       "\n",
       "                          clean_text_interpretive_word  \\\n",
       "199  ονδε Λ ταῦτα μ ἀναγραφσάτο ℎο γραμματεὺς ℎο τε...   \n",
       "399  Ι ΙΙ χρυσίς σταθμὸν ταύτες Η Δ οἰνοχόε ἀργυρᾶ ...   \n",
       "599                                           Ἐπιγένες   \n",
       "799                     ἄργματα Θότιμ ἀνέθεκε ενο τεσε   \n",
       "999  τόνδε Πυρε͂ς ἀνέθεκε Πολυμνέστο φίλος ℎυιὸς εὐ...   \n",
       "\n",
       "                      clean_text_interpretive_sentence  \\\n",
       "199  ονδε Λ ταῦτα μ ․ ἀναγραφσάτο ℎο γραμματεὺς ℎο ...   \n",
       "399  Ι ΙΙ χρυσίς σταθμὸν ταύτες Η Δ οἰνοχόε ἀργυρᾶ ...   \n",
       "599                                         Ἐπιγένες .   \n",
       "799                   ἄργματα Θότιμ ἀνέθεκε ενο τεσε .   \n",
       "999  τόνδε Πυρε͂ς ἀνέθεκε Πολυμνέστο φίλος ℎυιὸς εὐ...   \n",
       "\n",
       "                                     clean_text_pythia  \\\n",
       "199  ονδε λ ταῦτα μ ἀναγραφσάτο ὁ γραμματεὺς ὁ τες ...   \n",
       "399  ι χρυσίς σταθμὸν ταύτες οἰνοχόε ἀργυρᾶ σταθμόν...   \n",
       "599                                         Ἐπιγένες .   \n",
       "799                   ἄργματα Θότιμ ἀνέθεκε ενο τεσε .   \n",
       "999  τόνδε Πυρε͂ς ἀνέθεκε Πολυμνέστο φίλος ℎυιὸς εὐ...   \n",
       "\n",
       "                                                 sents sents_N  \\\n",
       "199  [ονδε λ ταῦτα μ ἀναγραφσάτο ὁ γραμματεὺς ὁ τες...       2   \n",
       "399  [ι χρυσίς σταθμὸν ταύτες οἰνοχόε ἀργυρᾶ σταθμό...       1   \n",
       "599                                       [Ἐπιγένες .]       1   \n",
       "799                 [ἄργματα Θότιμ ἀνέθεκε ενο τεσε .]       1   \n",
       "999  [τόνδε Πυρες ἀνέθεκε Πολυμνέστο φίλος ℎυιὸς εὐ...       2   \n",
       "\n",
       "                                             lem_sents  \\\n",
       "199  [[ονδε, οὗτος, ἀναγραφσάτο, γραμματεύς, τες, β...   \n",
       "399  [[χρυσίς, σταθμόν, ταύτες, οἰνοχόε, ἀργύρεος, ...   \n",
       "599                                       [[ἐπιγένες]]   \n",
       "799               [[ἄργμα, θότιμ, ἀνέθεκε, ενο, τεσε]]   \n",
       "999  [[ὅδε, πυρες, ἀνέθεκε, πολυμνέστο, φίλος, ℎυιὸ...   \n",
       "\n",
       "                                               lemmata         raw_date  \\\n",
       "199  [ονδε, οὗτος, ἀναγραφσάτο, γραμματεύς, τες, βο...          450-435   \n",
       "399  [χρυσίς, σταθμόν, ταύτες, οἰνοχόε, ἀργύρεος, σ...       420-405 a.   \n",
       "599                                         [ἐπιγένες]  c. 500-475? a.    \n",
       "799                 [ἄργμα, θότιμ, ἀνέθεκε, ενο, τεσε]  c. 500-480? a.    \n",
       "999  [ὅδε, πυρες, ἀνέθεκε, πολυμνέστο, φίλος, ℎυιὸς...      c. 440? a.    \n",
       "\n",
       "                                           dating_dict  \n",
       "199  {'or': None, 'not_before': -450, 'not_after': ...  \n",
       "399  {'or': None, 'not_before': -420, 'not_after': ...  \n",
       "599  {'or': None, 'certainty': '?', 'not_before': -...  \n",
       "799  {'or': None, 'certainty': '?', 'not_before': -...  \n",
       "999  {'or': None, 'certainty': '?', 'not_before': -...  \n",
       "\n",
       "[5 rows x 23 columns]"
      ]
     },
     "execution_count": 86,
     "metadata": {},
     "output_type": "execute_result"
    }
   ],
   "source": [
    "PHI_by_200.head(5)"
   ]
  },
  {
   "cell_type": "code",
   "execution_count": 87,
   "metadata": {
    "colab": {
     "base_uri": "https://localhost:8080/",
     "height": 139
    },
    "colab_type": "code",
    "id": "v1YZjJXmXg26",
    "outputId": "315659e5-40b7-4050-c25e-be0137d49b9a"
   },
   "outputs": [
    {
     "name": "stderr",
     "output_type": "stream",
     "text": [
      "/home/kasev/.local/lib/python3.6/site-packages/ipykernel_launcher.py:3: SettingWithCopyWarning:\n",
      "\n",
      "\n",
      "A value is trying to be set on a copy of a slice from a DataFrame.\n",
      "Try using .loc[row_indexer,col_indexer] = value instead\n",
      "\n",
      "See the caveats in the documentation: https://pandas.pydata.org/pandas-docs/stable/user_guide/indexing.html#returning-a-view-versus-a-copy\n",
      "\n"
     ]
    }
   ],
   "source": [
    "# extract data from dating_dict to individual columns:\n",
    "for key in [\"not_before\", \"not_after\", \"or\", \"date_tags\", \"certainty\", \"link\"]:\n",
    "  PHI_by_200[key] = PHI_by_200.apply(lambda row: row[\"dating_dict\"][key], axis=1)"
   ]
  },
  {
   "cell_type": "code",
   "execution_count": 88,
   "metadata": {
    "colab": {
     "base_uri": "https://localhost:8080/",
     "height": 949
    },
    "colab_type": "code",
    "id": "jNSW7KDWQtDg",
    "outputId": "72f1f337-4c8f-45fa-cce6-59c98297a9ff"
   },
   "outputs": [
    {
     "data": {
      "text/html": [
       "<div>\n",
       "<style scoped>\n",
       "    .dataframe tbody tr th:only-of-type {\n",
       "        vertical-align: middle;\n",
       "    }\n",
       "\n",
       "    .dataframe tbody tr th {\n",
       "        vertical-align: top;\n",
       "    }\n",
       "\n",
       "    .dataframe thead th {\n",
       "        text-align: right;\n",
       "    }\n",
       "</style>\n",
       "<table border=\"1\" class=\"dataframe\">\n",
       "  <thead>\n",
       "    <tr style=\"text-align: right;\">\n",
       "      <th></th>\n",
       "      <th>URL</th>\n",
       "      <th>Book</th>\n",
       "      <th>Text</th>\n",
       "      <th>hdr1</th>\n",
       "      <th>hdr2</th>\n",
       "      <th>tildeinfo</th>\n",
       "      <th>note</th>\n",
       "      <th>lines</th>\n",
       "      <th>metadata</th>\n",
       "      <th>data</th>\n",
       "      <th>...</th>\n",
       "      <th>lem_sents</th>\n",
       "      <th>lemmata</th>\n",
       "      <th>raw_date</th>\n",
       "      <th>dating_dict</th>\n",
       "      <th>not_before</th>\n",
       "      <th>not_after</th>\n",
       "      <th>or</th>\n",
       "      <th>date_tags</th>\n",
       "      <th>certainty</th>\n",
       "      <th>link</th>\n",
       "    </tr>\n",
       "  </thead>\n",
       "  <tbody>\n",
       "    <tr>\n",
       "      <th>199</th>\n",
       "      <td>/text/200?location=1701&amp;patt=&amp;bookid=4&amp;offset=...</td>\n",
       "      <td>IG I³</td>\n",
       "      <td>193</td>\n",
       "      <td>Regions\\nAttica (IG I-III)</td>\n",
       "      <td>IG I³\\n193</td>\n",
       "      <td>Att. — stoich. 39? — 450-435</td>\n",
       "      <td></td>\n",
       "      <td>7</td>\n",
       "      <td>\\n1\\n\\n\\n\\n5\\n</td>\n",
       "      <td>— — — — — — — — — — — — — — — — — — — — — — —\\...</td>\n",
       "      <td>...</td>\n",
       "      <td>[[ονδε, οὗτος, ἀναγραφσάτο, γραμματεύς, τες, β...</td>\n",
       "      <td>[ονδε, οὗτος, ἀναγραφσάτο, γραμματεύς, τες, βο...</td>\n",
       "      <td>450-435</td>\n",
       "      <td>{'or': None, 'not_before': -450, 'not_after': ...</td>\n",
       "      <td>-450.0</td>\n",
       "      <td>-435.0</td>\n",
       "      <td>None</td>\n",
       "      <td>[range]</td>\n",
       "      <td>None</td>\n",
       "      <td>None</td>\n",
       "    </tr>\n",
       "    <tr>\n",
       "      <th>399</th>\n",
       "      <td>/text/400?location=1701&amp;patt=&amp;bookid=4&amp;offset=...</td>\n",
       "      <td>IG I³</td>\n",
       "      <td>388</td>\n",
       "      <td>Regions\\nAttica (IG I-III)</td>\n",
       "      <td>IG I³\\n388</td>\n",
       "      <td>Att. — stoich. — 420-405 a.</td>\n",
       "      <td></td>\n",
       "      <td>17</td>\n",
       "      <td>\\n1\\n\\n\\n\\n5\\n\\n\\n\\n\\n10\\n\\n\\n\\n\\n15\\n</td>\n",
       "      <td>— — — — — — — — — — — —\\n— — — — Ι̣#⁷ — — — — ...</td>\n",
       "      <td>...</td>\n",
       "      <td>[[χρυσίς, σταθμόν, ταύτες, οἰνοχόε, ἀργύρεος, ...</td>\n",
       "      <td>[χρυσίς, σταθμόν, ταύτες, οἰνοχόε, ἀργύρεος, σ...</td>\n",
       "      <td>420-405 a.</td>\n",
       "      <td>{'or': None, 'not_before': -420, 'not_after': ...</td>\n",
       "      <td>-420.0</td>\n",
       "      <td>-405.0</td>\n",
       "      <td>None</td>\n",
       "      <td>[range]</td>\n",
       "      <td>None</td>\n",
       "      <td>None</td>\n",
       "    </tr>\n",
       "    <tr>\n",
       "      <th>599</th>\n",
       "      <td>/text/600?location=1701&amp;patt=&amp;bookid=4&amp;offset=...</td>\n",
       "      <td>IG I³</td>\n",
       "      <td>564</td>\n",
       "      <td>Regions\\nAttica (IG I-III)</td>\n",
       "      <td>IG I³\\n564</td>\n",
       "      <td>Att. — Athens: Akropolis — c. 500-475? a. — IG...</td>\n",
       "      <td></td>\n",
       "      <td>1</td>\n",
       "      <td>1</td>\n",
       "      <td>Ἐπιγέν[ες — — —].</td>\n",
       "      <td>...</td>\n",
       "      <td>[[ἐπιγένες]]</td>\n",
       "      <td>[ἐπιγένες]</td>\n",
       "      <td>c. 500-475? a.</td>\n",
       "      <td>{'or': None, 'certainty': '?', 'not_before': -...</td>\n",
       "      <td>-502.0</td>\n",
       "      <td>-473.0</td>\n",
       "      <td>None</td>\n",
       "      <td>[range, phase, ca]</td>\n",
       "      <td>?</td>\n",
       "      <td>None</td>\n",
       "    </tr>\n",
       "    <tr>\n",
       "      <th>799</th>\n",
       "      <td>/text/800?location=1701&amp;patt=&amp;bookid=4&amp;offset=...</td>\n",
       "      <td>IG I³</td>\n",
       "      <td>703</td>\n",
       "      <td>Regions\\nAttica (IG I-III)</td>\n",
       "      <td>IG I³\\n703</td>\n",
       "      <td>Att. — Athens: Akropolis — c. 500-480? a. — IG...</td>\n",
       "      <td></td>\n",
       "      <td>2</td>\n",
       "      <td>1\\n</td>\n",
       "      <td>[ἄρ]γ̣ματα Θότιμ— — — ἀνέθ[εκε — — —] /\\n—2-3—...</td>\n",
       "      <td>...</td>\n",
       "      <td>[[ἄργμα, θότιμ, ἀνέθεκε, ενο, τεσε]]</td>\n",
       "      <td>[ἄργμα, θότιμ, ἀνέθεκε, ενο, τεσε]</td>\n",
       "      <td>c. 500-480? a.</td>\n",
       "      <td>{'or': None, 'certainty': '?', 'not_before': -...</td>\n",
       "      <td>-502.0</td>\n",
       "      <td>-478.0</td>\n",
       "      <td>None</td>\n",
       "      <td>[range, phase, ca]</td>\n",
       "      <td>?</td>\n",
       "      <td>None</td>\n",
       "    </tr>\n",
       "    <tr>\n",
       "      <th>999</th>\n",
       "      <td>/text/1000?location=1701&amp;patt=&amp;bookid=4&amp;offset...</td>\n",
       "      <td>IG I³</td>\n",
       "      <td>885</td>\n",
       "      <td>Regions\\nAttica (IG I-III)</td>\n",
       "      <td>IG I³\\n885</td>\n",
       "      <td>Att. — Athens: Akropolis — c. 440? a. — IG I² ...</td>\n",
       "      <td></td>\n",
       "      <td>3</td>\n",
       "      <td>1\\n\\n</td>\n",
       "      <td>[τόνδε Πυρε͂]ς ἀνέθεκε Πολυμνέστ̣ο φίλο[ς ℎυιὸ...</td>\n",
       "      <td>...</td>\n",
       "      <td>[[ὅδε, πυρες, ἀνέθεκε, πολυμνέστο, φίλος, ℎυιὸ...</td>\n",
       "      <td>[ὅδε, πυρες, ἀνέθεκε, πολυμνέστο, φίλος, ℎυιὸς...</td>\n",
       "      <td>c. 440? a.</td>\n",
       "      <td>{'or': None, 'certainty': '?', 'not_before': -...</td>\n",
       "      <td>-445.0</td>\n",
       "      <td>-435.0</td>\n",
       "      <td>None</td>\n",
       "      <td>[exact, phase, ca]</td>\n",
       "      <td>?</td>\n",
       "      <td>None</td>\n",
       "    </tr>\n",
       "    <tr>\n",
       "      <th>...</th>\n",
       "      <td>...</td>\n",
       "      <td>...</td>\n",
       "      <td>...</td>\n",
       "      <td>...</td>\n",
       "      <td>...</td>\n",
       "      <td>...</td>\n",
       "      <td>...</td>\n",
       "      <td>...</td>\n",
       "      <td>...</td>\n",
       "      <td>...</td>\n",
       "      <td>...</td>\n",
       "      <td>...</td>\n",
       "      <td>...</td>\n",
       "      <td>...</td>\n",
       "      <td>...</td>\n",
       "      <td>...</td>\n",
       "      <td>...</td>\n",
       "      <td>...</td>\n",
       "      <td>...</td>\n",
       "      <td>...</td>\n",
       "      <td>...</td>\n",
       "    </tr>\n",
       "    <tr>\n",
       "      <th>165100</th>\n",
       "      <td>/text/299000?location=1673&amp;patt=&amp;bookid=736&amp;of...</td>\n",
       "      <td>IDR III,2</td>\n",
       "      <td>309</td>\n",
       "      <td>Regions\\nThrace and the Lower Danube (IG X)\\nD...</td>\n",
       "      <td>IDR III,2\\n309</td>\n",
       "      <td>Dacia Sup. — Ulpia Traiana-Sarmizegetusa — 2nd...</td>\n",
       "      <td></td>\n",
       "      <td>7</td>\n",
       "      <td>1\\n\\n\\n\\n5\\n\\n</td>\n",
       "      <td>Deae Regi(nae)\\nAel(ia) Primi-\\ntiva ex vot(o)...</td>\n",
       "      <td>...</td>\n",
       "      <td>[[deae, reginae, aelia, primitiva, ex, voto, p...</td>\n",
       "      <td>[deae, reginae, aelia, primitiva, ex, voto, pr...</td>\n",
       "      <td>2nd/3rd c. AD</td>\n",
       "      <td>{'or': None, 'not_before': 101, 'not_after': 3...</td>\n",
       "      <td>101.0</td>\n",
       "      <td>300.0</td>\n",
       "      <td>None</td>\n",
       "      <td>[range, cent, morece]</td>\n",
       "      <td>None</td>\n",
       "      <td>None</td>\n",
       "    </tr>\n",
       "    <tr>\n",
       "      <th>165300</th>\n",
       "      <td>/text/299200?location=1673&amp;patt=&amp;bookid=736&amp;of...</td>\n",
       "      <td>IDR III,2</td>\n",
       "      <td>506</td>\n",
       "      <td>Regions\\nThrace and the Lower Danube (IG X)\\nD...</td>\n",
       "      <td>IDR III,2\\n506</td>\n",
       "      <td>Dacia Sup. — Ulpia Traiana-Sarmizegetusa — 2nd...</td>\n",
       "      <td></td>\n",
       "      <td>12</td>\n",
       "      <td>frg. a\\n\\n\\n\\nfrg. b\\n\\n\\n\\n\\nfrg. c\\n\\n</td>\n",
       "      <td>[— — — — —]\\n[— —]MI[— —]\\n[— — — — —]\\n\\n[— —...</td>\n",
       "      <td>...</td>\n",
       "      <td>[[l, m]]</td>\n",
       "      <td>[l, m]</td>\n",
       "      <td>2nd/3rd c. AD</td>\n",
       "      <td>{'or': None, 'not_before': 101, 'not_after': 3...</td>\n",
       "      <td>101.0</td>\n",
       "      <td>300.0</td>\n",
       "      <td>None</td>\n",
       "      <td>[range, cent, morece]</td>\n",
       "      <td>None</td>\n",
       "      <td>None</td>\n",
       "    </tr>\n",
       "    <tr>\n",
       "      <th>165500</th>\n",
       "      <td>/text/299400?location=1673&amp;patt=&amp;bookid=737&amp;of...</td>\n",
       "      <td>IDR III,3</td>\n",
       "      <td>83</td>\n",
       "      <td>Regions\\nThrace and the Lower Danube (IG X)\\nD...</td>\n",
       "      <td>IDR III,3\\n83</td>\n",
       "      <td>Dacia Sup. — Micia (Vețel) — 2nd/3rd c. AD — C...</td>\n",
       "      <td></td>\n",
       "      <td>6</td>\n",
       "      <td>1\\n\\n\\n\\n5\\n</td>\n",
       "      <td>I(ovi) O(ptimo) M(aximo)\\nvet(erani) et c(ives...</td>\n",
       "      <td>...</td>\n",
       "      <td>[[iovi, optimo, maximo, veterani, et, cives, r...</td>\n",
       "      <td>[iovi, optimo, maximo, veterani, et, cives, ro...</td>\n",
       "      <td>2nd/3rd c. AD</td>\n",
       "      <td>{'or': None, 'not_before': 101, 'not_after': 3...</td>\n",
       "      <td>101.0</td>\n",
       "      <td>300.0</td>\n",
       "      <td>None</td>\n",
       "      <td>[range, cent, morece]</td>\n",
       "      <td>None</td>\n",
       "      <td>None</td>\n",
       "    </tr>\n",
       "    <tr>\n",
       "      <th>165700</th>\n",
       "      <td>/text/299600?location=1673&amp;patt=&amp;bookid=737&amp;of...</td>\n",
       "      <td>IDR III,3</td>\n",
       "      <td>232</td>\n",
       "      <td>Regions\\nThrace and the Lower Danube (IG X)\\nD...</td>\n",
       "      <td>IDR III,3\\n232</td>\n",
       "      <td>Dacia Sup. — Germisara: Geoagiu — 161 AD</td>\n",
       "      <td></td>\n",
       "      <td>7</td>\n",
       "      <td>1\\n\\n\\n\\n5\\n\\n</td>\n",
       "      <td>Aesculapio\\net Hygiae\\nsacrum\\nP(ublius) Furiu...</td>\n",
       "      <td>...</td>\n",
       "      <td>[[et, hygiae, sacrum, publius, furius, saturni...</td>\n",
       "      <td>[et, hygiae, sacrum, publius, furius, saturnin...</td>\n",
       "      <td>161 AD</td>\n",
       "      <td>{'or': None, 'not_before': 161, 'not_after': 1...</td>\n",
       "      <td>161.0</td>\n",
       "      <td>161.0</td>\n",
       "      <td>None</td>\n",
       "      <td>[exact]</td>\n",
       "      <td>None</td>\n",
       "      <td>None</td>\n",
       "    </tr>\n",
       "    <tr>\n",
       "      <th>165900</th>\n",
       "      <td>/text/299800?location=1673&amp;patt=&amp;bookid=737&amp;of...</td>\n",
       "      <td>IDR III,3</td>\n",
       "      <td>396</td>\n",
       "      <td>Regions\\nThrace and the Lower Danube (IG X)\\nD...</td>\n",
       "      <td>IDR III,3\\n396</td>\n",
       "      <td>Dacia Sup. — Alburnus Maior (Roșia Montană) — ...</td>\n",
       "      <td></td>\n",
       "      <td>5</td>\n",
       "      <td>1\\n\\n\\n\\n5</td>\n",
       "      <td>Lib(ero) Patr(i)\\nsacrum\\nAtrius Ma-\\nximi v(o...</td>\n",
       "      <td>...</td>\n",
       "      <td>[[libero, patri, sacrum, atrius, maximi, otum,...</td>\n",
       "      <td>[libero, patri, sacrum, atrius, maximi, otum, ...</td>\n",
       "      <td>2nd/3rd c. AD</td>\n",
       "      <td>{'or': None, 'not_before': 101, 'not_after': 3...</td>\n",
       "      <td>101.0</td>\n",
       "      <td>300.0</td>\n",
       "      <td>None</td>\n",
       "      <td>[range, cent, morece]</td>\n",
       "      <td>None</td>\n",
       "      <td>None</td>\n",
       "    </tr>\n",
       "  </tbody>\n",
       "</table>\n",
       "<p>829 rows × 29 columns</p>\n",
       "</div>"
      ],
      "text/plain": [
       "                                                      URL       Book Text  \\\n",
       "199     /text/200?location=1701&patt=&bookid=4&offset=...      IG I³  193   \n",
       "399     /text/400?location=1701&patt=&bookid=4&offset=...      IG I³  388   \n",
       "599     /text/600?location=1701&patt=&bookid=4&offset=...      IG I³  564   \n",
       "799     /text/800?location=1701&patt=&bookid=4&offset=...      IG I³  703   \n",
       "999     /text/1000?location=1701&patt=&bookid=4&offset...      IG I³  885   \n",
       "...                                                   ...        ...  ...   \n",
       "165100  /text/299000?location=1673&patt=&bookid=736&of...  IDR III,2  309   \n",
       "165300  /text/299200?location=1673&patt=&bookid=736&of...  IDR III,2  506   \n",
       "165500  /text/299400?location=1673&patt=&bookid=737&of...  IDR III,3   83   \n",
       "165700  /text/299600?location=1673&patt=&bookid=737&of...  IDR III,3  232   \n",
       "165900  /text/299800?location=1673&patt=&bookid=737&of...  IDR III,3  396   \n",
       "\n",
       "                                                     hdr1            hdr2  \\\n",
       "199                            Regions\\nAttica (IG I-III)      IG I³\\n193   \n",
       "399                            Regions\\nAttica (IG I-III)      IG I³\\n388   \n",
       "599                            Regions\\nAttica (IG I-III)      IG I³\\n564   \n",
       "799                            Regions\\nAttica (IG I-III)      IG I³\\n703   \n",
       "999                            Regions\\nAttica (IG I-III)      IG I³\\n885   \n",
       "...                                                   ...             ...   \n",
       "165100  Regions\\nThrace and the Lower Danube (IG X)\\nD...  IDR III,2\\n309   \n",
       "165300  Regions\\nThrace and the Lower Danube (IG X)\\nD...  IDR III,2\\n506   \n",
       "165500  Regions\\nThrace and the Lower Danube (IG X)\\nD...   IDR III,3\\n83   \n",
       "165700  Regions\\nThrace and the Lower Danube (IG X)\\nD...  IDR III,3\\n232   \n",
       "165900  Regions\\nThrace and the Lower Danube (IG X)\\nD...  IDR III,3\\n396   \n",
       "\n",
       "                                                tildeinfo note  lines  \\\n",
       "199                          Att. — stoich. 39? — 450-435           7   \n",
       "399                           Att. — stoich. — 420-405 a.          17   \n",
       "599     Att. — Athens: Akropolis — c. 500-475? a. — IG...           1   \n",
       "799     Att. — Athens: Akropolis — c. 500-480? a. — IG...           2   \n",
       "999     Att. — Athens: Akropolis — c. 440? a. — IG I² ...           3   \n",
       "...                                                   ...  ...    ...   \n",
       "165100  Dacia Sup. — Ulpia Traiana-Sarmizegetusa — 2nd...           7   \n",
       "165300  Dacia Sup. — Ulpia Traiana-Sarmizegetusa — 2nd...          12   \n",
       "165500  Dacia Sup. — Micia (Vețel) — 2nd/3rd c. AD — C...           6   \n",
       "165700           Dacia Sup. — Germisara: Geoagiu — 161 AD           7   \n",
       "165900  Dacia Sup. — Alburnus Maior (Roșia Montană) — ...           5   \n",
       "\n",
       "                                        metadata  \\\n",
       "199                               \\n1\\n\\n\\n\\n5\\n   \n",
       "399       \\n1\\n\\n\\n\\n5\\n\\n\\n\\n\\n10\\n\\n\\n\\n\\n15\\n   \n",
       "599                                            1   \n",
       "799                                          1\\n   \n",
       "999                                        1\\n\\n   \n",
       "...                                          ...   \n",
       "165100                            1\\n\\n\\n\\n5\\n\\n   \n",
       "165300  frg. a\\n\\n\\n\\nfrg. b\\n\\n\\n\\n\\nfrg. c\\n\\n   \n",
       "165500                              1\\n\\n\\n\\n5\\n   \n",
       "165700                            1\\n\\n\\n\\n5\\n\\n   \n",
       "165900                                1\\n\\n\\n\\n5   \n",
       "\n",
       "                                                     data  ...  \\\n",
       "199     — — — — — — — — — — — — — — — — — — — — — — —\\...  ...   \n",
       "399     — — — — — — — — — — — —\\n— — — — Ι̣#⁷ — — — — ...  ...   \n",
       "599                                     Ἐπιγέν[ες — — —].  ...   \n",
       "799     [ἄρ]γ̣ματα Θότιμ— — — ἀνέθ[εκε — — —] /\\n—2-3—...  ...   \n",
       "999     [τόνδε Πυρε͂]ς ἀνέθεκε Πολυμνέστ̣ο φίλο[ς ℎυιὸ...  ...   \n",
       "...                                                   ...  ...   \n",
       "165100  Deae Regi(nae)\\nAel(ia) Primi-\\ntiva ex vot(o)...  ...   \n",
       "165300  [— — — — —]\\n[— —]MI[— —]\\n[— — — — —]\\n\\n[— —...  ...   \n",
       "165500  I(ovi) O(ptimo) M(aximo)\\nvet(erani) et c(ives...  ...   \n",
       "165700  Aesculapio\\net Hygiae\\nsacrum\\nP(ublius) Furiu...  ...   \n",
       "165900  Lib(ero) Patr(i)\\nsacrum\\nAtrius Ma-\\nximi v(o...  ...   \n",
       "\n",
       "                                                lem_sents  \\\n",
       "199     [[ονδε, οὗτος, ἀναγραφσάτο, γραμματεύς, τες, β...   \n",
       "399     [[χρυσίς, σταθμόν, ταύτες, οἰνοχόε, ἀργύρεος, ...   \n",
       "599                                          [[ἐπιγένες]]   \n",
       "799                  [[ἄργμα, θότιμ, ἀνέθεκε, ενο, τεσε]]   \n",
       "999     [[ὅδε, πυρες, ἀνέθεκε, πολυμνέστο, φίλος, ℎυιὸ...   \n",
       "...                                                   ...   \n",
       "165100  [[deae, reginae, aelia, primitiva, ex, voto, p...   \n",
       "165300                                           [[l, m]]   \n",
       "165500  [[iovi, optimo, maximo, veterani, et, cives, r...   \n",
       "165700  [[et, hygiae, sacrum, publius, furius, saturni...   \n",
       "165900  [[libero, patri, sacrum, atrius, maximi, otum,...   \n",
       "\n",
       "                                                  lemmata         raw_date  \\\n",
       "199     [ονδε, οὗτος, ἀναγραφσάτο, γραμματεύς, τες, βο...          450-435   \n",
       "399     [χρυσίς, σταθμόν, ταύτες, οἰνοχόε, ἀργύρεος, σ...       420-405 a.   \n",
       "599                                            [ἐπιγένες]  c. 500-475? a.    \n",
       "799                    [ἄργμα, θότιμ, ἀνέθεκε, ενο, τεσε]  c. 500-480? a.    \n",
       "999     [ὅδε, πυρες, ἀνέθεκε, πολυμνέστο, φίλος, ℎυιὸς...      c. 440? a.    \n",
       "...                                                   ...              ...   \n",
       "165100  [deae, reginae, aelia, primitiva, ex, voto, pr...   2nd/3rd c. AD    \n",
       "165300                                             [l, m]   2nd/3rd c. AD    \n",
       "165500  [iovi, optimo, maximo, veterani, et, cives, ro...   2nd/3rd c. AD    \n",
       "165700  [et, hygiae, sacrum, publius, furius, saturnin...           161 AD   \n",
       "165900  [libero, patri, sacrum, atrius, maximi, otum, ...   2nd/3rd c. AD    \n",
       "\n",
       "                                              dating_dict not_before  \\\n",
       "199     {'or': None, 'not_before': -450, 'not_after': ...     -450.0   \n",
       "399     {'or': None, 'not_before': -420, 'not_after': ...     -420.0   \n",
       "599     {'or': None, 'certainty': '?', 'not_before': -...     -502.0   \n",
       "799     {'or': None, 'certainty': '?', 'not_before': -...     -502.0   \n",
       "999     {'or': None, 'certainty': '?', 'not_before': -...     -445.0   \n",
       "...                                                   ...        ...   \n",
       "165100  {'or': None, 'not_before': 101, 'not_after': 3...      101.0   \n",
       "165300  {'or': None, 'not_before': 101, 'not_after': 3...      101.0   \n",
       "165500  {'or': None, 'not_before': 101, 'not_after': 3...      101.0   \n",
       "165700  {'or': None, 'not_before': 161, 'not_after': 1...      161.0   \n",
       "165900  {'or': None, 'not_before': 101, 'not_after': 3...      101.0   \n",
       "\n",
       "       not_after    or              date_tags  certainty  link  \n",
       "199       -435.0  None                [range]       None  None  \n",
       "399       -405.0  None                [range]       None  None  \n",
       "599       -473.0  None     [range, phase, ca]          ?  None  \n",
       "799       -478.0  None     [range, phase, ca]          ?  None  \n",
       "999       -435.0  None     [exact, phase, ca]          ?  None  \n",
       "...          ...   ...                    ...        ...   ...  \n",
       "165100     300.0  None  [range, cent, morece]       None  None  \n",
       "165300     300.0  None  [range, cent, morece]       None  None  \n",
       "165500     300.0  None  [range, cent, morece]       None  None  \n",
       "165700     161.0  None                [exact]       None  None  \n",
       "165900     300.0  None  [range, cent, morece]       None  None  \n",
       "\n",
       "[829 rows x 29 columns]"
      ]
     },
     "execution_count": 88,
     "metadata": {},
     "output_type": "execute_result"
    }
   ],
   "source": [
    "PHI_by_200"
   ]
  },
  {
   "cell_type": "code",
   "execution_count": 89,
   "metadata": {
    "colab": {},
    "colab_type": "code",
    "id": "_L14WDyMZldZ"
   },
   "outputs": [],
   "source": [
    "#set_with_dataframe(PHI_overview.add_worksheet(\"PHI_by_200_v1\", 1,1), PHI_by_200)"
   ]
  },
  {
   "cell_type": "markdown",
   "metadata": {
    "colab_type": "text",
    "id": "kMIDY7PGR0p9"
   },
   "source": [
    "# Application on the whole dataset"
   ]
  },
  {
   "cell_type": "code",
   "execution_count": 90,
   "metadata": {
    "colab": {
     "base_uri": "https://localhost:8080/",
     "height": 51
    },
    "colab_type": "code",
    "id": "v7sMji52R4qn",
    "outputId": "88176d55-1fbe-4959-b1e6-6d863dae5dda"
   },
   "outputs": [
    {
     "name": "stdout",
     "output_type": "stream",
     "text": [
      "CPU times: user 1min 1s, sys: 542 ms, total: 1min 2s\n",
      "Wall time: 1min 2s\n"
     ]
    }
   ],
   "source": [
    "%%time\n",
    "def apply_function(row):\n",
    "  try: \n",
    "    return date_extractor(row[\"raw_date\"])\n",
    "  except:\n",
    "    return {\"not_before\": None, \"not_after\": None, \"or\": None, \"date_tags\": [\"unknown\"], \"link\" : None, \"certainty\" : None}\n",
    "\n",
    "PHI[\"dating_dict\"] = PHI.apply(lambda row: apply_function(row), axis=1)\n",
    "# extract data from dating_dict to individual columns:\n",
    "for key in [\"not_before\", \"not_after\", \"or\", \"date_tags\", \"certainty\", \"link\"]:\n",
    "  PHI[key] = PHI.apply(lambda row: row[\"dating_dict\"][key], axis=1)"
   ]
  },
  {
   "cell_type": "code",
   "execution_count": 91,
   "metadata": {
    "colab": {
     "base_uri": "https://localhost:8080/",
     "height": 1000
    },
    "colab_type": "code",
    "id": "PWHmdyYUUIVI",
    "outputId": "4dd32ebb-bb00-4328-f396-278a1f8f42a0"
   },
   "outputs": [
    {
     "data": {
      "text/html": [
       "<div>\n",
       "<style scoped>\n",
       "    .dataframe tbody tr th:only-of-type {\n",
       "        vertical-align: middle;\n",
       "    }\n",
       "\n",
       "    .dataframe tbody tr th {\n",
       "        vertical-align: top;\n",
       "    }\n",
       "\n",
       "    .dataframe thead th {\n",
       "        text-align: right;\n",
       "    }\n",
       "</style>\n",
       "<table border=\"1\" class=\"dataframe\">\n",
       "  <thead>\n",
       "    <tr style=\"text-align: right;\">\n",
       "      <th></th>\n",
       "      <th>URL</th>\n",
       "      <th>Book</th>\n",
       "      <th>Text</th>\n",
       "      <th>hdr1</th>\n",
       "      <th>hdr2</th>\n",
       "      <th>tildeinfo</th>\n",
       "      <th>note</th>\n",
       "      <th>lines</th>\n",
       "      <th>metadata</th>\n",
       "      <th>data</th>\n",
       "      <th>...</th>\n",
       "      <th>lem_sents</th>\n",
       "      <th>lemmata</th>\n",
       "      <th>raw_date</th>\n",
       "      <th>dating_dict</th>\n",
       "      <th>not_before</th>\n",
       "      <th>not_after</th>\n",
       "      <th>or</th>\n",
       "      <th>date_tags</th>\n",
       "      <th>certainty</th>\n",
       "      <th>link</th>\n",
       "    </tr>\n",
       "  </thead>\n",
       "  <tbody>\n",
       "    <tr>\n",
       "      <th>0</th>\n",
       "      <td>/text/1?location=1701&amp;patt=&amp;bookid=4&amp;offset=0&amp;...</td>\n",
       "      <td>IG I³</td>\n",
       "      <td>1</td>\n",
       "      <td>Regions\\nAttica (IG I-III)</td>\n",
       "      <td>IG I³\\n1</td>\n",
       "      <td>Att. — Ath.: Akr. — stoich. 35 — c. 510-500 a....</td>\n",
       "      <td></td>\n",
       "      <td>12</td>\n",
       "      <td>1\\n\\n\\n\\n5\\n\\n\\n\\n\\n10\\n\\n</td>\n",
       "      <td>ἔδοχσεν το͂ι δέμοι· τ̣[ὸς ἐ Σ]αλαμ̣[ῖνι κλερόχ...</td>\n",
       "      <td>...</td>\n",
       "      <td>[[ἔδοχσεν, δέμοι, Σαλαμίς, κλερόχος, οἰκεν, Σα...</td>\n",
       "      <td>[ἔδοχσεν, δέμοι, Σαλαμίς, κλερόχος, οἰκεν, Σαλ...</td>\n",
       "      <td>c. 510-500 a.</td>\n",
       "      <td>{'or': None, 'not_before': -511, 'not_after': ...</td>\n",
       "      <td>-511.0</td>\n",
       "      <td>-499.0</td>\n",
       "      <td>None</td>\n",
       "      <td>[range, phase, ca]</td>\n",
       "      <td>None</td>\n",
       "      <td>None</td>\n",
       "    </tr>\n",
       "    <tr>\n",
       "      <th>1</th>\n",
       "      <td>/text/2?location=1701&amp;patt=&amp;bookid=4&amp;offset=0&amp;...</td>\n",
       "      <td>IG I³</td>\n",
       "      <td>2</td>\n",
       "      <td>Regions\\nAttica (IG I-III)</td>\n",
       "      <td>IG I³\\n2</td>\n",
       "      <td>Att. — non-stoich. — c. 500 a.</td>\n",
       "      <td></td>\n",
       "      <td>14</td>\n",
       "      <td>1\\n\\n\\n\\n5\\n\\n\\n\\n\\n10\\n\\n\\n\\n</td>\n",
       "      <td>[․․8-9․․․]ν̣ βολ — — — — — — — — — —\\n[․6-7․․]...</td>\n",
       "      <td>...</td>\n",
       "      <td>[[βολ, ἑκών, σίον, γνοσθει, ἄτεχνος, μεδὲ, κελ...</td>\n",
       "      <td>[βολ, ἑκών, σίον, γνοσθει, ἄτεχνος, μεδὲ, κελε...</td>\n",
       "      <td>c. 500 a.</td>\n",
       "      <td>{'or': None, 'not_before': -505, 'not_after': ...</td>\n",
       "      <td>-505.0</td>\n",
       "      <td>-495.0</td>\n",
       "      <td>None</td>\n",
       "      <td>[exact, phase, ca]</td>\n",
       "      <td>None</td>\n",
       "      <td>None</td>\n",
       "    </tr>\n",
       "    <tr>\n",
       "      <th>2</th>\n",
       "      <td>/text/3?location=1701&amp;patt=&amp;bookid=4&amp;offset=0&amp;...</td>\n",
       "      <td>IG I³</td>\n",
       "      <td>3</td>\n",
       "      <td>Regions\\nAttica (IG I-III)</td>\n",
       "      <td>IG I³\\n3</td>\n",
       "      <td>Att. — stoich. 21 — 490-480 a.</td>\n",
       "      <td></td>\n",
       "      <td>13</td>\n",
       "      <td>1\\n\\n\\n\\n5\\n\\n\\n\\n\\n10\\n\\n\\n</td>\n",
       "      <td>[․]αρ[․․․․]ι ℎερακλειο[․․5․․]\\n[․]αρ̣ο#⁷[․] τι...</td>\n",
       "      <td>...</td>\n",
       "      <td>[[ἑρακλειο, ἀρόω, τίθημι, ἀθλοθέτης, ἀνήρ, ἄγο...</td>\n",
       "      <td>[ἑρακλειο, ἀρόω, τίθημι, ἀθλοθέτης, ἀνήρ, ἄγον...</td>\n",
       "      <td>490-480 a.</td>\n",
       "      <td>{'or': None, 'not_before': -490, 'not_after': ...</td>\n",
       "      <td>-490.0</td>\n",
       "      <td>-480.0</td>\n",
       "      <td>None</td>\n",
       "      <td>[range]</td>\n",
       "      <td>None</td>\n",
       "      <td>None</td>\n",
       "    </tr>\n",
       "    <tr>\n",
       "      <th>3</th>\n",
       "      <td>/text/4?location=1701&amp;patt=&amp;bookid=4&amp;offset=0&amp;...</td>\n",
       "      <td>IG I³</td>\n",
       "      <td>4</td>\n",
       "      <td>Regions\\nAttica (IG I-III)</td>\n",
       "      <td>IG I³\\n4</td>\n",
       "      <td>Att. — stoich. 38 — 485/4 a.</td>\n",
       "      <td></td>\n",
       "      <td>56</td>\n",
       "      <td>face A.1\\n\\n\\n\\n5\\n\\n\\n\\n\\n10\\n\\n\\n\\n\\n15\\n\\n\\...</td>\n",
       "      <td>[․․․․․․․․․․․․․․․․․․38․․․․․․․․․․․․․․․․․․]\\n[․․․...</td>\n",
       "      <td>...</td>\n",
       "      <td>[[τὶς, φρορὰν, πεντέκοντα, δραχμή, τ, πρᾶχσιν,...</td>\n",
       "      <td>[τὶς, φρορὰν, πεντέκοντα, δραχμή, τ, πρᾶχσιν, ...</td>\n",
       "      <td>485/4 a.</td>\n",
       "      <td>{'or': None, 'not_before': -485, 'not_after': ...</td>\n",
       "      <td>-485.0</td>\n",
       "      <td>-484.0</td>\n",
       "      <td>None</td>\n",
       "      <td>[range]</td>\n",
       "      <td>None</td>\n",
       "      <td>None</td>\n",
       "    </tr>\n",
       "    <tr>\n",
       "      <th>4</th>\n",
       "      <td>/text/5?location=1701&amp;patt=&amp;bookid=4&amp;offset=0&amp;...</td>\n",
       "      <td>IG I³</td>\n",
       "      <td>5</td>\n",
       "      <td>Regions\\nAttica (IG I-III)</td>\n",
       "      <td>IG I³\\n5</td>\n",
       "      <td>Att. — c. 500 a.</td>\n",
       "      <td></td>\n",
       "      <td>6</td>\n",
       "      <td>1\\n\\n\\n\\n5\\n</td>\n",
       "      <td>[ἔδοχσε]ν [⋮ τε͂ι βολε͂ι] ⋮ καὶ [τ]ο͂ι δέμοι ⋮...</td>\n",
       "      <td>...</td>\n",
       "      <td>[[ἔδοχσεν, τει, βολει, δέμοι, παραιβάτες, γραμ...</td>\n",
       "      <td>[ἔδοχσεν, τει, βολει, δέμοι, παραιβάτες, γραμμ...</td>\n",
       "      <td>c. 500 a.</td>\n",
       "      <td>{'or': None, 'not_before': -505, 'not_after': ...</td>\n",
       "      <td>-505.0</td>\n",
       "      <td>-495.0</td>\n",
       "      <td>None</td>\n",
       "      <td>[exact, phase, ca]</td>\n",
       "      <td>None</td>\n",
       "      <td>None</td>\n",
       "    </tr>\n",
       "    <tr>\n",
       "      <th>5</th>\n",
       "      <td>/text/6?location=1701&amp;patt=&amp;bookid=4&amp;offset=0&amp;...</td>\n",
       "      <td>IG I³</td>\n",
       "      <td>6</td>\n",
       "      <td>Regions\\nAttica (IG I-III)</td>\n",
       "      <td>IG I³\\n6</td>\n",
       "      <td>Att. — stoich. 23/11 — ante 460 a.</td>\n",
       "      <td></td>\n",
       "      <td>160</td>\n",
       "      <td>face A.BM 309.1\\n\\n\\n\\n5\\n\\n\\n\\n\\n10\\n\\n\\n\\n\\n...</td>\n",
       "      <td>— — — — — — — — — — — — —\\n[․․․․․․15․․․․․․․] δ...</td>\n",
       "      <td>...</td>\n",
       "      <td>[[δραχμεισι, τες, μένος, δεμο, πόλεον, δοκέω, ...</td>\n",
       "      <td>[δραχμεισι, τες, μένος, δεμο, πόλεον, δοκέω, ἀ...</td>\n",
       "      <td>ante 460 a.</td>\n",
       "      <td>{'or': None, 'not_before': None, 'not_after': ...</td>\n",
       "      <td>NaN</td>\n",
       "      <td>-461.0</td>\n",
       "      <td>None</td>\n",
       "      <td>[ante]</td>\n",
       "      <td>None</td>\n",
       "      <td>None</td>\n",
       "    </tr>\n",
       "    <tr>\n",
       "      <th>6</th>\n",
       "      <td>/text/7?location=1701&amp;patt=&amp;bookid=4&amp;offset=0&amp;...</td>\n",
       "      <td>IG I³</td>\n",
       "      <td>7</td>\n",
       "      <td>Regions\\nAttica (IG I-III)</td>\n",
       "      <td>IG I³\\n7</td>\n",
       "      <td>Att. — stoich. 40 — 460-450</td>\n",
       "      <td></td>\n",
       "      <td>28</td>\n",
       "      <td>frg. a.1\\n\\n\\n\\n5\\n\\n\\n\\n\\n10\\n\\n\\n\\n13\\n\\n\\nf...</td>\n",
       "      <td>[ἔδοχσεν τε͂]ι βο[λ]ε͂[ι καὶ το͂ι δέμοι· ․․6․․...</td>\n",
       "      <td>...</td>\n",
       "      <td>[[ἔδοχσεν, τει, βολει, δέμοι, πρυτανεύω, γραμμ...</td>\n",
       "      <td>[ἔδοχσεν, τει, βολει, δέμοι, πρυτανεύω, γραμμα...</td>\n",
       "      <td>460-450</td>\n",
       "      <td>{'or': None, 'not_before': -460, 'not_after': ...</td>\n",
       "      <td>-460.0</td>\n",
       "      <td>-450.0</td>\n",
       "      <td>None</td>\n",
       "      <td>[range]</td>\n",
       "      <td>None</td>\n",
       "      <td>None</td>\n",
       "    </tr>\n",
       "    <tr>\n",
       "      <th>7</th>\n",
       "      <td>/text/8?location=1701&amp;patt=&amp;bookid=4&amp;offset=0&amp;...</td>\n",
       "      <td>IG I³</td>\n",
       "      <td>8</td>\n",
       "      <td>Regions\\nAttica (IG I-III)</td>\n",
       "      <td>IG I³\\n8</td>\n",
       "      <td>Att. — stoich. 32 — 460-450</td>\n",
       "      <td></td>\n",
       "      <td>26</td>\n",
       "      <td>frg. a.1\\n\\n\\n\\n5\\n\\n\\n\\n\\n10\\n\\n\\nfrg. b.12\\n...</td>\n",
       "      <td>[․․5․․]#⁷ον ℎὰ ο[․․․․․․․․․21․․․․․․․․․․]\\nα περ...</td>\n",
       "      <td>...</td>\n",
       "      <td>[[οὗτος, δέμω, ἀντίβιος, λέγω, ἄλλος, Καλλίμαχ...</td>\n",
       "      <td>[οὗτος, δέμω, ἀντίβιος, λέγω, ἄλλος, Καλλίμαχο...</td>\n",
       "      <td>460-450</td>\n",
       "      <td>{'or': None, 'not_before': -460, 'not_after': ...</td>\n",
       "      <td>-460.0</td>\n",
       "      <td>-450.0</td>\n",
       "      <td>None</td>\n",
       "      <td>[range]</td>\n",
       "      <td>None</td>\n",
       "      <td>None</td>\n",
       "    </tr>\n",
       "    <tr>\n",
       "      <th>8</th>\n",
       "      <td>/text/9?location=1701&amp;patt=&amp;bookid=4&amp;offset=0&amp;...</td>\n",
       "      <td>IG I³</td>\n",
       "      <td>9</td>\n",
       "      <td>Regions\\nAttica (IG I-III)</td>\n",
       "      <td>IG I³\\n9</td>\n",
       "      <td>Att. — stoich. 24 — c. 458 a.</td>\n",
       "      <td></td>\n",
       "      <td>17</td>\n",
       "      <td>1\\n\\n\\n\\n5\\n\\n\\n\\n\\n10\\n\\n\\n\\n\\n15\\n\\n</td>\n",
       "      <td>[ἔδοχσεν τε͂ι βο]λε̣͂ι καὶ το͂[ι δέμ]-\\n[οι· ․...</td>\n",
       "      <td>...</td>\n",
       "      <td>[[ἔδοχσεν, τει, βολει, δέμοι, ντὶς, πρυτανεύω,...</td>\n",
       "      <td>[ἔδοχσεν, τει, βολει, δέμοι, ντὶς, πρυτανεύω, ...</td>\n",
       "      <td>c. 458 a.</td>\n",
       "      <td>{'or': None, 'not_before': -463, 'not_after': ...</td>\n",
       "      <td>-463.0</td>\n",
       "      <td>-453.0</td>\n",
       "      <td>None</td>\n",
       "      <td>[exact, phase, ca]</td>\n",
       "      <td>None</td>\n",
       "      <td>None</td>\n",
       "    </tr>\n",
       "    <tr>\n",
       "      <th>9</th>\n",
       "      <td>/text/10?location=1701&amp;patt=&amp;bookid=4&amp;offset=0...</td>\n",
       "      <td>IG I³</td>\n",
       "      <td>10</td>\n",
       "      <td>Regions\\nAttica (IG I-III)</td>\n",
       "      <td>IG I³\\n10</td>\n",
       "      <td>Att. — stoich. 22 — 469-450</td>\n",
       "      <td></td>\n",
       "      <td>28</td>\n",
       "      <td>1\\n\\n\\n\\n5\\n\\n\\n\\n\\n10\\n\\n\\n\\n\\n15\\n\\n\\n\\n\\n20...</td>\n",
       "      <td>[ἔδο]ξεν τῆι βολῆι καὶ τῶι δ[ή]-\\n[μωι· Ἀ]καμα...</td>\n",
       "      <td>...</td>\n",
       "      <td>[[δοκέω, βολῆι, δῆμος, ἀκαμαντὶς, πρυτανεύω, ν...</td>\n",
       "      <td>[δοκέω, βολῆι, δῆμος, ἀκαμαντὶς, πρυτανεύω, νά...</td>\n",
       "      <td>469-450</td>\n",
       "      <td>{'or': None, 'not_before': -469, 'not_after': ...</td>\n",
       "      <td>-469.0</td>\n",
       "      <td>-450.0</td>\n",
       "      <td>None</td>\n",
       "      <td>[range]</td>\n",
       "      <td>None</td>\n",
       "      <td>None</td>\n",
       "    </tr>\n",
       "    <tr>\n",
       "      <th>10</th>\n",
       "      <td>/text/11?location=1701&amp;patt=&amp;bookid=4&amp;offset=0...</td>\n",
       "      <td>IG I³</td>\n",
       "      <td>11</td>\n",
       "      <td>Regions\\nAttica (IG I-III)</td>\n",
       "      <td>IG I³\\n11</td>\n",
       "      <td>Att. — stoich. 48 — ante med. s. V a.</td>\n",
       "      <td></td>\n",
       "      <td>22</td>\n",
       "      <td>frg. a.1\\n\\n\\n\\n5\\n\\n\\n\\n\\n10\\n\\n\\n\\n\\n15\\n\\n\\...</td>\n",
       "      <td>[χσυμμαχία καὶ ℎόρ]κ̣ο̣[ς] Ἀ̣[θ]ε̣ν̣α̣[ίον κα]...</td>\n",
       "      <td>...</td>\n",
       "      <td>[[χσυμμαχία, ὅρκος, ἀθεναίον, ἐγεσταίον], [ἔδο...</td>\n",
       "      <td>[χσυμμαχία, ὅρκος, ἀθεναίον, ἐγεσταίον, ἔδοχσε...</td>\n",
       "      <td>ante med. s. V a.</td>\n",
       "      <td>{'or': None, 'not_before': None, 'not_after': ...</td>\n",
       "      <td>NaN</td>\n",
       "      <td>-456.0</td>\n",
       "      <td>None</td>\n",
       "      <td>[range, cent, phase, middle, ante]</td>\n",
       "      <td>None</td>\n",
       "      <td>None</td>\n",
       "    </tr>\n",
       "    <tr>\n",
       "      <th>11</th>\n",
       "      <td>/text/12?location=1701&amp;patt=&amp;bookid=4&amp;offset=0...</td>\n",
       "      <td>IG I³</td>\n",
       "      <td>12</td>\n",
       "      <td>Regions\\nAttica (IG I-III)</td>\n",
       "      <td>IG I³\\n12</td>\n",
       "      <td>Att. — stoich. 54 — c. 433/2 a.</td>\n",
       "      <td></td>\n",
       "      <td>7</td>\n",
       "      <td>1\\n\\n\\n\\n5\\n\\n</td>\n",
       "      <td>[ἔδοχσε]ν τε͂ι βολε͂ι [καὶ το͂ι δέμοι· ․․․c.9․...</td>\n",
       "      <td>...</td>\n",
       "      <td>[[ἔδοχσεν, τει, βολει, δέμοι, πρυτανεύω, γραμμ...</td>\n",
       "      <td>[ἔδοχσεν, τει, βολει, δέμοι, πρυτανεύω, γραμμα...</td>\n",
       "      <td>c. 433/2 a.</td>\n",
       "      <td>{'or': None, 'not_before': -433, 'not_after': ...</td>\n",
       "      <td>-433.0</td>\n",
       "      <td>-432.0</td>\n",
       "      <td>None</td>\n",
       "      <td>[range, phase, ca]</td>\n",
       "      <td>None</td>\n",
       "      <td>None</td>\n",
       "    </tr>\n",
       "    <tr>\n",
       "      <th>12</th>\n",
       "      <td>/text/13?location=1701&amp;patt=&amp;bookid=4&amp;offset=0...</td>\n",
       "      <td>IG I³</td>\n",
       "      <td>13</td>\n",
       "      <td>Regions\\nAttica (IG I-III)</td>\n",
       "      <td>IG I³\\n13</td>\n",
       "      <td>Att. — stoich. — 465-450</td>\n",
       "      <td></td>\n",
       "      <td>13</td>\n",
       "      <td>frg. a.1\\n\\n\\n\\n\\nfrg. b.5\\n\\n\\n\\n\\n10\\n\\n</td>\n",
       "      <td>— — χαι — —\\n— — ε̣σσθα̣ — —\\n— — [․]λιστ — —\\...</td>\n",
       "      <td>...</td>\n",
       "      <td>[[χαι, εσσθα, λιστ, νεμ, ℎότι, οδομεν, δέκα, δ...</td>\n",
       "      <td>[χαι, εσσθα, λιστ, νεμ, ℎότι, οδομεν, δέκα, δα...</td>\n",
       "      <td>465-450</td>\n",
       "      <td>{'or': None, 'not_before': -465, 'not_after': ...</td>\n",
       "      <td>-465.0</td>\n",
       "      <td>-450.0</td>\n",
       "      <td>None</td>\n",
       "      <td>[range]</td>\n",
       "      <td>None</td>\n",
       "      <td>None</td>\n",
       "    </tr>\n",
       "    <tr>\n",
       "      <th>13</th>\n",
       "      <td>/text/14?location=1701&amp;patt=&amp;bookid=4&amp;offset=0...</td>\n",
       "      <td>IG I³</td>\n",
       "      <td>14</td>\n",
       "      <td>Regions\\nAttica (IG I-III)</td>\n",
       "      <td>IG I³\\n14</td>\n",
       "      <td>Att. — stoich. 23 — 453/2?</td>\n",
       "      <td></td>\n",
       "      <td>46</td>\n",
       "      <td>1\\n\\n\\n\\n5\\n\\n\\n\\n\\n10\\n\\n\\n\\n\\n15\\n\\n\\n\\n\\n20...</td>\n",
       "      <td>[ἔδοχσεν τε͂ι βολε͂ι καὶ το͂ι δέμοι· — — — ἐπρ...</td>\n",
       "      <td>...</td>\n",
       "      <td>[[ἔδοχσεν, τει, βολει, δέμοι, πρυτανεύω, ἐπεστ...</td>\n",
       "      <td>[ἔδοχσεν, τει, βολει, δέμοι, πρυτανεύω, ἐπεστά...</td>\n",
       "      <td>453/2?</td>\n",
       "      <td>{'or': None, 'certainty': '?', 'not_before': -...</td>\n",
       "      <td>-453.0</td>\n",
       "      <td>-452.0</td>\n",
       "      <td>None</td>\n",
       "      <td>[range]</td>\n",
       "      <td>?</td>\n",
       "      <td>None</td>\n",
       "    </tr>\n",
       "    <tr>\n",
       "      <th>14</th>\n",
       "      <td>/text/15?location=1701&amp;patt=&amp;bookid=4&amp;offset=0...</td>\n",
       "      <td>IG I³</td>\n",
       "      <td>15</td>\n",
       "      <td>Regions\\nAttica (IG I-III)</td>\n",
       "      <td>IG I³\\n15</td>\n",
       "      <td>Att. — stoich. 47 — c. 450 a.</td>\n",
       "      <td></td>\n",
       "      <td>48</td>\n",
       "      <td>frg. c.1\\n\\n\\n\\n\\nfrg. b.5\\n\\n\\n\\n\\n10\\n\\n\\n\\n...</td>\n",
       "      <td>— — ΧΙ — —\\n— — ΔΙ — —\\n— — ΟΛ — —\\n— — ΟΝ̣ — ...</td>\n",
       "      <td>...</td>\n",
       "      <td>[[δραχμή, πάρειμι, ἀθεναι, χρεμάτον, χιλι, χρέ...</td>\n",
       "      <td>[δραχμή, πάρειμι, ἀθεναι, χρεμάτον, χιλι, χρέμ...</td>\n",
       "      <td>c. 450 a.</td>\n",
       "      <td>{'or': None, 'not_before': -455, 'not_after': ...</td>\n",
       "      <td>-455.0</td>\n",
       "      <td>-445.0</td>\n",
       "      <td>None</td>\n",
       "      <td>[exact, phase, ca]</td>\n",
       "      <td>None</td>\n",
       "      <td>None</td>\n",
       "    </tr>\n",
       "    <tr>\n",
       "      <th>15</th>\n",
       "      <td>/text/16?location=1701&amp;patt=&amp;bookid=4&amp;offset=0...</td>\n",
       "      <td>IG I³</td>\n",
       "      <td>16</td>\n",
       "      <td>Regions\\nAttica (IG I-III)</td>\n",
       "      <td>IG I³\\n16</td>\n",
       "      <td>Att. — stoich. — c. 450 a.</td>\n",
       "      <td></td>\n",
       "      <td>23</td>\n",
       "      <td>frg. a\\n1\\n\\n\\n\\n5\\n\\n\\n\\n\\n10\\n\\n\\n\\n\\n15\\n\\n...</td>\n",
       "      <td>vestigia\\n[․]ται ἐὰμ — — — — — — — — — — —\\n[․...</td>\n",
       "      <td>...</td>\n",
       "      <td>[[ἐὰμ, σθο, λλοτ, ὀλός, βολὲν, φρόραρχον, φρορ...</td>\n",
       "      <td>[ἐὰμ, σθο, λλοτ, ὀλός, βολὲν, φρόραρχον, φρορε...</td>\n",
       "      <td>c. 450 a.</td>\n",
       "      <td>{'or': None, 'not_before': -455, 'not_after': ...</td>\n",
       "      <td>-455.0</td>\n",
       "      <td>-445.0</td>\n",
       "      <td>None</td>\n",
       "      <td>[exact, phase, ca]</td>\n",
       "      <td>None</td>\n",
       "      <td>None</td>\n",
       "    </tr>\n",
       "    <tr>\n",
       "      <th>16</th>\n",
       "      <td>/text/17?location=1701&amp;patt=&amp;bookid=4&amp;offset=0...</td>\n",
       "      <td>IG I³</td>\n",
       "      <td>17</td>\n",
       "      <td>Regions\\nAttica (IG I-III)</td>\n",
       "      <td>IG I³\\n17</td>\n",
       "      <td>Att. — stoich. 23 — 451/0</td>\n",
       "      <td></td>\n",
       "      <td>18</td>\n",
       "      <td>frg. a.1\\n\\n\\n\\n5\\n\\n\\n\\n\\n10\\nfrg. b.10\\n\\n\\n...</td>\n",
       "      <td>Σιγ[ειέον].\\n[ἔ]δοχσεν τε͂[ι βολε͂ι καὶ το͂ι δ...</td>\n",
       "      <td>...</td>\n",
       "      <td>[[σιγειέον], [ἔδοχσεν, τει, βολει, δέμοι, οἰνε...</td>\n",
       "      <td>[σιγειέον, ἔδοχσεν, τει, βολει, δέμοι, οἰνεὶς,...</td>\n",
       "      <td>451/0</td>\n",
       "      <td>{'or': None, 'not_before': -451, 'not_after': ...</td>\n",
       "      <td>-451.0</td>\n",
       "      <td>-450.0</td>\n",
       "      <td>None</td>\n",
       "      <td>[range]</td>\n",
       "      <td>None</td>\n",
       "      <td>None</td>\n",
       "    </tr>\n",
       "    <tr>\n",
       "      <th>17</th>\n",
       "      <td>/text/18?location=1701&amp;patt=&amp;bookid=4&amp;offset=0...</td>\n",
       "      <td>IG I³</td>\n",
       "      <td>18</td>\n",
       "      <td>Regions\\nAttica (IG I-III)</td>\n",
       "      <td>IG I³\\n18</td>\n",
       "      <td>Att. — stoich. — c. 450 a.</td>\n",
       "      <td></td>\n",
       "      <td>26</td>\n",
       "      <td>frg. a.1\\n\\n\\n\\n5\\n\\n\\n\\n\\n10\\n\\nfrg. b.11\\n\\n...</td>\n",
       "      <td>προ[χσένον καὶ εὐεργετο͂ν]\\nἈθενα[ίον — — — — ...</td>\n",
       "      <td>...</td>\n",
       "      <td>[[προχσένον, εὐεργετον, ἀθεναίον, παριανον, ἀθ...</td>\n",
       "      <td>[προχσένον, εὐεργετον, ἀθεναίον, παριανον, ἀθε...</td>\n",
       "      <td>c. 450 a.</td>\n",
       "      <td>{'or': None, 'not_before': -455, 'not_after': ...</td>\n",
       "      <td>-455.0</td>\n",
       "      <td>-445.0</td>\n",
       "      <td>None</td>\n",
       "      <td>[exact, phase, ca]</td>\n",
       "      <td>None</td>\n",
       "      <td>None</td>\n",
       "    </tr>\n",
       "    <tr>\n",
       "      <th>18</th>\n",
       "      <td>/text/19?location=1701&amp;patt=&amp;bookid=4&amp;offset=0...</td>\n",
       "      <td>IG I³</td>\n",
       "      <td>19</td>\n",
       "      <td>Regions\\nAttica (IG I-III)</td>\n",
       "      <td>IG I³\\n19</td>\n",
       "      <td>Att. — stoich. 28 — c. 450/49 a.</td>\n",
       "      <td></td>\n",
       "      <td>13</td>\n",
       "      <td>1\\n\\n\\n\\n5\\n\\n\\n\\n\\n10\\n\\n\\n</td>\n",
       "      <td>[․․․․ ἐ͂ναι] δ α[ὐτὸν πρόχσενον Ἀθενα]-\\n[ίον...</td>\n",
       "      <td>...</td>\n",
       "      <td>[[νάω, αὐτός, πρόχσενον, ἀθεναίον, τινον, ἀδικ...</td>\n",
       "      <td>[νάω, αὐτός, πρόχσενον, ἀθεναίον, τινον, ἀδικε...</td>\n",
       "      <td>c. 450/49 a.</td>\n",
       "      <td>{'or': None, 'not_before': -450, 'not_after': ...</td>\n",
       "      <td>-450.0</td>\n",
       "      <td>-449.0</td>\n",
       "      <td>None</td>\n",
       "      <td>[range, phase, ca]</td>\n",
       "      <td>None</td>\n",
       "      <td>None</td>\n",
       "    </tr>\n",
       "    <tr>\n",
       "      <th>19</th>\n",
       "      <td>/text/20?location=1701&amp;patt=&amp;bookid=4&amp;offset=0...</td>\n",
       "      <td>IG I³</td>\n",
       "      <td>20</td>\n",
       "      <td>Regions\\nAttica (IG I-III)</td>\n",
       "      <td>IG I³\\n20</td>\n",
       "      <td>Att. — stoich. — c. 450 a.</td>\n",
       "      <td></td>\n",
       "      <td>11</td>\n",
       "      <td>1\\n\\n\\n\\n5\\n\\n\\n\\n\\n10\\n</td>\n",
       "      <td>[— — — — — — — —  ․․․․] καὶ — — — — — — — — —\\...</td>\n",
       "      <td>...</td>\n",
       "      <td>[[ℎόπος, ἀδικεται, δέμω, ολις, πρότοις, ℎιερὰ,...</td>\n",
       "      <td>[ℎόπος, ἀδικεται, δέμω, ολις, πρότοις, ℎιερὰ, ...</td>\n",
       "      <td>c. 450 a.</td>\n",
       "      <td>{'or': None, 'not_before': -455, 'not_after': ...</td>\n",
       "      <td>-455.0</td>\n",
       "      <td>-445.0</td>\n",
       "      <td>None</td>\n",
       "      <td>[exact, phase, ca]</td>\n",
       "      <td>None</td>\n",
       "      <td>None</td>\n",
       "    </tr>\n",
       "  </tbody>\n",
       "</table>\n",
       "<p>20 rows × 29 columns</p>\n",
       "</div>"
      ],
      "text/plain": [
       "                                                  URL   Book Text  \\\n",
       "0   /text/1?location=1701&patt=&bookid=4&offset=0&...  IG I³    1   \n",
       "1   /text/2?location=1701&patt=&bookid=4&offset=0&...  IG I³    2   \n",
       "2   /text/3?location=1701&patt=&bookid=4&offset=0&...  IG I³    3   \n",
       "3   /text/4?location=1701&patt=&bookid=4&offset=0&...  IG I³    4   \n",
       "4   /text/5?location=1701&patt=&bookid=4&offset=0&...  IG I³    5   \n",
       "5   /text/6?location=1701&patt=&bookid=4&offset=0&...  IG I³    6   \n",
       "6   /text/7?location=1701&patt=&bookid=4&offset=0&...  IG I³    7   \n",
       "7   /text/8?location=1701&patt=&bookid=4&offset=0&...  IG I³    8   \n",
       "8   /text/9?location=1701&patt=&bookid=4&offset=0&...  IG I³    9   \n",
       "9   /text/10?location=1701&patt=&bookid=4&offset=0...  IG I³   10   \n",
       "10  /text/11?location=1701&patt=&bookid=4&offset=0...  IG I³   11   \n",
       "11  /text/12?location=1701&patt=&bookid=4&offset=0...  IG I³   12   \n",
       "12  /text/13?location=1701&patt=&bookid=4&offset=0...  IG I³   13   \n",
       "13  /text/14?location=1701&patt=&bookid=4&offset=0...  IG I³   14   \n",
       "14  /text/15?location=1701&patt=&bookid=4&offset=0...  IG I³   15   \n",
       "15  /text/16?location=1701&patt=&bookid=4&offset=0...  IG I³   16   \n",
       "16  /text/17?location=1701&patt=&bookid=4&offset=0...  IG I³   17   \n",
       "17  /text/18?location=1701&patt=&bookid=4&offset=0...  IG I³   18   \n",
       "18  /text/19?location=1701&patt=&bookid=4&offset=0...  IG I³   19   \n",
       "19  /text/20?location=1701&patt=&bookid=4&offset=0...  IG I³   20   \n",
       "\n",
       "                          hdr1       hdr2  \\\n",
       "0   Regions\\nAttica (IG I-III)   IG I³\\n1   \n",
       "1   Regions\\nAttica (IG I-III)   IG I³\\n2   \n",
       "2   Regions\\nAttica (IG I-III)   IG I³\\n3   \n",
       "3   Regions\\nAttica (IG I-III)   IG I³\\n4   \n",
       "4   Regions\\nAttica (IG I-III)   IG I³\\n5   \n",
       "5   Regions\\nAttica (IG I-III)   IG I³\\n6   \n",
       "6   Regions\\nAttica (IG I-III)   IG I³\\n7   \n",
       "7   Regions\\nAttica (IG I-III)   IG I³\\n8   \n",
       "8   Regions\\nAttica (IG I-III)   IG I³\\n9   \n",
       "9   Regions\\nAttica (IG I-III)  IG I³\\n10   \n",
       "10  Regions\\nAttica (IG I-III)  IG I³\\n11   \n",
       "11  Regions\\nAttica (IG I-III)  IG I³\\n12   \n",
       "12  Regions\\nAttica (IG I-III)  IG I³\\n13   \n",
       "13  Regions\\nAttica (IG I-III)  IG I³\\n14   \n",
       "14  Regions\\nAttica (IG I-III)  IG I³\\n15   \n",
       "15  Regions\\nAttica (IG I-III)  IG I³\\n16   \n",
       "16  Regions\\nAttica (IG I-III)  IG I³\\n17   \n",
       "17  Regions\\nAttica (IG I-III)  IG I³\\n18   \n",
       "18  Regions\\nAttica (IG I-III)  IG I³\\n19   \n",
       "19  Regions\\nAttica (IG I-III)  IG I³\\n20   \n",
       "\n",
       "                                            tildeinfo note  lines  \\\n",
       "0   Att. — Ath.: Akr. — stoich. 35 — c. 510-500 a....          12   \n",
       "1                      Att. — non-stoich. — c. 500 a.          14   \n",
       "2                      Att. — stoich. 21 — 490-480 a.          13   \n",
       "3                        Att. — stoich. 38 — 485/4 a.          56   \n",
       "4                                    Att. — c. 500 a.           6   \n",
       "5                  Att. — stoich. 23/11 — ante 460 a.         160   \n",
       "6                         Att. — stoich. 40 — 460-450          28   \n",
       "7                         Att. — stoich. 32 — 460-450          26   \n",
       "8                       Att. — stoich. 24 — c. 458 a.          17   \n",
       "9                         Att. — stoich. 22 — 469-450          28   \n",
       "10              Att. — stoich. 48 — ante med. s. V a.          22   \n",
       "11                    Att. — stoich. 54 — c. 433/2 a.           7   \n",
       "12                           Att. — stoich. — 465-450          13   \n",
       "13                         Att. — stoich. 23 — 453/2?          46   \n",
       "14                      Att. — stoich. 47 — c. 450 a.          48   \n",
       "15                         Att. — stoich. — c. 450 a.          23   \n",
       "16                          Att. — stoich. 23 — 451/0          18   \n",
       "17                         Att. — stoich. — c. 450 a.          26   \n",
       "18                   Att. — stoich. 28 — c. 450/49 a.          13   \n",
       "19                         Att. — stoich. — c. 450 a.          11   \n",
       "\n",
       "                                             metadata  \\\n",
       "0                          1\\n\\n\\n\\n5\\n\\n\\n\\n\\n10\\n\\n   \n",
       "1                      1\\n\\n\\n\\n5\\n\\n\\n\\n\\n10\\n\\n\\n\\n   \n",
       "2                        1\\n\\n\\n\\n5\\n\\n\\n\\n\\n10\\n\\n\\n   \n",
       "3   face A.1\\n\\n\\n\\n5\\n\\n\\n\\n\\n10\\n\\n\\n\\n\\n15\\n\\n\\...   \n",
       "4                                        1\\n\\n\\n\\n5\\n   \n",
       "5   face A.BM 309.1\\n\\n\\n\\n5\\n\\n\\n\\n\\n10\\n\\n\\n\\n\\n...   \n",
       "6   frg. a.1\\n\\n\\n\\n5\\n\\n\\n\\n\\n10\\n\\n\\n\\n13\\n\\n\\nf...   \n",
       "7   frg. a.1\\n\\n\\n\\n5\\n\\n\\n\\n\\n10\\n\\n\\nfrg. b.12\\n...   \n",
       "8              1\\n\\n\\n\\n5\\n\\n\\n\\n\\n10\\n\\n\\n\\n\\n15\\n\\n   \n",
       "9   1\\n\\n\\n\\n5\\n\\n\\n\\n\\n10\\n\\n\\n\\n\\n15\\n\\n\\n\\n\\n20...   \n",
       "10  frg. a.1\\n\\n\\n\\n5\\n\\n\\n\\n\\n10\\n\\n\\n\\n\\n15\\n\\n\\...   \n",
       "11                                     1\\n\\n\\n\\n5\\n\\n   \n",
       "12         frg. a.1\\n\\n\\n\\n\\nfrg. b.5\\n\\n\\n\\n\\n10\\n\\n   \n",
       "13  1\\n\\n\\n\\n5\\n\\n\\n\\n\\n10\\n\\n\\n\\n\\n15\\n\\n\\n\\n\\n20...   \n",
       "14  frg. c.1\\n\\n\\n\\n\\nfrg. b.5\\n\\n\\n\\n\\n10\\n\\n\\n\\n...   \n",
       "15  frg. a\\n1\\n\\n\\n\\n5\\n\\n\\n\\n\\n10\\n\\n\\n\\n\\n15\\n\\n...   \n",
       "16  frg. a.1\\n\\n\\n\\n5\\n\\n\\n\\n\\n10\\nfrg. b.10\\n\\n\\n...   \n",
       "17  frg. a.1\\n\\n\\n\\n5\\n\\n\\n\\n\\n10\\n\\nfrg. b.11\\n\\n...   \n",
       "18                       1\\n\\n\\n\\n5\\n\\n\\n\\n\\n10\\n\\n\\n   \n",
       "19                           1\\n\\n\\n\\n5\\n\\n\\n\\n\\n10\\n   \n",
       "\n",
       "                                                 data  ...  \\\n",
       "0   ἔδοχσεν το͂ι δέμοι· τ̣[ὸς ἐ Σ]αλαμ̣[ῖνι κλερόχ...  ...   \n",
       "1   [․․8-9․․․]ν̣ βολ — — — — — — — — — —\\n[․6-7․․]...  ...   \n",
       "2   [․]αρ[․․․․]ι ℎερακλειο[․․5․․]\\n[․]αρ̣ο#⁷[․] τι...  ...   \n",
       "3   [․․․․․․․․․․․․․․․․․․38․․․․․․․․․․․․․․․․․․]\\n[․․․...  ...   \n",
       "4   [ἔδοχσε]ν [⋮ τε͂ι βολε͂ι] ⋮ καὶ [τ]ο͂ι δέμοι ⋮...  ...   \n",
       "5   — — — — — — — — — — — — —\\n[․․․․․․15․․․․․․․] δ...  ...   \n",
       "6   [ἔδοχσεν τε͂]ι βο[λ]ε͂[ι καὶ το͂ι δέμοι· ․․6․․...  ...   \n",
       "7   [․․5․․]#⁷ον ℎὰ ο[․․․․․․․․․21․․․․․․․․․․]\\nα περ...  ...   \n",
       "8   [ἔδοχσεν τε͂ι βο]λε̣͂ι καὶ το͂[ι δέμ]-\\n[οι· ․...  ...   \n",
       "9   [ἔδο]ξεν τῆι βολῆι καὶ τῶι δ[ή]-\\n[μωι· Ἀ]καμα...  ...   \n",
       "10  [χσυμμαχία καὶ ℎόρ]κ̣ο̣[ς] Ἀ̣[θ]ε̣ν̣α̣[ίον κα]...  ...   \n",
       "11  [ἔδοχσε]ν τε͂ι βολε͂ι [καὶ το͂ι δέμοι· ․․․c.9․...  ...   \n",
       "12  — — χαι — —\\n— — ε̣σσθα̣ — —\\n— — [․]λιστ — —\\...  ...   \n",
       "13  [ἔδοχσεν τε͂ι βολε͂ι καὶ το͂ι δέμοι· — — — ἐπρ...  ...   \n",
       "14  — — ΧΙ — —\\n— — ΔΙ — —\\n— — ΟΛ — —\\n— — ΟΝ̣ — ...  ...   \n",
       "15  vestigia\\n[․]ται ἐὰμ — — — — — — — — — — —\\n[․...  ...   \n",
       "16  Σιγ[ειέον].\\n[ἔ]δοχσεν τε͂[ι βολε͂ι καὶ το͂ι δ...  ...   \n",
       "17  προ[χσένον καὶ εὐεργετο͂ν]\\nἈθενα[ίον — — — — ...  ...   \n",
       "18  [․․․․ ἐ͂ναι] δ α[ὐτὸν πρόχσενον Ἀθενα]-\\n[ίον...  ...   \n",
       "19  [— — — — — — — —  ․․․․] καὶ — — — — — — — — —\\...  ...   \n",
       "\n",
       "                                            lem_sents  \\\n",
       "0   [[ἔδοχσεν, δέμοι, Σαλαμίς, κλερόχος, οἰκεν, Σα...   \n",
       "1   [[βολ, ἑκών, σίον, γνοσθει, ἄτεχνος, μεδὲ, κελ...   \n",
       "2   [[ἑρακλειο, ἀρόω, τίθημι, ἀθλοθέτης, ἀνήρ, ἄγο...   \n",
       "3   [[τὶς, φρορὰν, πεντέκοντα, δραχμή, τ, πρᾶχσιν,...   \n",
       "4   [[ἔδοχσεν, τει, βολει, δέμοι, παραιβάτες, γραμ...   \n",
       "5   [[δραχμεισι, τες, μένος, δεμο, πόλεον, δοκέω, ...   \n",
       "6   [[ἔδοχσεν, τει, βολει, δέμοι, πρυτανεύω, γραμμ...   \n",
       "7   [[οὗτος, δέμω, ἀντίβιος, λέγω, ἄλλος, Καλλίμαχ...   \n",
       "8   [[ἔδοχσεν, τει, βολει, δέμοι, ντὶς, πρυτανεύω,...   \n",
       "9   [[δοκέω, βολῆι, δῆμος, ἀκαμαντὶς, πρυτανεύω, ν...   \n",
       "10  [[χσυμμαχία, ὅρκος, ἀθεναίον, ἐγεσταίον], [ἔδο...   \n",
       "11  [[ἔδοχσεν, τει, βολει, δέμοι, πρυτανεύω, γραμμ...   \n",
       "12  [[χαι, εσσθα, λιστ, νεμ, ℎότι, οδομεν, δέκα, δ...   \n",
       "13  [[ἔδοχσεν, τει, βολει, δέμοι, πρυτανεύω, ἐπεστ...   \n",
       "14  [[δραχμή, πάρειμι, ἀθεναι, χρεμάτον, χιλι, χρέ...   \n",
       "15  [[ἐὰμ, σθο, λλοτ, ὀλός, βολὲν, φρόραρχον, φρορ...   \n",
       "16  [[σιγειέον], [ἔδοχσεν, τει, βολει, δέμοι, οἰνε...   \n",
       "17  [[προχσένον, εὐεργετον, ἀθεναίον, παριανον, ἀθ...   \n",
       "18  [[νάω, αὐτός, πρόχσενον, ἀθεναίον, τινον, ἀδικ...   \n",
       "19  [[ℎόπος, ἀδικεται, δέμω, ολις, πρότοις, ℎιερὰ,...   \n",
       "\n",
       "                                              lemmata           raw_date  \\\n",
       "0   [ἔδοχσεν, δέμοι, Σαλαμίς, κλερόχος, οἰκεν, Σαλ...     c. 510-500 a.    \n",
       "1   [βολ, ἑκών, σίον, γνοσθει, ἄτεχνος, μεδὲ, κελε...          c. 500 a.   \n",
       "2   [ἑρακλειο, ἀρόω, τίθημι, ἀθλοθέτης, ἀνήρ, ἄγον...         490-480 a.   \n",
       "3   [τὶς, φρορὰν, πεντέκοντα, δραχμή, τ, πρᾶχσιν, ...           485/4 a.   \n",
       "4   [ἔδοχσεν, τει, βολει, δέμοι, παραιβάτες, γραμμ...          c. 500 a.   \n",
       "5   [δραχμεισι, τες, μένος, δεμο, πόλεον, δοκέω, ἀ...        ante 460 a.   \n",
       "6   [ἔδοχσεν, τει, βολει, δέμοι, πρυτανεύω, γραμμα...            460-450   \n",
       "7   [οὗτος, δέμω, ἀντίβιος, λέγω, ἄλλος, Καλλίμαχο...            460-450   \n",
       "8   [ἔδοχσεν, τει, βολει, δέμοι, ντὶς, πρυτανεύω, ...          c. 458 a.   \n",
       "9   [δοκέω, βολῆι, δῆμος, ἀκαμαντὶς, πρυτανεύω, νά...            469-450   \n",
       "10  [χσυμμαχία, ὅρκος, ἀθεναίον, ἐγεσταίον, ἔδοχσε...  ante med. s. V a.   \n",
       "11  [ἔδοχσεν, τει, βολει, δέμοι, πρυτανεύω, γραμμα...        c. 433/2 a.   \n",
       "12  [χαι, εσσθα, λιστ, νεμ, ℎότι, οδομεν, δέκα, δα...            465-450   \n",
       "13  [ἔδοχσεν, τει, βολει, δέμοι, πρυτανεύω, ἐπεστά...             453/2?   \n",
       "14  [δραχμή, πάρειμι, ἀθεναι, χρεμάτον, χιλι, χρέμ...          c. 450 a.   \n",
       "15  [ἐὰμ, σθο, λλοτ, ὀλός, βολὲν, φρόραρχον, φρορε...          c. 450 a.   \n",
       "16  [σιγειέον, ἔδοχσεν, τει, βολει, δέμοι, οἰνεὶς,...              451/0   \n",
       "17  [προχσένον, εὐεργετον, ἀθεναίον, παριανον, ἀθε...          c. 450 a.   \n",
       "18  [νάω, αὐτός, πρόχσενον, ἀθεναίον, τινον, ἀδικε...       c. 450/49 a.   \n",
       "19  [ℎόπος, ἀδικεται, δέμω, ολις, πρότοις, ℎιερὰ, ...          c. 450 a.   \n",
       "\n",
       "                                          dating_dict not_before not_after  \\\n",
       "0   {'or': None, 'not_before': -511, 'not_after': ...     -511.0    -499.0   \n",
       "1   {'or': None, 'not_before': -505, 'not_after': ...     -505.0    -495.0   \n",
       "2   {'or': None, 'not_before': -490, 'not_after': ...     -490.0    -480.0   \n",
       "3   {'or': None, 'not_before': -485, 'not_after': ...     -485.0    -484.0   \n",
       "4   {'or': None, 'not_before': -505, 'not_after': ...     -505.0    -495.0   \n",
       "5   {'or': None, 'not_before': None, 'not_after': ...        NaN    -461.0   \n",
       "6   {'or': None, 'not_before': -460, 'not_after': ...     -460.0    -450.0   \n",
       "7   {'or': None, 'not_before': -460, 'not_after': ...     -460.0    -450.0   \n",
       "8   {'or': None, 'not_before': -463, 'not_after': ...     -463.0    -453.0   \n",
       "9   {'or': None, 'not_before': -469, 'not_after': ...     -469.0    -450.0   \n",
       "10  {'or': None, 'not_before': None, 'not_after': ...        NaN    -456.0   \n",
       "11  {'or': None, 'not_before': -433, 'not_after': ...     -433.0    -432.0   \n",
       "12  {'or': None, 'not_before': -465, 'not_after': ...     -465.0    -450.0   \n",
       "13  {'or': None, 'certainty': '?', 'not_before': -...     -453.0    -452.0   \n",
       "14  {'or': None, 'not_before': -455, 'not_after': ...     -455.0    -445.0   \n",
       "15  {'or': None, 'not_before': -455, 'not_after': ...     -455.0    -445.0   \n",
       "16  {'or': None, 'not_before': -451, 'not_after': ...     -451.0    -450.0   \n",
       "17  {'or': None, 'not_before': -455, 'not_after': ...     -455.0    -445.0   \n",
       "18  {'or': None, 'not_before': -450, 'not_after': ...     -450.0    -449.0   \n",
       "19  {'or': None, 'not_before': -455, 'not_after': ...     -455.0    -445.0   \n",
       "\n",
       "      or                           date_tags  certainty  link  \n",
       "0   None                  [range, phase, ca]       None  None  \n",
       "1   None                  [exact, phase, ca]       None  None  \n",
       "2   None                             [range]       None  None  \n",
       "3   None                             [range]       None  None  \n",
       "4   None                  [exact, phase, ca]       None  None  \n",
       "5   None                              [ante]       None  None  \n",
       "6   None                             [range]       None  None  \n",
       "7   None                             [range]       None  None  \n",
       "8   None                  [exact, phase, ca]       None  None  \n",
       "9   None                             [range]       None  None  \n",
       "10  None  [range, cent, phase, middle, ante]       None  None  \n",
       "11  None                  [range, phase, ca]       None  None  \n",
       "12  None                             [range]       None  None  \n",
       "13  None                             [range]          ?  None  \n",
       "14  None                  [exact, phase, ca]       None  None  \n",
       "15  None                  [exact, phase, ca]       None  None  \n",
       "16  None                             [range]       None  None  \n",
       "17  None                  [exact, phase, ca]       None  None  \n",
       "18  None                  [range, phase, ca]       None  None  \n",
       "19  None                  [exact, phase, ca]       None  None  \n",
       "\n",
       "[20 rows x 29 columns]"
      ]
     },
     "execution_count": 91,
     "metadata": {},
     "output_type": "execute_result"
    }
   ],
   "source": [
    "PHI.head(20)"
   ]
  },
  {
   "cell_type": "code",
   "execution_count": 92,
   "metadata": {
    "colab": {
     "base_uri": "https://localhost:8080/",
     "height": 54
    },
    "colab_type": "code",
    "id": "sk3zAdMrUD6J",
    "outputId": "a7e8aed7-b66e-4fd1-8050-d48ebd55489f"
   },
   "outputs": [
    {
     "name": "stdout",
     "output_type": "stream",
     "text": [
      "Your <class 'pandas.core.frame.DataFrame'> object has been succefully written as \"https://sciencedata.dk/files/SDAM_root/SDAM_data/PHI/PHI_20201217.json\"\n"
     ]
    }
   ],
   "source": [
    "sddk.write_file(\"SDAM_data/PHI/PHI_20201217.json\", PHI, conf)"
   ]
  },
  {
   "cell_type": "code",
   "execution_count": null,
   "metadata": {
    "colab": {},
    "colab_type": "code",
    "id": "e6BTlX0WCgAJ"
   },
   "outputs": [],
   "source": []
  },
  {
   "cell_type": "code",
   "execution_count": null,
   "metadata": {},
   "outputs": [],
   "source": []
  }
 ],
 "metadata": {
  "colab": {
   "collapsed_sections": [
    "sMVLLV3VZ8AQ",
    "QpEfYagozs_0",
    "2bV1j_tDHhsy"
   ],
   "include_colab_link": true,
   "name": "1_3_EXTRACTING_DATES.ipynb",
   "provenance": [],
   "toc_visible": true
  },
  "kernelspec": {
   "display_name": "Python 3",
   "language": "python",
   "name": "python3"
  },
  "language_info": {
   "codemirror_mode": {
    "name": "ipython",
    "version": 3
   },
   "file_extension": ".py",
   "mimetype": "text/x-python",
   "name": "python",
   "nbconvert_exporter": "python",
   "pygments_lexer": "ipython3",
   "version": "3.6.9"
  }
 },
 "nbformat": 4,
 "nbformat_minor": 1
}
