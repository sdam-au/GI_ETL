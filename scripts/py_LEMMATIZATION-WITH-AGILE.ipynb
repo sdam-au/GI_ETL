{
 "cells": [
  {
   "cell_type": "code",
   "execution_count": 65,
   "outputs": [],
   "source": [
    "import geopandas as gpd\n",
    "import pandas as pd\n",
    "pd.set_option('display.max_columns', None)\n",
    "pd.set_option('display.max_rows', None)\n",
    "import pickle\n",
    "import requests\n",
    "from bs4 import BeautifulSoup\n",
    "import zipfile\n",
    "import io\n",
    "import json\n",
    "from concurrent.futures import ThreadPoolExecutor\n",
    "import os\n",
    "import nltk\n",
    "import unicodedata"
   ],
   "metadata": {
    "collapsed": false
   }
  },
  {
   "cell_type": "markdown",
   "source": [
    "# Prepare AGILe for usage (skip for the second time)"
   ],
   "metadata": {
    "collapsed": false
   }
  },
  {
   "cell_type": "code",
   "execution_count": 2,
   "metadata": {
    "collapsed": true
   },
   "outputs": [
    {
     "name": "stderr",
     "output_type": "stream",
     "text": [
      "Cloning into 'agile'...\n"
     ]
    }
   ],
   "source": [
    "%%bash\n",
    "git clone https://github.com/agile-gronlp/agile"
   ]
  },
  {
   "cell_type": "code",
   "execution_count": 3,
   "outputs": [],
   "source": [
    "%%bash\n",
    "echo '/scripts/agile/' >> ../.gitignore"
   ],
   "metadata": {
    "collapsed": false
   }
  },
  {
   "cell_type": "code",
   "execution_count": 4,
   "outputs": [
    {
     "name": "stdout",
     "output_type": "stream",
     "text": [
      "Collecting cltk>=1.0\n",
      "  Using cached cltk-1.1.5-py3-none-any.whl (844 kB)\n",
      "Collecting stanza>=1.2\n",
      "  Using cached stanza-1.4.2-py3-none-any.whl (691 kB)\n",
      "Collecting Levenshtein\n",
      "  Using cached Levenshtein-0.20.5-cp39-cp39-macosx_11_0_arm64.whl (95 kB)\n",
      "Collecting boltons<22.0.0,>=21.0.0\n",
      "  Using cached boltons-21.0.0-py2.py3-none-any.whl (193 kB)\n",
      "Collecting scikit-learn<2.0.0,>=1.0.2\n",
      "  Using cached scikit_learn-1.1.2-cp39-cp39-macosx_12_0_arm64.whl (7.7 MB)\n",
      "Collecting gitpython<4.0,>=3.0\n",
      "  Using cached GitPython-3.1.27-py3-none-any.whl (181 kB)\n",
      "Collecting nltk<4.0,>=3.7\n",
      "  Using cached nltk-3.7-py3-none-any.whl (1.5 MB)\n",
      "Requirement already satisfied: PyYAML<7.0.0,>=6.0.0 in /opt/homebrew/Caskroom/miniforge/base/lib/python3.9/site-packages (from cltk>=1.0->-r agile/requirements.txt (line 1)) (6.0)\n",
      "Requirement already satisfied: gensim<5.0.0,>=4.1.2 in /opt/homebrew/Caskroom/miniforge/base/lib/python3.9/site-packages (from cltk>=1.0->-r agile/requirements.txt (line 1)) (4.2.0)\n",
      "Collecting greek-accentuation<2.0.0,>=1.2.0\n",
      "  Using cached greek_accentuation-1.2.0-py2.py3-none-any.whl (6.8 kB)\n",
      "Collecting stringcase<2.0,>=1.2\n",
      "  Using cached stringcase-1.2.0-py3-none-any.whl\n",
      "Requirement already satisfied: tqdm<5.0.0,>=4.41.1 in /opt/homebrew/Caskroom/miniforge/base/lib/python3.9/site-packages (from cltk>=1.0->-r agile/requirements.txt (line 1)) (4.62.3)\n",
      "Collecting python-Levenshtein<0.13.0,>=0.12.0\n",
      "  Using cached python_Levenshtein-0.12.2-cp39-cp39-macosx_11_0_arm64.whl\n",
      "Requirement already satisfied: scipy<2.0.0,>=1.8.0 in /opt/homebrew/Caskroom/miniforge/base/lib/python3.9/site-packages (from cltk>=1.0->-r agile/requirements.txt (line 1)) (1.8.1)\n",
      "Requirement already satisfied: spacy<4.0.0,>=3.2.4 in /opt/homebrew/Caskroom/miniforge/base/lib/python3.9/site-packages (from cltk>=1.0->-r agile/requirements.txt (line 1)) (3.4.1)\n",
      "Collecting fasttext<0.10.0,>=0.9.1\n",
      "  Using cached fasttext-0.9.2-cp39-cp39-macosx_13_0_arm64.whl\n",
      "Requirement already satisfied: requests<3.0.0,>=2.22.0 in /opt/homebrew/Caskroom/miniforge/base/lib/python3.9/site-packages (from cltk>=1.0->-r agile/requirements.txt (line 1)) (2.26.0)\n",
      "Collecting protobuf\n",
      "  Using cached protobuf-4.21.7-cp37-abi3-macosx_10_9_universal2.whl (484 kB)\n",
      "Requirement already satisfied: six in /opt/homebrew/Caskroom/miniforge/base/lib/python3.9/site-packages (from stanza>=1.2->-r agile/requirements.txt (line 2)) (1.16.0)\n",
      "Collecting emoji\n",
      "  Using cached emoji-2.1.0-py3-none-any.whl\n",
      "Collecting torch>=1.3.0\n",
      "  Using cached torch-1.12.1-cp39-none-macosx_11_0_arm64.whl (49.1 MB)\n",
      "Requirement already satisfied: numpy in /opt/homebrew/Caskroom/miniforge/base/lib/python3.9/site-packages (from stanza>=1.2->-r agile/requirements.txt (line 2)) (1.22.4)\n",
      "Collecting rapidfuzz<3.0.0,>=2.3.0\n",
      "  Using cached rapidfuzz-2.11.1-cp39-cp39-macosx_11_0_arm64.whl (1.1 MB)\n",
      "Requirement already satisfied: setuptools>=0.7.0 in /opt/homebrew/Caskroom/miniforge/base/lib/python3.9/site-packages (from fasttext<0.10.0,>=0.9.1->cltk>=1.0->-r agile/requirements.txt (line 1)) (58.2.0)\n",
      "Collecting pybind11>=2.2\n",
      "  Using cached pybind11-2.10.0-py3-none-any.whl (213 kB)\n",
      "Requirement already satisfied: smart-open>=1.8.1 in /opt/homebrew/Caskroom/miniforge/base/lib/python3.9/site-packages (from gensim<5.0.0,>=4.1.2->cltk>=1.0->-r agile/requirements.txt (line 1)) (5.2.1)\n",
      "Collecting gitdb<5,>=4.0.1\n",
      "  Using cached gitdb-4.0.9-py3-none-any.whl (63 kB)\n",
      "Requirement already satisfied: regex>=2021.8.3 in /opt/homebrew/Caskroom/miniforge/base/lib/python3.9/site-packages (from nltk<4.0,>=3.7->cltk>=1.0->-r agile/requirements.txt (line 1)) (2022.1.18)\n",
      "Requirement already satisfied: joblib in /opt/homebrew/Caskroom/miniforge/base/lib/python3.9/site-packages (from nltk<4.0,>=3.7->cltk>=1.0->-r agile/requirements.txt (line 1)) (1.1.0)\n",
      "Requirement already satisfied: click in /opt/homebrew/Caskroom/miniforge/base/lib/python3.9/site-packages (from nltk<4.0,>=3.7->cltk>=1.0->-r agile/requirements.txt (line 1)) (8.0.3)\n",
      "Requirement already satisfied: urllib3<1.27,>=1.21.1 in /opt/homebrew/Caskroom/miniforge/base/lib/python3.9/site-packages (from requests<3.0.0,>=2.22.0->cltk>=1.0->-r agile/requirements.txt (line 1)) (1.26.7)\n",
      "Requirement already satisfied: idna<4,>=2.5 in /opt/homebrew/Caskroom/miniforge/base/lib/python3.9/site-packages (from requests<3.0.0,>=2.22.0->cltk>=1.0->-r agile/requirements.txt (line 1)) (3.1)\n",
      "Requirement already satisfied: charset-normalizer~=2.0.0 in /opt/homebrew/Caskroom/miniforge/base/lib/python3.9/site-packages (from requests<3.0.0,>=2.22.0->cltk>=1.0->-r agile/requirements.txt (line 1)) (2.0.0)\n",
      "Requirement already satisfied: certifi>=2017.4.17 in /opt/homebrew/Caskroom/miniforge/base/lib/python3.9/site-packages (from requests<3.0.0,>=2.22.0->cltk>=1.0->-r agile/requirements.txt (line 1)) (2022.6.15)\n",
      "Requirement already satisfied: threadpoolctl>=2.0.0 in /opt/homebrew/Caskroom/miniforge/base/lib/python3.9/site-packages (from scikit-learn<2.0.0,>=1.0.2->cltk>=1.0->-r agile/requirements.txt (line 1)) (3.0.0)\n",
      "Requirement already satisfied: spacy-loggers<2.0.0,>=1.0.0 in /opt/homebrew/Caskroom/miniforge/base/lib/python3.9/site-packages (from spacy<4.0.0,>=3.2.4->cltk>=1.0->-r agile/requirements.txt (line 1)) (1.0.3)\n",
      "Requirement already satisfied: murmurhash<1.1.0,>=0.28.0 in /opt/homebrew/Caskroom/miniforge/base/lib/python3.9/site-packages (from spacy<4.0.0,>=3.2.4->cltk>=1.0->-r agile/requirements.txt (line 1)) (1.0.7)\n",
      "Requirement already satisfied: catalogue<2.1.0,>=2.0.6 in /opt/homebrew/Caskroom/miniforge/base/lib/python3.9/site-packages (from spacy<4.0.0,>=3.2.4->cltk>=1.0->-r agile/requirements.txt (line 1)) (2.0.8)\n",
      "Requirement already satisfied: pathy>=0.3.5 in /opt/homebrew/Caskroom/miniforge/base/lib/python3.9/site-packages (from spacy<4.0.0,>=3.2.4->cltk>=1.0->-r agile/requirements.txt (line 1)) (0.6.2)\n",
      "Requirement already satisfied: pydantic!=1.8,!=1.8.1,<1.10.0,>=1.7.4 in /opt/homebrew/Caskroom/miniforge/base/lib/python3.9/site-packages (from spacy<4.0.0,>=3.2.4->cltk>=1.0->-r agile/requirements.txt (line 1)) (1.9.1)\n",
      "Requirement already satisfied: wasabi<1.1.0,>=0.9.1 in /opt/homebrew/Caskroom/miniforge/base/lib/python3.9/site-packages (from spacy<4.0.0,>=3.2.4->cltk>=1.0->-r agile/requirements.txt (line 1)) (0.10.1)\n",
      "Requirement already satisfied: thinc<8.2.0,>=8.1.0 in /opt/homebrew/Caskroom/miniforge/base/lib/python3.9/site-packages (from spacy<4.0.0,>=3.2.4->cltk>=1.0->-r agile/requirements.txt (line 1)) (8.1.0)\n",
      "Requirement already satisfied: typer<0.5.0,>=0.3.0 in /opt/homebrew/Caskroom/miniforge/base/lib/python3.9/site-packages (from spacy<4.0.0,>=3.2.4->cltk>=1.0->-r agile/requirements.txt (line 1)) (0.4.2)\n",
      "Requirement already satisfied: cymem<2.1.0,>=2.0.2 in /opt/homebrew/Caskroom/miniforge/base/lib/python3.9/site-packages (from spacy<4.0.0,>=3.2.4->cltk>=1.0->-r agile/requirements.txt (line 1)) (2.0.6)\n",
      "Requirement already satisfied: packaging>=20.0 in /opt/homebrew/Caskroom/miniforge/base/lib/python3.9/site-packages (from spacy<4.0.0,>=3.2.4->cltk>=1.0->-r agile/requirements.txt (line 1)) (21.3)\n",
      "Requirement already satisfied: jinja2 in /opt/homebrew/Caskroom/miniforge/base/lib/python3.9/site-packages (from spacy<4.0.0,>=3.2.4->cltk>=1.0->-r agile/requirements.txt (line 1)) (3.0.3)\n",
      "Requirement already satisfied: preshed<3.1.0,>=3.0.2 in /opt/homebrew/Caskroom/miniforge/base/lib/python3.9/site-packages (from spacy<4.0.0,>=3.2.4->cltk>=1.0->-r agile/requirements.txt (line 1)) (3.0.6)\n",
      "Requirement already satisfied: srsly<3.0.0,>=2.4.3 in /opt/homebrew/Caskroom/miniforge/base/lib/python3.9/site-packages (from spacy<4.0.0,>=3.2.4->cltk>=1.0->-r agile/requirements.txt (line 1)) (2.4.4)\n",
      "Requirement already satisfied: langcodes<4.0.0,>=3.2.0 in /opt/homebrew/Caskroom/miniforge/base/lib/python3.9/site-packages (from spacy<4.0.0,>=3.2.4->cltk>=1.0->-r agile/requirements.txt (line 1)) (3.3.0)\n",
      "Requirement already satisfied: spacy-legacy<3.1.0,>=3.0.9 in /opt/homebrew/Caskroom/miniforge/base/lib/python3.9/site-packages (from spacy<4.0.0,>=3.2.4->cltk>=1.0->-r agile/requirements.txt (line 1)) (3.0.9)\n",
      "Requirement already satisfied: typing-extensions in /opt/homebrew/Caskroom/miniforge/base/lib/python3.9/site-packages (from torch>=1.3.0->stanza>=1.2->-r agile/requirements.txt (line 2)) (4.3.0)\n",
      "Collecting smmap<6,>=3.0.1\n",
      "  Using cached smmap-5.0.0-py3-none-any.whl (24 kB)\n",
      "Requirement already satisfied: pyparsing!=3.0.5,>=2.0.2 in /opt/homebrew/Caskroom/miniforge/base/lib/python3.9/site-packages (from packaging>=20.0->spacy<4.0.0,>=3.2.4->cltk>=1.0->-r agile/requirements.txt (line 1)) (3.0.6)\n",
      "Requirement already satisfied: blis<0.8.0,>=0.7.8 in /opt/homebrew/Caskroom/miniforge/base/lib/python3.9/site-packages (from thinc<8.2.0,>=8.1.0->spacy<4.0.0,>=3.2.4->cltk>=1.0->-r agile/requirements.txt (line 1)) (0.7.8)\n",
      "Requirement already satisfied: MarkupSafe>=2.0 in /opt/homebrew/Caskroom/miniforge/base/lib/python3.9/site-packages (from jinja2->spacy<4.0.0,>=3.2.4->cltk>=1.0->-r agile/requirements.txt (line 1)) (2.0.1)\n",
      "Installing collected packages: smmap, torch, pybind11, protobuf, gitdb, emoji, stringcase, stanza, scikit-learn, rapidfuzz, python-Levenshtein, nltk, greek-accentuation, gitpython, fasttext, boltons, Levenshtein, cltk\n",
      "  Attempting uninstall: scikit-learn\n",
      "    Found existing installation: scikit-learn 1.0.1\n",
      "    Uninstalling scikit-learn-1.0.1:\n",
      "      Successfully uninstalled scikit-learn-1.0.1\n",
      "  Attempting uninstall: nltk\n",
      "    Found existing installation: nltk 3.6.7\n",
      "    Uninstalling nltk-3.6.7:\n",
      "      Successfully uninstalled nltk-3.6.7\n",
      "Successfully installed Levenshtein-0.20.5 boltons-21.0.0 cltk-1.1.5 emoji-2.1.0 fasttext-0.9.2 gitdb-4.0.9 gitpython-3.1.27 greek-accentuation-1.2.0 nltk-3.7 protobuf-4.21.7 pybind11-2.10.0 python-Levenshtein-0.12.2 rapidfuzz-2.11.1 scikit-learn-1.1.2 smmap-5.0.0 stanza-1.4.2 stringcase-1.2.0 torch-1.12.1\n"
     ]
    }
   ],
   "source": [
    "%%bash\n",
    "pip install -r agile/requirements.txt"
   ],
   "metadata": {
    "collapsed": false
   }
  },
  {
   "cell_type": "code",
   "execution_count": 5,
   "outputs": [],
   "source": [
    "%%bash\n",
    "rm -rf agile/.git agile/.gitignore"
   ],
   "metadata": {
    "collapsed": false
   }
  },
  {
   "cell_type": "code",
   "execution_count": 6,
   "outputs": [
    {
     "data": {
      "text/plain": "Downloading https://raw.githubusercontent.com/stanfordnlp/stanza-resources/main/resources_1.4.1.json:   0%|   …",
      "application/vnd.jupyter.widget-view+json": {
       "version_major": 2,
       "version_minor": 0,
       "model_id": "3b5db92cc00b4d1cbc15f3df381625b1"
      }
     },
     "metadata": {},
     "output_type": "display_data"
    },
    {
     "name": "stderr",
     "output_type": "stream",
     "text": [
      "2022-10-04 11:58:32 INFO: Downloading default packages for language: grc (Ancient_Greek) ...\n"
     ]
    },
    {
     "data": {
      "text/plain": "Downloading https://huggingface.co/stanfordnlp/stanza-grc/resolve/v1.4.1/models/default.zip:   0%|          | …",
      "application/vnd.jupyter.widget-view+json": {
       "version_major": 2,
       "version_minor": 0,
       "model_id": "b897d4a38aad4e818564f09e5ce1ab28"
      }
     },
     "metadata": {},
     "output_type": "display_data"
    },
    {
     "name": "stderr",
     "output_type": "stream",
     "text": [
      "2022-10-04 11:58:37 INFO: Finished downloading models and saved to /Users/kasev/stanza_resources.\n"
     ]
    }
   ],
   "source": [
    "import stanza\n",
    "stanza.download(lang='grc')"
   ],
   "metadata": {
    "collapsed": false
   }
  },
  {
   "cell_type": "code",
   "execution_count": 7,
   "outputs": [],
   "source": [
    "%%bash\n",
    "cp agile/grc_agile_lemmatizer.pt grc_agile_lemmatizer.pt\n",
    "cp agile/lexicon.p lexicon.p"
   ],
   "metadata": {
    "collapsed": false
   }
  },
  {
   "cell_type": "markdown",
   "source": [
    "# Testing lemmatization"
   ],
   "metadata": {
    "collapsed": false
   }
  },
  {
   "cell_type": "code",
   "execution_count": 2,
   "outputs": [
    {
     "name": "stderr",
     "output_type": "stream",
     "text": [
      "<frozen importlib._bootstrap>:228: RuntimeWarning: scipy._lib.messagestream.MessageStream size changed, may indicate binary incompatibility. Expected 56 from C header, got 64 from PyObject\n"
     ]
    }
   ],
   "source": [
    "from scripts.agile import agile"
   ],
   "metadata": {
    "collapsed": false
   }
  },
  {
   "cell_type": "code",
   "execution_count": 3,
   "outputs": [
    {
     "name": "stdout",
     "output_type": "stream",
     "text": [
      "word: αἲξ            lemma: αἴξ\n",
      "word: θύεται         lemma: τίθημι\n",
      "word: τάδε           lemma: ὅδε\n",
      "word: μὴ             lemma: μή\n",
      "word: ἐσφέρεν        lemma: τηρέω\n",
      "word: ἐς             lemma: εἰς\n",
      "word: τὸ             lemma: τε\n",
      "word: τέμενος        lemma: τέμενος\n",
      "word: τοῦ            lemma: ποῦ\n",
      "word: Ἀπόλλωνος      lemma: Ἀπολλωνία\n",
      "word: τοῦ            lemma: ποῦ\n",
      "word: Οὐλίου         lemma: ἥλιος\n",
      "word: εἱμάτιον       lemma: εἱμάτιον\n"
     ]
    }
   ],
   "source": [
    "doc = agile.lemmatize(\"αἲξ θύεται τάδε μὴ ἐσφέρεν ἐς τὸ τέμενος τοῦ Ἀπόλλωνος τοῦ Οὐλίου εἱμάτιον\")\n",
    "for sent in doc.sentences:\n",
    "    for word in sent.words:\n",
    "        print(f'word: {word.text + \" \":15}lemma: {word.lemma}')"
   ],
   "metadata": {
    "collapsed": false
   }
  },
  {
   "cell_type": "code",
   "execution_count": 4,
   "outputs": [
    {
     "data": {
      "text/plain": "['αἴξ',\n 'τίθημι',\n 'ὅδε',\n 'μή',\n 'τηρέω',\n 'εἰς',\n 'τε',\n 'τέμενος',\n 'ποῦ',\n 'Ἀπολλωνία',\n 'ποῦ',\n 'ἥλιος',\n 'εἱμάτιον']"
     },
     "execution_count": 4,
     "metadata": {},
     "output_type": "execute_result"
    }
   ],
   "source": [
    "# a more staightforward approach to get a list of lemmata:\n",
    "[word[\"lemma\"] for sent in doc.to_dict() for word in sent]"
   ],
   "metadata": {
    "collapsed": false
   }
  },
  {
   "cell_type": "markdown",
   "source": [
    "# Loading Perseus dict for filtering"
   ],
   "metadata": {
    "collapsed": false
   }
  },
  {
   "cell_type": "code",
   "execution_count": 3,
   "outputs": [],
   "source": [
    "morpheus_by_lemma = json.loads(requests.get(\"https://sciencedata.dk/public/8fe7d59de1eafe5f8eaebc0044534606/morpheus_by_lemma.json\").content)"
   ],
   "metadata": {
    "collapsed": false
   }
  },
  {
   "cell_type": "code",
   "execution_count": null,
   "outputs": [],
   "source": [
    "# first try to read the morpheus dict from our local data folder:\n",
    "try:\n",
    "    with open(\"../data/large_data/morpheus_dict.json\") as json_file:\n",
    "        morpheus_dict = json.load(json_file)\n",
    "# if not available:\n",
    "except:\n",
    "    # read it from a public folder on sciencedata\n",
    "    publicfolder = \"8fe7d59de1eafe5f8eaebc0044534606\"\n",
    "    morpheus_dict = json.loads(requests.get(\"https://sciencedata.dk/public/\" + publicfolder + \"/morpheus_dict.json\").content)\n",
    "    # save it locally for future usage\n",
    "    with open(\"../data/large_data/morpheus_dict.json\", \"w\") as outfile:\n",
    "        json.dump(morpheus_dict, outfile)"
   ],
   "metadata": {
    "collapsed": false
   }
  },
  {
   "cell_type": "code",
   "execution_count": 38,
   "outputs": [],
   "source": [
    "morpheus_lemmata_remove = []\n",
    "for key in morpheus_dict.keys():\n",
    "    values_list = morpheus_dict[key]\n",
    "    for val_dict in values_list:\n",
    "        if val_dict[\"l\"] == key:\n",
    "            if val_dict[\"p\"][0] not in [\"n\", \"a\", \"v\"]:\n",
    "                morpheus_lemmata_remove.append(key)"
   ],
   "metadata": {
    "collapsed": false
   }
  },
  {
   "cell_type": "markdown",
   "source": [
    "# Testing on a subset of GIST"
   ],
   "metadata": {
    "collapsed": false
   }
  },
  {
   "cell_type": "code",
   "execution_count": 5,
   "outputs": [],
   "source": [
    "GIST = gpd.read_file(\"../data/large_data/GIST_v0-1.geojson\", driver=\"GeoJSON\")"
   ],
   "metadata": {
    "collapsed": false
   }
  },
  {
   "cell_type": "code",
   "execution_count": 6,
   "outputs": [],
   "source": [
    "def lemmatize_with_agile(raw_text):\n",
    "    try:\n",
    "        doc = agile.lemmatize(raw_text)\n",
    "        lemmata = [word[\"lemma\"] for sent in doc.to_dict() for word in sent]\n",
    "    except:\n",
    "        lemmata = []\n",
    "    return lemmata"
   ],
   "metadata": {
    "collapsed": false
   }
  },
  {
   "cell_type": "code",
   "execution_count": 7,
   "outputs": [
    {
     "data": {
      "text/plain": "['αἴξ',\n 'τίθημι',\n 'ὅδε',\n 'μή',\n 'τηρέω',\n 'εἰς',\n 'τε',\n 'τέμενος',\n 'ποῦ',\n 'Ἀπολλωνία',\n 'ποῦ',\n 'ἥλιος',\n 'εἱμάτιον']"
     },
     "execution_count": 7,
     "metadata": {},
     "output_type": "execute_result"
    }
   ],
   "source": [
    "lemmatize_with_agile(\"αἲξ θύεται τάδε μὴ ἐσφέρεν ἐς τὸ τέμενος τοῦ Ἀπόλλωνος τοῦ Οὐλίου εἱμάτιον\")"
   ],
   "metadata": {
    "collapsed": false
   }
  },
  {
   "cell_type": "code",
   "execution_count": 11,
   "outputs": [
    {
     "name": "stdout",
     "output_type": "stream",
     "text": [
      "CPU times: user 32.6 s, sys: 1.69 s, total: 34.3 s\n",
      "Wall time: 49.5 s\n"
     ]
    }
   ],
   "source": [
    "%%time\n",
    "# testing with samples of different length\n",
    "GIST_sample = GIST.sample(100)\n",
    "GIST_sample[\"lemmata_agile\"] = GIST_sample[\"clean_text_interpretive_word\"].apply(lemmatize_with_agile)"
   ],
   "metadata": {
    "collapsed": false
   }
  },
  {
   "cell_type": "code",
   "execution_count": 8,
   "outputs": [],
   "source": [
    "def lemmata_by_phiid(phiid):\n",
    "    lemmata = lemmatize_with_agile(GIST[GIST[\"PHI_ID\"]==phiid][\"clean_text_interpretive_word\"].tolist()[0])\n",
    "    id_with_lemmata = \" \".join([str(phiid)] + lemmata)\n",
    "    return id_with_lemmata"
   ],
   "metadata": {
    "collapsed": false
   }
  },
  {
   "cell_type": "code",
   "execution_count": 13,
   "outputs": [
    {
     "name": "stdout",
     "output_type": "stream",
     "text": [
      "CPU times: user 17.7 s, sys: 445 ms, total: 18.1 s\n",
      "Wall time: 20.1 s\n"
     ]
    }
   ],
   "source": [
    "%%time\n",
    "failed = []\n",
    "f = open(\"../data/large_data/lemmata_full_test.txt\", \"w\", encoding=\"utf-8\")\n",
    "line = 0\n",
    "for n in range(20):\n",
    "    id = str(GIST.iloc[n][\"PHI_ID\"])\n",
    "    lemmata = lemmatize_with_agile(GIST.iloc[n][\"clean_text_interpretive_word\"])\n",
    "    line_data = \" \".join([str(id)] + lemmata) + \"\\n\"\n",
    "    f.writelines(line_data)\n",
    "    line += 1"
   ],
   "metadata": {
    "collapsed": false
   }
  },
  {
   "cell_type": "markdown",
   "source": [
    "# Main application of AGILe is happening outside of the notebook - by running lemmatization.py"
   ],
   "metadata": {
    "collapsed": false
   }
  },
  {
   "cell_type": "code",
   "execution_count": 69,
   "outputs": [],
   "source": [
    "def normalize_encoding(string):\n",
    "    return unicodedata.normalize(\"NFC\", string)"
   ],
   "metadata": {
    "collapsed": false
   }
  },
  {
   "cell_type": "code",
   "execution_count": 70,
   "outputs": [],
   "source": [
    "def preprocess_lemmata_txt(lemmata_full_str):\n",
    "    lemmata_data_split =  [normalize_encoding(inscr_data).split() for inscr_data in lemmata_full_str.split(\"\\n\")]\n",
    "    lemmata_data_tups = [(int(inscr_data[0]), inscr_data[1:]) for inscr_data in lemmata_data_split]\n",
    "    lemmata_data_dict = dict(lemmata_data_tups)\n",
    "    return lemmata_data_dict"
   ],
   "metadata": {
    "collapsed": false
   }
  },
  {
   "cell_type": "code",
   "execution_count": 71,
   "outputs": [
    {
     "data": {
      "text/plain": "['lemmata_full_160000-220000.txt',\n 'lemmata_full_missing1.txt',\n 'lemmata_full_missing2.txt',\n 'lemmata_full_100000-160000.txt',\n 'lemmata_full_50000-100000.txt',\n 'lemmata_full_0-50000.txt']"
     },
     "execution_count": 71,
     "metadata": {},
     "output_type": "execute_result"
    }
   ],
   "source": [
    "filenames = os.listdir(\"../data/large_data/lemmata_files\")\n",
    "filenames"
   ],
   "metadata": {
    "collapsed": false
   }
  },
  {
   "cell_type": "code",
   "execution_count": 72,
   "outputs": [
    {
     "data": {
      "text/plain": "98447"
     },
     "execution_count": 72,
     "metadata": {},
     "output_type": "execute_result"
    }
   ],
   "source": [
    "lemmata_full_merged = {}\n",
    "for fname in filenames:\n",
    "    lemmata_full_str = open(\"../data/large_data/lemmata_files/\" + fname, \"r\", encoding=\"utf-8\").read()\n",
    "    lemmata_full_merged.update(preprocess_lemmata_txt(lemmata_full_str))\n",
    "len(lemmata_full_merged)"
   ],
   "metadata": {
    "collapsed": false
   }
  },
  {
   "cell_type": "code",
   "execution_count": 73,
   "outputs": [],
   "source": [
    "lemmata_merged = []\n",
    "for k,v in lemmata_full_merged.items():\n",
    "    lemmata_merged.extend(v)"
   ],
   "metadata": {
    "collapsed": false
   }
  },
  {
   "cell_type": "code",
   "execution_count": 76,
   "outputs": [
    {
     "data": {
      "text/plain": "10518"
     },
     "execution_count": 76,
     "metadata": {},
     "output_type": "execute_result"
    }
   ],
   "source": [
    "lemmata_merged.count(\"θεός\")"
   ],
   "metadata": {
    "collapsed": false
   }
  },
  {
   "cell_type": "code",
   "execution_count": 77,
   "outputs": [
    {
     "data": {
      "text/plain": "491"
     },
     "execution_count": 77,
     "metadata": {},
     "output_type": "execute_result"
    }
   ],
   "source": [
    "lemmata_merged.count(\"δίκαιος\")"
   ],
   "metadata": {
    "collapsed": false
   }
  },
  {
   "cell_type": "code",
   "execution_count": 78,
   "outputs": [
    {
     "data": {
      "text/plain": "[('ὁ', 169208),\n ('καὶ', 109671),\n ('τε', 44382),\n ('τίν', 39925),\n ('τὶς', 37483),\n ('ποῦ', 31188),\n ('ἐν', 26131),\n ('δὲ', 22507),\n ('ἐπί', 22364),\n ('τι', 22176),\n ('γῶν', 21334),\n ('αὐτός', 19722),\n ('ὅς', 15179),\n ('εἰμί', 14495),\n ('εἰς', 14350),\n ('δῆμος', 13643),\n ('οὐ', 13527),\n ('πᾶς', 12199),\n ('τοῖρ', 11298),\n ('ἐκ', 11171),\n ('ἄλλος', 10970),\n ('θεός', 10518),\n ('κατά', 9775),\n ('ἄρχων', 9156),\n ('οὗτος', 8929),\n ('βουλή', 7955),\n ('ἱερός', 7016),\n ('ὡς', 6747),\n ('ἔχω', 6658),\n ('βράχoς', 6321),\n ('ἀπό', 6294),\n ('πρός', 6146),\n ('παρά', 6129),\n ('κα', 5976),\n ('ἔτος', 5967),\n ('μή', 5798),\n ('ἀγαθός', 5761),\n ('ὅδε', 5241),\n ('μείς', 5129),\n ('τις', 5029),\n ('χαίρω', 5007),\n ('ἀνατίθημι', 4851),\n ('τῷ', 4563),\n ('περί', 4494),\n ('γυνή', 4456),\n ('λωτοφάγoi', 4412),\n ('ἑαυτοῦ', 4366),\n ('δραχμή', 4242),\n ('τιμή', 4217),\n ('ἀνήρ', 4194),\n ('Ἀπολλωνία', 4186),\n ('στρατιώτης', 4154),\n ('υἱός', 4021),\n ('εἰ', 4016),\n ('στέφανος', 4000),\n ('Δελφοί', 3939),\n ('ἄν', 3935),\n ('δύο', 3933),\n ('δίδωμι', 3931),\n ('ὑπέρ', 3921),\n ('χάρις', 3890),\n ('ἱερεύς', 3881),\n ('ὁλκή', 3611),\n ('μέν', 3608),\n ('παῖς', 3411),\n ('Ἀπόλλων', 3357),\n ('ποιέω', 3354),\n ('τῇ', 3292),\n ('Ἀθῆναι', 3250),\n ('χρύσεος', 3182),\n ('ψήφισμα', 3167),\n ('ἕνεκα', 3062),\n ('Ἀσκληπιός', 3061),\n ('πάλιν', 3058),\n ('ὑπό', 3055),\n ('νόμος', 3043),\n ('Ζεύς', 3014),\n ('γίγνομαι', 2996),\n ('πατήρ', 2969),\n ('βασιλεύς', 2946),\n ('δοκέω', 2933),\n ('λέγω', 2918),\n ('σύ', 2842),\n ('θυγάτηρ', 2830),\n ('μετά', 2822),\n ('εὐεργέτης', 2768),\n ('μνήμη', 2716),\n ('δέω', 2704),\n ('κοινός', 2703),\n ('σταθμόν', 2689),\n ('Μᾶρκος', 2676),\n ('γραμματεύς', 2666),\n ('ἀργύριον', 2652),\n ('τύχη', 2631),\n ('δ', 2624),\n ('ὅσος', 2578),\n ('χράω', 2552),\n ('πράσσω', 2529),\n ('ζῶ', 2494),\n ('ἐγώ', 2440)]"
     },
     "execution_count": 78,
     "metadata": {},
     "output_type": "execute_result"
    }
   ],
   "source": [
    "nltk.FreqDist(lemmata_merged).most_common()[:100]"
   ],
   "metadata": {
    "collapsed": false
   }
  },
  {
   "cell_type": "code",
   "execution_count": null,
   "outputs": [],
   "source": [],
   "metadata": {
    "collapsed": false
   }
  }
 ],
 "metadata": {
  "kernelspec": {
   "name": "python3",
   "language": "python",
   "display_name": "Python 3 (ipykernel)"
  },
  "language_info": {
   "codemirror_mode": {
    "name": "ipython",
    "version": 2
   },
   "file_extension": ".py",
   "mimetype": "text/x-python",
   "name": "python",
   "nbconvert_exporter": "python",
   "pygments_lexer": "ipython2",
   "version": "2.7.6"
  }
 },
 "nbformat": 4,
 "nbformat_minor": 0
}
