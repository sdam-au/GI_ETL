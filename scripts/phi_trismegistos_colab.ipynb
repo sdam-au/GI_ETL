{
 "cells": [
  {
   "cell_type": "code",
   "execution_count": null,
   "outputs": [],
   "source": [
    "%%capture\n",
    "!pip install geopandas\n",
    "!pip install sddk"
   ],
   "metadata": {
    "collapsed": false,
    "pycharm": {
     "name": "#%%\n"
    }
   }
  },
  {
   "cell_type": "code",
   "execution_count": null,
   "outputs": [],
   "source": [
    "import matplotlib.pyplot as plt\n",
    "import pandas as pd\n",
    "import geopandas as gpd\n",
    "import requests\n",
    "from concurrent.futures import ThreadPoolExecutor\n",
    "import time\n",
    "import sddk"
   ],
   "metadata": {
    "collapsed": false,
    "pycharm": {
     "name": "#%%\n"
    }
   }
  },
  {
   "cell_type": "code",
   "execution_count": null,
   "outputs": [],
   "source": [
    "s = sddk.cloudSession(\"sciencedata.dk\", \"SDAM_root\", \"648597@au.dk\")"
   ],
   "metadata": {
    "collapsed": false,
    "pycharm": {
     "name": "#%%\n"
    }
   }
  },
  {
   "cell_type": "code",
   "execution_count": null,
   "outputs": [],
   "source": [
    "# import the datasets...\n",
    "PHI = pd.read_json(\"https://zenodo.org/record/4972968/files/PHI_v1.0.json?download=1\")"
   ],
   "metadata": {
    "collapsed": false,
    "pycharm": {
     "name": "#%%\n"
    }
   }
  },
  {
   "cell_type": "markdown",
   "source": [
    "# Minimal test"
   ],
   "metadata": {
    "collapsed": false,
    "pycharm": {
     "name": "#%% md\n"
    }
   }
  },
  {
   "cell_type": "code",
   "execution_count": null,
   "outputs": [],
   "source": [
    "PHI_sample = PHI.sample(1000, random_state=1)\n",
    "PHI_sample.head(5)"
   ],
   "metadata": {
    "collapsed": false,
    "pycharm": {
     "name": "#%%\n"
    }
   }
  },
  {
   "cell_type": "code",
   "execution_count": null,
   "outputs": [],
   "source": [
    "# trismegistos api\n",
    "base_url = \"https://www.trismegistos.org/dataservices/texrelations/{0}?source=phi\""
   ],
   "metadata": {
    "collapsed": false,
    "pycharm": {
     "name": "#%%\n"
    }
   }
  },
  {
   "cell_type": "code",
   "execution_count": null,
   "outputs": [],
   "source": [
    "%%time\n",
    "resps = []\n",
    "for n in PHI_sample[\"PHI_ID\"][:100]:\n",
    "    resp_json = requests.get(base_url.format(str(n))).json()\n",
    "    resp_json = dict([(list(el.keys())[0], list(el.values())[0]) for el in resp_json])\n",
    "    resps.append(resp_json)"
   ],
   "metadata": {
    "collapsed": false,
    "pycharm": {
     "name": "#%%\n"
    }
   }
  },
  {
   "cell_type": "code",
   "execution_count": null,
   "outputs": [],
   "source": [
    "PHI_sample_alts = pd.DataFrame.from_records(resps)\n",
    "PHI_sample_alts.head(10)"
   ],
   "metadata": {
    "collapsed": false,
    "pycharm": {
     "name": "#%%\n"
    }
   }
  },
  {
   "cell_type": "markdown",
   "source": [
    "# Main function (using paralel requests)"
   ],
   "metadata": {
    "collapsed": false,
    "pycharm": {
     "name": "#%% md\n"
    }
   }
  },
  {
   "cell_type": "code",
   "execution_count": null,
   "outputs": [],
   "source": [
    "def get_inscription_data(phi_id):\n",
    "    try:\n",
    "        resp_json = requests.get(base_url.format(str(phi_id))).json()\n",
    "        resp_json = dict([(list(el.keys())[0], list(el.values())[0]) for el in resp_json])\n",
    "    except:\n",
    "        time.sleep(1)\n",
    "        try:\n",
    "            resp_json = requests.get(base_url.format(str(phi_id))).json()\n",
    "            resp_json = dict([(list(el.keys())[0], list(el.values())[0]) for el in resp_json])\n",
    "        except:\n",
    "            resp_json = {}\n",
    "    return resp_json"
   ],
   "metadata": {
    "collapsed": false,
    "pycharm": {
     "name": "#%%\n"
    }
   }
  },
  {
   "cell_type": "markdown",
   "source": [
    "# Minimal experiment with paralels"
   ],
   "metadata": {
    "collapsed": false,
    "pycharm": {
     "name": "#%% md\n"
    }
   }
  },
  {
   "cell_type": "code",
   "execution_count": null,
   "outputs": [],
   "source": [
    "%%time\n",
    "### main run of the function\n",
    "\n",
    "step=100\n",
    "all_inscriptions = []\n",
    "for num in range(0, 300, step):\n",
    "    actual_nums = PHI[num:num+step][\"PHI_ID\"].tolist()\n",
    "    with ThreadPoolExecutor(max_workers=step*1.5) as pool:\n",
    "        currently_parsed = list(pool.map(get_inscription_data,actual_nums))\n",
    "    all_inscriptions.extend(currently_parsed)"
   ],
   "metadata": {
    "collapsed": false,
    "pycharm": {
     "name": "#%%\n"
    }
   }
  },
  {
   "cell_type": "code",
   "execution_count": null,
   "outputs": [],
   "source": [
    "\n",
    "pd.DataFrame(all_inscriptions)"
   ],
   "metadata": {
    "collapsed": false,
    "pycharm": {
     "name": "#%%\n"
    }
   }
  },
  {
   "cell_type": "markdown",
   "source": [
    "# Test with saving"
   ],
   "metadata": {
    "collapsed": false,
    "pycharm": {
     "name": "#%% md\n"
    }
   }
  },
  {
   "cell_type": "code",
   "execution_count": null,
   "outputs": [],
   "source": [
    "list(range(0, len(PHI), step))[-1]"
   ],
   "metadata": {
    "collapsed": false,
    "pycharm": {
     "name": "#%%\n"
    }
   }
  },
  {
   "cell_type": "code",
   "execution_count": null,
   "outputs": [],
   "source": [
    "checkspoints = list(range(0, len(PHI), 1000))[1:] + [list(range(0, len(PHI), step))[-1]] # its own range plus last element of steps\n",
    "print(checkspoints)"
   ],
   "metadata": {
    "collapsed": false,
    "pycharm": {
     "name": "#%%\n"
    }
   }
  },
  {
   "cell_type": "code",
   "execution_count": null,
   "outputs": [],
   "source": [
    "%%time\n",
    "### main run of the function\n",
    "\n",
    "step=100\n",
    "all_inscriptions = []\n",
    "for num in range(0, 3001, step):\n",
    "    actual_nums = PHI[num:num+step][\"PHI_ID\"].tolist()\n",
    "    with ThreadPoolExecutor(max_workers=step*1.5) as pool:\n",
    "        currently_parsed = list(pool.map(get_inscription_data,actual_nums))\n",
    "    all_inscriptions.extend(currently_parsed)\n",
    "    if num in checkspoints:\n",
    "      s.write_file(\"SDAM_data/PHI/PHI_TM_{0}.csv\".format(str(num)), pd.DataFrame(all_inscriptions))\n",
    "      all_inscriptions = []"
   ],
   "metadata": {
    "collapsed": false,
    "pycharm": {
     "name": "#%%\n"
    }
   }
  },
  {
   "cell_type": "code",
   "execution_count": null,
   "outputs": [],
   "source": [
    "PHI_TM_1000 = s.read_file(\"SDAM_data/PHI/PHI_TM_{0}.csv\".format(str(1000)))\n",
    "PHI_TM_2000 = s.read_file(\"SDAM_data/PHI/PHI_TM_{0}.csv\".format(str(2000)))\n",
    "PHI_TM_3000 = s.read_file(\"SDAM_data/PHI/PHI_TM_{0}.csv\".format(str(3000)))"
   ],
   "metadata": {
    "collapsed": false,
    "pycharm": {
     "name": "#%%\n"
    }
   }
  },
  {
   "cell_type": "code",
   "execution_count": null,
   "outputs": [],
   "source": [
    "PHI_TM_merge = pd.DataFrame()\n",
    "for df in [PHI_TM_1000, PHI_TM_2000, PHI_TM_3000]:\n",
    "  PHI_TM_merge = PHI_TM_merge.append(df)"
   ],
   "metadata": {
    "collapsed": false,
    "pycharm": {
     "name": "#%%\n"
    }
   }
  },
  {
   "cell_type": "code",
   "execution_count": null,
   "outputs": [],
   "source": [
    "len(PHI_TM_merge)"
   ],
   "metadata": {
    "collapsed": false,
    "pycharm": {
     "name": "#%%\n"
    }
   }
  },
  {
   "cell_type": "markdown",
   "source": [
    "# Main extraction"
   ],
   "metadata": {
    "collapsed": false,
    "pycharm": {
     "name": "#%% md\n"
    }
   }
  },
  {
   "cell_type": "code",
   "execution_count": null,
   "outputs": [],
   "source": [
    "step=100\n",
    "checkspoints = list(range(0, len(PHI), 5000))[1:] + [list(range(0, len(PHI), step))[-1]] # its own range plus last element of steps\n",
    "print(checkspoints)\n",
    "\n",
    "all_inscriptions = []\n",
    "for num in range(0, len(PHI), step):\n",
    "    actual_nums = PHI[num:num+step][\"PHI_ID\"].tolist()\n",
    "    with ThreadPoolExecutor(max_workers=step*1.5) as pool:\n",
    "        currently_parsed = list(pool.map(get_inscription_data,actual_nums))\n",
    "    all_inscriptions.extend(currently_parsed)\n",
    "    if num in checkspoints:\n",
    "      s.write_file(\"SDAM_data/PHI/PHI_TM_{0}.csv\".format(str(num)), pd.DataFrame(all_inscriptions))\n",
    "      all_inscriptions = []\n"
   ],
   "metadata": {
    "collapsed": false,
    "pycharm": {
     "name": "#%%\n"
    }
   }
  },
  {
   "cell_type": "code",
   "execution_count": null,
   "outputs": [],
   "source": [],
   "metadata": {
    "collapsed": false,
    "pycharm": {
     "name": "#%%\n"
    }
   }
  },
  {
   "cell_type": "markdown",
   "source": [
    "# Merge files"
   ],
   "metadata": {
    "collapsed": false,
    "pycharm": {
     "name": "#%% md\n"
    }
   }
  },
  {
   "cell_type": "code",
   "execution_count": null,
   "outputs": [],
   "source": [
    "test = s.read_file(\"SDAM_data/PHI/PHI_TM_{0}.csv\".format(str(80000)))\n",
    "test.head(20)"
   ],
   "metadata": {
    "collapsed": false,
    "pycharm": {
     "name": "#%%\n"
    }
   }
  },
  {
   "cell_type": "code",
   "execution_count": null,
   "outputs": [],
   "source": [
    "step = 100\n",
    "checkpoints = list(range(0, len(PHI), 5000))[1:] + [list(range(0, len(PHI), step))[-1]] # its own range plus last element of steps\n",
    "\n",
    "PHI_TM_merged = s.read_file(\"SDAM_data/PHI/PHI_TM_{0}.csv\".format(str(checkpoints[0])))\n",
    "for num in checkspoints[1:]:\n",
    "  filename = \"SDAM_data/PHI/PHI_TM_{0}.csv\".format(str(num))\n",
    "  PHI_TM_merged = PHI_TM_merged.append(s.read_file(filename))\n",
    "  print(filename)"
   ],
   "metadata": {
    "collapsed": false,
    "pycharm": {
     "name": "#%%\n"
    }
   }
  },
  {
   "cell_type": "code",
   "execution_count": null,
   "outputs": [],
   "source": [
    "len(PHI_TM_merged)"
   ],
   "metadata": {
    "collapsed": false,
    "pycharm": {
     "name": "#%%\n"
    }
   }
  },
  {
   "cell_type": "code",
   "execution_count": null,
   "outputs": [],
   "source": [
    "PHI_TM_merged[100000:100010]"
   ],
   "metadata": {
    "collapsed": false,
    "pycharm": {
     "name": "#%%\n"
    }
   }
  },
  {
   "cell_type": "code",
   "execution_count": null,
   "outputs": [],
   "source": [
    "s.write_file(\"SDAM_data/PHI/PHI_TM_merged.csv\", PHI_TM_merged)"
   ],
   "metadata": {
    "collapsed": false,
    "pycharm": {
     "name": "#%%\n"
    }
   }
  },
  {
   "cell_type": "code",
   "execution_count": null,
   "outputs": [],
   "source": [
    "#PHI_TM_merged = s.read_file(\"SDAM_data/PHI/PHI_TM_merged.csv\")"
   ],
   "metadata": {
    "collapsed": false,
    "pycharm": {
     "name": "#%%\n"
    }
   }
  },
  {
   "cell_type": "code",
   "execution_count": null,
   "outputs": [],
   "source": [
    "to_keep = []\n",
    "for col in PHI_TM_merged.columns:\n",
    "  length_vals = len([el for el in PHI_TM_merged[col] if \"[\" in str(el)])\n",
    "  if length_vals >= 1000:\n",
    "    to_keep.append(col)\n",
    "    print(col, length_vals)"
   ],
   "metadata": {
    "collapsed": false,
    "pycharm": {
     "name": "#%%\n"
    }
   }
  },
  {
   "cell_type": "code",
   "execution_count": null,
   "outputs": [],
   "source": [
    "PHI_TM_merged = PHI_TM_merged[to_keep]\n",
    "PHI_TM_merged.head(10)"
   ],
   "metadata": {
    "collapsed": false,
    "pycharm": {
     "name": "#%%\n"
    }
   }
  },
  {
   "cell_type": "code",
   "execution_count": null,
   "outputs": [],
   "source": [
    "def try_eval(val):\n",
    "  if not isinstance(val, list):\n",
    "    try: \n",
    "      val = eval(val)\n",
    "    except:\n",
    "      val = None\n",
    "  return val"
   ],
   "metadata": {
    "collapsed": false,
    "pycharm": {
     "name": "#%%\n"
    }
   }
  },
  {
   "cell_type": "code",
   "execution_count": null,
   "outputs": [],
   "source": [
    "for col in PHI_TM_merged.columns:\n",
    "  PHI_TM_merged[col] = PHI_TM_merged[col].apply(try_eval)"
   ],
   "metadata": {
    "collapsed": false,
    "pycharm": {
     "name": "#%%\n"
    }
   }
  },
  {
   "cell_type": "code",
   "execution_count": null,
   "outputs": [],
   "source": [
    "PHI_TM_merged.head(5)"
   ],
   "metadata": {
    "collapsed": false,
    "pycharm": {
     "name": "#%%\n"
    }
   }
  },
  {
   "cell_type": "code",
   "execution_count": null,
   "outputs": [],
   "source": [
    "for col in PHI_TM_merged.columns:\n",
    "  if \"ID\" not in col:\n",
    "    PHI_TM_merged.rename(columns={col : col + \"_ID\"}, inplace=True)"
   ],
   "metadata": {
    "collapsed": false,
    "pycharm": {
     "name": "#%%\n"
    }
   }
  },
  {
   "cell_type": "code",
   "execution_count": null,
   "outputs": [],
   "source": [
    "PHI_TM_merged.head(5)"
   ],
   "metadata": {
    "collapsed": false,
    "pycharm": {
     "name": "#%%\n"
    }
   }
  },
  {
   "cell_type": "code",
   "execution_count": null,
   "outputs": [],
   "source": [
    "def get_first_id(val):\n",
    "  try: \n",
    "    return int(val[0])\n",
    "  except: \n",
    "    return val\n",
    "\n",
    "PHI_TM_merged[\"PHI_ID\"] = PHI_TM_merged[\"PHI_ID\"].apply(get_first_id)"
   ],
   "metadata": {
    "collapsed": false,
    "pycharm": {
     "name": "#%%\n"
    }
   }
  },
  {
   "cell_type": "code",
   "execution_count": null,
   "outputs": [],
   "source": [
    "def to_int(val):\n",
    "  try: \n",
    "    return int64(val)\n",
    "  except: \n",
    "    return val\n",
    "\n",
    "PHI_TM_merged[\"PHI_ID\"] = PHI_TM_merged[\"PHI_ID\"].apply(to_int)"
   ],
   "metadata": {
    "collapsed": false,
    "pycharm": {
     "name": "#%%\n"
    }
   }
  },
  {
   "cell_type": "code",
   "execution_count": null,
   "outputs": [],
   "source": [
    "PHI_TM_merged.head(5)"
   ],
   "metadata": {
    "collapsed": false,
    "pycharm": {
     "name": "#%%\n"
    }
   }
  },
  {
   "cell_type": "code",
   "execution_count": null,
   "outputs": [],
   "source": [
    "PHI[\"PHI_ID\"]"
   ],
   "metadata": {
    "collapsed": false,
    "pycharm": {
     "name": "#%%\n"
    }
   }
  },
  {
   "cell_type": "code",
   "execution_count": null,
   "outputs": [],
   "source": [
    "PHI_TM_merged[\"PHI_ID\"].astype(int)"
   ],
   "metadata": {
    "collapsed": false,
    "pycharm": {
     "name": "#%%\n"
    }
   }
  },
  {
   "cell_type": "code",
   "execution_count": null,
   "outputs": [],
   "source": [
    "PHI.merge(PHI_TM_merged, on=\"PHI_ID\")"
   ],
   "metadata": {
    "collapsed": false,
    "pycharm": {
     "name": "#%%\n"
    }
   }
  },
  {
   "cell_type": "code",
   "execution_count": null,
   "outputs": [],
   "source": [
    "s.write_file(\"SDAM_data/PHI/PHI_TMids.json\", PHI)"
   ],
   "metadata": {
    "collapsed": false,
    "pycharm": {
     "name": "#%%\n"
    }
   }
  },
  {
   "cell_type": "code",
   "source": [
    "\n",
    "pd.DataFrame(all_inscriptions)"
   ],
   "metadata": {
    "colab": {
     "base_uri": "https://localhost:8080/",
     "height": 419
    },
    "id": "zxkmpc1ihO_E",
    "outputId": "63393498-0404-4cff-fd7d-924b95b5015c"
   },
   "execution_count": null,
   "outputs": [
    {
     "output_type": "execute_result",
     "data": {
      "text/plain": [
       "        TM_ID  EDB  EDH  EDCS  EDR  HE  UOXF  RIB    PHI  LUPA  ...  ALA  CPI  \\\n",
       "0    [786251]  NaN  NaN  None  NaN NaN   NaN  NaN    [1]   NaN  ...  NaN  NaN   \n",
       "1    [786252]  NaN  NaN  None  NaN NaN   NaN  NaN    [2]   NaN  ...  NaN  NaN   \n",
       "2    [786253]  NaN  NaN  None  NaN NaN   NaN  NaN    [3]   NaN  ...  NaN  NaN   \n",
       "3    [786254]  NaN  NaN  None  NaN NaN   NaN  NaN    [4]   NaN  ...  NaN  NaN   \n",
       "4    [786255]  NaN  NaN  None  NaN NaN   NaN  NaN    [5]   NaN  ...  NaN  NaN   \n",
       "..        ...  ...  ...   ...  ...  ..   ...  ...    ...   ...  ...  ...  ...   \n",
       "295  [786544]  NaN  NaN  None  NaN NaN   NaN  NaN  [296]   NaN  ...  NaN  NaN   \n",
       "296  [786545]  NaN  NaN  None  NaN NaN   NaN  NaN  [297]   NaN  ...  NaN  NaN   \n",
       "297  [786546]  NaN  NaN  None  NaN NaN   NaN  NaN  [298]   NaN  ...  NaN  NaN   \n",
       "298  [786547]  NaN  NaN  None  NaN NaN   NaN  NaN  [299]   NaN  ...  NaN  NaN   \n",
       "299  [786548]  NaN  NaN  None  NaN NaN   NaN  NaN  [300]   NaN  ...  NaN  NaN   \n",
       "\n",
       "     GLAUx  Papyrus_Projekt  GEM  Innovating_knowledge  PUL  4CARE/DEChriM  \\\n",
       "0      NaN              NaN  NaN                   NaN  NaN            NaN   \n",
       "1      NaN              NaN  NaN                   NaN  NaN            NaN   \n",
       "2      NaN              NaN  NaN                   NaN  NaN            NaN   \n",
       "3      NaN              NaN  NaN                   NaN  NaN            NaN   \n",
       "4      NaN              NaN  NaN                   NaN  NaN            NaN   \n",
       "..     ...              ...  ...                   ...  ...            ...   \n",
       "295    NaN              NaN  NaN                   NaN  NaN            NaN   \n",
       "296    NaN              NaN  NaN                   NaN  NaN            NaN   \n",
       "297    NaN              NaN  NaN                   NaN  NaN            NaN   \n",
       "298    NaN              NaN  NaN                   NaN  NaN            NaN   \n",
       "299    NaN              NaN  NaN                   NaN  NaN            NaN   \n",
       "\n",
       "     NYU_Amheida  WARNING  \n",
       "0            NaN      NaN  \n",
       "1            NaN      NaN  \n",
       "2            NaN      NaN  \n",
       "3            NaN      NaN  \n",
       "4            NaN      NaN  \n",
       "..           ...      ...  \n",
       "295          NaN      NaN  \n",
       "296          NaN      NaN  \n",
       "297          NaN      NaN  \n",
       "298          NaN      NaN  \n",
       "299          NaN      NaN  \n",
       "\n",
       "[300 rows x 143 columns]"
      ],
      "text/html": [
       "\n",
       "  <div id=\"df-3849007a-6a37-47f7-a1a0-4d85ba7df804\">\n",
       "    <div class=\"colab-df-container\">\n",
       "      <div>\n",
       "<style scoped>\n",
       "    .dataframe tbody tr th:only-of-type {\n",
       "        vertical-align: middle;\n",
       "    }\n",
       "\n",
       "    .dataframe tbody tr th {\n",
       "        vertical-align: top;\n",
       "    }\n",
       "\n",
       "    .dataframe thead th {\n",
       "        text-align: right;\n",
       "    }\n",
       "</style>\n",
       "<table border=\"1\" class=\"dataframe\">\n",
       "  <thead>\n",
       "    <tr style=\"text-align: right;\">\n",
       "      <th></th>\n",
       "      <th>TM_ID</th>\n",
       "      <th>EDB</th>\n",
       "      <th>EDH</th>\n",
       "      <th>EDCS</th>\n",
       "      <th>EDR</th>\n",
       "      <th>HE</th>\n",
       "      <th>UOXF</th>\n",
       "      <th>RIB</th>\n",
       "      <th>PHI</th>\n",
       "      <th>LUPA</th>\n",
       "      <th>...</th>\n",
       "      <th>ALA</th>\n",
       "      <th>CPI</th>\n",
       "      <th>GLAUx</th>\n",
       "      <th>Papyrus_Projekt</th>\n",
       "      <th>GEM</th>\n",
       "      <th>Innovating_knowledge</th>\n",
       "      <th>PUL</th>\n",
       "      <th>4CARE/DEChriM</th>\n",
       "      <th>NYU_Amheida</th>\n",
       "      <th>WARNING</th>\n",
       "    </tr>\n",
       "  </thead>\n",
       "  <tbody>\n",
       "    <tr>\n",
       "      <th>0</th>\n",
       "      <td>[786251]</td>\n",
       "      <td>NaN</td>\n",
       "      <td>NaN</td>\n",
       "      <td>None</td>\n",
       "      <td>NaN</td>\n",
       "      <td>NaN</td>\n",
       "      <td>NaN</td>\n",
       "      <td>NaN</td>\n",
       "      <td>[1]</td>\n",
       "      <td>NaN</td>\n",
       "      <td>...</td>\n",
       "      <td>NaN</td>\n",
       "      <td>NaN</td>\n",
       "      <td>NaN</td>\n",
       "      <td>NaN</td>\n",
       "      <td>NaN</td>\n",
       "      <td>NaN</td>\n",
       "      <td>NaN</td>\n",
       "      <td>NaN</td>\n",
       "      <td>NaN</td>\n",
       "      <td>NaN</td>\n",
       "    </tr>\n",
       "    <tr>\n",
       "      <th>1</th>\n",
       "      <td>[786252]</td>\n",
       "      <td>NaN</td>\n",
       "      <td>NaN</td>\n",
       "      <td>None</td>\n",
       "      <td>NaN</td>\n",
       "      <td>NaN</td>\n",
       "      <td>NaN</td>\n",
       "      <td>NaN</td>\n",
       "      <td>[2]</td>\n",
       "      <td>NaN</td>\n",
       "      <td>...</td>\n",
       "      <td>NaN</td>\n",
       "      <td>NaN</td>\n",
       "      <td>NaN</td>\n",
       "      <td>NaN</td>\n",
       "      <td>NaN</td>\n",
       "      <td>NaN</td>\n",
       "      <td>NaN</td>\n",
       "      <td>NaN</td>\n",
       "      <td>NaN</td>\n",
       "      <td>NaN</td>\n",
       "    </tr>\n",
       "    <tr>\n",
       "      <th>2</th>\n",
       "      <td>[786253]</td>\n",
       "      <td>NaN</td>\n",
       "      <td>NaN</td>\n",
       "      <td>None</td>\n",
       "      <td>NaN</td>\n",
       "      <td>NaN</td>\n",
       "      <td>NaN</td>\n",
       "      <td>NaN</td>\n",
       "      <td>[3]</td>\n",
       "      <td>NaN</td>\n",
       "      <td>...</td>\n",
       "      <td>NaN</td>\n",
       "      <td>NaN</td>\n",
       "      <td>NaN</td>\n",
       "      <td>NaN</td>\n",
       "      <td>NaN</td>\n",
       "      <td>NaN</td>\n",
       "      <td>NaN</td>\n",
       "      <td>NaN</td>\n",
       "      <td>NaN</td>\n",
       "      <td>NaN</td>\n",
       "    </tr>\n",
       "    <tr>\n",
       "      <th>3</th>\n",
       "      <td>[786254]</td>\n",
       "      <td>NaN</td>\n",
       "      <td>NaN</td>\n",
       "      <td>None</td>\n",
       "      <td>NaN</td>\n",
       "      <td>NaN</td>\n",
       "      <td>NaN</td>\n",
       "      <td>NaN</td>\n",
       "      <td>[4]</td>\n",
       "      <td>NaN</td>\n",
       "      <td>...</td>\n",
       "      <td>NaN</td>\n",
       "      <td>NaN</td>\n",
       "      <td>NaN</td>\n",
       "      <td>NaN</td>\n",
       "      <td>NaN</td>\n",
       "      <td>NaN</td>\n",
       "      <td>NaN</td>\n",
       "      <td>NaN</td>\n",
       "      <td>NaN</td>\n",
       "      <td>NaN</td>\n",
       "    </tr>\n",
       "    <tr>\n",
       "      <th>4</th>\n",
       "      <td>[786255]</td>\n",
       "      <td>NaN</td>\n",
       "      <td>NaN</td>\n",
       "      <td>None</td>\n",
       "      <td>NaN</td>\n",
       "      <td>NaN</td>\n",
       "      <td>NaN</td>\n",
       "      <td>NaN</td>\n",
       "      <td>[5]</td>\n",
       "      <td>NaN</td>\n",
       "      <td>...</td>\n",
       "      <td>NaN</td>\n",
       "      <td>NaN</td>\n",
       "      <td>NaN</td>\n",
       "      <td>NaN</td>\n",
       "      <td>NaN</td>\n",
       "      <td>NaN</td>\n",
       "      <td>NaN</td>\n",
       "      <td>NaN</td>\n",
       "      <td>NaN</td>\n",
       "      <td>NaN</td>\n",
       "    </tr>\n",
       "    <tr>\n",
       "      <th>...</th>\n",
       "      <td>...</td>\n",
       "      <td>...</td>\n",
       "      <td>...</td>\n",
       "      <td>...</td>\n",
       "      <td>...</td>\n",
       "      <td>...</td>\n",
       "      <td>...</td>\n",
       "      <td>...</td>\n",
       "      <td>...</td>\n",
       "      <td>...</td>\n",
       "      <td>...</td>\n",
       "      <td>...</td>\n",
       "      <td>...</td>\n",
       "      <td>...</td>\n",
       "      <td>...</td>\n",
       "      <td>...</td>\n",
       "      <td>...</td>\n",
       "      <td>...</td>\n",
       "      <td>...</td>\n",
       "      <td>...</td>\n",
       "      <td>...</td>\n",
       "    </tr>\n",
       "    <tr>\n",
       "      <th>295</th>\n",
       "      <td>[786544]</td>\n",
       "      <td>NaN</td>\n",
       "      <td>NaN</td>\n",
       "      <td>None</td>\n",
       "      <td>NaN</td>\n",
       "      <td>NaN</td>\n",
       "      <td>NaN</td>\n",
       "      <td>NaN</td>\n",
       "      <td>[296]</td>\n",
       "      <td>NaN</td>\n",
       "      <td>...</td>\n",
       "      <td>NaN</td>\n",
       "      <td>NaN</td>\n",
       "      <td>NaN</td>\n",
       "      <td>NaN</td>\n",
       "      <td>NaN</td>\n",
       "      <td>NaN</td>\n",
       "      <td>NaN</td>\n",
       "      <td>NaN</td>\n",
       "      <td>NaN</td>\n",
       "      <td>NaN</td>\n",
       "    </tr>\n",
       "    <tr>\n",
       "      <th>296</th>\n",
       "      <td>[786545]</td>\n",
       "      <td>NaN</td>\n",
       "      <td>NaN</td>\n",
       "      <td>None</td>\n",
       "      <td>NaN</td>\n",
       "      <td>NaN</td>\n",
       "      <td>NaN</td>\n",
       "      <td>NaN</td>\n",
       "      <td>[297]</td>\n",
       "      <td>NaN</td>\n",
       "      <td>...</td>\n",
       "      <td>NaN</td>\n",
       "      <td>NaN</td>\n",
       "      <td>NaN</td>\n",
       "      <td>NaN</td>\n",
       "      <td>NaN</td>\n",
       "      <td>NaN</td>\n",
       "      <td>NaN</td>\n",
       "      <td>NaN</td>\n",
       "      <td>NaN</td>\n",
       "      <td>NaN</td>\n",
       "    </tr>\n",
       "    <tr>\n",
       "      <th>297</th>\n",
       "      <td>[786546]</td>\n",
       "      <td>NaN</td>\n",
       "      <td>NaN</td>\n",
       "      <td>None</td>\n",
       "      <td>NaN</td>\n",
       "      <td>NaN</td>\n",
       "      <td>NaN</td>\n",
       "      <td>NaN</td>\n",
       "      <td>[298]</td>\n",
       "      <td>NaN</td>\n",
       "      <td>...</td>\n",
       "      <td>NaN</td>\n",
       "      <td>NaN</td>\n",
       "      <td>NaN</td>\n",
       "      <td>NaN</td>\n",
       "      <td>NaN</td>\n",
       "      <td>NaN</td>\n",
       "      <td>NaN</td>\n",
       "      <td>NaN</td>\n",
       "      <td>NaN</td>\n",
       "      <td>NaN</td>\n",
       "    </tr>\n",
       "    <tr>\n",
       "      <th>298</th>\n",
       "      <td>[786547]</td>\n",
       "      <td>NaN</td>\n",
       "      <td>NaN</td>\n",
       "      <td>None</td>\n",
       "      <td>NaN</td>\n",
       "      <td>NaN</td>\n",
       "      <td>NaN</td>\n",
       "      <td>NaN</td>\n",
       "      <td>[299]</td>\n",
       "      <td>NaN</td>\n",
       "      <td>...</td>\n",
       "      <td>NaN</td>\n",
       "      <td>NaN</td>\n",
       "      <td>NaN</td>\n",
       "      <td>NaN</td>\n",
       "      <td>NaN</td>\n",
       "      <td>NaN</td>\n",
       "      <td>NaN</td>\n",
       "      <td>NaN</td>\n",
       "      <td>NaN</td>\n",
       "      <td>NaN</td>\n",
       "    </tr>\n",
       "    <tr>\n",
       "      <th>299</th>\n",
       "      <td>[786548]</td>\n",
       "      <td>NaN</td>\n",
       "      <td>NaN</td>\n",
       "      <td>None</td>\n",
       "      <td>NaN</td>\n",
       "      <td>NaN</td>\n",
       "      <td>NaN</td>\n",
       "      <td>NaN</td>\n",
       "      <td>[300]</td>\n",
       "      <td>NaN</td>\n",
       "      <td>...</td>\n",
       "      <td>NaN</td>\n",
       "      <td>NaN</td>\n",
       "      <td>NaN</td>\n",
       "      <td>NaN</td>\n",
       "      <td>NaN</td>\n",
       "      <td>NaN</td>\n",
       "      <td>NaN</td>\n",
       "      <td>NaN</td>\n",
       "      <td>NaN</td>\n",
       "      <td>NaN</td>\n",
       "    </tr>\n",
       "  </tbody>\n",
       "</table>\n",
       "<p>300 rows × 143 columns</p>\n",
       "</div>\n",
       "      <button class=\"colab-df-convert\" onclick=\"convertToInteractive('df-3849007a-6a37-47f7-a1a0-4d85ba7df804')\"\n",
       "              title=\"Convert this dataframe to an interactive table.\"\n",
       "              style=\"display:none;\">\n",
       "        \n",
       "  <svg xmlns=\"http://www.w3.org/2000/svg\" height=\"24px\"viewBox=\"0 0 24 24\"\n",
       "       width=\"24px\">\n",
       "    <path d=\"M0 0h24v24H0V0z\" fill=\"none\"/>\n",
       "    <path d=\"M18.56 5.44l.94 2.06.94-2.06 2.06-.94-2.06-.94-.94-2.06-.94 2.06-2.06.94zm-11 1L8.5 8.5l.94-2.06 2.06-.94-2.06-.94L8.5 2.5l-.94 2.06-2.06.94zm10 10l.94 2.06.94-2.06 2.06-.94-2.06-.94-.94-2.06-.94 2.06-2.06.94z\"/><path d=\"M17.41 7.96l-1.37-1.37c-.4-.4-.92-.59-1.43-.59-.52 0-1.04.2-1.43.59L10.3 9.45l-7.72 7.72c-.78.78-.78 2.05 0 2.83L4 21.41c.39.39.9.59 1.41.59.51 0 1.02-.2 1.41-.59l7.78-7.78 2.81-2.81c.8-.78.8-2.07 0-2.86zM5.41 20L4 18.59l7.72-7.72 1.47 1.35L5.41 20z\"/>\n",
       "  </svg>\n",
       "      </button>\n",
       "      \n",
       "  <style>\n",
       "    .colab-df-container {\n",
       "      display:flex;\n",
       "      flex-wrap:wrap;\n",
       "      gap: 12px;\n",
       "    }\n",
       "\n",
       "    .colab-df-convert {\n",
       "      background-color: #E8F0FE;\n",
       "      border: none;\n",
       "      border-radius: 50%;\n",
       "      cursor: pointer;\n",
       "      display: none;\n",
       "      fill: #1967D2;\n",
       "      height: 32px;\n",
       "      padding: 0 0 0 0;\n",
       "      width: 32px;\n",
       "    }\n",
       "\n",
       "    .colab-df-convert:hover {\n",
       "      background-color: #E2EBFA;\n",
       "      box-shadow: 0px 1px 2px rgba(60, 64, 67, 0.3), 0px 1px 3px 1px rgba(60, 64, 67, 0.15);\n",
       "      fill: #174EA6;\n",
       "    }\n",
       "\n",
       "    [theme=dark] .colab-df-convert {\n",
       "      background-color: #3B4455;\n",
       "      fill: #D2E3FC;\n",
       "    }\n",
       "\n",
       "    [theme=dark] .colab-df-convert:hover {\n",
       "      background-color: #434B5C;\n",
       "      box-shadow: 0px 1px 3px 1px rgba(0, 0, 0, 0.15);\n",
       "      filter: drop-shadow(0px 1px 2px rgba(0, 0, 0, 0.3));\n",
       "      fill: #FFFFFF;\n",
       "    }\n",
       "  </style>\n",
       "\n",
       "      <script>\n",
       "        const buttonEl =\n",
       "          document.querySelector('#df-3849007a-6a37-47f7-a1a0-4d85ba7df804 button.colab-df-convert');\n",
       "        buttonEl.style.display =\n",
       "          google.colab.kernel.accessAllowed ? 'block' : 'none';\n",
       "\n",
       "        async function convertToInteractive(key) {\n",
       "          const element = document.querySelector('#df-3849007a-6a37-47f7-a1a0-4d85ba7df804');\n",
       "          const dataTable =\n",
       "            await google.colab.kernel.invokeFunction('convertToInteractive',\n",
       "                                                     [key], {});\n",
       "          if (!dataTable) return;\n",
       "\n",
       "          const docLinkHtml = 'Like what you see? Visit the ' +\n",
       "            '<a target=\"_blank\" href=https://colab.research.google.com/notebooks/data_table.ipynb>data table notebook</a>'\n",
       "            + ' to learn more about interactive tables.';\n",
       "          element.innerHTML = '';\n",
       "          dataTable['output_type'] = 'display_data';\n",
       "          await google.colab.output.renderOutput(dataTable, element);\n",
       "          const docLink = document.createElement('div');\n",
       "          docLink.innerHTML = docLinkHtml;\n",
       "          element.appendChild(docLink);\n",
       "        }\n",
       "      </script>\n",
       "    </div>\n",
       "  </div>\n",
       "  "
      ]
     },
     "metadata": {},
     "execution_count": 17
    }
   ]
  },
  {
   "cell_type": "markdown",
   "source": [
    "# Test with saving"
   ],
   "metadata": {
    "id": "4DMIcRDbSKkN"
   }
  },
  {
   "cell_type": "code",
   "source": [
    "list(range(0, len(PHI), step))[-1]"
   ],
   "metadata": {
    "id": "9g3Gbbsijgfh"
   },
   "execution_count": null,
   "outputs": []
  },
  {
   "cell_type": "code",
   "source": [
    "checkspoints = list(range(0, len(PHI), 1000))[1:] + [list(range(0, len(PHI), step))[-1]] # its own range plus last element of steps\n",
    "print(checkspoints)"
   ],
   "metadata": {
    "colab": {
     "base_uri": "https://localhost:8080/"
    },
    "id": "Zmzu57VohjnT",
    "outputId": "c5cb32e3-0355-4345-e7b0-9a2e3f78b428"
   },
   "execution_count": null,
   "outputs": [
    {
     "output_type": "stream",
     "name": "stdout",
     "text": [
      "[1000, 2000, 3000, 4000, 5000, 6000, 7000, 8000, 9000, 10000, 11000, 12000, 13000, 14000, 15000, 16000, 17000, 18000, 19000, 20000, 21000, 22000, 23000, 24000, 25000, 26000, 27000, 28000, 29000, 30000, 31000, 32000, 33000, 34000, 35000, 36000, 37000, 38000, 39000, 40000, 41000, 42000, 43000, 44000, 45000, 46000, 47000, 48000, 49000, 50000, 51000, 52000, 53000, 54000, 55000, 56000, 57000, 58000, 59000, 60000, 61000, 62000, 63000, 64000, 65000, 66000, 67000, 68000, 69000, 70000, 71000, 72000, 73000, 74000, 75000, 76000, 77000, 78000, 79000, 80000, 81000, 82000, 83000, 84000, 85000, 86000, 87000, 88000, 89000, 90000, 91000, 92000, 93000, 94000, 95000, 96000, 97000, 98000, 99000, 100000, 101000, 102000, 103000, 104000, 105000, 106000, 107000, 108000, 109000, 110000, 111000, 112000, 113000, 114000, 115000, 116000, 117000, 118000, 119000, 120000, 121000, 122000, 123000, 124000, 125000, 126000, 127000, 128000, 129000, 130000, 131000, 132000, 133000, 134000, 135000, 136000, 137000, 138000, 139000, 140000, 141000, 142000, 143000, 144000, 145000, 146000, 147000, 148000, 149000, 150000, 151000, 152000, 153000, 154000, 155000, 156000, 157000, 158000, 159000, 160000, 161000, 162000, 163000, 164000, 165000, 166000, 167000, 168000, 169000, 170000, 171000, 172000, 173000, 174000, 175000, 176000, 177000, 178000, 179000, 180000, 181000, 182000, 183000, 184000, 185000, 186000, 187000, 188000, 189000, 190000, 191000, 192000, 193000, 194000, 195000, 196000, 197000, 198000, 199000, 200000, 201000, 202000, 203000, 204000, 205000, 206000, 207000, 208000, 209000, 210000, 211000, 212000, 213000, 214000, 215000, 216000, 217000, 218000, 218100]\n"
     ]
    }
   ]
  },
  {
   "cell_type": "code",
   "execution_count": null,
   "outputs": [
    {
     "output_type": "stream",
     "name": "stdout",
     "text": [
      "Your <class 'pandas.core.frame.DataFrame'> object has been succesfully written as \"https://sciencedata.dk/files/SDAM_root/SDAM_data/PHI/PHI_TM_1000.csv\"\n",
      "Your <class 'pandas.core.frame.DataFrame'> object has been succesfully written as \"https://sciencedata.dk/files/SDAM_root/SDAM_data/PHI/PHI_TM_2000.csv\"\n",
      "Your <class 'pandas.core.frame.DataFrame'> object has been succesfully written as \"https://sciencedata.dk/files/SDAM_root/SDAM_data/PHI/PHI_TM_3000.csv\"\n",
      "CPU times: user 56.3 s, sys: 4.65 s, total: 1min\n",
      "Wall time: 57.2 s\n"
     ]
    }
   ],
   "source": [
    "%%time\n",
    "### main run of the function\n",
    "\n",
    "step=100\n",
    "all_inscriptions = []\n",
    "for num in range(0, 3001, step):\n",
    "    actual_nums = PHI[num:num+step][\"PHI_ID\"].tolist()\n",
    "    with ThreadPoolExecutor(max_workers=step*1.5) as pool:\n",
    "        currently_parsed = list(pool.map(get_inscription_data,actual_nums))\n",
    "    all_inscriptions.extend(currently_parsed)\n",
    "    if num in checkspoints:\n",
    "      s.write_file(\"SDAM_data/PHI/PHI_TM_{0}.csv\".format(str(num)), pd.DataFrame(all_inscriptions))\n",
    "      all_inscriptions = []"
   ],
   "metadata": {
    "pycharm": {
     "name": "#%%\n"
    },
    "colab": {
     "base_uri": "https://localhost:8080/"
    },
    "id": "gU3soN72fIB2",
    "outputId": "9c03fe0f-f92c-4102-dc33-b0c4fff1a500"
   }
  },
  {
   "cell_type": "code",
   "source": [
    "PHI_TM_1000 = s.read_file(\"SDAM_data/PHI/PHI_TM_{0}.csv\".format(str(1000)))\n",
    "PHI_TM_2000 = s.read_file(\"SDAM_data/PHI/PHI_TM_{0}.csv\".format(str(2000)))\n",
    "PHI_TM_3000 = s.read_file(\"SDAM_data/PHI/PHI_TM_{0}.csv\".format(str(3000)))"
   ],
   "metadata": {
    "id": "5RqrIPKAqiXW"
   },
   "execution_count": null,
   "outputs": []
  },
  {
   "cell_type": "code",
   "source": [
    "PHI_TM_merge = pd.DataFrame()\n",
    "for df in [PHI_TM_1000, PHI_TM_2000, PHI_TM_3000]:\n",
    "  PHI_TM_merge = PHI_TM_merge.append(df)"
   ],
   "metadata": {
    "id": "x4k1aoQnr7yX"
   },
   "execution_count": null,
   "outputs": []
  },
  {
   "cell_type": "code",
   "execution_count": null,
   "outputs": [],
   "source": [
    "len(PHI_TM_merge)"
   ],
   "metadata": {
    "pycharm": {
     "name": "#%%\n"
    },
    "id": "4KiWQyI2fIB4"
   }
  },
  {
   "cell_type": "markdown",
   "source": [
    "# Main extraction"
   ],
   "metadata": {
    "id": "Y5TAqsg8Sm8Q"
   }
  },
  {
   "cell_type": "code",
   "source": [
    "step=100\n",
    "checkspoints = list(range(0, len(PHI), 5000))[1:] + [list(range(0, len(PHI), step))[-1]] # its own range plus last element of steps\n",
    "print(checkspoints)\n",
    "\n",
    "all_inscriptions = []\n",
    "for num in range(0, len(PHI), step):\n",
    "    actual_nums = PHI[num:num+step][\"PHI_ID\"].tolist()\n",
    "    with ThreadPoolExecutor(max_workers=step*1.5) as pool:\n",
    "        currently_parsed = list(pool.map(get_inscription_data,actual_nums))\n",
    "    all_inscriptions.extend(currently_parsed)\n",
    "    if num in checkspoints:\n",
    "      s.write_file(\"SDAM_data/PHI/PHI_TM_{0}.csv\".format(str(num)), pd.DataFrame(all_inscriptions))\n",
    "      all_inscriptions = []\n"
   ],
   "metadata": {
    "id": "HUV967X7Soeh",
    "outputId": "949e9356-afa8-48e6-f6cf-04977188d9b3",
    "colab": {
     "base_uri": "https://localhost:8080/"
    }
   },
   "execution_count": null,
   "outputs": [
    {
     "output_type": "stream",
     "name": "stdout",
     "text": [
      "[5000, 10000, 15000, 20000, 25000, 30000, 35000, 40000, 45000, 50000, 55000, 60000, 65000, 70000, 75000, 80000, 85000, 90000, 95000, 100000, 105000, 110000, 115000, 120000, 125000, 130000, 135000, 140000, 145000, 150000, 155000, 160000, 165000, 170000, 175000, 180000, 185000, 190000, 195000, 200000, 205000, 210000, 215000, 218100]\n",
      "Your <class 'pandas.core.frame.DataFrame'> object has been succesfully written as \"https://sciencedata.dk/files/SDAM_root/SDAM_data/PHI/PHI_TM_5000.csv\"\n",
      "Your <class 'pandas.core.frame.DataFrame'> object has been succesfully written as \"https://sciencedata.dk/files/SDAM_root/SDAM_data/PHI/PHI_TM_10000.csv\"\n",
      "Your <class 'pandas.core.frame.DataFrame'> object has been succesfully written as \"https://sciencedata.dk/files/SDAM_root/SDAM_data/PHI/PHI_TM_15000.csv\"\n",
      "Your <class 'pandas.core.frame.DataFrame'> object has been succesfully written as \"https://sciencedata.dk/files/SDAM_root/SDAM_data/PHI/PHI_TM_20000.csv\"\n",
      "Your <class 'pandas.core.frame.DataFrame'> object has been succesfully written as \"https://sciencedata.dk/files/SDAM_root/SDAM_data/PHI/PHI_TM_25000.csv\"\n",
      "Your <class 'pandas.core.frame.DataFrame'> object has been succesfully written as \"https://sciencedata.dk/files/SDAM_root/SDAM_data/PHI/PHI_TM_30000.csv\"\n",
      "Your <class 'pandas.core.frame.DataFrame'> object has been succesfully written as \"https://sciencedata.dk/files/SDAM_root/SDAM_data/PHI/PHI_TM_35000.csv\"\n",
      "Your <class 'pandas.core.frame.DataFrame'> object has been succesfully written as \"https://sciencedata.dk/files/SDAM_root/SDAM_data/PHI/PHI_TM_40000.csv\"\n",
      "Your <class 'pandas.core.frame.DataFrame'> object has been succesfully written as \"https://sciencedata.dk/files/SDAM_root/SDAM_data/PHI/PHI_TM_45000.csv\"\n",
      "Your <class 'pandas.core.frame.DataFrame'> object has been succesfully written as \"https://sciencedata.dk/files/SDAM_root/SDAM_data/PHI/PHI_TM_50000.csv\"\n",
      "Your <class 'pandas.core.frame.DataFrame'> object has been succesfully written as \"https://sciencedata.dk/files/SDAM_root/SDAM_data/PHI/PHI_TM_55000.csv\"\n",
      "Your <class 'pandas.core.frame.DataFrame'> object has been succesfully written as \"https://sciencedata.dk/files/SDAM_root/SDAM_data/PHI/PHI_TM_60000.csv\"\n",
      "Your <class 'pandas.core.frame.DataFrame'> object has been succesfully written as \"https://sciencedata.dk/files/SDAM_root/SDAM_data/PHI/PHI_TM_65000.csv\"\n",
      "Your <class 'pandas.core.frame.DataFrame'> object has been succesfully written as \"https://sciencedata.dk/files/SDAM_root/SDAM_data/PHI/PHI_TM_70000.csv\"\n",
      "Your <class 'pandas.core.frame.DataFrame'> object has been succesfully written as \"https://sciencedata.dk/files/SDAM_root/SDAM_data/PHI/PHI_TM_75000.csv\"\n",
      "Your <class 'pandas.core.frame.DataFrame'> object has been succesfully written as \"https://sciencedata.dk/files/SDAM_root/SDAM_data/PHI/PHI_TM_80000.csv\"\n",
      "Your <class 'pandas.core.frame.DataFrame'> object has been succesfully written as \"https://sciencedata.dk/files/SDAM_root/SDAM_data/PHI/PHI_TM_85000.csv\"\n",
      "Your <class 'pandas.core.frame.DataFrame'> object has been succesfully written as \"https://sciencedata.dk/files/SDAM_root/SDAM_data/PHI/PHI_TM_90000.csv\"\n",
      "Your <class 'pandas.core.frame.DataFrame'> object has been succesfully written as \"https://sciencedata.dk/files/SDAM_root/SDAM_data/PHI/PHI_TM_95000.csv\"\n",
      "Your <class 'pandas.core.frame.DataFrame'> object has been succesfully written as \"https://sciencedata.dk/files/SDAM_root/SDAM_data/PHI/PHI_TM_100000.csv\"\n",
      "Your <class 'pandas.core.frame.DataFrame'> object has been succesfully written as \"https://sciencedata.dk/files/SDAM_root/SDAM_data/PHI/PHI_TM_105000.csv\"\n",
      "Your <class 'pandas.core.frame.DataFrame'> object has been succesfully written as \"https://sciencedata.dk/files/SDAM_root/SDAM_data/PHI/PHI_TM_110000.csv\"\n",
      "Your <class 'pandas.core.frame.DataFrame'> object has been succesfully written as \"https://sciencedata.dk/files/SDAM_root/SDAM_data/PHI/PHI_TM_115000.csv\"\n",
      "Your <class 'pandas.core.frame.DataFrame'> object has been succesfully written as \"https://sciencedata.dk/files/SDAM_root/SDAM_data/PHI/PHI_TM_120000.csv\"\n",
      "Your <class 'pandas.core.frame.DataFrame'> object has been succesfully written as \"https://sciencedata.dk/files/SDAM_root/SDAM_data/PHI/PHI_TM_125000.csv\"\n",
      "Your <class 'pandas.core.frame.DataFrame'> object has been succesfully written as \"https://sciencedata.dk/files/SDAM_root/SDAM_data/PHI/PHI_TM_130000.csv\"\n",
      "Your <class 'pandas.core.frame.DataFrame'> object has been succesfully written as \"https://sciencedata.dk/files/SDAM_root/SDAM_data/PHI/PHI_TM_135000.csv\"\n",
      "Your <class 'pandas.core.frame.DataFrame'> object has been succesfully written as \"https://sciencedata.dk/files/SDAM_root/SDAM_data/PHI/PHI_TM_140000.csv\"\n",
      "Your <class 'pandas.core.frame.DataFrame'> object has been succesfully written as \"https://sciencedata.dk/files/SDAM_root/SDAM_data/PHI/PHI_TM_145000.csv\"\n",
      "Your <class 'pandas.core.frame.DataFrame'> object has been succesfully written as \"https://sciencedata.dk/files/SDAM_root/SDAM_data/PHI/PHI_TM_150000.csv\"\n",
      "Your <class 'pandas.core.frame.DataFrame'> object has been succesfully written as \"https://sciencedata.dk/files/SDAM_root/SDAM_data/PHI/PHI_TM_155000.csv\"\n",
      "Your <class 'pandas.core.frame.DataFrame'> object has been succesfully written as \"https://sciencedata.dk/files/SDAM_root/SDAM_data/PHI/PHI_TM_160000.csv\"\n",
      "Your <class 'pandas.core.frame.DataFrame'> object has been succesfully written as \"https://sciencedata.dk/files/SDAM_root/SDAM_data/PHI/PHI_TM_165000.csv\"\n",
      "Your <class 'pandas.core.frame.DataFrame'> object has been succesfully written as \"https://sciencedata.dk/files/SDAM_root/SDAM_data/PHI/PHI_TM_170000.csv\"\n",
      "Your <class 'pandas.core.frame.DataFrame'> object has been succesfully written as \"https://sciencedata.dk/files/SDAM_root/SDAM_data/PHI/PHI_TM_175000.csv\"\n",
      "Your <class 'pandas.core.frame.DataFrame'> object has been succesfully written as \"https://sciencedata.dk/files/SDAM_root/SDAM_data/PHI/PHI_TM_180000.csv\"\n",
      "Your <class 'pandas.core.frame.DataFrame'> object has been succesfully written as \"https://sciencedata.dk/files/SDAM_root/SDAM_data/PHI/PHI_TM_185000.csv\"\n",
      "Your <class 'pandas.core.frame.DataFrame'> object has been succesfully written as \"https://sciencedata.dk/files/SDAM_root/SDAM_data/PHI/PHI_TM_190000.csv\"\n",
      "Your <class 'pandas.core.frame.DataFrame'> object has been succesfully written as \"https://sciencedata.dk/files/SDAM_root/SDAM_data/PHI/PHI_TM_195000.csv\"\n",
      "Your <class 'pandas.core.frame.DataFrame'> object has been succesfully written as \"https://sciencedata.dk/files/SDAM_root/SDAM_data/PHI/PHI_TM_200000.csv\"\n",
      "Your <class 'pandas.core.frame.DataFrame'> object has been succesfully written as \"https://sciencedata.dk/files/SDAM_root/SDAM_data/PHI/PHI_TM_205000.csv\"\n",
      "Your <class 'pandas.core.frame.DataFrame'> object has been succesfully written as \"https://sciencedata.dk/files/SDAM_root/SDAM_data/PHI/PHI_TM_210000.csv\"\n",
      "Your <class 'pandas.core.frame.DataFrame'> object has been succesfully written as \"https://sciencedata.dk/files/SDAM_root/SDAM_data/PHI/PHI_TM_215000.csv\"\n",
      "Your <class 'pandas.core.frame.DataFrame'> object has been succesfully written as \"https://sciencedata.dk/files/SDAM_root/SDAM_data/PHI/PHI_TM_218100.csv\"\n"
     ]
    }
   ]
  },
  {
   "cell_type": "code",
   "source": [
    ""
   ],
   "metadata": {
    "id": "2_QBNZh_DqOE"
   },
   "execution_count": null,
   "outputs": []
  },
  {
   "cell_type": "markdown",
   "source": [
    "# Merge files"
   ],
   "metadata": {
    "id": "v66VQvO8Drpi"
   }
  },
  {
   "cell_type": "code",
   "source": [
    "test = s.read_file(\"SDAM_data/PHI/PHI_TM_{0}.csv\".format(str(80000)))\n",
    "test.head(20)"
   ],
   "metadata": {
    "id": "vrw07RRFEkBF",
    "outputId": "1e5802be-8a0a-486c-acad-3988ba303652",
    "colab": {
     "base_uri": "https://localhost:8080/",
     "height": 752
    }
   },
   "execution_count": 18,
   "outputs": [
    {
     "output_type": "stream",
     "name": "stderr",
     "text": [
      "/usr/local/lib/python3.7/dist-packages/ipykernel_launcher.py:1: DtypeWarning: Columns (5,7,89,90,108,113,119,120,121) have mixed types.Specify dtype option on import or set low_memory=False.\n",
      "  \"\"\"Entry point for launching an IPython kernel.\n"
     ]
    },
    {
     "output_type": "execute_result",
     "data": {
      "text/plain": [
       "         TM_ID  EDB  EDH EDCS  EDR  HE UOXF  RIB         PHI  LUPA  ...  ALA  \\\n",
       "0   ['781347']  NaN  NaN  NaN  NaN NaN  NaN  NaN  ['200264']   NaN  ...  NaN   \n",
       "1   ['781348']  NaN  NaN  NaN  NaN NaN  NaN  NaN  ['200265']   NaN  ...  NaN   \n",
       "2   ['781349']  NaN  NaN  NaN  NaN NaN  NaN  NaN  ['200266']   NaN  ...  NaN   \n",
       "3   ['781350']  NaN  NaN  NaN  NaN NaN  NaN  NaN  ['200267']   NaN  ...  NaN   \n",
       "4   ['781351']  NaN  NaN  NaN  NaN NaN  NaN  NaN  ['200268']   NaN  ...  NaN   \n",
       "5   ['781352']  NaN  NaN  NaN  NaN NaN  NaN  NaN  ['200269']   NaN  ...  NaN   \n",
       "6   ['781353']  NaN  NaN  NaN  NaN NaN  NaN  NaN  ['200270']   NaN  ...  NaN   \n",
       "7   ['781354']  NaN  NaN  NaN  NaN NaN  NaN  NaN  ['200271']   NaN  ...  NaN   \n",
       "8   ['781355']  NaN  NaN  NaN  NaN NaN  NaN  NaN  ['200272']   NaN  ...  NaN   \n",
       "9   ['781356']  NaN  NaN  NaN  NaN NaN  NaN  NaN  ['200273']   NaN  ...  NaN   \n",
       "10  ['781357']  NaN  NaN  NaN  NaN NaN  NaN  NaN  ['200274']   NaN  ...  NaN   \n",
       "11  ['781358']  NaN  NaN  NaN  NaN NaN  NaN  NaN  ['200275']   NaN  ...  NaN   \n",
       "12  ['781359']  NaN  NaN  NaN  NaN NaN  NaN  NaN  ['200276']   NaN  ...  NaN   \n",
       "13  ['781360']  NaN  NaN  NaN  NaN NaN  NaN  NaN  ['200277']   NaN  ...  NaN   \n",
       "14  ['781361']  NaN  NaN  NaN  NaN NaN  NaN  NaN  ['200278']   NaN  ...  NaN   \n",
       "15  ['781362']  NaN  NaN  NaN  NaN NaN  NaN  NaN  ['200279']   NaN  ...  NaN   \n",
       "16  ['781363']  NaN  NaN  NaN  NaN NaN  NaN  NaN  ['200280']   NaN  ...  NaN   \n",
       "17  ['781364']  NaN  NaN  NaN  NaN NaN  NaN  NaN  ['200281']   NaN  ...  NaN   \n",
       "18  ['781365']  NaN  NaN  NaN  NaN NaN  NaN  NaN  ['200282']   NaN  ...  NaN   \n",
       "19  ['781366']  NaN  NaN  NaN  NaN NaN  NaN  NaN  ['200283']   NaN  ...  NaN   \n",
       "\n",
       "    CPI  GLAUx  Papyrus_Projekt  GEM  Innovating_knowledge  PUL  \\\n",
       "0   NaN    NaN              NaN  NaN                   NaN  NaN   \n",
       "1   NaN    NaN              NaN  NaN                   NaN  NaN   \n",
       "2   NaN    NaN              NaN  NaN                   NaN  NaN   \n",
       "3   NaN    NaN              NaN  NaN                   NaN  NaN   \n",
       "4   NaN    NaN              NaN  NaN                   NaN  NaN   \n",
       "5   NaN    NaN              NaN  NaN                   NaN  NaN   \n",
       "6   NaN    NaN              NaN  NaN                   NaN  NaN   \n",
       "7   NaN    NaN              NaN  NaN                   NaN  NaN   \n",
       "8   NaN    NaN              NaN  NaN                   NaN  NaN   \n",
       "9   NaN    NaN              NaN  NaN                   NaN  NaN   \n",
       "10  NaN    NaN              NaN  NaN                   NaN  NaN   \n",
       "11  NaN    NaN              NaN  NaN                   NaN  NaN   \n",
       "12  NaN    NaN              NaN  NaN                   NaN  NaN   \n",
       "13  NaN    NaN              NaN  NaN                   NaN  NaN   \n",
       "14  NaN    NaN              NaN  NaN                   NaN  NaN   \n",
       "15  NaN    NaN              NaN  NaN                   NaN  NaN   \n",
       "16  NaN    NaN              NaN  NaN                   NaN  NaN   \n",
       "17  NaN    NaN              NaN  NaN                   NaN  NaN   \n",
       "18  NaN    NaN              NaN  NaN                   NaN  NaN   \n",
       "19  NaN    NaN              NaN  NaN                   NaN  NaN   \n",
       "\n",
       "    4CARE/DEChriM  NYU_Amheida  WARNING  \n",
       "0             NaN          NaN      NaN  \n",
       "1             NaN          NaN      NaN  \n",
       "2             NaN          NaN      NaN  \n",
       "3             NaN          NaN      NaN  \n",
       "4             NaN          NaN      NaN  \n",
       "5             NaN          NaN      NaN  \n",
       "6             NaN          NaN      NaN  \n",
       "7             NaN          NaN      NaN  \n",
       "8             NaN          NaN      NaN  \n",
       "9             NaN          NaN      NaN  \n",
       "10            NaN          NaN      NaN  \n",
       "11            NaN          NaN      NaN  \n",
       "12            NaN          NaN      NaN  \n",
       "13            NaN          NaN      NaN  \n",
       "14            NaN          NaN      NaN  \n",
       "15            NaN          NaN      NaN  \n",
       "16            NaN          NaN      NaN  \n",
       "17            NaN          NaN      NaN  \n",
       "18            NaN          NaN      NaN  \n",
       "19            NaN          NaN      NaN  \n",
       "\n",
       "[20 rows x 143 columns]"
      ],
      "text/html": [
       "\n",
       "  <div id=\"df-581d379f-4d41-4019-9dfe-7e2a36e5e77d\">\n",
       "    <div class=\"colab-df-container\">\n",
       "      <div>\n",
       "<style scoped>\n",
       "    .dataframe tbody tr th:only-of-type {\n",
       "        vertical-align: middle;\n",
       "    }\n",
       "\n",
       "    .dataframe tbody tr th {\n",
       "        vertical-align: top;\n",
       "    }\n",
       "\n",
       "    .dataframe thead th {\n",
       "        text-align: right;\n",
       "    }\n",
       "</style>\n",
       "<table border=\"1\" class=\"dataframe\">\n",
       "  <thead>\n",
       "    <tr style=\"text-align: right;\">\n",
       "      <th></th>\n",
       "      <th>TM_ID</th>\n",
       "      <th>EDB</th>\n",
       "      <th>EDH</th>\n",
       "      <th>EDCS</th>\n",
       "      <th>EDR</th>\n",
       "      <th>HE</th>\n",
       "      <th>UOXF</th>\n",
       "      <th>RIB</th>\n",
       "      <th>PHI</th>\n",
       "      <th>LUPA</th>\n",
       "      <th>...</th>\n",
       "      <th>ALA</th>\n",
       "      <th>CPI</th>\n",
       "      <th>GLAUx</th>\n",
       "      <th>Papyrus_Projekt</th>\n",
       "      <th>GEM</th>\n",
       "      <th>Innovating_knowledge</th>\n",
       "      <th>PUL</th>\n",
       "      <th>4CARE/DEChriM</th>\n",
       "      <th>NYU_Amheida</th>\n",
       "      <th>WARNING</th>\n",
       "    </tr>\n",
       "  </thead>\n",
       "  <tbody>\n",
       "    <tr>\n",
       "      <th>0</th>\n",
       "      <td>['781347']</td>\n",
       "      <td>NaN</td>\n",
       "      <td>NaN</td>\n",
       "      <td>NaN</td>\n",
       "      <td>NaN</td>\n",
       "      <td>NaN</td>\n",
       "      <td>NaN</td>\n",
       "      <td>NaN</td>\n",
       "      <td>['200264']</td>\n",
       "      <td>NaN</td>\n",
       "      <td>...</td>\n",
       "      <td>NaN</td>\n",
       "      <td>NaN</td>\n",
       "      <td>NaN</td>\n",
       "      <td>NaN</td>\n",
       "      <td>NaN</td>\n",
       "      <td>NaN</td>\n",
       "      <td>NaN</td>\n",
       "      <td>NaN</td>\n",
       "      <td>NaN</td>\n",
       "      <td>NaN</td>\n",
       "    </tr>\n",
       "    <tr>\n",
       "      <th>1</th>\n",
       "      <td>['781348']</td>\n",
       "      <td>NaN</td>\n",
       "      <td>NaN</td>\n",
       "      <td>NaN</td>\n",
       "      <td>NaN</td>\n",
       "      <td>NaN</td>\n",
       "      <td>NaN</td>\n",
       "      <td>NaN</td>\n",
       "      <td>['200265']</td>\n",
       "      <td>NaN</td>\n",
       "      <td>...</td>\n",
       "      <td>NaN</td>\n",
       "      <td>NaN</td>\n",
       "      <td>NaN</td>\n",
       "      <td>NaN</td>\n",
       "      <td>NaN</td>\n",
       "      <td>NaN</td>\n",
       "      <td>NaN</td>\n",
       "      <td>NaN</td>\n",
       "      <td>NaN</td>\n",
       "      <td>NaN</td>\n",
       "    </tr>\n",
       "    <tr>\n",
       "      <th>2</th>\n",
       "      <td>['781349']</td>\n",
       "      <td>NaN</td>\n",
       "      <td>NaN</td>\n",
       "      <td>NaN</td>\n",
       "      <td>NaN</td>\n",
       "      <td>NaN</td>\n",
       "      <td>NaN</td>\n",
       "      <td>NaN</td>\n",
       "      <td>['200266']</td>\n",
       "      <td>NaN</td>\n",
       "      <td>...</td>\n",
       "      <td>NaN</td>\n",
       "      <td>NaN</td>\n",
       "      <td>NaN</td>\n",
       "      <td>NaN</td>\n",
       "      <td>NaN</td>\n",
       "      <td>NaN</td>\n",
       "      <td>NaN</td>\n",
       "      <td>NaN</td>\n",
       "      <td>NaN</td>\n",
       "      <td>NaN</td>\n",
       "    </tr>\n",
       "    <tr>\n",
       "      <th>3</th>\n",
       "      <td>['781350']</td>\n",
       "      <td>NaN</td>\n",
       "      <td>NaN</td>\n",
       "      <td>NaN</td>\n",
       "      <td>NaN</td>\n",
       "      <td>NaN</td>\n",
       "      <td>NaN</td>\n",
       "      <td>NaN</td>\n",
       "      <td>['200267']</td>\n",
       "      <td>NaN</td>\n",
       "      <td>...</td>\n",
       "      <td>NaN</td>\n",
       "      <td>NaN</td>\n",
       "      <td>NaN</td>\n",
       "      <td>NaN</td>\n",
       "      <td>NaN</td>\n",
       "      <td>NaN</td>\n",
       "      <td>NaN</td>\n",
       "      <td>NaN</td>\n",
       "      <td>NaN</td>\n",
       "      <td>NaN</td>\n",
       "    </tr>\n",
       "    <tr>\n",
       "      <th>4</th>\n",
       "      <td>['781351']</td>\n",
       "      <td>NaN</td>\n",
       "      <td>NaN</td>\n",
       "      <td>NaN</td>\n",
       "      <td>NaN</td>\n",
       "      <td>NaN</td>\n",
       "      <td>NaN</td>\n",
       "      <td>NaN</td>\n",
       "      <td>['200268']</td>\n",
       "      <td>NaN</td>\n",
       "      <td>...</td>\n",
       "      <td>NaN</td>\n",
       "      <td>NaN</td>\n",
       "      <td>NaN</td>\n",
       "      <td>NaN</td>\n",
       "      <td>NaN</td>\n",
       "      <td>NaN</td>\n",
       "      <td>NaN</td>\n",
       "      <td>NaN</td>\n",
       "      <td>NaN</td>\n",
       "      <td>NaN</td>\n",
       "    </tr>\n",
       "    <tr>\n",
       "      <th>5</th>\n",
       "      <td>['781352']</td>\n",
       "      <td>NaN</td>\n",
       "      <td>NaN</td>\n",
       "      <td>NaN</td>\n",
       "      <td>NaN</td>\n",
       "      <td>NaN</td>\n",
       "      <td>NaN</td>\n",
       "      <td>NaN</td>\n",
       "      <td>['200269']</td>\n",
       "      <td>NaN</td>\n",
       "      <td>...</td>\n",
       "      <td>NaN</td>\n",
       "      <td>NaN</td>\n",
       "      <td>NaN</td>\n",
       "      <td>NaN</td>\n",
       "      <td>NaN</td>\n",
       "      <td>NaN</td>\n",
       "      <td>NaN</td>\n",
       "      <td>NaN</td>\n",
       "      <td>NaN</td>\n",
       "      <td>NaN</td>\n",
       "    </tr>\n",
       "    <tr>\n",
       "      <th>6</th>\n",
       "      <td>['781353']</td>\n",
       "      <td>NaN</td>\n",
       "      <td>NaN</td>\n",
       "      <td>NaN</td>\n",
       "      <td>NaN</td>\n",
       "      <td>NaN</td>\n",
       "      <td>NaN</td>\n",
       "      <td>NaN</td>\n",
       "      <td>['200270']</td>\n",
       "      <td>NaN</td>\n",
       "      <td>...</td>\n",
       "      <td>NaN</td>\n",
       "      <td>NaN</td>\n",
       "      <td>NaN</td>\n",
       "      <td>NaN</td>\n",
       "      <td>NaN</td>\n",
       "      <td>NaN</td>\n",
       "      <td>NaN</td>\n",
       "      <td>NaN</td>\n",
       "      <td>NaN</td>\n",
       "      <td>NaN</td>\n",
       "    </tr>\n",
       "    <tr>\n",
       "      <th>7</th>\n",
       "      <td>['781354']</td>\n",
       "      <td>NaN</td>\n",
       "      <td>NaN</td>\n",
       "      <td>NaN</td>\n",
       "      <td>NaN</td>\n",
       "      <td>NaN</td>\n",
       "      <td>NaN</td>\n",
       "      <td>NaN</td>\n",
       "      <td>['200271']</td>\n",
       "      <td>NaN</td>\n",
       "      <td>...</td>\n",
       "      <td>NaN</td>\n",
       "      <td>NaN</td>\n",
       "      <td>NaN</td>\n",
       "      <td>NaN</td>\n",
       "      <td>NaN</td>\n",
       "      <td>NaN</td>\n",
       "      <td>NaN</td>\n",
       "      <td>NaN</td>\n",
       "      <td>NaN</td>\n",
       "      <td>NaN</td>\n",
       "    </tr>\n",
       "    <tr>\n",
       "      <th>8</th>\n",
       "      <td>['781355']</td>\n",
       "      <td>NaN</td>\n",
       "      <td>NaN</td>\n",
       "      <td>NaN</td>\n",
       "      <td>NaN</td>\n",
       "      <td>NaN</td>\n",
       "      <td>NaN</td>\n",
       "      <td>NaN</td>\n",
       "      <td>['200272']</td>\n",
       "      <td>NaN</td>\n",
       "      <td>...</td>\n",
       "      <td>NaN</td>\n",
       "      <td>NaN</td>\n",
       "      <td>NaN</td>\n",
       "      <td>NaN</td>\n",
       "      <td>NaN</td>\n",
       "      <td>NaN</td>\n",
       "      <td>NaN</td>\n",
       "      <td>NaN</td>\n",
       "      <td>NaN</td>\n",
       "      <td>NaN</td>\n",
       "    </tr>\n",
       "    <tr>\n",
       "      <th>9</th>\n",
       "      <td>['781356']</td>\n",
       "      <td>NaN</td>\n",
       "      <td>NaN</td>\n",
       "      <td>NaN</td>\n",
       "      <td>NaN</td>\n",
       "      <td>NaN</td>\n",
       "      <td>NaN</td>\n",
       "      <td>NaN</td>\n",
       "      <td>['200273']</td>\n",
       "      <td>NaN</td>\n",
       "      <td>...</td>\n",
       "      <td>NaN</td>\n",
       "      <td>NaN</td>\n",
       "      <td>NaN</td>\n",
       "      <td>NaN</td>\n",
       "      <td>NaN</td>\n",
       "      <td>NaN</td>\n",
       "      <td>NaN</td>\n",
       "      <td>NaN</td>\n",
       "      <td>NaN</td>\n",
       "      <td>NaN</td>\n",
       "    </tr>\n",
       "    <tr>\n",
       "      <th>10</th>\n",
       "      <td>['781357']</td>\n",
       "      <td>NaN</td>\n",
       "      <td>NaN</td>\n",
       "      <td>NaN</td>\n",
       "      <td>NaN</td>\n",
       "      <td>NaN</td>\n",
       "      <td>NaN</td>\n",
       "      <td>NaN</td>\n",
       "      <td>['200274']</td>\n",
       "      <td>NaN</td>\n",
       "      <td>...</td>\n",
       "      <td>NaN</td>\n",
       "      <td>NaN</td>\n",
       "      <td>NaN</td>\n",
       "      <td>NaN</td>\n",
       "      <td>NaN</td>\n",
       "      <td>NaN</td>\n",
       "      <td>NaN</td>\n",
       "      <td>NaN</td>\n",
       "      <td>NaN</td>\n",
       "      <td>NaN</td>\n",
       "    </tr>\n",
       "    <tr>\n",
       "      <th>11</th>\n",
       "      <td>['781358']</td>\n",
       "      <td>NaN</td>\n",
       "      <td>NaN</td>\n",
       "      <td>NaN</td>\n",
       "      <td>NaN</td>\n",
       "      <td>NaN</td>\n",
       "      <td>NaN</td>\n",
       "      <td>NaN</td>\n",
       "      <td>['200275']</td>\n",
       "      <td>NaN</td>\n",
       "      <td>...</td>\n",
       "      <td>NaN</td>\n",
       "      <td>NaN</td>\n",
       "      <td>NaN</td>\n",
       "      <td>NaN</td>\n",
       "      <td>NaN</td>\n",
       "      <td>NaN</td>\n",
       "      <td>NaN</td>\n",
       "      <td>NaN</td>\n",
       "      <td>NaN</td>\n",
       "      <td>NaN</td>\n",
       "    </tr>\n",
       "    <tr>\n",
       "      <th>12</th>\n",
       "      <td>['781359']</td>\n",
       "      <td>NaN</td>\n",
       "      <td>NaN</td>\n",
       "      <td>NaN</td>\n",
       "      <td>NaN</td>\n",
       "      <td>NaN</td>\n",
       "      <td>NaN</td>\n",
       "      <td>NaN</td>\n",
       "      <td>['200276']</td>\n",
       "      <td>NaN</td>\n",
       "      <td>...</td>\n",
       "      <td>NaN</td>\n",
       "      <td>NaN</td>\n",
       "      <td>NaN</td>\n",
       "      <td>NaN</td>\n",
       "      <td>NaN</td>\n",
       "      <td>NaN</td>\n",
       "      <td>NaN</td>\n",
       "      <td>NaN</td>\n",
       "      <td>NaN</td>\n",
       "      <td>NaN</td>\n",
       "    </tr>\n",
       "    <tr>\n",
       "      <th>13</th>\n",
       "      <td>['781360']</td>\n",
       "      <td>NaN</td>\n",
       "      <td>NaN</td>\n",
       "      <td>NaN</td>\n",
       "      <td>NaN</td>\n",
       "      <td>NaN</td>\n",
       "      <td>NaN</td>\n",
       "      <td>NaN</td>\n",
       "      <td>['200277']</td>\n",
       "      <td>NaN</td>\n",
       "      <td>...</td>\n",
       "      <td>NaN</td>\n",
       "      <td>NaN</td>\n",
       "      <td>NaN</td>\n",
       "      <td>NaN</td>\n",
       "      <td>NaN</td>\n",
       "      <td>NaN</td>\n",
       "      <td>NaN</td>\n",
       "      <td>NaN</td>\n",
       "      <td>NaN</td>\n",
       "      <td>NaN</td>\n",
       "    </tr>\n",
       "    <tr>\n",
       "      <th>14</th>\n",
       "      <td>['781361']</td>\n",
       "      <td>NaN</td>\n",
       "      <td>NaN</td>\n",
       "      <td>NaN</td>\n",
       "      <td>NaN</td>\n",
       "      <td>NaN</td>\n",
       "      <td>NaN</td>\n",
       "      <td>NaN</td>\n",
       "      <td>['200278']</td>\n",
       "      <td>NaN</td>\n",
       "      <td>...</td>\n",
       "      <td>NaN</td>\n",
       "      <td>NaN</td>\n",
       "      <td>NaN</td>\n",
       "      <td>NaN</td>\n",
       "      <td>NaN</td>\n",
       "      <td>NaN</td>\n",
       "      <td>NaN</td>\n",
       "      <td>NaN</td>\n",
       "      <td>NaN</td>\n",
       "      <td>NaN</td>\n",
       "    </tr>\n",
       "    <tr>\n",
       "      <th>15</th>\n",
       "      <td>['781362']</td>\n",
       "      <td>NaN</td>\n",
       "      <td>NaN</td>\n",
       "      <td>NaN</td>\n",
       "      <td>NaN</td>\n",
       "      <td>NaN</td>\n",
       "      <td>NaN</td>\n",
       "      <td>NaN</td>\n",
       "      <td>['200279']</td>\n",
       "      <td>NaN</td>\n",
       "      <td>...</td>\n",
       "      <td>NaN</td>\n",
       "      <td>NaN</td>\n",
       "      <td>NaN</td>\n",
       "      <td>NaN</td>\n",
       "      <td>NaN</td>\n",
       "      <td>NaN</td>\n",
       "      <td>NaN</td>\n",
       "      <td>NaN</td>\n",
       "      <td>NaN</td>\n",
       "      <td>NaN</td>\n",
       "    </tr>\n",
       "    <tr>\n",
       "      <th>16</th>\n",
       "      <td>['781363']</td>\n",
       "      <td>NaN</td>\n",
       "      <td>NaN</td>\n",
       "      <td>NaN</td>\n",
       "      <td>NaN</td>\n",
       "      <td>NaN</td>\n",
       "      <td>NaN</td>\n",
       "      <td>NaN</td>\n",
       "      <td>['200280']</td>\n",
       "      <td>NaN</td>\n",
       "      <td>...</td>\n",
       "      <td>NaN</td>\n",
       "      <td>NaN</td>\n",
       "      <td>NaN</td>\n",
       "      <td>NaN</td>\n",
       "      <td>NaN</td>\n",
       "      <td>NaN</td>\n",
       "      <td>NaN</td>\n",
       "      <td>NaN</td>\n",
       "      <td>NaN</td>\n",
       "      <td>NaN</td>\n",
       "    </tr>\n",
       "    <tr>\n",
       "      <th>17</th>\n",
       "      <td>['781364']</td>\n",
       "      <td>NaN</td>\n",
       "      <td>NaN</td>\n",
       "      <td>NaN</td>\n",
       "      <td>NaN</td>\n",
       "      <td>NaN</td>\n",
       "      <td>NaN</td>\n",
       "      <td>NaN</td>\n",
       "      <td>['200281']</td>\n",
       "      <td>NaN</td>\n",
       "      <td>...</td>\n",
       "      <td>NaN</td>\n",
       "      <td>NaN</td>\n",
       "      <td>NaN</td>\n",
       "      <td>NaN</td>\n",
       "      <td>NaN</td>\n",
       "      <td>NaN</td>\n",
       "      <td>NaN</td>\n",
       "      <td>NaN</td>\n",
       "      <td>NaN</td>\n",
       "      <td>NaN</td>\n",
       "    </tr>\n",
       "    <tr>\n",
       "      <th>18</th>\n",
       "      <td>['781365']</td>\n",
       "      <td>NaN</td>\n",
       "      <td>NaN</td>\n",
       "      <td>NaN</td>\n",
       "      <td>NaN</td>\n",
       "      <td>NaN</td>\n",
       "      <td>NaN</td>\n",
       "      <td>NaN</td>\n",
       "      <td>['200282']</td>\n",
       "      <td>NaN</td>\n",
       "      <td>...</td>\n",
       "      <td>NaN</td>\n",
       "      <td>NaN</td>\n",
       "      <td>NaN</td>\n",
       "      <td>NaN</td>\n",
       "      <td>NaN</td>\n",
       "      <td>NaN</td>\n",
       "      <td>NaN</td>\n",
       "      <td>NaN</td>\n",
       "      <td>NaN</td>\n",
       "      <td>NaN</td>\n",
       "    </tr>\n",
       "    <tr>\n",
       "      <th>19</th>\n",
       "      <td>['781366']</td>\n",
       "      <td>NaN</td>\n",
       "      <td>NaN</td>\n",
       "      <td>NaN</td>\n",
       "      <td>NaN</td>\n",
       "      <td>NaN</td>\n",
       "      <td>NaN</td>\n",
       "      <td>NaN</td>\n",
       "      <td>['200283']</td>\n",
       "      <td>NaN</td>\n",
       "      <td>...</td>\n",
       "      <td>NaN</td>\n",
       "      <td>NaN</td>\n",
       "      <td>NaN</td>\n",
       "      <td>NaN</td>\n",
       "      <td>NaN</td>\n",
       "      <td>NaN</td>\n",
       "      <td>NaN</td>\n",
       "      <td>NaN</td>\n",
       "      <td>NaN</td>\n",
       "      <td>NaN</td>\n",
       "    </tr>\n",
       "  </tbody>\n",
       "</table>\n",
       "<p>20 rows × 143 columns</p>\n",
       "</div>\n",
       "      <button class=\"colab-df-convert\" onclick=\"convertToInteractive('df-581d379f-4d41-4019-9dfe-7e2a36e5e77d')\"\n",
       "              title=\"Convert this dataframe to an interactive table.\"\n",
       "              style=\"display:none;\">\n",
       "        \n",
       "  <svg xmlns=\"http://www.w3.org/2000/svg\" height=\"24px\"viewBox=\"0 0 24 24\"\n",
       "       width=\"24px\">\n",
       "    <path d=\"M0 0h24v24H0V0z\" fill=\"none\"/>\n",
       "    <path d=\"M18.56 5.44l.94 2.06.94-2.06 2.06-.94-2.06-.94-.94-2.06-.94 2.06-2.06.94zm-11 1L8.5 8.5l.94-2.06 2.06-.94-2.06-.94L8.5 2.5l-.94 2.06-2.06.94zm10 10l.94 2.06.94-2.06 2.06-.94-2.06-.94-.94-2.06-.94 2.06-2.06.94z\"/><path d=\"M17.41 7.96l-1.37-1.37c-.4-.4-.92-.59-1.43-.59-.52 0-1.04.2-1.43.59L10.3 9.45l-7.72 7.72c-.78.78-.78 2.05 0 2.83L4 21.41c.39.39.9.59 1.41.59.51 0 1.02-.2 1.41-.59l7.78-7.78 2.81-2.81c.8-.78.8-2.07 0-2.86zM5.41 20L4 18.59l7.72-7.72 1.47 1.35L5.41 20z\"/>\n",
       "  </svg>\n",
       "      </button>\n",
       "      \n",
       "  <style>\n",
       "    .colab-df-container {\n",
       "      display:flex;\n",
       "      flex-wrap:wrap;\n",
       "      gap: 12px;\n",
       "    }\n",
       "\n",
       "    .colab-df-convert {\n",
       "      background-color: #E8F0FE;\n",
       "      border: none;\n",
       "      border-radius: 50%;\n",
       "      cursor: pointer;\n",
       "      display: none;\n",
       "      fill: #1967D2;\n",
       "      height: 32px;\n",
       "      padding: 0 0 0 0;\n",
       "      width: 32px;\n",
       "    }\n",
       "\n",
       "    .colab-df-convert:hover {\n",
       "      background-color: #E2EBFA;\n",
       "      box-shadow: 0px 1px 2px rgba(60, 64, 67, 0.3), 0px 1px 3px 1px rgba(60, 64, 67, 0.15);\n",
       "      fill: #174EA6;\n",
       "    }\n",
       "\n",
       "    [theme=dark] .colab-df-convert {\n",
       "      background-color: #3B4455;\n",
       "      fill: #D2E3FC;\n",
       "    }\n",
       "\n",
       "    [theme=dark] .colab-df-convert:hover {\n",
       "      background-color: #434B5C;\n",
       "      box-shadow: 0px 1px 3px 1px rgba(0, 0, 0, 0.15);\n",
       "      filter: drop-shadow(0px 1px 2px rgba(0, 0, 0, 0.3));\n",
       "      fill: #FFFFFF;\n",
       "    }\n",
       "  </style>\n",
       "\n",
       "      <script>\n",
       "        const buttonEl =\n",
       "          document.querySelector('#df-581d379f-4d41-4019-9dfe-7e2a36e5e77d button.colab-df-convert');\n",
       "        buttonEl.style.display =\n",
       "          google.colab.kernel.accessAllowed ? 'block' : 'none';\n",
       "\n",
       "        async function convertToInteractive(key) {\n",
       "          const element = document.querySelector('#df-581d379f-4d41-4019-9dfe-7e2a36e5e77d');\n",
       "          const dataTable =\n",
       "            await google.colab.kernel.invokeFunction('convertToInteractive',\n",
       "                                                     [key], {});\n",
       "          if (!dataTable) return;\n",
       "\n",
       "          const docLinkHtml = 'Like what you see? Visit the ' +\n",
       "            '<a target=\"_blank\" href=https://colab.research.google.com/notebooks/data_table.ipynb>data table notebook</a>'\n",
       "            + ' to learn more about interactive tables.';\n",
       "          element.innerHTML = '';\n",
       "          dataTable['output_type'] = 'display_data';\n",
       "          await google.colab.output.renderOutput(dataTable, element);\n",
       "          const docLink = document.createElement('div');\n",
       "          docLink.innerHTML = docLinkHtml;\n",
       "          element.appendChild(docLink);\n",
       "        }\n",
       "      </script>\n",
       "    </div>\n",
       "  </div>\n",
       "  "
      ]
     },
     "metadata": {},
     "execution_count": 18
    }
   ]
  },
  {
   "cell_type": "code",
   "source": [
    "step = 100\n",
    "checkpoints = list(range(0, len(PHI), 5000))[1:] + [list(range(0, len(PHI), step))[-1]] # its own range plus last element of steps\n",
    "\n",
    "PHI_TM_merged = s.read_file(\"SDAM_data/PHI/PHI_TM_{0}.csv\".format(str(checkpoints[0])))\n",
    "for num in checkspoints[1:]:\n",
    "  filename = \"SDAM_data/PHI/PHI_TM_{0}.csv\".format(str(num))\n",
    "  PHI_TM_merged = PHI_TM_merged.append(s.read_file(filename))\n",
    "  print(filename)"
   ],
   "metadata": {
    "id": "1EuPD_8nVcJw",
    "outputId": "d03685a0-9f50-4c0d-887b-8b6287deff54",
    "colab": {
     "base_uri": "https://localhost:8080/"
    }
   },
   "execution_count": 19,
   "outputs": [
    {
     "output_type": "stream",
     "name": "stderr",
     "text": [
      "/usr/local/lib/python3.7/dist-packages/ipykernel_launcher.py:4: DtypeWarning: Columns (90,94,120,124,128,131,143) have mixed types.Specify dtype option on import or set low_memory=False.\n",
      "  after removing the cwd from sys.path.\n",
      "/usr/local/lib/python3.7/dist-packages/ipykernel_launcher.py:7: DtypeWarning: Columns (3,10,90,118,120,128,143) have mixed types.Specify dtype option on import or set low_memory=False.\n",
      "  import sys\n"
     ]
    },
    {
     "output_type": "stream",
     "name": "stdout",
     "text": [
      "SDAM_data/PHI/PHI_TM_10000.csv\n",
      "SDAM_data/PHI/PHI_TM_15000.csv\n"
     ]
    },
    {
     "output_type": "stream",
     "name": "stderr",
     "text": [
      "/usr/local/lib/python3.7/dist-packages/ipykernel_launcher.py:7: DtypeWarning: Columns (89,90,94,113,123,124,131,143) have mixed types.Specify dtype option on import or set low_memory=False.\n",
      "  import sys\n"
     ]
    },
    {
     "output_type": "stream",
     "name": "stdout",
     "text": [
      "SDAM_data/PHI/PHI_TM_20000.csv\n"
     ]
    },
    {
     "output_type": "stream",
     "name": "stderr",
     "text": [
      "/usr/local/lib/python3.7/dist-packages/ipykernel_launcher.py:7: DtypeWarning: Columns (7,23,53,89,94,113,121,128,131) have mixed types.Specify dtype option on import or set low_memory=False.\n",
      "  import sys\n"
     ]
    },
    {
     "output_type": "stream",
     "name": "stdout",
     "text": [
      "SDAM_data/PHI/PHI_TM_25000.csv\n"
     ]
    },
    {
     "output_type": "stream",
     "name": "stderr",
     "text": [
      "/usr/local/lib/python3.7/dist-packages/ipykernel_launcher.py:7: DtypeWarning: Columns (23,90,94,120,121,123,124,128,131) have mixed types.Specify dtype option on import or set low_memory=False.\n",
      "  import sys\n"
     ]
    },
    {
     "output_type": "stream",
     "name": "stdout",
     "text": [
      "SDAM_data/PHI/PHI_TM_30000.csv\n"
     ]
    },
    {
     "output_type": "stream",
     "name": "stderr",
     "text": [
      "/usr/local/lib/python3.7/dist-packages/ipykernel_launcher.py:7: DtypeWarning: Columns (2,10,11,94,119,120,128) have mixed types.Specify dtype option on import or set low_memory=False.\n",
      "  import sys\n"
     ]
    },
    {
     "output_type": "stream",
     "name": "stdout",
     "text": [
      "SDAM_data/PHI/PHI_TM_35000.csv\n"
     ]
    },
    {
     "output_type": "stream",
     "name": "stderr",
     "text": [
      "/usr/local/lib/python3.7/dist-packages/ipykernel_launcher.py:7: DtypeWarning: Columns (2,3,4,5,8,10,11,23,89,94,107,113,120,122,128,131,143) have mixed types.Specify dtype option on import or set low_memory=False.\n",
      "  import sys\n"
     ]
    },
    {
     "output_type": "stream",
     "name": "stdout",
     "text": [
      "SDAM_data/PHI/PHI_TM_40000.csv\n"
     ]
    },
    {
     "output_type": "stream",
     "name": "stderr",
     "text": [
      "/usr/local/lib/python3.7/dist-packages/ipykernel_launcher.py:7: DtypeWarning: Columns (90,113,119,128,143) have mixed types.Specify dtype option on import or set low_memory=False.\n",
      "  import sys\n"
     ]
    },
    {
     "output_type": "stream",
     "name": "stdout",
     "text": [
      "SDAM_data/PHI/PHI_TM_45000.csv\n"
     ]
    },
    {
     "output_type": "stream",
     "name": "stderr",
     "text": [
      "/usr/local/lib/python3.7/dist-packages/ipykernel_launcher.py:7: DtypeWarning: Columns (2,5,11,54,89,94,113,143) have mixed types.Specify dtype option on import or set low_memory=False.\n",
      "  import sys\n"
     ]
    },
    {
     "output_type": "stream",
     "name": "stdout",
     "text": [
      "SDAM_data/PHI/PHI_TM_50000.csv\n"
     ]
    },
    {
     "output_type": "stream",
     "name": "stderr",
     "text": [
      "/usr/local/lib/python3.7/dist-packages/ipykernel_launcher.py:7: DtypeWarning: Columns (5,54,89,90,94,120,143) have mixed types.Specify dtype option on import or set low_memory=False.\n",
      "  import sys\n"
     ]
    },
    {
     "output_type": "stream",
     "name": "stdout",
     "text": [
      "SDAM_data/PHI/PHI_TM_55000.csv\n"
     ]
    },
    {
     "output_type": "stream",
     "name": "stderr",
     "text": [
      "/usr/local/lib/python3.7/dist-packages/ipykernel_launcher.py:7: DtypeWarning: Columns (2,5,10,11,23,25,107,119,128,143) have mixed types.Specify dtype option on import or set low_memory=False.\n",
      "  import sys\n"
     ]
    },
    {
     "output_type": "stream",
     "name": "stdout",
     "text": [
      "SDAM_data/PHI/PHI_TM_60000.csv\n"
     ]
    },
    {
     "output_type": "stream",
     "name": "stderr",
     "text": [
      "/usr/local/lib/python3.7/dist-packages/ipykernel_launcher.py:7: DtypeWarning: Columns (7,10,90,94,113) have mixed types.Specify dtype option on import or set low_memory=False.\n",
      "  import sys\n"
     ]
    },
    {
     "output_type": "stream",
     "name": "stdout",
     "text": [
      "SDAM_data/PHI/PHI_TM_65000.csv\n"
     ]
    },
    {
     "output_type": "stream",
     "name": "stderr",
     "text": [
      "/usr/local/lib/python3.7/dist-packages/ipykernel_launcher.py:7: DtypeWarning: Columns (2,5,7,11,12,13,128,143) have mixed types.Specify dtype option on import or set low_memory=False.\n",
      "  import sys\n"
     ]
    },
    {
     "output_type": "stream",
     "name": "stdout",
     "text": [
      "SDAM_data/PHI/PHI_TM_70000.csv\n"
     ]
    },
    {
     "output_type": "stream",
     "name": "stderr",
     "text": [
      "/usr/local/lib/python3.7/dist-packages/ipykernel_launcher.py:7: DtypeWarning: Columns (5,11,89,90,113,119,120,135,143) have mixed types.Specify dtype option on import or set low_memory=False.\n",
      "  import sys\n"
     ]
    },
    {
     "output_type": "stream",
     "name": "stdout",
     "text": [
      "SDAM_data/PHI/PHI_TM_75000.csv\n"
     ]
    },
    {
     "output_type": "stream",
     "name": "stderr",
     "text": [
      "/usr/local/lib/python3.7/dist-packages/ipykernel_launcher.py:7: DtypeWarning: Columns (5,7,89,90,108,113,119,120,121) have mixed types.Specify dtype option on import or set low_memory=False.\n",
      "  import sys\n"
     ]
    },
    {
     "output_type": "stream",
     "name": "stdout",
     "text": [
      "SDAM_data/PHI/PHI_TM_80000.csv\n"
     ]
    },
    {
     "output_type": "stream",
     "name": "stderr",
     "text": [
      "/usr/local/lib/python3.7/dist-packages/ipykernel_launcher.py:7: DtypeWarning: Columns (5,7,10,20,25,33,55,67,70,89,96,118,119,120,121,125,131,132,135) have mixed types.Specify dtype option on import or set low_memory=False.\n",
      "  import sys\n"
     ]
    },
    {
     "output_type": "stream",
     "name": "stdout",
     "text": [
      "SDAM_data/PHI/PHI_TM_85000.csv\n"
     ]
    },
    {
     "output_type": "stream",
     "name": "stderr",
     "text": [
      "/usr/local/lib/python3.7/dist-packages/ipykernel_launcher.py:7: DtypeWarning: Columns (5,7,12,56,66,67,91,125,128,131,132) have mixed types.Specify dtype option on import or set low_memory=False.\n",
      "  import sys\n"
     ]
    },
    {
     "output_type": "stream",
     "name": "stdout",
     "text": [
      "SDAM_data/PHI/PHI_TM_90000.csv\n"
     ]
    },
    {
     "output_type": "stream",
     "name": "stderr",
     "text": [
      "/usr/local/lib/python3.7/dist-packages/ipykernel_launcher.py:7: DtypeWarning: Columns (5,13,32,55,70,91,107,116,119,132,141) have mixed types.Specify dtype option on import or set low_memory=False.\n",
      "  import sys\n"
     ]
    },
    {
     "output_type": "stream",
     "name": "stdout",
     "text": [
      "SDAM_data/PHI/PHI_TM_95000.csv\n"
     ]
    },
    {
     "output_type": "stream",
     "name": "stderr",
     "text": [
      "/usr/local/lib/python3.7/dist-packages/ipykernel_launcher.py:7: DtypeWarning: Columns (5,33,55,56,70,90,91,107,123,124,128,133,135) have mixed types.Specify dtype option on import or set low_memory=False.\n",
      "  import sys\n"
     ]
    },
    {
     "output_type": "stream",
     "name": "stdout",
     "text": [
      "SDAM_data/PHI/PHI_TM_100000.csv\n"
     ]
    },
    {
     "output_type": "stream",
     "name": "stderr",
     "text": [
      "/usr/local/lib/python3.7/dist-packages/ipykernel_launcher.py:7: DtypeWarning: Columns (7,10,90,94,119,124,128,131) have mixed types.Specify dtype option on import or set low_memory=False.\n",
      "  import sys\n"
     ]
    },
    {
     "output_type": "stream",
     "name": "stdout",
     "text": [
      "SDAM_data/PHI/PHI_TM_105000.csv\n"
     ]
    },
    {
     "output_type": "stream",
     "name": "stderr",
     "text": [
      "/usr/local/lib/python3.7/dist-packages/ipykernel_launcher.py:7: DtypeWarning: Columns (89,90,94,113,120,128,131,143) have mixed types.Specify dtype option on import or set low_memory=False.\n",
      "  import sys\n"
     ]
    },
    {
     "output_type": "stream",
     "name": "stdout",
     "text": [
      "SDAM_data/PHI/PHI_TM_110000.csv\n"
     ]
    },
    {
     "output_type": "stream",
     "name": "stderr",
     "text": [
      "/usr/local/lib/python3.7/dist-packages/ipykernel_launcher.py:7: DtypeWarning: Columns (7,10,90,119,123,124,143) have mixed types.Specify dtype option on import or set low_memory=False.\n",
      "  import sys\n"
     ]
    },
    {
     "output_type": "stream",
     "name": "stdout",
     "text": [
      "SDAM_data/PHI/PHI_TM_115000.csv\n"
     ]
    },
    {
     "output_type": "stream",
     "name": "stderr",
     "text": [
      "/usr/local/lib/python3.7/dist-packages/ipykernel_launcher.py:7: DtypeWarning: Columns (3,7,25,90,113,128) have mixed types.Specify dtype option on import or set low_memory=False.\n",
      "  import sys\n"
     ]
    },
    {
     "output_type": "stream",
     "name": "stdout",
     "text": [
      "SDAM_data/PHI/PHI_TM_120000.csv\n"
     ]
    },
    {
     "output_type": "stream",
     "name": "stderr",
     "text": [
      "/usr/local/lib/python3.7/dist-packages/ipykernel_launcher.py:7: DtypeWarning: Columns (3,5,7,8,89,113,119,128,131,133) have mixed types.Specify dtype option on import or set low_memory=False.\n",
      "  import sys\n"
     ]
    },
    {
     "output_type": "stream",
     "name": "stdout",
     "text": [
      "SDAM_data/PHI/PHI_TM_125000.csv\n"
     ]
    },
    {
     "output_type": "stream",
     "name": "stderr",
     "text": [
      "/usr/local/lib/python3.7/dist-packages/ipykernel_launcher.py:7: DtypeWarning: Columns (7,89,90,94,113,119,128,131,136,143) have mixed types.Specify dtype option on import or set low_memory=False.\n",
      "  import sys\n"
     ]
    },
    {
     "output_type": "stream",
     "name": "stdout",
     "text": [
      "SDAM_data/PHI/PHI_TM_130000.csv\n"
     ]
    },
    {
     "output_type": "stream",
     "name": "stderr",
     "text": [
      "/usr/local/lib/python3.7/dist-packages/ipykernel_launcher.py:7: DtypeWarning: Columns (7,10,108,111,119,120,128,134) have mixed types.Specify dtype option on import or set low_memory=False.\n",
      "  import sys\n"
     ]
    },
    {
     "output_type": "stream",
     "name": "stdout",
     "text": [
      "SDAM_data/PHI/PHI_TM_135000.csv\n"
     ]
    },
    {
     "output_type": "stream",
     "name": "stderr",
     "text": [
      "/usr/local/lib/python3.7/dist-packages/ipykernel_launcher.py:7: DtypeWarning: Columns (90,118,119,120,128) have mixed types.Specify dtype option on import or set low_memory=False.\n",
      "  import sys\n"
     ]
    },
    {
     "output_type": "stream",
     "name": "stdout",
     "text": [
      "SDAM_data/PHI/PHI_TM_140000.csv\n"
     ]
    },
    {
     "output_type": "stream",
     "name": "stderr",
     "text": [
      "/usr/local/lib/python3.7/dist-packages/ipykernel_launcher.py:7: DtypeWarning: Columns (5,7,34,90,105,118,121,128,143) have mixed types.Specify dtype option on import or set low_memory=False.\n",
      "  import sys\n"
     ]
    },
    {
     "output_type": "stream",
     "name": "stdout",
     "text": [
      "SDAM_data/PHI/PHI_TM_145000.csv\n"
     ]
    },
    {
     "output_type": "stream",
     "name": "stderr",
     "text": [
      "/usr/local/lib/python3.7/dist-packages/ipykernel_launcher.py:7: DtypeWarning: Columns (5,7,90,119,120,128,143) have mixed types.Specify dtype option on import or set low_memory=False.\n",
      "  import sys\n"
     ]
    },
    {
     "output_type": "stream",
     "name": "stdout",
     "text": [
      "SDAM_data/PHI/PHI_TM_150000.csv\n"
     ]
    },
    {
     "output_type": "stream",
     "name": "stderr",
     "text": [
      "/usr/local/lib/python3.7/dist-packages/ipykernel_launcher.py:7: DtypeWarning: Columns (5,10,11,25,89,90,94,112,119,121,123,124,131,135,143) have mixed types.Specify dtype option on import or set low_memory=False.\n",
      "  import sys\n"
     ]
    },
    {
     "output_type": "stream",
     "name": "stdout",
     "text": [
      "SDAM_data/PHI/PHI_TM_155000.csv\n"
     ]
    },
    {
     "output_type": "stream",
     "name": "stderr",
     "text": [
      "/usr/local/lib/python3.7/dist-packages/ipykernel_launcher.py:7: DtypeWarning: Columns (5,11,94,119,124) have mixed types.Specify dtype option on import or set low_memory=False.\n",
      "  import sys\n"
     ]
    },
    {
     "output_type": "stream",
     "name": "stdout",
     "text": [
      "SDAM_data/PHI/PHI_TM_160000.csv\n"
     ]
    },
    {
     "output_type": "stream",
     "name": "stderr",
     "text": [
      "/usr/local/lib/python3.7/dist-packages/ipykernel_launcher.py:7: DtypeWarning: Columns (5,8,11,89,90,94,113,118,119,120,123,131) have mixed types.Specify dtype option on import or set low_memory=False.\n",
      "  import sys\n"
     ]
    },
    {
     "output_type": "stream",
     "name": "stdout",
     "text": [
      "SDAM_data/PHI/PHI_TM_165000.csv\n"
     ]
    },
    {
     "output_type": "stream",
     "name": "stderr",
     "text": [
      "/usr/local/lib/python3.7/dist-packages/ipykernel_launcher.py:7: DtypeWarning: Columns (5,7,10,11,94,119,120,121,128,131) have mixed types.Specify dtype option on import or set low_memory=False.\n",
      "  import sys\n"
     ]
    },
    {
     "output_type": "stream",
     "name": "stdout",
     "text": [
      "SDAM_data/PHI/PHI_TM_170000.csv\n"
     ]
    },
    {
     "output_type": "stream",
     "name": "stderr",
     "text": [
      "/usr/local/lib/python3.7/dist-packages/ipykernel_launcher.py:7: DtypeWarning: Columns (7,90,120,128,131,143) have mixed types.Specify dtype option on import or set low_memory=False.\n",
      "  import sys\n"
     ]
    },
    {
     "output_type": "stream",
     "name": "stdout",
     "text": [
      "SDAM_data/PHI/PHI_TM_175000.csv\n"
     ]
    },
    {
     "output_type": "stream",
     "name": "stderr",
     "text": [
      "/usr/local/lib/python3.7/dist-packages/ipykernel_launcher.py:7: DtypeWarning: Columns (5,10,11,34,89,113,119,120,143) have mixed types.Specify dtype option on import or set low_memory=False.\n",
      "  import sys\n"
     ]
    },
    {
     "output_type": "stream",
     "name": "stdout",
     "text": [
      "SDAM_data/PHI/PHI_TM_180000.csv\n"
     ]
    },
    {
     "output_type": "stream",
     "name": "stderr",
     "text": [
      "/usr/local/lib/python3.7/dist-packages/ipykernel_launcher.py:7: DtypeWarning: Columns (2,11,33,34,70,90,91,94,99,112,119,121,123,124,128) have mixed types.Specify dtype option on import or set low_memory=False.\n",
      "  import sys\n"
     ]
    },
    {
     "output_type": "stream",
     "name": "stdout",
     "text": [
      "SDAM_data/PHI/PHI_TM_185000.csv\n"
     ]
    },
    {
     "output_type": "stream",
     "name": "stderr",
     "text": [
      "/usr/local/lib/python3.7/dist-packages/ipykernel_launcher.py:7: DtypeWarning: Columns (5,7,10,11,12,13,27,29,94,141,143) have mixed types.Specify dtype option on import or set low_memory=False.\n",
      "  import sys\n"
     ]
    },
    {
     "output_type": "stream",
     "name": "stdout",
     "text": [
      "SDAM_data/PHI/PHI_TM_190000.csv\n"
     ]
    },
    {
     "output_type": "stream",
     "name": "stderr",
     "text": [
      "/usr/local/lib/python3.7/dist-packages/ipykernel_launcher.py:7: DtypeWarning: Columns (13,29,89,90,113,119,128,143) have mixed types.Specify dtype option on import or set low_memory=False.\n",
      "  import sys\n"
     ]
    },
    {
     "output_type": "stream",
     "name": "stdout",
     "text": [
      "SDAM_data/PHI/PHI_TM_195000.csv\n"
     ]
    },
    {
     "output_type": "stream",
     "name": "stderr",
     "text": [
      "/usr/local/lib/python3.7/dist-packages/ipykernel_launcher.py:7: DtypeWarning: Columns (23,70,90,94,113,143) have mixed types.Specify dtype option on import or set low_memory=False.\n",
      "  import sys\n"
     ]
    },
    {
     "output_type": "stream",
     "name": "stdout",
     "text": [
      "SDAM_data/PHI/PHI_TM_200000.csv\n"
     ]
    },
    {
     "output_type": "stream",
     "name": "stderr",
     "text": [
      "/usr/local/lib/python3.7/dist-packages/ipykernel_launcher.py:7: DtypeWarning: Columns (7,27,70,89,94,113,120,122,123,124,131) have mixed types.Specify dtype option on import or set low_memory=False.\n",
      "  import sys\n"
     ]
    },
    {
     "output_type": "stream",
     "name": "stdout",
     "text": [
      "SDAM_data/PHI/PHI_TM_205000.csv\n"
     ]
    },
    {
     "output_type": "stream",
     "name": "stderr",
     "text": [
      "/usr/local/lib/python3.7/dist-packages/ipykernel_launcher.py:7: DtypeWarning: Columns (5,7,27,33,91,111,113,119,120,121,128,131,133) have mixed types.Specify dtype option on import or set low_memory=False.\n",
      "  import sys\n"
     ]
    },
    {
     "output_type": "stream",
     "name": "stdout",
     "text": [
      "SDAM_data/PHI/PHI_TM_210000.csv\n"
     ]
    },
    {
     "output_type": "stream",
     "name": "stderr",
     "text": [
      "/usr/local/lib/python3.7/dist-packages/ipykernel_launcher.py:7: DtypeWarning: Columns (7,11,90,113,123,128) have mixed types.Specify dtype option on import or set low_memory=False.\n",
      "  import sys\n"
     ]
    },
    {
     "output_type": "stream",
     "name": "stdout",
     "text": [
      "SDAM_data/PHI/PHI_TM_215000.csv\n",
      "SDAM_data/PHI/PHI_TM_218100.csv\n"
     ]
    }
   ]
  },
  {
   "cell_type": "code",
   "source": [
    "len(PHI_TM_merged)"
   ],
   "metadata": {
    "id": "Ok7UUZQDC87d",
    "outputId": "c3180a48-2dc1-42ba-93fa-7d233f1bcabd",
    "colab": {
     "base_uri": "https://localhost:8080/"
    }
   },
   "execution_count": 20,
   "outputs": [
    {
     "output_type": "execute_result",
     "data": {
      "text/plain": [
       "218162"
      ]
     },
     "metadata": {},
     "execution_count": 20
    }
   ]
  },
  {
   "cell_type": "code",
   "source": [
    "PHI_TM_merged[100000:100010]"
   ],
   "metadata": {
    "id": "8dsdR3lQDmSF",
    "outputId": "413705e2-b3dd-4c27-9a58-7d232b928295",
    "colab": {
     "base_uri": "https://localhost:8080/",
     "height": 388
    }
   },
   "execution_count": 22,
   "outputs": [
    {
     "output_type": "execute_result",
     "data": {
      "text/plain": [
       "           TM_ID  EDB  EDH EDCS  EDR  HE UOXF  RIB         PHI LUPA  ...  ALA  \\\n",
       "4900  ['942406']  NaN  NaN  NaN  NaN NaN  NaN  NaN  ['233130']  NaN  ...  NaN   \n",
       "4901  ['942497']  NaN  NaN  NaN  NaN NaN  NaN  NaN  ['233131']  NaN  ...  NaN   \n",
       "4902  ['942497']  NaN  NaN  NaN  NaN NaN  NaN  NaN  ['233132']  NaN  ...  NaN   \n",
       "4903  ['929230']  NaN  NaN  NaN  NaN NaN  NaN  NaN  ['233133']  NaN  ...  NaN   \n",
       "4904  ['788832']  NaN  NaN  NaN  NaN NaN  NaN  NaN  ['233134']  NaN  ...  NaN   \n",
       "4905  ['788832']  NaN  NaN  NaN  NaN NaN  NaN  NaN  ['233135']  NaN  ...  NaN   \n",
       "4906  ['902850']  NaN  NaN  NaN  NaN NaN  NaN  NaN  ['233136']  NaN  ...  NaN   \n",
       "4907  ['902851']  NaN  NaN  NaN  NaN NaN  NaN  NaN  ['233137']  NaN  ...  NaN   \n",
       "4908  ['902851']  NaN  NaN  NaN  NaN NaN  NaN  NaN  ['233138']  NaN  ...  NaN   \n",
       "4909  ['942407']  NaN  NaN  NaN  NaN NaN  NaN  NaN  ['233139']  NaN  ...  NaN   \n",
       "\n",
       "      CPI GLAUx  Papyrus_Projekt  GEM  Innovating_knowledge  PUL  \\\n",
       "4900  NaN   NaN              NaN  NaN                   NaN  NaN   \n",
       "4901  NaN   NaN              NaN  NaN                   NaN  NaN   \n",
       "4902  NaN   NaN              NaN  NaN                   NaN  NaN   \n",
       "4903  NaN   NaN              NaN  NaN                   NaN  NaN   \n",
       "4904  NaN   NaN              NaN  NaN                   NaN  NaN   \n",
       "4905  NaN   NaN              NaN  NaN                   NaN  NaN   \n",
       "4906  NaN   NaN              NaN  NaN                   NaN  NaN   \n",
       "4907  NaN   NaN              NaN  NaN                   NaN  NaN   \n",
       "4908  NaN   NaN              NaN  NaN                   NaN  NaN   \n",
       "4909  NaN   NaN              NaN  NaN                   NaN  NaN   \n",
       "\n",
       "      4CARE/DEChriM  NYU_Amheida WARNING  \n",
       "4900            NaN          NaN     NaN  \n",
       "4901            NaN          NaN     NaN  \n",
       "4902            NaN          NaN     NaN  \n",
       "4903            NaN          NaN     NaN  \n",
       "4904            NaN          NaN     NaN  \n",
       "4905            NaN          NaN     NaN  \n",
       "4906            NaN          NaN     NaN  \n",
       "4907            NaN          NaN     NaN  \n",
       "4908            NaN          NaN     NaN  \n",
       "4909            NaN          NaN     NaN  \n",
       "\n",
       "[10 rows x 143 columns]"
      ],
      "text/html": [
       "\n",
       "  <div id=\"df-d2e56c95-f8bc-4ee0-b490-9c9d468a11f4\">\n",
       "    <div class=\"colab-df-container\">\n",
       "      <div>\n",
       "<style scoped>\n",
       "    .dataframe tbody tr th:only-of-type {\n",
       "        vertical-align: middle;\n",
       "    }\n",
       "\n",
       "    .dataframe tbody tr th {\n",
       "        vertical-align: top;\n",
       "    }\n",
       "\n",
       "    .dataframe thead th {\n",
       "        text-align: right;\n",
       "    }\n",
       "</style>\n",
       "<table border=\"1\" class=\"dataframe\">\n",
       "  <thead>\n",
       "    <tr style=\"text-align: right;\">\n",
       "      <th></th>\n",
       "      <th>TM_ID</th>\n",
       "      <th>EDB</th>\n",
       "      <th>EDH</th>\n",
       "      <th>EDCS</th>\n",
       "      <th>EDR</th>\n",
       "      <th>HE</th>\n",
       "      <th>UOXF</th>\n",
       "      <th>RIB</th>\n",
       "      <th>PHI</th>\n",
       "      <th>LUPA</th>\n",
       "      <th>...</th>\n",
       "      <th>ALA</th>\n",
       "      <th>CPI</th>\n",
       "      <th>GLAUx</th>\n",
       "      <th>Papyrus_Projekt</th>\n",
       "      <th>GEM</th>\n",
       "      <th>Innovating_knowledge</th>\n",
       "      <th>PUL</th>\n",
       "      <th>4CARE/DEChriM</th>\n",
       "      <th>NYU_Amheida</th>\n",
       "      <th>WARNING</th>\n",
       "    </tr>\n",
       "  </thead>\n",
       "  <tbody>\n",
       "    <tr>\n",
       "      <th>4900</th>\n",
       "      <td>['942406']</td>\n",
       "      <td>NaN</td>\n",
       "      <td>NaN</td>\n",
       "      <td>NaN</td>\n",
       "      <td>NaN</td>\n",
       "      <td>NaN</td>\n",
       "      <td>NaN</td>\n",
       "      <td>NaN</td>\n",
       "      <td>['233130']</td>\n",
       "      <td>NaN</td>\n",
       "      <td>...</td>\n",
       "      <td>NaN</td>\n",
       "      <td>NaN</td>\n",
       "      <td>NaN</td>\n",
       "      <td>NaN</td>\n",
       "      <td>NaN</td>\n",
       "      <td>NaN</td>\n",
       "      <td>NaN</td>\n",
       "      <td>NaN</td>\n",
       "      <td>NaN</td>\n",
       "      <td>NaN</td>\n",
       "    </tr>\n",
       "    <tr>\n",
       "      <th>4901</th>\n",
       "      <td>['942497']</td>\n",
       "      <td>NaN</td>\n",
       "      <td>NaN</td>\n",
       "      <td>NaN</td>\n",
       "      <td>NaN</td>\n",
       "      <td>NaN</td>\n",
       "      <td>NaN</td>\n",
       "      <td>NaN</td>\n",
       "      <td>['233131']</td>\n",
       "      <td>NaN</td>\n",
       "      <td>...</td>\n",
       "      <td>NaN</td>\n",
       "      <td>NaN</td>\n",
       "      <td>NaN</td>\n",
       "      <td>NaN</td>\n",
       "      <td>NaN</td>\n",
       "      <td>NaN</td>\n",
       "      <td>NaN</td>\n",
       "      <td>NaN</td>\n",
       "      <td>NaN</td>\n",
       "      <td>NaN</td>\n",
       "    </tr>\n",
       "    <tr>\n",
       "      <th>4902</th>\n",
       "      <td>['942497']</td>\n",
       "      <td>NaN</td>\n",
       "      <td>NaN</td>\n",
       "      <td>NaN</td>\n",
       "      <td>NaN</td>\n",
       "      <td>NaN</td>\n",
       "      <td>NaN</td>\n",
       "      <td>NaN</td>\n",
       "      <td>['233132']</td>\n",
       "      <td>NaN</td>\n",
       "      <td>...</td>\n",
       "      <td>NaN</td>\n",
       "      <td>NaN</td>\n",
       "      <td>NaN</td>\n",
       "      <td>NaN</td>\n",
       "      <td>NaN</td>\n",
       "      <td>NaN</td>\n",
       "      <td>NaN</td>\n",
       "      <td>NaN</td>\n",
       "      <td>NaN</td>\n",
       "      <td>NaN</td>\n",
       "    </tr>\n",
       "    <tr>\n",
       "      <th>4903</th>\n",
       "      <td>['929230']</td>\n",
       "      <td>NaN</td>\n",
       "      <td>NaN</td>\n",
       "      <td>NaN</td>\n",
       "      <td>NaN</td>\n",
       "      <td>NaN</td>\n",
       "      <td>NaN</td>\n",
       "      <td>NaN</td>\n",
       "      <td>['233133']</td>\n",
       "      <td>NaN</td>\n",
       "      <td>...</td>\n",
       "      <td>NaN</td>\n",
       "      <td>NaN</td>\n",
       "      <td>NaN</td>\n",
       "      <td>NaN</td>\n",
       "      <td>NaN</td>\n",
       "      <td>NaN</td>\n",
       "      <td>NaN</td>\n",
       "      <td>NaN</td>\n",
       "      <td>NaN</td>\n",
       "      <td>NaN</td>\n",
       "    </tr>\n",
       "    <tr>\n",
       "      <th>4904</th>\n",
       "      <td>['788832']</td>\n",
       "      <td>NaN</td>\n",
       "      <td>NaN</td>\n",
       "      <td>NaN</td>\n",
       "      <td>NaN</td>\n",
       "      <td>NaN</td>\n",
       "      <td>NaN</td>\n",
       "      <td>NaN</td>\n",
       "      <td>['233134']</td>\n",
       "      <td>NaN</td>\n",
       "      <td>...</td>\n",
       "      <td>NaN</td>\n",
       "      <td>NaN</td>\n",
       "      <td>NaN</td>\n",
       "      <td>NaN</td>\n",
       "      <td>NaN</td>\n",
       "      <td>NaN</td>\n",
       "      <td>NaN</td>\n",
       "      <td>NaN</td>\n",
       "      <td>NaN</td>\n",
       "      <td>NaN</td>\n",
       "    </tr>\n",
       "    <tr>\n",
       "      <th>4905</th>\n",
       "      <td>['788832']</td>\n",
       "      <td>NaN</td>\n",
       "      <td>NaN</td>\n",
       "      <td>NaN</td>\n",
       "      <td>NaN</td>\n",
       "      <td>NaN</td>\n",
       "      <td>NaN</td>\n",
       "      <td>NaN</td>\n",
       "      <td>['233135']</td>\n",
       "      <td>NaN</td>\n",
       "      <td>...</td>\n",
       "      <td>NaN</td>\n",
       "      <td>NaN</td>\n",
       "      <td>NaN</td>\n",
       "      <td>NaN</td>\n",
       "      <td>NaN</td>\n",
       "      <td>NaN</td>\n",
       "      <td>NaN</td>\n",
       "      <td>NaN</td>\n",
       "      <td>NaN</td>\n",
       "      <td>NaN</td>\n",
       "    </tr>\n",
       "    <tr>\n",
       "      <th>4906</th>\n",
       "      <td>['902850']</td>\n",
       "      <td>NaN</td>\n",
       "      <td>NaN</td>\n",
       "      <td>NaN</td>\n",
       "      <td>NaN</td>\n",
       "      <td>NaN</td>\n",
       "      <td>NaN</td>\n",
       "      <td>NaN</td>\n",
       "      <td>['233136']</td>\n",
       "      <td>NaN</td>\n",
       "      <td>...</td>\n",
       "      <td>NaN</td>\n",
       "      <td>NaN</td>\n",
       "      <td>NaN</td>\n",
       "      <td>NaN</td>\n",
       "      <td>NaN</td>\n",
       "      <td>NaN</td>\n",
       "      <td>NaN</td>\n",
       "      <td>NaN</td>\n",
       "      <td>NaN</td>\n",
       "      <td>NaN</td>\n",
       "    </tr>\n",
       "    <tr>\n",
       "      <th>4907</th>\n",
       "      <td>['902851']</td>\n",
       "      <td>NaN</td>\n",
       "      <td>NaN</td>\n",
       "      <td>NaN</td>\n",
       "      <td>NaN</td>\n",
       "      <td>NaN</td>\n",
       "      <td>NaN</td>\n",
       "      <td>NaN</td>\n",
       "      <td>['233137']</td>\n",
       "      <td>NaN</td>\n",
       "      <td>...</td>\n",
       "      <td>NaN</td>\n",
       "      <td>NaN</td>\n",
       "      <td>NaN</td>\n",
       "      <td>NaN</td>\n",
       "      <td>NaN</td>\n",
       "      <td>NaN</td>\n",
       "      <td>NaN</td>\n",
       "      <td>NaN</td>\n",
       "      <td>NaN</td>\n",
       "      <td>NaN</td>\n",
       "    </tr>\n",
       "    <tr>\n",
       "      <th>4908</th>\n",
       "      <td>['902851']</td>\n",
       "      <td>NaN</td>\n",
       "      <td>NaN</td>\n",
       "      <td>NaN</td>\n",
       "      <td>NaN</td>\n",
       "      <td>NaN</td>\n",
       "      <td>NaN</td>\n",
       "      <td>NaN</td>\n",
       "      <td>['233138']</td>\n",
       "      <td>NaN</td>\n",
       "      <td>...</td>\n",
       "      <td>NaN</td>\n",
       "      <td>NaN</td>\n",
       "      <td>NaN</td>\n",
       "      <td>NaN</td>\n",
       "      <td>NaN</td>\n",
       "      <td>NaN</td>\n",
       "      <td>NaN</td>\n",
       "      <td>NaN</td>\n",
       "      <td>NaN</td>\n",
       "      <td>NaN</td>\n",
       "    </tr>\n",
       "    <tr>\n",
       "      <th>4909</th>\n",
       "      <td>['942407']</td>\n",
       "      <td>NaN</td>\n",
       "      <td>NaN</td>\n",
       "      <td>NaN</td>\n",
       "      <td>NaN</td>\n",
       "      <td>NaN</td>\n",
       "      <td>NaN</td>\n",
       "      <td>NaN</td>\n",
       "      <td>['233139']</td>\n",
       "      <td>NaN</td>\n",
       "      <td>...</td>\n",
       "      <td>NaN</td>\n",
       "      <td>NaN</td>\n",
       "      <td>NaN</td>\n",
       "      <td>NaN</td>\n",
       "      <td>NaN</td>\n",
       "      <td>NaN</td>\n",
       "      <td>NaN</td>\n",
       "      <td>NaN</td>\n",
       "      <td>NaN</td>\n",
       "      <td>NaN</td>\n",
       "    </tr>\n",
       "  </tbody>\n",
       "</table>\n",
       "<p>10 rows × 143 columns</p>\n",
       "</div>\n",
       "      <button class=\"colab-df-convert\" onclick=\"convertToInteractive('df-d2e56c95-f8bc-4ee0-b490-9c9d468a11f4')\"\n",
       "              title=\"Convert this dataframe to an interactive table.\"\n",
       "              style=\"display:none;\">\n",
       "        \n",
       "  <svg xmlns=\"http://www.w3.org/2000/svg\" height=\"24px\"viewBox=\"0 0 24 24\"\n",
       "       width=\"24px\">\n",
       "    <path d=\"M0 0h24v24H0V0z\" fill=\"none\"/>\n",
       "    <path d=\"M18.56 5.44l.94 2.06.94-2.06 2.06-.94-2.06-.94-.94-2.06-.94 2.06-2.06.94zm-11 1L8.5 8.5l.94-2.06 2.06-.94-2.06-.94L8.5 2.5l-.94 2.06-2.06.94zm10 10l.94 2.06.94-2.06 2.06-.94-2.06-.94-.94-2.06-.94 2.06-2.06.94z\"/><path d=\"M17.41 7.96l-1.37-1.37c-.4-.4-.92-.59-1.43-.59-.52 0-1.04.2-1.43.59L10.3 9.45l-7.72 7.72c-.78.78-.78 2.05 0 2.83L4 21.41c.39.39.9.59 1.41.59.51 0 1.02-.2 1.41-.59l7.78-7.78 2.81-2.81c.8-.78.8-2.07 0-2.86zM5.41 20L4 18.59l7.72-7.72 1.47 1.35L5.41 20z\"/>\n",
       "  </svg>\n",
       "      </button>\n",
       "      \n",
       "  <style>\n",
       "    .colab-df-container {\n",
       "      display:flex;\n",
       "      flex-wrap:wrap;\n",
       "      gap: 12px;\n",
       "    }\n",
       "\n",
       "    .colab-df-convert {\n",
       "      background-color: #E8F0FE;\n",
       "      border: none;\n",
       "      border-radius: 50%;\n",
       "      cursor: pointer;\n",
       "      display: none;\n",
       "      fill: #1967D2;\n",
       "      height: 32px;\n",
       "      padding: 0 0 0 0;\n",
       "      width: 32px;\n",
       "    }\n",
       "\n",
       "    .colab-df-convert:hover {\n",
       "      background-color: #E2EBFA;\n",
       "      box-shadow: 0px 1px 2px rgba(60, 64, 67, 0.3), 0px 1px 3px 1px rgba(60, 64, 67, 0.15);\n",
       "      fill: #174EA6;\n",
       "    }\n",
       "\n",
       "    [theme=dark] .colab-df-convert {\n",
       "      background-color: #3B4455;\n",
       "      fill: #D2E3FC;\n",
       "    }\n",
       "\n",
       "    [theme=dark] .colab-df-convert:hover {\n",
       "      background-color: #434B5C;\n",
       "      box-shadow: 0px 1px 3px 1px rgba(0, 0, 0, 0.15);\n",
       "      filter: drop-shadow(0px 1px 2px rgba(0, 0, 0, 0.3));\n",
       "      fill: #FFFFFF;\n",
       "    }\n",
       "  </style>\n",
       "\n",
       "      <script>\n",
       "        const buttonEl =\n",
       "          document.querySelector('#df-d2e56c95-f8bc-4ee0-b490-9c9d468a11f4 button.colab-df-convert');\n",
       "        buttonEl.style.display =\n",
       "          google.colab.kernel.accessAllowed ? 'block' : 'none';\n",
       "\n",
       "        async function convertToInteractive(key) {\n",
       "          const element = document.querySelector('#df-d2e56c95-f8bc-4ee0-b490-9c9d468a11f4');\n",
       "          const dataTable =\n",
       "            await google.colab.kernel.invokeFunction('convertToInteractive',\n",
       "                                                     [key], {});\n",
       "          if (!dataTable) return;\n",
       "\n",
       "          const docLinkHtml = 'Like what you see? Visit the ' +\n",
       "            '<a target=\"_blank\" href=https://colab.research.google.com/notebooks/data_table.ipynb>data table notebook</a>'\n",
       "            + ' to learn more about interactive tables.';\n",
       "          element.innerHTML = '';\n",
       "          dataTable['output_type'] = 'display_data';\n",
       "          await google.colab.output.renderOutput(dataTable, element);\n",
       "          const docLink = document.createElement('div');\n",
       "          docLink.innerHTML = docLinkHtml;\n",
       "          element.appendChild(docLink);\n",
       "        }\n",
       "      </script>\n",
       "    </div>\n",
       "  </div>\n",
       "  "
      ]
     },
     "metadata": {},
     "execution_count": 22
    }
   ]
  },
  {
   "cell_type": "code",
   "source": [
    "s.write_file(\"SDAM_data/PHI/PHI_TM_merged.csv\", PHI_TM_merged)"
   ],
   "metadata": {
    "id": "ZzptrRXGHUgb",
    "outputId": "ccbecb24-7ff4-4ba7-d427-d704fd7cb289",
    "colab": {
     "base_uri": "https://localhost:8080/"
    }
   },
   "execution_count": 29,
   "outputs": [
    {
     "output_type": "stream",
     "name": "stdout",
     "text": [
      "Your <class 'pandas.core.frame.DataFrame'> object has been succesfully written as \"https://sciencedata.dk/files/SDAM_root/SDAM_data/PHI/PHI_TM_merged.csv\"\n"
     ]
    }
   ]
  },
  {
   "cell_type": "code",
   "source": [
    "#PHI_TM_merged = s.read_file(\"SDAM_data/PHI/PHI_TM_merged.csv\")"
   ],
   "metadata": {
    "id": "Fczg0jjsKKLw",
    "outputId": "b2792b02-6184-4a59-f905-fe6e36c17b1b",
    "colab": {
     "base_uri": "https://localhost:8080/"
    }
   },
   "execution_count": 40,
   "outputs": [
    {
     "output_type": "stream",
     "name": "stderr",
     "text": [
      "/usr/local/lib/python3.7/dist-packages/ipykernel_launcher.py:1: DtypeWarning: Columns (2,5,7,8,10,11,12,13,20,23,25,27,29,32,33,34,53,54,55,56,66,67,70,89,90,91,94,96,99,105,107,108,111,112,113,116,118,119,120,121,122,123,124,125,126,128,131,132,133,134,135,136,141,143) have mixed types.Specify dtype option on import or set low_memory=False.\n",
      "  \"\"\"Entry point for launching an IPython kernel.\n"
     ]
    }
   ]
  },
  {
   "cell_type": "code",
   "source": [
    "to_keep = []\n",
    "for col in PHI_TM_merged.columns:\n",
    "  length_vals = len([el for el in PHI_TM_merged[col] if \"[\" in str(el)])\n",
    "  if length_vals >= 1000:\n",
    "    to_keep.append(col)\n",
    "    print(col, length_vals)"
   ],
   "metadata": {
    "id": "wB6SC2wNGGdk",
    "outputId": "19aa6d51-6dfc-4dee-e2b9-669d9eb4883d",
    "colab": {
     "base_uri": "https://localhost:8080/"
    }
   },
   "execution_count": 42,
   "outputs": [
    {
     "output_type": "stream",
     "name": "stdout",
     "text": [
      "TM_ID 218104\n",
      "EDH 8472\n",
      "EDCS 23929\n",
      "EDR 3761\n",
      "PHI 217863\n",
      "LUPA 1129\n",
      "ISic 2465\n",
      "IG 8147\n",
      "atticinscriptions 4156\n",
      "Attalus 2235\n"
     ]
    }
   ]
  },
  {
   "cell_type": "code",
   "source": [
    "PHI_TM_merged = PHI_TM_merged[to_keep]\n",
    "PHI_TM_merged.head(10)"
   ],
   "metadata": {
    "id": "WLUJXRrqF3ME",
    "outputId": "0c04c6d0-c8a5-4c24-c6fc-bf05d3b5d42d",
    "colab": {
     "base_uri": "https://localhost:8080/",
     "height": 359
    }
   },
   "execution_count": 43,
   "outputs": [
    {
     "output_type": "execute_result",
     "data": {
      "text/plain": [
       "        TM_ID  EDH EDCS  EDR     PHI LUPA ISic                            IG  \\\n",
       "0  ['786251']  NaN  NaN  NaN   ['1']  NaN  NaN                   ['IG I³ 1']   \n",
       "1  ['786252']  NaN  NaN  NaN   ['2']  NaN  NaN                   ['IG I³ 2']   \n",
       "2  ['786253']  NaN  NaN  NaN   ['3']  NaN  NaN                   ['IG I³ 3']   \n",
       "3  ['786254']  NaN  NaN  NaN   ['4']  NaN  NaN  ['IG I³ 4(A)', 'IG I³ 4(B)']   \n",
       "4  ['786255']  NaN  NaN  NaN   ['5']  NaN  NaN                   ['IG I³ 5']   \n",
       "5  ['786256']  NaN  NaN  NaN   ['6']  NaN  NaN                   ['IG I³ 6']   \n",
       "6  ['786257']  NaN  NaN  NaN   ['7']  NaN  NaN                   ['IG I³ 7']   \n",
       "7  ['786258']  NaN  NaN  NaN   ['8']  NaN  NaN                   ['IG I³ 8']   \n",
       "8  ['786259']  NaN  NaN  NaN   ['9']  NaN  NaN                   ['IG I³ 9']   \n",
       "9  ['786260']  NaN  NaN  NaN  ['10']  NaN  NaN                  ['IG I³ 10']   \n",
       "\n",
       "  atticinscriptions Attalus  \n",
       "0          ['1672']     NaN  \n",
       "1          ['1707']     NaN  \n",
       "2         ['ii-1b']     NaN  \n",
       "3          ['1692']     NaN  \n",
       "4          ['1284']     NaN  \n",
       "5             ['6']     NaN  \n",
       "6           ['108']     NaN  \n",
       "7             ['8']     NaN  \n",
       "8             ['9']     NaN  \n",
       "9           ['120']     NaN  "
      ],
      "text/html": [
       "\n",
       "  <div id=\"df-1989c792-075c-44f3-912c-c512d568fbbf\">\n",
       "    <div class=\"colab-df-container\">\n",
       "      <div>\n",
       "<style scoped>\n",
       "    .dataframe tbody tr th:only-of-type {\n",
       "        vertical-align: middle;\n",
       "    }\n",
       "\n",
       "    .dataframe tbody tr th {\n",
       "        vertical-align: top;\n",
       "    }\n",
       "\n",
       "    .dataframe thead th {\n",
       "        text-align: right;\n",
       "    }\n",
       "</style>\n",
       "<table border=\"1\" class=\"dataframe\">\n",
       "  <thead>\n",
       "    <tr style=\"text-align: right;\">\n",
       "      <th></th>\n",
       "      <th>TM_ID</th>\n",
       "      <th>EDH</th>\n",
       "      <th>EDCS</th>\n",
       "      <th>EDR</th>\n",
       "      <th>PHI</th>\n",
       "      <th>LUPA</th>\n",
       "      <th>ISic</th>\n",
       "      <th>IG</th>\n",
       "      <th>atticinscriptions</th>\n",
       "      <th>Attalus</th>\n",
       "    </tr>\n",
       "  </thead>\n",
       "  <tbody>\n",
       "    <tr>\n",
       "      <th>0</th>\n",
       "      <td>['786251']</td>\n",
       "      <td>NaN</td>\n",
       "      <td>NaN</td>\n",
       "      <td>NaN</td>\n",
       "      <td>['1']</td>\n",
       "      <td>NaN</td>\n",
       "      <td>NaN</td>\n",
       "      <td>['IG I³ 1']</td>\n",
       "      <td>['1672']</td>\n",
       "      <td>NaN</td>\n",
       "    </tr>\n",
       "    <tr>\n",
       "      <th>1</th>\n",
       "      <td>['786252']</td>\n",
       "      <td>NaN</td>\n",
       "      <td>NaN</td>\n",
       "      <td>NaN</td>\n",
       "      <td>['2']</td>\n",
       "      <td>NaN</td>\n",
       "      <td>NaN</td>\n",
       "      <td>['IG I³ 2']</td>\n",
       "      <td>['1707']</td>\n",
       "      <td>NaN</td>\n",
       "    </tr>\n",
       "    <tr>\n",
       "      <th>2</th>\n",
       "      <td>['786253']</td>\n",
       "      <td>NaN</td>\n",
       "      <td>NaN</td>\n",
       "      <td>NaN</td>\n",
       "      <td>['3']</td>\n",
       "      <td>NaN</td>\n",
       "      <td>NaN</td>\n",
       "      <td>['IG I³ 3']</td>\n",
       "      <td>['ii-1b']</td>\n",
       "      <td>NaN</td>\n",
       "    </tr>\n",
       "    <tr>\n",
       "      <th>3</th>\n",
       "      <td>['786254']</td>\n",
       "      <td>NaN</td>\n",
       "      <td>NaN</td>\n",
       "      <td>NaN</td>\n",
       "      <td>['4']</td>\n",
       "      <td>NaN</td>\n",
       "      <td>NaN</td>\n",
       "      <td>['IG I³ 4(A)', 'IG I³ 4(B)']</td>\n",
       "      <td>['1692']</td>\n",
       "      <td>NaN</td>\n",
       "    </tr>\n",
       "    <tr>\n",
       "      <th>4</th>\n",
       "      <td>['786255']</td>\n",
       "      <td>NaN</td>\n",
       "      <td>NaN</td>\n",
       "      <td>NaN</td>\n",
       "      <td>['5']</td>\n",
       "      <td>NaN</td>\n",
       "      <td>NaN</td>\n",
       "      <td>['IG I³ 5']</td>\n",
       "      <td>['1284']</td>\n",
       "      <td>NaN</td>\n",
       "    </tr>\n",
       "    <tr>\n",
       "      <th>5</th>\n",
       "      <td>['786256']</td>\n",
       "      <td>NaN</td>\n",
       "      <td>NaN</td>\n",
       "      <td>NaN</td>\n",
       "      <td>['6']</td>\n",
       "      <td>NaN</td>\n",
       "      <td>NaN</td>\n",
       "      <td>['IG I³ 6']</td>\n",
       "      <td>['6']</td>\n",
       "      <td>NaN</td>\n",
       "    </tr>\n",
       "    <tr>\n",
       "      <th>6</th>\n",
       "      <td>['786257']</td>\n",
       "      <td>NaN</td>\n",
       "      <td>NaN</td>\n",
       "      <td>NaN</td>\n",
       "      <td>['7']</td>\n",
       "      <td>NaN</td>\n",
       "      <td>NaN</td>\n",
       "      <td>['IG I³ 7']</td>\n",
       "      <td>['108']</td>\n",
       "      <td>NaN</td>\n",
       "    </tr>\n",
       "    <tr>\n",
       "      <th>7</th>\n",
       "      <td>['786258']</td>\n",
       "      <td>NaN</td>\n",
       "      <td>NaN</td>\n",
       "      <td>NaN</td>\n",
       "      <td>['8']</td>\n",
       "      <td>NaN</td>\n",
       "      <td>NaN</td>\n",
       "      <td>['IG I³ 8']</td>\n",
       "      <td>['8']</td>\n",
       "      <td>NaN</td>\n",
       "    </tr>\n",
       "    <tr>\n",
       "      <th>8</th>\n",
       "      <td>['786259']</td>\n",
       "      <td>NaN</td>\n",
       "      <td>NaN</td>\n",
       "      <td>NaN</td>\n",
       "      <td>['9']</td>\n",
       "      <td>NaN</td>\n",
       "      <td>NaN</td>\n",
       "      <td>['IG I³ 9']</td>\n",
       "      <td>['9']</td>\n",
       "      <td>NaN</td>\n",
       "    </tr>\n",
       "    <tr>\n",
       "      <th>9</th>\n",
       "      <td>['786260']</td>\n",
       "      <td>NaN</td>\n",
       "      <td>NaN</td>\n",
       "      <td>NaN</td>\n",
       "      <td>['10']</td>\n",
       "      <td>NaN</td>\n",
       "      <td>NaN</td>\n",
       "      <td>['IG I³ 10']</td>\n",
       "      <td>['120']</td>\n",
       "      <td>NaN</td>\n",
       "    </tr>\n",
       "  </tbody>\n",
       "</table>\n",
       "</div>\n",
       "      <button class=\"colab-df-convert\" onclick=\"convertToInteractive('df-1989c792-075c-44f3-912c-c512d568fbbf')\"\n",
       "              title=\"Convert this dataframe to an interactive table.\"\n",
       "              style=\"display:none;\">\n",
       "        \n",
       "  <svg xmlns=\"http://www.w3.org/2000/svg\" height=\"24px\"viewBox=\"0 0 24 24\"\n",
       "       width=\"24px\">\n",
       "    <path d=\"M0 0h24v24H0V0z\" fill=\"none\"/>\n",
       "    <path d=\"M18.56 5.44l.94 2.06.94-2.06 2.06-.94-2.06-.94-.94-2.06-.94 2.06-2.06.94zm-11 1L8.5 8.5l.94-2.06 2.06-.94-2.06-.94L8.5 2.5l-.94 2.06-2.06.94zm10 10l.94 2.06.94-2.06 2.06-.94-2.06-.94-.94-2.06-.94 2.06-2.06.94z\"/><path d=\"M17.41 7.96l-1.37-1.37c-.4-.4-.92-.59-1.43-.59-.52 0-1.04.2-1.43.59L10.3 9.45l-7.72 7.72c-.78.78-.78 2.05 0 2.83L4 21.41c.39.39.9.59 1.41.59.51 0 1.02-.2 1.41-.59l7.78-7.78 2.81-2.81c.8-.78.8-2.07 0-2.86zM5.41 20L4 18.59l7.72-7.72 1.47 1.35L5.41 20z\"/>\n",
       "  </svg>\n",
       "      </button>\n",
       "      \n",
       "  <style>\n",
       "    .colab-df-container {\n",
       "      display:flex;\n",
       "      flex-wrap:wrap;\n",
       "      gap: 12px;\n",
       "    }\n",
       "\n",
       "    .colab-df-convert {\n",
       "      background-color: #E8F0FE;\n",
       "      border: none;\n",
       "      border-radius: 50%;\n",
       "      cursor: pointer;\n",
       "      display: none;\n",
       "      fill: #1967D2;\n",
       "      height: 32px;\n",
       "      padding: 0 0 0 0;\n",
       "      width: 32px;\n",
       "    }\n",
       "\n",
       "    .colab-df-convert:hover {\n",
       "      background-color: #E2EBFA;\n",
       "      box-shadow: 0px 1px 2px rgba(60, 64, 67, 0.3), 0px 1px 3px 1px rgba(60, 64, 67, 0.15);\n",
       "      fill: #174EA6;\n",
       "    }\n",
       "\n",
       "    [theme=dark] .colab-df-convert {\n",
       "      background-color: #3B4455;\n",
       "      fill: #D2E3FC;\n",
       "    }\n",
       "\n",
       "    [theme=dark] .colab-df-convert:hover {\n",
       "      background-color: #434B5C;\n",
       "      box-shadow: 0px 1px 3px 1px rgba(0, 0, 0, 0.15);\n",
       "      filter: drop-shadow(0px 1px 2px rgba(0, 0, 0, 0.3));\n",
       "      fill: #FFFFFF;\n",
       "    }\n",
       "  </style>\n",
       "\n",
       "      <script>\n",
       "        const buttonEl =\n",
       "          document.querySelector('#df-1989c792-075c-44f3-912c-c512d568fbbf button.colab-df-convert');\n",
       "        buttonEl.style.display =\n",
       "          google.colab.kernel.accessAllowed ? 'block' : 'none';\n",
       "\n",
       "        async function convertToInteractive(key) {\n",
       "          const element = document.querySelector('#df-1989c792-075c-44f3-912c-c512d568fbbf');\n",
       "          const dataTable =\n",
       "            await google.colab.kernel.invokeFunction('convertToInteractive',\n",
       "                                                     [key], {});\n",
       "          if (!dataTable) return;\n",
       "\n",
       "          const docLinkHtml = 'Like what you see? Visit the ' +\n",
       "            '<a target=\"_blank\" href=https://colab.research.google.com/notebooks/data_table.ipynb>data table notebook</a>'\n",
       "            + ' to learn more about interactive tables.';\n",
       "          element.innerHTML = '';\n",
       "          dataTable['output_type'] = 'display_data';\n",
       "          await google.colab.output.renderOutput(dataTable, element);\n",
       "          const docLink = document.createElement('div');\n",
       "          docLink.innerHTML = docLinkHtml;\n",
       "          element.appendChild(docLink);\n",
       "        }\n",
       "      </script>\n",
       "    </div>\n",
       "  </div>\n",
       "  "
      ]
     },
     "metadata": {},
     "execution_count": 43
    }
   ]
  },
  {
   "cell_type": "code",
   "source": [
    "def try_eval(val):\n",
    "  if not isinstance(val, list):\n",
    "    try: \n",
    "      val = eval(val)\n",
    "    except:\n",
    "      val = None\n",
    "  return val"
   ],
   "metadata": {
    "id": "KHoOvzUKI7tP"
   },
   "execution_count": 44,
   "outputs": []
  },
  {
   "cell_type": "code",
   "source": [
    "for col in PHI_TM_merged.columns:\n",
    "  PHI_TM_merged[col] = PHI_TM_merged[col].apply(try_eval)"
   ],
   "metadata": {
    "id": "IM7g6aKRI6tZ"
   },
   "execution_count": 45,
   "outputs": []
  },
  {
   "cell_type": "code",
   "source": [
    "PHI_TM_merged.head(5)"
   ],
   "metadata": {
    "id": "I7sCvTJeJ37j",
    "outputId": "0df54e62-86da-4e1c-8974-bd4074b57e7e",
    "colab": {
     "base_uri": "https://localhost:8080/",
     "height": 204
    }
   },
   "execution_count": 46,
   "outputs": [
    {
     "output_type": "execute_result",
     "data": {
      "text/plain": [
       "      TM_ID   EDH  EDCS   EDR  PHI  LUPA  ISic                        IG  \\\n",
       "0  [786251]  None  None  None  [1]  None  None                 [IG I³ 1]   \n",
       "1  [786252]  None  None  None  [2]  None  None                 [IG I³ 2]   \n",
       "2  [786253]  None  None  None  [3]  None  None                 [IG I³ 3]   \n",
       "3  [786254]  None  None  None  [4]  None  None  [IG I³ 4(A), IG I³ 4(B)]   \n",
       "4  [786255]  None  None  None  [5]  None  None                 [IG I³ 5]   \n",
       "\n",
       "  atticinscriptions Attalus  \n",
       "0            [1672]    None  \n",
       "1            [1707]    None  \n",
       "2           [ii-1b]    None  \n",
       "3            [1692]    None  \n",
       "4            [1284]    None  "
      ],
      "text/html": [
       "\n",
       "  <div id=\"df-3a3249e5-482f-4a80-9551-dd2d7557baf8\">\n",
       "    <div class=\"colab-df-container\">\n",
       "      <div>\n",
       "<style scoped>\n",
       "    .dataframe tbody tr th:only-of-type {\n",
       "        vertical-align: middle;\n",
       "    }\n",
       "\n",
       "    .dataframe tbody tr th {\n",
       "        vertical-align: top;\n",
       "    }\n",
       "\n",
       "    .dataframe thead th {\n",
       "        text-align: right;\n",
       "    }\n",
       "</style>\n",
       "<table border=\"1\" class=\"dataframe\">\n",
       "  <thead>\n",
       "    <tr style=\"text-align: right;\">\n",
       "      <th></th>\n",
       "      <th>TM_ID</th>\n",
       "      <th>EDH</th>\n",
       "      <th>EDCS</th>\n",
       "      <th>EDR</th>\n",
       "      <th>PHI</th>\n",
       "      <th>LUPA</th>\n",
       "      <th>ISic</th>\n",
       "      <th>IG</th>\n",
       "      <th>atticinscriptions</th>\n",
       "      <th>Attalus</th>\n",
       "    </tr>\n",
       "  </thead>\n",
       "  <tbody>\n",
       "    <tr>\n",
       "      <th>0</th>\n",
       "      <td>[786251]</td>\n",
       "      <td>None</td>\n",
       "      <td>None</td>\n",
       "      <td>None</td>\n",
       "      <td>[1]</td>\n",
       "      <td>None</td>\n",
       "      <td>None</td>\n",
       "      <td>[IG I³ 1]</td>\n",
       "      <td>[1672]</td>\n",
       "      <td>None</td>\n",
       "    </tr>\n",
       "    <tr>\n",
       "      <th>1</th>\n",
       "      <td>[786252]</td>\n",
       "      <td>None</td>\n",
       "      <td>None</td>\n",
       "      <td>None</td>\n",
       "      <td>[2]</td>\n",
       "      <td>None</td>\n",
       "      <td>None</td>\n",
       "      <td>[IG I³ 2]</td>\n",
       "      <td>[1707]</td>\n",
       "      <td>None</td>\n",
       "    </tr>\n",
       "    <tr>\n",
       "      <th>2</th>\n",
       "      <td>[786253]</td>\n",
       "      <td>None</td>\n",
       "      <td>None</td>\n",
       "      <td>None</td>\n",
       "      <td>[3]</td>\n",
       "      <td>None</td>\n",
       "      <td>None</td>\n",
       "      <td>[IG I³ 3]</td>\n",
       "      <td>[ii-1b]</td>\n",
       "      <td>None</td>\n",
       "    </tr>\n",
       "    <tr>\n",
       "      <th>3</th>\n",
       "      <td>[786254]</td>\n",
       "      <td>None</td>\n",
       "      <td>None</td>\n",
       "      <td>None</td>\n",
       "      <td>[4]</td>\n",
       "      <td>None</td>\n",
       "      <td>None</td>\n",
       "      <td>[IG I³ 4(A), IG I³ 4(B)]</td>\n",
       "      <td>[1692]</td>\n",
       "      <td>None</td>\n",
       "    </tr>\n",
       "    <tr>\n",
       "      <th>4</th>\n",
       "      <td>[786255]</td>\n",
       "      <td>None</td>\n",
       "      <td>None</td>\n",
       "      <td>None</td>\n",
       "      <td>[5]</td>\n",
       "      <td>None</td>\n",
       "      <td>None</td>\n",
       "      <td>[IG I³ 5]</td>\n",
       "      <td>[1284]</td>\n",
       "      <td>None</td>\n",
       "    </tr>\n",
       "  </tbody>\n",
       "</table>\n",
       "</div>\n",
       "      <button class=\"colab-df-convert\" onclick=\"convertToInteractive('df-3a3249e5-482f-4a80-9551-dd2d7557baf8')\"\n",
       "              title=\"Convert this dataframe to an interactive table.\"\n",
       "              style=\"display:none;\">\n",
       "        \n",
       "  <svg xmlns=\"http://www.w3.org/2000/svg\" height=\"24px\"viewBox=\"0 0 24 24\"\n",
       "       width=\"24px\">\n",
       "    <path d=\"M0 0h24v24H0V0z\" fill=\"none\"/>\n",
       "    <path d=\"M18.56 5.44l.94 2.06.94-2.06 2.06-.94-2.06-.94-.94-2.06-.94 2.06-2.06.94zm-11 1L8.5 8.5l.94-2.06 2.06-.94-2.06-.94L8.5 2.5l-.94 2.06-2.06.94zm10 10l.94 2.06.94-2.06 2.06-.94-2.06-.94-.94-2.06-.94 2.06-2.06.94z\"/><path d=\"M17.41 7.96l-1.37-1.37c-.4-.4-.92-.59-1.43-.59-.52 0-1.04.2-1.43.59L10.3 9.45l-7.72 7.72c-.78.78-.78 2.05 0 2.83L4 21.41c.39.39.9.59 1.41.59.51 0 1.02-.2 1.41-.59l7.78-7.78 2.81-2.81c.8-.78.8-2.07 0-2.86zM5.41 20L4 18.59l7.72-7.72 1.47 1.35L5.41 20z\"/>\n",
       "  </svg>\n",
       "      </button>\n",
       "      \n",
       "  <style>\n",
       "    .colab-df-container {\n",
       "      display:flex;\n",
       "      flex-wrap:wrap;\n",
       "      gap: 12px;\n",
       "    }\n",
       "\n",
       "    .colab-df-convert {\n",
       "      background-color: #E8F0FE;\n",
       "      border: none;\n",
       "      border-radius: 50%;\n",
       "      cursor: pointer;\n",
       "      display: none;\n",
       "      fill: #1967D2;\n",
       "      height: 32px;\n",
       "      padding: 0 0 0 0;\n",
       "      width: 32px;\n",
       "    }\n",
       "\n",
       "    .colab-df-convert:hover {\n",
       "      background-color: #E2EBFA;\n",
       "      box-shadow: 0px 1px 2px rgba(60, 64, 67, 0.3), 0px 1px 3px 1px rgba(60, 64, 67, 0.15);\n",
       "      fill: #174EA6;\n",
       "    }\n",
       "\n",
       "    [theme=dark] .colab-df-convert {\n",
       "      background-color: #3B4455;\n",
       "      fill: #D2E3FC;\n",
       "    }\n",
       "\n",
       "    [theme=dark] .colab-df-convert:hover {\n",
       "      background-color: #434B5C;\n",
       "      box-shadow: 0px 1px 3px 1px rgba(0, 0, 0, 0.15);\n",
       "      filter: drop-shadow(0px 1px 2px rgba(0, 0, 0, 0.3));\n",
       "      fill: #FFFFFF;\n",
       "    }\n",
       "  </style>\n",
       "\n",
       "      <script>\n",
       "        const buttonEl =\n",
       "          document.querySelector('#df-3a3249e5-482f-4a80-9551-dd2d7557baf8 button.colab-df-convert');\n",
       "        buttonEl.style.display =\n",
       "          google.colab.kernel.accessAllowed ? 'block' : 'none';\n",
       "\n",
       "        async function convertToInteractive(key) {\n",
       "          const element = document.querySelector('#df-3a3249e5-482f-4a80-9551-dd2d7557baf8');\n",
       "          const dataTable =\n",
       "            await google.colab.kernel.invokeFunction('convertToInteractive',\n",
       "                                                     [key], {});\n",
       "          if (!dataTable) return;\n",
       "\n",
       "          const docLinkHtml = 'Like what you see? Visit the ' +\n",
       "            '<a target=\"_blank\" href=https://colab.research.google.com/notebooks/data_table.ipynb>data table notebook</a>'\n",
       "            + ' to learn more about interactive tables.';\n",
       "          element.innerHTML = '';\n",
       "          dataTable['output_type'] = 'display_data';\n",
       "          await google.colab.output.renderOutput(dataTable, element);\n",
       "          const docLink = document.createElement('div');\n",
       "          docLink.innerHTML = docLinkHtml;\n",
       "          element.appendChild(docLink);\n",
       "        }\n",
       "      </script>\n",
       "    </div>\n",
       "  </div>\n",
       "  "
      ]
     },
     "metadata": {},
     "execution_count": 46
    }
   ]
  },
  {
   "cell_type": "code",
   "source": [
    "for col in PHI_TM_merged.columns:\n",
    "  if \"ID\" not in col:\n",
    "    PHI_TM_merged.rename(columns={col : col + \"_ID\"}, inplace=True)"
   ],
   "metadata": {
    "id": "rrgY7JSLGArC"
   },
   "execution_count": 49,
   "outputs": []
  },
  {
   "cell_type": "code",
   "source": [
    "PHI_TM_merged.head(5)"
   ],
   "metadata": {
    "id": "14aVxTz5KtWF",
    "outputId": "9265c61e-6376-4e1b-970e-cb28f58663f1",
    "colab": {
     "base_uri": "https://localhost:8080/",
     "height": 204
    }
   },
   "execution_count": 50,
   "outputs": [
    {
     "output_type": "execute_result",
     "data": {
      "text/plain": [
       "      TM_ID EDH_ID EDCS_ID EDR_ID PHI_ID LUPA_ID ISic_ID  \\\n",
       "0  [786251]   None    None   None    [1]    None    None   \n",
       "1  [786252]   None    None   None    [2]    None    None   \n",
       "2  [786253]   None    None   None    [3]    None    None   \n",
       "3  [786254]   None    None   None    [4]    None    None   \n",
       "4  [786255]   None    None   None    [5]    None    None   \n",
       "\n",
       "                      IG_ID atticinscriptions_ID Attalus_ID  \n",
       "0                 [IG I³ 1]               [1672]       None  \n",
       "1                 [IG I³ 2]               [1707]       None  \n",
       "2                 [IG I³ 3]              [ii-1b]       None  \n",
       "3  [IG I³ 4(A), IG I³ 4(B)]               [1692]       None  \n",
       "4                 [IG I³ 5]               [1284]       None  "
      ],
      "text/html": [
       "\n",
       "  <div id=\"df-4007e6c4-1cb4-4dc4-b79f-624fba02a59d\">\n",
       "    <div class=\"colab-df-container\">\n",
       "      <div>\n",
       "<style scoped>\n",
       "    .dataframe tbody tr th:only-of-type {\n",
       "        vertical-align: middle;\n",
       "    }\n",
       "\n",
       "    .dataframe tbody tr th {\n",
       "        vertical-align: top;\n",
       "    }\n",
       "\n",
       "    .dataframe thead th {\n",
       "        text-align: right;\n",
       "    }\n",
       "</style>\n",
       "<table border=\"1\" class=\"dataframe\">\n",
       "  <thead>\n",
       "    <tr style=\"text-align: right;\">\n",
       "      <th></th>\n",
       "      <th>TM_ID</th>\n",
       "      <th>EDH_ID</th>\n",
       "      <th>EDCS_ID</th>\n",
       "      <th>EDR_ID</th>\n",
       "      <th>PHI_ID</th>\n",
       "      <th>LUPA_ID</th>\n",
       "      <th>ISic_ID</th>\n",
       "      <th>IG_ID</th>\n",
       "      <th>atticinscriptions_ID</th>\n",
       "      <th>Attalus_ID</th>\n",
       "    </tr>\n",
       "  </thead>\n",
       "  <tbody>\n",
       "    <tr>\n",
       "      <th>0</th>\n",
       "      <td>[786251]</td>\n",
       "      <td>None</td>\n",
       "      <td>None</td>\n",
       "      <td>None</td>\n",
       "      <td>[1]</td>\n",
       "      <td>None</td>\n",
       "      <td>None</td>\n",
       "      <td>[IG I³ 1]</td>\n",
       "      <td>[1672]</td>\n",
       "      <td>None</td>\n",
       "    </tr>\n",
       "    <tr>\n",
       "      <th>1</th>\n",
       "      <td>[786252]</td>\n",
       "      <td>None</td>\n",
       "      <td>None</td>\n",
       "      <td>None</td>\n",
       "      <td>[2]</td>\n",
       "      <td>None</td>\n",
       "      <td>None</td>\n",
       "      <td>[IG I³ 2]</td>\n",
       "      <td>[1707]</td>\n",
       "      <td>None</td>\n",
       "    </tr>\n",
       "    <tr>\n",
       "      <th>2</th>\n",
       "      <td>[786253]</td>\n",
       "      <td>None</td>\n",
       "      <td>None</td>\n",
       "      <td>None</td>\n",
       "      <td>[3]</td>\n",
       "      <td>None</td>\n",
       "      <td>None</td>\n",
       "      <td>[IG I³ 3]</td>\n",
       "      <td>[ii-1b]</td>\n",
       "      <td>None</td>\n",
       "    </tr>\n",
       "    <tr>\n",
       "      <th>3</th>\n",
       "      <td>[786254]</td>\n",
       "      <td>None</td>\n",
       "      <td>None</td>\n",
       "      <td>None</td>\n",
       "      <td>[4]</td>\n",
       "      <td>None</td>\n",
       "      <td>None</td>\n",
       "      <td>[IG I³ 4(A), IG I³ 4(B)]</td>\n",
       "      <td>[1692]</td>\n",
       "      <td>None</td>\n",
       "    </tr>\n",
       "    <tr>\n",
       "      <th>4</th>\n",
       "      <td>[786255]</td>\n",
       "      <td>None</td>\n",
       "      <td>None</td>\n",
       "      <td>None</td>\n",
       "      <td>[5]</td>\n",
       "      <td>None</td>\n",
       "      <td>None</td>\n",
       "      <td>[IG I³ 5]</td>\n",
       "      <td>[1284]</td>\n",
       "      <td>None</td>\n",
       "    </tr>\n",
       "  </tbody>\n",
       "</table>\n",
       "</div>\n",
       "      <button class=\"colab-df-convert\" onclick=\"convertToInteractive('df-4007e6c4-1cb4-4dc4-b79f-624fba02a59d')\"\n",
       "              title=\"Convert this dataframe to an interactive table.\"\n",
       "              style=\"display:none;\">\n",
       "        \n",
       "  <svg xmlns=\"http://www.w3.org/2000/svg\" height=\"24px\"viewBox=\"0 0 24 24\"\n",
       "       width=\"24px\">\n",
       "    <path d=\"M0 0h24v24H0V0z\" fill=\"none\"/>\n",
       "    <path d=\"M18.56 5.44l.94 2.06.94-2.06 2.06-.94-2.06-.94-.94-2.06-.94 2.06-2.06.94zm-11 1L8.5 8.5l.94-2.06 2.06-.94-2.06-.94L8.5 2.5l-.94 2.06-2.06.94zm10 10l.94 2.06.94-2.06 2.06-.94-2.06-.94-.94-2.06-.94 2.06-2.06.94z\"/><path d=\"M17.41 7.96l-1.37-1.37c-.4-.4-.92-.59-1.43-.59-.52 0-1.04.2-1.43.59L10.3 9.45l-7.72 7.72c-.78.78-.78 2.05 0 2.83L4 21.41c.39.39.9.59 1.41.59.51 0 1.02-.2 1.41-.59l7.78-7.78 2.81-2.81c.8-.78.8-2.07 0-2.86zM5.41 20L4 18.59l7.72-7.72 1.47 1.35L5.41 20z\"/>\n",
       "  </svg>\n",
       "      </button>\n",
       "      \n",
       "  <style>\n",
       "    .colab-df-container {\n",
       "      display:flex;\n",
       "      flex-wrap:wrap;\n",
       "      gap: 12px;\n",
       "    }\n",
       "\n",
       "    .colab-df-convert {\n",
       "      background-color: #E8F0FE;\n",
       "      border: none;\n",
       "      border-radius: 50%;\n",
       "      cursor: pointer;\n",
       "      display: none;\n",
       "      fill: #1967D2;\n",
       "      height: 32px;\n",
       "      padding: 0 0 0 0;\n",
       "      width: 32px;\n",
       "    }\n",
       "\n",
       "    .colab-df-convert:hover {\n",
       "      background-color: #E2EBFA;\n",
       "      box-shadow: 0px 1px 2px rgba(60, 64, 67, 0.3), 0px 1px 3px 1px rgba(60, 64, 67, 0.15);\n",
       "      fill: #174EA6;\n",
       "    }\n",
       "\n",
       "    [theme=dark] .colab-df-convert {\n",
       "      background-color: #3B4455;\n",
       "      fill: #D2E3FC;\n",
       "    }\n",
       "\n",
       "    [theme=dark] .colab-df-convert:hover {\n",
       "      background-color: #434B5C;\n",
       "      box-shadow: 0px 1px 3px 1px rgba(0, 0, 0, 0.15);\n",
       "      filter: drop-shadow(0px 1px 2px rgba(0, 0, 0, 0.3));\n",
       "      fill: #FFFFFF;\n",
       "    }\n",
       "  </style>\n",
       "\n",
       "      <script>\n",
       "        const buttonEl =\n",
       "          document.querySelector('#df-4007e6c4-1cb4-4dc4-b79f-624fba02a59d button.colab-df-convert');\n",
       "        buttonEl.style.display =\n",
       "          google.colab.kernel.accessAllowed ? 'block' : 'none';\n",
       "\n",
       "        async function convertToInteractive(key) {\n",
       "          const element = document.querySelector('#df-4007e6c4-1cb4-4dc4-b79f-624fba02a59d');\n",
       "          const dataTable =\n",
       "            await google.colab.kernel.invokeFunction('convertToInteractive',\n",
       "                                                     [key], {});\n",
       "          if (!dataTable) return;\n",
       "\n",
       "          const docLinkHtml = 'Like what you see? Visit the ' +\n",
       "            '<a target=\"_blank\" href=https://colab.research.google.com/notebooks/data_table.ipynb>data table notebook</a>'\n",
       "            + ' to learn more about interactive tables.';\n",
       "          element.innerHTML = '';\n",
       "          dataTable['output_type'] = 'display_data';\n",
       "          await google.colab.output.renderOutput(dataTable, element);\n",
       "          const docLink = document.createElement('div');\n",
       "          docLink.innerHTML = docLinkHtml;\n",
       "          element.appendChild(docLink);\n",
       "        }\n",
       "      </script>\n",
       "    </div>\n",
       "  </div>\n",
       "  "
      ]
     },
     "metadata": {},
     "execution_count": 50
    }
   ]
  },
  {
   "cell_type": "code",
   "source": [
    "def get_first_id(val):\n",
    "  try: \n",
    "    return int(val[0])\n",
    "  except: \n",
    "    return val\n",
    "\n",
    "PHI_TM_merged[\"PHI_ID\"] = PHI_TM_merged[\"PHI_ID\"].apply(get_first_id)"
   ],
   "metadata": {
    "id": "v16eM6OIKwg3"
   },
   "execution_count": 54,
   "outputs": []
  },
  {
   "cell_type": "code",
   "source": [
    "def to_int(val):\n",
    "  try: \n",
    "    return int64(val)\n",
    "  except: \n",
    "    return val\n",
    "\n",
    "PHI_TM_merged[\"PHI_ID\"] = PHI_TM_merged[\"PHI_ID\"].apply(to_int)"
   ],
   "metadata": {
    "id": "KBIXLMgqNF9p"
   },
   "execution_count": 65,
   "outputs": []
  },
  {
   "cell_type": "code",
   "source": [
    "PHI_TM_merged.head(5)"
   ],
   "metadata": {
    "id": "nuz6T6TVNSVg",
    "outputId": "e49e3933-9684-4081-8e2d-ddcf0bfef8c5",
    "colab": {
     "base_uri": "https://localhost:8080/",
     "height": 204
    }
   },
   "execution_count": 66,
   "outputs": [
    {
     "output_type": "execute_result",
     "data": {
      "text/plain": [
       "      TM_ID EDH_ID EDCS_ID EDR_ID  PHI_ID LUPA_ID ISic_ID  \\\n",
       "0  [786251]   None    None   None     1.0    None    None   \n",
       "1  [786252]   None    None   None     2.0    None    None   \n",
       "2  [786253]   None    None   None     3.0    None    None   \n",
       "3  [786254]   None    None   None     4.0    None    None   \n",
       "4  [786255]   None    None   None     5.0    None    None   \n",
       "\n",
       "                      IG_ID atticinscriptions_ID Attalus_ID  \n",
       "0                 [IG I³ 1]               [1672]       None  \n",
       "1                 [IG I³ 2]               [1707]       None  \n",
       "2                 [IG I³ 3]              [ii-1b]       None  \n",
       "3  [IG I³ 4(A), IG I³ 4(B)]               [1692]       None  \n",
       "4                 [IG I³ 5]               [1284]       None  "
      ],
      "text/html": [
       "\n",
       "  <div id=\"df-56d35600-127d-4d5e-9c00-e9b81b104570\">\n",
       "    <div class=\"colab-df-container\">\n",
       "      <div>\n",
       "<style scoped>\n",
       "    .dataframe tbody tr th:only-of-type {\n",
       "        vertical-align: middle;\n",
       "    }\n",
       "\n",
       "    .dataframe tbody tr th {\n",
       "        vertical-align: top;\n",
       "    }\n",
       "\n",
       "    .dataframe thead th {\n",
       "        text-align: right;\n",
       "    }\n",
       "</style>\n",
       "<table border=\"1\" class=\"dataframe\">\n",
       "  <thead>\n",
       "    <tr style=\"text-align: right;\">\n",
       "      <th></th>\n",
       "      <th>TM_ID</th>\n",
       "      <th>EDH_ID</th>\n",
       "      <th>EDCS_ID</th>\n",
       "      <th>EDR_ID</th>\n",
       "      <th>PHI_ID</th>\n",
       "      <th>LUPA_ID</th>\n",
       "      <th>ISic_ID</th>\n",
       "      <th>IG_ID</th>\n",
       "      <th>atticinscriptions_ID</th>\n",
       "      <th>Attalus_ID</th>\n",
       "    </tr>\n",
       "  </thead>\n",
       "  <tbody>\n",
       "    <tr>\n",
       "      <th>0</th>\n",
       "      <td>[786251]</td>\n",
       "      <td>None</td>\n",
       "      <td>None</td>\n",
       "      <td>None</td>\n",
       "      <td>1.0</td>\n",
       "      <td>None</td>\n",
       "      <td>None</td>\n",
       "      <td>[IG I³ 1]</td>\n",
       "      <td>[1672]</td>\n",
       "      <td>None</td>\n",
       "    </tr>\n",
       "    <tr>\n",
       "      <th>1</th>\n",
       "      <td>[786252]</td>\n",
       "      <td>None</td>\n",
       "      <td>None</td>\n",
       "      <td>None</td>\n",
       "      <td>2.0</td>\n",
       "      <td>None</td>\n",
       "      <td>None</td>\n",
       "      <td>[IG I³ 2]</td>\n",
       "      <td>[1707]</td>\n",
       "      <td>None</td>\n",
       "    </tr>\n",
       "    <tr>\n",
       "      <th>2</th>\n",
       "      <td>[786253]</td>\n",
       "      <td>None</td>\n",
       "      <td>None</td>\n",
       "      <td>None</td>\n",
       "      <td>3.0</td>\n",
       "      <td>None</td>\n",
       "      <td>None</td>\n",
       "      <td>[IG I³ 3]</td>\n",
       "      <td>[ii-1b]</td>\n",
       "      <td>None</td>\n",
       "    </tr>\n",
       "    <tr>\n",
       "      <th>3</th>\n",
       "      <td>[786254]</td>\n",
       "      <td>None</td>\n",
       "      <td>None</td>\n",
       "      <td>None</td>\n",
       "      <td>4.0</td>\n",
       "      <td>None</td>\n",
       "      <td>None</td>\n",
       "      <td>[IG I³ 4(A), IG I³ 4(B)]</td>\n",
       "      <td>[1692]</td>\n",
       "      <td>None</td>\n",
       "    </tr>\n",
       "    <tr>\n",
       "      <th>4</th>\n",
       "      <td>[786255]</td>\n",
       "      <td>None</td>\n",
       "      <td>None</td>\n",
       "      <td>None</td>\n",
       "      <td>5.0</td>\n",
       "      <td>None</td>\n",
       "      <td>None</td>\n",
       "      <td>[IG I³ 5]</td>\n",
       "      <td>[1284]</td>\n",
       "      <td>None</td>\n",
       "    </tr>\n",
       "  </tbody>\n",
       "</table>\n",
       "</div>\n",
       "      <button class=\"colab-df-convert\" onclick=\"convertToInteractive('df-56d35600-127d-4d5e-9c00-e9b81b104570')\"\n",
       "              title=\"Convert this dataframe to an interactive table.\"\n",
       "              style=\"display:none;\">\n",
       "        \n",
       "  <svg xmlns=\"http://www.w3.org/2000/svg\" height=\"24px\"viewBox=\"0 0 24 24\"\n",
       "       width=\"24px\">\n",
       "    <path d=\"M0 0h24v24H0V0z\" fill=\"none\"/>\n",
       "    <path d=\"M18.56 5.44l.94 2.06.94-2.06 2.06-.94-2.06-.94-.94-2.06-.94 2.06-2.06.94zm-11 1L8.5 8.5l.94-2.06 2.06-.94-2.06-.94L8.5 2.5l-.94 2.06-2.06.94zm10 10l.94 2.06.94-2.06 2.06-.94-2.06-.94-.94-2.06-.94 2.06-2.06.94z\"/><path d=\"M17.41 7.96l-1.37-1.37c-.4-.4-.92-.59-1.43-.59-.52 0-1.04.2-1.43.59L10.3 9.45l-7.72 7.72c-.78.78-.78 2.05 0 2.83L4 21.41c.39.39.9.59 1.41.59.51 0 1.02-.2 1.41-.59l7.78-7.78 2.81-2.81c.8-.78.8-2.07 0-2.86zM5.41 20L4 18.59l7.72-7.72 1.47 1.35L5.41 20z\"/>\n",
       "  </svg>\n",
       "      </button>\n",
       "      \n",
       "  <style>\n",
       "    .colab-df-container {\n",
       "      display:flex;\n",
       "      flex-wrap:wrap;\n",
       "      gap: 12px;\n",
       "    }\n",
       "\n",
       "    .colab-df-convert {\n",
       "      background-color: #E8F0FE;\n",
       "      border: none;\n",
       "      border-radius: 50%;\n",
       "      cursor: pointer;\n",
       "      display: none;\n",
       "      fill: #1967D2;\n",
       "      height: 32px;\n",
       "      padding: 0 0 0 0;\n",
       "      width: 32px;\n",
       "    }\n",
       "\n",
       "    .colab-df-convert:hover {\n",
       "      background-color: #E2EBFA;\n",
       "      box-shadow: 0px 1px 2px rgba(60, 64, 67, 0.3), 0px 1px 3px 1px rgba(60, 64, 67, 0.15);\n",
       "      fill: #174EA6;\n",
       "    }\n",
       "\n",
       "    [theme=dark] .colab-df-convert {\n",
       "      background-color: #3B4455;\n",
       "      fill: #D2E3FC;\n",
       "    }\n",
       "\n",
       "    [theme=dark] .colab-df-convert:hover {\n",
       "      background-color: #434B5C;\n",
       "      box-shadow: 0px 1px 3px 1px rgba(0, 0, 0, 0.15);\n",
       "      filter: drop-shadow(0px 1px 2px rgba(0, 0, 0, 0.3));\n",
       "      fill: #FFFFFF;\n",
       "    }\n",
       "  </style>\n",
       "\n",
       "      <script>\n",
       "        const buttonEl =\n",
       "          document.querySelector('#df-56d35600-127d-4d5e-9c00-e9b81b104570 button.colab-df-convert');\n",
       "        buttonEl.style.display =\n",
       "          google.colab.kernel.accessAllowed ? 'block' : 'none';\n",
       "\n",
       "        async function convertToInteractive(key) {\n",
       "          const element = document.querySelector('#df-56d35600-127d-4d5e-9c00-e9b81b104570');\n",
       "          const dataTable =\n",
       "            await google.colab.kernel.invokeFunction('convertToInteractive',\n",
       "                                                     [key], {});\n",
       "          if (!dataTable) return;\n",
       "\n",
       "          const docLinkHtml = 'Like what you see? Visit the ' +\n",
       "            '<a target=\"_blank\" href=https://colab.research.google.com/notebooks/data_table.ipynb>data table notebook</a>'\n",
       "            + ' to learn more about interactive tables.';\n",
       "          element.innerHTML = '';\n",
       "          dataTable['output_type'] = 'display_data';\n",
       "          await google.colab.output.renderOutput(dataTable, element);\n",
       "          const docLink = document.createElement('div');\n",
       "          docLink.innerHTML = docLinkHtml;\n",
       "          element.appendChild(docLink);\n",
       "        }\n",
       "      </script>\n",
       "    </div>\n",
       "  </div>\n",
       "  "
      ]
     },
     "metadata": {},
     "execution_count": 66
    }
   ]
  },
  {
   "cell_type": "code",
   "source": [
    "PHI[\"PHI_ID\"]"
   ],
   "metadata": {
    "id": "cK3UcEmYLyEy",
    "outputId": "1181814d-383c-48e2-a96d-5e3206a20b61",
    "colab": {
     "base_uri": "https://localhost:8080/"
    }
   },
   "execution_count": 64,
   "outputs": [
    {
     "output_type": "execute_result",
     "data": {
      "text/plain": [
       "0              1\n",
       "1              2\n",
       "2              3\n",
       "3              4\n",
       "4              5\n",
       "           ...  \n",
       "218157    353786\n",
       "218158    353787\n",
       "218159    353788\n",
       "218160    353789\n",
       "218161    353790\n",
       "Name: PHI_ID, Length: 218162, dtype: int64"
      ]
     },
     "metadata": {},
     "execution_count": 64
    }
   ]
  },
  {
   "cell_type": "code",
   "source": [
    "PHI_TM_merged[\"PHI_ID\"].astype(int)"
   ],
   "metadata": {
    "id": "T8hK9Uk7M3bn",
    "outputId": "bb1aa21a-5466-4fd7-b910-bfa6c244ac46",
    "colab": {
     "base_uri": "https://localhost:8080/",
     "height": 222
    }
   },
   "execution_count": 60,
   "outputs": [
    {
     "output_type": "error",
     "ename": "TypeError",
     "evalue": "ignored",
     "traceback": [
      "\u001B[0;31m---------------------------------------------------------------------------\u001B[0m",
      "\u001B[0;31mTypeError\u001B[0m                                 Traceback (most recent call last)",
      "\u001B[0;32m<ipython-input-60-536a6b6214f1>\u001B[0m in \u001B[0;36m<module>\u001B[0;34m()\u001B[0m\n\u001B[0;32m----> 1\u001B[0;31m \u001B[0mPHI_TM_merged\u001B[0m\u001B[0;34m[\u001B[0m\u001B[0;34m\"PHI_ID\"\u001B[0m\u001B[0;34m]\u001B[0m\u001B[0;34m.\u001B[0m\u001B[0mastype\u001B[0m\u001B[0;34m(\u001B[0m\u001B[0mint\u001B[0m\u001B[0;34m)\u001B[0m\u001B[0;34m\u001B[0m\u001B[0;34m\u001B[0m\u001B[0m\n\u001B[0m",
      "\u001B[0;32m/usr/local/lib/python3.7/dist-packages/pandas/core/generic.py\u001B[0m in \u001B[0;36mastype\u001B[0;34m(self, dtype, copy, errors)\u001B[0m\n\u001B[1;32m   5813\u001B[0m         \u001B[0;32melse\u001B[0m\u001B[0;34m:\u001B[0m\u001B[0;34m\u001B[0m\u001B[0;34m\u001B[0m\u001B[0m\n\u001B[1;32m   5814\u001B[0m             \u001B[0;31m# else, only a single dtype is given\u001B[0m\u001B[0;34m\u001B[0m\u001B[0;34m\u001B[0m\u001B[0;34m\u001B[0m\u001B[0m\n\u001B[0;32m-> 5815\u001B[0;31m             \u001B[0mnew_data\u001B[0m \u001B[0;34m=\u001B[0m \u001B[0mself\u001B[0m\u001B[0;34m.\u001B[0m\u001B[0m_mgr\u001B[0m\u001B[0;34m.\u001B[0m\u001B[0mastype\u001B[0m\u001B[0;34m(\u001B[0m\u001B[0mdtype\u001B[0m\u001B[0;34m=\u001B[0m\u001B[0mdtype\u001B[0m\u001B[0;34m,\u001B[0m \u001B[0mcopy\u001B[0m\u001B[0;34m=\u001B[0m\u001B[0mcopy\u001B[0m\u001B[0;34m,\u001B[0m \u001B[0merrors\u001B[0m\u001B[0;34m=\u001B[0m\u001B[0merrors\u001B[0m\u001B[0;34m)\u001B[0m\u001B[0;34m\u001B[0m\u001B[0;34m\u001B[0m\u001B[0m\n\u001B[0m\u001B[1;32m   5816\u001B[0m             \u001B[0;32mreturn\u001B[0m \u001B[0mself\u001B[0m\u001B[0;34m.\u001B[0m\u001B[0m_constructor\u001B[0m\u001B[0;34m(\u001B[0m\u001B[0mnew_data\u001B[0m\u001B[0;34m)\u001B[0m\u001B[0;34m.\u001B[0m\u001B[0m__finalize__\u001B[0m\u001B[0;34m(\u001B[0m\u001B[0mself\u001B[0m\u001B[0;34m,\u001B[0m \u001B[0mmethod\u001B[0m\u001B[0;34m=\u001B[0m\u001B[0;34m\"astype\"\u001B[0m\u001B[0;34m)\u001B[0m\u001B[0;34m\u001B[0m\u001B[0;34m\u001B[0m\u001B[0m\n\u001B[1;32m   5817\u001B[0m \u001B[0;34m\u001B[0m\u001B[0m\n",
      "\u001B[0;32m/usr/local/lib/python3.7/dist-packages/pandas/core/internals/managers.py\u001B[0m in \u001B[0;36mastype\u001B[0;34m(self, dtype, copy, errors)\u001B[0m\n\u001B[1;32m    416\u001B[0m \u001B[0;34m\u001B[0m\u001B[0m\n\u001B[1;32m    417\u001B[0m     \u001B[0;32mdef\u001B[0m \u001B[0mastype\u001B[0m\u001B[0;34m(\u001B[0m\u001B[0mself\u001B[0m\u001B[0;34m:\u001B[0m \u001B[0mT\u001B[0m\u001B[0;34m,\u001B[0m \u001B[0mdtype\u001B[0m\u001B[0;34m,\u001B[0m \u001B[0mcopy\u001B[0m\u001B[0;34m:\u001B[0m \u001B[0mbool\u001B[0m \u001B[0;34m=\u001B[0m \u001B[0;32mFalse\u001B[0m\u001B[0;34m,\u001B[0m \u001B[0merrors\u001B[0m\u001B[0;34m:\u001B[0m \u001B[0mstr\u001B[0m \u001B[0;34m=\u001B[0m \u001B[0;34m\"raise\"\u001B[0m\u001B[0;34m)\u001B[0m \u001B[0;34m->\u001B[0m \u001B[0mT\u001B[0m\u001B[0;34m:\u001B[0m\u001B[0;34m\u001B[0m\u001B[0;34m\u001B[0m\u001B[0m\n\u001B[0;32m--> 418\u001B[0;31m         \u001B[0;32mreturn\u001B[0m \u001B[0mself\u001B[0m\u001B[0;34m.\u001B[0m\u001B[0mapply\u001B[0m\u001B[0;34m(\u001B[0m\u001B[0;34m\"astype\"\u001B[0m\u001B[0;34m,\u001B[0m \u001B[0mdtype\u001B[0m\u001B[0;34m=\u001B[0m\u001B[0mdtype\u001B[0m\u001B[0;34m,\u001B[0m \u001B[0mcopy\u001B[0m\u001B[0;34m=\u001B[0m\u001B[0mcopy\u001B[0m\u001B[0;34m,\u001B[0m \u001B[0merrors\u001B[0m\u001B[0;34m=\u001B[0m\u001B[0merrors\u001B[0m\u001B[0;34m)\u001B[0m\u001B[0;34m\u001B[0m\u001B[0;34m\u001B[0m\u001B[0m\n\u001B[0m\u001B[1;32m    419\u001B[0m \u001B[0;34m\u001B[0m\u001B[0m\n\u001B[1;32m    420\u001B[0m     def convert(\n",
      "\u001B[0;32m/usr/local/lib/python3.7/dist-packages/pandas/core/internals/managers.py\u001B[0m in \u001B[0;36mapply\u001B[0;34m(self, f, align_keys, ignore_failures, **kwargs)\u001B[0m\n\u001B[1;32m    325\u001B[0m                     \u001B[0mapplied\u001B[0m \u001B[0;34m=\u001B[0m \u001B[0mb\u001B[0m\u001B[0;34m.\u001B[0m\u001B[0mapply\u001B[0m\u001B[0;34m(\u001B[0m\u001B[0mf\u001B[0m\u001B[0;34m,\u001B[0m \u001B[0;34m**\u001B[0m\u001B[0mkwargs\u001B[0m\u001B[0;34m)\u001B[0m\u001B[0;34m\u001B[0m\u001B[0;34m\u001B[0m\u001B[0m\n\u001B[1;32m    326\u001B[0m                 \u001B[0;32melse\u001B[0m\u001B[0;34m:\u001B[0m\u001B[0;34m\u001B[0m\u001B[0;34m\u001B[0m\u001B[0m\n\u001B[0;32m--> 327\u001B[0;31m                     \u001B[0mapplied\u001B[0m \u001B[0;34m=\u001B[0m \u001B[0mgetattr\u001B[0m\u001B[0;34m(\u001B[0m\u001B[0mb\u001B[0m\u001B[0;34m,\u001B[0m \u001B[0mf\u001B[0m\u001B[0;34m)\u001B[0m\u001B[0;34m(\u001B[0m\u001B[0;34m**\u001B[0m\u001B[0mkwargs\u001B[0m\u001B[0;34m)\u001B[0m\u001B[0;34m\u001B[0m\u001B[0;34m\u001B[0m\u001B[0m\n\u001B[0m\u001B[1;32m    328\u001B[0m             \u001B[0;32mexcept\u001B[0m \u001B[0;34m(\u001B[0m\u001B[0mTypeError\u001B[0m\u001B[0;34m,\u001B[0m \u001B[0mNotImplementedError\u001B[0m\u001B[0;34m)\u001B[0m\u001B[0;34m:\u001B[0m\u001B[0;34m\u001B[0m\u001B[0;34m\u001B[0m\u001B[0m\n\u001B[1;32m    329\u001B[0m                 \u001B[0;32mif\u001B[0m \u001B[0;32mnot\u001B[0m \u001B[0mignore_failures\u001B[0m\u001B[0;34m:\u001B[0m\u001B[0;34m\u001B[0m\u001B[0;34m\u001B[0m\u001B[0m\n",
      "\u001B[0;32m/usr/local/lib/python3.7/dist-packages/pandas/core/internals/blocks.py\u001B[0m in \u001B[0;36mastype\u001B[0;34m(self, dtype, copy, errors)\u001B[0m\n\u001B[1;32m    589\u001B[0m         \u001B[0mvalues\u001B[0m \u001B[0;34m=\u001B[0m \u001B[0mself\u001B[0m\u001B[0;34m.\u001B[0m\u001B[0mvalues\u001B[0m\u001B[0;34m\u001B[0m\u001B[0;34m\u001B[0m\u001B[0m\n\u001B[1;32m    590\u001B[0m \u001B[0;34m\u001B[0m\u001B[0m\n\u001B[0;32m--> 591\u001B[0;31m         \u001B[0mnew_values\u001B[0m \u001B[0;34m=\u001B[0m \u001B[0mastype_array_safe\u001B[0m\u001B[0;34m(\u001B[0m\u001B[0mvalues\u001B[0m\u001B[0;34m,\u001B[0m \u001B[0mdtype\u001B[0m\u001B[0;34m,\u001B[0m \u001B[0mcopy\u001B[0m\u001B[0;34m=\u001B[0m\u001B[0mcopy\u001B[0m\u001B[0;34m,\u001B[0m \u001B[0merrors\u001B[0m\u001B[0;34m=\u001B[0m\u001B[0merrors\u001B[0m\u001B[0;34m)\u001B[0m\u001B[0;34m\u001B[0m\u001B[0;34m\u001B[0m\u001B[0m\n\u001B[0m\u001B[1;32m    592\u001B[0m \u001B[0;34m\u001B[0m\u001B[0m\n\u001B[1;32m    593\u001B[0m         \u001B[0mnew_values\u001B[0m \u001B[0;34m=\u001B[0m \u001B[0mmaybe_coerce_values\u001B[0m\u001B[0;34m(\u001B[0m\u001B[0mnew_values\u001B[0m\u001B[0;34m)\u001B[0m\u001B[0;34m\u001B[0m\u001B[0;34m\u001B[0m\u001B[0m\n",
      "\u001B[0;32m/usr/local/lib/python3.7/dist-packages/pandas/core/dtypes/cast.py\u001B[0m in \u001B[0;36mastype_array_safe\u001B[0;34m(values, dtype, copy, errors)\u001B[0m\n\u001B[1;32m   1307\u001B[0m \u001B[0;34m\u001B[0m\u001B[0m\n\u001B[1;32m   1308\u001B[0m     \u001B[0;32mtry\u001B[0m\u001B[0;34m:\u001B[0m\u001B[0;34m\u001B[0m\u001B[0;34m\u001B[0m\u001B[0m\n\u001B[0;32m-> 1309\u001B[0;31m         \u001B[0mnew_values\u001B[0m \u001B[0;34m=\u001B[0m \u001B[0mastype_array\u001B[0m\u001B[0;34m(\u001B[0m\u001B[0mvalues\u001B[0m\u001B[0;34m,\u001B[0m \u001B[0mdtype\u001B[0m\u001B[0;34m,\u001B[0m \u001B[0mcopy\u001B[0m\u001B[0;34m=\u001B[0m\u001B[0mcopy\u001B[0m\u001B[0;34m)\u001B[0m\u001B[0;34m\u001B[0m\u001B[0;34m\u001B[0m\u001B[0m\n\u001B[0m\u001B[1;32m   1310\u001B[0m     \u001B[0;32mexcept\u001B[0m \u001B[0;34m(\u001B[0m\u001B[0mValueError\u001B[0m\u001B[0;34m,\u001B[0m \u001B[0mTypeError\u001B[0m\u001B[0;34m)\u001B[0m\u001B[0;34m:\u001B[0m\u001B[0;34m\u001B[0m\u001B[0;34m\u001B[0m\u001B[0m\n\u001B[1;32m   1311\u001B[0m         \u001B[0;31m# e.g. astype_nansafe can fail on object-dtype of strings\u001B[0m\u001B[0;34m\u001B[0m\u001B[0;34m\u001B[0m\u001B[0;34m\u001B[0m\u001B[0m\n",
      "\u001B[0;32m/usr/local/lib/python3.7/dist-packages/pandas/core/dtypes/cast.py\u001B[0m in \u001B[0;36mastype_array\u001B[0;34m(values, dtype, copy)\u001B[0m\n\u001B[1;32m   1255\u001B[0m \u001B[0;34m\u001B[0m\u001B[0m\n\u001B[1;32m   1256\u001B[0m     \u001B[0;32melse\u001B[0m\u001B[0;34m:\u001B[0m\u001B[0;34m\u001B[0m\u001B[0;34m\u001B[0m\u001B[0m\n\u001B[0;32m-> 1257\u001B[0;31m         \u001B[0mvalues\u001B[0m \u001B[0;34m=\u001B[0m \u001B[0mastype_nansafe\u001B[0m\u001B[0;34m(\u001B[0m\u001B[0mvalues\u001B[0m\u001B[0;34m,\u001B[0m \u001B[0mdtype\u001B[0m\u001B[0;34m,\u001B[0m \u001B[0mcopy\u001B[0m\u001B[0;34m=\u001B[0m\u001B[0mcopy\u001B[0m\u001B[0;34m)\u001B[0m\u001B[0;34m\u001B[0m\u001B[0;34m\u001B[0m\u001B[0m\n\u001B[0m\u001B[1;32m   1258\u001B[0m \u001B[0;34m\u001B[0m\u001B[0m\n\u001B[1;32m   1259\u001B[0m     \u001B[0;31m# in pandas we don't store numpy str dtypes, so convert to object\u001B[0m\u001B[0;34m\u001B[0m\u001B[0;34m\u001B[0m\u001B[0;34m\u001B[0m\u001B[0m\n",
      "\u001B[0;32m/usr/local/lib/python3.7/dist-packages/pandas/core/dtypes/cast.py\u001B[0m in \u001B[0;36mastype_nansafe\u001B[0;34m(arr, dtype, copy, skipna)\u001B[0m\n\u001B[1;32m   1172\u001B[0m         \u001B[0;31m# work around NumPy brokenness, #1987\u001B[0m\u001B[0;34m\u001B[0m\u001B[0;34m\u001B[0m\u001B[0;34m\u001B[0m\u001B[0m\n\u001B[1;32m   1173\u001B[0m         \u001B[0;32mif\u001B[0m \u001B[0mnp\u001B[0m\u001B[0;34m.\u001B[0m\u001B[0missubdtype\u001B[0m\u001B[0;34m(\u001B[0m\u001B[0mdtype\u001B[0m\u001B[0;34m.\u001B[0m\u001B[0mtype\u001B[0m\u001B[0;34m,\u001B[0m \u001B[0mnp\u001B[0m\u001B[0;34m.\u001B[0m\u001B[0minteger\u001B[0m\u001B[0;34m)\u001B[0m\u001B[0;34m:\u001B[0m\u001B[0;34m\u001B[0m\u001B[0;34m\u001B[0m\u001B[0m\n\u001B[0;32m-> 1174\u001B[0;31m             \u001B[0;32mreturn\u001B[0m \u001B[0mlib\u001B[0m\u001B[0;34m.\u001B[0m\u001B[0mastype_intsafe\u001B[0m\u001B[0;34m(\u001B[0m\u001B[0marr\u001B[0m\u001B[0;34m,\u001B[0m \u001B[0mdtype\u001B[0m\u001B[0;34m)\u001B[0m\u001B[0;34m\u001B[0m\u001B[0;34m\u001B[0m\u001B[0m\n\u001B[0m\u001B[1;32m   1175\u001B[0m \u001B[0;34m\u001B[0m\u001B[0m\n\u001B[1;32m   1176\u001B[0m         \u001B[0;31m# if we have a datetime/timedelta array of objects\u001B[0m\u001B[0;34m\u001B[0m\u001B[0;34m\u001B[0m\u001B[0;34m\u001B[0m\u001B[0m\n",
      "\u001B[0;32m/usr/local/lib/python3.7/dist-packages/pandas/_libs/lib.pyx\u001B[0m in \u001B[0;36mpandas._libs.lib.astype_intsafe\u001B[0;34m()\u001B[0m\n",
      "\u001B[0;31mTypeError\u001B[0m: int() argument must be a string, a bytes-like object or a number, not 'NoneType'"
     ]
    }
   ]
  },
  {
   "cell_type": "code",
   "source": [
    "PHI.merge(PHI_TM_merged, on=\"PHI_ID\")"
   ],
   "metadata": {
    "id": "ErzWF_Y1LBIy",
    "outputId": "89bac176-e377-4dd9-e4d7-dfdd0e6cbbc5",
    "colab": {
     "base_uri": "https://localhost:8080/",
     "height": 1000
    }
   },
   "execution_count": 67,
   "outputs": [
    {
     "output_type": "execute_result",
     "data": {
      "text/plain": [
       "                                                      URL           Book  \\\n",
       "0       /text/1?location=1701&patt=&bookid=4&offset=0&...          IG I³   \n",
       "1       /text/2?location=1701&patt=&bookid=4&offset=0&...          IG I³   \n",
       "2       /text/3?location=1701&patt=&bookid=4&offset=0&...          IG I³   \n",
       "3       /text/4?location=1701&patt=&bookid=4&offset=0&...          IG I³   \n",
       "4       /text/5?location=1701&patt=&bookid=4&offset=0&...          IG I³   \n",
       "...                                                   ...            ...   \n",
       "217858  /text/353786?location=1682&patt=&bookid=884&bo...  IK Strat. III   \n",
       "217859  /text/353787?location=1682&patt=&bookid=884&bo...  IK Strat. III   \n",
       "217860  /text/353788?location=1682&patt=&bookid=884&bo...  IK Strat. III   \n",
       "217861  /text/353789?location=1682&patt=&bookid=884&bo...  IK Strat. III   \n",
       "217862  /text/353790?location=1682&patt=&bookid=884&bo...  IK Strat. III   \n",
       "\n",
       "                       Text                         hdr1  \\\n",
       "0                         1   Regions\\nAttica (IG I-III)   \n",
       "1                         2   Regions\\nAttica (IG I-III)   \n",
       "2                         3   Regions\\nAttica (IG I-III)   \n",
       "3                         4   Regions\\nAttica (IG I-III)   \n",
       "4                         5   Regions\\nAttica (IG I-III)   \n",
       "...                     ...                          ...   \n",
       "217858    Add. et Corr. 645  Regions\\nAsia Minor\\nCaria    \n",
       "217859    Add. et Corr. 712  Regions\\nAsia Minor\\nCaria    \n",
       "217860    Add. et Corr. 809  Regions\\nAsia Minor\\nCaria    \n",
       "217861   Add. et Corr. 1002  Regions\\nAsia Minor\\nCaria    \n",
       "217862  Add. et Corr. 1224a  Regions\\nAsia Minor\\nCaria    \n",
       "\n",
       "                                      hdr2  \\\n",
       "0                                 IG I³\\n1   \n",
       "1                                 IG I³\\n2   \n",
       "2                                 IG I³\\n3   \n",
       "3                                 IG I³\\n4   \n",
       "4                                 IG I³\\n5   \n",
       "...                                    ...   \n",
       "217858    IK Strat. III\\nAdd. et Corr. 645   \n",
       "217859    IK Strat. III\\nAdd. et Corr. 712   \n",
       "217860    IK Strat. III\\nAdd. et Corr. 809   \n",
       "217861   IK Strat. III\\nAdd. et Corr. 1002   \n",
       "217862  IK Strat. III\\nAdd. et Corr. 1224a   \n",
       "\n",
       "                                                tildeinfo  \\\n",
       "0       Att. — Ath.: Akr. — stoich. 35 — c. 510-500 a....   \n",
       "1                          Att. — non-stoich. — c. 500 a.   \n",
       "2                          Att. — stoich. 21 — 490-480 a.   \n",
       "3                            Att. — stoich. 38 — 485/4 a.   \n",
       "4                                        Att. — c. 500 a.   \n",
       "...                                                   ...   \n",
       "217858  Caria — Lagina — Rom. Imp. period? — IK Strato...   \n",
       "217859  Caria — Lagina — Rom. Imp. period? — IK Strato...   \n",
       "217860  Caria — Stratonikeia — Yeşilbağcılar — Helleni...   \n",
       "217861  Caria — Stratonikeia — 276 BC — IK Stratonikei...   \n",
       "217862  Caria — Stratonikeia — Roman period — IK Strat...   \n",
       "\n",
       "                                                     note  lines  \\\n",
       "0                                                             12   \n",
       "1                                                             14   \n",
       "2                                                             13   \n",
       "3                                                             56   \n",
       "4                                                              6   \n",
       "...                                                   ...    ...   \n",
       "217858  Priest inscription of Hierokles Aristophanes P...      2   \n",
       "217859  Inscription for the kleidophoros Apphion Myrta...      3   \n",
       "217860  Sacred law (?) of Zeus Chrysaoreus.  Marble ar...      2   \n",
       "217861  Sale of a vineyard.  Marble block, preserved a...      6   \n",
       "217862  Epitaph of Aelius (?) Florentinus.  Marble ped...      2   \n",
       "\n",
       "                                                 metadata  \\\n",
       "0                              1\\n\\n\\n\\n5\\n\\n\\n\\n\\n10\\n\\n   \n",
       "1                          1\\n\\n\\n\\n5\\n\\n\\n\\n\\n10\\n\\n\\n\\n   \n",
       "2                            1\\n\\n\\n\\n5\\n\\n\\n\\n\\n10\\n\\n\\n   \n",
       "3       face A.1\\n\\n\\n\\n5\\n\\n\\n\\n\\n10\\n\\n\\n\\n\\n15\\n\\n\\...   \n",
       "4                                            1\\n\\n\\n\\n5\\n   \n",
       "...                                                   ...   \n",
       "217858                                                6\\n   \n",
       "217859                                              2\\n\\n   \n",
       "217860                                                5\\n   \n",
       "217861                                      7\\n\\n\\n11\\n\\n   \n",
       "217862                                                2\\n   \n",
       "\n",
       "                                                     data  ...  \\\n",
       "0       ἔδοχσεν το͂ι δέμοι· τ̣[ὸς ἐ Σ]αλαμ̣[ῖνι κλερόχ...  ...   \n",
       "1       [․․8-9․․․]ν̣ βολ — — — — — — — — — —\\n[․6-7․․]...  ...   \n",
       "2       [․]αρ[․․․․]ι ℎερακλειο[․․5․․]\\n[․]αρ̣ο#⁷[․] τι...  ...   \n",
       "3       [․․․․․․․․․․․․․․․․․․38․․․․․․․․․․․․․․․․․․]\\n[․․․...  ...   \n",
       "4       [ἔδοχσε]ν [⋮ τε͂ι βολε͂ι] ⋮ καὶ [τ]ο͂ι δέμοι ⋮...  ...   \n",
       "...                                                   ...  ...   \n",
       "217858       [Ἀρισ]τείδης Ἱεροκλέους τοῦ Θευδώρου [— —]\\n  ...   \n",
       "217859                    [Ἄπφιον] Ἀρτεμιδώ-\\n[ρου] ...\\n  ...   \n",
       "217860                                  καὶ κριὸν [— —]\\n  ...   \n",
       "217861  ․ος Μ[αν]εω, [Πιγ?]ραμος Υσσω-\\nλο[υ] ...\\n......  ...   \n",
       "217862  Aẹḷ(ium?) Florentinum, opt(ionem)\\nvexillati...  ...   \n",
       "\n",
       "                                         link     TM_ID EDH_ID     EDCS_ID  \\\n",
       "0                                        None  [786251]   None        None   \n",
       "1                                        None  [786252]   None        None   \n",
       "2                                        None  [786253]   None        None   \n",
       "3                                        None  [786254]   None        None   \n",
       "4                                        None  [786255]   None        None   \n",
       "...                                       ...       ...    ...         ...   \n",
       "217858  http://n2t.net/ark:/99152/p08m57hqcc5  [858183]   None        None   \n",
       "217859  http://n2t.net/ark:/99152/p08m57hqcc5  [858255]   None        None   \n",
       "217860  http://n2t.net/ark:/99152/p03wskd55sw  [860046]   None        None   \n",
       "217861                                   None  [860064]   None        None   \n",
       "217862                                   None  [384544]   None  [18300384]   \n",
       "\n",
       "       EDR_ID LUPA_ID ISic_ID                     IG_ID  atticinscriptions_ID  \\\n",
       "0        None    None    None                 [IG I³ 1]                [1672]   \n",
       "1        None    None    None                 [IG I³ 2]                [1707]   \n",
       "2        None    None    None                 [IG I³ 3]               [ii-1b]   \n",
       "3        None    None    None  [IG I³ 4(A), IG I³ 4(B)]                [1692]   \n",
       "4        None    None    None                 [IG I³ 5]                [1284]   \n",
       "...       ...     ...     ...                       ...                   ...   \n",
       "217858   None    None    None                      None                  None   \n",
       "217859   None    None    None                      None                  None   \n",
       "217860   None    None    None                      None                  None   \n",
       "217861   None    None    None                      None                  None   \n",
       "217862   None    None    None                      None                  None   \n",
       "\n",
       "       Attalus_ID  \n",
       "0            None  \n",
       "1            None  \n",
       "2            None  \n",
       "3            None  \n",
       "4            None  \n",
       "...           ...  \n",
       "217858       None  \n",
       "217859       None  \n",
       "217860       None  \n",
       "217861       None  \n",
       "217862       None  \n",
       "\n",
       "[217863 rows x 38 columns]"
      ],
      "text/html": [
       "\n",
       "  <div id=\"df-d7ec2224-b042-49bd-979f-259e45cc4006\">\n",
       "    <div class=\"colab-df-container\">\n",
       "      <div>\n",
       "<style scoped>\n",
       "    .dataframe tbody tr th:only-of-type {\n",
       "        vertical-align: middle;\n",
       "    }\n",
       "\n",
       "    .dataframe tbody tr th {\n",
       "        vertical-align: top;\n",
       "    }\n",
       "\n",
       "    .dataframe thead th {\n",
       "        text-align: right;\n",
       "    }\n",
       "</style>\n",
       "<table border=\"1\" class=\"dataframe\">\n",
       "  <thead>\n",
       "    <tr style=\"text-align: right;\">\n",
       "      <th></th>\n",
       "      <th>URL</th>\n",
       "      <th>Book</th>\n",
       "      <th>Text</th>\n",
       "      <th>hdr1</th>\n",
       "      <th>hdr2</th>\n",
       "      <th>tildeinfo</th>\n",
       "      <th>note</th>\n",
       "      <th>lines</th>\n",
       "      <th>metadata</th>\n",
       "      <th>data</th>\n",
       "      <th>...</th>\n",
       "      <th>link</th>\n",
       "      <th>TM_ID</th>\n",
       "      <th>EDH_ID</th>\n",
       "      <th>EDCS_ID</th>\n",
       "      <th>EDR_ID</th>\n",
       "      <th>LUPA_ID</th>\n",
       "      <th>ISic_ID</th>\n",
       "      <th>IG_ID</th>\n",
       "      <th>atticinscriptions_ID</th>\n",
       "      <th>Attalus_ID</th>\n",
       "    </tr>\n",
       "  </thead>\n",
       "  <tbody>\n",
       "    <tr>\n",
       "      <th>0</th>\n",
       "      <td>/text/1?location=1701&amp;patt=&amp;bookid=4&amp;offset=0&amp;...</td>\n",
       "      <td>IG I³</td>\n",
       "      <td>1</td>\n",
       "      <td>Regions\\nAttica (IG I-III)</td>\n",
       "      <td>IG I³\\n1</td>\n",
       "      <td>Att. — Ath.: Akr. — stoich. 35 — c. 510-500 a....</td>\n",
       "      <td></td>\n",
       "      <td>12</td>\n",
       "      <td>1\\n\\n\\n\\n5\\n\\n\\n\\n\\n10\\n\\n</td>\n",
       "      <td>ἔδοχσεν το͂ι δέμοι· τ̣[ὸς ἐ Σ]αλαμ̣[ῖνι κλερόχ...</td>\n",
       "      <td>...</td>\n",
       "      <td>None</td>\n",
       "      <td>[786251]</td>\n",
       "      <td>None</td>\n",
       "      <td>None</td>\n",
       "      <td>None</td>\n",
       "      <td>None</td>\n",
       "      <td>None</td>\n",
       "      <td>[IG I³ 1]</td>\n",
       "      <td>[1672]</td>\n",
       "      <td>None</td>\n",
       "    </tr>\n",
       "    <tr>\n",
       "      <th>1</th>\n",
       "      <td>/text/2?location=1701&amp;patt=&amp;bookid=4&amp;offset=0&amp;...</td>\n",
       "      <td>IG I³</td>\n",
       "      <td>2</td>\n",
       "      <td>Regions\\nAttica (IG I-III)</td>\n",
       "      <td>IG I³\\n2</td>\n",
       "      <td>Att. — non-stoich. — c. 500 a.</td>\n",
       "      <td></td>\n",
       "      <td>14</td>\n",
       "      <td>1\\n\\n\\n\\n5\\n\\n\\n\\n\\n10\\n\\n\\n\\n</td>\n",
       "      <td>[․․8-9․․․]ν̣ βολ — — — — — — — — — —\\n[․6-7․․]...</td>\n",
       "      <td>...</td>\n",
       "      <td>None</td>\n",
       "      <td>[786252]</td>\n",
       "      <td>None</td>\n",
       "      <td>None</td>\n",
       "      <td>None</td>\n",
       "      <td>None</td>\n",
       "      <td>None</td>\n",
       "      <td>[IG I³ 2]</td>\n",
       "      <td>[1707]</td>\n",
       "      <td>None</td>\n",
       "    </tr>\n",
       "    <tr>\n",
       "      <th>2</th>\n",
       "      <td>/text/3?location=1701&amp;patt=&amp;bookid=4&amp;offset=0&amp;...</td>\n",
       "      <td>IG I³</td>\n",
       "      <td>3</td>\n",
       "      <td>Regions\\nAttica (IG I-III)</td>\n",
       "      <td>IG I³\\n3</td>\n",
       "      <td>Att. — stoich. 21 — 490-480 a.</td>\n",
       "      <td></td>\n",
       "      <td>13</td>\n",
       "      <td>1\\n\\n\\n\\n5\\n\\n\\n\\n\\n10\\n\\n\\n</td>\n",
       "      <td>[․]αρ[․․․․]ι ℎερακλειο[․․5․․]\\n[․]αρ̣ο#⁷[․] τι...</td>\n",
       "      <td>...</td>\n",
       "      <td>None</td>\n",
       "      <td>[786253]</td>\n",
       "      <td>None</td>\n",
       "      <td>None</td>\n",
       "      <td>None</td>\n",
       "      <td>None</td>\n",
       "      <td>None</td>\n",
       "      <td>[IG I³ 3]</td>\n",
       "      <td>[ii-1b]</td>\n",
       "      <td>None</td>\n",
       "    </tr>\n",
       "    <tr>\n",
       "      <th>3</th>\n",
       "      <td>/text/4?location=1701&amp;patt=&amp;bookid=4&amp;offset=0&amp;...</td>\n",
       "      <td>IG I³</td>\n",
       "      <td>4</td>\n",
       "      <td>Regions\\nAttica (IG I-III)</td>\n",
       "      <td>IG I³\\n4</td>\n",
       "      <td>Att. — stoich. 38 — 485/4 a.</td>\n",
       "      <td></td>\n",
       "      <td>56</td>\n",
       "      <td>face A.1\\n\\n\\n\\n5\\n\\n\\n\\n\\n10\\n\\n\\n\\n\\n15\\n\\n\\...</td>\n",
       "      <td>[․․․․․․․․․․․․․․․․․․38․․․․․․․․․․․․․․․․․․]\\n[․․․...</td>\n",
       "      <td>...</td>\n",
       "      <td>None</td>\n",
       "      <td>[786254]</td>\n",
       "      <td>None</td>\n",
       "      <td>None</td>\n",
       "      <td>None</td>\n",
       "      <td>None</td>\n",
       "      <td>None</td>\n",
       "      <td>[IG I³ 4(A), IG I³ 4(B)]</td>\n",
       "      <td>[1692]</td>\n",
       "      <td>None</td>\n",
       "    </tr>\n",
       "    <tr>\n",
       "      <th>4</th>\n",
       "      <td>/text/5?location=1701&amp;patt=&amp;bookid=4&amp;offset=0&amp;...</td>\n",
       "      <td>IG I³</td>\n",
       "      <td>5</td>\n",
       "      <td>Regions\\nAttica (IG I-III)</td>\n",
       "      <td>IG I³\\n5</td>\n",
       "      <td>Att. — c. 500 a.</td>\n",
       "      <td></td>\n",
       "      <td>6</td>\n",
       "      <td>1\\n\\n\\n\\n5\\n</td>\n",
       "      <td>[ἔδοχσε]ν [⋮ τε͂ι βολε͂ι] ⋮ καὶ [τ]ο͂ι δέμοι ⋮...</td>\n",
       "      <td>...</td>\n",
       "      <td>None</td>\n",
       "      <td>[786255]</td>\n",
       "      <td>None</td>\n",
       "      <td>None</td>\n",
       "      <td>None</td>\n",
       "      <td>None</td>\n",
       "      <td>None</td>\n",
       "      <td>[IG I³ 5]</td>\n",
       "      <td>[1284]</td>\n",
       "      <td>None</td>\n",
       "    </tr>\n",
       "    <tr>\n",
       "      <th>...</th>\n",
       "      <td>...</td>\n",
       "      <td>...</td>\n",
       "      <td>...</td>\n",
       "      <td>...</td>\n",
       "      <td>...</td>\n",
       "      <td>...</td>\n",
       "      <td>...</td>\n",
       "      <td>...</td>\n",
       "      <td>...</td>\n",
       "      <td>...</td>\n",
       "      <td>...</td>\n",
       "      <td>...</td>\n",
       "      <td>...</td>\n",
       "      <td>...</td>\n",
       "      <td>...</td>\n",
       "      <td>...</td>\n",
       "      <td>...</td>\n",
       "      <td>...</td>\n",
       "      <td>...</td>\n",
       "      <td>...</td>\n",
       "      <td>...</td>\n",
       "    </tr>\n",
       "    <tr>\n",
       "      <th>217858</th>\n",
       "      <td>/text/353786?location=1682&amp;patt=&amp;bookid=884&amp;bo...</td>\n",
       "      <td>IK Strat. III</td>\n",
       "      <td>Add. et Corr. 645</td>\n",
       "      <td>Regions\\nAsia Minor\\nCaria</td>\n",
       "      <td>IK Strat. III\\nAdd. et Corr. 645</td>\n",
       "      <td>Caria — Lagina — Rom. Imp. period? — IK Strato...</td>\n",
       "      <td>Priest inscription of Hierokles Aristophanes P...</td>\n",
       "      <td>2</td>\n",
       "      <td>6\\n</td>\n",
       "      <td>[Ἀρισ]τείδης Ἱεροκλέους τοῦ Θευδώρου [— —]\\n</td>\n",
       "      <td>...</td>\n",
       "      <td>http://n2t.net/ark:/99152/p08m57hqcc5</td>\n",
       "      <td>[858183]</td>\n",
       "      <td>None</td>\n",
       "      <td>None</td>\n",
       "      <td>None</td>\n",
       "      <td>None</td>\n",
       "      <td>None</td>\n",
       "      <td>None</td>\n",
       "      <td>None</td>\n",
       "      <td>None</td>\n",
       "    </tr>\n",
       "    <tr>\n",
       "      <th>217859</th>\n",
       "      <td>/text/353787?location=1682&amp;patt=&amp;bookid=884&amp;bo...</td>\n",
       "      <td>IK Strat. III</td>\n",
       "      <td>Add. et Corr. 712</td>\n",
       "      <td>Regions\\nAsia Minor\\nCaria</td>\n",
       "      <td>IK Strat. III\\nAdd. et Corr. 712</td>\n",
       "      <td>Caria — Lagina — Rom. Imp. period? — IK Strato...</td>\n",
       "      <td>Inscription for the kleidophoros Apphion Myrta...</td>\n",
       "      <td>3</td>\n",
       "      <td>2\\n\\n</td>\n",
       "      <td>[Ἄπφιον] Ἀρτεμιδώ-\\n[ρου] ...\\n</td>\n",
       "      <td>...</td>\n",
       "      <td>http://n2t.net/ark:/99152/p08m57hqcc5</td>\n",
       "      <td>[858255]</td>\n",
       "      <td>None</td>\n",
       "      <td>None</td>\n",
       "      <td>None</td>\n",
       "      <td>None</td>\n",
       "      <td>None</td>\n",
       "      <td>None</td>\n",
       "      <td>None</td>\n",
       "      <td>None</td>\n",
       "    </tr>\n",
       "    <tr>\n",
       "      <th>217860</th>\n",
       "      <td>/text/353788?location=1682&amp;patt=&amp;bookid=884&amp;bo...</td>\n",
       "      <td>IK Strat. III</td>\n",
       "      <td>Add. et Corr. 809</td>\n",
       "      <td>Regions\\nAsia Minor\\nCaria</td>\n",
       "      <td>IK Strat. III\\nAdd. et Corr. 809</td>\n",
       "      <td>Caria — Stratonikeia — Yeşilbağcılar — Helleni...</td>\n",
       "      <td>Sacred law (?) of Zeus Chrysaoreus.  Marble ar...</td>\n",
       "      <td>2</td>\n",
       "      <td>5\\n</td>\n",
       "      <td>καὶ κριὸν [— —]\\n</td>\n",
       "      <td>...</td>\n",
       "      <td>http://n2t.net/ark:/99152/p03wskd55sw</td>\n",
       "      <td>[860046]</td>\n",
       "      <td>None</td>\n",
       "      <td>None</td>\n",
       "      <td>None</td>\n",
       "      <td>None</td>\n",
       "      <td>None</td>\n",
       "      <td>None</td>\n",
       "      <td>None</td>\n",
       "      <td>None</td>\n",
       "    </tr>\n",
       "    <tr>\n",
       "      <th>217861</th>\n",
       "      <td>/text/353789?location=1682&amp;patt=&amp;bookid=884&amp;bo...</td>\n",
       "      <td>IK Strat. III</td>\n",
       "      <td>Add. et Corr. 1002</td>\n",
       "      <td>Regions\\nAsia Minor\\nCaria</td>\n",
       "      <td>IK Strat. III\\nAdd. et Corr. 1002</td>\n",
       "      <td>Caria — Stratonikeia — 276 BC — IK Stratonikei...</td>\n",
       "      <td>Sale of a vineyard.  Marble block, preserved a...</td>\n",
       "      <td>6</td>\n",
       "      <td>7\\n\\n\\n11\\n\\n</td>\n",
       "      <td>․ος Μ[αν]εω, [Πιγ?]ραμος Υσσω-\\nλο[υ] ...\\n......</td>\n",
       "      <td>...</td>\n",
       "      <td>None</td>\n",
       "      <td>[860064]</td>\n",
       "      <td>None</td>\n",
       "      <td>None</td>\n",
       "      <td>None</td>\n",
       "      <td>None</td>\n",
       "      <td>None</td>\n",
       "      <td>None</td>\n",
       "      <td>None</td>\n",
       "      <td>None</td>\n",
       "    </tr>\n",
       "    <tr>\n",
       "      <th>217862</th>\n",
       "      <td>/text/353790?location=1682&amp;patt=&amp;bookid=884&amp;bo...</td>\n",
       "      <td>IK Strat. III</td>\n",
       "      <td>Add. et Corr. 1224a</td>\n",
       "      <td>Regions\\nAsia Minor\\nCaria</td>\n",
       "      <td>IK Strat. III\\nAdd. et Corr. 1224a</td>\n",
       "      <td>Caria — Stratonikeia — Roman period — IK Strat...</td>\n",
       "      <td>Epitaph of Aelius (?) Florentinus.  Marble ped...</td>\n",
       "      <td>2</td>\n",
       "      <td>2\\n</td>\n",
       "      <td>Aẹḷ(ium?) Florentinum, opt(ionem)\\nvexillati...</td>\n",
       "      <td>...</td>\n",
       "      <td>None</td>\n",
       "      <td>[384544]</td>\n",
       "      <td>None</td>\n",
       "      <td>[18300384]</td>\n",
       "      <td>None</td>\n",
       "      <td>None</td>\n",
       "      <td>None</td>\n",
       "      <td>None</td>\n",
       "      <td>None</td>\n",
       "      <td>None</td>\n",
       "    </tr>\n",
       "  </tbody>\n",
       "</table>\n",
       "<p>217863 rows × 38 columns</p>\n",
       "</div>\n",
       "      <button class=\"colab-df-convert\" onclick=\"convertToInteractive('df-d7ec2224-b042-49bd-979f-259e45cc4006')\"\n",
       "              title=\"Convert this dataframe to an interactive table.\"\n",
       "              style=\"display:none;\">\n",
       "        \n",
       "  <svg xmlns=\"http://www.w3.org/2000/svg\" height=\"24px\"viewBox=\"0 0 24 24\"\n",
       "       width=\"24px\">\n",
       "    <path d=\"M0 0h24v24H0V0z\" fill=\"none\"/>\n",
       "    <path d=\"M18.56 5.44l.94 2.06.94-2.06 2.06-.94-2.06-.94-.94-2.06-.94 2.06-2.06.94zm-11 1L8.5 8.5l.94-2.06 2.06-.94-2.06-.94L8.5 2.5l-.94 2.06-2.06.94zm10 10l.94 2.06.94-2.06 2.06-.94-2.06-.94-.94-2.06-.94 2.06-2.06.94z\"/><path d=\"M17.41 7.96l-1.37-1.37c-.4-.4-.92-.59-1.43-.59-.52 0-1.04.2-1.43.59L10.3 9.45l-7.72 7.72c-.78.78-.78 2.05 0 2.83L4 21.41c.39.39.9.59 1.41.59.51 0 1.02-.2 1.41-.59l7.78-7.78 2.81-2.81c.8-.78.8-2.07 0-2.86zM5.41 20L4 18.59l7.72-7.72 1.47 1.35L5.41 20z\"/>\n",
       "  </svg>\n",
       "      </button>\n",
       "      \n",
       "  <style>\n",
       "    .colab-df-container {\n",
       "      display:flex;\n",
       "      flex-wrap:wrap;\n",
       "      gap: 12px;\n",
       "    }\n",
       "\n",
       "    .colab-df-convert {\n",
       "      background-color: #E8F0FE;\n",
       "      border: none;\n",
       "      border-radius: 50%;\n",
       "      cursor: pointer;\n",
       "      display: none;\n",
       "      fill: #1967D2;\n",
       "      height: 32px;\n",
       "      padding: 0 0 0 0;\n",
       "      width: 32px;\n",
       "    }\n",
       "\n",
       "    .colab-df-convert:hover {\n",
       "      background-color: #E2EBFA;\n",
       "      box-shadow: 0px 1px 2px rgba(60, 64, 67, 0.3), 0px 1px 3px 1px rgba(60, 64, 67, 0.15);\n",
       "      fill: #174EA6;\n",
       "    }\n",
       "\n",
       "    [theme=dark] .colab-df-convert {\n",
       "      background-color: #3B4455;\n",
       "      fill: #D2E3FC;\n",
       "    }\n",
       "\n",
       "    [theme=dark] .colab-df-convert:hover {\n",
       "      background-color: #434B5C;\n",
       "      box-shadow: 0px 1px 3px 1px rgba(0, 0, 0, 0.15);\n",
       "      filter: drop-shadow(0px 1px 2px rgba(0, 0, 0, 0.3));\n",
       "      fill: #FFFFFF;\n",
       "    }\n",
       "  </style>\n",
       "\n",
       "      <script>\n",
       "        const buttonEl =\n",
       "          document.querySelector('#df-d7ec2224-b042-49bd-979f-259e45cc4006 button.colab-df-convert');\n",
       "        buttonEl.style.display =\n",
       "          google.colab.kernel.accessAllowed ? 'block' : 'none';\n",
       "\n",
       "        async function convertToInteractive(key) {\n",
       "          const element = document.querySelector('#df-d7ec2224-b042-49bd-979f-259e45cc4006');\n",
       "          const dataTable =\n",
       "            await google.colab.kernel.invokeFunction('convertToInteractive',\n",
       "                                                     [key], {});\n",
       "          if (!dataTable) return;\n",
       "\n",
       "          const docLinkHtml = 'Like what you see? Visit the ' +\n",
       "            '<a target=\"_blank\" href=https://colab.research.google.com/notebooks/data_table.ipynb>data table notebook</a>'\n",
       "            + ' to learn more about interactive tables.';\n",
       "          element.innerHTML = '';\n",
       "          dataTable['output_type'] = 'display_data';\n",
       "          await google.colab.output.renderOutput(dataTable, element);\n",
       "          const docLink = document.createElement('div');\n",
       "          docLink.innerHTML = docLinkHtml;\n",
       "          element.appendChild(docLink);\n",
       "        }\n",
       "      </script>\n",
       "    </div>\n",
       "  </div>\n",
       "  "
      ]
     },
     "metadata": {},
     "execution_count": 67
    }
   ]
  },
  {
   "cell_type": "code",
   "source": [
    "s.write_file(\"SDAM_data/PHI/PHI_TMids.json\", PHI)"
   ],
   "metadata": {
    "id": "Fdfu2EZwMCcX",
    "outputId": "df750172-6875-4c05-f507-cbdc609f9c24",
    "colab": {
     "base_uri": "https://localhost:8080/"
    }
   },
   "execution_count": 69,
   "outputs": [
    {
     "output_type": "stream",
     "name": "stdout",
     "text": [
      "Your <class 'pandas.core.frame.DataFrame'> object has been succesfully written as \"https://sciencedata.dk/files/SDAM_root/SDAM_data/PHI/PHI_TMids.json\"\n"
     ]
    }
   ]
  },
  {
   "cell_type": "code",
   "source": [
    ""
   ],
   "metadata": {
    "id": "UV41_2CPN440"
   },
   "execution_count": null,
   "outputs": []
  }
 ],
 "metadata": {
  "kernelspec": {
   "display_name": "Python 3",
   "language": "python",
   "name": "python3"
  },
  "language_info": {
   "codemirror_mode": {
    "name": "ipython",
    "version": 2
   },
   "file_extension": ".py",
   "mimetype": "text/x-python",
   "name": "python",
   "nbconvert_exporter": "python",
   "pygments_lexer": "ipython2",
   "version": "2.7.6"
  },
  "colab": {
   "name": "phi_trismegistos_colab.ipynb",
   "provenance": []
  }
 },
 "nbformat": 4,
 "nbformat_minor": 0
}