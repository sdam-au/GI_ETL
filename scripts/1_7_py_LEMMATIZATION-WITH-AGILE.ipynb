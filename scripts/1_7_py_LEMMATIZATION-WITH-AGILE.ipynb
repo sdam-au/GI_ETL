{
 "cells": [
  {
   "cell_type": "code",
   "execution_count": 24,
   "outputs": [],
   "source": [
    "import geopandas as gpd\n",
    "import pandas as pd\n",
    "pd.set_option('display.max_columns', None)\n",
    "pd.set_option('display.max_rows', None)\n",
    "import pickle\n",
    "import requests\n",
    "from bs4 import BeautifulSoup\n",
    "import zipfile\n",
    "import io\n",
    "import json\n",
    "from concurrent.futures import ThreadPoolExecutor\n",
    "import os\n",
    "import nltk\n",
    "import unicodedata"
   ],
   "metadata": {
    "collapsed": false
   }
  },
  {
   "cell_type": "markdown",
   "source": [
    "# Prepare AGILe for usage (skip for the second time)"
   ],
   "metadata": {
    "collapsed": false
   }
  },
  {
   "cell_type": "code",
   "execution_count": 2,
   "metadata": {
    "collapsed": true
   },
   "outputs": [
    {
     "name": "stderr",
     "output_type": "stream",
     "text": [
      "Cloning into 'agile'...\n"
     ]
    }
   ],
   "source": [
    "%%bash\n",
    "git clone https://github.com/agile-gronlp/agile"
   ]
  },
  {
   "cell_type": "code",
   "execution_count": 3,
   "outputs": [],
   "source": [
    "%%bash\n",
    "echo '/scripts/agile/' >> ../.gitignore"
   ],
   "metadata": {
    "collapsed": false
   }
  },
  {
   "cell_type": "code",
   "execution_count": 4,
   "outputs": [
    {
     "name": "stdout",
     "output_type": "stream",
     "text": [
      "Collecting cltk>=1.0\n",
      "  Using cached cltk-1.1.5-py3-none-any.whl (844 kB)\n",
      "Collecting stanza>=1.2\n",
      "  Using cached stanza-1.4.2-py3-none-any.whl (691 kB)\n",
      "Collecting Levenshtein\n",
      "  Using cached Levenshtein-0.20.5-cp39-cp39-macosx_11_0_arm64.whl (95 kB)\n",
      "Collecting boltons<22.0.0,>=21.0.0\n",
      "  Using cached boltons-21.0.0-py2.py3-none-any.whl (193 kB)\n",
      "Collecting scikit-learn<2.0.0,>=1.0.2\n",
      "  Using cached scikit_learn-1.1.2-cp39-cp39-macosx_12_0_arm64.whl (7.7 MB)\n",
      "Collecting gitpython<4.0,>=3.0\n",
      "  Using cached GitPython-3.1.27-py3-none-any.whl (181 kB)\n",
      "Collecting nltk<4.0,>=3.7\n",
      "  Using cached nltk-3.7-py3-none-any.whl (1.5 MB)\n",
      "Requirement already satisfied: PyYAML<7.0.0,>=6.0.0 in /opt/homebrew/Caskroom/miniforge/base/lib/python3.9/site-packages (from cltk>=1.0->-r agile/requirements.txt (line 1)) (6.0)\n",
      "Requirement already satisfied: gensim<5.0.0,>=4.1.2 in /opt/homebrew/Caskroom/miniforge/base/lib/python3.9/site-packages (from cltk>=1.0->-r agile/requirements.txt (line 1)) (4.2.0)\n",
      "Collecting greek-accentuation<2.0.0,>=1.2.0\n",
      "  Using cached greek_accentuation-1.2.0-py2.py3-none-any.whl (6.8 kB)\n",
      "Collecting stringcase<2.0,>=1.2\n",
      "  Using cached stringcase-1.2.0-py3-none-any.whl\n",
      "Requirement already satisfied: tqdm<5.0.0,>=4.41.1 in /opt/homebrew/Caskroom/miniforge/base/lib/python3.9/site-packages (from cltk>=1.0->-r agile/requirements.txt (line 1)) (4.62.3)\n",
      "Collecting python-Levenshtein<0.13.0,>=0.12.0\n",
      "  Using cached python_Levenshtein-0.12.2-cp39-cp39-macosx_11_0_arm64.whl\n",
      "Requirement already satisfied: scipy<2.0.0,>=1.8.0 in /opt/homebrew/Caskroom/miniforge/base/lib/python3.9/site-packages (from cltk>=1.0->-r agile/requirements.txt (line 1)) (1.8.1)\n",
      "Requirement already satisfied: spacy<4.0.0,>=3.2.4 in /opt/homebrew/Caskroom/miniforge/base/lib/python3.9/site-packages (from cltk>=1.0->-r agile/requirements.txt (line 1)) (3.4.1)\n",
      "Collecting fasttext<0.10.0,>=0.9.1\n",
      "  Using cached fasttext-0.9.2-cp39-cp39-macosx_13_0_arm64.whl\n",
      "Requirement already satisfied: requests<3.0.0,>=2.22.0 in /opt/homebrew/Caskroom/miniforge/base/lib/python3.9/site-packages (from cltk>=1.0->-r agile/requirements.txt (line 1)) (2.26.0)\n",
      "Collecting protobuf\n",
      "  Using cached protobuf-4.21.7-cp37-abi3-macosx_10_9_universal2.whl (484 kB)\n",
      "Requirement already satisfied: six in /opt/homebrew/Caskroom/miniforge/base/lib/python3.9/site-packages (from stanza>=1.2->-r agile/requirements.txt (line 2)) (1.16.0)\n",
      "Collecting emoji\n",
      "  Using cached emoji-2.1.0-py3-none-any.whl\n",
      "Collecting torch>=1.3.0\n",
      "  Using cached torch-1.12.1-cp39-none-macosx_11_0_arm64.whl (49.1 MB)\n",
      "Requirement already satisfied: numpy in /opt/homebrew/Caskroom/miniforge/base/lib/python3.9/site-packages (from stanza>=1.2->-r agile/requirements.txt (line 2)) (1.22.4)\n",
      "Collecting rapidfuzz<3.0.0,>=2.3.0\n",
      "  Using cached rapidfuzz-2.11.1-cp39-cp39-macosx_11_0_arm64.whl (1.1 MB)\n",
      "Requirement already satisfied: setuptools>=0.7.0 in /opt/homebrew/Caskroom/miniforge/base/lib/python3.9/site-packages (from fasttext<0.10.0,>=0.9.1->cltk>=1.0->-r agile/requirements.txt (line 1)) (58.2.0)\n",
      "Collecting pybind11>=2.2\n",
      "  Using cached pybind11-2.10.0-py3-none-any.whl (213 kB)\n",
      "Requirement already satisfied: smart-open>=1.8.1 in /opt/homebrew/Caskroom/miniforge/base/lib/python3.9/site-packages (from gensim<5.0.0,>=4.1.2->cltk>=1.0->-r agile/requirements.txt (line 1)) (5.2.1)\n",
      "Collecting gitdb<5,>=4.0.1\n",
      "  Using cached gitdb-4.0.9-py3-none-any.whl (63 kB)\n",
      "Requirement already satisfied: regex>=2021.8.3 in /opt/homebrew/Caskroom/miniforge/base/lib/python3.9/site-packages (from nltk<4.0,>=3.7->cltk>=1.0->-r agile/requirements.txt (line 1)) (2022.1.18)\n",
      "Requirement already satisfied: joblib in /opt/homebrew/Caskroom/miniforge/base/lib/python3.9/site-packages (from nltk<4.0,>=3.7->cltk>=1.0->-r agile/requirements.txt (line 1)) (1.1.0)\n",
      "Requirement already satisfied: click in /opt/homebrew/Caskroom/miniforge/base/lib/python3.9/site-packages (from nltk<4.0,>=3.7->cltk>=1.0->-r agile/requirements.txt (line 1)) (8.0.3)\n",
      "Requirement already satisfied: urllib3<1.27,>=1.21.1 in /opt/homebrew/Caskroom/miniforge/base/lib/python3.9/site-packages (from requests<3.0.0,>=2.22.0->cltk>=1.0->-r agile/requirements.txt (line 1)) (1.26.7)\n",
      "Requirement already satisfied: idna<4,>=2.5 in /opt/homebrew/Caskroom/miniforge/base/lib/python3.9/site-packages (from requests<3.0.0,>=2.22.0->cltk>=1.0->-r agile/requirements.txt (line 1)) (3.1)\n",
      "Requirement already satisfied: charset-normalizer~=2.0.0 in /opt/homebrew/Caskroom/miniforge/base/lib/python3.9/site-packages (from requests<3.0.0,>=2.22.0->cltk>=1.0->-r agile/requirements.txt (line 1)) (2.0.0)\n",
      "Requirement already satisfied: certifi>=2017.4.17 in /opt/homebrew/Caskroom/miniforge/base/lib/python3.9/site-packages (from requests<3.0.0,>=2.22.0->cltk>=1.0->-r agile/requirements.txt (line 1)) (2022.6.15)\n",
      "Requirement already satisfied: threadpoolctl>=2.0.0 in /opt/homebrew/Caskroom/miniforge/base/lib/python3.9/site-packages (from scikit-learn<2.0.0,>=1.0.2->cltk>=1.0->-r agile/requirements.txt (line 1)) (3.0.0)\n",
      "Requirement already satisfied: spacy-loggers<2.0.0,>=1.0.0 in /opt/homebrew/Caskroom/miniforge/base/lib/python3.9/site-packages (from spacy<4.0.0,>=3.2.4->cltk>=1.0->-r agile/requirements.txt (line 1)) (1.0.3)\n",
      "Requirement already satisfied: murmurhash<1.1.0,>=0.28.0 in /opt/homebrew/Caskroom/miniforge/base/lib/python3.9/site-packages (from spacy<4.0.0,>=3.2.4->cltk>=1.0->-r agile/requirements.txt (line 1)) (1.0.7)\n",
      "Requirement already satisfied: catalogue<2.1.0,>=2.0.6 in /opt/homebrew/Caskroom/miniforge/base/lib/python3.9/site-packages (from spacy<4.0.0,>=3.2.4->cltk>=1.0->-r agile/requirements.txt (line 1)) (2.0.8)\n",
      "Requirement already satisfied: pathy>=0.3.5 in /opt/homebrew/Caskroom/miniforge/base/lib/python3.9/site-packages (from spacy<4.0.0,>=3.2.4->cltk>=1.0->-r agile/requirements.txt (line 1)) (0.6.2)\n",
      "Requirement already satisfied: pydantic!=1.8,!=1.8.1,<1.10.0,>=1.7.4 in /opt/homebrew/Caskroom/miniforge/base/lib/python3.9/site-packages (from spacy<4.0.0,>=3.2.4->cltk>=1.0->-r agile/requirements.txt (line 1)) (1.9.1)\n",
      "Requirement already satisfied: wasabi<1.1.0,>=0.9.1 in /opt/homebrew/Caskroom/miniforge/base/lib/python3.9/site-packages (from spacy<4.0.0,>=3.2.4->cltk>=1.0->-r agile/requirements.txt (line 1)) (0.10.1)\n",
      "Requirement already satisfied: thinc<8.2.0,>=8.1.0 in /opt/homebrew/Caskroom/miniforge/base/lib/python3.9/site-packages (from spacy<4.0.0,>=3.2.4->cltk>=1.0->-r agile/requirements.txt (line 1)) (8.1.0)\n",
      "Requirement already satisfied: typer<0.5.0,>=0.3.0 in /opt/homebrew/Caskroom/miniforge/base/lib/python3.9/site-packages (from spacy<4.0.0,>=3.2.4->cltk>=1.0->-r agile/requirements.txt (line 1)) (0.4.2)\n",
      "Requirement already satisfied: cymem<2.1.0,>=2.0.2 in /opt/homebrew/Caskroom/miniforge/base/lib/python3.9/site-packages (from spacy<4.0.0,>=3.2.4->cltk>=1.0->-r agile/requirements.txt (line 1)) (2.0.6)\n",
      "Requirement already satisfied: packaging>=20.0 in /opt/homebrew/Caskroom/miniforge/base/lib/python3.9/site-packages (from spacy<4.0.0,>=3.2.4->cltk>=1.0->-r agile/requirements.txt (line 1)) (21.3)\n",
      "Requirement already satisfied: jinja2 in /opt/homebrew/Caskroom/miniforge/base/lib/python3.9/site-packages (from spacy<4.0.0,>=3.2.4->cltk>=1.0->-r agile/requirements.txt (line 1)) (3.0.3)\n",
      "Requirement already satisfied: preshed<3.1.0,>=3.0.2 in /opt/homebrew/Caskroom/miniforge/base/lib/python3.9/site-packages (from spacy<4.0.0,>=3.2.4->cltk>=1.0->-r agile/requirements.txt (line 1)) (3.0.6)\n",
      "Requirement already satisfied: srsly<3.0.0,>=2.4.3 in /opt/homebrew/Caskroom/miniforge/base/lib/python3.9/site-packages (from spacy<4.0.0,>=3.2.4->cltk>=1.0->-r agile/requirements.txt (line 1)) (2.4.4)\n",
      "Requirement already satisfied: langcodes<4.0.0,>=3.2.0 in /opt/homebrew/Caskroom/miniforge/base/lib/python3.9/site-packages (from spacy<4.0.0,>=3.2.4->cltk>=1.0->-r agile/requirements.txt (line 1)) (3.3.0)\n",
      "Requirement already satisfied: spacy-legacy<3.1.0,>=3.0.9 in /opt/homebrew/Caskroom/miniforge/base/lib/python3.9/site-packages (from spacy<4.0.0,>=3.2.4->cltk>=1.0->-r agile/requirements.txt (line 1)) (3.0.9)\n",
      "Requirement already satisfied: typing-extensions in /opt/homebrew/Caskroom/miniforge/base/lib/python3.9/site-packages (from torch>=1.3.0->stanza>=1.2->-r agile/requirements.txt (line 2)) (4.3.0)\n",
      "Collecting smmap<6,>=3.0.1\n",
      "  Using cached smmap-5.0.0-py3-none-any.whl (24 kB)\n",
      "Requirement already satisfied: pyparsing!=3.0.5,>=2.0.2 in /opt/homebrew/Caskroom/miniforge/base/lib/python3.9/site-packages (from packaging>=20.0->spacy<4.0.0,>=3.2.4->cltk>=1.0->-r agile/requirements.txt (line 1)) (3.0.6)\n",
      "Requirement already satisfied: blis<0.8.0,>=0.7.8 in /opt/homebrew/Caskroom/miniforge/base/lib/python3.9/site-packages (from thinc<8.2.0,>=8.1.0->spacy<4.0.0,>=3.2.4->cltk>=1.0->-r agile/requirements.txt (line 1)) (0.7.8)\n",
      "Requirement already satisfied: MarkupSafe>=2.0 in /opt/homebrew/Caskroom/miniforge/base/lib/python3.9/site-packages (from jinja2->spacy<4.0.0,>=3.2.4->cltk>=1.0->-r agile/requirements.txt (line 1)) (2.0.1)\n",
      "Installing collected packages: smmap, torch, pybind11, protobuf, gitdb, emoji, stringcase, stanza, scikit-learn, rapidfuzz, python-Levenshtein, nltk, greek-accentuation, gitpython, fasttext, boltons, Levenshtein, cltk\n",
      "  Attempting uninstall: scikit-learn\n",
      "    Found existing installation: scikit-learn 1.0.1\n",
      "    Uninstalling scikit-learn-1.0.1:\n",
      "      Successfully uninstalled scikit-learn-1.0.1\n",
      "  Attempting uninstall: nltk\n",
      "    Found existing installation: nltk 3.6.7\n",
      "    Uninstalling nltk-3.6.7:\n",
      "      Successfully uninstalled nltk-3.6.7\n",
      "Successfully installed Levenshtein-0.20.5 boltons-21.0.0 cltk-1.1.5 emoji-2.1.0 fasttext-0.9.2 gitdb-4.0.9 gitpython-3.1.27 greek-accentuation-1.2.0 nltk-3.7 protobuf-4.21.7 pybind11-2.10.0 python-Levenshtein-0.12.2 rapidfuzz-2.11.1 scikit-learn-1.1.2 smmap-5.0.0 stanza-1.4.2 stringcase-1.2.0 torch-1.12.1\n"
     ]
    }
   ],
   "source": [
    "%%bash\n",
    "pip install -r agile/requirements.txt"
   ],
   "metadata": {
    "collapsed": false
   }
  },
  {
   "cell_type": "code",
   "execution_count": 5,
   "outputs": [],
   "source": [
    "%%bash\n",
    "rm -rf agile/.git agile/.gitignore"
   ],
   "metadata": {
    "collapsed": false
   }
  },
  {
   "cell_type": "code",
   "execution_count": 6,
   "outputs": [
    {
     "data": {
      "text/plain": "Downloading https://raw.githubusercontent.com/stanfordnlp/stanza-resources/main/resources_1.4.1.json:   0%|   …",
      "application/vnd.jupyter.widget-view+json": {
       "version_major": 2,
       "version_minor": 0,
       "model_id": "3b5db92cc00b4d1cbc15f3df381625b1"
      }
     },
     "metadata": {},
     "output_type": "display_data"
    },
    {
     "name": "stderr",
     "output_type": "stream",
     "text": [
      "2022-10-04 11:58:32 INFO: Downloading default packages for language: grc (Ancient_Greek) ...\n"
     ]
    },
    {
     "data": {
      "text/plain": "Downloading https://huggingface.co/stanfordnlp/stanza-grc/resolve/v1.4.1/models/default.zip:   0%|          | …",
      "application/vnd.jupyter.widget-view+json": {
       "version_major": 2,
       "version_minor": 0,
       "model_id": "b897d4a38aad4e818564f09e5ce1ab28"
      }
     },
     "metadata": {},
     "output_type": "display_data"
    },
    {
     "name": "stderr",
     "output_type": "stream",
     "text": [
      "2022-10-04 11:58:37 INFO: Finished downloading models and saved to /Users/kasev/stanza_resources.\n"
     ]
    }
   ],
   "source": [
    "import stanza\n",
    "stanza.download(lang='grc')"
   ],
   "metadata": {
    "collapsed": false
   }
  },
  {
   "cell_type": "code",
   "execution_count": 7,
   "outputs": [],
   "source": [
    "%%bash\n",
    "cp agile/grc_agile_lemmatizer.pt grc_agile_lemmatizer.pt\n",
    "cp agile/lexicon.p lexicon.p"
   ],
   "metadata": {
    "collapsed": false
   }
  },
  {
   "cell_type": "markdown",
   "source": [
    "# Testing lemmatization"
   ],
   "metadata": {
    "collapsed": false
   }
  },
  {
   "cell_type": "code",
   "execution_count": 18,
   "outputs": [],
   "source": [
    "from scripts.agile import agile"
   ],
   "metadata": {
    "collapsed": false
   }
  },
  {
   "cell_type": "code",
   "execution_count": 19,
   "outputs": [
    {
     "name": "stdout",
     "output_type": "stream",
     "text": [
      "word: αἲξ            lemma: αἴξ\n",
      "word: θύεται         lemma: τίθημι\n",
      "word: τάδε           lemma: ὅδε\n",
      "word: μὴ             lemma: μή\n",
      "word: ἐσφέρεν        lemma: τηρέω\n",
      "word: ἐς             lemma: εἰς\n",
      "word: τὸ             lemma: τε\n",
      "word: τέμενος        lemma: τέμενος\n",
      "word: τοῦ            lemma: ποῦ\n",
      "word: Ἀπόλλωνος      lemma: Ἀπολλωνία\n",
      "word: τοῦ            lemma: ποῦ\n",
      "word: Οὐλίου         lemma: ἥλιος\n",
      "word: εἱμάτιον       lemma: εἱμάτιον\n"
     ]
    }
   ],
   "source": [
    "doc = agile.lemmatize(\"αἲξ θύεται τάδε μὴ ἐσφέρεν ἐς τὸ τέμενος τοῦ Ἀπόλλωνος τοῦ Οὐλίου εἱμάτιον\")\n",
    "for sent in doc.sentences:\n",
    "    for word in sent.words:\n",
    "        print(f'word: {word.text + \" \":15}lemma: {word.lemma}')"
   ],
   "metadata": {
    "collapsed": false
   }
  },
  {
   "cell_type": "code",
   "execution_count": 20,
   "outputs": [
    {
     "data": {
      "text/plain": "['αἴξ',\n 'τίθημι',\n 'ὅδε',\n 'μή',\n 'τηρέω',\n 'εἰς',\n 'τε',\n 'τέμενος',\n 'ποῦ',\n 'Ἀπολλωνία',\n 'ποῦ',\n 'ἥλιος',\n 'εἱμάτιον']"
     },
     "execution_count": 20,
     "metadata": {},
     "output_type": "execute_result"
    }
   ],
   "source": [
    "# a more staightforward approach to get a list of lemmata:\n",
    "[word[\"lemma\"] for sent in doc.to_dict() for word in sent]"
   ],
   "metadata": {
    "collapsed": false
   }
  },
  {
   "cell_type": "markdown",
   "source": [
    "# Loading Perseus dict for filtering"
   ],
   "metadata": {
    "collapsed": false
   }
  },
  {
   "cell_type": "code",
   "execution_count": 3,
   "outputs": [],
   "source": [
    "morpheus_by_lemma = json.loads(requests.get(\"https://sciencedata.dk/public/8fe7d59de1eafe5f8eaebc0044534606/morpheus_by_lemma.json\").content)"
   ],
   "metadata": {
    "collapsed": false
   }
  },
  {
   "cell_type": "code",
   "execution_count": null,
   "outputs": [],
   "source": [
    "# first try to read the morpheus dict from our local data folder:\n",
    "try:\n",
    "    with open(\"../data/large_data/morpheus_dict.json\") as json_file:\n",
    "        morpheus_dict = json.load(json_file)\n",
    "# if not available:\n",
    "except:\n",
    "    # read it from a public folder on sciencedata\n",
    "    publicfolder = \"8fe7d59de1eafe5f8eaebc0044534606\"\n",
    "    morpheus_dict = json.loads(requests.get(\"https://sciencedata.dk/public/\" + publicfolder + \"/morpheus_dict.json\").content)\n",
    "    # save it locally for future usage\n",
    "    with open(\"../data/large_data/morpheus_dict.json\", \"w\") as outfile:\n",
    "        json.dump(morpheus_dict, outfile)"
   ],
   "metadata": {
    "collapsed": false
   }
  },
  {
   "cell_type": "code",
   "execution_count": 38,
   "outputs": [],
   "source": [
    "morpheus_lemmata_remove = []\n",
    "for key in morpheus_dict.keys():\n",
    "    values_list = morpheus_dict[key]\n",
    "    for val_dict in values_list:\n",
    "        if val_dict[\"l\"] == key:\n",
    "            if val_dict[\"p\"][0] not in [\"n\", \"a\", \"v\"]:\n",
    "                morpheus_lemmata_remove.append(key)"
   ],
   "metadata": {
    "collapsed": false
   }
  },
  {
   "cell_type": "code",
   "execution_count": 49,
   "outputs": [],
   "source": [
    "GIST = gpd.read_file(\"../data/large_data/GIST_v0-1.geojson\", driver=\"GeoJSON\")"
   ],
   "metadata": {
    "collapsed": false
   }
  },
  {
   "cell_type": "code",
   "execution_count": 91,
   "outputs": [],
   "source": [
    "def lemmatize_with_agile(raw_text):\n",
    "    try:\n",
    "        doc = agile.lemmatize(raw_text)\n",
    "        lemmata = [word[\"lemma\"] for sent in doc.to_dict() for word in sent]\n",
    "    except:\n",
    "        try:\n",
    "            doc = agile.lemmatize(raw_text, use_lexicon=False)\n",
    "            lemmata = [word[\"lemma\"] for sent in doc.to_dict() for word in sent]\n",
    "        except:\n",
    "            lemmata = []\n",
    "    return lemmata"
   ],
   "metadata": {
    "collapsed": false
   }
  },
  {
   "cell_type": "code",
   "execution_count": 72,
   "outputs": [
    {
     "data": {
      "text/plain": "['αἴξ',\n 'τίθημι',\n 'ὅδε',\n 'μή',\n 'τηρέω',\n 'εἰς',\n 'τε',\n 'τέμενος',\n 'ποῦ',\n 'Ἀπολλωνία',\n 'ποῦ',\n 'ἥλιος',\n 'εἱμάτιον']"
     },
     "execution_count": 72,
     "metadata": {},
     "output_type": "execute_result"
    }
   ],
   "source": [
    "lemmatize_with_agile(\"αἲξ θύεται τάδε μὴ ἐσφέρεν ἐς τὸ τέμενος τοῦ Ἀπόλλωνος τοῦ Οὐλίου εἱμάτιον\")"
   ],
   "metadata": {
    "collapsed": false
   }
  },
  {
   "cell_type": "code",
   "execution_count": 11,
   "outputs": [
    {
     "name": "stdout",
     "output_type": "stream",
     "text": [
      "CPU times: user 32.6 s, sys: 1.69 s, total: 34.3 s\n",
      "Wall time: 49.5 s\n"
     ]
    }
   ],
   "source": [
    "%%time\n",
    "# testing with samples of different length\n",
    "GIST_sample = GIST.sample(100)\n",
    "GIST_sample[\"lemmata_agile\"] = GIST_sample[\"clean_text_interpretive_word\"].apply(lemmatize_with_agile)"
   ],
   "metadata": {
    "collapsed": false
   }
  },
  {
   "cell_type": "code",
   "execution_count": 73,
   "outputs": [],
   "source": [
    "def lemmata_by_phiid(phiid):\n",
    "    lemmata = lemmatize_with_agile(GIST[GIST[\"PHI_ID\"]==phiid][\"clean_text_interpretive_word\"].tolist()[0])\n",
    "    id_with_lemmata = \" \".join([str(phiid)] + lemmata)\n",
    "    return id_with_lemmata"
   ],
   "metadata": {
    "collapsed": false
   }
  },
  {
   "cell_type": "code",
   "execution_count": 89,
   "outputs": [
    {
     "data": {
      "text/plain": "'327714    '"
     },
     "execution_count": 89,
     "metadata": {},
     "output_type": "execute_result"
    }
   ],
   "source": [
    "lemmata_by_phiid(327714)"
   ],
   "metadata": {
    "collapsed": false
   }
  },
  {
   "cell_type": "code",
   "execution_count": 13,
   "outputs": [
    {
     "name": "stdout",
     "output_type": "stream",
     "text": [
      "CPU times: user 17.7 s, sys: 445 ms, total: 18.1 s\n",
      "Wall time: 20.1 s\n"
     ]
    }
   ],
   "source": [
    "%%time\n",
    "failed = []\n",
    "f = open(\"../data/large_data/lemmata_full_test.txt\", \"w\", encoding=\"utf-8\")\n",
    "line = 0\n",
    "for n in range(20):\n",
    "    id = str(GIST.iloc[n][\"PHI_ID\"])\n",
    "    lemmata = lemmatize_with_agile(GIST.iloc[n][\"clean_text_interpretive_word\"])\n",
    "    line_data = \" \".join([str(id)] + lemmata) + \"\\n\"\n",
    "    f.writelines(line_data)\n",
    "    line += 1"
   ],
   "metadata": {
    "collapsed": false
   }
  },
  {
   "cell_type": "code",
   "execution_count": 102,
   "outputs": [
    {
     "data": {
      "text/plain": "       PHI_ID         reference                          metadata  lines  \\\n36006  141705  IG XIV\\n2393,71b  Sikelia [Rhodos] — Eryx (Erice)?    1.0   \n\n      text_raw text_iphi clean_text_conservative clean_text_interpretive_word  \\\n36006  Ἀμύντα.      None                  Ἀμύντα                       Ἀμύντα   \n\n                    lemmata       raw_date  not_before  not_after  \\\n36006  {'data': ['ἀμύντα']}  Eryx (Erice)?         NaN        NaN   \n\n                   date_type  region_main_id  region_sub_id  \\\n36006  {'data': ['unknown']}             NaN            NaN   \n\n                      TM_ID        EDH_ID                 EDCS_ID  \\\n36006  {'data': ['493104']}  {'data': []}  {'data': ['39501016']}   \n\n             EDR_ID       LUPA_ID       ISic_ID         IG_ID  \\\n36006  {'data': []}  {'data': []}  {'data': []}  {'data': []}   \n\n      atticinscriptions_ID    Attalus_ID             TMgeo_ID     x_long  \\\n36006         {'data': []}  {'data': []}  {'data': ['22300']}  12.583607   \n\n           y_lat TMgeo_name                   geometry  \n36006  38.036517       Eryx  POINT (12.58361 38.03652)  ",
      "text/html": "<div>\n<style scoped>\n    .dataframe tbody tr th:only-of-type {\n        vertical-align: middle;\n    }\n\n    .dataframe tbody tr th {\n        vertical-align: top;\n    }\n\n    .dataframe thead th {\n        text-align: right;\n    }\n</style>\n<table border=\"1\" class=\"dataframe\">\n  <thead>\n    <tr style=\"text-align: right;\">\n      <th></th>\n      <th>PHI_ID</th>\n      <th>reference</th>\n      <th>metadata</th>\n      <th>lines</th>\n      <th>text_raw</th>\n      <th>text_iphi</th>\n      <th>clean_text_conservative</th>\n      <th>clean_text_interpretive_word</th>\n      <th>lemmata</th>\n      <th>raw_date</th>\n      <th>not_before</th>\n      <th>not_after</th>\n      <th>date_type</th>\n      <th>region_main_id</th>\n      <th>region_sub_id</th>\n      <th>TM_ID</th>\n      <th>EDH_ID</th>\n      <th>EDCS_ID</th>\n      <th>EDR_ID</th>\n      <th>LUPA_ID</th>\n      <th>ISic_ID</th>\n      <th>IG_ID</th>\n      <th>atticinscriptions_ID</th>\n      <th>Attalus_ID</th>\n      <th>TMgeo_ID</th>\n      <th>x_long</th>\n      <th>y_lat</th>\n      <th>TMgeo_name</th>\n      <th>geometry</th>\n    </tr>\n  </thead>\n  <tbody>\n    <tr>\n      <th>36006</th>\n      <td>141705</td>\n      <td>IG XIV\\n2393,71b</td>\n      <td>Sikelia [Rhodos] — Eryx (Erice)?</td>\n      <td>1.0</td>\n      <td>Ἀμύντα.</td>\n      <td>None</td>\n      <td>Ἀμύντα</td>\n      <td>Ἀμύντα</td>\n      <td>{'data': ['ἀμύντα']}</td>\n      <td>Eryx (Erice)?</td>\n      <td>NaN</td>\n      <td>NaN</td>\n      <td>{'data': ['unknown']}</td>\n      <td>NaN</td>\n      <td>NaN</td>\n      <td>{'data': ['493104']}</td>\n      <td>{'data': []}</td>\n      <td>{'data': ['39501016']}</td>\n      <td>{'data': []}</td>\n      <td>{'data': []}</td>\n      <td>{'data': []}</td>\n      <td>{'data': []}</td>\n      <td>{'data': []}</td>\n      <td>{'data': []}</td>\n      <td>{'data': ['22300']}</td>\n      <td>12.583607</td>\n      <td>38.036517</td>\n      <td>Eryx</td>\n      <td>POINT (12.58361 38.03652)</td>\n    </tr>\n  </tbody>\n</table>\n</div>"
     },
     "execution_count": 102,
     "metadata": {},
     "output_type": "execute_result"
    }
   ],
   "source": [
    "GIST[GIST[\"PHI_ID\"]==141705]"
   ],
   "metadata": {
    "collapsed": false
   }
  },
  {
   "cell_type": "code",
   "execution_count": 101,
   "outputs": [
    {
     "data": {
      "text/plain": "['']"
     },
     "execution_count": 101,
     "metadata": {},
     "output_type": "execute_result"
    }
   ],
   "source": [
    "lemmatize_with_agile(GIST[GIST[\"PHI_ID\"]==141705][\"clean_text_interpretive_word\"].tolist()[0])"
   ],
   "metadata": {
    "collapsed": false
   }
  },
  {
   "cell_type": "markdown",
   "source": [
    "# Main application of AGILe is happening outside of the notebook - by running lemmatization.py\n",
    "but here we develop and test the functions..."
   ],
   "metadata": {
    "collapsed": false
   }
  },
  {
   "cell_type": "markdown",
   "source": [
    "# Loading the lemmatized data files and mapping them on the dataset"
   ],
   "metadata": {
    "collapsed": false
   }
  },
  {
   "cell_type": "code",
   "execution_count": 28,
   "outputs": [],
   "source": [
    "def normalize_encoding(string):\n",
    "    return unicodedata.normalize(\"NFC\", string)"
   ],
   "metadata": {
    "collapsed": false
   }
  },
  {
   "cell_type": "code",
   "execution_count": 29,
   "outputs": [],
   "source": [
    "def preprocess_lemmata_txt(lemmata_full_str):\n",
    "    failed_ids = []\n",
    "    lemmata_data_split =  [normalize_encoding(inscr_data).split() for inscr_data in lemmata_full_str.split(\"\\n\")]\n",
    "    #lemmata_data_tups = [(int(inscr_data[0]), inscr_data[1:]) for inscr_data in lemmata_data_split]\n",
    "    lemmata_data_tups = []\n",
    "    for inscr_data in lemmata_data_split:\n",
    "        if len(inscr_data) > 1:\n",
    "            lemmata_data_tups.append((int(inscr_data[0]), inscr_data[1:]))\n",
    "        else:\n",
    "            try:\n",
    "                failed_ids.append(int(inscr_data[0]))\n",
    "            except:\n",
    "                failed_ids.append(inscr_data)\n",
    "    lemmata_data_dict = dict(lemmata_data_tups)\n",
    "    return lemmata_data_dict, failed_ids"
   ],
   "metadata": {
    "collapsed": false
   }
  },
  {
   "cell_type": "code",
   "execution_count": 33,
   "outputs": [
    {
     "data": {
      "text/plain": "['lemmata_full_inverse2.txt',\n 'lemmata_full_missing4.txt',\n 'lemmata_full_160000-220000.txt',\n 'lemmata_full_inverse1.txt',\n 'lemmata_full_missing1.txt',\n 'lemmata_full_missing3.txt',\n 'lemmata_full_missing2.txt',\n 'lemmata_full_100000-160000.txt',\n 'lemmata_full_50000-100000.txt',\n 'lemmata_full_0-50000.txt']"
     },
     "execution_count": 33,
     "metadata": {},
     "output_type": "execute_result"
    }
   ],
   "source": [
    "filenames = os.listdir(\"../data/large_data/lemmata_files\")\n",
    "filenames = [f for f in filenames if \".txt\" in f]\n",
    "filenames"
   ],
   "metadata": {
    "collapsed": false
   }
  },
  {
   "cell_type": "code",
   "execution_count": 34,
   "outputs": [
    {
     "data": {
      "text/plain": "207734"
     },
     "execution_count": 34,
     "metadata": {},
     "output_type": "execute_result"
    }
   ],
   "source": [
    "failed_ids = []\n",
    "lemmata_full_merged = {}\n",
    "for fname in filenames:\n",
    "    lemmata_full_str = open(\"../data/large_data/lemmata_files/\" + fname, \"r\", encoding=\"utf-8\").read()\n",
    "    file_dict, file_failed_ids = preprocess_lemmata_txt(lemmata_full_str)\n",
    "    failed_ids.extend(file_failed_ids)\n",
    "    lemmata_full_merged.update(file_dict)\n",
    "len(lemmata_full_merged)"
   ],
   "metadata": {
    "collapsed": false
   }
  },
  {
   "cell_type": "code",
   "execution_count": 35,
   "outputs": [
    {
     "data": {
      "text/plain": "10130"
     },
     "execution_count": 35,
     "metadata": {},
     "output_type": "execute_result"
    }
   ],
   "source": [
    "failed_ids =list(set([el for el in failed_ids if isinstance(el, int)]))\n",
    "len(failed_ids)"
   ],
   "metadata": {
    "collapsed": false
   }
  },
  {
   "cell_type": "code",
   "execution_count": 36,
   "outputs": [],
   "source": [
    "GIST_failed = GIST.set_index(\"PHI_ID\").loc[failed_ids]"
   ],
   "metadata": {
    "collapsed": false
   }
  },
  {
   "cell_type": "code",
   "execution_count": 37,
   "outputs": [
    {
     "data": {
      "text/plain": "['1 ἔδοχσεν το͂ι δέμοι τὸς ἐ Σαλαμῖνι κλερόχος οἰκε͂ν ἐᾶ Σαλαμῖνι λεν Ἀθένεσι τελε͂ν καὶ στρατεύεσθαι τὰ δ’ ἐ Σαλαμῖνι μὲ μισθο͂ν ἐὰ μὲ οἰκ ο μισθόμενο ἐὰν δὲ μισθο͂ι ἀποτίνεν τὸ μισθόμενον καὶ τὸ μισθο͂ντα ℎεκάτερον ἐς δεμόσιον ἐσπράτεν δὲ τὸν ἄρχοντα ἐὰν δὲ μέ εὐθύνεσθαι τὰ δὲ ℎόπλα παρέχεσθαι αὐτὸς τριάκοντα δραχμο͂ν ℎοπλισμένον δὲ τὸν ἄρχοντα τὰ ℎόπλα κρίνεν ἐπὶ τε͂ς βολε͂ς c',\n '327692 ',\n '327707 ',\n '327710 Χαιρίοˉν',\n '327714 ΜΙΝΩΡ ΛΙΩΝΟΣ ΜΑΘΕΥΕ ΜΕ',\n '327715 Μελίτωνος',\n '327721 ΛΑ',\n '327726 ',\n '327732 ΜΧΙΕΙΟΝ',\n '294973 Ἀνδρομάχου']"
     },
     "execution_count": 37,
     "metadata": {},
     "output_type": "execute_result"
    }
   ],
   "source": [
    "GIST_failed_tups = list(zip(GIST_failed.reset_index()[\"PHI_ID\"], GIST_failed[\"clean_text_interpretive_word\"]))\n",
    "GIST_failed_list = ([str(tup[0]) + \" \" + tup[1] for tup in GIST_failed_tups])\n",
    "GIST_failed_list[:10]"
   ],
   "metadata": {
    "collapsed": false
   }
  },
  {
   "cell_type": "code",
   "execution_count": 38,
   "outputs": [
    {
     "data": {
      "text/plain": "10130"
     },
     "execution_count": 38,
     "metadata": {},
     "output_type": "execute_result"
    }
   ],
   "source": [
    "len(GIST_failed_list)"
   ],
   "metadata": {
    "collapsed": false
   }
  },
  {
   "cell_type": "code",
   "execution_count": 108,
   "outputs": [
    {
     "data": {
      "text/plain": "247700"
     },
     "execution_count": 108,
     "metadata": {},
     "output_type": "execute_result"
    }
   ],
   "source": [
    "# save for future usage\n",
    "f = open(\"../data/large_data/GIST_failed_list.txt\", \"w\", encoding=\"utf-8\")\n",
    "f.write(\"\\n\".join(GIST_failed_list))"
   ],
   "metadata": {
    "collapsed": false
   }
  },
  {
   "cell_type": "code",
   "execution_count": 39,
   "outputs": [],
   "source": [
    "lemmata_full_str = open(\"../data/large_data/GIST_failed_list.txt\", \"r\", encoding=\"utf-8\").read()\n",
    "file_dict, file_failed_ids = preprocess_lemmata_txt(lemmata_full_str)\n",
    "lemmata_full_merged.update(file_dict)"
   ],
   "metadata": {
    "collapsed": false
   }
  },
  {
   "cell_type": "code",
   "execution_count": 40,
   "outputs": [
    {
     "data": {
      "text/plain": "10130"
     },
     "execution_count": 40,
     "metadata": {},
     "output_type": "execute_result"
    }
   ],
   "source": [
    "len(lemmata_full_str.split(\"\\n\"))"
   ],
   "metadata": {
    "collapsed": false
   }
  },
  {
   "cell_type": "code",
   "execution_count": 41,
   "outputs": [
    {
     "data": {
      "text/plain": "8507"
     },
     "execution_count": 41,
     "metadata": {},
     "output_type": "execute_result"
    }
   ],
   "source": [
    "len(file_dict)"
   ],
   "metadata": {
    "collapsed": false
   }
  },
  {
   "cell_type": "code",
   "execution_count": 42,
   "outputs": [
    {
     "data": {
      "text/plain": "216240"
     },
     "execution_count": 42,
     "metadata": {},
     "output_type": "execute_result"
    }
   ],
   "source": [
    "len(lemmata_full_merged)"
   ],
   "metadata": {
    "collapsed": false
   }
  },
  {
   "cell_type": "code",
   "execution_count": 43,
   "outputs": [],
   "source": [
    "lemmata_merged = []\n",
    "for k,v in lemmata_full_merged.items():\n",
    "    lemmata_merged.extend(v)"
   ],
   "metadata": {
    "collapsed": false
   }
  },
  {
   "cell_type": "code",
   "execution_count": 44,
   "outputs": [
    {
     "data": {
      "text/plain": "22647"
     },
     "execution_count": 44,
     "metadata": {},
     "output_type": "execute_result"
    }
   ],
   "source": [
    "lemmata_merged.count(\"θεός\")"
   ],
   "metadata": {
    "collapsed": false
   }
  },
  {
   "cell_type": "code",
   "execution_count": 45,
   "outputs": [
    {
     "data": {
      "text/plain": "732"
     },
     "execution_count": 45,
     "metadata": {},
     "output_type": "execute_result"
    }
   ],
   "source": [
    "lemmata_merged.count(\"δικαιοσύνη\")"
   ],
   "metadata": {
    "collapsed": false
   }
  },
  {
   "cell_type": "code",
   "execution_count": 46,
   "outputs": [
    {
     "data": {
      "text/plain": "7695"
     },
     "execution_count": 46,
     "metadata": {},
     "output_type": "execute_result"
    }
   ],
   "source": [
    "lemmata_merged.count(\"Ζεύς\")"
   ],
   "metadata": {
    "collapsed": false
   }
  },
  {
   "cell_type": "code",
   "execution_count": 47,
   "outputs": [
    {
     "data": {
      "text/plain": "[('ὁ', 309253),\n ('καὶ', 224130),\n ('τε', 87962),\n ('τίν', 82148),\n ('τὶς', 78041),\n ('ποῦ', 62771),\n ('ἐν', 50116),\n ('δὲ', 48576),\n ('γῶν', 44365),\n ('αὐτός', 43036),\n ('τι', 40802),\n ('ἐπί', 40184),\n ('εἰς', 29028),\n ('δῆμος', 28470),\n ('ὅς', 27421),\n ('εἰμί', 26486),\n ('οὐ', 25814),\n ('θεός', 22647),\n ('τοῖρ', 22549),\n ('πᾶς', 22348),\n ('ἐκ', 20571),\n ('κατά', 19256),\n ('οὗτος', 17017),\n ('ἔτος', 16608),\n ('ἄλλος', 16175),\n ('βουλή', 15949),\n ('μή', 13487),\n ('ἱερός', 13363),\n ('ἄρχων', 13106),\n ('ὡς', 12509),\n ('πρός', 12433),\n ('κα', 11924),\n ('τῷ', 11663),\n ('ἀπό', 11616),\n ('ἀγαθός', 11380),\n ('ἑαυτοῦ', 11039),\n ('παρά', 10985),\n ('βράχoς', 10979),\n ('ἔχω', 10584),\n ('υἱός', 10462),\n ('μείς', 10298),\n ('γυνή', 10173),\n ('τις', 10144),\n ('χαίρω', 9936),\n ('τῇ', 9852),\n ('χάρις', 9659),\n ('ὅδε', 9154),\n ('ἀνήρ', 9085),\n ('ὑπέρ', 8820),\n ('περί', 8609),\n ('ἀνατίθημι', 8345),\n ('ἱερεύς', 7732),\n ('ἄν', 7728),\n ('εἰ', 7713),\n ('Ἀπολλωνία', 7704),\n ('Ζεύς', 7695),\n ('μέν', 7446),\n ('ὑπό', 7420),\n ('παῖς', 7357),\n ('λωτοφάγoi', 7110),\n ('γίγνομαι', 7060),\n ('δίδωμι', 7041),\n ('στρατιώτης', 6953),\n ('μνήμη', 6897),\n ('δραχμή', 6896),\n ('στέφανος', 6881),\n ('πατήρ', 6850),\n ('ἐγώ', 6717),\n ('σύ', 6692),\n ('τιμή', 6659),\n ('βασιλεύς', 6641),\n ('ἕνεκα', 6637),\n ('δέω', 6481),\n ('ψήφισμα', 6473),\n ('ποιέω', 6454),\n ('πάλιν', 6432),\n ('μετά', 6428),\n ('Μᾶρκος', 6001),\n ('Ἀσκληπιός', 5990),\n ('δ', 5863),\n ('δοκέω', 5796),\n ('ζῶ', 5759),\n ('θυγάτηρ', 5690),\n ('νόμος', 5620),\n ('καλός', 5553),\n ('δύο', 5480),\n ('διά', 5455),\n ('τοι', 5412),\n ('Ἀθῆναι', 5378),\n ('λέγω', 5323),\n ('πολύς', 5287),\n ('κοινός', 5191),\n ('Ἀπόλλων', 4970),\n ('γραμματεύς', 4834),\n ('τύχη', 4815),\n ('τόπος', 4787),\n ('χράω', 4709),\n ('μήτηρ', 4695),\n ('πράσσω', 4659),\n ('στήλη', 4658)]"
     },
     "execution_count": 47,
     "metadata": {},
     "output_type": "execute_result"
    }
   ],
   "source": [
    "nltk.FreqDist(lemmata_merged).most_common()[:100]"
   ],
   "metadata": {
    "collapsed": false
   }
  },
  {
   "cell_type": "code",
   "execution_count": 48,
   "outputs": [
    {
     "data": {
      "text/plain": "217863"
     },
     "execution_count": 48,
     "metadata": {},
     "output_type": "execute_result"
    }
   ],
   "source": [
    "len(GIST)"
   ],
   "metadata": {
    "collapsed": false
   }
  },
  {
   "cell_type": "code",
   "execution_count": 50,
   "outputs": [],
   "source": [
    "def add_agile_lemmata(phiid):\n",
    "    try:\n",
    "        lemmata = lemmata_full_merged[phiid]\n",
    "    except:\n",
    "        lemmata = []\n",
    "    return {\"data\" : lemmata}\n",
    "GIST[\"lemmata\"] = GIST[\"PHI_ID\"].apply(add_agile_lemmata)"
   ],
   "metadata": {
    "collapsed": false
   }
  },
  {
   "cell_type": "code",
   "execution_count": 51,
   "outputs": [
    {
     "data": {
      "text/plain": "   PHI_ID reference                                           metadata  lines  \\\n0       1  IG I³\\n1  Att. — Ath.: Akr. — stoich. 35 — c. 510-500 a....   12.0   \n1       2  IG I³\\n2                     Att. — non-stoich. — c. 500 a.   14.0   \n2       3  IG I³\\n3                     Att. — stoich. 21 — 490-480 a.   13.0   \n3       4  IG I³\\n4                       Att. — stoich. 38 — 485/4 a.   56.0   \n4       5  IG I³\\n5                                   Att. — c. 500 a.    6.0   \n\n                                            text_raw  \\\n0  ἔδοχσεν το͂ι δέμοι· τ̣[ὸς ἐ Σ]αλαμ̣[ῖνι κλερόχ...   \n1  [․․8-9․․․]ν̣ βολ — — — — — — — — — —\\n[․6-7․․]...   \n2  [․]αρ[․․․․]ι ℎερακλειο[․․5․․]\\n[․]αρ̣ο#⁷[․] τι...   \n3  [․․․․․․․․․․․․․․․․․․38․․․․․․․․․․․․․․․․․․]\\n[․․․...   \n4  [ἔδοχσε]ν [⋮ τε͂ι βολε͂ι] ⋮ καὶ [τ]ο͂ι δέμοι ⋮...   \n\n                                           text_iphi  \\\n0  εδοχσεν τοι δεμοι τ[ος ε σ]αλαμ[ινι κλεροχ]ος ...   \n1  [--------]ν βολ ---------- [------] α εκον ---...   \n2  [-]αρ[----]ι ερακλειο[-----] [-]αρο [-] τιθενα...   \n3  [--------------------------------------] [----...   \n4  [εδοχσε]ν [ τει βολει] και [τ]οι δεμοι οτε παρ...   \n\n                             clean_text_conservative  \\\n0  ἔδοχσεν το͂ι δέμοι ταλαμος οἰκε͂ν ἐᾶ Σαλαμῖνι ...   \n1  ν βολ α ℎεκον σιον γνοσθε͂ι δὲ ν ἀτεχνος μὲ π ...   \n2  αρι ℎερακλειο αρο τιθέναι τὸς ἀέτας τριάκοντα ...   \n3  δέ τις αν ἒ φρορὰν μ ντέκοντα δχμὰς τ ας ℎες π...   \n4  ν καὶ ο͂ι δέμοι ℎότε Παραιβάτες λεια θν τὸς ℎι...   \n\n                        clean_text_interpretive_word  \\\n0  ἔδοχσεν το͂ι δέμοι τὸς ἐ Σαλαμῖνι κλερόχος οἰκ...   \n1  ν βολ α ℎεκον σιον γνοσθε͂ι δὲ ν ἀτεχνος μὲ π ...   \n2  αρι ℎερακλειο αρο τιθέναι τὸς ἀθλοθέτας τριάκο...   \n3  ἐὰν δέ τις αν ἒ φρορὰν μὲ πεντέκοντα δραχμὰς τ...   \n4  ἔδοχσεν τε͂ι βολε͂ι καὶ το͂ι δέμοι ℎότε Παραιβ...   \n\n                                             lemmata        raw_date  \\\n0  {'data': ['ἔδοχσεν', 'το͂ι', 'δέμοι', 'τὸς', '...  c. 510-500 a.    \n1  {'data': ['ν', 'βοῦς', 'α', 'θύος', 'γνώστης',...       c. 500 a.   \n2  {'data': ['Ἤρ', 'εἰσπλέω', 'Ἀθῆναι', 'τὶς', 'ἀ...      490-480 a.   \n3  {'data': ['ἐάν', 'τις', 'ἐν', 'ἒ', 'φρουρά', '...        485/4 a.   \n4  {'data': ['δοκέω', 'βουλή', 'καὶ', 'ὁ', 'δῆμος...       c. 500 a.   \n\n   not_before  not_after                           date_type  region_main_id  \\\n0      -511.0     -499.0  {'data': ['range', 'phase', 'ca']}          1701.0   \n1      -505.0     -495.0  {'data': ['exact', 'phase', 'ca']}          1701.0   \n2      -490.0     -480.0                 {'data': ['range']}          1701.0   \n3      -485.0     -484.0                 {'data': ['range']}          1701.0   \n4      -505.0     -495.0  {'data': ['exact', 'phase', 'ca']}          1701.0   \n\n   region_sub_id                 TM_ID        EDH_ID       EDCS_ID  \\\n0         1700.0  {'data': ['786251']}  {'data': []}  {'data': []}   \n1         1700.0  {'data': ['786252']}  {'data': []}  {'data': []}   \n2         1700.0  {'data': ['786253']}  {'data': []}  {'data': []}   \n3         1700.0  {'data': ['786254']}  {'data': []}  {'data': []}   \n4         1700.0  {'data': ['786255']}  {'data': []}  {'data': []}   \n\n         EDR_ID       LUPA_ID       ISic_ID  \\\n0  {'data': []}  {'data': []}  {'data': []}   \n1  {'data': []}  {'data': []}  {'data': []}   \n2  {'data': []}  {'data': []}  {'data': []}   \n3  {'data': []}  {'data': []}  {'data': []}   \n4  {'data': []}  {'data': []}  {'data': []}   \n\n                                    IG_ID atticinscriptions_ID    Attalus_ID  \\\n0                   {'data': ['IG I³ 1']}   {'data': ['1672']}  {'data': []}   \n1                   {'data': ['IG I³ 2']}   {'data': ['1707']}  {'data': []}   \n2                   {'data': ['IG I³ 3']}  {'data': ['ii-1b']}  {'data': []}   \n3  {'data': ['IG I³ 4(A)', 'IG I³ 4(B)']}   {'data': ['1692']}  {'data': []}   \n4                   {'data': ['IG I³ 5']}   {'data': ['1284']}  {'data': []}   \n\n              TMgeo_ID     x_long      y_lat TMgeo_name  \\\n0    {'data': ['364']}  23.723985  37.972747    Athenai   \n1    {'data': ['373']}        NaN        NaN       None   \n2    {'data': ['373']}        NaN        NaN       None   \n3    {'data': ['364']}  23.723985  37.972747    Athenai   \n4  {'data': ['10345']}  23.541498  38.044135    Eleusis   \n\n                    geometry  \n0  POINT (23.72399 37.97275)  \n1                       None  \n2                       None  \n3  POINT (23.72399 37.97275)  \n4  POINT (23.54150 38.04414)  ",
      "text/html": "<div>\n<style scoped>\n    .dataframe tbody tr th:only-of-type {\n        vertical-align: middle;\n    }\n\n    .dataframe tbody tr th {\n        vertical-align: top;\n    }\n\n    .dataframe thead th {\n        text-align: right;\n    }\n</style>\n<table border=\"1\" class=\"dataframe\">\n  <thead>\n    <tr style=\"text-align: right;\">\n      <th></th>\n      <th>PHI_ID</th>\n      <th>reference</th>\n      <th>metadata</th>\n      <th>lines</th>\n      <th>text_raw</th>\n      <th>text_iphi</th>\n      <th>clean_text_conservative</th>\n      <th>clean_text_interpretive_word</th>\n      <th>lemmata</th>\n      <th>raw_date</th>\n      <th>not_before</th>\n      <th>not_after</th>\n      <th>date_type</th>\n      <th>region_main_id</th>\n      <th>region_sub_id</th>\n      <th>TM_ID</th>\n      <th>EDH_ID</th>\n      <th>EDCS_ID</th>\n      <th>EDR_ID</th>\n      <th>LUPA_ID</th>\n      <th>ISic_ID</th>\n      <th>IG_ID</th>\n      <th>atticinscriptions_ID</th>\n      <th>Attalus_ID</th>\n      <th>TMgeo_ID</th>\n      <th>x_long</th>\n      <th>y_lat</th>\n      <th>TMgeo_name</th>\n      <th>geometry</th>\n    </tr>\n  </thead>\n  <tbody>\n    <tr>\n      <th>0</th>\n      <td>1</td>\n      <td>IG I³\\n1</td>\n      <td>Att. — Ath.: Akr. — stoich. 35 — c. 510-500 a....</td>\n      <td>12.0</td>\n      <td>ἔδοχσεν το͂ι δέμοι· τ̣[ὸς ἐ Σ]αλαμ̣[ῖνι κλερόχ...</td>\n      <td>εδοχσεν τοι δεμοι τ[ος ε σ]αλαμ[ινι κλεροχ]ος ...</td>\n      <td>ἔδοχσεν το͂ι δέμοι ταλαμος οἰκε͂ν ἐᾶ Σαλαμῖνι ...</td>\n      <td>ἔδοχσεν το͂ι δέμοι τὸς ἐ Σαλαμῖνι κλερόχος οἰκ...</td>\n      <td>{'data': ['ἔδοχσεν', 'το͂ι', 'δέμοι', 'τὸς', '...</td>\n      <td>c. 510-500 a.</td>\n      <td>-511.0</td>\n      <td>-499.0</td>\n      <td>{'data': ['range', 'phase', 'ca']}</td>\n      <td>1701.0</td>\n      <td>1700.0</td>\n      <td>{'data': ['786251']}</td>\n      <td>{'data': []}</td>\n      <td>{'data': []}</td>\n      <td>{'data': []}</td>\n      <td>{'data': []}</td>\n      <td>{'data': []}</td>\n      <td>{'data': ['IG I³ 1']}</td>\n      <td>{'data': ['1672']}</td>\n      <td>{'data': []}</td>\n      <td>{'data': ['364']}</td>\n      <td>23.723985</td>\n      <td>37.972747</td>\n      <td>Athenai</td>\n      <td>POINT (23.72399 37.97275)</td>\n    </tr>\n    <tr>\n      <th>1</th>\n      <td>2</td>\n      <td>IG I³\\n2</td>\n      <td>Att. — non-stoich. — c. 500 a.</td>\n      <td>14.0</td>\n      <td>[․․8-9․․․]ν̣ βολ — — — — — — — — — —\\n[․6-7․․]...</td>\n      <td>[--------]ν βολ ---------- [------] α εκον ---...</td>\n      <td>ν βολ α ℎεκον σιον γνοσθε͂ι δὲ ν ἀτεχνος μὲ π ...</td>\n      <td>ν βολ α ℎεκον σιον γνοσθε͂ι δὲ ν ἀτεχνος μὲ π ...</td>\n      <td>{'data': ['ν', 'βοῦς', 'α', 'θύος', 'γνώστης',...</td>\n      <td>c. 500 a.</td>\n      <td>-505.0</td>\n      <td>-495.0</td>\n      <td>{'data': ['exact', 'phase', 'ca']}</td>\n      <td>1701.0</td>\n      <td>1700.0</td>\n      <td>{'data': ['786252']}</td>\n      <td>{'data': []}</td>\n      <td>{'data': []}</td>\n      <td>{'data': []}</td>\n      <td>{'data': []}</td>\n      <td>{'data': []}</td>\n      <td>{'data': ['IG I³ 2']}</td>\n      <td>{'data': ['1707']}</td>\n      <td>{'data': []}</td>\n      <td>{'data': ['373']}</td>\n      <td>NaN</td>\n      <td>NaN</td>\n      <td>None</td>\n      <td>None</td>\n    </tr>\n    <tr>\n      <th>2</th>\n      <td>3</td>\n      <td>IG I³\\n3</td>\n      <td>Att. — stoich. 21 — 490-480 a.</td>\n      <td>13.0</td>\n      <td>[․]αρ[․․․․]ι ℎερακλειο[․․5․․]\\n[․]αρ̣ο#⁷[․] τι...</td>\n      <td>[-]αρ[----]ι ερακλειο[-----] [-]αρο [-] τιθενα...</td>\n      <td>αρι ℎερακλειο αρο τιθέναι τὸς ἀέτας τριάκοντα ...</td>\n      <td>αρι ℎερακλειο αρο τιθέναι τὸς ἀθλοθέτας τριάκο...</td>\n      <td>{'data': ['Ἤρ', 'εἰσπλέω', 'Ἀθῆναι', 'τὶς', 'ἀ...</td>\n      <td>490-480 a.</td>\n      <td>-490.0</td>\n      <td>-480.0</td>\n      <td>{'data': ['range']}</td>\n      <td>1701.0</td>\n      <td>1700.0</td>\n      <td>{'data': ['786253']}</td>\n      <td>{'data': []}</td>\n      <td>{'data': []}</td>\n      <td>{'data': []}</td>\n      <td>{'data': []}</td>\n      <td>{'data': []}</td>\n      <td>{'data': ['IG I³ 3']}</td>\n      <td>{'data': ['ii-1b']}</td>\n      <td>{'data': []}</td>\n      <td>{'data': ['373']}</td>\n      <td>NaN</td>\n      <td>NaN</td>\n      <td>None</td>\n      <td>None</td>\n    </tr>\n    <tr>\n      <th>3</th>\n      <td>4</td>\n      <td>IG I³\\n4</td>\n      <td>Att. — stoich. 38 — 485/4 a.</td>\n      <td>56.0</td>\n      <td>[․․․․․․․․․․․․․․․․․․38․․․․․․․․․․․․․․․․․․]\\n[․․․...</td>\n      <td>[--------------------------------------] [----...</td>\n      <td>δέ τις αν ἒ φρορὰν μ ντέκοντα δχμὰς τ ας ℎες π...</td>\n      <td>ἐὰν δέ τις αν ἒ φρορὰν μὲ πεντέκοντα δραχμὰς τ...</td>\n      <td>{'data': ['ἐάν', 'τις', 'ἐν', 'ἒ', 'φρουρά', '...</td>\n      <td>485/4 a.</td>\n      <td>-485.0</td>\n      <td>-484.0</td>\n      <td>{'data': ['range']}</td>\n      <td>1701.0</td>\n      <td>1700.0</td>\n      <td>{'data': ['786254']}</td>\n      <td>{'data': []}</td>\n      <td>{'data': []}</td>\n      <td>{'data': []}</td>\n      <td>{'data': []}</td>\n      <td>{'data': []}</td>\n      <td>{'data': ['IG I³ 4(A)', 'IG I³ 4(B)']}</td>\n      <td>{'data': ['1692']}</td>\n      <td>{'data': []}</td>\n      <td>{'data': ['364']}</td>\n      <td>23.723985</td>\n      <td>37.972747</td>\n      <td>Athenai</td>\n      <td>POINT (23.72399 37.97275)</td>\n    </tr>\n    <tr>\n      <th>4</th>\n      <td>5</td>\n      <td>IG I³\\n5</td>\n      <td>Att. — c. 500 a.</td>\n      <td>6.0</td>\n      <td>[ἔδοχσε]ν [⋮ τε͂ι βολε͂ι] ⋮ καὶ [τ]ο͂ι δέμοι ⋮...</td>\n      <td>[εδοχσε]ν [ τει βολει] και [τ]οι δεμοι οτε παρ...</td>\n      <td>ν καὶ ο͂ι δέμοι ℎότε Παραιβάτες λεια θν τὸς ℎι...</td>\n      <td>ἔδοχσεν τε͂ι βολε͂ι καὶ το͂ι δέμοι ℎότε Παραιβ...</td>\n      <td>{'data': ['δοκέω', 'βουλή', 'καὶ', 'ὁ', 'δῆμος...</td>\n      <td>c. 500 a.</td>\n      <td>-505.0</td>\n      <td>-495.0</td>\n      <td>{'data': ['exact', 'phase', 'ca']}</td>\n      <td>1701.0</td>\n      <td>1700.0</td>\n      <td>{'data': ['786255']}</td>\n      <td>{'data': []}</td>\n      <td>{'data': []}</td>\n      <td>{'data': []}</td>\n      <td>{'data': []}</td>\n      <td>{'data': []}</td>\n      <td>{'data': ['IG I³ 5']}</td>\n      <td>{'data': ['1284']}</td>\n      <td>{'data': []}</td>\n      <td>{'data': ['10345']}</td>\n      <td>23.541498</td>\n      <td>38.044135</td>\n      <td>Eleusis</td>\n      <td>POINT (23.54150 38.04414)</td>\n    </tr>\n  </tbody>\n</table>\n</div>"
     },
     "execution_count": 51,
     "metadata": {},
     "output_type": "execute_result"
    }
   ],
   "source": [
    "GIST.head(5)"
   ],
   "metadata": {
    "collapsed": false
   }
  },
  {
   "cell_type": "code",
   "execution_count": 52,
   "outputs": [],
   "source": [
    "GIST.to_file(\"../data/large_data/GIST_v0-2.geojson\", driver=\"GeoJSON\")"
   ],
   "metadata": {
    "collapsed": false
   }
  },
  {
   "cell_type": "code",
   "execution_count": 53,
   "outputs": [],
   "source": [
    "GIST.to_parquet(\"../data/large_data/GIST_v0-2.parquet\")"
   ],
   "metadata": {
    "collapsed": false
   }
  },
  {
   "cell_type": "code",
   "execution_count": null,
   "outputs": [],
   "source": [],
   "metadata": {
    "collapsed": false
   }
  }
 ],
 "metadata": {
  "kernelspec": {
   "name": "python3",
   "language": "python",
   "display_name": "Python 3 (ipykernel)"
  },
  "language_info": {
   "codemirror_mode": {
    "name": "ipython",
    "version": 2
   },
   "file_extension": ".py",
   "mimetype": "text/x-python",
   "name": "python",
   "nbconvert_exporter": "python",
   "pygments_lexer": "ipython2",
   "version": "2.7.6"
  }
 },
 "nbformat": 4,
 "nbformat_minor": 0
}
