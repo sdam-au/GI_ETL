{
 "cells": [
  {
   "cell_type": "code",
   "execution_count": 11,
   "metadata": {
    "collapsed": true
   },
   "outputs": [],
   "source": [
    "import geopandas as gpd\n",
    "import nltk"
   ]
  },
  {
   "cell_type": "code",
   "execution_count": 6,
   "outputs": [],
   "source": [
    "GIST = gpd.read_parquet(\"../data/large_data/GIST_v0-2.parquet\")"
   ],
   "metadata": {
    "collapsed": false
   }
  },
  {
   "cell_type": "code",
   "execution_count": 8,
   "outputs": [
    {
     "data": {
      "text/plain": "   PHI_ID reference                                           metadata  lines  \\\n0       1  IG I³\\n1  Att. — Ath.: Akr. — stoich. 35 — c. 510-500 a....   12.0   \n1       2  IG I³\\n2                     Att. — non-stoich. — c. 500 a.   14.0   \n2       3  IG I³\\n3                     Att. — stoich. 21 — 490-480 a.   13.0   \n3       4  IG I³\\n4                       Att. — stoich. 38 — 485/4 a.   56.0   \n4       5  IG I³\\n5                                   Att. — c. 500 a.    6.0   \n\n                                            text_raw  \\\n0  ἔδοχσεν το͂ι δέμοι· τ̣[ὸς ἐ Σ]αλαμ̣[ῖνι κλερόχ...   \n1  [․․8-9․․․]ν̣ βολ — — — — — — — — — —\\n[․6-7․․]...   \n2  [․]αρ[․․․․]ι ℎερακλειο[․․5․․]\\n[․]αρ̣ο#⁷[․] τι...   \n3  [․․․․․․․․․․․․․․․․․․38․․․․․․․․․․․․․․․․․․]\\n[․․․...   \n4  [ἔδοχσε]ν [⋮ τε͂ι βολε͂ι] ⋮ καὶ [τ]ο͂ι δέμοι ⋮...   \n\n                                           text_iphi  \\\n0  εδοχσεν τοι δεμοι τ[ος ε σ]αλαμ[ινι κλεροχ]ος ...   \n1  [--------]ν βολ ---------- [------] α εκον ---...   \n2  [-]αρ[----]ι ερακλειο[-----] [-]αρο [-] τιθενα...   \n3  [--------------------------------------] [----...   \n4  [εδοχσε]ν [ τει βολει] και [τ]οι δεμοι οτε παρ...   \n\n                             clean_text_conservative  \\\n0  ἔδοχσεν το͂ι δέμοι ταλαμος οἰκε͂ν ἐᾶ Σαλαμῖνι ...   \n1  ν βολ α ℎεκον σιον γνοσθε͂ι δὲ ν ἀτεχνος μὲ π ...   \n2  αρι ℎερακλειο αρο τιθέναι τὸς ἀέτας τριάκοντα ...   \n3  δέ τις αν ἒ φρορὰν μ ντέκοντα δχμὰς τ ας ℎες π...   \n4  ν καὶ ο͂ι δέμοι ℎότε Παραιβάτες λεια θν τὸς ℎι...   \n\n                        clean_text_interpretive_word  \\\n0  ἔδοχσεν το͂ι δέμοι τὸς ἐ Σαλαμῖνι κλερόχος οἰκ...   \n1  ν βολ α ℎεκον σιον γνοσθε͂ι δὲ ν ἀτεχνος μὲ π ...   \n2  αρι ℎερακλειο αρο τιθέναι τὸς ἀθλοθέτας τριάκο...   \n3  ἐὰν δέ τις αν ἒ φρορὰν μὲ πεντέκοντα δραχμὰς τ...   \n4  ἔδοχσεν τε͂ι βολε͂ι καὶ το͂ι δέμοι ℎότε Παραιβ...   \n\n                                             lemmata        raw_date  ...  \\\n0  {'data': ['ἔδοχσεν', 'το͂ι', 'δέμοι', 'τὸς', '...  c. 510-500 a.   ...   \n1  {'data': ['ν', 'βοῦς', 'α', 'θύος', 'γνώστης',...       c. 500 a.  ...   \n2  {'data': ['Ἤρ', 'εἰσπλέω', 'Ἀθῆναι', 'τὶς', 'ἀ...      490-480 a.  ...   \n3  {'data': ['ἐάν', 'τις', 'ἐν', 'ἒ', 'φρουρά', '...        485/4 a.  ...   \n4  {'data': ['δοκέω', 'βουλή', 'καὶ', 'ὁ', 'δῆμος...       c. 500 a.  ...   \n\n        LUPA_ID       ISic_ID                                   IG_ID  \\\n0  {'data': []}  {'data': []}                   {'data': ['IG I³ 1']}   \n1  {'data': []}  {'data': []}                   {'data': ['IG I³ 2']}   \n2  {'data': []}  {'data': []}                   {'data': ['IG I³ 3']}   \n3  {'data': []}  {'data': []}  {'data': ['IG I³ 4(A)', 'IG I³ 4(B)']}   \n4  {'data': []}  {'data': []}                   {'data': ['IG I³ 5']}   \n\n   atticinscriptions_ID    Attalus_ID             TMgeo_ID     x_long  \\\n0    {'data': ['1672']}  {'data': []}    {'data': ['364']}  23.723985   \n1    {'data': ['1707']}  {'data': []}    {'data': ['373']}        NaN   \n2   {'data': ['ii-1b']}  {'data': []}    {'data': ['373']}        NaN   \n3    {'data': ['1692']}  {'data': []}    {'data': ['364']}  23.723985   \n4    {'data': ['1284']}  {'data': []}  {'data': ['10345']}  23.541498   \n\n       y_lat TMgeo_name                   geometry  \n0  37.972747    Athenai  POINT (23.72399 37.97275)  \n1        NaN       None                       None  \n2        NaN       None                       None  \n3  37.972747    Athenai  POINT (23.72399 37.97275)  \n4  38.044135    Eleusis  POINT (23.54150 38.04414)  \n\n[5 rows x 29 columns]",
      "text/html": "<div>\n<style scoped>\n    .dataframe tbody tr th:only-of-type {\n        vertical-align: middle;\n    }\n\n    .dataframe tbody tr th {\n        vertical-align: top;\n    }\n\n    .dataframe thead th {\n        text-align: right;\n    }\n</style>\n<table border=\"1\" class=\"dataframe\">\n  <thead>\n    <tr style=\"text-align: right;\">\n      <th></th>\n      <th>PHI_ID</th>\n      <th>reference</th>\n      <th>metadata</th>\n      <th>lines</th>\n      <th>text_raw</th>\n      <th>text_iphi</th>\n      <th>clean_text_conservative</th>\n      <th>clean_text_interpretive_word</th>\n      <th>lemmata</th>\n      <th>raw_date</th>\n      <th>...</th>\n      <th>LUPA_ID</th>\n      <th>ISic_ID</th>\n      <th>IG_ID</th>\n      <th>atticinscriptions_ID</th>\n      <th>Attalus_ID</th>\n      <th>TMgeo_ID</th>\n      <th>x_long</th>\n      <th>y_lat</th>\n      <th>TMgeo_name</th>\n      <th>geometry</th>\n    </tr>\n  </thead>\n  <tbody>\n    <tr>\n      <th>0</th>\n      <td>1</td>\n      <td>IG I³\\n1</td>\n      <td>Att. — Ath.: Akr. — stoich. 35 — c. 510-500 a....</td>\n      <td>12.0</td>\n      <td>ἔδοχσεν το͂ι δέμοι· τ̣[ὸς ἐ Σ]αλαμ̣[ῖνι κλερόχ...</td>\n      <td>εδοχσεν τοι δεμοι τ[ος ε σ]αλαμ[ινι κλεροχ]ος ...</td>\n      <td>ἔδοχσεν το͂ι δέμοι ταλαμος οἰκε͂ν ἐᾶ Σαλαμῖνι ...</td>\n      <td>ἔδοχσεν το͂ι δέμοι τὸς ἐ Σαλαμῖνι κλερόχος οἰκ...</td>\n      <td>{'data': ['ἔδοχσεν', 'το͂ι', 'δέμοι', 'τὸς', '...</td>\n      <td>c. 510-500 a.</td>\n      <td>...</td>\n      <td>{'data': []}</td>\n      <td>{'data': []}</td>\n      <td>{'data': ['IG I³ 1']}</td>\n      <td>{'data': ['1672']}</td>\n      <td>{'data': []}</td>\n      <td>{'data': ['364']}</td>\n      <td>23.723985</td>\n      <td>37.972747</td>\n      <td>Athenai</td>\n      <td>POINT (23.72399 37.97275)</td>\n    </tr>\n    <tr>\n      <th>1</th>\n      <td>2</td>\n      <td>IG I³\\n2</td>\n      <td>Att. — non-stoich. — c. 500 a.</td>\n      <td>14.0</td>\n      <td>[․․8-9․․․]ν̣ βολ — — — — — — — — — —\\n[․6-7․․]...</td>\n      <td>[--------]ν βολ ---------- [------] α εκον ---...</td>\n      <td>ν βολ α ℎεκον σιον γνοσθε͂ι δὲ ν ἀτεχνος μὲ π ...</td>\n      <td>ν βολ α ℎεκον σιον γνοσθε͂ι δὲ ν ἀτεχνος μὲ π ...</td>\n      <td>{'data': ['ν', 'βοῦς', 'α', 'θύος', 'γνώστης',...</td>\n      <td>c. 500 a.</td>\n      <td>...</td>\n      <td>{'data': []}</td>\n      <td>{'data': []}</td>\n      <td>{'data': ['IG I³ 2']}</td>\n      <td>{'data': ['1707']}</td>\n      <td>{'data': []}</td>\n      <td>{'data': ['373']}</td>\n      <td>NaN</td>\n      <td>NaN</td>\n      <td>None</td>\n      <td>None</td>\n    </tr>\n    <tr>\n      <th>2</th>\n      <td>3</td>\n      <td>IG I³\\n3</td>\n      <td>Att. — stoich. 21 — 490-480 a.</td>\n      <td>13.0</td>\n      <td>[․]αρ[․․․․]ι ℎερακλειο[․․5․․]\\n[․]αρ̣ο#⁷[․] τι...</td>\n      <td>[-]αρ[----]ι ερακλειο[-----] [-]αρο [-] τιθενα...</td>\n      <td>αρι ℎερακλειο αρο τιθέναι τὸς ἀέτας τριάκοντα ...</td>\n      <td>αρι ℎερακλειο αρο τιθέναι τὸς ἀθλοθέτας τριάκο...</td>\n      <td>{'data': ['Ἤρ', 'εἰσπλέω', 'Ἀθῆναι', 'τὶς', 'ἀ...</td>\n      <td>490-480 a.</td>\n      <td>...</td>\n      <td>{'data': []}</td>\n      <td>{'data': []}</td>\n      <td>{'data': ['IG I³ 3']}</td>\n      <td>{'data': ['ii-1b']}</td>\n      <td>{'data': []}</td>\n      <td>{'data': ['373']}</td>\n      <td>NaN</td>\n      <td>NaN</td>\n      <td>None</td>\n      <td>None</td>\n    </tr>\n    <tr>\n      <th>3</th>\n      <td>4</td>\n      <td>IG I³\\n4</td>\n      <td>Att. — stoich. 38 — 485/4 a.</td>\n      <td>56.0</td>\n      <td>[․․․․․․․․․․․․․․․․․․38․․․․․․․․․․․․․․․․․․]\\n[․․․...</td>\n      <td>[--------------------------------------] [----...</td>\n      <td>δέ τις αν ἒ φρορὰν μ ντέκοντα δχμὰς τ ας ℎες π...</td>\n      <td>ἐὰν δέ τις αν ἒ φρορὰν μὲ πεντέκοντα δραχμὰς τ...</td>\n      <td>{'data': ['ἐάν', 'τις', 'ἐν', 'ἒ', 'φρουρά', '...</td>\n      <td>485/4 a.</td>\n      <td>...</td>\n      <td>{'data': []}</td>\n      <td>{'data': []}</td>\n      <td>{'data': ['IG I³ 4(A)', 'IG I³ 4(B)']}</td>\n      <td>{'data': ['1692']}</td>\n      <td>{'data': []}</td>\n      <td>{'data': ['364']}</td>\n      <td>23.723985</td>\n      <td>37.972747</td>\n      <td>Athenai</td>\n      <td>POINT (23.72399 37.97275)</td>\n    </tr>\n    <tr>\n      <th>4</th>\n      <td>5</td>\n      <td>IG I³\\n5</td>\n      <td>Att. — c. 500 a.</td>\n      <td>6.0</td>\n      <td>[ἔδοχσε]ν [⋮ τε͂ι βολε͂ι] ⋮ καὶ [τ]ο͂ι δέμοι ⋮...</td>\n      <td>[εδοχσε]ν [ τει βολει] και [τ]οι δεμοι οτε παρ...</td>\n      <td>ν καὶ ο͂ι δέμοι ℎότε Παραιβάτες λεια θν τὸς ℎι...</td>\n      <td>ἔδοχσεν τε͂ι βολε͂ι καὶ το͂ι δέμοι ℎότε Παραιβ...</td>\n      <td>{'data': ['δοκέω', 'βουλή', 'καὶ', 'ὁ', 'δῆμος...</td>\n      <td>c. 500 a.</td>\n      <td>...</td>\n      <td>{'data': []}</td>\n      <td>{'data': []}</td>\n      <td>{'data': ['IG I³ 5']}</td>\n      <td>{'data': ['1284']}</td>\n      <td>{'data': []}</td>\n      <td>{'data': ['10345']}</td>\n      <td>23.541498</td>\n      <td>38.044135</td>\n      <td>Eleusis</td>\n      <td>POINT (23.54150 38.04414)</td>\n    </tr>\n  </tbody>\n</table>\n<p>5 rows × 29 columns</p>\n</div>"
     },
     "execution_count": 8,
     "metadata": {},
     "output_type": "execute_result"
    }
   ],
   "source": [
    "GIST.head(5)"
   ],
   "metadata": {
    "collapsed": false
   }
  },
  {
   "cell_type": "code",
   "execution_count": 9,
   "outputs": [],
   "source": [
    "merged_lemmata = [w for inscr in GIST[\"lemmata\"].apply(lambda x: x[\"data\"]).tolist() for w in inscr]"
   ],
   "metadata": {
    "collapsed": false
   }
  },
  {
   "cell_type": "code",
   "execution_count": 12,
   "outputs": [
    {
     "data": {
      "text/plain": "[('ὁ', 309253),\n ('καὶ', 224130),\n ('τε', 87962),\n ('τίν', 82148),\n ('τὶς', 78041),\n ('ποῦ', 62771),\n ('ἐν', 50116),\n ('δὲ', 48576),\n ('γῶν', 44365),\n ('αὐτός', 43036),\n ('τι', 40802),\n ('ἐπί', 40184),\n ('εἰς', 29028),\n ('δῆμος', 28470),\n ('ὅς', 27421),\n ('εἰμί', 26486),\n ('οὐ', 25814),\n ('θεός', 22647),\n ('τοῖρ', 22549),\n ('πᾶς', 22348),\n ('ἐκ', 20571),\n ('κατά', 19256),\n ('οὗτος', 17017),\n ('ἔτος', 16608),\n ('ἄλλος', 16175),\n ('βουλή', 15949),\n ('μή', 13487),\n ('ἱερός', 13363),\n ('ἄρχων', 13106),\n ('ὡς', 12509),\n ('πρός', 12433),\n ('κα', 11924),\n ('τῷ', 11663),\n ('ἀπό', 11616),\n ('ἀγαθός', 11380),\n ('ἑαυτοῦ', 11039),\n ('παρά', 10985),\n ('βράχoς', 10979),\n ('ἔχω', 10584),\n ('υἱός', 10462),\n ('μείς', 10298),\n ('γυνή', 10173),\n ('τις', 10144),\n ('χαίρω', 9936),\n ('τῇ', 9852),\n ('χάρις', 9659),\n ('ὅδε', 9154),\n ('ἀνήρ', 9085),\n ('ὑπέρ', 8820),\n ('περί', 8609),\n ('ἀνατίθημι', 8345),\n ('ἱερεύς', 7732),\n ('ἄν', 7728),\n ('εἰ', 7713),\n ('Ἀπολλωνία', 7704),\n ('Ζεύς', 7695),\n ('μέν', 7446),\n ('ὑπό', 7420),\n ('παῖς', 7357),\n ('λωτοφάγoi', 7110),\n ('γίγνομαι', 7060),\n ('δίδωμι', 7041),\n ('στρατιώτης', 6953),\n ('μνήμη', 6897),\n ('δραχμή', 6896),\n ('στέφανος', 6881),\n ('πατήρ', 6850),\n ('ἐγώ', 6717),\n ('σύ', 6692),\n ('τιμή', 6659),\n ('βασιλεύς', 6641),\n ('ἕνεκα', 6637),\n ('δέω', 6481),\n ('ψήφισμα', 6473),\n ('ποιέω', 6454),\n ('πάλιν', 6432),\n ('μετά', 6428),\n ('Μᾶρκος', 6001),\n ('Ἀσκληπιός', 5990),\n ('δ', 5863),\n ('δοκέω', 5796),\n ('ζῶ', 5759),\n ('θυγάτηρ', 5690),\n ('νόμος', 5620),\n ('καλός', 5553),\n ('δύο', 5480),\n ('διά', 5455),\n ('τοι', 5412),\n ('Ἀθῆναι', 5378),\n ('λέγω', 5323),\n ('πολύς', 5287),\n ('κοινός', 5191),\n ('Ἀπόλλων', 4970),\n ('γραμματεύς', 4834),\n ('τύχη', 4815),\n ('τόπος', 4787),\n ('χράω', 4709),\n ('μήτηρ', 4695),\n ('πράσσω', 4659),\n ('στήλη', 4658)]"
     },
     "execution_count": 12,
     "metadata": {},
     "output_type": "execute_result"
    }
   ],
   "source": [
    "nltk.FreqDist(merged_lemmata).most_common()[:100]"
   ],
   "metadata": {
    "collapsed": false
   }
  },
  {
   "cell_type": "code",
   "execution_count": null,
   "outputs": [],
   "source": [],
   "metadata": {
    "collapsed": false
   }
  }
 ],
 "metadata": {
  "kernelspec": {
   "display_name": "Python 3",
   "language": "python",
   "name": "python3"
  },
  "language_info": {
   "codemirror_mode": {
    "name": "ipython",
    "version": 2
   },
   "file_extension": ".py",
   "mimetype": "text/x-python",
   "name": "python",
   "nbconvert_exporter": "python",
   "pygments_lexer": "ipython2",
   "version": "2.7.6"
  }
 },
 "nbformat": 4,
 "nbformat_minor": 0
}
