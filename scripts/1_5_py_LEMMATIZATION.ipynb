{
 "cells": [
  {
   "cell_type": "code",
   "execution_count": 1,
   "metadata": {},
   "outputs": [],
   "source": [
    "import requests\n",
    "import pandas as pd\n",
    "import numpy as np\n",
    "import sddk\n",
    "import spacy\n",
    "import zipfile\n",
    "import io\n",
    "import re"
   ]
  },
  {
   "cell_type": "code",
   "execution_count": 2,
   "metadata": {
    "scrolled": true
   },
   "outputs": [
    {
     "name": "stdout",
     "output_type": "stream",
     "text": [
      "sciencedata.dk username (format '123456@au.dk'): 648597@au.dk\n",
      "sciencedata.dk password: ········\n",
      "connection with shared folder established with you as its owner\n",
      "endpoint variable has been configured to: https://sciencedata.dk/files/SDAM_root/\n"
     ]
    }
   ],
   "source": [
    "conf = sddk.configure(\"SDAM_root\", \"648597@au.dk\")"
   ]
  },
  {
   "cell_type": "code",
   "execution_count": 3,
   "metadata": {},
   "outputs": [],
   "source": [
    "PHI = sddk.read_file(\"SDAM_data/PHI/PHI_cleaned_dated_2020-12-11.json\", \"df\", conf)"
   ]
  },
  {
   "cell_type": "code",
   "execution_count": 4,
   "metadata": {},
   "outputs": [
    {
     "data": {
      "text/html": [
       "<div>\n",
       "<style scoped>\n",
       "    .dataframe tbody tr th:only-of-type {\n",
       "        vertical-align: middle;\n",
       "    }\n",
       "\n",
       "    .dataframe tbody tr th {\n",
       "        vertical-align: top;\n",
       "    }\n",
       "\n",
       "    .dataframe thead th {\n",
       "        text-align: right;\n",
       "    }\n",
       "</style>\n",
       "<table border=\"1\" class=\"dataframe\">\n",
       "  <thead>\n",
       "    <tr style=\"text-align: right;\">\n",
       "      <th></th>\n",
       "      <th>URL</th>\n",
       "      <th>Book</th>\n",
       "      <th>Text</th>\n",
       "      <th>hdr1</th>\n",
       "      <th>hdr2</th>\n",
       "      <th>tildeinfo</th>\n",
       "      <th>note</th>\n",
       "      <th>lines</th>\n",
       "      <th>metadata</th>\n",
       "      <th>data</th>\n",
       "      <th>...</th>\n",
       "      <th>clean_text_interpretive_sentence</th>\n",
       "      <th>clean_text_pythia</th>\n",
       "      <th>raw_date</th>\n",
       "      <th>dating_dict</th>\n",
       "      <th>not_before</th>\n",
       "      <th>not_after</th>\n",
       "      <th>or</th>\n",
       "      <th>date_tags</th>\n",
       "      <th>certainty</th>\n",
       "      <th>link</th>\n",
       "    </tr>\n",
       "  </thead>\n",
       "  <tbody>\n",
       "    <tr>\n",
       "      <th>0</th>\n",
       "      <td>/text/1?location=1701&amp;patt=&amp;bookid=4&amp;offset=0&amp;...</td>\n",
       "      <td>IG I³</td>\n",
       "      <td>1</td>\n",
       "      <td>Regions\\nAttica (IG I-III)</td>\n",
       "      <td>IG I³\\n1</td>\n",
       "      <td>Att. — Ath.: Akr. — stoich. 35 — c. 510-500 a....</td>\n",
       "      <td>{}</td>\n",
       "      <td>12</td>\n",
       "      <td>1\\n\\n\\n\\n5\\n\\n\\n\\n\\n10\\n\\n</td>\n",
       "      <td>ἔδοχσεν το͂ι δέμοι· τ̣[ὸς ἐ Σ]αλαμ̣[ῖνι κλερόχ...</td>\n",
       "      <td>...</td>\n",
       "      <td>ἔδοχσεν το͂ι δέμοι τὸς ἐ Σαλαμῖνι κλερόχος οἰκ...</td>\n",
       "      <td>ἔδοχσεν τοι δέμοι τὸς ἐ σαλαμῖνι κλερόχος οἰκε...</td>\n",
       "      <td>c. 510-500 a.</td>\n",
       "      <td>{'or': None, 'not_before': -511, 'not_after': ...</td>\n",
       "      <td>-511.0</td>\n",
       "      <td>-499.0</td>\n",
       "      <td>None</td>\n",
       "      <td>[range, phase, ca]</td>\n",
       "      <td>None</td>\n",
       "      <td>None</td>\n",
       "    </tr>\n",
       "    <tr>\n",
       "      <th>1</th>\n",
       "      <td>/text/2?location=1701&amp;patt=&amp;bookid=4&amp;offset=0&amp;...</td>\n",
       "      <td>IG I³</td>\n",
       "      <td>2</td>\n",
       "      <td>Regions\\nAttica (IG I-III)</td>\n",
       "      <td>IG I³\\n2</td>\n",
       "      <td>Att. — non-stoich. — c. 500 a.</td>\n",
       "      <td>{}</td>\n",
       "      <td>14</td>\n",
       "      <td>1\\n\\n\\n\\n5\\n\\n\\n\\n\\n10\\n\\n\\n\\n</td>\n",
       "      <td>[․․8-9․․․]ν̣ βολ — — — — — — — — — —\\n[․6-7․․]...</td>\n",
       "      <td>...</td>\n",
       "      <td>․․ ․․․ν βολ ․ ․․ α ⋮ ℎεκον σιον, γνοσθε͂ι δὲ ν...</td>\n",
       "      <td>ν βολ α ἑκον σιον γνοσθει δὲ ν ἀτεχνος μὲ π ἄλ...</td>\n",
       "      <td>c. 500 a.</td>\n",
       "      <td>{'or': None, 'not_before': -505, 'not_after': ...</td>\n",
       "      <td>-505.0</td>\n",
       "      <td>-495.0</td>\n",
       "      <td>None</td>\n",
       "      <td>[exact, phase, ca]</td>\n",
       "      <td>None</td>\n",
       "      <td>None</td>\n",
       "    </tr>\n",
       "    <tr>\n",
       "      <th>2</th>\n",
       "      <td>/text/3?location=1701&amp;patt=&amp;bookid=4&amp;offset=0&amp;...</td>\n",
       "      <td>IG I³</td>\n",
       "      <td>3</td>\n",
       "      <td>Regions\\nAttica (IG I-III)</td>\n",
       "      <td>IG I³\\n3</td>\n",
       "      <td>Att. — stoich. 21 — 490-480 a.</td>\n",
       "      <td>{}</td>\n",
       "      <td>13</td>\n",
       "      <td>1\\n\\n\\n\\n5\\n\\n\\n\\n\\n10\\n\\n\\n</td>\n",
       "      <td>[․]αρ[․․․․]ι ℎερακλειο[․․5․․]\\n[․]αρ̣ο#⁷[․] τι...</td>\n",
       "      <td>...</td>\n",
       "      <td>αρι ℎερακλειο․․․․ αρο τιθέναι τὸς ἀθλοθέτας τρ...</td>\n",
       "      <td>αρι ἑρακλειο αρο τιθέναι τὸς ἀθλοθέτας τριάκον...</td>\n",
       "      <td>490-480 a.</td>\n",
       "      <td>{'or': None, 'not_before': -490, 'not_after': ...</td>\n",
       "      <td>-490.0</td>\n",
       "      <td>-480.0</td>\n",
       "      <td>None</td>\n",
       "      <td>[range]</td>\n",
       "      <td>None</td>\n",
       "      <td>None</td>\n",
       "    </tr>\n",
       "    <tr>\n",
       "      <th>3</th>\n",
       "      <td>/text/4?location=1701&amp;patt=&amp;bookid=4&amp;offset=0&amp;...</td>\n",
       "      <td>IG I³</td>\n",
       "      <td>4</td>\n",
       "      <td>Regions\\nAttica (IG I-III)</td>\n",
       "      <td>IG I³\\n4</td>\n",
       "      <td>Att. — stoich. 38 — 485/4 a.</td>\n",
       "      <td>{}</td>\n",
       "      <td>56</td>\n",
       "      <td>face A.1\\n\\n\\n\\n5\\n\\n\\n\\n\\n10\\n\\n\\n\\n\\n15\\n\\n\\...</td>\n",
       "      <td>[․․․․․․․․․․․․․․․․․․38․․․․․․․․․․․․․․․․․․]\\n[․․․...</td>\n",
       "      <td>...</td>\n",
       "      <td>․․․․․․․․․․․․․․․․․․․․․․․․․․․․․․․․․․․․ ․․․․․․․․․...</td>\n",
       "      <td>ἐὰν δέ τις αν ἒ φρορὰν μὲ πεντέκοντα δραχμὰς τ...</td>\n",
       "      <td>485/4 a.</td>\n",
       "      <td>{'or': None, 'not_before': -485, 'not_after': ...</td>\n",
       "      <td>-485.0</td>\n",
       "      <td>-484.0</td>\n",
       "      <td>None</td>\n",
       "      <td>[range]</td>\n",
       "      <td>None</td>\n",
       "      <td>None</td>\n",
       "    </tr>\n",
       "    <tr>\n",
       "      <th>4</th>\n",
       "      <td>/text/5?location=1701&amp;patt=&amp;bookid=4&amp;offset=0&amp;...</td>\n",
       "      <td>IG I³</td>\n",
       "      <td>5</td>\n",
       "      <td>Regions\\nAttica (IG I-III)</td>\n",
       "      <td>IG I³\\n5</td>\n",
       "      <td>Att. — c. 500 a.</td>\n",
       "      <td>{}</td>\n",
       "      <td>6</td>\n",
       "      <td>1\\n\\n\\n\\n5\\n</td>\n",
       "      <td>[ἔδοχσε]ν [⋮ τε͂ι βολε͂ι] ⋮ καὶ [τ]ο͂ι δέμοι ⋮...</td>\n",
       "      <td>...</td>\n",
       "      <td>ἔδοχσεν ⋮ τε͂ι βολε͂ι ⋮ καὶ το͂ι δέμοι ⋮ ℎότε ...</td>\n",
       "      <td>ἔδοχσεν τει βολει καὶ τοι δέμοι ὅτε παραιβάτες...</td>\n",
       "      <td>c. 500 a.</td>\n",
       "      <td>{'or': None, 'not_before': -505, 'not_after': ...</td>\n",
       "      <td>-505.0</td>\n",
       "      <td>-495.0</td>\n",
       "      <td>None</td>\n",
       "      <td>[exact, phase, ca]</td>\n",
       "      <td>None</td>\n",
       "      <td>None</td>\n",
       "    </tr>\n",
       "  </tbody>\n",
       "</table>\n",
       "<p>5 rows × 25 columns</p>\n",
       "</div>"
      ],
      "text/plain": [
       "                                                 URL   Book Text  \\\n",
       "0  /text/1?location=1701&patt=&bookid=4&offset=0&...  IG I³    1   \n",
       "1  /text/2?location=1701&patt=&bookid=4&offset=0&...  IG I³    2   \n",
       "2  /text/3?location=1701&patt=&bookid=4&offset=0&...  IG I³    3   \n",
       "3  /text/4?location=1701&patt=&bookid=4&offset=0&...  IG I³    4   \n",
       "4  /text/5?location=1701&patt=&bookid=4&offset=0&...  IG I³    5   \n",
       "\n",
       "                         hdr1      hdr2  \\\n",
       "0  Regions\\nAttica (IG I-III)  IG I³\\n1   \n",
       "1  Regions\\nAttica (IG I-III)  IG I³\\n2   \n",
       "2  Regions\\nAttica (IG I-III)  IG I³\\n3   \n",
       "3  Regions\\nAttica (IG I-III)  IG I³\\n4   \n",
       "4  Regions\\nAttica (IG I-III)  IG I³\\n5   \n",
       "\n",
       "                                           tildeinfo note lines  \\\n",
       "0  Att. — Ath.: Akr. — stoich. 35 — c. 510-500 a....   {}    12   \n",
       "1                     Att. — non-stoich. — c. 500 a.   {}    14   \n",
       "2                     Att. — stoich. 21 — 490-480 a.   {}    13   \n",
       "3                       Att. — stoich. 38 — 485/4 a.   {}    56   \n",
       "4                                   Att. — c. 500 a.   {}     6   \n",
       "\n",
       "                                            metadata  \\\n",
       "0                         1\\n\\n\\n\\n5\\n\\n\\n\\n\\n10\\n\\n   \n",
       "1                     1\\n\\n\\n\\n5\\n\\n\\n\\n\\n10\\n\\n\\n\\n   \n",
       "2                       1\\n\\n\\n\\n5\\n\\n\\n\\n\\n10\\n\\n\\n   \n",
       "3  face A.1\\n\\n\\n\\n5\\n\\n\\n\\n\\n10\\n\\n\\n\\n\\n15\\n\\n\\...   \n",
       "4                                       1\\n\\n\\n\\n5\\n   \n",
       "\n",
       "                                                data  ...  \\\n",
       "0  ἔδοχσεν το͂ι δέμοι· τ̣[ὸς ἐ Σ]αλαμ̣[ῖνι κλερόχ...  ...   \n",
       "1  [․․8-9․․․]ν̣ βολ — — — — — — — — — —\\n[․6-7․․]...  ...   \n",
       "2  [․]αρ[․․․․]ι ℎερακλειο[․․5․․]\\n[․]αρ̣ο#⁷[․] τι...  ...   \n",
       "3  [․․․․․․․․․․․․․․․․․․38․․․․․․․․․․․․․․․․․․]\\n[․․․...  ...   \n",
       "4  [ἔδοχσε]ν [⋮ τε͂ι βολε͂ι] ⋮ καὶ [τ]ο͂ι δέμοι ⋮...  ...   \n",
       "\n",
       "                    clean_text_interpretive_sentence  \\\n",
       "0  ἔδοχσεν το͂ι δέμοι τὸς ἐ Σαλαμῖνι κλερόχος οἰκ...   \n",
       "1  ․․ ․․․ν βολ ․ ․․ α ⋮ ℎεκον σιον, γνοσθε͂ι δὲ ν...   \n",
       "2  αρι ℎερακλειο․․․․ αρο τιθέναι τὸς ἀθλοθέτας τρ...   \n",
       "3  ․․․․․․․․․․․․․․․․․․․․․․․․․․․․․․․․․․․․ ․․․․․․․․․...   \n",
       "4  ἔδοχσεν ⋮ τε͂ι βολε͂ι ⋮ καὶ το͂ι δέμοι ⋮ ℎότε ...   \n",
       "\n",
       "                                   clean_text_pythia        raw_date  \\\n",
       "0  ἔδοχσεν τοι δέμοι τὸς ἐ σαλαμῖνι κλερόχος οἰκε...  c. 510-500 a.    \n",
       "1  ν βολ α ἑκον σιον γνοσθει δὲ ν ἀτεχνος μὲ π ἄλ...       c. 500 a.   \n",
       "2  αρι ἑρακλειο αρο τιθέναι τὸς ἀθλοθέτας τριάκον...      490-480 a.   \n",
       "3  ἐὰν δέ τις αν ἒ φρορὰν μὲ πεντέκοντα δραχμὰς τ...        485/4 a.   \n",
       "4  ἔδοχσεν τει βολει καὶ τοι δέμοι ὅτε παραιβάτες...       c. 500 a.   \n",
       "\n",
       "                                         dating_dict not_before not_after  \\\n",
       "0  {'or': None, 'not_before': -511, 'not_after': ...     -511.0    -499.0   \n",
       "1  {'or': None, 'not_before': -505, 'not_after': ...     -505.0    -495.0   \n",
       "2  {'or': None, 'not_before': -490, 'not_after': ...     -490.0    -480.0   \n",
       "3  {'or': None, 'not_before': -485, 'not_after': ...     -485.0    -484.0   \n",
       "4  {'or': None, 'not_before': -505, 'not_after': ...     -505.0    -495.0   \n",
       "\n",
       "     or           date_tags certainty  link  \n",
       "0  None  [range, phase, ca]      None  None  \n",
       "1  None  [exact, phase, ca]      None  None  \n",
       "2  None             [range]      None  None  \n",
       "3  None             [range]      None  None  \n",
       "4  None  [exact, phase, ca]      None  None  \n",
       "\n",
       "[5 rows x 25 columns]"
      ]
     },
     "execution_count": 4,
     "metadata": {},
     "output_type": "execute_result"
    }
   ],
   "source": [
    "PHI.head(5)"
   ]
  },
  {
   "cell_type": "code",
   "execution_count": 5,
   "metadata": {},
   "outputs": [
    {
     "data": {
      "text/plain": [
       "1144"
      ]
     },
     "execution_count": 5,
     "metadata": {},
     "output_type": "execute_result"
    }
   ],
   "source": [
    "len(PHI[PHI[\"clean_text_pythia\"] ==  PHI[\"clean_text_interpretive_word\"]])"
   ]
  },
  {
   "cell_type": "code",
   "execution_count": 6,
   "metadata": {},
   "outputs": [],
   "source": [
    "def extend_pythia(row):\n",
    "    pythia = row[\"clean_text_pythia\"]\n",
    "    if pythia == \"\":\n",
    "        pythia = row[\"clean_text_interpretive_word\"]\n",
    "    return pythia\n",
    "\n",
    "PHI[\"clean_text_pythia_ext\"] = PHI.apply(lambda row: extend_pythia(row), axis=1)"
   ]
  },
  {
   "cell_type": "code",
   "execution_count": 8,
   "metadata": {},
   "outputs": [],
   "source": [
    "### to do below some matching, we have to take care of appropriate encoding\n",
    "from unicodedata import normalize\n",
    "def normalize_string(string):\n",
    "    try:\n",
    "        return normalize(\"NFC\", string)\n",
    "    except: \n",
    "        return \"\"\n",
    "PHI[\"string_normalized\"] = PHI[\"clean_text_pythia_ext\"].apply(normalize_string)"
   ]
  },
  {
   "cell_type": "code",
   "execution_count": 25,
   "metadata": {},
   "outputs": [],
   "source": [
    "# sentences\n",
    "# add column with sentences\n",
    "v_ud = \"’\"\n",
    "v_agt = \"ʼ\"\n",
    "\n",
    "def get_sentences(string):\n",
    "    splits = re.split(r\"(\\.|\\·|\\:|\\;|\\?|\\!)\" , string)\n",
    "    sentences = []\n",
    "    for n in range(0, len(splits), 2):\n",
    "        try:\n",
    "            sentence = splits[n]+splits[n+1]\n",
    "            sentence = \"\".join([c for c in sentence if re.match(\"[\\w|\\s|\\.|\\,|\\·|\\:|\\;|\\?|\\!]\", c)]) \n",
    "            sentence = re.sub(\"^\\s*\", \"\", sentence)\n",
    "            sentence = re.sub(v_ud, v_agt, sentence)\n",
    "            sentences.append(sentence)\n",
    "        except:\n",
    "            sentence = splits[n]\n",
    "            sentence = re.sub(\"^\\s*\", \"\", sentence)\n",
    "            if len(sentence) > 0:\n",
    "                sentences.append(sentence)\n",
    "            break\n",
    "    return sentences"
   ]
  },
  {
   "cell_type": "code",
   "execution_count": 27,
   "metadata": {},
   "outputs": [],
   "source": [
    "PHI[\"sents\"] = PHI[\"clean_text_pythia_ext\"].apply(get_sentences)"
   ]
  },
  {
   "cell_type": "code",
   "execution_count": 28,
   "metadata": {},
   "outputs": [],
   "source": [
    "PHI[\"sents_N\"] = PHI[\"sents\"].apply(lambda x: len(x))"
   ]
  },
  {
   "cell_type": "code",
   "execution_count": 29,
   "metadata": {},
   "outputs": [
    {
     "data": {
      "text/plain": [
       "22321"
      ]
     },
     "execution_count": 29,
     "metadata": {},
     "output_type": "execute_result"
    }
   ],
   "source": [
    "len(PHI[PHI[\"sents_N\"] > 1])"
   ]
  },
  {
   "cell_type": "code",
   "execution_count": 30,
   "metadata": {},
   "outputs": [
    {
     "data": {
      "text/plain": [
       "11125"
      ]
     },
     "execution_count": 30,
     "metadata": {},
     "output_type": "execute_result"
    }
   ],
   "source": [
    "len(PHI[PHI[\"sents_N\"] > 2])"
   ]
  },
  {
   "cell_type": "code",
   "execution_count": 32,
   "metadata": {},
   "outputs": [
    {
     "data": {
      "text/plain": [
       "[['δραχμεισι τες τὸς ιο μενος δεμο τον πόλεον δοκει ἀνατιθα ἐάν τις τον ον ἒ ὁσαλ ο ἒ ενορ νας ἵνα αντοιν σ τον πόλεον ταυτ χρε μεμβολ εχθεοχε ν δενλο ἐὰν δὲ μέ ἑκαστοσε αιν ιμιας πε ετατεν ιαο λπο σειανλλαμ ολει καὶ μὲ νεοτερ χρέσθο τοι ἱεροι ἐὰν δὲ ι μὲ χρέσθο ἐὰν δὲ ἰ κατὰ ταὐτὰ ταῦτα ἐὰν πλεῖστον κατὰ τὲν δύναμιν πρᾶχσαι δ ἔκπραχσιν ἐὰν δὲ μὲ ἐγδοι τὸν ὀφλόντα μὲ χρέσθο τοι ἱεροι ἐὰν ἀμφισβετοσι μὲ κλεθεναι ἐμ πόλει εν ἐλθοσαν ἀδικ ὕστερον ἑ βολὲ α ι τὸν ἀθεναῖον μὲ ἐκ γες πο τούτον τον πόλεον μεδὲ ἁμος βιᾶσθαι ἐὰν μὲ δίκεν ὀφλόντα ἐπιχορίαν ἒ ἐς πολεμίος λεφθέντα ἕτις δ ἂν τομ πόλεον μὲ ἐθέλει δίκας διδόναι καὶ δέχεσθαι ἀθεναίοισιν ἀπὸ χσυμβολον.',\n",
       "  'ια ντο τος τὰ μὲν ἁκόσια ἁπλει τὰ δὲ ἡ εκόσια διπλει σπονδὰς εἶναι τοῖσι μύστεσιν καὶ τοῖς ἐπόπτεισιν καὶ τοῖς ἀκολούθοισιν καὶ χρέμασιν τον ὀθνείον καὶ ἀθεναῖοισιν ἅπασιν ἄρχεν δὲ τὸν χρόνον τον σπονδον το μεταγειτνιονος μενὸς ἀπὸ διχομενίας καὶ τὸν βοεδρομιονα καὶ το υανοφσιονος μέχρι δεκάτες ἱσταμένο τὰς δὲ σπονδὰς εἶναι ἐν τεισι πόλεσιν ὅσαι χρονται τοι ἱεροι καὶ ἀθεναίοισιν ἐκεῖ ἐν τεισιν αὐτεσι πόλεσιν τοῖσι δὲ ὀλείζοσι μυστερίοισιν τὰς σπονδὰς εἶναι το γαμελιονος μενὸς ἀπὸ διχομενίας καὶ τὸν ἀνθεστεριονα καὶ το ἐλαφεβολιονος μέχρι δεκάτες ἱσταμένο.',\n",
       "  'θαι αθεμι ναι τ στ ὀβολ ο ἱεροποιὸς δὲ λαμβάνεν ἑμιοβέλιον καθ ἑμέραν παρὰ το μύστο ἑκάστο τὲν ἱέρεαν τὲν δέμετρος λαμβάνεν μυστερίοις τοῖς ὀλέζοσιν παρὰ το μύστο ἑκάστο ὀβολόν καὶ τοῖς μείζοσιν μυστερίοις ὀβολὸν παρὰ το μύστο ἑκάστο σύμπαντας ὀβολὸς τοῖν θεοῖν εἶναι πλὲν ἑχσακοσίον καὶ χιλίον δραχμον ἀπὸ δὲ τον ἑχσακοσίον καὶ χιλίον δραχμον τὲν ἱέρεαν τἀναλόματα δοναι καθάπερ τέος ἀνέλοτο εὐμολπίδας καὶ κέρυκας λαμβάνεν παρὰ το μύστο ἑκάστο πέντε ὀβολὸς τον ἀρρένον θελειον δὲ τρεῖς ἀτελε μύστεμ μὲ ἐνεῖναι μυεν μεδένα πλὲν το ἀφ ἑστίας μυομένο κερύκας δὲ μυεν μύστας ἕκαστον καὶ εὐμολπίδας κατὰ ταὐτά ἐ πλείος εὐθύνεσθαι χιλιάσι δραχμεσι μυεν δὲ ὁὶ ἂν ἑβοσι κερύκον καὶ εὐμολπιδον το δὲ ἱερο ἀργυρίο εςιναι ἀθεναίοισι σθαι ἕος ἂν βόλονται καθάπερ το τες ἀθεναίας ἀργυρίο το ἐμ πόλει τὸ δὲ ἀργυρίον τὸς ἱεροποιὸς το ἐμ πόλει ταμιεύεσθαι δχεν ἐν τοι βεν τον ὀρφανον τὸς ὀρφανὸς παῖδας καὶ τὸς μύστας ἑκαστομ τὸς μύστας τὸς ἐλευσῖνι ενος ἐν τει αὐλει ἐντὸς το ἡιερο τὸς δὲ ἐν ἄστει ἐν τοι ἐλευσινίοι.',\n",
       "  'τὸν ἐπὶ τοι βομοι ἱερέα καὶ τὸν φαιδυντὲν τοῖν θεοῖν καὶ τὸν ἱερέα τὸν λανβάνεν ἕκαστον τότον παρὰ το μύστο ἑκάστο ρα ρο υο ν ον ς μυ τρε τον τοο ρν .'],\n",
       " ['ἔδοξεν τῆι βολῆι καὶ τῶι δήμωι ἀκαμαντὶς ἐπρυτάνευε νάσιππος ἐγραμμάτευε νεδης ἐπεστάτει λέων εἶπε τοῖς φασηλίταις τὸ ψήφισμα ἀναγράψαι ὅ τι ἂμ μὲν ἀθήνησι ξυμβόλαιον γένηται πρὸς φασηλιτῶν τινα ἀθήνησι τὰς δίκας γίγνεσθαι παρὰ τῶι πολεμάρχωι καθάπερ χίοις καὶ ἄλλοθι μηδὲ ἁμο τῶν δὲ ἄλλων ἀπὸ ξυμβολῶν κατὰ τὰς ὄσας ξυμβολὰς πρὸς φασηλίτας τὰς δίκας ε ναι τὰς τος ἀφελεν.',\n",
       "  'ἐὰν δέ τις ἄλλη τῶν ἀρχῶν δέξηται δίκην κατὰ φασηλιτῶν τινος εἰ μὲν καταδικάσει ἡ καταδίκη ἄκυρος ἔστω.',\n",
       "  'ἐὰν δέ τις παραβαίνηι τὰ ἐψηφισμένα ὀφελέτω μυρίας δραχμὰς ἱερὰς τῆι ἀθηναίαι τὸ δὲ ψήφισμα τόδε ἀναγραψάτω ὁ γραμματεὺς ὁ τῆς βολῆς ἐστήληι λιθίνηι καὶ καταθέτω ἐμ πόλει τέλεσι τοῖς τῶν φασηλιτῶν.'],\n",
       " ['χσυμμαχία καὶ ὅρκος ἀθεναίον καὶ ἐγεσταίον.',\n",
       "  'ἔδοχσεν τει βολει καὶ τοι δέμοι ὶς ἐπρυτάνευε ἐγραμμάτευε ο ον ε ρχε ἀρχίας εἶπεν περὶ μὲν ἐγεσταίον τὸν ὅρκον δοναι αὐτοῖς οσαδε σιαι τὸς δι ερθνα ἱερὰ ὅσομπερ ε τὸν ὅρκον ὀμνύναι ὅπος δ ἂν ὀμόσοσιν ἅπαντες ὁι στρατεγοὶ ἐπιμελεθέντον παραγγελ τον ὁρκοτον ὅπος ἐγεσταιο τὸ δὲ φσέφισμα τόδε καὶ τὸν ὅρκον ἀναγράφσαι ἐστέλει λιθίνει ἐμ πόλει τὸν γραμματέα τες βολες ὁι δὲ πολεταὶ ἀπομισθοσάντον ὁι δὲ κολακρέται δόντον τὸ ἀργύριον καλέσαι δὲ καὶ ἐπὶ χσένια τὲν πρεσβείαν τον ἐγεσταίον ἐς πρυτανεῖον ἐς τὸν νομιζόμενον χρόνον.',\n",
       "  'εὔφεμος εἶπε τὰ μὲν ἄλλα καθάπερ τει βολει τὸ δὲ λοιπὸν ἐπειδὰν πρέσβες ἐγεσταίον ἀφικνονται ὁ κερυχς προσαγέτο τὸς πρέσβες πρέσβες ἐγεσταίον ὁίδε τὸν ὅρκον ὄμνυον ικίνο ἀπ.'],\n",
       " ['μενεστράτο καὶ ἀθεναίο ἔδοχσεν τει βολει καὶ τοι δέμοι αἰαντὶς ἐπρυτάνευε ἐγραμμάτευε ἐπεστάτε λεος εἶπε κορραγίδεν καὶ θαλυκίδεν καὶ μενέστρατον καὶ ἀθέναιον τὸς θεσπιᾶς ἀναγράφσαι προχσένος καὶ εὐεργέτας ἀθεναίον καὶ τὸς παῖδας τὸς ἐκένον ἐμ πόλει ἐν στέλει λιθίνει.',\n",
       "  'ὁι δὲ πολεταὶ ἀπομισθοσάντον τὲν στέλεν τὸ δὲ ἀργύριον ἀποδόντον ὁι κολακρέται.',\n",
       "  '.'],\n",
       " ['θεόδορος πρασιεὺς ἐγραμμάτευε.',\n",
       "  'χσυνθεκαι ἑρμιονέον καὶ ἀθεναίον.',\n",
       "  'ἔδοχσεν τει βολει καὶ τοι δέμοι ἀντιοχὶς ἐπρυτάνευε θεόδορος ἐγραμμάτευε σι ἐπεστάτε λέον εἶπε χσυνθέσθαι ἃ ὁι ἑρμιονες ρου .']]"
      ]
     },
     "execution_count": 32,
     "metadata": {},
     "output_type": "execute_result"
    }
   ],
   "source": [
    "PHI[PHI[\"sents_N\"] > 2][\"sents\"].tolist()[:5]"
   ]
  },
  {
   "cell_type": "markdown",
   "metadata": {},
   "source": [
    "# Download spacy model from sciencedata, load it etc."
   ]
  },
  {
   "cell_type": "code",
   "execution_count": 55,
   "metadata": {},
   "outputs": [],
   "source": [
    "#\n",
    "#!curl https://sciencedata.dk//shared/b8f6c317c433385ce79a9531a0fbf658?download -o ../data/spacy_grc_model.zip\n",
    "#!unzip  -: ../data/spacy_grc_model.zip"
   ]
  },
  {
   "cell_type": "code",
   "execution_count": 31,
   "metadata": {},
   "outputs": [],
   "source": [
    "nlp = spacy.load(\"../models/spacy_grc_model_7\")\n",
    "path = \"../models/spacy_grc_model_7/grc_lemmatization.py\"\n",
    "exec(open(path).read())\n",
    "nlp.add_pipe(grc_doc_lemmatizer, \"grc_doc_lemmatizer\", after=\"tagger\")"
   ]
  },
  {
   "cell_type": "code",
   "execution_count": null,
   "metadata": {},
   "outputs": [],
   "source": [
    "%%time\n",
    "def try_apply_nlp(sents):\n",
    "    try: return apply_nlp(sents)\n",
    "    except: return [nlp(\"\")]\n",
    "\n",
    "## apply it on the normalized string\n",
    "PHI_docs_series = PHI[\"string_normalized\"].apply(try_apply_nlp)"
   ]
  },
  {
   "cell_type": "code",
   "execution_count": null,
   "metadata": {},
   "outputs": [],
   "source": [
    "def extraxt_lem_sents(sentences):\n",
    "    lemmatized_sentences = []\n",
    "    for sent in sentences:\n",
    "        lemmata = []\n",
    "        for token in doc:\n",
    "            if token.pos_ in [\"NOUN\", \"PROPN\", \"ADJ\", \"VERB\"]:\n",
    "                lemmata.append(token.lemma_)\n",
    "        lemmatized_sentences.append(lemmata)\n",
    "    return lemmatized_sentences"
   ]
  },
  {
   "cell_type": "code",
   "execution_count": null,
   "metadata": {},
   "outputs": [],
   "source": [
    "lem_sents_series = PHI_docs_series.apply(extraxt_lem_sents)"
   ]
  },
  {
   "cell_type": "code",
   "execution_count": null,
   "metadata": {},
   "outputs": [],
   "source": [
    "lem_sents_series"
   ]
  },
  {
   "cell_type": "code",
   "execution_count": null,
   "metadata": {},
   "outputs": [],
   "source": [
    "%%time\n",
    "PHI[\"lem_sents\"] = lem_sents_series\n",
    "#PHI[\"lemmata\"] = PHI[\"string_normalized\"].apply(lambda x: lemmatize_string(x, all_lemmata=False, filter_by_postag=[\"n\", \"a\", \"v\"], involve_unknown=True))"
   ]
  },
  {
   "cell_type": "code",
   "execution_count": null,
   "metadata": {},
   "outputs": [],
   "source": [
    "def flat_lemmata(sentences):\n",
    "    lemmata = [word for sent in sentences for word in sent]\n",
    "    return lemmata\n",
    "PHI[\"lemmata\"] = PHI[\"lem_sents\"].apply(flat_lemmata)"
   ]
  },
  {
   "cell_type": "code",
   "execution_count": null,
   "metadata": {},
   "outputs": [],
   "source": [
    "sddk.write_file(\"SDAM_data/PHI/PHI_dated_lemmatized_20201211.json\", PHI, conf)"
   ]
  },
  {
   "cell_type": "code",
   "execution_count": null,
   "metadata": {},
   "outputs": [],
   "source": [
    "PHI.columns"
   ]
  },
  {
   "cell_type": "markdown",
   "metadata": {},
   "source": [
    "# Reading the data back"
   ]
  },
  {
   "cell_type": "code",
   "execution_count": 119,
   "metadata": {},
   "outputs": [],
   "source": [
    "PHI = sddk.read_file(\"SDAM_data/PHI/PHI_dated_lemmatized_20201211.json\", \"df\", conf)"
   ]
  },
  {
   "cell_type": "code",
   "execution_count": null,
   "metadata": {},
   "outputs": [],
   "source": [
    "def count_words(x):\n",
    "    try:\n",
    "        return len(x.split())\n",
    "    except:\n",
    "        return 0\n",
    "PHI[\"clean_text_interpretive_word\"].apply(count_words).sum() # previously 4469462, then "
   ]
  },
  {
   "cell_type": "code",
   "execution_count": null,
   "metadata": {},
   "outputs": [],
   "source": [
    "PHI[\"lemmata\"].apply(lambda x: len(x)).sum() # previously 2743932, 2846806, 2867815"
   ]
  },
  {
   "cell_type": "code",
   "execution_count": null,
   "metadata": {},
   "outputs": [],
   "source": []
  }
 ],
 "metadata": {
  "kernelspec": {
   "display_name": "Python 3",
   "language": "python",
   "name": "python3"
  },
  "language_info": {
   "codemirror_mode": {
    "name": "ipython",
    "version": 3
   },
   "file_extension": ".py",
   "mimetype": "text/x-python",
   "name": "python",
   "nbconvert_exporter": "python",
   "pygments_lexer": "ipython3",
   "version": "3.6.9"
  }
 },
 "nbformat": 4,
 "nbformat_minor": 4
}
